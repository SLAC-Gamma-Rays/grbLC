{
 "cells": [
  {
   "cell_type": "markdown",
   "id": "a4c3e361",
   "metadata": {},
   "source": [
    "# Rescaling of LCs (Biagio)"
   ]
  },
  {
   "cell_type": "markdown",
   "id": "20572b80",
   "metadata": {},
   "source": [
    "The following warning has been ignored, keep in mind when inserting this code in the grblc package\n",
    "\n",
    "C:\\Users\\biagi\\AppData\\Local\\Temp\\ipykernel_2268\\907779747.py:51: FutureWarning:\n",
    "\n",
    "Using short name for 'orient' is deprecated. Only the options: ('dict', list, 'series', 'split', 'records', 'index') will be used in a future version. Use one of the above to silence this warning."
   ]
  },
  {
   "cell_type": "code",
   "execution_count": 31,
   "id": "9aab6e4a",
   "metadata": {},
   "outputs": [],
   "source": [
    "import plotly.express as px\n",
    "import pandas as pd\n",
    "import numpy as np\n",
    "import os\n",
    "from grblc.fitting import OutlierPlot\n",
    "import plotly.offline\n",
    "import plotly.io as pio\n",
    "import glob\n",
    "\n",
    "#from IPython.core.interactiveshell import InteractiveShell\n",
    "#InteractiveShell.ast_node_interactivity = \"all\"\n",
    "\n",
    "# ignores FutureWarning for pandas\n",
    "import warnings\n",
    "warnings.filterwarnings(\"ignore\")"
   ]
  },
  {
   "cell_type": "markdown",
   "id": "863c152c",
   "metadata": {},
   "source": [
    "# 08-12-2022, Last condition - going beyond the most numerous filter (Solved?)\n",
    "### The duplicates and boundaries conditions are already inserted here"
   ]
  },
  {
   "cell_type": "code",
   "execution_count": 42,
   "id": "f679771c",
   "metadata": {
    "scrolled": false
   },
   "outputs": [
    {
     "data": {
      "application/vnd.plotly.v1+json": {
       "config": {
        "plotlyServerURL": "https://plot.ly"
       },
       "data": [
        {
         "customdata": [
          [
           "astro-ph0309733"
          ],
          [
           "astro-ph0309733"
          ],
          [
           "astro-ph0309733"
          ],
          [
           "astro-ph0309733"
          ],
          [
           "astro-ph0309733"
          ],
          [
           "astro-ph0309733"
          ]
         ],
         "error_y": {
          "array": [
           0.07,
           0.07,
           0.1,
           0.1,
           0.08,
           0.1
          ]
         },
         "hovertemplate": "color=Ks (6)<br>x=%{x}<br>y=%{y}<br>Source=%{customdata[0]}<extra></extra>",
         "legendgroup": "Ks (6)",
         "marker": {
          "color": "#636efa",
          "symbol": "circle"
         },
         "mode": "markers",
         "name": "Ks (6)",
         "orientation": "v",
         "showlegend": true,
         "type": "scatter",
         "x": [
          4.490841630144419,
          4.713094709566026,
          5.02740220927282,
          5.139163800025124,
          5.3344897398043205,
          5.486044756133814
         ],
         "xaxis": "x",
         "y": [
          -15.19,
          -16.09,
          -17.71,
          -18.29,
          -19.3,
          -20.02
         ],
         "yaxis": "y"
        },
        {
         "customdata": [
          [
           "astro-ph0309733"
          ],
          [
           "astro-ph0309733"
          ],
          [
           "astro-ph0309733"
          ],
          [
           "astro-ph0309733"
          ],
          [
           "astro-ph0309733"
          ],
          [
           "astro-ph0309733"
          ],
          [
           "astro-ph0309733"
          ],
          [
           "astro-ph0309733"
          ]
         ],
         "error_y": {
          "array": [
           0.02,
           0.01,
           0.05,
           0.08,
           0.4,
           0.08,
           0.08,
           0.08
          ]
         },
         "hovertemplate": "color=Rc (8)<br>x=%{x}<br>y=%{y}<br>Source=%{customdata[0]}<extra></extra>",
         "legendgroup": "Rc (8)",
         "marker": {
          "color": "#EF553B",
          "symbol": "circle"
         },
         "mode": "markers",
         "name": "Rc (8)",
         "orientation": "v",
         "showlegend": true,
         "type": "scatter",
         "x": [
          4.533872424972614,
          4.679772106631908,
          5.0869926561843535,
          5.135189599080476,
          5.48822332121393,
          6.067947454024254,
          6.203910384998904,
          6.226877404162691
         ],
         "xaxis": "x",
         "y": [
          -18.86,
          -19.51,
          -21.23,
          -21.75,
          -23.6,
          -23.2,
          -23.65,
          -23.45
         ],
         "yaxis": "y"
        },
        {
         "customdata": [
          [
           "1150"
          ],
          [
           "astro-ph0204234"
          ],
          [
           "astro-ph0204234"
          ],
          [
           "astro-ph0204234"
          ],
          [
           "astro-ph0204234"
          ],
          [
           "1157"
          ],
          [
           "astro-ph0204234"
          ],
          [
           "astro-ph0204234"
          ],
          [
           "astro-ph0204234"
          ],
          [
           "astro-ph0204234"
          ],
          [
           "astro-ph0204234"
          ],
          [
           "astro-ph0204234"
          ],
          [
           "astro-ph0204234"
          ],
          [
           "astro-ph0204234"
          ],
          [
           "astro-ph0204234"
          ],
          [
           "astro-ph0204234"
          ],
          [
           "astro-ph0204234"
          ],
          [
           "astro-ph0204234"
          ],
          [
           "astro-ph0204234"
          ]
         ],
         "error_y": {
          "array": [
           0.1,
           0.03,
           0.03,
           0.03,
           0.04,
           0.05,
           0.03,
           0.03,
           0.03,
           0.03,
           0.05,
           0.04,
           0.06,
           0.12,
           0.15,
           0.12,
           0.15,
           0.15,
           0.13
          ]
         },
         "hovertemplate": "color=R (19)<br>x=%{x}<br>y=%{y}<br>Source=%{customdata[0]}<extra></extra>",
         "legendgroup": "R (19)",
         "marker": {
          "color": "#00cc96",
          "symbol": "circle"
         },
         "mode": "markers",
         "name": "R (19)",
         "orientation": "v",
         "showlegend": true,
         "type": "scatter",
         "x": [
          4.56913972547246,
          4.572298978012545,
          4.572298978012545,
          4.5787803613815665,
          4.625644939713391,
          4.630142998345801,
          4.632870131212226,
          4.655098462506329,
          4.672032801294065,
          4.693605962597826,
          5.121857544061082,
          5.122650414170673,
          5.1233288669263475,
          5.3477966554962775,
          6.033423755486949,
          6.068185861746161,
          6.1003705451175625,
          6.127104798364807,
          6.173186268412274
         ],
         "xaxis": "x",
         "y": [
          -18.3,
          -19.06,
          -19.06,
          -19.09,
          -19.26,
          -19.25,
          -19.31,
          -19.45,
          -19.5,
          -19.59,
          -21.41,
          -21.43,
          -21.4,
          -22.24,
          -23.07,
          -23.11,
          -23.23,
          -23.19,
          -23.1
         ],
         "yaxis": "y"
        },
        {
         "customdata": [
          [
           "astro-ph0204234"
          ],
          [
           "1157"
          ],
          [
           "astro-ph0204234"
          ],
          [
           "astro-ph0204234"
          ],
          [
           "astro-ph0204234"
          ],
          [
           "astro-ph0204234"
          ],
          [
           "astro-ph0204234"
          ]
         ],
         "error_y": {
          "array": [
           0.03,
           0.05,
           0.03,
           0.03,
           0.03,
           0.1,
           0.03
          ]
         },
         "hovertemplate": "color=I (7)<br>x=%{x}<br>y=%{y}<br>Source=%{customdata[0]}<extra></extra>",
         "legendgroup": "I (7)",
         "marker": {
          "color": "#ab63fa",
          "symbol": "circle"
         },
         "mode": "markers",
         "name": "I (7)",
         "orientation": "v",
         "showlegend": true,
         "type": "scatter",
         "x": [
          4.607964296691388,
          4.6383694350524,
          4.639374913051823,
          4.665435388851753,
          4.686867831241601,
          5.100092507667667,
          5.130305972758691
         ],
         "xaxis": "x",
         "y": [
          -18.55,
          -18.66,
          -18.61,
          -18.81,
          -18.86,
          -20.6,
          -20.86
         ],
         "yaxis": "y"
        },
        {
         "customdata": [
          [
           "astro-ph0204234"
          ],
          [
           "1157"
          ],
          [
           "astro-ph0204234"
          ],
          [
           "astro-ph0204234"
          ],
          [
           "astro-ph0204234"
          ],
          [
           "astro-ph0309733"
          ],
          [
           "astro-ph0204234"
          ],
          [
           "astro-ph0309733"
          ],
          [
           "astro-ph0309733"
          ],
          [
           "astro-ph0309733"
          ],
          [
           "astro-ph0309733"
          ],
          [
           "astro-ph0309733"
          ]
         ],
         "error_y": {
          "array": [
           0.03,
           0.05,
           0.04,
           0.05,
           0.04,
           0.15,
           0.1,
           0.05,
           0.02,
           0.02,
           0.02,
           0.02
          ]
         },
         "hovertemplate": "color=V (12)<br>x=%{x}<br>y=%{y}<br>Source=%{customdata[0]}<extra></extra>",
         "legendgroup": "V (12)",
         "marker": {
          "color": "#FFA15A",
          "symbol": "circle"
         },
         "mode": "markers",
         "name": "V (12)",
         "orientation": "v",
         "showlegend": true,
         "type": "scatter",
         "x": [
          4.618749099381457,
          4.651258625418847,
          4.652099294372089,
          4.660379706922397,
          4.679317400948059,
          5.092923712310533,
          5.10832792353004,
          5.345095026044632,
          6.067211467285859,
          6.154852273854913,
          6.180581129339688,
          6.228165950973257
         ],
         "xaxis": "x",
         "y": [
          -19.87,
          -20,
          -20,
          -20.05,
          -20.16,
          -21.95,
          -21.19,
          -23.37,
          -24.3,
          -24.09,
          -23.94,
          -24.18
         ],
         "yaxis": "y"
        },
        {
         "customdata": [
          [
           "1157"
          ],
          [
           "astro-ph0204234"
          ],
          [
           "astro-ph0204234"
          ],
          [
           "astro-ph0309733"
          ],
          [
           "astro-ph0204234"
          ],
          [
           "astro-ph0309733"
          ]
         ],
         "error_y": {
          "array": [
           0.05,
           0.08,
           0.06,
           0.5,
           0.06,
           0.3
          ]
         },
         "hovertemplate": "color=B (6)<br>x=%{x}<br>y=%{y}<br>Source=%{customdata[0]}<extra></extra>",
         "legendgroup": "B (6)",
         "marker": {
          "color": "#19d3f3",
          "symbol": "circle"
         },
         "mode": "markers",
         "name": "B (6)",
         "orientation": "v",
         "showlegend": true,
         "type": "scatter",
         "x": [
          4.620437977338462,
          4.635309994269324,
          4.645868518313289,
          5.090603305018464,
          5.124175445131852,
          5.343562194617961
         ],
         "xaxis": "x",
         "y": [
          -20.86,
          -20.68,
          -20.71,
          -22.4,
          -22.86,
          -23.7
         ],
         "yaxis": "y"
        },
        {
         "customdata": [
          [
           "astro-ph0203467"
          ],
          [
           "astro-ph0203467"
          ],
          [
           "astro-ph0203467"
          ],
          [
           "astro-ph0203467"
          ],
          [
           "astro-ph0203467"
          ],
          [
           "astro-ph0203467"
          ],
          [
           "astro-ph0203467"
          ],
          [
           "astro-ph0203467"
          ],
          [
           "astro-ph0203467"
          ],
          [
           "astro-ph0203467"
          ],
          [
           "astro-ph0203467"
          ],
          [
           "astro-ph0203467"
          ],
          [
           "astro-ph0203467"
          ],
          [
           "astro-ph0203467"
          ],
          [
           "astro-ph0203467"
          ],
          [
           "astro-ph0203467"
          ],
          [
           "astro-ph0203467"
          ],
          [
           "astro-ph0203467"
          ],
          [
           "astro-ph0203467"
          ],
          [
           "astro-ph0203467"
          ],
          [
           "astro-ph0203467"
          ],
          [
           "astro-ph0203467"
          ],
          [
           "astro-ph0203467"
          ],
          [
           "astro-ph0203467"
          ],
          [
           "astro-ph0203467"
          ],
          [
           "astro-ph0203467"
          ],
          [
           "astro-ph0203467"
          ],
          [
           "astro-ph0203467"
          ],
          [
           "astro-ph0203467"
          ],
          [
           "astro-ph0203467"
          ],
          [
           "astro-ph0203467"
          ],
          [
           "astro-ph0203467"
          ],
          [
           "astro-ph0203467"
          ],
          [
           "astro-ph0203467"
          ]
         ],
         "error_y": {
          "array": [
           0.045,
           0.04,
           0.037,
           0.04,
           0.04,
           0.041,
           0.041,
           0.039,
           0.039,
           0.037,
           0.039,
           0.04,
           0.039,
           0.041,
           0.063,
           0.038,
           0.036,
           0.042,
           0.043,
           0.043,
           0.041,
           0.041,
           0.035,
           0.058,
           0.042,
           0.038,
           0.036,
           0.052,
           0.039,
           0.083,
           0.051,
           0.079,
           0.051,
           0.234
          ]
         },
         "hovertemplate": "color=K (34)<br>x=%{x}<br>y=%{y}<br>Source=%{customdata[0]}<extra></extra>",
         "legendgroup": "K (34)",
         "marker": {
          "color": "#FF6692",
          "symbol": "circle"
         },
         "mode": "markers",
         "name": "K (34)",
         "orientation": "v",
         "showlegend": true,
         "type": "scatter",
         "x": [
          4.66480257841328,
          4.6660996583945495,
          4.6674735743835045,
          4.668762713341726,
          4.6701282435680955,
          4.671649360605297,
          4.672926181875293,
          4.674278703933581,
          4.674278703933581,
          4.67562702691011,
          4.676892224212622,
          4.678468555230355,
          4.679725513473736,
          4.68105705746636,
          4.682306556945548,
          4.686651710569362,
          4.68788523971477,
          4.68919203684788,
          4.690418381898825,
          4.691717590320598,
          4.778010863719385,
          4.789310801710646,
          4.799669991939189,
          4.852293353301949,
          4.857690207727534,
          4.869403337777324,
          4.874893350060396,
          4.8801665145521484,
          4.885278696239942,
          4.890427994285608,
          4.911632930298759,
          4.916753524187806,
          5.127047130600286,
          5.777016294812724
         ],
         "xaxis": "x",
         "y": [
          -15.959,
          -15.987,
          -15.908,
          -15.994,
          -15.958,
          -16.002,
          -16.006,
          -16.003,
          -16.003,
          -15.981,
          -16.053,
          -16.039,
          -15.997,
          -16.12,
          -15.996,
          -16.027,
          -16.069,
          -16.1,
          -16.015,
          -16.098,
          -16.421,
          -16.537,
          -16.495,
          -16.605,
          -16.788,
          -16.782,
          -16.862,
          -17.019,
          -16.852,
          -17.035,
          -17.005,
          -17.087,
          -17.924,
          -19.346
         ],
         "yaxis": "y"
        },
        {
         "customdata": [
          [
           "astro-ph0204234"
          ],
          [
           "1157"
          ],
          [
           "astro-ph0204234"
          ]
         ],
         "error_y": {
          "array": [
           0.15,
           0.2,
           0.2
          ]
         },
         "hovertemplate": "color=U (3)<br>x=%{x}<br>y=%{y}<br>Source=%{customdata[0]}<extra></extra>",
         "legendgroup": "U (3)",
         "marker": {
          "color": "#B6E880",
          "symbol": "circle"
         },
         "mode": "markers",
         "name": "U (3)",
         "orientation": "v",
         "showlegend": true,
         "type": "scatter",
         "x": [
          4.686713470308075,
          4.689726078705607,
          5.1268734587442175
         ],
         "xaxis": "x",
         "y": [
          -20.46,
          -20.7,
          -22.4
         ],
         "yaxis": "y"
        },
        {
         "customdata": [
          [
           "astro-ph0309733"
          ],
          [
           "astro-ph0203467"
          ],
          [
           "astro-ph0203467"
          ],
          [
           "astro-ph0203467"
          ],
          [
           "astro-ph0203467"
          ],
          [
           "astro-ph0203467"
          ],
          [
           "astro-ph0203467"
          ],
          [
           "astro-ph0203467"
          ],
          [
           "astro-ph0203467"
          ],
          [
           "astro-ph0203467"
          ],
          [
           "astro-ph0203467"
          ],
          [
           "astro-ph0203467"
          ],
          [
           "astro-ph0309733"
          ],
          [
           "astro-ph0203467"
          ],
          [
           "astro-ph0309733"
          ],
          [
           "astro-ph0203467"
          ],
          [
           "astro-ph0204234"
          ],
          [
           "astro-ph0204234"
          ],
          [
           "astro-ph0204234"
          ]
         ],
         "error_y": {
          "array": [
           0.04,
           0.045,
           0.037,
           0.044,
           0.04,
           0.037,
           0.039,
           0.035,
           0.036,
           0.041,
           0.038,
           0.1,
           0.1,
           0.068,
           0.1,
           0.282,
           0.15,
           0.15,
           0.15
          ]
         },
         "hovertemplate": "color=J (19)<br>x=%{x}<br>y=%{y}<br>Source=%{customdata[0]}<extra></extra>",
         "legendgroup": "J (19)",
         "marker": {
          "color": "#FF97FF",
          "symbol": "circle"
         },
         "mode": "markers",
         "name": "J (19)",
         "orientation": "v",
         "showlegend": true,
         "type": "scatter",
         "x": [
          4.689778424774323,
          4.694759306647831,
          4.695743295124044,
          4.696800487666306,
          4.697779867453181,
          4.698832120009525,
          4.6998069340770945,
          4.700854292599361,
          4.701824583319486,
          4.702792711070011,
          4.703832902278741,
          4.907241737808755,
          5.031945041818209,
          5.123023694339062,
          5.136127366097711,
          5.763696849430603,
          5.813308718679594,
          5.866953337245594,
          5.915150690863368
         ],
         "xaxis": "x",
         "y": [
          -17.47,
          -17.852,
          -17.73,
          -17.763,
          -17.801,
          -17.821,
          -17.799,
          -17.785,
          -17.77,
          -17.795,
          -17.739,
          -18.352,
          -19.38,
          -19.463,
          -19.73,
          -21.291,
          -22.31,
          -22.09,
          -22.11
         ],
         "yaxis": "y"
        },
        {
         "customdata": [
          [
           "astro-ph0309733"
          ],
          [
           "astro-ph0309733"
          ],
          [
           "astro-ph0309733"
          ],
          [
           "astro-ph0309733"
          ]
         ],
         "error_y": {
          "array": [
           0.05,
           0.25,
           0.05,
           0.1
          ]
         },
         "hovertemplate": "color=H (4)<br>x=%{x}<br>y=%{y}<br>Source=%{customdata[0]}<extra></extra>",
         "legendgroup": "H (4)",
         "marker": {
          "color": "#FECB52",
          "symbol": "circle"
         },
         "mode": "markers",
         "name": "H (4)",
         "orientation": "v",
         "showlegend": true,
         "type": "scatter",
         "x": [
          4.703316317085718,
          4.845890834021167,
          5.345036163372836,
          5.48374116256508
         ],
         "xaxis": "x",
         "y": [
          -16.72,
          -17.3,
          -19.81,
          -20.73
         ],
         "yaxis": "y"
        },
        {
         "customdata": [
          [
           "astro-ph0309733"
          ],
          [
           "astro-ph0309733"
          ],
          [
           "astro-ph0309733"
          ],
          [
           "astro-ph0309733"
          ],
          [
           "astro-ph0309733"
          ],
          [
           "astro-ph0309733"
          ]
         ],
         "error_y": {
          "array": [
           0.1,
           0.3,
           0.15,
           0.1,
           0.15,
           0.3
          ]
         },
         "hovertemplate": "color=Js (6)<br>x=%{x}<br>y=%{y}<br>Source=%{customdata[0]}<extra></extra>",
         "legendgroup": "Js (6)",
         "marker": {
          "color": "#636efa",
          "symbol": "circle"
         },
         "mode": "markers",
         "name": "Js (6)",
         "orientation": "v",
         "showlegend": true,
         "type": "scatter",
         "x": [
          5.340598569289872,
          5.481898040517844,
          6.068582076746497,
          6.129373366932766,
          6.270482486002043,
          6.344356506784414
         ],
         "xaxis": "x",
         "y": [
          -20.93,
          -21.64,
          -22.41,
          -22.69,
          -22.89,
          -22.79
         ],
         "yaxis": "y"
        },
        {
         "customdata": [
          [
           "astro-ph0204234"
          ]
         ],
         "error_y": {
          "array": [
           0.13
          ]
         },
         "hovertemplate": "color=F450W (1)<br>x=%{x}<br>y=%{y}<br>Source=%{customdata[0]}<extra></extra>",
         "legendgroup": "F450W (1)",
         "marker": {
          "color": "#EF553B",
          "symbol": "circle"
         },
         "mode": "markers",
         "name": "F450W (1)",
         "orientation": "v",
         "showlegend": true,
         "type": "scatter",
         "x": [
          6.05307844348342
         ],
         "xaxis": "x",
         "y": [
          -24.67
         ],
         "yaxis": "y"
        },
        {
         "customdata": [
          [
           "astro-ph0204234"
          ],
          [
           "astro-ph0204234"
          ],
          [
           "astro-ph0204234"
          ]
         ],
         "error_y": {
          "array": [
           0.1,
           0.11,
           0.12
          ]
         },
         "hovertemplate": "color=F555W (3)<br>x=%{x}<br>y=%{y}<br>Source=%{customdata[0]}<extra></extra>",
         "legendgroup": "F555W (3)",
         "marker": {
          "color": "#00cc96",
          "symbol": "circle"
         },
         "mode": "markers",
         "name": "F555W (3)",
         "orientation": "v",
         "showlegend": true,
         "type": "scatter",
         "x": [
          6.056904851336473,
          6.298853076409706,
          6.371067862271736
         ],
         "xaxis": "x",
         "y": [
          -23.87,
          -24.51,
          -25.02
         ],
         "yaxis": "y"
        },
        {
         "customdata": [
          [
           "astro-ph0204234"
          ],
          [
           "astro-ph0204234"
          ],
          [
           "astro-ph0204234"
          ]
         ],
         "error_y": {
          "array": [
           0.07,
           0.08,
           0.1
          ]
         },
         "hovertemplate": "color=F702W (3)<br>x=%{x}<br>y=%{y}<br>Source=%{customdata[0]}<extra></extra>",
         "legendgroup": "F702W (3)",
         "marker": {
          "color": "#ab63fa",
          "symbol": "circle"
         },
         "mode": "markers",
         "name": "F702W (3)",
         "orientation": "v",
         "showlegend": true,
         "type": "scatter",
         "x": [
          6.060697840353612,
          6.301029995663981,
          6.372912002970106
         ],
         "xaxis": "x",
         "y": [
          -23.14,
          -23.37,
          -23.66
         ],
         "yaxis": "y"
        },
        {
         "customdata": [
          [
           "astro-ph0309733"
          ]
         ],
         "error_y": {
          "array": [
           0.25
          ]
         },
         "hovertemplate": "color=Ic (1)<br>x=%{x}<br>y=%{y}<br>Source=%{customdata[0]}<extra></extra>",
         "legendgroup": "Ic (1)",
         "marker": {
          "color": "#FFA15A",
          "symbol": "circle"
         },
         "mode": "markers",
         "name": "Ic (1)",
         "orientation": "v",
         "showlegend": true,
         "type": "scatter",
         "x": [
          6.0686821956162795
         ],
         "xaxis": "x",
         "y": [
          -22.35
         ],
         "yaxis": "y"
        },
        {
         "customdata": [
          [
           "astro-ph0204234"
          ],
          [
           "astro-ph0204234"
          ],
          [
           "astro-ph0204234"
          ]
         ],
         "error_y": {
          "array": [
           0.08,
           0.1,
           0.1
          ]
         },
         "hovertemplate": "color=F814W (3)<br>x=%{x}<br>y=%{y}<br>Source=%{customdata[0]}<extra></extra>",
         "legendgroup": "F814W (3)",
         "marker": {
          "color": "#19d3f3",
          "symbol": "circle"
         },
         "mode": "markers",
         "name": "F814W (3)",
         "orientation": "v",
         "showlegend": true,
         "type": "scatter",
         "x": [
          6.08278537031645,
          6.332438459915605,
          6.385606273598312
         ],
         "xaxis": "x",
         "y": [
          -22.78,
          -23.12,
          -23.21
         ],
         "yaxis": "y"
        },
        {
         "customdata": [
          [
           "astro-ph0204234"
          ],
          [
           "astro-ph0204234"
          ],
          [
           "astro-ph0204234"
          ]
         ],
         "error_y": {
          "array": [
           0.13,
           0.13,
           0.13
          ]
         },
         "hovertemplate": "color=F850LP (3)<br>x=%{x}<br>y=%{y}<br>Source=%{customdata[0]}<extra></extra>",
         "legendgroup": "F850LP (3)",
         "marker": {
          "color": "#FF6692",
          "symbol": "circle"
         },
         "mode": "markers",
         "name": "F850LP (3)",
         "orientation": "v",
         "showlegend": true,
         "type": "scatter",
         "x": [
          6.086359830674748,
          6.334453751150931,
          6.385606273598312
         ],
         "xaxis": "x",
         "y": [
          -22.78,
          -22.73,
          -22.78
         ],
         "yaxis": "y"
        }
       ],
       "layout": {
        "legend": {
         "title": {
          "text": "color"
         },
         "tracegroupgap": 0
        },
        "template": {
         "data": {
          "bar": [
           {
            "error_x": {
             "color": "#2a3f5f"
            },
            "error_y": {
             "color": "#2a3f5f"
            },
            "marker": {
             "line": {
              "color": "#E5ECF6",
              "width": 0.5
             },
             "pattern": {
              "fillmode": "overlay",
              "size": 10,
              "solidity": 0.2
             }
            },
            "type": "bar"
           }
          ],
          "barpolar": [
           {
            "marker": {
             "line": {
              "color": "#E5ECF6",
              "width": 0.5
             },
             "pattern": {
              "fillmode": "overlay",
              "size": 10,
              "solidity": 0.2
             }
            },
            "type": "barpolar"
           }
          ],
          "carpet": [
           {
            "aaxis": {
             "endlinecolor": "#2a3f5f",
             "gridcolor": "white",
             "linecolor": "white",
             "minorgridcolor": "white",
             "startlinecolor": "#2a3f5f"
            },
            "baxis": {
             "endlinecolor": "#2a3f5f",
             "gridcolor": "white",
             "linecolor": "white",
             "minorgridcolor": "white",
             "startlinecolor": "#2a3f5f"
            },
            "type": "carpet"
           }
          ],
          "choropleth": [
           {
            "colorbar": {
             "outlinewidth": 0,
             "ticks": ""
            },
            "type": "choropleth"
           }
          ],
          "contour": [
           {
            "colorbar": {
             "outlinewidth": 0,
             "ticks": ""
            },
            "colorscale": [
             [
              0,
              "#0d0887"
             ],
             [
              0.1111111111111111,
              "#46039f"
             ],
             [
              0.2222222222222222,
              "#7201a8"
             ],
             [
              0.3333333333333333,
              "#9c179e"
             ],
             [
              0.4444444444444444,
              "#bd3786"
             ],
             [
              0.5555555555555556,
              "#d8576b"
             ],
             [
              0.6666666666666666,
              "#ed7953"
             ],
             [
              0.7777777777777778,
              "#fb9f3a"
             ],
             [
              0.8888888888888888,
              "#fdca26"
             ],
             [
              1,
              "#f0f921"
             ]
            ],
            "type": "contour"
           }
          ],
          "contourcarpet": [
           {
            "colorbar": {
             "outlinewidth": 0,
             "ticks": ""
            },
            "type": "contourcarpet"
           }
          ],
          "heatmap": [
           {
            "colorbar": {
             "outlinewidth": 0,
             "ticks": ""
            },
            "colorscale": [
             [
              0,
              "#0d0887"
             ],
             [
              0.1111111111111111,
              "#46039f"
             ],
             [
              0.2222222222222222,
              "#7201a8"
             ],
             [
              0.3333333333333333,
              "#9c179e"
             ],
             [
              0.4444444444444444,
              "#bd3786"
             ],
             [
              0.5555555555555556,
              "#d8576b"
             ],
             [
              0.6666666666666666,
              "#ed7953"
             ],
             [
              0.7777777777777778,
              "#fb9f3a"
             ],
             [
              0.8888888888888888,
              "#fdca26"
             ],
             [
              1,
              "#f0f921"
             ]
            ],
            "type": "heatmap"
           }
          ],
          "heatmapgl": [
           {
            "colorbar": {
             "outlinewidth": 0,
             "ticks": ""
            },
            "colorscale": [
             [
              0,
              "#0d0887"
             ],
             [
              0.1111111111111111,
              "#46039f"
             ],
             [
              0.2222222222222222,
              "#7201a8"
             ],
             [
              0.3333333333333333,
              "#9c179e"
             ],
             [
              0.4444444444444444,
              "#bd3786"
             ],
             [
              0.5555555555555556,
              "#d8576b"
             ],
             [
              0.6666666666666666,
              "#ed7953"
             ],
             [
              0.7777777777777778,
              "#fb9f3a"
             ],
             [
              0.8888888888888888,
              "#fdca26"
             ],
             [
              1,
              "#f0f921"
             ]
            ],
            "type": "heatmapgl"
           }
          ],
          "histogram": [
           {
            "marker": {
             "pattern": {
              "fillmode": "overlay",
              "size": 10,
              "solidity": 0.2
             }
            },
            "type": "histogram"
           }
          ],
          "histogram2d": [
           {
            "colorbar": {
             "outlinewidth": 0,
             "ticks": ""
            },
            "colorscale": [
             [
              0,
              "#0d0887"
             ],
             [
              0.1111111111111111,
              "#46039f"
             ],
             [
              0.2222222222222222,
              "#7201a8"
             ],
             [
              0.3333333333333333,
              "#9c179e"
             ],
             [
              0.4444444444444444,
              "#bd3786"
             ],
             [
              0.5555555555555556,
              "#d8576b"
             ],
             [
              0.6666666666666666,
              "#ed7953"
             ],
             [
              0.7777777777777778,
              "#fb9f3a"
             ],
             [
              0.8888888888888888,
              "#fdca26"
             ],
             [
              1,
              "#f0f921"
             ]
            ],
            "type": "histogram2d"
           }
          ],
          "histogram2dcontour": [
           {
            "colorbar": {
             "outlinewidth": 0,
             "ticks": ""
            },
            "colorscale": [
             [
              0,
              "#0d0887"
             ],
             [
              0.1111111111111111,
              "#46039f"
             ],
             [
              0.2222222222222222,
              "#7201a8"
             ],
             [
              0.3333333333333333,
              "#9c179e"
             ],
             [
              0.4444444444444444,
              "#bd3786"
             ],
             [
              0.5555555555555556,
              "#d8576b"
             ],
             [
              0.6666666666666666,
              "#ed7953"
             ],
             [
              0.7777777777777778,
              "#fb9f3a"
             ],
             [
              0.8888888888888888,
              "#fdca26"
             ],
             [
              1,
              "#f0f921"
             ]
            ],
            "type": "histogram2dcontour"
           }
          ],
          "mesh3d": [
           {
            "colorbar": {
             "outlinewidth": 0,
             "ticks": ""
            },
            "type": "mesh3d"
           }
          ],
          "parcoords": [
           {
            "line": {
             "colorbar": {
              "outlinewidth": 0,
              "ticks": ""
             }
            },
            "type": "parcoords"
           }
          ],
          "pie": [
           {
            "automargin": true,
            "type": "pie"
           }
          ],
          "scatter": [
           {
            "fillpattern": {
             "fillmode": "overlay",
             "size": 10,
             "solidity": 0.2
            },
            "type": "scatter"
           }
          ],
          "scatter3d": [
           {
            "line": {
             "colorbar": {
              "outlinewidth": 0,
              "ticks": ""
             }
            },
            "marker": {
             "colorbar": {
              "outlinewidth": 0,
              "ticks": ""
             }
            },
            "type": "scatter3d"
           }
          ],
          "scattercarpet": [
           {
            "marker": {
             "colorbar": {
              "outlinewidth": 0,
              "ticks": ""
             }
            },
            "type": "scattercarpet"
           }
          ],
          "scattergeo": [
           {
            "marker": {
             "colorbar": {
              "outlinewidth": 0,
              "ticks": ""
             }
            },
            "type": "scattergeo"
           }
          ],
          "scattergl": [
           {
            "marker": {
             "colorbar": {
              "outlinewidth": 0,
              "ticks": ""
             }
            },
            "type": "scattergl"
           }
          ],
          "scattermapbox": [
           {
            "marker": {
             "colorbar": {
              "outlinewidth": 0,
              "ticks": ""
             }
            },
            "type": "scattermapbox"
           }
          ],
          "scatterpolar": [
           {
            "marker": {
             "colorbar": {
              "outlinewidth": 0,
              "ticks": ""
             }
            },
            "type": "scatterpolar"
           }
          ],
          "scatterpolargl": [
           {
            "marker": {
             "colorbar": {
              "outlinewidth": 0,
              "ticks": ""
             }
            },
            "type": "scatterpolargl"
           }
          ],
          "scatterternary": [
           {
            "marker": {
             "colorbar": {
              "outlinewidth": 0,
              "ticks": ""
             }
            },
            "type": "scatterternary"
           }
          ],
          "surface": [
           {
            "colorbar": {
             "outlinewidth": 0,
             "ticks": ""
            },
            "colorscale": [
             [
              0,
              "#0d0887"
             ],
             [
              0.1111111111111111,
              "#46039f"
             ],
             [
              0.2222222222222222,
              "#7201a8"
             ],
             [
              0.3333333333333333,
              "#9c179e"
             ],
             [
              0.4444444444444444,
              "#bd3786"
             ],
             [
              0.5555555555555556,
              "#d8576b"
             ],
             [
              0.6666666666666666,
              "#ed7953"
             ],
             [
              0.7777777777777778,
              "#fb9f3a"
             ],
             [
              0.8888888888888888,
              "#fdca26"
             ],
             [
              1,
              "#f0f921"
             ]
            ],
            "type": "surface"
           }
          ],
          "table": [
           {
            "cells": {
             "fill": {
              "color": "#EBF0F8"
             },
             "line": {
              "color": "white"
             }
            },
            "header": {
             "fill": {
              "color": "#C8D4E3"
             },
             "line": {
              "color": "white"
             }
            },
            "type": "table"
           }
          ]
         },
         "layout": {
          "annotationdefaults": {
           "arrowcolor": "#2a3f5f",
           "arrowhead": 0,
           "arrowwidth": 1
          },
          "autotypenumbers": "strict",
          "coloraxis": {
           "colorbar": {
            "outlinewidth": 0,
            "ticks": ""
           }
          },
          "colorscale": {
           "diverging": [
            [
             0,
             "#8e0152"
            ],
            [
             0.1,
             "#c51b7d"
            ],
            [
             0.2,
             "#de77ae"
            ],
            [
             0.3,
             "#f1b6da"
            ],
            [
             0.4,
             "#fde0ef"
            ],
            [
             0.5,
             "#f7f7f7"
            ],
            [
             0.6,
             "#e6f5d0"
            ],
            [
             0.7,
             "#b8e186"
            ],
            [
             0.8,
             "#7fbc41"
            ],
            [
             0.9,
             "#4d9221"
            ],
            [
             1,
             "#276419"
            ]
           ],
           "sequential": [
            [
             0,
             "#0d0887"
            ],
            [
             0.1111111111111111,
             "#46039f"
            ],
            [
             0.2222222222222222,
             "#7201a8"
            ],
            [
             0.3333333333333333,
             "#9c179e"
            ],
            [
             0.4444444444444444,
             "#bd3786"
            ],
            [
             0.5555555555555556,
             "#d8576b"
            ],
            [
             0.6666666666666666,
             "#ed7953"
            ],
            [
             0.7777777777777778,
             "#fb9f3a"
            ],
            [
             0.8888888888888888,
             "#fdca26"
            ],
            [
             1,
             "#f0f921"
            ]
           ],
           "sequentialminus": [
            [
             0,
             "#0d0887"
            ],
            [
             0.1111111111111111,
             "#46039f"
            ],
            [
             0.2222222222222222,
             "#7201a8"
            ],
            [
             0.3333333333333333,
             "#9c179e"
            ],
            [
             0.4444444444444444,
             "#bd3786"
            ],
            [
             0.5555555555555556,
             "#d8576b"
            ],
            [
             0.6666666666666666,
             "#ed7953"
            ],
            [
             0.7777777777777778,
             "#fb9f3a"
            ],
            [
             0.8888888888888888,
             "#fdca26"
            ],
            [
             1,
             "#f0f921"
            ]
           ]
          },
          "colorway": [
           "#636efa",
           "#EF553B",
           "#00cc96",
           "#ab63fa",
           "#FFA15A",
           "#19d3f3",
           "#FF6692",
           "#B6E880",
           "#FF97FF",
           "#FECB52"
          ],
          "font": {
           "color": "#2a3f5f"
          },
          "geo": {
           "bgcolor": "white",
           "lakecolor": "white",
           "landcolor": "#E5ECF6",
           "showlakes": true,
           "showland": true,
           "subunitcolor": "white"
          },
          "hoverlabel": {
           "align": "left"
          },
          "hovermode": "closest",
          "mapbox": {
           "style": "light"
          },
          "paper_bgcolor": "white",
          "plot_bgcolor": "#E5ECF6",
          "polar": {
           "angularaxis": {
            "gridcolor": "white",
            "linecolor": "white",
            "ticks": ""
           },
           "bgcolor": "#E5ECF6",
           "radialaxis": {
            "gridcolor": "white",
            "linecolor": "white",
            "ticks": ""
           }
          },
          "scene": {
           "xaxis": {
            "backgroundcolor": "#E5ECF6",
            "gridcolor": "white",
            "gridwidth": 2,
            "linecolor": "white",
            "showbackground": true,
            "ticks": "",
            "zerolinecolor": "white"
           },
           "yaxis": {
            "backgroundcolor": "#E5ECF6",
            "gridcolor": "white",
            "gridwidth": 2,
            "linecolor": "white",
            "showbackground": true,
            "ticks": "",
            "zerolinecolor": "white"
           },
           "zaxis": {
            "backgroundcolor": "#E5ECF6",
            "gridcolor": "white",
            "gridwidth": 2,
            "linecolor": "white",
            "showbackground": true,
            "ticks": "",
            "zerolinecolor": "white"
           }
          },
          "shapedefaults": {
           "line": {
            "color": "#2a3f5f"
           }
          },
          "ternary": {
           "aaxis": {
            "gridcolor": "white",
            "linecolor": "white",
            "ticks": ""
           },
           "baxis": {
            "gridcolor": "white",
            "linecolor": "white",
            "ticks": ""
           },
           "bgcolor": "#E5ECF6",
           "caxis": {
            "gridcolor": "white",
            "linecolor": "white",
            "ticks": ""
           }
          },
          "title": {
           "x": 0.05
          },
          "xaxis": {
           "automargin": true,
           "gridcolor": "white",
           "linecolor": "white",
           "ticks": "",
           "title": {
            "standoff": 15
           },
           "zerolinecolor": "white",
           "zerolinewidth": 2
          },
          "yaxis": {
           "automargin": true,
           "gridcolor": "white",
           "linecolor": "white",
           "ticks": "",
           "title": {
            "standoff": 15
           },
           "zerolinecolor": "white",
           "zerolinewidth": 2
          }
         }
        },
        "title": {
         "text": "C:/Users/biagi/Desktop/LCs to inspect deltat/CLEAN_GRBs_MAGNITUDES_December2022/Debugging\\011121A_arXiv&gcn_mag_regatheredNavonil.txt"
        },
        "xaxis": {
         "anchor": "y",
         "domain": [
          0,
          1
         ],
         "title": {
          "text": "log Time (s)"
         }
        },
        "yaxis": {
         "anchor": "x",
         "domain": [
          0,
          1
         ],
         "title": {
          "text": "Mag"
         }
        }
       }
      },
      "text/html": [
       "<div>                            <div id=\"dc349620-ff4c-499c-bef8-65df846cbb54\" class=\"plotly-graph-div\" style=\"height:525px; width:100%;\"></div>            <script type=\"text/javascript\">                require([\"plotly\"], function(Plotly) {                    window.PLOTLYENV=window.PLOTLYENV || {};                                    if (document.getElementById(\"dc349620-ff4c-499c-bef8-65df846cbb54\")) {                    Plotly.newPlot(                        \"dc349620-ff4c-499c-bef8-65df846cbb54\",                        [{\"customdata\":[[\"astro-ph0309733\"],[\"astro-ph0309733\"],[\"astro-ph0309733\"],[\"astro-ph0309733\"],[\"astro-ph0309733\"],[\"astro-ph0309733\"]],\"error_y\":{\"array\":[0.07,0.07,0.1,0.1,0.08,0.1]},\"hovertemplate\":\"color=Ks (6)<br>x=%{x}<br>y=%{y}<br>Source=%{customdata[0]}<extra></extra>\",\"legendgroup\":\"Ks (6)\",\"marker\":{\"color\":\"#636efa\",\"symbol\":\"circle\"},\"mode\":\"markers\",\"name\":\"Ks (6)\",\"orientation\":\"v\",\"showlegend\":true,\"x\":[4.490841630144419,4.713094709566026,5.02740220927282,5.139163800025124,5.3344897398043205,5.486044756133814],\"xaxis\":\"x\",\"y\":[-15.19,-16.09,-17.71,-18.29,-19.3,-20.02],\"yaxis\":\"y\",\"type\":\"scatter\"},{\"customdata\":[[\"astro-ph0309733\"],[\"astro-ph0309733\"],[\"astro-ph0309733\"],[\"astro-ph0309733\"],[\"astro-ph0309733\"],[\"astro-ph0309733\"],[\"astro-ph0309733\"],[\"astro-ph0309733\"]],\"error_y\":{\"array\":[0.02,0.01,0.05,0.08,0.4,0.08,0.08,0.08]},\"hovertemplate\":\"color=Rc (8)<br>x=%{x}<br>y=%{y}<br>Source=%{customdata[0]}<extra></extra>\",\"legendgroup\":\"Rc (8)\",\"marker\":{\"color\":\"#EF553B\",\"symbol\":\"circle\"},\"mode\":\"markers\",\"name\":\"Rc (8)\",\"orientation\":\"v\",\"showlegend\":true,\"x\":[4.533872424972614,4.679772106631908,5.0869926561843535,5.135189599080476,5.48822332121393,6.067947454024254,6.203910384998904,6.226877404162691],\"xaxis\":\"x\",\"y\":[-18.86,-19.51,-21.23,-21.75,-23.6,-23.2,-23.65,-23.45],\"yaxis\":\"y\",\"type\":\"scatter\"},{\"customdata\":[[\"1150\"],[\"astro-ph0204234\"],[\"astro-ph0204234\"],[\"astro-ph0204234\"],[\"astro-ph0204234\"],[\"1157\"],[\"astro-ph0204234\"],[\"astro-ph0204234\"],[\"astro-ph0204234\"],[\"astro-ph0204234\"],[\"astro-ph0204234\"],[\"astro-ph0204234\"],[\"astro-ph0204234\"],[\"astro-ph0204234\"],[\"astro-ph0204234\"],[\"astro-ph0204234\"],[\"astro-ph0204234\"],[\"astro-ph0204234\"],[\"astro-ph0204234\"]],\"error_y\":{\"array\":[0.1,0.03,0.03,0.03,0.04,0.05,0.03,0.03,0.03,0.03,0.05,0.04,0.06,0.12,0.15,0.12,0.15,0.15,0.13]},\"hovertemplate\":\"color=R (19)<br>x=%{x}<br>y=%{y}<br>Source=%{customdata[0]}<extra></extra>\",\"legendgroup\":\"R (19)\",\"marker\":{\"color\":\"#00cc96\",\"symbol\":\"circle\"},\"mode\":\"markers\",\"name\":\"R (19)\",\"orientation\":\"v\",\"showlegend\":true,\"x\":[4.56913972547246,4.572298978012545,4.572298978012545,4.5787803613815665,4.625644939713391,4.630142998345801,4.632870131212226,4.655098462506329,4.672032801294065,4.693605962597826,5.121857544061082,5.122650414170673,5.1233288669263475,5.3477966554962775,6.033423755486949,6.068185861746161,6.1003705451175625,6.127104798364807,6.173186268412274],\"xaxis\":\"x\",\"y\":[-18.3,-19.06,-19.06,-19.09,-19.26,-19.25,-19.31,-19.45,-19.5,-19.59,-21.41,-21.43,-21.4,-22.24,-23.07,-23.11,-23.23,-23.19,-23.1],\"yaxis\":\"y\",\"type\":\"scatter\"},{\"customdata\":[[\"astro-ph0204234\"],[\"1157\"],[\"astro-ph0204234\"],[\"astro-ph0204234\"],[\"astro-ph0204234\"],[\"astro-ph0204234\"],[\"astro-ph0204234\"]],\"error_y\":{\"array\":[0.03,0.05,0.03,0.03,0.03,0.1,0.03]},\"hovertemplate\":\"color=I (7)<br>x=%{x}<br>y=%{y}<br>Source=%{customdata[0]}<extra></extra>\",\"legendgroup\":\"I (7)\",\"marker\":{\"color\":\"#ab63fa\",\"symbol\":\"circle\"},\"mode\":\"markers\",\"name\":\"I (7)\",\"orientation\":\"v\",\"showlegend\":true,\"x\":[4.607964296691388,4.6383694350524,4.639374913051823,4.665435388851753,4.686867831241601,5.100092507667667,5.130305972758691],\"xaxis\":\"x\",\"y\":[-18.55,-18.66,-18.61,-18.81,-18.86,-20.6,-20.86],\"yaxis\":\"y\",\"type\":\"scatter\"},{\"customdata\":[[\"astro-ph0204234\"],[\"1157\"],[\"astro-ph0204234\"],[\"astro-ph0204234\"],[\"astro-ph0204234\"],[\"astro-ph0309733\"],[\"astro-ph0204234\"],[\"astro-ph0309733\"],[\"astro-ph0309733\"],[\"astro-ph0309733\"],[\"astro-ph0309733\"],[\"astro-ph0309733\"]],\"error_y\":{\"array\":[0.03,0.05,0.04,0.05,0.04,0.15,0.1,0.05,0.02,0.02,0.02,0.02]},\"hovertemplate\":\"color=V (12)<br>x=%{x}<br>y=%{y}<br>Source=%{customdata[0]}<extra></extra>\",\"legendgroup\":\"V (12)\",\"marker\":{\"color\":\"#FFA15A\",\"symbol\":\"circle\"},\"mode\":\"markers\",\"name\":\"V (12)\",\"orientation\":\"v\",\"showlegend\":true,\"x\":[4.618749099381457,4.651258625418847,4.652099294372089,4.660379706922397,4.679317400948059,5.092923712310533,5.10832792353004,5.345095026044632,6.067211467285859,6.154852273854913,6.180581129339688,6.228165950973257],\"xaxis\":\"x\",\"y\":[-19.87,-20.0,-20.0,-20.05,-20.16,-21.95,-21.19,-23.37,-24.3,-24.09,-23.94,-24.18],\"yaxis\":\"y\",\"type\":\"scatter\"},{\"customdata\":[[\"1157\"],[\"astro-ph0204234\"],[\"astro-ph0204234\"],[\"astro-ph0309733\"],[\"astro-ph0204234\"],[\"astro-ph0309733\"]],\"error_y\":{\"array\":[0.05,0.08,0.06,0.5,0.06,0.3]},\"hovertemplate\":\"color=B (6)<br>x=%{x}<br>y=%{y}<br>Source=%{customdata[0]}<extra></extra>\",\"legendgroup\":\"B (6)\",\"marker\":{\"color\":\"#19d3f3\",\"symbol\":\"circle\"},\"mode\":\"markers\",\"name\":\"B (6)\",\"orientation\":\"v\",\"showlegend\":true,\"x\":[4.620437977338462,4.635309994269324,4.645868518313289,5.090603305018464,5.124175445131852,5.343562194617961],\"xaxis\":\"x\",\"y\":[-20.86,-20.68,-20.71,-22.4,-22.86,-23.7],\"yaxis\":\"y\",\"type\":\"scatter\"},{\"customdata\":[[\"astro-ph0203467\"],[\"astro-ph0203467\"],[\"astro-ph0203467\"],[\"astro-ph0203467\"],[\"astro-ph0203467\"],[\"astro-ph0203467\"],[\"astro-ph0203467\"],[\"astro-ph0203467\"],[\"astro-ph0203467\"],[\"astro-ph0203467\"],[\"astro-ph0203467\"],[\"astro-ph0203467\"],[\"astro-ph0203467\"],[\"astro-ph0203467\"],[\"astro-ph0203467\"],[\"astro-ph0203467\"],[\"astro-ph0203467\"],[\"astro-ph0203467\"],[\"astro-ph0203467\"],[\"astro-ph0203467\"],[\"astro-ph0203467\"],[\"astro-ph0203467\"],[\"astro-ph0203467\"],[\"astro-ph0203467\"],[\"astro-ph0203467\"],[\"astro-ph0203467\"],[\"astro-ph0203467\"],[\"astro-ph0203467\"],[\"astro-ph0203467\"],[\"astro-ph0203467\"],[\"astro-ph0203467\"],[\"astro-ph0203467\"],[\"astro-ph0203467\"],[\"astro-ph0203467\"]],\"error_y\":{\"array\":[0.045,0.04,0.037,0.04,0.04,0.041,0.041,0.039,0.039,0.037,0.039,0.04,0.039,0.041,0.063,0.038,0.036,0.042,0.043,0.043,0.041,0.041,0.035,0.058,0.042,0.038,0.036,0.052,0.039,0.083,0.051,0.079,0.051,0.234]},\"hovertemplate\":\"color=K (34)<br>x=%{x}<br>y=%{y}<br>Source=%{customdata[0]}<extra></extra>\",\"legendgroup\":\"K (34)\",\"marker\":{\"color\":\"#FF6692\",\"symbol\":\"circle\"},\"mode\":\"markers\",\"name\":\"K (34)\",\"orientation\":\"v\",\"showlegend\":true,\"x\":[4.66480257841328,4.6660996583945495,4.6674735743835045,4.668762713341726,4.6701282435680955,4.671649360605297,4.672926181875293,4.674278703933581,4.674278703933581,4.67562702691011,4.676892224212622,4.678468555230355,4.679725513473736,4.68105705746636,4.682306556945548,4.686651710569362,4.68788523971477,4.68919203684788,4.690418381898825,4.691717590320598,4.778010863719385,4.789310801710646,4.799669991939189,4.852293353301949,4.857690207727534,4.869403337777324,4.874893350060396,4.8801665145521484,4.885278696239942,4.890427994285608,4.911632930298759,4.916753524187806,5.127047130600286,5.777016294812724],\"xaxis\":\"x\",\"y\":[-15.959,-15.987,-15.908,-15.994,-15.958,-16.002,-16.006,-16.003,-16.003,-15.981,-16.053,-16.039,-15.997,-16.12,-15.996,-16.027,-16.069,-16.1,-16.015,-16.098,-16.421,-16.537,-16.495,-16.605,-16.788,-16.782,-16.862,-17.019,-16.852,-17.035,-17.005,-17.087,-17.924,-19.346],\"yaxis\":\"y\",\"type\":\"scatter\"},{\"customdata\":[[\"astro-ph0204234\"],[\"1157\"],[\"astro-ph0204234\"]],\"error_y\":{\"array\":[0.15,0.2,0.2]},\"hovertemplate\":\"color=U (3)<br>x=%{x}<br>y=%{y}<br>Source=%{customdata[0]}<extra></extra>\",\"legendgroup\":\"U (3)\",\"marker\":{\"color\":\"#B6E880\",\"symbol\":\"circle\"},\"mode\":\"markers\",\"name\":\"U (3)\",\"orientation\":\"v\",\"showlegend\":true,\"x\":[4.686713470308075,4.689726078705607,5.1268734587442175],\"xaxis\":\"x\",\"y\":[-20.46,-20.7,-22.4],\"yaxis\":\"y\",\"type\":\"scatter\"},{\"customdata\":[[\"astro-ph0309733\"],[\"astro-ph0203467\"],[\"astro-ph0203467\"],[\"astro-ph0203467\"],[\"astro-ph0203467\"],[\"astro-ph0203467\"],[\"astro-ph0203467\"],[\"astro-ph0203467\"],[\"astro-ph0203467\"],[\"astro-ph0203467\"],[\"astro-ph0203467\"],[\"astro-ph0203467\"],[\"astro-ph0309733\"],[\"astro-ph0203467\"],[\"astro-ph0309733\"],[\"astro-ph0203467\"],[\"astro-ph0204234\"],[\"astro-ph0204234\"],[\"astro-ph0204234\"]],\"error_y\":{\"array\":[0.04,0.045,0.037,0.044,0.04,0.037,0.039,0.035,0.036,0.041,0.038,0.1,0.1,0.068,0.1,0.282,0.15,0.15,0.15]},\"hovertemplate\":\"color=J (19)<br>x=%{x}<br>y=%{y}<br>Source=%{customdata[0]}<extra></extra>\",\"legendgroup\":\"J (19)\",\"marker\":{\"color\":\"#FF97FF\",\"symbol\":\"circle\"},\"mode\":\"markers\",\"name\":\"J (19)\",\"orientation\":\"v\",\"showlegend\":true,\"x\":[4.689778424774323,4.694759306647831,4.695743295124044,4.696800487666306,4.697779867453181,4.698832120009525,4.6998069340770945,4.700854292599361,4.701824583319486,4.702792711070011,4.703832902278741,4.907241737808755,5.031945041818209,5.123023694339062,5.136127366097711,5.763696849430603,5.813308718679594,5.866953337245594,5.915150690863368],\"xaxis\":\"x\",\"y\":[-17.47,-17.852,-17.73,-17.763,-17.801,-17.821,-17.799,-17.785,-17.77,-17.795,-17.739,-18.352,-19.38,-19.463,-19.73,-21.291,-22.31,-22.09,-22.11],\"yaxis\":\"y\",\"type\":\"scatter\"},{\"customdata\":[[\"astro-ph0309733\"],[\"astro-ph0309733\"],[\"astro-ph0309733\"],[\"astro-ph0309733\"]],\"error_y\":{\"array\":[0.05,0.25,0.05,0.1]},\"hovertemplate\":\"color=H (4)<br>x=%{x}<br>y=%{y}<br>Source=%{customdata[0]}<extra></extra>\",\"legendgroup\":\"H (4)\",\"marker\":{\"color\":\"#FECB52\",\"symbol\":\"circle\"},\"mode\":\"markers\",\"name\":\"H (4)\",\"orientation\":\"v\",\"showlegend\":true,\"x\":[4.703316317085718,4.845890834021167,5.345036163372836,5.48374116256508],\"xaxis\":\"x\",\"y\":[-16.72,-17.3,-19.81,-20.73],\"yaxis\":\"y\",\"type\":\"scatter\"},{\"customdata\":[[\"astro-ph0309733\"],[\"astro-ph0309733\"],[\"astro-ph0309733\"],[\"astro-ph0309733\"],[\"astro-ph0309733\"],[\"astro-ph0309733\"]],\"error_y\":{\"array\":[0.1,0.3,0.15,0.1,0.15,0.3]},\"hovertemplate\":\"color=Js (6)<br>x=%{x}<br>y=%{y}<br>Source=%{customdata[0]}<extra></extra>\",\"legendgroup\":\"Js (6)\",\"marker\":{\"color\":\"#636efa\",\"symbol\":\"circle\"},\"mode\":\"markers\",\"name\":\"Js (6)\",\"orientation\":\"v\",\"showlegend\":true,\"x\":[5.340598569289872,5.481898040517844,6.068582076746497,6.129373366932766,6.270482486002043,6.344356506784414],\"xaxis\":\"x\",\"y\":[-20.93,-21.64,-22.41,-22.69,-22.89,-22.79],\"yaxis\":\"y\",\"type\":\"scatter\"},{\"customdata\":[[\"astro-ph0204234\"]],\"error_y\":{\"array\":[0.13]},\"hovertemplate\":\"color=F450W (1)<br>x=%{x}<br>y=%{y}<br>Source=%{customdata[0]}<extra></extra>\",\"legendgroup\":\"F450W (1)\",\"marker\":{\"color\":\"#EF553B\",\"symbol\":\"circle\"},\"mode\":\"markers\",\"name\":\"F450W (1)\",\"orientation\":\"v\",\"showlegend\":true,\"x\":[6.05307844348342],\"xaxis\":\"x\",\"y\":[-24.67],\"yaxis\":\"y\",\"type\":\"scatter\"},{\"customdata\":[[\"astro-ph0204234\"],[\"astro-ph0204234\"],[\"astro-ph0204234\"]],\"error_y\":{\"array\":[0.1,0.11,0.12]},\"hovertemplate\":\"color=F555W (3)<br>x=%{x}<br>y=%{y}<br>Source=%{customdata[0]}<extra></extra>\",\"legendgroup\":\"F555W (3)\",\"marker\":{\"color\":\"#00cc96\",\"symbol\":\"circle\"},\"mode\":\"markers\",\"name\":\"F555W (3)\",\"orientation\":\"v\",\"showlegend\":true,\"x\":[6.056904851336473,6.298853076409706,6.371067862271736],\"xaxis\":\"x\",\"y\":[-23.87,-24.51,-25.02],\"yaxis\":\"y\",\"type\":\"scatter\"},{\"customdata\":[[\"astro-ph0204234\"],[\"astro-ph0204234\"],[\"astro-ph0204234\"]],\"error_y\":{\"array\":[0.07,0.08,0.1]},\"hovertemplate\":\"color=F702W (3)<br>x=%{x}<br>y=%{y}<br>Source=%{customdata[0]}<extra></extra>\",\"legendgroup\":\"F702W (3)\",\"marker\":{\"color\":\"#ab63fa\",\"symbol\":\"circle\"},\"mode\":\"markers\",\"name\":\"F702W (3)\",\"orientation\":\"v\",\"showlegend\":true,\"x\":[6.060697840353612,6.301029995663981,6.372912002970106],\"xaxis\":\"x\",\"y\":[-23.14,-23.37,-23.66],\"yaxis\":\"y\",\"type\":\"scatter\"},{\"customdata\":[[\"astro-ph0309733\"]],\"error_y\":{\"array\":[0.25]},\"hovertemplate\":\"color=Ic (1)<br>x=%{x}<br>y=%{y}<br>Source=%{customdata[0]}<extra></extra>\",\"legendgroup\":\"Ic (1)\",\"marker\":{\"color\":\"#FFA15A\",\"symbol\":\"circle\"},\"mode\":\"markers\",\"name\":\"Ic (1)\",\"orientation\":\"v\",\"showlegend\":true,\"x\":[6.0686821956162795],\"xaxis\":\"x\",\"y\":[-22.35],\"yaxis\":\"y\",\"type\":\"scatter\"},{\"customdata\":[[\"astro-ph0204234\"],[\"astro-ph0204234\"],[\"astro-ph0204234\"]],\"error_y\":{\"array\":[0.08,0.1,0.1]},\"hovertemplate\":\"color=F814W (3)<br>x=%{x}<br>y=%{y}<br>Source=%{customdata[0]}<extra></extra>\",\"legendgroup\":\"F814W (3)\",\"marker\":{\"color\":\"#19d3f3\",\"symbol\":\"circle\"},\"mode\":\"markers\",\"name\":\"F814W (3)\",\"orientation\":\"v\",\"showlegend\":true,\"x\":[6.08278537031645,6.332438459915605,6.385606273598312],\"xaxis\":\"x\",\"y\":[-22.78,-23.12,-23.21],\"yaxis\":\"y\",\"type\":\"scatter\"},{\"customdata\":[[\"astro-ph0204234\"],[\"astro-ph0204234\"],[\"astro-ph0204234\"]],\"error_y\":{\"array\":[0.13,0.13,0.13]},\"hovertemplate\":\"color=F850LP (3)<br>x=%{x}<br>y=%{y}<br>Source=%{customdata[0]}<extra></extra>\",\"legendgroup\":\"F850LP (3)\",\"marker\":{\"color\":\"#FF6692\",\"symbol\":\"circle\"},\"mode\":\"markers\",\"name\":\"F850LP (3)\",\"orientation\":\"v\",\"showlegend\":true,\"x\":[6.086359830674748,6.334453751150931,6.385606273598312],\"xaxis\":\"x\",\"y\":[-22.78,-22.73,-22.78],\"yaxis\":\"y\",\"type\":\"scatter\"}],                        {\"template\":{\"data\":{\"histogram2dcontour\":[{\"type\":\"histogram2dcontour\",\"colorbar\":{\"outlinewidth\":0,\"ticks\":\"\"},\"colorscale\":[[0.0,\"#0d0887\"],[0.1111111111111111,\"#46039f\"],[0.2222222222222222,\"#7201a8\"],[0.3333333333333333,\"#9c179e\"],[0.4444444444444444,\"#bd3786\"],[0.5555555555555556,\"#d8576b\"],[0.6666666666666666,\"#ed7953\"],[0.7777777777777778,\"#fb9f3a\"],[0.8888888888888888,\"#fdca26\"],[1.0,\"#f0f921\"]]}],\"choropleth\":[{\"type\":\"choropleth\",\"colorbar\":{\"outlinewidth\":0,\"ticks\":\"\"}}],\"histogram2d\":[{\"type\":\"histogram2d\",\"colorbar\":{\"outlinewidth\":0,\"ticks\":\"\"},\"colorscale\":[[0.0,\"#0d0887\"],[0.1111111111111111,\"#46039f\"],[0.2222222222222222,\"#7201a8\"],[0.3333333333333333,\"#9c179e\"],[0.4444444444444444,\"#bd3786\"],[0.5555555555555556,\"#d8576b\"],[0.6666666666666666,\"#ed7953\"],[0.7777777777777778,\"#fb9f3a\"],[0.8888888888888888,\"#fdca26\"],[1.0,\"#f0f921\"]]}],\"heatmap\":[{\"type\":\"heatmap\",\"colorbar\":{\"outlinewidth\":0,\"ticks\":\"\"},\"colorscale\":[[0.0,\"#0d0887\"],[0.1111111111111111,\"#46039f\"],[0.2222222222222222,\"#7201a8\"],[0.3333333333333333,\"#9c179e\"],[0.4444444444444444,\"#bd3786\"],[0.5555555555555556,\"#d8576b\"],[0.6666666666666666,\"#ed7953\"],[0.7777777777777778,\"#fb9f3a\"],[0.8888888888888888,\"#fdca26\"],[1.0,\"#f0f921\"]]}],\"heatmapgl\":[{\"type\":\"heatmapgl\",\"colorbar\":{\"outlinewidth\":0,\"ticks\":\"\"},\"colorscale\":[[0.0,\"#0d0887\"],[0.1111111111111111,\"#46039f\"],[0.2222222222222222,\"#7201a8\"],[0.3333333333333333,\"#9c179e\"],[0.4444444444444444,\"#bd3786\"],[0.5555555555555556,\"#d8576b\"],[0.6666666666666666,\"#ed7953\"],[0.7777777777777778,\"#fb9f3a\"],[0.8888888888888888,\"#fdca26\"],[1.0,\"#f0f921\"]]}],\"contourcarpet\":[{\"type\":\"contourcarpet\",\"colorbar\":{\"outlinewidth\":0,\"ticks\":\"\"}}],\"contour\":[{\"type\":\"contour\",\"colorbar\":{\"outlinewidth\":0,\"ticks\":\"\"},\"colorscale\":[[0.0,\"#0d0887\"],[0.1111111111111111,\"#46039f\"],[0.2222222222222222,\"#7201a8\"],[0.3333333333333333,\"#9c179e\"],[0.4444444444444444,\"#bd3786\"],[0.5555555555555556,\"#d8576b\"],[0.6666666666666666,\"#ed7953\"],[0.7777777777777778,\"#fb9f3a\"],[0.8888888888888888,\"#fdca26\"],[1.0,\"#f0f921\"]]}],\"surface\":[{\"type\":\"surface\",\"colorbar\":{\"outlinewidth\":0,\"ticks\":\"\"},\"colorscale\":[[0.0,\"#0d0887\"],[0.1111111111111111,\"#46039f\"],[0.2222222222222222,\"#7201a8\"],[0.3333333333333333,\"#9c179e\"],[0.4444444444444444,\"#bd3786\"],[0.5555555555555556,\"#d8576b\"],[0.6666666666666666,\"#ed7953\"],[0.7777777777777778,\"#fb9f3a\"],[0.8888888888888888,\"#fdca26\"],[1.0,\"#f0f921\"]]}],\"mesh3d\":[{\"type\":\"mesh3d\",\"colorbar\":{\"outlinewidth\":0,\"ticks\":\"\"}}],\"scatter\":[{\"fillpattern\":{\"fillmode\":\"overlay\",\"size\":10,\"solidity\":0.2},\"type\":\"scatter\"}],\"parcoords\":[{\"type\":\"parcoords\",\"line\":{\"colorbar\":{\"outlinewidth\":0,\"ticks\":\"\"}}}],\"scatterpolargl\":[{\"type\":\"scatterpolargl\",\"marker\":{\"colorbar\":{\"outlinewidth\":0,\"ticks\":\"\"}}}],\"bar\":[{\"error_x\":{\"color\":\"#2a3f5f\"},\"error_y\":{\"color\":\"#2a3f5f\"},\"marker\":{\"line\":{\"color\":\"#E5ECF6\",\"width\":0.5},\"pattern\":{\"fillmode\":\"overlay\",\"size\":10,\"solidity\":0.2}},\"type\":\"bar\"}],\"scattergeo\":[{\"type\":\"scattergeo\",\"marker\":{\"colorbar\":{\"outlinewidth\":0,\"ticks\":\"\"}}}],\"scatterpolar\":[{\"type\":\"scatterpolar\",\"marker\":{\"colorbar\":{\"outlinewidth\":0,\"ticks\":\"\"}}}],\"histogram\":[{\"marker\":{\"pattern\":{\"fillmode\":\"overlay\",\"size\":10,\"solidity\":0.2}},\"type\":\"histogram\"}],\"scattergl\":[{\"type\":\"scattergl\",\"marker\":{\"colorbar\":{\"outlinewidth\":0,\"ticks\":\"\"}}}],\"scatter3d\":[{\"type\":\"scatter3d\",\"line\":{\"colorbar\":{\"outlinewidth\":0,\"ticks\":\"\"}},\"marker\":{\"colorbar\":{\"outlinewidth\":0,\"ticks\":\"\"}}}],\"scattermapbox\":[{\"type\":\"scattermapbox\",\"marker\":{\"colorbar\":{\"outlinewidth\":0,\"ticks\":\"\"}}}],\"scatterternary\":[{\"type\":\"scatterternary\",\"marker\":{\"colorbar\":{\"outlinewidth\":0,\"ticks\":\"\"}}}],\"scattercarpet\":[{\"type\":\"scattercarpet\",\"marker\":{\"colorbar\":{\"outlinewidth\":0,\"ticks\":\"\"}}}],\"carpet\":[{\"aaxis\":{\"endlinecolor\":\"#2a3f5f\",\"gridcolor\":\"white\",\"linecolor\":\"white\",\"minorgridcolor\":\"white\",\"startlinecolor\":\"#2a3f5f\"},\"baxis\":{\"endlinecolor\":\"#2a3f5f\",\"gridcolor\":\"white\",\"linecolor\":\"white\",\"minorgridcolor\":\"white\",\"startlinecolor\":\"#2a3f5f\"},\"type\":\"carpet\"}],\"table\":[{\"cells\":{\"fill\":{\"color\":\"#EBF0F8\"},\"line\":{\"color\":\"white\"}},\"header\":{\"fill\":{\"color\":\"#C8D4E3\"},\"line\":{\"color\":\"white\"}},\"type\":\"table\"}],\"barpolar\":[{\"marker\":{\"line\":{\"color\":\"#E5ECF6\",\"width\":0.5},\"pattern\":{\"fillmode\":\"overlay\",\"size\":10,\"solidity\":0.2}},\"type\":\"barpolar\"}],\"pie\":[{\"automargin\":true,\"type\":\"pie\"}]},\"layout\":{\"autotypenumbers\":\"strict\",\"colorway\":[\"#636efa\",\"#EF553B\",\"#00cc96\",\"#ab63fa\",\"#FFA15A\",\"#19d3f3\",\"#FF6692\",\"#B6E880\",\"#FF97FF\",\"#FECB52\"],\"font\":{\"color\":\"#2a3f5f\"},\"hovermode\":\"closest\",\"hoverlabel\":{\"align\":\"left\"},\"paper_bgcolor\":\"white\",\"plot_bgcolor\":\"#E5ECF6\",\"polar\":{\"bgcolor\":\"#E5ECF6\",\"angularaxis\":{\"gridcolor\":\"white\",\"linecolor\":\"white\",\"ticks\":\"\"},\"radialaxis\":{\"gridcolor\":\"white\",\"linecolor\":\"white\",\"ticks\":\"\"}},\"ternary\":{\"bgcolor\":\"#E5ECF6\",\"aaxis\":{\"gridcolor\":\"white\",\"linecolor\":\"white\",\"ticks\":\"\"},\"baxis\":{\"gridcolor\":\"white\",\"linecolor\":\"white\",\"ticks\":\"\"},\"caxis\":{\"gridcolor\":\"white\",\"linecolor\":\"white\",\"ticks\":\"\"}},\"coloraxis\":{\"colorbar\":{\"outlinewidth\":0,\"ticks\":\"\"}},\"colorscale\":{\"sequential\":[[0.0,\"#0d0887\"],[0.1111111111111111,\"#46039f\"],[0.2222222222222222,\"#7201a8\"],[0.3333333333333333,\"#9c179e\"],[0.4444444444444444,\"#bd3786\"],[0.5555555555555556,\"#d8576b\"],[0.6666666666666666,\"#ed7953\"],[0.7777777777777778,\"#fb9f3a\"],[0.8888888888888888,\"#fdca26\"],[1.0,\"#f0f921\"]],\"sequentialminus\":[[0.0,\"#0d0887\"],[0.1111111111111111,\"#46039f\"],[0.2222222222222222,\"#7201a8\"],[0.3333333333333333,\"#9c179e\"],[0.4444444444444444,\"#bd3786\"],[0.5555555555555556,\"#d8576b\"],[0.6666666666666666,\"#ed7953\"],[0.7777777777777778,\"#fb9f3a\"],[0.8888888888888888,\"#fdca26\"],[1.0,\"#f0f921\"]],\"diverging\":[[0,\"#8e0152\"],[0.1,\"#c51b7d\"],[0.2,\"#de77ae\"],[0.3,\"#f1b6da\"],[0.4,\"#fde0ef\"],[0.5,\"#f7f7f7\"],[0.6,\"#e6f5d0\"],[0.7,\"#b8e186\"],[0.8,\"#7fbc41\"],[0.9,\"#4d9221\"],[1,\"#276419\"]]},\"xaxis\":{\"gridcolor\":\"white\",\"linecolor\":\"white\",\"ticks\":\"\",\"title\":{\"standoff\":15},\"zerolinecolor\":\"white\",\"automargin\":true,\"zerolinewidth\":2},\"yaxis\":{\"gridcolor\":\"white\",\"linecolor\":\"white\",\"ticks\":\"\",\"title\":{\"standoff\":15},\"zerolinecolor\":\"white\",\"automargin\":true,\"zerolinewidth\":2},\"scene\":{\"xaxis\":{\"backgroundcolor\":\"#E5ECF6\",\"gridcolor\":\"white\",\"linecolor\":\"white\",\"showbackground\":true,\"ticks\":\"\",\"zerolinecolor\":\"white\",\"gridwidth\":2},\"yaxis\":{\"backgroundcolor\":\"#E5ECF6\",\"gridcolor\":\"white\",\"linecolor\":\"white\",\"showbackground\":true,\"ticks\":\"\",\"zerolinecolor\":\"white\",\"gridwidth\":2},\"zaxis\":{\"backgroundcolor\":\"#E5ECF6\",\"gridcolor\":\"white\",\"linecolor\":\"white\",\"showbackground\":true,\"ticks\":\"\",\"zerolinecolor\":\"white\",\"gridwidth\":2}},\"shapedefaults\":{\"line\":{\"color\":\"#2a3f5f\"}},\"annotationdefaults\":{\"arrowcolor\":\"#2a3f5f\",\"arrowhead\":0,\"arrowwidth\":1},\"geo\":{\"bgcolor\":\"white\",\"landcolor\":\"#E5ECF6\",\"subunitcolor\":\"white\",\"showland\":true,\"showlakes\":true,\"lakecolor\":\"white\"},\"title\":{\"x\":0.05},\"mapbox\":{\"style\":\"light\"}}},\"xaxis\":{\"anchor\":\"y\",\"domain\":[0.0,1.0],\"title\":{\"text\":\"log Time (s)\"}},\"yaxis\":{\"anchor\":\"x\",\"domain\":[0.0,1.0],\"title\":{\"text\":\"Mag\"}},\"legend\":{\"title\":{\"text\":\"color\"},\"tracegroupgap\":0},\"title\":{\"text\":\"C:/Users/biagi/Desktop/LCs to inspect deltat/CLEAN_GRBs_MAGNITUDES_December2022/Debugging\\\\011121A_arXiv&gcn_mag_regatheredNavonil.txt\"}},                        {\"responsive\": true}                    ).then(function(){\n",
       "                            \n",
       "var gd = document.getElementById('dc349620-ff4c-499c-bef8-65df846cbb54');\n",
       "var x = new MutationObserver(function (mutations, observer) {{\n",
       "        var display = window.getComputedStyle(gd).display;\n",
       "        if (!display || display === 'none') {{\n",
       "            console.log([gd, 'removed!']);\n",
       "            Plotly.purge(gd);\n",
       "            observer.disconnect();\n",
       "        }}\n",
       "}});\n",
       "\n",
       "// Listen for the removal of the full notebook cells\n",
       "var notebookContainer = gd.closest('#notebook-container');\n",
       "if (notebookContainer) {{\n",
       "    x.observe(notebookContainer, {childList: true});\n",
       "}}\n",
       "\n",
       "// Listen for the clearing of the current output cell\n",
       "var outputEl = gd.closest('.output');\n",
       "if (outputEl) {{\n",
       "    x.observe(outputEl, {childList: true});\n",
       "}}\n",
       "\n",
       "                        })                };                });            </script>        </div>"
      ]
     },
     "metadata": {},
     "output_type": "display_data"
    },
    {
     "name": "stdout",
     "output_type": "stream",
     "text": [
      "The most numerous filter of this GRB:  K , with 34 occurrences\n",
      "The second most numerous filter of this GRB:  R , with 19 occurrences\n"
     ]
    },
    {
     "data": {
      "application/vnd.plotly.v1+json": {
       "config": {
        "plotlyServerURL": "https://plot.ly"
       },
       "data": [
        {
         "customdata": [
          [
           "astro-ph0309733"
          ],
          [
           "astro-ph0309733"
          ],
          [
           "astro-ph0309733"
          ]
         ],
         "error_y": {
          "array": [
           0.07,
           0.07,
           0.08
          ]
         },
         "hovertemplate": "color=Ks (6)<br>x=%{x}<br>y=%{y}<br>Source=%{customdata[0]}<extra></extra>",
         "legendgroup": "Ks (6)",
         "marker": {
          "color": "#636efa",
          "symbol": "circle"
         },
         "mode": "markers",
         "name": "Ks (6)",
         "orientation": "v",
         "showlegend": true,
         "type": "scatter",
         "x": [
          4.49,
          4.71,
          5.33
         ],
         "xaxis": "x",
         "y": [
          -15.011,
          -15.911,
          -19.3
         ],
         "yaxis": "y"
        },
        {
         "customdata": [
          [
           "astro-ph0309733"
          ],
          [
           "astro-ph0309733"
          ],
          [
           "astro-ph0309733"
          ]
         ],
         "error_y": {
          "array": [
           0.02,
           0.4,
           0.08
          ]
         },
         "hovertemplate": "color=Rc (8)<br>x=%{x}<br>y=%{y}<br>Source=%{customdata[0]}<extra></extra>",
         "legendgroup": "Rc (8)",
         "marker": {
          "color": "#EF553B",
          "symbol": "circle"
         },
         "mode": "markers",
         "name": "Rc (8)",
         "orientation": "v",
         "showlegend": true,
         "type": "scatter",
         "x": [
          4.53,
          5.49,
          6.2
         ],
         "xaxis": "x",
         "y": [
          -15.190499999999998,
          -23.6,
          -23.65
         ],
         "yaxis": "y"
        },
        {
         "customdata": [
          [
           "astro-ph0204234"
          ],
          [
           "astro-ph0204234"
          ],
          [
           "astro-ph0204234"
          ],
          [
           "astro-ph0204234"
          ],
          [
           "astro-ph0204234"
          ],
          [
           "astro-ph0204234"
          ],
          [
           "astro-ph0204234"
          ],
          [
           "astro-ph0204234"
          ],
          [
           "astro-ph0204234"
          ],
          [
           "astro-ph0204234"
          ]
         ],
         "error_y": {
          "array": [
           0.03,
           0.03,
           0.03,
           0.06,
           0.12,
           0.15,
           0.12,
           0.15,
           0.15,
           0.13
          ]
         },
         "hovertemplate": "color=R (19)<br>x=%{x}<br>y=%{y}<br>Source=%{customdata[0]}<extra></extra>",
         "legendgroup": "R (19)",
         "marker": {
          "color": "#00cc96",
          "symbol": "circle"
         },
         "mode": "markers",
         "name": "R (19)",
         "orientation": "v",
         "showlegend": true,
         "type": "scatter",
         "x": [
          4.57,
          4.58,
          4.63,
          5.12,
          5.35,
          6.03,
          6.07,
          6.1,
          6.13,
          6.17
         ],
         "xaxis": "x",
         "y": [
          -15.572999999999999,
          -15.603,
          -15.822999999999999,
          -17.912999999999997,
          -22.24,
          -23.07,
          -23.11,
          -23.23,
          -23.19,
          -23.1
         ],
         "yaxis": "y"
        },
        {
         "customdata": [
          [
           "astro-ph0204234"
          ],
          [
           "1157"
          ],
          [
           "astro-ph0204234"
          ]
         ],
         "error_y": {
          "array": [
           0.03,
           0.05,
           0.1
          ]
         },
         "hovertemplate": "color=I (7)<br>x=%{x}<br>y=%{y}<br>Source=%{customdata[0]}<extra></extra>",
         "legendgroup": "I (7)",
         "marker": {
          "color": "#ab63fa",
          "symbol": "circle"
         },
         "mode": "markers",
         "name": "I (7)",
         "orientation": "v",
         "showlegend": true,
         "type": "scatter",
         "x": [
          4.61,
          4.64,
          5.1
         ],
         "xaxis": "x",
         "y": [
          -15.665500000000002,
          -15.775500000000001,
          -17.715500000000002
         ],
         "yaxis": "y"
        },
        {
         "customdata": [
          [
           "astro-ph0204234"
          ],
          [
           "1157"
          ],
          [
           "astro-ph0309733"
          ],
          [
           "astro-ph0204234"
          ],
          [
           "astro-ph0309733"
          ],
          [
           "astro-ph0309733"
          ],
          [
           "astro-ph0309733"
          ]
         ],
         "error_y": {
          "array": [
           0.03,
           0.05,
           0.15,
           0.1,
           0.02,
           0.02,
           0.02
          ]
         },
         "hovertemplate": "color=V (12)<br>x=%{x}<br>y=%{y}<br>Source=%{customdata[0]}<extra></extra>",
         "legendgroup": "V (12)",
         "marker": {
          "color": "#FFA15A",
          "symbol": "circle"
         },
         "mode": "markers",
         "name": "V (12)",
         "orientation": "v",
         "showlegend": true,
         "type": "scatter",
         "x": [
          4.62,
          4.65,
          5.09,
          5.11,
          6.15,
          6.18,
          6.23
         ],
         "xaxis": "x",
         "y": [
          -16.1555,
          -16.2855,
          -18.2355,
          -17.4755,
          -24.09,
          -23.94,
          -24.18
         ],
         "yaxis": "y"
        },
        {
         "customdata": [
          [
           "astro-ph0203467"
          ],
          [
           "astro-ph0203467"
          ],
          [
           "astro-ph0203467"
          ],
          [
           "astro-ph0203467"
          ],
          [
           "astro-ph0203467"
          ],
          [
           "astro-ph0203467"
          ],
          [
           "astro-ph0203467"
          ],
          [
           "astro-ph0203467"
          ],
          [
           "astro-ph0203467"
          ],
          [
           "astro-ph0203467"
          ],
          [
           "astro-ph0203467"
          ],
          [
           "astro-ph0203467"
          ],
          [
           "astro-ph0203467"
          ],
          [
           "astro-ph0203467"
          ],
          [
           "astro-ph0203467"
          ],
          [
           "astro-ph0203467"
          ]
         ],
         "error_y": {
          "array": [
           0.045,
           0.041,
           0.063,
           0.038,
           0.041,
           0.041,
           0.035,
           0.058,
           0.042,
           0.036,
           0.052,
           0.039,
           0.051,
           0.079,
           0.051,
           0.234
          ]
         },
         "hovertemplate": "color=K (34)<br>x=%{x}<br>y=%{y}<br>Source=%{customdata[0]}<extra></extra>",
         "legendgroup": "K (34)",
         "marker": {
          "color": "#19d3f3",
          "symbol": "circle"
         },
         "mode": "markers",
         "name": "K (34)",
         "orientation": "v",
         "showlegend": true,
         "type": "scatter",
         "x": [
          4.66,
          4.67,
          4.68,
          4.69,
          4.78,
          4.79,
          4.8,
          4.85,
          4.86,
          4.87,
          4.88,
          4.89,
          4.91,
          4.92,
          5.13,
          5.78
         ],
         "xaxis": "x",
         "y": [
          -15.959,
          -16.006,
          -15.996,
          -16.027,
          -16.421,
          -16.537,
          -16.495,
          -16.605,
          -16.788,
          -16.862,
          -17.019,
          -16.852,
          -17.005,
          -17.087,
          -17.924,
          -19.346
         ],
         "yaxis": "y"
        },
        {
         "customdata": [
          [
           "astro-ph0203467"
          ],
          [
           "astro-ph0309733"
          ],
          [
           "astro-ph0309733"
          ],
          [
           "astro-ph0203467"
          ],
          [
           "astro-ph0204234"
          ],
          [
           "astro-ph0204234"
          ],
          [
           "astro-ph0204234"
          ]
         ],
         "error_y": {
          "array": [
           0.038,
           0.1,
           0.1,
           0.282,
           0.15,
           0.15,
           0.15
          ]
         },
         "hovertemplate": "color=J (19)<br>x=%{x}<br>y=%{y}<br>Source=%{customdata[0]}<extra></extra>",
         "legendgroup": "J (19)",
         "marker": {
          "color": "#FF6692",
          "symbol": "circle"
         },
         "mode": "markers",
         "name": "J (19)",
         "orientation": "v",
         "showlegend": true,
         "type": "scatter",
         "x": [
          4.7,
          5.03,
          5.14,
          5.76,
          5.81,
          5.87,
          5.92
         ],
         "xaxis": "x",
         "y": [
          -16.2845,
          -17.9255,
          -18.2755,
          -19.8365,
          -20.8555,
          -22.09,
          -22.11
         ],
         "yaxis": "y"
        },
        {
         "customdata": [
          [
           "astro-ph0309733"
          ],
          [
           "astro-ph0309733"
          ],
          [
           "astro-ph0309733"
          ],
          [
           "astro-ph0309733"
          ]
         ],
         "error_y": {
          "array": [
           0.1,
           0.3,
           0.15,
           0.3
          ]
         },
         "hovertemplate": "color=Js (6)<br>x=%{x}<br>y=%{y}<br>Source=%{customdata[0]}<extra></extra>",
         "legendgroup": "Js (6)",
         "marker": {
          "color": "#B6E880",
          "symbol": "circle"
         },
         "mode": "markers",
         "name": "Js (6)",
         "orientation": "v",
         "showlegend": true,
         "type": "scatter",
         "x": [
          5.34,
          5.48,
          6.27,
          6.34
         ],
         "xaxis": "x",
         "y": [
          -20.93,
          -21.64,
          -22.89,
          -22.79
         ],
         "yaxis": "y"
        },
        {
         "customdata": [
          [
           "astro-ph0204234"
          ]
         ],
         "error_y": {
          "array": [
           0.13
          ]
         },
         "hovertemplate": "color=F450W (1)<br>x=%{x}<br>y=%{y}<br>Source=%{customdata[0]}<extra></extra>",
         "legendgroup": "F450W (1)",
         "marker": {
          "color": "#FF97FF",
          "symbol": "circle"
         },
         "mode": "markers",
         "name": "F450W (1)",
         "orientation": "v",
         "showlegend": true,
         "type": "scatter",
         "x": [
          6.05
         ],
         "xaxis": "x",
         "y": [
          -24.67
         ],
         "yaxis": "y"
        },
        {
         "customdata": [
          [
           "astro-ph0204234"
          ]
         ],
         "error_y": {
          "array": [
           0.1
          ]
         },
         "hovertemplate": "color=F555W (3)<br>x=%{x}<br>y=%{y}<br>Source=%{customdata[0]}<extra></extra>",
         "legendgroup": "F555W (3)",
         "marker": {
          "color": "#FECB52",
          "symbol": "circle"
         },
         "mode": "markers",
         "name": "F555W (3)",
         "orientation": "v",
         "showlegend": true,
         "type": "scatter",
         "x": [
          6.06
         ],
         "xaxis": "x",
         "y": [
          -23.87
         ],
         "yaxis": "y"
        },
        {
         "customdata": [
          [
           "astro-ph0204234"
          ]
         ],
         "error_y": {
          "array": [
           0.08
          ]
         },
         "hovertemplate": "color=F814W (3)<br>x=%{x}<br>y=%{y}<br>Source=%{customdata[0]}<extra></extra>",
         "legendgroup": "F814W (3)",
         "marker": {
          "color": "#636efa",
          "symbol": "circle"
         },
         "mode": "markers",
         "name": "F814W (3)",
         "orientation": "v",
         "showlegend": true,
         "type": "scatter",
         "x": [
          6.08
         ],
         "xaxis": "x",
         "y": [
          -22.78
         ],
         "yaxis": "y"
        },
        {
         "customdata": [
          [
           "astro-ph0204234"
          ],
          [
           "astro-ph0204234"
          ],
          [
           "astro-ph0204234"
          ]
         ],
         "error_y": {
          "array": [
           0.13,
           0.13,
           0.13
          ]
         },
         "hovertemplate": "color=F850LP (3)<br>x=%{x}<br>y=%{y}<br>Source=%{customdata[0]}<extra></extra>",
         "legendgroup": "F850LP (3)",
         "marker": {
          "color": "#EF553B",
          "symbol": "circle"
         },
         "mode": "markers",
         "name": "F850LP (3)",
         "orientation": "v",
         "showlegend": true,
         "type": "scatter",
         "x": [
          6.09,
          6.33,
          6.39
         ],
         "xaxis": "x",
         "y": [
          -22.78,
          -22.73,
          -22.78
         ],
         "yaxis": "y"
        },
        {
         "customdata": [
          [
           "astro-ph0204234"
          ],
          [
           "astro-ph0204234"
          ]
         ],
         "error_y": {
          "array": [
           0.08,
           0.1
          ]
         },
         "hovertemplate": "color=F702W (3)<br>x=%{x}<br>y=%{y}<br>Source=%{customdata[0]}<extra></extra>",
         "legendgroup": "F702W (3)",
         "marker": {
          "color": "#00cc96",
          "symbol": "circle"
         },
         "mode": "markers",
         "name": "F702W (3)",
         "orientation": "v",
         "showlegend": true,
         "type": "scatter",
         "x": [
          6.3,
          6.37
         ],
         "xaxis": "x",
         "y": [
          -23.37,
          -23.66
         ],
         "yaxis": "y"
        }
       ],
       "layout": {
        "legend": {
         "title": {
          "text": "color"
         },
         "tracegroupgap": 0
        },
        "template": {
         "data": {
          "bar": [
           {
            "error_x": {
             "color": "#2a3f5f"
            },
            "error_y": {
             "color": "#2a3f5f"
            },
            "marker": {
             "line": {
              "color": "#E5ECF6",
              "width": 0.5
             },
             "pattern": {
              "fillmode": "overlay",
              "size": 10,
              "solidity": 0.2
             }
            },
            "type": "bar"
           }
          ],
          "barpolar": [
           {
            "marker": {
             "line": {
              "color": "#E5ECF6",
              "width": 0.5
             },
             "pattern": {
              "fillmode": "overlay",
              "size": 10,
              "solidity": 0.2
             }
            },
            "type": "barpolar"
           }
          ],
          "carpet": [
           {
            "aaxis": {
             "endlinecolor": "#2a3f5f",
             "gridcolor": "white",
             "linecolor": "white",
             "minorgridcolor": "white",
             "startlinecolor": "#2a3f5f"
            },
            "baxis": {
             "endlinecolor": "#2a3f5f",
             "gridcolor": "white",
             "linecolor": "white",
             "minorgridcolor": "white",
             "startlinecolor": "#2a3f5f"
            },
            "type": "carpet"
           }
          ],
          "choropleth": [
           {
            "colorbar": {
             "outlinewidth": 0,
             "ticks": ""
            },
            "type": "choropleth"
           }
          ],
          "contour": [
           {
            "colorbar": {
             "outlinewidth": 0,
             "ticks": ""
            },
            "colorscale": [
             [
              0,
              "#0d0887"
             ],
             [
              0.1111111111111111,
              "#46039f"
             ],
             [
              0.2222222222222222,
              "#7201a8"
             ],
             [
              0.3333333333333333,
              "#9c179e"
             ],
             [
              0.4444444444444444,
              "#bd3786"
             ],
             [
              0.5555555555555556,
              "#d8576b"
             ],
             [
              0.6666666666666666,
              "#ed7953"
             ],
             [
              0.7777777777777778,
              "#fb9f3a"
             ],
             [
              0.8888888888888888,
              "#fdca26"
             ],
             [
              1,
              "#f0f921"
             ]
            ],
            "type": "contour"
           }
          ],
          "contourcarpet": [
           {
            "colorbar": {
             "outlinewidth": 0,
             "ticks": ""
            },
            "type": "contourcarpet"
           }
          ],
          "heatmap": [
           {
            "colorbar": {
             "outlinewidth": 0,
             "ticks": ""
            },
            "colorscale": [
             [
              0,
              "#0d0887"
             ],
             [
              0.1111111111111111,
              "#46039f"
             ],
             [
              0.2222222222222222,
              "#7201a8"
             ],
             [
              0.3333333333333333,
              "#9c179e"
             ],
             [
              0.4444444444444444,
              "#bd3786"
             ],
             [
              0.5555555555555556,
              "#d8576b"
             ],
             [
              0.6666666666666666,
              "#ed7953"
             ],
             [
              0.7777777777777778,
              "#fb9f3a"
             ],
             [
              0.8888888888888888,
              "#fdca26"
             ],
             [
              1,
              "#f0f921"
             ]
            ],
            "type": "heatmap"
           }
          ],
          "heatmapgl": [
           {
            "colorbar": {
             "outlinewidth": 0,
             "ticks": ""
            },
            "colorscale": [
             [
              0,
              "#0d0887"
             ],
             [
              0.1111111111111111,
              "#46039f"
             ],
             [
              0.2222222222222222,
              "#7201a8"
             ],
             [
              0.3333333333333333,
              "#9c179e"
             ],
             [
              0.4444444444444444,
              "#bd3786"
             ],
             [
              0.5555555555555556,
              "#d8576b"
             ],
             [
              0.6666666666666666,
              "#ed7953"
             ],
             [
              0.7777777777777778,
              "#fb9f3a"
             ],
             [
              0.8888888888888888,
              "#fdca26"
             ],
             [
              1,
              "#f0f921"
             ]
            ],
            "type": "heatmapgl"
           }
          ],
          "histogram": [
           {
            "marker": {
             "pattern": {
              "fillmode": "overlay",
              "size": 10,
              "solidity": 0.2
             }
            },
            "type": "histogram"
           }
          ],
          "histogram2d": [
           {
            "colorbar": {
             "outlinewidth": 0,
             "ticks": ""
            },
            "colorscale": [
             [
              0,
              "#0d0887"
             ],
             [
              0.1111111111111111,
              "#46039f"
             ],
             [
              0.2222222222222222,
              "#7201a8"
             ],
             [
              0.3333333333333333,
              "#9c179e"
             ],
             [
              0.4444444444444444,
              "#bd3786"
             ],
             [
              0.5555555555555556,
              "#d8576b"
             ],
             [
              0.6666666666666666,
              "#ed7953"
             ],
             [
              0.7777777777777778,
              "#fb9f3a"
             ],
             [
              0.8888888888888888,
              "#fdca26"
             ],
             [
              1,
              "#f0f921"
             ]
            ],
            "type": "histogram2d"
           }
          ],
          "histogram2dcontour": [
           {
            "colorbar": {
             "outlinewidth": 0,
             "ticks": ""
            },
            "colorscale": [
             [
              0,
              "#0d0887"
             ],
             [
              0.1111111111111111,
              "#46039f"
             ],
             [
              0.2222222222222222,
              "#7201a8"
             ],
             [
              0.3333333333333333,
              "#9c179e"
             ],
             [
              0.4444444444444444,
              "#bd3786"
             ],
             [
              0.5555555555555556,
              "#d8576b"
             ],
             [
              0.6666666666666666,
              "#ed7953"
             ],
             [
              0.7777777777777778,
              "#fb9f3a"
             ],
             [
              0.8888888888888888,
              "#fdca26"
             ],
             [
              1,
              "#f0f921"
             ]
            ],
            "type": "histogram2dcontour"
           }
          ],
          "mesh3d": [
           {
            "colorbar": {
             "outlinewidth": 0,
             "ticks": ""
            },
            "type": "mesh3d"
           }
          ],
          "parcoords": [
           {
            "line": {
             "colorbar": {
              "outlinewidth": 0,
              "ticks": ""
             }
            },
            "type": "parcoords"
           }
          ],
          "pie": [
           {
            "automargin": true,
            "type": "pie"
           }
          ],
          "scatter": [
           {
            "fillpattern": {
             "fillmode": "overlay",
             "size": 10,
             "solidity": 0.2
            },
            "type": "scatter"
           }
          ],
          "scatter3d": [
           {
            "line": {
             "colorbar": {
              "outlinewidth": 0,
              "ticks": ""
             }
            },
            "marker": {
             "colorbar": {
              "outlinewidth": 0,
              "ticks": ""
             }
            },
            "type": "scatter3d"
           }
          ],
          "scattercarpet": [
           {
            "marker": {
             "colorbar": {
              "outlinewidth": 0,
              "ticks": ""
             }
            },
            "type": "scattercarpet"
           }
          ],
          "scattergeo": [
           {
            "marker": {
             "colorbar": {
              "outlinewidth": 0,
              "ticks": ""
             }
            },
            "type": "scattergeo"
           }
          ],
          "scattergl": [
           {
            "marker": {
             "colorbar": {
              "outlinewidth": 0,
              "ticks": ""
             }
            },
            "type": "scattergl"
           }
          ],
          "scattermapbox": [
           {
            "marker": {
             "colorbar": {
              "outlinewidth": 0,
              "ticks": ""
             }
            },
            "type": "scattermapbox"
           }
          ],
          "scatterpolar": [
           {
            "marker": {
             "colorbar": {
              "outlinewidth": 0,
              "ticks": ""
             }
            },
            "type": "scatterpolar"
           }
          ],
          "scatterpolargl": [
           {
            "marker": {
             "colorbar": {
              "outlinewidth": 0,
              "ticks": ""
             }
            },
            "type": "scatterpolargl"
           }
          ],
          "scatterternary": [
           {
            "marker": {
             "colorbar": {
              "outlinewidth": 0,
              "ticks": ""
             }
            },
            "type": "scatterternary"
           }
          ],
          "surface": [
           {
            "colorbar": {
             "outlinewidth": 0,
             "ticks": ""
            },
            "colorscale": [
             [
              0,
              "#0d0887"
             ],
             [
              0.1111111111111111,
              "#46039f"
             ],
             [
              0.2222222222222222,
              "#7201a8"
             ],
             [
              0.3333333333333333,
              "#9c179e"
             ],
             [
              0.4444444444444444,
              "#bd3786"
             ],
             [
              0.5555555555555556,
              "#d8576b"
             ],
             [
              0.6666666666666666,
              "#ed7953"
             ],
             [
              0.7777777777777778,
              "#fb9f3a"
             ],
             [
              0.8888888888888888,
              "#fdca26"
             ],
             [
              1,
              "#f0f921"
             ]
            ],
            "type": "surface"
           }
          ],
          "table": [
           {
            "cells": {
             "fill": {
              "color": "#EBF0F8"
             },
             "line": {
              "color": "white"
             }
            },
            "header": {
             "fill": {
              "color": "#C8D4E3"
             },
             "line": {
              "color": "white"
             }
            },
            "type": "table"
           }
          ]
         },
         "layout": {
          "annotationdefaults": {
           "arrowcolor": "#2a3f5f",
           "arrowhead": 0,
           "arrowwidth": 1
          },
          "autotypenumbers": "strict",
          "coloraxis": {
           "colorbar": {
            "outlinewidth": 0,
            "ticks": ""
           }
          },
          "colorscale": {
           "diverging": [
            [
             0,
             "#8e0152"
            ],
            [
             0.1,
             "#c51b7d"
            ],
            [
             0.2,
             "#de77ae"
            ],
            [
             0.3,
             "#f1b6da"
            ],
            [
             0.4,
             "#fde0ef"
            ],
            [
             0.5,
             "#f7f7f7"
            ],
            [
             0.6,
             "#e6f5d0"
            ],
            [
             0.7,
             "#b8e186"
            ],
            [
             0.8,
             "#7fbc41"
            ],
            [
             0.9,
             "#4d9221"
            ],
            [
             1,
             "#276419"
            ]
           ],
           "sequential": [
            [
             0,
             "#0d0887"
            ],
            [
             0.1111111111111111,
             "#46039f"
            ],
            [
             0.2222222222222222,
             "#7201a8"
            ],
            [
             0.3333333333333333,
             "#9c179e"
            ],
            [
             0.4444444444444444,
             "#bd3786"
            ],
            [
             0.5555555555555556,
             "#d8576b"
            ],
            [
             0.6666666666666666,
             "#ed7953"
            ],
            [
             0.7777777777777778,
             "#fb9f3a"
            ],
            [
             0.8888888888888888,
             "#fdca26"
            ],
            [
             1,
             "#f0f921"
            ]
           ],
           "sequentialminus": [
            [
             0,
             "#0d0887"
            ],
            [
             0.1111111111111111,
             "#46039f"
            ],
            [
             0.2222222222222222,
             "#7201a8"
            ],
            [
             0.3333333333333333,
             "#9c179e"
            ],
            [
             0.4444444444444444,
             "#bd3786"
            ],
            [
             0.5555555555555556,
             "#d8576b"
            ],
            [
             0.6666666666666666,
             "#ed7953"
            ],
            [
             0.7777777777777778,
             "#fb9f3a"
            ],
            [
             0.8888888888888888,
             "#fdca26"
            ],
            [
             1,
             "#f0f921"
            ]
           ]
          },
          "colorway": [
           "#636efa",
           "#EF553B",
           "#00cc96",
           "#ab63fa",
           "#FFA15A",
           "#19d3f3",
           "#FF6692",
           "#B6E880",
           "#FF97FF",
           "#FECB52"
          ],
          "font": {
           "color": "#2a3f5f"
          },
          "geo": {
           "bgcolor": "white",
           "lakecolor": "white",
           "landcolor": "#E5ECF6",
           "showlakes": true,
           "showland": true,
           "subunitcolor": "white"
          },
          "hoverlabel": {
           "align": "left"
          },
          "hovermode": "closest",
          "mapbox": {
           "style": "light"
          },
          "paper_bgcolor": "white",
          "plot_bgcolor": "#E5ECF6",
          "polar": {
           "angularaxis": {
            "gridcolor": "white",
            "linecolor": "white",
            "ticks": ""
           },
           "bgcolor": "#E5ECF6",
           "radialaxis": {
            "gridcolor": "white",
            "linecolor": "white",
            "ticks": ""
           }
          },
          "scene": {
           "xaxis": {
            "backgroundcolor": "#E5ECF6",
            "gridcolor": "white",
            "gridwidth": 2,
            "linecolor": "white",
            "showbackground": true,
            "ticks": "",
            "zerolinecolor": "white"
           },
           "yaxis": {
            "backgroundcolor": "#E5ECF6",
            "gridcolor": "white",
            "gridwidth": 2,
            "linecolor": "white",
            "showbackground": true,
            "ticks": "",
            "zerolinecolor": "white"
           },
           "zaxis": {
            "backgroundcolor": "#E5ECF6",
            "gridcolor": "white",
            "gridwidth": 2,
            "linecolor": "white",
            "showbackground": true,
            "ticks": "",
            "zerolinecolor": "white"
           }
          },
          "shapedefaults": {
           "line": {
            "color": "#2a3f5f"
           }
          },
          "ternary": {
           "aaxis": {
            "gridcolor": "white",
            "linecolor": "white",
            "ticks": ""
           },
           "baxis": {
            "gridcolor": "white",
            "linecolor": "white",
            "ticks": ""
           },
           "bgcolor": "#E5ECF6",
           "caxis": {
            "gridcolor": "white",
            "linecolor": "white",
            "ticks": ""
           }
          },
          "title": {
           "x": 0.05
          },
          "xaxis": {
           "automargin": true,
           "gridcolor": "white",
           "linecolor": "white",
           "ticks": "",
           "title": {
            "standoff": 15
           },
           "zerolinecolor": "white",
           "zerolinewidth": 2
          },
          "yaxis": {
           "automargin": true,
           "gridcolor": "white",
           "linecolor": "white",
           "ticks": "",
           "title": {
            "standoff": 15
           },
           "zerolinecolor": "white",
           "zerolinewidth": 2
          }
         }
        },
        "title": {
         "text": "C:/Users/biagi/Desktop/LCs to inspect deltat/CLEAN_GRBs_MAGNITUDES_December2022/Debugging\\011121A_arXiv&gcn_mag_regatheredNavonil.txt_RESCALED"
        },
        "xaxis": {
         "anchor": "y",
         "domain": [
          0,
          1
         ],
         "title": {
          "text": "log Time (s)"
         }
        },
        "yaxis": {
         "anchor": "x",
         "domain": [
          0,
          1
         ],
         "title": {
          "text": "Mag"
         }
        }
       }
      },
      "text/html": [
       "<div>                            <div id=\"7fbba8f1-d917-434c-8ba2-e019f68fc5e9\" class=\"plotly-graph-div\" style=\"height:525px; width:100%;\"></div>            <script type=\"text/javascript\">                require([\"plotly\"], function(Plotly) {                    window.PLOTLYENV=window.PLOTLYENV || {};                                    if (document.getElementById(\"7fbba8f1-d917-434c-8ba2-e019f68fc5e9\")) {                    Plotly.newPlot(                        \"7fbba8f1-d917-434c-8ba2-e019f68fc5e9\",                        [{\"customdata\":[[\"astro-ph0309733\"],[\"astro-ph0309733\"],[\"astro-ph0309733\"]],\"error_y\":{\"array\":[0.07,0.07,0.08]},\"hovertemplate\":\"color=Ks (6)<br>x=%{x}<br>y=%{y}<br>Source=%{customdata[0]}<extra></extra>\",\"legendgroup\":\"Ks (6)\",\"marker\":{\"color\":\"#636efa\",\"symbol\":\"circle\"},\"mode\":\"markers\",\"name\":\"Ks (6)\",\"orientation\":\"v\",\"showlegend\":true,\"x\":[4.49,4.71,5.33],\"xaxis\":\"x\",\"y\":[-15.011,-15.911,-19.3],\"yaxis\":\"y\",\"type\":\"scatter\"},{\"customdata\":[[\"astro-ph0309733\"],[\"astro-ph0309733\"],[\"astro-ph0309733\"]],\"error_y\":{\"array\":[0.02,0.4,0.08]},\"hovertemplate\":\"color=Rc (8)<br>x=%{x}<br>y=%{y}<br>Source=%{customdata[0]}<extra></extra>\",\"legendgroup\":\"Rc (8)\",\"marker\":{\"color\":\"#EF553B\",\"symbol\":\"circle\"},\"mode\":\"markers\",\"name\":\"Rc (8)\",\"orientation\":\"v\",\"showlegend\":true,\"x\":[4.53,5.49,6.2],\"xaxis\":\"x\",\"y\":[-15.190499999999998,-23.6,-23.65],\"yaxis\":\"y\",\"type\":\"scatter\"},{\"customdata\":[[\"astro-ph0204234\"],[\"astro-ph0204234\"],[\"astro-ph0204234\"],[\"astro-ph0204234\"],[\"astro-ph0204234\"],[\"astro-ph0204234\"],[\"astro-ph0204234\"],[\"astro-ph0204234\"],[\"astro-ph0204234\"],[\"astro-ph0204234\"]],\"error_y\":{\"array\":[0.03,0.03,0.03,0.06,0.12,0.15,0.12,0.15,0.15,0.13]},\"hovertemplate\":\"color=R (19)<br>x=%{x}<br>y=%{y}<br>Source=%{customdata[0]}<extra></extra>\",\"legendgroup\":\"R (19)\",\"marker\":{\"color\":\"#00cc96\",\"symbol\":\"circle\"},\"mode\":\"markers\",\"name\":\"R (19)\",\"orientation\":\"v\",\"showlegend\":true,\"x\":[4.57,4.58,4.63,5.12,5.35,6.03,6.07,6.1,6.13,6.17],\"xaxis\":\"x\",\"y\":[-15.572999999999999,-15.603,-15.822999999999999,-17.912999999999997,-22.24,-23.07,-23.11,-23.23,-23.19,-23.1],\"yaxis\":\"y\",\"type\":\"scatter\"},{\"customdata\":[[\"astro-ph0204234\"],[\"1157\"],[\"astro-ph0204234\"]],\"error_y\":{\"array\":[0.03,0.05,0.1]},\"hovertemplate\":\"color=I (7)<br>x=%{x}<br>y=%{y}<br>Source=%{customdata[0]}<extra></extra>\",\"legendgroup\":\"I (7)\",\"marker\":{\"color\":\"#ab63fa\",\"symbol\":\"circle\"},\"mode\":\"markers\",\"name\":\"I (7)\",\"orientation\":\"v\",\"showlegend\":true,\"x\":[4.61,4.64,5.1],\"xaxis\":\"x\",\"y\":[-15.665500000000002,-15.775500000000001,-17.715500000000002],\"yaxis\":\"y\",\"type\":\"scatter\"},{\"customdata\":[[\"astro-ph0204234\"],[\"1157\"],[\"astro-ph0309733\"],[\"astro-ph0204234\"],[\"astro-ph0309733\"],[\"astro-ph0309733\"],[\"astro-ph0309733\"]],\"error_y\":{\"array\":[0.03,0.05,0.15,0.1,0.02,0.02,0.02]},\"hovertemplate\":\"color=V (12)<br>x=%{x}<br>y=%{y}<br>Source=%{customdata[0]}<extra></extra>\",\"legendgroup\":\"V (12)\",\"marker\":{\"color\":\"#FFA15A\",\"symbol\":\"circle\"},\"mode\":\"markers\",\"name\":\"V (12)\",\"orientation\":\"v\",\"showlegend\":true,\"x\":[4.62,4.65,5.09,5.11,6.15,6.18,6.23],\"xaxis\":\"x\",\"y\":[-16.1555,-16.2855,-18.2355,-17.4755,-24.09,-23.94,-24.18],\"yaxis\":\"y\",\"type\":\"scatter\"},{\"customdata\":[[\"astro-ph0203467\"],[\"astro-ph0203467\"],[\"astro-ph0203467\"],[\"astro-ph0203467\"],[\"astro-ph0203467\"],[\"astro-ph0203467\"],[\"astro-ph0203467\"],[\"astro-ph0203467\"],[\"astro-ph0203467\"],[\"astro-ph0203467\"],[\"astro-ph0203467\"],[\"astro-ph0203467\"],[\"astro-ph0203467\"],[\"astro-ph0203467\"],[\"astro-ph0203467\"],[\"astro-ph0203467\"]],\"error_y\":{\"array\":[0.045,0.041,0.063,0.038,0.041,0.041,0.035,0.058,0.042,0.036,0.052,0.039,0.051,0.079,0.051,0.234]},\"hovertemplate\":\"color=K (34)<br>x=%{x}<br>y=%{y}<br>Source=%{customdata[0]}<extra></extra>\",\"legendgroup\":\"K (34)\",\"marker\":{\"color\":\"#19d3f3\",\"symbol\":\"circle\"},\"mode\":\"markers\",\"name\":\"K (34)\",\"orientation\":\"v\",\"showlegend\":true,\"x\":[4.66,4.67,4.68,4.69,4.78,4.79,4.8,4.85,4.86,4.87,4.88,4.89,4.91,4.92,5.13,5.78],\"xaxis\":\"x\",\"y\":[-15.959,-16.006,-15.996,-16.027,-16.421,-16.537,-16.495,-16.605,-16.788,-16.862,-17.019,-16.852,-17.005,-17.087,-17.924,-19.346],\"yaxis\":\"y\",\"type\":\"scatter\"},{\"customdata\":[[\"astro-ph0203467\"],[\"astro-ph0309733\"],[\"astro-ph0309733\"],[\"astro-ph0203467\"],[\"astro-ph0204234\"],[\"astro-ph0204234\"],[\"astro-ph0204234\"]],\"error_y\":{\"array\":[0.038,0.1,0.1,0.282,0.15,0.15,0.15]},\"hovertemplate\":\"color=J (19)<br>x=%{x}<br>y=%{y}<br>Source=%{customdata[0]}<extra></extra>\",\"legendgroup\":\"J (19)\",\"marker\":{\"color\":\"#FF6692\",\"symbol\":\"circle\"},\"mode\":\"markers\",\"name\":\"J (19)\",\"orientation\":\"v\",\"showlegend\":true,\"x\":[4.7,5.03,5.14,5.76,5.81,5.87,5.92],\"xaxis\":\"x\",\"y\":[-16.2845,-17.9255,-18.2755,-19.8365,-20.8555,-22.09,-22.11],\"yaxis\":\"y\",\"type\":\"scatter\"},{\"customdata\":[[\"astro-ph0309733\"],[\"astro-ph0309733\"],[\"astro-ph0309733\"],[\"astro-ph0309733\"]],\"error_y\":{\"array\":[0.1,0.3,0.15,0.3]},\"hovertemplate\":\"color=Js (6)<br>x=%{x}<br>y=%{y}<br>Source=%{customdata[0]}<extra></extra>\",\"legendgroup\":\"Js (6)\",\"marker\":{\"color\":\"#B6E880\",\"symbol\":\"circle\"},\"mode\":\"markers\",\"name\":\"Js (6)\",\"orientation\":\"v\",\"showlegend\":true,\"x\":[5.34,5.48,6.27,6.34],\"xaxis\":\"x\",\"y\":[-20.93,-21.64,-22.89,-22.79],\"yaxis\":\"y\",\"type\":\"scatter\"},{\"customdata\":[[\"astro-ph0204234\"]],\"error_y\":{\"array\":[0.13]},\"hovertemplate\":\"color=F450W (1)<br>x=%{x}<br>y=%{y}<br>Source=%{customdata[0]}<extra></extra>\",\"legendgroup\":\"F450W (1)\",\"marker\":{\"color\":\"#FF97FF\",\"symbol\":\"circle\"},\"mode\":\"markers\",\"name\":\"F450W (1)\",\"orientation\":\"v\",\"showlegend\":true,\"x\":[6.05],\"xaxis\":\"x\",\"y\":[-24.67],\"yaxis\":\"y\",\"type\":\"scatter\"},{\"customdata\":[[\"astro-ph0204234\"]],\"error_y\":{\"array\":[0.1]},\"hovertemplate\":\"color=F555W (3)<br>x=%{x}<br>y=%{y}<br>Source=%{customdata[0]}<extra></extra>\",\"legendgroup\":\"F555W (3)\",\"marker\":{\"color\":\"#FECB52\",\"symbol\":\"circle\"},\"mode\":\"markers\",\"name\":\"F555W (3)\",\"orientation\":\"v\",\"showlegend\":true,\"x\":[6.06],\"xaxis\":\"x\",\"y\":[-23.87],\"yaxis\":\"y\",\"type\":\"scatter\"},{\"customdata\":[[\"astro-ph0204234\"]],\"error_y\":{\"array\":[0.08]},\"hovertemplate\":\"color=F814W (3)<br>x=%{x}<br>y=%{y}<br>Source=%{customdata[0]}<extra></extra>\",\"legendgroup\":\"F814W (3)\",\"marker\":{\"color\":\"#636efa\",\"symbol\":\"circle\"},\"mode\":\"markers\",\"name\":\"F814W (3)\",\"orientation\":\"v\",\"showlegend\":true,\"x\":[6.08],\"xaxis\":\"x\",\"y\":[-22.78],\"yaxis\":\"y\",\"type\":\"scatter\"},{\"customdata\":[[\"astro-ph0204234\"],[\"astro-ph0204234\"],[\"astro-ph0204234\"]],\"error_y\":{\"array\":[0.13,0.13,0.13]},\"hovertemplate\":\"color=F850LP (3)<br>x=%{x}<br>y=%{y}<br>Source=%{customdata[0]}<extra></extra>\",\"legendgroup\":\"F850LP (3)\",\"marker\":{\"color\":\"#EF553B\",\"symbol\":\"circle\"},\"mode\":\"markers\",\"name\":\"F850LP (3)\",\"orientation\":\"v\",\"showlegend\":true,\"x\":[6.09,6.33,6.39],\"xaxis\":\"x\",\"y\":[-22.78,-22.73,-22.78],\"yaxis\":\"y\",\"type\":\"scatter\"},{\"customdata\":[[\"astro-ph0204234\"],[\"astro-ph0204234\"]],\"error_y\":{\"array\":[0.08,0.1]},\"hovertemplate\":\"color=F702W (3)<br>x=%{x}<br>y=%{y}<br>Source=%{customdata[0]}<extra></extra>\",\"legendgroup\":\"F702W (3)\",\"marker\":{\"color\":\"#00cc96\",\"symbol\":\"circle\"},\"mode\":\"markers\",\"name\":\"F702W (3)\",\"orientation\":\"v\",\"showlegend\":true,\"x\":[6.3,6.37],\"xaxis\":\"x\",\"y\":[-23.37,-23.66],\"yaxis\":\"y\",\"type\":\"scatter\"}],                        {\"template\":{\"data\":{\"histogram2dcontour\":[{\"type\":\"histogram2dcontour\",\"colorbar\":{\"outlinewidth\":0,\"ticks\":\"\"},\"colorscale\":[[0.0,\"#0d0887\"],[0.1111111111111111,\"#46039f\"],[0.2222222222222222,\"#7201a8\"],[0.3333333333333333,\"#9c179e\"],[0.4444444444444444,\"#bd3786\"],[0.5555555555555556,\"#d8576b\"],[0.6666666666666666,\"#ed7953\"],[0.7777777777777778,\"#fb9f3a\"],[0.8888888888888888,\"#fdca26\"],[1.0,\"#f0f921\"]]}],\"choropleth\":[{\"type\":\"choropleth\",\"colorbar\":{\"outlinewidth\":0,\"ticks\":\"\"}}],\"histogram2d\":[{\"type\":\"histogram2d\",\"colorbar\":{\"outlinewidth\":0,\"ticks\":\"\"},\"colorscale\":[[0.0,\"#0d0887\"],[0.1111111111111111,\"#46039f\"],[0.2222222222222222,\"#7201a8\"],[0.3333333333333333,\"#9c179e\"],[0.4444444444444444,\"#bd3786\"],[0.5555555555555556,\"#d8576b\"],[0.6666666666666666,\"#ed7953\"],[0.7777777777777778,\"#fb9f3a\"],[0.8888888888888888,\"#fdca26\"],[1.0,\"#f0f921\"]]}],\"heatmap\":[{\"type\":\"heatmap\",\"colorbar\":{\"outlinewidth\":0,\"ticks\":\"\"},\"colorscale\":[[0.0,\"#0d0887\"],[0.1111111111111111,\"#46039f\"],[0.2222222222222222,\"#7201a8\"],[0.3333333333333333,\"#9c179e\"],[0.4444444444444444,\"#bd3786\"],[0.5555555555555556,\"#d8576b\"],[0.6666666666666666,\"#ed7953\"],[0.7777777777777778,\"#fb9f3a\"],[0.8888888888888888,\"#fdca26\"],[1.0,\"#f0f921\"]]}],\"heatmapgl\":[{\"type\":\"heatmapgl\",\"colorbar\":{\"outlinewidth\":0,\"ticks\":\"\"},\"colorscale\":[[0.0,\"#0d0887\"],[0.1111111111111111,\"#46039f\"],[0.2222222222222222,\"#7201a8\"],[0.3333333333333333,\"#9c179e\"],[0.4444444444444444,\"#bd3786\"],[0.5555555555555556,\"#d8576b\"],[0.6666666666666666,\"#ed7953\"],[0.7777777777777778,\"#fb9f3a\"],[0.8888888888888888,\"#fdca26\"],[1.0,\"#f0f921\"]]}],\"contourcarpet\":[{\"type\":\"contourcarpet\",\"colorbar\":{\"outlinewidth\":0,\"ticks\":\"\"}}],\"contour\":[{\"type\":\"contour\",\"colorbar\":{\"outlinewidth\":0,\"ticks\":\"\"},\"colorscale\":[[0.0,\"#0d0887\"],[0.1111111111111111,\"#46039f\"],[0.2222222222222222,\"#7201a8\"],[0.3333333333333333,\"#9c179e\"],[0.4444444444444444,\"#bd3786\"],[0.5555555555555556,\"#d8576b\"],[0.6666666666666666,\"#ed7953\"],[0.7777777777777778,\"#fb9f3a\"],[0.8888888888888888,\"#fdca26\"],[1.0,\"#f0f921\"]]}],\"surface\":[{\"type\":\"surface\",\"colorbar\":{\"outlinewidth\":0,\"ticks\":\"\"},\"colorscale\":[[0.0,\"#0d0887\"],[0.1111111111111111,\"#46039f\"],[0.2222222222222222,\"#7201a8\"],[0.3333333333333333,\"#9c179e\"],[0.4444444444444444,\"#bd3786\"],[0.5555555555555556,\"#d8576b\"],[0.6666666666666666,\"#ed7953\"],[0.7777777777777778,\"#fb9f3a\"],[0.8888888888888888,\"#fdca26\"],[1.0,\"#f0f921\"]]}],\"mesh3d\":[{\"type\":\"mesh3d\",\"colorbar\":{\"outlinewidth\":0,\"ticks\":\"\"}}],\"scatter\":[{\"fillpattern\":{\"fillmode\":\"overlay\",\"size\":10,\"solidity\":0.2},\"type\":\"scatter\"}],\"parcoords\":[{\"type\":\"parcoords\",\"line\":{\"colorbar\":{\"outlinewidth\":0,\"ticks\":\"\"}}}],\"scatterpolargl\":[{\"type\":\"scatterpolargl\",\"marker\":{\"colorbar\":{\"outlinewidth\":0,\"ticks\":\"\"}}}],\"bar\":[{\"error_x\":{\"color\":\"#2a3f5f\"},\"error_y\":{\"color\":\"#2a3f5f\"},\"marker\":{\"line\":{\"color\":\"#E5ECF6\",\"width\":0.5},\"pattern\":{\"fillmode\":\"overlay\",\"size\":10,\"solidity\":0.2}},\"type\":\"bar\"}],\"scattergeo\":[{\"type\":\"scattergeo\",\"marker\":{\"colorbar\":{\"outlinewidth\":0,\"ticks\":\"\"}}}],\"scatterpolar\":[{\"type\":\"scatterpolar\",\"marker\":{\"colorbar\":{\"outlinewidth\":0,\"ticks\":\"\"}}}],\"histogram\":[{\"marker\":{\"pattern\":{\"fillmode\":\"overlay\",\"size\":10,\"solidity\":0.2}},\"type\":\"histogram\"}],\"scattergl\":[{\"type\":\"scattergl\",\"marker\":{\"colorbar\":{\"outlinewidth\":0,\"ticks\":\"\"}}}],\"scatter3d\":[{\"type\":\"scatter3d\",\"line\":{\"colorbar\":{\"outlinewidth\":0,\"ticks\":\"\"}},\"marker\":{\"colorbar\":{\"outlinewidth\":0,\"ticks\":\"\"}}}],\"scattermapbox\":[{\"type\":\"scattermapbox\",\"marker\":{\"colorbar\":{\"outlinewidth\":0,\"ticks\":\"\"}}}],\"scatterternary\":[{\"type\":\"scatterternary\",\"marker\":{\"colorbar\":{\"outlinewidth\":0,\"ticks\":\"\"}}}],\"scattercarpet\":[{\"type\":\"scattercarpet\",\"marker\":{\"colorbar\":{\"outlinewidth\":0,\"ticks\":\"\"}}}],\"carpet\":[{\"aaxis\":{\"endlinecolor\":\"#2a3f5f\",\"gridcolor\":\"white\",\"linecolor\":\"white\",\"minorgridcolor\":\"white\",\"startlinecolor\":\"#2a3f5f\"},\"baxis\":{\"endlinecolor\":\"#2a3f5f\",\"gridcolor\":\"white\",\"linecolor\":\"white\",\"minorgridcolor\":\"white\",\"startlinecolor\":\"#2a3f5f\"},\"type\":\"carpet\"}],\"table\":[{\"cells\":{\"fill\":{\"color\":\"#EBF0F8\"},\"line\":{\"color\":\"white\"}},\"header\":{\"fill\":{\"color\":\"#C8D4E3\"},\"line\":{\"color\":\"white\"}},\"type\":\"table\"}],\"barpolar\":[{\"marker\":{\"line\":{\"color\":\"#E5ECF6\",\"width\":0.5},\"pattern\":{\"fillmode\":\"overlay\",\"size\":10,\"solidity\":0.2}},\"type\":\"barpolar\"}],\"pie\":[{\"automargin\":true,\"type\":\"pie\"}]},\"layout\":{\"autotypenumbers\":\"strict\",\"colorway\":[\"#636efa\",\"#EF553B\",\"#00cc96\",\"#ab63fa\",\"#FFA15A\",\"#19d3f3\",\"#FF6692\",\"#B6E880\",\"#FF97FF\",\"#FECB52\"],\"font\":{\"color\":\"#2a3f5f\"},\"hovermode\":\"closest\",\"hoverlabel\":{\"align\":\"left\"},\"paper_bgcolor\":\"white\",\"plot_bgcolor\":\"#E5ECF6\",\"polar\":{\"bgcolor\":\"#E5ECF6\",\"angularaxis\":{\"gridcolor\":\"white\",\"linecolor\":\"white\",\"ticks\":\"\"},\"radialaxis\":{\"gridcolor\":\"white\",\"linecolor\":\"white\",\"ticks\":\"\"}},\"ternary\":{\"bgcolor\":\"#E5ECF6\",\"aaxis\":{\"gridcolor\":\"white\",\"linecolor\":\"white\",\"ticks\":\"\"},\"baxis\":{\"gridcolor\":\"white\",\"linecolor\":\"white\",\"ticks\":\"\"},\"caxis\":{\"gridcolor\":\"white\",\"linecolor\":\"white\",\"ticks\":\"\"}},\"coloraxis\":{\"colorbar\":{\"outlinewidth\":0,\"ticks\":\"\"}},\"colorscale\":{\"sequential\":[[0.0,\"#0d0887\"],[0.1111111111111111,\"#46039f\"],[0.2222222222222222,\"#7201a8\"],[0.3333333333333333,\"#9c179e\"],[0.4444444444444444,\"#bd3786\"],[0.5555555555555556,\"#d8576b\"],[0.6666666666666666,\"#ed7953\"],[0.7777777777777778,\"#fb9f3a\"],[0.8888888888888888,\"#fdca26\"],[1.0,\"#f0f921\"]],\"sequentialminus\":[[0.0,\"#0d0887\"],[0.1111111111111111,\"#46039f\"],[0.2222222222222222,\"#7201a8\"],[0.3333333333333333,\"#9c179e\"],[0.4444444444444444,\"#bd3786\"],[0.5555555555555556,\"#d8576b\"],[0.6666666666666666,\"#ed7953\"],[0.7777777777777778,\"#fb9f3a\"],[0.8888888888888888,\"#fdca26\"],[1.0,\"#f0f921\"]],\"diverging\":[[0,\"#8e0152\"],[0.1,\"#c51b7d\"],[0.2,\"#de77ae\"],[0.3,\"#f1b6da\"],[0.4,\"#fde0ef\"],[0.5,\"#f7f7f7\"],[0.6,\"#e6f5d0\"],[0.7,\"#b8e186\"],[0.8,\"#7fbc41\"],[0.9,\"#4d9221\"],[1,\"#276419\"]]},\"xaxis\":{\"gridcolor\":\"white\",\"linecolor\":\"white\",\"ticks\":\"\",\"title\":{\"standoff\":15},\"zerolinecolor\":\"white\",\"automargin\":true,\"zerolinewidth\":2},\"yaxis\":{\"gridcolor\":\"white\",\"linecolor\":\"white\",\"ticks\":\"\",\"title\":{\"standoff\":15},\"zerolinecolor\":\"white\",\"automargin\":true,\"zerolinewidth\":2},\"scene\":{\"xaxis\":{\"backgroundcolor\":\"#E5ECF6\",\"gridcolor\":\"white\",\"linecolor\":\"white\",\"showbackground\":true,\"ticks\":\"\",\"zerolinecolor\":\"white\",\"gridwidth\":2},\"yaxis\":{\"backgroundcolor\":\"#E5ECF6\",\"gridcolor\":\"white\",\"linecolor\":\"white\",\"showbackground\":true,\"ticks\":\"\",\"zerolinecolor\":\"white\",\"gridwidth\":2},\"zaxis\":{\"backgroundcolor\":\"#E5ECF6\",\"gridcolor\":\"white\",\"linecolor\":\"white\",\"showbackground\":true,\"ticks\":\"\",\"zerolinecolor\":\"white\",\"gridwidth\":2}},\"shapedefaults\":{\"line\":{\"color\":\"#2a3f5f\"}},\"annotationdefaults\":{\"arrowcolor\":\"#2a3f5f\",\"arrowhead\":0,\"arrowwidth\":1},\"geo\":{\"bgcolor\":\"white\",\"landcolor\":\"#E5ECF6\",\"subunitcolor\":\"white\",\"showland\":true,\"showlakes\":true,\"lakecolor\":\"white\"},\"title\":{\"x\":0.05},\"mapbox\":{\"style\":\"light\"}}},\"xaxis\":{\"anchor\":\"y\",\"domain\":[0.0,1.0],\"title\":{\"text\":\"log Time (s)\"}},\"yaxis\":{\"anchor\":\"x\",\"domain\":[0.0,1.0],\"title\":{\"text\":\"Mag\"}},\"legend\":{\"title\":{\"text\":\"color\"},\"tracegroupgap\":0},\"title\":{\"text\":\"C:/Users/biagi/Desktop/LCs to inspect deltat/CLEAN_GRBs_MAGNITUDES_December2022/Debugging\\\\011121A_arXiv&gcn_mag_regatheredNavonil.txt_RESCALED\"}},                        {\"responsive\": true}                    ).then(function(){\n",
       "                            \n",
       "var gd = document.getElementById('7fbba8f1-d917-434c-8ba2-e019f68fc5e9');\n",
       "var x = new MutationObserver(function (mutations, observer) {{\n",
       "        var display = window.getComputedStyle(gd).display;\n",
       "        if (!display || display === 'none') {{\n",
       "            console.log([gd, 'removed!']);\n",
       "            Plotly.purge(gd);\n",
       "            observer.disconnect();\n",
       "        }}\n",
       "}});\n",
       "\n",
       "// Listen for the removal of the full notebook cells\n",
       "var notebookContainer = gd.closest('#notebook-container');\n",
       "if (notebookContainer) {{\n",
       "    x.observe(notebookContainer, {childList: true});\n",
       "}}\n",
       "\n",
       "// Listen for the clearing of the current output cell\n",
       "var outputEl = gd.closest('.output');\n",
       "if (outputEl) {{\n",
       "    x.observe(outputEl, {childList: true});\n",
       "}}\n",
       "\n",
       "                        })                };                });            </script>        </div>"
      ]
     },
     "metadata": {},
     "output_type": "display_data"
    },
    {
     "data": {
      "application/vnd.plotly.v1+json": {
       "config": {
        "plotlyServerURL": "https://plot.ly"
       },
       "data": [
        {
         "customdata": [
          [
           "astro-ph0604153"
          ],
          [
           "arXiv1603.07869"
          ],
          [
           "astro-ph0604153"
          ],
          [
           "arXiv1603.07869"
          ],
          [
           "astro-ph0509144"
          ],
          [
           "astro-ph0604153"
          ],
          [
           "arXiv1603.07869"
          ],
          [
           "astro-ph0510110"
          ]
         ],
         "error_y": {
          "array": [
           0.06,
           0.07,
           0.28,
           0.25,
           0.07,
           0.07,
           0.08,
           0.15
          ]
         },
         "hovertemplate": "color=R (8)<br>x=%{x}<br>y=%{y}<br>Source=%{customdata[0]}<extra></extra>",
         "legendgroup": "R (8)",
         "marker": {
          "color": "#636efa",
          "symbol": "circle"
         },
         "mode": "markers",
         "name": "R (8)",
         "orientation": "v",
         "showlegend": true,
         "type": "scatter",
         "x": [
          5.087760128342546,
          5.100349863935535,
          5.314221257931508,
          5.324831665357307,
          5.329648009757911,
          5.32965004274811,
          5.329952851988349,
          5.470592756433236
         ],
         "xaxis": "x",
         "y": [
          -22.71,
          -22.8,
          -23.46,
          -23.55,
          -23.83,
          -23.83,
          -23.8,
          -21.05
         ],
         "yaxis": "y"
        },
        {
         "customdata": [
          [
           "arXiv1603.07869"
          ]
         ],
         "error_y": {
          "array": [
           0.2
          ]
         },
         "hovertemplate": "color=I (1)<br>x=%{x}<br>y=%{y}<br>Source=%{customdata[0]}<extra></extra>",
         "legendgroup": "I (1)",
         "marker": {
          "color": "#EF553B",
          "symbol": "circle"
         },
         "mode": "markers",
         "name": "I (1)",
         "orientation": "v",
         "showlegend": true,
         "type": "scatter",
         "x": [
          5.327201537985229
         ],
         "xaxis": "x",
         "y": [
          -24.1
         ],
         "yaxis": "y"
        },
        {
         "customdata": [
          [
           "astro-ph0509144"
          ],
          [
           "astro-ph0604153"
          ],
          [
           "arXiv1603.07869"
          ]
         ],
         "error_y": {
          "array": [
           0.1,
           0.1,
           0.15
          ]
         },
         "hovertemplate": "color=V (3)<br>x=%{x}<br>y=%{y}<br>Source=%{customdata[0]}<extra></extra>",
         "legendgroup": "V (3)",
         "marker": {
          "color": "#00cc96",
          "symbol": "circle"
         },
         "mode": "markers",
         "name": "V (3)",
         "orientation": "v",
         "showlegend": true,
         "type": "scatter",
         "x": [
          5.328059371631484,
          5.328065492924004,
          5.328363291602574
         ],
         "xaxis": "x",
         "y": [
          -24.38,
          -24.38,
          -24.45
         ],
         "yaxis": "y"
        },
        {
         "customdata": [
          [
           "astro-ph0510110"
          ],
          [
           "astro-ph0604153"
          ],
          [
           "astro-ph0510110"
          ]
         ],
         "error_y": {
          "array": [
           0.7,
           0.7,
           0.1
          ]
         },
         "hovertemplate": "color=K' (3)<br>x=%{x}<br>y=%{y}<br>Source=%{customdata[0]}<extra></extra>",
         "legendgroup": "K' (3)",
         "marker": {
          "color": "#ab63fa",
          "symbol": "circle"
         },
         "mode": "markers",
         "name": "K' (3)",
         "orientation": "v",
         "showlegend": true,
         "type": "scatter",
         "x": [
          5.687117658182867,
          5.688208853162459,
          6.157710561301971
         ],
         "xaxis": "x",
         "y": [
          -22.1,
          -22.1,
          -19.2
         ],
         "yaxis": "y"
        },
        {
         "customdata": [
          [
           "astro-ph0604153"
          ],
          [
           "astro-ph0604153"
          ],
          [
           "astro-ph0604153"
          ]
         ],
         "error_y": {
          "array": [
           0.02,
           0.05,
           0.27
          ]
         },
         "hovertemplate": "color=F814W (3)<br>x=%{x}<br>y=%{y}<br>Source=%{customdata[0]}<extra></extra>",
         "legendgroup": "F814W (3)",
         "marker": {
          "color": "#FFA15A",
          "symbol": "circle"
         },
         "mode": "markers",
         "name": "F814W (3)",
         "orientation": "v",
         "showlegend": true,
         "type": "scatter",
         "x": [
          5.687299714515165,
          5.926581654354794,
          6.20682587603185
         ],
         "xaxis": "x",
         "y": [
          -25.08,
          -25.84,
          -27.81
         ],
         "yaxis": "y"
        }
       ],
       "layout": {
        "legend": {
         "title": {
          "text": "color"
         },
         "tracegroupgap": 0
        },
        "template": {
         "data": {
          "bar": [
           {
            "error_x": {
             "color": "#2a3f5f"
            },
            "error_y": {
             "color": "#2a3f5f"
            },
            "marker": {
             "line": {
              "color": "#E5ECF6",
              "width": 0.5
             },
             "pattern": {
              "fillmode": "overlay",
              "size": 10,
              "solidity": 0.2
             }
            },
            "type": "bar"
           }
          ],
          "barpolar": [
           {
            "marker": {
             "line": {
              "color": "#E5ECF6",
              "width": 0.5
             },
             "pattern": {
              "fillmode": "overlay",
              "size": 10,
              "solidity": 0.2
             }
            },
            "type": "barpolar"
           }
          ],
          "carpet": [
           {
            "aaxis": {
             "endlinecolor": "#2a3f5f",
             "gridcolor": "white",
             "linecolor": "white",
             "minorgridcolor": "white",
             "startlinecolor": "#2a3f5f"
            },
            "baxis": {
             "endlinecolor": "#2a3f5f",
             "gridcolor": "white",
             "linecolor": "white",
             "minorgridcolor": "white",
             "startlinecolor": "#2a3f5f"
            },
            "type": "carpet"
           }
          ],
          "choropleth": [
           {
            "colorbar": {
             "outlinewidth": 0,
             "ticks": ""
            },
            "type": "choropleth"
           }
          ],
          "contour": [
           {
            "colorbar": {
             "outlinewidth": 0,
             "ticks": ""
            },
            "colorscale": [
             [
              0,
              "#0d0887"
             ],
             [
              0.1111111111111111,
              "#46039f"
             ],
             [
              0.2222222222222222,
              "#7201a8"
             ],
             [
              0.3333333333333333,
              "#9c179e"
             ],
             [
              0.4444444444444444,
              "#bd3786"
             ],
             [
              0.5555555555555556,
              "#d8576b"
             ],
             [
              0.6666666666666666,
              "#ed7953"
             ],
             [
              0.7777777777777778,
              "#fb9f3a"
             ],
             [
              0.8888888888888888,
              "#fdca26"
             ],
             [
              1,
              "#f0f921"
             ]
            ],
            "type": "contour"
           }
          ],
          "contourcarpet": [
           {
            "colorbar": {
             "outlinewidth": 0,
             "ticks": ""
            },
            "type": "contourcarpet"
           }
          ],
          "heatmap": [
           {
            "colorbar": {
             "outlinewidth": 0,
             "ticks": ""
            },
            "colorscale": [
             [
              0,
              "#0d0887"
             ],
             [
              0.1111111111111111,
              "#46039f"
             ],
             [
              0.2222222222222222,
              "#7201a8"
             ],
             [
              0.3333333333333333,
              "#9c179e"
             ],
             [
              0.4444444444444444,
              "#bd3786"
             ],
             [
              0.5555555555555556,
              "#d8576b"
             ],
             [
              0.6666666666666666,
              "#ed7953"
             ],
             [
              0.7777777777777778,
              "#fb9f3a"
             ],
             [
              0.8888888888888888,
              "#fdca26"
             ],
             [
              1,
              "#f0f921"
             ]
            ],
            "type": "heatmap"
           }
          ],
          "heatmapgl": [
           {
            "colorbar": {
             "outlinewidth": 0,
             "ticks": ""
            },
            "colorscale": [
             [
              0,
              "#0d0887"
             ],
             [
              0.1111111111111111,
              "#46039f"
             ],
             [
              0.2222222222222222,
              "#7201a8"
             ],
             [
              0.3333333333333333,
              "#9c179e"
             ],
             [
              0.4444444444444444,
              "#bd3786"
             ],
             [
              0.5555555555555556,
              "#d8576b"
             ],
             [
              0.6666666666666666,
              "#ed7953"
             ],
             [
              0.7777777777777778,
              "#fb9f3a"
             ],
             [
              0.8888888888888888,
              "#fdca26"
             ],
             [
              1,
              "#f0f921"
             ]
            ],
            "type": "heatmapgl"
           }
          ],
          "histogram": [
           {
            "marker": {
             "pattern": {
              "fillmode": "overlay",
              "size": 10,
              "solidity": 0.2
             }
            },
            "type": "histogram"
           }
          ],
          "histogram2d": [
           {
            "colorbar": {
             "outlinewidth": 0,
             "ticks": ""
            },
            "colorscale": [
             [
              0,
              "#0d0887"
             ],
             [
              0.1111111111111111,
              "#46039f"
             ],
             [
              0.2222222222222222,
              "#7201a8"
             ],
             [
              0.3333333333333333,
              "#9c179e"
             ],
             [
              0.4444444444444444,
              "#bd3786"
             ],
             [
              0.5555555555555556,
              "#d8576b"
             ],
             [
              0.6666666666666666,
              "#ed7953"
             ],
             [
              0.7777777777777778,
              "#fb9f3a"
             ],
             [
              0.8888888888888888,
              "#fdca26"
             ],
             [
              1,
              "#f0f921"
             ]
            ],
            "type": "histogram2d"
           }
          ],
          "histogram2dcontour": [
           {
            "colorbar": {
             "outlinewidth": 0,
             "ticks": ""
            },
            "colorscale": [
             [
              0,
              "#0d0887"
             ],
             [
              0.1111111111111111,
              "#46039f"
             ],
             [
              0.2222222222222222,
              "#7201a8"
             ],
             [
              0.3333333333333333,
              "#9c179e"
             ],
             [
              0.4444444444444444,
              "#bd3786"
             ],
             [
              0.5555555555555556,
              "#d8576b"
             ],
             [
              0.6666666666666666,
              "#ed7953"
             ],
             [
              0.7777777777777778,
              "#fb9f3a"
             ],
             [
              0.8888888888888888,
              "#fdca26"
             ],
             [
              1,
              "#f0f921"
             ]
            ],
            "type": "histogram2dcontour"
           }
          ],
          "mesh3d": [
           {
            "colorbar": {
             "outlinewidth": 0,
             "ticks": ""
            },
            "type": "mesh3d"
           }
          ],
          "parcoords": [
           {
            "line": {
             "colorbar": {
              "outlinewidth": 0,
              "ticks": ""
             }
            },
            "type": "parcoords"
           }
          ],
          "pie": [
           {
            "automargin": true,
            "type": "pie"
           }
          ],
          "scatter": [
           {
            "fillpattern": {
             "fillmode": "overlay",
             "size": 10,
             "solidity": 0.2
            },
            "type": "scatter"
           }
          ],
          "scatter3d": [
           {
            "line": {
             "colorbar": {
              "outlinewidth": 0,
              "ticks": ""
             }
            },
            "marker": {
             "colorbar": {
              "outlinewidth": 0,
              "ticks": ""
             }
            },
            "type": "scatter3d"
           }
          ],
          "scattercarpet": [
           {
            "marker": {
             "colorbar": {
              "outlinewidth": 0,
              "ticks": ""
             }
            },
            "type": "scattercarpet"
           }
          ],
          "scattergeo": [
           {
            "marker": {
             "colorbar": {
              "outlinewidth": 0,
              "ticks": ""
             }
            },
            "type": "scattergeo"
           }
          ],
          "scattergl": [
           {
            "marker": {
             "colorbar": {
              "outlinewidth": 0,
              "ticks": ""
             }
            },
            "type": "scattergl"
           }
          ],
          "scattermapbox": [
           {
            "marker": {
             "colorbar": {
              "outlinewidth": 0,
              "ticks": ""
             }
            },
            "type": "scattermapbox"
           }
          ],
          "scatterpolar": [
           {
            "marker": {
             "colorbar": {
              "outlinewidth": 0,
              "ticks": ""
             }
            },
            "type": "scatterpolar"
           }
          ],
          "scatterpolargl": [
           {
            "marker": {
             "colorbar": {
              "outlinewidth": 0,
              "ticks": ""
             }
            },
            "type": "scatterpolargl"
           }
          ],
          "scatterternary": [
           {
            "marker": {
             "colorbar": {
              "outlinewidth": 0,
              "ticks": ""
             }
            },
            "type": "scatterternary"
           }
          ],
          "surface": [
           {
            "colorbar": {
             "outlinewidth": 0,
             "ticks": ""
            },
            "colorscale": [
             [
              0,
              "#0d0887"
             ],
             [
              0.1111111111111111,
              "#46039f"
             ],
             [
              0.2222222222222222,
              "#7201a8"
             ],
             [
              0.3333333333333333,
              "#9c179e"
             ],
             [
              0.4444444444444444,
              "#bd3786"
             ],
             [
              0.5555555555555556,
              "#d8576b"
             ],
             [
              0.6666666666666666,
              "#ed7953"
             ],
             [
              0.7777777777777778,
              "#fb9f3a"
             ],
             [
              0.8888888888888888,
              "#fdca26"
             ],
             [
              1,
              "#f0f921"
             ]
            ],
            "type": "surface"
           }
          ],
          "table": [
           {
            "cells": {
             "fill": {
              "color": "#EBF0F8"
             },
             "line": {
              "color": "white"
             }
            },
            "header": {
             "fill": {
              "color": "#C8D4E3"
             },
             "line": {
              "color": "white"
             }
            },
            "type": "table"
           }
          ]
         },
         "layout": {
          "annotationdefaults": {
           "arrowcolor": "#2a3f5f",
           "arrowhead": 0,
           "arrowwidth": 1
          },
          "autotypenumbers": "strict",
          "coloraxis": {
           "colorbar": {
            "outlinewidth": 0,
            "ticks": ""
           }
          },
          "colorscale": {
           "diverging": [
            [
             0,
             "#8e0152"
            ],
            [
             0.1,
             "#c51b7d"
            ],
            [
             0.2,
             "#de77ae"
            ],
            [
             0.3,
             "#f1b6da"
            ],
            [
             0.4,
             "#fde0ef"
            ],
            [
             0.5,
             "#f7f7f7"
            ],
            [
             0.6,
             "#e6f5d0"
            ],
            [
             0.7,
             "#b8e186"
            ],
            [
             0.8,
             "#7fbc41"
            ],
            [
             0.9,
             "#4d9221"
            ],
            [
             1,
             "#276419"
            ]
           ],
           "sequential": [
            [
             0,
             "#0d0887"
            ],
            [
             0.1111111111111111,
             "#46039f"
            ],
            [
             0.2222222222222222,
             "#7201a8"
            ],
            [
             0.3333333333333333,
             "#9c179e"
            ],
            [
             0.4444444444444444,
             "#bd3786"
            ],
            [
             0.5555555555555556,
             "#d8576b"
            ],
            [
             0.6666666666666666,
             "#ed7953"
            ],
            [
             0.7777777777777778,
             "#fb9f3a"
            ],
            [
             0.8888888888888888,
             "#fdca26"
            ],
            [
             1,
             "#f0f921"
            ]
           ],
           "sequentialminus": [
            [
             0,
             "#0d0887"
            ],
            [
             0.1111111111111111,
             "#46039f"
            ],
            [
             0.2222222222222222,
             "#7201a8"
            ],
            [
             0.3333333333333333,
             "#9c179e"
            ],
            [
             0.4444444444444444,
             "#bd3786"
            ],
            [
             0.5555555555555556,
             "#d8576b"
            ],
            [
             0.6666666666666666,
             "#ed7953"
            ],
            [
             0.7777777777777778,
             "#fb9f3a"
            ],
            [
             0.8888888888888888,
             "#fdca26"
            ],
            [
             1,
             "#f0f921"
            ]
           ]
          },
          "colorway": [
           "#636efa",
           "#EF553B",
           "#00cc96",
           "#ab63fa",
           "#FFA15A",
           "#19d3f3",
           "#FF6692",
           "#B6E880",
           "#FF97FF",
           "#FECB52"
          ],
          "font": {
           "color": "#2a3f5f"
          },
          "geo": {
           "bgcolor": "white",
           "lakecolor": "white",
           "landcolor": "#E5ECF6",
           "showlakes": true,
           "showland": true,
           "subunitcolor": "white"
          },
          "hoverlabel": {
           "align": "left"
          },
          "hovermode": "closest",
          "mapbox": {
           "style": "light"
          },
          "paper_bgcolor": "white",
          "plot_bgcolor": "#E5ECF6",
          "polar": {
           "angularaxis": {
            "gridcolor": "white",
            "linecolor": "white",
            "ticks": ""
           },
           "bgcolor": "#E5ECF6",
           "radialaxis": {
            "gridcolor": "white",
            "linecolor": "white",
            "ticks": ""
           }
          },
          "scene": {
           "xaxis": {
            "backgroundcolor": "#E5ECF6",
            "gridcolor": "white",
            "gridwidth": 2,
            "linecolor": "white",
            "showbackground": true,
            "ticks": "",
            "zerolinecolor": "white"
           },
           "yaxis": {
            "backgroundcolor": "#E5ECF6",
            "gridcolor": "white",
            "gridwidth": 2,
            "linecolor": "white",
            "showbackground": true,
            "ticks": "",
            "zerolinecolor": "white"
           },
           "zaxis": {
            "backgroundcolor": "#E5ECF6",
            "gridcolor": "white",
            "gridwidth": 2,
            "linecolor": "white",
            "showbackground": true,
            "ticks": "",
            "zerolinecolor": "white"
           }
          },
          "shapedefaults": {
           "line": {
            "color": "#2a3f5f"
           }
          },
          "ternary": {
           "aaxis": {
            "gridcolor": "white",
            "linecolor": "white",
            "ticks": ""
           },
           "baxis": {
            "gridcolor": "white",
            "linecolor": "white",
            "ticks": ""
           },
           "bgcolor": "#E5ECF6",
           "caxis": {
            "gridcolor": "white",
            "linecolor": "white",
            "ticks": ""
           }
          },
          "title": {
           "x": 0.05
          },
          "xaxis": {
           "automargin": true,
           "gridcolor": "white",
           "linecolor": "white",
           "ticks": "",
           "title": {
            "standoff": 15
           },
           "zerolinecolor": "white",
           "zerolinewidth": 2
          },
          "yaxis": {
           "automargin": true,
           "gridcolor": "white",
           "linecolor": "white",
           "ticks": "",
           "title": {
            "standoff": 15
           },
           "zerolinecolor": "white",
           "zerolinewidth": 2
          }
         }
        },
        "title": {
         "text": "C:/Users/biagi/Desktop/LCs to inspect deltat/CLEAN_GRBs_MAGNITUDES_December2022/Debugging\\050709A_arXiv_gcn_mag_regatheredNavonil_recheckedBiagio.txt"
        },
        "xaxis": {
         "anchor": "y",
         "domain": [
          0,
          1
         ],
         "title": {
          "text": "log Time (s)"
         }
        },
        "yaxis": {
         "anchor": "x",
         "domain": [
          0,
          1
         ],
         "title": {
          "text": "Mag"
         }
        }
       }
      },
      "text/html": [
       "<div>                            <div id=\"4277792a-9d5b-4db4-a163-b8a191299680\" class=\"plotly-graph-div\" style=\"height:525px; width:100%;\"></div>            <script type=\"text/javascript\">                require([\"plotly\"], function(Plotly) {                    window.PLOTLYENV=window.PLOTLYENV || {};                                    if (document.getElementById(\"4277792a-9d5b-4db4-a163-b8a191299680\")) {                    Plotly.newPlot(                        \"4277792a-9d5b-4db4-a163-b8a191299680\",                        [{\"customdata\":[[\"astro-ph0604153\"],[\"arXiv1603.07869\"],[\"astro-ph0604153\"],[\"arXiv1603.07869\"],[\"astro-ph0509144\"],[\"astro-ph0604153\"],[\"arXiv1603.07869\"],[\"astro-ph0510110\"]],\"error_y\":{\"array\":[0.06,0.07,0.28,0.25,0.07,0.07,0.08,0.15]},\"hovertemplate\":\"color=R (8)<br>x=%{x}<br>y=%{y}<br>Source=%{customdata[0]}<extra></extra>\",\"legendgroup\":\"R (8)\",\"marker\":{\"color\":\"#636efa\",\"symbol\":\"circle\"},\"mode\":\"markers\",\"name\":\"R (8)\",\"orientation\":\"v\",\"showlegend\":true,\"x\":[5.087760128342546,5.100349863935535,5.314221257931508,5.324831665357307,5.329648009757911,5.32965004274811,5.329952851988349,5.470592756433236],\"xaxis\":\"x\",\"y\":[-22.71,-22.8,-23.46,-23.55,-23.83,-23.83,-23.8,-21.05],\"yaxis\":\"y\",\"type\":\"scatter\"},{\"customdata\":[[\"arXiv1603.07869\"]],\"error_y\":{\"array\":[0.2]},\"hovertemplate\":\"color=I (1)<br>x=%{x}<br>y=%{y}<br>Source=%{customdata[0]}<extra></extra>\",\"legendgroup\":\"I (1)\",\"marker\":{\"color\":\"#EF553B\",\"symbol\":\"circle\"},\"mode\":\"markers\",\"name\":\"I (1)\",\"orientation\":\"v\",\"showlegend\":true,\"x\":[5.327201537985229],\"xaxis\":\"x\",\"y\":[-24.1],\"yaxis\":\"y\",\"type\":\"scatter\"},{\"customdata\":[[\"astro-ph0509144\"],[\"astro-ph0604153\"],[\"arXiv1603.07869\"]],\"error_y\":{\"array\":[0.1,0.1,0.15]},\"hovertemplate\":\"color=V (3)<br>x=%{x}<br>y=%{y}<br>Source=%{customdata[0]}<extra></extra>\",\"legendgroup\":\"V (3)\",\"marker\":{\"color\":\"#00cc96\",\"symbol\":\"circle\"},\"mode\":\"markers\",\"name\":\"V (3)\",\"orientation\":\"v\",\"showlegend\":true,\"x\":[5.328059371631484,5.328065492924004,5.328363291602574],\"xaxis\":\"x\",\"y\":[-24.38,-24.38,-24.45],\"yaxis\":\"y\",\"type\":\"scatter\"},{\"customdata\":[[\"astro-ph0510110\"],[\"astro-ph0604153\"],[\"astro-ph0510110\"]],\"error_y\":{\"array\":[0.7,0.7,0.1]},\"hovertemplate\":\"color=K' (3)<br>x=%{x}<br>y=%{y}<br>Source=%{customdata[0]}<extra></extra>\",\"legendgroup\":\"K' (3)\",\"marker\":{\"color\":\"#ab63fa\",\"symbol\":\"circle\"},\"mode\":\"markers\",\"name\":\"K' (3)\",\"orientation\":\"v\",\"showlegend\":true,\"x\":[5.687117658182867,5.688208853162459,6.157710561301971],\"xaxis\":\"x\",\"y\":[-22.1,-22.1,-19.2],\"yaxis\":\"y\",\"type\":\"scatter\"},{\"customdata\":[[\"astro-ph0604153\"],[\"astro-ph0604153\"],[\"astro-ph0604153\"]],\"error_y\":{\"array\":[0.02,0.05,0.27]},\"hovertemplate\":\"color=F814W (3)<br>x=%{x}<br>y=%{y}<br>Source=%{customdata[0]}<extra></extra>\",\"legendgroup\":\"F814W (3)\",\"marker\":{\"color\":\"#FFA15A\",\"symbol\":\"circle\"},\"mode\":\"markers\",\"name\":\"F814W (3)\",\"orientation\":\"v\",\"showlegend\":true,\"x\":[5.687299714515165,5.926581654354794,6.20682587603185],\"xaxis\":\"x\",\"y\":[-25.08,-25.84,-27.81],\"yaxis\":\"y\",\"type\":\"scatter\"}],                        {\"template\":{\"data\":{\"histogram2dcontour\":[{\"type\":\"histogram2dcontour\",\"colorbar\":{\"outlinewidth\":0,\"ticks\":\"\"},\"colorscale\":[[0.0,\"#0d0887\"],[0.1111111111111111,\"#46039f\"],[0.2222222222222222,\"#7201a8\"],[0.3333333333333333,\"#9c179e\"],[0.4444444444444444,\"#bd3786\"],[0.5555555555555556,\"#d8576b\"],[0.6666666666666666,\"#ed7953\"],[0.7777777777777778,\"#fb9f3a\"],[0.8888888888888888,\"#fdca26\"],[1.0,\"#f0f921\"]]}],\"choropleth\":[{\"type\":\"choropleth\",\"colorbar\":{\"outlinewidth\":0,\"ticks\":\"\"}}],\"histogram2d\":[{\"type\":\"histogram2d\",\"colorbar\":{\"outlinewidth\":0,\"ticks\":\"\"},\"colorscale\":[[0.0,\"#0d0887\"],[0.1111111111111111,\"#46039f\"],[0.2222222222222222,\"#7201a8\"],[0.3333333333333333,\"#9c179e\"],[0.4444444444444444,\"#bd3786\"],[0.5555555555555556,\"#d8576b\"],[0.6666666666666666,\"#ed7953\"],[0.7777777777777778,\"#fb9f3a\"],[0.8888888888888888,\"#fdca26\"],[1.0,\"#f0f921\"]]}],\"heatmap\":[{\"type\":\"heatmap\",\"colorbar\":{\"outlinewidth\":0,\"ticks\":\"\"},\"colorscale\":[[0.0,\"#0d0887\"],[0.1111111111111111,\"#46039f\"],[0.2222222222222222,\"#7201a8\"],[0.3333333333333333,\"#9c179e\"],[0.4444444444444444,\"#bd3786\"],[0.5555555555555556,\"#d8576b\"],[0.6666666666666666,\"#ed7953\"],[0.7777777777777778,\"#fb9f3a\"],[0.8888888888888888,\"#fdca26\"],[1.0,\"#f0f921\"]]}],\"heatmapgl\":[{\"type\":\"heatmapgl\",\"colorbar\":{\"outlinewidth\":0,\"ticks\":\"\"},\"colorscale\":[[0.0,\"#0d0887\"],[0.1111111111111111,\"#46039f\"],[0.2222222222222222,\"#7201a8\"],[0.3333333333333333,\"#9c179e\"],[0.4444444444444444,\"#bd3786\"],[0.5555555555555556,\"#d8576b\"],[0.6666666666666666,\"#ed7953\"],[0.7777777777777778,\"#fb9f3a\"],[0.8888888888888888,\"#fdca26\"],[1.0,\"#f0f921\"]]}],\"contourcarpet\":[{\"type\":\"contourcarpet\",\"colorbar\":{\"outlinewidth\":0,\"ticks\":\"\"}}],\"contour\":[{\"type\":\"contour\",\"colorbar\":{\"outlinewidth\":0,\"ticks\":\"\"},\"colorscale\":[[0.0,\"#0d0887\"],[0.1111111111111111,\"#46039f\"],[0.2222222222222222,\"#7201a8\"],[0.3333333333333333,\"#9c179e\"],[0.4444444444444444,\"#bd3786\"],[0.5555555555555556,\"#d8576b\"],[0.6666666666666666,\"#ed7953\"],[0.7777777777777778,\"#fb9f3a\"],[0.8888888888888888,\"#fdca26\"],[1.0,\"#f0f921\"]]}],\"surface\":[{\"type\":\"surface\",\"colorbar\":{\"outlinewidth\":0,\"ticks\":\"\"},\"colorscale\":[[0.0,\"#0d0887\"],[0.1111111111111111,\"#46039f\"],[0.2222222222222222,\"#7201a8\"],[0.3333333333333333,\"#9c179e\"],[0.4444444444444444,\"#bd3786\"],[0.5555555555555556,\"#d8576b\"],[0.6666666666666666,\"#ed7953\"],[0.7777777777777778,\"#fb9f3a\"],[0.8888888888888888,\"#fdca26\"],[1.0,\"#f0f921\"]]}],\"mesh3d\":[{\"type\":\"mesh3d\",\"colorbar\":{\"outlinewidth\":0,\"ticks\":\"\"}}],\"scatter\":[{\"fillpattern\":{\"fillmode\":\"overlay\",\"size\":10,\"solidity\":0.2},\"type\":\"scatter\"}],\"parcoords\":[{\"type\":\"parcoords\",\"line\":{\"colorbar\":{\"outlinewidth\":0,\"ticks\":\"\"}}}],\"scatterpolargl\":[{\"type\":\"scatterpolargl\",\"marker\":{\"colorbar\":{\"outlinewidth\":0,\"ticks\":\"\"}}}],\"bar\":[{\"error_x\":{\"color\":\"#2a3f5f\"},\"error_y\":{\"color\":\"#2a3f5f\"},\"marker\":{\"line\":{\"color\":\"#E5ECF6\",\"width\":0.5},\"pattern\":{\"fillmode\":\"overlay\",\"size\":10,\"solidity\":0.2}},\"type\":\"bar\"}],\"scattergeo\":[{\"type\":\"scattergeo\",\"marker\":{\"colorbar\":{\"outlinewidth\":0,\"ticks\":\"\"}}}],\"scatterpolar\":[{\"type\":\"scatterpolar\",\"marker\":{\"colorbar\":{\"outlinewidth\":0,\"ticks\":\"\"}}}],\"histogram\":[{\"marker\":{\"pattern\":{\"fillmode\":\"overlay\",\"size\":10,\"solidity\":0.2}},\"type\":\"histogram\"}],\"scattergl\":[{\"type\":\"scattergl\",\"marker\":{\"colorbar\":{\"outlinewidth\":0,\"ticks\":\"\"}}}],\"scatter3d\":[{\"type\":\"scatter3d\",\"line\":{\"colorbar\":{\"outlinewidth\":0,\"ticks\":\"\"}},\"marker\":{\"colorbar\":{\"outlinewidth\":0,\"ticks\":\"\"}}}],\"scattermapbox\":[{\"type\":\"scattermapbox\",\"marker\":{\"colorbar\":{\"outlinewidth\":0,\"ticks\":\"\"}}}],\"scatterternary\":[{\"type\":\"scatterternary\",\"marker\":{\"colorbar\":{\"outlinewidth\":0,\"ticks\":\"\"}}}],\"scattercarpet\":[{\"type\":\"scattercarpet\",\"marker\":{\"colorbar\":{\"outlinewidth\":0,\"ticks\":\"\"}}}],\"carpet\":[{\"aaxis\":{\"endlinecolor\":\"#2a3f5f\",\"gridcolor\":\"white\",\"linecolor\":\"white\",\"minorgridcolor\":\"white\",\"startlinecolor\":\"#2a3f5f\"},\"baxis\":{\"endlinecolor\":\"#2a3f5f\",\"gridcolor\":\"white\",\"linecolor\":\"white\",\"minorgridcolor\":\"white\",\"startlinecolor\":\"#2a3f5f\"},\"type\":\"carpet\"}],\"table\":[{\"cells\":{\"fill\":{\"color\":\"#EBF0F8\"},\"line\":{\"color\":\"white\"}},\"header\":{\"fill\":{\"color\":\"#C8D4E3\"},\"line\":{\"color\":\"white\"}},\"type\":\"table\"}],\"barpolar\":[{\"marker\":{\"line\":{\"color\":\"#E5ECF6\",\"width\":0.5},\"pattern\":{\"fillmode\":\"overlay\",\"size\":10,\"solidity\":0.2}},\"type\":\"barpolar\"}],\"pie\":[{\"automargin\":true,\"type\":\"pie\"}]},\"layout\":{\"autotypenumbers\":\"strict\",\"colorway\":[\"#636efa\",\"#EF553B\",\"#00cc96\",\"#ab63fa\",\"#FFA15A\",\"#19d3f3\",\"#FF6692\",\"#B6E880\",\"#FF97FF\",\"#FECB52\"],\"font\":{\"color\":\"#2a3f5f\"},\"hovermode\":\"closest\",\"hoverlabel\":{\"align\":\"left\"},\"paper_bgcolor\":\"white\",\"plot_bgcolor\":\"#E5ECF6\",\"polar\":{\"bgcolor\":\"#E5ECF6\",\"angularaxis\":{\"gridcolor\":\"white\",\"linecolor\":\"white\",\"ticks\":\"\"},\"radialaxis\":{\"gridcolor\":\"white\",\"linecolor\":\"white\",\"ticks\":\"\"}},\"ternary\":{\"bgcolor\":\"#E5ECF6\",\"aaxis\":{\"gridcolor\":\"white\",\"linecolor\":\"white\",\"ticks\":\"\"},\"baxis\":{\"gridcolor\":\"white\",\"linecolor\":\"white\",\"ticks\":\"\"},\"caxis\":{\"gridcolor\":\"white\",\"linecolor\":\"white\",\"ticks\":\"\"}},\"coloraxis\":{\"colorbar\":{\"outlinewidth\":0,\"ticks\":\"\"}},\"colorscale\":{\"sequential\":[[0.0,\"#0d0887\"],[0.1111111111111111,\"#46039f\"],[0.2222222222222222,\"#7201a8\"],[0.3333333333333333,\"#9c179e\"],[0.4444444444444444,\"#bd3786\"],[0.5555555555555556,\"#d8576b\"],[0.6666666666666666,\"#ed7953\"],[0.7777777777777778,\"#fb9f3a\"],[0.8888888888888888,\"#fdca26\"],[1.0,\"#f0f921\"]],\"sequentialminus\":[[0.0,\"#0d0887\"],[0.1111111111111111,\"#46039f\"],[0.2222222222222222,\"#7201a8\"],[0.3333333333333333,\"#9c179e\"],[0.4444444444444444,\"#bd3786\"],[0.5555555555555556,\"#d8576b\"],[0.6666666666666666,\"#ed7953\"],[0.7777777777777778,\"#fb9f3a\"],[0.8888888888888888,\"#fdca26\"],[1.0,\"#f0f921\"]],\"diverging\":[[0,\"#8e0152\"],[0.1,\"#c51b7d\"],[0.2,\"#de77ae\"],[0.3,\"#f1b6da\"],[0.4,\"#fde0ef\"],[0.5,\"#f7f7f7\"],[0.6,\"#e6f5d0\"],[0.7,\"#b8e186\"],[0.8,\"#7fbc41\"],[0.9,\"#4d9221\"],[1,\"#276419\"]]},\"xaxis\":{\"gridcolor\":\"white\",\"linecolor\":\"white\",\"ticks\":\"\",\"title\":{\"standoff\":15},\"zerolinecolor\":\"white\",\"automargin\":true,\"zerolinewidth\":2},\"yaxis\":{\"gridcolor\":\"white\",\"linecolor\":\"white\",\"ticks\":\"\",\"title\":{\"standoff\":15},\"zerolinecolor\":\"white\",\"automargin\":true,\"zerolinewidth\":2},\"scene\":{\"xaxis\":{\"backgroundcolor\":\"#E5ECF6\",\"gridcolor\":\"white\",\"linecolor\":\"white\",\"showbackground\":true,\"ticks\":\"\",\"zerolinecolor\":\"white\",\"gridwidth\":2},\"yaxis\":{\"backgroundcolor\":\"#E5ECF6\",\"gridcolor\":\"white\",\"linecolor\":\"white\",\"showbackground\":true,\"ticks\":\"\",\"zerolinecolor\":\"white\",\"gridwidth\":2},\"zaxis\":{\"backgroundcolor\":\"#E5ECF6\",\"gridcolor\":\"white\",\"linecolor\":\"white\",\"showbackground\":true,\"ticks\":\"\",\"zerolinecolor\":\"white\",\"gridwidth\":2}},\"shapedefaults\":{\"line\":{\"color\":\"#2a3f5f\"}},\"annotationdefaults\":{\"arrowcolor\":\"#2a3f5f\",\"arrowhead\":0,\"arrowwidth\":1},\"geo\":{\"bgcolor\":\"white\",\"landcolor\":\"#E5ECF6\",\"subunitcolor\":\"white\",\"showland\":true,\"showlakes\":true,\"lakecolor\":\"white\"},\"title\":{\"x\":0.05},\"mapbox\":{\"style\":\"light\"}}},\"xaxis\":{\"anchor\":\"y\",\"domain\":[0.0,1.0],\"title\":{\"text\":\"log Time (s)\"}},\"yaxis\":{\"anchor\":\"x\",\"domain\":[0.0,1.0],\"title\":{\"text\":\"Mag\"}},\"legend\":{\"title\":{\"text\":\"color\"},\"tracegroupgap\":0},\"title\":{\"text\":\"C:/Users/biagi/Desktop/LCs to inspect deltat/CLEAN_GRBs_MAGNITUDES_December2022/Debugging\\\\050709A_arXiv_gcn_mag_regatheredNavonil_recheckedBiagio.txt\"}},                        {\"responsive\": true}                    ).then(function(){\n",
       "                            \n",
       "var gd = document.getElementById('4277792a-9d5b-4db4-a163-b8a191299680');\n",
       "var x = new MutationObserver(function (mutations, observer) {{\n",
       "        var display = window.getComputedStyle(gd).display;\n",
       "        if (!display || display === 'none') {{\n",
       "            console.log([gd, 'removed!']);\n",
       "            Plotly.purge(gd);\n",
       "            observer.disconnect();\n",
       "        }}\n",
       "}});\n",
       "\n",
       "// Listen for the removal of the full notebook cells\n",
       "var notebookContainer = gd.closest('#notebook-container');\n",
       "if (notebookContainer) {{\n",
       "    x.observe(notebookContainer, {childList: true});\n",
       "}}\n",
       "\n",
       "// Listen for the clearing of the current output cell\n",
       "var outputEl = gd.closest('.output');\n",
       "if (outputEl) {{\n",
       "    x.observe(outputEl, {childList: true});\n",
       "}}\n",
       "\n",
       "                        })                };                });            </script>        </div>"
      ]
     },
     "metadata": {},
     "output_type": "display_data"
    },
    {
     "name": "stdout",
     "output_type": "stream",
     "text": [
      "The most numerous filter of this GRB:  R , with 8 occurrences\n",
      "The second most numerous filter of this GRB:  V , with 3 occurrences\n"
     ]
    },
    {
     "data": {
      "application/vnd.plotly.v1+json": {
       "config": {
        "plotlyServerURL": "https://plot.ly"
       },
       "data": [
        {
         "customdata": [
          [
           "astro-ph0604153"
          ],
          [
           "arXiv1603.07869"
          ],
          [
           "astro-ph0604153"
          ],
          [
           "arXiv1603.07869"
          ],
          [
           "astro-ph0509144"
          ],
          [
           "astro-ph0510110"
          ]
         ],
         "error_y": {
          "array": [
           0.06,
           0.07,
           0.28,
           0.25,
           0.07,
           0.15
          ]
         },
         "hovertemplate": "color=R (8)<br>x=%{x}<br>y=%{y}<br>Source=%{customdata[0]}<extra></extra>",
         "legendgroup": "R (8)",
         "marker": {
          "color": "#636efa",
          "symbol": "circle"
         },
         "mode": "markers",
         "name": "R (8)",
         "orientation": "v",
         "showlegend": true,
         "type": "scatter",
         "x": [
          5.09,
          5.1,
          5.31,
          5.32,
          5.33,
          5.47
         ],
         "xaxis": "x",
         "y": [
          -22.71,
          -22.8,
          -23.46,
          -23.55,
          -23.83,
          -21.05
         ],
         "yaxis": "y"
        },
        {
         "customdata": [
          [
           "astro-ph0510110"
          ],
          [
           "astro-ph0510110"
          ]
         ],
         "error_y": {
          "array": [
           0.7,
           0.1
          ]
         },
         "hovertemplate": "color=K' (3)<br>x=%{x}<br>y=%{y}<br>Source=%{customdata[0]}<extra></extra>",
         "legendgroup": "K' (3)",
         "marker": {
          "color": "#EF553B",
          "symbol": "circle"
         },
         "mode": "markers",
         "name": "K' (3)",
         "orientation": "v",
         "showlegend": true,
         "type": "scatter",
         "x": [
          5.69,
          6.16
         ],
         "xaxis": "x",
         "y": [
          -22.1,
          -19.2
         ],
         "yaxis": "y"
        },
        {
         "customdata": [
          [
           "astro-ph0604153"
          ],
          [
           "astro-ph0604153"
          ]
         ],
         "error_y": {
          "array": [
           0.05,
           0.27
          ]
         },
         "hovertemplate": "color=F814W (3)<br>x=%{x}<br>y=%{y}<br>Source=%{customdata[0]}<extra></extra>",
         "legendgroup": "F814W (3)",
         "marker": {
          "color": "#00cc96",
          "symbol": "circle"
         },
         "mode": "markers",
         "name": "F814W (3)",
         "orientation": "v",
         "showlegend": true,
         "type": "scatter",
         "x": [
          5.93,
          6.21
         ],
         "xaxis": "x",
         "y": [
          -25.84,
          -27.81
         ],
         "yaxis": "y"
        }
       ],
       "layout": {
        "legend": {
         "title": {
          "text": "color"
         },
         "tracegroupgap": 0
        },
        "template": {
         "data": {
          "bar": [
           {
            "error_x": {
             "color": "#2a3f5f"
            },
            "error_y": {
             "color": "#2a3f5f"
            },
            "marker": {
             "line": {
              "color": "#E5ECF6",
              "width": 0.5
             },
             "pattern": {
              "fillmode": "overlay",
              "size": 10,
              "solidity": 0.2
             }
            },
            "type": "bar"
           }
          ],
          "barpolar": [
           {
            "marker": {
             "line": {
              "color": "#E5ECF6",
              "width": 0.5
             },
             "pattern": {
              "fillmode": "overlay",
              "size": 10,
              "solidity": 0.2
             }
            },
            "type": "barpolar"
           }
          ],
          "carpet": [
           {
            "aaxis": {
             "endlinecolor": "#2a3f5f",
             "gridcolor": "white",
             "linecolor": "white",
             "minorgridcolor": "white",
             "startlinecolor": "#2a3f5f"
            },
            "baxis": {
             "endlinecolor": "#2a3f5f",
             "gridcolor": "white",
             "linecolor": "white",
             "minorgridcolor": "white",
             "startlinecolor": "#2a3f5f"
            },
            "type": "carpet"
           }
          ],
          "choropleth": [
           {
            "colorbar": {
             "outlinewidth": 0,
             "ticks": ""
            },
            "type": "choropleth"
           }
          ],
          "contour": [
           {
            "colorbar": {
             "outlinewidth": 0,
             "ticks": ""
            },
            "colorscale": [
             [
              0,
              "#0d0887"
             ],
             [
              0.1111111111111111,
              "#46039f"
             ],
             [
              0.2222222222222222,
              "#7201a8"
             ],
             [
              0.3333333333333333,
              "#9c179e"
             ],
             [
              0.4444444444444444,
              "#bd3786"
             ],
             [
              0.5555555555555556,
              "#d8576b"
             ],
             [
              0.6666666666666666,
              "#ed7953"
             ],
             [
              0.7777777777777778,
              "#fb9f3a"
             ],
             [
              0.8888888888888888,
              "#fdca26"
             ],
             [
              1,
              "#f0f921"
             ]
            ],
            "type": "contour"
           }
          ],
          "contourcarpet": [
           {
            "colorbar": {
             "outlinewidth": 0,
             "ticks": ""
            },
            "type": "contourcarpet"
           }
          ],
          "heatmap": [
           {
            "colorbar": {
             "outlinewidth": 0,
             "ticks": ""
            },
            "colorscale": [
             [
              0,
              "#0d0887"
             ],
             [
              0.1111111111111111,
              "#46039f"
             ],
             [
              0.2222222222222222,
              "#7201a8"
             ],
             [
              0.3333333333333333,
              "#9c179e"
             ],
             [
              0.4444444444444444,
              "#bd3786"
             ],
             [
              0.5555555555555556,
              "#d8576b"
             ],
             [
              0.6666666666666666,
              "#ed7953"
             ],
             [
              0.7777777777777778,
              "#fb9f3a"
             ],
             [
              0.8888888888888888,
              "#fdca26"
             ],
             [
              1,
              "#f0f921"
             ]
            ],
            "type": "heatmap"
           }
          ],
          "heatmapgl": [
           {
            "colorbar": {
             "outlinewidth": 0,
             "ticks": ""
            },
            "colorscale": [
             [
              0,
              "#0d0887"
             ],
             [
              0.1111111111111111,
              "#46039f"
             ],
             [
              0.2222222222222222,
              "#7201a8"
             ],
             [
              0.3333333333333333,
              "#9c179e"
             ],
             [
              0.4444444444444444,
              "#bd3786"
             ],
             [
              0.5555555555555556,
              "#d8576b"
             ],
             [
              0.6666666666666666,
              "#ed7953"
             ],
             [
              0.7777777777777778,
              "#fb9f3a"
             ],
             [
              0.8888888888888888,
              "#fdca26"
             ],
             [
              1,
              "#f0f921"
             ]
            ],
            "type": "heatmapgl"
           }
          ],
          "histogram": [
           {
            "marker": {
             "pattern": {
              "fillmode": "overlay",
              "size": 10,
              "solidity": 0.2
             }
            },
            "type": "histogram"
           }
          ],
          "histogram2d": [
           {
            "colorbar": {
             "outlinewidth": 0,
             "ticks": ""
            },
            "colorscale": [
             [
              0,
              "#0d0887"
             ],
             [
              0.1111111111111111,
              "#46039f"
             ],
             [
              0.2222222222222222,
              "#7201a8"
             ],
             [
              0.3333333333333333,
              "#9c179e"
             ],
             [
              0.4444444444444444,
              "#bd3786"
             ],
             [
              0.5555555555555556,
              "#d8576b"
             ],
             [
              0.6666666666666666,
              "#ed7953"
             ],
             [
              0.7777777777777778,
              "#fb9f3a"
             ],
             [
              0.8888888888888888,
              "#fdca26"
             ],
             [
              1,
              "#f0f921"
             ]
            ],
            "type": "histogram2d"
           }
          ],
          "histogram2dcontour": [
           {
            "colorbar": {
             "outlinewidth": 0,
             "ticks": ""
            },
            "colorscale": [
             [
              0,
              "#0d0887"
             ],
             [
              0.1111111111111111,
              "#46039f"
             ],
             [
              0.2222222222222222,
              "#7201a8"
             ],
             [
              0.3333333333333333,
              "#9c179e"
             ],
             [
              0.4444444444444444,
              "#bd3786"
             ],
             [
              0.5555555555555556,
              "#d8576b"
             ],
             [
              0.6666666666666666,
              "#ed7953"
             ],
             [
              0.7777777777777778,
              "#fb9f3a"
             ],
             [
              0.8888888888888888,
              "#fdca26"
             ],
             [
              1,
              "#f0f921"
             ]
            ],
            "type": "histogram2dcontour"
           }
          ],
          "mesh3d": [
           {
            "colorbar": {
             "outlinewidth": 0,
             "ticks": ""
            },
            "type": "mesh3d"
           }
          ],
          "parcoords": [
           {
            "line": {
             "colorbar": {
              "outlinewidth": 0,
              "ticks": ""
             }
            },
            "type": "parcoords"
           }
          ],
          "pie": [
           {
            "automargin": true,
            "type": "pie"
           }
          ],
          "scatter": [
           {
            "fillpattern": {
             "fillmode": "overlay",
             "size": 10,
             "solidity": 0.2
            },
            "type": "scatter"
           }
          ],
          "scatter3d": [
           {
            "line": {
             "colorbar": {
              "outlinewidth": 0,
              "ticks": ""
             }
            },
            "marker": {
             "colorbar": {
              "outlinewidth": 0,
              "ticks": ""
             }
            },
            "type": "scatter3d"
           }
          ],
          "scattercarpet": [
           {
            "marker": {
             "colorbar": {
              "outlinewidth": 0,
              "ticks": ""
             }
            },
            "type": "scattercarpet"
           }
          ],
          "scattergeo": [
           {
            "marker": {
             "colorbar": {
              "outlinewidth": 0,
              "ticks": ""
             }
            },
            "type": "scattergeo"
           }
          ],
          "scattergl": [
           {
            "marker": {
             "colorbar": {
              "outlinewidth": 0,
              "ticks": ""
             }
            },
            "type": "scattergl"
           }
          ],
          "scattermapbox": [
           {
            "marker": {
             "colorbar": {
              "outlinewidth": 0,
              "ticks": ""
             }
            },
            "type": "scattermapbox"
           }
          ],
          "scatterpolar": [
           {
            "marker": {
             "colorbar": {
              "outlinewidth": 0,
              "ticks": ""
             }
            },
            "type": "scatterpolar"
           }
          ],
          "scatterpolargl": [
           {
            "marker": {
             "colorbar": {
              "outlinewidth": 0,
              "ticks": ""
             }
            },
            "type": "scatterpolargl"
           }
          ],
          "scatterternary": [
           {
            "marker": {
             "colorbar": {
              "outlinewidth": 0,
              "ticks": ""
             }
            },
            "type": "scatterternary"
           }
          ],
          "surface": [
           {
            "colorbar": {
             "outlinewidth": 0,
             "ticks": ""
            },
            "colorscale": [
             [
              0,
              "#0d0887"
             ],
             [
              0.1111111111111111,
              "#46039f"
             ],
             [
              0.2222222222222222,
              "#7201a8"
             ],
             [
              0.3333333333333333,
              "#9c179e"
             ],
             [
              0.4444444444444444,
              "#bd3786"
             ],
             [
              0.5555555555555556,
              "#d8576b"
             ],
             [
              0.6666666666666666,
              "#ed7953"
             ],
             [
              0.7777777777777778,
              "#fb9f3a"
             ],
             [
              0.8888888888888888,
              "#fdca26"
             ],
             [
              1,
              "#f0f921"
             ]
            ],
            "type": "surface"
           }
          ],
          "table": [
           {
            "cells": {
             "fill": {
              "color": "#EBF0F8"
             },
             "line": {
              "color": "white"
             }
            },
            "header": {
             "fill": {
              "color": "#C8D4E3"
             },
             "line": {
              "color": "white"
             }
            },
            "type": "table"
           }
          ]
         },
         "layout": {
          "annotationdefaults": {
           "arrowcolor": "#2a3f5f",
           "arrowhead": 0,
           "arrowwidth": 1
          },
          "autotypenumbers": "strict",
          "coloraxis": {
           "colorbar": {
            "outlinewidth": 0,
            "ticks": ""
           }
          },
          "colorscale": {
           "diverging": [
            [
             0,
             "#8e0152"
            ],
            [
             0.1,
             "#c51b7d"
            ],
            [
             0.2,
             "#de77ae"
            ],
            [
             0.3,
             "#f1b6da"
            ],
            [
             0.4,
             "#fde0ef"
            ],
            [
             0.5,
             "#f7f7f7"
            ],
            [
             0.6,
             "#e6f5d0"
            ],
            [
             0.7,
             "#b8e186"
            ],
            [
             0.8,
             "#7fbc41"
            ],
            [
             0.9,
             "#4d9221"
            ],
            [
             1,
             "#276419"
            ]
           ],
           "sequential": [
            [
             0,
             "#0d0887"
            ],
            [
             0.1111111111111111,
             "#46039f"
            ],
            [
             0.2222222222222222,
             "#7201a8"
            ],
            [
             0.3333333333333333,
             "#9c179e"
            ],
            [
             0.4444444444444444,
             "#bd3786"
            ],
            [
             0.5555555555555556,
             "#d8576b"
            ],
            [
             0.6666666666666666,
             "#ed7953"
            ],
            [
             0.7777777777777778,
             "#fb9f3a"
            ],
            [
             0.8888888888888888,
             "#fdca26"
            ],
            [
             1,
             "#f0f921"
            ]
           ],
           "sequentialminus": [
            [
             0,
             "#0d0887"
            ],
            [
             0.1111111111111111,
             "#46039f"
            ],
            [
             0.2222222222222222,
             "#7201a8"
            ],
            [
             0.3333333333333333,
             "#9c179e"
            ],
            [
             0.4444444444444444,
             "#bd3786"
            ],
            [
             0.5555555555555556,
             "#d8576b"
            ],
            [
             0.6666666666666666,
             "#ed7953"
            ],
            [
             0.7777777777777778,
             "#fb9f3a"
            ],
            [
             0.8888888888888888,
             "#fdca26"
            ],
            [
             1,
             "#f0f921"
            ]
           ]
          },
          "colorway": [
           "#636efa",
           "#EF553B",
           "#00cc96",
           "#ab63fa",
           "#FFA15A",
           "#19d3f3",
           "#FF6692",
           "#B6E880",
           "#FF97FF",
           "#FECB52"
          ],
          "font": {
           "color": "#2a3f5f"
          },
          "geo": {
           "bgcolor": "white",
           "lakecolor": "white",
           "landcolor": "#E5ECF6",
           "showlakes": true,
           "showland": true,
           "subunitcolor": "white"
          },
          "hoverlabel": {
           "align": "left"
          },
          "hovermode": "closest",
          "mapbox": {
           "style": "light"
          },
          "paper_bgcolor": "white",
          "plot_bgcolor": "#E5ECF6",
          "polar": {
           "angularaxis": {
            "gridcolor": "white",
            "linecolor": "white",
            "ticks": ""
           },
           "bgcolor": "#E5ECF6",
           "radialaxis": {
            "gridcolor": "white",
            "linecolor": "white",
            "ticks": ""
           }
          },
          "scene": {
           "xaxis": {
            "backgroundcolor": "#E5ECF6",
            "gridcolor": "white",
            "gridwidth": 2,
            "linecolor": "white",
            "showbackground": true,
            "ticks": "",
            "zerolinecolor": "white"
           },
           "yaxis": {
            "backgroundcolor": "#E5ECF6",
            "gridcolor": "white",
            "gridwidth": 2,
            "linecolor": "white",
            "showbackground": true,
            "ticks": "",
            "zerolinecolor": "white"
           },
           "zaxis": {
            "backgroundcolor": "#E5ECF6",
            "gridcolor": "white",
            "gridwidth": 2,
            "linecolor": "white",
            "showbackground": true,
            "ticks": "",
            "zerolinecolor": "white"
           }
          },
          "shapedefaults": {
           "line": {
            "color": "#2a3f5f"
           }
          },
          "ternary": {
           "aaxis": {
            "gridcolor": "white",
            "linecolor": "white",
            "ticks": ""
           },
           "baxis": {
            "gridcolor": "white",
            "linecolor": "white",
            "ticks": ""
           },
           "bgcolor": "#E5ECF6",
           "caxis": {
            "gridcolor": "white",
            "linecolor": "white",
            "ticks": ""
           }
          },
          "title": {
           "x": 0.05
          },
          "xaxis": {
           "automargin": true,
           "gridcolor": "white",
           "linecolor": "white",
           "ticks": "",
           "title": {
            "standoff": 15
           },
           "zerolinecolor": "white",
           "zerolinewidth": 2
          },
          "yaxis": {
           "automargin": true,
           "gridcolor": "white",
           "linecolor": "white",
           "ticks": "",
           "title": {
            "standoff": 15
           },
           "zerolinecolor": "white",
           "zerolinewidth": 2
          }
         }
        },
        "title": {
         "text": "C:/Users/biagi/Desktop/LCs to inspect deltat/CLEAN_GRBs_MAGNITUDES_December2022/Debugging\\050709A_arXiv_gcn_mag_regatheredNavonil_recheckedBiagio.txt_RESCALED"
        },
        "xaxis": {
         "anchor": "y",
         "domain": [
          0,
          1
         ],
         "title": {
          "text": "log Time (s)"
         }
        },
        "yaxis": {
         "anchor": "x",
         "domain": [
          0,
          1
         ],
         "title": {
          "text": "Mag"
         }
        }
       }
      },
      "text/html": [
       "<div>                            <div id=\"29f71802-c106-45ad-a616-83fc3233bc97\" class=\"plotly-graph-div\" style=\"height:525px; width:100%;\"></div>            <script type=\"text/javascript\">                require([\"plotly\"], function(Plotly) {                    window.PLOTLYENV=window.PLOTLYENV || {};                                    if (document.getElementById(\"29f71802-c106-45ad-a616-83fc3233bc97\")) {                    Plotly.newPlot(                        \"29f71802-c106-45ad-a616-83fc3233bc97\",                        [{\"customdata\":[[\"astro-ph0604153\"],[\"arXiv1603.07869\"],[\"astro-ph0604153\"],[\"arXiv1603.07869\"],[\"astro-ph0509144\"],[\"astro-ph0510110\"]],\"error_y\":{\"array\":[0.06,0.07,0.28,0.25,0.07,0.15]},\"hovertemplate\":\"color=R (8)<br>x=%{x}<br>y=%{y}<br>Source=%{customdata[0]}<extra></extra>\",\"legendgroup\":\"R (8)\",\"marker\":{\"color\":\"#636efa\",\"symbol\":\"circle\"},\"mode\":\"markers\",\"name\":\"R (8)\",\"orientation\":\"v\",\"showlegend\":true,\"x\":[5.09,5.1,5.31,5.32,5.33,5.47],\"xaxis\":\"x\",\"y\":[-22.71,-22.8,-23.46,-23.55,-23.83,-21.05],\"yaxis\":\"y\",\"type\":\"scatter\"},{\"customdata\":[[\"astro-ph0510110\"],[\"astro-ph0510110\"]],\"error_y\":{\"array\":[0.7,0.1]},\"hovertemplate\":\"color=K' (3)<br>x=%{x}<br>y=%{y}<br>Source=%{customdata[0]}<extra></extra>\",\"legendgroup\":\"K' (3)\",\"marker\":{\"color\":\"#EF553B\",\"symbol\":\"circle\"},\"mode\":\"markers\",\"name\":\"K' (3)\",\"orientation\":\"v\",\"showlegend\":true,\"x\":[5.69,6.16],\"xaxis\":\"x\",\"y\":[-22.1,-19.2],\"yaxis\":\"y\",\"type\":\"scatter\"},{\"customdata\":[[\"astro-ph0604153\"],[\"astro-ph0604153\"]],\"error_y\":{\"array\":[0.05,0.27]},\"hovertemplate\":\"color=F814W (3)<br>x=%{x}<br>y=%{y}<br>Source=%{customdata[0]}<extra></extra>\",\"legendgroup\":\"F814W (3)\",\"marker\":{\"color\":\"#00cc96\",\"symbol\":\"circle\"},\"mode\":\"markers\",\"name\":\"F814W (3)\",\"orientation\":\"v\",\"showlegend\":true,\"x\":[5.93,6.21],\"xaxis\":\"x\",\"y\":[-25.84,-27.81],\"yaxis\":\"y\",\"type\":\"scatter\"}],                        {\"template\":{\"data\":{\"histogram2dcontour\":[{\"type\":\"histogram2dcontour\",\"colorbar\":{\"outlinewidth\":0,\"ticks\":\"\"},\"colorscale\":[[0.0,\"#0d0887\"],[0.1111111111111111,\"#46039f\"],[0.2222222222222222,\"#7201a8\"],[0.3333333333333333,\"#9c179e\"],[0.4444444444444444,\"#bd3786\"],[0.5555555555555556,\"#d8576b\"],[0.6666666666666666,\"#ed7953\"],[0.7777777777777778,\"#fb9f3a\"],[0.8888888888888888,\"#fdca26\"],[1.0,\"#f0f921\"]]}],\"choropleth\":[{\"type\":\"choropleth\",\"colorbar\":{\"outlinewidth\":0,\"ticks\":\"\"}}],\"histogram2d\":[{\"type\":\"histogram2d\",\"colorbar\":{\"outlinewidth\":0,\"ticks\":\"\"},\"colorscale\":[[0.0,\"#0d0887\"],[0.1111111111111111,\"#46039f\"],[0.2222222222222222,\"#7201a8\"],[0.3333333333333333,\"#9c179e\"],[0.4444444444444444,\"#bd3786\"],[0.5555555555555556,\"#d8576b\"],[0.6666666666666666,\"#ed7953\"],[0.7777777777777778,\"#fb9f3a\"],[0.8888888888888888,\"#fdca26\"],[1.0,\"#f0f921\"]]}],\"heatmap\":[{\"type\":\"heatmap\",\"colorbar\":{\"outlinewidth\":0,\"ticks\":\"\"},\"colorscale\":[[0.0,\"#0d0887\"],[0.1111111111111111,\"#46039f\"],[0.2222222222222222,\"#7201a8\"],[0.3333333333333333,\"#9c179e\"],[0.4444444444444444,\"#bd3786\"],[0.5555555555555556,\"#d8576b\"],[0.6666666666666666,\"#ed7953\"],[0.7777777777777778,\"#fb9f3a\"],[0.8888888888888888,\"#fdca26\"],[1.0,\"#f0f921\"]]}],\"heatmapgl\":[{\"type\":\"heatmapgl\",\"colorbar\":{\"outlinewidth\":0,\"ticks\":\"\"},\"colorscale\":[[0.0,\"#0d0887\"],[0.1111111111111111,\"#46039f\"],[0.2222222222222222,\"#7201a8\"],[0.3333333333333333,\"#9c179e\"],[0.4444444444444444,\"#bd3786\"],[0.5555555555555556,\"#d8576b\"],[0.6666666666666666,\"#ed7953\"],[0.7777777777777778,\"#fb9f3a\"],[0.8888888888888888,\"#fdca26\"],[1.0,\"#f0f921\"]]}],\"contourcarpet\":[{\"type\":\"contourcarpet\",\"colorbar\":{\"outlinewidth\":0,\"ticks\":\"\"}}],\"contour\":[{\"type\":\"contour\",\"colorbar\":{\"outlinewidth\":0,\"ticks\":\"\"},\"colorscale\":[[0.0,\"#0d0887\"],[0.1111111111111111,\"#46039f\"],[0.2222222222222222,\"#7201a8\"],[0.3333333333333333,\"#9c179e\"],[0.4444444444444444,\"#bd3786\"],[0.5555555555555556,\"#d8576b\"],[0.6666666666666666,\"#ed7953\"],[0.7777777777777778,\"#fb9f3a\"],[0.8888888888888888,\"#fdca26\"],[1.0,\"#f0f921\"]]}],\"surface\":[{\"type\":\"surface\",\"colorbar\":{\"outlinewidth\":0,\"ticks\":\"\"},\"colorscale\":[[0.0,\"#0d0887\"],[0.1111111111111111,\"#46039f\"],[0.2222222222222222,\"#7201a8\"],[0.3333333333333333,\"#9c179e\"],[0.4444444444444444,\"#bd3786\"],[0.5555555555555556,\"#d8576b\"],[0.6666666666666666,\"#ed7953\"],[0.7777777777777778,\"#fb9f3a\"],[0.8888888888888888,\"#fdca26\"],[1.0,\"#f0f921\"]]}],\"mesh3d\":[{\"type\":\"mesh3d\",\"colorbar\":{\"outlinewidth\":0,\"ticks\":\"\"}}],\"scatter\":[{\"fillpattern\":{\"fillmode\":\"overlay\",\"size\":10,\"solidity\":0.2},\"type\":\"scatter\"}],\"parcoords\":[{\"type\":\"parcoords\",\"line\":{\"colorbar\":{\"outlinewidth\":0,\"ticks\":\"\"}}}],\"scatterpolargl\":[{\"type\":\"scatterpolargl\",\"marker\":{\"colorbar\":{\"outlinewidth\":0,\"ticks\":\"\"}}}],\"bar\":[{\"error_x\":{\"color\":\"#2a3f5f\"},\"error_y\":{\"color\":\"#2a3f5f\"},\"marker\":{\"line\":{\"color\":\"#E5ECF6\",\"width\":0.5},\"pattern\":{\"fillmode\":\"overlay\",\"size\":10,\"solidity\":0.2}},\"type\":\"bar\"}],\"scattergeo\":[{\"type\":\"scattergeo\",\"marker\":{\"colorbar\":{\"outlinewidth\":0,\"ticks\":\"\"}}}],\"scatterpolar\":[{\"type\":\"scatterpolar\",\"marker\":{\"colorbar\":{\"outlinewidth\":0,\"ticks\":\"\"}}}],\"histogram\":[{\"marker\":{\"pattern\":{\"fillmode\":\"overlay\",\"size\":10,\"solidity\":0.2}},\"type\":\"histogram\"}],\"scattergl\":[{\"type\":\"scattergl\",\"marker\":{\"colorbar\":{\"outlinewidth\":0,\"ticks\":\"\"}}}],\"scatter3d\":[{\"type\":\"scatter3d\",\"line\":{\"colorbar\":{\"outlinewidth\":0,\"ticks\":\"\"}},\"marker\":{\"colorbar\":{\"outlinewidth\":0,\"ticks\":\"\"}}}],\"scattermapbox\":[{\"type\":\"scattermapbox\",\"marker\":{\"colorbar\":{\"outlinewidth\":0,\"ticks\":\"\"}}}],\"scatterternary\":[{\"type\":\"scatterternary\",\"marker\":{\"colorbar\":{\"outlinewidth\":0,\"ticks\":\"\"}}}],\"scattercarpet\":[{\"type\":\"scattercarpet\",\"marker\":{\"colorbar\":{\"outlinewidth\":0,\"ticks\":\"\"}}}],\"carpet\":[{\"aaxis\":{\"endlinecolor\":\"#2a3f5f\",\"gridcolor\":\"white\",\"linecolor\":\"white\",\"minorgridcolor\":\"white\",\"startlinecolor\":\"#2a3f5f\"},\"baxis\":{\"endlinecolor\":\"#2a3f5f\",\"gridcolor\":\"white\",\"linecolor\":\"white\",\"minorgridcolor\":\"white\",\"startlinecolor\":\"#2a3f5f\"},\"type\":\"carpet\"}],\"table\":[{\"cells\":{\"fill\":{\"color\":\"#EBF0F8\"},\"line\":{\"color\":\"white\"}},\"header\":{\"fill\":{\"color\":\"#C8D4E3\"},\"line\":{\"color\":\"white\"}},\"type\":\"table\"}],\"barpolar\":[{\"marker\":{\"line\":{\"color\":\"#E5ECF6\",\"width\":0.5},\"pattern\":{\"fillmode\":\"overlay\",\"size\":10,\"solidity\":0.2}},\"type\":\"barpolar\"}],\"pie\":[{\"automargin\":true,\"type\":\"pie\"}]},\"layout\":{\"autotypenumbers\":\"strict\",\"colorway\":[\"#636efa\",\"#EF553B\",\"#00cc96\",\"#ab63fa\",\"#FFA15A\",\"#19d3f3\",\"#FF6692\",\"#B6E880\",\"#FF97FF\",\"#FECB52\"],\"font\":{\"color\":\"#2a3f5f\"},\"hovermode\":\"closest\",\"hoverlabel\":{\"align\":\"left\"},\"paper_bgcolor\":\"white\",\"plot_bgcolor\":\"#E5ECF6\",\"polar\":{\"bgcolor\":\"#E5ECF6\",\"angularaxis\":{\"gridcolor\":\"white\",\"linecolor\":\"white\",\"ticks\":\"\"},\"radialaxis\":{\"gridcolor\":\"white\",\"linecolor\":\"white\",\"ticks\":\"\"}},\"ternary\":{\"bgcolor\":\"#E5ECF6\",\"aaxis\":{\"gridcolor\":\"white\",\"linecolor\":\"white\",\"ticks\":\"\"},\"baxis\":{\"gridcolor\":\"white\",\"linecolor\":\"white\",\"ticks\":\"\"},\"caxis\":{\"gridcolor\":\"white\",\"linecolor\":\"white\",\"ticks\":\"\"}},\"coloraxis\":{\"colorbar\":{\"outlinewidth\":0,\"ticks\":\"\"}},\"colorscale\":{\"sequential\":[[0.0,\"#0d0887\"],[0.1111111111111111,\"#46039f\"],[0.2222222222222222,\"#7201a8\"],[0.3333333333333333,\"#9c179e\"],[0.4444444444444444,\"#bd3786\"],[0.5555555555555556,\"#d8576b\"],[0.6666666666666666,\"#ed7953\"],[0.7777777777777778,\"#fb9f3a\"],[0.8888888888888888,\"#fdca26\"],[1.0,\"#f0f921\"]],\"sequentialminus\":[[0.0,\"#0d0887\"],[0.1111111111111111,\"#46039f\"],[0.2222222222222222,\"#7201a8\"],[0.3333333333333333,\"#9c179e\"],[0.4444444444444444,\"#bd3786\"],[0.5555555555555556,\"#d8576b\"],[0.6666666666666666,\"#ed7953\"],[0.7777777777777778,\"#fb9f3a\"],[0.8888888888888888,\"#fdca26\"],[1.0,\"#f0f921\"]],\"diverging\":[[0,\"#8e0152\"],[0.1,\"#c51b7d\"],[0.2,\"#de77ae\"],[0.3,\"#f1b6da\"],[0.4,\"#fde0ef\"],[0.5,\"#f7f7f7\"],[0.6,\"#e6f5d0\"],[0.7,\"#b8e186\"],[0.8,\"#7fbc41\"],[0.9,\"#4d9221\"],[1,\"#276419\"]]},\"xaxis\":{\"gridcolor\":\"white\",\"linecolor\":\"white\",\"ticks\":\"\",\"title\":{\"standoff\":15},\"zerolinecolor\":\"white\",\"automargin\":true,\"zerolinewidth\":2},\"yaxis\":{\"gridcolor\":\"white\",\"linecolor\":\"white\",\"ticks\":\"\",\"title\":{\"standoff\":15},\"zerolinecolor\":\"white\",\"automargin\":true,\"zerolinewidth\":2},\"scene\":{\"xaxis\":{\"backgroundcolor\":\"#E5ECF6\",\"gridcolor\":\"white\",\"linecolor\":\"white\",\"showbackground\":true,\"ticks\":\"\",\"zerolinecolor\":\"white\",\"gridwidth\":2},\"yaxis\":{\"backgroundcolor\":\"#E5ECF6\",\"gridcolor\":\"white\",\"linecolor\":\"white\",\"showbackground\":true,\"ticks\":\"\",\"zerolinecolor\":\"white\",\"gridwidth\":2},\"zaxis\":{\"backgroundcolor\":\"#E5ECF6\",\"gridcolor\":\"white\",\"linecolor\":\"white\",\"showbackground\":true,\"ticks\":\"\",\"zerolinecolor\":\"white\",\"gridwidth\":2}},\"shapedefaults\":{\"line\":{\"color\":\"#2a3f5f\"}},\"annotationdefaults\":{\"arrowcolor\":\"#2a3f5f\",\"arrowhead\":0,\"arrowwidth\":1},\"geo\":{\"bgcolor\":\"white\",\"landcolor\":\"#E5ECF6\",\"subunitcolor\":\"white\",\"showland\":true,\"showlakes\":true,\"lakecolor\":\"white\"},\"title\":{\"x\":0.05},\"mapbox\":{\"style\":\"light\"}}},\"xaxis\":{\"anchor\":\"y\",\"domain\":[0.0,1.0],\"title\":{\"text\":\"log Time (s)\"}},\"yaxis\":{\"anchor\":\"x\",\"domain\":[0.0,1.0],\"title\":{\"text\":\"Mag\"}},\"legend\":{\"title\":{\"text\":\"color\"},\"tracegroupgap\":0},\"title\":{\"text\":\"C:/Users/biagi/Desktop/LCs to inspect deltat/CLEAN_GRBs_MAGNITUDES_December2022/Debugging\\\\050709A_arXiv_gcn_mag_regatheredNavonil_recheckedBiagio.txt_RESCALED\"}},                        {\"responsive\": true}                    ).then(function(){\n",
       "                            \n",
       "var gd = document.getElementById('29f71802-c106-45ad-a616-83fc3233bc97');\n",
       "var x = new MutationObserver(function (mutations, observer) {{\n",
       "        var display = window.getComputedStyle(gd).display;\n",
       "        if (!display || display === 'none') {{\n",
       "            console.log([gd, 'removed!']);\n",
       "            Plotly.purge(gd);\n",
       "            observer.disconnect();\n",
       "        }}\n",
       "}});\n",
       "\n",
       "// Listen for the removal of the full notebook cells\n",
       "var notebookContainer = gd.closest('#notebook-container');\n",
       "if (notebookContainer) {{\n",
       "    x.observe(notebookContainer, {childList: true});\n",
       "}}\n",
       "\n",
       "// Listen for the clearing of the current output cell\n",
       "var outputEl = gd.closest('.output');\n",
       "if (outputEl) {{\n",
       "    x.observe(outputEl, {childList: true});\n",
       "}}\n",
       "\n",
       "                        })                };                });            </script>        </div>"
      ]
     },
     "metadata": {},
     "output_type": "display_data"
    },
    {
     "data": {
      "application/vnd.plotly.v1+json": {
       "config": {
        "plotlyServerURL": "https://plot.ly"
       },
       "data": [
        {
         "customdata": [
          [
           14620
          ]
         ],
         "error_y": {
          "array": [
           0.15
          ]
         },
         "hovertemplate": "color=white (1)<br>x=%{x}<br>y=%{y}<br>Source=%{customdata[0]}<extra></extra>",
         "legendgroup": "white (1)",
         "marker": {
          "color": "#636efa",
          "symbol": "circle"
         },
         "mode": "markers",
         "name": "white (1)",
         "orientation": "v",
         "showlegend": true,
         "type": "scatter",
         "x": [
          2.173186268412274
         ],
         "xaxis": "x",
         "y": [
          -19.18
         ],
         "yaxis": "y"
        },
        {
         "customdata": [
          [
           14626
          ],
          [
           14626
          ]
         ],
         "error_y": {
          "array": [
           0.1,
           0.2
          ]
         },
         "hovertemplate": "color=Rc (2)<br>x=%{x}<br>y=%{y}<br>Source=%{customdata[0]}<extra></extra>",
         "legendgroup": "Rc (2)",
         "marker": {
          "color": "#EF553B",
          "symbol": "circle"
         },
         "mode": "markers",
         "name": "Rc (2)",
         "orientation": "v",
         "showlegend": true,
         "type": "scatter",
         "x": [
          3.4101020766428607,
          3.9429005411402938
         ],
         "xaxis": "x",
         "y": [
          -20,
          -21
         ],
         "yaxis": "y"
        },
        {
         "customdata": [
          [
           14628
          ]
         ],
         "error_y": {
          "array": [
           0.13
          ]
         },
         "hovertemplate": "color=R (1)<br>x=%{x}<br>y=%{y}<br>Source=%{customdata[0]}<extra></extra>",
         "legendgroup": "R (1)",
         "marker": {
          "color": "#00cc96",
          "symbol": "circle"
         },
         "mode": "markers",
         "name": "R (1)",
         "orientation": "v",
         "showlegend": true,
         "type": "scatter",
         "x": [
          3.922465945298413
         ],
         "xaxis": "x",
         "y": [
          -20.78
         ],
         "yaxis": "y"
        }
       ],
       "layout": {
        "legend": {
         "title": {
          "text": "color"
         },
         "tracegroupgap": 0
        },
        "template": {
         "data": {
          "bar": [
           {
            "error_x": {
             "color": "#2a3f5f"
            },
            "error_y": {
             "color": "#2a3f5f"
            },
            "marker": {
             "line": {
              "color": "#E5ECF6",
              "width": 0.5
             },
             "pattern": {
              "fillmode": "overlay",
              "size": 10,
              "solidity": 0.2
             }
            },
            "type": "bar"
           }
          ],
          "barpolar": [
           {
            "marker": {
             "line": {
              "color": "#E5ECF6",
              "width": 0.5
             },
             "pattern": {
              "fillmode": "overlay",
              "size": 10,
              "solidity": 0.2
             }
            },
            "type": "barpolar"
           }
          ],
          "carpet": [
           {
            "aaxis": {
             "endlinecolor": "#2a3f5f",
             "gridcolor": "white",
             "linecolor": "white",
             "minorgridcolor": "white",
             "startlinecolor": "#2a3f5f"
            },
            "baxis": {
             "endlinecolor": "#2a3f5f",
             "gridcolor": "white",
             "linecolor": "white",
             "minorgridcolor": "white",
             "startlinecolor": "#2a3f5f"
            },
            "type": "carpet"
           }
          ],
          "choropleth": [
           {
            "colorbar": {
             "outlinewidth": 0,
             "ticks": ""
            },
            "type": "choropleth"
           }
          ],
          "contour": [
           {
            "colorbar": {
             "outlinewidth": 0,
             "ticks": ""
            },
            "colorscale": [
             [
              0,
              "#0d0887"
             ],
             [
              0.1111111111111111,
              "#46039f"
             ],
             [
              0.2222222222222222,
              "#7201a8"
             ],
             [
              0.3333333333333333,
              "#9c179e"
             ],
             [
              0.4444444444444444,
              "#bd3786"
             ],
             [
              0.5555555555555556,
              "#d8576b"
             ],
             [
              0.6666666666666666,
              "#ed7953"
             ],
             [
              0.7777777777777778,
              "#fb9f3a"
             ],
             [
              0.8888888888888888,
              "#fdca26"
             ],
             [
              1,
              "#f0f921"
             ]
            ],
            "type": "contour"
           }
          ],
          "contourcarpet": [
           {
            "colorbar": {
             "outlinewidth": 0,
             "ticks": ""
            },
            "type": "contourcarpet"
           }
          ],
          "heatmap": [
           {
            "colorbar": {
             "outlinewidth": 0,
             "ticks": ""
            },
            "colorscale": [
             [
              0,
              "#0d0887"
             ],
             [
              0.1111111111111111,
              "#46039f"
             ],
             [
              0.2222222222222222,
              "#7201a8"
             ],
             [
              0.3333333333333333,
              "#9c179e"
             ],
             [
              0.4444444444444444,
              "#bd3786"
             ],
             [
              0.5555555555555556,
              "#d8576b"
             ],
             [
              0.6666666666666666,
              "#ed7953"
             ],
             [
              0.7777777777777778,
              "#fb9f3a"
             ],
             [
              0.8888888888888888,
              "#fdca26"
             ],
             [
              1,
              "#f0f921"
             ]
            ],
            "type": "heatmap"
           }
          ],
          "heatmapgl": [
           {
            "colorbar": {
             "outlinewidth": 0,
             "ticks": ""
            },
            "colorscale": [
             [
              0,
              "#0d0887"
             ],
             [
              0.1111111111111111,
              "#46039f"
             ],
             [
              0.2222222222222222,
              "#7201a8"
             ],
             [
              0.3333333333333333,
              "#9c179e"
             ],
             [
              0.4444444444444444,
              "#bd3786"
             ],
             [
              0.5555555555555556,
              "#d8576b"
             ],
             [
              0.6666666666666666,
              "#ed7953"
             ],
             [
              0.7777777777777778,
              "#fb9f3a"
             ],
             [
              0.8888888888888888,
              "#fdca26"
             ],
             [
              1,
              "#f0f921"
             ]
            ],
            "type": "heatmapgl"
           }
          ],
          "histogram": [
           {
            "marker": {
             "pattern": {
              "fillmode": "overlay",
              "size": 10,
              "solidity": 0.2
             }
            },
            "type": "histogram"
           }
          ],
          "histogram2d": [
           {
            "colorbar": {
             "outlinewidth": 0,
             "ticks": ""
            },
            "colorscale": [
             [
              0,
              "#0d0887"
             ],
             [
              0.1111111111111111,
              "#46039f"
             ],
             [
              0.2222222222222222,
              "#7201a8"
             ],
             [
              0.3333333333333333,
              "#9c179e"
             ],
             [
              0.4444444444444444,
              "#bd3786"
             ],
             [
              0.5555555555555556,
              "#d8576b"
             ],
             [
              0.6666666666666666,
              "#ed7953"
             ],
             [
              0.7777777777777778,
              "#fb9f3a"
             ],
             [
              0.8888888888888888,
              "#fdca26"
             ],
             [
              1,
              "#f0f921"
             ]
            ],
            "type": "histogram2d"
           }
          ],
          "histogram2dcontour": [
           {
            "colorbar": {
             "outlinewidth": 0,
             "ticks": ""
            },
            "colorscale": [
             [
              0,
              "#0d0887"
             ],
             [
              0.1111111111111111,
              "#46039f"
             ],
             [
              0.2222222222222222,
              "#7201a8"
             ],
             [
              0.3333333333333333,
              "#9c179e"
             ],
             [
              0.4444444444444444,
              "#bd3786"
             ],
             [
              0.5555555555555556,
              "#d8576b"
             ],
             [
              0.6666666666666666,
              "#ed7953"
             ],
             [
              0.7777777777777778,
              "#fb9f3a"
             ],
             [
              0.8888888888888888,
              "#fdca26"
             ],
             [
              1,
              "#f0f921"
             ]
            ],
            "type": "histogram2dcontour"
           }
          ],
          "mesh3d": [
           {
            "colorbar": {
             "outlinewidth": 0,
             "ticks": ""
            },
            "type": "mesh3d"
           }
          ],
          "parcoords": [
           {
            "line": {
             "colorbar": {
              "outlinewidth": 0,
              "ticks": ""
             }
            },
            "type": "parcoords"
           }
          ],
          "pie": [
           {
            "automargin": true,
            "type": "pie"
           }
          ],
          "scatter": [
           {
            "fillpattern": {
             "fillmode": "overlay",
             "size": 10,
             "solidity": 0.2
            },
            "type": "scatter"
           }
          ],
          "scatter3d": [
           {
            "line": {
             "colorbar": {
              "outlinewidth": 0,
              "ticks": ""
             }
            },
            "marker": {
             "colorbar": {
              "outlinewidth": 0,
              "ticks": ""
             }
            },
            "type": "scatter3d"
           }
          ],
          "scattercarpet": [
           {
            "marker": {
             "colorbar": {
              "outlinewidth": 0,
              "ticks": ""
             }
            },
            "type": "scattercarpet"
           }
          ],
          "scattergeo": [
           {
            "marker": {
             "colorbar": {
              "outlinewidth": 0,
              "ticks": ""
             }
            },
            "type": "scattergeo"
           }
          ],
          "scattergl": [
           {
            "marker": {
             "colorbar": {
              "outlinewidth": 0,
              "ticks": ""
             }
            },
            "type": "scattergl"
           }
          ],
          "scattermapbox": [
           {
            "marker": {
             "colorbar": {
              "outlinewidth": 0,
              "ticks": ""
             }
            },
            "type": "scattermapbox"
           }
          ],
          "scatterpolar": [
           {
            "marker": {
             "colorbar": {
              "outlinewidth": 0,
              "ticks": ""
             }
            },
            "type": "scatterpolar"
           }
          ],
          "scatterpolargl": [
           {
            "marker": {
             "colorbar": {
              "outlinewidth": 0,
              "ticks": ""
             }
            },
            "type": "scatterpolargl"
           }
          ],
          "scatterternary": [
           {
            "marker": {
             "colorbar": {
              "outlinewidth": 0,
              "ticks": ""
             }
            },
            "type": "scatterternary"
           }
          ],
          "surface": [
           {
            "colorbar": {
             "outlinewidth": 0,
             "ticks": ""
            },
            "colorscale": [
             [
              0,
              "#0d0887"
             ],
             [
              0.1111111111111111,
              "#46039f"
             ],
             [
              0.2222222222222222,
              "#7201a8"
             ],
             [
              0.3333333333333333,
              "#9c179e"
             ],
             [
              0.4444444444444444,
              "#bd3786"
             ],
             [
              0.5555555555555556,
              "#d8576b"
             ],
             [
              0.6666666666666666,
              "#ed7953"
             ],
             [
              0.7777777777777778,
              "#fb9f3a"
             ],
             [
              0.8888888888888888,
              "#fdca26"
             ],
             [
              1,
              "#f0f921"
             ]
            ],
            "type": "surface"
           }
          ],
          "table": [
           {
            "cells": {
             "fill": {
              "color": "#EBF0F8"
             },
             "line": {
              "color": "white"
             }
            },
            "header": {
             "fill": {
              "color": "#C8D4E3"
             },
             "line": {
              "color": "white"
             }
            },
            "type": "table"
           }
          ]
         },
         "layout": {
          "annotationdefaults": {
           "arrowcolor": "#2a3f5f",
           "arrowhead": 0,
           "arrowwidth": 1
          },
          "autotypenumbers": "strict",
          "coloraxis": {
           "colorbar": {
            "outlinewidth": 0,
            "ticks": ""
           }
          },
          "colorscale": {
           "diverging": [
            [
             0,
             "#8e0152"
            ],
            [
             0.1,
             "#c51b7d"
            ],
            [
             0.2,
             "#de77ae"
            ],
            [
             0.3,
             "#f1b6da"
            ],
            [
             0.4,
             "#fde0ef"
            ],
            [
             0.5,
             "#f7f7f7"
            ],
            [
             0.6,
             "#e6f5d0"
            ],
            [
             0.7,
             "#b8e186"
            ],
            [
             0.8,
             "#7fbc41"
            ],
            [
             0.9,
             "#4d9221"
            ],
            [
             1,
             "#276419"
            ]
           ],
           "sequential": [
            [
             0,
             "#0d0887"
            ],
            [
             0.1111111111111111,
             "#46039f"
            ],
            [
             0.2222222222222222,
             "#7201a8"
            ],
            [
             0.3333333333333333,
             "#9c179e"
            ],
            [
             0.4444444444444444,
             "#bd3786"
            ],
            [
             0.5555555555555556,
             "#d8576b"
            ],
            [
             0.6666666666666666,
             "#ed7953"
            ],
            [
             0.7777777777777778,
             "#fb9f3a"
            ],
            [
             0.8888888888888888,
             "#fdca26"
            ],
            [
             1,
             "#f0f921"
            ]
           ],
           "sequentialminus": [
            [
             0,
             "#0d0887"
            ],
            [
             0.1111111111111111,
             "#46039f"
            ],
            [
             0.2222222222222222,
             "#7201a8"
            ],
            [
             0.3333333333333333,
             "#9c179e"
            ],
            [
             0.4444444444444444,
             "#bd3786"
            ],
            [
             0.5555555555555556,
             "#d8576b"
            ],
            [
             0.6666666666666666,
             "#ed7953"
            ],
            [
             0.7777777777777778,
             "#fb9f3a"
            ],
            [
             0.8888888888888888,
             "#fdca26"
            ],
            [
             1,
             "#f0f921"
            ]
           ]
          },
          "colorway": [
           "#636efa",
           "#EF553B",
           "#00cc96",
           "#ab63fa",
           "#FFA15A",
           "#19d3f3",
           "#FF6692",
           "#B6E880",
           "#FF97FF",
           "#FECB52"
          ],
          "font": {
           "color": "#2a3f5f"
          },
          "geo": {
           "bgcolor": "white",
           "lakecolor": "white",
           "landcolor": "#E5ECF6",
           "showlakes": true,
           "showland": true,
           "subunitcolor": "white"
          },
          "hoverlabel": {
           "align": "left"
          },
          "hovermode": "closest",
          "mapbox": {
           "style": "light"
          },
          "paper_bgcolor": "white",
          "plot_bgcolor": "#E5ECF6",
          "polar": {
           "angularaxis": {
            "gridcolor": "white",
            "linecolor": "white",
            "ticks": ""
           },
           "bgcolor": "#E5ECF6",
           "radialaxis": {
            "gridcolor": "white",
            "linecolor": "white",
            "ticks": ""
           }
          },
          "scene": {
           "xaxis": {
            "backgroundcolor": "#E5ECF6",
            "gridcolor": "white",
            "gridwidth": 2,
            "linecolor": "white",
            "showbackground": true,
            "ticks": "",
            "zerolinecolor": "white"
           },
           "yaxis": {
            "backgroundcolor": "#E5ECF6",
            "gridcolor": "white",
            "gridwidth": 2,
            "linecolor": "white",
            "showbackground": true,
            "ticks": "",
            "zerolinecolor": "white"
           },
           "zaxis": {
            "backgroundcolor": "#E5ECF6",
            "gridcolor": "white",
            "gridwidth": 2,
            "linecolor": "white",
            "showbackground": true,
            "ticks": "",
            "zerolinecolor": "white"
           }
          },
          "shapedefaults": {
           "line": {
            "color": "#2a3f5f"
           }
          },
          "ternary": {
           "aaxis": {
            "gridcolor": "white",
            "linecolor": "white",
            "ticks": ""
           },
           "baxis": {
            "gridcolor": "white",
            "linecolor": "white",
            "ticks": ""
           },
           "bgcolor": "#E5ECF6",
           "caxis": {
            "gridcolor": "white",
            "linecolor": "white",
            "ticks": ""
           }
          },
          "title": {
           "x": 0.05
          },
          "xaxis": {
           "automargin": true,
           "gridcolor": "white",
           "linecolor": "white",
           "ticks": "",
           "title": {
            "standoff": 15
           },
           "zerolinecolor": "white",
           "zerolinewidth": 2
          },
          "yaxis": {
           "automargin": true,
           "gridcolor": "white",
           "linecolor": "white",
           "ticks": "",
           "title": {
            "standoff": 15
           },
           "zerolinecolor": "white",
           "zerolinewidth": 2
          }
         }
        },
        "title": {
         "text": "C:/Users/biagi/Desktop/LCs to inspect deltat/CLEAN_GRBs_MAGNITUDES_December2022/Debugging\\130511A.txt"
        },
        "xaxis": {
         "anchor": "y",
         "domain": [
          0,
          1
         ],
         "title": {
          "text": "log Time (s)"
         }
        },
        "yaxis": {
         "anchor": "x",
         "domain": [
          0,
          1
         ],
         "title": {
          "text": "Mag"
         }
        }
       }
      },
      "text/html": [
       "<div>                            <div id=\"951b1022-3adc-4a7d-8488-bd841ed68caf\" class=\"plotly-graph-div\" style=\"height:525px; width:100%;\"></div>            <script type=\"text/javascript\">                require([\"plotly\"], function(Plotly) {                    window.PLOTLYENV=window.PLOTLYENV || {};                                    if (document.getElementById(\"951b1022-3adc-4a7d-8488-bd841ed68caf\")) {                    Plotly.newPlot(                        \"951b1022-3adc-4a7d-8488-bd841ed68caf\",                        [{\"customdata\":[[14620]],\"error_y\":{\"array\":[0.15]},\"hovertemplate\":\"color=white (1)<br>x=%{x}<br>y=%{y}<br>Source=%{customdata[0]}<extra></extra>\",\"legendgroup\":\"white (1)\",\"marker\":{\"color\":\"#636efa\",\"symbol\":\"circle\"},\"mode\":\"markers\",\"name\":\"white (1)\",\"orientation\":\"v\",\"showlegend\":true,\"x\":[2.173186268412274],\"xaxis\":\"x\",\"y\":[-19.18],\"yaxis\":\"y\",\"type\":\"scatter\"},{\"customdata\":[[14626],[14626]],\"error_y\":{\"array\":[0.1,0.2]},\"hovertemplate\":\"color=Rc (2)<br>x=%{x}<br>y=%{y}<br>Source=%{customdata[0]}<extra></extra>\",\"legendgroup\":\"Rc (2)\",\"marker\":{\"color\":\"#EF553B\",\"symbol\":\"circle\"},\"mode\":\"markers\",\"name\":\"Rc (2)\",\"orientation\":\"v\",\"showlegend\":true,\"x\":[3.4101020766428607,3.9429005411402938],\"xaxis\":\"x\",\"y\":[-20.0,-21.0],\"yaxis\":\"y\",\"type\":\"scatter\"},{\"customdata\":[[14628]],\"error_y\":{\"array\":[0.13]},\"hovertemplate\":\"color=R (1)<br>x=%{x}<br>y=%{y}<br>Source=%{customdata[0]}<extra></extra>\",\"legendgroup\":\"R (1)\",\"marker\":{\"color\":\"#00cc96\",\"symbol\":\"circle\"},\"mode\":\"markers\",\"name\":\"R (1)\",\"orientation\":\"v\",\"showlegend\":true,\"x\":[3.922465945298413],\"xaxis\":\"x\",\"y\":[-20.78],\"yaxis\":\"y\",\"type\":\"scatter\"}],                        {\"template\":{\"data\":{\"histogram2dcontour\":[{\"type\":\"histogram2dcontour\",\"colorbar\":{\"outlinewidth\":0,\"ticks\":\"\"},\"colorscale\":[[0.0,\"#0d0887\"],[0.1111111111111111,\"#46039f\"],[0.2222222222222222,\"#7201a8\"],[0.3333333333333333,\"#9c179e\"],[0.4444444444444444,\"#bd3786\"],[0.5555555555555556,\"#d8576b\"],[0.6666666666666666,\"#ed7953\"],[0.7777777777777778,\"#fb9f3a\"],[0.8888888888888888,\"#fdca26\"],[1.0,\"#f0f921\"]]}],\"choropleth\":[{\"type\":\"choropleth\",\"colorbar\":{\"outlinewidth\":0,\"ticks\":\"\"}}],\"histogram2d\":[{\"type\":\"histogram2d\",\"colorbar\":{\"outlinewidth\":0,\"ticks\":\"\"},\"colorscale\":[[0.0,\"#0d0887\"],[0.1111111111111111,\"#46039f\"],[0.2222222222222222,\"#7201a8\"],[0.3333333333333333,\"#9c179e\"],[0.4444444444444444,\"#bd3786\"],[0.5555555555555556,\"#d8576b\"],[0.6666666666666666,\"#ed7953\"],[0.7777777777777778,\"#fb9f3a\"],[0.8888888888888888,\"#fdca26\"],[1.0,\"#f0f921\"]]}],\"heatmap\":[{\"type\":\"heatmap\",\"colorbar\":{\"outlinewidth\":0,\"ticks\":\"\"},\"colorscale\":[[0.0,\"#0d0887\"],[0.1111111111111111,\"#46039f\"],[0.2222222222222222,\"#7201a8\"],[0.3333333333333333,\"#9c179e\"],[0.4444444444444444,\"#bd3786\"],[0.5555555555555556,\"#d8576b\"],[0.6666666666666666,\"#ed7953\"],[0.7777777777777778,\"#fb9f3a\"],[0.8888888888888888,\"#fdca26\"],[1.0,\"#f0f921\"]]}],\"heatmapgl\":[{\"type\":\"heatmapgl\",\"colorbar\":{\"outlinewidth\":0,\"ticks\":\"\"},\"colorscale\":[[0.0,\"#0d0887\"],[0.1111111111111111,\"#46039f\"],[0.2222222222222222,\"#7201a8\"],[0.3333333333333333,\"#9c179e\"],[0.4444444444444444,\"#bd3786\"],[0.5555555555555556,\"#d8576b\"],[0.6666666666666666,\"#ed7953\"],[0.7777777777777778,\"#fb9f3a\"],[0.8888888888888888,\"#fdca26\"],[1.0,\"#f0f921\"]]}],\"contourcarpet\":[{\"type\":\"contourcarpet\",\"colorbar\":{\"outlinewidth\":0,\"ticks\":\"\"}}],\"contour\":[{\"type\":\"contour\",\"colorbar\":{\"outlinewidth\":0,\"ticks\":\"\"},\"colorscale\":[[0.0,\"#0d0887\"],[0.1111111111111111,\"#46039f\"],[0.2222222222222222,\"#7201a8\"],[0.3333333333333333,\"#9c179e\"],[0.4444444444444444,\"#bd3786\"],[0.5555555555555556,\"#d8576b\"],[0.6666666666666666,\"#ed7953\"],[0.7777777777777778,\"#fb9f3a\"],[0.8888888888888888,\"#fdca26\"],[1.0,\"#f0f921\"]]}],\"surface\":[{\"type\":\"surface\",\"colorbar\":{\"outlinewidth\":0,\"ticks\":\"\"},\"colorscale\":[[0.0,\"#0d0887\"],[0.1111111111111111,\"#46039f\"],[0.2222222222222222,\"#7201a8\"],[0.3333333333333333,\"#9c179e\"],[0.4444444444444444,\"#bd3786\"],[0.5555555555555556,\"#d8576b\"],[0.6666666666666666,\"#ed7953\"],[0.7777777777777778,\"#fb9f3a\"],[0.8888888888888888,\"#fdca26\"],[1.0,\"#f0f921\"]]}],\"mesh3d\":[{\"type\":\"mesh3d\",\"colorbar\":{\"outlinewidth\":0,\"ticks\":\"\"}}],\"scatter\":[{\"fillpattern\":{\"fillmode\":\"overlay\",\"size\":10,\"solidity\":0.2},\"type\":\"scatter\"}],\"parcoords\":[{\"type\":\"parcoords\",\"line\":{\"colorbar\":{\"outlinewidth\":0,\"ticks\":\"\"}}}],\"scatterpolargl\":[{\"type\":\"scatterpolargl\",\"marker\":{\"colorbar\":{\"outlinewidth\":0,\"ticks\":\"\"}}}],\"bar\":[{\"error_x\":{\"color\":\"#2a3f5f\"},\"error_y\":{\"color\":\"#2a3f5f\"},\"marker\":{\"line\":{\"color\":\"#E5ECF6\",\"width\":0.5},\"pattern\":{\"fillmode\":\"overlay\",\"size\":10,\"solidity\":0.2}},\"type\":\"bar\"}],\"scattergeo\":[{\"type\":\"scattergeo\",\"marker\":{\"colorbar\":{\"outlinewidth\":0,\"ticks\":\"\"}}}],\"scatterpolar\":[{\"type\":\"scatterpolar\",\"marker\":{\"colorbar\":{\"outlinewidth\":0,\"ticks\":\"\"}}}],\"histogram\":[{\"marker\":{\"pattern\":{\"fillmode\":\"overlay\",\"size\":10,\"solidity\":0.2}},\"type\":\"histogram\"}],\"scattergl\":[{\"type\":\"scattergl\",\"marker\":{\"colorbar\":{\"outlinewidth\":0,\"ticks\":\"\"}}}],\"scatter3d\":[{\"type\":\"scatter3d\",\"line\":{\"colorbar\":{\"outlinewidth\":0,\"ticks\":\"\"}},\"marker\":{\"colorbar\":{\"outlinewidth\":0,\"ticks\":\"\"}}}],\"scattermapbox\":[{\"type\":\"scattermapbox\",\"marker\":{\"colorbar\":{\"outlinewidth\":0,\"ticks\":\"\"}}}],\"scatterternary\":[{\"type\":\"scatterternary\",\"marker\":{\"colorbar\":{\"outlinewidth\":0,\"ticks\":\"\"}}}],\"scattercarpet\":[{\"type\":\"scattercarpet\",\"marker\":{\"colorbar\":{\"outlinewidth\":0,\"ticks\":\"\"}}}],\"carpet\":[{\"aaxis\":{\"endlinecolor\":\"#2a3f5f\",\"gridcolor\":\"white\",\"linecolor\":\"white\",\"minorgridcolor\":\"white\",\"startlinecolor\":\"#2a3f5f\"},\"baxis\":{\"endlinecolor\":\"#2a3f5f\",\"gridcolor\":\"white\",\"linecolor\":\"white\",\"minorgridcolor\":\"white\",\"startlinecolor\":\"#2a3f5f\"},\"type\":\"carpet\"}],\"table\":[{\"cells\":{\"fill\":{\"color\":\"#EBF0F8\"},\"line\":{\"color\":\"white\"}},\"header\":{\"fill\":{\"color\":\"#C8D4E3\"},\"line\":{\"color\":\"white\"}},\"type\":\"table\"}],\"barpolar\":[{\"marker\":{\"line\":{\"color\":\"#E5ECF6\",\"width\":0.5},\"pattern\":{\"fillmode\":\"overlay\",\"size\":10,\"solidity\":0.2}},\"type\":\"barpolar\"}],\"pie\":[{\"automargin\":true,\"type\":\"pie\"}]},\"layout\":{\"autotypenumbers\":\"strict\",\"colorway\":[\"#636efa\",\"#EF553B\",\"#00cc96\",\"#ab63fa\",\"#FFA15A\",\"#19d3f3\",\"#FF6692\",\"#B6E880\",\"#FF97FF\",\"#FECB52\"],\"font\":{\"color\":\"#2a3f5f\"},\"hovermode\":\"closest\",\"hoverlabel\":{\"align\":\"left\"},\"paper_bgcolor\":\"white\",\"plot_bgcolor\":\"#E5ECF6\",\"polar\":{\"bgcolor\":\"#E5ECF6\",\"angularaxis\":{\"gridcolor\":\"white\",\"linecolor\":\"white\",\"ticks\":\"\"},\"radialaxis\":{\"gridcolor\":\"white\",\"linecolor\":\"white\",\"ticks\":\"\"}},\"ternary\":{\"bgcolor\":\"#E5ECF6\",\"aaxis\":{\"gridcolor\":\"white\",\"linecolor\":\"white\",\"ticks\":\"\"},\"baxis\":{\"gridcolor\":\"white\",\"linecolor\":\"white\",\"ticks\":\"\"},\"caxis\":{\"gridcolor\":\"white\",\"linecolor\":\"white\",\"ticks\":\"\"}},\"coloraxis\":{\"colorbar\":{\"outlinewidth\":0,\"ticks\":\"\"}},\"colorscale\":{\"sequential\":[[0.0,\"#0d0887\"],[0.1111111111111111,\"#46039f\"],[0.2222222222222222,\"#7201a8\"],[0.3333333333333333,\"#9c179e\"],[0.4444444444444444,\"#bd3786\"],[0.5555555555555556,\"#d8576b\"],[0.6666666666666666,\"#ed7953\"],[0.7777777777777778,\"#fb9f3a\"],[0.8888888888888888,\"#fdca26\"],[1.0,\"#f0f921\"]],\"sequentialminus\":[[0.0,\"#0d0887\"],[0.1111111111111111,\"#46039f\"],[0.2222222222222222,\"#7201a8\"],[0.3333333333333333,\"#9c179e\"],[0.4444444444444444,\"#bd3786\"],[0.5555555555555556,\"#d8576b\"],[0.6666666666666666,\"#ed7953\"],[0.7777777777777778,\"#fb9f3a\"],[0.8888888888888888,\"#fdca26\"],[1.0,\"#f0f921\"]],\"diverging\":[[0,\"#8e0152\"],[0.1,\"#c51b7d\"],[0.2,\"#de77ae\"],[0.3,\"#f1b6da\"],[0.4,\"#fde0ef\"],[0.5,\"#f7f7f7\"],[0.6,\"#e6f5d0\"],[0.7,\"#b8e186\"],[0.8,\"#7fbc41\"],[0.9,\"#4d9221\"],[1,\"#276419\"]]},\"xaxis\":{\"gridcolor\":\"white\",\"linecolor\":\"white\",\"ticks\":\"\",\"title\":{\"standoff\":15},\"zerolinecolor\":\"white\",\"automargin\":true,\"zerolinewidth\":2},\"yaxis\":{\"gridcolor\":\"white\",\"linecolor\":\"white\",\"ticks\":\"\",\"title\":{\"standoff\":15},\"zerolinecolor\":\"white\",\"automargin\":true,\"zerolinewidth\":2},\"scene\":{\"xaxis\":{\"backgroundcolor\":\"#E5ECF6\",\"gridcolor\":\"white\",\"linecolor\":\"white\",\"showbackground\":true,\"ticks\":\"\",\"zerolinecolor\":\"white\",\"gridwidth\":2},\"yaxis\":{\"backgroundcolor\":\"#E5ECF6\",\"gridcolor\":\"white\",\"linecolor\":\"white\",\"showbackground\":true,\"ticks\":\"\",\"zerolinecolor\":\"white\",\"gridwidth\":2},\"zaxis\":{\"backgroundcolor\":\"#E5ECF6\",\"gridcolor\":\"white\",\"linecolor\":\"white\",\"showbackground\":true,\"ticks\":\"\",\"zerolinecolor\":\"white\",\"gridwidth\":2}},\"shapedefaults\":{\"line\":{\"color\":\"#2a3f5f\"}},\"annotationdefaults\":{\"arrowcolor\":\"#2a3f5f\",\"arrowhead\":0,\"arrowwidth\":1},\"geo\":{\"bgcolor\":\"white\",\"landcolor\":\"#E5ECF6\",\"subunitcolor\":\"white\",\"showland\":true,\"showlakes\":true,\"lakecolor\":\"white\"},\"title\":{\"x\":0.05},\"mapbox\":{\"style\":\"light\"}}},\"xaxis\":{\"anchor\":\"y\",\"domain\":[0.0,1.0],\"title\":{\"text\":\"log Time (s)\"}},\"yaxis\":{\"anchor\":\"x\",\"domain\":[0.0,1.0],\"title\":{\"text\":\"Mag\"}},\"legend\":{\"title\":{\"text\":\"color\"},\"tracegroupgap\":0},\"title\":{\"text\":\"C:/Users/biagi/Desktop/LCs to inspect deltat/CLEAN_GRBs_MAGNITUDES_December2022/Debugging\\\\130511A.txt\"}},                        {\"responsive\": true}                    ).then(function(){\n",
       "                            \n",
       "var gd = document.getElementById('951b1022-3adc-4a7d-8488-bd841ed68caf');\n",
       "var x = new MutationObserver(function (mutations, observer) {{\n",
       "        var display = window.getComputedStyle(gd).display;\n",
       "        if (!display || display === 'none') {{\n",
       "            console.log([gd, 'removed!']);\n",
       "            Plotly.purge(gd);\n",
       "            observer.disconnect();\n",
       "        }}\n",
       "}});\n",
       "\n",
       "// Listen for the removal of the full notebook cells\n",
       "var notebookContainer = gd.closest('#notebook-container');\n",
       "if (notebookContainer) {{\n",
       "    x.observe(notebookContainer, {childList: true});\n",
       "}}\n",
       "\n",
       "// Listen for the clearing of the current output cell\n",
       "var outputEl = gd.closest('.output');\n",
       "if (outputEl) {{\n",
       "    x.observe(outputEl, {childList: true});\n",
       "}}\n",
       "\n",
       "                        })                };                });            </script>        </div>"
      ]
     },
     "metadata": {},
     "output_type": "display_data"
    },
    {
     "name": "stdout",
     "output_type": "stream",
     "text": [
      "The most numerous filter of this GRB:  Rc , with 2 occurrences\n",
      "The second most numerous filter of this GRB:  R , with 1 occurrences\n"
     ]
    },
    {
     "data": {
      "application/vnd.plotly.v1+json": {
       "config": {
        "plotlyServerURL": "https://plot.ly"
       },
       "data": [
        {
         "customdata": [
          [
           14620
          ]
         ],
         "error_y": {
          "array": [
           0.15
          ]
         },
         "hovertemplate": "color=white (1)<br>x=%{x}<br>y=%{y}<br>Source=%{customdata[0]}<extra></extra>",
         "legendgroup": "white (1)",
         "marker": {
          "color": "#636efa",
          "symbol": "circle"
         },
         "mode": "markers",
         "name": "white (1)",
         "orientation": "v",
         "showlegend": true,
         "type": "scatter",
         "x": [
          2.17
         ],
         "xaxis": "x",
         "y": [
          -19.18
         ],
         "yaxis": "y"
        },
        {
         "customdata": [
          [
           14626
          ],
          [
           14626
          ]
         ],
         "error_y": {
          "array": [
           0.1,
           0.2
          ]
         },
         "hovertemplate": "color=Rc (2)<br>x=%{x}<br>y=%{y}<br>Source=%{customdata[0]}<extra></extra>",
         "legendgroup": "Rc (2)",
         "marker": {
          "color": "#EF553B",
          "symbol": "circle"
         },
         "mode": "markers",
         "name": "Rc (2)",
         "orientation": "v",
         "showlegend": true,
         "type": "scatter",
         "x": [
          3.41,
          3.94
         ],
         "xaxis": "x",
         "y": [
          -20,
          -21
         ],
         "yaxis": "y"
        },
        {
         "customdata": [
          [
           14628
          ]
         ],
         "error_y": {
          "array": [
           0.13
          ]
         },
         "hovertemplate": "color=R (1)<br>x=%{x}<br>y=%{y}<br>Source=%{customdata[0]}<extra></extra>",
         "legendgroup": "R (1)",
         "marker": {
          "color": "#00cc96",
          "symbol": "circle"
         },
         "mode": "markers",
         "name": "R (1)",
         "orientation": "v",
         "showlegend": true,
         "type": "scatter",
         "x": [
          3.92
         ],
         "xaxis": "x",
         "y": [
          -20.78
         ],
         "yaxis": "y"
        }
       ],
       "layout": {
        "legend": {
         "title": {
          "text": "color"
         },
         "tracegroupgap": 0
        },
        "template": {
         "data": {
          "bar": [
           {
            "error_x": {
             "color": "#2a3f5f"
            },
            "error_y": {
             "color": "#2a3f5f"
            },
            "marker": {
             "line": {
              "color": "#E5ECF6",
              "width": 0.5
             },
             "pattern": {
              "fillmode": "overlay",
              "size": 10,
              "solidity": 0.2
             }
            },
            "type": "bar"
           }
          ],
          "barpolar": [
           {
            "marker": {
             "line": {
              "color": "#E5ECF6",
              "width": 0.5
             },
             "pattern": {
              "fillmode": "overlay",
              "size": 10,
              "solidity": 0.2
             }
            },
            "type": "barpolar"
           }
          ],
          "carpet": [
           {
            "aaxis": {
             "endlinecolor": "#2a3f5f",
             "gridcolor": "white",
             "linecolor": "white",
             "minorgridcolor": "white",
             "startlinecolor": "#2a3f5f"
            },
            "baxis": {
             "endlinecolor": "#2a3f5f",
             "gridcolor": "white",
             "linecolor": "white",
             "minorgridcolor": "white",
             "startlinecolor": "#2a3f5f"
            },
            "type": "carpet"
           }
          ],
          "choropleth": [
           {
            "colorbar": {
             "outlinewidth": 0,
             "ticks": ""
            },
            "type": "choropleth"
           }
          ],
          "contour": [
           {
            "colorbar": {
             "outlinewidth": 0,
             "ticks": ""
            },
            "colorscale": [
             [
              0,
              "#0d0887"
             ],
             [
              0.1111111111111111,
              "#46039f"
             ],
             [
              0.2222222222222222,
              "#7201a8"
             ],
             [
              0.3333333333333333,
              "#9c179e"
             ],
             [
              0.4444444444444444,
              "#bd3786"
             ],
             [
              0.5555555555555556,
              "#d8576b"
             ],
             [
              0.6666666666666666,
              "#ed7953"
             ],
             [
              0.7777777777777778,
              "#fb9f3a"
             ],
             [
              0.8888888888888888,
              "#fdca26"
             ],
             [
              1,
              "#f0f921"
             ]
            ],
            "type": "contour"
           }
          ],
          "contourcarpet": [
           {
            "colorbar": {
             "outlinewidth": 0,
             "ticks": ""
            },
            "type": "contourcarpet"
           }
          ],
          "heatmap": [
           {
            "colorbar": {
             "outlinewidth": 0,
             "ticks": ""
            },
            "colorscale": [
             [
              0,
              "#0d0887"
             ],
             [
              0.1111111111111111,
              "#46039f"
             ],
             [
              0.2222222222222222,
              "#7201a8"
             ],
             [
              0.3333333333333333,
              "#9c179e"
             ],
             [
              0.4444444444444444,
              "#bd3786"
             ],
             [
              0.5555555555555556,
              "#d8576b"
             ],
             [
              0.6666666666666666,
              "#ed7953"
             ],
             [
              0.7777777777777778,
              "#fb9f3a"
             ],
             [
              0.8888888888888888,
              "#fdca26"
             ],
             [
              1,
              "#f0f921"
             ]
            ],
            "type": "heatmap"
           }
          ],
          "heatmapgl": [
           {
            "colorbar": {
             "outlinewidth": 0,
             "ticks": ""
            },
            "colorscale": [
             [
              0,
              "#0d0887"
             ],
             [
              0.1111111111111111,
              "#46039f"
             ],
             [
              0.2222222222222222,
              "#7201a8"
             ],
             [
              0.3333333333333333,
              "#9c179e"
             ],
             [
              0.4444444444444444,
              "#bd3786"
             ],
             [
              0.5555555555555556,
              "#d8576b"
             ],
             [
              0.6666666666666666,
              "#ed7953"
             ],
             [
              0.7777777777777778,
              "#fb9f3a"
             ],
             [
              0.8888888888888888,
              "#fdca26"
             ],
             [
              1,
              "#f0f921"
             ]
            ],
            "type": "heatmapgl"
           }
          ],
          "histogram": [
           {
            "marker": {
             "pattern": {
              "fillmode": "overlay",
              "size": 10,
              "solidity": 0.2
             }
            },
            "type": "histogram"
           }
          ],
          "histogram2d": [
           {
            "colorbar": {
             "outlinewidth": 0,
             "ticks": ""
            },
            "colorscale": [
             [
              0,
              "#0d0887"
             ],
             [
              0.1111111111111111,
              "#46039f"
             ],
             [
              0.2222222222222222,
              "#7201a8"
             ],
             [
              0.3333333333333333,
              "#9c179e"
             ],
             [
              0.4444444444444444,
              "#bd3786"
             ],
             [
              0.5555555555555556,
              "#d8576b"
             ],
             [
              0.6666666666666666,
              "#ed7953"
             ],
             [
              0.7777777777777778,
              "#fb9f3a"
             ],
             [
              0.8888888888888888,
              "#fdca26"
             ],
             [
              1,
              "#f0f921"
             ]
            ],
            "type": "histogram2d"
           }
          ],
          "histogram2dcontour": [
           {
            "colorbar": {
             "outlinewidth": 0,
             "ticks": ""
            },
            "colorscale": [
             [
              0,
              "#0d0887"
             ],
             [
              0.1111111111111111,
              "#46039f"
             ],
             [
              0.2222222222222222,
              "#7201a8"
             ],
             [
              0.3333333333333333,
              "#9c179e"
             ],
             [
              0.4444444444444444,
              "#bd3786"
             ],
             [
              0.5555555555555556,
              "#d8576b"
             ],
             [
              0.6666666666666666,
              "#ed7953"
             ],
             [
              0.7777777777777778,
              "#fb9f3a"
             ],
             [
              0.8888888888888888,
              "#fdca26"
             ],
             [
              1,
              "#f0f921"
             ]
            ],
            "type": "histogram2dcontour"
           }
          ],
          "mesh3d": [
           {
            "colorbar": {
             "outlinewidth": 0,
             "ticks": ""
            },
            "type": "mesh3d"
           }
          ],
          "parcoords": [
           {
            "line": {
             "colorbar": {
              "outlinewidth": 0,
              "ticks": ""
             }
            },
            "type": "parcoords"
           }
          ],
          "pie": [
           {
            "automargin": true,
            "type": "pie"
           }
          ],
          "scatter": [
           {
            "fillpattern": {
             "fillmode": "overlay",
             "size": 10,
             "solidity": 0.2
            },
            "type": "scatter"
           }
          ],
          "scatter3d": [
           {
            "line": {
             "colorbar": {
              "outlinewidth": 0,
              "ticks": ""
             }
            },
            "marker": {
             "colorbar": {
              "outlinewidth": 0,
              "ticks": ""
             }
            },
            "type": "scatter3d"
           }
          ],
          "scattercarpet": [
           {
            "marker": {
             "colorbar": {
              "outlinewidth": 0,
              "ticks": ""
             }
            },
            "type": "scattercarpet"
           }
          ],
          "scattergeo": [
           {
            "marker": {
             "colorbar": {
              "outlinewidth": 0,
              "ticks": ""
             }
            },
            "type": "scattergeo"
           }
          ],
          "scattergl": [
           {
            "marker": {
             "colorbar": {
              "outlinewidth": 0,
              "ticks": ""
             }
            },
            "type": "scattergl"
           }
          ],
          "scattermapbox": [
           {
            "marker": {
             "colorbar": {
              "outlinewidth": 0,
              "ticks": ""
             }
            },
            "type": "scattermapbox"
           }
          ],
          "scatterpolar": [
           {
            "marker": {
             "colorbar": {
              "outlinewidth": 0,
              "ticks": ""
             }
            },
            "type": "scatterpolar"
           }
          ],
          "scatterpolargl": [
           {
            "marker": {
             "colorbar": {
              "outlinewidth": 0,
              "ticks": ""
             }
            },
            "type": "scatterpolargl"
           }
          ],
          "scatterternary": [
           {
            "marker": {
             "colorbar": {
              "outlinewidth": 0,
              "ticks": ""
             }
            },
            "type": "scatterternary"
           }
          ],
          "surface": [
           {
            "colorbar": {
             "outlinewidth": 0,
             "ticks": ""
            },
            "colorscale": [
             [
              0,
              "#0d0887"
             ],
             [
              0.1111111111111111,
              "#46039f"
             ],
             [
              0.2222222222222222,
              "#7201a8"
             ],
             [
              0.3333333333333333,
              "#9c179e"
             ],
             [
              0.4444444444444444,
              "#bd3786"
             ],
             [
              0.5555555555555556,
              "#d8576b"
             ],
             [
              0.6666666666666666,
              "#ed7953"
             ],
             [
              0.7777777777777778,
              "#fb9f3a"
             ],
             [
              0.8888888888888888,
              "#fdca26"
             ],
             [
              1,
              "#f0f921"
             ]
            ],
            "type": "surface"
           }
          ],
          "table": [
           {
            "cells": {
             "fill": {
              "color": "#EBF0F8"
             },
             "line": {
              "color": "white"
             }
            },
            "header": {
             "fill": {
              "color": "#C8D4E3"
             },
             "line": {
              "color": "white"
             }
            },
            "type": "table"
           }
          ]
         },
         "layout": {
          "annotationdefaults": {
           "arrowcolor": "#2a3f5f",
           "arrowhead": 0,
           "arrowwidth": 1
          },
          "autotypenumbers": "strict",
          "coloraxis": {
           "colorbar": {
            "outlinewidth": 0,
            "ticks": ""
           }
          },
          "colorscale": {
           "diverging": [
            [
             0,
             "#8e0152"
            ],
            [
             0.1,
             "#c51b7d"
            ],
            [
             0.2,
             "#de77ae"
            ],
            [
             0.3,
             "#f1b6da"
            ],
            [
             0.4,
             "#fde0ef"
            ],
            [
             0.5,
             "#f7f7f7"
            ],
            [
             0.6,
             "#e6f5d0"
            ],
            [
             0.7,
             "#b8e186"
            ],
            [
             0.8,
             "#7fbc41"
            ],
            [
             0.9,
             "#4d9221"
            ],
            [
             1,
             "#276419"
            ]
           ],
           "sequential": [
            [
             0,
             "#0d0887"
            ],
            [
             0.1111111111111111,
             "#46039f"
            ],
            [
             0.2222222222222222,
             "#7201a8"
            ],
            [
             0.3333333333333333,
             "#9c179e"
            ],
            [
             0.4444444444444444,
             "#bd3786"
            ],
            [
             0.5555555555555556,
             "#d8576b"
            ],
            [
             0.6666666666666666,
             "#ed7953"
            ],
            [
             0.7777777777777778,
             "#fb9f3a"
            ],
            [
             0.8888888888888888,
             "#fdca26"
            ],
            [
             1,
             "#f0f921"
            ]
           ],
           "sequentialminus": [
            [
             0,
             "#0d0887"
            ],
            [
             0.1111111111111111,
             "#46039f"
            ],
            [
             0.2222222222222222,
             "#7201a8"
            ],
            [
             0.3333333333333333,
             "#9c179e"
            ],
            [
             0.4444444444444444,
             "#bd3786"
            ],
            [
             0.5555555555555556,
             "#d8576b"
            ],
            [
             0.6666666666666666,
             "#ed7953"
            ],
            [
             0.7777777777777778,
             "#fb9f3a"
            ],
            [
             0.8888888888888888,
             "#fdca26"
            ],
            [
             1,
             "#f0f921"
            ]
           ]
          },
          "colorway": [
           "#636efa",
           "#EF553B",
           "#00cc96",
           "#ab63fa",
           "#FFA15A",
           "#19d3f3",
           "#FF6692",
           "#B6E880",
           "#FF97FF",
           "#FECB52"
          ],
          "font": {
           "color": "#2a3f5f"
          },
          "geo": {
           "bgcolor": "white",
           "lakecolor": "white",
           "landcolor": "#E5ECF6",
           "showlakes": true,
           "showland": true,
           "subunitcolor": "white"
          },
          "hoverlabel": {
           "align": "left"
          },
          "hovermode": "closest",
          "mapbox": {
           "style": "light"
          },
          "paper_bgcolor": "white",
          "plot_bgcolor": "#E5ECF6",
          "polar": {
           "angularaxis": {
            "gridcolor": "white",
            "linecolor": "white",
            "ticks": ""
           },
           "bgcolor": "#E5ECF6",
           "radialaxis": {
            "gridcolor": "white",
            "linecolor": "white",
            "ticks": ""
           }
          },
          "scene": {
           "xaxis": {
            "backgroundcolor": "#E5ECF6",
            "gridcolor": "white",
            "gridwidth": 2,
            "linecolor": "white",
            "showbackground": true,
            "ticks": "",
            "zerolinecolor": "white"
           },
           "yaxis": {
            "backgroundcolor": "#E5ECF6",
            "gridcolor": "white",
            "gridwidth": 2,
            "linecolor": "white",
            "showbackground": true,
            "ticks": "",
            "zerolinecolor": "white"
           },
           "zaxis": {
            "backgroundcolor": "#E5ECF6",
            "gridcolor": "white",
            "gridwidth": 2,
            "linecolor": "white",
            "showbackground": true,
            "ticks": "",
            "zerolinecolor": "white"
           }
          },
          "shapedefaults": {
           "line": {
            "color": "#2a3f5f"
           }
          },
          "ternary": {
           "aaxis": {
            "gridcolor": "white",
            "linecolor": "white",
            "ticks": ""
           },
           "baxis": {
            "gridcolor": "white",
            "linecolor": "white",
            "ticks": ""
           },
           "bgcolor": "#E5ECF6",
           "caxis": {
            "gridcolor": "white",
            "linecolor": "white",
            "ticks": ""
           }
          },
          "title": {
           "x": 0.05
          },
          "xaxis": {
           "automargin": true,
           "gridcolor": "white",
           "linecolor": "white",
           "ticks": "",
           "title": {
            "standoff": 15
           },
           "zerolinecolor": "white",
           "zerolinewidth": 2
          },
          "yaxis": {
           "automargin": true,
           "gridcolor": "white",
           "linecolor": "white",
           "ticks": "",
           "title": {
            "standoff": 15
           },
           "zerolinecolor": "white",
           "zerolinewidth": 2
          }
         }
        },
        "title": {
         "text": "C:/Users/biagi/Desktop/LCs to inspect deltat/CLEAN_GRBs_MAGNITUDES_December2022/Debugging\\130511A.txt_RESCALED"
        },
        "xaxis": {
         "anchor": "y",
         "domain": [
          0,
          1
         ],
         "title": {
          "text": "log Time (s)"
         }
        },
        "yaxis": {
         "anchor": "x",
         "domain": [
          0,
          1
         ],
         "title": {
          "text": "Mag"
         }
        }
       }
      },
      "text/html": [
       "<div>                            <div id=\"f8f20c7c-f4dc-4354-a937-e74911cd28c9\" class=\"plotly-graph-div\" style=\"height:525px; width:100%;\"></div>            <script type=\"text/javascript\">                require([\"plotly\"], function(Plotly) {                    window.PLOTLYENV=window.PLOTLYENV || {};                                    if (document.getElementById(\"f8f20c7c-f4dc-4354-a937-e74911cd28c9\")) {                    Plotly.newPlot(                        \"f8f20c7c-f4dc-4354-a937-e74911cd28c9\",                        [{\"customdata\":[[14620]],\"error_y\":{\"array\":[0.15]},\"hovertemplate\":\"color=white (1)<br>x=%{x}<br>y=%{y}<br>Source=%{customdata[0]}<extra></extra>\",\"legendgroup\":\"white (1)\",\"marker\":{\"color\":\"#636efa\",\"symbol\":\"circle\"},\"mode\":\"markers\",\"name\":\"white (1)\",\"orientation\":\"v\",\"showlegend\":true,\"x\":[2.17],\"xaxis\":\"x\",\"y\":[-19.18],\"yaxis\":\"y\",\"type\":\"scatter\"},{\"customdata\":[[14626],[14626]],\"error_y\":{\"array\":[0.1,0.2]},\"hovertemplate\":\"color=Rc (2)<br>x=%{x}<br>y=%{y}<br>Source=%{customdata[0]}<extra></extra>\",\"legendgroup\":\"Rc (2)\",\"marker\":{\"color\":\"#EF553B\",\"symbol\":\"circle\"},\"mode\":\"markers\",\"name\":\"Rc (2)\",\"orientation\":\"v\",\"showlegend\":true,\"x\":[3.41,3.94],\"xaxis\":\"x\",\"y\":[-20.0,-21.0],\"yaxis\":\"y\",\"type\":\"scatter\"},{\"customdata\":[[14628]],\"error_y\":{\"array\":[0.13]},\"hovertemplate\":\"color=R (1)<br>x=%{x}<br>y=%{y}<br>Source=%{customdata[0]}<extra></extra>\",\"legendgroup\":\"R (1)\",\"marker\":{\"color\":\"#00cc96\",\"symbol\":\"circle\"},\"mode\":\"markers\",\"name\":\"R (1)\",\"orientation\":\"v\",\"showlegend\":true,\"x\":[3.92],\"xaxis\":\"x\",\"y\":[-20.78],\"yaxis\":\"y\",\"type\":\"scatter\"}],                        {\"template\":{\"data\":{\"histogram2dcontour\":[{\"type\":\"histogram2dcontour\",\"colorbar\":{\"outlinewidth\":0,\"ticks\":\"\"},\"colorscale\":[[0.0,\"#0d0887\"],[0.1111111111111111,\"#46039f\"],[0.2222222222222222,\"#7201a8\"],[0.3333333333333333,\"#9c179e\"],[0.4444444444444444,\"#bd3786\"],[0.5555555555555556,\"#d8576b\"],[0.6666666666666666,\"#ed7953\"],[0.7777777777777778,\"#fb9f3a\"],[0.8888888888888888,\"#fdca26\"],[1.0,\"#f0f921\"]]}],\"choropleth\":[{\"type\":\"choropleth\",\"colorbar\":{\"outlinewidth\":0,\"ticks\":\"\"}}],\"histogram2d\":[{\"type\":\"histogram2d\",\"colorbar\":{\"outlinewidth\":0,\"ticks\":\"\"},\"colorscale\":[[0.0,\"#0d0887\"],[0.1111111111111111,\"#46039f\"],[0.2222222222222222,\"#7201a8\"],[0.3333333333333333,\"#9c179e\"],[0.4444444444444444,\"#bd3786\"],[0.5555555555555556,\"#d8576b\"],[0.6666666666666666,\"#ed7953\"],[0.7777777777777778,\"#fb9f3a\"],[0.8888888888888888,\"#fdca26\"],[1.0,\"#f0f921\"]]}],\"heatmap\":[{\"type\":\"heatmap\",\"colorbar\":{\"outlinewidth\":0,\"ticks\":\"\"},\"colorscale\":[[0.0,\"#0d0887\"],[0.1111111111111111,\"#46039f\"],[0.2222222222222222,\"#7201a8\"],[0.3333333333333333,\"#9c179e\"],[0.4444444444444444,\"#bd3786\"],[0.5555555555555556,\"#d8576b\"],[0.6666666666666666,\"#ed7953\"],[0.7777777777777778,\"#fb9f3a\"],[0.8888888888888888,\"#fdca26\"],[1.0,\"#f0f921\"]]}],\"heatmapgl\":[{\"type\":\"heatmapgl\",\"colorbar\":{\"outlinewidth\":0,\"ticks\":\"\"},\"colorscale\":[[0.0,\"#0d0887\"],[0.1111111111111111,\"#46039f\"],[0.2222222222222222,\"#7201a8\"],[0.3333333333333333,\"#9c179e\"],[0.4444444444444444,\"#bd3786\"],[0.5555555555555556,\"#d8576b\"],[0.6666666666666666,\"#ed7953\"],[0.7777777777777778,\"#fb9f3a\"],[0.8888888888888888,\"#fdca26\"],[1.0,\"#f0f921\"]]}],\"contourcarpet\":[{\"type\":\"contourcarpet\",\"colorbar\":{\"outlinewidth\":0,\"ticks\":\"\"}}],\"contour\":[{\"type\":\"contour\",\"colorbar\":{\"outlinewidth\":0,\"ticks\":\"\"},\"colorscale\":[[0.0,\"#0d0887\"],[0.1111111111111111,\"#46039f\"],[0.2222222222222222,\"#7201a8\"],[0.3333333333333333,\"#9c179e\"],[0.4444444444444444,\"#bd3786\"],[0.5555555555555556,\"#d8576b\"],[0.6666666666666666,\"#ed7953\"],[0.7777777777777778,\"#fb9f3a\"],[0.8888888888888888,\"#fdca26\"],[1.0,\"#f0f921\"]]}],\"surface\":[{\"type\":\"surface\",\"colorbar\":{\"outlinewidth\":0,\"ticks\":\"\"},\"colorscale\":[[0.0,\"#0d0887\"],[0.1111111111111111,\"#46039f\"],[0.2222222222222222,\"#7201a8\"],[0.3333333333333333,\"#9c179e\"],[0.4444444444444444,\"#bd3786\"],[0.5555555555555556,\"#d8576b\"],[0.6666666666666666,\"#ed7953\"],[0.7777777777777778,\"#fb9f3a\"],[0.8888888888888888,\"#fdca26\"],[1.0,\"#f0f921\"]]}],\"mesh3d\":[{\"type\":\"mesh3d\",\"colorbar\":{\"outlinewidth\":0,\"ticks\":\"\"}}],\"scatter\":[{\"fillpattern\":{\"fillmode\":\"overlay\",\"size\":10,\"solidity\":0.2},\"type\":\"scatter\"}],\"parcoords\":[{\"type\":\"parcoords\",\"line\":{\"colorbar\":{\"outlinewidth\":0,\"ticks\":\"\"}}}],\"scatterpolargl\":[{\"type\":\"scatterpolargl\",\"marker\":{\"colorbar\":{\"outlinewidth\":0,\"ticks\":\"\"}}}],\"bar\":[{\"error_x\":{\"color\":\"#2a3f5f\"},\"error_y\":{\"color\":\"#2a3f5f\"},\"marker\":{\"line\":{\"color\":\"#E5ECF6\",\"width\":0.5},\"pattern\":{\"fillmode\":\"overlay\",\"size\":10,\"solidity\":0.2}},\"type\":\"bar\"}],\"scattergeo\":[{\"type\":\"scattergeo\",\"marker\":{\"colorbar\":{\"outlinewidth\":0,\"ticks\":\"\"}}}],\"scatterpolar\":[{\"type\":\"scatterpolar\",\"marker\":{\"colorbar\":{\"outlinewidth\":0,\"ticks\":\"\"}}}],\"histogram\":[{\"marker\":{\"pattern\":{\"fillmode\":\"overlay\",\"size\":10,\"solidity\":0.2}},\"type\":\"histogram\"}],\"scattergl\":[{\"type\":\"scattergl\",\"marker\":{\"colorbar\":{\"outlinewidth\":0,\"ticks\":\"\"}}}],\"scatter3d\":[{\"type\":\"scatter3d\",\"line\":{\"colorbar\":{\"outlinewidth\":0,\"ticks\":\"\"}},\"marker\":{\"colorbar\":{\"outlinewidth\":0,\"ticks\":\"\"}}}],\"scattermapbox\":[{\"type\":\"scattermapbox\",\"marker\":{\"colorbar\":{\"outlinewidth\":0,\"ticks\":\"\"}}}],\"scatterternary\":[{\"type\":\"scatterternary\",\"marker\":{\"colorbar\":{\"outlinewidth\":0,\"ticks\":\"\"}}}],\"scattercarpet\":[{\"type\":\"scattercarpet\",\"marker\":{\"colorbar\":{\"outlinewidth\":0,\"ticks\":\"\"}}}],\"carpet\":[{\"aaxis\":{\"endlinecolor\":\"#2a3f5f\",\"gridcolor\":\"white\",\"linecolor\":\"white\",\"minorgridcolor\":\"white\",\"startlinecolor\":\"#2a3f5f\"},\"baxis\":{\"endlinecolor\":\"#2a3f5f\",\"gridcolor\":\"white\",\"linecolor\":\"white\",\"minorgridcolor\":\"white\",\"startlinecolor\":\"#2a3f5f\"},\"type\":\"carpet\"}],\"table\":[{\"cells\":{\"fill\":{\"color\":\"#EBF0F8\"},\"line\":{\"color\":\"white\"}},\"header\":{\"fill\":{\"color\":\"#C8D4E3\"},\"line\":{\"color\":\"white\"}},\"type\":\"table\"}],\"barpolar\":[{\"marker\":{\"line\":{\"color\":\"#E5ECF6\",\"width\":0.5},\"pattern\":{\"fillmode\":\"overlay\",\"size\":10,\"solidity\":0.2}},\"type\":\"barpolar\"}],\"pie\":[{\"automargin\":true,\"type\":\"pie\"}]},\"layout\":{\"autotypenumbers\":\"strict\",\"colorway\":[\"#636efa\",\"#EF553B\",\"#00cc96\",\"#ab63fa\",\"#FFA15A\",\"#19d3f3\",\"#FF6692\",\"#B6E880\",\"#FF97FF\",\"#FECB52\"],\"font\":{\"color\":\"#2a3f5f\"},\"hovermode\":\"closest\",\"hoverlabel\":{\"align\":\"left\"},\"paper_bgcolor\":\"white\",\"plot_bgcolor\":\"#E5ECF6\",\"polar\":{\"bgcolor\":\"#E5ECF6\",\"angularaxis\":{\"gridcolor\":\"white\",\"linecolor\":\"white\",\"ticks\":\"\"},\"radialaxis\":{\"gridcolor\":\"white\",\"linecolor\":\"white\",\"ticks\":\"\"}},\"ternary\":{\"bgcolor\":\"#E5ECF6\",\"aaxis\":{\"gridcolor\":\"white\",\"linecolor\":\"white\",\"ticks\":\"\"},\"baxis\":{\"gridcolor\":\"white\",\"linecolor\":\"white\",\"ticks\":\"\"},\"caxis\":{\"gridcolor\":\"white\",\"linecolor\":\"white\",\"ticks\":\"\"}},\"coloraxis\":{\"colorbar\":{\"outlinewidth\":0,\"ticks\":\"\"}},\"colorscale\":{\"sequential\":[[0.0,\"#0d0887\"],[0.1111111111111111,\"#46039f\"],[0.2222222222222222,\"#7201a8\"],[0.3333333333333333,\"#9c179e\"],[0.4444444444444444,\"#bd3786\"],[0.5555555555555556,\"#d8576b\"],[0.6666666666666666,\"#ed7953\"],[0.7777777777777778,\"#fb9f3a\"],[0.8888888888888888,\"#fdca26\"],[1.0,\"#f0f921\"]],\"sequentialminus\":[[0.0,\"#0d0887\"],[0.1111111111111111,\"#46039f\"],[0.2222222222222222,\"#7201a8\"],[0.3333333333333333,\"#9c179e\"],[0.4444444444444444,\"#bd3786\"],[0.5555555555555556,\"#d8576b\"],[0.6666666666666666,\"#ed7953\"],[0.7777777777777778,\"#fb9f3a\"],[0.8888888888888888,\"#fdca26\"],[1.0,\"#f0f921\"]],\"diverging\":[[0,\"#8e0152\"],[0.1,\"#c51b7d\"],[0.2,\"#de77ae\"],[0.3,\"#f1b6da\"],[0.4,\"#fde0ef\"],[0.5,\"#f7f7f7\"],[0.6,\"#e6f5d0\"],[0.7,\"#b8e186\"],[0.8,\"#7fbc41\"],[0.9,\"#4d9221\"],[1,\"#276419\"]]},\"xaxis\":{\"gridcolor\":\"white\",\"linecolor\":\"white\",\"ticks\":\"\",\"title\":{\"standoff\":15},\"zerolinecolor\":\"white\",\"automargin\":true,\"zerolinewidth\":2},\"yaxis\":{\"gridcolor\":\"white\",\"linecolor\":\"white\",\"ticks\":\"\",\"title\":{\"standoff\":15},\"zerolinecolor\":\"white\",\"automargin\":true,\"zerolinewidth\":2},\"scene\":{\"xaxis\":{\"backgroundcolor\":\"#E5ECF6\",\"gridcolor\":\"white\",\"linecolor\":\"white\",\"showbackground\":true,\"ticks\":\"\",\"zerolinecolor\":\"white\",\"gridwidth\":2},\"yaxis\":{\"backgroundcolor\":\"#E5ECF6\",\"gridcolor\":\"white\",\"linecolor\":\"white\",\"showbackground\":true,\"ticks\":\"\",\"zerolinecolor\":\"white\",\"gridwidth\":2},\"zaxis\":{\"backgroundcolor\":\"#E5ECF6\",\"gridcolor\":\"white\",\"linecolor\":\"white\",\"showbackground\":true,\"ticks\":\"\",\"zerolinecolor\":\"white\",\"gridwidth\":2}},\"shapedefaults\":{\"line\":{\"color\":\"#2a3f5f\"}},\"annotationdefaults\":{\"arrowcolor\":\"#2a3f5f\",\"arrowhead\":0,\"arrowwidth\":1},\"geo\":{\"bgcolor\":\"white\",\"landcolor\":\"#E5ECF6\",\"subunitcolor\":\"white\",\"showland\":true,\"showlakes\":true,\"lakecolor\":\"white\"},\"title\":{\"x\":0.05},\"mapbox\":{\"style\":\"light\"}}},\"xaxis\":{\"anchor\":\"y\",\"domain\":[0.0,1.0],\"title\":{\"text\":\"log Time (s)\"}},\"yaxis\":{\"anchor\":\"x\",\"domain\":[0.0,1.0],\"title\":{\"text\":\"Mag\"}},\"legend\":{\"title\":{\"text\":\"color\"},\"tracegroupgap\":0},\"title\":{\"text\":\"C:/Users/biagi/Desktop/LCs to inspect deltat/CLEAN_GRBs_MAGNITUDES_December2022/Debugging\\\\130511A.txt_RESCALED\"}},                        {\"responsive\": true}                    ).then(function(){\n",
       "                            \n",
       "var gd = document.getElementById('f8f20c7c-f4dc-4354-a937-e74911cd28c9');\n",
       "var x = new MutationObserver(function (mutations, observer) {{\n",
       "        var display = window.getComputedStyle(gd).display;\n",
       "        if (!display || display === 'none') {{\n",
       "            console.log([gd, 'removed!']);\n",
       "            Plotly.purge(gd);\n",
       "            observer.disconnect();\n",
       "        }}\n",
       "}});\n",
       "\n",
       "// Listen for the removal of the full notebook cells\n",
       "var notebookContainer = gd.closest('#notebook-container');\n",
       "if (notebookContainer) {{\n",
       "    x.observe(notebookContainer, {childList: true});\n",
       "}}\n",
       "\n",
       "// Listen for the clearing of the current output cell\n",
       "var outputEl = gd.closest('.output');\n",
       "if (outputEl) {{\n",
       "    x.observe(outputEl, {childList: true});\n",
       "}}\n",
       "\n",
       "                        })                };                });            </script>        </div>"
      ]
     },
     "metadata": {},
     "output_type": "display_data"
    },
    {
     "data": {
      "application/vnd.plotly.v1+json": {
       "config": {
        "plotlyServerURL": "https://plot.ly"
       },
       "data": [
        {
         "customdata": [
          [
           14842
          ],
          [
           14859
          ],
          [
           14859
          ],
          [
           14859
          ]
         ],
         "error_y": {
          "array": [
           0.14,
           0.04,
           0.19,
           0.15
          ]
         },
         "hovertemplate": "color=white (4)<br>x=%{x}<br>y=%{y}<br>Source=%{customdata[0]}<extra></extra>",
         "legendgroup": "white (4)",
         "marker": {
          "color": "#636efa",
          "symbol": "circle"
         },
         "mode": "markers",
         "name": "white (4)",
         "orientation": "v",
         "showlegend": true,
         "type": "scatter",
         "x": [
          2.3324384599156054,
          2.3324384599156054,
          3.2237554536572413,
          3.7842248954398956
         ],
         "xaxis": "x",
         "y": [
          -17.91,
          -17.85,
          -19.56,
          -20.47
         ],
         "yaxis": "y"
        },
        {
         "customdata": [
          [
           14859
          ],
          [
           14859
          ]
         ],
         "error_y": {
          "array": [
           0.09,
           0.3
          ]
         },
         "hovertemplate": "color=U (2)<br>x=%{x}<br>y=%{y}<br>Source=%{customdata[0]}<extra></extra>",
         "legendgroup": "U (2)",
         "marker": {
          "color": "#EF553B",
          "symbol": "circle"
         },
         "mode": "markers",
         "name": "U (2)",
         "orientation": "v",
         "showlegend": true,
         "type": "scatter",
         "x": [
          2.5676144427308447,
          3.2545480771089736
         ],
         "xaxis": "x",
         "y": [
          -17.67,
          -19
         ],
         "yaxis": "y"
        },
        {
         "customdata": [
          [
           14845
          ]
         ],
         "error_y": {
          "array": [
           0.16
          ]
         },
         "hovertemplate": "color=J (1)<br>x=%{x}<br>y=%{y}<br>Source=%{customdata[0]}<extra></extra>",
         "legendgroup": "J (1)",
         "marker": {
          "color": "#00cc96",
          "symbol": "circle"
         },
         "mode": "markers",
         "name": "J (1)",
         "orientation": "v",
         "showlegend": true,
         "type": "scatter",
         "x": [
          3.228400358703005
         ],
         "xaxis": "x",
         "y": [
          -17.49
         ],
         "yaxis": "y"
        },
        {
         "customdata": [
          [
           14845
          ]
         ],
         "error_y": {
          "array": [
           0.2
          ]
         },
         "hovertemplate": "color=H (1)<br>x=%{x}<br>y=%{y}<br>Source=%{customdata[0]}<extra></extra>",
         "legendgroup": "H (1)",
         "marker": {
          "color": "#ab63fa",
          "symbol": "circle"
         },
         "mode": "markers",
         "name": "H (1)",
         "orientation": "v",
         "showlegend": true,
         "type": "scatter",
         "x": [
          3.228400358703005
         ],
         "xaxis": "x",
         "y": [
          -16.95
         ],
         "yaxis": "y"
        },
        {
         "customdata": [
          [
           14859
          ],
          [
           14854
          ],
          [
           14859
          ]
         ],
         "error_y": {
          "array": [
           0.2,
           0.12,
           0.38
          ]
         },
         "hovertemplate": "color=B (3)<br>x=%{x}<br>y=%{y}<br>Source=%{customdata[0]}<extra></extra>",
         "legendgroup": "B (3)",
         "marker": {
          "color": "#FFA15A",
          "symbol": "circle"
         },
         "mode": "markers",
         "name": "B (3)",
         "orientation": "v",
         "showlegend": true,
         "type": "scatter",
         "x": [
          3.239549720840473,
          4.038222638368718,
          4.1108926008022175
         ],
         "xaxis": "x",
         "y": [
          -19.12,
          -21.35,
          -21.72
         ],
         "yaxis": "y"
        },
        {
         "customdata": [
          [
           14891
          ],
          [
           14891
          ],
          [
           14891
          ]
         ],
         "error_y": {
          "array": [
           0.15,
           0.19,
           0.16
          ]
         },
         "hovertemplate": "color=Unfiltered (3)<br>x=%{x}<br>y=%{y}<br>Source=%{customdata[0]}<extra></extra>",
         "legendgroup": "Unfiltered (3)",
         "marker": {
          "color": "#19d3f3",
          "symbol": "circle"
         },
         "mode": "markers",
         "name": "Unfiltered (3)",
         "orientation": "v",
         "showlegend": true,
         "type": "scatter",
         "x": [
          3.3877456596088638,
          3.4407517004791854,
          3.4879863311293935
         ],
         "xaxis": "x",
         "y": [
          -19.09,
          -19.34,
          -19.17
         ],
         "yaxis": "y"
        },
        {
         "customdata": [
          [
           14860
          ],
          [
           14860
          ]
         ],
         "error_y": {
          "array": [
           0.07,
           0.1
          ]
         },
         "hovertemplate": "color=Clear (2)<br>x=%{x}<br>y=%{y}<br>Source=%{customdata[0]}<extra></extra>",
         "legendgroup": "Clear (2)",
         "marker": {
          "color": "#FF6692",
          "symbol": "circle"
         },
         "mode": "markers",
         "name": "Clear (2)",
         "orientation": "v",
         "showlegend": true,
         "type": "scatter",
         "x": [
          3.4844108906214526,
          3.62055036377341
         ],
         "xaxis": "x",
         "y": [
          -19.33,
          -19.56
         ],
         "yaxis": "y"
        },
        {
         "customdata": [
          [
           14891
          ],
          [
           14891
          ],
          [
           14891
          ],
          [
           14854
          ],
          [
           14907
          ]
         ],
         "error_y": {
          "array": [
           0.32,
           0.44,
           0.43,
           0.18,
           0.05
          ]
         },
         "hovertemplate": "color=R (5)<br>x=%{x}<br>y=%{y}<br>Source=%{customdata[0]}<extra></extra>",
         "legendgroup": "R (5)",
         "marker": {
          "color": "#B6E880",
          "symbol": "circle"
         },
         "mode": "markers",
         "name": "R (5)",
         "orientation": "v",
         "showlegend": true,
         "type": "scatter",
         "x": [
          3.570192561095726,
          3.6057358938767465,
          3.638589083292717,
          4.038222638368718,
          4.772837858185645
         ],
         "xaxis": "x",
         "y": [
          -19.58,
          -19.93,
          -19.93,
          -20.35,
          -21.7
         ],
         "yaxis": "y"
        },
        {
         "customdata": [
          [
           14854
          ]
         ],
         "error_y": {
          "array": [
           0.26
          ]
         },
         "hovertemplate": "color=V (1)<br>x=%{x}<br>y=%{y}<br>Source=%{customdata[0]}<extra></extra>",
         "legendgroup": "V (1)",
         "marker": {
          "color": "#FF97FF",
          "symbol": "circle"
         },
         "mode": "markers",
         "name": "V (1)",
         "orientation": "v",
         "showlegend": true,
         "type": "scatter",
         "x": [
          4.038222638368718
         ],
         "xaxis": "x",
         "y": [
          -20.9
         ],
         "yaxis": "y"
        }
       ],
       "layout": {
        "legend": {
         "title": {
          "text": "color"
         },
         "tracegroupgap": 0
        },
        "template": {
         "data": {
          "bar": [
           {
            "error_x": {
             "color": "#2a3f5f"
            },
            "error_y": {
             "color": "#2a3f5f"
            },
            "marker": {
             "line": {
              "color": "#E5ECF6",
              "width": 0.5
             },
             "pattern": {
              "fillmode": "overlay",
              "size": 10,
              "solidity": 0.2
             }
            },
            "type": "bar"
           }
          ],
          "barpolar": [
           {
            "marker": {
             "line": {
              "color": "#E5ECF6",
              "width": 0.5
             },
             "pattern": {
              "fillmode": "overlay",
              "size": 10,
              "solidity": 0.2
             }
            },
            "type": "barpolar"
           }
          ],
          "carpet": [
           {
            "aaxis": {
             "endlinecolor": "#2a3f5f",
             "gridcolor": "white",
             "linecolor": "white",
             "minorgridcolor": "white",
             "startlinecolor": "#2a3f5f"
            },
            "baxis": {
             "endlinecolor": "#2a3f5f",
             "gridcolor": "white",
             "linecolor": "white",
             "minorgridcolor": "white",
             "startlinecolor": "#2a3f5f"
            },
            "type": "carpet"
           }
          ],
          "choropleth": [
           {
            "colorbar": {
             "outlinewidth": 0,
             "ticks": ""
            },
            "type": "choropleth"
           }
          ],
          "contour": [
           {
            "colorbar": {
             "outlinewidth": 0,
             "ticks": ""
            },
            "colorscale": [
             [
              0,
              "#0d0887"
             ],
             [
              0.1111111111111111,
              "#46039f"
             ],
             [
              0.2222222222222222,
              "#7201a8"
             ],
             [
              0.3333333333333333,
              "#9c179e"
             ],
             [
              0.4444444444444444,
              "#bd3786"
             ],
             [
              0.5555555555555556,
              "#d8576b"
             ],
             [
              0.6666666666666666,
              "#ed7953"
             ],
             [
              0.7777777777777778,
              "#fb9f3a"
             ],
             [
              0.8888888888888888,
              "#fdca26"
             ],
             [
              1,
              "#f0f921"
             ]
            ],
            "type": "contour"
           }
          ],
          "contourcarpet": [
           {
            "colorbar": {
             "outlinewidth": 0,
             "ticks": ""
            },
            "type": "contourcarpet"
           }
          ],
          "heatmap": [
           {
            "colorbar": {
             "outlinewidth": 0,
             "ticks": ""
            },
            "colorscale": [
             [
              0,
              "#0d0887"
             ],
             [
              0.1111111111111111,
              "#46039f"
             ],
             [
              0.2222222222222222,
              "#7201a8"
             ],
             [
              0.3333333333333333,
              "#9c179e"
             ],
             [
              0.4444444444444444,
              "#bd3786"
             ],
             [
              0.5555555555555556,
              "#d8576b"
             ],
             [
              0.6666666666666666,
              "#ed7953"
             ],
             [
              0.7777777777777778,
              "#fb9f3a"
             ],
             [
              0.8888888888888888,
              "#fdca26"
             ],
             [
              1,
              "#f0f921"
             ]
            ],
            "type": "heatmap"
           }
          ],
          "heatmapgl": [
           {
            "colorbar": {
             "outlinewidth": 0,
             "ticks": ""
            },
            "colorscale": [
             [
              0,
              "#0d0887"
             ],
             [
              0.1111111111111111,
              "#46039f"
             ],
             [
              0.2222222222222222,
              "#7201a8"
             ],
             [
              0.3333333333333333,
              "#9c179e"
             ],
             [
              0.4444444444444444,
              "#bd3786"
             ],
             [
              0.5555555555555556,
              "#d8576b"
             ],
             [
              0.6666666666666666,
              "#ed7953"
             ],
             [
              0.7777777777777778,
              "#fb9f3a"
             ],
             [
              0.8888888888888888,
              "#fdca26"
             ],
             [
              1,
              "#f0f921"
             ]
            ],
            "type": "heatmapgl"
           }
          ],
          "histogram": [
           {
            "marker": {
             "pattern": {
              "fillmode": "overlay",
              "size": 10,
              "solidity": 0.2
             }
            },
            "type": "histogram"
           }
          ],
          "histogram2d": [
           {
            "colorbar": {
             "outlinewidth": 0,
             "ticks": ""
            },
            "colorscale": [
             [
              0,
              "#0d0887"
             ],
             [
              0.1111111111111111,
              "#46039f"
             ],
             [
              0.2222222222222222,
              "#7201a8"
             ],
             [
              0.3333333333333333,
              "#9c179e"
             ],
             [
              0.4444444444444444,
              "#bd3786"
             ],
             [
              0.5555555555555556,
              "#d8576b"
             ],
             [
              0.6666666666666666,
              "#ed7953"
             ],
             [
              0.7777777777777778,
              "#fb9f3a"
             ],
             [
              0.8888888888888888,
              "#fdca26"
             ],
             [
              1,
              "#f0f921"
             ]
            ],
            "type": "histogram2d"
           }
          ],
          "histogram2dcontour": [
           {
            "colorbar": {
             "outlinewidth": 0,
             "ticks": ""
            },
            "colorscale": [
             [
              0,
              "#0d0887"
             ],
             [
              0.1111111111111111,
              "#46039f"
             ],
             [
              0.2222222222222222,
              "#7201a8"
             ],
             [
              0.3333333333333333,
              "#9c179e"
             ],
             [
              0.4444444444444444,
              "#bd3786"
             ],
             [
              0.5555555555555556,
              "#d8576b"
             ],
             [
              0.6666666666666666,
              "#ed7953"
             ],
             [
              0.7777777777777778,
              "#fb9f3a"
             ],
             [
              0.8888888888888888,
              "#fdca26"
             ],
             [
              1,
              "#f0f921"
             ]
            ],
            "type": "histogram2dcontour"
           }
          ],
          "mesh3d": [
           {
            "colorbar": {
             "outlinewidth": 0,
             "ticks": ""
            },
            "type": "mesh3d"
           }
          ],
          "parcoords": [
           {
            "line": {
             "colorbar": {
              "outlinewidth": 0,
              "ticks": ""
             }
            },
            "type": "parcoords"
           }
          ],
          "pie": [
           {
            "automargin": true,
            "type": "pie"
           }
          ],
          "scatter": [
           {
            "fillpattern": {
             "fillmode": "overlay",
             "size": 10,
             "solidity": 0.2
            },
            "type": "scatter"
           }
          ],
          "scatter3d": [
           {
            "line": {
             "colorbar": {
              "outlinewidth": 0,
              "ticks": ""
             }
            },
            "marker": {
             "colorbar": {
              "outlinewidth": 0,
              "ticks": ""
             }
            },
            "type": "scatter3d"
           }
          ],
          "scattercarpet": [
           {
            "marker": {
             "colorbar": {
              "outlinewidth": 0,
              "ticks": ""
             }
            },
            "type": "scattercarpet"
           }
          ],
          "scattergeo": [
           {
            "marker": {
             "colorbar": {
              "outlinewidth": 0,
              "ticks": ""
             }
            },
            "type": "scattergeo"
           }
          ],
          "scattergl": [
           {
            "marker": {
             "colorbar": {
              "outlinewidth": 0,
              "ticks": ""
             }
            },
            "type": "scattergl"
           }
          ],
          "scattermapbox": [
           {
            "marker": {
             "colorbar": {
              "outlinewidth": 0,
              "ticks": ""
             }
            },
            "type": "scattermapbox"
           }
          ],
          "scatterpolar": [
           {
            "marker": {
             "colorbar": {
              "outlinewidth": 0,
              "ticks": ""
             }
            },
            "type": "scatterpolar"
           }
          ],
          "scatterpolargl": [
           {
            "marker": {
             "colorbar": {
              "outlinewidth": 0,
              "ticks": ""
             }
            },
            "type": "scatterpolargl"
           }
          ],
          "scatterternary": [
           {
            "marker": {
             "colorbar": {
              "outlinewidth": 0,
              "ticks": ""
             }
            },
            "type": "scatterternary"
           }
          ],
          "surface": [
           {
            "colorbar": {
             "outlinewidth": 0,
             "ticks": ""
            },
            "colorscale": [
             [
              0,
              "#0d0887"
             ],
             [
              0.1111111111111111,
              "#46039f"
             ],
             [
              0.2222222222222222,
              "#7201a8"
             ],
             [
              0.3333333333333333,
              "#9c179e"
             ],
             [
              0.4444444444444444,
              "#bd3786"
             ],
             [
              0.5555555555555556,
              "#d8576b"
             ],
             [
              0.6666666666666666,
              "#ed7953"
             ],
             [
              0.7777777777777778,
              "#fb9f3a"
             ],
             [
              0.8888888888888888,
              "#fdca26"
             ],
             [
              1,
              "#f0f921"
             ]
            ],
            "type": "surface"
           }
          ],
          "table": [
           {
            "cells": {
             "fill": {
              "color": "#EBF0F8"
             },
             "line": {
              "color": "white"
             }
            },
            "header": {
             "fill": {
              "color": "#C8D4E3"
             },
             "line": {
              "color": "white"
             }
            },
            "type": "table"
           }
          ]
         },
         "layout": {
          "annotationdefaults": {
           "arrowcolor": "#2a3f5f",
           "arrowhead": 0,
           "arrowwidth": 1
          },
          "autotypenumbers": "strict",
          "coloraxis": {
           "colorbar": {
            "outlinewidth": 0,
            "ticks": ""
           }
          },
          "colorscale": {
           "diverging": [
            [
             0,
             "#8e0152"
            ],
            [
             0.1,
             "#c51b7d"
            ],
            [
             0.2,
             "#de77ae"
            ],
            [
             0.3,
             "#f1b6da"
            ],
            [
             0.4,
             "#fde0ef"
            ],
            [
             0.5,
             "#f7f7f7"
            ],
            [
             0.6,
             "#e6f5d0"
            ],
            [
             0.7,
             "#b8e186"
            ],
            [
             0.8,
             "#7fbc41"
            ],
            [
             0.9,
             "#4d9221"
            ],
            [
             1,
             "#276419"
            ]
           ],
           "sequential": [
            [
             0,
             "#0d0887"
            ],
            [
             0.1111111111111111,
             "#46039f"
            ],
            [
             0.2222222222222222,
             "#7201a8"
            ],
            [
             0.3333333333333333,
             "#9c179e"
            ],
            [
             0.4444444444444444,
             "#bd3786"
            ],
            [
             0.5555555555555556,
             "#d8576b"
            ],
            [
             0.6666666666666666,
             "#ed7953"
            ],
            [
             0.7777777777777778,
             "#fb9f3a"
            ],
            [
             0.8888888888888888,
             "#fdca26"
            ],
            [
             1,
             "#f0f921"
            ]
           ],
           "sequentialminus": [
            [
             0,
             "#0d0887"
            ],
            [
             0.1111111111111111,
             "#46039f"
            ],
            [
             0.2222222222222222,
             "#7201a8"
            ],
            [
             0.3333333333333333,
             "#9c179e"
            ],
            [
             0.4444444444444444,
             "#bd3786"
            ],
            [
             0.5555555555555556,
             "#d8576b"
            ],
            [
             0.6666666666666666,
             "#ed7953"
            ],
            [
             0.7777777777777778,
             "#fb9f3a"
            ],
            [
             0.8888888888888888,
             "#fdca26"
            ],
            [
             1,
             "#f0f921"
            ]
           ]
          },
          "colorway": [
           "#636efa",
           "#EF553B",
           "#00cc96",
           "#ab63fa",
           "#FFA15A",
           "#19d3f3",
           "#FF6692",
           "#B6E880",
           "#FF97FF",
           "#FECB52"
          ],
          "font": {
           "color": "#2a3f5f"
          },
          "geo": {
           "bgcolor": "white",
           "lakecolor": "white",
           "landcolor": "#E5ECF6",
           "showlakes": true,
           "showland": true,
           "subunitcolor": "white"
          },
          "hoverlabel": {
           "align": "left"
          },
          "hovermode": "closest",
          "mapbox": {
           "style": "light"
          },
          "paper_bgcolor": "white",
          "plot_bgcolor": "#E5ECF6",
          "polar": {
           "angularaxis": {
            "gridcolor": "white",
            "linecolor": "white",
            "ticks": ""
           },
           "bgcolor": "#E5ECF6",
           "radialaxis": {
            "gridcolor": "white",
            "linecolor": "white",
            "ticks": ""
           }
          },
          "scene": {
           "xaxis": {
            "backgroundcolor": "#E5ECF6",
            "gridcolor": "white",
            "gridwidth": 2,
            "linecolor": "white",
            "showbackground": true,
            "ticks": "",
            "zerolinecolor": "white"
           },
           "yaxis": {
            "backgroundcolor": "#E5ECF6",
            "gridcolor": "white",
            "gridwidth": 2,
            "linecolor": "white",
            "showbackground": true,
            "ticks": "",
            "zerolinecolor": "white"
           },
           "zaxis": {
            "backgroundcolor": "#E5ECF6",
            "gridcolor": "white",
            "gridwidth": 2,
            "linecolor": "white",
            "showbackground": true,
            "ticks": "",
            "zerolinecolor": "white"
           }
          },
          "shapedefaults": {
           "line": {
            "color": "#2a3f5f"
           }
          },
          "ternary": {
           "aaxis": {
            "gridcolor": "white",
            "linecolor": "white",
            "ticks": ""
           },
           "baxis": {
            "gridcolor": "white",
            "linecolor": "white",
            "ticks": ""
           },
           "bgcolor": "#E5ECF6",
           "caxis": {
            "gridcolor": "white",
            "linecolor": "white",
            "ticks": ""
           }
          },
          "title": {
           "x": 0.05
          },
          "xaxis": {
           "automargin": true,
           "gridcolor": "white",
           "linecolor": "white",
           "ticks": "",
           "title": {
            "standoff": 15
           },
           "zerolinecolor": "white",
           "zerolinewidth": 2
          },
          "yaxis": {
           "automargin": true,
           "gridcolor": "white",
           "linecolor": "white",
           "ticks": "",
           "title": {
            "standoff": 15
           },
           "zerolinecolor": "white",
           "zerolinewidth": 2
          }
         }
        },
        "title": {
         "text": "C:/Users/biagi/Desktop/LCs to inspect deltat/CLEAN_GRBs_MAGNITUDES_December2022/Debugging\\130610A.txt"
        },
        "xaxis": {
         "anchor": "y",
         "domain": [
          0,
          1
         ],
         "title": {
          "text": "log Time (s)"
         }
        },
        "yaxis": {
         "anchor": "x",
         "domain": [
          0,
          1
         ],
         "title": {
          "text": "Mag"
         }
        }
       }
      },
      "text/html": [
       "<div>                            <div id=\"1dcd1249-d04d-4904-9007-225d661a2bcd\" class=\"plotly-graph-div\" style=\"height:525px; width:100%;\"></div>            <script type=\"text/javascript\">                require([\"plotly\"], function(Plotly) {                    window.PLOTLYENV=window.PLOTLYENV || {};                                    if (document.getElementById(\"1dcd1249-d04d-4904-9007-225d661a2bcd\")) {                    Plotly.newPlot(                        \"1dcd1249-d04d-4904-9007-225d661a2bcd\",                        [{\"customdata\":[[14842],[14859],[14859],[14859]],\"error_y\":{\"array\":[0.14,0.04,0.19,0.15]},\"hovertemplate\":\"color=white (4)<br>x=%{x}<br>y=%{y}<br>Source=%{customdata[0]}<extra></extra>\",\"legendgroup\":\"white (4)\",\"marker\":{\"color\":\"#636efa\",\"symbol\":\"circle\"},\"mode\":\"markers\",\"name\":\"white (4)\",\"orientation\":\"v\",\"showlegend\":true,\"x\":[2.3324384599156054,2.3324384599156054,3.2237554536572413,3.7842248954398956],\"xaxis\":\"x\",\"y\":[-17.91,-17.85,-19.56,-20.47],\"yaxis\":\"y\",\"type\":\"scatter\"},{\"customdata\":[[14859],[14859]],\"error_y\":{\"array\":[0.09,0.3]},\"hovertemplate\":\"color=U (2)<br>x=%{x}<br>y=%{y}<br>Source=%{customdata[0]}<extra></extra>\",\"legendgroup\":\"U (2)\",\"marker\":{\"color\":\"#EF553B\",\"symbol\":\"circle\"},\"mode\":\"markers\",\"name\":\"U (2)\",\"orientation\":\"v\",\"showlegend\":true,\"x\":[2.5676144427308447,3.2545480771089736],\"xaxis\":\"x\",\"y\":[-17.67,-19.0],\"yaxis\":\"y\",\"type\":\"scatter\"},{\"customdata\":[[14845]],\"error_y\":{\"array\":[0.16]},\"hovertemplate\":\"color=J (1)<br>x=%{x}<br>y=%{y}<br>Source=%{customdata[0]}<extra></extra>\",\"legendgroup\":\"J (1)\",\"marker\":{\"color\":\"#00cc96\",\"symbol\":\"circle\"},\"mode\":\"markers\",\"name\":\"J (1)\",\"orientation\":\"v\",\"showlegend\":true,\"x\":[3.228400358703005],\"xaxis\":\"x\",\"y\":[-17.49],\"yaxis\":\"y\",\"type\":\"scatter\"},{\"customdata\":[[14845]],\"error_y\":{\"array\":[0.2]},\"hovertemplate\":\"color=H (1)<br>x=%{x}<br>y=%{y}<br>Source=%{customdata[0]}<extra></extra>\",\"legendgroup\":\"H (1)\",\"marker\":{\"color\":\"#ab63fa\",\"symbol\":\"circle\"},\"mode\":\"markers\",\"name\":\"H (1)\",\"orientation\":\"v\",\"showlegend\":true,\"x\":[3.228400358703005],\"xaxis\":\"x\",\"y\":[-16.95],\"yaxis\":\"y\",\"type\":\"scatter\"},{\"customdata\":[[14859],[14854],[14859]],\"error_y\":{\"array\":[0.2,0.12,0.38]},\"hovertemplate\":\"color=B (3)<br>x=%{x}<br>y=%{y}<br>Source=%{customdata[0]}<extra></extra>\",\"legendgroup\":\"B (3)\",\"marker\":{\"color\":\"#FFA15A\",\"symbol\":\"circle\"},\"mode\":\"markers\",\"name\":\"B (3)\",\"orientation\":\"v\",\"showlegend\":true,\"x\":[3.239549720840473,4.038222638368718,4.1108926008022175],\"xaxis\":\"x\",\"y\":[-19.12,-21.35,-21.72],\"yaxis\":\"y\",\"type\":\"scatter\"},{\"customdata\":[[14891],[14891],[14891]],\"error_y\":{\"array\":[0.15,0.19,0.16]},\"hovertemplate\":\"color=Unfiltered (3)<br>x=%{x}<br>y=%{y}<br>Source=%{customdata[0]}<extra></extra>\",\"legendgroup\":\"Unfiltered (3)\",\"marker\":{\"color\":\"#19d3f3\",\"symbol\":\"circle\"},\"mode\":\"markers\",\"name\":\"Unfiltered (3)\",\"orientation\":\"v\",\"showlegend\":true,\"x\":[3.3877456596088638,3.4407517004791854,3.4879863311293935],\"xaxis\":\"x\",\"y\":[-19.09,-19.34,-19.17],\"yaxis\":\"y\",\"type\":\"scatter\"},{\"customdata\":[[14860],[14860]],\"error_y\":{\"array\":[0.07,0.1]},\"hovertemplate\":\"color=Clear (2)<br>x=%{x}<br>y=%{y}<br>Source=%{customdata[0]}<extra></extra>\",\"legendgroup\":\"Clear (2)\",\"marker\":{\"color\":\"#FF6692\",\"symbol\":\"circle\"},\"mode\":\"markers\",\"name\":\"Clear (2)\",\"orientation\":\"v\",\"showlegend\":true,\"x\":[3.4844108906214526,3.62055036377341],\"xaxis\":\"x\",\"y\":[-19.33,-19.56],\"yaxis\":\"y\",\"type\":\"scatter\"},{\"customdata\":[[14891],[14891],[14891],[14854],[14907]],\"error_y\":{\"array\":[0.32,0.44,0.43,0.18,0.05]},\"hovertemplate\":\"color=R (5)<br>x=%{x}<br>y=%{y}<br>Source=%{customdata[0]}<extra></extra>\",\"legendgroup\":\"R (5)\",\"marker\":{\"color\":\"#B6E880\",\"symbol\":\"circle\"},\"mode\":\"markers\",\"name\":\"R (5)\",\"orientation\":\"v\",\"showlegend\":true,\"x\":[3.570192561095726,3.6057358938767465,3.638589083292717,4.038222638368718,4.772837858185645],\"xaxis\":\"x\",\"y\":[-19.58,-19.93,-19.93,-20.35,-21.7],\"yaxis\":\"y\",\"type\":\"scatter\"},{\"customdata\":[[14854]],\"error_y\":{\"array\":[0.26]},\"hovertemplate\":\"color=V (1)<br>x=%{x}<br>y=%{y}<br>Source=%{customdata[0]}<extra></extra>\",\"legendgroup\":\"V (1)\",\"marker\":{\"color\":\"#FF97FF\",\"symbol\":\"circle\"},\"mode\":\"markers\",\"name\":\"V (1)\",\"orientation\":\"v\",\"showlegend\":true,\"x\":[4.038222638368718],\"xaxis\":\"x\",\"y\":[-20.9],\"yaxis\":\"y\",\"type\":\"scatter\"}],                        {\"template\":{\"data\":{\"histogram2dcontour\":[{\"type\":\"histogram2dcontour\",\"colorbar\":{\"outlinewidth\":0,\"ticks\":\"\"},\"colorscale\":[[0.0,\"#0d0887\"],[0.1111111111111111,\"#46039f\"],[0.2222222222222222,\"#7201a8\"],[0.3333333333333333,\"#9c179e\"],[0.4444444444444444,\"#bd3786\"],[0.5555555555555556,\"#d8576b\"],[0.6666666666666666,\"#ed7953\"],[0.7777777777777778,\"#fb9f3a\"],[0.8888888888888888,\"#fdca26\"],[1.0,\"#f0f921\"]]}],\"choropleth\":[{\"type\":\"choropleth\",\"colorbar\":{\"outlinewidth\":0,\"ticks\":\"\"}}],\"histogram2d\":[{\"type\":\"histogram2d\",\"colorbar\":{\"outlinewidth\":0,\"ticks\":\"\"},\"colorscale\":[[0.0,\"#0d0887\"],[0.1111111111111111,\"#46039f\"],[0.2222222222222222,\"#7201a8\"],[0.3333333333333333,\"#9c179e\"],[0.4444444444444444,\"#bd3786\"],[0.5555555555555556,\"#d8576b\"],[0.6666666666666666,\"#ed7953\"],[0.7777777777777778,\"#fb9f3a\"],[0.8888888888888888,\"#fdca26\"],[1.0,\"#f0f921\"]]}],\"heatmap\":[{\"type\":\"heatmap\",\"colorbar\":{\"outlinewidth\":0,\"ticks\":\"\"},\"colorscale\":[[0.0,\"#0d0887\"],[0.1111111111111111,\"#46039f\"],[0.2222222222222222,\"#7201a8\"],[0.3333333333333333,\"#9c179e\"],[0.4444444444444444,\"#bd3786\"],[0.5555555555555556,\"#d8576b\"],[0.6666666666666666,\"#ed7953\"],[0.7777777777777778,\"#fb9f3a\"],[0.8888888888888888,\"#fdca26\"],[1.0,\"#f0f921\"]]}],\"heatmapgl\":[{\"type\":\"heatmapgl\",\"colorbar\":{\"outlinewidth\":0,\"ticks\":\"\"},\"colorscale\":[[0.0,\"#0d0887\"],[0.1111111111111111,\"#46039f\"],[0.2222222222222222,\"#7201a8\"],[0.3333333333333333,\"#9c179e\"],[0.4444444444444444,\"#bd3786\"],[0.5555555555555556,\"#d8576b\"],[0.6666666666666666,\"#ed7953\"],[0.7777777777777778,\"#fb9f3a\"],[0.8888888888888888,\"#fdca26\"],[1.0,\"#f0f921\"]]}],\"contourcarpet\":[{\"type\":\"contourcarpet\",\"colorbar\":{\"outlinewidth\":0,\"ticks\":\"\"}}],\"contour\":[{\"type\":\"contour\",\"colorbar\":{\"outlinewidth\":0,\"ticks\":\"\"},\"colorscale\":[[0.0,\"#0d0887\"],[0.1111111111111111,\"#46039f\"],[0.2222222222222222,\"#7201a8\"],[0.3333333333333333,\"#9c179e\"],[0.4444444444444444,\"#bd3786\"],[0.5555555555555556,\"#d8576b\"],[0.6666666666666666,\"#ed7953\"],[0.7777777777777778,\"#fb9f3a\"],[0.8888888888888888,\"#fdca26\"],[1.0,\"#f0f921\"]]}],\"surface\":[{\"type\":\"surface\",\"colorbar\":{\"outlinewidth\":0,\"ticks\":\"\"},\"colorscale\":[[0.0,\"#0d0887\"],[0.1111111111111111,\"#46039f\"],[0.2222222222222222,\"#7201a8\"],[0.3333333333333333,\"#9c179e\"],[0.4444444444444444,\"#bd3786\"],[0.5555555555555556,\"#d8576b\"],[0.6666666666666666,\"#ed7953\"],[0.7777777777777778,\"#fb9f3a\"],[0.8888888888888888,\"#fdca26\"],[1.0,\"#f0f921\"]]}],\"mesh3d\":[{\"type\":\"mesh3d\",\"colorbar\":{\"outlinewidth\":0,\"ticks\":\"\"}}],\"scatter\":[{\"fillpattern\":{\"fillmode\":\"overlay\",\"size\":10,\"solidity\":0.2},\"type\":\"scatter\"}],\"parcoords\":[{\"type\":\"parcoords\",\"line\":{\"colorbar\":{\"outlinewidth\":0,\"ticks\":\"\"}}}],\"scatterpolargl\":[{\"type\":\"scatterpolargl\",\"marker\":{\"colorbar\":{\"outlinewidth\":0,\"ticks\":\"\"}}}],\"bar\":[{\"error_x\":{\"color\":\"#2a3f5f\"},\"error_y\":{\"color\":\"#2a3f5f\"},\"marker\":{\"line\":{\"color\":\"#E5ECF6\",\"width\":0.5},\"pattern\":{\"fillmode\":\"overlay\",\"size\":10,\"solidity\":0.2}},\"type\":\"bar\"}],\"scattergeo\":[{\"type\":\"scattergeo\",\"marker\":{\"colorbar\":{\"outlinewidth\":0,\"ticks\":\"\"}}}],\"scatterpolar\":[{\"type\":\"scatterpolar\",\"marker\":{\"colorbar\":{\"outlinewidth\":0,\"ticks\":\"\"}}}],\"histogram\":[{\"marker\":{\"pattern\":{\"fillmode\":\"overlay\",\"size\":10,\"solidity\":0.2}},\"type\":\"histogram\"}],\"scattergl\":[{\"type\":\"scattergl\",\"marker\":{\"colorbar\":{\"outlinewidth\":0,\"ticks\":\"\"}}}],\"scatter3d\":[{\"type\":\"scatter3d\",\"line\":{\"colorbar\":{\"outlinewidth\":0,\"ticks\":\"\"}},\"marker\":{\"colorbar\":{\"outlinewidth\":0,\"ticks\":\"\"}}}],\"scattermapbox\":[{\"type\":\"scattermapbox\",\"marker\":{\"colorbar\":{\"outlinewidth\":0,\"ticks\":\"\"}}}],\"scatterternary\":[{\"type\":\"scatterternary\",\"marker\":{\"colorbar\":{\"outlinewidth\":0,\"ticks\":\"\"}}}],\"scattercarpet\":[{\"type\":\"scattercarpet\",\"marker\":{\"colorbar\":{\"outlinewidth\":0,\"ticks\":\"\"}}}],\"carpet\":[{\"aaxis\":{\"endlinecolor\":\"#2a3f5f\",\"gridcolor\":\"white\",\"linecolor\":\"white\",\"minorgridcolor\":\"white\",\"startlinecolor\":\"#2a3f5f\"},\"baxis\":{\"endlinecolor\":\"#2a3f5f\",\"gridcolor\":\"white\",\"linecolor\":\"white\",\"minorgridcolor\":\"white\",\"startlinecolor\":\"#2a3f5f\"},\"type\":\"carpet\"}],\"table\":[{\"cells\":{\"fill\":{\"color\":\"#EBF0F8\"},\"line\":{\"color\":\"white\"}},\"header\":{\"fill\":{\"color\":\"#C8D4E3\"},\"line\":{\"color\":\"white\"}},\"type\":\"table\"}],\"barpolar\":[{\"marker\":{\"line\":{\"color\":\"#E5ECF6\",\"width\":0.5},\"pattern\":{\"fillmode\":\"overlay\",\"size\":10,\"solidity\":0.2}},\"type\":\"barpolar\"}],\"pie\":[{\"automargin\":true,\"type\":\"pie\"}]},\"layout\":{\"autotypenumbers\":\"strict\",\"colorway\":[\"#636efa\",\"#EF553B\",\"#00cc96\",\"#ab63fa\",\"#FFA15A\",\"#19d3f3\",\"#FF6692\",\"#B6E880\",\"#FF97FF\",\"#FECB52\"],\"font\":{\"color\":\"#2a3f5f\"},\"hovermode\":\"closest\",\"hoverlabel\":{\"align\":\"left\"},\"paper_bgcolor\":\"white\",\"plot_bgcolor\":\"#E5ECF6\",\"polar\":{\"bgcolor\":\"#E5ECF6\",\"angularaxis\":{\"gridcolor\":\"white\",\"linecolor\":\"white\",\"ticks\":\"\"},\"radialaxis\":{\"gridcolor\":\"white\",\"linecolor\":\"white\",\"ticks\":\"\"}},\"ternary\":{\"bgcolor\":\"#E5ECF6\",\"aaxis\":{\"gridcolor\":\"white\",\"linecolor\":\"white\",\"ticks\":\"\"},\"baxis\":{\"gridcolor\":\"white\",\"linecolor\":\"white\",\"ticks\":\"\"},\"caxis\":{\"gridcolor\":\"white\",\"linecolor\":\"white\",\"ticks\":\"\"}},\"coloraxis\":{\"colorbar\":{\"outlinewidth\":0,\"ticks\":\"\"}},\"colorscale\":{\"sequential\":[[0.0,\"#0d0887\"],[0.1111111111111111,\"#46039f\"],[0.2222222222222222,\"#7201a8\"],[0.3333333333333333,\"#9c179e\"],[0.4444444444444444,\"#bd3786\"],[0.5555555555555556,\"#d8576b\"],[0.6666666666666666,\"#ed7953\"],[0.7777777777777778,\"#fb9f3a\"],[0.8888888888888888,\"#fdca26\"],[1.0,\"#f0f921\"]],\"sequentialminus\":[[0.0,\"#0d0887\"],[0.1111111111111111,\"#46039f\"],[0.2222222222222222,\"#7201a8\"],[0.3333333333333333,\"#9c179e\"],[0.4444444444444444,\"#bd3786\"],[0.5555555555555556,\"#d8576b\"],[0.6666666666666666,\"#ed7953\"],[0.7777777777777778,\"#fb9f3a\"],[0.8888888888888888,\"#fdca26\"],[1.0,\"#f0f921\"]],\"diverging\":[[0,\"#8e0152\"],[0.1,\"#c51b7d\"],[0.2,\"#de77ae\"],[0.3,\"#f1b6da\"],[0.4,\"#fde0ef\"],[0.5,\"#f7f7f7\"],[0.6,\"#e6f5d0\"],[0.7,\"#b8e186\"],[0.8,\"#7fbc41\"],[0.9,\"#4d9221\"],[1,\"#276419\"]]},\"xaxis\":{\"gridcolor\":\"white\",\"linecolor\":\"white\",\"ticks\":\"\",\"title\":{\"standoff\":15},\"zerolinecolor\":\"white\",\"automargin\":true,\"zerolinewidth\":2},\"yaxis\":{\"gridcolor\":\"white\",\"linecolor\":\"white\",\"ticks\":\"\",\"title\":{\"standoff\":15},\"zerolinecolor\":\"white\",\"automargin\":true,\"zerolinewidth\":2},\"scene\":{\"xaxis\":{\"backgroundcolor\":\"#E5ECF6\",\"gridcolor\":\"white\",\"linecolor\":\"white\",\"showbackground\":true,\"ticks\":\"\",\"zerolinecolor\":\"white\",\"gridwidth\":2},\"yaxis\":{\"backgroundcolor\":\"#E5ECF6\",\"gridcolor\":\"white\",\"linecolor\":\"white\",\"showbackground\":true,\"ticks\":\"\",\"zerolinecolor\":\"white\",\"gridwidth\":2},\"zaxis\":{\"backgroundcolor\":\"#E5ECF6\",\"gridcolor\":\"white\",\"linecolor\":\"white\",\"showbackground\":true,\"ticks\":\"\",\"zerolinecolor\":\"white\",\"gridwidth\":2}},\"shapedefaults\":{\"line\":{\"color\":\"#2a3f5f\"}},\"annotationdefaults\":{\"arrowcolor\":\"#2a3f5f\",\"arrowhead\":0,\"arrowwidth\":1},\"geo\":{\"bgcolor\":\"white\",\"landcolor\":\"#E5ECF6\",\"subunitcolor\":\"white\",\"showland\":true,\"showlakes\":true,\"lakecolor\":\"white\"},\"title\":{\"x\":0.05},\"mapbox\":{\"style\":\"light\"}}},\"xaxis\":{\"anchor\":\"y\",\"domain\":[0.0,1.0],\"title\":{\"text\":\"log Time (s)\"}},\"yaxis\":{\"anchor\":\"x\",\"domain\":[0.0,1.0],\"title\":{\"text\":\"Mag\"}},\"legend\":{\"title\":{\"text\":\"color\"},\"tracegroupgap\":0},\"title\":{\"text\":\"C:/Users/biagi/Desktop/LCs to inspect deltat/CLEAN_GRBs_MAGNITUDES_December2022/Debugging\\\\130610A.txt\"}},                        {\"responsive\": true}                    ).then(function(){\n",
       "                            \n",
       "var gd = document.getElementById('1dcd1249-d04d-4904-9007-225d661a2bcd');\n",
       "var x = new MutationObserver(function (mutations, observer) {{\n",
       "        var display = window.getComputedStyle(gd).display;\n",
       "        if (!display || display === 'none') {{\n",
       "            console.log([gd, 'removed!']);\n",
       "            Plotly.purge(gd);\n",
       "            observer.disconnect();\n",
       "        }}\n",
       "}});\n",
       "\n",
       "// Listen for the removal of the full notebook cells\n",
       "var notebookContainer = gd.closest('#notebook-container');\n",
       "if (notebookContainer) {{\n",
       "    x.observe(notebookContainer, {childList: true});\n",
       "}}\n",
       "\n",
       "// Listen for the clearing of the current output cell\n",
       "var outputEl = gd.closest('.output');\n",
       "if (outputEl) {{\n",
       "    x.observe(outputEl, {childList: true});\n",
       "}}\n",
       "\n",
       "                        })                };                });            </script>        </div>"
      ]
     },
     "metadata": {},
     "output_type": "display_data"
    },
    {
     "name": "stdout",
     "output_type": "stream",
     "text": [
      "The most numerous filter of this GRB:  R , with 5 occurrences\n",
      "The second most numerous filter of this GRB:  white , with 4 occurrences\n"
     ]
    },
    {
     "data": {
      "application/vnd.plotly.v1+json": {
       "config": {
        "plotlyServerURL": "https://plot.ly"
       },
       "data": [
        {
         "customdata": [
          [
           14859
          ],
          [
           14859
          ],
          [
           14859
          ]
         ],
         "error_y": {
          "array": [
           0.04,
           0.19,
           0.15
          ]
         },
         "hovertemplate": "color=white (4)<br>x=%{x}<br>y=%{y}<br>Source=%{customdata[0]}<extra></extra>",
         "legendgroup": "white (4)",
         "marker": {
          "color": "#636efa",
          "symbol": "circle"
         },
         "mode": "markers",
         "name": "white (4)",
         "orientation": "v",
         "showlegend": true,
         "type": "scatter",
         "x": [
          2.33,
          3.22,
          3.78
         ],
         "xaxis": "x",
         "y": [
          -17.85,
          -19.56,
          -20.47
         ],
         "yaxis": "y"
        },
        {
         "customdata": [
          [
           14859
          ],
          [
           14859
          ]
         ],
         "error_y": {
          "array": [
           0.09,
           0.3
          ]
         },
         "hovertemplate": "color=U (2)<br>x=%{x}<br>y=%{y}<br>Source=%{customdata[0]}<extra></extra>",
         "legendgroup": "U (2)",
         "marker": {
          "color": "#EF553B",
          "symbol": "circle"
         },
         "mode": "markers",
         "name": "U (2)",
         "orientation": "v",
         "showlegend": true,
         "type": "scatter",
         "x": [
          2.57,
          3.25
         ],
         "xaxis": "x",
         "y": [
          -17.67,
          -19
         ],
         "yaxis": "y"
        },
        {
         "customdata": [
          [
           14845
          ]
         ],
         "error_y": {
          "array": [
           0.2
          ]
         },
         "hovertemplate": "color=H (1)<br>x=%{x}<br>y=%{y}<br>Source=%{customdata[0]}<extra></extra>",
         "legendgroup": "H (1)",
         "marker": {
          "color": "#00cc96",
          "symbol": "circle"
         },
         "mode": "markers",
         "name": "H (1)",
         "orientation": "v",
         "showlegend": true,
         "type": "scatter",
         "x": [
          3.23
         ],
         "xaxis": "x",
         "y": [
          -16.95
         ],
         "yaxis": "y"
        },
        {
         "customdata": [
          [
           14859
          ],
          [
           14859
          ]
         ],
         "error_y": {
          "array": [
           0.2,
           0.38
          ]
         },
         "hovertemplate": "color=B (3)<br>x=%{x}<br>y=%{y}<br>Source=%{customdata[0]}<extra></extra>",
         "legendgroup": "B (3)",
         "marker": {
          "color": "#ab63fa",
          "symbol": "circle"
         },
         "mode": "markers",
         "name": "B (3)",
         "orientation": "v",
         "showlegend": true,
         "type": "scatter",
         "x": [
          3.24,
          4.11
         ],
         "xaxis": "x",
         "y": [
          -19.12,
          -20.72
         ],
         "yaxis": "y"
        },
        {
         "customdata": [
          [
           14891
          ],
          [
           14891
          ],
          [
           14891
          ]
         ],
         "error_y": {
          "array": [
           0.15,
           0.19,
           0.16
          ]
         },
         "hovertemplate": "color=Unfiltered (3)<br>x=%{x}<br>y=%{y}<br>Source=%{customdata[0]}<extra></extra>",
         "legendgroup": "Unfiltered (3)",
         "marker": {
          "color": "#FFA15A",
          "symbol": "circle"
         },
         "mode": "markers",
         "name": "Unfiltered (3)",
         "orientation": "v",
         "showlegend": true,
         "type": "scatter",
         "x": [
          3.39,
          3.44,
          3.49
         ],
         "xaxis": "x",
         "y": [
          -19.499999999999996,
          -19.34,
          -19.58
         ],
         "yaxis": "y"
        },
        {
         "customdata": [
          [
           14860
          ],
          [
           14860
          ]
         ],
         "error_y": {
          "array": [
           0.07,
           0.1
          ]
         },
         "hovertemplate": "color=Clear (2)<br>x=%{x}<br>y=%{y}<br>Source=%{customdata[0]}<extra></extra>",
         "legendgroup": "Clear (2)",
         "marker": {
          "color": "#19d3f3",
          "symbol": "circle"
         },
         "mode": "markers",
         "name": "Clear (2)",
         "orientation": "v",
         "showlegend": true,
         "type": "scatter",
         "x": [
          3.48,
          3.62
         ],
         "xaxis": "x",
         "y": [
          -19.7,
          -19.56
         ],
         "yaxis": "y"
        },
        {
         "customdata": [
          [
           14891
          ],
          [
           14891
          ],
          [
           14891
          ],
          [
           14854
          ],
          [
           14907
          ]
         ],
         "error_y": {
          "array": [
           0.32,
           0.44,
           0.43,
           0.18,
           0.05
          ]
         },
         "hovertemplate": "color=R (5)<br>x=%{x}<br>y=%{y}<br>Source=%{customdata[0]}<extra></extra>",
         "legendgroup": "R (5)",
         "marker": {
          "color": "#FF6692",
          "symbol": "circle"
         },
         "mode": "markers",
         "name": "R (5)",
         "orientation": "v",
         "showlegend": true,
         "type": "scatter",
         "x": [
          3.57,
          3.61,
          3.64,
          4.04,
          4.77
         ],
         "xaxis": "x",
         "y": [
          -19.58,
          -19.93,
          -19.93,
          -20.35,
          -21.7
         ],
         "yaxis": "y"
        }
       ],
       "layout": {
        "legend": {
         "title": {
          "text": "color"
         },
         "tracegroupgap": 0
        },
        "template": {
         "data": {
          "bar": [
           {
            "error_x": {
             "color": "#2a3f5f"
            },
            "error_y": {
             "color": "#2a3f5f"
            },
            "marker": {
             "line": {
              "color": "#E5ECF6",
              "width": 0.5
             },
             "pattern": {
              "fillmode": "overlay",
              "size": 10,
              "solidity": 0.2
             }
            },
            "type": "bar"
           }
          ],
          "barpolar": [
           {
            "marker": {
             "line": {
              "color": "#E5ECF6",
              "width": 0.5
             },
             "pattern": {
              "fillmode": "overlay",
              "size": 10,
              "solidity": 0.2
             }
            },
            "type": "barpolar"
           }
          ],
          "carpet": [
           {
            "aaxis": {
             "endlinecolor": "#2a3f5f",
             "gridcolor": "white",
             "linecolor": "white",
             "minorgridcolor": "white",
             "startlinecolor": "#2a3f5f"
            },
            "baxis": {
             "endlinecolor": "#2a3f5f",
             "gridcolor": "white",
             "linecolor": "white",
             "minorgridcolor": "white",
             "startlinecolor": "#2a3f5f"
            },
            "type": "carpet"
           }
          ],
          "choropleth": [
           {
            "colorbar": {
             "outlinewidth": 0,
             "ticks": ""
            },
            "type": "choropleth"
           }
          ],
          "contour": [
           {
            "colorbar": {
             "outlinewidth": 0,
             "ticks": ""
            },
            "colorscale": [
             [
              0,
              "#0d0887"
             ],
             [
              0.1111111111111111,
              "#46039f"
             ],
             [
              0.2222222222222222,
              "#7201a8"
             ],
             [
              0.3333333333333333,
              "#9c179e"
             ],
             [
              0.4444444444444444,
              "#bd3786"
             ],
             [
              0.5555555555555556,
              "#d8576b"
             ],
             [
              0.6666666666666666,
              "#ed7953"
             ],
             [
              0.7777777777777778,
              "#fb9f3a"
             ],
             [
              0.8888888888888888,
              "#fdca26"
             ],
             [
              1,
              "#f0f921"
             ]
            ],
            "type": "contour"
           }
          ],
          "contourcarpet": [
           {
            "colorbar": {
             "outlinewidth": 0,
             "ticks": ""
            },
            "type": "contourcarpet"
           }
          ],
          "heatmap": [
           {
            "colorbar": {
             "outlinewidth": 0,
             "ticks": ""
            },
            "colorscale": [
             [
              0,
              "#0d0887"
             ],
             [
              0.1111111111111111,
              "#46039f"
             ],
             [
              0.2222222222222222,
              "#7201a8"
             ],
             [
              0.3333333333333333,
              "#9c179e"
             ],
             [
              0.4444444444444444,
              "#bd3786"
             ],
             [
              0.5555555555555556,
              "#d8576b"
             ],
             [
              0.6666666666666666,
              "#ed7953"
             ],
             [
              0.7777777777777778,
              "#fb9f3a"
             ],
             [
              0.8888888888888888,
              "#fdca26"
             ],
             [
              1,
              "#f0f921"
             ]
            ],
            "type": "heatmap"
           }
          ],
          "heatmapgl": [
           {
            "colorbar": {
             "outlinewidth": 0,
             "ticks": ""
            },
            "colorscale": [
             [
              0,
              "#0d0887"
             ],
             [
              0.1111111111111111,
              "#46039f"
             ],
             [
              0.2222222222222222,
              "#7201a8"
             ],
             [
              0.3333333333333333,
              "#9c179e"
             ],
             [
              0.4444444444444444,
              "#bd3786"
             ],
             [
              0.5555555555555556,
              "#d8576b"
             ],
             [
              0.6666666666666666,
              "#ed7953"
             ],
             [
              0.7777777777777778,
              "#fb9f3a"
             ],
             [
              0.8888888888888888,
              "#fdca26"
             ],
             [
              1,
              "#f0f921"
             ]
            ],
            "type": "heatmapgl"
           }
          ],
          "histogram": [
           {
            "marker": {
             "pattern": {
              "fillmode": "overlay",
              "size": 10,
              "solidity": 0.2
             }
            },
            "type": "histogram"
           }
          ],
          "histogram2d": [
           {
            "colorbar": {
             "outlinewidth": 0,
             "ticks": ""
            },
            "colorscale": [
             [
              0,
              "#0d0887"
             ],
             [
              0.1111111111111111,
              "#46039f"
             ],
             [
              0.2222222222222222,
              "#7201a8"
             ],
             [
              0.3333333333333333,
              "#9c179e"
             ],
             [
              0.4444444444444444,
              "#bd3786"
             ],
             [
              0.5555555555555556,
              "#d8576b"
             ],
             [
              0.6666666666666666,
              "#ed7953"
             ],
             [
              0.7777777777777778,
              "#fb9f3a"
             ],
             [
              0.8888888888888888,
              "#fdca26"
             ],
             [
              1,
              "#f0f921"
             ]
            ],
            "type": "histogram2d"
           }
          ],
          "histogram2dcontour": [
           {
            "colorbar": {
             "outlinewidth": 0,
             "ticks": ""
            },
            "colorscale": [
             [
              0,
              "#0d0887"
             ],
             [
              0.1111111111111111,
              "#46039f"
             ],
             [
              0.2222222222222222,
              "#7201a8"
             ],
             [
              0.3333333333333333,
              "#9c179e"
             ],
             [
              0.4444444444444444,
              "#bd3786"
             ],
             [
              0.5555555555555556,
              "#d8576b"
             ],
             [
              0.6666666666666666,
              "#ed7953"
             ],
             [
              0.7777777777777778,
              "#fb9f3a"
             ],
             [
              0.8888888888888888,
              "#fdca26"
             ],
             [
              1,
              "#f0f921"
             ]
            ],
            "type": "histogram2dcontour"
           }
          ],
          "mesh3d": [
           {
            "colorbar": {
             "outlinewidth": 0,
             "ticks": ""
            },
            "type": "mesh3d"
           }
          ],
          "parcoords": [
           {
            "line": {
             "colorbar": {
              "outlinewidth": 0,
              "ticks": ""
             }
            },
            "type": "parcoords"
           }
          ],
          "pie": [
           {
            "automargin": true,
            "type": "pie"
           }
          ],
          "scatter": [
           {
            "fillpattern": {
             "fillmode": "overlay",
             "size": 10,
             "solidity": 0.2
            },
            "type": "scatter"
           }
          ],
          "scatter3d": [
           {
            "line": {
             "colorbar": {
              "outlinewidth": 0,
              "ticks": ""
             }
            },
            "marker": {
             "colorbar": {
              "outlinewidth": 0,
              "ticks": ""
             }
            },
            "type": "scatter3d"
           }
          ],
          "scattercarpet": [
           {
            "marker": {
             "colorbar": {
              "outlinewidth": 0,
              "ticks": ""
             }
            },
            "type": "scattercarpet"
           }
          ],
          "scattergeo": [
           {
            "marker": {
             "colorbar": {
              "outlinewidth": 0,
              "ticks": ""
             }
            },
            "type": "scattergeo"
           }
          ],
          "scattergl": [
           {
            "marker": {
             "colorbar": {
              "outlinewidth": 0,
              "ticks": ""
             }
            },
            "type": "scattergl"
           }
          ],
          "scattermapbox": [
           {
            "marker": {
             "colorbar": {
              "outlinewidth": 0,
              "ticks": ""
             }
            },
            "type": "scattermapbox"
           }
          ],
          "scatterpolar": [
           {
            "marker": {
             "colorbar": {
              "outlinewidth": 0,
              "ticks": ""
             }
            },
            "type": "scatterpolar"
           }
          ],
          "scatterpolargl": [
           {
            "marker": {
             "colorbar": {
              "outlinewidth": 0,
              "ticks": ""
             }
            },
            "type": "scatterpolargl"
           }
          ],
          "scatterternary": [
           {
            "marker": {
             "colorbar": {
              "outlinewidth": 0,
              "ticks": ""
             }
            },
            "type": "scatterternary"
           }
          ],
          "surface": [
           {
            "colorbar": {
             "outlinewidth": 0,
             "ticks": ""
            },
            "colorscale": [
             [
              0,
              "#0d0887"
             ],
             [
              0.1111111111111111,
              "#46039f"
             ],
             [
              0.2222222222222222,
              "#7201a8"
             ],
             [
              0.3333333333333333,
              "#9c179e"
             ],
             [
              0.4444444444444444,
              "#bd3786"
             ],
             [
              0.5555555555555556,
              "#d8576b"
             ],
             [
              0.6666666666666666,
              "#ed7953"
             ],
             [
              0.7777777777777778,
              "#fb9f3a"
             ],
             [
              0.8888888888888888,
              "#fdca26"
             ],
             [
              1,
              "#f0f921"
             ]
            ],
            "type": "surface"
           }
          ],
          "table": [
           {
            "cells": {
             "fill": {
              "color": "#EBF0F8"
             },
             "line": {
              "color": "white"
             }
            },
            "header": {
             "fill": {
              "color": "#C8D4E3"
             },
             "line": {
              "color": "white"
             }
            },
            "type": "table"
           }
          ]
         },
         "layout": {
          "annotationdefaults": {
           "arrowcolor": "#2a3f5f",
           "arrowhead": 0,
           "arrowwidth": 1
          },
          "autotypenumbers": "strict",
          "coloraxis": {
           "colorbar": {
            "outlinewidth": 0,
            "ticks": ""
           }
          },
          "colorscale": {
           "diverging": [
            [
             0,
             "#8e0152"
            ],
            [
             0.1,
             "#c51b7d"
            ],
            [
             0.2,
             "#de77ae"
            ],
            [
             0.3,
             "#f1b6da"
            ],
            [
             0.4,
             "#fde0ef"
            ],
            [
             0.5,
             "#f7f7f7"
            ],
            [
             0.6,
             "#e6f5d0"
            ],
            [
             0.7,
             "#b8e186"
            ],
            [
             0.8,
             "#7fbc41"
            ],
            [
             0.9,
             "#4d9221"
            ],
            [
             1,
             "#276419"
            ]
           ],
           "sequential": [
            [
             0,
             "#0d0887"
            ],
            [
             0.1111111111111111,
             "#46039f"
            ],
            [
             0.2222222222222222,
             "#7201a8"
            ],
            [
             0.3333333333333333,
             "#9c179e"
            ],
            [
             0.4444444444444444,
             "#bd3786"
            ],
            [
             0.5555555555555556,
             "#d8576b"
            ],
            [
             0.6666666666666666,
             "#ed7953"
            ],
            [
             0.7777777777777778,
             "#fb9f3a"
            ],
            [
             0.8888888888888888,
             "#fdca26"
            ],
            [
             1,
             "#f0f921"
            ]
           ],
           "sequentialminus": [
            [
             0,
             "#0d0887"
            ],
            [
             0.1111111111111111,
             "#46039f"
            ],
            [
             0.2222222222222222,
             "#7201a8"
            ],
            [
             0.3333333333333333,
             "#9c179e"
            ],
            [
             0.4444444444444444,
             "#bd3786"
            ],
            [
             0.5555555555555556,
             "#d8576b"
            ],
            [
             0.6666666666666666,
             "#ed7953"
            ],
            [
             0.7777777777777778,
             "#fb9f3a"
            ],
            [
             0.8888888888888888,
             "#fdca26"
            ],
            [
             1,
             "#f0f921"
            ]
           ]
          },
          "colorway": [
           "#636efa",
           "#EF553B",
           "#00cc96",
           "#ab63fa",
           "#FFA15A",
           "#19d3f3",
           "#FF6692",
           "#B6E880",
           "#FF97FF",
           "#FECB52"
          ],
          "font": {
           "color": "#2a3f5f"
          },
          "geo": {
           "bgcolor": "white",
           "lakecolor": "white",
           "landcolor": "#E5ECF6",
           "showlakes": true,
           "showland": true,
           "subunitcolor": "white"
          },
          "hoverlabel": {
           "align": "left"
          },
          "hovermode": "closest",
          "mapbox": {
           "style": "light"
          },
          "paper_bgcolor": "white",
          "plot_bgcolor": "#E5ECF6",
          "polar": {
           "angularaxis": {
            "gridcolor": "white",
            "linecolor": "white",
            "ticks": ""
           },
           "bgcolor": "#E5ECF6",
           "radialaxis": {
            "gridcolor": "white",
            "linecolor": "white",
            "ticks": ""
           }
          },
          "scene": {
           "xaxis": {
            "backgroundcolor": "#E5ECF6",
            "gridcolor": "white",
            "gridwidth": 2,
            "linecolor": "white",
            "showbackground": true,
            "ticks": "",
            "zerolinecolor": "white"
           },
           "yaxis": {
            "backgroundcolor": "#E5ECF6",
            "gridcolor": "white",
            "gridwidth": 2,
            "linecolor": "white",
            "showbackground": true,
            "ticks": "",
            "zerolinecolor": "white"
           },
           "zaxis": {
            "backgroundcolor": "#E5ECF6",
            "gridcolor": "white",
            "gridwidth": 2,
            "linecolor": "white",
            "showbackground": true,
            "ticks": "",
            "zerolinecolor": "white"
           }
          },
          "shapedefaults": {
           "line": {
            "color": "#2a3f5f"
           }
          },
          "ternary": {
           "aaxis": {
            "gridcolor": "white",
            "linecolor": "white",
            "ticks": ""
           },
           "baxis": {
            "gridcolor": "white",
            "linecolor": "white",
            "ticks": ""
           },
           "bgcolor": "#E5ECF6",
           "caxis": {
            "gridcolor": "white",
            "linecolor": "white",
            "ticks": ""
           }
          },
          "title": {
           "x": 0.05
          },
          "xaxis": {
           "automargin": true,
           "gridcolor": "white",
           "linecolor": "white",
           "ticks": "",
           "title": {
            "standoff": 15
           },
           "zerolinecolor": "white",
           "zerolinewidth": 2
          },
          "yaxis": {
           "automargin": true,
           "gridcolor": "white",
           "linecolor": "white",
           "ticks": "",
           "title": {
            "standoff": 15
           },
           "zerolinecolor": "white",
           "zerolinewidth": 2
          }
         }
        },
        "title": {
         "text": "C:/Users/biagi/Desktop/LCs to inspect deltat/CLEAN_GRBs_MAGNITUDES_December2022/Debugging\\130610A.txt_RESCALED"
        },
        "xaxis": {
         "anchor": "y",
         "domain": [
          0,
          1
         ],
         "title": {
          "text": "log Time (s)"
         }
        },
        "yaxis": {
         "anchor": "x",
         "domain": [
          0,
          1
         ],
         "title": {
          "text": "Mag"
         }
        }
       }
      },
      "text/html": [
       "<div>                            <div id=\"7ea8aded-893b-4e06-bf8b-61739b4005be\" class=\"plotly-graph-div\" style=\"height:525px; width:100%;\"></div>            <script type=\"text/javascript\">                require([\"plotly\"], function(Plotly) {                    window.PLOTLYENV=window.PLOTLYENV || {};                                    if (document.getElementById(\"7ea8aded-893b-4e06-bf8b-61739b4005be\")) {                    Plotly.newPlot(                        \"7ea8aded-893b-4e06-bf8b-61739b4005be\",                        [{\"customdata\":[[14859],[14859],[14859]],\"error_y\":{\"array\":[0.04,0.19,0.15]},\"hovertemplate\":\"color=white (4)<br>x=%{x}<br>y=%{y}<br>Source=%{customdata[0]}<extra></extra>\",\"legendgroup\":\"white (4)\",\"marker\":{\"color\":\"#636efa\",\"symbol\":\"circle\"},\"mode\":\"markers\",\"name\":\"white (4)\",\"orientation\":\"v\",\"showlegend\":true,\"x\":[2.33,3.22,3.78],\"xaxis\":\"x\",\"y\":[-17.85,-19.56,-20.47],\"yaxis\":\"y\",\"type\":\"scatter\"},{\"customdata\":[[14859],[14859]],\"error_y\":{\"array\":[0.09,0.3]},\"hovertemplate\":\"color=U (2)<br>x=%{x}<br>y=%{y}<br>Source=%{customdata[0]}<extra></extra>\",\"legendgroup\":\"U (2)\",\"marker\":{\"color\":\"#EF553B\",\"symbol\":\"circle\"},\"mode\":\"markers\",\"name\":\"U (2)\",\"orientation\":\"v\",\"showlegend\":true,\"x\":[2.57,3.25],\"xaxis\":\"x\",\"y\":[-17.67,-19.0],\"yaxis\":\"y\",\"type\":\"scatter\"},{\"customdata\":[[14845]],\"error_y\":{\"array\":[0.2]},\"hovertemplate\":\"color=H (1)<br>x=%{x}<br>y=%{y}<br>Source=%{customdata[0]}<extra></extra>\",\"legendgroup\":\"H (1)\",\"marker\":{\"color\":\"#00cc96\",\"symbol\":\"circle\"},\"mode\":\"markers\",\"name\":\"H (1)\",\"orientation\":\"v\",\"showlegend\":true,\"x\":[3.23],\"xaxis\":\"x\",\"y\":[-16.95],\"yaxis\":\"y\",\"type\":\"scatter\"},{\"customdata\":[[14859],[14859]],\"error_y\":{\"array\":[0.2,0.38]},\"hovertemplate\":\"color=B (3)<br>x=%{x}<br>y=%{y}<br>Source=%{customdata[0]}<extra></extra>\",\"legendgroup\":\"B (3)\",\"marker\":{\"color\":\"#ab63fa\",\"symbol\":\"circle\"},\"mode\":\"markers\",\"name\":\"B (3)\",\"orientation\":\"v\",\"showlegend\":true,\"x\":[3.24,4.11],\"xaxis\":\"x\",\"y\":[-19.12,-20.72],\"yaxis\":\"y\",\"type\":\"scatter\"},{\"customdata\":[[14891],[14891],[14891]],\"error_y\":{\"array\":[0.15,0.19,0.16]},\"hovertemplate\":\"color=Unfiltered (3)<br>x=%{x}<br>y=%{y}<br>Source=%{customdata[0]}<extra></extra>\",\"legendgroup\":\"Unfiltered (3)\",\"marker\":{\"color\":\"#FFA15A\",\"symbol\":\"circle\"},\"mode\":\"markers\",\"name\":\"Unfiltered (3)\",\"orientation\":\"v\",\"showlegend\":true,\"x\":[3.39,3.44,3.49],\"xaxis\":\"x\",\"y\":[-19.499999999999996,-19.34,-19.58],\"yaxis\":\"y\",\"type\":\"scatter\"},{\"customdata\":[[14860],[14860]],\"error_y\":{\"array\":[0.07,0.1]},\"hovertemplate\":\"color=Clear (2)<br>x=%{x}<br>y=%{y}<br>Source=%{customdata[0]}<extra></extra>\",\"legendgroup\":\"Clear (2)\",\"marker\":{\"color\":\"#19d3f3\",\"symbol\":\"circle\"},\"mode\":\"markers\",\"name\":\"Clear (2)\",\"orientation\":\"v\",\"showlegend\":true,\"x\":[3.48,3.62],\"xaxis\":\"x\",\"y\":[-19.7,-19.56],\"yaxis\":\"y\",\"type\":\"scatter\"},{\"customdata\":[[14891],[14891],[14891],[14854],[14907]],\"error_y\":{\"array\":[0.32,0.44,0.43,0.18,0.05]},\"hovertemplate\":\"color=R (5)<br>x=%{x}<br>y=%{y}<br>Source=%{customdata[0]}<extra></extra>\",\"legendgroup\":\"R (5)\",\"marker\":{\"color\":\"#FF6692\",\"symbol\":\"circle\"},\"mode\":\"markers\",\"name\":\"R (5)\",\"orientation\":\"v\",\"showlegend\":true,\"x\":[3.57,3.61,3.64,4.04,4.77],\"xaxis\":\"x\",\"y\":[-19.58,-19.93,-19.93,-20.35,-21.7],\"yaxis\":\"y\",\"type\":\"scatter\"}],                        {\"template\":{\"data\":{\"histogram2dcontour\":[{\"type\":\"histogram2dcontour\",\"colorbar\":{\"outlinewidth\":0,\"ticks\":\"\"},\"colorscale\":[[0.0,\"#0d0887\"],[0.1111111111111111,\"#46039f\"],[0.2222222222222222,\"#7201a8\"],[0.3333333333333333,\"#9c179e\"],[0.4444444444444444,\"#bd3786\"],[0.5555555555555556,\"#d8576b\"],[0.6666666666666666,\"#ed7953\"],[0.7777777777777778,\"#fb9f3a\"],[0.8888888888888888,\"#fdca26\"],[1.0,\"#f0f921\"]]}],\"choropleth\":[{\"type\":\"choropleth\",\"colorbar\":{\"outlinewidth\":0,\"ticks\":\"\"}}],\"histogram2d\":[{\"type\":\"histogram2d\",\"colorbar\":{\"outlinewidth\":0,\"ticks\":\"\"},\"colorscale\":[[0.0,\"#0d0887\"],[0.1111111111111111,\"#46039f\"],[0.2222222222222222,\"#7201a8\"],[0.3333333333333333,\"#9c179e\"],[0.4444444444444444,\"#bd3786\"],[0.5555555555555556,\"#d8576b\"],[0.6666666666666666,\"#ed7953\"],[0.7777777777777778,\"#fb9f3a\"],[0.8888888888888888,\"#fdca26\"],[1.0,\"#f0f921\"]]}],\"heatmap\":[{\"type\":\"heatmap\",\"colorbar\":{\"outlinewidth\":0,\"ticks\":\"\"},\"colorscale\":[[0.0,\"#0d0887\"],[0.1111111111111111,\"#46039f\"],[0.2222222222222222,\"#7201a8\"],[0.3333333333333333,\"#9c179e\"],[0.4444444444444444,\"#bd3786\"],[0.5555555555555556,\"#d8576b\"],[0.6666666666666666,\"#ed7953\"],[0.7777777777777778,\"#fb9f3a\"],[0.8888888888888888,\"#fdca26\"],[1.0,\"#f0f921\"]]}],\"heatmapgl\":[{\"type\":\"heatmapgl\",\"colorbar\":{\"outlinewidth\":0,\"ticks\":\"\"},\"colorscale\":[[0.0,\"#0d0887\"],[0.1111111111111111,\"#46039f\"],[0.2222222222222222,\"#7201a8\"],[0.3333333333333333,\"#9c179e\"],[0.4444444444444444,\"#bd3786\"],[0.5555555555555556,\"#d8576b\"],[0.6666666666666666,\"#ed7953\"],[0.7777777777777778,\"#fb9f3a\"],[0.8888888888888888,\"#fdca26\"],[1.0,\"#f0f921\"]]}],\"contourcarpet\":[{\"type\":\"contourcarpet\",\"colorbar\":{\"outlinewidth\":0,\"ticks\":\"\"}}],\"contour\":[{\"type\":\"contour\",\"colorbar\":{\"outlinewidth\":0,\"ticks\":\"\"},\"colorscale\":[[0.0,\"#0d0887\"],[0.1111111111111111,\"#46039f\"],[0.2222222222222222,\"#7201a8\"],[0.3333333333333333,\"#9c179e\"],[0.4444444444444444,\"#bd3786\"],[0.5555555555555556,\"#d8576b\"],[0.6666666666666666,\"#ed7953\"],[0.7777777777777778,\"#fb9f3a\"],[0.8888888888888888,\"#fdca26\"],[1.0,\"#f0f921\"]]}],\"surface\":[{\"type\":\"surface\",\"colorbar\":{\"outlinewidth\":0,\"ticks\":\"\"},\"colorscale\":[[0.0,\"#0d0887\"],[0.1111111111111111,\"#46039f\"],[0.2222222222222222,\"#7201a8\"],[0.3333333333333333,\"#9c179e\"],[0.4444444444444444,\"#bd3786\"],[0.5555555555555556,\"#d8576b\"],[0.6666666666666666,\"#ed7953\"],[0.7777777777777778,\"#fb9f3a\"],[0.8888888888888888,\"#fdca26\"],[1.0,\"#f0f921\"]]}],\"mesh3d\":[{\"type\":\"mesh3d\",\"colorbar\":{\"outlinewidth\":0,\"ticks\":\"\"}}],\"scatter\":[{\"fillpattern\":{\"fillmode\":\"overlay\",\"size\":10,\"solidity\":0.2},\"type\":\"scatter\"}],\"parcoords\":[{\"type\":\"parcoords\",\"line\":{\"colorbar\":{\"outlinewidth\":0,\"ticks\":\"\"}}}],\"scatterpolargl\":[{\"type\":\"scatterpolargl\",\"marker\":{\"colorbar\":{\"outlinewidth\":0,\"ticks\":\"\"}}}],\"bar\":[{\"error_x\":{\"color\":\"#2a3f5f\"},\"error_y\":{\"color\":\"#2a3f5f\"},\"marker\":{\"line\":{\"color\":\"#E5ECF6\",\"width\":0.5},\"pattern\":{\"fillmode\":\"overlay\",\"size\":10,\"solidity\":0.2}},\"type\":\"bar\"}],\"scattergeo\":[{\"type\":\"scattergeo\",\"marker\":{\"colorbar\":{\"outlinewidth\":0,\"ticks\":\"\"}}}],\"scatterpolar\":[{\"type\":\"scatterpolar\",\"marker\":{\"colorbar\":{\"outlinewidth\":0,\"ticks\":\"\"}}}],\"histogram\":[{\"marker\":{\"pattern\":{\"fillmode\":\"overlay\",\"size\":10,\"solidity\":0.2}},\"type\":\"histogram\"}],\"scattergl\":[{\"type\":\"scattergl\",\"marker\":{\"colorbar\":{\"outlinewidth\":0,\"ticks\":\"\"}}}],\"scatter3d\":[{\"type\":\"scatter3d\",\"line\":{\"colorbar\":{\"outlinewidth\":0,\"ticks\":\"\"}},\"marker\":{\"colorbar\":{\"outlinewidth\":0,\"ticks\":\"\"}}}],\"scattermapbox\":[{\"type\":\"scattermapbox\",\"marker\":{\"colorbar\":{\"outlinewidth\":0,\"ticks\":\"\"}}}],\"scatterternary\":[{\"type\":\"scatterternary\",\"marker\":{\"colorbar\":{\"outlinewidth\":0,\"ticks\":\"\"}}}],\"scattercarpet\":[{\"type\":\"scattercarpet\",\"marker\":{\"colorbar\":{\"outlinewidth\":0,\"ticks\":\"\"}}}],\"carpet\":[{\"aaxis\":{\"endlinecolor\":\"#2a3f5f\",\"gridcolor\":\"white\",\"linecolor\":\"white\",\"minorgridcolor\":\"white\",\"startlinecolor\":\"#2a3f5f\"},\"baxis\":{\"endlinecolor\":\"#2a3f5f\",\"gridcolor\":\"white\",\"linecolor\":\"white\",\"minorgridcolor\":\"white\",\"startlinecolor\":\"#2a3f5f\"},\"type\":\"carpet\"}],\"table\":[{\"cells\":{\"fill\":{\"color\":\"#EBF0F8\"},\"line\":{\"color\":\"white\"}},\"header\":{\"fill\":{\"color\":\"#C8D4E3\"},\"line\":{\"color\":\"white\"}},\"type\":\"table\"}],\"barpolar\":[{\"marker\":{\"line\":{\"color\":\"#E5ECF6\",\"width\":0.5},\"pattern\":{\"fillmode\":\"overlay\",\"size\":10,\"solidity\":0.2}},\"type\":\"barpolar\"}],\"pie\":[{\"automargin\":true,\"type\":\"pie\"}]},\"layout\":{\"autotypenumbers\":\"strict\",\"colorway\":[\"#636efa\",\"#EF553B\",\"#00cc96\",\"#ab63fa\",\"#FFA15A\",\"#19d3f3\",\"#FF6692\",\"#B6E880\",\"#FF97FF\",\"#FECB52\"],\"font\":{\"color\":\"#2a3f5f\"},\"hovermode\":\"closest\",\"hoverlabel\":{\"align\":\"left\"},\"paper_bgcolor\":\"white\",\"plot_bgcolor\":\"#E5ECF6\",\"polar\":{\"bgcolor\":\"#E5ECF6\",\"angularaxis\":{\"gridcolor\":\"white\",\"linecolor\":\"white\",\"ticks\":\"\"},\"radialaxis\":{\"gridcolor\":\"white\",\"linecolor\":\"white\",\"ticks\":\"\"}},\"ternary\":{\"bgcolor\":\"#E5ECF6\",\"aaxis\":{\"gridcolor\":\"white\",\"linecolor\":\"white\",\"ticks\":\"\"},\"baxis\":{\"gridcolor\":\"white\",\"linecolor\":\"white\",\"ticks\":\"\"},\"caxis\":{\"gridcolor\":\"white\",\"linecolor\":\"white\",\"ticks\":\"\"}},\"coloraxis\":{\"colorbar\":{\"outlinewidth\":0,\"ticks\":\"\"}},\"colorscale\":{\"sequential\":[[0.0,\"#0d0887\"],[0.1111111111111111,\"#46039f\"],[0.2222222222222222,\"#7201a8\"],[0.3333333333333333,\"#9c179e\"],[0.4444444444444444,\"#bd3786\"],[0.5555555555555556,\"#d8576b\"],[0.6666666666666666,\"#ed7953\"],[0.7777777777777778,\"#fb9f3a\"],[0.8888888888888888,\"#fdca26\"],[1.0,\"#f0f921\"]],\"sequentialminus\":[[0.0,\"#0d0887\"],[0.1111111111111111,\"#46039f\"],[0.2222222222222222,\"#7201a8\"],[0.3333333333333333,\"#9c179e\"],[0.4444444444444444,\"#bd3786\"],[0.5555555555555556,\"#d8576b\"],[0.6666666666666666,\"#ed7953\"],[0.7777777777777778,\"#fb9f3a\"],[0.8888888888888888,\"#fdca26\"],[1.0,\"#f0f921\"]],\"diverging\":[[0,\"#8e0152\"],[0.1,\"#c51b7d\"],[0.2,\"#de77ae\"],[0.3,\"#f1b6da\"],[0.4,\"#fde0ef\"],[0.5,\"#f7f7f7\"],[0.6,\"#e6f5d0\"],[0.7,\"#b8e186\"],[0.8,\"#7fbc41\"],[0.9,\"#4d9221\"],[1,\"#276419\"]]},\"xaxis\":{\"gridcolor\":\"white\",\"linecolor\":\"white\",\"ticks\":\"\",\"title\":{\"standoff\":15},\"zerolinecolor\":\"white\",\"automargin\":true,\"zerolinewidth\":2},\"yaxis\":{\"gridcolor\":\"white\",\"linecolor\":\"white\",\"ticks\":\"\",\"title\":{\"standoff\":15},\"zerolinecolor\":\"white\",\"automargin\":true,\"zerolinewidth\":2},\"scene\":{\"xaxis\":{\"backgroundcolor\":\"#E5ECF6\",\"gridcolor\":\"white\",\"linecolor\":\"white\",\"showbackground\":true,\"ticks\":\"\",\"zerolinecolor\":\"white\",\"gridwidth\":2},\"yaxis\":{\"backgroundcolor\":\"#E5ECF6\",\"gridcolor\":\"white\",\"linecolor\":\"white\",\"showbackground\":true,\"ticks\":\"\",\"zerolinecolor\":\"white\",\"gridwidth\":2},\"zaxis\":{\"backgroundcolor\":\"#E5ECF6\",\"gridcolor\":\"white\",\"linecolor\":\"white\",\"showbackground\":true,\"ticks\":\"\",\"zerolinecolor\":\"white\",\"gridwidth\":2}},\"shapedefaults\":{\"line\":{\"color\":\"#2a3f5f\"}},\"annotationdefaults\":{\"arrowcolor\":\"#2a3f5f\",\"arrowhead\":0,\"arrowwidth\":1},\"geo\":{\"bgcolor\":\"white\",\"landcolor\":\"#E5ECF6\",\"subunitcolor\":\"white\",\"showland\":true,\"showlakes\":true,\"lakecolor\":\"white\"},\"title\":{\"x\":0.05},\"mapbox\":{\"style\":\"light\"}}},\"xaxis\":{\"anchor\":\"y\",\"domain\":[0.0,1.0],\"title\":{\"text\":\"log Time (s)\"}},\"yaxis\":{\"anchor\":\"x\",\"domain\":[0.0,1.0],\"title\":{\"text\":\"Mag\"}},\"legend\":{\"title\":{\"text\":\"color\"},\"tracegroupgap\":0},\"title\":{\"text\":\"C:/Users/biagi/Desktop/LCs to inspect deltat/CLEAN_GRBs_MAGNITUDES_December2022/Debugging\\\\130610A.txt_RESCALED\"}},                        {\"responsive\": true}                    ).then(function(){\n",
       "                            \n",
       "var gd = document.getElementById('7ea8aded-893b-4e06-bf8b-61739b4005be');\n",
       "var x = new MutationObserver(function (mutations, observer) {{\n",
       "        var display = window.getComputedStyle(gd).display;\n",
       "        if (!display || display === 'none') {{\n",
       "            console.log([gd, 'removed!']);\n",
       "            Plotly.purge(gd);\n",
       "            observer.disconnect();\n",
       "        }}\n",
       "}});\n",
       "\n",
       "// Listen for the removal of the full notebook cells\n",
       "var notebookContainer = gd.closest('#notebook-container');\n",
       "if (notebookContainer) {{\n",
       "    x.observe(notebookContainer, {childList: true});\n",
       "}}\n",
       "\n",
       "// Listen for the clearing of the current output cell\n",
       "var outputEl = gd.closest('.output');\n",
       "if (outputEl) {{\n",
       "    x.observe(outputEl, {childList: true});\n",
       "}}\n",
       "\n",
       "                        })                };                });            </script>        </div>"
      ]
     },
     "metadata": {},
     "output_type": "display_data"
    },
    {
     "data": {
      "application/vnd.plotly.v1+json": {
       "config": {
        "plotlyServerURL": "https://plot.ly"
       },
       "data": [
        {
         "customdata": [
          [
           28696
          ],
          [
           28742
          ],
          [
           28742
          ],
          [
           28742
          ]
         ],
         "error_y": {
          "array": [
           0.15,
           0.05,
           0.23,
           0.09
          ]
         },
         "hovertemplate": "color=white (4)<br>x=%{x}<br>y=%{y}<br>Source=%{customdata[0]}<extra></extra>",
         "legendgroup": "white (4)",
         "marker": {
          "color": "#636efa",
          "symbol": "circle"
         },
         "mode": "markers",
         "name": "white (4)",
         "orientation": "v",
         "showlegend": true,
         "type": "scatter",
         "x": [
          2.3404441148401185,
          2.34143452457814,
          2.8318697742805017,
          4.01110502981598
         ],
         "xaxis": "x",
         "y": [
          -18.14,
          -18.19,
          -19.39,
          -19.71
         ],
         "yaxis": "y"
        },
        {
         "customdata": [
          [
           28742
          ]
         ],
         "error_y": {
          "array": [
           0.27
          ]
         },
         "hovertemplate": "color=U (1)<br>x=%{x}<br>y=%{y}<br>Source=%{customdata[0]}<extra></extra>",
         "legendgroup": "U (1)",
         "marker": {
          "color": "#EF553B",
          "symbol": "circle"
         },
         "mode": "markers",
         "name": "U (1)",
         "orientation": "v",
         "showlegend": true,
         "type": "scatter",
         "x": [
          2.6309361190641916
         ],
         "xaxis": "x",
         "y": [
          -19.76
         ],
         "yaxis": "y"
        },
        {
         "customdata": [
          [
           28742
          ],
          [
           28713
          ],
          [
           28742
          ],
          [
           28742
          ]
         ],
         "error_y": {
          "array": [
           0.28,
           0.059,
           0.28,
           0.29
          ]
         },
         "hovertemplate": "color=V (4)<br>x=%{x}<br>y=%{y}<br>Source=%{customdata[0]}<extra></extra>",
         "legendgroup": "V (4)",
         "marker": {
          "color": "#00cc96",
          "symbol": "circle"
         },
         "mode": "markers",
         "name": "V (4)",
         "orientation": "v",
         "showlegend": true,
         "type": "scatter",
         "x": [
          2.8627275283179747,
          4.226367875856486,
          4.34047386001885,
          4.5426076029032165
         ],
         "xaxis": "x",
         "y": [
          -17.91,
          -19.361,
          -19.26,
          -19.86
         ],
         "yaxis": "y"
        },
        {
         "customdata": [
          [
           28697
          ]
         ],
         "error_y": {
          "array": [
           0.2
          ]
         },
         "hovertemplate": "color=Ic (1)<br>x=%{x}<br>y=%{y}<br>Source=%{customdata[0]}<extra></extra>",
         "legendgroup": "Ic (1)",
         "marker": {
          "color": "#ab63fa",
          "symbol": "circle"
         },
         "mode": "markers",
         "name": "Ic (1)",
         "orientation": "v",
         "showlegend": true,
         "type": "scatter",
         "x": [
          4.096666739975382
         ],
         "xaxis": "x",
         "y": [
          -18.4
         ],
         "yaxis": "y"
        },
        {
         "customdata": [
          [
           28697
          ]
         ],
         "error_y": {
          "array": [
           0.2
          ]
         },
         "hovertemplate": "color=g' (1)<br>x=%{x}<br>y=%{y}<br>Source=%{customdata[0]}<extra></extra>",
         "legendgroup": "g' (1)",
         "marker": {
          "color": "#FFA15A",
          "symbol": "circle"
         },
         "mode": "markers",
         "name": "g' (1)",
         "orientation": "v",
         "showlegend": true,
         "type": "scatter",
         "x": [
          4.096666739975382
         ],
         "xaxis": "x",
         "y": [
          -19.4
         ],
         "yaxis": "y"
        },
        {
         "customdata": [
          [
           28697
          ]
         ],
         "error_y": {
          "array": [
           0.1
          ]
         },
         "hovertemplate": "color=Rc (1)<br>x=%{x}<br>y=%{y}<br>Source=%{customdata[0]}<extra></extra>",
         "legendgroup": "Rc (1)",
         "marker": {
          "color": "#19d3f3",
          "symbol": "circle"
         },
         "mode": "markers",
         "name": "Rc (1)",
         "orientation": "v",
         "showlegend": true,
         "type": "scatter",
         "x": [
          4.096666739975382
         ],
         "xaxis": "x",
         "y": [
          -18.4
         ],
         "yaxis": "y"
        },
        {
         "customdata": [
          [
           28713
          ],
          [
           28708
          ]
         ],
         "error_y": {
          "array": [
           0.042,
           0.1
          ]
         },
         "hovertemplate": "color=R (2)<br>x=%{x}<br>y=%{y}<br>Source=%{customdata[0]}<extra></extra>",
         "legendgroup": "R (2)",
         "marker": {
          "color": "#FF6692",
          "symbol": "circle"
         },
         "mode": "markers",
         "name": "R (2)",
         "orientation": "v",
         "showlegend": true,
         "type": "scatter",
         "x": [
          4.234390722392193,
          4.569891009088619
         ],
         "xaxis": "x",
         "y": [
          -19.006,
          -20
         ],
         "yaxis": "y"
        },
        {
         "customdata": [
          [
           28713
          ]
         ],
         "error_y": {
          "array": [
           0.039
          ]
         },
         "hovertemplate": "color=I (1)<br>x=%{x}<br>y=%{y}<br>Source=%{customdata[0]}<extra></extra>",
         "legendgroup": "I (1)",
         "marker": {
          "color": "#B6E880",
          "symbol": "circle"
         },
         "mode": "markers",
         "name": "I (1)",
         "orientation": "v",
         "showlegend": true,
         "type": "scatter",
         "x": [
          4.2422680448276875
         ],
         "xaxis": "x",
         "y": [
          -18.767
         ],
         "yaxis": "y"
        },
        {
         "customdata": [
          [
           28742
          ],
          [
           28742
          ]
         ],
         "error_y": {
          "array": [
           0.21,
           0.36
          ]
         },
         "hovertemplate": "color=B (2)<br>x=%{x}<br>y=%{y}<br>Source=%{customdata[0]}<extra></extra>",
         "legendgroup": "B (2)",
         "marker": {
          "color": "#FF97FF",
          "symbol": "circle"
         },
         "mode": "markers",
         "name": "B (2)",
         "orientation": "v",
         "showlegend": true,
         "type": "scatter",
         "x": [
          4.364466567054257,
          4.597788395697452
         ],
         "xaxis": "x",
         "y": [
          -20.35,
          -21.05
         ],
         "yaxis": "y"
        },
        {
         "customdata": [
          [
           28711
          ],
          [
           28711
          ],
          [
           28711
          ],
          [
           28711
          ],
          [
           28711
          ],
          [
           28711
          ],
          [
           28701
          ]
         ],
         "error_y": {
          "array": [
           0.06,
           0.05,
           0.04,
           0.04,
           0.04,
           0.04,
           0.06
          ]
         },
         "hovertemplate": "color=r (7)<br>x=%{x}<br>y=%{y}<br>Source=%{customdata[0]}<extra></extra>",
         "legendgroup": "r (7)",
         "marker": {
          "color": "#FECB52",
          "symbol": "circle"
         },
         "mode": "markers",
         "name": "r (7)",
         "orientation": "v",
         "showlegend": true,
         "type": "scatter",
         "x": [
          4.420219877725148,
          4.424946939162113,
          4.43539838026736,
          4.440531270399891,
          4.445604203273597,
          4.45006426282523,
          4.475714760835735
         ],
         "xaxis": "x",
         "y": [
          -19.43,
          -19.49,
          -19.52,
          -19.59,
          -19.63,
          -19.65,
          -19.69
         ],
         "yaxis": "y"
        },
        {
         "customdata": [
          [
           28703
          ]
         ],
         "error_y": {
          "array": [
           0.03
          ]
         },
         "hovertemplate": "color=r' (1)<br>x=%{x}<br>y=%{y}<br>Source=%{customdata[0]}<extra></extra>",
         "legendgroup": "r' (1)",
         "marker": {
          "color": "#636efa",
          "symbol": "circle"
         },
         "mode": "markers",
         "name": "r' (1)",
         "orientation": "v",
         "showlegend": true,
         "type": "scatter",
         "x": [
          4.501037341438325
         ],
         "xaxis": "x",
         "y": [
          -19.7
         ],
         "yaxis": "y"
        }
       ],
       "layout": {
        "legend": {
         "title": {
          "text": "color"
         },
         "tracegroupgap": 0
        },
        "template": {
         "data": {
          "bar": [
           {
            "error_x": {
             "color": "#2a3f5f"
            },
            "error_y": {
             "color": "#2a3f5f"
            },
            "marker": {
             "line": {
              "color": "#E5ECF6",
              "width": 0.5
             },
             "pattern": {
              "fillmode": "overlay",
              "size": 10,
              "solidity": 0.2
             }
            },
            "type": "bar"
           }
          ],
          "barpolar": [
           {
            "marker": {
             "line": {
              "color": "#E5ECF6",
              "width": 0.5
             },
             "pattern": {
              "fillmode": "overlay",
              "size": 10,
              "solidity": 0.2
             }
            },
            "type": "barpolar"
           }
          ],
          "carpet": [
           {
            "aaxis": {
             "endlinecolor": "#2a3f5f",
             "gridcolor": "white",
             "linecolor": "white",
             "minorgridcolor": "white",
             "startlinecolor": "#2a3f5f"
            },
            "baxis": {
             "endlinecolor": "#2a3f5f",
             "gridcolor": "white",
             "linecolor": "white",
             "minorgridcolor": "white",
             "startlinecolor": "#2a3f5f"
            },
            "type": "carpet"
           }
          ],
          "choropleth": [
           {
            "colorbar": {
             "outlinewidth": 0,
             "ticks": ""
            },
            "type": "choropleth"
           }
          ],
          "contour": [
           {
            "colorbar": {
             "outlinewidth": 0,
             "ticks": ""
            },
            "colorscale": [
             [
              0,
              "#0d0887"
             ],
             [
              0.1111111111111111,
              "#46039f"
             ],
             [
              0.2222222222222222,
              "#7201a8"
             ],
             [
              0.3333333333333333,
              "#9c179e"
             ],
             [
              0.4444444444444444,
              "#bd3786"
             ],
             [
              0.5555555555555556,
              "#d8576b"
             ],
             [
              0.6666666666666666,
              "#ed7953"
             ],
             [
              0.7777777777777778,
              "#fb9f3a"
             ],
             [
              0.8888888888888888,
              "#fdca26"
             ],
             [
              1,
              "#f0f921"
             ]
            ],
            "type": "contour"
           }
          ],
          "contourcarpet": [
           {
            "colorbar": {
             "outlinewidth": 0,
             "ticks": ""
            },
            "type": "contourcarpet"
           }
          ],
          "heatmap": [
           {
            "colorbar": {
             "outlinewidth": 0,
             "ticks": ""
            },
            "colorscale": [
             [
              0,
              "#0d0887"
             ],
             [
              0.1111111111111111,
              "#46039f"
             ],
             [
              0.2222222222222222,
              "#7201a8"
             ],
             [
              0.3333333333333333,
              "#9c179e"
             ],
             [
              0.4444444444444444,
              "#bd3786"
             ],
             [
              0.5555555555555556,
              "#d8576b"
             ],
             [
              0.6666666666666666,
              "#ed7953"
             ],
             [
              0.7777777777777778,
              "#fb9f3a"
             ],
             [
              0.8888888888888888,
              "#fdca26"
             ],
             [
              1,
              "#f0f921"
             ]
            ],
            "type": "heatmap"
           }
          ],
          "heatmapgl": [
           {
            "colorbar": {
             "outlinewidth": 0,
             "ticks": ""
            },
            "colorscale": [
             [
              0,
              "#0d0887"
             ],
             [
              0.1111111111111111,
              "#46039f"
             ],
             [
              0.2222222222222222,
              "#7201a8"
             ],
             [
              0.3333333333333333,
              "#9c179e"
             ],
             [
              0.4444444444444444,
              "#bd3786"
             ],
             [
              0.5555555555555556,
              "#d8576b"
             ],
             [
              0.6666666666666666,
              "#ed7953"
             ],
             [
              0.7777777777777778,
              "#fb9f3a"
             ],
             [
              0.8888888888888888,
              "#fdca26"
             ],
             [
              1,
              "#f0f921"
             ]
            ],
            "type": "heatmapgl"
           }
          ],
          "histogram": [
           {
            "marker": {
             "pattern": {
              "fillmode": "overlay",
              "size": 10,
              "solidity": 0.2
             }
            },
            "type": "histogram"
           }
          ],
          "histogram2d": [
           {
            "colorbar": {
             "outlinewidth": 0,
             "ticks": ""
            },
            "colorscale": [
             [
              0,
              "#0d0887"
             ],
             [
              0.1111111111111111,
              "#46039f"
             ],
             [
              0.2222222222222222,
              "#7201a8"
             ],
             [
              0.3333333333333333,
              "#9c179e"
             ],
             [
              0.4444444444444444,
              "#bd3786"
             ],
             [
              0.5555555555555556,
              "#d8576b"
             ],
             [
              0.6666666666666666,
              "#ed7953"
             ],
             [
              0.7777777777777778,
              "#fb9f3a"
             ],
             [
              0.8888888888888888,
              "#fdca26"
             ],
             [
              1,
              "#f0f921"
             ]
            ],
            "type": "histogram2d"
           }
          ],
          "histogram2dcontour": [
           {
            "colorbar": {
             "outlinewidth": 0,
             "ticks": ""
            },
            "colorscale": [
             [
              0,
              "#0d0887"
             ],
             [
              0.1111111111111111,
              "#46039f"
             ],
             [
              0.2222222222222222,
              "#7201a8"
             ],
             [
              0.3333333333333333,
              "#9c179e"
             ],
             [
              0.4444444444444444,
              "#bd3786"
             ],
             [
              0.5555555555555556,
              "#d8576b"
             ],
             [
              0.6666666666666666,
              "#ed7953"
             ],
             [
              0.7777777777777778,
              "#fb9f3a"
             ],
             [
              0.8888888888888888,
              "#fdca26"
             ],
             [
              1,
              "#f0f921"
             ]
            ],
            "type": "histogram2dcontour"
           }
          ],
          "mesh3d": [
           {
            "colorbar": {
             "outlinewidth": 0,
             "ticks": ""
            },
            "type": "mesh3d"
           }
          ],
          "parcoords": [
           {
            "line": {
             "colorbar": {
              "outlinewidth": 0,
              "ticks": ""
             }
            },
            "type": "parcoords"
           }
          ],
          "pie": [
           {
            "automargin": true,
            "type": "pie"
           }
          ],
          "scatter": [
           {
            "fillpattern": {
             "fillmode": "overlay",
             "size": 10,
             "solidity": 0.2
            },
            "type": "scatter"
           }
          ],
          "scatter3d": [
           {
            "line": {
             "colorbar": {
              "outlinewidth": 0,
              "ticks": ""
             }
            },
            "marker": {
             "colorbar": {
              "outlinewidth": 0,
              "ticks": ""
             }
            },
            "type": "scatter3d"
           }
          ],
          "scattercarpet": [
           {
            "marker": {
             "colorbar": {
              "outlinewidth": 0,
              "ticks": ""
             }
            },
            "type": "scattercarpet"
           }
          ],
          "scattergeo": [
           {
            "marker": {
             "colorbar": {
              "outlinewidth": 0,
              "ticks": ""
             }
            },
            "type": "scattergeo"
           }
          ],
          "scattergl": [
           {
            "marker": {
             "colorbar": {
              "outlinewidth": 0,
              "ticks": ""
             }
            },
            "type": "scattergl"
           }
          ],
          "scattermapbox": [
           {
            "marker": {
             "colorbar": {
              "outlinewidth": 0,
              "ticks": ""
             }
            },
            "type": "scattermapbox"
           }
          ],
          "scatterpolar": [
           {
            "marker": {
             "colorbar": {
              "outlinewidth": 0,
              "ticks": ""
             }
            },
            "type": "scatterpolar"
           }
          ],
          "scatterpolargl": [
           {
            "marker": {
             "colorbar": {
              "outlinewidth": 0,
              "ticks": ""
             }
            },
            "type": "scatterpolargl"
           }
          ],
          "scatterternary": [
           {
            "marker": {
             "colorbar": {
              "outlinewidth": 0,
              "ticks": ""
             }
            },
            "type": "scatterternary"
           }
          ],
          "surface": [
           {
            "colorbar": {
             "outlinewidth": 0,
             "ticks": ""
            },
            "colorscale": [
             [
              0,
              "#0d0887"
             ],
             [
              0.1111111111111111,
              "#46039f"
             ],
             [
              0.2222222222222222,
              "#7201a8"
             ],
             [
              0.3333333333333333,
              "#9c179e"
             ],
             [
              0.4444444444444444,
              "#bd3786"
             ],
             [
              0.5555555555555556,
              "#d8576b"
             ],
             [
              0.6666666666666666,
              "#ed7953"
             ],
             [
              0.7777777777777778,
              "#fb9f3a"
             ],
             [
              0.8888888888888888,
              "#fdca26"
             ],
             [
              1,
              "#f0f921"
             ]
            ],
            "type": "surface"
           }
          ],
          "table": [
           {
            "cells": {
             "fill": {
              "color": "#EBF0F8"
             },
             "line": {
              "color": "white"
             }
            },
            "header": {
             "fill": {
              "color": "#C8D4E3"
             },
             "line": {
              "color": "white"
             }
            },
            "type": "table"
           }
          ]
         },
         "layout": {
          "annotationdefaults": {
           "arrowcolor": "#2a3f5f",
           "arrowhead": 0,
           "arrowwidth": 1
          },
          "autotypenumbers": "strict",
          "coloraxis": {
           "colorbar": {
            "outlinewidth": 0,
            "ticks": ""
           }
          },
          "colorscale": {
           "diverging": [
            [
             0,
             "#8e0152"
            ],
            [
             0.1,
             "#c51b7d"
            ],
            [
             0.2,
             "#de77ae"
            ],
            [
             0.3,
             "#f1b6da"
            ],
            [
             0.4,
             "#fde0ef"
            ],
            [
             0.5,
             "#f7f7f7"
            ],
            [
             0.6,
             "#e6f5d0"
            ],
            [
             0.7,
             "#b8e186"
            ],
            [
             0.8,
             "#7fbc41"
            ],
            [
             0.9,
             "#4d9221"
            ],
            [
             1,
             "#276419"
            ]
           ],
           "sequential": [
            [
             0,
             "#0d0887"
            ],
            [
             0.1111111111111111,
             "#46039f"
            ],
            [
             0.2222222222222222,
             "#7201a8"
            ],
            [
             0.3333333333333333,
             "#9c179e"
            ],
            [
             0.4444444444444444,
             "#bd3786"
            ],
            [
             0.5555555555555556,
             "#d8576b"
            ],
            [
             0.6666666666666666,
             "#ed7953"
            ],
            [
             0.7777777777777778,
             "#fb9f3a"
            ],
            [
             0.8888888888888888,
             "#fdca26"
            ],
            [
             1,
             "#f0f921"
            ]
           ],
           "sequentialminus": [
            [
             0,
             "#0d0887"
            ],
            [
             0.1111111111111111,
             "#46039f"
            ],
            [
             0.2222222222222222,
             "#7201a8"
            ],
            [
             0.3333333333333333,
             "#9c179e"
            ],
            [
             0.4444444444444444,
             "#bd3786"
            ],
            [
             0.5555555555555556,
             "#d8576b"
            ],
            [
             0.6666666666666666,
             "#ed7953"
            ],
            [
             0.7777777777777778,
             "#fb9f3a"
            ],
            [
             0.8888888888888888,
             "#fdca26"
            ],
            [
             1,
             "#f0f921"
            ]
           ]
          },
          "colorway": [
           "#636efa",
           "#EF553B",
           "#00cc96",
           "#ab63fa",
           "#FFA15A",
           "#19d3f3",
           "#FF6692",
           "#B6E880",
           "#FF97FF",
           "#FECB52"
          ],
          "font": {
           "color": "#2a3f5f"
          },
          "geo": {
           "bgcolor": "white",
           "lakecolor": "white",
           "landcolor": "#E5ECF6",
           "showlakes": true,
           "showland": true,
           "subunitcolor": "white"
          },
          "hoverlabel": {
           "align": "left"
          },
          "hovermode": "closest",
          "mapbox": {
           "style": "light"
          },
          "paper_bgcolor": "white",
          "plot_bgcolor": "#E5ECF6",
          "polar": {
           "angularaxis": {
            "gridcolor": "white",
            "linecolor": "white",
            "ticks": ""
           },
           "bgcolor": "#E5ECF6",
           "radialaxis": {
            "gridcolor": "white",
            "linecolor": "white",
            "ticks": ""
           }
          },
          "scene": {
           "xaxis": {
            "backgroundcolor": "#E5ECF6",
            "gridcolor": "white",
            "gridwidth": 2,
            "linecolor": "white",
            "showbackground": true,
            "ticks": "",
            "zerolinecolor": "white"
           },
           "yaxis": {
            "backgroundcolor": "#E5ECF6",
            "gridcolor": "white",
            "gridwidth": 2,
            "linecolor": "white",
            "showbackground": true,
            "ticks": "",
            "zerolinecolor": "white"
           },
           "zaxis": {
            "backgroundcolor": "#E5ECF6",
            "gridcolor": "white",
            "gridwidth": 2,
            "linecolor": "white",
            "showbackground": true,
            "ticks": "",
            "zerolinecolor": "white"
           }
          },
          "shapedefaults": {
           "line": {
            "color": "#2a3f5f"
           }
          },
          "ternary": {
           "aaxis": {
            "gridcolor": "white",
            "linecolor": "white",
            "ticks": ""
           },
           "baxis": {
            "gridcolor": "white",
            "linecolor": "white",
            "ticks": ""
           },
           "bgcolor": "#E5ECF6",
           "caxis": {
            "gridcolor": "white",
            "linecolor": "white",
            "ticks": ""
           }
          },
          "title": {
           "x": 0.05
          },
          "xaxis": {
           "automargin": true,
           "gridcolor": "white",
           "linecolor": "white",
           "ticks": "",
           "title": {
            "standoff": 15
           },
           "zerolinecolor": "white",
           "zerolinewidth": 2
          },
          "yaxis": {
           "automargin": true,
           "gridcolor": "white",
           "linecolor": "white",
           "ticks": "",
           "title": {
            "standoff": 15
           },
           "zerolinecolor": "white",
           "zerolinewidth": 2
          }
         }
        },
        "title": {
         "text": "C:/Users/biagi/Desktop/LCs to inspect deltat/CLEAN_GRBs_MAGNITUDES_December2022/Debugging\\201020A_gcn_mag.txt"
        },
        "xaxis": {
         "anchor": "y",
         "domain": [
          0,
          1
         ],
         "title": {
          "text": "log Time (s)"
         }
        },
        "yaxis": {
         "anchor": "x",
         "domain": [
          0,
          1
         ],
         "title": {
          "text": "Mag"
         }
        }
       }
      },
      "text/html": [
       "<div>                            <div id=\"eb9ec39b-0579-4da4-a9d7-426ce23472cb\" class=\"plotly-graph-div\" style=\"height:525px; width:100%;\"></div>            <script type=\"text/javascript\">                require([\"plotly\"], function(Plotly) {                    window.PLOTLYENV=window.PLOTLYENV || {};                                    if (document.getElementById(\"eb9ec39b-0579-4da4-a9d7-426ce23472cb\")) {                    Plotly.newPlot(                        \"eb9ec39b-0579-4da4-a9d7-426ce23472cb\",                        [{\"customdata\":[[28696],[28742],[28742],[28742]],\"error_y\":{\"array\":[0.15,0.05,0.23,0.09]},\"hovertemplate\":\"color=white (4)<br>x=%{x}<br>y=%{y}<br>Source=%{customdata[0]}<extra></extra>\",\"legendgroup\":\"white (4)\",\"marker\":{\"color\":\"#636efa\",\"symbol\":\"circle\"},\"mode\":\"markers\",\"name\":\"white (4)\",\"orientation\":\"v\",\"showlegend\":true,\"x\":[2.3404441148401185,2.34143452457814,2.8318697742805017,4.01110502981598],\"xaxis\":\"x\",\"y\":[-18.14,-18.19,-19.39,-19.71],\"yaxis\":\"y\",\"type\":\"scatter\"},{\"customdata\":[[28742]],\"error_y\":{\"array\":[0.27]},\"hovertemplate\":\"color=U (1)<br>x=%{x}<br>y=%{y}<br>Source=%{customdata[0]}<extra></extra>\",\"legendgroup\":\"U (1)\",\"marker\":{\"color\":\"#EF553B\",\"symbol\":\"circle\"},\"mode\":\"markers\",\"name\":\"U (1)\",\"orientation\":\"v\",\"showlegend\":true,\"x\":[2.6309361190641916],\"xaxis\":\"x\",\"y\":[-19.76],\"yaxis\":\"y\",\"type\":\"scatter\"},{\"customdata\":[[28742],[28713],[28742],[28742]],\"error_y\":{\"array\":[0.28,0.059,0.28,0.29]},\"hovertemplate\":\"color=V (4)<br>x=%{x}<br>y=%{y}<br>Source=%{customdata[0]}<extra></extra>\",\"legendgroup\":\"V (4)\",\"marker\":{\"color\":\"#00cc96\",\"symbol\":\"circle\"},\"mode\":\"markers\",\"name\":\"V (4)\",\"orientation\":\"v\",\"showlegend\":true,\"x\":[2.8627275283179747,4.226367875856486,4.34047386001885,4.5426076029032165],\"xaxis\":\"x\",\"y\":[-17.91,-19.361,-19.26,-19.86],\"yaxis\":\"y\",\"type\":\"scatter\"},{\"customdata\":[[28697]],\"error_y\":{\"array\":[0.2]},\"hovertemplate\":\"color=Ic (1)<br>x=%{x}<br>y=%{y}<br>Source=%{customdata[0]}<extra></extra>\",\"legendgroup\":\"Ic (1)\",\"marker\":{\"color\":\"#ab63fa\",\"symbol\":\"circle\"},\"mode\":\"markers\",\"name\":\"Ic (1)\",\"orientation\":\"v\",\"showlegend\":true,\"x\":[4.096666739975382],\"xaxis\":\"x\",\"y\":[-18.4],\"yaxis\":\"y\",\"type\":\"scatter\"},{\"customdata\":[[28697]],\"error_y\":{\"array\":[0.2]},\"hovertemplate\":\"color=g' (1)<br>x=%{x}<br>y=%{y}<br>Source=%{customdata[0]}<extra></extra>\",\"legendgroup\":\"g' (1)\",\"marker\":{\"color\":\"#FFA15A\",\"symbol\":\"circle\"},\"mode\":\"markers\",\"name\":\"g' (1)\",\"orientation\":\"v\",\"showlegend\":true,\"x\":[4.096666739975382],\"xaxis\":\"x\",\"y\":[-19.4],\"yaxis\":\"y\",\"type\":\"scatter\"},{\"customdata\":[[28697]],\"error_y\":{\"array\":[0.1]},\"hovertemplate\":\"color=Rc (1)<br>x=%{x}<br>y=%{y}<br>Source=%{customdata[0]}<extra></extra>\",\"legendgroup\":\"Rc (1)\",\"marker\":{\"color\":\"#19d3f3\",\"symbol\":\"circle\"},\"mode\":\"markers\",\"name\":\"Rc (1)\",\"orientation\":\"v\",\"showlegend\":true,\"x\":[4.096666739975382],\"xaxis\":\"x\",\"y\":[-18.4],\"yaxis\":\"y\",\"type\":\"scatter\"},{\"customdata\":[[28713],[28708]],\"error_y\":{\"array\":[0.042,0.1]},\"hovertemplate\":\"color=R (2)<br>x=%{x}<br>y=%{y}<br>Source=%{customdata[0]}<extra></extra>\",\"legendgroup\":\"R (2)\",\"marker\":{\"color\":\"#FF6692\",\"symbol\":\"circle\"},\"mode\":\"markers\",\"name\":\"R (2)\",\"orientation\":\"v\",\"showlegend\":true,\"x\":[4.234390722392193,4.569891009088619],\"xaxis\":\"x\",\"y\":[-19.006,-20.0],\"yaxis\":\"y\",\"type\":\"scatter\"},{\"customdata\":[[28713]],\"error_y\":{\"array\":[0.039]},\"hovertemplate\":\"color=I (1)<br>x=%{x}<br>y=%{y}<br>Source=%{customdata[0]}<extra></extra>\",\"legendgroup\":\"I (1)\",\"marker\":{\"color\":\"#B6E880\",\"symbol\":\"circle\"},\"mode\":\"markers\",\"name\":\"I (1)\",\"orientation\":\"v\",\"showlegend\":true,\"x\":[4.2422680448276875],\"xaxis\":\"x\",\"y\":[-18.767],\"yaxis\":\"y\",\"type\":\"scatter\"},{\"customdata\":[[28742],[28742]],\"error_y\":{\"array\":[0.21,0.36]},\"hovertemplate\":\"color=B (2)<br>x=%{x}<br>y=%{y}<br>Source=%{customdata[0]}<extra></extra>\",\"legendgroup\":\"B (2)\",\"marker\":{\"color\":\"#FF97FF\",\"symbol\":\"circle\"},\"mode\":\"markers\",\"name\":\"B (2)\",\"orientation\":\"v\",\"showlegend\":true,\"x\":[4.364466567054257,4.597788395697452],\"xaxis\":\"x\",\"y\":[-20.35,-21.05],\"yaxis\":\"y\",\"type\":\"scatter\"},{\"customdata\":[[28711],[28711],[28711],[28711],[28711],[28711],[28701]],\"error_y\":{\"array\":[0.06,0.05,0.04,0.04,0.04,0.04,0.06]},\"hovertemplate\":\"color=r (7)<br>x=%{x}<br>y=%{y}<br>Source=%{customdata[0]}<extra></extra>\",\"legendgroup\":\"r (7)\",\"marker\":{\"color\":\"#FECB52\",\"symbol\":\"circle\"},\"mode\":\"markers\",\"name\":\"r (7)\",\"orientation\":\"v\",\"showlegend\":true,\"x\":[4.420219877725148,4.424946939162113,4.43539838026736,4.440531270399891,4.445604203273597,4.45006426282523,4.475714760835735],\"xaxis\":\"x\",\"y\":[-19.43,-19.49,-19.52,-19.59,-19.63,-19.65,-19.69],\"yaxis\":\"y\",\"type\":\"scatter\"},{\"customdata\":[[28703]],\"error_y\":{\"array\":[0.03]},\"hovertemplate\":\"color=r' (1)<br>x=%{x}<br>y=%{y}<br>Source=%{customdata[0]}<extra></extra>\",\"legendgroup\":\"r' (1)\",\"marker\":{\"color\":\"#636efa\",\"symbol\":\"circle\"},\"mode\":\"markers\",\"name\":\"r' (1)\",\"orientation\":\"v\",\"showlegend\":true,\"x\":[4.501037341438325],\"xaxis\":\"x\",\"y\":[-19.7],\"yaxis\":\"y\",\"type\":\"scatter\"}],                        {\"template\":{\"data\":{\"histogram2dcontour\":[{\"type\":\"histogram2dcontour\",\"colorbar\":{\"outlinewidth\":0,\"ticks\":\"\"},\"colorscale\":[[0.0,\"#0d0887\"],[0.1111111111111111,\"#46039f\"],[0.2222222222222222,\"#7201a8\"],[0.3333333333333333,\"#9c179e\"],[0.4444444444444444,\"#bd3786\"],[0.5555555555555556,\"#d8576b\"],[0.6666666666666666,\"#ed7953\"],[0.7777777777777778,\"#fb9f3a\"],[0.8888888888888888,\"#fdca26\"],[1.0,\"#f0f921\"]]}],\"choropleth\":[{\"type\":\"choropleth\",\"colorbar\":{\"outlinewidth\":0,\"ticks\":\"\"}}],\"histogram2d\":[{\"type\":\"histogram2d\",\"colorbar\":{\"outlinewidth\":0,\"ticks\":\"\"},\"colorscale\":[[0.0,\"#0d0887\"],[0.1111111111111111,\"#46039f\"],[0.2222222222222222,\"#7201a8\"],[0.3333333333333333,\"#9c179e\"],[0.4444444444444444,\"#bd3786\"],[0.5555555555555556,\"#d8576b\"],[0.6666666666666666,\"#ed7953\"],[0.7777777777777778,\"#fb9f3a\"],[0.8888888888888888,\"#fdca26\"],[1.0,\"#f0f921\"]]}],\"heatmap\":[{\"type\":\"heatmap\",\"colorbar\":{\"outlinewidth\":0,\"ticks\":\"\"},\"colorscale\":[[0.0,\"#0d0887\"],[0.1111111111111111,\"#46039f\"],[0.2222222222222222,\"#7201a8\"],[0.3333333333333333,\"#9c179e\"],[0.4444444444444444,\"#bd3786\"],[0.5555555555555556,\"#d8576b\"],[0.6666666666666666,\"#ed7953\"],[0.7777777777777778,\"#fb9f3a\"],[0.8888888888888888,\"#fdca26\"],[1.0,\"#f0f921\"]]}],\"heatmapgl\":[{\"type\":\"heatmapgl\",\"colorbar\":{\"outlinewidth\":0,\"ticks\":\"\"},\"colorscale\":[[0.0,\"#0d0887\"],[0.1111111111111111,\"#46039f\"],[0.2222222222222222,\"#7201a8\"],[0.3333333333333333,\"#9c179e\"],[0.4444444444444444,\"#bd3786\"],[0.5555555555555556,\"#d8576b\"],[0.6666666666666666,\"#ed7953\"],[0.7777777777777778,\"#fb9f3a\"],[0.8888888888888888,\"#fdca26\"],[1.0,\"#f0f921\"]]}],\"contourcarpet\":[{\"type\":\"contourcarpet\",\"colorbar\":{\"outlinewidth\":0,\"ticks\":\"\"}}],\"contour\":[{\"type\":\"contour\",\"colorbar\":{\"outlinewidth\":0,\"ticks\":\"\"},\"colorscale\":[[0.0,\"#0d0887\"],[0.1111111111111111,\"#46039f\"],[0.2222222222222222,\"#7201a8\"],[0.3333333333333333,\"#9c179e\"],[0.4444444444444444,\"#bd3786\"],[0.5555555555555556,\"#d8576b\"],[0.6666666666666666,\"#ed7953\"],[0.7777777777777778,\"#fb9f3a\"],[0.8888888888888888,\"#fdca26\"],[1.0,\"#f0f921\"]]}],\"surface\":[{\"type\":\"surface\",\"colorbar\":{\"outlinewidth\":0,\"ticks\":\"\"},\"colorscale\":[[0.0,\"#0d0887\"],[0.1111111111111111,\"#46039f\"],[0.2222222222222222,\"#7201a8\"],[0.3333333333333333,\"#9c179e\"],[0.4444444444444444,\"#bd3786\"],[0.5555555555555556,\"#d8576b\"],[0.6666666666666666,\"#ed7953\"],[0.7777777777777778,\"#fb9f3a\"],[0.8888888888888888,\"#fdca26\"],[1.0,\"#f0f921\"]]}],\"mesh3d\":[{\"type\":\"mesh3d\",\"colorbar\":{\"outlinewidth\":0,\"ticks\":\"\"}}],\"scatter\":[{\"fillpattern\":{\"fillmode\":\"overlay\",\"size\":10,\"solidity\":0.2},\"type\":\"scatter\"}],\"parcoords\":[{\"type\":\"parcoords\",\"line\":{\"colorbar\":{\"outlinewidth\":0,\"ticks\":\"\"}}}],\"scatterpolargl\":[{\"type\":\"scatterpolargl\",\"marker\":{\"colorbar\":{\"outlinewidth\":0,\"ticks\":\"\"}}}],\"bar\":[{\"error_x\":{\"color\":\"#2a3f5f\"},\"error_y\":{\"color\":\"#2a3f5f\"},\"marker\":{\"line\":{\"color\":\"#E5ECF6\",\"width\":0.5},\"pattern\":{\"fillmode\":\"overlay\",\"size\":10,\"solidity\":0.2}},\"type\":\"bar\"}],\"scattergeo\":[{\"type\":\"scattergeo\",\"marker\":{\"colorbar\":{\"outlinewidth\":0,\"ticks\":\"\"}}}],\"scatterpolar\":[{\"type\":\"scatterpolar\",\"marker\":{\"colorbar\":{\"outlinewidth\":0,\"ticks\":\"\"}}}],\"histogram\":[{\"marker\":{\"pattern\":{\"fillmode\":\"overlay\",\"size\":10,\"solidity\":0.2}},\"type\":\"histogram\"}],\"scattergl\":[{\"type\":\"scattergl\",\"marker\":{\"colorbar\":{\"outlinewidth\":0,\"ticks\":\"\"}}}],\"scatter3d\":[{\"type\":\"scatter3d\",\"line\":{\"colorbar\":{\"outlinewidth\":0,\"ticks\":\"\"}},\"marker\":{\"colorbar\":{\"outlinewidth\":0,\"ticks\":\"\"}}}],\"scattermapbox\":[{\"type\":\"scattermapbox\",\"marker\":{\"colorbar\":{\"outlinewidth\":0,\"ticks\":\"\"}}}],\"scatterternary\":[{\"type\":\"scatterternary\",\"marker\":{\"colorbar\":{\"outlinewidth\":0,\"ticks\":\"\"}}}],\"scattercarpet\":[{\"type\":\"scattercarpet\",\"marker\":{\"colorbar\":{\"outlinewidth\":0,\"ticks\":\"\"}}}],\"carpet\":[{\"aaxis\":{\"endlinecolor\":\"#2a3f5f\",\"gridcolor\":\"white\",\"linecolor\":\"white\",\"minorgridcolor\":\"white\",\"startlinecolor\":\"#2a3f5f\"},\"baxis\":{\"endlinecolor\":\"#2a3f5f\",\"gridcolor\":\"white\",\"linecolor\":\"white\",\"minorgridcolor\":\"white\",\"startlinecolor\":\"#2a3f5f\"},\"type\":\"carpet\"}],\"table\":[{\"cells\":{\"fill\":{\"color\":\"#EBF0F8\"},\"line\":{\"color\":\"white\"}},\"header\":{\"fill\":{\"color\":\"#C8D4E3\"},\"line\":{\"color\":\"white\"}},\"type\":\"table\"}],\"barpolar\":[{\"marker\":{\"line\":{\"color\":\"#E5ECF6\",\"width\":0.5},\"pattern\":{\"fillmode\":\"overlay\",\"size\":10,\"solidity\":0.2}},\"type\":\"barpolar\"}],\"pie\":[{\"automargin\":true,\"type\":\"pie\"}]},\"layout\":{\"autotypenumbers\":\"strict\",\"colorway\":[\"#636efa\",\"#EF553B\",\"#00cc96\",\"#ab63fa\",\"#FFA15A\",\"#19d3f3\",\"#FF6692\",\"#B6E880\",\"#FF97FF\",\"#FECB52\"],\"font\":{\"color\":\"#2a3f5f\"},\"hovermode\":\"closest\",\"hoverlabel\":{\"align\":\"left\"},\"paper_bgcolor\":\"white\",\"plot_bgcolor\":\"#E5ECF6\",\"polar\":{\"bgcolor\":\"#E5ECF6\",\"angularaxis\":{\"gridcolor\":\"white\",\"linecolor\":\"white\",\"ticks\":\"\"},\"radialaxis\":{\"gridcolor\":\"white\",\"linecolor\":\"white\",\"ticks\":\"\"}},\"ternary\":{\"bgcolor\":\"#E5ECF6\",\"aaxis\":{\"gridcolor\":\"white\",\"linecolor\":\"white\",\"ticks\":\"\"},\"baxis\":{\"gridcolor\":\"white\",\"linecolor\":\"white\",\"ticks\":\"\"},\"caxis\":{\"gridcolor\":\"white\",\"linecolor\":\"white\",\"ticks\":\"\"}},\"coloraxis\":{\"colorbar\":{\"outlinewidth\":0,\"ticks\":\"\"}},\"colorscale\":{\"sequential\":[[0.0,\"#0d0887\"],[0.1111111111111111,\"#46039f\"],[0.2222222222222222,\"#7201a8\"],[0.3333333333333333,\"#9c179e\"],[0.4444444444444444,\"#bd3786\"],[0.5555555555555556,\"#d8576b\"],[0.6666666666666666,\"#ed7953\"],[0.7777777777777778,\"#fb9f3a\"],[0.8888888888888888,\"#fdca26\"],[1.0,\"#f0f921\"]],\"sequentialminus\":[[0.0,\"#0d0887\"],[0.1111111111111111,\"#46039f\"],[0.2222222222222222,\"#7201a8\"],[0.3333333333333333,\"#9c179e\"],[0.4444444444444444,\"#bd3786\"],[0.5555555555555556,\"#d8576b\"],[0.6666666666666666,\"#ed7953\"],[0.7777777777777778,\"#fb9f3a\"],[0.8888888888888888,\"#fdca26\"],[1.0,\"#f0f921\"]],\"diverging\":[[0,\"#8e0152\"],[0.1,\"#c51b7d\"],[0.2,\"#de77ae\"],[0.3,\"#f1b6da\"],[0.4,\"#fde0ef\"],[0.5,\"#f7f7f7\"],[0.6,\"#e6f5d0\"],[0.7,\"#b8e186\"],[0.8,\"#7fbc41\"],[0.9,\"#4d9221\"],[1,\"#276419\"]]},\"xaxis\":{\"gridcolor\":\"white\",\"linecolor\":\"white\",\"ticks\":\"\",\"title\":{\"standoff\":15},\"zerolinecolor\":\"white\",\"automargin\":true,\"zerolinewidth\":2},\"yaxis\":{\"gridcolor\":\"white\",\"linecolor\":\"white\",\"ticks\":\"\",\"title\":{\"standoff\":15},\"zerolinecolor\":\"white\",\"automargin\":true,\"zerolinewidth\":2},\"scene\":{\"xaxis\":{\"backgroundcolor\":\"#E5ECF6\",\"gridcolor\":\"white\",\"linecolor\":\"white\",\"showbackground\":true,\"ticks\":\"\",\"zerolinecolor\":\"white\",\"gridwidth\":2},\"yaxis\":{\"backgroundcolor\":\"#E5ECF6\",\"gridcolor\":\"white\",\"linecolor\":\"white\",\"showbackground\":true,\"ticks\":\"\",\"zerolinecolor\":\"white\",\"gridwidth\":2},\"zaxis\":{\"backgroundcolor\":\"#E5ECF6\",\"gridcolor\":\"white\",\"linecolor\":\"white\",\"showbackground\":true,\"ticks\":\"\",\"zerolinecolor\":\"white\",\"gridwidth\":2}},\"shapedefaults\":{\"line\":{\"color\":\"#2a3f5f\"}},\"annotationdefaults\":{\"arrowcolor\":\"#2a3f5f\",\"arrowhead\":0,\"arrowwidth\":1},\"geo\":{\"bgcolor\":\"white\",\"landcolor\":\"#E5ECF6\",\"subunitcolor\":\"white\",\"showland\":true,\"showlakes\":true,\"lakecolor\":\"white\"},\"title\":{\"x\":0.05},\"mapbox\":{\"style\":\"light\"}}},\"xaxis\":{\"anchor\":\"y\",\"domain\":[0.0,1.0],\"title\":{\"text\":\"log Time (s)\"}},\"yaxis\":{\"anchor\":\"x\",\"domain\":[0.0,1.0],\"title\":{\"text\":\"Mag\"}},\"legend\":{\"title\":{\"text\":\"color\"},\"tracegroupgap\":0},\"title\":{\"text\":\"C:/Users/biagi/Desktop/LCs to inspect deltat/CLEAN_GRBs_MAGNITUDES_December2022/Debugging\\\\201020A_gcn_mag.txt\"}},                        {\"responsive\": true}                    ).then(function(){\n",
       "                            \n",
       "var gd = document.getElementById('eb9ec39b-0579-4da4-a9d7-426ce23472cb');\n",
       "var x = new MutationObserver(function (mutations, observer) {{\n",
       "        var display = window.getComputedStyle(gd).display;\n",
       "        if (!display || display === 'none') {{\n",
       "            console.log([gd, 'removed!']);\n",
       "            Plotly.purge(gd);\n",
       "            observer.disconnect();\n",
       "        }}\n",
       "}});\n",
       "\n",
       "// Listen for the removal of the full notebook cells\n",
       "var notebookContainer = gd.closest('#notebook-container');\n",
       "if (notebookContainer) {{\n",
       "    x.observe(notebookContainer, {childList: true});\n",
       "}}\n",
       "\n",
       "// Listen for the clearing of the current output cell\n",
       "var outputEl = gd.closest('.output');\n",
       "if (outputEl) {{\n",
       "    x.observe(outputEl, {childList: true});\n",
       "}}\n",
       "\n",
       "                        })                };                });            </script>        </div>"
      ]
     },
     "metadata": {},
     "output_type": "display_data"
    },
    {
     "name": "stdout",
     "output_type": "stream",
     "text": [
      "The most numerous filter of this GRB:  r , with 7 occurrences\n",
      "The second most numerous filter of this GRB:  V , with 4 occurrences\n"
     ]
    },
    {
     "data": {
      "application/vnd.plotly.v1+json": {
       "config": {
        "plotlyServerURL": "https://plot.ly"
       },
       "data": [
        {
         "customdata": [
          [
           28696
          ],
          [
           28742
          ],
          [
           28742
          ]
         ],
         "error_y": {
          "array": [
           0.15,
           0.23,
           0.09
          ]
         },
         "hovertemplate": "color=white (4)<br>x=%{x}<br>y=%{y}<br>Source=%{customdata[0]}<extra></extra>",
         "legendgroup": "white (4)",
         "marker": {
          "color": "#636efa",
          "symbol": "circle"
         },
         "mode": "markers",
         "name": "white (4)",
         "orientation": "v",
         "showlegend": true,
         "type": "scatter",
         "x": [
          2.34,
          2.83,
          4.01
         ],
         "xaxis": "x",
         "y": [
          -18.14,
          -19.39,
          -19.71
         ],
         "yaxis": "y"
        },
        {
         "customdata": [
          [
           28742
          ]
         ],
         "error_y": {
          "array": [
           0.27
          ]
         },
         "hovertemplate": "color=U (1)<br>x=%{x}<br>y=%{y}<br>Source=%{customdata[0]}<extra></extra>",
         "legendgroup": "U (1)",
         "marker": {
          "color": "#EF553B",
          "symbol": "circle"
         },
         "mode": "markers",
         "name": "U (1)",
         "orientation": "v",
         "showlegend": true,
         "type": "scatter",
         "x": [
          2.63
         ],
         "xaxis": "x",
         "y": [
          -19.76
         ],
         "yaxis": "y"
        },
        {
         "customdata": [
          [
           28742
          ],
          [
           28713
          ],
          [
           28742
          ],
          [
           28742
          ]
         ],
         "error_y": {
          "array": [
           0.28,
           0.059,
           0.28,
           0.29
          ]
         },
         "hovertemplate": "color=V (4)<br>x=%{x}<br>y=%{y}<br>Source=%{customdata[0]}<extra></extra>",
         "legendgroup": "V (4)",
         "marker": {
          "color": "#00cc96",
          "symbol": "circle"
         },
         "mode": "markers",
         "name": "V (4)",
         "orientation": "v",
         "showlegend": true,
         "type": "scatter",
         "x": [
          2.86,
          4.23,
          4.34,
          4.54
         ],
         "xaxis": "x",
         "y": [
          -17.91,
          -19.191000000000003,
          -19.090000000000003,
          -19.69
         ],
         "yaxis": "y"
        },
        {
         "customdata": [
          [
           28697
          ]
         ],
         "error_y": {
          "array": [
           0.1
          ]
         },
         "hovertemplate": "color=Rc (1)<br>x=%{x}<br>y=%{y}<br>Source=%{customdata[0]}<extra></extra>",
         "legendgroup": "Rc (1)",
         "marker": {
          "color": "#ab63fa",
          "symbol": "circle"
         },
         "mode": "markers",
         "name": "Rc (1)",
         "orientation": "v",
         "showlegend": true,
         "type": "scatter",
         "x": [
          4.1
         ],
         "xaxis": "x",
         "y": [
          -18.4
         ],
         "yaxis": "y"
        },
        {
         "customdata": [
          [
           28713
          ]
         ],
         "error_y": {
          "array": [
           0.039
          ]
         },
         "hovertemplate": "color=I (1)<br>x=%{x}<br>y=%{y}<br>Source=%{customdata[0]}<extra></extra>",
         "legendgroup": "I (1)",
         "marker": {
          "color": "#FFA15A",
          "symbol": "circle"
         },
         "mode": "markers",
         "name": "I (1)",
         "orientation": "v",
         "showlegend": true,
         "type": "scatter",
         "x": [
          4.24
         ],
         "xaxis": "x",
         "y": [
          -19.43
         ],
         "yaxis": "y"
        },
        {
         "customdata": [
          [
           28742
          ],
          [
           28742
          ]
         ],
         "error_y": {
          "array": [
           0.21,
           0.36
          ]
         },
         "hovertemplate": "color=B (2)<br>x=%{x}<br>y=%{y}<br>Source=%{customdata[0]}<extra></extra>",
         "legendgroup": "B (2)",
         "marker": {
          "color": "#19d3f3",
          "symbol": "circle"
         },
         "mode": "markers",
         "name": "B (2)",
         "orientation": "v",
         "showlegend": true,
         "type": "scatter",
         "x": [
          4.36,
          4.6
         ],
         "xaxis": "x",
         "y": [
          -19.43,
          -20.13
         ],
         "yaxis": "y"
        },
        {
         "customdata": [
          [
           28711
          ],
          [
           28711
          ],
          [
           28711
          ],
          [
           28701
          ]
         ],
         "error_y": {
          "array": [
           0.05,
           0.04,
           0.04,
           0.06
          ]
         },
         "hovertemplate": "color=r (7)<br>x=%{x}<br>y=%{y}<br>Source=%{customdata[0]}<extra></extra>",
         "legendgroup": "r (7)",
         "marker": {
          "color": "#FF6692",
          "symbol": "circle"
         },
         "mode": "markers",
         "name": "r (7)",
         "orientation": "v",
         "showlegend": true,
         "type": "scatter",
         "x": [
          4.42,
          4.44,
          4.45,
          4.48
         ],
         "xaxis": "x",
         "y": [
          -19.49,
          -19.59,
          -19.65,
          -19.69
         ],
         "yaxis": "y"
        },
        {
         "customdata": [
          [
           28703
          ]
         ],
         "error_y": {
          "array": [
           0.03
          ]
         },
         "hovertemplate": "color=r' (1)<br>x=%{x}<br>y=%{y}<br>Source=%{customdata[0]}<extra></extra>",
         "legendgroup": "r' (1)",
         "marker": {
          "color": "#B6E880",
          "symbol": "circle"
         },
         "mode": "markers",
         "name": "r' (1)",
         "orientation": "v",
         "showlegend": true,
         "type": "scatter",
         "x": [
          4.5
         ],
         "xaxis": "x",
         "y": [
          -19.69
         ],
         "yaxis": "y"
        },
        {
         "customdata": [
          [
           28708
          ]
         ],
         "error_y": {
          "array": [
           0.1
          ]
         },
         "hovertemplate": "color=R (2)<br>x=%{x}<br>y=%{y}<br>Source=%{customdata[0]}<extra></extra>",
         "legendgroup": "R (2)",
         "marker": {
          "color": "#FF97FF",
          "symbol": "circle"
         },
         "mode": "markers",
         "name": "R (2)",
         "orientation": "v",
         "showlegend": true,
         "type": "scatter",
         "x": [
          4.57
         ],
         "xaxis": "x",
         "y": [
          -19.69
         ],
         "yaxis": "y"
        }
       ],
       "layout": {
        "legend": {
         "title": {
          "text": "color"
         },
         "tracegroupgap": 0
        },
        "template": {
         "data": {
          "bar": [
           {
            "error_x": {
             "color": "#2a3f5f"
            },
            "error_y": {
             "color": "#2a3f5f"
            },
            "marker": {
             "line": {
              "color": "#E5ECF6",
              "width": 0.5
             },
             "pattern": {
              "fillmode": "overlay",
              "size": 10,
              "solidity": 0.2
             }
            },
            "type": "bar"
           }
          ],
          "barpolar": [
           {
            "marker": {
             "line": {
              "color": "#E5ECF6",
              "width": 0.5
             },
             "pattern": {
              "fillmode": "overlay",
              "size": 10,
              "solidity": 0.2
             }
            },
            "type": "barpolar"
           }
          ],
          "carpet": [
           {
            "aaxis": {
             "endlinecolor": "#2a3f5f",
             "gridcolor": "white",
             "linecolor": "white",
             "minorgridcolor": "white",
             "startlinecolor": "#2a3f5f"
            },
            "baxis": {
             "endlinecolor": "#2a3f5f",
             "gridcolor": "white",
             "linecolor": "white",
             "minorgridcolor": "white",
             "startlinecolor": "#2a3f5f"
            },
            "type": "carpet"
           }
          ],
          "choropleth": [
           {
            "colorbar": {
             "outlinewidth": 0,
             "ticks": ""
            },
            "type": "choropleth"
           }
          ],
          "contour": [
           {
            "colorbar": {
             "outlinewidth": 0,
             "ticks": ""
            },
            "colorscale": [
             [
              0,
              "#0d0887"
             ],
             [
              0.1111111111111111,
              "#46039f"
             ],
             [
              0.2222222222222222,
              "#7201a8"
             ],
             [
              0.3333333333333333,
              "#9c179e"
             ],
             [
              0.4444444444444444,
              "#bd3786"
             ],
             [
              0.5555555555555556,
              "#d8576b"
             ],
             [
              0.6666666666666666,
              "#ed7953"
             ],
             [
              0.7777777777777778,
              "#fb9f3a"
             ],
             [
              0.8888888888888888,
              "#fdca26"
             ],
             [
              1,
              "#f0f921"
             ]
            ],
            "type": "contour"
           }
          ],
          "contourcarpet": [
           {
            "colorbar": {
             "outlinewidth": 0,
             "ticks": ""
            },
            "type": "contourcarpet"
           }
          ],
          "heatmap": [
           {
            "colorbar": {
             "outlinewidth": 0,
             "ticks": ""
            },
            "colorscale": [
             [
              0,
              "#0d0887"
             ],
             [
              0.1111111111111111,
              "#46039f"
             ],
             [
              0.2222222222222222,
              "#7201a8"
             ],
             [
              0.3333333333333333,
              "#9c179e"
             ],
             [
              0.4444444444444444,
              "#bd3786"
             ],
             [
              0.5555555555555556,
              "#d8576b"
             ],
             [
              0.6666666666666666,
              "#ed7953"
             ],
             [
              0.7777777777777778,
              "#fb9f3a"
             ],
             [
              0.8888888888888888,
              "#fdca26"
             ],
             [
              1,
              "#f0f921"
             ]
            ],
            "type": "heatmap"
           }
          ],
          "heatmapgl": [
           {
            "colorbar": {
             "outlinewidth": 0,
             "ticks": ""
            },
            "colorscale": [
             [
              0,
              "#0d0887"
             ],
             [
              0.1111111111111111,
              "#46039f"
             ],
             [
              0.2222222222222222,
              "#7201a8"
             ],
             [
              0.3333333333333333,
              "#9c179e"
             ],
             [
              0.4444444444444444,
              "#bd3786"
             ],
             [
              0.5555555555555556,
              "#d8576b"
             ],
             [
              0.6666666666666666,
              "#ed7953"
             ],
             [
              0.7777777777777778,
              "#fb9f3a"
             ],
             [
              0.8888888888888888,
              "#fdca26"
             ],
             [
              1,
              "#f0f921"
             ]
            ],
            "type": "heatmapgl"
           }
          ],
          "histogram": [
           {
            "marker": {
             "pattern": {
              "fillmode": "overlay",
              "size": 10,
              "solidity": 0.2
             }
            },
            "type": "histogram"
           }
          ],
          "histogram2d": [
           {
            "colorbar": {
             "outlinewidth": 0,
             "ticks": ""
            },
            "colorscale": [
             [
              0,
              "#0d0887"
             ],
             [
              0.1111111111111111,
              "#46039f"
             ],
             [
              0.2222222222222222,
              "#7201a8"
             ],
             [
              0.3333333333333333,
              "#9c179e"
             ],
             [
              0.4444444444444444,
              "#bd3786"
             ],
             [
              0.5555555555555556,
              "#d8576b"
             ],
             [
              0.6666666666666666,
              "#ed7953"
             ],
             [
              0.7777777777777778,
              "#fb9f3a"
             ],
             [
              0.8888888888888888,
              "#fdca26"
             ],
             [
              1,
              "#f0f921"
             ]
            ],
            "type": "histogram2d"
           }
          ],
          "histogram2dcontour": [
           {
            "colorbar": {
             "outlinewidth": 0,
             "ticks": ""
            },
            "colorscale": [
             [
              0,
              "#0d0887"
             ],
             [
              0.1111111111111111,
              "#46039f"
             ],
             [
              0.2222222222222222,
              "#7201a8"
             ],
             [
              0.3333333333333333,
              "#9c179e"
             ],
             [
              0.4444444444444444,
              "#bd3786"
             ],
             [
              0.5555555555555556,
              "#d8576b"
             ],
             [
              0.6666666666666666,
              "#ed7953"
             ],
             [
              0.7777777777777778,
              "#fb9f3a"
             ],
             [
              0.8888888888888888,
              "#fdca26"
             ],
             [
              1,
              "#f0f921"
             ]
            ],
            "type": "histogram2dcontour"
           }
          ],
          "mesh3d": [
           {
            "colorbar": {
             "outlinewidth": 0,
             "ticks": ""
            },
            "type": "mesh3d"
           }
          ],
          "parcoords": [
           {
            "line": {
             "colorbar": {
              "outlinewidth": 0,
              "ticks": ""
             }
            },
            "type": "parcoords"
           }
          ],
          "pie": [
           {
            "automargin": true,
            "type": "pie"
           }
          ],
          "scatter": [
           {
            "fillpattern": {
             "fillmode": "overlay",
             "size": 10,
             "solidity": 0.2
            },
            "type": "scatter"
           }
          ],
          "scatter3d": [
           {
            "line": {
             "colorbar": {
              "outlinewidth": 0,
              "ticks": ""
             }
            },
            "marker": {
             "colorbar": {
              "outlinewidth": 0,
              "ticks": ""
             }
            },
            "type": "scatter3d"
           }
          ],
          "scattercarpet": [
           {
            "marker": {
             "colorbar": {
              "outlinewidth": 0,
              "ticks": ""
             }
            },
            "type": "scattercarpet"
           }
          ],
          "scattergeo": [
           {
            "marker": {
             "colorbar": {
              "outlinewidth": 0,
              "ticks": ""
             }
            },
            "type": "scattergeo"
           }
          ],
          "scattergl": [
           {
            "marker": {
             "colorbar": {
              "outlinewidth": 0,
              "ticks": ""
             }
            },
            "type": "scattergl"
           }
          ],
          "scattermapbox": [
           {
            "marker": {
             "colorbar": {
              "outlinewidth": 0,
              "ticks": ""
             }
            },
            "type": "scattermapbox"
           }
          ],
          "scatterpolar": [
           {
            "marker": {
             "colorbar": {
              "outlinewidth": 0,
              "ticks": ""
             }
            },
            "type": "scatterpolar"
           }
          ],
          "scatterpolargl": [
           {
            "marker": {
             "colorbar": {
              "outlinewidth": 0,
              "ticks": ""
             }
            },
            "type": "scatterpolargl"
           }
          ],
          "scatterternary": [
           {
            "marker": {
             "colorbar": {
              "outlinewidth": 0,
              "ticks": ""
             }
            },
            "type": "scatterternary"
           }
          ],
          "surface": [
           {
            "colorbar": {
             "outlinewidth": 0,
             "ticks": ""
            },
            "colorscale": [
             [
              0,
              "#0d0887"
             ],
             [
              0.1111111111111111,
              "#46039f"
             ],
             [
              0.2222222222222222,
              "#7201a8"
             ],
             [
              0.3333333333333333,
              "#9c179e"
             ],
             [
              0.4444444444444444,
              "#bd3786"
             ],
             [
              0.5555555555555556,
              "#d8576b"
             ],
             [
              0.6666666666666666,
              "#ed7953"
             ],
             [
              0.7777777777777778,
              "#fb9f3a"
             ],
             [
              0.8888888888888888,
              "#fdca26"
             ],
             [
              1,
              "#f0f921"
             ]
            ],
            "type": "surface"
           }
          ],
          "table": [
           {
            "cells": {
             "fill": {
              "color": "#EBF0F8"
             },
             "line": {
              "color": "white"
             }
            },
            "header": {
             "fill": {
              "color": "#C8D4E3"
             },
             "line": {
              "color": "white"
             }
            },
            "type": "table"
           }
          ]
         },
         "layout": {
          "annotationdefaults": {
           "arrowcolor": "#2a3f5f",
           "arrowhead": 0,
           "arrowwidth": 1
          },
          "autotypenumbers": "strict",
          "coloraxis": {
           "colorbar": {
            "outlinewidth": 0,
            "ticks": ""
           }
          },
          "colorscale": {
           "diverging": [
            [
             0,
             "#8e0152"
            ],
            [
             0.1,
             "#c51b7d"
            ],
            [
             0.2,
             "#de77ae"
            ],
            [
             0.3,
             "#f1b6da"
            ],
            [
             0.4,
             "#fde0ef"
            ],
            [
             0.5,
             "#f7f7f7"
            ],
            [
             0.6,
             "#e6f5d0"
            ],
            [
             0.7,
             "#b8e186"
            ],
            [
             0.8,
             "#7fbc41"
            ],
            [
             0.9,
             "#4d9221"
            ],
            [
             1,
             "#276419"
            ]
           ],
           "sequential": [
            [
             0,
             "#0d0887"
            ],
            [
             0.1111111111111111,
             "#46039f"
            ],
            [
             0.2222222222222222,
             "#7201a8"
            ],
            [
             0.3333333333333333,
             "#9c179e"
            ],
            [
             0.4444444444444444,
             "#bd3786"
            ],
            [
             0.5555555555555556,
             "#d8576b"
            ],
            [
             0.6666666666666666,
             "#ed7953"
            ],
            [
             0.7777777777777778,
             "#fb9f3a"
            ],
            [
             0.8888888888888888,
             "#fdca26"
            ],
            [
             1,
             "#f0f921"
            ]
           ],
           "sequentialminus": [
            [
             0,
             "#0d0887"
            ],
            [
             0.1111111111111111,
             "#46039f"
            ],
            [
             0.2222222222222222,
             "#7201a8"
            ],
            [
             0.3333333333333333,
             "#9c179e"
            ],
            [
             0.4444444444444444,
             "#bd3786"
            ],
            [
             0.5555555555555556,
             "#d8576b"
            ],
            [
             0.6666666666666666,
             "#ed7953"
            ],
            [
             0.7777777777777778,
             "#fb9f3a"
            ],
            [
             0.8888888888888888,
             "#fdca26"
            ],
            [
             1,
             "#f0f921"
            ]
           ]
          },
          "colorway": [
           "#636efa",
           "#EF553B",
           "#00cc96",
           "#ab63fa",
           "#FFA15A",
           "#19d3f3",
           "#FF6692",
           "#B6E880",
           "#FF97FF",
           "#FECB52"
          ],
          "font": {
           "color": "#2a3f5f"
          },
          "geo": {
           "bgcolor": "white",
           "lakecolor": "white",
           "landcolor": "#E5ECF6",
           "showlakes": true,
           "showland": true,
           "subunitcolor": "white"
          },
          "hoverlabel": {
           "align": "left"
          },
          "hovermode": "closest",
          "mapbox": {
           "style": "light"
          },
          "paper_bgcolor": "white",
          "plot_bgcolor": "#E5ECF6",
          "polar": {
           "angularaxis": {
            "gridcolor": "white",
            "linecolor": "white",
            "ticks": ""
           },
           "bgcolor": "#E5ECF6",
           "radialaxis": {
            "gridcolor": "white",
            "linecolor": "white",
            "ticks": ""
           }
          },
          "scene": {
           "xaxis": {
            "backgroundcolor": "#E5ECF6",
            "gridcolor": "white",
            "gridwidth": 2,
            "linecolor": "white",
            "showbackground": true,
            "ticks": "",
            "zerolinecolor": "white"
           },
           "yaxis": {
            "backgroundcolor": "#E5ECF6",
            "gridcolor": "white",
            "gridwidth": 2,
            "linecolor": "white",
            "showbackground": true,
            "ticks": "",
            "zerolinecolor": "white"
           },
           "zaxis": {
            "backgroundcolor": "#E5ECF6",
            "gridcolor": "white",
            "gridwidth": 2,
            "linecolor": "white",
            "showbackground": true,
            "ticks": "",
            "zerolinecolor": "white"
           }
          },
          "shapedefaults": {
           "line": {
            "color": "#2a3f5f"
           }
          },
          "ternary": {
           "aaxis": {
            "gridcolor": "white",
            "linecolor": "white",
            "ticks": ""
           },
           "baxis": {
            "gridcolor": "white",
            "linecolor": "white",
            "ticks": ""
           },
           "bgcolor": "#E5ECF6",
           "caxis": {
            "gridcolor": "white",
            "linecolor": "white",
            "ticks": ""
           }
          },
          "title": {
           "x": 0.05
          },
          "xaxis": {
           "automargin": true,
           "gridcolor": "white",
           "linecolor": "white",
           "ticks": "",
           "title": {
            "standoff": 15
           },
           "zerolinecolor": "white",
           "zerolinewidth": 2
          },
          "yaxis": {
           "automargin": true,
           "gridcolor": "white",
           "linecolor": "white",
           "ticks": "",
           "title": {
            "standoff": 15
           },
           "zerolinecolor": "white",
           "zerolinewidth": 2
          }
         }
        },
        "title": {
         "text": "C:/Users/biagi/Desktop/LCs to inspect deltat/CLEAN_GRBs_MAGNITUDES_December2022/Debugging\\201020A_gcn_mag.txt_RESCALED"
        },
        "xaxis": {
         "anchor": "y",
         "domain": [
          0,
          1
         ],
         "title": {
          "text": "log Time (s)"
         }
        },
        "yaxis": {
         "anchor": "x",
         "domain": [
          0,
          1
         ],
         "title": {
          "text": "Mag"
         }
        }
       }
      },
      "text/html": [
       "<div>                            <div id=\"05f546d4-1a31-4671-ba23-65c74883e998\" class=\"plotly-graph-div\" style=\"height:525px; width:100%;\"></div>            <script type=\"text/javascript\">                require([\"plotly\"], function(Plotly) {                    window.PLOTLYENV=window.PLOTLYENV || {};                                    if (document.getElementById(\"05f546d4-1a31-4671-ba23-65c74883e998\")) {                    Plotly.newPlot(                        \"05f546d4-1a31-4671-ba23-65c74883e998\",                        [{\"customdata\":[[28696],[28742],[28742]],\"error_y\":{\"array\":[0.15,0.23,0.09]},\"hovertemplate\":\"color=white (4)<br>x=%{x}<br>y=%{y}<br>Source=%{customdata[0]}<extra></extra>\",\"legendgroup\":\"white (4)\",\"marker\":{\"color\":\"#636efa\",\"symbol\":\"circle\"},\"mode\":\"markers\",\"name\":\"white (4)\",\"orientation\":\"v\",\"showlegend\":true,\"x\":[2.34,2.83,4.01],\"xaxis\":\"x\",\"y\":[-18.14,-19.39,-19.71],\"yaxis\":\"y\",\"type\":\"scatter\"},{\"customdata\":[[28742]],\"error_y\":{\"array\":[0.27]},\"hovertemplate\":\"color=U (1)<br>x=%{x}<br>y=%{y}<br>Source=%{customdata[0]}<extra></extra>\",\"legendgroup\":\"U (1)\",\"marker\":{\"color\":\"#EF553B\",\"symbol\":\"circle\"},\"mode\":\"markers\",\"name\":\"U (1)\",\"orientation\":\"v\",\"showlegend\":true,\"x\":[2.63],\"xaxis\":\"x\",\"y\":[-19.76],\"yaxis\":\"y\",\"type\":\"scatter\"},{\"customdata\":[[28742],[28713],[28742],[28742]],\"error_y\":{\"array\":[0.28,0.059,0.28,0.29]},\"hovertemplate\":\"color=V (4)<br>x=%{x}<br>y=%{y}<br>Source=%{customdata[0]}<extra></extra>\",\"legendgroup\":\"V (4)\",\"marker\":{\"color\":\"#00cc96\",\"symbol\":\"circle\"},\"mode\":\"markers\",\"name\":\"V (4)\",\"orientation\":\"v\",\"showlegend\":true,\"x\":[2.86,4.23,4.34,4.54],\"xaxis\":\"x\",\"y\":[-17.91,-19.191000000000003,-19.090000000000003,-19.69],\"yaxis\":\"y\",\"type\":\"scatter\"},{\"customdata\":[[28697]],\"error_y\":{\"array\":[0.1]},\"hovertemplate\":\"color=Rc (1)<br>x=%{x}<br>y=%{y}<br>Source=%{customdata[0]}<extra></extra>\",\"legendgroup\":\"Rc (1)\",\"marker\":{\"color\":\"#ab63fa\",\"symbol\":\"circle\"},\"mode\":\"markers\",\"name\":\"Rc (1)\",\"orientation\":\"v\",\"showlegend\":true,\"x\":[4.1],\"xaxis\":\"x\",\"y\":[-18.4],\"yaxis\":\"y\",\"type\":\"scatter\"},{\"customdata\":[[28713]],\"error_y\":{\"array\":[0.039]},\"hovertemplate\":\"color=I (1)<br>x=%{x}<br>y=%{y}<br>Source=%{customdata[0]}<extra></extra>\",\"legendgroup\":\"I (1)\",\"marker\":{\"color\":\"#FFA15A\",\"symbol\":\"circle\"},\"mode\":\"markers\",\"name\":\"I (1)\",\"orientation\":\"v\",\"showlegend\":true,\"x\":[4.24],\"xaxis\":\"x\",\"y\":[-19.43],\"yaxis\":\"y\",\"type\":\"scatter\"},{\"customdata\":[[28742],[28742]],\"error_y\":{\"array\":[0.21,0.36]},\"hovertemplate\":\"color=B (2)<br>x=%{x}<br>y=%{y}<br>Source=%{customdata[0]}<extra></extra>\",\"legendgroup\":\"B (2)\",\"marker\":{\"color\":\"#19d3f3\",\"symbol\":\"circle\"},\"mode\":\"markers\",\"name\":\"B (2)\",\"orientation\":\"v\",\"showlegend\":true,\"x\":[4.36,4.6],\"xaxis\":\"x\",\"y\":[-19.43,-20.13],\"yaxis\":\"y\",\"type\":\"scatter\"},{\"customdata\":[[28711],[28711],[28711],[28701]],\"error_y\":{\"array\":[0.05,0.04,0.04,0.06]},\"hovertemplate\":\"color=r (7)<br>x=%{x}<br>y=%{y}<br>Source=%{customdata[0]}<extra></extra>\",\"legendgroup\":\"r (7)\",\"marker\":{\"color\":\"#FF6692\",\"symbol\":\"circle\"},\"mode\":\"markers\",\"name\":\"r (7)\",\"orientation\":\"v\",\"showlegend\":true,\"x\":[4.42,4.44,4.45,4.48],\"xaxis\":\"x\",\"y\":[-19.49,-19.59,-19.65,-19.69],\"yaxis\":\"y\",\"type\":\"scatter\"},{\"customdata\":[[28703]],\"error_y\":{\"array\":[0.03]},\"hovertemplate\":\"color=r' (1)<br>x=%{x}<br>y=%{y}<br>Source=%{customdata[0]}<extra></extra>\",\"legendgroup\":\"r' (1)\",\"marker\":{\"color\":\"#B6E880\",\"symbol\":\"circle\"},\"mode\":\"markers\",\"name\":\"r' (1)\",\"orientation\":\"v\",\"showlegend\":true,\"x\":[4.5],\"xaxis\":\"x\",\"y\":[-19.69],\"yaxis\":\"y\",\"type\":\"scatter\"},{\"customdata\":[[28708]],\"error_y\":{\"array\":[0.1]},\"hovertemplate\":\"color=R (2)<br>x=%{x}<br>y=%{y}<br>Source=%{customdata[0]}<extra></extra>\",\"legendgroup\":\"R (2)\",\"marker\":{\"color\":\"#FF97FF\",\"symbol\":\"circle\"},\"mode\":\"markers\",\"name\":\"R (2)\",\"orientation\":\"v\",\"showlegend\":true,\"x\":[4.57],\"xaxis\":\"x\",\"y\":[-19.69],\"yaxis\":\"y\",\"type\":\"scatter\"}],                        {\"template\":{\"data\":{\"histogram2dcontour\":[{\"type\":\"histogram2dcontour\",\"colorbar\":{\"outlinewidth\":0,\"ticks\":\"\"},\"colorscale\":[[0.0,\"#0d0887\"],[0.1111111111111111,\"#46039f\"],[0.2222222222222222,\"#7201a8\"],[0.3333333333333333,\"#9c179e\"],[0.4444444444444444,\"#bd3786\"],[0.5555555555555556,\"#d8576b\"],[0.6666666666666666,\"#ed7953\"],[0.7777777777777778,\"#fb9f3a\"],[0.8888888888888888,\"#fdca26\"],[1.0,\"#f0f921\"]]}],\"choropleth\":[{\"type\":\"choropleth\",\"colorbar\":{\"outlinewidth\":0,\"ticks\":\"\"}}],\"histogram2d\":[{\"type\":\"histogram2d\",\"colorbar\":{\"outlinewidth\":0,\"ticks\":\"\"},\"colorscale\":[[0.0,\"#0d0887\"],[0.1111111111111111,\"#46039f\"],[0.2222222222222222,\"#7201a8\"],[0.3333333333333333,\"#9c179e\"],[0.4444444444444444,\"#bd3786\"],[0.5555555555555556,\"#d8576b\"],[0.6666666666666666,\"#ed7953\"],[0.7777777777777778,\"#fb9f3a\"],[0.8888888888888888,\"#fdca26\"],[1.0,\"#f0f921\"]]}],\"heatmap\":[{\"type\":\"heatmap\",\"colorbar\":{\"outlinewidth\":0,\"ticks\":\"\"},\"colorscale\":[[0.0,\"#0d0887\"],[0.1111111111111111,\"#46039f\"],[0.2222222222222222,\"#7201a8\"],[0.3333333333333333,\"#9c179e\"],[0.4444444444444444,\"#bd3786\"],[0.5555555555555556,\"#d8576b\"],[0.6666666666666666,\"#ed7953\"],[0.7777777777777778,\"#fb9f3a\"],[0.8888888888888888,\"#fdca26\"],[1.0,\"#f0f921\"]]}],\"heatmapgl\":[{\"type\":\"heatmapgl\",\"colorbar\":{\"outlinewidth\":0,\"ticks\":\"\"},\"colorscale\":[[0.0,\"#0d0887\"],[0.1111111111111111,\"#46039f\"],[0.2222222222222222,\"#7201a8\"],[0.3333333333333333,\"#9c179e\"],[0.4444444444444444,\"#bd3786\"],[0.5555555555555556,\"#d8576b\"],[0.6666666666666666,\"#ed7953\"],[0.7777777777777778,\"#fb9f3a\"],[0.8888888888888888,\"#fdca26\"],[1.0,\"#f0f921\"]]}],\"contourcarpet\":[{\"type\":\"contourcarpet\",\"colorbar\":{\"outlinewidth\":0,\"ticks\":\"\"}}],\"contour\":[{\"type\":\"contour\",\"colorbar\":{\"outlinewidth\":0,\"ticks\":\"\"},\"colorscale\":[[0.0,\"#0d0887\"],[0.1111111111111111,\"#46039f\"],[0.2222222222222222,\"#7201a8\"],[0.3333333333333333,\"#9c179e\"],[0.4444444444444444,\"#bd3786\"],[0.5555555555555556,\"#d8576b\"],[0.6666666666666666,\"#ed7953\"],[0.7777777777777778,\"#fb9f3a\"],[0.8888888888888888,\"#fdca26\"],[1.0,\"#f0f921\"]]}],\"surface\":[{\"type\":\"surface\",\"colorbar\":{\"outlinewidth\":0,\"ticks\":\"\"},\"colorscale\":[[0.0,\"#0d0887\"],[0.1111111111111111,\"#46039f\"],[0.2222222222222222,\"#7201a8\"],[0.3333333333333333,\"#9c179e\"],[0.4444444444444444,\"#bd3786\"],[0.5555555555555556,\"#d8576b\"],[0.6666666666666666,\"#ed7953\"],[0.7777777777777778,\"#fb9f3a\"],[0.8888888888888888,\"#fdca26\"],[1.0,\"#f0f921\"]]}],\"mesh3d\":[{\"type\":\"mesh3d\",\"colorbar\":{\"outlinewidth\":0,\"ticks\":\"\"}}],\"scatter\":[{\"fillpattern\":{\"fillmode\":\"overlay\",\"size\":10,\"solidity\":0.2},\"type\":\"scatter\"}],\"parcoords\":[{\"type\":\"parcoords\",\"line\":{\"colorbar\":{\"outlinewidth\":0,\"ticks\":\"\"}}}],\"scatterpolargl\":[{\"type\":\"scatterpolargl\",\"marker\":{\"colorbar\":{\"outlinewidth\":0,\"ticks\":\"\"}}}],\"bar\":[{\"error_x\":{\"color\":\"#2a3f5f\"},\"error_y\":{\"color\":\"#2a3f5f\"},\"marker\":{\"line\":{\"color\":\"#E5ECF6\",\"width\":0.5},\"pattern\":{\"fillmode\":\"overlay\",\"size\":10,\"solidity\":0.2}},\"type\":\"bar\"}],\"scattergeo\":[{\"type\":\"scattergeo\",\"marker\":{\"colorbar\":{\"outlinewidth\":0,\"ticks\":\"\"}}}],\"scatterpolar\":[{\"type\":\"scatterpolar\",\"marker\":{\"colorbar\":{\"outlinewidth\":0,\"ticks\":\"\"}}}],\"histogram\":[{\"marker\":{\"pattern\":{\"fillmode\":\"overlay\",\"size\":10,\"solidity\":0.2}},\"type\":\"histogram\"}],\"scattergl\":[{\"type\":\"scattergl\",\"marker\":{\"colorbar\":{\"outlinewidth\":0,\"ticks\":\"\"}}}],\"scatter3d\":[{\"type\":\"scatter3d\",\"line\":{\"colorbar\":{\"outlinewidth\":0,\"ticks\":\"\"}},\"marker\":{\"colorbar\":{\"outlinewidth\":0,\"ticks\":\"\"}}}],\"scattermapbox\":[{\"type\":\"scattermapbox\",\"marker\":{\"colorbar\":{\"outlinewidth\":0,\"ticks\":\"\"}}}],\"scatterternary\":[{\"type\":\"scatterternary\",\"marker\":{\"colorbar\":{\"outlinewidth\":0,\"ticks\":\"\"}}}],\"scattercarpet\":[{\"type\":\"scattercarpet\",\"marker\":{\"colorbar\":{\"outlinewidth\":0,\"ticks\":\"\"}}}],\"carpet\":[{\"aaxis\":{\"endlinecolor\":\"#2a3f5f\",\"gridcolor\":\"white\",\"linecolor\":\"white\",\"minorgridcolor\":\"white\",\"startlinecolor\":\"#2a3f5f\"},\"baxis\":{\"endlinecolor\":\"#2a3f5f\",\"gridcolor\":\"white\",\"linecolor\":\"white\",\"minorgridcolor\":\"white\",\"startlinecolor\":\"#2a3f5f\"},\"type\":\"carpet\"}],\"table\":[{\"cells\":{\"fill\":{\"color\":\"#EBF0F8\"},\"line\":{\"color\":\"white\"}},\"header\":{\"fill\":{\"color\":\"#C8D4E3\"},\"line\":{\"color\":\"white\"}},\"type\":\"table\"}],\"barpolar\":[{\"marker\":{\"line\":{\"color\":\"#E5ECF6\",\"width\":0.5},\"pattern\":{\"fillmode\":\"overlay\",\"size\":10,\"solidity\":0.2}},\"type\":\"barpolar\"}],\"pie\":[{\"automargin\":true,\"type\":\"pie\"}]},\"layout\":{\"autotypenumbers\":\"strict\",\"colorway\":[\"#636efa\",\"#EF553B\",\"#00cc96\",\"#ab63fa\",\"#FFA15A\",\"#19d3f3\",\"#FF6692\",\"#B6E880\",\"#FF97FF\",\"#FECB52\"],\"font\":{\"color\":\"#2a3f5f\"},\"hovermode\":\"closest\",\"hoverlabel\":{\"align\":\"left\"},\"paper_bgcolor\":\"white\",\"plot_bgcolor\":\"#E5ECF6\",\"polar\":{\"bgcolor\":\"#E5ECF6\",\"angularaxis\":{\"gridcolor\":\"white\",\"linecolor\":\"white\",\"ticks\":\"\"},\"radialaxis\":{\"gridcolor\":\"white\",\"linecolor\":\"white\",\"ticks\":\"\"}},\"ternary\":{\"bgcolor\":\"#E5ECF6\",\"aaxis\":{\"gridcolor\":\"white\",\"linecolor\":\"white\",\"ticks\":\"\"},\"baxis\":{\"gridcolor\":\"white\",\"linecolor\":\"white\",\"ticks\":\"\"},\"caxis\":{\"gridcolor\":\"white\",\"linecolor\":\"white\",\"ticks\":\"\"}},\"coloraxis\":{\"colorbar\":{\"outlinewidth\":0,\"ticks\":\"\"}},\"colorscale\":{\"sequential\":[[0.0,\"#0d0887\"],[0.1111111111111111,\"#46039f\"],[0.2222222222222222,\"#7201a8\"],[0.3333333333333333,\"#9c179e\"],[0.4444444444444444,\"#bd3786\"],[0.5555555555555556,\"#d8576b\"],[0.6666666666666666,\"#ed7953\"],[0.7777777777777778,\"#fb9f3a\"],[0.8888888888888888,\"#fdca26\"],[1.0,\"#f0f921\"]],\"sequentialminus\":[[0.0,\"#0d0887\"],[0.1111111111111111,\"#46039f\"],[0.2222222222222222,\"#7201a8\"],[0.3333333333333333,\"#9c179e\"],[0.4444444444444444,\"#bd3786\"],[0.5555555555555556,\"#d8576b\"],[0.6666666666666666,\"#ed7953\"],[0.7777777777777778,\"#fb9f3a\"],[0.8888888888888888,\"#fdca26\"],[1.0,\"#f0f921\"]],\"diverging\":[[0,\"#8e0152\"],[0.1,\"#c51b7d\"],[0.2,\"#de77ae\"],[0.3,\"#f1b6da\"],[0.4,\"#fde0ef\"],[0.5,\"#f7f7f7\"],[0.6,\"#e6f5d0\"],[0.7,\"#b8e186\"],[0.8,\"#7fbc41\"],[0.9,\"#4d9221\"],[1,\"#276419\"]]},\"xaxis\":{\"gridcolor\":\"white\",\"linecolor\":\"white\",\"ticks\":\"\",\"title\":{\"standoff\":15},\"zerolinecolor\":\"white\",\"automargin\":true,\"zerolinewidth\":2},\"yaxis\":{\"gridcolor\":\"white\",\"linecolor\":\"white\",\"ticks\":\"\",\"title\":{\"standoff\":15},\"zerolinecolor\":\"white\",\"automargin\":true,\"zerolinewidth\":2},\"scene\":{\"xaxis\":{\"backgroundcolor\":\"#E5ECF6\",\"gridcolor\":\"white\",\"linecolor\":\"white\",\"showbackground\":true,\"ticks\":\"\",\"zerolinecolor\":\"white\",\"gridwidth\":2},\"yaxis\":{\"backgroundcolor\":\"#E5ECF6\",\"gridcolor\":\"white\",\"linecolor\":\"white\",\"showbackground\":true,\"ticks\":\"\",\"zerolinecolor\":\"white\",\"gridwidth\":2},\"zaxis\":{\"backgroundcolor\":\"#E5ECF6\",\"gridcolor\":\"white\",\"linecolor\":\"white\",\"showbackground\":true,\"ticks\":\"\",\"zerolinecolor\":\"white\",\"gridwidth\":2}},\"shapedefaults\":{\"line\":{\"color\":\"#2a3f5f\"}},\"annotationdefaults\":{\"arrowcolor\":\"#2a3f5f\",\"arrowhead\":0,\"arrowwidth\":1},\"geo\":{\"bgcolor\":\"white\",\"landcolor\":\"#E5ECF6\",\"subunitcolor\":\"white\",\"showland\":true,\"showlakes\":true,\"lakecolor\":\"white\"},\"title\":{\"x\":0.05},\"mapbox\":{\"style\":\"light\"}}},\"xaxis\":{\"anchor\":\"y\",\"domain\":[0.0,1.0],\"title\":{\"text\":\"log Time (s)\"}},\"yaxis\":{\"anchor\":\"x\",\"domain\":[0.0,1.0],\"title\":{\"text\":\"Mag\"}},\"legend\":{\"title\":{\"text\":\"color\"},\"tracegroupgap\":0},\"title\":{\"text\":\"C:/Users/biagi/Desktop/LCs to inspect deltat/CLEAN_GRBs_MAGNITUDES_December2022/Debugging\\\\201020A_gcn_mag.txt_RESCALED\"}},                        {\"responsive\": true}                    ).then(function(){\n",
       "                            \n",
       "var gd = document.getElementById('05f546d4-1a31-4671-ba23-65c74883e998');\n",
       "var x = new MutationObserver(function (mutations, observer) {{\n",
       "        var display = window.getComputedStyle(gd).display;\n",
       "        if (!display || display === 'none') {{\n",
       "            console.log([gd, 'removed!']);\n",
       "            Plotly.purge(gd);\n",
       "            observer.disconnect();\n",
       "        }}\n",
       "}});\n",
       "\n",
       "// Listen for the removal of the full notebook cells\n",
       "var notebookContainer = gd.closest('#notebook-container');\n",
       "if (notebookContainer) {{\n",
       "    x.observe(notebookContainer, {childList: true});\n",
       "}}\n",
       "\n",
       "// Listen for the clearing of the current output cell\n",
       "var outputEl = gd.closest('.output');\n",
       "if (outputEl) {{\n",
       "    x.observe(outputEl, {childList: true});\n",
       "}}\n",
       "\n",
       "                        })                };                });            </script>        </div>"
      ]
     },
     "metadata": {},
     "output_type": "display_data"
    },
    {
     "data": {
      "application/vnd.plotly.v1+json": {
       "config": {
        "plotlyServerURL": "https://plot.ly"
       },
       "data": [
        {
         "customdata": [
          [
           "IAUC6657"
          ],
          [
           "IAUC6657"
          ],
          [
           "astro-ph9802160"
          ],
          [
           "IAUC6657"
          ],
          [
           "astro-ph9802160"
          ],
          [
           "astro-ph9802160"
          ],
          [
           "IAUC6660"
          ]
         ],
         "error_y": {
          "array": [
           0.3,
           0.3,
           0.25,
           0.3,
           0.25,
           0.25,
           0.2
          ]
         },
         "hovertemplate": "color=U (7)<br>x=%{x}<br>y=%{y}<br>Source=%{customdata[0]}<extra></extra>",
         "legendgroup": "U (7)",
         "marker": {
          "color": "#636efa",
          "symbol": "circle"
         },
         "mode": "markers",
         "name": "U (7)",
         "orientation": "v",
         "showlegend": true,
         "type": "scatter",
         "x": [
          4.286761760813056,
          4.934336823224618,
          4.94766404275147,
          5.230538325745003,
          5.253740123146237,
          5.431502072968175,
          5.431502072968175
         ],
         "xaxis": "x",
         "y": [
          -21,
          -20.5,
          -20.61,
          -20.3,
          -19.75,
          -19.97,
          -20.9
         ],
         "yaxis": "y"
        },
        {
         "customdata": [
          [
           "astro-ph9706225"
          ],
          [
           "astro-ph9706225"
          ],
          [
           "astro-ph9706225"
          ],
          [
           "astro-ph9706225"
          ],
          [
           "astro-ph9802160"
          ],
          [
           "astro-ph9706225"
          ],
          [
           "astro-ph9706225"
          ],
          [
           "astro-ph9706225"
          ],
          [
           "astro-ph9706225"
          ],
          [
           "astro-ph9706225"
          ],
          [
           "astro-ph9706225"
          ],
          [
           "IAUC6663"
          ],
          [
           "astro-ph9802341"
          ],
          [
           "astro-ph9712100"
          ],
          [
           "astro-ph9802341"
          ],
          [
           "astro-ph9712100"
          ],
          [
           "astro-ph9802160"
          ],
          [
           "astro-ph9712100"
          ],
          [
           "astro-ph9802341"
          ],
          [
           "astro-ph9802160"
          ],
          [
           "astro-ph9712100"
          ],
          [
           "astro-ph9802341"
          ],
          [
           "astro-ph9802341"
          ],
          [
           "astro-ph9712100"
          ],
          [
           "astro-ph9802341"
          ],
          [
           "astro-ph9802341"
          ],
          [
           "IAUC6671"
          ],
          [
           "astro-ph9802341"
          ],
          [
           "astro-ph9802341"
          ],
          [
           "astro-ph9802341"
          ],
          [
           "astro-ph9802341"
          ],
          [
           "astro-ph9802341"
          ],
          [
           "astro-ph9802341"
          ]
         ],
         "error_y": {
          "array": [
           0.8,
           0.21,
           0.28,
           0.4,
           0.18,
           0.16,
           0.06,
           0.06,
           0.08,
           0.09,
           0.07,
           0.065,
           0.04,
           0.04,
           0.03,
           0.03,
           0.3,
           0.04,
           0.04,
           0.18,
           0.06,
           0.06,
           0.09,
           0.09,
           0.13,
           0.13,
           0.3,
           0.35,
           0.35,
           0.14,
           0.15,
           0.23,
           0.14
          ]
         },
         "hovertemplate": "color=Ic (33)<br>x=%{x}<br>y=%{y}<br>Source=%{customdata[0]}<extra></extra>",
         "legendgroup": "Ic (33)",
         "marker": {
          "color": "#EF553B",
          "symbol": "circle"
         },
         "mode": "markers",
         "name": "Ic (33)",
         "orientation": "v",
         "showlegend": true,
         "type": "scatter",
         "x": [
          4.292521884574141,
          4.318522442141257,
          4.407798660840787,
          4.444372736248287,
          4.94766404275147,
          5.027830531526869,
          5.034118874316859,
          5.039976948985681,
          5.046093070510239,
          5.052124254153193,
          5.058072826793242,
          5.207424304383964,
          5.207425381889374,
          5.207426998142477,
          5.243153183503155,
          5.24315467211556,
          5.253740123146237,
          5.392271241582949,
          5.39227194558303,
          5.431502072968175,
          5.53486594538303,
          5.534866452348177,
          5.633394114161655,
          5.633394720257274,
          6.018077063459279,
          6.051724719183062,
          6.076425609533193,
          6.455566925434435,
          6.493876556568547,
          6.635535859026071,
          6.715077376768989,
          6.860575826994911,
          6.876457098654916
         ],
         "xaxis": "x",
         "y": [
          -21.2,
          -20.64,
          -20.54,
          -21.21,
          -20.49,
          -19.76,
          -19.65,
          -19.42,
          -19.6,
          -19.63,
          -19.43,
          -19.43,
          -19.19,
          -19.19,
          -19.3,
          -19.3,
          -19.61,
          -19.58,
          -19.58,
          -19.89,
          -20.19,
          -20.19,
          -20.58,
          -20.58,
          -21.27,
          -21.96,
          -21.7,
          -23.09,
          -23.3,
          -23.05,
          -23.1,
          -23.08,
          -23.04
         ],
         "yaxis": "y"
        },
        {
         "customdata": [
          [
           "astro-ph9706225"
          ],
          [
           "astro-ph9706225"
          ],
          [
           "astro-ph9706225"
          ],
          [
           "astro-ph9802160"
          ],
          [
           "astro-ph9706225"
          ],
          [
           "astro-ph9706225"
          ],
          [
           "astro-ph9706225"
          ],
          [
           "astro-ph9706225"
          ],
          [
           "astro-ph9706225"
          ],
          [
           "astro-ph9706225"
          ],
          [
           null
          ],
          [
           "astro-ph9802341"
          ],
          [
           "astro-ph9712100"
          ],
          [
           "astro-ph9802341"
          ],
          [
           "astro-ph9712100"
          ],
          [
           "astro-ph9802160"
          ],
          [
           "astro-ph9712100"
          ],
          [
           "astro-ph9802341"
          ],
          [
           "astro-ph9802160"
          ],
          [
           "IAUC6660"
          ],
          [
           "astro-ph9712100"
          ],
          [
           "astro-ph9802341"
          ],
          [
           "astro-ph9802341"
          ],
          [
           "astro-ph9712100"
          ],
          [
           "astro-ph9802341"
          ],
          [
           "astro-ph9802341"
          ],
          [
           "IAUC6671"
          ],
          [
           "astro-ph9802341"
          ],
          [
           "astro-ph9802341"
          ],
          [
           "astro-ph9802341"
          ],
          [
           "astro-ph9802341"
          ],
          [
           "astro-ph9802341"
          ],
          [
           "astro-ph9802341"
          ]
         ],
         "error_y": {
          "array": [
           0.21,
           0.2,
           0.14,
           0.05,
           0.22,
           0.05,
           0.05,
           0.05,
           0.05,
           0.06,
           0.065,
           0.03,
           0.03,
           0.03,
           0.03,
           0.05,
           0.03,
           0.03,
           0.05,
           0.1,
           0.04,
           0.04,
           0.05,
           0.05,
           0.18,
           0.14,
           0.5,
           0.24,
           0.25,
           0.16,
           0.25,
           0.24,
           0.25
          ]
         },
         "hovertemplate": "color=V (33)<br>x=%{x}<br>y=%{y}<br>Source=%{customdata[0]}<extra></extra>",
         "legendgroup": "V (33)",
         "marker": {
          "color": "#00cc96",
          "symbol": "circle"
         },
         "mode": "markers",
         "name": "V (33)",
         "orientation": "v",
         "showlegend": true,
         "type": "scatter",
         "x": [
          4.30941722577814,
          4.391358602487403,
          4.432054868156274,
          4.94766404275147,
          5.0267742453902216,
          5.030984062341586,
          5.037227234582274,
          5.043043809672001,
          5.049117192604369,
          5.055110637854146,
          5.207424304383964,
          5.207425381889374,
          5.207426998142477,
          5.243153183503155,
          5.24315467211556,
          5.253740123146237,
          5.392271241582949,
          5.39227194558303,
          5.431502072968175,
          5.431502072968175,
          5.53486594538303,
          5.534866452348177,
          5.633394114161655,
          5.633394720257274,
          6.011732121590429,
          6.050590703302983,
          6.076425609533193,
          6.428924879792576,
          6.455501199919849,
          6.635214400730215,
          6.71496889264735,
          6.860544789333157,
          6.870608010834374
         ],
         "xaxis": "x",
         "y": [
          -21.49,
          -21.25,
          -21.28,
          -21.05,
          -20.66,
          -20.42,
          -20.37,
          -20.32,
          -20.36,
          -20.29,
          -20.34,
          -20.06,
          -20.06,
          -20.22,
          -20.22,
          -20.19,
          -20.52,
          -20.52,
          -20.71,
          -20.6,
          -21.1,
          -21.1,
          -21.47,
          -21.47,
          -22.1,
          -22.18,
          -22.9,
          -23.84,
          -24.08,
          -24.17,
          -24.62,
          -24.6,
          -24.59
         ],
         "yaxis": "y"
        },
        {
         "customdata": [
          [
           "IAUC6666"
          ],
          [
           "IAUC6660"
          ]
         ],
         "error_y": {
          "array": [
           0.1,
           0.2
          ]
         },
         "hovertemplate": "color=I (2)<br>x=%{x}<br>y=%{y}<br>Source=%{customdata[0]}<extra></extra>",
         "legendgroup": "I (2)",
         "marker": {
          "color": "#ab63fa",
          "symbol": "circle"
         },
         "mode": "markers",
         "name": "I (2)",
         "orientation": "v",
         "showlegend": true,
         "type": "scatter",
         "x": [
          4.33654778463264,
          5.431502072968175
         ],
         "xaxis": "x",
         "y": [
          -20.4,
          -19.7
         ],
         "yaxis": "y"
        },
        {
         "customdata": [
          [
           "IAUC6658"
          ],
          [
           "IAUC6658"
          ],
          [
           "IAUC6658"
          ],
          [
           "IAUC6658"
          ],
          [
           "IAUC6660"
          ]
         ],
         "error_y": {
          "array": [
           0.15,
           0.07,
           0.06,
           0.06,
           0.15
          ]
         },
         "hovertemplate": "color=r_Gunn (5)<br>x=%{x}<br>y=%{y}<br>Source=%{customdata[0]}<extra></extra>",
         "legendgroup": "r_Gunn (5)",
         "marker": {
          "color": "#FFA15A",
          "symbol": "circle"
         },
         "mode": "markers",
         "name": "r_Gunn (5)",
         "orientation": "v",
         "showlegend": true,
         "type": "scatter",
         "x": [
          4.400406731464801,
          5.041684748672062,
          5.297108032513441,
          5.453841013827045,
          5.5675509688042935
         ],
         "xaxis": "x",
         "y": [
          -21.2,
          -20.18,
          -20.16,
          -20.53,
          -20.76
         ],
         "yaxis": "y"
        },
        {
         "customdata": [
          [
           "astro-ph9802160"
          ],
          [
           "astro-ph9802341"
          ],
          [
           "astro-ph9802341"
          ],
          [
           "astro-ph9802160"
          ],
          [
           "astro-ph9802160"
          ],
          [
           null
          ],
          [
           "IAUC6663"
          ],
          [
           "astro-ph9802341"
          ],
          [
           "astro-ph9712100"
          ],
          [
           "astro-ph9802341"
          ],
          [
           "astro-ph9712100"
          ],
          [
           "astro-ph9802160"
          ],
          [
           "astro-ph9802160"
          ],
          [
           "astro-ph9802160"
          ],
          [
           "astro-ph9712100"
          ],
          [
           "astro-ph9802341"
          ],
          [
           "astro-ph9802160"
          ],
          [
           "astro-ph9802160"
          ],
          [
           "astro-ph9712100"
          ],
          [
           "astro-ph9802341"
          ],
          [
           "astro-ph9802341"
          ],
          [
           "astro-ph9712100"
          ],
          [
           "IAUC6663"
          ],
          [
           "astro-ph9802341"
          ],
          [
           "astro-ph9802341"
          ],
          [
           "astro-ph9712100"
          ],
          [
           "IAUC6671"
          ],
          [
           "astro-ph9802160"
          ],
          [
           "astro-ph9802341"
          ],
          [
           "astro-ph9802341"
          ],
          [
           "astro-ph9712100"
          ],
          [
           "astro-ph9802341"
          ],
          [
           "astro-ph9802341"
          ],
          [
           "astro-ph9802341"
          ],
          [
           "astro-ph9802160"
          ],
          [
           "astro-ph9802341"
          ],
          [
           "astro-ph9802341"
          ],
          [
           "astro-ph9802341"
          ],
          [
           "astro-ph9802160"
          ]
         ],
         "error_y": {
          "array": [
           0.05,
           0.25,
           0.18,
           0.05,
           0.05,
           0.15,
           0.065,
           0.03,
           0.03,
           0.03,
           0.03,
           0.05,
           0.05,
           0.07,
           0.03,
           0.03,
           0.07,
           0.07,
           0.05,
           0.05,
           0.07,
           0.07,
           0.2,
           0.1,
           0.07,
           0.15,
           0.15,
           0.07,
           0.1,
           0.2,
           0.1,
           0.22,
           0.14,
           0.16,
           0.2,
           0.2,
           0.25,
           0.35,
           0.07
          ]
         },
         "hovertemplate": "color=Rc (39)<br>x=%{x}<br>y=%{y}<br>Source=%{customdata[0]}<extra></extra>",
         "legendgroup": "Rc (39)",
         "marker": {
          "color": "#19d3f3",
          "symbol": "circle"
         },
         "mode": "markers",
         "name": "Rc (39)",
         "orientation": "v",
         "showlegend": true,
         "type": "scatter",
         "x": [
          4.407798660840787,
          4.861309738276805,
          4.911485736776962,
          4.94766404275147,
          4.988050347357689,
          5.207424304383964,
          5.207424304383964,
          5.207425381889374,
          5.207426998142477,
          5.243153183503155,
          5.24315467211556,
          5.253740123146237,
          5.253740123146237,
          5.259971154615725,
          5.392271241582949,
          5.39227194558303,
          5.431502072968175,
          5.431502072968175,
          5.53486594538303,
          5.534866452348177,
          5.633394114161655,
          5.633394720257274,
          5.676560100696427,
          6.014644173281457,
          6.050056022432857,
          6.053652639176998,
          6.076425609533193,
          6.084684569969274,
          6.414863758306568,
          6.429092555666826,
          6.437518295825232,
          6.455343418089992,
          6.493551508361122,
          6.635388191517425,
          6.686914093103591,
          6.71496889264735,
          6.860482707354365,
          6.870517017821804,
          6.977890662241937
         ],
         "xaxis": "x",
         "y": [
          -21.25,
          -21.19,
          -21.13,
          -20.88,
          -20.46,
          -21.1,
          -19.87,
          -19.7,
          -19.7,
          -19.8,
          -19.8,
          -19.92,
          -19.92,
          -19.77,
          -20.1,
          -20.1,
          -20.3,
          -20.3,
          -20.63,
          -20.63,
          -21.09,
          -21.09,
          -21.1,
          -21.81,
          -22.09,
          -22.2,
          -22.2,
          -22.04,
          -23.66,
          -23.54,
          -23.28,
          -23.34,
          -23.42,
          -23.88,
          -23.95,
          -24.08,
          -24.54,
          -24.28,
          -24.57
         ],
         "yaxis": "y"
        },
        {
         "customdata": [
          [
           null
          ],
          [
           "astro-ph9802341"
          ],
          [
           "astro-ph9712100"
          ],
          [
           "astro-ph9802341"
          ],
          [
           "astro-ph9712100"
          ],
          [
           "astro-ph9802160"
          ],
          [
           "astro-ph9712100"
          ],
          [
           "astro-ph9802341"
          ],
          [
           "astro-ph9802160"
          ],
          [
           "astro-ph9712100"
          ],
          [
           "astro-ph9802341"
          ],
          [
           "astro-ph9802341"
          ],
          [
           "astro-ph9712100"
          ],
          [
           "astro-ph9802341"
          ],
          [
           "astro-ph9802341"
          ],
          [
           "astro-ph9802341"
          ],
          [
           "astro-ph9802341"
          ],
          [
           "astro-ph9802341"
          ],
          [
           "astro-ph9802341"
          ],
          [
           "030"
          ],
          [
           "astro-ph9807315"
          ],
          [
           "030"
          ],
          [
           "astro-ph9807315"
          ]
         ],
         "error_y": {
          "array": [
           0.065,
           0.03,
           0.03,
           0.03,
           0.03,
           0.08,
           0.04,
           0.04,
           0.08,
           0.06,
           0.06,
           0.07,
           0.07,
           0.35,
           0.25,
           0.14,
           0.22,
           0.21,
           0.25,
           0.26,
           0.26,
           0.14,
           0.28
          ]
         },
         "hovertemplate": "color=B (23)<br>x=%{x}<br>y=%{y}<br>Source=%{customdata[0]}<extra></extra>",
         "legendgroup": "B (23)",
         "marker": {
          "color": "#FF6692",
          "symbol": "circle"
         },
         "mode": "markers",
         "name": "B (23)",
         "orientation": "v",
         "showlegend": true,
         "type": "scatter",
         "x": [
          5.207424304383964,
          5.207425381889374,
          5.207426998142477,
          5.243153183503155,
          5.24315467211556,
          5.253740123146237,
          5.392271241582949,
          5.39227194558303,
          5.431502072968175,
          5.53486594538303,
          5.534866452348177,
          5.633394114161655,
          5.633394720257274,
          6.050056022432857,
          6.428715193871433,
          6.493419011534341,
          6.635144824694064,
          6.71496889264735,
          6.870759623501964,
          7.247622253866403,
          7.247843694782686,
          7.399654688238072,
          7.4011523015739265
         ],
         "xaxis": "x",
         "y": [
          -20.9,
          -20.5,
          -20.5,
          -20.6,
          -20.6,
          -20.7,
          -21.03,
          -21.03,
          -21.21,
          -21.48,
          -21.48,
          -21.92,
          -21.92,
          -23.12,
          -24.65,
          -24.62,
          -24.5,
          -25.07,
          -25.32,
          -26.32,
          -26.32,
          -26.27,
          -26.27
         ],
         "yaxis": "y"
        },
        {
         "customdata": [
          [
           "IAUC6661"
          ],
          [
           "IAUC6660"
          ],
          [
           "IAUC6674"
          ],
          [
           "IAUC6676"
          ],
          [
           "astro-ph9807315"
          ],
          [
           "030"
          ],
          [
           "030"
          ],
          [
           "astro-ph9807315"
          ]
         ],
         "error_y": {
          "array": [
           0.05,
           0.1,
           0.15,
           0.2,
           0.14,
           0.14,
           0.16,
           0.16
          ]
         },
         "hovertemplate": "color=R (8)<br>x=%{x}<br>y=%{y}<br>Source=%{customdata[0]}<extra></extra>",
         "legendgroup": "R (8)",
         "marker": {
          "color": "#B6E880",
          "symbol": "circle"
         },
         "mode": "markers",
         "name": "R (8)",
         "orientation": "v",
         "showlegend": true,
         "type": "scatter",
         "x": [
          5.410145993739776,
          5.431502072968175,
          6.328964385687029,
          6.37356663153344,
          7.245717922149301,
          7.246454262771179,
          7.3981571016442675,
          7.399659879205243
         ],
         "xaxis": "x",
         "y": [
          -19.78,
          -20.2,
          -23.1,
          -23.4,
          -25.09,
          -25.09,
          -25.29,
          -25.29
         ],
         "yaxis": "y"
        },
        {
         "customdata": [
          [
           "IAUC6666"
          ],
          [
           "https://doi.org/10.1086/311307"
          ],
          [
           "IAUC6666"
          ],
          [
           "https://doi.org/10.1086/311307"
          ],
          [
           "https://doi.org/10.1086/311307"
          ]
         ],
         "error_y": {
          "array": [
           0.05,
           0.1,
           0.06,
           0.1,
           0.3
          ]
         },
         "hovertemplate": "color=Ks (5)<br>x=%{x}<br>y=%{y}<br>Source=%{customdata[0]}<extra></extra>",
         "legendgroup": "Ks (5)",
         "marker": {
          "color": "#FF97FF",
          "symbol": "circle"
         },
         "mode": "markers",
         "name": "Ks (5)",
         "orientation": "v",
         "showlegend": true,
         "type": "scatter",
         "x": [
          5.574603001825647,
          5.5746041584191035,
          5.802564392785032,
          5.802565077042549,
          5.989822990358077
         ],
         "xaxis": "x",
         "y": [
          -18.43,
          -18.2,
          -19.21,
          -18.8,
          -19
         ],
         "yaxis": "y"
        }
       ],
       "layout": {
        "legend": {
         "title": {
          "text": "color"
         },
         "tracegroupgap": 0
        },
        "template": {
         "data": {
          "bar": [
           {
            "error_x": {
             "color": "#2a3f5f"
            },
            "error_y": {
             "color": "#2a3f5f"
            },
            "marker": {
             "line": {
              "color": "#E5ECF6",
              "width": 0.5
             },
             "pattern": {
              "fillmode": "overlay",
              "size": 10,
              "solidity": 0.2
             }
            },
            "type": "bar"
           }
          ],
          "barpolar": [
           {
            "marker": {
             "line": {
              "color": "#E5ECF6",
              "width": 0.5
             },
             "pattern": {
              "fillmode": "overlay",
              "size": 10,
              "solidity": 0.2
             }
            },
            "type": "barpolar"
           }
          ],
          "carpet": [
           {
            "aaxis": {
             "endlinecolor": "#2a3f5f",
             "gridcolor": "white",
             "linecolor": "white",
             "minorgridcolor": "white",
             "startlinecolor": "#2a3f5f"
            },
            "baxis": {
             "endlinecolor": "#2a3f5f",
             "gridcolor": "white",
             "linecolor": "white",
             "minorgridcolor": "white",
             "startlinecolor": "#2a3f5f"
            },
            "type": "carpet"
           }
          ],
          "choropleth": [
           {
            "colorbar": {
             "outlinewidth": 0,
             "ticks": ""
            },
            "type": "choropleth"
           }
          ],
          "contour": [
           {
            "colorbar": {
             "outlinewidth": 0,
             "ticks": ""
            },
            "colorscale": [
             [
              0,
              "#0d0887"
             ],
             [
              0.1111111111111111,
              "#46039f"
             ],
             [
              0.2222222222222222,
              "#7201a8"
             ],
             [
              0.3333333333333333,
              "#9c179e"
             ],
             [
              0.4444444444444444,
              "#bd3786"
             ],
             [
              0.5555555555555556,
              "#d8576b"
             ],
             [
              0.6666666666666666,
              "#ed7953"
             ],
             [
              0.7777777777777778,
              "#fb9f3a"
             ],
             [
              0.8888888888888888,
              "#fdca26"
             ],
             [
              1,
              "#f0f921"
             ]
            ],
            "type": "contour"
           }
          ],
          "contourcarpet": [
           {
            "colorbar": {
             "outlinewidth": 0,
             "ticks": ""
            },
            "type": "contourcarpet"
           }
          ],
          "heatmap": [
           {
            "colorbar": {
             "outlinewidth": 0,
             "ticks": ""
            },
            "colorscale": [
             [
              0,
              "#0d0887"
             ],
             [
              0.1111111111111111,
              "#46039f"
             ],
             [
              0.2222222222222222,
              "#7201a8"
             ],
             [
              0.3333333333333333,
              "#9c179e"
             ],
             [
              0.4444444444444444,
              "#bd3786"
             ],
             [
              0.5555555555555556,
              "#d8576b"
             ],
             [
              0.6666666666666666,
              "#ed7953"
             ],
             [
              0.7777777777777778,
              "#fb9f3a"
             ],
             [
              0.8888888888888888,
              "#fdca26"
             ],
             [
              1,
              "#f0f921"
             ]
            ],
            "type": "heatmap"
           }
          ],
          "heatmapgl": [
           {
            "colorbar": {
             "outlinewidth": 0,
             "ticks": ""
            },
            "colorscale": [
             [
              0,
              "#0d0887"
             ],
             [
              0.1111111111111111,
              "#46039f"
             ],
             [
              0.2222222222222222,
              "#7201a8"
             ],
             [
              0.3333333333333333,
              "#9c179e"
             ],
             [
              0.4444444444444444,
              "#bd3786"
             ],
             [
              0.5555555555555556,
              "#d8576b"
             ],
             [
              0.6666666666666666,
              "#ed7953"
             ],
             [
              0.7777777777777778,
              "#fb9f3a"
             ],
             [
              0.8888888888888888,
              "#fdca26"
             ],
             [
              1,
              "#f0f921"
             ]
            ],
            "type": "heatmapgl"
           }
          ],
          "histogram": [
           {
            "marker": {
             "pattern": {
              "fillmode": "overlay",
              "size": 10,
              "solidity": 0.2
             }
            },
            "type": "histogram"
           }
          ],
          "histogram2d": [
           {
            "colorbar": {
             "outlinewidth": 0,
             "ticks": ""
            },
            "colorscale": [
             [
              0,
              "#0d0887"
             ],
             [
              0.1111111111111111,
              "#46039f"
             ],
             [
              0.2222222222222222,
              "#7201a8"
             ],
             [
              0.3333333333333333,
              "#9c179e"
             ],
             [
              0.4444444444444444,
              "#bd3786"
             ],
             [
              0.5555555555555556,
              "#d8576b"
             ],
             [
              0.6666666666666666,
              "#ed7953"
             ],
             [
              0.7777777777777778,
              "#fb9f3a"
             ],
             [
              0.8888888888888888,
              "#fdca26"
             ],
             [
              1,
              "#f0f921"
             ]
            ],
            "type": "histogram2d"
           }
          ],
          "histogram2dcontour": [
           {
            "colorbar": {
             "outlinewidth": 0,
             "ticks": ""
            },
            "colorscale": [
             [
              0,
              "#0d0887"
             ],
             [
              0.1111111111111111,
              "#46039f"
             ],
             [
              0.2222222222222222,
              "#7201a8"
             ],
             [
              0.3333333333333333,
              "#9c179e"
             ],
             [
              0.4444444444444444,
              "#bd3786"
             ],
             [
              0.5555555555555556,
              "#d8576b"
             ],
             [
              0.6666666666666666,
              "#ed7953"
             ],
             [
              0.7777777777777778,
              "#fb9f3a"
             ],
             [
              0.8888888888888888,
              "#fdca26"
             ],
             [
              1,
              "#f0f921"
             ]
            ],
            "type": "histogram2dcontour"
           }
          ],
          "mesh3d": [
           {
            "colorbar": {
             "outlinewidth": 0,
             "ticks": ""
            },
            "type": "mesh3d"
           }
          ],
          "parcoords": [
           {
            "line": {
             "colorbar": {
              "outlinewidth": 0,
              "ticks": ""
             }
            },
            "type": "parcoords"
           }
          ],
          "pie": [
           {
            "automargin": true,
            "type": "pie"
           }
          ],
          "scatter": [
           {
            "fillpattern": {
             "fillmode": "overlay",
             "size": 10,
             "solidity": 0.2
            },
            "type": "scatter"
           }
          ],
          "scatter3d": [
           {
            "line": {
             "colorbar": {
              "outlinewidth": 0,
              "ticks": ""
             }
            },
            "marker": {
             "colorbar": {
              "outlinewidth": 0,
              "ticks": ""
             }
            },
            "type": "scatter3d"
           }
          ],
          "scattercarpet": [
           {
            "marker": {
             "colorbar": {
              "outlinewidth": 0,
              "ticks": ""
             }
            },
            "type": "scattercarpet"
           }
          ],
          "scattergeo": [
           {
            "marker": {
             "colorbar": {
              "outlinewidth": 0,
              "ticks": ""
             }
            },
            "type": "scattergeo"
           }
          ],
          "scattergl": [
           {
            "marker": {
             "colorbar": {
              "outlinewidth": 0,
              "ticks": ""
             }
            },
            "type": "scattergl"
           }
          ],
          "scattermapbox": [
           {
            "marker": {
             "colorbar": {
              "outlinewidth": 0,
              "ticks": ""
             }
            },
            "type": "scattermapbox"
           }
          ],
          "scatterpolar": [
           {
            "marker": {
             "colorbar": {
              "outlinewidth": 0,
              "ticks": ""
             }
            },
            "type": "scatterpolar"
           }
          ],
          "scatterpolargl": [
           {
            "marker": {
             "colorbar": {
              "outlinewidth": 0,
              "ticks": ""
             }
            },
            "type": "scatterpolargl"
           }
          ],
          "scatterternary": [
           {
            "marker": {
             "colorbar": {
              "outlinewidth": 0,
              "ticks": ""
             }
            },
            "type": "scatterternary"
           }
          ],
          "surface": [
           {
            "colorbar": {
             "outlinewidth": 0,
             "ticks": ""
            },
            "colorscale": [
             [
              0,
              "#0d0887"
             ],
             [
              0.1111111111111111,
              "#46039f"
             ],
             [
              0.2222222222222222,
              "#7201a8"
             ],
             [
              0.3333333333333333,
              "#9c179e"
             ],
             [
              0.4444444444444444,
              "#bd3786"
             ],
             [
              0.5555555555555556,
              "#d8576b"
             ],
             [
              0.6666666666666666,
              "#ed7953"
             ],
             [
              0.7777777777777778,
              "#fb9f3a"
             ],
             [
              0.8888888888888888,
              "#fdca26"
             ],
             [
              1,
              "#f0f921"
             ]
            ],
            "type": "surface"
           }
          ],
          "table": [
           {
            "cells": {
             "fill": {
              "color": "#EBF0F8"
             },
             "line": {
              "color": "white"
             }
            },
            "header": {
             "fill": {
              "color": "#C8D4E3"
             },
             "line": {
              "color": "white"
             }
            },
            "type": "table"
           }
          ]
         },
         "layout": {
          "annotationdefaults": {
           "arrowcolor": "#2a3f5f",
           "arrowhead": 0,
           "arrowwidth": 1
          },
          "autotypenumbers": "strict",
          "coloraxis": {
           "colorbar": {
            "outlinewidth": 0,
            "ticks": ""
           }
          },
          "colorscale": {
           "diverging": [
            [
             0,
             "#8e0152"
            ],
            [
             0.1,
             "#c51b7d"
            ],
            [
             0.2,
             "#de77ae"
            ],
            [
             0.3,
             "#f1b6da"
            ],
            [
             0.4,
             "#fde0ef"
            ],
            [
             0.5,
             "#f7f7f7"
            ],
            [
             0.6,
             "#e6f5d0"
            ],
            [
             0.7,
             "#b8e186"
            ],
            [
             0.8,
             "#7fbc41"
            ],
            [
             0.9,
             "#4d9221"
            ],
            [
             1,
             "#276419"
            ]
           ],
           "sequential": [
            [
             0,
             "#0d0887"
            ],
            [
             0.1111111111111111,
             "#46039f"
            ],
            [
             0.2222222222222222,
             "#7201a8"
            ],
            [
             0.3333333333333333,
             "#9c179e"
            ],
            [
             0.4444444444444444,
             "#bd3786"
            ],
            [
             0.5555555555555556,
             "#d8576b"
            ],
            [
             0.6666666666666666,
             "#ed7953"
            ],
            [
             0.7777777777777778,
             "#fb9f3a"
            ],
            [
             0.8888888888888888,
             "#fdca26"
            ],
            [
             1,
             "#f0f921"
            ]
           ],
           "sequentialminus": [
            [
             0,
             "#0d0887"
            ],
            [
             0.1111111111111111,
             "#46039f"
            ],
            [
             0.2222222222222222,
             "#7201a8"
            ],
            [
             0.3333333333333333,
             "#9c179e"
            ],
            [
             0.4444444444444444,
             "#bd3786"
            ],
            [
             0.5555555555555556,
             "#d8576b"
            ],
            [
             0.6666666666666666,
             "#ed7953"
            ],
            [
             0.7777777777777778,
             "#fb9f3a"
            ],
            [
             0.8888888888888888,
             "#fdca26"
            ],
            [
             1,
             "#f0f921"
            ]
           ]
          },
          "colorway": [
           "#636efa",
           "#EF553B",
           "#00cc96",
           "#ab63fa",
           "#FFA15A",
           "#19d3f3",
           "#FF6692",
           "#B6E880",
           "#FF97FF",
           "#FECB52"
          ],
          "font": {
           "color": "#2a3f5f"
          },
          "geo": {
           "bgcolor": "white",
           "lakecolor": "white",
           "landcolor": "#E5ECF6",
           "showlakes": true,
           "showland": true,
           "subunitcolor": "white"
          },
          "hoverlabel": {
           "align": "left"
          },
          "hovermode": "closest",
          "mapbox": {
           "style": "light"
          },
          "paper_bgcolor": "white",
          "plot_bgcolor": "#E5ECF6",
          "polar": {
           "angularaxis": {
            "gridcolor": "white",
            "linecolor": "white",
            "ticks": ""
           },
           "bgcolor": "#E5ECF6",
           "radialaxis": {
            "gridcolor": "white",
            "linecolor": "white",
            "ticks": ""
           }
          },
          "scene": {
           "xaxis": {
            "backgroundcolor": "#E5ECF6",
            "gridcolor": "white",
            "gridwidth": 2,
            "linecolor": "white",
            "showbackground": true,
            "ticks": "",
            "zerolinecolor": "white"
           },
           "yaxis": {
            "backgroundcolor": "#E5ECF6",
            "gridcolor": "white",
            "gridwidth": 2,
            "linecolor": "white",
            "showbackground": true,
            "ticks": "",
            "zerolinecolor": "white"
           },
           "zaxis": {
            "backgroundcolor": "#E5ECF6",
            "gridcolor": "white",
            "gridwidth": 2,
            "linecolor": "white",
            "showbackground": true,
            "ticks": "",
            "zerolinecolor": "white"
           }
          },
          "shapedefaults": {
           "line": {
            "color": "#2a3f5f"
           }
          },
          "ternary": {
           "aaxis": {
            "gridcolor": "white",
            "linecolor": "white",
            "ticks": ""
           },
           "baxis": {
            "gridcolor": "white",
            "linecolor": "white",
            "ticks": ""
           },
           "bgcolor": "#E5ECF6",
           "caxis": {
            "gridcolor": "white",
            "linecolor": "white",
            "ticks": ""
           }
          },
          "title": {
           "x": 0.05
          },
          "xaxis": {
           "automargin": true,
           "gridcolor": "white",
           "linecolor": "white",
           "ticks": "",
           "title": {
            "standoff": 15
           },
           "zerolinecolor": "white",
           "zerolinewidth": 2
          },
          "yaxis": {
           "automargin": true,
           "gridcolor": "white",
           "linecolor": "white",
           "ticks": "",
           "title": {
            "standoff": 15
           },
           "zerolinecolor": "white",
           "zerolinewidth": 2
          }
         }
        },
        "title": {
         "text": "C:/Users/biagi/Desktop/LCs to inspect deltat/CLEAN_GRBs_MAGNITUDES_December2022/Debugging\\970508A_iauc_gcn_mag_regatheredKawabata_recheckedBiagio.txt"
        },
        "xaxis": {
         "anchor": "y",
         "domain": [
          0,
          1
         ],
         "title": {
          "text": "log Time (s)"
         }
        },
        "yaxis": {
         "anchor": "x",
         "domain": [
          0,
          1
         ],
         "title": {
          "text": "Mag"
         }
        }
       }
      },
      "text/html": [
       "<div>                            <div id=\"168d8c76-fa61-488a-a7c9-24ec53db1acf\" class=\"plotly-graph-div\" style=\"height:525px; width:100%;\"></div>            <script type=\"text/javascript\">                require([\"plotly\"], function(Plotly) {                    window.PLOTLYENV=window.PLOTLYENV || {};                                    if (document.getElementById(\"168d8c76-fa61-488a-a7c9-24ec53db1acf\")) {                    Plotly.newPlot(                        \"168d8c76-fa61-488a-a7c9-24ec53db1acf\",                        [{\"customdata\":[[\"IAUC6657\"],[\"IAUC6657\"],[\"astro-ph9802160\"],[\"IAUC6657\"],[\"astro-ph9802160\"],[\"astro-ph9802160\"],[\"IAUC6660\"]],\"error_y\":{\"array\":[0.3,0.3,0.25,0.3,0.25,0.25,0.2]},\"hovertemplate\":\"color=U (7)<br>x=%{x}<br>y=%{y}<br>Source=%{customdata[0]}<extra></extra>\",\"legendgroup\":\"U (7)\",\"marker\":{\"color\":\"#636efa\",\"symbol\":\"circle\"},\"mode\":\"markers\",\"name\":\"U (7)\",\"orientation\":\"v\",\"showlegend\":true,\"x\":[4.286761760813056,4.934336823224618,4.94766404275147,5.230538325745003,5.253740123146237,5.431502072968175,5.431502072968175],\"xaxis\":\"x\",\"y\":[-21.0,-20.5,-20.61,-20.3,-19.75,-19.97,-20.9],\"yaxis\":\"y\",\"type\":\"scatter\"},{\"customdata\":[[\"astro-ph9706225\"],[\"astro-ph9706225\"],[\"astro-ph9706225\"],[\"astro-ph9706225\"],[\"astro-ph9802160\"],[\"astro-ph9706225\"],[\"astro-ph9706225\"],[\"astro-ph9706225\"],[\"astro-ph9706225\"],[\"astro-ph9706225\"],[\"astro-ph9706225\"],[\"IAUC6663\"],[\"astro-ph9802341\"],[\"astro-ph9712100\"],[\"astro-ph9802341\"],[\"astro-ph9712100\"],[\"astro-ph9802160\"],[\"astro-ph9712100\"],[\"astro-ph9802341\"],[\"astro-ph9802160\"],[\"astro-ph9712100\"],[\"astro-ph9802341\"],[\"astro-ph9802341\"],[\"astro-ph9712100\"],[\"astro-ph9802341\"],[\"astro-ph9802341\"],[\"IAUC6671\"],[\"astro-ph9802341\"],[\"astro-ph9802341\"],[\"astro-ph9802341\"],[\"astro-ph9802341\"],[\"astro-ph9802341\"],[\"astro-ph9802341\"]],\"error_y\":{\"array\":[0.8,0.21,0.28,0.4,0.18,0.16,0.06,0.06,0.08,0.09,0.07,0.065,0.04,0.04,0.03,0.03,0.3,0.04,0.04,0.18,0.06,0.06,0.09,0.09,0.13,0.13,0.3,0.35,0.35,0.14,0.15,0.23,0.14]},\"hovertemplate\":\"color=Ic (33)<br>x=%{x}<br>y=%{y}<br>Source=%{customdata[0]}<extra></extra>\",\"legendgroup\":\"Ic (33)\",\"marker\":{\"color\":\"#EF553B\",\"symbol\":\"circle\"},\"mode\":\"markers\",\"name\":\"Ic (33)\",\"orientation\":\"v\",\"showlegend\":true,\"x\":[4.292521884574141,4.318522442141257,4.407798660840787,4.444372736248287,4.94766404275147,5.027830531526869,5.034118874316859,5.039976948985681,5.046093070510239,5.052124254153193,5.058072826793242,5.207424304383964,5.207425381889374,5.207426998142477,5.243153183503155,5.24315467211556,5.253740123146237,5.392271241582949,5.39227194558303,5.431502072968175,5.53486594538303,5.534866452348177,5.633394114161655,5.633394720257274,6.018077063459279,6.051724719183062,6.076425609533193,6.455566925434435,6.493876556568547,6.635535859026071,6.715077376768989,6.860575826994911,6.876457098654916],\"xaxis\":\"x\",\"y\":[-21.2,-20.64,-20.54,-21.21,-20.49,-19.76,-19.65,-19.42,-19.6,-19.63,-19.43,-19.43,-19.19,-19.19,-19.3,-19.3,-19.61,-19.58,-19.58,-19.89,-20.19,-20.19,-20.58,-20.58,-21.27,-21.96,-21.7,-23.09,-23.3,-23.05,-23.1,-23.08,-23.04],\"yaxis\":\"y\",\"type\":\"scatter\"},{\"customdata\":[[\"astro-ph9706225\"],[\"astro-ph9706225\"],[\"astro-ph9706225\"],[\"astro-ph9802160\"],[\"astro-ph9706225\"],[\"astro-ph9706225\"],[\"astro-ph9706225\"],[\"astro-ph9706225\"],[\"astro-ph9706225\"],[\"astro-ph9706225\"],[null],[\"astro-ph9802341\"],[\"astro-ph9712100\"],[\"astro-ph9802341\"],[\"astro-ph9712100\"],[\"astro-ph9802160\"],[\"astro-ph9712100\"],[\"astro-ph9802341\"],[\"astro-ph9802160\"],[\"IAUC6660\"],[\"astro-ph9712100\"],[\"astro-ph9802341\"],[\"astro-ph9802341\"],[\"astro-ph9712100\"],[\"astro-ph9802341\"],[\"astro-ph9802341\"],[\"IAUC6671\"],[\"astro-ph9802341\"],[\"astro-ph9802341\"],[\"astro-ph9802341\"],[\"astro-ph9802341\"],[\"astro-ph9802341\"],[\"astro-ph9802341\"]],\"error_y\":{\"array\":[0.21,0.2,0.14,0.05,0.22,0.05,0.05,0.05,0.05,0.06,0.065,0.03,0.03,0.03,0.03,0.05,0.03,0.03,0.05,0.1,0.04,0.04,0.05,0.05,0.18,0.14,0.5,0.24,0.25,0.16,0.25,0.24,0.25]},\"hovertemplate\":\"color=V (33)<br>x=%{x}<br>y=%{y}<br>Source=%{customdata[0]}<extra></extra>\",\"legendgroup\":\"V (33)\",\"marker\":{\"color\":\"#00cc96\",\"symbol\":\"circle\"},\"mode\":\"markers\",\"name\":\"V (33)\",\"orientation\":\"v\",\"showlegend\":true,\"x\":[4.30941722577814,4.391358602487403,4.432054868156274,4.94766404275147,5.0267742453902216,5.030984062341586,5.037227234582274,5.043043809672001,5.049117192604369,5.055110637854146,5.207424304383964,5.207425381889374,5.207426998142477,5.243153183503155,5.24315467211556,5.253740123146237,5.392271241582949,5.39227194558303,5.431502072968175,5.431502072968175,5.53486594538303,5.534866452348177,5.633394114161655,5.633394720257274,6.011732121590429,6.050590703302983,6.076425609533193,6.428924879792576,6.455501199919849,6.635214400730215,6.71496889264735,6.860544789333157,6.870608010834374],\"xaxis\":\"x\",\"y\":[-21.49,-21.25,-21.28,-21.05,-20.66,-20.42,-20.37,-20.32,-20.36,-20.29,-20.34,-20.06,-20.06,-20.22,-20.22,-20.19,-20.52,-20.52,-20.71,-20.6,-21.1,-21.1,-21.47,-21.47,-22.1,-22.18,-22.9,-23.84,-24.08,-24.17,-24.62,-24.6,-24.59],\"yaxis\":\"y\",\"type\":\"scatter\"},{\"customdata\":[[\"IAUC6666\"],[\"IAUC6660\"]],\"error_y\":{\"array\":[0.1,0.2]},\"hovertemplate\":\"color=I (2)<br>x=%{x}<br>y=%{y}<br>Source=%{customdata[0]}<extra></extra>\",\"legendgroup\":\"I (2)\",\"marker\":{\"color\":\"#ab63fa\",\"symbol\":\"circle\"},\"mode\":\"markers\",\"name\":\"I (2)\",\"orientation\":\"v\",\"showlegend\":true,\"x\":[4.33654778463264,5.431502072968175],\"xaxis\":\"x\",\"y\":[-20.4,-19.7],\"yaxis\":\"y\",\"type\":\"scatter\"},{\"customdata\":[[\"IAUC6658\"],[\"IAUC6658\"],[\"IAUC6658\"],[\"IAUC6658\"],[\"IAUC6660\"]],\"error_y\":{\"array\":[0.15,0.07,0.06,0.06,0.15]},\"hovertemplate\":\"color=r_Gunn (5)<br>x=%{x}<br>y=%{y}<br>Source=%{customdata[0]}<extra></extra>\",\"legendgroup\":\"r_Gunn (5)\",\"marker\":{\"color\":\"#FFA15A\",\"symbol\":\"circle\"},\"mode\":\"markers\",\"name\":\"r_Gunn (5)\",\"orientation\":\"v\",\"showlegend\":true,\"x\":[4.400406731464801,5.041684748672062,5.297108032513441,5.453841013827045,5.5675509688042935],\"xaxis\":\"x\",\"y\":[-21.2,-20.18,-20.16,-20.53,-20.76],\"yaxis\":\"y\",\"type\":\"scatter\"},{\"customdata\":[[\"astro-ph9802160\"],[\"astro-ph9802341\"],[\"astro-ph9802341\"],[\"astro-ph9802160\"],[\"astro-ph9802160\"],[null],[\"IAUC6663\"],[\"astro-ph9802341\"],[\"astro-ph9712100\"],[\"astro-ph9802341\"],[\"astro-ph9712100\"],[\"astro-ph9802160\"],[\"astro-ph9802160\"],[\"astro-ph9802160\"],[\"astro-ph9712100\"],[\"astro-ph9802341\"],[\"astro-ph9802160\"],[\"astro-ph9802160\"],[\"astro-ph9712100\"],[\"astro-ph9802341\"],[\"astro-ph9802341\"],[\"astro-ph9712100\"],[\"IAUC6663\"],[\"astro-ph9802341\"],[\"astro-ph9802341\"],[\"astro-ph9712100\"],[\"IAUC6671\"],[\"astro-ph9802160\"],[\"astro-ph9802341\"],[\"astro-ph9802341\"],[\"astro-ph9712100\"],[\"astro-ph9802341\"],[\"astro-ph9802341\"],[\"astro-ph9802341\"],[\"astro-ph9802160\"],[\"astro-ph9802341\"],[\"astro-ph9802341\"],[\"astro-ph9802341\"],[\"astro-ph9802160\"]],\"error_y\":{\"array\":[0.05,0.25,0.18,0.05,0.05,0.15,0.065,0.03,0.03,0.03,0.03,0.05,0.05,0.07,0.03,0.03,0.07,0.07,0.05,0.05,0.07,0.07,0.2,0.1,0.07,0.15,0.15,0.07,0.1,0.2,0.1,0.22,0.14,0.16,0.2,0.2,0.25,0.35,0.07]},\"hovertemplate\":\"color=Rc (39)<br>x=%{x}<br>y=%{y}<br>Source=%{customdata[0]}<extra></extra>\",\"legendgroup\":\"Rc (39)\",\"marker\":{\"color\":\"#19d3f3\",\"symbol\":\"circle\"},\"mode\":\"markers\",\"name\":\"Rc (39)\",\"orientation\":\"v\",\"showlegend\":true,\"x\":[4.407798660840787,4.861309738276805,4.911485736776962,4.94766404275147,4.988050347357689,5.207424304383964,5.207424304383964,5.207425381889374,5.207426998142477,5.243153183503155,5.24315467211556,5.253740123146237,5.253740123146237,5.259971154615725,5.392271241582949,5.39227194558303,5.431502072968175,5.431502072968175,5.53486594538303,5.534866452348177,5.633394114161655,5.633394720257274,5.676560100696427,6.014644173281457,6.050056022432857,6.053652639176998,6.076425609533193,6.084684569969274,6.414863758306568,6.429092555666826,6.437518295825232,6.455343418089992,6.493551508361122,6.635388191517425,6.686914093103591,6.71496889264735,6.860482707354365,6.870517017821804,6.977890662241937],\"xaxis\":\"x\",\"y\":[-21.25,-21.19,-21.13,-20.88,-20.46,-21.1,-19.87,-19.7,-19.7,-19.8,-19.8,-19.92,-19.92,-19.77,-20.1,-20.1,-20.3,-20.3,-20.63,-20.63,-21.09,-21.09,-21.1,-21.81,-22.09,-22.2,-22.2,-22.04,-23.66,-23.54,-23.28,-23.34,-23.42,-23.88,-23.95,-24.08,-24.54,-24.28,-24.57],\"yaxis\":\"y\",\"type\":\"scatter\"},{\"customdata\":[[null],[\"astro-ph9802341\"],[\"astro-ph9712100\"],[\"astro-ph9802341\"],[\"astro-ph9712100\"],[\"astro-ph9802160\"],[\"astro-ph9712100\"],[\"astro-ph9802341\"],[\"astro-ph9802160\"],[\"astro-ph9712100\"],[\"astro-ph9802341\"],[\"astro-ph9802341\"],[\"astro-ph9712100\"],[\"astro-ph9802341\"],[\"astro-ph9802341\"],[\"astro-ph9802341\"],[\"astro-ph9802341\"],[\"astro-ph9802341\"],[\"astro-ph9802341\"],[\"030\"],[\"astro-ph9807315\"],[\"030\"],[\"astro-ph9807315\"]],\"error_y\":{\"array\":[0.065,0.03,0.03,0.03,0.03,0.08,0.04,0.04,0.08,0.06,0.06,0.07,0.07,0.35,0.25,0.14,0.22,0.21,0.25,0.26,0.26,0.14,0.28]},\"hovertemplate\":\"color=B (23)<br>x=%{x}<br>y=%{y}<br>Source=%{customdata[0]}<extra></extra>\",\"legendgroup\":\"B (23)\",\"marker\":{\"color\":\"#FF6692\",\"symbol\":\"circle\"},\"mode\":\"markers\",\"name\":\"B (23)\",\"orientation\":\"v\",\"showlegend\":true,\"x\":[5.207424304383964,5.207425381889374,5.207426998142477,5.243153183503155,5.24315467211556,5.253740123146237,5.392271241582949,5.39227194558303,5.431502072968175,5.53486594538303,5.534866452348177,5.633394114161655,5.633394720257274,6.050056022432857,6.428715193871433,6.493419011534341,6.635144824694064,6.71496889264735,6.870759623501964,7.247622253866403,7.247843694782686,7.399654688238072,7.4011523015739265],\"xaxis\":\"x\",\"y\":[-20.9,-20.5,-20.5,-20.6,-20.6,-20.7,-21.03,-21.03,-21.21,-21.48,-21.48,-21.92,-21.92,-23.12,-24.65,-24.62,-24.5,-25.07,-25.32,-26.32,-26.32,-26.27,-26.27],\"yaxis\":\"y\",\"type\":\"scatter\"},{\"customdata\":[[\"IAUC6661\"],[\"IAUC6660\"],[\"IAUC6674\"],[\"IAUC6676\"],[\"astro-ph9807315\"],[\"030\"],[\"030\"],[\"astro-ph9807315\"]],\"error_y\":{\"array\":[0.05,0.1,0.15,0.2,0.14,0.14,0.16,0.16]},\"hovertemplate\":\"color=R (8)<br>x=%{x}<br>y=%{y}<br>Source=%{customdata[0]}<extra></extra>\",\"legendgroup\":\"R (8)\",\"marker\":{\"color\":\"#B6E880\",\"symbol\":\"circle\"},\"mode\":\"markers\",\"name\":\"R (8)\",\"orientation\":\"v\",\"showlegend\":true,\"x\":[5.410145993739776,5.431502072968175,6.328964385687029,6.37356663153344,7.245717922149301,7.246454262771179,7.3981571016442675,7.399659879205243],\"xaxis\":\"x\",\"y\":[-19.78,-20.2,-23.1,-23.4,-25.09,-25.09,-25.29,-25.29],\"yaxis\":\"y\",\"type\":\"scatter\"},{\"customdata\":[[\"IAUC6666\"],[\"https://doi.org/10.1086/311307\"],[\"IAUC6666\"],[\"https://doi.org/10.1086/311307\"],[\"https://doi.org/10.1086/311307\"]],\"error_y\":{\"array\":[0.05,0.1,0.06,0.1,0.3]},\"hovertemplate\":\"color=Ks (5)<br>x=%{x}<br>y=%{y}<br>Source=%{customdata[0]}<extra></extra>\",\"legendgroup\":\"Ks (5)\",\"marker\":{\"color\":\"#FF97FF\",\"symbol\":\"circle\"},\"mode\":\"markers\",\"name\":\"Ks (5)\",\"orientation\":\"v\",\"showlegend\":true,\"x\":[5.574603001825647,5.5746041584191035,5.802564392785032,5.802565077042549,5.989822990358077],\"xaxis\":\"x\",\"y\":[-18.43,-18.2,-19.21,-18.8,-19.0],\"yaxis\":\"y\",\"type\":\"scatter\"}],                        {\"template\":{\"data\":{\"histogram2dcontour\":[{\"type\":\"histogram2dcontour\",\"colorbar\":{\"outlinewidth\":0,\"ticks\":\"\"},\"colorscale\":[[0.0,\"#0d0887\"],[0.1111111111111111,\"#46039f\"],[0.2222222222222222,\"#7201a8\"],[0.3333333333333333,\"#9c179e\"],[0.4444444444444444,\"#bd3786\"],[0.5555555555555556,\"#d8576b\"],[0.6666666666666666,\"#ed7953\"],[0.7777777777777778,\"#fb9f3a\"],[0.8888888888888888,\"#fdca26\"],[1.0,\"#f0f921\"]]}],\"choropleth\":[{\"type\":\"choropleth\",\"colorbar\":{\"outlinewidth\":0,\"ticks\":\"\"}}],\"histogram2d\":[{\"type\":\"histogram2d\",\"colorbar\":{\"outlinewidth\":0,\"ticks\":\"\"},\"colorscale\":[[0.0,\"#0d0887\"],[0.1111111111111111,\"#46039f\"],[0.2222222222222222,\"#7201a8\"],[0.3333333333333333,\"#9c179e\"],[0.4444444444444444,\"#bd3786\"],[0.5555555555555556,\"#d8576b\"],[0.6666666666666666,\"#ed7953\"],[0.7777777777777778,\"#fb9f3a\"],[0.8888888888888888,\"#fdca26\"],[1.0,\"#f0f921\"]]}],\"heatmap\":[{\"type\":\"heatmap\",\"colorbar\":{\"outlinewidth\":0,\"ticks\":\"\"},\"colorscale\":[[0.0,\"#0d0887\"],[0.1111111111111111,\"#46039f\"],[0.2222222222222222,\"#7201a8\"],[0.3333333333333333,\"#9c179e\"],[0.4444444444444444,\"#bd3786\"],[0.5555555555555556,\"#d8576b\"],[0.6666666666666666,\"#ed7953\"],[0.7777777777777778,\"#fb9f3a\"],[0.8888888888888888,\"#fdca26\"],[1.0,\"#f0f921\"]]}],\"heatmapgl\":[{\"type\":\"heatmapgl\",\"colorbar\":{\"outlinewidth\":0,\"ticks\":\"\"},\"colorscale\":[[0.0,\"#0d0887\"],[0.1111111111111111,\"#46039f\"],[0.2222222222222222,\"#7201a8\"],[0.3333333333333333,\"#9c179e\"],[0.4444444444444444,\"#bd3786\"],[0.5555555555555556,\"#d8576b\"],[0.6666666666666666,\"#ed7953\"],[0.7777777777777778,\"#fb9f3a\"],[0.8888888888888888,\"#fdca26\"],[1.0,\"#f0f921\"]]}],\"contourcarpet\":[{\"type\":\"contourcarpet\",\"colorbar\":{\"outlinewidth\":0,\"ticks\":\"\"}}],\"contour\":[{\"type\":\"contour\",\"colorbar\":{\"outlinewidth\":0,\"ticks\":\"\"},\"colorscale\":[[0.0,\"#0d0887\"],[0.1111111111111111,\"#46039f\"],[0.2222222222222222,\"#7201a8\"],[0.3333333333333333,\"#9c179e\"],[0.4444444444444444,\"#bd3786\"],[0.5555555555555556,\"#d8576b\"],[0.6666666666666666,\"#ed7953\"],[0.7777777777777778,\"#fb9f3a\"],[0.8888888888888888,\"#fdca26\"],[1.0,\"#f0f921\"]]}],\"surface\":[{\"type\":\"surface\",\"colorbar\":{\"outlinewidth\":0,\"ticks\":\"\"},\"colorscale\":[[0.0,\"#0d0887\"],[0.1111111111111111,\"#46039f\"],[0.2222222222222222,\"#7201a8\"],[0.3333333333333333,\"#9c179e\"],[0.4444444444444444,\"#bd3786\"],[0.5555555555555556,\"#d8576b\"],[0.6666666666666666,\"#ed7953\"],[0.7777777777777778,\"#fb9f3a\"],[0.8888888888888888,\"#fdca26\"],[1.0,\"#f0f921\"]]}],\"mesh3d\":[{\"type\":\"mesh3d\",\"colorbar\":{\"outlinewidth\":0,\"ticks\":\"\"}}],\"scatter\":[{\"fillpattern\":{\"fillmode\":\"overlay\",\"size\":10,\"solidity\":0.2},\"type\":\"scatter\"}],\"parcoords\":[{\"type\":\"parcoords\",\"line\":{\"colorbar\":{\"outlinewidth\":0,\"ticks\":\"\"}}}],\"scatterpolargl\":[{\"type\":\"scatterpolargl\",\"marker\":{\"colorbar\":{\"outlinewidth\":0,\"ticks\":\"\"}}}],\"bar\":[{\"error_x\":{\"color\":\"#2a3f5f\"},\"error_y\":{\"color\":\"#2a3f5f\"},\"marker\":{\"line\":{\"color\":\"#E5ECF6\",\"width\":0.5},\"pattern\":{\"fillmode\":\"overlay\",\"size\":10,\"solidity\":0.2}},\"type\":\"bar\"}],\"scattergeo\":[{\"type\":\"scattergeo\",\"marker\":{\"colorbar\":{\"outlinewidth\":0,\"ticks\":\"\"}}}],\"scatterpolar\":[{\"type\":\"scatterpolar\",\"marker\":{\"colorbar\":{\"outlinewidth\":0,\"ticks\":\"\"}}}],\"histogram\":[{\"marker\":{\"pattern\":{\"fillmode\":\"overlay\",\"size\":10,\"solidity\":0.2}},\"type\":\"histogram\"}],\"scattergl\":[{\"type\":\"scattergl\",\"marker\":{\"colorbar\":{\"outlinewidth\":0,\"ticks\":\"\"}}}],\"scatter3d\":[{\"type\":\"scatter3d\",\"line\":{\"colorbar\":{\"outlinewidth\":0,\"ticks\":\"\"}},\"marker\":{\"colorbar\":{\"outlinewidth\":0,\"ticks\":\"\"}}}],\"scattermapbox\":[{\"type\":\"scattermapbox\",\"marker\":{\"colorbar\":{\"outlinewidth\":0,\"ticks\":\"\"}}}],\"scatterternary\":[{\"type\":\"scatterternary\",\"marker\":{\"colorbar\":{\"outlinewidth\":0,\"ticks\":\"\"}}}],\"scattercarpet\":[{\"type\":\"scattercarpet\",\"marker\":{\"colorbar\":{\"outlinewidth\":0,\"ticks\":\"\"}}}],\"carpet\":[{\"aaxis\":{\"endlinecolor\":\"#2a3f5f\",\"gridcolor\":\"white\",\"linecolor\":\"white\",\"minorgridcolor\":\"white\",\"startlinecolor\":\"#2a3f5f\"},\"baxis\":{\"endlinecolor\":\"#2a3f5f\",\"gridcolor\":\"white\",\"linecolor\":\"white\",\"minorgridcolor\":\"white\",\"startlinecolor\":\"#2a3f5f\"},\"type\":\"carpet\"}],\"table\":[{\"cells\":{\"fill\":{\"color\":\"#EBF0F8\"},\"line\":{\"color\":\"white\"}},\"header\":{\"fill\":{\"color\":\"#C8D4E3\"},\"line\":{\"color\":\"white\"}},\"type\":\"table\"}],\"barpolar\":[{\"marker\":{\"line\":{\"color\":\"#E5ECF6\",\"width\":0.5},\"pattern\":{\"fillmode\":\"overlay\",\"size\":10,\"solidity\":0.2}},\"type\":\"barpolar\"}],\"pie\":[{\"automargin\":true,\"type\":\"pie\"}]},\"layout\":{\"autotypenumbers\":\"strict\",\"colorway\":[\"#636efa\",\"#EF553B\",\"#00cc96\",\"#ab63fa\",\"#FFA15A\",\"#19d3f3\",\"#FF6692\",\"#B6E880\",\"#FF97FF\",\"#FECB52\"],\"font\":{\"color\":\"#2a3f5f\"},\"hovermode\":\"closest\",\"hoverlabel\":{\"align\":\"left\"},\"paper_bgcolor\":\"white\",\"plot_bgcolor\":\"#E5ECF6\",\"polar\":{\"bgcolor\":\"#E5ECF6\",\"angularaxis\":{\"gridcolor\":\"white\",\"linecolor\":\"white\",\"ticks\":\"\"},\"radialaxis\":{\"gridcolor\":\"white\",\"linecolor\":\"white\",\"ticks\":\"\"}},\"ternary\":{\"bgcolor\":\"#E5ECF6\",\"aaxis\":{\"gridcolor\":\"white\",\"linecolor\":\"white\",\"ticks\":\"\"},\"baxis\":{\"gridcolor\":\"white\",\"linecolor\":\"white\",\"ticks\":\"\"},\"caxis\":{\"gridcolor\":\"white\",\"linecolor\":\"white\",\"ticks\":\"\"}},\"coloraxis\":{\"colorbar\":{\"outlinewidth\":0,\"ticks\":\"\"}},\"colorscale\":{\"sequential\":[[0.0,\"#0d0887\"],[0.1111111111111111,\"#46039f\"],[0.2222222222222222,\"#7201a8\"],[0.3333333333333333,\"#9c179e\"],[0.4444444444444444,\"#bd3786\"],[0.5555555555555556,\"#d8576b\"],[0.6666666666666666,\"#ed7953\"],[0.7777777777777778,\"#fb9f3a\"],[0.8888888888888888,\"#fdca26\"],[1.0,\"#f0f921\"]],\"sequentialminus\":[[0.0,\"#0d0887\"],[0.1111111111111111,\"#46039f\"],[0.2222222222222222,\"#7201a8\"],[0.3333333333333333,\"#9c179e\"],[0.4444444444444444,\"#bd3786\"],[0.5555555555555556,\"#d8576b\"],[0.6666666666666666,\"#ed7953\"],[0.7777777777777778,\"#fb9f3a\"],[0.8888888888888888,\"#fdca26\"],[1.0,\"#f0f921\"]],\"diverging\":[[0,\"#8e0152\"],[0.1,\"#c51b7d\"],[0.2,\"#de77ae\"],[0.3,\"#f1b6da\"],[0.4,\"#fde0ef\"],[0.5,\"#f7f7f7\"],[0.6,\"#e6f5d0\"],[0.7,\"#b8e186\"],[0.8,\"#7fbc41\"],[0.9,\"#4d9221\"],[1,\"#276419\"]]},\"xaxis\":{\"gridcolor\":\"white\",\"linecolor\":\"white\",\"ticks\":\"\",\"title\":{\"standoff\":15},\"zerolinecolor\":\"white\",\"automargin\":true,\"zerolinewidth\":2},\"yaxis\":{\"gridcolor\":\"white\",\"linecolor\":\"white\",\"ticks\":\"\",\"title\":{\"standoff\":15},\"zerolinecolor\":\"white\",\"automargin\":true,\"zerolinewidth\":2},\"scene\":{\"xaxis\":{\"backgroundcolor\":\"#E5ECF6\",\"gridcolor\":\"white\",\"linecolor\":\"white\",\"showbackground\":true,\"ticks\":\"\",\"zerolinecolor\":\"white\",\"gridwidth\":2},\"yaxis\":{\"backgroundcolor\":\"#E5ECF6\",\"gridcolor\":\"white\",\"linecolor\":\"white\",\"showbackground\":true,\"ticks\":\"\",\"zerolinecolor\":\"white\",\"gridwidth\":2},\"zaxis\":{\"backgroundcolor\":\"#E5ECF6\",\"gridcolor\":\"white\",\"linecolor\":\"white\",\"showbackground\":true,\"ticks\":\"\",\"zerolinecolor\":\"white\",\"gridwidth\":2}},\"shapedefaults\":{\"line\":{\"color\":\"#2a3f5f\"}},\"annotationdefaults\":{\"arrowcolor\":\"#2a3f5f\",\"arrowhead\":0,\"arrowwidth\":1},\"geo\":{\"bgcolor\":\"white\",\"landcolor\":\"#E5ECF6\",\"subunitcolor\":\"white\",\"showland\":true,\"showlakes\":true,\"lakecolor\":\"white\"},\"title\":{\"x\":0.05},\"mapbox\":{\"style\":\"light\"}}},\"xaxis\":{\"anchor\":\"y\",\"domain\":[0.0,1.0],\"title\":{\"text\":\"log Time (s)\"}},\"yaxis\":{\"anchor\":\"x\",\"domain\":[0.0,1.0],\"title\":{\"text\":\"Mag\"}},\"legend\":{\"title\":{\"text\":\"color\"},\"tracegroupgap\":0},\"title\":{\"text\":\"C:/Users/biagi/Desktop/LCs to inspect deltat/CLEAN_GRBs_MAGNITUDES_December2022/Debugging\\\\970508A_iauc_gcn_mag_regatheredKawabata_recheckedBiagio.txt\"}},                        {\"responsive\": true}                    ).then(function(){\n",
       "                            \n",
       "var gd = document.getElementById('168d8c76-fa61-488a-a7c9-24ec53db1acf');\n",
       "var x = new MutationObserver(function (mutations, observer) {{\n",
       "        var display = window.getComputedStyle(gd).display;\n",
       "        if (!display || display === 'none') {{\n",
       "            console.log([gd, 'removed!']);\n",
       "            Plotly.purge(gd);\n",
       "            observer.disconnect();\n",
       "        }}\n",
       "}});\n",
       "\n",
       "// Listen for the removal of the full notebook cells\n",
       "var notebookContainer = gd.closest('#notebook-container');\n",
       "if (notebookContainer) {{\n",
       "    x.observe(notebookContainer, {childList: true});\n",
       "}}\n",
       "\n",
       "// Listen for the clearing of the current output cell\n",
       "var outputEl = gd.closest('.output');\n",
       "if (outputEl) {{\n",
       "    x.observe(outputEl, {childList: true});\n",
       "}}\n",
       "\n",
       "                        })                };                });            </script>        </div>"
      ]
     },
     "metadata": {},
     "output_type": "display_data"
    },
    {
     "name": "stdout",
     "output_type": "stream",
     "text": [
      "The most numerous filter of this GRB:  Rc , with 39 occurrences\n",
      "The second most numerous filter of this GRB:  Ic , with 33 occurrences\n"
     ]
    },
    {
     "data": {
      "application/vnd.plotly.v1+json": {
       "config": {
        "plotlyServerURL": "https://plot.ly"
       },
       "data": [
        {
         "customdata": [
          [
           "astro-ph9706225"
          ],
          [
           "astro-ph9706225"
          ],
          [
           "astro-ph9706225"
          ],
          [
           "astro-ph9706225"
          ],
          [
           "astro-ph9706225"
          ],
          [
           "astro-ph9706225"
          ],
          [
           "astro-ph9802341"
          ],
          [
           "astro-ph9802341"
          ],
          [
           "astro-ph9802341"
          ]
         ],
         "error_y": {
          "array": [
           0.8,
           0.21,
           0.4,
           0.06,
           0.09,
           0.07,
           0.13,
           0.15,
           0.14
          ]
         },
         "hovertemplate": "color=Ic (33)<br>x=%{x}<br>y=%{y}<br>Source=%{customdata[0]}<extra></extra>",
         "legendgroup": "Ic (33)",
         "marker": {
          "color": "#636efa",
          "symbol": "circle"
         },
         "mode": "markers",
         "name": "Ic (33)",
         "orientation": "v",
         "showlegend": true,
         "type": "scatter",
         "x": [
          4.29,
          4.32,
          4.44,
          5.03,
          5.05,
          5.06,
          6.02,
          6.72,
          6.88
         ],
         "xaxis": "x",
         "y": [
          -21.2,
          -21.172105263157896,
          -21.21,
          -19.65,
          -19.63,
          -19.962105263157895,
          -21.802105263157895,
          -23.632105263157897,
          -23.572105263157894
         ],
         "yaxis": "y"
        },
        {
         "customdata": [
          [
           "astro-ph9706225"
          ],
          [
           "astro-ph9706225"
          ],
          [
           "astro-ph9706225"
          ],
          [
           "astro-ph9706225"
          ]
         ],
         "error_y": {
          "array": [
           0.21,
           0.2,
           0.14,
           0.05
          ]
         },
         "hovertemplate": "color=V (33)<br>x=%{x}<br>y=%{y}<br>Source=%{customdata[0]}<extra></extra>",
         "legendgroup": "V (33)",
         "marker": {
          "color": "#EF553B",
          "symbol": "circle"
         },
         "mode": "markers",
         "name": "V (33)",
         "orientation": "v",
         "showlegend": true,
         "type": "scatter",
         "x": [
          4.31,
          4.39,
          4.43,
          5.04
         ],
         "xaxis": "x",
         "y": [
          -21.49,
          -21.25,
          -21.28,
          -20.37
         ],
         "yaxis": "y"
        },
        {
         "customdata": [
          [
           "IAUC6666"
          ]
         ],
         "error_y": {
          "array": [
           0.1
          ]
         },
         "hovertemplate": "color=I (2)<br>x=%{x}<br>y=%{y}<br>Source=%{customdata[0]}<extra></extra>",
         "legendgroup": "I (2)",
         "marker": {
          "color": "#00cc96",
          "symbol": "circle"
         },
         "mode": "markers",
         "name": "I (2)",
         "orientation": "v",
         "showlegend": true,
         "type": "scatter",
         "x": [
          4.34
         ],
         "xaxis": "x",
         "y": [
          -21
         ],
         "yaxis": "y"
        },
        {
         "customdata": [
          [
           "IAUC6658"
          ],
          [
           "IAUC6658"
          ],
          [
           "IAUC6658"
          ],
          [
           "IAUC6660"
          ]
         ],
         "error_y": {
          "array": [
           0.15,
           0.06,
           0.06,
           0.15
          ]
         },
         "hovertemplate": "color=r_Gunn (5)<br>x=%{x}<br>y=%{y}<br>Source=%{customdata[0]}<extra></extra>",
         "legendgroup": "r_Gunn (5)",
         "marker": {
          "color": "#ab63fa",
          "symbol": "circle"
         },
         "mode": "markers",
         "name": "r_Gunn (5)",
         "orientation": "v",
         "showlegend": true,
         "type": "scatter",
         "x": [
          4.4,
          5.3,
          5.45,
          5.57
         ],
         "xaxis": "x",
         "y": [
          -21.2,
          -20.07,
          -20.44,
          -20.67
         ],
         "yaxis": "y"
        },
        {
         "customdata": [
          [
           "astro-ph9802160"
          ],
          [
           "astro-ph9802341"
          ],
          [
           "astro-ph9802341"
          ],
          [
           "astro-ph9802160"
          ],
          [
           "astro-ph9802160"
          ],
          [
           null
          ],
          [
           "astro-ph9802341"
          ],
          [
           "astro-ph9802160"
          ],
          [
           "astro-ph9802160"
          ],
          [
           "astro-ph9802341"
          ],
          [
           "astro-ph9802160"
          ],
          [
           "astro-ph9802341"
          ],
          [
           "astro-ph9712100"
          ],
          [
           "IAUC6663"
          ],
          [
           "astro-ph9802341"
          ],
          [
           "astro-ph9712100"
          ],
          [
           "IAUC6671"
          ],
          [
           "astro-ph9802341"
          ],
          [
           "astro-ph9802341"
          ],
          [
           "astro-ph9712100"
          ],
          [
           "astro-ph9802341"
          ],
          [
           "astro-ph9802341"
          ],
          [
           "astro-ph9802341"
          ],
          [
           "astro-ph9802160"
          ],
          [
           "astro-ph9802341"
          ],
          [
           "astro-ph9802341"
          ],
          [
           "astro-ph9802341"
          ],
          [
           "astro-ph9802160"
          ]
         ],
         "error_y": {
          "array": [
           0.05,
           0.25,
           0.18,
           0.05,
           0.05,
           0.15,
           0.03,
           0.05,
           0.07,
           0.03,
           0.07,
           0.05,
           0.07,
           0.2,
           0.1,
           0.15,
           0.15,
           0.1,
           0.2,
           0.1,
           0.22,
           0.14,
           0.16,
           0.2,
           0.2,
           0.25,
           0.35,
           0.07
          ]
         },
         "hovertemplate": "color=Rc (39)<br>x=%{x}<br>y=%{y}<br>Source=%{customdata[0]}<extra></extra>",
         "legendgroup": "Rc (39)",
         "marker": {
          "color": "#FFA15A",
          "symbol": "circle"
         },
         "mode": "markers",
         "name": "Rc (39)",
         "orientation": "v",
         "showlegend": true,
         "type": "scatter",
         "x": [
          4.41,
          4.86,
          4.91,
          4.95,
          4.99,
          5.21,
          5.24,
          5.25,
          5.26,
          5.39,
          5.43,
          5.53,
          5.63,
          5.68,
          6.01,
          6.05,
          6.08,
          6.41,
          6.43,
          6.44,
          6.46,
          6.49,
          6.64,
          6.69,
          6.71,
          6.86,
          6.87,
          6.98
         ],
         "xaxis": "x",
         "y": [
          -21.25,
          -21.19,
          -21.13,
          -20.88,
          -20.46,
          -21.1,
          -19.8,
          -19.92,
          -19.77,
          -20.1,
          -20.3,
          -20.63,
          -21.09,
          -21.1,
          -21.81,
          -22.2,
          -22.2,
          -23.66,
          -23.54,
          -23.28,
          -23.34,
          -23.42,
          -23.88,
          -23.95,
          -24.08,
          -24.54,
          -24.28,
          -24.57
         ],
         "yaxis": "y"
        },
        {
         "customdata": [
          [
           "IAUC6657"
          ],
          [
           "IAUC6657"
          ]
         ],
         "error_y": {
          "array": [
           0.3,
           0.3
          ]
         },
         "hovertemplate": "color=U (7)<br>x=%{x}<br>y=%{y}<br>Source=%{customdata[0]}<extra></extra>",
         "legendgroup": "U (7)",
         "marker": {
          "color": "#19d3f3",
          "symbol": "circle"
         },
         "mode": "markers",
         "name": "U (7)",
         "orientation": "v",
         "showlegend": true,
         "type": "scatter",
         "x": [
          4.93,
          5.23
         ],
         "xaxis": "x",
         "y": [
          -20.5,
          -20.310000000000002
         ],
         "yaxis": "y"
        },
        {
         "customdata": [
          [
           "IAUC6661"
          ],
          [
           "IAUC6674"
          ],
          [
           "IAUC6676"
          ]
         ],
         "error_y": {
          "array": [
           0.05,
           0.15,
           0.2
          ]
         },
         "hovertemplate": "color=R (8)<br>x=%{x}<br>y=%{y}<br>Source=%{customdata[0]}<extra></extra>",
         "legendgroup": "R (8)",
         "marker": {
          "color": "#FF6692",
          "symbol": "circle"
         },
         "mode": "markers",
         "name": "R (8)",
         "orientation": "v",
         "showlegend": true,
         "type": "scatter",
         "x": [
          5.41,
          6.33,
          6.37
         ],
         "xaxis": "x",
         "y": [
          -19.880000000000003,
          -23.200000000000003,
          -23.4
         ],
         "yaxis": "y"
        },
        {
         "customdata": [
          [
           "https://doi.org/10.1086/311307"
          ],
          [
           "https://doi.org/10.1086/311307"
          ]
         ],
         "error_y": {
          "array": [
           0.1,
           0.3
          ]
         },
         "hovertemplate": "color=Ks (5)<br>x=%{x}<br>y=%{y}<br>Source=%{customdata[0]}<extra></extra>",
         "legendgroup": "Ks (5)",
         "marker": {
          "color": "#B6E880",
          "symbol": "circle"
         },
         "mode": "markers",
         "name": "Ks (5)",
         "orientation": "v",
         "showlegend": true,
         "type": "scatter",
         "x": [
          5.8,
          5.99
         ],
         "xaxis": "x",
         "y": [
          -21,
          -21.2
         ],
         "yaxis": "y"
        },
        {
         "customdata": [
          [
           "astro-ph9807315"
          ],
          [
           "030"
          ]
         ],
         "error_y": {
          "array": [
           0.26,
           0.14
          ]
         },
         "hovertemplate": "color=B (23)<br>x=%{x}<br>y=%{y}<br>Source=%{customdata[0]}<extra></extra>",
         "legendgroup": "B (23)",
         "marker": {
          "color": "#FF97FF",
          "symbol": "circle"
         },
         "mode": "markers",
         "name": "B (23)",
         "orientation": "v",
         "showlegend": true,
         "type": "scatter",
         "x": [
          7.25,
          7.4
         ],
         "xaxis": "x",
         "y": [
          -26.32,
          -26.27
         ],
         "yaxis": "y"
        }
       ],
       "layout": {
        "legend": {
         "title": {
          "text": "color"
         },
         "tracegroupgap": 0
        },
        "template": {
         "data": {
          "bar": [
           {
            "error_x": {
             "color": "#2a3f5f"
            },
            "error_y": {
             "color": "#2a3f5f"
            },
            "marker": {
             "line": {
              "color": "#E5ECF6",
              "width": 0.5
             },
             "pattern": {
              "fillmode": "overlay",
              "size": 10,
              "solidity": 0.2
             }
            },
            "type": "bar"
           }
          ],
          "barpolar": [
           {
            "marker": {
             "line": {
              "color": "#E5ECF6",
              "width": 0.5
             },
             "pattern": {
              "fillmode": "overlay",
              "size": 10,
              "solidity": 0.2
             }
            },
            "type": "barpolar"
           }
          ],
          "carpet": [
           {
            "aaxis": {
             "endlinecolor": "#2a3f5f",
             "gridcolor": "white",
             "linecolor": "white",
             "minorgridcolor": "white",
             "startlinecolor": "#2a3f5f"
            },
            "baxis": {
             "endlinecolor": "#2a3f5f",
             "gridcolor": "white",
             "linecolor": "white",
             "minorgridcolor": "white",
             "startlinecolor": "#2a3f5f"
            },
            "type": "carpet"
           }
          ],
          "choropleth": [
           {
            "colorbar": {
             "outlinewidth": 0,
             "ticks": ""
            },
            "type": "choropleth"
           }
          ],
          "contour": [
           {
            "colorbar": {
             "outlinewidth": 0,
             "ticks": ""
            },
            "colorscale": [
             [
              0,
              "#0d0887"
             ],
             [
              0.1111111111111111,
              "#46039f"
             ],
             [
              0.2222222222222222,
              "#7201a8"
             ],
             [
              0.3333333333333333,
              "#9c179e"
             ],
             [
              0.4444444444444444,
              "#bd3786"
             ],
             [
              0.5555555555555556,
              "#d8576b"
             ],
             [
              0.6666666666666666,
              "#ed7953"
             ],
             [
              0.7777777777777778,
              "#fb9f3a"
             ],
             [
              0.8888888888888888,
              "#fdca26"
             ],
             [
              1,
              "#f0f921"
             ]
            ],
            "type": "contour"
           }
          ],
          "contourcarpet": [
           {
            "colorbar": {
             "outlinewidth": 0,
             "ticks": ""
            },
            "type": "contourcarpet"
           }
          ],
          "heatmap": [
           {
            "colorbar": {
             "outlinewidth": 0,
             "ticks": ""
            },
            "colorscale": [
             [
              0,
              "#0d0887"
             ],
             [
              0.1111111111111111,
              "#46039f"
             ],
             [
              0.2222222222222222,
              "#7201a8"
             ],
             [
              0.3333333333333333,
              "#9c179e"
             ],
             [
              0.4444444444444444,
              "#bd3786"
             ],
             [
              0.5555555555555556,
              "#d8576b"
             ],
             [
              0.6666666666666666,
              "#ed7953"
             ],
             [
              0.7777777777777778,
              "#fb9f3a"
             ],
             [
              0.8888888888888888,
              "#fdca26"
             ],
             [
              1,
              "#f0f921"
             ]
            ],
            "type": "heatmap"
           }
          ],
          "heatmapgl": [
           {
            "colorbar": {
             "outlinewidth": 0,
             "ticks": ""
            },
            "colorscale": [
             [
              0,
              "#0d0887"
             ],
             [
              0.1111111111111111,
              "#46039f"
             ],
             [
              0.2222222222222222,
              "#7201a8"
             ],
             [
              0.3333333333333333,
              "#9c179e"
             ],
             [
              0.4444444444444444,
              "#bd3786"
             ],
             [
              0.5555555555555556,
              "#d8576b"
             ],
             [
              0.6666666666666666,
              "#ed7953"
             ],
             [
              0.7777777777777778,
              "#fb9f3a"
             ],
             [
              0.8888888888888888,
              "#fdca26"
             ],
             [
              1,
              "#f0f921"
             ]
            ],
            "type": "heatmapgl"
           }
          ],
          "histogram": [
           {
            "marker": {
             "pattern": {
              "fillmode": "overlay",
              "size": 10,
              "solidity": 0.2
             }
            },
            "type": "histogram"
           }
          ],
          "histogram2d": [
           {
            "colorbar": {
             "outlinewidth": 0,
             "ticks": ""
            },
            "colorscale": [
             [
              0,
              "#0d0887"
             ],
             [
              0.1111111111111111,
              "#46039f"
             ],
             [
              0.2222222222222222,
              "#7201a8"
             ],
             [
              0.3333333333333333,
              "#9c179e"
             ],
             [
              0.4444444444444444,
              "#bd3786"
             ],
             [
              0.5555555555555556,
              "#d8576b"
             ],
             [
              0.6666666666666666,
              "#ed7953"
             ],
             [
              0.7777777777777778,
              "#fb9f3a"
             ],
             [
              0.8888888888888888,
              "#fdca26"
             ],
             [
              1,
              "#f0f921"
             ]
            ],
            "type": "histogram2d"
           }
          ],
          "histogram2dcontour": [
           {
            "colorbar": {
             "outlinewidth": 0,
             "ticks": ""
            },
            "colorscale": [
             [
              0,
              "#0d0887"
             ],
             [
              0.1111111111111111,
              "#46039f"
             ],
             [
              0.2222222222222222,
              "#7201a8"
             ],
             [
              0.3333333333333333,
              "#9c179e"
             ],
             [
              0.4444444444444444,
              "#bd3786"
             ],
             [
              0.5555555555555556,
              "#d8576b"
             ],
             [
              0.6666666666666666,
              "#ed7953"
             ],
             [
              0.7777777777777778,
              "#fb9f3a"
             ],
             [
              0.8888888888888888,
              "#fdca26"
             ],
             [
              1,
              "#f0f921"
             ]
            ],
            "type": "histogram2dcontour"
           }
          ],
          "mesh3d": [
           {
            "colorbar": {
             "outlinewidth": 0,
             "ticks": ""
            },
            "type": "mesh3d"
           }
          ],
          "parcoords": [
           {
            "line": {
             "colorbar": {
              "outlinewidth": 0,
              "ticks": ""
             }
            },
            "type": "parcoords"
           }
          ],
          "pie": [
           {
            "automargin": true,
            "type": "pie"
           }
          ],
          "scatter": [
           {
            "fillpattern": {
             "fillmode": "overlay",
             "size": 10,
             "solidity": 0.2
            },
            "type": "scatter"
           }
          ],
          "scatter3d": [
           {
            "line": {
             "colorbar": {
              "outlinewidth": 0,
              "ticks": ""
             }
            },
            "marker": {
             "colorbar": {
              "outlinewidth": 0,
              "ticks": ""
             }
            },
            "type": "scatter3d"
           }
          ],
          "scattercarpet": [
           {
            "marker": {
             "colorbar": {
              "outlinewidth": 0,
              "ticks": ""
             }
            },
            "type": "scattercarpet"
           }
          ],
          "scattergeo": [
           {
            "marker": {
             "colorbar": {
              "outlinewidth": 0,
              "ticks": ""
             }
            },
            "type": "scattergeo"
           }
          ],
          "scattergl": [
           {
            "marker": {
             "colorbar": {
              "outlinewidth": 0,
              "ticks": ""
             }
            },
            "type": "scattergl"
           }
          ],
          "scattermapbox": [
           {
            "marker": {
             "colorbar": {
              "outlinewidth": 0,
              "ticks": ""
             }
            },
            "type": "scattermapbox"
           }
          ],
          "scatterpolar": [
           {
            "marker": {
             "colorbar": {
              "outlinewidth": 0,
              "ticks": ""
             }
            },
            "type": "scatterpolar"
           }
          ],
          "scatterpolargl": [
           {
            "marker": {
             "colorbar": {
              "outlinewidth": 0,
              "ticks": ""
             }
            },
            "type": "scatterpolargl"
           }
          ],
          "scatterternary": [
           {
            "marker": {
             "colorbar": {
              "outlinewidth": 0,
              "ticks": ""
             }
            },
            "type": "scatterternary"
           }
          ],
          "surface": [
           {
            "colorbar": {
             "outlinewidth": 0,
             "ticks": ""
            },
            "colorscale": [
             [
              0,
              "#0d0887"
             ],
             [
              0.1111111111111111,
              "#46039f"
             ],
             [
              0.2222222222222222,
              "#7201a8"
             ],
             [
              0.3333333333333333,
              "#9c179e"
             ],
             [
              0.4444444444444444,
              "#bd3786"
             ],
             [
              0.5555555555555556,
              "#d8576b"
             ],
             [
              0.6666666666666666,
              "#ed7953"
             ],
             [
              0.7777777777777778,
              "#fb9f3a"
             ],
             [
              0.8888888888888888,
              "#fdca26"
             ],
             [
              1,
              "#f0f921"
             ]
            ],
            "type": "surface"
           }
          ],
          "table": [
           {
            "cells": {
             "fill": {
              "color": "#EBF0F8"
             },
             "line": {
              "color": "white"
             }
            },
            "header": {
             "fill": {
              "color": "#C8D4E3"
             },
             "line": {
              "color": "white"
             }
            },
            "type": "table"
           }
          ]
         },
         "layout": {
          "annotationdefaults": {
           "arrowcolor": "#2a3f5f",
           "arrowhead": 0,
           "arrowwidth": 1
          },
          "autotypenumbers": "strict",
          "coloraxis": {
           "colorbar": {
            "outlinewidth": 0,
            "ticks": ""
           }
          },
          "colorscale": {
           "diverging": [
            [
             0,
             "#8e0152"
            ],
            [
             0.1,
             "#c51b7d"
            ],
            [
             0.2,
             "#de77ae"
            ],
            [
             0.3,
             "#f1b6da"
            ],
            [
             0.4,
             "#fde0ef"
            ],
            [
             0.5,
             "#f7f7f7"
            ],
            [
             0.6,
             "#e6f5d0"
            ],
            [
             0.7,
             "#b8e186"
            ],
            [
             0.8,
             "#7fbc41"
            ],
            [
             0.9,
             "#4d9221"
            ],
            [
             1,
             "#276419"
            ]
           ],
           "sequential": [
            [
             0,
             "#0d0887"
            ],
            [
             0.1111111111111111,
             "#46039f"
            ],
            [
             0.2222222222222222,
             "#7201a8"
            ],
            [
             0.3333333333333333,
             "#9c179e"
            ],
            [
             0.4444444444444444,
             "#bd3786"
            ],
            [
             0.5555555555555556,
             "#d8576b"
            ],
            [
             0.6666666666666666,
             "#ed7953"
            ],
            [
             0.7777777777777778,
             "#fb9f3a"
            ],
            [
             0.8888888888888888,
             "#fdca26"
            ],
            [
             1,
             "#f0f921"
            ]
           ],
           "sequentialminus": [
            [
             0,
             "#0d0887"
            ],
            [
             0.1111111111111111,
             "#46039f"
            ],
            [
             0.2222222222222222,
             "#7201a8"
            ],
            [
             0.3333333333333333,
             "#9c179e"
            ],
            [
             0.4444444444444444,
             "#bd3786"
            ],
            [
             0.5555555555555556,
             "#d8576b"
            ],
            [
             0.6666666666666666,
             "#ed7953"
            ],
            [
             0.7777777777777778,
             "#fb9f3a"
            ],
            [
             0.8888888888888888,
             "#fdca26"
            ],
            [
             1,
             "#f0f921"
            ]
           ]
          },
          "colorway": [
           "#636efa",
           "#EF553B",
           "#00cc96",
           "#ab63fa",
           "#FFA15A",
           "#19d3f3",
           "#FF6692",
           "#B6E880",
           "#FF97FF",
           "#FECB52"
          ],
          "font": {
           "color": "#2a3f5f"
          },
          "geo": {
           "bgcolor": "white",
           "lakecolor": "white",
           "landcolor": "#E5ECF6",
           "showlakes": true,
           "showland": true,
           "subunitcolor": "white"
          },
          "hoverlabel": {
           "align": "left"
          },
          "hovermode": "closest",
          "mapbox": {
           "style": "light"
          },
          "paper_bgcolor": "white",
          "plot_bgcolor": "#E5ECF6",
          "polar": {
           "angularaxis": {
            "gridcolor": "white",
            "linecolor": "white",
            "ticks": ""
           },
           "bgcolor": "#E5ECF6",
           "radialaxis": {
            "gridcolor": "white",
            "linecolor": "white",
            "ticks": ""
           }
          },
          "scene": {
           "xaxis": {
            "backgroundcolor": "#E5ECF6",
            "gridcolor": "white",
            "gridwidth": 2,
            "linecolor": "white",
            "showbackground": true,
            "ticks": "",
            "zerolinecolor": "white"
           },
           "yaxis": {
            "backgroundcolor": "#E5ECF6",
            "gridcolor": "white",
            "gridwidth": 2,
            "linecolor": "white",
            "showbackground": true,
            "ticks": "",
            "zerolinecolor": "white"
           },
           "zaxis": {
            "backgroundcolor": "#E5ECF6",
            "gridcolor": "white",
            "gridwidth": 2,
            "linecolor": "white",
            "showbackground": true,
            "ticks": "",
            "zerolinecolor": "white"
           }
          },
          "shapedefaults": {
           "line": {
            "color": "#2a3f5f"
           }
          },
          "ternary": {
           "aaxis": {
            "gridcolor": "white",
            "linecolor": "white",
            "ticks": ""
           },
           "baxis": {
            "gridcolor": "white",
            "linecolor": "white",
            "ticks": ""
           },
           "bgcolor": "#E5ECF6",
           "caxis": {
            "gridcolor": "white",
            "linecolor": "white",
            "ticks": ""
           }
          },
          "title": {
           "x": 0.05
          },
          "xaxis": {
           "automargin": true,
           "gridcolor": "white",
           "linecolor": "white",
           "ticks": "",
           "title": {
            "standoff": 15
           },
           "zerolinecolor": "white",
           "zerolinewidth": 2
          },
          "yaxis": {
           "automargin": true,
           "gridcolor": "white",
           "linecolor": "white",
           "ticks": "",
           "title": {
            "standoff": 15
           },
           "zerolinecolor": "white",
           "zerolinewidth": 2
          }
         }
        },
        "title": {
         "text": "C:/Users/biagi/Desktop/LCs to inspect deltat/CLEAN_GRBs_MAGNITUDES_December2022/Debugging\\970508A_iauc_gcn_mag_regatheredKawabata_recheckedBiagio.txt_RESCALED"
        },
        "xaxis": {
         "anchor": "y",
         "domain": [
          0,
          1
         ],
         "title": {
          "text": "log Time (s)"
         }
        },
        "yaxis": {
         "anchor": "x",
         "domain": [
          0,
          1
         ],
         "title": {
          "text": "Mag"
         }
        }
       }
      },
      "text/html": [
       "<div>                            <div id=\"f8b80811-167a-4399-b100-ba7f47b64488\" class=\"plotly-graph-div\" style=\"height:525px; width:100%;\"></div>            <script type=\"text/javascript\">                require([\"plotly\"], function(Plotly) {                    window.PLOTLYENV=window.PLOTLYENV || {};                                    if (document.getElementById(\"f8b80811-167a-4399-b100-ba7f47b64488\")) {                    Plotly.newPlot(                        \"f8b80811-167a-4399-b100-ba7f47b64488\",                        [{\"customdata\":[[\"astro-ph9706225\"],[\"astro-ph9706225\"],[\"astro-ph9706225\"],[\"astro-ph9706225\"],[\"astro-ph9706225\"],[\"astro-ph9706225\"],[\"astro-ph9802341\"],[\"astro-ph9802341\"],[\"astro-ph9802341\"]],\"error_y\":{\"array\":[0.8,0.21,0.4,0.06,0.09,0.07,0.13,0.15,0.14]},\"hovertemplate\":\"color=Ic (33)<br>x=%{x}<br>y=%{y}<br>Source=%{customdata[0]}<extra></extra>\",\"legendgroup\":\"Ic (33)\",\"marker\":{\"color\":\"#636efa\",\"symbol\":\"circle\"},\"mode\":\"markers\",\"name\":\"Ic (33)\",\"orientation\":\"v\",\"showlegend\":true,\"x\":[4.29,4.32,4.44,5.03,5.05,5.06,6.02,6.72,6.88],\"xaxis\":\"x\",\"y\":[-21.2,-21.172105263157896,-21.21,-19.65,-19.63,-19.962105263157895,-21.802105263157895,-23.632105263157897,-23.572105263157894],\"yaxis\":\"y\",\"type\":\"scatter\"},{\"customdata\":[[\"astro-ph9706225\"],[\"astro-ph9706225\"],[\"astro-ph9706225\"],[\"astro-ph9706225\"]],\"error_y\":{\"array\":[0.21,0.2,0.14,0.05]},\"hovertemplate\":\"color=V (33)<br>x=%{x}<br>y=%{y}<br>Source=%{customdata[0]}<extra></extra>\",\"legendgroup\":\"V (33)\",\"marker\":{\"color\":\"#EF553B\",\"symbol\":\"circle\"},\"mode\":\"markers\",\"name\":\"V (33)\",\"orientation\":\"v\",\"showlegend\":true,\"x\":[4.31,4.39,4.43,5.04],\"xaxis\":\"x\",\"y\":[-21.49,-21.25,-21.28,-20.37],\"yaxis\":\"y\",\"type\":\"scatter\"},{\"customdata\":[[\"IAUC6666\"]],\"error_y\":{\"array\":[0.1]},\"hovertemplate\":\"color=I (2)<br>x=%{x}<br>y=%{y}<br>Source=%{customdata[0]}<extra></extra>\",\"legendgroup\":\"I (2)\",\"marker\":{\"color\":\"#00cc96\",\"symbol\":\"circle\"},\"mode\":\"markers\",\"name\":\"I (2)\",\"orientation\":\"v\",\"showlegend\":true,\"x\":[4.34],\"xaxis\":\"x\",\"y\":[-21.0],\"yaxis\":\"y\",\"type\":\"scatter\"},{\"customdata\":[[\"IAUC6658\"],[\"IAUC6658\"],[\"IAUC6658\"],[\"IAUC6660\"]],\"error_y\":{\"array\":[0.15,0.06,0.06,0.15]},\"hovertemplate\":\"color=r_Gunn (5)<br>x=%{x}<br>y=%{y}<br>Source=%{customdata[0]}<extra></extra>\",\"legendgroup\":\"r_Gunn (5)\",\"marker\":{\"color\":\"#ab63fa\",\"symbol\":\"circle\"},\"mode\":\"markers\",\"name\":\"r_Gunn (5)\",\"orientation\":\"v\",\"showlegend\":true,\"x\":[4.4,5.3,5.45,5.57],\"xaxis\":\"x\",\"y\":[-21.2,-20.07,-20.44,-20.67],\"yaxis\":\"y\",\"type\":\"scatter\"},{\"customdata\":[[\"astro-ph9802160\"],[\"astro-ph9802341\"],[\"astro-ph9802341\"],[\"astro-ph9802160\"],[\"astro-ph9802160\"],[null],[\"astro-ph9802341\"],[\"astro-ph9802160\"],[\"astro-ph9802160\"],[\"astro-ph9802341\"],[\"astro-ph9802160\"],[\"astro-ph9802341\"],[\"astro-ph9712100\"],[\"IAUC6663\"],[\"astro-ph9802341\"],[\"astro-ph9712100\"],[\"IAUC6671\"],[\"astro-ph9802341\"],[\"astro-ph9802341\"],[\"astro-ph9712100\"],[\"astro-ph9802341\"],[\"astro-ph9802341\"],[\"astro-ph9802341\"],[\"astro-ph9802160\"],[\"astro-ph9802341\"],[\"astro-ph9802341\"],[\"astro-ph9802341\"],[\"astro-ph9802160\"]],\"error_y\":{\"array\":[0.05,0.25,0.18,0.05,0.05,0.15,0.03,0.05,0.07,0.03,0.07,0.05,0.07,0.2,0.1,0.15,0.15,0.1,0.2,0.1,0.22,0.14,0.16,0.2,0.2,0.25,0.35,0.07]},\"hovertemplate\":\"color=Rc (39)<br>x=%{x}<br>y=%{y}<br>Source=%{customdata[0]}<extra></extra>\",\"legendgroup\":\"Rc (39)\",\"marker\":{\"color\":\"#FFA15A\",\"symbol\":\"circle\"},\"mode\":\"markers\",\"name\":\"Rc (39)\",\"orientation\":\"v\",\"showlegend\":true,\"x\":[4.41,4.86,4.91,4.95,4.99,5.21,5.24,5.25,5.26,5.39,5.43,5.53,5.63,5.68,6.01,6.05,6.08,6.41,6.43,6.44,6.46,6.49,6.64,6.69,6.71,6.86,6.87,6.98],\"xaxis\":\"x\",\"y\":[-21.25,-21.19,-21.13,-20.88,-20.46,-21.1,-19.8,-19.92,-19.77,-20.1,-20.3,-20.63,-21.09,-21.1,-21.81,-22.2,-22.2,-23.66,-23.54,-23.28,-23.34,-23.42,-23.88,-23.95,-24.08,-24.54,-24.28,-24.57],\"yaxis\":\"y\",\"type\":\"scatter\"},{\"customdata\":[[\"IAUC6657\"],[\"IAUC6657\"]],\"error_y\":{\"array\":[0.3,0.3]},\"hovertemplate\":\"color=U (7)<br>x=%{x}<br>y=%{y}<br>Source=%{customdata[0]}<extra></extra>\",\"legendgroup\":\"U (7)\",\"marker\":{\"color\":\"#19d3f3\",\"symbol\":\"circle\"},\"mode\":\"markers\",\"name\":\"U (7)\",\"orientation\":\"v\",\"showlegend\":true,\"x\":[4.93,5.23],\"xaxis\":\"x\",\"y\":[-20.5,-20.310000000000002],\"yaxis\":\"y\",\"type\":\"scatter\"},{\"customdata\":[[\"IAUC6661\"],[\"IAUC6674\"],[\"IAUC6676\"]],\"error_y\":{\"array\":[0.05,0.15,0.2]},\"hovertemplate\":\"color=R (8)<br>x=%{x}<br>y=%{y}<br>Source=%{customdata[0]}<extra></extra>\",\"legendgroup\":\"R (8)\",\"marker\":{\"color\":\"#FF6692\",\"symbol\":\"circle\"},\"mode\":\"markers\",\"name\":\"R (8)\",\"orientation\":\"v\",\"showlegend\":true,\"x\":[5.41,6.33,6.37],\"xaxis\":\"x\",\"y\":[-19.880000000000003,-23.200000000000003,-23.4],\"yaxis\":\"y\",\"type\":\"scatter\"},{\"customdata\":[[\"https://doi.org/10.1086/311307\"],[\"https://doi.org/10.1086/311307\"]],\"error_y\":{\"array\":[0.1,0.3]},\"hovertemplate\":\"color=Ks (5)<br>x=%{x}<br>y=%{y}<br>Source=%{customdata[0]}<extra></extra>\",\"legendgroup\":\"Ks (5)\",\"marker\":{\"color\":\"#B6E880\",\"symbol\":\"circle\"},\"mode\":\"markers\",\"name\":\"Ks (5)\",\"orientation\":\"v\",\"showlegend\":true,\"x\":[5.8,5.99],\"xaxis\":\"x\",\"y\":[-21.0,-21.2],\"yaxis\":\"y\",\"type\":\"scatter\"},{\"customdata\":[[\"astro-ph9807315\"],[\"030\"]],\"error_y\":{\"array\":[0.26,0.14]},\"hovertemplate\":\"color=B (23)<br>x=%{x}<br>y=%{y}<br>Source=%{customdata[0]}<extra></extra>\",\"legendgroup\":\"B (23)\",\"marker\":{\"color\":\"#FF97FF\",\"symbol\":\"circle\"},\"mode\":\"markers\",\"name\":\"B (23)\",\"orientation\":\"v\",\"showlegend\":true,\"x\":[7.25,7.4],\"xaxis\":\"x\",\"y\":[-26.32,-26.27],\"yaxis\":\"y\",\"type\":\"scatter\"}],                        {\"template\":{\"data\":{\"histogram2dcontour\":[{\"type\":\"histogram2dcontour\",\"colorbar\":{\"outlinewidth\":0,\"ticks\":\"\"},\"colorscale\":[[0.0,\"#0d0887\"],[0.1111111111111111,\"#46039f\"],[0.2222222222222222,\"#7201a8\"],[0.3333333333333333,\"#9c179e\"],[0.4444444444444444,\"#bd3786\"],[0.5555555555555556,\"#d8576b\"],[0.6666666666666666,\"#ed7953\"],[0.7777777777777778,\"#fb9f3a\"],[0.8888888888888888,\"#fdca26\"],[1.0,\"#f0f921\"]]}],\"choropleth\":[{\"type\":\"choropleth\",\"colorbar\":{\"outlinewidth\":0,\"ticks\":\"\"}}],\"histogram2d\":[{\"type\":\"histogram2d\",\"colorbar\":{\"outlinewidth\":0,\"ticks\":\"\"},\"colorscale\":[[0.0,\"#0d0887\"],[0.1111111111111111,\"#46039f\"],[0.2222222222222222,\"#7201a8\"],[0.3333333333333333,\"#9c179e\"],[0.4444444444444444,\"#bd3786\"],[0.5555555555555556,\"#d8576b\"],[0.6666666666666666,\"#ed7953\"],[0.7777777777777778,\"#fb9f3a\"],[0.8888888888888888,\"#fdca26\"],[1.0,\"#f0f921\"]]}],\"heatmap\":[{\"type\":\"heatmap\",\"colorbar\":{\"outlinewidth\":0,\"ticks\":\"\"},\"colorscale\":[[0.0,\"#0d0887\"],[0.1111111111111111,\"#46039f\"],[0.2222222222222222,\"#7201a8\"],[0.3333333333333333,\"#9c179e\"],[0.4444444444444444,\"#bd3786\"],[0.5555555555555556,\"#d8576b\"],[0.6666666666666666,\"#ed7953\"],[0.7777777777777778,\"#fb9f3a\"],[0.8888888888888888,\"#fdca26\"],[1.0,\"#f0f921\"]]}],\"heatmapgl\":[{\"type\":\"heatmapgl\",\"colorbar\":{\"outlinewidth\":0,\"ticks\":\"\"},\"colorscale\":[[0.0,\"#0d0887\"],[0.1111111111111111,\"#46039f\"],[0.2222222222222222,\"#7201a8\"],[0.3333333333333333,\"#9c179e\"],[0.4444444444444444,\"#bd3786\"],[0.5555555555555556,\"#d8576b\"],[0.6666666666666666,\"#ed7953\"],[0.7777777777777778,\"#fb9f3a\"],[0.8888888888888888,\"#fdca26\"],[1.0,\"#f0f921\"]]}],\"contourcarpet\":[{\"type\":\"contourcarpet\",\"colorbar\":{\"outlinewidth\":0,\"ticks\":\"\"}}],\"contour\":[{\"type\":\"contour\",\"colorbar\":{\"outlinewidth\":0,\"ticks\":\"\"},\"colorscale\":[[0.0,\"#0d0887\"],[0.1111111111111111,\"#46039f\"],[0.2222222222222222,\"#7201a8\"],[0.3333333333333333,\"#9c179e\"],[0.4444444444444444,\"#bd3786\"],[0.5555555555555556,\"#d8576b\"],[0.6666666666666666,\"#ed7953\"],[0.7777777777777778,\"#fb9f3a\"],[0.8888888888888888,\"#fdca26\"],[1.0,\"#f0f921\"]]}],\"surface\":[{\"type\":\"surface\",\"colorbar\":{\"outlinewidth\":0,\"ticks\":\"\"},\"colorscale\":[[0.0,\"#0d0887\"],[0.1111111111111111,\"#46039f\"],[0.2222222222222222,\"#7201a8\"],[0.3333333333333333,\"#9c179e\"],[0.4444444444444444,\"#bd3786\"],[0.5555555555555556,\"#d8576b\"],[0.6666666666666666,\"#ed7953\"],[0.7777777777777778,\"#fb9f3a\"],[0.8888888888888888,\"#fdca26\"],[1.0,\"#f0f921\"]]}],\"mesh3d\":[{\"type\":\"mesh3d\",\"colorbar\":{\"outlinewidth\":0,\"ticks\":\"\"}}],\"scatter\":[{\"fillpattern\":{\"fillmode\":\"overlay\",\"size\":10,\"solidity\":0.2},\"type\":\"scatter\"}],\"parcoords\":[{\"type\":\"parcoords\",\"line\":{\"colorbar\":{\"outlinewidth\":0,\"ticks\":\"\"}}}],\"scatterpolargl\":[{\"type\":\"scatterpolargl\",\"marker\":{\"colorbar\":{\"outlinewidth\":0,\"ticks\":\"\"}}}],\"bar\":[{\"error_x\":{\"color\":\"#2a3f5f\"},\"error_y\":{\"color\":\"#2a3f5f\"},\"marker\":{\"line\":{\"color\":\"#E5ECF6\",\"width\":0.5},\"pattern\":{\"fillmode\":\"overlay\",\"size\":10,\"solidity\":0.2}},\"type\":\"bar\"}],\"scattergeo\":[{\"type\":\"scattergeo\",\"marker\":{\"colorbar\":{\"outlinewidth\":0,\"ticks\":\"\"}}}],\"scatterpolar\":[{\"type\":\"scatterpolar\",\"marker\":{\"colorbar\":{\"outlinewidth\":0,\"ticks\":\"\"}}}],\"histogram\":[{\"marker\":{\"pattern\":{\"fillmode\":\"overlay\",\"size\":10,\"solidity\":0.2}},\"type\":\"histogram\"}],\"scattergl\":[{\"type\":\"scattergl\",\"marker\":{\"colorbar\":{\"outlinewidth\":0,\"ticks\":\"\"}}}],\"scatter3d\":[{\"type\":\"scatter3d\",\"line\":{\"colorbar\":{\"outlinewidth\":0,\"ticks\":\"\"}},\"marker\":{\"colorbar\":{\"outlinewidth\":0,\"ticks\":\"\"}}}],\"scattermapbox\":[{\"type\":\"scattermapbox\",\"marker\":{\"colorbar\":{\"outlinewidth\":0,\"ticks\":\"\"}}}],\"scatterternary\":[{\"type\":\"scatterternary\",\"marker\":{\"colorbar\":{\"outlinewidth\":0,\"ticks\":\"\"}}}],\"scattercarpet\":[{\"type\":\"scattercarpet\",\"marker\":{\"colorbar\":{\"outlinewidth\":0,\"ticks\":\"\"}}}],\"carpet\":[{\"aaxis\":{\"endlinecolor\":\"#2a3f5f\",\"gridcolor\":\"white\",\"linecolor\":\"white\",\"minorgridcolor\":\"white\",\"startlinecolor\":\"#2a3f5f\"},\"baxis\":{\"endlinecolor\":\"#2a3f5f\",\"gridcolor\":\"white\",\"linecolor\":\"white\",\"minorgridcolor\":\"white\",\"startlinecolor\":\"#2a3f5f\"},\"type\":\"carpet\"}],\"table\":[{\"cells\":{\"fill\":{\"color\":\"#EBF0F8\"},\"line\":{\"color\":\"white\"}},\"header\":{\"fill\":{\"color\":\"#C8D4E3\"},\"line\":{\"color\":\"white\"}},\"type\":\"table\"}],\"barpolar\":[{\"marker\":{\"line\":{\"color\":\"#E5ECF6\",\"width\":0.5},\"pattern\":{\"fillmode\":\"overlay\",\"size\":10,\"solidity\":0.2}},\"type\":\"barpolar\"}],\"pie\":[{\"automargin\":true,\"type\":\"pie\"}]},\"layout\":{\"autotypenumbers\":\"strict\",\"colorway\":[\"#636efa\",\"#EF553B\",\"#00cc96\",\"#ab63fa\",\"#FFA15A\",\"#19d3f3\",\"#FF6692\",\"#B6E880\",\"#FF97FF\",\"#FECB52\"],\"font\":{\"color\":\"#2a3f5f\"},\"hovermode\":\"closest\",\"hoverlabel\":{\"align\":\"left\"},\"paper_bgcolor\":\"white\",\"plot_bgcolor\":\"#E5ECF6\",\"polar\":{\"bgcolor\":\"#E5ECF6\",\"angularaxis\":{\"gridcolor\":\"white\",\"linecolor\":\"white\",\"ticks\":\"\"},\"radialaxis\":{\"gridcolor\":\"white\",\"linecolor\":\"white\",\"ticks\":\"\"}},\"ternary\":{\"bgcolor\":\"#E5ECF6\",\"aaxis\":{\"gridcolor\":\"white\",\"linecolor\":\"white\",\"ticks\":\"\"},\"baxis\":{\"gridcolor\":\"white\",\"linecolor\":\"white\",\"ticks\":\"\"},\"caxis\":{\"gridcolor\":\"white\",\"linecolor\":\"white\",\"ticks\":\"\"}},\"coloraxis\":{\"colorbar\":{\"outlinewidth\":0,\"ticks\":\"\"}},\"colorscale\":{\"sequential\":[[0.0,\"#0d0887\"],[0.1111111111111111,\"#46039f\"],[0.2222222222222222,\"#7201a8\"],[0.3333333333333333,\"#9c179e\"],[0.4444444444444444,\"#bd3786\"],[0.5555555555555556,\"#d8576b\"],[0.6666666666666666,\"#ed7953\"],[0.7777777777777778,\"#fb9f3a\"],[0.8888888888888888,\"#fdca26\"],[1.0,\"#f0f921\"]],\"sequentialminus\":[[0.0,\"#0d0887\"],[0.1111111111111111,\"#46039f\"],[0.2222222222222222,\"#7201a8\"],[0.3333333333333333,\"#9c179e\"],[0.4444444444444444,\"#bd3786\"],[0.5555555555555556,\"#d8576b\"],[0.6666666666666666,\"#ed7953\"],[0.7777777777777778,\"#fb9f3a\"],[0.8888888888888888,\"#fdca26\"],[1.0,\"#f0f921\"]],\"diverging\":[[0,\"#8e0152\"],[0.1,\"#c51b7d\"],[0.2,\"#de77ae\"],[0.3,\"#f1b6da\"],[0.4,\"#fde0ef\"],[0.5,\"#f7f7f7\"],[0.6,\"#e6f5d0\"],[0.7,\"#b8e186\"],[0.8,\"#7fbc41\"],[0.9,\"#4d9221\"],[1,\"#276419\"]]},\"xaxis\":{\"gridcolor\":\"white\",\"linecolor\":\"white\",\"ticks\":\"\",\"title\":{\"standoff\":15},\"zerolinecolor\":\"white\",\"automargin\":true,\"zerolinewidth\":2},\"yaxis\":{\"gridcolor\":\"white\",\"linecolor\":\"white\",\"ticks\":\"\",\"title\":{\"standoff\":15},\"zerolinecolor\":\"white\",\"automargin\":true,\"zerolinewidth\":2},\"scene\":{\"xaxis\":{\"backgroundcolor\":\"#E5ECF6\",\"gridcolor\":\"white\",\"linecolor\":\"white\",\"showbackground\":true,\"ticks\":\"\",\"zerolinecolor\":\"white\",\"gridwidth\":2},\"yaxis\":{\"backgroundcolor\":\"#E5ECF6\",\"gridcolor\":\"white\",\"linecolor\":\"white\",\"showbackground\":true,\"ticks\":\"\",\"zerolinecolor\":\"white\",\"gridwidth\":2},\"zaxis\":{\"backgroundcolor\":\"#E5ECF6\",\"gridcolor\":\"white\",\"linecolor\":\"white\",\"showbackground\":true,\"ticks\":\"\",\"zerolinecolor\":\"white\",\"gridwidth\":2}},\"shapedefaults\":{\"line\":{\"color\":\"#2a3f5f\"}},\"annotationdefaults\":{\"arrowcolor\":\"#2a3f5f\",\"arrowhead\":0,\"arrowwidth\":1},\"geo\":{\"bgcolor\":\"white\",\"landcolor\":\"#E5ECF6\",\"subunitcolor\":\"white\",\"showland\":true,\"showlakes\":true,\"lakecolor\":\"white\"},\"title\":{\"x\":0.05},\"mapbox\":{\"style\":\"light\"}}},\"xaxis\":{\"anchor\":\"y\",\"domain\":[0.0,1.0],\"title\":{\"text\":\"log Time (s)\"}},\"yaxis\":{\"anchor\":\"x\",\"domain\":[0.0,1.0],\"title\":{\"text\":\"Mag\"}},\"legend\":{\"title\":{\"text\":\"color\"},\"tracegroupgap\":0},\"title\":{\"text\":\"C:/Users/biagi/Desktop/LCs to inspect deltat/CLEAN_GRBs_MAGNITUDES_December2022/Debugging\\\\970508A_iauc_gcn_mag_regatheredKawabata_recheckedBiagio.txt_RESCALED\"}},                        {\"responsive\": true}                    ).then(function(){\n",
       "                            \n",
       "var gd = document.getElementById('f8b80811-167a-4399-b100-ba7f47b64488');\n",
       "var x = new MutationObserver(function (mutations, observer) {{\n",
       "        var display = window.getComputedStyle(gd).display;\n",
       "        if (!display || display === 'none') {{\n",
       "            console.log([gd, 'removed!']);\n",
       "            Plotly.purge(gd);\n",
       "            observer.disconnect();\n",
       "        }}\n",
       "}});\n",
       "\n",
       "// Listen for the removal of the full notebook cells\n",
       "var notebookContainer = gd.closest('#notebook-container');\n",
       "if (notebookContainer) {{\n",
       "    x.observe(notebookContainer, {childList: true});\n",
       "}}\n",
       "\n",
       "// Listen for the clearing of the current output cell\n",
       "var outputEl = gd.closest('.output');\n",
       "if (outputEl) {{\n",
       "    x.observe(outputEl, {childList: true});\n",
       "}}\n",
       "\n",
       "                        })                };                });            </script>        </div>"
      ]
     },
     "metadata": {},
     "output_type": "display_data"
    },
    {
     "data": {
      "application/vnd.plotly.v1+json": {
       "config": {
        "plotlyServerURL": "https://plot.ly"
       },
       "data": [
        {
         "customdata": [
          [
           "astro-ph9904286"
          ],
          [
           "astro-ph9904286"
          ],
          [
           "astro-ph9904286"
          ],
          [
           "astro-ph9904286"
          ],
          [
           "astro-ph9904286"
          ],
          [
           "132"
          ],
          [
           "132"
          ],
          [
           "astro-ph9904286"
          ],
          [
           "132"
          ],
          [
           "132"
          ],
          [
           "astro-ph9904286"
          ],
          [
           "astro-ph9904286"
          ]
         ],
         "error_y": {
          "array": [
           0.19,
           0.04,
           0.03,
           0.03,
           0.04,
           0.2,
           0.2,
           0.29,
           0.3,
           0.2,
           0.06,
           0.12
          ]
         },
         "hovertemplate": "color=I (12)<br>x=%{x}<br>y=%{y}<br>Source=%{customdata[0]}<extra></extra>",
         "legendgroup": "I (12)",
         "marker": {
          "color": "#636efa",
          "symbol": "circle"
         },
         "mode": "markers",
         "name": "I (12)",
         "orientation": "v",
         "showlegend": true,
         "type": "scatter",
         "x": [
          4.536886564416955,
          4.773120601522069,
          4.780648488426736,
          4.788656147918084,
          4.795323764329314,
          4.879715039042671,
          5.011113496338032,
          5.082160398205164,
          5.207752819660333,
          5.449385822113386,
          5.609945331008235,
          6.073565495771438
         ],
         "xaxis": "x",
         "y": [
          -20.07,
          -20.43,
          -20.49,
          -20.54,
          -20.55,
          -20.1,
          -20.6,
          -20.73,
          -20.9,
          -21.3,
          -21.6,
          -21.91
         ],
         "yaxis": "y"
        },
        {
         "customdata": [
          [
           "astro-ph9811455"
          ],
          [
           "astro-ph9811455"
          ],
          [
           "astro-ph9811455"
          ],
          [
           "astro-ph9811455"
          ],
          [
           "astro-ph9811455"
          ],
          [
           "astro-ph9811455"
          ],
          [
           "astro-ph9811455"
          ],
          [
           "astro-ph9808319"
          ],
          [
           "136"
          ],
          [
           "astro-ph9808319"
          ],
          [
           "astro-ph9811455"
          ],
          [
           "136"
          ],
          [
           "astro-ph9811455"
          ],
          [
           "astro-ph9808319"
          ],
          [
           "astro-ph9811455"
          ],
          [
           "136"
          ],
          [
           "astro-ph9811455"
          ],
          [
           "astro-ph9811455"
          ],
          [
           "astro-ph9808319"
          ],
          [
           "astro-ph9808319"
          ],
          [
           "astro-ph9811455"
          ],
          [
           "astro-ph9811455"
          ]
         ],
         "error_y": {
          "array": [
           0.09,
           0.06,
           0.05,
           0.12,
           0.11,
           0.1,
           0.2,
           0.18,
           0.4,
           0.32,
           0.3,
           0.5,
           0.11,
           0.1,
           0.2,
           0.22,
           0.09,
           0.2,
           0.1,
           0.1,
           0.04,
           0.08
          ]
         },
         "hovertemplate": "color=Rc (22)<br>x=%{x}<br>y=%{y}<br>Source=%{customdata[0]}<extra></extra>",
         "legendgroup": "Rc (22)",
         "marker": {
          "color": "#EF553B",
          "symbol": "circle"
         },
         "mode": "markers",
         "name": "Rc (22)",
         "orientation": "v",
         "showlegend": true,
         "type": "scatter",
         "x": [
          4.6015820044568665,
          4.640193136723481,
          4.658698088707615,
          4.815869835969464,
          4.824386202318774,
          4.832738772474437,
          4.848441612000078,
          4.850033257689769,
          5.048585508715266,
          5.196930223849942,
          5.196930223849942,
          5.298130105764736,
          5.330342738068733,
          5.405812340508461,
          5.405812340508461,
          5.471099463862149,
          5.480886145863145,
          5.48606191609675,
          5.773436089799072,
          6.109392573711846,
          6.154298870983053,
          6.265900320769615
         ],
         "xaxis": "x",
         "y": [
          -21,
          -21.04,
          -21.13,
          -21.17,
          -21.35,
          -21.22,
          -21.34,
          -21.28,
          -21.3,
          -21.83,
          -21.8,
          -21.8,
          -22.01,
          -22.06,
          -22.04,
          -22.03,
          -22.21,
          -22.6,
          -22.44,
          -22.63,
          -22.49,
          -22.43
         ],
         "yaxis": "y"
        },
        {
         "customdata": [
          [
           "astro-ph9811455"
          ],
          [
           "astro-ph9904286"
          ],
          [
           "astro-ph9811455"
          ],
          [
           "131"
          ],
          [
           "astro-ph9811455"
          ],
          [
           "astro-ph9904286"
          ],
          [
           "astro-ph9904286"
          ],
          [
           "astro-ph9904286"
          ],
          [
           "astro-ph9808319"
          ],
          [
           "astro-ph9811455"
          ],
          [
           "astro-ph9904286"
          ],
          [
           "astro-ph9904286"
          ],
          [
           "astro-ph9904286"
          ],
          [
           "astro-ph9904286"
          ],
          [
           "astro-ph9904286"
          ],
          [
           "astro-ph9904286"
          ],
          [
           "astro-ph9808319"
          ],
          [
           "astro-ph9811455"
          ],
          [
           "astro-ph9811455"
          ]
         ],
         "error_y": {
          "array": [
           0.1,
           0.04,
           0.3,
           0.2,
           0.2,
           0.14,
           0.12,
           0.22,
           0.13,
           0.13,
           0.08,
           0.12,
           0.2,
           0.21,
           0.15,
           0.12,
           0.2,
           0.2,
           0.25
          ]
         },
         "hovertemplate": "color=H (19)<br>x=%{x}<br>y=%{y}<br>Source=%{customdata[0]}<extra></extra>",
         "legendgroup": "H (19)",
         "marker": {
          "color": "#00cc96",
          "symbol": "circle"
         },
         "mode": "markers",
         "name": "H (19)",
         "orientation": "v",
         "showlegend": true,
         "type": "scatter",
         "x": [
          4.603458337409067,
          4.827743948885873,
          4.838219221907626,
          5.042161889237426,
          5.328234814478602,
          5.373384684975316,
          5.532940283462585,
          5.608653308136012,
          5.62807714800459,
          5.628111915122997,
          5.628254022342121,
          5.706883277577369,
          5.763847110073486,
          5.8305777630737845,
          5.9729610340030685,
          6.234065291016489,
          6.4788343481444635,
          6.4788343481444635,
          6.498502566007581
         ],
         "xaxis": "x",
         "y": [
          -17.3,
          -17.61,
          -17.9,
          -17.55,
          -18.85,
          -18.86,
          -19.25,
          -19.27,
          -19.56,
          -19.56,
          -19.54,
          -19.76,
          -20.09,
          -19.98,
          -20,
          -20.04,
          -20.3,
          -20.3,
          -20.5
         ],
         "yaxis": "y"
        },
        {
         "customdata": [
          [
           "142"
          ],
          [
           "130"
          ],
          [
           "142"
          ],
          [
           "142"
          ],
          [
           "144"
          ],
          [
           "astro-ph9904286"
          ],
          [
           "142"
          ],
          [
           "142"
          ],
          [
           "142"
          ],
          [
           "130"
          ],
          [
           "142"
          ],
          [
           "142"
          ]
         ],
         "error_y": {
          "array": [
           0.2,
           0.1,
           0.2,
           0.2,
           0.083,
           0.08,
           0.2,
           0.2,
           0.2,
           0.2,
           0.2,
           0.2
          ]
         },
         "hovertemplate": "color=R (12)<br>x=%{x}<br>y=%{y}<br>Source=%{customdata[0]}<extra></extra>",
         "legendgroup": "R (12)",
         "marker": {
          "color": "#ab63fa",
          "symbol": "circle"
         },
         "mode": "markers",
         "name": "R (12)",
         "orientation": "v",
         "showlegend": true,
         "type": "scatter",
         "x": [
          4.8995491203454975,
          4.909829783798971,
          4.921673992588559,
          4.941439872499545,
          5.0335644762683005,
          5.161421911307407,
          5.216044441253157,
          5.229523143567889,
          5.240229649716505,
          5.4069844662785025,
          5.414416760455088,
          5.536441015689515
         ],
         "xaxis": "x",
         "y": [
          -21,
          -20.6,
          -21.1,
          -21.6,
          -21.287,
          -21.84,
          -21.5,
          -21.2,
          -21.1,
          -22.1,
          -21.1,
          -22.45
         ],
         "yaxis": "y"
        },
        {
         "customdata": [
          [
           "astro-ph9808319"
          ],
          [
           "astro-ph9808319"
          ],
          [
           "astro-ph9808319"
          ]
         ],
         "error_y": {
          "array": [
           0.1,
           0.1,
           0.15
          ]
         },
         "hovertemplate": "color=B (3)<br>x=%{x}<br>y=%{y}<br>Source=%{customdata[0]}<extra></extra>",
         "legendgroup": "B (3)",
         "marker": {
          "color": "#FFA15A",
          "symbol": "circle"
         },
         "mode": "markers",
         "name": "B (3)",
         "orientation": "v",
         "showlegend": true,
         "type": "scatter",
         "x": [
          5.405812340508461,
          5.774698674476167,
          6.109975203557153
         ],
         "xaxis": "x",
         "y": [
          -23.05,
          -23.09,
          -23.17
         ],
         "yaxis": "y"
        },
        {
         "customdata": [
          [
           "astro-ph9904286"
          ],
          [
           "astro-ph9808319"
          ],
          [
           "astro-ph9904286"
          ],
          [
           "astro-ph9904286"
          ],
          [
           "astro-ph9904286"
          ],
          [
           "astro-ph9904286"
          ],
          [
           "astro-ph9904286"
          ],
          [
           "astro-ph9808319"
          ]
         ],
         "error_y": {
          "array": [
           0.13,
           0.1,
           0.24,
           0.09,
           0.27,
           0.14,
           0.11,
           0.15
          ]
         },
         "hovertemplate": "color=K (8)<br>x=%{x}<br>y=%{y}<br>Source=%{customdata[0]}<extra></extra>",
         "legendgroup": "K (8)",
         "marker": {
          "color": "#19d3f3",
          "symbol": "circle"
         },
         "mode": "markers",
         "name": "K (8)",
         "orientation": "v",
         "showlegend": true,
         "type": "scatter",
         "x": [
          5.534367565983883,
          5.625329945884627,
          5.633084490772176,
          5.711282385493689,
          5.8322923501477515,
          5.97332047130303,
          6.235747558839938,
          6.4785851078156655
         ],
         "xaxis": "x",
         "y": [
          -18.36,
          -18.78,
          -18.77,
          -18.94,
          -19.47,
          -19.36,
          -19.28,
          -19.61
         ],
         "yaxis": "y"
        },
        {
         "customdata": [
          [
           "astro-ph9904286"
          ],
          [
           "astro-ph9904286"
          ],
          [
           "astro-ph9904286"
          ]
         ],
         "error_y": {
          "array": [
           0.35,
           0.16,
           0.3
          ]
         },
         "hovertemplate": "color=Ks (3)<br>x=%{x}<br>y=%{y}<br>Source=%{customdata[0]}<extra></extra>",
         "legendgroup": "Ks (3)",
         "marker": {
          "color": "#FF6692",
          "symbol": "circle"
         },
         "mode": "markers",
         "name": "Ks (3)",
         "orientation": "v",
         "showlegend": true,
         "type": "scatter",
         "x": [
          5.61187512526067,
          5.767387428061489,
          5.92567196319857
         ],
         "xaxis": "x",
         "y": [
          -18.14,
          -19.24,
          -18.76
         ],
         "yaxis": "y"
        },
        {
         "customdata": [
          [
           "astro-ph9904286"
          ],
          [
           "astro-ph9904286"
          ],
          [
           "astro-ph9808319"
          ],
          [
           "astro-ph9904286"
          ],
          [
           "astro-ph9808319"
          ]
         ],
         "error_y": {
          "array": [
           0.08,
           0.34,
           0.1,
           0.12,
           0.1
          ]
         },
         "hovertemplate": "color=V (5)<br>x=%{x}<br>y=%{y}<br>Source=%{customdata[0]}<extra></extra>",
         "legendgroup": "V (5)",
         "marker": {
          "color": "#B6E880",
          "symbol": "circle"
         },
         "mode": "markers",
         "name": "V (5)",
         "orientation": "v",
         "showlegend": true,
         "type": "scatter",
         "x": [
          5.6157102296610075,
          5.767708590087306,
          5.775328593003278,
          6.073185141992973,
          6.109975203557153
         ],
         "xaxis": "x",
         "y": [
          -22.64,
          -22.87,
          -22.94,
          -22.68,
          -23.01
         ],
         "yaxis": "y"
        },
        {
         "customdata": [
          [
           "astro-ph9808319"
          ],
          [
           "astro-ph9904286"
          ],
          [
           "astro-ph9904286"
          ],
          [
           "astro-ph9904286"
          ],
          [
           "astro-ph9904286"
          ],
          [
           "astro-ph9808319"
          ]
         ],
         "error_y": {
          "array": [
           0.15,
           0.1,
           0.12,
           0.13,
           0.12,
           0.15
          ]
         },
         "hovertemplate": "color=J (6)<br>x=%{x}<br>y=%{y}<br>Source=%{customdata[0]}<extra></extra>",
         "legendgroup": "J (6)",
         "marker": {
          "color": "#FF97FF",
          "symbol": "circle"
         },
         "mode": "markers",
         "name": "J (6)",
         "orientation": "v",
         "showlegend": true,
         "type": "scatter",
         "x": [
          5.629928199885951,
          5.630895481421989,
          5.703554455078565,
          5.932037221453473,
          6.012842706057246,
          6.478958914690016
         ],
         "xaxis": "x",
         "y": [
          -20.45,
          -20.28,
          -20.4,
          -20.42,
          -20.56,
          -21.02
         ],
         "yaxis": "y"
        },
        {
         "customdata": [
          [
           "astro-ph9904286"
          ],
          [
           "astro-ph9904286"
          ]
         ],
         "error_y": {
          "array": [
           0.16,
           0.41
          ]
         },
         "hovertemplate": "color=i_Gunn (2)<br>x=%{x}<br>y=%{y}<br>Source=%{customdata[0]}<extra></extra>",
         "legendgroup": "i_Gunn (2)",
         "marker": {
          "color": "#FECB52",
          "symbol": "circle"
         },
         "mode": "markers",
         "name": "i_Gunn (2)",
         "orientation": "v",
         "showlegend": true,
         "type": "scatter",
         "x": [
          5.762099118035203,
          5.9267395107212035
         ],
         "xaxis": "x",
         "y": [
          -21.62,
          -21.47
         ],
         "yaxis": "y"
        },
        {
         "customdata": [
          [
           "astro-ph9808319"
          ],
          [
           "astro-ph9808319"
          ]
         ],
         "error_y": {
          "array": [
           0.1,
           0.1
          ]
         },
         "hovertemplate": "color=Ic (2)<br>x=%{x}<br>y=%{y}<br>Source=%{customdata[0]}<extra></extra>",
         "legendgroup": "Ic (2)",
         "marker": {
          "color": "#636efa",
          "symbol": "circle"
         },
         "mode": "markers",
         "name": "Ic (2)",
         "orientation": "v",
         "showlegend": true,
         "type": "scatter",
         "x": [
          5.775956871703774,
          6.110266394087105
         ],
         "xaxis": "x",
         "y": [
          -21.61,
          -21.86
         ],
         "yaxis": "y"
        }
       ],
       "layout": {
        "legend": {
         "title": {
          "text": "color"
         },
         "tracegroupgap": 0
        },
        "template": {
         "data": {
          "bar": [
           {
            "error_x": {
             "color": "#2a3f5f"
            },
            "error_y": {
             "color": "#2a3f5f"
            },
            "marker": {
             "line": {
              "color": "#E5ECF6",
              "width": 0.5
             },
             "pattern": {
              "fillmode": "overlay",
              "size": 10,
              "solidity": 0.2
             }
            },
            "type": "bar"
           }
          ],
          "barpolar": [
           {
            "marker": {
             "line": {
              "color": "#E5ECF6",
              "width": 0.5
             },
             "pattern": {
              "fillmode": "overlay",
              "size": 10,
              "solidity": 0.2
             }
            },
            "type": "barpolar"
           }
          ],
          "carpet": [
           {
            "aaxis": {
             "endlinecolor": "#2a3f5f",
             "gridcolor": "white",
             "linecolor": "white",
             "minorgridcolor": "white",
             "startlinecolor": "#2a3f5f"
            },
            "baxis": {
             "endlinecolor": "#2a3f5f",
             "gridcolor": "white",
             "linecolor": "white",
             "minorgridcolor": "white",
             "startlinecolor": "#2a3f5f"
            },
            "type": "carpet"
           }
          ],
          "choropleth": [
           {
            "colorbar": {
             "outlinewidth": 0,
             "ticks": ""
            },
            "type": "choropleth"
           }
          ],
          "contour": [
           {
            "colorbar": {
             "outlinewidth": 0,
             "ticks": ""
            },
            "colorscale": [
             [
              0,
              "#0d0887"
             ],
             [
              0.1111111111111111,
              "#46039f"
             ],
             [
              0.2222222222222222,
              "#7201a8"
             ],
             [
              0.3333333333333333,
              "#9c179e"
             ],
             [
              0.4444444444444444,
              "#bd3786"
             ],
             [
              0.5555555555555556,
              "#d8576b"
             ],
             [
              0.6666666666666666,
              "#ed7953"
             ],
             [
              0.7777777777777778,
              "#fb9f3a"
             ],
             [
              0.8888888888888888,
              "#fdca26"
             ],
             [
              1,
              "#f0f921"
             ]
            ],
            "type": "contour"
           }
          ],
          "contourcarpet": [
           {
            "colorbar": {
             "outlinewidth": 0,
             "ticks": ""
            },
            "type": "contourcarpet"
           }
          ],
          "heatmap": [
           {
            "colorbar": {
             "outlinewidth": 0,
             "ticks": ""
            },
            "colorscale": [
             [
              0,
              "#0d0887"
             ],
             [
              0.1111111111111111,
              "#46039f"
             ],
             [
              0.2222222222222222,
              "#7201a8"
             ],
             [
              0.3333333333333333,
              "#9c179e"
             ],
             [
              0.4444444444444444,
              "#bd3786"
             ],
             [
              0.5555555555555556,
              "#d8576b"
             ],
             [
              0.6666666666666666,
              "#ed7953"
             ],
             [
              0.7777777777777778,
              "#fb9f3a"
             ],
             [
              0.8888888888888888,
              "#fdca26"
             ],
             [
              1,
              "#f0f921"
             ]
            ],
            "type": "heatmap"
           }
          ],
          "heatmapgl": [
           {
            "colorbar": {
             "outlinewidth": 0,
             "ticks": ""
            },
            "colorscale": [
             [
              0,
              "#0d0887"
             ],
             [
              0.1111111111111111,
              "#46039f"
             ],
             [
              0.2222222222222222,
              "#7201a8"
             ],
             [
              0.3333333333333333,
              "#9c179e"
             ],
             [
              0.4444444444444444,
              "#bd3786"
             ],
             [
              0.5555555555555556,
              "#d8576b"
             ],
             [
              0.6666666666666666,
              "#ed7953"
             ],
             [
              0.7777777777777778,
              "#fb9f3a"
             ],
             [
              0.8888888888888888,
              "#fdca26"
             ],
             [
              1,
              "#f0f921"
             ]
            ],
            "type": "heatmapgl"
           }
          ],
          "histogram": [
           {
            "marker": {
             "pattern": {
              "fillmode": "overlay",
              "size": 10,
              "solidity": 0.2
             }
            },
            "type": "histogram"
           }
          ],
          "histogram2d": [
           {
            "colorbar": {
             "outlinewidth": 0,
             "ticks": ""
            },
            "colorscale": [
             [
              0,
              "#0d0887"
             ],
             [
              0.1111111111111111,
              "#46039f"
             ],
             [
              0.2222222222222222,
              "#7201a8"
             ],
             [
              0.3333333333333333,
              "#9c179e"
             ],
             [
              0.4444444444444444,
              "#bd3786"
             ],
             [
              0.5555555555555556,
              "#d8576b"
             ],
             [
              0.6666666666666666,
              "#ed7953"
             ],
             [
              0.7777777777777778,
              "#fb9f3a"
             ],
             [
              0.8888888888888888,
              "#fdca26"
             ],
             [
              1,
              "#f0f921"
             ]
            ],
            "type": "histogram2d"
           }
          ],
          "histogram2dcontour": [
           {
            "colorbar": {
             "outlinewidth": 0,
             "ticks": ""
            },
            "colorscale": [
             [
              0,
              "#0d0887"
             ],
             [
              0.1111111111111111,
              "#46039f"
             ],
             [
              0.2222222222222222,
              "#7201a8"
             ],
             [
              0.3333333333333333,
              "#9c179e"
             ],
             [
              0.4444444444444444,
              "#bd3786"
             ],
             [
              0.5555555555555556,
              "#d8576b"
             ],
             [
              0.6666666666666666,
              "#ed7953"
             ],
             [
              0.7777777777777778,
              "#fb9f3a"
             ],
             [
              0.8888888888888888,
              "#fdca26"
             ],
             [
              1,
              "#f0f921"
             ]
            ],
            "type": "histogram2dcontour"
           }
          ],
          "mesh3d": [
           {
            "colorbar": {
             "outlinewidth": 0,
             "ticks": ""
            },
            "type": "mesh3d"
           }
          ],
          "parcoords": [
           {
            "line": {
             "colorbar": {
              "outlinewidth": 0,
              "ticks": ""
             }
            },
            "type": "parcoords"
           }
          ],
          "pie": [
           {
            "automargin": true,
            "type": "pie"
           }
          ],
          "scatter": [
           {
            "fillpattern": {
             "fillmode": "overlay",
             "size": 10,
             "solidity": 0.2
            },
            "type": "scatter"
           }
          ],
          "scatter3d": [
           {
            "line": {
             "colorbar": {
              "outlinewidth": 0,
              "ticks": ""
             }
            },
            "marker": {
             "colorbar": {
              "outlinewidth": 0,
              "ticks": ""
             }
            },
            "type": "scatter3d"
           }
          ],
          "scattercarpet": [
           {
            "marker": {
             "colorbar": {
              "outlinewidth": 0,
              "ticks": ""
             }
            },
            "type": "scattercarpet"
           }
          ],
          "scattergeo": [
           {
            "marker": {
             "colorbar": {
              "outlinewidth": 0,
              "ticks": ""
             }
            },
            "type": "scattergeo"
           }
          ],
          "scattergl": [
           {
            "marker": {
             "colorbar": {
              "outlinewidth": 0,
              "ticks": ""
             }
            },
            "type": "scattergl"
           }
          ],
          "scattermapbox": [
           {
            "marker": {
             "colorbar": {
              "outlinewidth": 0,
              "ticks": ""
             }
            },
            "type": "scattermapbox"
           }
          ],
          "scatterpolar": [
           {
            "marker": {
             "colorbar": {
              "outlinewidth": 0,
              "ticks": ""
             }
            },
            "type": "scatterpolar"
           }
          ],
          "scatterpolargl": [
           {
            "marker": {
             "colorbar": {
              "outlinewidth": 0,
              "ticks": ""
             }
            },
            "type": "scatterpolargl"
           }
          ],
          "scatterternary": [
           {
            "marker": {
             "colorbar": {
              "outlinewidth": 0,
              "ticks": ""
             }
            },
            "type": "scatterternary"
           }
          ],
          "surface": [
           {
            "colorbar": {
             "outlinewidth": 0,
             "ticks": ""
            },
            "colorscale": [
             [
              0,
              "#0d0887"
             ],
             [
              0.1111111111111111,
              "#46039f"
             ],
             [
              0.2222222222222222,
              "#7201a8"
             ],
             [
              0.3333333333333333,
              "#9c179e"
             ],
             [
              0.4444444444444444,
              "#bd3786"
             ],
             [
              0.5555555555555556,
              "#d8576b"
             ],
             [
              0.6666666666666666,
              "#ed7953"
             ],
             [
              0.7777777777777778,
              "#fb9f3a"
             ],
             [
              0.8888888888888888,
              "#fdca26"
             ],
             [
              1,
              "#f0f921"
             ]
            ],
            "type": "surface"
           }
          ],
          "table": [
           {
            "cells": {
             "fill": {
              "color": "#EBF0F8"
             },
             "line": {
              "color": "white"
             }
            },
            "header": {
             "fill": {
              "color": "#C8D4E3"
             },
             "line": {
              "color": "white"
             }
            },
            "type": "table"
           }
          ]
         },
         "layout": {
          "annotationdefaults": {
           "arrowcolor": "#2a3f5f",
           "arrowhead": 0,
           "arrowwidth": 1
          },
          "autotypenumbers": "strict",
          "coloraxis": {
           "colorbar": {
            "outlinewidth": 0,
            "ticks": ""
           }
          },
          "colorscale": {
           "diverging": [
            [
             0,
             "#8e0152"
            ],
            [
             0.1,
             "#c51b7d"
            ],
            [
             0.2,
             "#de77ae"
            ],
            [
             0.3,
             "#f1b6da"
            ],
            [
             0.4,
             "#fde0ef"
            ],
            [
             0.5,
             "#f7f7f7"
            ],
            [
             0.6,
             "#e6f5d0"
            ],
            [
             0.7,
             "#b8e186"
            ],
            [
             0.8,
             "#7fbc41"
            ],
            [
             0.9,
             "#4d9221"
            ],
            [
             1,
             "#276419"
            ]
           ],
           "sequential": [
            [
             0,
             "#0d0887"
            ],
            [
             0.1111111111111111,
             "#46039f"
            ],
            [
             0.2222222222222222,
             "#7201a8"
            ],
            [
             0.3333333333333333,
             "#9c179e"
            ],
            [
             0.4444444444444444,
             "#bd3786"
            ],
            [
             0.5555555555555556,
             "#d8576b"
            ],
            [
             0.6666666666666666,
             "#ed7953"
            ],
            [
             0.7777777777777778,
             "#fb9f3a"
            ],
            [
             0.8888888888888888,
             "#fdca26"
            ],
            [
             1,
             "#f0f921"
            ]
           ],
           "sequentialminus": [
            [
             0,
             "#0d0887"
            ],
            [
             0.1111111111111111,
             "#46039f"
            ],
            [
             0.2222222222222222,
             "#7201a8"
            ],
            [
             0.3333333333333333,
             "#9c179e"
            ],
            [
             0.4444444444444444,
             "#bd3786"
            ],
            [
             0.5555555555555556,
             "#d8576b"
            ],
            [
             0.6666666666666666,
             "#ed7953"
            ],
            [
             0.7777777777777778,
             "#fb9f3a"
            ],
            [
             0.8888888888888888,
             "#fdca26"
            ],
            [
             1,
             "#f0f921"
            ]
           ]
          },
          "colorway": [
           "#636efa",
           "#EF553B",
           "#00cc96",
           "#ab63fa",
           "#FFA15A",
           "#19d3f3",
           "#FF6692",
           "#B6E880",
           "#FF97FF",
           "#FECB52"
          ],
          "font": {
           "color": "#2a3f5f"
          },
          "geo": {
           "bgcolor": "white",
           "lakecolor": "white",
           "landcolor": "#E5ECF6",
           "showlakes": true,
           "showland": true,
           "subunitcolor": "white"
          },
          "hoverlabel": {
           "align": "left"
          },
          "hovermode": "closest",
          "mapbox": {
           "style": "light"
          },
          "paper_bgcolor": "white",
          "plot_bgcolor": "#E5ECF6",
          "polar": {
           "angularaxis": {
            "gridcolor": "white",
            "linecolor": "white",
            "ticks": ""
           },
           "bgcolor": "#E5ECF6",
           "radialaxis": {
            "gridcolor": "white",
            "linecolor": "white",
            "ticks": ""
           }
          },
          "scene": {
           "xaxis": {
            "backgroundcolor": "#E5ECF6",
            "gridcolor": "white",
            "gridwidth": 2,
            "linecolor": "white",
            "showbackground": true,
            "ticks": "",
            "zerolinecolor": "white"
           },
           "yaxis": {
            "backgroundcolor": "#E5ECF6",
            "gridcolor": "white",
            "gridwidth": 2,
            "linecolor": "white",
            "showbackground": true,
            "ticks": "",
            "zerolinecolor": "white"
           },
           "zaxis": {
            "backgroundcolor": "#E5ECF6",
            "gridcolor": "white",
            "gridwidth": 2,
            "linecolor": "white",
            "showbackground": true,
            "ticks": "",
            "zerolinecolor": "white"
           }
          },
          "shapedefaults": {
           "line": {
            "color": "#2a3f5f"
           }
          },
          "ternary": {
           "aaxis": {
            "gridcolor": "white",
            "linecolor": "white",
            "ticks": ""
           },
           "baxis": {
            "gridcolor": "white",
            "linecolor": "white",
            "ticks": ""
           },
           "bgcolor": "#E5ECF6",
           "caxis": {
            "gridcolor": "white",
            "linecolor": "white",
            "ticks": ""
           }
          },
          "title": {
           "x": 0.05
          },
          "xaxis": {
           "automargin": true,
           "gridcolor": "white",
           "linecolor": "white",
           "ticks": "",
           "title": {
            "standoff": 15
           },
           "zerolinecolor": "white",
           "zerolinewidth": 2
          },
          "yaxis": {
           "automargin": true,
           "gridcolor": "white",
           "linecolor": "white",
           "ticks": "",
           "title": {
            "standoff": 15
           },
           "zerolinecolor": "white",
           "zerolinewidth": 2
          }
         }
        },
        "title": {
         "text": "C:/Users/biagi/Desktop/LCs to inspect deltat/CLEAN_GRBs_MAGNITUDES_December2022/Debugging\\980703A_gcn_arXiv_mag_regatheredBiagio.txt"
        },
        "xaxis": {
         "anchor": "y",
         "domain": [
          0,
          1
         ],
         "title": {
          "text": "log Time (s)"
         }
        },
        "yaxis": {
         "anchor": "x",
         "domain": [
          0,
          1
         ],
         "title": {
          "text": "Mag"
         }
        }
       }
      },
      "text/html": [
       "<div>                            <div id=\"83e87a9e-f542-449a-a40e-ad756509aa1b\" class=\"plotly-graph-div\" style=\"height:525px; width:100%;\"></div>            <script type=\"text/javascript\">                require([\"plotly\"], function(Plotly) {                    window.PLOTLYENV=window.PLOTLYENV || {};                                    if (document.getElementById(\"83e87a9e-f542-449a-a40e-ad756509aa1b\")) {                    Plotly.newPlot(                        \"83e87a9e-f542-449a-a40e-ad756509aa1b\",                        [{\"customdata\":[[\"astro-ph9904286\"],[\"astro-ph9904286\"],[\"astro-ph9904286\"],[\"astro-ph9904286\"],[\"astro-ph9904286\"],[\"132\"],[\"132\"],[\"astro-ph9904286\"],[\"132\"],[\"132\"],[\"astro-ph9904286\"],[\"astro-ph9904286\"]],\"error_y\":{\"array\":[0.19,0.04,0.03,0.03,0.04,0.2,0.2,0.29,0.3,0.2,0.06,0.12]},\"hovertemplate\":\"color=I (12)<br>x=%{x}<br>y=%{y}<br>Source=%{customdata[0]}<extra></extra>\",\"legendgroup\":\"I (12)\",\"marker\":{\"color\":\"#636efa\",\"symbol\":\"circle\"},\"mode\":\"markers\",\"name\":\"I (12)\",\"orientation\":\"v\",\"showlegend\":true,\"x\":[4.536886564416955,4.773120601522069,4.780648488426736,4.788656147918084,4.795323764329314,4.879715039042671,5.011113496338032,5.082160398205164,5.207752819660333,5.449385822113386,5.609945331008235,6.073565495771438],\"xaxis\":\"x\",\"y\":[-20.07,-20.43,-20.49,-20.54,-20.55,-20.1,-20.6,-20.73,-20.9,-21.3,-21.6,-21.91],\"yaxis\":\"y\",\"type\":\"scatter\"},{\"customdata\":[[\"astro-ph9811455\"],[\"astro-ph9811455\"],[\"astro-ph9811455\"],[\"astro-ph9811455\"],[\"astro-ph9811455\"],[\"astro-ph9811455\"],[\"astro-ph9811455\"],[\"astro-ph9808319\"],[\"136\"],[\"astro-ph9808319\"],[\"astro-ph9811455\"],[\"136\"],[\"astro-ph9811455\"],[\"astro-ph9808319\"],[\"astro-ph9811455\"],[\"136\"],[\"astro-ph9811455\"],[\"astro-ph9811455\"],[\"astro-ph9808319\"],[\"astro-ph9808319\"],[\"astro-ph9811455\"],[\"astro-ph9811455\"]],\"error_y\":{\"array\":[0.09,0.06,0.05,0.12,0.11,0.1,0.2,0.18,0.4,0.32,0.3,0.5,0.11,0.1,0.2,0.22,0.09,0.2,0.1,0.1,0.04,0.08]},\"hovertemplate\":\"color=Rc (22)<br>x=%{x}<br>y=%{y}<br>Source=%{customdata[0]}<extra></extra>\",\"legendgroup\":\"Rc (22)\",\"marker\":{\"color\":\"#EF553B\",\"symbol\":\"circle\"},\"mode\":\"markers\",\"name\":\"Rc (22)\",\"orientation\":\"v\",\"showlegend\":true,\"x\":[4.6015820044568665,4.640193136723481,4.658698088707615,4.815869835969464,4.824386202318774,4.832738772474437,4.848441612000078,4.850033257689769,5.048585508715266,5.196930223849942,5.196930223849942,5.298130105764736,5.330342738068733,5.405812340508461,5.405812340508461,5.471099463862149,5.480886145863145,5.48606191609675,5.773436089799072,6.109392573711846,6.154298870983053,6.265900320769615],\"xaxis\":\"x\",\"y\":[-21.0,-21.04,-21.13,-21.17,-21.35,-21.22,-21.34,-21.28,-21.3,-21.83,-21.8,-21.8,-22.01,-22.06,-22.04,-22.03,-22.21,-22.6,-22.44,-22.63,-22.49,-22.43],\"yaxis\":\"y\",\"type\":\"scatter\"},{\"customdata\":[[\"astro-ph9811455\"],[\"astro-ph9904286\"],[\"astro-ph9811455\"],[\"131\"],[\"astro-ph9811455\"],[\"astro-ph9904286\"],[\"astro-ph9904286\"],[\"astro-ph9904286\"],[\"astro-ph9808319\"],[\"astro-ph9811455\"],[\"astro-ph9904286\"],[\"astro-ph9904286\"],[\"astro-ph9904286\"],[\"astro-ph9904286\"],[\"astro-ph9904286\"],[\"astro-ph9904286\"],[\"astro-ph9808319\"],[\"astro-ph9811455\"],[\"astro-ph9811455\"]],\"error_y\":{\"array\":[0.1,0.04,0.3,0.2,0.2,0.14,0.12,0.22,0.13,0.13,0.08,0.12,0.2,0.21,0.15,0.12,0.2,0.2,0.25]},\"hovertemplate\":\"color=H (19)<br>x=%{x}<br>y=%{y}<br>Source=%{customdata[0]}<extra></extra>\",\"legendgroup\":\"H (19)\",\"marker\":{\"color\":\"#00cc96\",\"symbol\":\"circle\"},\"mode\":\"markers\",\"name\":\"H (19)\",\"orientation\":\"v\",\"showlegend\":true,\"x\":[4.603458337409067,4.827743948885873,4.838219221907626,5.042161889237426,5.328234814478602,5.373384684975316,5.532940283462585,5.608653308136012,5.62807714800459,5.628111915122997,5.628254022342121,5.706883277577369,5.763847110073486,5.8305777630737845,5.9729610340030685,6.234065291016489,6.4788343481444635,6.4788343481444635,6.498502566007581],\"xaxis\":\"x\",\"y\":[-17.3,-17.61,-17.9,-17.55,-18.85,-18.86,-19.25,-19.27,-19.56,-19.56,-19.54,-19.76,-20.09,-19.98,-20.0,-20.04,-20.3,-20.3,-20.5],\"yaxis\":\"y\",\"type\":\"scatter\"},{\"customdata\":[[\"142\"],[\"130\"],[\"142\"],[\"142\"],[\"144\"],[\"astro-ph9904286\"],[\"142\"],[\"142\"],[\"142\"],[\"130\"],[\"142\"],[\"142\"]],\"error_y\":{\"array\":[0.2,0.1,0.2,0.2,0.083,0.08,0.2,0.2,0.2,0.2,0.2,0.2]},\"hovertemplate\":\"color=R (12)<br>x=%{x}<br>y=%{y}<br>Source=%{customdata[0]}<extra></extra>\",\"legendgroup\":\"R (12)\",\"marker\":{\"color\":\"#ab63fa\",\"symbol\":\"circle\"},\"mode\":\"markers\",\"name\":\"R (12)\",\"orientation\":\"v\",\"showlegend\":true,\"x\":[4.8995491203454975,4.909829783798971,4.921673992588559,4.941439872499545,5.0335644762683005,5.161421911307407,5.216044441253157,5.229523143567889,5.240229649716505,5.4069844662785025,5.414416760455088,5.536441015689515],\"xaxis\":\"x\",\"y\":[-21.0,-20.6,-21.1,-21.6,-21.287,-21.84,-21.5,-21.2,-21.1,-22.1,-21.1,-22.45],\"yaxis\":\"y\",\"type\":\"scatter\"},{\"customdata\":[[\"astro-ph9808319\"],[\"astro-ph9808319\"],[\"astro-ph9808319\"]],\"error_y\":{\"array\":[0.1,0.1,0.15]},\"hovertemplate\":\"color=B (3)<br>x=%{x}<br>y=%{y}<br>Source=%{customdata[0]}<extra></extra>\",\"legendgroup\":\"B (3)\",\"marker\":{\"color\":\"#FFA15A\",\"symbol\":\"circle\"},\"mode\":\"markers\",\"name\":\"B (3)\",\"orientation\":\"v\",\"showlegend\":true,\"x\":[5.405812340508461,5.774698674476167,6.109975203557153],\"xaxis\":\"x\",\"y\":[-23.05,-23.09,-23.17],\"yaxis\":\"y\",\"type\":\"scatter\"},{\"customdata\":[[\"astro-ph9904286\"],[\"astro-ph9808319\"],[\"astro-ph9904286\"],[\"astro-ph9904286\"],[\"astro-ph9904286\"],[\"astro-ph9904286\"],[\"astro-ph9904286\"],[\"astro-ph9808319\"]],\"error_y\":{\"array\":[0.13,0.1,0.24,0.09,0.27,0.14,0.11,0.15]},\"hovertemplate\":\"color=K (8)<br>x=%{x}<br>y=%{y}<br>Source=%{customdata[0]}<extra></extra>\",\"legendgroup\":\"K (8)\",\"marker\":{\"color\":\"#19d3f3\",\"symbol\":\"circle\"},\"mode\":\"markers\",\"name\":\"K (8)\",\"orientation\":\"v\",\"showlegend\":true,\"x\":[5.534367565983883,5.625329945884627,5.633084490772176,5.711282385493689,5.8322923501477515,5.97332047130303,6.235747558839938,6.4785851078156655],\"xaxis\":\"x\",\"y\":[-18.36,-18.78,-18.77,-18.94,-19.47,-19.36,-19.28,-19.61],\"yaxis\":\"y\",\"type\":\"scatter\"},{\"customdata\":[[\"astro-ph9904286\"],[\"astro-ph9904286\"],[\"astro-ph9904286\"]],\"error_y\":{\"array\":[0.35,0.16,0.3]},\"hovertemplate\":\"color=Ks (3)<br>x=%{x}<br>y=%{y}<br>Source=%{customdata[0]}<extra></extra>\",\"legendgroup\":\"Ks (3)\",\"marker\":{\"color\":\"#FF6692\",\"symbol\":\"circle\"},\"mode\":\"markers\",\"name\":\"Ks (3)\",\"orientation\":\"v\",\"showlegend\":true,\"x\":[5.61187512526067,5.767387428061489,5.92567196319857],\"xaxis\":\"x\",\"y\":[-18.14,-19.24,-18.76],\"yaxis\":\"y\",\"type\":\"scatter\"},{\"customdata\":[[\"astro-ph9904286\"],[\"astro-ph9904286\"],[\"astro-ph9808319\"],[\"astro-ph9904286\"],[\"astro-ph9808319\"]],\"error_y\":{\"array\":[0.08,0.34,0.1,0.12,0.1]},\"hovertemplate\":\"color=V (5)<br>x=%{x}<br>y=%{y}<br>Source=%{customdata[0]}<extra></extra>\",\"legendgroup\":\"V (5)\",\"marker\":{\"color\":\"#B6E880\",\"symbol\":\"circle\"},\"mode\":\"markers\",\"name\":\"V (5)\",\"orientation\":\"v\",\"showlegend\":true,\"x\":[5.6157102296610075,5.767708590087306,5.775328593003278,6.073185141992973,6.109975203557153],\"xaxis\":\"x\",\"y\":[-22.64,-22.87,-22.94,-22.68,-23.01],\"yaxis\":\"y\",\"type\":\"scatter\"},{\"customdata\":[[\"astro-ph9808319\"],[\"astro-ph9904286\"],[\"astro-ph9904286\"],[\"astro-ph9904286\"],[\"astro-ph9904286\"],[\"astro-ph9808319\"]],\"error_y\":{\"array\":[0.15,0.1,0.12,0.13,0.12,0.15]},\"hovertemplate\":\"color=J (6)<br>x=%{x}<br>y=%{y}<br>Source=%{customdata[0]}<extra></extra>\",\"legendgroup\":\"J (6)\",\"marker\":{\"color\":\"#FF97FF\",\"symbol\":\"circle\"},\"mode\":\"markers\",\"name\":\"J (6)\",\"orientation\":\"v\",\"showlegend\":true,\"x\":[5.629928199885951,5.630895481421989,5.703554455078565,5.932037221453473,6.012842706057246,6.478958914690016],\"xaxis\":\"x\",\"y\":[-20.45,-20.28,-20.4,-20.42,-20.56,-21.02],\"yaxis\":\"y\",\"type\":\"scatter\"},{\"customdata\":[[\"astro-ph9904286\"],[\"astro-ph9904286\"]],\"error_y\":{\"array\":[0.16,0.41]},\"hovertemplate\":\"color=i_Gunn (2)<br>x=%{x}<br>y=%{y}<br>Source=%{customdata[0]}<extra></extra>\",\"legendgroup\":\"i_Gunn (2)\",\"marker\":{\"color\":\"#FECB52\",\"symbol\":\"circle\"},\"mode\":\"markers\",\"name\":\"i_Gunn (2)\",\"orientation\":\"v\",\"showlegend\":true,\"x\":[5.762099118035203,5.9267395107212035],\"xaxis\":\"x\",\"y\":[-21.62,-21.47],\"yaxis\":\"y\",\"type\":\"scatter\"},{\"customdata\":[[\"astro-ph9808319\"],[\"astro-ph9808319\"]],\"error_y\":{\"array\":[0.1,0.1]},\"hovertemplate\":\"color=Ic (2)<br>x=%{x}<br>y=%{y}<br>Source=%{customdata[0]}<extra></extra>\",\"legendgroup\":\"Ic (2)\",\"marker\":{\"color\":\"#636efa\",\"symbol\":\"circle\"},\"mode\":\"markers\",\"name\":\"Ic (2)\",\"orientation\":\"v\",\"showlegend\":true,\"x\":[5.775956871703774,6.110266394087105],\"xaxis\":\"x\",\"y\":[-21.61,-21.86],\"yaxis\":\"y\",\"type\":\"scatter\"}],                        {\"template\":{\"data\":{\"histogram2dcontour\":[{\"type\":\"histogram2dcontour\",\"colorbar\":{\"outlinewidth\":0,\"ticks\":\"\"},\"colorscale\":[[0.0,\"#0d0887\"],[0.1111111111111111,\"#46039f\"],[0.2222222222222222,\"#7201a8\"],[0.3333333333333333,\"#9c179e\"],[0.4444444444444444,\"#bd3786\"],[0.5555555555555556,\"#d8576b\"],[0.6666666666666666,\"#ed7953\"],[0.7777777777777778,\"#fb9f3a\"],[0.8888888888888888,\"#fdca26\"],[1.0,\"#f0f921\"]]}],\"choropleth\":[{\"type\":\"choropleth\",\"colorbar\":{\"outlinewidth\":0,\"ticks\":\"\"}}],\"histogram2d\":[{\"type\":\"histogram2d\",\"colorbar\":{\"outlinewidth\":0,\"ticks\":\"\"},\"colorscale\":[[0.0,\"#0d0887\"],[0.1111111111111111,\"#46039f\"],[0.2222222222222222,\"#7201a8\"],[0.3333333333333333,\"#9c179e\"],[0.4444444444444444,\"#bd3786\"],[0.5555555555555556,\"#d8576b\"],[0.6666666666666666,\"#ed7953\"],[0.7777777777777778,\"#fb9f3a\"],[0.8888888888888888,\"#fdca26\"],[1.0,\"#f0f921\"]]}],\"heatmap\":[{\"type\":\"heatmap\",\"colorbar\":{\"outlinewidth\":0,\"ticks\":\"\"},\"colorscale\":[[0.0,\"#0d0887\"],[0.1111111111111111,\"#46039f\"],[0.2222222222222222,\"#7201a8\"],[0.3333333333333333,\"#9c179e\"],[0.4444444444444444,\"#bd3786\"],[0.5555555555555556,\"#d8576b\"],[0.6666666666666666,\"#ed7953\"],[0.7777777777777778,\"#fb9f3a\"],[0.8888888888888888,\"#fdca26\"],[1.0,\"#f0f921\"]]}],\"heatmapgl\":[{\"type\":\"heatmapgl\",\"colorbar\":{\"outlinewidth\":0,\"ticks\":\"\"},\"colorscale\":[[0.0,\"#0d0887\"],[0.1111111111111111,\"#46039f\"],[0.2222222222222222,\"#7201a8\"],[0.3333333333333333,\"#9c179e\"],[0.4444444444444444,\"#bd3786\"],[0.5555555555555556,\"#d8576b\"],[0.6666666666666666,\"#ed7953\"],[0.7777777777777778,\"#fb9f3a\"],[0.8888888888888888,\"#fdca26\"],[1.0,\"#f0f921\"]]}],\"contourcarpet\":[{\"type\":\"contourcarpet\",\"colorbar\":{\"outlinewidth\":0,\"ticks\":\"\"}}],\"contour\":[{\"type\":\"contour\",\"colorbar\":{\"outlinewidth\":0,\"ticks\":\"\"},\"colorscale\":[[0.0,\"#0d0887\"],[0.1111111111111111,\"#46039f\"],[0.2222222222222222,\"#7201a8\"],[0.3333333333333333,\"#9c179e\"],[0.4444444444444444,\"#bd3786\"],[0.5555555555555556,\"#d8576b\"],[0.6666666666666666,\"#ed7953\"],[0.7777777777777778,\"#fb9f3a\"],[0.8888888888888888,\"#fdca26\"],[1.0,\"#f0f921\"]]}],\"surface\":[{\"type\":\"surface\",\"colorbar\":{\"outlinewidth\":0,\"ticks\":\"\"},\"colorscale\":[[0.0,\"#0d0887\"],[0.1111111111111111,\"#46039f\"],[0.2222222222222222,\"#7201a8\"],[0.3333333333333333,\"#9c179e\"],[0.4444444444444444,\"#bd3786\"],[0.5555555555555556,\"#d8576b\"],[0.6666666666666666,\"#ed7953\"],[0.7777777777777778,\"#fb9f3a\"],[0.8888888888888888,\"#fdca26\"],[1.0,\"#f0f921\"]]}],\"mesh3d\":[{\"type\":\"mesh3d\",\"colorbar\":{\"outlinewidth\":0,\"ticks\":\"\"}}],\"scatter\":[{\"fillpattern\":{\"fillmode\":\"overlay\",\"size\":10,\"solidity\":0.2},\"type\":\"scatter\"}],\"parcoords\":[{\"type\":\"parcoords\",\"line\":{\"colorbar\":{\"outlinewidth\":0,\"ticks\":\"\"}}}],\"scatterpolargl\":[{\"type\":\"scatterpolargl\",\"marker\":{\"colorbar\":{\"outlinewidth\":0,\"ticks\":\"\"}}}],\"bar\":[{\"error_x\":{\"color\":\"#2a3f5f\"},\"error_y\":{\"color\":\"#2a3f5f\"},\"marker\":{\"line\":{\"color\":\"#E5ECF6\",\"width\":0.5},\"pattern\":{\"fillmode\":\"overlay\",\"size\":10,\"solidity\":0.2}},\"type\":\"bar\"}],\"scattergeo\":[{\"type\":\"scattergeo\",\"marker\":{\"colorbar\":{\"outlinewidth\":0,\"ticks\":\"\"}}}],\"scatterpolar\":[{\"type\":\"scatterpolar\",\"marker\":{\"colorbar\":{\"outlinewidth\":0,\"ticks\":\"\"}}}],\"histogram\":[{\"marker\":{\"pattern\":{\"fillmode\":\"overlay\",\"size\":10,\"solidity\":0.2}},\"type\":\"histogram\"}],\"scattergl\":[{\"type\":\"scattergl\",\"marker\":{\"colorbar\":{\"outlinewidth\":0,\"ticks\":\"\"}}}],\"scatter3d\":[{\"type\":\"scatter3d\",\"line\":{\"colorbar\":{\"outlinewidth\":0,\"ticks\":\"\"}},\"marker\":{\"colorbar\":{\"outlinewidth\":0,\"ticks\":\"\"}}}],\"scattermapbox\":[{\"type\":\"scattermapbox\",\"marker\":{\"colorbar\":{\"outlinewidth\":0,\"ticks\":\"\"}}}],\"scatterternary\":[{\"type\":\"scatterternary\",\"marker\":{\"colorbar\":{\"outlinewidth\":0,\"ticks\":\"\"}}}],\"scattercarpet\":[{\"type\":\"scattercarpet\",\"marker\":{\"colorbar\":{\"outlinewidth\":0,\"ticks\":\"\"}}}],\"carpet\":[{\"aaxis\":{\"endlinecolor\":\"#2a3f5f\",\"gridcolor\":\"white\",\"linecolor\":\"white\",\"minorgridcolor\":\"white\",\"startlinecolor\":\"#2a3f5f\"},\"baxis\":{\"endlinecolor\":\"#2a3f5f\",\"gridcolor\":\"white\",\"linecolor\":\"white\",\"minorgridcolor\":\"white\",\"startlinecolor\":\"#2a3f5f\"},\"type\":\"carpet\"}],\"table\":[{\"cells\":{\"fill\":{\"color\":\"#EBF0F8\"},\"line\":{\"color\":\"white\"}},\"header\":{\"fill\":{\"color\":\"#C8D4E3\"},\"line\":{\"color\":\"white\"}},\"type\":\"table\"}],\"barpolar\":[{\"marker\":{\"line\":{\"color\":\"#E5ECF6\",\"width\":0.5},\"pattern\":{\"fillmode\":\"overlay\",\"size\":10,\"solidity\":0.2}},\"type\":\"barpolar\"}],\"pie\":[{\"automargin\":true,\"type\":\"pie\"}]},\"layout\":{\"autotypenumbers\":\"strict\",\"colorway\":[\"#636efa\",\"#EF553B\",\"#00cc96\",\"#ab63fa\",\"#FFA15A\",\"#19d3f3\",\"#FF6692\",\"#B6E880\",\"#FF97FF\",\"#FECB52\"],\"font\":{\"color\":\"#2a3f5f\"},\"hovermode\":\"closest\",\"hoverlabel\":{\"align\":\"left\"},\"paper_bgcolor\":\"white\",\"plot_bgcolor\":\"#E5ECF6\",\"polar\":{\"bgcolor\":\"#E5ECF6\",\"angularaxis\":{\"gridcolor\":\"white\",\"linecolor\":\"white\",\"ticks\":\"\"},\"radialaxis\":{\"gridcolor\":\"white\",\"linecolor\":\"white\",\"ticks\":\"\"}},\"ternary\":{\"bgcolor\":\"#E5ECF6\",\"aaxis\":{\"gridcolor\":\"white\",\"linecolor\":\"white\",\"ticks\":\"\"},\"baxis\":{\"gridcolor\":\"white\",\"linecolor\":\"white\",\"ticks\":\"\"},\"caxis\":{\"gridcolor\":\"white\",\"linecolor\":\"white\",\"ticks\":\"\"}},\"coloraxis\":{\"colorbar\":{\"outlinewidth\":0,\"ticks\":\"\"}},\"colorscale\":{\"sequential\":[[0.0,\"#0d0887\"],[0.1111111111111111,\"#46039f\"],[0.2222222222222222,\"#7201a8\"],[0.3333333333333333,\"#9c179e\"],[0.4444444444444444,\"#bd3786\"],[0.5555555555555556,\"#d8576b\"],[0.6666666666666666,\"#ed7953\"],[0.7777777777777778,\"#fb9f3a\"],[0.8888888888888888,\"#fdca26\"],[1.0,\"#f0f921\"]],\"sequentialminus\":[[0.0,\"#0d0887\"],[0.1111111111111111,\"#46039f\"],[0.2222222222222222,\"#7201a8\"],[0.3333333333333333,\"#9c179e\"],[0.4444444444444444,\"#bd3786\"],[0.5555555555555556,\"#d8576b\"],[0.6666666666666666,\"#ed7953\"],[0.7777777777777778,\"#fb9f3a\"],[0.8888888888888888,\"#fdca26\"],[1.0,\"#f0f921\"]],\"diverging\":[[0,\"#8e0152\"],[0.1,\"#c51b7d\"],[0.2,\"#de77ae\"],[0.3,\"#f1b6da\"],[0.4,\"#fde0ef\"],[0.5,\"#f7f7f7\"],[0.6,\"#e6f5d0\"],[0.7,\"#b8e186\"],[0.8,\"#7fbc41\"],[0.9,\"#4d9221\"],[1,\"#276419\"]]},\"xaxis\":{\"gridcolor\":\"white\",\"linecolor\":\"white\",\"ticks\":\"\",\"title\":{\"standoff\":15},\"zerolinecolor\":\"white\",\"automargin\":true,\"zerolinewidth\":2},\"yaxis\":{\"gridcolor\":\"white\",\"linecolor\":\"white\",\"ticks\":\"\",\"title\":{\"standoff\":15},\"zerolinecolor\":\"white\",\"automargin\":true,\"zerolinewidth\":2},\"scene\":{\"xaxis\":{\"backgroundcolor\":\"#E5ECF6\",\"gridcolor\":\"white\",\"linecolor\":\"white\",\"showbackground\":true,\"ticks\":\"\",\"zerolinecolor\":\"white\",\"gridwidth\":2},\"yaxis\":{\"backgroundcolor\":\"#E5ECF6\",\"gridcolor\":\"white\",\"linecolor\":\"white\",\"showbackground\":true,\"ticks\":\"\",\"zerolinecolor\":\"white\",\"gridwidth\":2},\"zaxis\":{\"backgroundcolor\":\"#E5ECF6\",\"gridcolor\":\"white\",\"linecolor\":\"white\",\"showbackground\":true,\"ticks\":\"\",\"zerolinecolor\":\"white\",\"gridwidth\":2}},\"shapedefaults\":{\"line\":{\"color\":\"#2a3f5f\"}},\"annotationdefaults\":{\"arrowcolor\":\"#2a3f5f\",\"arrowhead\":0,\"arrowwidth\":1},\"geo\":{\"bgcolor\":\"white\",\"landcolor\":\"#E5ECF6\",\"subunitcolor\":\"white\",\"showland\":true,\"showlakes\":true,\"lakecolor\":\"white\"},\"title\":{\"x\":0.05},\"mapbox\":{\"style\":\"light\"}}},\"xaxis\":{\"anchor\":\"y\",\"domain\":[0.0,1.0],\"title\":{\"text\":\"log Time (s)\"}},\"yaxis\":{\"anchor\":\"x\",\"domain\":[0.0,1.0],\"title\":{\"text\":\"Mag\"}},\"legend\":{\"title\":{\"text\":\"color\"},\"tracegroupgap\":0},\"title\":{\"text\":\"C:/Users/biagi/Desktop/LCs to inspect deltat/CLEAN_GRBs_MAGNITUDES_December2022/Debugging\\\\980703A_gcn_arXiv_mag_regatheredBiagio.txt\"}},                        {\"responsive\": true}                    ).then(function(){\n",
       "                            \n",
       "var gd = document.getElementById('83e87a9e-f542-449a-a40e-ad756509aa1b');\n",
       "var x = new MutationObserver(function (mutations, observer) {{\n",
       "        var display = window.getComputedStyle(gd).display;\n",
       "        if (!display || display === 'none') {{\n",
       "            console.log([gd, 'removed!']);\n",
       "            Plotly.purge(gd);\n",
       "            observer.disconnect();\n",
       "        }}\n",
       "}});\n",
       "\n",
       "// Listen for the removal of the full notebook cells\n",
       "var notebookContainer = gd.closest('#notebook-container');\n",
       "if (notebookContainer) {{\n",
       "    x.observe(notebookContainer, {childList: true});\n",
       "}}\n",
       "\n",
       "// Listen for the clearing of the current output cell\n",
       "var outputEl = gd.closest('.output');\n",
       "if (outputEl) {{\n",
       "    x.observe(outputEl, {childList: true});\n",
       "}}\n",
       "\n",
       "                        })                };                });            </script>        </div>"
      ]
     },
     "metadata": {},
     "output_type": "display_data"
    },
    {
     "name": "stdout",
     "output_type": "stream",
     "text": [
      "The most numerous filter of this GRB:  Rc , with 22 occurrences\n",
      "The second most numerous filter of this GRB:  H , with 19 occurrences\n"
     ]
    },
    {
     "data": {
      "application/vnd.plotly.v1+json": {
       "config": {
        "plotlyServerURL": "https://plot.ly"
       },
       "data": [
        {
         "customdata": [
          [
           "astro-ph9904286"
          ],
          [
           "astro-ph9904286"
          ],
          [
           "astro-ph9904286"
          ],
          [
           "astro-ph9904286"
          ],
          [
           "astro-ph9904286"
          ],
          [
           "132"
          ],
          [
           "132"
          ],
          [
           "astro-ph9904286"
          ],
          [
           "132"
          ],
          [
           "132"
          ],
          [
           "astro-ph9904286"
          ]
         ],
         "error_y": {
          "array": [
           0.19,
           0.04,
           0.03,
           0.03,
           0.04,
           0.2,
           0.2,
           0.29,
           0.3,
           0.2,
           0.12
          ]
         },
         "hovertemplate": "color=I (12)<br>x=%{x}<br>y=%{y}<br>Source=%{customdata[0]}<extra></extra>",
         "legendgroup": "I (12)",
         "marker": {
          "color": "#636efa",
          "symbol": "circle"
         },
         "mode": "markers",
         "name": "I (12)",
         "orientation": "v",
         "showlegend": true,
         "type": "scatter",
         "x": [
          4.54,
          4.77,
          4.78,
          4.79,
          4.8,
          4.88,
          5.01,
          5.08,
          5.21,
          5.45,
          6.07
         ],
         "xaxis": "x",
         "y": [
          -20.826666666666668,
          -21.186666666666667,
          -21.246666666666666,
          -21.296666666666667,
          -21.30666666666667,
          -20.1,
          -21.35666666666667,
          -21.486666666666668,
          -21.656666666666666,
          -22.05666666666667,
          -22.666666666666668
         ],
         "yaxis": "y"
        },
        {
         "customdata": [
          [
           "astro-ph9811455"
          ],
          [
           "astro-ph9811455"
          ],
          [
           "astro-ph9811455"
          ],
          [
           "astro-ph9811455"
          ],
          [
           "astro-ph9811455"
          ],
          [
           "astro-ph9808319"
          ],
          [
           "136"
          ],
          [
           "astro-ph9811455"
          ],
          [
           "136"
          ],
          [
           "astro-ph9811455"
          ],
          [
           "astro-ph9808319"
          ],
          [
           "136"
          ],
          [
           "astro-ph9811455"
          ],
          [
           "astro-ph9811455"
          ],
          [
           "astro-ph9808319"
          ],
          [
           "astro-ph9808319"
          ],
          [
           "astro-ph9811455"
          ],
          [
           "astro-ph9811455"
          ]
         ],
         "error_y": {
          "array": [
           0.09,
           0.06,
           0.05,
           0.11,
           0.1,
           0.18,
           0.4,
           0.3,
           0.5,
           0.11,
           0.1,
           0.22,
           0.09,
           0.2,
           0.1,
           0.1,
           0.04,
           0.08
          ]
         },
         "hovertemplate": "color=Rc (22)<br>x=%{x}<br>y=%{y}<br>Source=%{customdata[0]}<extra></extra>",
         "legendgroup": "Rc (22)",
         "marker": {
          "color": "#EF553B",
          "symbol": "circle"
         },
         "mode": "markers",
         "name": "Rc (22)",
         "orientation": "v",
         "showlegend": true,
         "type": "scatter",
         "x": [
          4.6,
          4.64,
          4.66,
          4.82,
          4.83,
          4.85,
          5.05,
          5.2,
          5.3,
          5.33,
          5.41,
          5.47,
          5.48,
          5.49,
          5.77,
          6.11,
          6.15,
          6.27
         ],
         "xaxis": "x",
         "y": [
          -21,
          -21.04,
          -21.13,
          -21.35,
          -21.22,
          -21.28,
          -21.3,
          -21.8,
          -21.8,
          -22.01,
          -22.06,
          -22.03,
          -22.21,
          -22.6,
          -22.44,
          -22.63,
          -22.49,
          -22.43
         ],
         "yaxis": "y"
        },
        {
         "customdata": [
          [
           "astro-ph9811455"
          ],
          [
           "131"
          ],
          [
           "astro-ph9904286"
          ],
          [
           "astro-ph9904286"
          ],
          [
           "astro-ph9904286"
          ],
          [
           "astro-ph9808319"
          ],
          [
           "astro-ph9904286"
          ],
          [
           "astro-ph9904286"
          ],
          [
           "astro-ph9904286"
          ],
          [
           "astro-ph9904286"
          ],
          [
           "astro-ph9904286"
          ],
          [
           "astro-ph9808319"
          ],
          [
           "astro-ph9811455"
          ]
         ],
         "error_y": {
          "array": [
           0.3,
           0.2,
           0.14,
           0.12,
           0.22,
           0.13,
           0.12,
           0.2,
           0.21,
           0.15,
           0.12,
           0.2,
           0.25
          ]
         },
         "hovertemplate": "color=H (19)<br>x=%{x}<br>y=%{y}<br>Source=%{customdata[0]}<extra></extra>",
         "legendgroup": "H (19)",
         "marker": {
          "color": "#00cc96",
          "symbol": "circle"
         },
         "mode": "markers",
         "name": "H (19)",
         "orientation": "v",
         "showlegend": true,
         "type": "scatter",
         "x": [
          4.84,
          5.04,
          5.37,
          5.53,
          5.61,
          5.63,
          5.71,
          5.76,
          5.83,
          5.97,
          6.23,
          6.48,
          6.5
         ],
         "xaxis": "x",
         "y": [
          -17.9,
          -20.633333333333333,
          -21.94333333333333,
          -22.333333333333332,
          -22.35333333333333,
          -22.64333333333333,
          -22.843333333333334,
          -23.173333333333332,
          -23.063333333333333,
          -20,
          -23.12333333333333,
          -20.3,
          -20.5
         ],
         "yaxis": "y"
        },
        {
         "customdata": [
          [
           "142"
          ],
          [
           "130"
          ],
          [
           "142"
          ],
          [
           "142"
          ],
          [
           "144"
          ],
          [
           "astro-ph9904286"
          ],
          [
           "142"
          ],
          [
           "142"
          ],
          [
           "142"
          ],
          [
           "142"
          ]
         ],
         "error_y": {
          "array": [
           0.2,
           0.1,
           0.2,
           0.2,
           0.083,
           0.08,
           0.2,
           0.2,
           0.2,
           0.2
          ]
         },
         "hovertemplate": "color=R (12)<br>x=%{x}<br>y=%{y}<br>Source=%{customdata[0]}<extra></extra>",
         "legendgroup": "R (12)",
         "marker": {
          "color": "#ab63fa",
          "symbol": "circle"
         },
         "mode": "markers",
         "name": "R (12)",
         "orientation": "v",
         "showlegend": true,
         "type": "scatter",
         "x": [
          4.9,
          4.91,
          4.92,
          4.94,
          5.03,
          5.16,
          5.22,
          5.23,
          5.24,
          5.54
         ],
         "xaxis": "x",
         "y": [
          -21,
          -20.6,
          -21.1,
          -21.6,
          -21.287,
          -21.96,
          -21.619999999999997,
          -21.32,
          -21.22,
          -22.57
         ],
         "yaxis": "y"
        },
        {
         "customdata": [
          [
           "astro-ph9904286"
          ],
          [
           "astro-ph9808319"
          ]
         ],
         "error_y": {
          "array": [
           0.08,
           0.1
          ]
         },
         "hovertemplate": "color=V (5)<br>x=%{x}<br>y=%{y}<br>Source=%{customdata[0]}<extra></extra>",
         "legendgroup": "V (5)",
         "marker": {
          "color": "#FFA15A",
          "symbol": "circle"
         },
         "mode": "markers",
         "name": "V (5)",
         "orientation": "v",
         "showlegend": true,
         "type": "scatter",
         "x": [
          5.62,
          5.78
         ],
         "xaxis": "x",
         "y": [
          -22.2,
          -22.5
         ],
         "yaxis": "y"
        },
        {
         "customdata": [
          [
           "astro-ph9904286"
          ],
          [
           "astro-ph9904286"
          ],
          [
           "astro-ph9904286"
          ]
         ],
         "error_y": {
          "array": [
           0.12,
           0.13,
           0.12
          ]
         },
         "hovertemplate": "color=J (6)<br>x=%{x}<br>y=%{y}<br>Source=%{customdata[0]}<extra></extra>",
         "legendgroup": "J (6)",
         "marker": {
          "color": "#19d3f3",
          "symbol": "circle"
         },
         "mode": "markers",
         "name": "J (6)",
         "orientation": "v",
         "showlegend": true,
         "type": "scatter",
         "x": [
          5.7,
          5.93,
          6.01
         ],
         "xaxis": "x",
         "y": [
          -22.455,
          -20.42,
          -22.615000000000002
         ],
         "yaxis": "y"
        },
        {
         "customdata": [
          [
           "astro-ph9904286"
          ]
         ],
         "error_y": {
          "array": [
           0.11
          ]
         },
         "hovertemplate": "color=K (8)<br>x=%{x}<br>y=%{y}<br>Source=%{customdata[0]}<extra></extra>",
         "legendgroup": "K (8)",
         "marker": {
          "color": "#FF6692",
          "symbol": "circle"
         },
         "mode": "markers",
         "name": "K (8)",
         "orientation": "v",
         "showlegend": true,
         "type": "scatter",
         "x": [
          6.24
         ],
         "xaxis": "x",
         "y": [
          -22.975
         ],
         "yaxis": "y"
        }
       ],
       "layout": {
        "legend": {
         "title": {
          "text": "color"
         },
         "tracegroupgap": 0
        },
        "template": {
         "data": {
          "bar": [
           {
            "error_x": {
             "color": "#2a3f5f"
            },
            "error_y": {
             "color": "#2a3f5f"
            },
            "marker": {
             "line": {
              "color": "#E5ECF6",
              "width": 0.5
             },
             "pattern": {
              "fillmode": "overlay",
              "size": 10,
              "solidity": 0.2
             }
            },
            "type": "bar"
           }
          ],
          "barpolar": [
           {
            "marker": {
             "line": {
              "color": "#E5ECF6",
              "width": 0.5
             },
             "pattern": {
              "fillmode": "overlay",
              "size": 10,
              "solidity": 0.2
             }
            },
            "type": "barpolar"
           }
          ],
          "carpet": [
           {
            "aaxis": {
             "endlinecolor": "#2a3f5f",
             "gridcolor": "white",
             "linecolor": "white",
             "minorgridcolor": "white",
             "startlinecolor": "#2a3f5f"
            },
            "baxis": {
             "endlinecolor": "#2a3f5f",
             "gridcolor": "white",
             "linecolor": "white",
             "minorgridcolor": "white",
             "startlinecolor": "#2a3f5f"
            },
            "type": "carpet"
           }
          ],
          "choropleth": [
           {
            "colorbar": {
             "outlinewidth": 0,
             "ticks": ""
            },
            "type": "choropleth"
           }
          ],
          "contour": [
           {
            "colorbar": {
             "outlinewidth": 0,
             "ticks": ""
            },
            "colorscale": [
             [
              0,
              "#0d0887"
             ],
             [
              0.1111111111111111,
              "#46039f"
             ],
             [
              0.2222222222222222,
              "#7201a8"
             ],
             [
              0.3333333333333333,
              "#9c179e"
             ],
             [
              0.4444444444444444,
              "#bd3786"
             ],
             [
              0.5555555555555556,
              "#d8576b"
             ],
             [
              0.6666666666666666,
              "#ed7953"
             ],
             [
              0.7777777777777778,
              "#fb9f3a"
             ],
             [
              0.8888888888888888,
              "#fdca26"
             ],
             [
              1,
              "#f0f921"
             ]
            ],
            "type": "contour"
           }
          ],
          "contourcarpet": [
           {
            "colorbar": {
             "outlinewidth": 0,
             "ticks": ""
            },
            "type": "contourcarpet"
           }
          ],
          "heatmap": [
           {
            "colorbar": {
             "outlinewidth": 0,
             "ticks": ""
            },
            "colorscale": [
             [
              0,
              "#0d0887"
             ],
             [
              0.1111111111111111,
              "#46039f"
             ],
             [
              0.2222222222222222,
              "#7201a8"
             ],
             [
              0.3333333333333333,
              "#9c179e"
             ],
             [
              0.4444444444444444,
              "#bd3786"
             ],
             [
              0.5555555555555556,
              "#d8576b"
             ],
             [
              0.6666666666666666,
              "#ed7953"
             ],
             [
              0.7777777777777778,
              "#fb9f3a"
             ],
             [
              0.8888888888888888,
              "#fdca26"
             ],
             [
              1,
              "#f0f921"
             ]
            ],
            "type": "heatmap"
           }
          ],
          "heatmapgl": [
           {
            "colorbar": {
             "outlinewidth": 0,
             "ticks": ""
            },
            "colorscale": [
             [
              0,
              "#0d0887"
             ],
             [
              0.1111111111111111,
              "#46039f"
             ],
             [
              0.2222222222222222,
              "#7201a8"
             ],
             [
              0.3333333333333333,
              "#9c179e"
             ],
             [
              0.4444444444444444,
              "#bd3786"
             ],
             [
              0.5555555555555556,
              "#d8576b"
             ],
             [
              0.6666666666666666,
              "#ed7953"
             ],
             [
              0.7777777777777778,
              "#fb9f3a"
             ],
             [
              0.8888888888888888,
              "#fdca26"
             ],
             [
              1,
              "#f0f921"
             ]
            ],
            "type": "heatmapgl"
           }
          ],
          "histogram": [
           {
            "marker": {
             "pattern": {
              "fillmode": "overlay",
              "size": 10,
              "solidity": 0.2
             }
            },
            "type": "histogram"
           }
          ],
          "histogram2d": [
           {
            "colorbar": {
             "outlinewidth": 0,
             "ticks": ""
            },
            "colorscale": [
             [
              0,
              "#0d0887"
             ],
             [
              0.1111111111111111,
              "#46039f"
             ],
             [
              0.2222222222222222,
              "#7201a8"
             ],
             [
              0.3333333333333333,
              "#9c179e"
             ],
             [
              0.4444444444444444,
              "#bd3786"
             ],
             [
              0.5555555555555556,
              "#d8576b"
             ],
             [
              0.6666666666666666,
              "#ed7953"
             ],
             [
              0.7777777777777778,
              "#fb9f3a"
             ],
             [
              0.8888888888888888,
              "#fdca26"
             ],
             [
              1,
              "#f0f921"
             ]
            ],
            "type": "histogram2d"
           }
          ],
          "histogram2dcontour": [
           {
            "colorbar": {
             "outlinewidth": 0,
             "ticks": ""
            },
            "colorscale": [
             [
              0,
              "#0d0887"
             ],
             [
              0.1111111111111111,
              "#46039f"
             ],
             [
              0.2222222222222222,
              "#7201a8"
             ],
             [
              0.3333333333333333,
              "#9c179e"
             ],
             [
              0.4444444444444444,
              "#bd3786"
             ],
             [
              0.5555555555555556,
              "#d8576b"
             ],
             [
              0.6666666666666666,
              "#ed7953"
             ],
             [
              0.7777777777777778,
              "#fb9f3a"
             ],
             [
              0.8888888888888888,
              "#fdca26"
             ],
             [
              1,
              "#f0f921"
             ]
            ],
            "type": "histogram2dcontour"
           }
          ],
          "mesh3d": [
           {
            "colorbar": {
             "outlinewidth": 0,
             "ticks": ""
            },
            "type": "mesh3d"
           }
          ],
          "parcoords": [
           {
            "line": {
             "colorbar": {
              "outlinewidth": 0,
              "ticks": ""
             }
            },
            "type": "parcoords"
           }
          ],
          "pie": [
           {
            "automargin": true,
            "type": "pie"
           }
          ],
          "scatter": [
           {
            "fillpattern": {
             "fillmode": "overlay",
             "size": 10,
             "solidity": 0.2
            },
            "type": "scatter"
           }
          ],
          "scatter3d": [
           {
            "line": {
             "colorbar": {
              "outlinewidth": 0,
              "ticks": ""
             }
            },
            "marker": {
             "colorbar": {
              "outlinewidth": 0,
              "ticks": ""
             }
            },
            "type": "scatter3d"
           }
          ],
          "scattercarpet": [
           {
            "marker": {
             "colorbar": {
              "outlinewidth": 0,
              "ticks": ""
             }
            },
            "type": "scattercarpet"
           }
          ],
          "scattergeo": [
           {
            "marker": {
             "colorbar": {
              "outlinewidth": 0,
              "ticks": ""
             }
            },
            "type": "scattergeo"
           }
          ],
          "scattergl": [
           {
            "marker": {
             "colorbar": {
              "outlinewidth": 0,
              "ticks": ""
             }
            },
            "type": "scattergl"
           }
          ],
          "scattermapbox": [
           {
            "marker": {
             "colorbar": {
              "outlinewidth": 0,
              "ticks": ""
             }
            },
            "type": "scattermapbox"
           }
          ],
          "scatterpolar": [
           {
            "marker": {
             "colorbar": {
              "outlinewidth": 0,
              "ticks": ""
             }
            },
            "type": "scatterpolar"
           }
          ],
          "scatterpolargl": [
           {
            "marker": {
             "colorbar": {
              "outlinewidth": 0,
              "ticks": ""
             }
            },
            "type": "scatterpolargl"
           }
          ],
          "scatterternary": [
           {
            "marker": {
             "colorbar": {
              "outlinewidth": 0,
              "ticks": ""
             }
            },
            "type": "scatterternary"
           }
          ],
          "surface": [
           {
            "colorbar": {
             "outlinewidth": 0,
             "ticks": ""
            },
            "colorscale": [
             [
              0,
              "#0d0887"
             ],
             [
              0.1111111111111111,
              "#46039f"
             ],
             [
              0.2222222222222222,
              "#7201a8"
             ],
             [
              0.3333333333333333,
              "#9c179e"
             ],
             [
              0.4444444444444444,
              "#bd3786"
             ],
             [
              0.5555555555555556,
              "#d8576b"
             ],
             [
              0.6666666666666666,
              "#ed7953"
             ],
             [
              0.7777777777777778,
              "#fb9f3a"
             ],
             [
              0.8888888888888888,
              "#fdca26"
             ],
             [
              1,
              "#f0f921"
             ]
            ],
            "type": "surface"
           }
          ],
          "table": [
           {
            "cells": {
             "fill": {
              "color": "#EBF0F8"
             },
             "line": {
              "color": "white"
             }
            },
            "header": {
             "fill": {
              "color": "#C8D4E3"
             },
             "line": {
              "color": "white"
             }
            },
            "type": "table"
           }
          ]
         },
         "layout": {
          "annotationdefaults": {
           "arrowcolor": "#2a3f5f",
           "arrowhead": 0,
           "arrowwidth": 1
          },
          "autotypenumbers": "strict",
          "coloraxis": {
           "colorbar": {
            "outlinewidth": 0,
            "ticks": ""
           }
          },
          "colorscale": {
           "diverging": [
            [
             0,
             "#8e0152"
            ],
            [
             0.1,
             "#c51b7d"
            ],
            [
             0.2,
             "#de77ae"
            ],
            [
             0.3,
             "#f1b6da"
            ],
            [
             0.4,
             "#fde0ef"
            ],
            [
             0.5,
             "#f7f7f7"
            ],
            [
             0.6,
             "#e6f5d0"
            ],
            [
             0.7,
             "#b8e186"
            ],
            [
             0.8,
             "#7fbc41"
            ],
            [
             0.9,
             "#4d9221"
            ],
            [
             1,
             "#276419"
            ]
           ],
           "sequential": [
            [
             0,
             "#0d0887"
            ],
            [
             0.1111111111111111,
             "#46039f"
            ],
            [
             0.2222222222222222,
             "#7201a8"
            ],
            [
             0.3333333333333333,
             "#9c179e"
            ],
            [
             0.4444444444444444,
             "#bd3786"
            ],
            [
             0.5555555555555556,
             "#d8576b"
            ],
            [
             0.6666666666666666,
             "#ed7953"
            ],
            [
             0.7777777777777778,
             "#fb9f3a"
            ],
            [
             0.8888888888888888,
             "#fdca26"
            ],
            [
             1,
             "#f0f921"
            ]
           ],
           "sequentialminus": [
            [
             0,
             "#0d0887"
            ],
            [
             0.1111111111111111,
             "#46039f"
            ],
            [
             0.2222222222222222,
             "#7201a8"
            ],
            [
             0.3333333333333333,
             "#9c179e"
            ],
            [
             0.4444444444444444,
             "#bd3786"
            ],
            [
             0.5555555555555556,
             "#d8576b"
            ],
            [
             0.6666666666666666,
             "#ed7953"
            ],
            [
             0.7777777777777778,
             "#fb9f3a"
            ],
            [
             0.8888888888888888,
             "#fdca26"
            ],
            [
             1,
             "#f0f921"
            ]
           ]
          },
          "colorway": [
           "#636efa",
           "#EF553B",
           "#00cc96",
           "#ab63fa",
           "#FFA15A",
           "#19d3f3",
           "#FF6692",
           "#B6E880",
           "#FF97FF",
           "#FECB52"
          ],
          "font": {
           "color": "#2a3f5f"
          },
          "geo": {
           "bgcolor": "white",
           "lakecolor": "white",
           "landcolor": "#E5ECF6",
           "showlakes": true,
           "showland": true,
           "subunitcolor": "white"
          },
          "hoverlabel": {
           "align": "left"
          },
          "hovermode": "closest",
          "mapbox": {
           "style": "light"
          },
          "paper_bgcolor": "white",
          "plot_bgcolor": "#E5ECF6",
          "polar": {
           "angularaxis": {
            "gridcolor": "white",
            "linecolor": "white",
            "ticks": ""
           },
           "bgcolor": "#E5ECF6",
           "radialaxis": {
            "gridcolor": "white",
            "linecolor": "white",
            "ticks": ""
           }
          },
          "scene": {
           "xaxis": {
            "backgroundcolor": "#E5ECF6",
            "gridcolor": "white",
            "gridwidth": 2,
            "linecolor": "white",
            "showbackground": true,
            "ticks": "",
            "zerolinecolor": "white"
           },
           "yaxis": {
            "backgroundcolor": "#E5ECF6",
            "gridcolor": "white",
            "gridwidth": 2,
            "linecolor": "white",
            "showbackground": true,
            "ticks": "",
            "zerolinecolor": "white"
           },
           "zaxis": {
            "backgroundcolor": "#E5ECF6",
            "gridcolor": "white",
            "gridwidth": 2,
            "linecolor": "white",
            "showbackground": true,
            "ticks": "",
            "zerolinecolor": "white"
           }
          },
          "shapedefaults": {
           "line": {
            "color": "#2a3f5f"
           }
          },
          "ternary": {
           "aaxis": {
            "gridcolor": "white",
            "linecolor": "white",
            "ticks": ""
           },
           "baxis": {
            "gridcolor": "white",
            "linecolor": "white",
            "ticks": ""
           },
           "bgcolor": "#E5ECF6",
           "caxis": {
            "gridcolor": "white",
            "linecolor": "white",
            "ticks": ""
           }
          },
          "title": {
           "x": 0.05
          },
          "xaxis": {
           "automargin": true,
           "gridcolor": "white",
           "linecolor": "white",
           "ticks": "",
           "title": {
            "standoff": 15
           },
           "zerolinecolor": "white",
           "zerolinewidth": 2
          },
          "yaxis": {
           "automargin": true,
           "gridcolor": "white",
           "linecolor": "white",
           "ticks": "",
           "title": {
            "standoff": 15
           },
           "zerolinecolor": "white",
           "zerolinewidth": 2
          }
         }
        },
        "title": {
         "text": "C:/Users/biagi/Desktop/LCs to inspect deltat/CLEAN_GRBs_MAGNITUDES_December2022/Debugging\\980703A_gcn_arXiv_mag_regatheredBiagio.txt_RESCALED"
        },
        "xaxis": {
         "anchor": "y",
         "domain": [
          0,
          1
         ],
         "title": {
          "text": "log Time (s)"
         }
        },
        "yaxis": {
         "anchor": "x",
         "domain": [
          0,
          1
         ],
         "title": {
          "text": "Mag"
         }
        }
       }
      },
      "text/html": [
       "<div>                            <div id=\"e0e1fc51-c2e2-4000-9df1-5421aa9d30fc\" class=\"plotly-graph-div\" style=\"height:525px; width:100%;\"></div>            <script type=\"text/javascript\">                require([\"plotly\"], function(Plotly) {                    window.PLOTLYENV=window.PLOTLYENV || {};                                    if (document.getElementById(\"e0e1fc51-c2e2-4000-9df1-5421aa9d30fc\")) {                    Plotly.newPlot(                        \"e0e1fc51-c2e2-4000-9df1-5421aa9d30fc\",                        [{\"customdata\":[[\"astro-ph9904286\"],[\"astro-ph9904286\"],[\"astro-ph9904286\"],[\"astro-ph9904286\"],[\"astro-ph9904286\"],[\"132\"],[\"132\"],[\"astro-ph9904286\"],[\"132\"],[\"132\"],[\"astro-ph9904286\"]],\"error_y\":{\"array\":[0.19,0.04,0.03,0.03,0.04,0.2,0.2,0.29,0.3,0.2,0.12]},\"hovertemplate\":\"color=I (12)<br>x=%{x}<br>y=%{y}<br>Source=%{customdata[0]}<extra></extra>\",\"legendgroup\":\"I (12)\",\"marker\":{\"color\":\"#636efa\",\"symbol\":\"circle\"},\"mode\":\"markers\",\"name\":\"I (12)\",\"orientation\":\"v\",\"showlegend\":true,\"x\":[4.54,4.77,4.78,4.79,4.8,4.88,5.01,5.08,5.21,5.45,6.07],\"xaxis\":\"x\",\"y\":[-20.826666666666668,-21.186666666666667,-21.246666666666666,-21.296666666666667,-21.30666666666667,-20.1,-21.35666666666667,-21.486666666666668,-21.656666666666666,-22.05666666666667,-22.666666666666668],\"yaxis\":\"y\",\"type\":\"scatter\"},{\"customdata\":[[\"astro-ph9811455\"],[\"astro-ph9811455\"],[\"astro-ph9811455\"],[\"astro-ph9811455\"],[\"astro-ph9811455\"],[\"astro-ph9808319\"],[\"136\"],[\"astro-ph9811455\"],[\"136\"],[\"astro-ph9811455\"],[\"astro-ph9808319\"],[\"136\"],[\"astro-ph9811455\"],[\"astro-ph9811455\"],[\"astro-ph9808319\"],[\"astro-ph9808319\"],[\"astro-ph9811455\"],[\"astro-ph9811455\"]],\"error_y\":{\"array\":[0.09,0.06,0.05,0.11,0.1,0.18,0.4,0.3,0.5,0.11,0.1,0.22,0.09,0.2,0.1,0.1,0.04,0.08]},\"hovertemplate\":\"color=Rc (22)<br>x=%{x}<br>y=%{y}<br>Source=%{customdata[0]}<extra></extra>\",\"legendgroup\":\"Rc (22)\",\"marker\":{\"color\":\"#EF553B\",\"symbol\":\"circle\"},\"mode\":\"markers\",\"name\":\"Rc (22)\",\"orientation\":\"v\",\"showlegend\":true,\"x\":[4.6,4.64,4.66,4.82,4.83,4.85,5.05,5.2,5.3,5.33,5.41,5.47,5.48,5.49,5.77,6.11,6.15,6.27],\"xaxis\":\"x\",\"y\":[-21.0,-21.04,-21.13,-21.35,-21.22,-21.28,-21.3,-21.8,-21.8,-22.01,-22.06,-22.03,-22.21,-22.6,-22.44,-22.63,-22.49,-22.43],\"yaxis\":\"y\",\"type\":\"scatter\"},{\"customdata\":[[\"astro-ph9811455\"],[\"131\"],[\"astro-ph9904286\"],[\"astro-ph9904286\"],[\"astro-ph9904286\"],[\"astro-ph9808319\"],[\"astro-ph9904286\"],[\"astro-ph9904286\"],[\"astro-ph9904286\"],[\"astro-ph9904286\"],[\"astro-ph9904286\"],[\"astro-ph9808319\"],[\"astro-ph9811455\"]],\"error_y\":{\"array\":[0.3,0.2,0.14,0.12,0.22,0.13,0.12,0.2,0.21,0.15,0.12,0.2,0.25]},\"hovertemplate\":\"color=H (19)<br>x=%{x}<br>y=%{y}<br>Source=%{customdata[0]}<extra></extra>\",\"legendgroup\":\"H (19)\",\"marker\":{\"color\":\"#00cc96\",\"symbol\":\"circle\"},\"mode\":\"markers\",\"name\":\"H (19)\",\"orientation\":\"v\",\"showlegend\":true,\"x\":[4.84,5.04,5.37,5.53,5.61,5.63,5.71,5.76,5.83,5.97,6.23,6.48,6.5],\"xaxis\":\"x\",\"y\":[-17.9,-20.633333333333333,-21.94333333333333,-22.333333333333332,-22.35333333333333,-22.64333333333333,-22.843333333333334,-23.173333333333332,-23.063333333333333,-20.0,-23.12333333333333,-20.3,-20.5],\"yaxis\":\"y\",\"type\":\"scatter\"},{\"customdata\":[[\"142\"],[\"130\"],[\"142\"],[\"142\"],[\"144\"],[\"astro-ph9904286\"],[\"142\"],[\"142\"],[\"142\"],[\"142\"]],\"error_y\":{\"array\":[0.2,0.1,0.2,0.2,0.083,0.08,0.2,0.2,0.2,0.2]},\"hovertemplate\":\"color=R (12)<br>x=%{x}<br>y=%{y}<br>Source=%{customdata[0]}<extra></extra>\",\"legendgroup\":\"R (12)\",\"marker\":{\"color\":\"#ab63fa\",\"symbol\":\"circle\"},\"mode\":\"markers\",\"name\":\"R (12)\",\"orientation\":\"v\",\"showlegend\":true,\"x\":[4.9,4.91,4.92,4.94,5.03,5.16,5.22,5.23,5.24,5.54],\"xaxis\":\"x\",\"y\":[-21.0,-20.6,-21.1,-21.6,-21.287,-21.96,-21.619999999999997,-21.32,-21.22,-22.57],\"yaxis\":\"y\",\"type\":\"scatter\"},{\"customdata\":[[\"astro-ph9904286\"],[\"astro-ph9808319\"]],\"error_y\":{\"array\":[0.08,0.1]},\"hovertemplate\":\"color=V (5)<br>x=%{x}<br>y=%{y}<br>Source=%{customdata[0]}<extra></extra>\",\"legendgroup\":\"V (5)\",\"marker\":{\"color\":\"#FFA15A\",\"symbol\":\"circle\"},\"mode\":\"markers\",\"name\":\"V (5)\",\"orientation\":\"v\",\"showlegend\":true,\"x\":[5.62,5.78],\"xaxis\":\"x\",\"y\":[-22.2,-22.5],\"yaxis\":\"y\",\"type\":\"scatter\"},{\"customdata\":[[\"astro-ph9904286\"],[\"astro-ph9904286\"],[\"astro-ph9904286\"]],\"error_y\":{\"array\":[0.12,0.13,0.12]},\"hovertemplate\":\"color=J (6)<br>x=%{x}<br>y=%{y}<br>Source=%{customdata[0]}<extra></extra>\",\"legendgroup\":\"J (6)\",\"marker\":{\"color\":\"#19d3f3\",\"symbol\":\"circle\"},\"mode\":\"markers\",\"name\":\"J (6)\",\"orientation\":\"v\",\"showlegend\":true,\"x\":[5.7,5.93,6.01],\"xaxis\":\"x\",\"y\":[-22.455,-20.42,-22.615000000000002],\"yaxis\":\"y\",\"type\":\"scatter\"},{\"customdata\":[[\"astro-ph9904286\"]],\"error_y\":{\"array\":[0.11]},\"hovertemplate\":\"color=K (8)<br>x=%{x}<br>y=%{y}<br>Source=%{customdata[0]}<extra></extra>\",\"legendgroup\":\"K (8)\",\"marker\":{\"color\":\"#FF6692\",\"symbol\":\"circle\"},\"mode\":\"markers\",\"name\":\"K (8)\",\"orientation\":\"v\",\"showlegend\":true,\"x\":[6.24],\"xaxis\":\"x\",\"y\":[-22.975],\"yaxis\":\"y\",\"type\":\"scatter\"}],                        {\"template\":{\"data\":{\"histogram2dcontour\":[{\"type\":\"histogram2dcontour\",\"colorbar\":{\"outlinewidth\":0,\"ticks\":\"\"},\"colorscale\":[[0.0,\"#0d0887\"],[0.1111111111111111,\"#46039f\"],[0.2222222222222222,\"#7201a8\"],[0.3333333333333333,\"#9c179e\"],[0.4444444444444444,\"#bd3786\"],[0.5555555555555556,\"#d8576b\"],[0.6666666666666666,\"#ed7953\"],[0.7777777777777778,\"#fb9f3a\"],[0.8888888888888888,\"#fdca26\"],[1.0,\"#f0f921\"]]}],\"choropleth\":[{\"type\":\"choropleth\",\"colorbar\":{\"outlinewidth\":0,\"ticks\":\"\"}}],\"histogram2d\":[{\"type\":\"histogram2d\",\"colorbar\":{\"outlinewidth\":0,\"ticks\":\"\"},\"colorscale\":[[0.0,\"#0d0887\"],[0.1111111111111111,\"#46039f\"],[0.2222222222222222,\"#7201a8\"],[0.3333333333333333,\"#9c179e\"],[0.4444444444444444,\"#bd3786\"],[0.5555555555555556,\"#d8576b\"],[0.6666666666666666,\"#ed7953\"],[0.7777777777777778,\"#fb9f3a\"],[0.8888888888888888,\"#fdca26\"],[1.0,\"#f0f921\"]]}],\"heatmap\":[{\"type\":\"heatmap\",\"colorbar\":{\"outlinewidth\":0,\"ticks\":\"\"},\"colorscale\":[[0.0,\"#0d0887\"],[0.1111111111111111,\"#46039f\"],[0.2222222222222222,\"#7201a8\"],[0.3333333333333333,\"#9c179e\"],[0.4444444444444444,\"#bd3786\"],[0.5555555555555556,\"#d8576b\"],[0.6666666666666666,\"#ed7953\"],[0.7777777777777778,\"#fb9f3a\"],[0.8888888888888888,\"#fdca26\"],[1.0,\"#f0f921\"]]}],\"heatmapgl\":[{\"type\":\"heatmapgl\",\"colorbar\":{\"outlinewidth\":0,\"ticks\":\"\"},\"colorscale\":[[0.0,\"#0d0887\"],[0.1111111111111111,\"#46039f\"],[0.2222222222222222,\"#7201a8\"],[0.3333333333333333,\"#9c179e\"],[0.4444444444444444,\"#bd3786\"],[0.5555555555555556,\"#d8576b\"],[0.6666666666666666,\"#ed7953\"],[0.7777777777777778,\"#fb9f3a\"],[0.8888888888888888,\"#fdca26\"],[1.0,\"#f0f921\"]]}],\"contourcarpet\":[{\"type\":\"contourcarpet\",\"colorbar\":{\"outlinewidth\":0,\"ticks\":\"\"}}],\"contour\":[{\"type\":\"contour\",\"colorbar\":{\"outlinewidth\":0,\"ticks\":\"\"},\"colorscale\":[[0.0,\"#0d0887\"],[0.1111111111111111,\"#46039f\"],[0.2222222222222222,\"#7201a8\"],[0.3333333333333333,\"#9c179e\"],[0.4444444444444444,\"#bd3786\"],[0.5555555555555556,\"#d8576b\"],[0.6666666666666666,\"#ed7953\"],[0.7777777777777778,\"#fb9f3a\"],[0.8888888888888888,\"#fdca26\"],[1.0,\"#f0f921\"]]}],\"surface\":[{\"type\":\"surface\",\"colorbar\":{\"outlinewidth\":0,\"ticks\":\"\"},\"colorscale\":[[0.0,\"#0d0887\"],[0.1111111111111111,\"#46039f\"],[0.2222222222222222,\"#7201a8\"],[0.3333333333333333,\"#9c179e\"],[0.4444444444444444,\"#bd3786\"],[0.5555555555555556,\"#d8576b\"],[0.6666666666666666,\"#ed7953\"],[0.7777777777777778,\"#fb9f3a\"],[0.8888888888888888,\"#fdca26\"],[1.0,\"#f0f921\"]]}],\"mesh3d\":[{\"type\":\"mesh3d\",\"colorbar\":{\"outlinewidth\":0,\"ticks\":\"\"}}],\"scatter\":[{\"fillpattern\":{\"fillmode\":\"overlay\",\"size\":10,\"solidity\":0.2},\"type\":\"scatter\"}],\"parcoords\":[{\"type\":\"parcoords\",\"line\":{\"colorbar\":{\"outlinewidth\":0,\"ticks\":\"\"}}}],\"scatterpolargl\":[{\"type\":\"scatterpolargl\",\"marker\":{\"colorbar\":{\"outlinewidth\":0,\"ticks\":\"\"}}}],\"bar\":[{\"error_x\":{\"color\":\"#2a3f5f\"},\"error_y\":{\"color\":\"#2a3f5f\"},\"marker\":{\"line\":{\"color\":\"#E5ECF6\",\"width\":0.5},\"pattern\":{\"fillmode\":\"overlay\",\"size\":10,\"solidity\":0.2}},\"type\":\"bar\"}],\"scattergeo\":[{\"type\":\"scattergeo\",\"marker\":{\"colorbar\":{\"outlinewidth\":0,\"ticks\":\"\"}}}],\"scatterpolar\":[{\"type\":\"scatterpolar\",\"marker\":{\"colorbar\":{\"outlinewidth\":0,\"ticks\":\"\"}}}],\"histogram\":[{\"marker\":{\"pattern\":{\"fillmode\":\"overlay\",\"size\":10,\"solidity\":0.2}},\"type\":\"histogram\"}],\"scattergl\":[{\"type\":\"scattergl\",\"marker\":{\"colorbar\":{\"outlinewidth\":0,\"ticks\":\"\"}}}],\"scatter3d\":[{\"type\":\"scatter3d\",\"line\":{\"colorbar\":{\"outlinewidth\":0,\"ticks\":\"\"}},\"marker\":{\"colorbar\":{\"outlinewidth\":0,\"ticks\":\"\"}}}],\"scattermapbox\":[{\"type\":\"scattermapbox\",\"marker\":{\"colorbar\":{\"outlinewidth\":0,\"ticks\":\"\"}}}],\"scatterternary\":[{\"type\":\"scatterternary\",\"marker\":{\"colorbar\":{\"outlinewidth\":0,\"ticks\":\"\"}}}],\"scattercarpet\":[{\"type\":\"scattercarpet\",\"marker\":{\"colorbar\":{\"outlinewidth\":0,\"ticks\":\"\"}}}],\"carpet\":[{\"aaxis\":{\"endlinecolor\":\"#2a3f5f\",\"gridcolor\":\"white\",\"linecolor\":\"white\",\"minorgridcolor\":\"white\",\"startlinecolor\":\"#2a3f5f\"},\"baxis\":{\"endlinecolor\":\"#2a3f5f\",\"gridcolor\":\"white\",\"linecolor\":\"white\",\"minorgridcolor\":\"white\",\"startlinecolor\":\"#2a3f5f\"},\"type\":\"carpet\"}],\"table\":[{\"cells\":{\"fill\":{\"color\":\"#EBF0F8\"},\"line\":{\"color\":\"white\"}},\"header\":{\"fill\":{\"color\":\"#C8D4E3\"},\"line\":{\"color\":\"white\"}},\"type\":\"table\"}],\"barpolar\":[{\"marker\":{\"line\":{\"color\":\"#E5ECF6\",\"width\":0.5},\"pattern\":{\"fillmode\":\"overlay\",\"size\":10,\"solidity\":0.2}},\"type\":\"barpolar\"}],\"pie\":[{\"automargin\":true,\"type\":\"pie\"}]},\"layout\":{\"autotypenumbers\":\"strict\",\"colorway\":[\"#636efa\",\"#EF553B\",\"#00cc96\",\"#ab63fa\",\"#FFA15A\",\"#19d3f3\",\"#FF6692\",\"#B6E880\",\"#FF97FF\",\"#FECB52\"],\"font\":{\"color\":\"#2a3f5f\"},\"hovermode\":\"closest\",\"hoverlabel\":{\"align\":\"left\"},\"paper_bgcolor\":\"white\",\"plot_bgcolor\":\"#E5ECF6\",\"polar\":{\"bgcolor\":\"#E5ECF6\",\"angularaxis\":{\"gridcolor\":\"white\",\"linecolor\":\"white\",\"ticks\":\"\"},\"radialaxis\":{\"gridcolor\":\"white\",\"linecolor\":\"white\",\"ticks\":\"\"}},\"ternary\":{\"bgcolor\":\"#E5ECF6\",\"aaxis\":{\"gridcolor\":\"white\",\"linecolor\":\"white\",\"ticks\":\"\"},\"baxis\":{\"gridcolor\":\"white\",\"linecolor\":\"white\",\"ticks\":\"\"},\"caxis\":{\"gridcolor\":\"white\",\"linecolor\":\"white\",\"ticks\":\"\"}},\"coloraxis\":{\"colorbar\":{\"outlinewidth\":0,\"ticks\":\"\"}},\"colorscale\":{\"sequential\":[[0.0,\"#0d0887\"],[0.1111111111111111,\"#46039f\"],[0.2222222222222222,\"#7201a8\"],[0.3333333333333333,\"#9c179e\"],[0.4444444444444444,\"#bd3786\"],[0.5555555555555556,\"#d8576b\"],[0.6666666666666666,\"#ed7953\"],[0.7777777777777778,\"#fb9f3a\"],[0.8888888888888888,\"#fdca26\"],[1.0,\"#f0f921\"]],\"sequentialminus\":[[0.0,\"#0d0887\"],[0.1111111111111111,\"#46039f\"],[0.2222222222222222,\"#7201a8\"],[0.3333333333333333,\"#9c179e\"],[0.4444444444444444,\"#bd3786\"],[0.5555555555555556,\"#d8576b\"],[0.6666666666666666,\"#ed7953\"],[0.7777777777777778,\"#fb9f3a\"],[0.8888888888888888,\"#fdca26\"],[1.0,\"#f0f921\"]],\"diverging\":[[0,\"#8e0152\"],[0.1,\"#c51b7d\"],[0.2,\"#de77ae\"],[0.3,\"#f1b6da\"],[0.4,\"#fde0ef\"],[0.5,\"#f7f7f7\"],[0.6,\"#e6f5d0\"],[0.7,\"#b8e186\"],[0.8,\"#7fbc41\"],[0.9,\"#4d9221\"],[1,\"#276419\"]]},\"xaxis\":{\"gridcolor\":\"white\",\"linecolor\":\"white\",\"ticks\":\"\",\"title\":{\"standoff\":15},\"zerolinecolor\":\"white\",\"automargin\":true,\"zerolinewidth\":2},\"yaxis\":{\"gridcolor\":\"white\",\"linecolor\":\"white\",\"ticks\":\"\",\"title\":{\"standoff\":15},\"zerolinecolor\":\"white\",\"automargin\":true,\"zerolinewidth\":2},\"scene\":{\"xaxis\":{\"backgroundcolor\":\"#E5ECF6\",\"gridcolor\":\"white\",\"linecolor\":\"white\",\"showbackground\":true,\"ticks\":\"\",\"zerolinecolor\":\"white\",\"gridwidth\":2},\"yaxis\":{\"backgroundcolor\":\"#E5ECF6\",\"gridcolor\":\"white\",\"linecolor\":\"white\",\"showbackground\":true,\"ticks\":\"\",\"zerolinecolor\":\"white\",\"gridwidth\":2},\"zaxis\":{\"backgroundcolor\":\"#E5ECF6\",\"gridcolor\":\"white\",\"linecolor\":\"white\",\"showbackground\":true,\"ticks\":\"\",\"zerolinecolor\":\"white\",\"gridwidth\":2}},\"shapedefaults\":{\"line\":{\"color\":\"#2a3f5f\"}},\"annotationdefaults\":{\"arrowcolor\":\"#2a3f5f\",\"arrowhead\":0,\"arrowwidth\":1},\"geo\":{\"bgcolor\":\"white\",\"landcolor\":\"#E5ECF6\",\"subunitcolor\":\"white\",\"showland\":true,\"showlakes\":true,\"lakecolor\":\"white\"},\"title\":{\"x\":0.05},\"mapbox\":{\"style\":\"light\"}}},\"xaxis\":{\"anchor\":\"y\",\"domain\":[0.0,1.0],\"title\":{\"text\":\"log Time (s)\"}},\"yaxis\":{\"anchor\":\"x\",\"domain\":[0.0,1.0],\"title\":{\"text\":\"Mag\"}},\"legend\":{\"title\":{\"text\":\"color\"},\"tracegroupgap\":0},\"title\":{\"text\":\"C:/Users/biagi/Desktop/LCs to inspect deltat/CLEAN_GRBs_MAGNITUDES_December2022/Debugging\\\\980703A_gcn_arXiv_mag_regatheredBiagio.txt_RESCALED\"}},                        {\"responsive\": true}                    ).then(function(){\n",
       "                            \n",
       "var gd = document.getElementById('e0e1fc51-c2e2-4000-9df1-5421aa9d30fc');\n",
       "var x = new MutationObserver(function (mutations, observer) {{\n",
       "        var display = window.getComputedStyle(gd).display;\n",
       "        if (!display || display === 'none') {{\n",
       "            console.log([gd, 'removed!']);\n",
       "            Plotly.purge(gd);\n",
       "            observer.disconnect();\n",
       "        }}\n",
       "}});\n",
       "\n",
       "// Listen for the removal of the full notebook cells\n",
       "var notebookContainer = gd.closest('#notebook-container');\n",
       "if (notebookContainer) {{\n",
       "    x.observe(notebookContainer, {childList: true});\n",
       "}}\n",
       "\n",
       "// Listen for the clearing of the current output cell\n",
       "var outputEl = gd.closest('.output');\n",
       "if (outputEl) {{\n",
       "    x.observe(outputEl, {childList: true});\n",
       "}}\n",
       "\n",
       "                        })                };                });            </script>        </div>"
      ]
     },
     "metadata": {},
     "output_type": "display_data"
    }
   ],
   "source": [
    "path = r'C:/Users/biagi/Desktop/LCs to inspect deltat/CLEAN_GRBs_MAGNITUDES_December2022/Debugging/*.txt'\n",
    "\n",
    "filename = glob.glob(path)\n",
    "#filename = [r'C:/Users/biagi/Desktop/LCs to inspect deltat/CLEAN_GRBs_MAGNITUDES_December2022/Debugging/000301C_arXiv_mag.txt']\n",
    "#filename = [r'C:/Users/biagi/Desktop/LCs to inspect deltat/CLEAN_GRBs_MAGNITUDES_December2022/Debugging/050603A_Zaninoni_mag.txt']\n",
    "\n",
    "\n",
    "for i in filename:\n",
    "    try:\n",
    "        light = pd.read_csv(i, sep=r\"\\t+\\s+\", engine=\"python\", header=None, index_col=0).sort_values(by=['Time(s)'])\n",
    "        light=light[light['MagErr'] != 0]\n",
    "        if light.empty:\n",
    "            print(i+\" has only limiting magnitudes, thus it will be skipped\")\n",
    "            continue\n",
    "        color=(light[3].values).to_list()\n",
    "        print(color)\n",
    "\n",
    "        filterslist=[[x,color.count(x)] for x in set(color)]\n",
    "        freq=[]\n",
    "        for k in color:\n",
    "            for j in filterslist:\n",
    "                if j[0]==k:\n",
    "                    freq.append(str(k)+' ('+str(j[1])+')')\n",
    "\n",
    "        fig = px.scatter(\n",
    "                    data_frame=light,\n",
    "                    x=np.log10(light[0].values),\n",
    "                    y=-light[1].values,\n",
    "                    error_y= light[2].values,\n",
    "                    color=color,\n",
    "                    hover=light[7].values,\n",
    "                    title=i,\n",
    "                )\n",
    "        \n",
    "        fig.update_layout(\n",
    "                    xaxis_title='log Time (s)',\n",
    "                    yaxis_title='Mag'\n",
    "                )\n",
    "        fig.show()\n",
    "        #fig.write_image(i+\".pdf\")\n",
    "        \n",
    "        if len(freq)==1:\n",
    "            print(i+\" has only one data point along all the LC, thus no rescaling is needed\")\n",
    "            continue\n",
    "        \n",
    "    except:\n",
    "        light = pd.read_csv(i, sep=r\"\\t+|\\s+\", engine=\"python\", header=0).sort_values(by=['Time(s)'])#, index_col=0)\n",
    "        light=light[light['MagErr'] != 0]\n",
    "        if light.empty:\n",
    "            print(i+\" has only limiting magnitudes, thus it will be skipped\")\n",
    "            continue       \n",
    "        color=(light['Filter']).to_list()\n",
    "        filterslist=[[x,color.count(x)] for x in set(color)]\n",
    "        freq=[]\n",
    "        for k in color:\n",
    "            for j in filterslist:\n",
    "                if j[0]==k:\n",
    "                    freq.append(str(k)+' ('+str(j[1])+')')\n",
    "        \n",
    "        fig = px.scatter(\n",
    "            data_frame=light,\n",
    "            x=np.log10(light['Time(s)'].values),\n",
    "            y=-light['Mag'].values,\n",
    "            error_y= light['MagErr'].values,\n",
    "            color=freq,\n",
    "            hover_data=['Source'],\n",
    "            title=i,\n",
    "        )\n",
    "        \n",
    "        fig.update_layout(\n",
    "            xaxis_title='log Time (s)',\n",
    "            yaxis_title='Mag'\n",
    "        )\n",
    "        \n",
    "        fig.show()\n",
    "        #fig.write_html(i+\".html\")\n",
    "        \n",
    "        if len(freq)==1:\n",
    "            print(i+\" has only one data point along all the LC, thus no rescaling is needed\")\n",
    "            continue        \n",
    "        \n",
    "    light = pd.read_csv(i, sep=r\"\\t+|\\s+\", engine=\"python\", header=0).sort_values(by=['Time(s)'])#, index_col=0)\n",
    "    light=light[light['MagErr'] != 0]\n",
    "    if light.empty:\n",
    "        print(i+\" has only limiting magnitudes, thus it will be skipped\")\n",
    "        continue\n",
    "    x=np.log10(light['Time(s)'].values)\n",
    "    y=light['Mag'].values\n",
    "    error_y= light['MagErr'].values\n",
    "    color=(light['Filter']).to_list()\n",
    "    filterslist=[[x,color.count(x)] for x in set(color)]\n",
    "    freq=[]\n",
    "    freq1=[]\n",
    "    freqfinal=[]\n",
    "    for k in color:\n",
    "        for j in filterslist:\n",
    "            if j[0]==k:\n",
    "                freq.append(str(k)+' ('+str(j[1])+')')\n",
    "                freq1.append([k,j[1]])\n",
    "                freqfinal.append(j[1])\n",
    "    \n",
    "    freq_set = set(tuple(x) for x in freq1)\n",
    "    occurrences = [list(x) for x in freq_set]\n",
    "    sortedoccur=sorted(occurrences,key=lambda x: int(x[1]),reverse=True)\n",
    "    \n",
    "    \n",
    "    \n",
    "    # Identifying the most numerous filter and the second most numerous in the GRB \n",
    "    mostcommonfilter=sortedoccur[0][0]\n",
    "    \n",
    "    if len(sortedoccur)==1:\n",
    "        print(i+\" has only one filter along all the LC, thus no rescaling is needed\")\n",
    "        continue\n",
    "        \n",
    "    secondcommonfilter=sortedoccur[1][0]\n",
    "    \n",
    "    # FIRST RIDE; WE HERE RESCALE ACCORDING TO THE MOST NUMEROUS FILTER\n",
    "\n",
    "    # We here create the sublist of data points that have the most common filter\n",
    "    \n",
    "    mostcommonlight=light.loc[light['Filter'] == mostcommonfilter].to_dict('subset')\n",
    "    mostcommonx=np.log10(mostcommonlight['Time(s)'].values)\n",
    "    mostcommony=mostcommonlight['Mag'].values\n",
    "    mostcommonerror_y= mostcommonlight['MagErr'].values\n",
    "    \n",
    "    # Second step: find the minimum time difference between the most common and the next filter in order of occurrences\n",
    "    \n",
    "    # Here we start to create a list that contains the rescaling factors for every filter after the most common\n",
    "    # The structure is (filtername, number of points, list of rescaling factors (up to 6))\n",
    "    scalingfactorslist=[[sortedoccur[0][0],sortedoccur[0][1],[0]]]\n",
    "    \n",
    "    # The following for loop makes j go through all the other filters (after the most common)\n",
    "    \n",
    "    \n",
    "    # Last step: rescaling all the points according to the rescaling factors\n",
    "    \n",
    "    # Defining the overlap function: this function tells you if two ranges of real numbers overlap\n",
    "    # So, if we consider the ranges (logflux-err,logflux+err) we can compare if two error bars overlap\n",
    "    \n",
    "    def overlap(start1, end1, start2, end2):\n",
    "        #how much does the range (start1, end1) overlap with (start2, end2)\n",
    "        return max(max((end2-start1), 0) - max((end2-end1), 0) - max((start2-start1), 0), 0)\n",
    "    \n",
    "    \n",
    "    # Here we re-import the GRB data (A RE-IMPORTATION IS HEAVY IN CODING AND NOT NECESSARY, THIS CAN BE IMPROVED)\n",
    "    lightresc = pd.read_csv(i, sep=r\"\\t+|\\s+\", engine=\"python\", header=0).sort_values(by=['Time(s)'])#, index_col=0)\n",
    "    lightresc=lightresc[lightresc['MagErr'] != 0]\n",
    "    if lightresc.empty:\n",
    "        print(i+\" has only limiting magnitudes, thus it will be skipped\")\n",
    "        continue  \n",
    "    rescx=np.log10(lightresc['Time(s)'].values)\n",
    "    rescy=lightresc['Mag'].values\n",
    "    resccolor=lightresc['Filter'].values\n",
    "    rescerror_y= lightresc['MagErr'].values\n",
    "    reschover_data=lightresc['Source'].values\n",
    "    \n",
    "    # 1st part of LC: 0<logt<2 => logdeltat<=0.35\n",
    "    logdtprecision=0.35\n",
    "    lightresc1=lightresc.loc[(np.log10(lightresc['Time(s)']) <= 2) & (np.log10(lightresc['Time(s)']) > 0)].to_dict('lightresc1')\n",
    "    rescx1=np.log10(lightresc1['Time(s)'])\n",
    "    rescy1=lightresc1['Mag']\n",
    "    resccolor1=lightresc1['Filter']\n",
    "    rescerror_y1= lightresc1['MagErr'] \n",
    "    reschover_data1=lightresc1['Source']    \n",
    "    \n",
    "    mostcommonlight1=light.loc[(light['Filter'] == mostcommonfilter) & (np.log10(lightresc['Time(s)']) <= 2) & (np.log10(lightresc['Time(s)']) > 0)].to_dict('list')\n",
    "    \n",
    "    #print(mostcommonlight1)\n",
    "    \n",
    "    mostcommonx1=np.log10(mostcommonlight1['Time(s)'])\n",
    "    mostcommony1=mostcommonlight1['Mag']\n",
    "    mostcommonerror_y1= mostcommonlight1['MagErr']\n",
    "    \n",
    "    secondcommonlight1=light.loc[(light['Filter'] == secondcommonfilter) & (np.log10(lightresc['Time(s)']) <= 2) & (np.log10(lightresc['Time(s)']) > 0)].to_dict('list')\n",
    "        \n",
    "\n",
    "    for j in range(1,len(sortedoccur)):\n",
    "        scalingfactorslist.append([sortedoccur[j][0],sortedoccur[j][1],[]])\n",
    "                 \n",
    "\n",
    "    for j in range(1,len(sortedoccur)):\n",
    "        \n",
    "        sublight=light.loc[(lightresc['Filter'] == sortedoccur[j][0]) \n",
    "                                     & (np.log10(lightresc['Time(s)']) <= 2) & (np.log10(lightresc['Time(s)']) > 0)].to_dict('subset')\n",
    "        subx=np.log10(sublight['Time(s)'].values)\n",
    "        suby=sublight['Mag'].values\n",
    "        suberror_y=sublight['MagErr'].values\n",
    "        \n",
    "        \n",
    "        indexeslist = [[p1,p2] for p1 in range(len(mostcommonx1)) for p2 in range(len(subx))]\n",
    "        #print(indexeslist)\n",
    "    \n",
    "        timediff = [np.abs(mostcommonx1[p1]-subx[p2]) for p1 in range(len(mostcommonx1)) for p2 in range(len(subx))]\n",
    "        \n",
    "        if len(timediff)==0:\n",
    "            continue\n",
    "        \n",
    "        else:\n",
    "            m = min(timediff)\n",
    "            minpos = timediff.index(m)\n",
    "    \n",
    "            # We here define the re-scaling constant between the most common band and the j-th band (in order of occurencies)\n",
    "            scalingfactor1=mostcommony1[indexeslist[minpos][0]]-suby[indexeslist[minpos][1]]\n",
    "            scalingfactorslist[j][2].append(scalingfactor1)\n",
    "        \n",
    "\n",
    "    # 2nd part of LC: 2<logt<3 => logdeltat<=0.3\n",
    "    logdtprecision=0.3\n",
    "    lightresc2=lightresc.loc[(np.log10(lightresc['Time(s)']) <= 3) & (np.log10(lightresc['Time(s)']) > 2)].to_dict('lightresc1')\n",
    "    rescx2=np.log10(lightresc2['Time(s)'])\n",
    "    rescy2=lightresc2['Mag']\n",
    "    resccolor2=lightresc2['Filter']\n",
    "    rescerror_y2= lightresc2['MagErr']\n",
    "    reschover_data2=lightresc2['Source']    \n",
    "    \n",
    "    mostcommonlight2=light.loc[(light['Filter'] == mostcommonfilter) & (np.log10(lightresc['Time(s)']) <= 3) & (np.log10(lightresc['Time(s)']) > 2)].to_dict('list')\n",
    "    \n",
    "    #print(mostcommonlight1)\n",
    "    \n",
    "    mostcommonx2=np.log10(mostcommonlight2['Time(s)'])\n",
    "    mostcommony2=mostcommonlight2['Mag']\n",
    "    mostcommonerror_y2= mostcommonlight2['MagErr']\n",
    "    \n",
    "    \n",
    "    for j in range(1,len(sortedoccur)):\n",
    "        \n",
    "        sublight=light.loc[(lightresc['Filter'] == sortedoccur[j][0]) \n",
    "                                     & (np.log10(lightresc['Time(s)']) <= 3) & (np.log10(lightresc['Time(s)']) > 2)].to_dict('subset')\n",
    "        subx=np.log10(sublight['Time(s)'].values)\n",
    "        suby=sublight['Mag'].values\n",
    "        suberror_y=sublight['MagErr'].values\n",
    "        \n",
    "        #scalingfactorslist.append([sortedoccur[j][0],sortedoccur[j][1],[]])\n",
    "        \n",
    "        indexeslist = [[p1,p2] for p1 in range(len(mostcommonx2)) for p2 in range(len(subx))]\n",
    "        #print(indexeslist)\n",
    "    \n",
    "        timediff = [np.abs(mostcommonx2[p1]-subx[p2]) for p1 in range(len(mostcommonx2)) for p2 in range(len(subx))]\n",
    "        \n",
    "        if len(timediff)==0:\n",
    "            continue\n",
    "        \n",
    "        \n",
    "        else:\n",
    "            m = min(timediff)\n",
    "            minpos = timediff.index(m)\n",
    "    \n",
    "            # We here define the re-scaling constant between the most common band and the j-th band (in order of occurencies)\n",
    "            scalingfactor2=mostcommony2[indexeslist[minpos][0]]-suby[indexeslist[minpos][1]]\n",
    "            scalingfactorslist[j][2].append(scalingfactor2)\n",
    "        \n",
    "\n",
    "    # 3rd part of LC: 3<logt<4 => logdeltat<=0.25\n",
    "    logdtprecision=0.25\n",
    "    lightresc3=lightresc.loc[(np.log10(lightresc['Time(s)']) <= 4) & (np.log10(lightresc['Time(s)']) > 3)].to_dict('lightresc1')\n",
    "    rescx3=np.log10(lightresc3['Time(s)'])\n",
    "    rescy3=lightresc3['Mag']\n",
    "    resccolor3=lightresc3['Filter']\n",
    "    rescerror_y3= lightresc3['MagErr']\n",
    "    reschover_data3=lightresc3['Source']    \n",
    "    \n",
    "    mostcommonlight3=light.loc[(light['Filter'] == mostcommonfilter) & (np.log10(lightresc['Time(s)']) <= 4) & (np.log10(lightresc['Time(s)']) > 3)].to_dict('list')\n",
    "    \n",
    "    #print(mostcommonlight1)\n",
    "    \n",
    "    mostcommonx3=np.log10(mostcommonlight3['Time(s)'])\n",
    "    mostcommony3=mostcommonlight3['Mag']\n",
    "    mostcommonerror_y3= mostcommonlight3['MagErr']\n",
    "    \n",
    "    \n",
    "    \n",
    "    for j in range(1,len(sortedoccur)):\n",
    "        \n",
    "        sublight=light.loc[(light['Filter'] == sortedoccur[j][0]) \n",
    "                                     & (np.log10(lightresc['Time(s)']) <= 4) & (np.log10(lightresc['Time(s)']) > 3)].to_dict('subset')\n",
    "        subx=np.log10(sublight['Time(s)'].values)\n",
    "        suby=sublight['Mag'].values\n",
    "        suberror_y=sublight['MagErr'].values\n",
    "        \n",
    "        #scalingfactorslist.append([sortedoccur[j][0],sortedoccur[j][1],[]])\n",
    "        \n",
    "        indexeslist = [[p1,p2] for p1 in range(len(mostcommonx3)) for p2 in range(len(subx))]\n",
    "        #print(indexeslist)\n",
    "    \n",
    "        timediff = [np.abs(mostcommonx3[p1]-subx[p2]) for p1 in range(len(mostcommonx3)) for p2 in range(len(subx))]\n",
    "        \n",
    "        if len(timediff)==0:\n",
    "            continue\n",
    "        \n",
    "        else:\n",
    "            m = min(timediff)\n",
    "            minpos = timediff.index(m)\n",
    "    \n",
    "            # We here define the re-scaling constant between the most common band and the j-th band (in order of occurencies)\n",
    "            scalingfactor3=mostcommony3[indexeslist[minpos][0]]-suby[indexeslist[minpos][1]]\n",
    "            scalingfactorslist[j][2].append(scalingfactor3)\n",
    "                 \n",
    "                \n",
    "    # 4th part of LC: 4<logt<5 => logdeltat<=0.2\n",
    "    logdtprecision=0.2\n",
    "    lightresc4=lightresc.loc[(np.log10(lightresc['Time(s)']) <= 5) & (np.log10(lightresc['Time(s)']) > 4)].to_dict('lightresc1')\n",
    "    rescx4=np.log10(lightresc4['Time(s)'])\n",
    "    rescy4=lightresc4['Mag']\n",
    "    resccolor4=lightresc4['Filter']\n",
    "    rescerror_y4= lightresc4['MagErr']\n",
    "    reschover_data4=lightresc4['Source']    \n",
    "    \n",
    "    mostcommonlight4=light.loc[(light['Filter'] == mostcommonfilter) & (np.log10(lightresc['Time(s)']) <= 5) & (np.log10(lightresc['Time(s)']) > 4)].to_dict('list')\n",
    "    \n",
    "    #print(mostcommonlight1)\n",
    "    \n",
    "    mostcommonx4=np.log10(mostcommonlight4['Time(s)'])\n",
    "    mostcommony4=mostcommonlight4['Mag']\n",
    "    mostcommonerror_y4= mostcommonlight4['MagErr']\n",
    "    \n",
    "\n",
    "    \n",
    "    for j in range(1,len(sortedoccur)):\n",
    "        \n",
    "        sublight=light.loc[(light['Filter'] == sortedoccur[j][0]) \n",
    "                                     & (np.log10(lightresc['Time(s)']) <= 5) & (np.log10(lightresc['Time(s)']) > 4)].to_dict('subset')\n",
    "        subx=np.log10(sublight['Time(s)'].values)\n",
    "        suby=sublight['Mag'].values\n",
    "        suberror_y=sublight['MagErr'].values\n",
    "        \n",
    "        \n",
    "        indexeslist = [[p1,p2] for p1 in range(len(mostcommonx4)) for p2 in range(len(subx))]\n",
    "    \n",
    "        timediff = [np.abs(mostcommonx4[p1]-subx[p2]) for p1 in range(len(mostcommonx4)) for p2 in range(len(subx))]\n",
    "        \n",
    "        if len(timediff)==0:\n",
    "            continue\n",
    "        \n",
    "        else:\n",
    "            m = min(timediff)\n",
    "            minpos = timediff.index(m)\n",
    "\n",
    "            # We here define the re-scaling constant between the most common band and the j-th band (in order of occurencies)\n",
    "            scalingfactor4=mostcommony4[indexeslist[minpos][0]]-suby[indexeslist[minpos][1]]\n",
    "            scalingfactorslist[j][2].append(scalingfactor4)\n",
    "    \n",
    "\n",
    "    # 5th part of LC: 5<logt<6 => logdeltat<=0.15\n",
    "    logdtprecision=0.15\n",
    "    lightresc5=lightresc.loc[(np.log10(lightresc['Time(s)']) <= 6) & (np.log10(lightresc['Time(s)']) > 5)].to_dict('lightresc1')\n",
    "    rescx5=np.log10(lightresc5['Time(s)'])\n",
    "    rescy5=lightresc5['Mag']\n",
    "    resccolor5=lightresc5['Filter']\n",
    "    rescerror_y5= lightresc5['MagErr']\n",
    "    reschover_data5=lightresc5['Source']    \n",
    "    \n",
    "    mostcommonlight5=light.loc[(light['Filter'] == mostcommonfilter) & (np.log10(lightresc['Time(s)']) <= 6) & (np.log10(lightresc['Time(s)']) > 5)].to_dict('list')\n",
    "    \n",
    "    \n",
    "    mostcommonx5=np.log10(mostcommonlight5['Time(s)'])\n",
    "    mostcommony5=mostcommonlight5['Mag']\n",
    "    mostcommonerror_y5= mostcommonlight5['MagErr']\n",
    "    \n",
    "    \n",
    "    # **************************** WORK IN PROGRESS ********************************************\n",
    "    \n",
    "    for j in range(1,len(sortedoccur)):\n",
    "        \n",
    "        sublight=light.loc[(light['Filter'] == sortedoccur[j][0]) \n",
    "                                     & (np.log10(lightresc['Time(s)']) <= 6) & (np.log10(lightresc['Time(s)']) > 5)].to_dict('subset')\n",
    "        subx=np.log10(sublight['Time(s)'].values)\n",
    "        suby=sublight['Mag'].values\n",
    "        suberror_y=sublight['MagErr'].values\n",
    "\n",
    "        \n",
    "        indexeslist = [[p1,p2] for p1 in range(len(mostcommonx5)) for p2 in range(len(subx))]\n",
    "    \n",
    "        timediff = [np.abs(mostcommonx5[p1]-subx[p2]) for p1 in range(len(mostcommonx5)) for p2 in range(len(subx))]\n",
    "        \n",
    "        if len(timediff)==0:\n",
    "            continue\n",
    "        \n",
    "        else:\n",
    "            m = min(timediff)\n",
    "            minpos = timediff.index(m)\n",
    "\n",
    "            # We here define the re-scaling constant between the most common band and the j-th band (in order of occurencies)\n",
    "            scalingfactor5=mostcommony5[indexeslist[minpos][0]]-suby[indexeslist[minpos][1]]\n",
    "            scalingfactorslist[j][2].append(scalingfactor5)\n",
    "            \n",
    "    #print('Part5')     \n",
    "\n",
    "\n",
    "    # 6th part of LC: logt>6 => logdeltat<=0.1\n",
    "    logdtprecision=0.1\n",
    "    lightresc6=lightresc.loc[(np.log10(lightresc['Time(s)']) > 6)].to_dict('lightresc1')\n",
    "    rescx6=np.log10(lightresc6['Time(s)'])\n",
    "    rescy6=lightresc6['Mag']\n",
    "    resccolor6=lightresc6['Filter']\n",
    "    rescerror_y6= lightresc6['MagErr']\n",
    "    reschover_data6=lightresc6['Source']    \n",
    "    \n",
    "    mostcommonlight6=light.loc[(light['Filter'] == mostcommonfilter) & (np.log10(lightresc['Time(s)']) > 6)].to_dict('list')\n",
    "    \n",
    "    #print(mostcommonlight1)\n",
    "    \n",
    "    mostcommonx6=np.log10(mostcommonlight6['Time(s)'])\n",
    "    mostcommony6=mostcommonlight6['Mag']\n",
    "    mostcommonerror_y6=mostcommonlight6['MagErr']\n",
    "    \n",
    "    \n",
    "    # **************************** WORK IN PROGRESS ********************************************\n",
    "    \n",
    "    for j in range(1,len(sortedoccur)):\n",
    "        \n",
    "        sublight=light.loc[(light['Filter'] == sortedoccur[j][0]) \n",
    "                                     & (np.log10(lightresc['Time(s)']) > 6)].to_dict('subset')\n",
    "        subx=np.log10(sublight['Time(s)'].values)\n",
    "        suby=sublight['Mag'].values\n",
    "        suberror_y=sublight['MagErr'].values\n",
    "        \n",
    "        #scalingfactorslist.append([sortedoccur[j][0],sortedoccur[j][1],[]])\n",
    "        \n",
    "        indexeslist = [[p1,p2] for p1 in range(len(mostcommonx6)) for p2 in range(len(subx))]\n",
    "        #print(indexeslist)\n",
    "    \n",
    "        timediff = [np.abs(mostcommonx6[p1]-subx[p2]) for p1 in range(len(mostcommonx6)) for p2 in range(len(subx))]\n",
    "        \n",
    "        if len(timediff)==0:\n",
    "            continue\n",
    "        \n",
    "        else:\n",
    "            m = min(timediff)\n",
    "            minpos = timediff.index(m)\n",
    "\n",
    "            # We here define the re-scaling constant between the most common band and the j-th band (in order of occurencies)\n",
    "            scalingfactor6=mostcommony6[indexeslist[minpos][0]]-suby[indexeslist[minpos][1]]\n",
    "            scalingfactorslist[j][2].append(scalingfactor6)\n",
    "            \n",
    "    \n",
    "    # Averaging the rescaling factors for each filter\n",
    "    \n",
    "    averagedrescalingfactor=[]\n",
    "    for j in range(len(scalingfactorslist)):\n",
    "        if np.isnan(np.mean(scalingfactorslist[j][2]))==False:\n",
    "                    averagedrescalingfactor.append([scalingfactorslist[j][0],scalingfactorslist[j][1],np.mean(scalingfactorslist[j][2])])\n",
    "        if np.isnan(np.mean(scalingfactorslist[j][2]))==True:\n",
    "                    averagedrescalingfactor.append([scalingfactorslist[j][0],scalingfactorslist[j][1],0])\n",
    "    \n",
    "    \n",
    "    rescfactfromduplicate=[]\n",
    "    \n",
    "    for j in range(1,len(sortedoccur)):\n",
    "        \n",
    "        sublight=light.loc[light['Filter'] == sortedoccur[j][0]].to_dict('subset')\n",
    "        subx=np.log10(sublight['Time(s)'].values)\n",
    "        suby=sublight['Mag'].values\n",
    "        suberror_y=sublight['MagErr'].values\n",
    "        subcolor=sublight['Filter'].values\n",
    "                    \n",
    "        timediffpreliminar = []\n",
    "        \n",
    "        for p1 in range(len(mostcommonx)):\n",
    "            for p2 in range(len(subx)):\n",
    "                if (np.abs(mostcommonx[p1]-subx[p2])<=1e-15) & (subcolor[p2]==sortedoccur[j][0]):\n",
    "                    timediffpreliminar.append([p1,p2,sortedoccur[j][0],mostcommony[p1]-suby[p2]])\n",
    "        \n",
    "        if len(timediffpreliminar)==0:\n",
    "            continue\n",
    "        \n",
    "        \n",
    "        meanlist=[]\n",
    "        for k in timediffpreliminar:\n",
    "            meanlist.append(k[3])\n",
    "        \n",
    "        rescfactfromduplicate.append([sortedoccur[j][0],np.mean(meanlist)])\n",
    "    \n",
    "    \n",
    "    for a in averagedrescalingfactor:\n",
    "        for b in rescfactfromduplicate:\n",
    "            if a[0]==b[0]:\n",
    "                a[2]=b[1]\n",
    "                \n",
    "    \n",
    "    junction2to3=[]\n",
    "    junction3to4=[]\n",
    "    junction4to5=[]\n",
    "    junction5to6=[]\n",
    "    junction6up=[]\n",
    "    \n",
    "    nonrescaled=[]\n",
    "    \n",
    "\n",
    "    # RESCALING PART OF THE LC 0<logt<2\n",
    "    \n",
    "    for pp in range(len(rescy1)):\n",
    "        logdtprecision=0.35\n",
    "        start2=rescy1[pp]-rescerror_y1[pp]\n",
    "        end2=rescy1[pp]+rescerror_y1[pp]\n",
    "        supportlistov=[]\n",
    "        supportlistdist=[]\n",
    "        \n",
    "        \n",
    "        \n",
    "        for ff in averagedrescalingfactor:\n",
    "            if resccolor1[pp] == ff[0]:\n",
    "                for nn in [x for x in range(len(rescy1)) if (x != pp) & (resccolor1[x]==mostcommonfilter)]:\n",
    "                    start1=rescy1[nn]-rescerror_y1[nn] \n",
    "                    end1=rescy1[nn]+rescerror_y1[nn]\n",
    "                    dist=np.abs(rescx1[nn]-rescx1[pp])\n",
    "                    supportlistov.append(overlap(start1, end1, start2, end2))\n",
    "                    supportlistdist.append(dist)\n",
    "                          \n",
    "                if all(supportlistdist)>logdtprecision:\n",
    "                    rescy1[pp]=rescy1[pp]\n",
    "                    \n",
    "                    if 2-logdtprecision<rescx1[pp]<2:\n",
    "                        junction2to3.append([rescx1[pp],rescy1[pp],rescerror_y1[pp],resccolor1[pp],reschover_data1[pp]])                     \n",
    "                    \n",
    "                if any((supportlistov[i] == 0) & (supportlistdist[i] <= logdtprecision) for i in range(len(supportlistov))):\n",
    "                    rescy1[pp]=rescy1[pp]+ff[2]\n",
    "                else:\n",
    "                    rescy1[pp]=rescy1[pp]\n",
    "                    nonrescaled.append([rescx1[pp],rescy1[pp],rescerror_y1[pp],resccolor1[pp],reschover_data1[pp]])\n",
    "                   \n",
    "    # RESCALING PART OF THE LC 2<logt<3                 \n",
    "    \n",
    "    for pp in range(len(rescy2)):\n",
    "        start2=rescy2[pp]-rescerror_y2[pp]\n",
    "        end2=rescy2[pp]+rescerror_y2[pp]\n",
    "        supportlistov=[]\n",
    "        supportlistdist=[]\n",
    "        logdtprecision=0.3\n",
    "        #junction3to4=[]\n",
    "         \n",
    "        \n",
    "        for ff in averagedrescalingfactor:\n",
    "            if resccolor2[pp] == ff[0]:\n",
    "                for nn in [x for x in range(len(rescy2)) if (x != pp) & (resccolor2[x]==mostcommonfilter)]:\n",
    "                    start1=rescy2[nn]-rescerror_y2[nn] \n",
    "                    end1=rescy2[nn]+rescerror_y2[nn]\n",
    "                    dist=np.abs(rescx2[nn]-rescx2[pp])\n",
    "                    supportlistov.append(overlap(start1, end1, start2, end2))\n",
    "                    supportlistdist.append(dist)\n",
    "                          \n",
    "                if all(supportlistdist)>logdtprecision:\n",
    "                    rescy2[pp]=rescy2[pp]\n",
    "                    \n",
    "                    if 3-logdtprecision<rescx2[pp]<3:\n",
    "                        junction3to4.append([rescx2[pp],rescy2[pp],rescerror_y2[pp],resccolor2[pp],reschover_data2[pp]]) \n",
    "                        \n",
    "                if any((supportlistov[i] == 0) & (supportlistdist[i] <= logdtprecision) for i in range(len(supportlistov))):\n",
    "                    rescy2[pp]=rescy2[pp]+ff[2]\n",
    "                else:\n",
    "                    rescy2[pp]=rescy2[pp]\n",
    "                    nonrescaled.append([rescx2[pp],rescy2[pp],rescerror_y2[pp],resccolor2[pp],reschover_data2[pp]])\n",
    "                    \n",
    "    # RESCALING PART OF THE LC 3<logt<4     \n",
    "    \n",
    "    for pp in range(len(rescy3)):\n",
    "        \n",
    "        start3=rescy3[pp]-rescerror_y3[pp]\n",
    "        end3=rescy3[pp]+rescerror_y3[pp]\n",
    "        supportlistov=[]\n",
    "        supportlistdist=[]\n",
    "        logdtprecision=0.25\n",
    "        #junction4to5=[]\n",
    "        \n",
    "        \n",
    "        for ff in averagedrescalingfactor:\n",
    "            if resccolor3[pp] == ff[0]:\n",
    "                for nn in [x for x in range(len(rescy3)) if (x != pp) & (resccolor3[x]==mostcommonfilter)]:\n",
    "                    start1=rescy3[nn]-rescerror_y3[nn] \n",
    "                    end1=rescy3[nn]+rescerror_y3[nn]\n",
    "                    dist=np.abs(rescx3[nn]-rescx3[pp])\n",
    "                    supportlistov.append(overlap(start1, end1, start3, end3))\n",
    "                    supportlistdist.append(dist)\n",
    "                          \n",
    "                if all(supportlistdist)>logdtprecision:\n",
    "                    rescy3[pp]=rescy3[pp]\n",
    "                    \n",
    "                    if 4-logdtprecision<rescx3[pp]<4:\n",
    "                        junction4to5.append([rescx3[pp],rescy3[pp],rescerror_y3[pp],resccolor3[pp],reschover_data3[pp]])                    \n",
    "                    \n",
    "                if any((supportlistov[i] == 0) & (supportlistdist[i] <= logdtprecision) for i in range(len(supportlistov))):\n",
    "                    rescy3[pp]=rescy3[pp]+ff[2]\n",
    "                else:\n",
    "                    rescy3[pp]=rescy3[pp]\n",
    "                    nonrescaled.append([rescx3[pp],rescy3[pp],rescerror_y3[pp],resccolor3[pp],reschover_data3[pp]])\n",
    "      \n",
    "                    \n",
    "    # RESCALING PART OF THE LC 4<logt<5     \n",
    "    \n",
    "    for pp in range(len(rescy4)):\n",
    "        \n",
    "        start4=rescy4[pp]-rescerror_y4[pp]\n",
    "        end4=rescy4[pp]+rescerror_y4[pp]\n",
    "        supportlistov=[]\n",
    "        supportlistdist=[]\n",
    "        logdtprecision=0.2\n",
    "        #junction5to6=[]\n",
    "        \n",
    "         \n",
    "        \n",
    "        for ff in averagedrescalingfactor:\n",
    "            if resccolor4[pp] == ff[0]:\n",
    "                for nn in [x for x in range(len(rescy4)) if (x != pp) & (resccolor4[x]==mostcommonfilter)]:\n",
    "                    start1=rescy4[nn]-rescerror_y4[nn] \n",
    "                    end1=rescy4[nn]+rescerror_y4[nn]\n",
    "                    dist=np.abs(rescx4[nn]-rescx4[pp])\n",
    "                    supportlistov.append(overlap(start1, end1, start4, end4))\n",
    "                    supportlistdist.append(dist)\n",
    "                          \n",
    "                if all(supportlistdist)>logdtprecision:\n",
    "                    rescy4[pp]=rescy4[pp]\n",
    "                    \n",
    "                    if 5-logdtprecision<rescx4[pp]<5:\n",
    "                        junction5to6.append([rescx4[pp],rescy4[pp],rescerror_y4[pp],resccolor4[pp],reschover_data4[pp]])\n",
    "                    \n",
    "                if any((supportlistov[i] == 0) & (supportlistdist[i] <= logdtprecision) for i in range(len(supportlistov))):\n",
    "                    rescy4[pp]=rescy4[pp]+ff[2]\n",
    "                else:\n",
    "                    rescy4[pp]=rescy4[pp]\n",
    "                    nonrescaled.append([rescx4[pp],rescy4[pp],rescerror_y4[pp],resccolor4[pp],reschover_data4[pp]])\n",
    "                    \n",
    "                    \n",
    "    # RESCALING PART OF THE LC 5<logt<6 \n",
    "    \n",
    "    for pp in range(len(rescy5)):\n",
    "        \n",
    "        start5=rescy5[pp]-rescerror_y5[pp]\n",
    "        end5=rescy5[pp]+rescerror_y5[pp]\n",
    "        supportlistov=[]\n",
    "        supportlistdist=[]\n",
    "        logdtprecision=0.15\n",
    "        #junction6up=[]\n",
    "        \n",
    "         \n",
    "        \n",
    "        for ff in averagedrescalingfactor:\n",
    "            if resccolor5[pp] == ff[0]:\n",
    "                for nn in [x for x in range(len(rescy5)) if (x != pp) & (resccolor5[x]==mostcommonfilter)]:\n",
    "                    start1=rescy5[nn]-rescerror_y5[nn] \n",
    "                    end1=rescy5[nn]+rescerror_y5[nn]\n",
    "                    dist=np.abs(rescx5[nn]-rescx5[pp])\n",
    "                    supportlistov.append(overlap(start1, end1, start5, end5))\n",
    "                    supportlistdist.append(dist)\n",
    "                          \n",
    "                if all(supportlistdist)>logdtprecision:\n",
    "                    rescy5[pp]=rescy5[pp]\n",
    "                    \n",
    "                    if 6-logdtprecision<rescx5[pp]<6:\n",
    "                        junction6up.append([rescx5[pp],rescy5[pp],rescerror_y5[pp],resccolor5[pp],reschover_data5[pp]])\n",
    "                        \n",
    "                if any((supportlistov[i] == 0) & (supportlistdist[i] <= logdtprecision) for i in range(len(supportlistov))):\n",
    "                    rescy5[pp]=rescy5[pp]+ff[2]\n",
    "                else:\n",
    "                    rescy5[pp]=rescy5[pp]\n",
    "                    nonrescaled.append([rescx5[pp],rescy5[pp],rescerror_y5[pp],resccolor5[pp],reschover_data5[pp]])\n",
    "                    \n",
    "                    \n",
    "    # RESCALING PART OF THE LC Logt>6                    \n",
    "    \n",
    "                \n",
    "    for pp in range(len(rescy6)):\n",
    "        \n",
    "        start6=rescy6[pp]-rescerror_y6[pp]\n",
    "        end6=rescy6[pp]+rescerror_y6[pp]\n",
    "        supportlistov=[]\n",
    "        supportlistdist=[]\n",
    "        logdtprecision=0.1\n",
    "        \n",
    "         \n",
    "        \n",
    "        for ff in averagedrescalingfactor:\n",
    "            if resccolor6[pp] == ff[0]:\n",
    "                for nn in [x for x in range(len(rescy6)) if (x != pp) & (resccolor6[x]==mostcommonfilter)]:\n",
    "                    start1=rescy6[nn]-rescerror_y6[nn] \n",
    "                    end1=rescy6[nn]+rescerror_y6[nn]\n",
    "                    dist=np.abs(rescx6[nn]-rescx6[pp])\n",
    "                    supportlistov.append(overlap(start1, end1, start6, end6))\n",
    "                    supportlistdist.append(dist)\n",
    "                          \n",
    "                if all(supportlistdist)>logdtprecision:\n",
    "                    rescy6[pp]=rescy6[pp]\n",
    "                    \n",
    "                    if 6-logdtprecision<rescx6[pp]<6:\n",
    "                        junction6up.append([rescx6[pp],rescy6[pp],rescerror_y6[pp],resccolor6[pp],reschover_data6[pp]])                    \n",
    "                    \n",
    "                if any((supportlistov[i] == 0) & (supportlistdist[i] <= logdtprecision) for i in range(len(supportlistov))):\n",
    "                    rescy6[pp]=rescy6[pp]+ff[2]\n",
    "                else:\n",
    "                    rescy6[pp]=rescy6[pp]\n",
    "                    nonrescaled.append([rescx6[pp],rescy6[pp],rescerror_y6[pp],resccolor6[pp],reschover_data6[pp]])\n",
    "                    \n",
    "                    \n",
    "    #########################################################################\n",
    "    # RESCALING THE JUNCTIONS                \n",
    "    \n",
    "    \n",
    "    if len(junction2to3)!=0:\n",
    "        for pp in range(len(junction2to3)):\n",
    "        \n",
    "            start3=junction2to3[pp][1]-junction2to3[pp][2]\n",
    "            end3=junction2to3[pp][1]+junction2to3[pp][2]\n",
    "            supportlistov=[]\n",
    "            supportlistdist=[]\n",
    "            logdtprecision=0.3\n",
    "           \n",
    "        \n",
    "        for ff in averagedrescalingfactor:\n",
    "            if junction2to3[pp][3] == ff[0]:\n",
    "                for nn in [x for x in range(len(rescy3)) if (x != pp) & (resccolor3[x]==mostcommonfilter)]:\n",
    "                    start1=rescy3[nn]-rescerror_y3[nn] \n",
    "                    end1=rescy3[nn]+rescerror_y3[nn]\n",
    "                    dist=np.abs(rescx3[nn]-junction2to3[pp][0])\n",
    "                    supportlistov.append(overlap(start1, end1, start3, end3))\n",
    "                    supportlistdist.append(dist)\n",
    "                          \n",
    "                if all(supportlistdist)>logdtprecision:\n",
    "                    junction2to3[pp][1]=junction2to3[pp][1]\n",
    "                    nonrescaled.append([junction2to3[pp][0],junction2to3[pp][1],junction2to3[pp][2],junction2to3[pp][3],junction2to3[pp][4]])\n",
    "                if any((supportlistov[i] == 0) & (supportlistdist[i] <= logdtprecision) for i in range(len(supportlistov))):\n",
    "                    junction2to3[pp][1]=junction2to3[pp][1]+ff[2]\n",
    "                else:\n",
    "                    junction2to3[pp][1]=junction2to3[pp][1]\n",
    "                    nonrescaled.append([junction2to3[pp][0],junction2to3[pp][1],junction2to3[pp][2],junction2to3[pp][3],junction2to3[pp][4]])\n",
    "    else:\n",
    "        True                      \n",
    "    \n",
    "    if len(junction3to4)!=0:    \n",
    "        for pp in range(len(junction3to4)):\n",
    "        \n",
    "            start4=junction3to4[pp][1]-junction3to4[pp][2]\n",
    "            end4=junction3to4[pp][1]+junction3to4[pp][2]\n",
    "            supportlistov=[]\n",
    "            supportlistdist=[]\n",
    "            logdtprecision=0.25\n",
    "        \n",
    "         \n",
    "        \n",
    "        for ff in averagedrescalingfactor:\n",
    "            if junction3to4[pp][3] == ff[0]:\n",
    "                for nn in [x for x in range(len(rescy4)) if (x != pp) & (resccolor4[x]==mostcommonfilter)]:\n",
    "                    start1=rescy4[nn]-rescerror_y4[nn] \n",
    "                    end1=rescy4[nn]+rescerror_y4[nn]\n",
    "                    dist=np.abs(rescx4[nn]-junction3to4[pp][0])\n",
    "                    supportlistov.append(overlap(start1, end1, start4, end4))\n",
    "                    supportlistdist.append(dist)\n",
    "                          \n",
    "                if all(supportlistdist)>logdtprecision:\n",
    "                    junction3to4[pp][1]=junction3to4[pp][1]\n",
    "                    nonrescaled.append([junction3to4[pp][0],junction3to4[pp][1],junction3to4[pp][2],junction3to4[pp][3],junction3to4[pp][4]])\n",
    "                if any((supportlistov[i] == 0) & (supportlistdist[i] <= logdtprecision) for i in range(len(supportlistov))):\n",
    "                    junction3to4[pp][1]=junction3to4[pp][1]+ff[2]\n",
    "                else:\n",
    "                    junction3to4[pp][1]=junction3to4[pp][1]\n",
    "                    nonrescaled.append([junction3to4[pp][0],junction3to4[pp][1],junction3to4[pp][2],junction3to4[pp][3],junction3to4[pp][4]])\n",
    "\n",
    "    else:\n",
    "        True                    \n",
    "                    \n",
    "        \n",
    "    if len(junction4to5)!=0:    \n",
    "        for pp in range(len(junction4to5)):\n",
    "        \n",
    "            start5=junction4to5[pp][1]-junction4to5[pp][2]\n",
    "            end5=junction4to5[pp][1]+junction4to5[pp][2]\n",
    "            supportlistov=[]\n",
    "            supportlistdist=[]\n",
    "            logdtprecision=0.2\n",
    "        \n",
    "         \n",
    "        \n",
    "        for ff in averagedrescalingfactor:\n",
    "            if junction4to5[pp][3] == ff[0]:\n",
    "                for nn in [x for x in range(len(rescy5)) if (x != pp) & (resccolor5[x]==mostcommonfilter)]:\n",
    "                    start1=rescy5[nn]-rescerror_y5[nn] \n",
    "                    end1=rescy5[nn]+rescerror_y5[nn]\n",
    "                    dist=np.abs(rescx5[nn]-junction4to5[pp][0])\n",
    "                    supportlistov.append(overlap(start1, end1, start5, end5))\n",
    "                    supportlistdist.append(dist)\n",
    "                          \n",
    "                if all(supportlistdist)>logdtprecision:\n",
    "                    junction4to5[pp][1]=junction4to5[pp][1]\n",
    "                    nonrescaled.append([junction4to5[pp][0],junction4to5[pp][1],junction4to5[pp][2],junction4to5[pp][3],junction4to5[pp][4]])\n",
    "                if any((supportlistov[i] == 0) & (supportlistdist[i] <= logdtprecision) for i in range(len(supportlistov))):\n",
    "                    junction4to5[pp][1]=junction4to5[pp][1]+ff[2]\n",
    "                else:\n",
    "                    junction4to5[pp][1]=junction4to5[pp][1]\n",
    "                    nonrescaled.append([junction4to5[pp][0],junction4to5[pp][1],junction4to5[pp][2],junction4to5[pp][3],junction4to5[pp][4]])\n",
    " \n",
    "    else:\n",
    "        True   \n",
    "    \n",
    "#     print('Junction 5 to 6')\n",
    "#     print(junction5to6)\n",
    "#     print('Length of junction')\n",
    "#     print(len(junction5to6))\n",
    "#     print('Rescaling in 5<logt<6')\n",
    "#     print(rescx6)\n",
    "    \n",
    "    if len(junction5to6)!=0:            \n",
    "        for pp in range(len(junction5to6)):\n",
    "        \n",
    "            start6=junction5to6[pp][1]-junction5to6[pp][2]\n",
    "            end6=junction5to6[pp][1]+junction5to6[pp][2]\n",
    "            supportlistov=[]\n",
    "            supportlistdist=[]\n",
    "            logdtprecision=0.15\n",
    "        \n",
    "         \n",
    "        \n",
    "        for ff in averagedrescalingfactor:\n",
    "            if junction5to6[pp][3] == ff[0]:\n",
    "                for nn in [x for x in range(len(rescy6)) if (x != pp) & (resccolor6[x]==mostcommonfilter)]:\n",
    "                    start1=rescy6[nn]-rescerror_y6[nn] \n",
    "                    end1=rescy6[nn]+rescerror_y6[nn]\n",
    "                    dist=np.abs(rescx6[nn]-junction5to6[pp][0])\n",
    "                    supportlistov.append(overlap(start1, end1, start6, end6))\n",
    "                    supportlistdist.append(dist)\n",
    "                          \n",
    "                if all(supportlistdist)>logdtprecision:\n",
    "                    junction5to6[pp][1]=junction5to6[pp][1]\n",
    "                    nonrescaled.append([junction5to6[pp][0],junction5to6[pp][1],junction5to6[pp][2],junction5to6[pp][3],junction5to6[pp][4]])\n",
    "                if any((supportlistov[i] == 0) & (supportlistdist[i] <= logdtprecision) for i in range(len(supportlistov))):\n",
    "                    junction5to6[pp][1]=junction5to6[pp][1]+ff[2]\n",
    "                else:\n",
    "                    junction5to6[pp][1]=junction5to6[pp][1]\n",
    "                    nonrescaled.append([junction5to6[pp][0],junction5to6[pp][1],junction5to6[pp][2],junction5to6[pp][3],junction5to6[pp][4]])\n",
    "\n",
    "    else:\n",
    "        True                   \n",
    "                    \n",
    "                    \n",
    "    if len(junction6up)!=0:            \n",
    "        for pp in range(len(junction6up)):\n",
    "        \n",
    "            start7=junction6up[pp][1]-junction6up[pp][2]\n",
    "            end7=junction6up[pp][1]+junction6up[pp][2]\n",
    "            supportlistov=[]\n",
    "            supportlistdist=[]\n",
    "            logdtprecision=0.10\n",
    "        \n",
    "         \n",
    "        \n",
    "        for ff in averagedrescalingfactor:\n",
    "            if junction6up[pp][3] == ff[0]:\n",
    "                for nn in [x for x in range(len(rescy6)) if (x != pp) & (resccolor6[x]==mostcommonfilter)]:\n",
    "                    start1=rescy6[nn]-rescerror_y6[nn] \n",
    "                    end1=rescy6[nn]+rescerror_y6[nn]\n",
    "                    dist=np.abs(rescx6[nn]-rescx6[pp])\n",
    "                    supportlistov.append(overlap(start1, end1, start7, end7))\n",
    "                    supportlistdist.append(dist)\n",
    "                          \n",
    "                if all(supportlistdist)>logdtprecision:\n",
    "                    junction6up[pp][1]=junction6up[pp][1]\n",
    "                    nonrescaled.append([junction6up[pp][0],junction6up[pp][1],junction6up[pp][2],junction6up[pp][3],junction6up[pp][4]])\n",
    "                if any((supportlistov[i] == 0) & (supportlistdist[i] <= logdtprecision) for i in range(len(supportlistov))):\n",
    "                    junction6up[pp][1]=junction6up[pp][1]+ff[2]\n",
    "                else:\n",
    "                    junction6up[pp][1]=junction6up[pp][1]  \n",
    "                    nonrescaled.append([junction6up[pp][0],junction6up[pp][1],junction6up[pp][2],junction6up[pp][3],junction6up[pp][4]])\n",
    "\n",
    "    else:\n",
    "        True\n",
    "            \n",
    "    totaljunction=junction2to3+junction3to4+junction4to5+junction5to6+junction6up\n",
    "    \n",
    "    rescyfinal=np.concatenate((rescy1,rescy2,rescy3,rescy4,rescy5,rescy6))\n",
    "    \n",
    "    print('The most numerous filter of this GRB: ',sortedoccur[0][0],', with', sortedoccur[0][1], 'occurrences')\n",
    "    \n",
    "    \n",
    "    rescdata = pd.DataFrame(list(zip(rescx, rescyfinal, rescerror_y, resccolor, freqfinal, reschover_data)),\n",
    "               columns =['Time(s)','Mag','MagErr','Filter','Freq','Source'])\n",
    "    \n",
    "    \n",
    "    for qq in totaljunction:\n",
    "        \n",
    "        for ind in rescdata.index:\n",
    "            if (qq[0]==rescdata['Time(s)'][ind]) & (qq[3]==rescdata['Filter'][ind]):\n",
    "                rescdata['Mag'][ind]=qq[1]\n",
    "    \n",
    "    #print(nonrescaled)\n",
    "    #print(' ')\n",
    "    \n",
    "    nonrescaledclean=[]\n",
    "    for item in nonrescaled:\n",
    "        if item[3]!=mostcommonfilter:\n",
    "            nonrescaledclean.append(item)\n",
    "        \n",
    "    #print(nonrescalednew)\n",
    "    \n",
    "    # IN THIS SECOND RIDE; WE SELECT THE SECOND MOST NUMEROUS FILTER AS TEMPLATE FOR A SECOND RESCALING\n",
    "    \n",
    "    # We here create the sublist of data points that have the second most numerous filter\n",
    "    \n",
    "    mostcommonlight=rescdata.loc[rescdata['Filter'] == secondcommonfilter].to_dict('subset')\n",
    "    mostcommonx=mostcommonlight['Time(s)'].values\n",
    "    mostcommony=mostcommonlight['Mag'].values\n",
    "    mostcommonerror_y= mostcommonlight['MagErr'].values\n",
    "    \n",
    "    \n",
    "    # Second step: find the minimum time difference between the most common and the next filter in order of occurrences\n",
    "    \n",
    "    # Here we start to create a list that contains the rescaling factors for every filter after the most common\n",
    "    # The structure is (filtername, number of points, list of rescaling factors (up to 6))\n",
    "    scalingfactorslist=[[sortedoccur[1][0],sortedoccur[1][1],[0]]]\n",
    "    \n",
    "    # The following for loop makes j go through all the other filters (after the most common)\n",
    "    \n",
    "        \n",
    "    #print(scalingfactorslist)\n",
    "    \n",
    "    \n",
    "    lightresc=pd.DataFrame(nonrescaledclean, columns=['Time(s)','Mag','MagErr','Filter','Source'])\n",
    "    #lightresc=rescdata[rescdata['Filter'] != mostcommonfilter]\n",
    "    if lightresc.empty:\n",
    "        print(i+\" has only limiting magnitudes, thus it will be skipped\")\n",
    "        continue  \n",
    "    rescx=lightresc['Time(s)'].values\n",
    "    rescy=lightresc['Mag'].values\n",
    "    resccolor=lightresc['Filter'].values\n",
    "    rescerror_y= lightresc['MagErr'].values\n",
    "    reschover_data=lightresc['Source'].values\n",
    "    \n",
    "    # 1st part of LC: 0<logt<2 => logdeltat<=0.35\n",
    "    logdtprecision=0.35\n",
    "    lightresc1=lightresc.loc[(lightresc['Time(s)'] <= 2) & (lightresc['Time(s)'] > 0)].to_dict('lightresc1')\n",
    "    rescx1=lightresc1['Time(s)']\n",
    "    rescy1=lightresc1['Mag']\n",
    "    resccolor1=lightresc1['Filter']\n",
    "    rescerror_y1= lightresc1['MagErr'] \n",
    "    reschover_data1=lightresc1['Source']    \n",
    "    \n",
    "    mostcommonlight1=lightresc.loc[(light['Filter'] == secondcommonfilter) & (lightresc['Time(s)'] <= 2) & (lightresc['Time(s)'] > 0)].to_dict('list')\n",
    "    \n",
    "    #print(mostcommonlight1)\n",
    "    \n",
    "    mostcommonx1=mostcommonlight1['Time(s)']\n",
    "    mostcommony1=mostcommonlight1['Mag']\n",
    "    mostcommonerror_y1= mostcommonlight1['MagErr']\n",
    "    \n",
    "        \n",
    "    # **************************** WORK IN PROGRESS ********************************************\n",
    "\n",
    "\n",
    "    for j in range(1,len(sortedoccur)):\n",
    "        scalingfactorslist.append([sortedoccur[j][0],sortedoccur[j][1],[]])\n",
    "                 \n",
    "\n",
    "    for j in range(1,len(sortedoccur)):\n",
    "        \n",
    "        sublight=lightresc.loc[(lightresc['Filter'] == sortedoccur[j][0]) \n",
    "                                     & (lightresc['Time(s)'] <= 2) & (lightresc['Time(s)'] > 0)].to_dict('subset')\n",
    "        subx=sublight['Time(s)'].values\n",
    "        suby=sublight['Mag'].values\n",
    "        suberror_y=sublight['MagErr'].values\n",
    "        \n",
    "        \n",
    "        indexeslist = [[p1,p2] for p1 in range(len(mostcommonx1)) for p2 in range(len(subx))]\n",
    "        #print(indexeslist)\n",
    "    \n",
    "        timediff = [np.abs(mostcommonx1[p1]-subx[p2]) for p1 in range(len(mostcommonx1)) for p2 in range(len(subx))]\n",
    "        \n",
    "        if len(timediff)==0:\n",
    "            continue\n",
    "        \n",
    "        else:\n",
    "            m = min(timediff)\n",
    "            minpos = timediff.index(m)\n",
    "    \n",
    "            # We here define the re-scaling constant between the most common band and the j-th band (in order of occurencies)\n",
    "            scalingfactor1=mostcommony1[indexeslist[minpos][0]]-suby[indexeslist[minpos][1]]\n",
    "            scalingfactorslist[j][2].append(scalingfactor1)\n",
    "        \n",
    "    #print('Part1')         \n",
    "    #print(scalingfactorslist)\n",
    "\n",
    "    # 2nd part of LC: 2<logt<3 => logdeltat<=0.3\n",
    "    logdtprecision=0.3\n",
    "    lightresc2=lightresc.loc[(lightresc['Time(s)'] <= 3) & (lightresc['Time(s)'] > 2)].to_dict('lightresc1')\n",
    "    rescx2=lightresc2['Time(s)']\n",
    "    rescy2=lightresc2['Mag']\n",
    "    resccolor2=lightresc2['Filter']\n",
    "    rescerror_y2= lightresc2['MagErr']\n",
    "    reschover_data2=lightresc2['Source']    \n",
    "    \n",
    "    mostcommonlight2=lightresc.loc[(light['Filter'] == secondcommonfilter) & (lightresc['Time(s)'] <= 3) & (lightresc['Time(s)'] > 2)].to_dict('list')\n",
    "    \n",
    "    #print(mostcommonlight1)\n",
    "    \n",
    "    mostcommonx2=mostcommonlight2['Time(s)']\n",
    "    mostcommony2=mostcommonlight2['Mag']\n",
    "    mostcommonerror_y2= mostcommonlight2['MagErr']\n",
    "    \n",
    "    \n",
    "    for j in range(1,len(sortedoccur)):\n",
    "        \n",
    "        sublight=lightresc.loc[(lightresc['Filter'] == sortedoccur[j][0]) \n",
    "                                     & (lightresc['Time(s)'] <= 3) & (lightresc['Time(s)'] > 2)].to_dict('subset')\n",
    "        subx=sublight['Time(s)'].values\n",
    "        suby=sublight['Mag'].values\n",
    "        suberror_y=sublight['MagErr'].values\n",
    "        \n",
    "        #scalingfactorslist.append([sortedoccur[j][0],sortedoccur[j][1],[]])\n",
    "        \n",
    "        indexeslist = [[p1,p2] for p1 in range(len(mostcommonx2)) for p2 in range(len(subx))]\n",
    "        #print(indexeslist)\n",
    "    \n",
    "        timediff = [np.abs(mostcommonx2[p1]-subx[p2]) for p1 in range(len(mostcommonx2)) for p2 in range(len(subx))]\n",
    "        \n",
    "        if len(timediff)==0:\n",
    "            continue\n",
    "        \n",
    "        \n",
    "        else:\n",
    "            m = min(timediff)\n",
    "            minpos = timediff.index(m)\n",
    "    \n",
    "            # We here define the re-scaling constant between the most common band and the j-th band (in order of occurencies)\n",
    "            scalingfactor2=mostcommony2[indexeslist[minpos][0]]-suby[indexeslist[minpos][1]]\n",
    "            scalingfactorslist[j][2].append(scalingfactor2)\n",
    "        \n",
    "    #print('Part2') \n",
    "    #print(scalingfactorslist)\n",
    "\n",
    "    # 3rd part of LC: 3<logt<4 => logdeltat<=0.25\n",
    "    logdtprecision=0.25\n",
    "    lightresc3=lightresc.loc[(lightresc['Time(s)'] <= 4) & (lightresc['Time(s)'] > 3)].to_dict('lightresc1')\n",
    "    rescx3=lightresc3['Time(s)']\n",
    "    rescy3=lightresc3['Mag']\n",
    "    resccolor3=lightresc3['Filter']\n",
    "    rescerror_y3= lightresc3['MagErr']\n",
    "    reschover_data3=lightresc3['Source']    \n",
    "    \n",
    "    mostcommonlight3=lightresc.loc[(light['Filter'] == secondcommonfilter) & (lightresc['Time(s)'] <= 4) & (lightresc['Time(s)'] > 3)].to_dict('list')\n",
    "    \n",
    "    #print(mostcommonlight1)\n",
    "    \n",
    "    mostcommonx3=mostcommonlight3['Time(s)']\n",
    "    mostcommony3=mostcommonlight3['Mag']\n",
    "    mostcommonerror_y3= mostcommonlight3['MagErr']\n",
    "    \n",
    "    \n",
    "    # **************************** WORK IN PROGRESS ********************************************\n",
    "    \n",
    "    for j in range(1,len(sortedoccur)):\n",
    "        \n",
    "        sublight=lightresc.loc[(lightresc['Filter'] == sortedoccur[j][0]) \n",
    "                                     & (lightresc['Time(s)'] <= 4) & (lightresc['Time(s)'] > 3)].to_dict('subset')\n",
    "        subx=sublight['Time(s)'].values\n",
    "        suby=sublight['Mag'].values\n",
    "        suberror_y=sublight['MagErr'].values\n",
    "        \n",
    "        #scalingfactorslist.append([sortedoccur[j][0],sortedoccur[j][1],[]])\n",
    "        \n",
    "        indexeslist = [[p1,p2] for p1 in range(len(mostcommonx3)) for p2 in range(len(subx))]\n",
    "        #print(indexeslist)\n",
    "    \n",
    "        timediff = [np.abs(mostcommonx3[p1]-subx[p2]) for p1 in range(len(mostcommonx3)) for p2 in range(len(subx))]\n",
    "        \n",
    "        if len(timediff)==0:\n",
    "            continue\n",
    "        \n",
    "        else:\n",
    "            m = min(timediff)\n",
    "            minpos = timediff.index(m)\n",
    "    \n",
    "            # We here define the re-scaling constant between the most common band and the j-th band (in order of occurencies)\n",
    "            scalingfactor3=mostcommony3[indexeslist[minpos][0]]-suby[indexeslist[minpos][1]]\n",
    "            scalingfactorslist[j][2].append(scalingfactor3)\n",
    "                 \n",
    "                \n",
    "    # 4th part of LC: 4<logt<5 => logdeltat<=0.2\n",
    "    logdtprecision=0.2\n",
    "    lightresc4=lightresc.loc[(lightresc['Time(s)'] <= 5) & (lightresc['Time(s)'] > 4)].to_dict('lightresc1')\n",
    "    rescx4=lightresc4['Time(s)']\n",
    "    rescy4=lightresc4['Mag']\n",
    "    resccolor4=lightresc4['Filter']\n",
    "    rescerror_y4= lightresc4['MagErr']\n",
    "    reschover_data4=lightresc4['Source']    \n",
    "    \n",
    "    mostcommonlight4=lightresc.loc[(light['Filter'] == secondcommonfilter) & (lightresc['Time(s)'] <= 5) & (lightresc['Time(s)'] > 4)].to_dict('list')\n",
    "    \n",
    "    #print(mostcommonlight1)\n",
    "    \n",
    "    mostcommonx4=mostcommonlight4['Time(s)']\n",
    "    mostcommony4=mostcommonlight4['Mag']\n",
    "    mostcommonerror_y4= mostcommonlight4['MagErr']\n",
    "    \n",
    "    \n",
    "    # **************************** WORK IN PROGRESS ********************************************\n",
    "    \n",
    "    for j in range(1,len(sortedoccur)):\n",
    "        \n",
    "        sublight=lightresc.loc[(lightresc['Filter'] == sortedoccur[j][0]) \n",
    "                                     & (lightresc['Time(s)'] <= 5) & (lightresc['Time(s)'] > 4)].to_dict('subset')\n",
    "        subx=sublight['Time(s)'].values\n",
    "        suby=sublight['Mag'].values\n",
    "        suberror_y=sublight['MagErr'].values\n",
    "        \n",
    "        #scalingfactorslist.append([sortedoccur[j][0],sortedoccur[j][1],[]])\n",
    "        \n",
    "        indexeslist = [[p1,p2] for p1 in range(len(mostcommonx4)) for p2 in range(len(subx))]\n",
    "        #print(indexeslist)\n",
    "    \n",
    "        timediff = [np.abs(mostcommonx4[p1]-subx[p2]) for p1 in range(len(mostcommonx4)) for p2 in range(len(subx))]\n",
    "        \n",
    "        if len(timediff)==0:\n",
    "            continue\n",
    "        \n",
    "        else:\n",
    "            m = min(timediff)\n",
    "            minpos = timediff.index(m)\n",
    "\n",
    "            # We here define the re-scaling constant between the most common band and the j-th band (in order of occurencies)\n",
    "            scalingfactor4=mostcommony4[indexeslist[minpos][0]]-suby[indexeslist[minpos][1]]\n",
    "            scalingfactorslist[j][2].append(scalingfactor4)\n",
    "            \n",
    "    #print('Part4') \n",
    "    \n",
    "\n",
    "    # 5th part of LC: 5<logt<6 => logdeltat<=0.15\n",
    "    logdtprecision=0.15\n",
    "    lightresc5=lightresc.loc[(lightresc['Time(s)'] <= 6) & (lightresc['Time(s)'] > 5)].to_dict('lightresc1')\n",
    "    rescx5=lightresc5['Time(s)']\n",
    "    rescy5=lightresc5['Mag']\n",
    "    resccolor5=lightresc5['Filter']\n",
    "    rescerror_y5= lightresc5['MagErr']\n",
    "    reschover_data5=lightresc5['Source']    \n",
    "    \n",
    "    mostcommonlight5=lightresc.loc[(light['Filter'] == secondcommonfilter) & (lightresc['Time(s)'] <= 6) & (lightresc['Time(s)'] > 5)].to_dict('list')\n",
    "    \n",
    "    #print(mostcommonlight1)\n",
    "    \n",
    "    mostcommonx5=mostcommonlight5['Time(s)']\n",
    "    mostcommony5=mostcommonlight5['Mag']\n",
    "    mostcommonerror_y5= mostcommonlight5['MagErr']\n",
    "    \n",
    "    \n",
    "    # **************************** WORK IN PROGRESS ********************************************\n",
    "    \n",
    "    for j in range(1,len(sortedoccur)):\n",
    "        \n",
    "        sublight=lightresc.loc[(lightresc['Filter'] == sortedoccur[j][0]) \n",
    "                                     & (lightresc['Time(s)'] <= 6) & (lightresc['Time(s)'] > 5)].to_dict('subset')\n",
    "        subx=sublight['Time(s)'].values\n",
    "        suby=sublight['Mag'].values\n",
    "        suberror_y=sublight['MagErr'].values\n",
    "        \n",
    "        #scalingfactorslist.append([sortedoccur[j][0],sortedoccur[j][1],[]])\n",
    "        \n",
    "        indexeslist = [[p1,p2] for p1 in range(len(mostcommonx5)) for p2 in range(len(subx))]\n",
    "        #print(indexeslist)\n",
    "    \n",
    "        timediff = [np.abs(mostcommonx5[p1]-subx[p2]) for p1 in range(len(mostcommonx5)) for p2 in range(len(subx))]\n",
    "        \n",
    "        if len(timediff)==0:\n",
    "            continue\n",
    "        \n",
    "        else:\n",
    "            m = min(timediff)\n",
    "            minpos = timediff.index(m)\n",
    "\n",
    "            # We here define the re-scaling constant between the most common band and the j-th band (in order of occurencies)\n",
    "            scalingfactor5=mostcommony5[indexeslist[minpos][0]]-suby[indexeslist[minpos][1]]\n",
    "            scalingfactorslist[j][2].append(scalingfactor5)\n",
    "            \n",
    "    #print('Part5')     \n",
    "\n",
    "\n",
    "    # 6th part of LC: logt>6 => logdeltat<=0.1\n",
    "    logdtprecision=0.1\n",
    "    lightresc6=lightresc.loc[(lightresc['Time(s)'] > 6)].to_dict('lightresc1')\n",
    "    rescx6=lightresc6['Time(s)']\n",
    "    rescy6=lightresc6['Mag']\n",
    "    resccolor6=lightresc6['Filter']\n",
    "    rescerror_y6= lightresc6['MagErr']\n",
    "    reschover_data6=lightresc6['Source']    \n",
    "    \n",
    "    mostcommonlight6=lightresc.loc[(light['Filter'] == secondcommonfilter) & (lightresc['Time(s)'] > 6)].to_dict('list')\n",
    "    \n",
    "    #print(mostcommonlight1)\n",
    "    \n",
    "    mostcommonx6=mostcommonlight6['Time(s)']\n",
    "    mostcommony6=mostcommonlight6['Mag']\n",
    "    mostcommonerror_y6=mostcommonlight6['MagErr']\n",
    "    \n",
    "    \n",
    "    # **************************** WORK IN PROGRESS ********************************************\n",
    "    \n",
    "    for j in range(1,len(sortedoccur)):\n",
    "        \n",
    "        sublight=lightresc.loc[(lightresc['Filter'] == sortedoccur[j][0]) \n",
    "                                     & (lightresc['Time(s)'] > 6)].to_dict('subset')\n",
    "        subx=sublight['Time(s)'].values\n",
    "        suby=sublight['Mag'].values\n",
    "        suberror_y=sublight['MagErr'].values\n",
    "        \n",
    "        #scalingfactorslist.append([sortedoccur[j][0],sortedoccur[j][1],[]])\n",
    "        \n",
    "        indexeslist = [[p1,p2] for p1 in range(len(mostcommonx6)) for p2 in range(len(subx))]\n",
    "        #print(indexeslist)\n",
    "    \n",
    "        timediff = [np.abs(mostcommonx6[p1]-subx[p2]) for p1 in range(len(mostcommonx6)) for p2 in range(len(subx))]\n",
    "        \n",
    "        if len(timediff)==0:\n",
    "            continue\n",
    "        \n",
    "        else:\n",
    "            m = min(timediff)\n",
    "            minpos = timediff.index(m)\n",
    "\n",
    "            # We here define the re-scaling constant between the most common band and the j-th band (in order of occurencies)\n",
    "            scalingfactor6=mostcommony6[indexeslist[minpos][0]]-suby[indexeslist[minpos][1]]\n",
    "            scalingfactorslist[j][2].append(scalingfactor6)\n",
    "            \n",
    "    #print('Part6')\n",
    "    \n",
    "    \n",
    "    # Averaging the rescaling factors for each filter\n",
    "    \n",
    "    averagedrescalingfactor=[]\n",
    "    for j in range(len(scalingfactorslist)):\n",
    "        if np.isnan(np.mean(scalingfactorslist[j][2]))==False:\n",
    "                    averagedrescalingfactor.append([scalingfactorslist[j][0],scalingfactorslist[j][1],np.mean(scalingfactorslist[j][2])])\n",
    "        if np.isnan(np.mean(scalingfactorslist[j][2]))==True:\n",
    "                    averagedrescalingfactor.append([scalingfactorslist[j][0],scalingfactorslist[j][1],0])\n",
    "    \n",
    "    #print(scalingfactorslist)\n",
    "    \n",
    "    rescfactfromduplicate=[]\n",
    "    \n",
    "    for j in range(1,len(sortedoccur)):\n",
    "        \n",
    "        sublight=lightresc.loc[lightresc['Filter'] == sortedoccur[j][0]].to_dict('subset')\n",
    "        subx=sublight['Time(s)'].values\n",
    "        suby=sublight['Mag'].values\n",
    "        suberror_y=sublight['MagErr'].values\n",
    "        subcolor=sublight['Filter'].values\n",
    "                    \n",
    "        timediffpreliminar = []\n",
    "        \n",
    "        for p1 in range(len(mostcommonx)):\n",
    "            for p2 in range(len(subx)):\n",
    "                if (np.abs(mostcommonx[p1]-subx[p2])<=1e-15) & (subcolor[p2]==sortedoccur[j][0]):\n",
    "                    timediffpreliminar.append([p1,p2,sortedoccur[j][0],mostcommony[p1]-suby[p2]])\n",
    "        \n",
    "        if len(timediffpreliminar)==0:\n",
    "            continue\n",
    "        \n",
    "        #print('All the duplicates with the given filter')\n",
    "        #print(timediffpreliminar)\n",
    "        \n",
    "        meanlist=[]\n",
    "        for k in timediffpreliminar:\n",
    "            meanlist.append(k[3])\n",
    "        \n",
    "        rescfactfromduplicate.append([sortedoccur[j][0],np.mean(meanlist)])\n",
    "        \n",
    "        #print('Averaging the rescaling factors for the given filter')\n",
    "        #print(rescfactband)\n",
    "    \n",
    "    \n",
    "    for a in averagedrescalingfactor:\n",
    "        for b in rescfactfromduplicate:\n",
    "            if a[0]==b[0]:\n",
    "                a[2]=b[1]\n",
    "                \n",
    "    \n",
    "    junction2to3=[]\n",
    "    junction3to4=[]\n",
    "    junction4to5=[]\n",
    "    junction5to6=[]\n",
    "    junction6up=[]\n",
    "    \n",
    "    \n",
    "\n",
    "    # RESCALING PART OF THE LC 0<logt<2\n",
    "    \n",
    "    for pp in range(len(rescy1)):\n",
    "        logdtprecision=0.35\n",
    "        start2=rescy1[pp]-rescerror_y1[pp]\n",
    "        end2=rescy1[pp]+rescerror_y1[pp]\n",
    "        supportlistov=[]\n",
    "        supportlistdist=[]\n",
    "        \n",
    "        \n",
    "        \n",
    "        for ff in averagedrescalingfactor:\n",
    "            if (resccolor1[pp] == ff[0]) & (resccolor1[pp] != mostcommonfilter):\n",
    "                for nn in [x for x in range(len(rescy1)) if (x != pp) & (resccolor1[x]==secondcommonfilter)]:\n",
    "                    start1=rescy1[nn]-rescerror_y1[nn] \n",
    "                    end1=rescy1[nn]+rescerror_y1[nn]\n",
    "                    dist=np.abs(rescx1[nn]-rescx1[pp])\n",
    "                    supportlistov.append(overlap(start1, end1, start2, end2))\n",
    "                    supportlistdist.append(dist)\n",
    "                          \n",
    "                if all(supportlistdist)>logdtprecision:\n",
    "                    rescy1[pp]=rescy1[pp]\n",
    "                    \n",
    "                    if 2-logdtprecision<rescx1[pp]<2:\n",
    "                        junction2to3.append([rescx1[pp],rescy1[pp],rescerror_y1[pp],resccolor1[pp]])                     \n",
    "                    \n",
    "                if any((supportlistov[i] == 0) & (supportlistdist[i] <= logdtprecision) for i in range(len(supportlistov))):\n",
    "                    rescy1[pp]=rescy1[pp]+ff[2]\n",
    "                else:\n",
    "                    rescy1[pp]=rescy1[pp]\n",
    "    \n",
    "    # RESCALING PART OF THE LC 2<logt<3                 \n",
    "    \n",
    "    for pp in range(len(rescy2)):\n",
    "        start2=rescy2[pp]-rescerror_y2[pp]\n",
    "        end2=rescy2[pp]+rescerror_y2[pp]\n",
    "        supportlistov=[]\n",
    "        supportlistdist=[]\n",
    "        logdtprecision=0.3\n",
    "        #junction3to4=[]\n",
    "         \n",
    "        \n",
    "        for ff in averagedrescalingfactor:\n",
    "            if (resccolor2[pp] == ff[0]) & (resccolor2[pp] != mostcommonfilter):\n",
    "                for nn in [x for x in range(len(rescy2)) if (x != pp) & (resccolor2[x]==secondcommonfilter)]:\n",
    "                    start1=rescy2[nn]-rescerror_y2[nn] \n",
    "                    end1=rescy2[nn]+rescerror_y2[nn]\n",
    "                    dist=np.abs(rescx2[nn]-rescx2[pp])\n",
    "                    supportlistov.append(overlap(start1, end1, start2, end2))\n",
    "                    supportlistdist.append(dist)\n",
    "                          \n",
    "                if all(supportlistdist)>logdtprecision:\n",
    "                    rescy2[pp]=rescy2[pp]\n",
    "                    \n",
    "                    if 3-logdtprecision<rescx2[pp]<3:\n",
    "                        junction3to4.append([rescx2[pp],rescy2[pp],rescerror_y2[pp],resccolor2[pp]]) \n",
    "                        \n",
    "                if any((supportlistov[i] == 0) & (supportlistdist[i] <= logdtprecision) for i in range(len(supportlistov))):\n",
    "                    rescy2[pp]=rescy2[pp]+ff[2]\n",
    "                else:\n",
    "                    rescy2[pp]=rescy2[pp]\n",
    " \n",
    "\n",
    "    # RESCALING PART OF THE LC 3<logt<4     \n",
    "    \n",
    "    for pp in range(len(rescy3)):\n",
    "        \n",
    "        start3=rescy3[pp]-rescerror_y3[pp]\n",
    "        end3=rescy3[pp]+rescerror_y3[pp]\n",
    "        supportlistov=[]\n",
    "        supportlistdist=[]\n",
    "        logdtprecision=0.25\n",
    "        #junction4to5=[]\n",
    "        \n",
    "        \n",
    "        for ff in averagedrescalingfactor:\n",
    "            if (resccolor3[pp] == ff[0]) & (resccolor3[pp] != mostcommonfilter):\n",
    "                for nn in [x for x in range(len(rescy3)) if (x != pp) & (resccolor3[x]==secondcommonfilter)]:\n",
    "                    start1=rescy3[nn]-rescerror_y3[nn] \n",
    "                    end1=rescy3[nn]+rescerror_y3[nn]\n",
    "                    dist=np.abs(rescx3[nn]-rescx3[pp])\n",
    "                    supportlistov.append(overlap(start1, end1, start3, end3))\n",
    "                    supportlistdist.append(dist)\n",
    "                          \n",
    "                if all(supportlistdist)>logdtprecision:\n",
    "                    rescy3[pp]=rescy3[pp]\n",
    "                    \n",
    "                    if 4-logdtprecision<rescx3[pp]<4:\n",
    "                        junction4to5.append([rescx3[pp],rescy3[pp],rescerror_y3[pp],resccolor3[pp]])                    \n",
    "                    \n",
    "                if any((supportlistov[i] == 0) & (supportlistdist[i] <= logdtprecision) for i in range(len(supportlistov))):\n",
    "                    rescy3[pp]=rescy3[pp]+ff[2]\n",
    "                else:\n",
    "                    rescy3[pp]=rescy3[pp]\n",
    "\n",
    "                    \n",
    "    # RESCALING PART OF THE LC 4<logt<5     \n",
    "    \n",
    "    for pp in range(len(rescy4)):\n",
    "        \n",
    "        start4=rescy4[pp]-rescerror_y4[pp]\n",
    "        end4=rescy4[pp]+rescerror_y4[pp]\n",
    "        supportlistov=[]\n",
    "        supportlistdist=[]\n",
    "        logdtprecision=0.2\n",
    "        #junction5to6=[]\n",
    "        \n",
    "         \n",
    "        \n",
    "        for ff in averagedrescalingfactor:\n",
    "            if (resccolor4[pp] == ff[0]) & (resccolor4[pp] != mostcommonfilter):\n",
    "                for nn in [x for x in range(len(rescy4)) if (x != pp) & (resccolor4[x]==secondcommonfilter)]:\n",
    "                    start1=rescy4[nn]-rescerror_y4[nn] \n",
    "                    end1=rescy4[nn]+rescerror_y4[nn]\n",
    "                    dist=np.abs(rescx4[nn]-rescx4[pp])\n",
    "                    supportlistov.append(overlap(start1, end1, start4, end4))\n",
    "                    supportlistdist.append(dist)\n",
    "                          \n",
    "                if all(supportlistdist)>logdtprecision:\n",
    "                    rescy4[pp]=rescy4[pp]\n",
    "                    \n",
    "                    if 5-logdtprecision<rescx4[pp]<5:\n",
    "                        junction5to6.append([rescx4[pp],rescy4[pp],rescerror_y4[pp],resccolor4[pp]])\n",
    "                    \n",
    "                if any((supportlistov[i] == 0) & (supportlistdist[i] <= logdtprecision) for i in range(len(supportlistov))):\n",
    "                    rescy4[pp]=rescy4[pp]+ff[2]\n",
    "                else:\n",
    "                    rescy4[pp]=rescy4[pp]\n",
    "\n",
    "                    \n",
    "    # RESCALING PART OF THE LC 5<logt<6 \n",
    "    \n",
    "    for pp in range(len(rescy5)):\n",
    "        \n",
    "        start5=rescy5[pp]-rescerror_y5[pp]\n",
    "        end5=rescy5[pp]+rescerror_y5[pp]\n",
    "        supportlistov=[]\n",
    "        supportlistdist=[]\n",
    "        logdtprecision=0.15\n",
    "        #junction6up=[]\n",
    "        \n",
    "         \n",
    "        \n",
    "        for ff in averagedrescalingfactor:\n",
    "            if (resccolor5[pp] == ff[0]) & (resccolor5[pp] != mostcommonfilter):\n",
    "                for nn in [x for x in range(len(rescy5)) if (x != pp) & (resccolor5[x]==secondcommonfilter)]:\n",
    "                    start1=rescy5[nn]-rescerror_y5[nn] \n",
    "                    end1=rescy5[nn]+rescerror_y5[nn]\n",
    "                    dist=np.abs(rescx5[nn]-rescx5[pp])\n",
    "                    supportlistov.append(overlap(start1, end1, start5, end5))\n",
    "                    supportlistdist.append(dist)\n",
    "                          \n",
    "                if all(supportlistdist)>logdtprecision:\n",
    "                    rescy5[pp]=rescy5[pp]\n",
    "                    \n",
    "                    if 6-logdtprecision<rescx5[pp]<6:\n",
    "                        junction6up.append([rescx5[pp],rescy5[pp],rescerror_y5[pp],resccolor5[pp]])\n",
    "                        \n",
    "                if any((supportlistov[i] == 0) & (supportlistdist[i] <= logdtprecision) for i in range(len(supportlistov))):\n",
    "                    rescy5[pp]=rescy5[pp]+ff[2]\n",
    "                else:\n",
    "                    rescy5[pp]=rescy5[pp]\n",
    "                    \n",
    "              \n",
    "    # RESCALING PART OF THE LC Logt>6                    \n",
    "    \n",
    "                \n",
    "    for pp in range(len(rescy6)):\n",
    "        \n",
    "        start6=rescy6[pp]-rescerror_y6[pp]\n",
    "        end6=rescy6[pp]+rescerror_y6[pp]\n",
    "        supportlistov=[]\n",
    "        supportlistdist=[]\n",
    "        logdtprecision=0.1\n",
    "        \n",
    "         \n",
    "        \n",
    "        for ff in averagedrescalingfactor:\n",
    "            if (resccolor6[pp] == ff[0]) & (resccolor6[pp] != mostcommonfilter):\n",
    "                for nn in [x for x in range(len(rescy6)) if (x != pp) & (resccolor6[x]==secondcommonfilter)]:\n",
    "                    start1=rescy6[nn]-rescerror_y6[nn] \n",
    "                    end1=rescy6[nn]+rescerror_y6[nn]\n",
    "                    dist=np.abs(rescx6[nn]-rescx6[pp])\n",
    "                    supportlistov.append(overlap(start1, end1, start6, end6))\n",
    "                    supportlistdist.append(dist)\n",
    "                          \n",
    "                if all(supportlistdist)>logdtprecision:\n",
    "                    rescy6[pp]=rescy6[pp]\n",
    "                    \n",
    "                    if 6-logdtprecision<rescx6[pp]<6:\n",
    "                        junction6up.append([rescx6[pp],rescy6[pp],rescerror_y6[pp],resccolor6[pp]])                    \n",
    "                    \n",
    "                if any((supportlistov[i] == 0) & (supportlistdist[i] <= logdtprecision) for i in range(len(supportlistov))):\n",
    "                    rescy6[pp]=rescy6[pp]+ff[2]\n",
    "                else:\n",
    "                    rescy6[pp]=rescy6[pp]\n",
    "\n",
    "    \n",
    "    #########################################################################\n",
    "    # RESCALING THE JUNCTIONS                \n",
    "    \n",
    "    \n",
    "    if len(junction2to3)!=0:\n",
    "        for pp in range(len(junction2to3)):\n",
    "        \n",
    "            start3=junction2to3[pp][1]-junction2to3[pp][2]\n",
    "            end3=junction2to3[pp][1]+junction2to3[pp][2]\n",
    "            supportlistov=[]\n",
    "            supportlistdist=[]\n",
    "            logdtprecision=0.3\n",
    "           \n",
    "        \n",
    "        for ff in averagedrescalingfactor:\n",
    "            if (junction2to3[pp][3] == ff[0]) & (junction2to3[pp][3] != mostcommonfilter):\n",
    "                for nn in [x for x in range(len(rescy3)) if (x != pp) & (resccolor3[x]==mostcommonfilter)]:\n",
    "                    start1=rescy3[nn]-rescerror_y3[nn] \n",
    "                    end1=rescy3[nn]+rescerror_y3[nn]\n",
    "                    dist=np.abs(rescx3[nn]-junction2to3[pp][0])\n",
    "                    supportlistov.append(overlap(start1, end1, start3, end3))\n",
    "                    supportlistdist.append(dist)\n",
    "                          \n",
    "                if all(supportlistdist)>logdtprecision:\n",
    "                    junction2to3[pp][1]=junction2to3[pp][1]\n",
    "                if any((supportlistov[i] == 0) & (supportlistdist[i] <= logdtprecision) for i in range(len(supportlistov))):\n",
    "                    junction2to3[pp][1]=junction2to3[pp][1]+ff[2]\n",
    "                else:\n",
    "                    junction2to3[pp][1]=junction2to3[pp][1]\n",
    "\n",
    "    else:\n",
    "        junction2to3=[]                      \n",
    "    \n",
    "    if len(junction3to4)!=0:    \n",
    "        for pp in range(len(junction3to4)):\n",
    "        \n",
    "            start4=junction3to4[pp][1]-junction3to4[pp][2]\n",
    "            end4=junction3to4[pp][1]+junction3to4[pp][2]\n",
    "            supportlistov=[]\n",
    "            supportlistdist=[]\n",
    "            logdtprecision=0.25\n",
    "        \n",
    "         \n",
    "        \n",
    "        for ff in averagedrescalingfactor:\n",
    "            if (junction3to4[pp][3] == ff[0]) & (junction3to4[pp][3] != secondcommonfilter):\n",
    "                for nn in [x for x in range(len(rescy4)) if (x != pp) & (resccolor4[x]==mostcommonfilter)]:\n",
    "                    start1=rescy4[nn]-rescerror_y4[nn] \n",
    "                    end1=rescy4[nn]+rescerror_y4[nn]\n",
    "                    dist=np.abs(rescx4[nn]-junction3to4[pp][0])\n",
    "                    supportlistov.append(overlap(start1, end1, start4, end4))\n",
    "                    supportlistdist.append(dist)\n",
    "                          \n",
    "                if all(supportlistdist)>logdtprecision:\n",
    "                    junction3to4[pp][1]=junction3to4[pp][1]\n",
    "                if any((supportlistov[i] == 0) & (supportlistdist[i] <= logdtprecision) for i in range(len(supportlistov))):\n",
    "                    junction3to4[pp][1]=junction3to4[pp][1]+ff[2]\n",
    "                else:\n",
    "                    junction3to4[pp][1]=junction3to4[pp][1]\n",
    "                    \n",
    "    else:\n",
    "        junction3to4=[]                    \n",
    "                    \n",
    "        \n",
    "    if len(junction4to5)!=0:    \n",
    "        for pp in range(len(junction4to5)):\n",
    "        \n",
    "            start5=junction4to5[pp][1]-junction4to5[pp][2]\n",
    "            end5=junction4to5[pp][1]+junction4to5[pp][2]\n",
    "            supportlistov=[]\n",
    "            supportlistdist=[]\n",
    "            logdtprecision=0.2\n",
    "        \n",
    "         \n",
    "        \n",
    "        for ff in averagedrescalingfactor:\n",
    "            if (junction4to5[pp][3] == ff[0]) & (junction4to5[pp][3] != secondcommonfilter):\n",
    "                for nn in [x for x in range(len(rescy5)) if (x != pp) & (resccolor5[x]==mostcommonfilter)]:\n",
    "                    start1=rescy5[nn]-rescerror_y5[nn] \n",
    "                    end1=rescy5[nn]+rescerror_y5[nn]\n",
    "                    dist=np.abs(rescx5[nn]-junction4to5[pp][0])\n",
    "                    supportlistov.append(overlap(start1, end1, start5, end5))\n",
    "                    supportlistdist.append(dist)\n",
    "                          \n",
    "                if all(supportlistdist)>logdtprecision:\n",
    "                    junction4to5[pp][1]=junction4to5[pp][1]\n",
    "                if any((supportlistov[i] == 0) & (supportlistdist[i] <= logdtprecision) for i in range(len(supportlistov))):\n",
    "                    junction4to5[pp][1]=junction4to5[pp][1]+ff[2]\n",
    "                else:\n",
    "                    junction4to5[pp][1]=junction4to5[pp][1]\n",
    " \n",
    "    else:\n",
    "        junction4to5=[]   \n",
    "\n",
    "        \n",
    "    if len(junction5to6)!=0:            \n",
    "        for pp in range(len(junction5to6)):\n",
    "        \n",
    "            start6=junction5to6[pp][1]-junction5to6[pp][2]\n",
    "            end6=junction5to6[pp][1]+junction5to6[pp][2]\n",
    "            supportlistov=[]\n",
    "            supportlistdist=[]\n",
    "            logdtprecision=0.15\n",
    "        \n",
    "         \n",
    "        \n",
    "        for ff in averagedrescalingfactor:\n",
    "            if (junction5to6[pp][3] == ff[0]) & (junction5to6[pp][3] != mostcommonfilter):\n",
    "                for nn in [x for x in range(len(rescy6)) if (x != pp) & (resccolor6[x]==mostcommonfilter)]:\n",
    "                    start1=rescy6[nn]-rescerror_y6[nn] \n",
    "                    end1=rescy6[nn]+rescerror_y6[nn]\n",
    "                    dist=np.abs(rescx6[nn]-junction5to6[pp][0])\n",
    "                    supportlistov.append(overlap(start1, end1, start6, end6))\n",
    "                    supportlistdist.append(dist)\n",
    "                          \n",
    "                if all(supportlistdist)>logdtprecision:\n",
    "                    junction5to6[pp][1]=junction5to6[pp][1]\n",
    "                if any((supportlistov[i] == 0) & (supportlistdist[i] <= logdtprecision) for i in range(len(supportlistov))):\n",
    "                    junction5to6[pp][1]=junction5to6[pp][1]+ff[2]\n",
    "                else:\n",
    "                    junction5to6[pp][1]=junction5to6[pp][1]\n",
    "\n",
    "    else:\n",
    "        junction5to6=[]                   \n",
    "                    \n",
    "                    \n",
    "    if len(junction6up)!=0:            \n",
    "        for pp in range(len(junction6up)):\n",
    "        \n",
    "            start7=junction6up[pp][1]-junction6up[pp][2]\n",
    "            end7=junction6up[pp][1]+junction6up[pp][2]\n",
    "            supportlistov=[]\n",
    "            supportlistdist=[]\n",
    "            logdtprecision=0.10\n",
    "        \n",
    "         \n",
    "        \n",
    "        for ff in averagedrescalingfactor:\n",
    "            if (junction6up[pp][3] == ff[0]) & (junction6up[pp][3] != mostcommonfilter):\n",
    "                for nn in [x for x in range(len(rescy6)) if (x != pp) & (resccolor6[x]==mostcommonfilter)]:\n",
    "                    start1=rescy6[nn]-rescerror_y6[nn] \n",
    "                    end1=rescy6[nn]+rescerror_y6[nn]\n",
    "                    dist=np.abs(rescx6[nn]-rescx6[pp])\n",
    "                    supportlistov.append(overlap(start1, end1, start7, end7))\n",
    "                    supportlistdist.append(dist)\n",
    "                          \n",
    "                if all(supportlistdist)>logdtprecision:\n",
    "                    junction6up[pp][1]=junction6up[pp][1]\n",
    "                if any((supportlistov[i] == 0) & (supportlistdist[i] <= logdtprecision) for i in range(len(supportlistov))):\n",
    "                    junction6up[pp][1]=junction6up[pp][1]+ff[2]\n",
    "                else:\n",
    "                    junction6up[pp][1]=junction6up[pp][1]\n",
    "\n",
    "    else:\n",
    "        junction6up=[]\n",
    "            \n",
    "    totaljunction2=junction2to3+junction3to4+junction4to5+junction5to6+junction6up\n",
    "    \n",
    "    rescyfinal2=np.concatenate((rescy1,rescy2,rescy3,rescy4,rescy5,rescy6))\n",
    "    \n",
    "    print('The second most numerous filter of this GRB: ',sortedoccur[1][0],', with', sortedoccur[1][1], 'occurrences')\n",
    "    \n",
    "    \n",
    "    rescdata2 = pd.DataFrame(list(zip(rescx, rescyfinal2, rescerror_y, resccolor, freqfinal, reschover_data)),\n",
    "               columns =['Time(s)','Mag','MagErr','Filter','Freq','Source'])\n",
    "    \n",
    "    \n",
    "    for qq in totaljunction:\n",
    "        \n",
    "        for ind in rescdata2.index:\n",
    "            if (qq[0]==rescdata2['Time(s)'][ind]) & (qq[3]==rescdata2['Filter'][ind]):\n",
    "                rescdata2['Mag'][ind]=qq[1]\n",
    "    \n",
    "    \n",
    "    # MERGING THE FIRST RESCALED LC (WITH RESPECT TO MOST NUMEROUS FILTER) AND THE SECOND RESCALED\n",
    "    # WITH RESPECT TO SECOND MOST NUMEROUS FILTER\n",
    "    \n",
    "    tosubstitute=pd.DataFrame()\n",
    "    for s in light.index:\n",
    "        for o in rescdata.index:\n",
    "            if (rescdata['Time(s)'][o]==light['Time(s)'][s]) & (rescdata['Mag'][o]==light['Mag'][s]) & (rescdata['MagErr'][o]==light['MagErr'][s]) & (rescdata['Filter'][o]==light['Filter'][s]):\n",
    "                tosubstitute.append(rescdata[o])\n",
    "    \n",
    "                \n",
    "    for o in rescdata.index:\n",
    "        for j in tosubstitute.index:\n",
    "                if (tosubstitute['Time(s)'][j]==rescdata['Time(s)'][o]) & (tosubstitute['MagErr'][j]==rescdata['MagErr'][o]) & (tosubstitute['Filter'][j]==rescdata['Filter'][o]):\n",
    "                    rescdata['Mag'][o]=tosubstitute['Mag'][j]\n",
    "    \n",
    "    \n",
    "    # THIRD STEP\n",
    "    # Duplicate remover written by Ridha. Keeps the most occurring filter. BIAGIO'S EDIT: I put the rounding on time values\n",
    "    \n",
    "    def duplicate_remover(df):\n",
    "        freq_df = pd.DataFrame(df['Filter'].value_counts())\n",
    "        freq_df.rename(columns = {'Filter':'freq'}, inplace = True)\n",
    "    \n",
    "        for i,j in zip(df.index, df.Filter):\n",
    "            df.loc[i, 'freq'] = freq_df.loc[j, 'freq']\n",
    "\n",
    "        #df = df.sort_values('freq', ascending=False).drop_duplicates(subset='Time(s)', keep=\"first\")\n",
    "        \n",
    "        df = df.sort_values('freq', ascending=False)\n",
    "        digitsnumber = 2\n",
    "        df = df.round({'Time(s)': digitsnumber }) #rounding the values up to the digitsnumber parameter\n",
    "        df = df.drop_duplicates(subset='Time(s)', keep=\"first\")\n",
    "        df = df.sort_values('Time(s)', ascending=True)\n",
    "\n",
    "        return df\n",
    "    \n",
    "    rescdatafinal=duplicate_remover(rescdata)\n",
    "    \n",
    "    \n",
    "    colorandfreq=[]\n",
    "    for k in rescdatafinal['Filter']:\n",
    "        for j in filterslist:\n",
    "            if j[0]==k:\n",
    "                colorandfreq.append(str(k)+' ('+str(j[1])+')')\n",
    "\n",
    "    \n",
    "    fig = px.scatter(\n",
    "    data_frame=rescdatafinal,\n",
    "    x=rescdatafinal['Time(s)'].values,\n",
    "    y=-rescdatafinal['Mag'].values,#=np.log10(resclight['flux'].values),\n",
    "    error_y=rescdatafinal['MagErr'].values,#= resclight['flux_err'].values / (light['flux'].values * np.log(10)),\n",
    "    hover_data=['Source'],#=['source'],\n",
    "    color=colorandfreq, #rescdatafinal['Filter'].values,\n",
    "    title=i+'_RESCALED',\n",
    "    )\n",
    "    fig.update_layout(\n",
    "        xaxis_title='log Time (s)',\n",
    "        yaxis_title='Mag'\n",
    "    )\n",
    "\n",
    "    fig.show()\n",
    "    #fig.write_html(i+\"_RESCALED.html\")"
   ]
  },
  {
   "cell_type": "code",
   "execution_count": null,
   "id": "d8e96bc5",
   "metadata": {},
   "outputs": [],
   "source": []
  }
 ],
 "metadata": {
  "kernelspec": {
   "display_name": "Python 3 (ipykernel)",
   "language": "python",
   "name": "python3"
  },
  "language_info": {
   "codemirror_mode": {
    "name": "ipython",
    "version": 3
   },
   "file_extension": ".py",
   "mimetype": "text/x-python",
   "name": "python",
   "nbconvert_exporter": "python",
   "pygments_lexer": "ipython3",
   "version": "3.9.12"
  },
  "vscode": {
   "interpreter": {
    "hash": "f0f1fbfcf951cf3753cfed0bdf8a65c2a6e35f2291392e0eeaef64242cbdd747"
   }
  }
 },
 "nbformat": 4,
 "nbformat_minor": 5
}
