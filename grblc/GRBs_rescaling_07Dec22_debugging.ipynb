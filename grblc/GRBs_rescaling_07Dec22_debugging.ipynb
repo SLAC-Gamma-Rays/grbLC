{
 "cells": [
  {
   "cell_type": "markdown",
   "id": "a4c3e361",
   "metadata": {},
   "source": [
    "# Rescaling of LCs (Biagio)"
   ]
  },
  {
   "cell_type": "markdown",
   "id": "20572b80",
   "metadata": {},
   "source": [
    "The following warning has been ignored, keep in mind when inserting this code in the grblc package\n",
    "\n",
    "C:\\Users\\biagi\\AppData\\Local\\Temp\\ipykernel_2268\\907779747.py:51: FutureWarning:\n",
    "\n",
    "Using short name for 'orient' is deprecated. Only the options: ('dict', list, 'series', 'split', 'records', 'index') will be used in a future version. Use one of the above to silence this warning."
   ]
  },
  {
   "cell_type": "code",
   "execution_count": 1,
   "id": "9aab6e4a",
   "metadata": {},
   "outputs": [],
   "source": [
    "import plotly.express as px\n",
    "import pandas as pd\n",
    "import numpy as np\n",
    "import os\n",
    "from grblc.fitting import OutlierPlot\n",
    "import plotly.offline\n",
    "import plotly.io as pio\n",
    "import glob\n",
    "\n",
    "#from IPython.core.interactiveshell import InteractiveShell\n",
    "#InteractiveShell.ast_node_interactivity = \"all\"\n",
    "\n",
    "# ignores FutureWarning for pandas\n",
    "import warnings\n",
    "warnings.filterwarnings(\"ignore\")"
   ]
  },
  {
   "cell_type": "markdown",
   "id": "863c152c",
   "metadata": {},
   "source": [
    "# 08-12-2022, Last condition - going beyond the most numerous filter\n",
    "### The duplicates and boundaries conditions are already inserted here"
   ]
  },
  {
   "cell_type": "code",
   "execution_count": 3,
   "id": "f679771c",
   "metadata": {
    "scrolled": false
   },
   "outputs": [
    {
     "data": {
      "application/vnd.plotly.v1+json": {
       "config": {
        "plotlyServerURL": "https://plot.ly"
       },
       "data": [
        {
         "customdata": [
          [
           "astro-ph0004223"
          ],
          [
           "astro-ph0004186"
          ],
          [
           "astro-ph0004223"
          ],
          [
           "astro-ph0005609"
          ],
          [
           "astro-ph0004186"
          ],
          [
           "astro-ph0004223"
          ],
          [
           "astro-ph0005609"
          ],
          [
           "astro-ph0004186"
          ],
          [
           "astro-ph0005609"
          ],
          [
           "astro-ph0004186"
          ],
          [
           "astro-ph0005609"
          ],
          [
           "astro-ph0005609"
          ],
          [
           "astro-ph0004223"
          ],
          [
           "astro-ph0004223"
          ],
          [
           "astro-ph0004223"
          ],
          [
           "astro-ph0004223"
          ],
          [
           "astro-ph0004186"
          ],
          [
           "astro-ph0004223"
          ],
          [
           "astro-ph0004186"
          ],
          [
           "astro-ph0004223"
          ],
          [
           "astro-ph0004223"
          ],
          [
           "astro-ph0005609"
          ],
          [
           "astro-ph0004223"
          ],
          [
           "astro-ph0005609"
          ],
          [
           "astro-ph0005609"
          ],
          [
           "astro-ph0004223"
          ],
          [
           "astro-ph0005609"
          ],
          [
           "astro-ph0004223"
          ],
          [
           "astro-ph0004186"
          ],
          [
           "astro-ph0005609"
          ],
          [
           "astro-ph0004223"
          ],
          [
           "astro-ph0004186"
          ],
          [
           "astro-ph0004223"
          ],
          [
           "astro-ph0004186"
          ],
          [
           "astro-ph0004223"
          ],
          [
           "astro-ph0005609"
          ],
          [
           "astro-ph0004186"
          ],
          [
           "astro-ph0005609"
          ],
          [
           "astro-ph0004223"
          ],
          [
           "astro-ph0004223"
          ],
          [
           "astro-ph0004186"
          ],
          [
           "astro-ph0004186"
          ],
          [
           "astro-ph0005609"
          ],
          [
           "astro-ph0004223"
          ],
          [
           "astro-ph0004186"
          ],
          [
           "astro-ph0005609"
          ],
          [
           "astro-ph0004223"
          ],
          [
           "astro-ph0005609"
          ],
          [
           "astro-ph0004223"
          ],
          [
           "astro-ph0005609"
          ],
          [
           "astro-ph0004223"
          ],
          [
           "astro-ph0004223"
          ]
         ],
         "error_y": {
          "array": [
           0.06,
           0.042,
           0.03,
           0.04,
           0.05,
           0.05,
           0.04,
           0.05,
           0.04,
           0.05,
           0.04,
           0.04,
           0.04,
           0.05,
           0.05,
           0.06,
           0.04,
           0.1,
           0.06,
           0.06,
           0.05,
           0.06,
           0.06,
           0.03,
           0.04,
           0.04,
           0.04,
           0.05,
           0.07,
           0.05,
           0.04,
           0.06,
           0.07,
           0.2,
           0.15,
           0.26,
           0.15,
           0.07,
           0.07,
           0.1,
           0.15,
           0.1,
           0.05,
           0.1,
           0.2,
           0.15,
           0.09,
           0.18,
           0.1,
           0.22,
           0.1,
           0.15
          ]
         },
         "hovertemplate": "color=R (52)<br>x=%{x}<br>y=%{y}<br>Source=%{customdata[0]}<extra></extra>",
         "legendgroup": "R (52)",
         "marker": {
          "color": "#636efa",
          "symbol": "circle"
         },
         "mode": "markers",
         "name": "R (52)",
         "orientation": "v",
         "showlegend": true,
         "type": "scatter",
         "x": [
          5.11811585631456,
          5.118203199436206,
          5.126605396786417,
          5.175653849077253,
          5.175785987535105,
          5.181817872378599,
          5.183101789044353,
          5.186922449008297,
          5.187997055411319,
          5.19079376575544,
          5.192837757934309,
          5.202360243970288,
          5.258558269374228,
          5.258558269374228,
          5.258558269374228,
          5.337768648279393,
          5.337830898247273,
          5.349671808301857,
          5.356859590558494,
          5.362885668692368,
          5.409144932932541,
          5.415459151905201,
          5.420691608901915,
          5.4245141268223716,
          5.425923671882235,
          5.426353455301646,
          5.427328656922256,
          5.480475498057655,
          5.50835057763854,
          5.536310925195193,
          5.561738041086784,
          5.594398075715366,
          5.594443380851481,
          5.611794445775648,
          5.61858252553545,
          5.633669396532646,
          5.694256746233719,
          5.700756486774412,
          5.731638718265333,
          5.750705055633811,
          5.7507355879095154,
          5.765532509143219,
          5.767493519386613,
          5.81383642002171,
          5.813838820231441,
          5.825856304103062,
          5.845489349126536,
          5.936412696939156,
          5.945928240942137,
          5.98014841536022,
          6.056730717678201,
          6.461417933218118
         ],
         "xaxis": "x",
         "y": [
          -20.42,
          -20.42,
          -20.02,
          -20.09,
          -20.25,
          -19.94,
          -20.15,
          -20.16,
          -20.11,
          -20.25,
          -20.14,
          -20.16,
          -20.27,
          -20.24,
          -20.28,
          -20.53,
          -20.51,
          -20.49,
          -20.53,
          -20.57,
          -20.56,
          -20.61,
          -20.54,
          -20.58,
          -20.54,
          -20.61,
          -20.6,
          -20.58,
          -20.47,
          -20.61,
          -20.86,
          -21.14,
          -21.18,
          -21.65,
          -21.5,
          -21.43,
          -21.68,
          -21.59,
          -21.7,
          -21.95,
          -22,
          -21.68,
          -21.8,
          -22.13,
          -22.04,
          -22.11,
          -22.28,
          -23.12,
          -23.02,
          -23.1,
          -23.82,
          -26.9
         ],
         "yaxis": "y"
        },
        {
         "customdata": [
          [
           "astro-ph0004223"
          ],
          [
           "astro-ph0004186"
          ],
          [
           "astro-ph0005609"
          ],
          [
           "astro-ph0005609"
          ],
          [
           "astro-ph0004186"
          ],
          [
           "astro-ph0004223"
          ],
          [
           "astro-ph0005609"
          ],
          [
           "astro-ph0004223"
          ],
          [
           "astro-ph0005609"
          ],
          [
           "astro-ph0004223"
          ],
          [
           "astro-ph0004186"
          ],
          [
           "astro-ph0004186"
          ],
          [
           "astro-ph0004186"
          ],
          [
           "astro-ph0005609"
          ],
          [
           "astro-ph0005609"
          ],
          [
           "astro-ph0005609"
          ],
          [
           "astro-ph0004223"
          ]
         ],
         "error_y": {
          "array": [
           0.2,
           0.05,
           0.04,
           0.04,
           0.12,
           0.04,
           0.05,
           0.04,
           0.04,
           0.14,
           0.2,
           0.15,
           0.1,
           0.08,
           0.11,
           0.3,
           0.12
          ]
         },
         "hovertemplate": "color=B (17)<br>x=%{x}<br>y=%{y}<br>Source=%{customdata[0]}<extra></extra>",
         "legendgroup": "B (17)",
         "marker": {
          "color": "#EF553B",
          "symbol": "circle"
         },
         "mode": "markers",
         "name": "B (17)",
         "orientation": "v",
         "showlegend": true,
         "type": "scatter",
         "x": [
          5.126605396786417,
          5.185311489755044,
          5.190424151025033,
          5.19523802523919,
          5.198100944028531,
          5.256484424372528,
          5.414517099192271,
          5.429156128779781,
          5.430125064295693,
          5.480475498057655,
          5.510324858262384,
          5.614355274871868,
          5.696204839833501,
          5.769375110282313,
          5.830613686405902,
          5.890735586694273,
          6.056730717678201
         ],
         "xaxis": "x",
         "y": [
          -20.99,
          -21.07,
          -21.05,
          -21.02,
          -21.1,
          -21.11,
          -21.35,
          -21.41,
          -21.42,
          -21.31,
          -21.6,
          -22.45,
          -22.43,
          -22.89,
          -23.01,
          -23.4,
          -24.83
         ],
         "yaxis": "y"
        },
        {
         "customdata": [
          [
           "astro-ph0004186"
          ],
          [
           "astro-ph0005609"
          ],
          [
           "astro-ph0005609"
          ],
          [
           "astro-ph0004223"
          ],
          [
           "astro-ph0005609"
          ],
          [
           "astro-ph0005609"
          ],
          [
           "astro-ph0005609"
          ],
          [
           "astro-ph0004186"
          ],
          [
           "astro-ph0004186"
          ],
          [
           "astro-ph0005609"
          ],
          [
           "astro-ph0004186"
          ],
          [
           "astro-ph0005609"
          ],
          [
           "astro-ph0005609"
          ],
          [
           "astro-ph0005609"
          ],
          [
           "astro-ph0005609"
          ]
         ],
         "error_y": {
          "array": [
           0.07,
           0.07,
           0.06,
           0.15,
           0.1,
           0.11,
           0.12,
           0.15,
           0.15,
           0.15,
           0.1,
           0.09,
           0.15,
           0.2,
           0.27
          ]
         },
         "hovertemplate": "color=I (15)<br>x=%{x}<br>y=%{y}<br>Source=%{customdata[0]}<extra></extra>",
         "legendgroup": "I (15)",
         "marker": {
          "color": "#00cc96",
          "symbol": "circle"
         },
         "mode": "markers",
         "name": "I (15)",
         "orientation": "v",
         "showlegend": true,
         "type": "scatter",
         "x": [
          5.192419690027877,
          5.204708595484096,
          5.206234725490196,
          5.342908029711998,
          5.373866034138162,
          5.411011604816568,
          5.519112327415351,
          5.6159374327472085,
          5.697922787941021,
          5.701788098437239,
          5.767074938716017,
          5.768662515753691,
          5.831624734934381,
          5.873264203823289,
          5.9280715467584715
         ],
         "xaxis": "x",
         "y": [
          -19.94,
          -19.6,
          -19.59,
          -19.94,
          -20.1,
          -20.04,
          -20.24,
          -20.82,
          -21.2,
          -21.13,
          -21.61,
          -21.39,
          -21.72,
          -21.85,
          -22.63
         ],
         "yaxis": "y"
        },
        {
         "customdata": [
          [
           "astro-ph0004223"
          ],
          [
           "astro-ph0004223"
          ],
          [
           "astro-ph0004223"
          ],
          [
           "astro-ph0004057"
          ],
          [
           "astro-ph0004223"
          ],
          [
           "astro-ph0004057"
          ],
          [
           "astro-ph0004057"
          ],
          [
           "astro-ph0004223"
          ],
          [
           "astro-ph0004057"
          ]
         ],
         "error_y": {
          "array": [
           0.06,
           0.02,
           0.04,
           0.057,
           0.07,
           0.064,
           0.126,
           0.12,
           0.098
          ]
         },
         "hovertemplate": "color=K′ (9)<br>x=%{x}<br>y=%{y}<br>Source=%{customdata[0]}<extra></extra>",
         "legendgroup": "K′ (9)",
         "marker": {
          "color": "#ab63fa",
          "symbol": "circle"
         },
         "mode": "markers",
         "name": "K′ (9)",
         "orientation": "v",
         "showlegend": true,
         "type": "scatter",
         "x": [
          5.193989541494579,
          5.268781499723124,
          5.445601090040347,
          5.446104521086224,
          5.559675657748713,
          5.560061651261327,
          5.651389578450393,
          5.651610393488058,
          5.79306754197371
         ],
         "xaxis": "x",
         "y": [
          -17.51,
          -17.52,
          -17.65,
          -17.66,
          -18,
          -18.01,
          -18.57,
          -18.56,
          -19.29
         ],
         "yaxis": "y"
        },
        {
         "customdata": [
          [
           "astro-ph0004186"
          ],
          [
           "astro-ph0004223"
          ],
          [
           "astro-ph0004223"
          ],
          [
           "astro-ph0005609"
          ],
          [
           "astro-ph0005609"
          ],
          [
           "astro-ph0004186"
          ],
          [
           "astro-ph0004223"
          ]
         ],
         "error_y": {
          "array": [
           0.05,
           0.06,
           0.06,
           0.07,
           0.04,
           0.2,
           0.15
          ]
         },
         "hovertemplate": "color=V (7)<br>x=%{x}<br>y=%{y}<br>Source=%{customdata[0]}<extra></extra>",
         "legendgroup": "V (7)",
         "marker": {
          "color": "#FFA15A",
          "symbol": "circle"
         },
         "mode": "markers",
         "name": "V (7)",
         "orientation": "v",
         "showlegend": true,
         "type": "scatter",
         "x": [
          5.194998594592596,
          5.330815411439726,
          5.3677415821750865,
          5.412667145172787,
          5.431516544600229,
          5.512636108949779,
          5.61858252553545
         ],
         "xaxis": "x",
         "y": [
          -20.57,
          -20.95,
          -21.1,
          -21.05,
          -20.98,
          -21.04,
          -21.9
         ],
         "yaxis": "y"
        },
        {
         "customdata": [
          [
           "astro-ph0005609"
          ],
          [
           "astro-ph0005609"
          ],
          [
           "astro-ph0005609"
          ],
          [
           "astro-ph0005609"
          ],
          [
           "astro-ph0005609"
          ]
         ],
         "error_y": {
          "array": [
           0.08,
           0.11,
           0.07,
           0.12,
           0.2
          ]
         },
         "hovertemplate": "color=U (5)<br>x=%{x}<br>y=%{y}<br>Source=%{customdata[0]}<extra></extra>",
         "legendgroup": "U (5)",
         "marker": {
          "color": "#19d3f3",
          "symbol": "circle"
         },
         "mode": "markers",
         "name": "U (5)",
         "orientation": "v",
         "showlegend": true,
         "type": "scatter",
         "x": [
          5.199999125196797,
          5.417396951584095,
          5.703668749319796,
          5.772873760676626,
          5.829742992331711
         ],
         "xaxis": "x",
         "y": [
          -20.52,
          -20.82,
          -21.92,
          -22.49,
          -22.69
         ],
         "yaxis": "y"
        },
        {
         "customdata": [
          [
           "astro-ph0004223"
          ],
          [
           "astro-ph0005609"
          ],
          [
           "astro-ph0004223"
          ],
          [
           "astro-ph0004057"
          ]
         ],
         "error_y": {
          "array": [
           0.02,
           0.04,
           0.05,
           0.064
          ]
         },
         "hovertemplate": "color=J (4)<br>x=%{x}<br>y=%{y}<br>Source=%{customdata[0]}<extra></extra>",
         "legendgroup": "J (4)",
         "marker": {
          "color": "#FF6692",
          "symbol": "circle"
         },
         "mode": "markers",
         "name": "J (4)",
         "orientation": "v",
         "showlegend": true,
         "type": "scatter",
         "x": [
          5.266756015323155,
          5.428413430934295,
          5.446943933440535,
          5.447735259231636
         ],
         "xaxis": "x",
         "y": [
          -18.88,
          -19.19,
          -19.06,
          -19.11
         ],
         "yaxis": "y"
        },
        {
         "customdata": [
          [
           "astro-ph0005609"
          ]
         ],
         "error_y": {
          "array": [
           0.04
          ]
         },
         "hovertemplate": "color=H (1)<br>x=%{x}<br>y=%{y}<br>Source=%{customdata[0]}<extra></extra>",
         "legendgroup": "H (1)",
         "marker": {
          "color": "#B6E880",
          "symbol": "circle"
         },
         "mode": "markers",
         "name": "H (1)",
         "orientation": "v",
         "showlegend": true,
         "type": "scatter",
         "x": [
          5.431202884556517
         ],
         "xaxis": "x",
         "y": [
          -18.44
         ],
         "yaxis": "y"
        },
        {
         "customdata": [
          [
           "astro-ph0005609"
          ]
         ],
         "error_y": {
          "array": [
           0.05
          ]
         },
         "hovertemplate": "color=K (1)<br>x=%{x}<br>y=%{y}<br>Source=%{customdata[0]}<extra></extra>",
         "legendgroup": "K (1)",
         "marker": {
          "color": "#FF97FF",
          "symbol": "circle"
         },
         "mode": "markers",
         "name": "K (1)",
         "orientation": "v",
         "showlegend": true,
         "type": "scatter",
         "x": [
          5.433974535927756
         ],
         "xaxis": "x",
         "y": [
          -17.62
         ],
         "yaxis": "y"
        }
       ],
       "layout": {
        "legend": {
         "title": {
          "text": "color"
         },
         "tracegroupgap": 0
        },
        "template": {
         "data": {
          "bar": [
           {
            "error_x": {
             "color": "#2a3f5f"
            },
            "error_y": {
             "color": "#2a3f5f"
            },
            "marker": {
             "line": {
              "color": "#E5ECF6",
              "width": 0.5
             },
             "pattern": {
              "fillmode": "overlay",
              "size": 10,
              "solidity": 0.2
             }
            },
            "type": "bar"
           }
          ],
          "barpolar": [
           {
            "marker": {
             "line": {
              "color": "#E5ECF6",
              "width": 0.5
             },
             "pattern": {
              "fillmode": "overlay",
              "size": 10,
              "solidity": 0.2
             }
            },
            "type": "barpolar"
           }
          ],
          "carpet": [
           {
            "aaxis": {
             "endlinecolor": "#2a3f5f",
             "gridcolor": "white",
             "linecolor": "white",
             "minorgridcolor": "white",
             "startlinecolor": "#2a3f5f"
            },
            "baxis": {
             "endlinecolor": "#2a3f5f",
             "gridcolor": "white",
             "linecolor": "white",
             "minorgridcolor": "white",
             "startlinecolor": "#2a3f5f"
            },
            "type": "carpet"
           }
          ],
          "choropleth": [
           {
            "colorbar": {
             "outlinewidth": 0,
             "ticks": ""
            },
            "type": "choropleth"
           }
          ],
          "contour": [
           {
            "colorbar": {
             "outlinewidth": 0,
             "ticks": ""
            },
            "colorscale": [
             [
              0,
              "#0d0887"
             ],
             [
              0.1111111111111111,
              "#46039f"
             ],
             [
              0.2222222222222222,
              "#7201a8"
             ],
             [
              0.3333333333333333,
              "#9c179e"
             ],
             [
              0.4444444444444444,
              "#bd3786"
             ],
             [
              0.5555555555555556,
              "#d8576b"
             ],
             [
              0.6666666666666666,
              "#ed7953"
             ],
             [
              0.7777777777777778,
              "#fb9f3a"
             ],
             [
              0.8888888888888888,
              "#fdca26"
             ],
             [
              1,
              "#f0f921"
             ]
            ],
            "type": "contour"
           }
          ],
          "contourcarpet": [
           {
            "colorbar": {
             "outlinewidth": 0,
             "ticks": ""
            },
            "type": "contourcarpet"
           }
          ],
          "heatmap": [
           {
            "colorbar": {
             "outlinewidth": 0,
             "ticks": ""
            },
            "colorscale": [
             [
              0,
              "#0d0887"
             ],
             [
              0.1111111111111111,
              "#46039f"
             ],
             [
              0.2222222222222222,
              "#7201a8"
             ],
             [
              0.3333333333333333,
              "#9c179e"
             ],
             [
              0.4444444444444444,
              "#bd3786"
             ],
             [
              0.5555555555555556,
              "#d8576b"
             ],
             [
              0.6666666666666666,
              "#ed7953"
             ],
             [
              0.7777777777777778,
              "#fb9f3a"
             ],
             [
              0.8888888888888888,
              "#fdca26"
             ],
             [
              1,
              "#f0f921"
             ]
            ],
            "type": "heatmap"
           }
          ],
          "heatmapgl": [
           {
            "colorbar": {
             "outlinewidth": 0,
             "ticks": ""
            },
            "colorscale": [
             [
              0,
              "#0d0887"
             ],
             [
              0.1111111111111111,
              "#46039f"
             ],
             [
              0.2222222222222222,
              "#7201a8"
             ],
             [
              0.3333333333333333,
              "#9c179e"
             ],
             [
              0.4444444444444444,
              "#bd3786"
             ],
             [
              0.5555555555555556,
              "#d8576b"
             ],
             [
              0.6666666666666666,
              "#ed7953"
             ],
             [
              0.7777777777777778,
              "#fb9f3a"
             ],
             [
              0.8888888888888888,
              "#fdca26"
             ],
             [
              1,
              "#f0f921"
             ]
            ],
            "type": "heatmapgl"
           }
          ],
          "histogram": [
           {
            "marker": {
             "pattern": {
              "fillmode": "overlay",
              "size": 10,
              "solidity": 0.2
             }
            },
            "type": "histogram"
           }
          ],
          "histogram2d": [
           {
            "colorbar": {
             "outlinewidth": 0,
             "ticks": ""
            },
            "colorscale": [
             [
              0,
              "#0d0887"
             ],
             [
              0.1111111111111111,
              "#46039f"
             ],
             [
              0.2222222222222222,
              "#7201a8"
             ],
             [
              0.3333333333333333,
              "#9c179e"
             ],
             [
              0.4444444444444444,
              "#bd3786"
             ],
             [
              0.5555555555555556,
              "#d8576b"
             ],
             [
              0.6666666666666666,
              "#ed7953"
             ],
             [
              0.7777777777777778,
              "#fb9f3a"
             ],
             [
              0.8888888888888888,
              "#fdca26"
             ],
             [
              1,
              "#f0f921"
             ]
            ],
            "type": "histogram2d"
           }
          ],
          "histogram2dcontour": [
           {
            "colorbar": {
             "outlinewidth": 0,
             "ticks": ""
            },
            "colorscale": [
             [
              0,
              "#0d0887"
             ],
             [
              0.1111111111111111,
              "#46039f"
             ],
             [
              0.2222222222222222,
              "#7201a8"
             ],
             [
              0.3333333333333333,
              "#9c179e"
             ],
             [
              0.4444444444444444,
              "#bd3786"
             ],
             [
              0.5555555555555556,
              "#d8576b"
             ],
             [
              0.6666666666666666,
              "#ed7953"
             ],
             [
              0.7777777777777778,
              "#fb9f3a"
             ],
             [
              0.8888888888888888,
              "#fdca26"
             ],
             [
              1,
              "#f0f921"
             ]
            ],
            "type": "histogram2dcontour"
           }
          ],
          "mesh3d": [
           {
            "colorbar": {
             "outlinewidth": 0,
             "ticks": ""
            },
            "type": "mesh3d"
           }
          ],
          "parcoords": [
           {
            "line": {
             "colorbar": {
              "outlinewidth": 0,
              "ticks": ""
             }
            },
            "type": "parcoords"
           }
          ],
          "pie": [
           {
            "automargin": true,
            "type": "pie"
           }
          ],
          "scatter": [
           {
            "fillpattern": {
             "fillmode": "overlay",
             "size": 10,
             "solidity": 0.2
            },
            "type": "scatter"
           }
          ],
          "scatter3d": [
           {
            "line": {
             "colorbar": {
              "outlinewidth": 0,
              "ticks": ""
             }
            },
            "marker": {
             "colorbar": {
              "outlinewidth": 0,
              "ticks": ""
             }
            },
            "type": "scatter3d"
           }
          ],
          "scattercarpet": [
           {
            "marker": {
             "colorbar": {
              "outlinewidth": 0,
              "ticks": ""
             }
            },
            "type": "scattercarpet"
           }
          ],
          "scattergeo": [
           {
            "marker": {
             "colorbar": {
              "outlinewidth": 0,
              "ticks": ""
             }
            },
            "type": "scattergeo"
           }
          ],
          "scattergl": [
           {
            "marker": {
             "colorbar": {
              "outlinewidth": 0,
              "ticks": ""
             }
            },
            "type": "scattergl"
           }
          ],
          "scattermapbox": [
           {
            "marker": {
             "colorbar": {
              "outlinewidth": 0,
              "ticks": ""
             }
            },
            "type": "scattermapbox"
           }
          ],
          "scatterpolar": [
           {
            "marker": {
             "colorbar": {
              "outlinewidth": 0,
              "ticks": ""
             }
            },
            "type": "scatterpolar"
           }
          ],
          "scatterpolargl": [
           {
            "marker": {
             "colorbar": {
              "outlinewidth": 0,
              "ticks": ""
             }
            },
            "type": "scatterpolargl"
           }
          ],
          "scatterternary": [
           {
            "marker": {
             "colorbar": {
              "outlinewidth": 0,
              "ticks": ""
             }
            },
            "type": "scatterternary"
           }
          ],
          "surface": [
           {
            "colorbar": {
             "outlinewidth": 0,
             "ticks": ""
            },
            "colorscale": [
             [
              0,
              "#0d0887"
             ],
             [
              0.1111111111111111,
              "#46039f"
             ],
             [
              0.2222222222222222,
              "#7201a8"
             ],
             [
              0.3333333333333333,
              "#9c179e"
             ],
             [
              0.4444444444444444,
              "#bd3786"
             ],
             [
              0.5555555555555556,
              "#d8576b"
             ],
             [
              0.6666666666666666,
              "#ed7953"
             ],
             [
              0.7777777777777778,
              "#fb9f3a"
             ],
             [
              0.8888888888888888,
              "#fdca26"
             ],
             [
              1,
              "#f0f921"
             ]
            ],
            "type": "surface"
           }
          ],
          "table": [
           {
            "cells": {
             "fill": {
              "color": "#EBF0F8"
             },
             "line": {
              "color": "white"
             }
            },
            "header": {
             "fill": {
              "color": "#C8D4E3"
             },
             "line": {
              "color": "white"
             }
            },
            "type": "table"
           }
          ]
         },
         "layout": {
          "annotationdefaults": {
           "arrowcolor": "#2a3f5f",
           "arrowhead": 0,
           "arrowwidth": 1
          },
          "autotypenumbers": "strict",
          "coloraxis": {
           "colorbar": {
            "outlinewidth": 0,
            "ticks": ""
           }
          },
          "colorscale": {
           "diverging": [
            [
             0,
             "#8e0152"
            ],
            [
             0.1,
             "#c51b7d"
            ],
            [
             0.2,
             "#de77ae"
            ],
            [
             0.3,
             "#f1b6da"
            ],
            [
             0.4,
             "#fde0ef"
            ],
            [
             0.5,
             "#f7f7f7"
            ],
            [
             0.6,
             "#e6f5d0"
            ],
            [
             0.7,
             "#b8e186"
            ],
            [
             0.8,
             "#7fbc41"
            ],
            [
             0.9,
             "#4d9221"
            ],
            [
             1,
             "#276419"
            ]
           ],
           "sequential": [
            [
             0,
             "#0d0887"
            ],
            [
             0.1111111111111111,
             "#46039f"
            ],
            [
             0.2222222222222222,
             "#7201a8"
            ],
            [
             0.3333333333333333,
             "#9c179e"
            ],
            [
             0.4444444444444444,
             "#bd3786"
            ],
            [
             0.5555555555555556,
             "#d8576b"
            ],
            [
             0.6666666666666666,
             "#ed7953"
            ],
            [
             0.7777777777777778,
             "#fb9f3a"
            ],
            [
             0.8888888888888888,
             "#fdca26"
            ],
            [
             1,
             "#f0f921"
            ]
           ],
           "sequentialminus": [
            [
             0,
             "#0d0887"
            ],
            [
             0.1111111111111111,
             "#46039f"
            ],
            [
             0.2222222222222222,
             "#7201a8"
            ],
            [
             0.3333333333333333,
             "#9c179e"
            ],
            [
             0.4444444444444444,
             "#bd3786"
            ],
            [
             0.5555555555555556,
             "#d8576b"
            ],
            [
             0.6666666666666666,
             "#ed7953"
            ],
            [
             0.7777777777777778,
             "#fb9f3a"
            ],
            [
             0.8888888888888888,
             "#fdca26"
            ],
            [
             1,
             "#f0f921"
            ]
           ]
          },
          "colorway": [
           "#636efa",
           "#EF553B",
           "#00cc96",
           "#ab63fa",
           "#FFA15A",
           "#19d3f3",
           "#FF6692",
           "#B6E880",
           "#FF97FF",
           "#FECB52"
          ],
          "font": {
           "color": "#2a3f5f"
          },
          "geo": {
           "bgcolor": "white",
           "lakecolor": "white",
           "landcolor": "#E5ECF6",
           "showlakes": true,
           "showland": true,
           "subunitcolor": "white"
          },
          "hoverlabel": {
           "align": "left"
          },
          "hovermode": "closest",
          "mapbox": {
           "style": "light"
          },
          "paper_bgcolor": "white",
          "plot_bgcolor": "#E5ECF6",
          "polar": {
           "angularaxis": {
            "gridcolor": "white",
            "linecolor": "white",
            "ticks": ""
           },
           "bgcolor": "#E5ECF6",
           "radialaxis": {
            "gridcolor": "white",
            "linecolor": "white",
            "ticks": ""
           }
          },
          "scene": {
           "xaxis": {
            "backgroundcolor": "#E5ECF6",
            "gridcolor": "white",
            "gridwidth": 2,
            "linecolor": "white",
            "showbackground": true,
            "ticks": "",
            "zerolinecolor": "white"
           },
           "yaxis": {
            "backgroundcolor": "#E5ECF6",
            "gridcolor": "white",
            "gridwidth": 2,
            "linecolor": "white",
            "showbackground": true,
            "ticks": "",
            "zerolinecolor": "white"
           },
           "zaxis": {
            "backgroundcolor": "#E5ECF6",
            "gridcolor": "white",
            "gridwidth": 2,
            "linecolor": "white",
            "showbackground": true,
            "ticks": "",
            "zerolinecolor": "white"
           }
          },
          "shapedefaults": {
           "line": {
            "color": "#2a3f5f"
           }
          },
          "ternary": {
           "aaxis": {
            "gridcolor": "white",
            "linecolor": "white",
            "ticks": ""
           },
           "baxis": {
            "gridcolor": "white",
            "linecolor": "white",
            "ticks": ""
           },
           "bgcolor": "#E5ECF6",
           "caxis": {
            "gridcolor": "white",
            "linecolor": "white",
            "ticks": ""
           }
          },
          "title": {
           "x": 0.05
          },
          "xaxis": {
           "automargin": true,
           "gridcolor": "white",
           "linecolor": "white",
           "ticks": "",
           "title": {
            "standoff": 15
           },
           "zerolinecolor": "white",
           "zerolinewidth": 2
          },
          "yaxis": {
           "automargin": true,
           "gridcolor": "white",
           "linecolor": "white",
           "ticks": "",
           "title": {
            "standoff": 15
           },
           "zerolinecolor": "white",
           "zerolinewidth": 2
          }
         }
        },
        "title": {
         "text": "C:/Users/biagi/Desktop/LCs to inspect deltat/CLEAN_GRBs_MAGNITUDES_December2022/Debugging\\000301C_arXiv_mag.txt"
        },
        "xaxis": {
         "anchor": "y",
         "domain": [
          0,
          1
         ],
         "title": {
          "text": "log Time (s)"
         }
        },
        "yaxis": {
         "anchor": "x",
         "domain": [
          0,
          1
         ],
         "title": {
          "text": "Mag"
         }
        }
       }
      },
      "text/html": [
       "<div>                            <div id=\"34a30064-a818-46ff-a3a4-c8770b7f687b\" class=\"plotly-graph-div\" style=\"height:525px; width:100%;\"></div>            <script type=\"text/javascript\">                require([\"plotly\"], function(Plotly) {                    window.PLOTLYENV=window.PLOTLYENV || {};                                    if (document.getElementById(\"34a30064-a818-46ff-a3a4-c8770b7f687b\")) {                    Plotly.newPlot(                        \"34a30064-a818-46ff-a3a4-c8770b7f687b\",                        [{\"customdata\":[[\"astro-ph0004223\"],[\"astro-ph0004186\"],[\"astro-ph0004223\"],[\"astro-ph0005609\"],[\"astro-ph0004186\"],[\"astro-ph0004223\"],[\"astro-ph0005609\"],[\"astro-ph0004186\"],[\"astro-ph0005609\"],[\"astro-ph0004186\"],[\"astro-ph0005609\"],[\"astro-ph0005609\"],[\"astro-ph0004223\"],[\"astro-ph0004223\"],[\"astro-ph0004223\"],[\"astro-ph0004223\"],[\"astro-ph0004186\"],[\"astro-ph0004223\"],[\"astro-ph0004186\"],[\"astro-ph0004223\"],[\"astro-ph0004223\"],[\"astro-ph0005609\"],[\"astro-ph0004223\"],[\"astro-ph0005609\"],[\"astro-ph0005609\"],[\"astro-ph0004223\"],[\"astro-ph0005609\"],[\"astro-ph0004223\"],[\"astro-ph0004186\"],[\"astro-ph0005609\"],[\"astro-ph0004223\"],[\"astro-ph0004186\"],[\"astro-ph0004223\"],[\"astro-ph0004186\"],[\"astro-ph0004223\"],[\"astro-ph0005609\"],[\"astro-ph0004186\"],[\"astro-ph0005609\"],[\"astro-ph0004223\"],[\"astro-ph0004223\"],[\"astro-ph0004186\"],[\"astro-ph0004186\"],[\"astro-ph0005609\"],[\"astro-ph0004223\"],[\"astro-ph0004186\"],[\"astro-ph0005609\"],[\"astro-ph0004223\"],[\"astro-ph0005609\"],[\"astro-ph0004223\"],[\"astro-ph0005609\"],[\"astro-ph0004223\"],[\"astro-ph0004223\"]],\"error_y\":{\"array\":[0.06,0.042,0.03,0.04,0.05,0.05,0.04,0.05,0.04,0.05,0.04,0.04,0.04,0.05,0.05,0.06,0.04,0.1,0.06,0.06,0.05,0.06,0.06,0.03,0.04,0.04,0.04,0.05,0.07,0.05,0.04,0.06,0.07,0.2,0.15,0.26,0.15,0.07,0.07,0.1,0.15,0.1,0.05,0.1,0.2,0.15,0.09,0.18,0.1,0.22,0.1,0.15]},\"hovertemplate\":\"color=R (52)<br>x=%{x}<br>y=%{y}<br>Source=%{customdata[0]}<extra></extra>\",\"legendgroup\":\"R (52)\",\"marker\":{\"color\":\"#636efa\",\"symbol\":\"circle\"},\"mode\":\"markers\",\"name\":\"R (52)\",\"orientation\":\"v\",\"showlegend\":true,\"x\":[5.11811585631456,5.118203199436206,5.126605396786417,5.175653849077253,5.175785987535105,5.181817872378599,5.183101789044353,5.186922449008297,5.187997055411319,5.19079376575544,5.192837757934309,5.202360243970288,5.258558269374228,5.258558269374228,5.258558269374228,5.337768648279393,5.337830898247273,5.349671808301857,5.356859590558494,5.362885668692368,5.409144932932541,5.415459151905201,5.420691608901915,5.4245141268223716,5.425923671882235,5.426353455301646,5.427328656922256,5.480475498057655,5.50835057763854,5.536310925195193,5.561738041086784,5.594398075715366,5.594443380851481,5.611794445775648,5.61858252553545,5.633669396532646,5.694256746233719,5.700756486774412,5.731638718265333,5.750705055633811,5.7507355879095154,5.765532509143219,5.767493519386613,5.81383642002171,5.813838820231441,5.825856304103062,5.845489349126536,5.936412696939156,5.945928240942137,5.98014841536022,6.056730717678201,6.461417933218118],\"xaxis\":\"x\",\"y\":[-20.42,-20.42,-20.02,-20.09,-20.25,-19.94,-20.15,-20.16,-20.11,-20.25,-20.14,-20.16,-20.27,-20.24,-20.28,-20.53,-20.51,-20.49,-20.53,-20.57,-20.56,-20.61,-20.54,-20.58,-20.54,-20.61,-20.6,-20.58,-20.47,-20.61,-20.86,-21.14,-21.18,-21.65,-21.5,-21.43,-21.68,-21.59,-21.7,-21.95,-22.0,-21.68,-21.8,-22.13,-22.04,-22.11,-22.28,-23.12,-23.02,-23.1,-23.82,-26.9],\"yaxis\":\"y\",\"type\":\"scatter\"},{\"customdata\":[[\"astro-ph0004223\"],[\"astro-ph0004186\"],[\"astro-ph0005609\"],[\"astro-ph0005609\"],[\"astro-ph0004186\"],[\"astro-ph0004223\"],[\"astro-ph0005609\"],[\"astro-ph0004223\"],[\"astro-ph0005609\"],[\"astro-ph0004223\"],[\"astro-ph0004186\"],[\"astro-ph0004186\"],[\"astro-ph0004186\"],[\"astro-ph0005609\"],[\"astro-ph0005609\"],[\"astro-ph0005609\"],[\"astro-ph0004223\"]],\"error_y\":{\"array\":[0.2,0.05,0.04,0.04,0.12,0.04,0.05,0.04,0.04,0.14,0.2,0.15,0.1,0.08,0.11,0.3,0.12]},\"hovertemplate\":\"color=B (17)<br>x=%{x}<br>y=%{y}<br>Source=%{customdata[0]}<extra></extra>\",\"legendgroup\":\"B (17)\",\"marker\":{\"color\":\"#EF553B\",\"symbol\":\"circle\"},\"mode\":\"markers\",\"name\":\"B (17)\",\"orientation\":\"v\",\"showlegend\":true,\"x\":[5.126605396786417,5.185311489755044,5.190424151025033,5.19523802523919,5.198100944028531,5.256484424372528,5.414517099192271,5.429156128779781,5.430125064295693,5.480475498057655,5.510324858262384,5.614355274871868,5.696204839833501,5.769375110282313,5.830613686405902,5.890735586694273,6.056730717678201],\"xaxis\":\"x\",\"y\":[-20.99,-21.07,-21.05,-21.02,-21.1,-21.11,-21.35,-21.41,-21.42,-21.31,-21.6,-22.45,-22.43,-22.89,-23.01,-23.4,-24.83],\"yaxis\":\"y\",\"type\":\"scatter\"},{\"customdata\":[[\"astro-ph0004186\"],[\"astro-ph0005609\"],[\"astro-ph0005609\"],[\"astro-ph0004223\"],[\"astro-ph0005609\"],[\"astro-ph0005609\"],[\"astro-ph0005609\"],[\"astro-ph0004186\"],[\"astro-ph0004186\"],[\"astro-ph0005609\"],[\"astro-ph0004186\"],[\"astro-ph0005609\"],[\"astro-ph0005609\"],[\"astro-ph0005609\"],[\"astro-ph0005609\"]],\"error_y\":{\"array\":[0.07,0.07,0.06,0.15,0.1,0.11,0.12,0.15,0.15,0.15,0.1,0.09,0.15,0.2,0.27]},\"hovertemplate\":\"color=I (15)<br>x=%{x}<br>y=%{y}<br>Source=%{customdata[0]}<extra></extra>\",\"legendgroup\":\"I (15)\",\"marker\":{\"color\":\"#00cc96\",\"symbol\":\"circle\"},\"mode\":\"markers\",\"name\":\"I (15)\",\"orientation\":\"v\",\"showlegend\":true,\"x\":[5.192419690027877,5.204708595484096,5.206234725490196,5.342908029711998,5.373866034138162,5.411011604816568,5.519112327415351,5.6159374327472085,5.697922787941021,5.701788098437239,5.767074938716017,5.768662515753691,5.831624734934381,5.873264203823289,5.9280715467584715],\"xaxis\":\"x\",\"y\":[-19.94,-19.6,-19.59,-19.94,-20.1,-20.04,-20.24,-20.82,-21.2,-21.13,-21.61,-21.39,-21.72,-21.85,-22.63],\"yaxis\":\"y\",\"type\":\"scatter\"},{\"customdata\":[[\"astro-ph0004223\"],[\"astro-ph0004223\"],[\"astro-ph0004223\"],[\"astro-ph0004057\"],[\"astro-ph0004223\"],[\"astro-ph0004057\"],[\"astro-ph0004057\"],[\"astro-ph0004223\"],[\"astro-ph0004057\"]],\"error_y\":{\"array\":[0.06,0.02,0.04,0.057,0.07,0.064,0.126,0.12,0.098]},\"hovertemplate\":\"color=K\\u2032 (9)<br>x=%{x}<br>y=%{y}<br>Source=%{customdata[0]}<extra></extra>\",\"legendgroup\":\"K\\u2032 (9)\",\"marker\":{\"color\":\"#ab63fa\",\"symbol\":\"circle\"},\"mode\":\"markers\",\"name\":\"K\\u2032 (9)\",\"orientation\":\"v\",\"showlegend\":true,\"x\":[5.193989541494579,5.268781499723124,5.445601090040347,5.446104521086224,5.559675657748713,5.560061651261327,5.651389578450393,5.651610393488058,5.79306754197371],\"xaxis\":\"x\",\"y\":[-17.51,-17.52,-17.65,-17.66,-18.0,-18.01,-18.57,-18.56,-19.29],\"yaxis\":\"y\",\"type\":\"scatter\"},{\"customdata\":[[\"astro-ph0004186\"],[\"astro-ph0004223\"],[\"astro-ph0004223\"],[\"astro-ph0005609\"],[\"astro-ph0005609\"],[\"astro-ph0004186\"],[\"astro-ph0004223\"]],\"error_y\":{\"array\":[0.05,0.06,0.06,0.07,0.04,0.2,0.15]},\"hovertemplate\":\"color=V (7)<br>x=%{x}<br>y=%{y}<br>Source=%{customdata[0]}<extra></extra>\",\"legendgroup\":\"V (7)\",\"marker\":{\"color\":\"#FFA15A\",\"symbol\":\"circle\"},\"mode\":\"markers\",\"name\":\"V (7)\",\"orientation\":\"v\",\"showlegend\":true,\"x\":[5.194998594592596,5.330815411439726,5.3677415821750865,5.412667145172787,5.431516544600229,5.512636108949779,5.61858252553545],\"xaxis\":\"x\",\"y\":[-20.57,-20.95,-21.1,-21.05,-20.98,-21.04,-21.9],\"yaxis\":\"y\",\"type\":\"scatter\"},{\"customdata\":[[\"astro-ph0005609\"],[\"astro-ph0005609\"],[\"astro-ph0005609\"],[\"astro-ph0005609\"],[\"astro-ph0005609\"]],\"error_y\":{\"array\":[0.08,0.11,0.07,0.12,0.2]},\"hovertemplate\":\"color=U (5)<br>x=%{x}<br>y=%{y}<br>Source=%{customdata[0]}<extra></extra>\",\"legendgroup\":\"U (5)\",\"marker\":{\"color\":\"#19d3f3\",\"symbol\":\"circle\"},\"mode\":\"markers\",\"name\":\"U (5)\",\"orientation\":\"v\",\"showlegend\":true,\"x\":[5.199999125196797,5.417396951584095,5.703668749319796,5.772873760676626,5.829742992331711],\"xaxis\":\"x\",\"y\":[-20.52,-20.82,-21.92,-22.49,-22.69],\"yaxis\":\"y\",\"type\":\"scatter\"},{\"customdata\":[[\"astro-ph0004223\"],[\"astro-ph0005609\"],[\"astro-ph0004223\"],[\"astro-ph0004057\"]],\"error_y\":{\"array\":[0.02,0.04,0.05,0.064]},\"hovertemplate\":\"color=J (4)<br>x=%{x}<br>y=%{y}<br>Source=%{customdata[0]}<extra></extra>\",\"legendgroup\":\"J (4)\",\"marker\":{\"color\":\"#FF6692\",\"symbol\":\"circle\"},\"mode\":\"markers\",\"name\":\"J (4)\",\"orientation\":\"v\",\"showlegend\":true,\"x\":[5.266756015323155,5.428413430934295,5.446943933440535,5.447735259231636],\"xaxis\":\"x\",\"y\":[-18.88,-19.19,-19.06,-19.11],\"yaxis\":\"y\",\"type\":\"scatter\"},{\"customdata\":[[\"astro-ph0005609\"]],\"error_y\":{\"array\":[0.04]},\"hovertemplate\":\"color=H (1)<br>x=%{x}<br>y=%{y}<br>Source=%{customdata[0]}<extra></extra>\",\"legendgroup\":\"H (1)\",\"marker\":{\"color\":\"#B6E880\",\"symbol\":\"circle\"},\"mode\":\"markers\",\"name\":\"H (1)\",\"orientation\":\"v\",\"showlegend\":true,\"x\":[5.431202884556517],\"xaxis\":\"x\",\"y\":[-18.44],\"yaxis\":\"y\",\"type\":\"scatter\"},{\"customdata\":[[\"astro-ph0005609\"]],\"error_y\":{\"array\":[0.05]},\"hovertemplate\":\"color=K (1)<br>x=%{x}<br>y=%{y}<br>Source=%{customdata[0]}<extra></extra>\",\"legendgroup\":\"K (1)\",\"marker\":{\"color\":\"#FF97FF\",\"symbol\":\"circle\"},\"mode\":\"markers\",\"name\":\"K (1)\",\"orientation\":\"v\",\"showlegend\":true,\"x\":[5.433974535927756],\"xaxis\":\"x\",\"y\":[-17.62],\"yaxis\":\"y\",\"type\":\"scatter\"}],                        {\"template\":{\"data\":{\"histogram2dcontour\":[{\"type\":\"histogram2dcontour\",\"colorbar\":{\"outlinewidth\":0,\"ticks\":\"\"},\"colorscale\":[[0.0,\"#0d0887\"],[0.1111111111111111,\"#46039f\"],[0.2222222222222222,\"#7201a8\"],[0.3333333333333333,\"#9c179e\"],[0.4444444444444444,\"#bd3786\"],[0.5555555555555556,\"#d8576b\"],[0.6666666666666666,\"#ed7953\"],[0.7777777777777778,\"#fb9f3a\"],[0.8888888888888888,\"#fdca26\"],[1.0,\"#f0f921\"]]}],\"choropleth\":[{\"type\":\"choropleth\",\"colorbar\":{\"outlinewidth\":0,\"ticks\":\"\"}}],\"histogram2d\":[{\"type\":\"histogram2d\",\"colorbar\":{\"outlinewidth\":0,\"ticks\":\"\"},\"colorscale\":[[0.0,\"#0d0887\"],[0.1111111111111111,\"#46039f\"],[0.2222222222222222,\"#7201a8\"],[0.3333333333333333,\"#9c179e\"],[0.4444444444444444,\"#bd3786\"],[0.5555555555555556,\"#d8576b\"],[0.6666666666666666,\"#ed7953\"],[0.7777777777777778,\"#fb9f3a\"],[0.8888888888888888,\"#fdca26\"],[1.0,\"#f0f921\"]]}],\"heatmap\":[{\"type\":\"heatmap\",\"colorbar\":{\"outlinewidth\":0,\"ticks\":\"\"},\"colorscale\":[[0.0,\"#0d0887\"],[0.1111111111111111,\"#46039f\"],[0.2222222222222222,\"#7201a8\"],[0.3333333333333333,\"#9c179e\"],[0.4444444444444444,\"#bd3786\"],[0.5555555555555556,\"#d8576b\"],[0.6666666666666666,\"#ed7953\"],[0.7777777777777778,\"#fb9f3a\"],[0.8888888888888888,\"#fdca26\"],[1.0,\"#f0f921\"]]}],\"heatmapgl\":[{\"type\":\"heatmapgl\",\"colorbar\":{\"outlinewidth\":0,\"ticks\":\"\"},\"colorscale\":[[0.0,\"#0d0887\"],[0.1111111111111111,\"#46039f\"],[0.2222222222222222,\"#7201a8\"],[0.3333333333333333,\"#9c179e\"],[0.4444444444444444,\"#bd3786\"],[0.5555555555555556,\"#d8576b\"],[0.6666666666666666,\"#ed7953\"],[0.7777777777777778,\"#fb9f3a\"],[0.8888888888888888,\"#fdca26\"],[1.0,\"#f0f921\"]]}],\"contourcarpet\":[{\"type\":\"contourcarpet\",\"colorbar\":{\"outlinewidth\":0,\"ticks\":\"\"}}],\"contour\":[{\"type\":\"contour\",\"colorbar\":{\"outlinewidth\":0,\"ticks\":\"\"},\"colorscale\":[[0.0,\"#0d0887\"],[0.1111111111111111,\"#46039f\"],[0.2222222222222222,\"#7201a8\"],[0.3333333333333333,\"#9c179e\"],[0.4444444444444444,\"#bd3786\"],[0.5555555555555556,\"#d8576b\"],[0.6666666666666666,\"#ed7953\"],[0.7777777777777778,\"#fb9f3a\"],[0.8888888888888888,\"#fdca26\"],[1.0,\"#f0f921\"]]}],\"surface\":[{\"type\":\"surface\",\"colorbar\":{\"outlinewidth\":0,\"ticks\":\"\"},\"colorscale\":[[0.0,\"#0d0887\"],[0.1111111111111111,\"#46039f\"],[0.2222222222222222,\"#7201a8\"],[0.3333333333333333,\"#9c179e\"],[0.4444444444444444,\"#bd3786\"],[0.5555555555555556,\"#d8576b\"],[0.6666666666666666,\"#ed7953\"],[0.7777777777777778,\"#fb9f3a\"],[0.8888888888888888,\"#fdca26\"],[1.0,\"#f0f921\"]]}],\"mesh3d\":[{\"type\":\"mesh3d\",\"colorbar\":{\"outlinewidth\":0,\"ticks\":\"\"}}],\"scatter\":[{\"fillpattern\":{\"fillmode\":\"overlay\",\"size\":10,\"solidity\":0.2},\"type\":\"scatter\"}],\"parcoords\":[{\"type\":\"parcoords\",\"line\":{\"colorbar\":{\"outlinewidth\":0,\"ticks\":\"\"}}}],\"scatterpolargl\":[{\"type\":\"scatterpolargl\",\"marker\":{\"colorbar\":{\"outlinewidth\":0,\"ticks\":\"\"}}}],\"bar\":[{\"error_x\":{\"color\":\"#2a3f5f\"},\"error_y\":{\"color\":\"#2a3f5f\"},\"marker\":{\"line\":{\"color\":\"#E5ECF6\",\"width\":0.5},\"pattern\":{\"fillmode\":\"overlay\",\"size\":10,\"solidity\":0.2}},\"type\":\"bar\"}],\"scattergeo\":[{\"type\":\"scattergeo\",\"marker\":{\"colorbar\":{\"outlinewidth\":0,\"ticks\":\"\"}}}],\"scatterpolar\":[{\"type\":\"scatterpolar\",\"marker\":{\"colorbar\":{\"outlinewidth\":0,\"ticks\":\"\"}}}],\"histogram\":[{\"marker\":{\"pattern\":{\"fillmode\":\"overlay\",\"size\":10,\"solidity\":0.2}},\"type\":\"histogram\"}],\"scattergl\":[{\"type\":\"scattergl\",\"marker\":{\"colorbar\":{\"outlinewidth\":0,\"ticks\":\"\"}}}],\"scatter3d\":[{\"type\":\"scatter3d\",\"line\":{\"colorbar\":{\"outlinewidth\":0,\"ticks\":\"\"}},\"marker\":{\"colorbar\":{\"outlinewidth\":0,\"ticks\":\"\"}}}],\"scattermapbox\":[{\"type\":\"scattermapbox\",\"marker\":{\"colorbar\":{\"outlinewidth\":0,\"ticks\":\"\"}}}],\"scatterternary\":[{\"type\":\"scatterternary\",\"marker\":{\"colorbar\":{\"outlinewidth\":0,\"ticks\":\"\"}}}],\"scattercarpet\":[{\"type\":\"scattercarpet\",\"marker\":{\"colorbar\":{\"outlinewidth\":0,\"ticks\":\"\"}}}],\"carpet\":[{\"aaxis\":{\"endlinecolor\":\"#2a3f5f\",\"gridcolor\":\"white\",\"linecolor\":\"white\",\"minorgridcolor\":\"white\",\"startlinecolor\":\"#2a3f5f\"},\"baxis\":{\"endlinecolor\":\"#2a3f5f\",\"gridcolor\":\"white\",\"linecolor\":\"white\",\"minorgridcolor\":\"white\",\"startlinecolor\":\"#2a3f5f\"},\"type\":\"carpet\"}],\"table\":[{\"cells\":{\"fill\":{\"color\":\"#EBF0F8\"},\"line\":{\"color\":\"white\"}},\"header\":{\"fill\":{\"color\":\"#C8D4E3\"},\"line\":{\"color\":\"white\"}},\"type\":\"table\"}],\"barpolar\":[{\"marker\":{\"line\":{\"color\":\"#E5ECF6\",\"width\":0.5},\"pattern\":{\"fillmode\":\"overlay\",\"size\":10,\"solidity\":0.2}},\"type\":\"barpolar\"}],\"pie\":[{\"automargin\":true,\"type\":\"pie\"}]},\"layout\":{\"autotypenumbers\":\"strict\",\"colorway\":[\"#636efa\",\"#EF553B\",\"#00cc96\",\"#ab63fa\",\"#FFA15A\",\"#19d3f3\",\"#FF6692\",\"#B6E880\",\"#FF97FF\",\"#FECB52\"],\"font\":{\"color\":\"#2a3f5f\"},\"hovermode\":\"closest\",\"hoverlabel\":{\"align\":\"left\"},\"paper_bgcolor\":\"white\",\"plot_bgcolor\":\"#E5ECF6\",\"polar\":{\"bgcolor\":\"#E5ECF6\",\"angularaxis\":{\"gridcolor\":\"white\",\"linecolor\":\"white\",\"ticks\":\"\"},\"radialaxis\":{\"gridcolor\":\"white\",\"linecolor\":\"white\",\"ticks\":\"\"}},\"ternary\":{\"bgcolor\":\"#E5ECF6\",\"aaxis\":{\"gridcolor\":\"white\",\"linecolor\":\"white\",\"ticks\":\"\"},\"baxis\":{\"gridcolor\":\"white\",\"linecolor\":\"white\",\"ticks\":\"\"},\"caxis\":{\"gridcolor\":\"white\",\"linecolor\":\"white\",\"ticks\":\"\"}},\"coloraxis\":{\"colorbar\":{\"outlinewidth\":0,\"ticks\":\"\"}},\"colorscale\":{\"sequential\":[[0.0,\"#0d0887\"],[0.1111111111111111,\"#46039f\"],[0.2222222222222222,\"#7201a8\"],[0.3333333333333333,\"#9c179e\"],[0.4444444444444444,\"#bd3786\"],[0.5555555555555556,\"#d8576b\"],[0.6666666666666666,\"#ed7953\"],[0.7777777777777778,\"#fb9f3a\"],[0.8888888888888888,\"#fdca26\"],[1.0,\"#f0f921\"]],\"sequentialminus\":[[0.0,\"#0d0887\"],[0.1111111111111111,\"#46039f\"],[0.2222222222222222,\"#7201a8\"],[0.3333333333333333,\"#9c179e\"],[0.4444444444444444,\"#bd3786\"],[0.5555555555555556,\"#d8576b\"],[0.6666666666666666,\"#ed7953\"],[0.7777777777777778,\"#fb9f3a\"],[0.8888888888888888,\"#fdca26\"],[1.0,\"#f0f921\"]],\"diverging\":[[0,\"#8e0152\"],[0.1,\"#c51b7d\"],[0.2,\"#de77ae\"],[0.3,\"#f1b6da\"],[0.4,\"#fde0ef\"],[0.5,\"#f7f7f7\"],[0.6,\"#e6f5d0\"],[0.7,\"#b8e186\"],[0.8,\"#7fbc41\"],[0.9,\"#4d9221\"],[1,\"#276419\"]]},\"xaxis\":{\"gridcolor\":\"white\",\"linecolor\":\"white\",\"ticks\":\"\",\"title\":{\"standoff\":15},\"zerolinecolor\":\"white\",\"automargin\":true,\"zerolinewidth\":2},\"yaxis\":{\"gridcolor\":\"white\",\"linecolor\":\"white\",\"ticks\":\"\",\"title\":{\"standoff\":15},\"zerolinecolor\":\"white\",\"automargin\":true,\"zerolinewidth\":2},\"scene\":{\"xaxis\":{\"backgroundcolor\":\"#E5ECF6\",\"gridcolor\":\"white\",\"linecolor\":\"white\",\"showbackground\":true,\"ticks\":\"\",\"zerolinecolor\":\"white\",\"gridwidth\":2},\"yaxis\":{\"backgroundcolor\":\"#E5ECF6\",\"gridcolor\":\"white\",\"linecolor\":\"white\",\"showbackground\":true,\"ticks\":\"\",\"zerolinecolor\":\"white\",\"gridwidth\":2},\"zaxis\":{\"backgroundcolor\":\"#E5ECF6\",\"gridcolor\":\"white\",\"linecolor\":\"white\",\"showbackground\":true,\"ticks\":\"\",\"zerolinecolor\":\"white\",\"gridwidth\":2}},\"shapedefaults\":{\"line\":{\"color\":\"#2a3f5f\"}},\"annotationdefaults\":{\"arrowcolor\":\"#2a3f5f\",\"arrowhead\":0,\"arrowwidth\":1},\"geo\":{\"bgcolor\":\"white\",\"landcolor\":\"#E5ECF6\",\"subunitcolor\":\"white\",\"showland\":true,\"showlakes\":true,\"lakecolor\":\"white\"},\"title\":{\"x\":0.05},\"mapbox\":{\"style\":\"light\"}}},\"xaxis\":{\"anchor\":\"y\",\"domain\":[0.0,1.0],\"title\":{\"text\":\"log Time (s)\"}},\"yaxis\":{\"anchor\":\"x\",\"domain\":[0.0,1.0],\"title\":{\"text\":\"Mag\"}},\"legend\":{\"title\":{\"text\":\"color\"},\"tracegroupgap\":0},\"title\":{\"text\":\"C:/Users/biagi/Desktop/LCs to inspect deltat/CLEAN_GRBs_MAGNITUDES_December2022/Debugging\\\\000301C_arXiv_mag.txt\"}},                        {\"responsive\": true}                    ).then(function(){\n",
       "                            \n",
       "var gd = document.getElementById('34a30064-a818-46ff-a3a4-c8770b7f687b');\n",
       "var x = new MutationObserver(function (mutations, observer) {{\n",
       "        var display = window.getComputedStyle(gd).display;\n",
       "        if (!display || display === 'none') {{\n",
       "            console.log([gd, 'removed!']);\n",
       "            Plotly.purge(gd);\n",
       "            observer.disconnect();\n",
       "        }}\n",
       "}});\n",
       "\n",
       "// Listen for the removal of the full notebook cells\n",
       "var notebookContainer = gd.closest('#notebook-container');\n",
       "if (notebookContainer) {{\n",
       "    x.observe(notebookContainer, {childList: true});\n",
       "}}\n",
       "\n",
       "// Listen for the clearing of the current output cell\n",
       "var outputEl = gd.closest('.output');\n",
       "if (outputEl) {{\n",
       "    x.observe(outputEl, {childList: true});\n",
       "}}\n",
       "\n",
       "                        })                };                });            </script>        </div>"
      ]
     },
     "metadata": {},
     "output_type": "display_data"
    },
    {
     "name": "stdout",
     "output_type": "stream",
     "text": [
      "The most numerous filter of this GRB:  R , with 52 occurrences\n",
      "The second most numerous filter of this GRB:  B , with 17 occurrences\n"
     ]
    },
    {
     "data": {
      "application/vnd.plotly.v1+json": {
       "config": {
        "plotlyServerURL": "https://plot.ly"
       },
       "data": [
        {
         "customdata": [
          [
           "astro-ph0004223"
          ],
          [
           "astro-ph0004223"
          ],
          [
           "astro-ph0005609"
          ],
          [
           "astro-ph0005609"
          ],
          [
           "astro-ph0005609"
          ],
          [
           "astro-ph0004223"
          ],
          [
           "astro-ph0004223"
          ],
          [
           "astro-ph0004223"
          ],
          [
           "astro-ph0004223"
          ],
          [
           "astro-ph0004223"
          ],
          [
           "astro-ph0005609"
          ],
          [
           "astro-ph0005609"
          ],
          [
           "astro-ph0004223"
          ],
          [
           "astro-ph0004186"
          ],
          [
           "astro-ph0005609"
          ],
          [
           "astro-ph0004223"
          ],
          [
           "astro-ph0004223"
          ],
          [
           "astro-ph0004186"
          ],
          [
           "astro-ph0004223"
          ],
          [
           "astro-ph0005609"
          ],
          [
           "astro-ph0004186"
          ],
          [
           "astro-ph0005609"
          ],
          [
           "astro-ph0004223"
          ],
          [
           "astro-ph0004223"
          ],
          [
           "astro-ph0004186"
          ],
          [
           "astro-ph0004223"
          ],
          [
           "astro-ph0005609"
          ],
          [
           "astro-ph0004223"
          ],
          [
           "astro-ph0005609"
          ],
          [
           "astro-ph0004223"
          ],
          [
           "astro-ph0005609"
          ],
          [
           "astro-ph0004223"
          ],
          [
           "astro-ph0004223"
          ]
         ],
         "error_y": {
          "array": [
           0.06,
           0.03,
           0.04,
           0.04,
           0.04,
           0.05,
           0.06,
           0.1,
           0.06,
           0.05,
           0.03,
           0.04,
           0.05,
           0.07,
           0.05,
           0.04,
           0.07,
           0.2,
           0.15,
           0.26,
           0.15,
           0.07,
           0.07,
           0.1,
           0.1,
           0.1,
           0.15,
           0.09,
           0.18,
           0.1,
           0.22,
           0.1,
           0.15
          ]
         },
         "hovertemplate": "color=R (52)<br>x=%{x}<br>y=%{y}<br>Source=%{customdata[0]}<extra></extra>",
         "legendgroup": "R (52)",
         "marker": {
          "color": "#636efa",
          "symbol": "circle"
         },
         "mode": "markers",
         "name": "R (52)",
         "orientation": "v",
         "showlegend": true,
         "type": "scatter",
         "x": [
          5.12,
          5.13,
          5.18,
          5.19,
          5.2,
          5.26,
          5.34,
          5.35,
          5.36,
          5.41,
          5.42,
          5.43,
          5.48,
          5.51,
          5.54,
          5.56,
          5.59,
          5.61,
          5.62,
          5.63,
          5.69,
          5.7,
          5.73,
          5.75,
          5.77,
          5.81,
          5.83,
          5.85,
          5.94,
          5.95,
          5.98,
          6.06,
          6.46
         ],
         "xaxis": "x",
         "y": [
          -20.42,
          -20.02,
          -20.15,
          -20.11,
          -20.16,
          -20.24,
          -20.53,
          -20.49,
          -20.57,
          -20.56,
          -20.58,
          -20.6,
          -20.58,
          -20.47,
          -20.61,
          -20.86,
          -21.18,
          -21.65,
          -21.5,
          -21.43,
          -21.68,
          -21.59,
          -21.7,
          -21.95,
          -21.68,
          -22.13,
          -22.11,
          -22.28,
          -23.12,
          -23.02,
          -23.1,
          -23.82,
          -26.9
         ],
         "yaxis": "y"
        },
        {
         "customdata": [
          [
           "astro-ph0005609"
          ],
          [
           "astro-ph0005609"
          ],
          [
           "astro-ph0005609"
          ],
          [
           "astro-ph0005609"
          ],
          [
           "astro-ph0005609"
          ]
         ],
         "error_y": {
          "array": [
           0.06,
           0.1,
           0.12,
           0.2,
           0.27
          ]
         },
         "hovertemplate": "color=I (15)<br>x=%{x}<br>y=%{y}<br>Source=%{customdata[0]}<extra></extra>",
         "legendgroup": "I (15)",
         "marker": {
          "color": "#EF553B",
          "symbol": "circle"
         },
         "mode": "markers",
         "name": "I (15)",
         "orientation": "v",
         "showlegend": true,
         "type": "scatter",
         "x": [
          5.21,
          5.37,
          5.52,
          5.87,
          5.93
         ],
         "xaxis": "x",
         "y": [
          -19.79,
          -20.3,
          -20.439999999999998,
          -21.85,
          -22.63
         ],
         "yaxis": "y"
        },
        {
         "customdata": [
          [
           "astro-ph0004223"
          ],
          [
           "astro-ph0004057"
          ],
          [
           "astro-ph0004223"
          ],
          [
           "astro-ph0004057"
          ]
         ],
         "error_y": {
          "array": [
           0.02,
           0.057,
           0.12,
           0.098
          ]
         },
         "hovertemplate": "color=K′ (9)<br>x=%{x}<br>y=%{y}<br>Source=%{customdata[0]}<extra></extra>",
         "legendgroup": "K′ (9)",
         "marker": {
          "color": "#00cc96",
          "symbol": "circle"
         },
         "mode": "markers",
         "name": "K′ (9)",
         "orientation": "v",
         "showlegend": true,
         "type": "scatter",
         "x": [
          5.27,
          5.45,
          5.65,
          5.79
         ],
         "xaxis": "x",
         "y": [
          -20.15,
          -20.29,
          -21.189999999999998,
          -21.919999999999998
         ],
         "yaxis": "y"
        },
        {
         "customdata": [
          [
           "astro-ph0004223"
          ]
         ],
         "error_y": {
          "array": [
           0.06
          ]
         },
         "hovertemplate": "color=V (7)<br>x=%{x}<br>y=%{y}<br>Source=%{customdata[0]}<extra></extra>",
         "legendgroup": "V (7)",
         "marker": {
          "color": "#ab63fa",
          "symbol": "circle"
         },
         "mode": "markers",
         "name": "V (7)",
         "orientation": "v",
         "showlegend": true,
         "type": "scatter",
         "x": [
          5.33
         ],
         "xaxis": "x",
         "y": [
          -20.55
         ],
         "yaxis": "y"
        },
        {
         "customdata": [
          [
           "astro-ph0005609"
          ]
         ],
         "error_y": {
          "array": [
           0.3
          ]
         },
         "hovertemplate": "color=B (17)<br>x=%{x}<br>y=%{y}<br>Source=%{customdata[0]}<extra></extra>",
         "legendgroup": "B (17)",
         "marker": {
          "color": "#FFA15A",
          "symbol": "circle"
         },
         "mode": "markers",
         "name": "B (17)",
         "orientation": "v",
         "showlegend": true,
         "type": "scatter",
         "x": [
          5.89
         ],
         "xaxis": "x",
         "y": [
          -23.4
         ],
         "yaxis": "y"
        }
       ],
       "layout": {
        "legend": {
         "title": {
          "text": "color"
         },
         "tracegroupgap": 0
        },
        "template": {
         "data": {
          "bar": [
           {
            "error_x": {
             "color": "#2a3f5f"
            },
            "error_y": {
             "color": "#2a3f5f"
            },
            "marker": {
             "line": {
              "color": "#E5ECF6",
              "width": 0.5
             },
             "pattern": {
              "fillmode": "overlay",
              "size": 10,
              "solidity": 0.2
             }
            },
            "type": "bar"
           }
          ],
          "barpolar": [
           {
            "marker": {
             "line": {
              "color": "#E5ECF6",
              "width": 0.5
             },
             "pattern": {
              "fillmode": "overlay",
              "size": 10,
              "solidity": 0.2
             }
            },
            "type": "barpolar"
           }
          ],
          "carpet": [
           {
            "aaxis": {
             "endlinecolor": "#2a3f5f",
             "gridcolor": "white",
             "linecolor": "white",
             "minorgridcolor": "white",
             "startlinecolor": "#2a3f5f"
            },
            "baxis": {
             "endlinecolor": "#2a3f5f",
             "gridcolor": "white",
             "linecolor": "white",
             "minorgridcolor": "white",
             "startlinecolor": "#2a3f5f"
            },
            "type": "carpet"
           }
          ],
          "choropleth": [
           {
            "colorbar": {
             "outlinewidth": 0,
             "ticks": ""
            },
            "type": "choropleth"
           }
          ],
          "contour": [
           {
            "colorbar": {
             "outlinewidth": 0,
             "ticks": ""
            },
            "colorscale": [
             [
              0,
              "#0d0887"
             ],
             [
              0.1111111111111111,
              "#46039f"
             ],
             [
              0.2222222222222222,
              "#7201a8"
             ],
             [
              0.3333333333333333,
              "#9c179e"
             ],
             [
              0.4444444444444444,
              "#bd3786"
             ],
             [
              0.5555555555555556,
              "#d8576b"
             ],
             [
              0.6666666666666666,
              "#ed7953"
             ],
             [
              0.7777777777777778,
              "#fb9f3a"
             ],
             [
              0.8888888888888888,
              "#fdca26"
             ],
             [
              1,
              "#f0f921"
             ]
            ],
            "type": "contour"
           }
          ],
          "contourcarpet": [
           {
            "colorbar": {
             "outlinewidth": 0,
             "ticks": ""
            },
            "type": "contourcarpet"
           }
          ],
          "heatmap": [
           {
            "colorbar": {
             "outlinewidth": 0,
             "ticks": ""
            },
            "colorscale": [
             [
              0,
              "#0d0887"
             ],
             [
              0.1111111111111111,
              "#46039f"
             ],
             [
              0.2222222222222222,
              "#7201a8"
             ],
             [
              0.3333333333333333,
              "#9c179e"
             ],
             [
              0.4444444444444444,
              "#bd3786"
             ],
             [
              0.5555555555555556,
              "#d8576b"
             ],
             [
              0.6666666666666666,
              "#ed7953"
             ],
             [
              0.7777777777777778,
              "#fb9f3a"
             ],
             [
              0.8888888888888888,
              "#fdca26"
             ],
             [
              1,
              "#f0f921"
             ]
            ],
            "type": "heatmap"
           }
          ],
          "heatmapgl": [
           {
            "colorbar": {
             "outlinewidth": 0,
             "ticks": ""
            },
            "colorscale": [
             [
              0,
              "#0d0887"
             ],
             [
              0.1111111111111111,
              "#46039f"
             ],
             [
              0.2222222222222222,
              "#7201a8"
             ],
             [
              0.3333333333333333,
              "#9c179e"
             ],
             [
              0.4444444444444444,
              "#bd3786"
             ],
             [
              0.5555555555555556,
              "#d8576b"
             ],
             [
              0.6666666666666666,
              "#ed7953"
             ],
             [
              0.7777777777777778,
              "#fb9f3a"
             ],
             [
              0.8888888888888888,
              "#fdca26"
             ],
             [
              1,
              "#f0f921"
             ]
            ],
            "type": "heatmapgl"
           }
          ],
          "histogram": [
           {
            "marker": {
             "pattern": {
              "fillmode": "overlay",
              "size": 10,
              "solidity": 0.2
             }
            },
            "type": "histogram"
           }
          ],
          "histogram2d": [
           {
            "colorbar": {
             "outlinewidth": 0,
             "ticks": ""
            },
            "colorscale": [
             [
              0,
              "#0d0887"
             ],
             [
              0.1111111111111111,
              "#46039f"
             ],
             [
              0.2222222222222222,
              "#7201a8"
             ],
             [
              0.3333333333333333,
              "#9c179e"
             ],
             [
              0.4444444444444444,
              "#bd3786"
             ],
             [
              0.5555555555555556,
              "#d8576b"
             ],
             [
              0.6666666666666666,
              "#ed7953"
             ],
             [
              0.7777777777777778,
              "#fb9f3a"
             ],
             [
              0.8888888888888888,
              "#fdca26"
             ],
             [
              1,
              "#f0f921"
             ]
            ],
            "type": "histogram2d"
           }
          ],
          "histogram2dcontour": [
           {
            "colorbar": {
             "outlinewidth": 0,
             "ticks": ""
            },
            "colorscale": [
             [
              0,
              "#0d0887"
             ],
             [
              0.1111111111111111,
              "#46039f"
             ],
             [
              0.2222222222222222,
              "#7201a8"
             ],
             [
              0.3333333333333333,
              "#9c179e"
             ],
             [
              0.4444444444444444,
              "#bd3786"
             ],
             [
              0.5555555555555556,
              "#d8576b"
             ],
             [
              0.6666666666666666,
              "#ed7953"
             ],
             [
              0.7777777777777778,
              "#fb9f3a"
             ],
             [
              0.8888888888888888,
              "#fdca26"
             ],
             [
              1,
              "#f0f921"
             ]
            ],
            "type": "histogram2dcontour"
           }
          ],
          "mesh3d": [
           {
            "colorbar": {
             "outlinewidth": 0,
             "ticks": ""
            },
            "type": "mesh3d"
           }
          ],
          "parcoords": [
           {
            "line": {
             "colorbar": {
              "outlinewidth": 0,
              "ticks": ""
             }
            },
            "type": "parcoords"
           }
          ],
          "pie": [
           {
            "automargin": true,
            "type": "pie"
           }
          ],
          "scatter": [
           {
            "fillpattern": {
             "fillmode": "overlay",
             "size": 10,
             "solidity": 0.2
            },
            "type": "scatter"
           }
          ],
          "scatter3d": [
           {
            "line": {
             "colorbar": {
              "outlinewidth": 0,
              "ticks": ""
             }
            },
            "marker": {
             "colorbar": {
              "outlinewidth": 0,
              "ticks": ""
             }
            },
            "type": "scatter3d"
           }
          ],
          "scattercarpet": [
           {
            "marker": {
             "colorbar": {
              "outlinewidth": 0,
              "ticks": ""
             }
            },
            "type": "scattercarpet"
           }
          ],
          "scattergeo": [
           {
            "marker": {
             "colorbar": {
              "outlinewidth": 0,
              "ticks": ""
             }
            },
            "type": "scattergeo"
           }
          ],
          "scattergl": [
           {
            "marker": {
             "colorbar": {
              "outlinewidth": 0,
              "ticks": ""
             }
            },
            "type": "scattergl"
           }
          ],
          "scattermapbox": [
           {
            "marker": {
             "colorbar": {
              "outlinewidth": 0,
              "ticks": ""
             }
            },
            "type": "scattermapbox"
           }
          ],
          "scatterpolar": [
           {
            "marker": {
             "colorbar": {
              "outlinewidth": 0,
              "ticks": ""
             }
            },
            "type": "scatterpolar"
           }
          ],
          "scatterpolargl": [
           {
            "marker": {
             "colorbar": {
              "outlinewidth": 0,
              "ticks": ""
             }
            },
            "type": "scatterpolargl"
           }
          ],
          "scatterternary": [
           {
            "marker": {
             "colorbar": {
              "outlinewidth": 0,
              "ticks": ""
             }
            },
            "type": "scatterternary"
           }
          ],
          "surface": [
           {
            "colorbar": {
             "outlinewidth": 0,
             "ticks": ""
            },
            "colorscale": [
             [
              0,
              "#0d0887"
             ],
             [
              0.1111111111111111,
              "#46039f"
             ],
             [
              0.2222222222222222,
              "#7201a8"
             ],
             [
              0.3333333333333333,
              "#9c179e"
             ],
             [
              0.4444444444444444,
              "#bd3786"
             ],
             [
              0.5555555555555556,
              "#d8576b"
             ],
             [
              0.6666666666666666,
              "#ed7953"
             ],
             [
              0.7777777777777778,
              "#fb9f3a"
             ],
             [
              0.8888888888888888,
              "#fdca26"
             ],
             [
              1,
              "#f0f921"
             ]
            ],
            "type": "surface"
           }
          ],
          "table": [
           {
            "cells": {
             "fill": {
              "color": "#EBF0F8"
             },
             "line": {
              "color": "white"
             }
            },
            "header": {
             "fill": {
              "color": "#C8D4E3"
             },
             "line": {
              "color": "white"
             }
            },
            "type": "table"
           }
          ]
         },
         "layout": {
          "annotationdefaults": {
           "arrowcolor": "#2a3f5f",
           "arrowhead": 0,
           "arrowwidth": 1
          },
          "autotypenumbers": "strict",
          "coloraxis": {
           "colorbar": {
            "outlinewidth": 0,
            "ticks": ""
           }
          },
          "colorscale": {
           "diverging": [
            [
             0,
             "#8e0152"
            ],
            [
             0.1,
             "#c51b7d"
            ],
            [
             0.2,
             "#de77ae"
            ],
            [
             0.3,
             "#f1b6da"
            ],
            [
             0.4,
             "#fde0ef"
            ],
            [
             0.5,
             "#f7f7f7"
            ],
            [
             0.6,
             "#e6f5d0"
            ],
            [
             0.7,
             "#b8e186"
            ],
            [
             0.8,
             "#7fbc41"
            ],
            [
             0.9,
             "#4d9221"
            ],
            [
             1,
             "#276419"
            ]
           ],
           "sequential": [
            [
             0,
             "#0d0887"
            ],
            [
             0.1111111111111111,
             "#46039f"
            ],
            [
             0.2222222222222222,
             "#7201a8"
            ],
            [
             0.3333333333333333,
             "#9c179e"
            ],
            [
             0.4444444444444444,
             "#bd3786"
            ],
            [
             0.5555555555555556,
             "#d8576b"
            ],
            [
             0.6666666666666666,
             "#ed7953"
            ],
            [
             0.7777777777777778,
             "#fb9f3a"
            ],
            [
             0.8888888888888888,
             "#fdca26"
            ],
            [
             1,
             "#f0f921"
            ]
           ],
           "sequentialminus": [
            [
             0,
             "#0d0887"
            ],
            [
             0.1111111111111111,
             "#46039f"
            ],
            [
             0.2222222222222222,
             "#7201a8"
            ],
            [
             0.3333333333333333,
             "#9c179e"
            ],
            [
             0.4444444444444444,
             "#bd3786"
            ],
            [
             0.5555555555555556,
             "#d8576b"
            ],
            [
             0.6666666666666666,
             "#ed7953"
            ],
            [
             0.7777777777777778,
             "#fb9f3a"
            ],
            [
             0.8888888888888888,
             "#fdca26"
            ],
            [
             1,
             "#f0f921"
            ]
           ]
          },
          "colorway": [
           "#636efa",
           "#EF553B",
           "#00cc96",
           "#ab63fa",
           "#FFA15A",
           "#19d3f3",
           "#FF6692",
           "#B6E880",
           "#FF97FF",
           "#FECB52"
          ],
          "font": {
           "color": "#2a3f5f"
          },
          "geo": {
           "bgcolor": "white",
           "lakecolor": "white",
           "landcolor": "#E5ECF6",
           "showlakes": true,
           "showland": true,
           "subunitcolor": "white"
          },
          "hoverlabel": {
           "align": "left"
          },
          "hovermode": "closest",
          "mapbox": {
           "style": "light"
          },
          "paper_bgcolor": "white",
          "plot_bgcolor": "#E5ECF6",
          "polar": {
           "angularaxis": {
            "gridcolor": "white",
            "linecolor": "white",
            "ticks": ""
           },
           "bgcolor": "#E5ECF6",
           "radialaxis": {
            "gridcolor": "white",
            "linecolor": "white",
            "ticks": ""
           }
          },
          "scene": {
           "xaxis": {
            "backgroundcolor": "#E5ECF6",
            "gridcolor": "white",
            "gridwidth": 2,
            "linecolor": "white",
            "showbackground": true,
            "ticks": "",
            "zerolinecolor": "white"
           },
           "yaxis": {
            "backgroundcolor": "#E5ECF6",
            "gridcolor": "white",
            "gridwidth": 2,
            "linecolor": "white",
            "showbackground": true,
            "ticks": "",
            "zerolinecolor": "white"
           },
           "zaxis": {
            "backgroundcolor": "#E5ECF6",
            "gridcolor": "white",
            "gridwidth": 2,
            "linecolor": "white",
            "showbackground": true,
            "ticks": "",
            "zerolinecolor": "white"
           }
          },
          "shapedefaults": {
           "line": {
            "color": "#2a3f5f"
           }
          },
          "ternary": {
           "aaxis": {
            "gridcolor": "white",
            "linecolor": "white",
            "ticks": ""
           },
           "baxis": {
            "gridcolor": "white",
            "linecolor": "white",
            "ticks": ""
           },
           "bgcolor": "#E5ECF6",
           "caxis": {
            "gridcolor": "white",
            "linecolor": "white",
            "ticks": ""
           }
          },
          "title": {
           "x": 0.05
          },
          "xaxis": {
           "automargin": true,
           "gridcolor": "white",
           "linecolor": "white",
           "ticks": "",
           "title": {
            "standoff": 15
           },
           "zerolinecolor": "white",
           "zerolinewidth": 2
          },
          "yaxis": {
           "automargin": true,
           "gridcolor": "white",
           "linecolor": "white",
           "ticks": "",
           "title": {
            "standoff": 15
           },
           "zerolinecolor": "white",
           "zerolinewidth": 2
          }
         }
        },
        "title": {
         "text": "C:/Users/biagi/Desktop/LCs to inspect deltat/CLEAN_GRBs_MAGNITUDES_December2022/Debugging\\000301C_arXiv_mag.txt_RESCALED"
        },
        "xaxis": {
         "anchor": "y",
         "domain": [
          0,
          1
         ],
         "title": {
          "text": "log Time (s)"
         }
        },
        "yaxis": {
         "anchor": "x",
         "domain": [
          0,
          1
         ],
         "title": {
          "text": "Mag"
         }
        }
       }
      },
      "text/html": [
       "<div>                            <div id=\"8c0c6f54-f4e7-4ab2-9571-782db4ff803d\" class=\"plotly-graph-div\" style=\"height:525px; width:100%;\"></div>            <script type=\"text/javascript\">                require([\"plotly\"], function(Plotly) {                    window.PLOTLYENV=window.PLOTLYENV || {};                                    if (document.getElementById(\"8c0c6f54-f4e7-4ab2-9571-782db4ff803d\")) {                    Plotly.newPlot(                        \"8c0c6f54-f4e7-4ab2-9571-782db4ff803d\",                        [{\"customdata\":[[\"astro-ph0004223\"],[\"astro-ph0004223\"],[\"astro-ph0005609\"],[\"astro-ph0005609\"],[\"astro-ph0005609\"],[\"astro-ph0004223\"],[\"astro-ph0004223\"],[\"astro-ph0004223\"],[\"astro-ph0004223\"],[\"astro-ph0004223\"],[\"astro-ph0005609\"],[\"astro-ph0005609\"],[\"astro-ph0004223\"],[\"astro-ph0004186\"],[\"astro-ph0005609\"],[\"astro-ph0004223\"],[\"astro-ph0004223\"],[\"astro-ph0004186\"],[\"astro-ph0004223\"],[\"astro-ph0005609\"],[\"astro-ph0004186\"],[\"astro-ph0005609\"],[\"astro-ph0004223\"],[\"astro-ph0004223\"],[\"astro-ph0004186\"],[\"astro-ph0004223\"],[\"astro-ph0005609\"],[\"astro-ph0004223\"],[\"astro-ph0005609\"],[\"astro-ph0004223\"],[\"astro-ph0005609\"],[\"astro-ph0004223\"],[\"astro-ph0004223\"]],\"error_y\":{\"array\":[0.06,0.03,0.04,0.04,0.04,0.05,0.06,0.1,0.06,0.05,0.03,0.04,0.05,0.07,0.05,0.04,0.07,0.2,0.15,0.26,0.15,0.07,0.07,0.1,0.1,0.1,0.15,0.09,0.18,0.1,0.22,0.1,0.15]},\"hovertemplate\":\"color=R (52)<br>x=%{x}<br>y=%{y}<br>Source=%{customdata[0]}<extra></extra>\",\"legendgroup\":\"R (52)\",\"marker\":{\"color\":\"#636efa\",\"symbol\":\"circle\"},\"mode\":\"markers\",\"name\":\"R (52)\",\"orientation\":\"v\",\"showlegend\":true,\"x\":[5.12,5.13,5.18,5.19,5.2,5.26,5.34,5.35,5.36,5.41,5.42,5.43,5.48,5.51,5.54,5.56,5.59,5.61,5.62,5.63,5.69,5.7,5.73,5.75,5.77,5.81,5.83,5.85,5.94,5.95,5.98,6.06,6.46],\"xaxis\":\"x\",\"y\":[-20.42,-20.02,-20.15,-20.11,-20.16,-20.24,-20.53,-20.49,-20.57,-20.56,-20.58,-20.6,-20.58,-20.47,-20.61,-20.86,-21.18,-21.65,-21.5,-21.43,-21.68,-21.59,-21.7,-21.95,-21.68,-22.13,-22.11,-22.28,-23.12,-23.02,-23.1,-23.82,-26.9],\"yaxis\":\"y\",\"type\":\"scatter\"},{\"customdata\":[[\"astro-ph0005609\"],[\"astro-ph0005609\"],[\"astro-ph0005609\"],[\"astro-ph0005609\"],[\"astro-ph0005609\"]],\"error_y\":{\"array\":[0.06,0.1,0.12,0.2,0.27]},\"hovertemplate\":\"color=I (15)<br>x=%{x}<br>y=%{y}<br>Source=%{customdata[0]}<extra></extra>\",\"legendgroup\":\"I (15)\",\"marker\":{\"color\":\"#EF553B\",\"symbol\":\"circle\"},\"mode\":\"markers\",\"name\":\"I (15)\",\"orientation\":\"v\",\"showlegend\":true,\"x\":[5.21,5.37,5.52,5.87,5.93],\"xaxis\":\"x\",\"y\":[-19.79,-20.3,-20.439999999999998,-21.85,-22.63],\"yaxis\":\"y\",\"type\":\"scatter\"},{\"customdata\":[[\"astro-ph0004223\"],[\"astro-ph0004057\"],[\"astro-ph0004223\"],[\"astro-ph0004057\"]],\"error_y\":{\"array\":[0.02,0.057,0.12,0.098]},\"hovertemplate\":\"color=K\\u2032 (9)<br>x=%{x}<br>y=%{y}<br>Source=%{customdata[0]}<extra></extra>\",\"legendgroup\":\"K\\u2032 (9)\",\"marker\":{\"color\":\"#00cc96\",\"symbol\":\"circle\"},\"mode\":\"markers\",\"name\":\"K\\u2032 (9)\",\"orientation\":\"v\",\"showlegend\":true,\"x\":[5.27,5.45,5.65,5.79],\"xaxis\":\"x\",\"y\":[-20.15,-20.29,-21.189999999999998,-21.919999999999998],\"yaxis\":\"y\",\"type\":\"scatter\"},{\"customdata\":[[\"astro-ph0004223\"]],\"error_y\":{\"array\":[0.06]},\"hovertemplate\":\"color=V (7)<br>x=%{x}<br>y=%{y}<br>Source=%{customdata[0]}<extra></extra>\",\"legendgroup\":\"V (7)\",\"marker\":{\"color\":\"#ab63fa\",\"symbol\":\"circle\"},\"mode\":\"markers\",\"name\":\"V (7)\",\"orientation\":\"v\",\"showlegend\":true,\"x\":[5.33],\"xaxis\":\"x\",\"y\":[-20.55],\"yaxis\":\"y\",\"type\":\"scatter\"},{\"customdata\":[[\"astro-ph0005609\"]],\"error_y\":{\"array\":[0.3]},\"hovertemplate\":\"color=B (17)<br>x=%{x}<br>y=%{y}<br>Source=%{customdata[0]}<extra></extra>\",\"legendgroup\":\"B (17)\",\"marker\":{\"color\":\"#FFA15A\",\"symbol\":\"circle\"},\"mode\":\"markers\",\"name\":\"B (17)\",\"orientation\":\"v\",\"showlegend\":true,\"x\":[5.89],\"xaxis\":\"x\",\"y\":[-23.4],\"yaxis\":\"y\",\"type\":\"scatter\"}],                        {\"template\":{\"data\":{\"histogram2dcontour\":[{\"type\":\"histogram2dcontour\",\"colorbar\":{\"outlinewidth\":0,\"ticks\":\"\"},\"colorscale\":[[0.0,\"#0d0887\"],[0.1111111111111111,\"#46039f\"],[0.2222222222222222,\"#7201a8\"],[0.3333333333333333,\"#9c179e\"],[0.4444444444444444,\"#bd3786\"],[0.5555555555555556,\"#d8576b\"],[0.6666666666666666,\"#ed7953\"],[0.7777777777777778,\"#fb9f3a\"],[0.8888888888888888,\"#fdca26\"],[1.0,\"#f0f921\"]]}],\"choropleth\":[{\"type\":\"choropleth\",\"colorbar\":{\"outlinewidth\":0,\"ticks\":\"\"}}],\"histogram2d\":[{\"type\":\"histogram2d\",\"colorbar\":{\"outlinewidth\":0,\"ticks\":\"\"},\"colorscale\":[[0.0,\"#0d0887\"],[0.1111111111111111,\"#46039f\"],[0.2222222222222222,\"#7201a8\"],[0.3333333333333333,\"#9c179e\"],[0.4444444444444444,\"#bd3786\"],[0.5555555555555556,\"#d8576b\"],[0.6666666666666666,\"#ed7953\"],[0.7777777777777778,\"#fb9f3a\"],[0.8888888888888888,\"#fdca26\"],[1.0,\"#f0f921\"]]}],\"heatmap\":[{\"type\":\"heatmap\",\"colorbar\":{\"outlinewidth\":0,\"ticks\":\"\"},\"colorscale\":[[0.0,\"#0d0887\"],[0.1111111111111111,\"#46039f\"],[0.2222222222222222,\"#7201a8\"],[0.3333333333333333,\"#9c179e\"],[0.4444444444444444,\"#bd3786\"],[0.5555555555555556,\"#d8576b\"],[0.6666666666666666,\"#ed7953\"],[0.7777777777777778,\"#fb9f3a\"],[0.8888888888888888,\"#fdca26\"],[1.0,\"#f0f921\"]]}],\"heatmapgl\":[{\"type\":\"heatmapgl\",\"colorbar\":{\"outlinewidth\":0,\"ticks\":\"\"},\"colorscale\":[[0.0,\"#0d0887\"],[0.1111111111111111,\"#46039f\"],[0.2222222222222222,\"#7201a8\"],[0.3333333333333333,\"#9c179e\"],[0.4444444444444444,\"#bd3786\"],[0.5555555555555556,\"#d8576b\"],[0.6666666666666666,\"#ed7953\"],[0.7777777777777778,\"#fb9f3a\"],[0.8888888888888888,\"#fdca26\"],[1.0,\"#f0f921\"]]}],\"contourcarpet\":[{\"type\":\"contourcarpet\",\"colorbar\":{\"outlinewidth\":0,\"ticks\":\"\"}}],\"contour\":[{\"type\":\"contour\",\"colorbar\":{\"outlinewidth\":0,\"ticks\":\"\"},\"colorscale\":[[0.0,\"#0d0887\"],[0.1111111111111111,\"#46039f\"],[0.2222222222222222,\"#7201a8\"],[0.3333333333333333,\"#9c179e\"],[0.4444444444444444,\"#bd3786\"],[0.5555555555555556,\"#d8576b\"],[0.6666666666666666,\"#ed7953\"],[0.7777777777777778,\"#fb9f3a\"],[0.8888888888888888,\"#fdca26\"],[1.0,\"#f0f921\"]]}],\"surface\":[{\"type\":\"surface\",\"colorbar\":{\"outlinewidth\":0,\"ticks\":\"\"},\"colorscale\":[[0.0,\"#0d0887\"],[0.1111111111111111,\"#46039f\"],[0.2222222222222222,\"#7201a8\"],[0.3333333333333333,\"#9c179e\"],[0.4444444444444444,\"#bd3786\"],[0.5555555555555556,\"#d8576b\"],[0.6666666666666666,\"#ed7953\"],[0.7777777777777778,\"#fb9f3a\"],[0.8888888888888888,\"#fdca26\"],[1.0,\"#f0f921\"]]}],\"mesh3d\":[{\"type\":\"mesh3d\",\"colorbar\":{\"outlinewidth\":0,\"ticks\":\"\"}}],\"scatter\":[{\"fillpattern\":{\"fillmode\":\"overlay\",\"size\":10,\"solidity\":0.2},\"type\":\"scatter\"}],\"parcoords\":[{\"type\":\"parcoords\",\"line\":{\"colorbar\":{\"outlinewidth\":0,\"ticks\":\"\"}}}],\"scatterpolargl\":[{\"type\":\"scatterpolargl\",\"marker\":{\"colorbar\":{\"outlinewidth\":0,\"ticks\":\"\"}}}],\"bar\":[{\"error_x\":{\"color\":\"#2a3f5f\"},\"error_y\":{\"color\":\"#2a3f5f\"},\"marker\":{\"line\":{\"color\":\"#E5ECF6\",\"width\":0.5},\"pattern\":{\"fillmode\":\"overlay\",\"size\":10,\"solidity\":0.2}},\"type\":\"bar\"}],\"scattergeo\":[{\"type\":\"scattergeo\",\"marker\":{\"colorbar\":{\"outlinewidth\":0,\"ticks\":\"\"}}}],\"scatterpolar\":[{\"type\":\"scatterpolar\",\"marker\":{\"colorbar\":{\"outlinewidth\":0,\"ticks\":\"\"}}}],\"histogram\":[{\"marker\":{\"pattern\":{\"fillmode\":\"overlay\",\"size\":10,\"solidity\":0.2}},\"type\":\"histogram\"}],\"scattergl\":[{\"type\":\"scattergl\",\"marker\":{\"colorbar\":{\"outlinewidth\":0,\"ticks\":\"\"}}}],\"scatter3d\":[{\"type\":\"scatter3d\",\"line\":{\"colorbar\":{\"outlinewidth\":0,\"ticks\":\"\"}},\"marker\":{\"colorbar\":{\"outlinewidth\":0,\"ticks\":\"\"}}}],\"scattermapbox\":[{\"type\":\"scattermapbox\",\"marker\":{\"colorbar\":{\"outlinewidth\":0,\"ticks\":\"\"}}}],\"scatterternary\":[{\"type\":\"scatterternary\",\"marker\":{\"colorbar\":{\"outlinewidth\":0,\"ticks\":\"\"}}}],\"scattercarpet\":[{\"type\":\"scattercarpet\",\"marker\":{\"colorbar\":{\"outlinewidth\":0,\"ticks\":\"\"}}}],\"carpet\":[{\"aaxis\":{\"endlinecolor\":\"#2a3f5f\",\"gridcolor\":\"white\",\"linecolor\":\"white\",\"minorgridcolor\":\"white\",\"startlinecolor\":\"#2a3f5f\"},\"baxis\":{\"endlinecolor\":\"#2a3f5f\",\"gridcolor\":\"white\",\"linecolor\":\"white\",\"minorgridcolor\":\"white\",\"startlinecolor\":\"#2a3f5f\"},\"type\":\"carpet\"}],\"table\":[{\"cells\":{\"fill\":{\"color\":\"#EBF0F8\"},\"line\":{\"color\":\"white\"}},\"header\":{\"fill\":{\"color\":\"#C8D4E3\"},\"line\":{\"color\":\"white\"}},\"type\":\"table\"}],\"barpolar\":[{\"marker\":{\"line\":{\"color\":\"#E5ECF6\",\"width\":0.5},\"pattern\":{\"fillmode\":\"overlay\",\"size\":10,\"solidity\":0.2}},\"type\":\"barpolar\"}],\"pie\":[{\"automargin\":true,\"type\":\"pie\"}]},\"layout\":{\"autotypenumbers\":\"strict\",\"colorway\":[\"#636efa\",\"#EF553B\",\"#00cc96\",\"#ab63fa\",\"#FFA15A\",\"#19d3f3\",\"#FF6692\",\"#B6E880\",\"#FF97FF\",\"#FECB52\"],\"font\":{\"color\":\"#2a3f5f\"},\"hovermode\":\"closest\",\"hoverlabel\":{\"align\":\"left\"},\"paper_bgcolor\":\"white\",\"plot_bgcolor\":\"#E5ECF6\",\"polar\":{\"bgcolor\":\"#E5ECF6\",\"angularaxis\":{\"gridcolor\":\"white\",\"linecolor\":\"white\",\"ticks\":\"\"},\"radialaxis\":{\"gridcolor\":\"white\",\"linecolor\":\"white\",\"ticks\":\"\"}},\"ternary\":{\"bgcolor\":\"#E5ECF6\",\"aaxis\":{\"gridcolor\":\"white\",\"linecolor\":\"white\",\"ticks\":\"\"},\"baxis\":{\"gridcolor\":\"white\",\"linecolor\":\"white\",\"ticks\":\"\"},\"caxis\":{\"gridcolor\":\"white\",\"linecolor\":\"white\",\"ticks\":\"\"}},\"coloraxis\":{\"colorbar\":{\"outlinewidth\":0,\"ticks\":\"\"}},\"colorscale\":{\"sequential\":[[0.0,\"#0d0887\"],[0.1111111111111111,\"#46039f\"],[0.2222222222222222,\"#7201a8\"],[0.3333333333333333,\"#9c179e\"],[0.4444444444444444,\"#bd3786\"],[0.5555555555555556,\"#d8576b\"],[0.6666666666666666,\"#ed7953\"],[0.7777777777777778,\"#fb9f3a\"],[0.8888888888888888,\"#fdca26\"],[1.0,\"#f0f921\"]],\"sequentialminus\":[[0.0,\"#0d0887\"],[0.1111111111111111,\"#46039f\"],[0.2222222222222222,\"#7201a8\"],[0.3333333333333333,\"#9c179e\"],[0.4444444444444444,\"#bd3786\"],[0.5555555555555556,\"#d8576b\"],[0.6666666666666666,\"#ed7953\"],[0.7777777777777778,\"#fb9f3a\"],[0.8888888888888888,\"#fdca26\"],[1.0,\"#f0f921\"]],\"diverging\":[[0,\"#8e0152\"],[0.1,\"#c51b7d\"],[0.2,\"#de77ae\"],[0.3,\"#f1b6da\"],[0.4,\"#fde0ef\"],[0.5,\"#f7f7f7\"],[0.6,\"#e6f5d0\"],[0.7,\"#b8e186\"],[0.8,\"#7fbc41\"],[0.9,\"#4d9221\"],[1,\"#276419\"]]},\"xaxis\":{\"gridcolor\":\"white\",\"linecolor\":\"white\",\"ticks\":\"\",\"title\":{\"standoff\":15},\"zerolinecolor\":\"white\",\"automargin\":true,\"zerolinewidth\":2},\"yaxis\":{\"gridcolor\":\"white\",\"linecolor\":\"white\",\"ticks\":\"\",\"title\":{\"standoff\":15},\"zerolinecolor\":\"white\",\"automargin\":true,\"zerolinewidth\":2},\"scene\":{\"xaxis\":{\"backgroundcolor\":\"#E5ECF6\",\"gridcolor\":\"white\",\"linecolor\":\"white\",\"showbackground\":true,\"ticks\":\"\",\"zerolinecolor\":\"white\",\"gridwidth\":2},\"yaxis\":{\"backgroundcolor\":\"#E5ECF6\",\"gridcolor\":\"white\",\"linecolor\":\"white\",\"showbackground\":true,\"ticks\":\"\",\"zerolinecolor\":\"white\",\"gridwidth\":2},\"zaxis\":{\"backgroundcolor\":\"#E5ECF6\",\"gridcolor\":\"white\",\"linecolor\":\"white\",\"showbackground\":true,\"ticks\":\"\",\"zerolinecolor\":\"white\",\"gridwidth\":2}},\"shapedefaults\":{\"line\":{\"color\":\"#2a3f5f\"}},\"annotationdefaults\":{\"arrowcolor\":\"#2a3f5f\",\"arrowhead\":0,\"arrowwidth\":1},\"geo\":{\"bgcolor\":\"white\",\"landcolor\":\"#E5ECF6\",\"subunitcolor\":\"white\",\"showland\":true,\"showlakes\":true,\"lakecolor\":\"white\"},\"title\":{\"x\":0.05},\"mapbox\":{\"style\":\"light\"}}},\"xaxis\":{\"anchor\":\"y\",\"domain\":[0.0,1.0],\"title\":{\"text\":\"log Time (s)\"}},\"yaxis\":{\"anchor\":\"x\",\"domain\":[0.0,1.0],\"title\":{\"text\":\"Mag\"}},\"legend\":{\"title\":{\"text\":\"color\"},\"tracegroupgap\":0},\"title\":{\"text\":\"C:/Users/biagi/Desktop/LCs to inspect deltat/CLEAN_GRBs_MAGNITUDES_December2022/Debugging\\\\000301C_arXiv_mag.txt_RESCALED\"}},                        {\"responsive\": true}                    ).then(function(){\n",
       "                            \n",
       "var gd = document.getElementById('8c0c6f54-f4e7-4ab2-9571-782db4ff803d');\n",
       "var x = new MutationObserver(function (mutations, observer) {{\n",
       "        var display = window.getComputedStyle(gd).display;\n",
       "        if (!display || display === 'none') {{\n",
       "            console.log([gd, 'removed!']);\n",
       "            Plotly.purge(gd);\n",
       "            observer.disconnect();\n",
       "        }}\n",
       "}});\n",
       "\n",
       "// Listen for the removal of the full notebook cells\n",
       "var notebookContainer = gd.closest('#notebook-container');\n",
       "if (notebookContainer) {{\n",
       "    x.observe(notebookContainer, {childList: true});\n",
       "}}\n",
       "\n",
       "// Listen for the clearing of the current output cell\n",
       "var outputEl = gd.closest('.output');\n",
       "if (outputEl) {{\n",
       "    x.observe(outputEl, {childList: true});\n",
       "}}\n",
       "\n",
       "                        })                };                });            </script>        </div>"
      ]
     },
     "metadata": {},
     "output_type": "display_data"
    }
   ],
   "source": [
    "path = r'C:/Users/biagi/Desktop/LCs to inspect deltat/CLEAN_GRBs_MAGNITUDES_December2022/Debugging/*.txt'\n",
    "\n",
    "filename = glob.glob(path)\n",
    "\n",
    "\n",
    "for i in filename:\n",
    "    try:\n",
    "        light = pd.read_csv(i, sep=r\"\\t+\\s+\", engine=\"python\", header=None, index_col=0).sort_values(by=['Time(s)'])\n",
    "        light=light[light['MagErr'] != 0]\n",
    "        if light.empty:\n",
    "            print(i+\" has only limiting magnitudes, thus it will be skipped\")\n",
    "            continue\n",
    "        color=(light[3].values).to_list()\n",
    "        print(color)\n",
    "\n",
    "        filterslist=[[x,color.count(x)] for x in set(color)]\n",
    "        freq=[]\n",
    "        for k in color:\n",
    "            for j in filterslist:\n",
    "                if j[0]==k:\n",
    "                    freq.append(str(k)+' ('+str(j[1])+')')\n",
    "\n",
    "        fig = px.scatter(\n",
    "                    data_frame=light,\n",
    "                    x=np.log10(light[0].values),\n",
    "                    y=-light[1].values,\n",
    "                    error_y= light[2].values,\n",
    "                    color=color,\n",
    "                    hover=light[7].values,\n",
    "                    title=i,\n",
    "                )\n",
    "        \n",
    "        fig.update_layout(\n",
    "                    xaxis_title='log Time (s)',\n",
    "                    yaxis_title='Mag'\n",
    "                )\n",
    "        fig.show()\n",
    "        #fig.write_image(i+\".pdf\")\n",
    "        \n",
    "        if len(freq)==1:\n",
    "            print(i+\" has only one data point along all the LC, thus no rescaling is needed\")\n",
    "            continue\n",
    "        \n",
    "    except:\n",
    "        light = pd.read_csv(i, sep=r\"\\t+|\\s+\", engine=\"python\", header=0).sort_values(by=['Time(s)'])#, index_col=0)\n",
    "        light=light[light['MagErr'] != 0]\n",
    "        if light.empty:\n",
    "            print(i+\" has only limiting magnitudes, thus it will be skipped\")\n",
    "            continue       \n",
    "        color=(light['Filter']).to_list()\n",
    "        filterslist=[[x,color.count(x)] for x in set(color)]\n",
    "        freq=[]\n",
    "        for k in color:\n",
    "            for j in filterslist:\n",
    "                if j[0]==k:\n",
    "                    freq.append(str(k)+' ('+str(j[1])+')')\n",
    "        \n",
    "        fig = px.scatter(\n",
    "            data_frame=light,\n",
    "            x=np.log10(light['Time(s)'].values),\n",
    "            y=-light['Mag'].values,\n",
    "            error_y= light['MagErr'].values,\n",
    "            color=freq,\n",
    "            hover_data=['Source'],\n",
    "            title=i,\n",
    "        )\n",
    "        \n",
    "        fig.update_layout(\n",
    "            xaxis_title='log Time (s)',\n",
    "            yaxis_title='Mag'\n",
    "        )\n",
    "        \n",
    "        fig.show()\n",
    "        #fig.write_html(i+\".html\")\n",
    "        \n",
    "        if len(freq)==1:\n",
    "            print(i+\" has only one data point along all the LC, thus no rescaling is needed\")\n",
    "            continue        \n",
    "        \n",
    "    light = pd.read_csv(i, sep=r\"\\t+|\\s+\", engine=\"python\", header=0).sort_values(by=['Time(s)'])#, index_col=0)\n",
    "    light=light[light['MagErr'] != 0]\n",
    "    if light.empty:\n",
    "        print(i+\" has only limiting magnitudes, thus it will be skipped\")\n",
    "        continue\n",
    "    x=np.log10(light['Time(s)'].values)\n",
    "    y=light['Mag'].values\n",
    "    error_y= light['MagErr'].values\n",
    "    color=(light['Filter']).to_list()\n",
    "    filterslist=[[x,color.count(x)] for x in set(color)]\n",
    "    freq=[]\n",
    "    freq1=[]\n",
    "    freqfinal=[]\n",
    "    for k in color:\n",
    "        for j in filterslist:\n",
    "            if j[0]==k:\n",
    "                freq.append(str(k)+' ('+str(j[1])+')')\n",
    "                freq1.append([k,j[1]])\n",
    "                freqfinal.append(j[1])\n",
    "    \n",
    "    freq_set = set(tuple(x) for x in freq1)\n",
    "    occurrences = [list(x) for x in freq_set]\n",
    "    sortedoccur=sorted(occurrences,key=lambda x: int(x[1]),reverse=True)\n",
    "    \n",
    "    \n",
    "    \n",
    "    # Identifying the most numerous filter and the second most numerous in the GRB \n",
    "    mostcommonfilter=sortedoccur[0][0]\n",
    "    \n",
    "    if len(sortedoccur)==1:\n",
    "        print(i+\" has only one filter along all the LC, thus no rescaling is needed\")\n",
    "        continue\n",
    "        \n",
    "    secondcommonfilter=sortedoccur[1][0]\n",
    "    \n",
    "    # FIRST RIDE; WE HERE RESCALE ACCORDING TO THE MOST NUMEROUS FILTER\n",
    "\n",
    "    # We here create the sublist of data points that have the most common filter\n",
    "    \n",
    "    mostcommonlight=light.loc[light['Filter'] == mostcommonfilter].to_dict('subset')\n",
    "    mostcommonx=np.log10(mostcommonlight['Time(s)'].values)\n",
    "    mostcommony=mostcommonlight['Mag'].values\n",
    "    mostcommonerror_y= mostcommonlight['MagErr'].values\n",
    "    \n",
    "    # Second step: find the minimum time difference between the most common and the next filter in order of occurrences\n",
    "    \n",
    "    # Here we start to create a list that contains the rescaling factors for every filter after the most common\n",
    "    # The structure is (filtername, number of points, list of rescaling factors (up to 6))\n",
    "    scalingfactorslist=[[sortedoccur[0][0],sortedoccur[0][1],[0]]]\n",
    "    \n",
    "    # The following for loop makes j go through all the other filters (after the most common)\n",
    "    \n",
    "    \n",
    "    # Last step: rescaling all the points according to the rescaling factors\n",
    "    \n",
    "    # Defining the overlap function: this function tells you if two ranges of real numbers overlap\n",
    "    # So, if we consider the ranges (logflux-err,logflux+err) we can compare if two error bars overlap\n",
    "    \n",
    "    def overlap(start1, end1, start2, end2):\n",
    "        #how much does the range (start1, end1) overlap with (start2, end2)\n",
    "        return max(max((end2-start1), 0) - max((end2-end1), 0) - max((start2-start1), 0), 0)\n",
    "    \n",
    "    \n",
    "    # Here we re-import the GRB data (A RE-IMPORTATION IS HEAVY IN CODING AND NOT NECESSARY, THIS CAN BE IMPROVED)\n",
    "    lightresc = pd.read_csv(i, sep=r\"\\t+|\\s+\", engine=\"python\", header=0).sort_values(by=['Time(s)'])#, index_col=0)\n",
    "    lightresc=lightresc[lightresc['MagErr'] != 0]\n",
    "    if lightresc.empty:\n",
    "        print(i+\" has only limiting magnitudes, thus it will be skipped\")\n",
    "        continue  \n",
    "    rescx=np.log10(lightresc['Time(s)'].values)\n",
    "    rescy=lightresc['Mag'].values\n",
    "    resccolor=lightresc['Filter'].values\n",
    "    rescerror_y= lightresc['MagErr'].values\n",
    "    reschover_data=lightresc['Source'].values\n",
    "    \n",
    "    # 1st part of LC: 0<logt<2 => logdeltat<=0.35\n",
    "    logdtprecision=0.35\n",
    "    lightresc1=lightresc.loc[(np.log10(lightresc['Time(s)']) <= 2) & (np.log10(lightresc['Time(s)']) > 0)].to_dict('lightresc1')\n",
    "    rescx1=np.log10(lightresc1['Time(s)'])\n",
    "    rescy1=lightresc1['Mag']\n",
    "    resccolor1=lightresc1['Filter']\n",
    "    rescerror_y1= lightresc1['MagErr'] \n",
    "    reschover_data1=lightresc1['Source']    \n",
    "    \n",
    "    mostcommonlight1=light.loc[(light['Filter'] == mostcommonfilter) & (np.log10(lightresc['Time(s)']) <= 2) & (np.log10(lightresc['Time(s)']) > 0)].to_dict('list')\n",
    "    \n",
    "    #print(mostcommonlight1)\n",
    "    \n",
    "    mostcommonx1=np.log10(mostcommonlight1['Time(s)'])\n",
    "    mostcommony1=mostcommonlight1['Mag']\n",
    "    mostcommonerror_y1= mostcommonlight1['MagErr']\n",
    "    \n",
    "    secondcommonlight1=light.loc[(light['Filter'] == secondcommonfilter) & (np.log10(lightresc['Time(s)']) <= 2) & (np.log10(lightresc['Time(s)']) > 0)].to_dict('list')\n",
    "        \n",
    "\n",
    "    for j in range(1,len(sortedoccur)):\n",
    "        scalingfactorslist.append([sortedoccur[j][0],sortedoccur[j][1],[]])\n",
    "                 \n",
    "\n",
    "    for j in range(1,len(sortedoccur)):\n",
    "        \n",
    "        sublight=light.loc[(lightresc['Filter'] == sortedoccur[j][0]) \n",
    "                                     & (np.log10(lightresc['Time(s)']) <= 2) & (np.log10(lightresc['Time(s)']) > 0)].to_dict('subset')\n",
    "        subx=np.log10(sublight['Time(s)'].values)\n",
    "        suby=sublight['Mag'].values\n",
    "        suberror_y=sublight['MagErr'].values\n",
    "        \n",
    "        \n",
    "        indexeslist = [[p1,p2] for p1 in range(len(mostcommonx1)) for p2 in range(len(subx))]\n",
    "        #print(indexeslist)\n",
    "    \n",
    "        timediff = [np.abs(mostcommonx1[p1]-subx[p2]) for p1 in range(len(mostcommonx1)) for p2 in range(len(subx))]\n",
    "        \n",
    "        if len(timediff)==0:\n",
    "            continue\n",
    "        \n",
    "        else:\n",
    "            m = min(timediff)\n",
    "            minpos = timediff.index(m)\n",
    "    \n",
    "            # We here define the re-scaling constant between the most common band and the j-th band (in order of occurencies)\n",
    "            scalingfactor1=mostcommony1[indexeslist[minpos][0]]-suby[indexeslist[minpos][1]]\n",
    "            scalingfactorslist[j][2].append(scalingfactor1)\n",
    "        \n",
    "\n",
    "    # 2nd part of LC: 2<logt<3 => logdeltat<=0.3\n",
    "    logdtprecision=0.3\n",
    "    lightresc2=lightresc.loc[(np.log10(lightresc['Time(s)']) <= 3) & (np.log10(lightresc['Time(s)']) > 2)].to_dict('lightresc1')\n",
    "    rescx2=np.log10(lightresc2['Time(s)'])\n",
    "    rescy2=lightresc2['Mag']\n",
    "    resccolor2=lightresc2['Filter']\n",
    "    rescerror_y2= lightresc2['MagErr']\n",
    "    reschover_data2=lightresc2['Source']    \n",
    "    \n",
    "    mostcommonlight2=light.loc[(light['Filter'] == mostcommonfilter) & (np.log10(lightresc['Time(s)']) <= 3) & (np.log10(lightresc['Time(s)']) > 2)].to_dict('list')\n",
    "    \n",
    "    #print(mostcommonlight1)\n",
    "    \n",
    "    mostcommonx2=np.log10(mostcommonlight2['Time(s)'])\n",
    "    mostcommony2=mostcommonlight2['Mag']\n",
    "    mostcommonerror_y2= mostcommonlight2['MagErr']\n",
    "    \n",
    "    \n",
    "    for j in range(1,len(sortedoccur)):\n",
    "        \n",
    "        sublight=light.loc[(lightresc['Filter'] == sortedoccur[j][0]) \n",
    "                                     & (np.log10(lightresc['Time(s)']) <= 3) & (np.log10(lightresc['Time(s)']) > 2)].to_dict('subset')\n",
    "        subx=np.log10(sublight['Time(s)'].values)\n",
    "        suby=sublight['Mag'].values\n",
    "        suberror_y=sublight['MagErr'].values\n",
    "        \n",
    "        #scalingfactorslist.append([sortedoccur[j][0],sortedoccur[j][1],[]])\n",
    "        \n",
    "        indexeslist = [[p1,p2] for p1 in range(len(mostcommonx2)) for p2 in range(len(subx))]\n",
    "        #print(indexeslist)\n",
    "    \n",
    "        timediff = [np.abs(mostcommonx2[p1]-subx[p2]) for p1 in range(len(mostcommonx2)) for p2 in range(len(subx))]\n",
    "        \n",
    "        if len(timediff)==0:\n",
    "            continue\n",
    "        \n",
    "        \n",
    "        else:\n",
    "            m = min(timediff)\n",
    "            minpos = timediff.index(m)\n",
    "    \n",
    "            # We here define the re-scaling constant between the most common band and the j-th band (in order of occurencies)\n",
    "            scalingfactor2=mostcommony2[indexeslist[minpos][0]]-suby[indexeslist[minpos][1]]\n",
    "            scalingfactorslist[j][2].append(scalingfactor2)\n",
    "        \n",
    "\n",
    "    # 3rd part of LC: 3<logt<4 => logdeltat<=0.25\n",
    "    logdtprecision=0.25\n",
    "    lightresc3=lightresc.loc[(np.log10(lightresc['Time(s)']) <= 4) & (np.log10(lightresc['Time(s)']) > 3)].to_dict('lightresc1')\n",
    "    rescx3=np.log10(lightresc3['Time(s)'])\n",
    "    rescy3=lightresc3['Mag']\n",
    "    resccolor3=lightresc3['Filter']\n",
    "    rescerror_y3= lightresc3['MagErr']\n",
    "    reschover_data3=lightresc3['Source']    \n",
    "    \n",
    "    mostcommonlight3=light.loc[(light['Filter'] == mostcommonfilter) & (np.log10(lightresc['Time(s)']) <= 4) & (np.log10(lightresc['Time(s)']) > 3)].to_dict('list')\n",
    "    \n",
    "    #print(mostcommonlight1)\n",
    "    \n",
    "    mostcommonx3=np.log10(mostcommonlight3['Time(s)'])\n",
    "    mostcommony3=mostcommonlight3['Mag']\n",
    "    mostcommonerror_y3= mostcommonlight3['MagErr']\n",
    "    \n",
    "    \n",
    "    \n",
    "    for j in range(1,len(sortedoccur)):\n",
    "        \n",
    "        sublight=light.loc[(light['Filter'] == sortedoccur[j][0]) \n",
    "                                     & (np.log10(lightresc['Time(s)']) <= 4) & (np.log10(lightresc['Time(s)']) > 3)].to_dict('subset')\n",
    "        subx=np.log10(sublight['Time(s)'].values)\n",
    "        suby=sublight['Mag'].values\n",
    "        suberror_y=sublight['MagErr'].values\n",
    "        \n",
    "        #scalingfactorslist.append([sortedoccur[j][0],sortedoccur[j][1],[]])\n",
    "        \n",
    "        indexeslist = [[p1,p2] for p1 in range(len(mostcommonx3)) for p2 in range(len(subx))]\n",
    "        #print(indexeslist)\n",
    "    \n",
    "        timediff = [np.abs(mostcommonx3[p1]-subx[p2]) for p1 in range(len(mostcommonx3)) for p2 in range(len(subx))]\n",
    "        \n",
    "        if len(timediff)==0:\n",
    "            continue\n",
    "        \n",
    "        else:\n",
    "            m = min(timediff)\n",
    "            minpos = timediff.index(m)\n",
    "    \n",
    "            # We here define the re-scaling constant between the most common band and the j-th band (in order of occurencies)\n",
    "            scalingfactor3=mostcommony3[indexeslist[minpos][0]]-suby[indexeslist[minpos][1]]\n",
    "            scalingfactorslist[j][2].append(scalingfactor3)\n",
    "                 \n",
    "                \n",
    "    # 4th part of LC: 4<logt<5 => logdeltat<=0.2\n",
    "    logdtprecision=0.2\n",
    "    lightresc4=lightresc.loc[(np.log10(lightresc['Time(s)']) <= 5) & (np.log10(lightresc['Time(s)']) > 4)].to_dict('lightresc1')\n",
    "    rescx4=np.log10(lightresc4['Time(s)'])\n",
    "    rescy4=lightresc4['Mag']\n",
    "    resccolor4=lightresc4['Filter']\n",
    "    rescerror_y4= lightresc4['MagErr']\n",
    "    reschover_data4=lightresc4['Source']    \n",
    "    \n",
    "    mostcommonlight4=light.loc[(light['Filter'] == mostcommonfilter) & (np.log10(lightresc['Time(s)']) <= 5) & (np.log10(lightresc['Time(s)']) > 4)].to_dict('list')\n",
    "    \n",
    "    #print(mostcommonlight1)\n",
    "    \n",
    "    mostcommonx4=np.log10(mostcommonlight4['Time(s)'])\n",
    "    mostcommony4=mostcommonlight4['Mag']\n",
    "    mostcommonerror_y4= mostcommonlight4['MagErr']\n",
    "    \n",
    "\n",
    "    \n",
    "    for j in range(1,len(sortedoccur)):\n",
    "        \n",
    "        sublight=light.loc[(light['Filter'] == sortedoccur[j][0]) \n",
    "                                     & (np.log10(lightresc['Time(s)']) <= 5) & (np.log10(lightresc['Time(s)']) > 4)].to_dict('subset')\n",
    "        subx=np.log10(sublight['Time(s)'].values)\n",
    "        suby=sublight['Mag'].values\n",
    "        suberror_y=sublight['MagErr'].values\n",
    "        \n",
    "        \n",
    "        indexeslist = [[p1,p2] for p1 in range(len(mostcommonx4)) for p2 in range(len(subx))]\n",
    "    \n",
    "        timediff = [np.abs(mostcommonx4[p1]-subx[p2]) for p1 in range(len(mostcommonx4)) for p2 in range(len(subx))]\n",
    "        \n",
    "        if len(timediff)==0:\n",
    "            continue\n",
    "        \n",
    "        else:\n",
    "            m = min(timediff)\n",
    "            minpos = timediff.index(m)\n",
    "\n",
    "            # We here define the re-scaling constant between the most common band and the j-th band (in order of occurencies)\n",
    "            scalingfactor4=mostcommony4[indexeslist[minpos][0]]-suby[indexeslist[minpos][1]]\n",
    "            scalingfactorslist[j][2].append(scalingfactor4)\n",
    "    \n",
    "\n",
    "    # 5th part of LC: 5<logt<6 => logdeltat<=0.15\n",
    "    logdtprecision=0.15\n",
    "    lightresc5=lightresc.loc[(np.log10(lightresc['Time(s)']) <= 6) & (np.log10(lightresc['Time(s)']) > 5)].to_dict('lightresc1')\n",
    "    rescx5=np.log10(lightresc5['Time(s)'])\n",
    "    rescy5=lightresc5['Mag']\n",
    "    resccolor5=lightresc5['Filter']\n",
    "    rescerror_y5= lightresc5['MagErr']\n",
    "    reschover_data5=lightresc5['Source']    \n",
    "    \n",
    "    mostcommonlight5=light.loc[(light['Filter'] == mostcommonfilter) & (np.log10(lightresc['Time(s)']) <= 6) & (np.log10(lightresc['Time(s)']) > 5)].to_dict('list')\n",
    "    \n",
    "    \n",
    "    mostcommonx5=np.log10(mostcommonlight5['Time(s)'])\n",
    "    mostcommony5=mostcommonlight5['Mag']\n",
    "    mostcommonerror_y5= mostcommonlight5['MagErr']\n",
    "    \n",
    "    \n",
    "    # **************************** WORK IN PROGRESS ********************************************\n",
    "    \n",
    "    for j in range(1,len(sortedoccur)):\n",
    "        \n",
    "        sublight=light.loc[(light['Filter'] == sortedoccur[j][0]) \n",
    "                                     & (np.log10(lightresc['Time(s)']) <= 6) & (np.log10(lightresc['Time(s)']) > 5)].to_dict('subset')\n",
    "        subx=np.log10(sublight['Time(s)'].values)\n",
    "        suby=sublight['Mag'].values\n",
    "        suberror_y=sublight['MagErr'].values\n",
    "\n",
    "        \n",
    "        indexeslist = [[p1,p2] for p1 in range(len(mostcommonx5)) for p2 in range(len(subx))]\n",
    "    \n",
    "        timediff = [np.abs(mostcommonx5[p1]-subx[p2]) for p1 in range(len(mostcommonx5)) for p2 in range(len(subx))]\n",
    "        \n",
    "        if len(timediff)==0:\n",
    "            continue\n",
    "        \n",
    "        else:\n",
    "            m = min(timediff)\n",
    "            minpos = timediff.index(m)\n",
    "\n",
    "            # We here define the re-scaling constant between the most common band and the j-th band (in order of occurencies)\n",
    "            scalingfactor5=mostcommony5[indexeslist[minpos][0]]-suby[indexeslist[minpos][1]]\n",
    "            scalingfactorslist[j][2].append(scalingfactor5)\n",
    "            \n",
    "    #print('Part5')     \n",
    "\n",
    "\n",
    "    # 6th part of LC: logt>6 => logdeltat<=0.1\n",
    "    logdtprecision=0.1\n",
    "    lightresc6=lightresc.loc[(np.log10(lightresc['Time(s)']) > 6)].to_dict('lightresc1')\n",
    "    rescx6=np.log10(lightresc6['Time(s)'])\n",
    "    rescy6=lightresc6['Mag']\n",
    "    resccolor6=lightresc6['Filter']\n",
    "    rescerror_y6= lightresc6['MagErr']\n",
    "    reschover_data6=lightresc6['Source']    \n",
    "    \n",
    "    mostcommonlight6=light.loc[(light['Filter'] == mostcommonfilter) & (np.log10(lightresc['Time(s)']) > 6)].to_dict('list')\n",
    "    \n",
    "    #print(mostcommonlight1)\n",
    "    \n",
    "    mostcommonx6=np.log10(mostcommonlight6['Time(s)'])\n",
    "    mostcommony6=mostcommonlight6['Mag']\n",
    "    mostcommonerror_y6=mostcommonlight6['MagErr']\n",
    "    \n",
    "    \n",
    "    # **************************** WORK IN PROGRESS ********************************************\n",
    "    \n",
    "    for j in range(1,len(sortedoccur)):\n",
    "        \n",
    "        sublight=light.loc[(light['Filter'] == sortedoccur[j][0]) \n",
    "                                     & (np.log10(lightresc['Time(s)']) > 6)].to_dict('subset')\n",
    "        subx=np.log10(sublight['Time(s)'].values)\n",
    "        suby=sublight['Mag'].values\n",
    "        suberror_y=sublight['MagErr'].values\n",
    "        \n",
    "        #scalingfactorslist.append([sortedoccur[j][0],sortedoccur[j][1],[]])\n",
    "        \n",
    "        indexeslist = [[p1,p2] for p1 in range(len(mostcommonx6)) for p2 in range(len(subx))]\n",
    "        #print(indexeslist)\n",
    "    \n",
    "        timediff = [np.abs(mostcommonx6[p1]-subx[p2]) for p1 in range(len(mostcommonx6)) for p2 in range(len(subx))]\n",
    "        \n",
    "        if len(timediff)==0:\n",
    "            continue\n",
    "        \n",
    "        else:\n",
    "            m = min(timediff)\n",
    "            minpos = timediff.index(m)\n",
    "\n",
    "            # We here define the re-scaling constant between the most common band and the j-th band (in order of occurencies)\n",
    "            scalingfactor6=mostcommony6[indexeslist[minpos][0]]-suby[indexeslist[minpos][1]]\n",
    "            scalingfactorslist[j][2].append(scalingfactor6)\n",
    "            \n",
    "    \n",
    "    # Averaging the rescaling factors for each filter\n",
    "    \n",
    "    averagedrescalingfactor=[]\n",
    "    for j in range(len(scalingfactorslist)):\n",
    "        if np.isnan(np.mean(scalingfactorslist[j][2]))==False:\n",
    "                    averagedrescalingfactor.append([scalingfactorslist[j][0],scalingfactorslist[j][1],np.mean(scalingfactorslist[j][2])])\n",
    "        if np.isnan(np.mean(scalingfactorslist[j][2]))==True:\n",
    "                    averagedrescalingfactor.append([scalingfactorslist[j][0],scalingfactorslist[j][1],0])\n",
    "    \n",
    "    \n",
    "    rescfactfromduplicate=[]\n",
    "    \n",
    "    for j in range(1,len(sortedoccur)):\n",
    "        \n",
    "        sublight=light.loc[light['Filter'] == sortedoccur[j][0]].to_dict('subset')\n",
    "        subx=np.log10(sublight['Time(s)'].values)\n",
    "        suby=sublight['Mag'].values\n",
    "        suberror_y=sublight['MagErr'].values\n",
    "        subcolor=sublight['Filter'].values\n",
    "                    \n",
    "        timediffpreliminar = []\n",
    "        \n",
    "        for p1 in range(len(mostcommonx)):\n",
    "            for p2 in range(len(subx)):\n",
    "                if (np.abs(mostcommonx[p1]-subx[p2])<=1e-15) & (subcolor[p2]==sortedoccur[j][0]):\n",
    "                    timediffpreliminar.append([p1,p2,sortedoccur[j][0],mostcommony[p1]-suby[p2]])\n",
    "        \n",
    "        if len(timediffpreliminar)==0:\n",
    "            continue\n",
    "        \n",
    "        \n",
    "        meanlist=[]\n",
    "        for k in timediffpreliminar:\n",
    "            meanlist.append(k[3])\n",
    "        \n",
    "        rescfactfromduplicate.append([sortedoccur[j][0],np.mean(meanlist)])\n",
    "    \n",
    "    \n",
    "    for a in averagedrescalingfactor:\n",
    "        for b in rescfactfromduplicate:\n",
    "            if a[0]==b[0]:\n",
    "                a[2]=b[1]\n",
    "                \n",
    "    \n",
    "    junction2to3=[]\n",
    "    junction3to4=[]\n",
    "    junction4to5=[]\n",
    "    junction5to6=[]\n",
    "    junction6up=[]\n",
    "    \n",
    "    nonrescaled=[]\n",
    "    \n",
    "\n",
    "    # RESCALING PART OF THE LC 0<logt<2\n",
    "    \n",
    "    for pp in range(len(rescy1)):\n",
    "        logdtprecision=0.35\n",
    "        start2=rescy1[pp]-rescerror_y1[pp]\n",
    "        end2=rescy1[pp]+rescerror_y1[pp]\n",
    "        supportlistov=[]\n",
    "        supportlistdist=[]\n",
    "        \n",
    "        \n",
    "        \n",
    "        for ff in averagedrescalingfactor:\n",
    "            if resccolor1[pp] == ff[0]:\n",
    "                for nn in [x for x in range(len(rescy1)) if (x != pp) & (resccolor1[x]==mostcommonfilter)]:\n",
    "                    start1=rescy1[nn]-rescerror_y1[nn] \n",
    "                    end1=rescy1[nn]+rescerror_y1[nn]\n",
    "                    dist=np.abs(rescx1[nn]-rescx1[pp])\n",
    "                    supportlistov.append(overlap(start1, end1, start2, end2))\n",
    "                    supportlistdist.append(dist)\n",
    "                          \n",
    "                if all(supportlistdist)>logdtprecision:\n",
    "                    rescy1[pp]=rescy1[pp]\n",
    "                    \n",
    "                    if 2-logdtprecision<rescx1[pp]<2:\n",
    "                        junction2to3.append([rescx1[pp],rescy1[pp],rescerror_y1[pp],resccolor1[pp],reschover_data1[pp]])                     \n",
    "                    \n",
    "                if any((supportlistov[i] == 0) & (supportlistdist[i] <= logdtprecision) for i in range(len(supportlistov))):\n",
    "                    rescy1[pp]=rescy1[pp]+ff[2]\n",
    "                else:\n",
    "                    rescy1[pp]=rescy1[pp]\n",
    "                    nonrescaled.append([rescx1[pp],rescy1[pp],rescerror_y1[pp],resccolor1[pp],reschover_data1[pp]])\n",
    "                   \n",
    "    # RESCALING PART OF THE LC 2<logt<3                 \n",
    "    \n",
    "    for pp in range(len(rescy2)):\n",
    "        start2=rescy2[pp]-rescerror_y2[pp]\n",
    "        end2=rescy2[pp]+rescerror_y2[pp]\n",
    "        supportlistov=[]\n",
    "        supportlistdist=[]\n",
    "        logdtprecision=0.3\n",
    "        #junction3to4=[]\n",
    "         \n",
    "        \n",
    "        for ff in averagedrescalingfactor:\n",
    "            if resccolor2[pp] == ff[0]:\n",
    "                for nn in [x for x in range(len(rescy2)) if (x != pp) & (resccolor2[x]==mostcommonfilter)]:\n",
    "                    start1=rescy2[nn]-rescerror_y2[nn] \n",
    "                    end1=rescy2[nn]+rescerror_y2[nn]\n",
    "                    dist=np.abs(rescx2[nn]-rescx2[pp])\n",
    "                    supportlistov.append(overlap(start1, end1, start2, end2))\n",
    "                    supportlistdist.append(dist)\n",
    "                          \n",
    "                if all(supportlistdist)>logdtprecision:\n",
    "                    rescy2[pp]=rescy2[pp]\n",
    "                    \n",
    "                    if 3-logdtprecision<rescx2[pp]<3:\n",
    "                        junction3to4.append([rescx2[pp],rescy2[pp],rescerror_y2[pp],resccolor2[pp],reschover_data2[pp]]) \n",
    "                        \n",
    "                if any((supportlistov[i] == 0) & (supportlistdist[i] <= logdtprecision) for i in range(len(supportlistov))):\n",
    "                    rescy2[pp]=rescy2[pp]+ff[2]\n",
    "                else:\n",
    "                    rescy2[pp]=rescy2[pp]\n",
    "                    nonrescaled.append([rescx2[pp],rescy2[pp],rescerror_y2[pp],resccolor2[pp],reschover_data2[pp]])\n",
    "                    \n",
    "    # RESCALING PART OF THE LC 3<logt<4     \n",
    "    \n",
    "    for pp in range(len(rescy3)):\n",
    "        \n",
    "        start3=rescy3[pp]-rescerror_y3[pp]\n",
    "        end3=rescy3[pp]+rescerror_y3[pp]\n",
    "        supportlistov=[]\n",
    "        supportlistdist=[]\n",
    "        logdtprecision=0.25\n",
    "        #junction4to5=[]\n",
    "        \n",
    "        \n",
    "        for ff in averagedrescalingfactor:\n",
    "            if resccolor3[pp] == ff[0]:\n",
    "                for nn in [x for x in range(len(rescy3)) if (x != pp) & (resccolor3[x]==mostcommonfilter)]:\n",
    "                    start1=rescy3[nn]-rescerror_y3[nn] \n",
    "                    end1=rescy3[nn]+rescerror_y3[nn]\n",
    "                    dist=np.abs(rescx3[nn]-rescx3[pp])\n",
    "                    supportlistov.append(overlap(start1, end1, start3, end3))\n",
    "                    supportlistdist.append(dist)\n",
    "                          \n",
    "                if all(supportlistdist)>logdtprecision:\n",
    "                    rescy3[pp]=rescy3[pp]\n",
    "                    \n",
    "                    if 4-logdtprecision<rescx3[pp]<4:\n",
    "                        junction4to5.append([rescx3[pp],rescy3[pp],rescerror_y3[pp],resccolor3[pp],reschover_data3[pp]])                    \n",
    "                    \n",
    "                if any((supportlistov[i] == 0) & (supportlistdist[i] <= logdtprecision) for i in range(len(supportlistov))):\n",
    "                    rescy3[pp]=rescy3[pp]+ff[2]\n",
    "                else:\n",
    "                    rescy3[pp]=rescy3[pp]\n",
    "                    nonrescaled.append([rescx3[pp],rescy3[pp],rescerror_y3[pp],resccolor3[pp],reschover_data3[pp]])\n",
    "      \n",
    "                    \n",
    "    # RESCALING PART OF THE LC 4<logt<5     \n",
    "    \n",
    "    for pp in range(len(rescy4)):\n",
    "        \n",
    "        start4=rescy4[pp]-rescerror_y4[pp]\n",
    "        end4=rescy4[pp]+rescerror_y4[pp]\n",
    "        supportlistov=[]\n",
    "        supportlistdist=[]\n",
    "        logdtprecision=0.2\n",
    "        #junction5to6=[]\n",
    "        \n",
    "         \n",
    "        \n",
    "        for ff in averagedrescalingfactor:\n",
    "            if resccolor4[pp] == ff[0]:\n",
    "                for nn in [x for x in range(len(rescy4)) if (x != pp) & (resccolor4[x]==mostcommonfilter)]:\n",
    "                    start1=rescy4[nn]-rescerror_y4[nn] \n",
    "                    end1=rescy4[nn]+rescerror_y4[nn]\n",
    "                    dist=np.abs(rescx4[nn]-rescx4[pp])\n",
    "                    supportlistov.append(overlap(start1, end1, start4, end4))\n",
    "                    supportlistdist.append(dist)\n",
    "                          \n",
    "                if all(supportlistdist)>logdtprecision:\n",
    "                    rescy4[pp]=rescy4[pp]\n",
    "                    \n",
    "                    if 5-logdtprecision<rescx4[pp]<5:\n",
    "                        junction5to6.append([rescx4[pp],rescy4[pp],rescerror_y4[pp],resccolor4[pp],reschover_data4[pp]])\n",
    "                    \n",
    "                if any((supportlistov[i] == 0) & (supportlistdist[i] <= logdtprecision) for i in range(len(supportlistov))):\n",
    "                    rescy4[pp]=rescy4[pp]+ff[2]\n",
    "                else:\n",
    "                    rescy4[pp]=rescy4[pp]\n",
    "                    nonrescaled.append([rescx4[pp],rescy4[pp],rescerror_y4[pp],resccolor4[pp],reschover_data4[pp]])\n",
    "                    \n",
    "                    \n",
    "    # RESCALING PART OF THE LC 5<logt<6 \n",
    "    \n",
    "    for pp in range(len(rescy5)):\n",
    "        \n",
    "        start5=rescy5[pp]-rescerror_y5[pp]\n",
    "        end5=rescy5[pp]+rescerror_y5[pp]\n",
    "        supportlistov=[]\n",
    "        supportlistdist=[]\n",
    "        logdtprecision=0.15\n",
    "        #junction6up=[]\n",
    "        \n",
    "         \n",
    "        \n",
    "        for ff in averagedrescalingfactor:\n",
    "            if resccolor5[pp] == ff[0]:\n",
    "                for nn in [x for x in range(len(rescy5)) if (x != pp) & (resccolor5[x]==mostcommonfilter)]:\n",
    "                    start1=rescy5[nn]-rescerror_y5[nn] \n",
    "                    end1=rescy5[nn]+rescerror_y5[nn]\n",
    "                    dist=np.abs(rescx5[nn]-rescx5[pp])\n",
    "                    supportlistov.append(overlap(start1, end1, start5, end5))\n",
    "                    supportlistdist.append(dist)\n",
    "                          \n",
    "                if all(supportlistdist)>logdtprecision:\n",
    "                    rescy5[pp]=rescy5[pp]\n",
    "                    \n",
    "                    if 6-logdtprecision<rescx5[pp]<6:\n",
    "                        junction6up.append([rescx5[pp],rescy5[pp],rescerror_y5[pp],resccolor5[pp],reschover_data5[pp]])\n",
    "                        \n",
    "                if any((supportlistov[i] == 0) & (supportlistdist[i] <= logdtprecision) for i in range(len(supportlistov))):\n",
    "                    rescy5[pp]=rescy5[pp]+ff[2]\n",
    "                else:\n",
    "                    rescy5[pp]=rescy5[pp]\n",
    "                    nonrescaled.append([rescx5[pp],rescy5[pp],rescerror_y5[pp],resccolor5[pp],reschover_data5[pp]])\n",
    "                    \n",
    "                    \n",
    "    # RESCALING PART OF THE LC Logt>6                    \n",
    "    \n",
    "                \n",
    "    for pp in range(len(rescy6)):\n",
    "        \n",
    "        start6=rescy6[pp]-rescerror_y6[pp]\n",
    "        end6=rescy6[pp]+rescerror_y6[pp]\n",
    "        supportlistov=[]\n",
    "        supportlistdist=[]\n",
    "        logdtprecision=0.1\n",
    "        \n",
    "         \n",
    "        \n",
    "        for ff in averagedrescalingfactor:\n",
    "            if resccolor6[pp] == ff[0]:\n",
    "                for nn in [x for x in range(len(rescy6)) if (x != pp) & (resccolor6[x]==mostcommonfilter)]:\n",
    "                    start1=rescy6[nn]-rescerror_y6[nn] \n",
    "                    end1=rescy6[nn]+rescerror_y6[nn]\n",
    "                    dist=np.abs(rescx6[nn]-rescx6[pp])\n",
    "                    supportlistov.append(overlap(start1, end1, start6, end6))\n",
    "                    supportlistdist.append(dist)\n",
    "                          \n",
    "                if all(supportlistdist)>logdtprecision:\n",
    "                    rescy6[pp]=rescy6[pp]\n",
    "                    \n",
    "                    if 6-logdtprecision<rescx6[pp]<6:\n",
    "                        junction6up.append([rescx6[pp],rescy6[pp],rescerror_y6[pp],resccolor6[pp],reschover_data6[pp]])                    \n",
    "                    \n",
    "                if any((supportlistov[i] == 0) & (supportlistdist[i] <= logdtprecision) for i in range(len(supportlistov))):\n",
    "                    rescy6[pp]=rescy6[pp]+ff[2]\n",
    "                else:\n",
    "                    rescy6[pp]=rescy6[pp]\n",
    "                    nonrescaled.append([rescx6[pp],rescy6[pp],rescerror_y6[pp],resccolor6[pp],reschover_data6[pp]])\n",
    "                    \n",
    "                    \n",
    "    #########################################################################\n",
    "    # RESCALING THE JUNCTIONS                \n",
    "    \n",
    "    \n",
    "    if len(junction2to3)!=0:\n",
    "        for pp in range(len(junction2to3)):\n",
    "        \n",
    "            start3=junction2to3[pp][1]-junction2to3[pp][2]\n",
    "            end3=junction2to3[pp][1]+junction2to3[pp][2]\n",
    "            supportlistov=[]\n",
    "            supportlistdist=[]\n",
    "            logdtprecision=0.3\n",
    "           \n",
    "        \n",
    "        for ff in averagedrescalingfactor:\n",
    "            if junction2to3[pp][3] == ff[0]:\n",
    "                for nn in [x for x in range(len(rescy3)) if (x != pp) & (resccolor3[x]==mostcommonfilter)]:\n",
    "                    start1=rescy3[nn]-rescerror_y3[nn] \n",
    "                    end1=rescy3[nn]+rescerror_y3[nn]\n",
    "                    dist=np.abs(rescx3[nn]-junction2to3[pp][0])\n",
    "                    supportlistov.append(overlap(start1, end1, start3, end3))\n",
    "                    supportlistdist.append(dist)\n",
    "                          \n",
    "                if all(supportlistdist)>logdtprecision:\n",
    "                    junction2to3[pp][1]=junction2to3[pp][1]\n",
    "                    nonrescaled.append([junction2to3[pp][0],junction2to3[pp][1],junction2to3[pp][2],junction2to3[pp][3],junction2to3[pp][4]])\n",
    "                if any((supportlistov[i] == 0) & (supportlistdist[i] <= logdtprecision) for i in range(len(supportlistov))):\n",
    "                    junction2to3[pp][1]=junction2to3[pp][1]+ff[2]\n",
    "                else:\n",
    "                    junction2to3[pp][1]=junction2to3[pp][1]\n",
    "                    nonrescaled.append([junction2to3[pp][0],junction2to3[pp][1],junction2to3[pp][2],junction2to3[pp][3],junction2to3[pp][4]])\n",
    "    else:\n",
    "        True                      \n",
    "    \n",
    "    if len(junction3to4)!=0:    \n",
    "        for pp in range(len(junction3to4)):\n",
    "        \n",
    "            start4=junction3to4[pp][1]-junction3to4[pp][2]\n",
    "            end4=junction3to4[pp][1]+junction3to4[pp][2]\n",
    "            supportlistov=[]\n",
    "            supportlistdist=[]\n",
    "            logdtprecision=0.25\n",
    "        \n",
    "         \n",
    "        \n",
    "        for ff in averagedrescalingfactor:\n",
    "            if junction3to4[pp][3] == ff[0]:\n",
    "                for nn in [x for x in range(len(rescy4)) if (x != pp) & (resccolor4[x]==mostcommonfilter)]:\n",
    "                    start1=rescy4[nn]-rescerror_y4[nn] \n",
    "                    end1=rescy4[nn]+rescerror_y4[nn]\n",
    "                    dist=np.abs(rescx4[nn]-junction3to4[pp][0])\n",
    "                    supportlistov.append(overlap(start1, end1, start4, end4))\n",
    "                    supportlistdist.append(dist)\n",
    "                          \n",
    "                if all(supportlistdist)>logdtprecision:\n",
    "                    junction3to4[pp][1]=junction3to4[pp][1]\n",
    "                    nonrescaled.append([junction3to4[pp][0],junction3to4[pp][1],junction3to4[pp][2],junction3to4[pp][3],junction3to4[pp][4]])\n",
    "                if any((supportlistov[i] == 0) & (supportlistdist[i] <= logdtprecision) for i in range(len(supportlistov))):\n",
    "                    junction3to4[pp][1]=junction3to4[pp][1]+ff[2]\n",
    "                else:\n",
    "                    junction3to4[pp][1]=junction3to4[pp][1]\n",
    "                    nonrescaled.append([junction3to4[pp][0],junction3to4[pp][1],junction3to4[pp][2],junction3to4[pp][3],junction3to4[pp][4]])\n",
    "\n",
    "    else:\n",
    "        True                    \n",
    "                    \n",
    "        \n",
    "    if len(junction4to5)!=0:    \n",
    "        for pp in range(len(junction4to5)):\n",
    "        \n",
    "            start5=junction4to5[pp][1]-junction4to5[pp][2]\n",
    "            end5=junction4to5[pp][1]+junction4to5[pp][2]\n",
    "            supportlistov=[]\n",
    "            supportlistdist=[]\n",
    "            logdtprecision=0.2\n",
    "        \n",
    "         \n",
    "        \n",
    "        for ff in averagedrescalingfactor:\n",
    "            if junction4to5[pp][3] == ff[0]:\n",
    "                for nn in [x for x in range(len(rescy5)) if (x != pp) & (resccolor5[x]==mostcommonfilter)]:\n",
    "                    start1=rescy5[nn]-rescerror_y5[nn] \n",
    "                    end1=rescy5[nn]+rescerror_y5[nn]\n",
    "                    dist=np.abs(rescx5[nn]-junction4to5[pp][0])\n",
    "                    supportlistov.append(overlap(start1, end1, start5, end5))\n",
    "                    supportlistdist.append(dist)\n",
    "                          \n",
    "                if all(supportlistdist)>logdtprecision:\n",
    "                    junction4to5[pp][1]=junction4to5[pp][1]\n",
    "                    nonrescaled.append([junction4to5[pp][0],junction4to5[pp][1],junction4to5[pp][2],junction4to5[pp][3],junction4to5[pp][4]])\n",
    "                if any((supportlistov[i] == 0) & (supportlistdist[i] <= logdtprecision) for i in range(len(supportlistov))):\n",
    "                    junction4to5[pp][1]=junction4to5[pp][1]+ff[2]\n",
    "                else:\n",
    "                    junction4to5[pp][1]=junction4to5[pp][1]\n",
    "                    nonrescaled.append([junction4to5[pp][0],junction4to5[pp][1],junction4to5[pp][2],junction4to5[pp][3],junction4to5[pp][4]])\n",
    " \n",
    "    else:\n",
    "        True   \n",
    "    \n",
    "#     print('Junction 5 to 6')\n",
    "#     print(junction5to6)\n",
    "#     print('Length of junction')\n",
    "#     print(len(junction5to6))\n",
    "#     print('Rescaling in 5<logt<6')\n",
    "#     print(rescx6)\n",
    "    \n",
    "    if len(junction5to6)!=0:            \n",
    "        for pp in range(len(junction5to6)):\n",
    "        \n",
    "            start6=junction5to6[pp][1]-junction5to6[pp][2]\n",
    "            end6=junction5to6[pp][1]+junction5to6[pp][2]\n",
    "            supportlistov=[]\n",
    "            supportlistdist=[]\n",
    "            logdtprecision=0.15\n",
    "        \n",
    "         \n",
    "        \n",
    "        for ff in averagedrescalingfactor:\n",
    "            if junction5to6[pp][3] == ff[0]:\n",
    "                for nn in [x for x in range(len(rescy6)) if (x != pp) & (resccolor6[x]==mostcommonfilter)]:\n",
    "                    start1=rescy6[nn]-rescerror_y6[nn] \n",
    "                    end1=rescy6[nn]+rescerror_y6[nn]\n",
    "                    dist=np.abs(rescx6[nn]-junction5to6[pp][0])\n",
    "                    supportlistov.append(overlap(start1, end1, start6, end6))\n",
    "                    supportlistdist.append(dist)\n",
    "                          \n",
    "                if all(supportlistdist)>logdtprecision:\n",
    "                    junction5to6[pp][1]=junction5to6[pp][1]\n",
    "                    nonrescaled.append([junction5to6[pp][0],junction5to6[pp][1],junction5to6[pp][2],junction5to6[pp][3],junction5to6[pp][4]])\n",
    "                if any((supportlistov[i] == 0) & (supportlistdist[i] <= logdtprecision) for i in range(len(supportlistov))):\n",
    "                    junction5to6[pp][1]=junction5to6[pp][1]+ff[2]\n",
    "                else:\n",
    "                    junction5to6[pp][1]=junction5to6[pp][1]\n",
    "                    nonrescaled.append([junction5to6[pp][0],junction5to6[pp][1],junction5to6[pp][2],junction5to6[pp][3],junction5to6[pp][4]])\n",
    "\n",
    "    else:\n",
    "        True                   \n",
    "                    \n",
    "                    \n",
    "    if len(junction6up)!=0:            \n",
    "        for pp in range(len(junction6up)):\n",
    "        \n",
    "            start7=junction6up[pp][1]-junction6up[pp][2]\n",
    "            end7=junction6up[pp][1]+junction6up[pp][2]\n",
    "            supportlistov=[]\n",
    "            supportlistdist=[]\n",
    "            logdtprecision=0.10\n",
    "        \n",
    "         \n",
    "        \n",
    "        for ff in averagedrescalingfactor:\n",
    "            if junction6up[pp][3] == ff[0]:\n",
    "                for nn in [x for x in range(len(rescy6)) if (x != pp) & (resccolor6[x]==mostcommonfilter)]:\n",
    "                    start1=rescy6[nn]-rescerror_y6[nn] \n",
    "                    end1=rescy6[nn]+rescerror_y6[nn]\n",
    "                    dist=np.abs(rescx6[nn]-junction6up[pp][0])\n",
    "                    supportlistov.append(overlap(start1, end1, start7, end7))\n",
    "                    supportlistdist.append(dist)\n",
    "                          \n",
    "                if all(supportlistdist)>logdtprecision:\n",
    "                    junction6up[pp][1]=junction6up[pp][1]\n",
    "                    nonrescaled.append([junction6up[pp][0],junction6up[pp][1],junction6up[pp][2],junction6up[pp][3],junction6up[pp][4]])\n",
    "                if any((supportlistov[i] == 0) & (supportlistdist[i] <= logdtprecision) for i in range(len(supportlistov))):\n",
    "                    junction6up[pp][1]=junction6up[pp][1]+ff[2]\n",
    "                else:\n",
    "                    junction6up[pp][1]=junction6up[pp][1]  \n",
    "                    nonrescaled.append([junction6up[pp][0],junction6up[pp][1],junction6up[pp][2],junction6up[pp][3],junction6up[pp][4]])\n",
    "\n",
    "    else:\n",
    "        True\n",
    "            \n",
    "    totaljunction=junction2to3+junction3to4+junction4to5+junction5to6+junction6up\n",
    "    \n",
    "    rescyfinal=np.concatenate((rescy1,rescy2,rescy3,rescy4,rescy5,rescy6))\n",
    "    \n",
    "    print('The most numerous filter of this GRB: ',sortedoccur[0][0],', with', sortedoccur[0][1], 'occurrences')\n",
    "    \n",
    "    \n",
    "    rescdata = pd.DataFrame(list(zip(rescx, rescyfinal, rescerror_y, resccolor, freqfinal, reschover_data)),\n",
    "               columns =['Time(s)','Mag','MagErr','Filter','Freq','Source'])\n",
    "    \n",
    "    \n",
    "    for qq in totaljunction:\n",
    "        \n",
    "        for ind in rescdata.index:\n",
    "            if (qq[0]==rescdata['Time(s)'][ind]) & (qq[3]==rescdata['Filter'][ind]):\n",
    "                rescdata['Mag'][ind]=qq[1]\n",
    "    \n",
    "    #print(nonrescaled)\n",
    "    #print(' ')\n",
    "    \n",
    "    nonrescaledclean=[]\n",
    "    for item in nonrescaled:\n",
    "        if item[3]!=mostcommonfilter:\n",
    "            nonrescaledclean.append(item)\n",
    "        \n",
    "    #print(nonrescalednew)\n",
    "    \n",
    "    # IN THIS SECOND RIDE; WE SELECT THE SECOND MOST NUMEROUS FILTER AS TEMPLATE FOR A SECOND RESCALING\n",
    "    \n",
    "    # We here create the sublist of data points that have the second most numerous filter\n",
    "    \n",
    "    mostcommonlight=rescdata.loc[rescdata['Filter'] == secondcommonfilter].to_dict('subset')\n",
    "    mostcommonx=mostcommonlight['Time(s)'].values\n",
    "    mostcommony=mostcommonlight['Mag'].values\n",
    "    mostcommonerror_y= mostcommonlight['MagErr'].values\n",
    "    \n",
    "    \n",
    "    # Second step: find the minimum time difference between the most common and the next filter in order of occurrences\n",
    "    \n",
    "    # Here we start to create a list that contains the rescaling factors for every filter after the most common\n",
    "    # The structure is (filtername, number of points, list of rescaling factors (up to 6))\n",
    "    scalingfactorslist=[[sortedoccur[1][0],sortedoccur[1][1],[0]]]\n",
    "    \n",
    "    # The following for loop makes j go through all the other filters (after the most common)\n",
    "    \n",
    "        \n",
    "    #print(scalingfactorslist)\n",
    "    \n",
    "    \n",
    "    lightresc=pd.DataFrame(nonrescaledclean, columns=['Time(s)','Mag','MagErr','Filter','Source'])\n",
    "    #lightresc=rescdata[rescdata['Filter'] != mostcommonfilter]  \n",
    "    rescx=lightresc['Time(s)'].values\n",
    "    rescy=lightresc['Mag'].values\n",
    "    resccolor=lightresc['Filter'].values\n",
    "    rescerror_y= lightresc['MagErr'].values\n",
    "    reschover_data=lightresc['Source'].values\n",
    "    \n",
    "    # 1st part of LC: 0<logt<2 => logdeltat<=0.35\n",
    "    logdtprecision=0.35\n",
    "    lightresc1=lightresc.loc[(lightresc['Time(s)'] <= 2) & (lightresc['Time(s)'] > 0)].to_dict('lightresc1')\n",
    "    rescx1=lightresc1['Time(s)']\n",
    "    rescy1=lightresc1['Mag']\n",
    "    resccolor1=lightresc1['Filter']\n",
    "    rescerror_y1= lightresc1['MagErr'] \n",
    "    reschover_data1=lightresc1['Source']    \n",
    "    \n",
    "    mostcommonlight1=lightresc.loc[(light['Filter'] == secondcommonfilter) & (lightresc['Time(s)'] <= 2) & (lightresc['Time(s)'] > 0)].to_dict('list')\n",
    "    \n",
    "    #print(mostcommonlight1)\n",
    "    \n",
    "    mostcommonx1=mostcommonlight1['Time(s)']\n",
    "    mostcommony1=mostcommonlight1['Mag']\n",
    "    mostcommonerror_y1= mostcommonlight1['MagErr']\n",
    "    \n",
    "        \n",
    "    # **************************** WORK IN PROGRESS ********************************************\n",
    "\n",
    "\n",
    "    for j in range(1,len(sortedoccur)):\n",
    "        scalingfactorslist.append([sortedoccur[j][0],sortedoccur[j][1],[]])\n",
    "                 \n",
    "\n",
    "    for j in range(1,len(sortedoccur)):\n",
    "        \n",
    "        sublight=lightresc.loc[(lightresc['Filter'] == sortedoccur[j][0]) \n",
    "                                     & (lightresc['Time(s)'] <= 2) & (lightresc['Time(s)'] > 0)].to_dict('subset')\n",
    "        subx=sublight['Time(s)'].values\n",
    "        suby=sublight['Mag'].values\n",
    "        suberror_y=sublight['MagErr'].values\n",
    "        \n",
    "        \n",
    "        indexeslist = [[p1,p2] for p1 in range(len(mostcommonx1)) for p2 in range(len(subx))]\n",
    "        #print(indexeslist)\n",
    "    \n",
    "        timediff = [np.abs(mostcommonx1[p1]-subx[p2]) for p1 in range(len(mostcommonx1)) for p2 in range(len(subx))]\n",
    "        \n",
    "        if len(timediff)==0:\n",
    "            continue\n",
    "        \n",
    "        else:\n",
    "            m = min(timediff)\n",
    "            minpos = timediff.index(m)\n",
    "    \n",
    "            # We here define the re-scaling constant between the most common band and the j-th band (in order of occurencies)\n",
    "            scalingfactor1=mostcommony1[indexeslist[minpos][0]]-suby[indexeslist[minpos][1]]\n",
    "            scalingfactorslist[j][2].append(scalingfactor1)\n",
    "        \n",
    "    #print('Part1')         \n",
    "    #print(scalingfactorslist)\n",
    "\n",
    "    # 2nd part of LC: 2<logt<3 => logdeltat<=0.3\n",
    "    logdtprecision=0.3\n",
    "    lightresc2=lightresc.loc[(lightresc['Time(s)'] <= 3) & (lightresc['Time(s)'] > 2)].to_dict('lightresc1')\n",
    "    rescx2=lightresc2['Time(s)']\n",
    "    rescy2=lightresc2['Mag']\n",
    "    resccolor2=lightresc2['Filter']\n",
    "    rescerror_y2= lightresc2['MagErr']\n",
    "    reschover_data2=lightresc2['Source']    \n",
    "    \n",
    "    mostcommonlight2=lightresc.loc[(light['Filter'] == secondcommonfilter) & (lightresc['Time(s)'] <= 3) & (lightresc['Time(s)'] > 2)].to_dict('list')\n",
    "    \n",
    "    #print(mostcommonlight1)\n",
    "    \n",
    "    mostcommonx2=mostcommonlight2['Time(s)']\n",
    "    mostcommony2=mostcommonlight2['Mag']\n",
    "    mostcommonerror_y2= mostcommonlight2['MagErr']\n",
    "    \n",
    "    \n",
    "    for j in range(1,len(sortedoccur)):\n",
    "        \n",
    "        sublight=lightresc.loc[(lightresc['Filter'] == sortedoccur[j][0]) \n",
    "                                     & (lightresc['Time(s)'] <= 3) & (lightresc['Time(s)'] > 2)].to_dict('subset')\n",
    "        subx=sublight['Time(s)'].values\n",
    "        suby=sublight['Mag'].values\n",
    "        suberror_y=sublight['MagErr'].values\n",
    "        \n",
    "        #scalingfactorslist.append([sortedoccur[j][0],sortedoccur[j][1],[]])\n",
    "        \n",
    "        indexeslist = [[p1,p2] for p1 in range(len(mostcommonx2)) for p2 in range(len(subx))]\n",
    "        #print(indexeslist)\n",
    "    \n",
    "        timediff = [np.abs(mostcommonx2[p1]-subx[p2]) for p1 in range(len(mostcommonx2)) for p2 in range(len(subx))]\n",
    "        \n",
    "        if len(timediff)==0:\n",
    "            continue\n",
    "        \n",
    "        \n",
    "        else:\n",
    "            m = min(timediff)\n",
    "            minpos = timediff.index(m)\n",
    "    \n",
    "            # We here define the re-scaling constant between the most common band and the j-th band (in order of occurencies)\n",
    "            scalingfactor2=mostcommony2[indexeslist[minpos][0]]-suby[indexeslist[minpos][1]]\n",
    "            scalingfactorslist[j][2].append(scalingfactor2)\n",
    "        \n",
    "    #print('Part2') \n",
    "    #print(scalingfactorslist)\n",
    "\n",
    "    # 3rd part of LC: 3<logt<4 => logdeltat<=0.25\n",
    "    logdtprecision=0.25\n",
    "    lightresc3=lightresc.loc[(lightresc['Time(s)'] <= 4) & (lightresc['Time(s)'] > 3)].to_dict('lightresc1')\n",
    "    rescx3=lightresc3['Time(s)']\n",
    "    rescy3=lightresc3['Mag']\n",
    "    resccolor3=lightresc3['Filter']\n",
    "    rescerror_y3= lightresc3['MagErr']\n",
    "    reschover_data3=lightresc3['Source']    \n",
    "    \n",
    "    mostcommonlight3=lightresc.loc[(light['Filter'] == secondcommonfilter) & (lightresc['Time(s)'] <= 4) & (lightresc['Time(s)'] > 3)].to_dict('list')\n",
    "    \n",
    "    #print(mostcommonlight1)\n",
    "    \n",
    "    mostcommonx3=mostcommonlight3['Time(s)']\n",
    "    mostcommony3=mostcommonlight3['Mag']\n",
    "    mostcommonerror_y3= mostcommonlight3['MagErr']\n",
    "    \n",
    "    \n",
    "    # **************************** WORK IN PROGRESS ********************************************\n",
    "    \n",
    "    for j in range(1,len(sortedoccur)):\n",
    "        \n",
    "        sublight=lightresc.loc[(lightresc['Filter'] == sortedoccur[j][0]) \n",
    "                                     & (lightresc['Time(s)'] <= 4) & (lightresc['Time(s)'] > 3)].to_dict('subset')\n",
    "        subx=sublight['Time(s)'].values\n",
    "        suby=sublight['Mag'].values\n",
    "        suberror_y=sublight['MagErr'].values\n",
    "        \n",
    "        #scalingfactorslist.append([sortedoccur[j][0],sortedoccur[j][1],[]])\n",
    "        \n",
    "        indexeslist = [[p1,p2] for p1 in range(len(mostcommonx3)) for p2 in range(len(subx))]\n",
    "        #print(indexeslist)\n",
    "    \n",
    "        timediff = [np.abs(mostcommonx3[p1]-subx[p2]) for p1 in range(len(mostcommonx3)) for p2 in range(len(subx))]\n",
    "        \n",
    "        if len(timediff)==0:\n",
    "            continue\n",
    "        \n",
    "        else:\n",
    "            m = min(timediff)\n",
    "            minpos = timediff.index(m)\n",
    "    \n",
    "            # We here define the re-scaling constant between the most common band and the j-th band (in order of occurencies)\n",
    "            scalingfactor3=mostcommony3[indexeslist[minpos][0]]-suby[indexeslist[minpos][1]]\n",
    "            scalingfactorslist[j][2].append(scalingfactor3)\n",
    "                 \n",
    "                \n",
    "    # 4th part of LC: 4<logt<5 => logdeltat<=0.2\n",
    "    logdtprecision=0.2\n",
    "    lightresc4=lightresc.loc[(lightresc['Time(s)'] <= 5) & (lightresc['Time(s)'] > 4)].to_dict('lightresc1')\n",
    "    rescx4=lightresc4['Time(s)']\n",
    "    rescy4=lightresc4['Mag']\n",
    "    resccolor4=lightresc4['Filter']\n",
    "    rescerror_y4= lightresc4['MagErr']\n",
    "    reschover_data4=lightresc4['Source']    \n",
    "    \n",
    "    mostcommonlight4=lightresc.loc[(light['Filter'] == secondcommonfilter) & (lightresc['Time(s)'] <= 5) & (lightresc['Time(s)'] > 4)].to_dict('list')\n",
    "    \n",
    "    #print(mostcommonlight1)\n",
    "    \n",
    "    mostcommonx4=mostcommonlight4['Time(s)']\n",
    "    mostcommony4=mostcommonlight4['Mag']\n",
    "    mostcommonerror_y4= mostcommonlight4['MagErr']\n",
    "    \n",
    "    \n",
    "    # **************************** WORK IN PROGRESS ********************************************\n",
    "    \n",
    "    for j in range(1,len(sortedoccur)):\n",
    "        \n",
    "        sublight=lightresc.loc[(lightresc['Filter'] == sortedoccur[j][0]) \n",
    "                                     & (lightresc['Time(s)'] <= 5) & (lightresc['Time(s)'] > 4)].to_dict('subset')\n",
    "        subx=sublight['Time(s)'].values\n",
    "        suby=sublight['Mag'].values\n",
    "        suberror_y=sublight['MagErr'].values\n",
    "        \n",
    "        #scalingfactorslist.append([sortedoccur[j][0],sortedoccur[j][1],[]])\n",
    "        \n",
    "        indexeslist = [[p1,p2] for p1 in range(len(mostcommonx4)) for p2 in range(len(subx))]\n",
    "        #print(indexeslist)\n",
    "    \n",
    "        timediff = [np.abs(mostcommonx4[p1]-subx[p2]) for p1 in range(len(mostcommonx4)) for p2 in range(len(subx))]\n",
    "        \n",
    "        if len(timediff)==0:\n",
    "            continue\n",
    "        \n",
    "        else:\n",
    "            m = min(timediff)\n",
    "            minpos = timediff.index(m)\n",
    "\n",
    "            # We here define the re-scaling constant between the most common band and the j-th band (in order of occurencies)\n",
    "            scalingfactor4=mostcommony4[indexeslist[minpos][0]]-suby[indexeslist[minpos][1]]\n",
    "            scalingfactorslist[j][2].append(scalingfactor4)\n",
    "            \n",
    "    #print('Part4') \n",
    "    \n",
    "\n",
    "    # 5th part of LC: 5<logt<6 => logdeltat<=0.15\n",
    "    logdtprecision=0.15\n",
    "    lightresc5=lightresc.loc[(lightresc['Time(s)'] <= 6) & (lightresc['Time(s)'] > 5)].to_dict('lightresc1')\n",
    "    rescx5=lightresc5['Time(s)']\n",
    "    rescy5=lightresc5['Mag']\n",
    "    resccolor5=lightresc5['Filter']\n",
    "    rescerror_y5= lightresc5['MagErr']\n",
    "    reschover_data5=lightresc5['Source']    \n",
    "    \n",
    "    mostcommonlight5=lightresc.loc[(light['Filter'] == secondcommonfilter) & (lightresc['Time(s)'] <= 6) & (lightresc['Time(s)'] > 5)].to_dict('list')\n",
    "    \n",
    "    #print(mostcommonlight1)\n",
    "    \n",
    "    mostcommonx5=mostcommonlight5['Time(s)']\n",
    "    mostcommony5=mostcommonlight5['Mag']\n",
    "    mostcommonerror_y5= mostcommonlight5['MagErr']\n",
    "    \n",
    "    \n",
    "    # **************************** WORK IN PROGRESS ********************************************\n",
    "    \n",
    "    for j in range(1,len(sortedoccur)):\n",
    "        \n",
    "        sublight=lightresc.loc[(lightresc['Filter'] == sortedoccur[j][0]) \n",
    "                                     & (lightresc['Time(s)'] <= 6) & (lightresc['Time(s)'] > 5)].to_dict('subset')\n",
    "        subx=sublight['Time(s)'].values\n",
    "        suby=sublight['Mag'].values\n",
    "        suberror_y=sublight['MagErr'].values\n",
    "        \n",
    "        #scalingfactorslist.append([sortedoccur[j][0],sortedoccur[j][1],[]])\n",
    "        \n",
    "        indexeslist = [[p1,p2] for p1 in range(len(mostcommonx5)) for p2 in range(len(subx))]\n",
    "        #print(indexeslist)\n",
    "    \n",
    "        timediff = [np.abs(mostcommonx5[p1]-subx[p2]) for p1 in range(len(mostcommonx5)) for p2 in range(len(subx))]\n",
    "        \n",
    "        if len(timediff)==0:\n",
    "            continue\n",
    "        \n",
    "        else:\n",
    "            m = min(timediff)\n",
    "            minpos = timediff.index(m)\n",
    "\n",
    "            # We here define the re-scaling constant between the most common band and the j-th band (in order of occurencies)\n",
    "            scalingfactor5=mostcommony5[indexeslist[minpos][0]]-suby[indexeslist[minpos][1]]\n",
    "            scalingfactorslist[j][2].append(scalingfactor5)\n",
    "            \n",
    "    #print('Part5')     \n",
    "\n",
    "\n",
    "    # 6th part of LC: logt>6 => logdeltat<=0.1\n",
    "    logdtprecision=0.1\n",
    "    lightresc6=lightresc.loc[(lightresc['Time(s)'] > 6)].to_dict('lightresc1')\n",
    "    rescx6=lightresc6['Time(s)']\n",
    "    rescy6=lightresc6['Mag']\n",
    "    resccolor6=lightresc6['Filter']\n",
    "    rescerror_y6= lightresc6['MagErr']\n",
    "    reschover_data6=lightresc6['Source']    \n",
    "    \n",
    "    mostcommonlight6=lightresc.loc[(light['Filter'] == secondcommonfilter) & (lightresc['Time(s)'] > 6)].to_dict('list')\n",
    "    \n",
    "    #print(mostcommonlight1)\n",
    "    \n",
    "    mostcommonx6=mostcommonlight6['Time(s)']\n",
    "    mostcommony6=mostcommonlight6['Mag']\n",
    "    mostcommonerror_y6=mostcommonlight6['MagErr']\n",
    "    \n",
    "    \n",
    "    # **************************** WORK IN PROGRESS ********************************************\n",
    "    \n",
    "    for j in range(1,len(sortedoccur)):\n",
    "        \n",
    "        sublight=lightresc.loc[(lightresc['Filter'] == sortedoccur[j][0]) \n",
    "                                     & (lightresc['Time(s)'] > 6)].to_dict('subset')\n",
    "        subx=sublight['Time(s)'].values\n",
    "        suby=sublight['Mag'].values\n",
    "        suberror_y=sublight['MagErr'].values\n",
    "        \n",
    "        #scalingfactorslist.append([sortedoccur[j][0],sortedoccur[j][1],[]])\n",
    "        \n",
    "        indexeslist = [[p1,p2] for p1 in range(len(mostcommonx6)) for p2 in range(len(subx))]\n",
    "        #print(indexeslist)\n",
    "    \n",
    "        timediff = [np.abs(mostcommonx6[p1]-subx[p2]) for p1 in range(len(mostcommonx6)) for p2 in range(len(subx))]\n",
    "        \n",
    "        if len(timediff)==0:\n",
    "            continue\n",
    "        \n",
    "        else:\n",
    "            m = min(timediff)\n",
    "            minpos = timediff.index(m)\n",
    "\n",
    "            # We here define the re-scaling constant between the most common band and the j-th band (in order of occurencies)\n",
    "            scalingfactor6=mostcommony6[indexeslist[minpos][0]]-suby[indexeslist[minpos][1]]\n",
    "            scalingfactorslist[j][2].append(scalingfactor6)\n",
    "            \n",
    "    #print('Part6')\n",
    "    \n",
    "    \n",
    "    # Averaging the rescaling factors for each filter\n",
    "    \n",
    "    averagedrescalingfactor=[]\n",
    "    for j in range(len(scalingfactorslist)):\n",
    "        if np.isnan(np.mean(scalingfactorslist[j][2]))==False:\n",
    "                    averagedrescalingfactor.append([scalingfactorslist[j][0],scalingfactorslist[j][1],np.mean(scalingfactorslist[j][2])])\n",
    "        if np.isnan(np.mean(scalingfactorslist[j][2]))==True:\n",
    "                    averagedrescalingfactor.append([scalingfactorslist[j][0],scalingfactorslist[j][1],0])\n",
    "    \n",
    "    #print(scalingfactorslist)\n",
    "    \n",
    "    rescfactfromduplicate=[]\n",
    "    \n",
    "    for j in range(1,len(sortedoccur)):\n",
    "        \n",
    "        sublight=lightresc.loc[lightresc['Filter'] == sortedoccur[j][0]].to_dict('subset')\n",
    "        subx=sublight['Time(s)'].values\n",
    "        suby=sublight['Mag'].values\n",
    "        suberror_y=sublight['MagErr'].values\n",
    "        subcolor=sublight['Filter'].values\n",
    "                    \n",
    "        timediffpreliminar = []\n",
    "        \n",
    "        for p1 in range(len(mostcommonx)):\n",
    "            for p2 in range(len(subx)):\n",
    "                if (np.abs(mostcommonx[p1]-subx[p2])<=1e-15) & (subcolor[p2]==sortedoccur[j][0]):\n",
    "                    timediffpreliminar.append([p1,p2,sortedoccur[j][0],mostcommony[p1]-suby[p2]])\n",
    "        \n",
    "        if len(timediffpreliminar)==0:\n",
    "            continue\n",
    "        \n",
    "        #print('All the duplicates with the given filter')\n",
    "        #print(timediffpreliminar)\n",
    "        \n",
    "        meanlist=[]\n",
    "        for k in timediffpreliminar:\n",
    "            meanlist.append(k[3])\n",
    "        \n",
    "        rescfactfromduplicate.append([sortedoccur[j][0],np.mean(meanlist)])\n",
    "        \n",
    "        #print('Averaging the rescaling factors for the given filter')\n",
    "        #print(rescfactband)\n",
    "    \n",
    "    \n",
    "    for a in averagedrescalingfactor:\n",
    "        for b in rescfactfromduplicate:\n",
    "            if a[0]==b[0]:\n",
    "                a[2]=b[1]\n",
    "                \n",
    "    \n",
    "    junction2to3=[]\n",
    "    junction3to4=[]\n",
    "    junction4to5=[]\n",
    "    junction5to6=[]\n",
    "    junction6up=[]\n",
    "    \n",
    "    \n",
    "\n",
    "    # RESCALING PART OF THE LC 0<logt<2\n",
    "    \n",
    "    for pp in range(len(rescy1)):\n",
    "        logdtprecision=0.35\n",
    "        start2=rescy1[pp]-rescerror_y1[pp]\n",
    "        end2=rescy1[pp]+rescerror_y1[pp]\n",
    "        supportlistov=[]\n",
    "        supportlistdist=[]\n",
    "        \n",
    "        \n",
    "        \n",
    "        for ff in averagedrescalingfactor:\n",
    "            if (resccolor1[pp] == ff[0]) & (resccolor1[pp] != mostcommonfilter):\n",
    "                for nn in [x for x in range(len(rescy1)) if (x != pp) & (resccolor1[x]==secondcommonfilter)]:\n",
    "                    start1=rescy1[nn]-rescerror_y1[nn] \n",
    "                    end1=rescy1[nn]+rescerror_y1[nn]\n",
    "                    dist=np.abs(rescx1[nn]-rescx1[pp])\n",
    "                    supportlistov.append(overlap(start1, end1, start2, end2))\n",
    "                    supportlistdist.append(dist)\n",
    "                          \n",
    "                if all(supportlistdist)>logdtprecision:\n",
    "                    rescy1[pp]=rescy1[pp]\n",
    "                    \n",
    "                    if 2-logdtprecision<rescx1[pp]<2:\n",
    "                        junction2to3.append([rescx1[pp],rescy1[pp],rescerror_y1[pp],resccolor1[pp]])                     \n",
    "                    \n",
    "                if any((supportlistov[i] == 0) & (supportlistdist[i] <= logdtprecision) for i in range(len(supportlistov))):\n",
    "                    rescy1[pp]=rescy1[pp]+ff[2]\n",
    "                else:\n",
    "                    rescy1[pp]=rescy1[pp]\n",
    "    \n",
    "    # RESCALING PART OF THE LC 2<logt<3                 \n",
    "    \n",
    "    for pp in range(len(rescy2)):\n",
    "        start2=rescy2[pp]-rescerror_y2[pp]\n",
    "        end2=rescy2[pp]+rescerror_y2[pp]\n",
    "        supportlistov=[]\n",
    "        supportlistdist=[]\n",
    "        logdtprecision=0.3\n",
    "        #junction3to4=[]\n",
    "         \n",
    "        \n",
    "        for ff in averagedrescalingfactor:\n",
    "            if (resccolor2[pp] == ff[0]) & (resccolor2[pp] != mostcommonfilter):\n",
    "                for nn in [x for x in range(len(rescy2)) if (x != pp) & (resccolor2[x]==secondcommonfilter)]:\n",
    "                    start1=rescy2[nn]-rescerror_y2[nn] \n",
    "                    end1=rescy2[nn]+rescerror_y2[nn]\n",
    "                    dist=np.abs(rescx2[nn]-rescx2[pp])\n",
    "                    supportlistov.append(overlap(start1, end1, start2, end2))\n",
    "                    supportlistdist.append(dist)\n",
    "                          \n",
    "                if all(supportlistdist)>logdtprecision:\n",
    "                    rescy2[pp]=rescy2[pp]\n",
    "                    \n",
    "                    if 3-logdtprecision<rescx2[pp]<3:\n",
    "                        junction3to4.append([rescx2[pp],rescy2[pp],rescerror_y2[pp],resccolor2[pp]]) \n",
    "                        \n",
    "                if any((supportlistov[i] == 0) & (supportlistdist[i] <= logdtprecision) for i in range(len(supportlistov))):\n",
    "                    rescy2[pp]=rescy2[pp]+ff[2]\n",
    "                else:\n",
    "                    rescy2[pp]=rescy2[pp]\n",
    " \n",
    "\n",
    "    # RESCALING PART OF THE LC 3<logt<4     \n",
    "    \n",
    "    for pp in range(len(rescy3)):\n",
    "        \n",
    "        start3=rescy3[pp]-rescerror_y3[pp]\n",
    "        end3=rescy3[pp]+rescerror_y3[pp]\n",
    "        supportlistov=[]\n",
    "        supportlistdist=[]\n",
    "        logdtprecision=0.25\n",
    "        #junction4to5=[]\n",
    "        \n",
    "        \n",
    "        for ff in averagedrescalingfactor:\n",
    "            if (resccolor3[pp] == ff[0]) & (resccolor3[pp] != mostcommonfilter):\n",
    "                for nn in [x for x in range(len(rescy3)) if (x != pp) & (resccolor3[x]==secondcommonfilter)]:\n",
    "                    start1=rescy3[nn]-rescerror_y3[nn] \n",
    "                    end1=rescy3[nn]+rescerror_y3[nn]\n",
    "                    dist=np.abs(rescx3[nn]-rescx3[pp])\n",
    "                    supportlistov.append(overlap(start1, end1, start3, end3))\n",
    "                    supportlistdist.append(dist)\n",
    "                          \n",
    "                if all(supportlistdist)>logdtprecision:\n",
    "                    rescy3[pp]=rescy3[pp]\n",
    "                    \n",
    "                    if 4-logdtprecision<rescx3[pp]<4:\n",
    "                        junction4to5.append([rescx3[pp],rescy3[pp],rescerror_y3[pp],resccolor3[pp]])                    \n",
    "                    \n",
    "                if any((supportlistov[i] == 0) & (supportlistdist[i] <= logdtprecision) for i in range(len(supportlistov))):\n",
    "                    rescy3[pp]=rescy3[pp]+ff[2]\n",
    "                else:\n",
    "                    rescy3[pp]=rescy3[pp]\n",
    "\n",
    "                    \n",
    "    # RESCALING PART OF THE LC 4<logt<5     \n",
    "    \n",
    "    for pp in range(len(rescy4)):\n",
    "        \n",
    "        start4=rescy4[pp]-rescerror_y4[pp]\n",
    "        end4=rescy4[pp]+rescerror_y4[pp]\n",
    "        supportlistov=[]\n",
    "        supportlistdist=[]\n",
    "        logdtprecision=0.2\n",
    "        #junction5to6=[]\n",
    "        \n",
    "         \n",
    "        \n",
    "        for ff in averagedrescalingfactor:\n",
    "            if (resccolor4[pp] == ff[0]) & (resccolor4[pp] != mostcommonfilter):\n",
    "                for nn in [x for x in range(len(rescy4)) if (x != pp) & (resccolor4[x]==secondcommonfilter)]:\n",
    "                    start1=rescy4[nn]-rescerror_y4[nn] \n",
    "                    end1=rescy4[nn]+rescerror_y4[nn]\n",
    "                    dist=np.abs(rescx4[nn]-rescx4[pp])\n",
    "                    supportlistov.append(overlap(start1, end1, start4, end4))\n",
    "                    supportlistdist.append(dist)\n",
    "                          \n",
    "                if all(supportlistdist)>logdtprecision:\n",
    "                    rescy4[pp]=rescy4[pp]\n",
    "                    \n",
    "                    if 5-logdtprecision<rescx4[pp]<5:\n",
    "                        junction5to6.append([rescx4[pp],rescy4[pp],rescerror_y4[pp],resccolor4[pp]])\n",
    "                    \n",
    "                if any((supportlistov[i] == 0) & (supportlistdist[i] <= logdtprecision) for i in range(len(supportlistov))):\n",
    "                    rescy4[pp]=rescy4[pp]+ff[2]\n",
    "                else:\n",
    "                    rescy4[pp]=rescy4[pp]\n",
    "\n",
    "                    \n",
    "    # RESCALING PART OF THE LC 5<logt<6 \n",
    "    \n",
    "    for pp in range(len(rescy5)):\n",
    "        \n",
    "        start5=rescy5[pp]-rescerror_y5[pp]\n",
    "        end5=rescy5[pp]+rescerror_y5[pp]\n",
    "        supportlistov=[]\n",
    "        supportlistdist=[]\n",
    "        logdtprecision=0.15\n",
    "        #junction6up=[]\n",
    "        \n",
    "         \n",
    "        \n",
    "        for ff in averagedrescalingfactor:\n",
    "            if (resccolor5[pp] == ff[0]) & (resccolor5[pp] != mostcommonfilter):\n",
    "                for nn in [x for x in range(len(rescy5)) if (x != pp) & (resccolor5[x]==secondcommonfilter)]:\n",
    "                    start1=rescy5[nn]-rescerror_y5[nn] \n",
    "                    end1=rescy5[nn]+rescerror_y5[nn]\n",
    "                    dist=np.abs(rescx5[nn]-rescx5[pp])\n",
    "                    supportlistov.append(overlap(start1, end1, start5, end5))\n",
    "                    supportlistdist.append(dist)\n",
    "                          \n",
    "                if all(supportlistdist)>logdtprecision:\n",
    "                    rescy5[pp]=rescy5[pp]\n",
    "                    \n",
    "                    if 6-logdtprecision<rescx5[pp]<6:\n",
    "                        junction6up.append([rescx5[pp],rescy5[pp],rescerror_y5[pp],resccolor5[pp]])\n",
    "                        \n",
    "                if any((supportlistov[i] == 0) & (supportlistdist[i] <= logdtprecision) for i in range(len(supportlistov))):\n",
    "                    rescy5[pp]=rescy5[pp]+ff[2]\n",
    "                else:\n",
    "                    rescy5[pp]=rescy5[pp]\n",
    "                    \n",
    "              \n",
    "    # RESCALING PART OF THE LC Logt>6                    \n",
    "    \n",
    "                \n",
    "    for pp in range(len(rescy6)):\n",
    "        \n",
    "        start6=rescy6[pp]-rescerror_y6[pp]\n",
    "        end6=rescy6[pp]+rescerror_y6[pp]\n",
    "        supportlistov=[]\n",
    "        supportlistdist=[]\n",
    "        logdtprecision=0.1\n",
    "        \n",
    "         \n",
    "        \n",
    "        for ff in averagedrescalingfactor:\n",
    "            if (resccolor6[pp] == ff[0]) & (resccolor6[pp] != mostcommonfilter):\n",
    "                for nn in [x for x in range(len(rescy6)) if (x != pp) & (resccolor6[x]==secondcommonfilter)]:\n",
    "                    start1=rescy6[nn]-rescerror_y6[nn] \n",
    "                    end1=rescy6[nn]+rescerror_y6[nn]\n",
    "                    dist=np.abs(rescx6[nn]-rescx6[pp])\n",
    "                    supportlistov.append(overlap(start1, end1, start6, end6))\n",
    "                    supportlistdist.append(dist)\n",
    "                          \n",
    "                if all(supportlistdist)>logdtprecision:\n",
    "                    rescy6[pp]=rescy6[pp]\n",
    "                    \n",
    "                    if 6-logdtprecision<rescx6[pp]<6:\n",
    "                        junction6up.append([rescx6[pp],rescy6[pp],rescerror_y6[pp],resccolor6[pp]])                    \n",
    "                    \n",
    "                if any((supportlistov[i] == 0) & (supportlistdist[i] <= logdtprecision) for i in range(len(supportlistov))):\n",
    "                    rescy6[pp]=rescy6[pp]+ff[2]\n",
    "                else:\n",
    "                    rescy6[pp]=rescy6[pp]\n",
    "\n",
    "    \n",
    "    #########################################################################\n",
    "    # RESCALING THE JUNCTIONS                \n",
    "    \n",
    "    \n",
    "    if len(junction2to3)!=0:\n",
    "        for pp in range(len(junction2to3)):\n",
    "        \n",
    "            start3=junction2to3[pp][1]-junction2to3[pp][2]\n",
    "            end3=junction2to3[pp][1]+junction2to3[pp][2]\n",
    "            supportlistov=[]\n",
    "            supportlistdist=[]\n",
    "            logdtprecision=0.3\n",
    "           \n",
    "        \n",
    "        for ff in averagedrescalingfactor:\n",
    "            if (junction2to3[pp][3] == ff[0]) & (junction2to3[pp][3] != mostcommonfilter):\n",
    "                for nn in [x for x in range(len(rescy3)) if (x != pp) & (resccolor3[x]==mostcommonfilter)]:\n",
    "                    start1=rescy3[nn]-rescerror_y3[nn] \n",
    "                    end1=rescy3[nn]+rescerror_y3[nn]\n",
    "                    dist=np.abs(rescx3[nn]-junction2to3[pp][0])\n",
    "                    supportlistov.append(overlap(start1, end1, start3, end3))\n",
    "                    supportlistdist.append(dist)\n",
    "                          \n",
    "                if all(supportlistdist)>logdtprecision:\n",
    "                    junction2to3[pp][1]=junction2to3[pp][1]\n",
    "                if any((supportlistov[i] == 0) & (supportlistdist[i] <= logdtprecision) for i in range(len(supportlistov))):\n",
    "                    junction2to3[pp][1]=junction2to3[pp][1]+ff[2]\n",
    "                else:\n",
    "                    junction2to3[pp][1]=junction2to3[pp][1]\n",
    "\n",
    "    else:\n",
    "        junction2to3=[]                      \n",
    "    \n",
    "    if len(junction3to4)!=0:    \n",
    "        for pp in range(len(junction3to4)):\n",
    "        \n",
    "            start4=junction3to4[pp][1]-junction3to4[pp][2]\n",
    "            end4=junction3to4[pp][1]+junction3to4[pp][2]\n",
    "            supportlistov=[]\n",
    "            supportlistdist=[]\n",
    "            logdtprecision=0.25\n",
    "        \n",
    "         \n",
    "        \n",
    "        for ff in averagedrescalingfactor:\n",
    "            if (junction3to4[pp][3] == ff[0]) & (junction3to4[pp][3] != secondcommonfilter):\n",
    "                for nn in [x for x in range(len(rescy4)) if (x != pp) & (resccolor4[x]==mostcommonfilter)]:\n",
    "                    start1=rescy4[nn]-rescerror_y4[nn] \n",
    "                    end1=rescy4[nn]+rescerror_y4[nn]\n",
    "                    dist=np.abs(rescx4[nn]-junction3to4[pp][0])\n",
    "                    supportlistov.append(overlap(start1, end1, start4, end4))\n",
    "                    supportlistdist.append(dist)\n",
    "                          \n",
    "                if all(supportlistdist)>logdtprecision:\n",
    "                    junction3to4[pp][1]=junction3to4[pp][1]\n",
    "                if any((supportlistov[i] == 0) & (supportlistdist[i] <= logdtprecision) for i in range(len(supportlistov))):\n",
    "                    junction3to4[pp][1]=junction3to4[pp][1]+ff[2]\n",
    "                else:\n",
    "                    junction3to4[pp][1]=junction3to4[pp][1]\n",
    "                    \n",
    "    else:\n",
    "        junction3to4=[]                    \n",
    "                    \n",
    "        \n",
    "    if len(junction4to5)!=0:    \n",
    "        for pp in range(len(junction4to5)):\n",
    "        \n",
    "            start5=junction4to5[pp][1]-junction4to5[pp][2]\n",
    "            end5=junction4to5[pp][1]+junction4to5[pp][2]\n",
    "            supportlistov=[]\n",
    "            supportlistdist=[]\n",
    "            logdtprecision=0.2\n",
    "        \n",
    "         \n",
    "        \n",
    "        for ff in averagedrescalingfactor:\n",
    "            if (junction4to5[pp][3] == ff[0]) & (junction4to5[pp][3] != secondcommonfilter):\n",
    "                for nn in [x for x in range(len(rescy5)) if (x != pp) & (resccolor5[x]==mostcommonfilter)]:\n",
    "                    start1=rescy5[nn]-rescerror_y5[nn] \n",
    "                    end1=rescy5[nn]+rescerror_y5[nn]\n",
    "                    dist=np.abs(rescx5[nn]-junction4to5[pp][0])\n",
    "                    supportlistov.append(overlap(start1, end1, start5, end5))\n",
    "                    supportlistdist.append(dist)\n",
    "                          \n",
    "                if all(supportlistdist)>logdtprecision:\n",
    "                    junction4to5[pp][1]=junction4to5[pp][1]\n",
    "                if any((supportlistov[i] == 0) & (supportlistdist[i] <= logdtprecision) for i in range(len(supportlistov))):\n",
    "                    junction4to5[pp][1]=junction4to5[pp][1]+ff[2]\n",
    "                else:\n",
    "                    junction4to5[pp][1]=junction4to5[pp][1]\n",
    " \n",
    "    else:\n",
    "        junction4to5=[]   \n",
    "\n",
    "        \n",
    "    if len(junction5to6)!=0:            \n",
    "        for pp in range(len(junction5to6)):\n",
    "        \n",
    "            start6=junction5to6[pp][1]-junction5to6[pp][2]\n",
    "            end6=junction5to6[pp][1]+junction5to6[pp][2]\n",
    "            supportlistov=[]\n",
    "            supportlistdist=[]\n",
    "            logdtprecision=0.15\n",
    "        \n",
    "         \n",
    "        \n",
    "        for ff in averagedrescalingfactor:\n",
    "            if (junction5to6[pp][3] == ff[0]) & (junction5to6[pp][3] != mostcommonfilter):\n",
    "                for nn in [x for x in range(len(rescy6)) if (x != pp) & (resccolor6[x]==mostcommonfilter)]:\n",
    "                    start1=rescy6[nn]-rescerror_y6[nn] \n",
    "                    end1=rescy6[nn]+rescerror_y6[nn]\n",
    "                    dist=np.abs(rescx6[nn]-junction5to6[pp][0])\n",
    "                    supportlistov.append(overlap(start1, end1, start6, end6))\n",
    "                    supportlistdist.append(dist)\n",
    "                          \n",
    "                if all(supportlistdist)>logdtprecision:\n",
    "                    junction5to6[pp][1]=junction5to6[pp][1]\n",
    "                if any((supportlistov[i] == 0) & (supportlistdist[i] <= logdtprecision) for i in range(len(supportlistov))):\n",
    "                    junction5to6[pp][1]=junction5to6[pp][1]+ff[2]\n",
    "                else:\n",
    "                    junction5to6[pp][1]=junction5to6[pp][1]\n",
    "\n",
    "    else:\n",
    "        junction5to6=[]                   \n",
    "                    \n",
    "                    \n",
    "    if len(junction6up)!=0:            \n",
    "        for pp in range(len(junction6up)):\n",
    "        \n",
    "            start7=junction6up[pp][1]-junction6up[pp][2]\n",
    "            end7=junction6up[pp][1]+junction6up[pp][2]\n",
    "            supportlistov=[]\n",
    "            supportlistdist=[]\n",
    "            logdtprecision=0.10\n",
    "        \n",
    "         \n",
    "        \n",
    "        for ff in averagedrescalingfactor:\n",
    "            if (junction6up[pp][3] == ff[0]) & (junction6up[pp][3] != mostcommonfilter):\n",
    "                for nn in [x for x in range(len(rescy6)) if (x != pp) & (resccolor6[x]==mostcommonfilter)]:\n",
    "                    start1=rescy6[nn]-rescerror_y6[nn] \n",
    "                    end1=rescy6[nn]+rescerror_y6[nn]\n",
    "                    dist=np.abs(rescx6[nn]-junction6up[pp][0])\n",
    "                    supportlistov.append(overlap(start1, end1, start7, end7))\n",
    "                    supportlistdist.append(dist)\n",
    "                          \n",
    "                if all(supportlistdist)>logdtprecision:\n",
    "                    junction6up[pp][1]=junction6up[pp][1]\n",
    "                if any((supportlistov[i] == 0) & (supportlistdist[i] <= logdtprecision) for i in range(len(supportlistov))):\n",
    "                    junction6up[pp][1]=junction6up[pp][1]+ff[2]\n",
    "                else:\n",
    "                    junction6up[pp][1]=junction6up[pp][1]\n",
    "\n",
    "    else:\n",
    "        junction6up=[]\n",
    "            \n",
    "    totaljunction2=junction2to3+junction3to4+junction4to5+junction5to6+junction6up\n",
    "    \n",
    "    rescyfinal2=np.concatenate((rescy1,rescy2,rescy3,rescy4,rescy5,rescy6))\n",
    "    \n",
    "    print('The second most numerous filter of this GRB: ',sortedoccur[1][0],', with', sortedoccur[1][1], 'occurrences')\n",
    "    \n",
    "    \n",
    "    rescdata2 = pd.DataFrame(list(zip(rescx, rescyfinal2, rescerror_y, resccolor, freqfinal, reschover_data)),\n",
    "               columns =['Time(s)','Mag','MagErr','Filter','Freq','Source'])\n",
    "    \n",
    "    \n",
    "    for qq in totaljunction:\n",
    "        \n",
    "        for ind in rescdata2.index:\n",
    "            if (qq[0]==rescdata2['Time(s)'][ind]) & (qq[3]==rescdata2['Filter'][ind]):\n",
    "                rescdata2['Mag'][ind]=qq[1]\n",
    "    \n",
    "    \n",
    "    # MERGING THE FIRST RESCALED LC (WITH RESPECT TO MOST NUMEROUS FILTER) AND THE SECOND RESCALED\n",
    "    # WITH RESPECT TO SECOND MOST NUMEROUS FILTER\n",
    "    \n",
    "    tosubstitute=pd.DataFrame()\n",
    "    for s in light.index:\n",
    "        for o in rescdata.index:\n",
    "            if (rescdata['Time(s)'][o]==light['Time(s)'][s]) & (rescdata['Mag'][o]==light['Mag'][s]) & (rescdata['MagErr'][o]==light['MagErr'][s]) & (rescdata['Filter'][o]==light['Filter'][s]):\n",
    "                tosubstitute.append(rescdata[o])\n",
    "    \n",
    "                \n",
    "    for o in rescdata.index:\n",
    "        for j in tosubstitute.index:\n",
    "                if (tosubstitute['Time(s)'][j]==rescdata['Time(s)'][o]) & (tosubstitute['MagErr'][j]==rescdata['MagErr'][o]) & (tosubstitute['Filter'][j]==rescdata['Filter'][o]):\n",
    "                    rescdata['Mag'][o]=tosubstitute['Mag'][j]\n",
    "    \n",
    "    \n",
    "    # THIRD STEP\n",
    "    # Duplicate remover written by Ridha. Keeps the most occurring filter. BIAGIO'S EDIT: I put the rounding on time values\n",
    "    \n",
    "    def duplicate_remover(df):\n",
    "        freq_df = pd.DataFrame(df['Filter'].value_counts())\n",
    "        freq_df.rename(columns = {'Filter':'freq'}, inplace = True)\n",
    "    \n",
    "        for i,j in zip(df.index, df.Filter):\n",
    "            df.loc[i, 'freq'] = freq_df.loc[j, 'freq']\n",
    "\n",
    "        #df = df.sort_values('freq', ascending=False).drop_duplicates(subset='Time(s)', keep=\"first\")\n",
    "        \n",
    "        df = df.sort_values('freq', ascending=False)\n",
    "        digitsnumber = 2\n",
    "        df = df.round({'Time(s)': digitsnumber }) #rounding the values up to the digitsnumber parameter\n",
    "        df = df.drop_duplicates(subset='Time(s)', keep=\"first\")\n",
    "        df = df.sort_values('Time(s)', ascending=True)\n",
    "\n",
    "        return df\n",
    "    \n",
    "    rescdatafinal=duplicate_remover(rescdata)\n",
    "    \n",
    "    \n",
    "    colorandfreq=[]\n",
    "    for k in rescdatafinal['Filter']:\n",
    "        for j in filterslist:\n",
    "            if j[0]==k:\n",
    "                colorandfreq.append(str(k)+' ('+str(j[1])+')')\n",
    "\n",
    "    \n",
    "    fig = px.scatter(\n",
    "    data_frame=rescdatafinal,\n",
    "    x=rescdatafinal['Time(s)'].values,\n",
    "    y=-rescdatafinal['Mag'].values,#=np.log10(resclight['flux'].values),\n",
    "    error_y=rescdatafinal['MagErr'].values,#= resclight['flux_err'].values / (light['flux'].values * np.log(10)),\n",
    "    hover_data=['Source'],#=['source'],\n",
    "    color=colorandfreq, #rescdatafinal['Filter'].values,\n",
    "    title=i+'_RESCALED',\n",
    "    )\n",
    "    fig.update_layout(\n",
    "        xaxis_title='log Time (s)',\n",
    "        yaxis_title='Mag'\n",
    "    )\n",
    "\n",
    "    fig.show()\n",
    "    #fig.write_html(i+\"_RESCALED.html\")"
   ]
  },
  {
   "cell_type": "code",
   "execution_count": null,
   "id": "7beed751",
   "metadata": {},
   "outputs": [],
   "source": []
  }
 ],
 "metadata": {
  "kernelspec": {
   "display_name": "Python 3 (ipykernel)",
   "language": "python",
   "name": "python3"
  },
  "language_info": {
   "codemirror_mode": {
    "name": "ipython",
    "version": 3
   },
   "file_extension": ".py",
   "mimetype": "text/x-python",
   "name": "python",
   "nbconvert_exporter": "python",
   "pygments_lexer": "ipython3",
   "version": "3.9.12"
  },
  "vscode": {
   "interpreter": {
    "hash": "f0f1fbfcf951cf3753cfed0bdf8a65c2a6e35f2291392e0eeaef64242cbdd747"
   }
  }
 },
 "nbformat": 4,
 "nbformat_minor": 5
}
