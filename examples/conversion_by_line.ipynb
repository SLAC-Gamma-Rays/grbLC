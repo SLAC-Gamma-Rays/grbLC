{
 "cells": [
  {
   "cell_type": "code",
   "execution_count": 4,
   "metadata": {},
   "outputs": [
    {
     "name": "stdout",
     "output_type": "stream",
     "text": [
      "/Users/youngsam/Code/grb_module/grbLC\n",
      "/Users/youngsam/Code/grb_module/grbLC/examples\n"
     ]
    }
   ],
   "source": [
    "import grblc.convert as cv"
   ]
  },
  {
   "cell_type": "code",
   "execution_count": 10,
   "metadata": {},
   "outputs": [],
   "source": [
    "# converting a file manually with convert.toFlux() is pretty easy and may give you more\n",
    "# flexibility in converting as opposed to convert.convertGRB(). all you need is:\n",
    "#   1. a list or array of magnitudes\n",
    "#   2. a list or array of magnitude errors, same length as 1.\n",
    "#   3. the GRB name (for dust extinction calculation)\n",
    "#   4. photon index and error (for conversion from other bands to R)\n",
    "# this tutorial will show you how to do this."
   ]
  },
  {
   "cell_type": "code",
   "execution_count": 5,
   "metadata": {},
   "outputs": [
    {
     "name": "stdout",
     "output_type": "stream",
     "text": [
      "data/020405.txt\n",
      "data/020405.txt\n"
     ]
    }
   ],
   "source": [
    "# let's look into the magnitude file we want to convert\n",
    "# the glob module looks for files with the given pattern in a given directory,\n",
    "# meaning you can automate this process to look for and use all the \n",
    "# files you want to convert at once. contact me if you have questions\n",
    "# about using glob to automate your conversion workflow.\n",
    "from glob2 import glob\n",
    "\n",
    "filename = glob(\"data/*\")[-1]\n",
    "print(filename)\n",
    "\n",
    "# we can also hardcode the filename... up to you\n",
    "filename = \"data/020405.txt\"\n",
    "print(filename)"
   ]
  },
  {
   "cell_type": "code",
   "execution_count": 6,
   "metadata": {},
   "outputs": [
    {
     "data": {
      "text/html": [
       "<div>\n",
       "<style scoped>\n",
       "    .dataframe tbody tr th:only-of-type {\n",
       "        vertical-align: middle;\n",
       "    }\n",
       "\n",
       "    .dataframe tbody tr th {\n",
       "        vertical-align: top;\n",
       "    }\n",
       "\n",
       "    .dataframe thead th {\n",
       "        text-align: right;\n",
       "    }\n",
       "</style>\n",
       "<table border=\"1\" class=\"dataframe\">\n",
       "  <thead>\n",
       "    <tr style=\"text-align: right;\">\n",
       "      <th></th>\n",
       "      <th>Time</th>\n",
       "      <th>Mag</th>\n",
       "      <th>MagErr</th>\n",
       "      <th>Band</th>\n",
       "      <th>GCN</th>\n",
       "    </tr>\n",
       "  </thead>\n",
       "  <tbody>\n",
       "    <tr>\n",
       "      <th>0</th>\n",
       "      <td>63000</td>\n",
       "      <td>&gt;18.5</td>\n",
       "      <td>?</td>\n",
       "      <td>R</td>\n",
       "      <td>1326</td>\n",
       "    </tr>\n",
       "    <tr>\n",
       "      <th>1</th>\n",
       "      <td>89554</td>\n",
       "      <td>20.2</td>\n",
       "      <td>0.3</td>\n",
       "      <td>V</td>\n",
       "      <td>1328</td>\n",
       "    </tr>\n",
       "    <tr>\n",
       "      <th>2</th>\n",
       "      <td>95974</td>\n",
       "      <td>20.9</td>\n",
       "      <td>0.3</td>\n",
       "      <td>R</td>\n",
       "      <td>1329</td>\n",
       "    </tr>\n",
       "    <tr>\n",
       "      <th>3</th>\n",
       "      <td>102454</td>\n",
       "      <td>21.0</td>\n",
       "      <td>0.3</td>\n",
       "      <td>R</td>\n",
       "      <td>1329</td>\n",
       "    </tr>\n",
       "    <tr>\n",
       "      <th>4</th>\n",
       "      <td>121066</td>\n",
       "      <td>&gt;19.9</td>\n",
       "      <td>?</td>\n",
       "      <td>R</td>\n",
       "      <td>1333</td>\n",
       "    </tr>\n",
       "  </tbody>\n",
       "</table>\n",
       "</div>"
      ],
      "text/plain": [
       "     Time    Mag MagErr Band   GCN\n",
       "0   63000  >18.5      ?    R  1326\n",
       "1   89554   20.2    0.3    V  1328\n",
       "2   95974   20.9    0.3    R  1329\n",
       "3  102454   21.0    0.3    R  1329\n",
       "4  121066  >19.9      ?    R  1333"
      ]
     },
     "execution_count": 6,
     "metadata": {},
     "output_type": "execute_result"
    }
   ],
   "source": [
    "# we'll use pandas to efficiently play around with the data.\n",
    "import pandas as pd\n",
    "\n",
    "df = pd.read_csv(filename,\n",
    "                 sep=\"\\t\", # <-- this tells pandas that each value is separated by a tab\n",
    "                 )\n",
    "df.head() # take a peak at the data"
   ]
  },
  {
   "cell_type": "code",
   "execution_count": 7,
   "metadata": {},
   "outputs": [
    {
     "name": "stdout",
     "output_type": "stream",
     "text": [
      "Time       int64\n",
      "Mag       object\n",
      "MagErr    object\n",
      "Band      object\n",
      "GCN        int64\n",
      "dtype: object\n"
     ]
    }
   ],
   "source": [
    "# looks good, but we should get rid of the limiting magnitudes for conversino\n",
    "df.drop(df.index[df.MagErr==\"?\"], inplace=True)\n",
    "\n",
    "# let's also make sure the data types for each column is correct\n",
    "# (i.e., float for the magnitudes & magnitude errors). if they aren't\n",
    "# correct, the program will try to use them as strings (i.e., \"0.1\" + \"0.2\"\n",
    "# instead of 0.1 + 0.2), which isn't what we want.\n",
    "print(df.dtypes)"
   ]
  },
  {
   "cell_type": "code",
   "execution_count": 8,
   "metadata": {},
   "outputs": [
    {
     "name": "stdout",
     "output_type": "stream",
     "text": [
      "Time        int64\n",
      "Mag       float64\n",
      "MagErr    float64\n",
      "Band       object\n",
      "GCN         int64\n",
      "dtype: object\n"
     ]
    }
   ],
   "source": [
    "# looks like the magnitude and magnitude error columns need to be cast as floats, since\n",
    "# an object is not a number.\n",
    "df.Mag = df.Mag.astype(float)\n",
    "df.MagErr = df.MagErr.astype(float)\n",
    "print(df.dtypes)"
   ]
  },
  {
   "cell_type": "code",
   "execution_count": 9,
   "metadata": {},
   "outputs": [
    {
     "data": {
      "text/html": [
       "<div>\n",
       "<style scoped>\n",
       "    .dataframe tbody tr th:only-of-type {\n",
       "        vertical-align: middle;\n",
       "    }\n",
       "\n",
       "    .dataframe tbody tr th {\n",
       "        vertical-align: top;\n",
       "    }\n",
       "\n",
       "    .dataframe thead th {\n",
       "        text-align: right;\n",
       "    }\n",
       "</style>\n",
       "<table border=\"1\" class=\"dataframe\">\n",
       "  <thead>\n",
       "    <tr style=\"text-align: right;\">\n",
       "      <th></th>\n",
       "      <th>Time</th>\n",
       "      <th>Mag</th>\n",
       "      <th>MagErr</th>\n",
       "      <th>Band</th>\n",
       "      <th>GCN</th>\n",
       "      <th>Flux</th>\n",
       "      <th>Flux_err</th>\n",
       "    </tr>\n",
       "  </thead>\n",
       "  <tbody>\n",
       "    <tr>\n",
       "      <th>1</th>\n",
       "      <td>89554</td>\n",
       "      <td>20.20</td>\n",
       "      <td>0.30</td>\n",
       "      <td>V</td>\n",
       "      <td>1328</td>\n",
       "      <td>1.445652e-13</td>\n",
       "      <td>4.001364e-14</td>\n",
       "    </tr>\n",
       "    <tr>\n",
       "      <th>2</th>\n",
       "      <td>95974</td>\n",
       "      <td>20.90</td>\n",
       "      <td>0.30</td>\n",
       "      <td>R</td>\n",
       "      <td>1329</td>\n",
       "      <td>5.597719e-14</td>\n",
       "      <td>1.546707e-14</td>\n",
       "    </tr>\n",
       "    <tr>\n",
       "      <th>3</th>\n",
       "      <td>102454</td>\n",
       "      <td>21.00</td>\n",
       "      <td>0.30</td>\n",
       "      <td>R</td>\n",
       "      <td>1329</td>\n",
       "      <td>5.105181e-14</td>\n",
       "      <td>1.410614e-14</td>\n",
       "    </tr>\n",
       "    <tr>\n",
       "      <th>5</th>\n",
       "      <td>80944</td>\n",
       "      <td>18.80</td>\n",
       "      <td>0.14</td>\n",
       "      <td>R</td>\n",
       "      <td>1335</td>\n",
       "      <td>3.872676e-13</td>\n",
       "      <td>4.993612e-14</td>\n",
       "    </tr>\n",
       "    <tr>\n",
       "      <th>6</th>\n",
       "      <td>182410</td>\n",
       "      <td>21.45</td>\n",
       "      <td>0.10</td>\n",
       "      <td>V</td>\n",
       "      <td>1337</td>\n",
       "      <td>4.571553e-14</td>\n",
       "      <td>4.275384e-15</td>\n",
       "    </tr>\n",
       "  </tbody>\n",
       "</table>\n",
       "</div>"
      ],
      "text/plain": [
       "     Time    Mag  MagErr Band   GCN          Flux      Flux_err\n",
       "1   89554  20.20    0.30    V  1328  1.445652e-13  4.001364e-14\n",
       "2   95974  20.90    0.30    R  1329  5.597719e-14  1.546707e-14\n",
       "3  102454  21.00    0.30    R  1329  5.105181e-14  1.410614e-14\n",
       "5   80944  18.80    0.14    R  1335  3.872676e-13  4.993612e-14\n",
       "6  182410  21.45    0.10    V  1337  4.571553e-14  4.275384e-15"
      ]
     },
     "execution_count": 9,
     "metadata": {},
     "output_type": "execute_result"
    }
   ],
   "source": [
    "# we're ready to convert! this is the easy part.\n",
    "df['Flux'], df['Flux_err'] = cv.toFlux(\n",
    "    df['Band'],\n",
    "    df['Mag'],\n",
    "    df['MagErr'],\n",
    "    grb=\"020405\", #         <-- this is important for computing the dust extinction to add\n",
    "    photon_index=2.0, #     <-- I made this value up but you should get this from literature or the grb_attrs.txt file\n",
    "    photon_index_err=0.1, # <-- I made this value up but you should get this from literature or the grb_attrs.txt file\n",
    ")\n",
    "\n",
    "df.head()"
   ]
  },
  {
   "cell_type": "code",
   "execution_count": null,
   "metadata": {},
   "outputs": [],
   "source": [
    "# all done! you can either (1) save this dataframe as is to the same file like this:\n",
    "df.to_csv(filename,\n",
    "          sep=\"\\t\",    # <-- this makes it so each column is separated by a tab\n",
    "          index=False) # <-- this makes it so the number index from pandas is not included\n",
    "# NOTE: this will overwrite the file you just loaded"
   ]
  },
  {
   "cell_type": "code",
   "execution_count": 11,
   "metadata": {},
   "outputs": [
    {
     "data": {
      "text/html": [
       "<div>\n",
       "<style scoped>\n",
       "    .dataframe tbody tr th:only-of-type {\n",
       "        vertical-align: middle;\n",
       "    }\n",
       "\n",
       "    .dataframe tbody tr th {\n",
       "        vertical-align: top;\n",
       "    }\n",
       "\n",
       "    .dataframe thead th {\n",
       "        text-align: right;\n",
       "    }\n",
       "</style>\n",
       "<table border=\"1\" class=\"dataframe\">\n",
       "  <thead>\n",
       "    <tr style=\"text-align: right;\">\n",
       "      <th></th>\n",
       "      <th>Time</th>\n",
       "      <th>Flux</th>\n",
       "      <th>Flux_err</th>\n",
       "      <th>Band</th>\n",
       "      <th>GCN</th>\n",
       "    </tr>\n",
       "  </thead>\n",
       "  <tbody>\n",
       "    <tr>\n",
       "      <th>1</th>\n",
       "      <td>89554</td>\n",
       "      <td>1.445652e-13</td>\n",
       "      <td>4.001364e-14</td>\n",
       "      <td>V</td>\n",
       "      <td>1328</td>\n",
       "    </tr>\n",
       "    <tr>\n",
       "      <th>2</th>\n",
       "      <td>95974</td>\n",
       "      <td>5.597719e-14</td>\n",
       "      <td>1.546707e-14</td>\n",
       "      <td>R</td>\n",
       "      <td>1329</td>\n",
       "    </tr>\n",
       "    <tr>\n",
       "      <th>3</th>\n",
       "      <td>102454</td>\n",
       "      <td>5.105181e-14</td>\n",
       "      <td>1.410614e-14</td>\n",
       "      <td>R</td>\n",
       "      <td>1329</td>\n",
       "    </tr>\n",
       "    <tr>\n",
       "      <th>5</th>\n",
       "      <td>80944</td>\n",
       "      <td>3.872676e-13</td>\n",
       "      <td>4.993612e-14</td>\n",
       "      <td>R</td>\n",
       "      <td>1335</td>\n",
       "    </tr>\n",
       "    <tr>\n",
       "      <th>6</th>\n",
       "      <td>182410</td>\n",
       "      <td>4.571553e-14</td>\n",
       "      <td>4.275384e-15</td>\n",
       "      <td>V</td>\n",
       "      <td>1337</td>\n",
       "    </tr>\n",
       "  </tbody>\n",
       "</table>\n",
       "</div>"
      ],
      "text/plain": [
       "     Time          Flux      Flux_err Band   GCN\n",
       "1   89554  1.445652e-13  4.001364e-14    V  1328\n",
       "2   95974  5.597719e-14  1.546707e-14    R  1329\n",
       "3  102454  5.105181e-14  1.410614e-14    R  1329\n",
       "5   80944  3.872676e-13  4.993612e-14    R  1335\n",
       "6  182410  4.571553e-14  4.275384e-15    V  1337"
      ]
     },
     "execution_count": 11,
     "metadata": {},
     "output_type": "execute_result"
    }
   ],
   "source": [
    "# or (2) modify your dataframe and save it to a new file like this:\n",
    "new_filename = filename.replace(\".txt\", \"_converted.txt\")\n",
    "df.drop(columns=[\"Mag\", \"MagErr\"], inplace=True) # get rid of magnitudes\n",
    "df.insert(1, \"Flux\", df.pop(\"Flux\"))             # move the flux columns to in front of time\n",
    "df.insert(2, \"Flux_err\", df.pop(\"Flux_err\"))     # move the flux columns to in front of time\n",
    "df.to_csv(new_filename, sep=\"\\t\", index=False)\n",
    "df.head()"
   ]
  }
 ],
 "metadata": {
  "kernelspec": {
   "display_name": "Python 3.8.13 ('py38')",
   "language": "python",
   "name": "python3"
  },
  "language_info": {
   "codemirror_mode": {
    "name": "ipython",
    "version": 3
   },
   "file_extension": ".py",
   "mimetype": "text/x-python",
   "name": "python",
   "nbconvert_exporter": "python",
   "pygments_lexer": "ipython3",
   "version": "3.8.13"
  },
  "orig_nbformat": 4,
  "vscode": {
   "interpreter": {
    "hash": "990c51dcb290396eee2fdc71fb0cc9f98a1993e5b8407584c1fc83ad3e6a5a3f"
   }
  }
 },
 "nbformat": 4,
 "nbformat_minor": 2
}
