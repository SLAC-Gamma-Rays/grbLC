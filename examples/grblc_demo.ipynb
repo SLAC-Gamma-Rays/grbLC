{
 "cells": [
  {
   "cell_type": "code",
   "execution_count": 6,
   "metadata": {},
   "outputs": [],
   "source": [
    "# imports\n",
    "\n",
    "import sys\n",
    "import os\n",
    "\n",
    "import pandas as pd\n",
    "\n",
    "sys.path.append('D:/grb/grbLC/')\n",
    "import grblc"
   ]
  },
  {
   "cell_type": "code",
   "execution_count": 2,
   "metadata": {},
   "outputs": [
    {
     "name": "stdout",
     "output_type": "stream",
     "text": [
      "Downloading SFD data file to D:\\grb\\grbLC\\grblc\\convert\\extinction_maps\\sfd\\SFD_dust_4096_ngp.fits\n",
      "Checking existing file to see if MD5 sum matches ...\n",
      "File exists. Not overwriting.\n",
      "Downloading SFD data file to D:\\grb\\grbLC\\grblc\\convert\\extinction_maps\\sfd\\SFD_dust_4096_sgp.fits\n",
      "Checking existing file to see if MD5 sum matches ...\n",
      "File exists. Not overwriting.\n"
     ]
    }
   ],
   "source": [
    "# run this the first time you use grblc to download SFD maps\n",
    "\n",
    "import grblc.convert.sfd\n",
    "grblc.convert.sfd.fetch()"
   ]
  },
  {
   "cell_type": "code",
   "execution_count": 15,
   "metadata": {},
   "outputs": [
    {
     "name": "stdout",
     "output_type": "stream",
     "text": [
      "V\n"
     ]
    }
   ],
   "source": [
    "# reading data with grblc\n",
    "import sys\n",
    "sys.path.append('D:/grb/grbLC/')\n",
    "import grblc.evolution.io as io\n",
    "\n",
    "data = io.read_data(path='converted/970228A_magAB_extcorr.txt')\n",
    "freq = data['band'].value_counts()\n",
    "print(freq.index[0])\n",
    "data['occur']=data['band'].map(data['band'].value_counts())"
   ]
  },
  {
   "cell_type": "code",
   "execution_count": 4,
   "metadata": {},
   "outputs": [
    {
     "name": "stderr",
     "output_type": "stream",
     "text": [
      "D:\\grb/grbLC\\grblc\\convert\\convert.py:268: SettingWithCopyWarning: \n",
      "A value is trying to be set on a copy of a slice from a DataFrame.\n",
      "Try using .loc[row_indexer,col_indexer] = value instead\n",
      "\n",
      "See the caveats in the documentation: https://pandas.pydata.org/pandas-docs/stable/user_guide/indexing.html#returning-a-view-versus-a-copy\n",
      "  matched_fil.loc[id, 'match_obs'] = None\n",
      "D:\\grb/grbLC\\grblc\\convert\\convert.py:269: SettingWithCopyWarning: \n",
      "A value is trying to be set on a copy of a slice from a DataFrame.\n",
      "Try using .loc[row_indexer,col_indexer] = value instead\n",
      "\n",
      "See the caveats in the documentation: https://pandas.pydata.org/pandas-docs/stable/user_guide/indexing.html#returning-a-view-versus-a-copy\n",
      "  matched_fil.loc[id, 'match_tel'] = None\n",
      "D:\\grb/grbLC\\grblc\\convert\\convert.py:270: SettingWithCopyWarning: \n",
      "A value is trying to be set on a copy of a slice from a DataFrame.\n",
      "Try using .loc[row_indexer,col_indexer] = value instead\n",
      "\n",
      "See the caveats in the documentation: https://pandas.pydata.org/pandas-docs/stable/user_guide/indexing.html#returning-a-view-versus-a-copy\n",
      "  matched_fil.loc[id, 'match_ins'] = None\n",
      "D:\\grb/grbLC\\grblc\\convert\\convert.py:245: SettingWithCopyWarning: \n",
      "A value is trying to be set on a copy of a slice from a DataFrame.\n",
      "Try using .loc[row_indexer,col_indexer] = value instead\n",
      "\n",
      "See the caveats in the documentation: https://pandas.pydata.org/pandas-docs/stable/user_guide/indexing.html#returning-a-view-versus-a-copy\n",
      "  matched_fil.loc[id, 'match_obs'] = 'found'\n",
      "D:\\grb/grbLC\\grblc\\convert\\convert.py:268: SettingWithCopyWarning: \n",
      "A value is trying to be set on a copy of a slice from a DataFrame.\n",
      "Try using .loc[row_indexer,col_indexer] = value instead\n",
      "\n",
      "See the caveats in the documentation: https://pandas.pydata.org/pandas-docs/stable/user_guide/indexing.html#returning-a-view-versus-a-copy\n",
      "  matched_fil.loc[id, 'match_obs'] = None\n",
      "D:\\grb/grbLC\\grblc\\convert\\convert.py:269: SettingWithCopyWarning: \n",
      "A value is trying to be set on a copy of a slice from a DataFrame.\n",
      "Try using .loc[row_indexer,col_indexer] = value instead\n",
      "\n",
      "See the caveats in the documentation: https://pandas.pydata.org/pandas-docs/stable/user_guide/indexing.html#returning-a-view-versus-a-copy\n",
      "  matched_fil.loc[id, 'match_tel'] = None\n",
      "D:\\grb/grbLC\\grblc\\convert\\convert.py:270: SettingWithCopyWarning: \n",
      "A value is trying to be set on a copy of a slice from a DataFrame.\n",
      "Try using .loc[row_indexer,col_indexer] = value instead\n",
      "\n",
      "See the caveats in the documentation: https://pandas.pydata.org/pandas-docs/stable/user_guide/indexing.html#returning-a-view-versus-a-copy\n",
      "  matched_fil.loc[id, 'match_ins'] = None\n",
      "D:\\grb/grbLC\\grblc\\convert\\convert.py:245: SettingWithCopyWarning: \n",
      "A value is trying to be set on a copy of a slice from a DataFrame.\n",
      "Try using .loc[row_indexer,col_indexer] = value instead\n",
      "\n",
      "See the caveats in the documentation: https://pandas.pydata.org/pandas-docs/stable/user_guide/indexing.html#returning-a-view-versus-a-copy\n",
      "  matched_fil.loc[id, 'match_obs'] = 'found'\n"
     ]
    },
    {
     "data": {
      "text/plain": [
       "(array(19.30626539),\n",
       " array('CTIO.Yale(1m).Finger-Lakes-Instrument.Johnson.I', dtype='<U47'),\n",
       " array('APDS+02', dtype='<U7'))"
      ]
     },
     "execution_count": 4,
     "metadata": {},
     "output_type": "execute_result"
    }
   ],
   "source": [
    "import grblc.convert as convert\n",
    "\n",
    "convert.toAB(\n",
    "    grb = '160410A',\n",
    "    ra = '10h02m43s',\n",
    "    dec = \"+03° 27'\",\n",
    "    band = 'I',\n",
    "    system = 'Vega',\n",
    "    extcorr = 'n',\n",
    "    telescope = 'CTIO/PROMPT-1/ApogeeAltaU47+CTIO/PROMPT-5/ApogeeAltaU47+CTIO/PROMPT-8/ApogeeAltaU47',\n",
    "    mag = 19.34\n",
    ")"
   ]
  },
  {
   "cell_type": "code",
   "execution_count": null,
   "metadata": {},
   "outputs": [],
   "source": [
    "# convert to AB system and correct for extinction\n",
    "\n",
    "import warnings\n",
    "warnings.filterwarnings('ignore')\n",
    "\n",
    "import grblc.convert as cv\n",
    "\n",
    "info = pd.read_csv('data/grblist.csv', sep=',', index_col='grb')\n",
    "\n",
    "index = ['970228A']\n",
    "\n",
    "for grb in index:\n",
    "    cv.correctGRB(grb = grb,\n",
    "                  ra = info.loc[grb, 'ra'],\n",
    "                  dec = info.loc[grb, 'dec'],\n",
    "                  path = filedf.loc[grb,'path'],\n",
    "                  save_in_folder = 'converted/',\n",
    "                  debug= False\n",
    "                  )"
   ]
  },
  {
   "cell_type": "code",
   "execution_count": 1,
   "metadata": {},
   "outputs": [
    {
     "data": {
      "application/vnd.plotly.v1+json": {
       "config": {
        "plotlyServerURL": "https://plot.ly"
       },
       "data": [
        {
         "error_y": {
          "array": [
           0.5,
           0.4
          ]
         },
         "hovertemplate": "color=Rc<br>x=%{x}<br>y=%{y}<extra></extra>",
         "legendgroup": "Rc",
         "marker": {
          "color": "#636efa",
          "symbol": "circle"
         },
         "mode": "markers",
         "name": "Rc",
         "orientation": "v",
         "showlegend": true,
         "type": "scatter",
         "x": [
          0.6787997425906452,
          0.8580571685303213
         ],
         "xaxis": "x",
         "y": [
          19.98303797040084,
          27.17303797040084
         ],
         "yaxis": "y"
        },
        {
         "error_y": {
          "array": [
           0.1,
           0.07,
           0.1,
           0.22,
           0.1,
           0.1,
           0.26,
           0.25,
           0.4,
           0.25
          ]
         },
         "hovertemplate": "color=V<br>x=%{x}<br>y=%{y}<extra></extra>",
         "legendgroup": "V",
         "marker": {
          "color": "#EF553B",
          "symbol": "circle"
         },
         "mode": "markers",
         "name": "V",
         "orientation": "v",
         "showlegend": true,
         "type": "scatter",
         "x": [
          0.6879062338185209,
          0.8027338918997806,
          0.803166719943556,
          0.803166719943556,
          0.813906583487631,
          0.8140742220661101,
          0.8140742220661101,
          0.8579585132114571,
          0.8580571685303213,
          0.8580571685303213
         ],
         "xaxis": "x",
         "y": [
          20.62769037563133,
          25.37769037563133,
          25.42769037563133,
          25.30769037563133,
          25.67769037563133,
          25.72769037563133,
          25.68769037563133,
          27.32769037563133,
          28.12769037563133,
          27.32769037563133
         ],
         "yaxis": "y"
        },
        {
         "error_y": {
          "array": [
           0.1,
           0.1,
           0.11,
           0.15,
           0.1,
           0.4
          ]
         },
         "hovertemplate": "color=Ic<br>x=%{x}<br>y=%{y}<extra></extra>",
         "legendgroup": "Ic",
         "marker": {
          "color": "#00cc96",
          "symbol": "circle"
         },
         "mode": "markers",
         "name": "Ic",
         "orientation": "v",
         "showlegend": true,
         "type": "scatter",
         "x": [
          0.6879062338185209,
          0.8032682548527342,
          0.8032682548527342,
          0.8141349256727862,
          0.8141349256727862,
          0.8580571685303213
         ],
         "xaxis": "x",
         "y": [
          20.2013708118957,
          23.801370811895698,
          23.3613708118957,
          23.7013708118957,
          24.2013708118957,
          26.141370811895698
         ],
         "yaxis": "y"
        },
        {
         "error_y": {
          "array": [
           0.5,
           0.15
          ]
         },
         "hovertemplate": "color=B<br>x=%{x}<br>y=%{y}<extra></extra>",
         "legendgroup": "B",
         "marker": {
          "color": "#ab63fa",
          "symbol": "circle"
         },
         "mode": "markers",
         "name": "B",
         "orientation": "v",
         "showlegend": true,
         "type": "scatter",
         "x": [
          0.7332135943595566,
          0.766383377259105
         ],
         "xaxis": "x",
         "y": [
          21.64110208513081,
          21.131230442458158
         ],
         "yaxis": "y"
        },
        {
         "error_y": {
          "array": [
           0.07,
           0.1
          ]
         },
         "hovertemplate": "color=I<br>x=%{x}<br>y=%{y}<extra></extra>",
         "legendgroup": "I",
         "marker": {
          "color": "#FFA15A",
          "symbol": "circle"
         },
         "mode": "markers",
         "name": "I",
         "orientation": "v",
         "showlegend": true,
         "type": "scatter",
         "x": [
          0.8027338918997806,
          0.813906583487631
         ],
         "xaxis": "x",
         "y": [
          23.752301944088902,
          24.302301944088903
         ],
         "yaxis": "y"
        },
        {
         "error_y": {
          "array": [
           0.3,
           0.25
          ]
         },
         "hovertemplate": "color=F606W<br>x=%{x}<br>y=%{y}<extra></extra>",
         "legendgroup": "F606W",
         "marker": {
          "color": "#19d3f3",
          "symbol": "circle"
         },
         "mode": "markers",
         "name": "F606W",
         "orientation": "v",
         "showlegend": true,
         "type": "scatter",
         "x": [
          0.8028754197116531,
          0.8580564237779346
         ],
         "xaxis": "x",
         "y": [
          25.099651561133324,
          27.404098960823717
         ],
         "yaxis": "y"
        },
        {
         "error_y": {
          "array": [
           0.3
          ]
         },
         "hovertemplate": "color=F814W<br>x=%{x}<br>y=%{y}<extra></extra>",
         "legendgroup": "F814W",
         "marker": {
          "color": "#FF6692",
          "symbol": "circle"
         },
         "mode": "markers",
         "name": "F814W",
         "orientation": "v",
         "showlegend": true,
         "type": "scatter",
         "x": [
          0.8028754197116531
         ],
         "xaxis": "x",
         "y": [
          23.83649575992772
         ],
         "yaxis": "y"
        },
        {
         "error_y": {
          "array": [
           0.2
          ]
         },
         "hovertemplate": "color=J<br>x=%{x}<br>y=%{y}<extra></extra>",
         "legendgroup": "J",
         "marker": {
          "color": "#B6E880",
          "symbol": "circle"
         },
         "mode": "markers",
         "name": "J",
         "orientation": "v",
         "showlegend": true,
         "type": "scatter",
         "x": [
          0.8077115197380104
         ],
         "xaxis": "x",
         "y": [
          23.3310748030352
         ],
         "yaxis": "y"
        },
        {
         "error_y": {
          "array": [
           0.3
          ]
         },
         "hovertemplate": "color=R<br>x=%{x}<br>y=%{y}<extra></extra>",
         "legendgroup": "R",
         "marker": {
          "color": "#FF97FF",
          "symbol": "circle"
         },
         "mode": "markers",
         "name": "R",
         "orientation": "v",
         "showlegend": true,
         "type": "scatter",
         "x": [
          0.8129378670912327
         ],
         "xaxis": "x",
         "y": [
          24.36982270646784
         ],
         "yaxis": "y"
        },
        {
         "error_y": {
          "array": [
           0.2
          ]
         },
         "hovertemplate": "color=K<br>x=%{x}<br>y=%{y}<extra></extra>",
         "legendgroup": "K",
         "marker": {
          "color": "#FECB52",
          "symbol": "circle"
         },
         "mode": "markers",
         "name": "K",
         "orientation": "v",
         "showlegend": true,
         "type": "scatter",
         "x": [
          0.8140008929756838
         ],
         "xaxis": "x",
         "y": [
          21.928105253792733
         ],
         "yaxis": "y"
        }
       ],
       "layout": {
        "font": {
         "color": "black",
         "family": "arial",
         "size": 18
        },
        "height": 540,
        "legend": {
         "title": {
          "text": "color"
         },
         "tracegroupgap": 0
        },
        "margin": {
         "b": 40,
         "l": 40,
         "r": 40,
         "t": 50
        },
        "plot_bgcolor": "white",
        "template": {
         "data": {
          "bar": [
           {
            "error_x": {
             "color": "#2a3f5f"
            },
            "error_y": {
             "color": "#2a3f5f"
            },
            "marker": {
             "line": {
              "color": "#E5ECF6",
              "width": 0.5
             },
             "pattern": {
              "fillmode": "overlay",
              "size": 10,
              "solidity": 0.2
             }
            },
            "type": "bar"
           }
          ],
          "barpolar": [
           {
            "marker": {
             "line": {
              "color": "#E5ECF6",
              "width": 0.5
             },
             "pattern": {
              "fillmode": "overlay",
              "size": 10,
              "solidity": 0.2
             }
            },
            "type": "barpolar"
           }
          ],
          "carpet": [
           {
            "aaxis": {
             "endlinecolor": "#2a3f5f",
             "gridcolor": "white",
             "linecolor": "white",
             "minorgridcolor": "white",
             "startlinecolor": "#2a3f5f"
            },
            "baxis": {
             "endlinecolor": "#2a3f5f",
             "gridcolor": "white",
             "linecolor": "white",
             "minorgridcolor": "white",
             "startlinecolor": "#2a3f5f"
            },
            "type": "carpet"
           }
          ],
          "choropleth": [
           {
            "colorbar": {
             "outlinewidth": 0,
             "ticks": ""
            },
            "type": "choropleth"
           }
          ],
          "contour": [
           {
            "colorbar": {
             "outlinewidth": 0,
             "ticks": ""
            },
            "colorscale": [
             [
              0,
              "#0d0887"
             ],
             [
              0.1111111111111111,
              "#46039f"
             ],
             [
              0.2222222222222222,
              "#7201a8"
             ],
             [
              0.3333333333333333,
              "#9c179e"
             ],
             [
              0.4444444444444444,
              "#bd3786"
             ],
             [
              0.5555555555555556,
              "#d8576b"
             ],
             [
              0.6666666666666666,
              "#ed7953"
             ],
             [
              0.7777777777777778,
              "#fb9f3a"
             ],
             [
              0.8888888888888888,
              "#fdca26"
             ],
             [
              1,
              "#f0f921"
             ]
            ],
            "type": "contour"
           }
          ],
          "contourcarpet": [
           {
            "colorbar": {
             "outlinewidth": 0,
             "ticks": ""
            },
            "type": "contourcarpet"
           }
          ],
          "heatmap": [
           {
            "colorbar": {
             "outlinewidth": 0,
             "ticks": ""
            },
            "colorscale": [
             [
              0,
              "#0d0887"
             ],
             [
              0.1111111111111111,
              "#46039f"
             ],
             [
              0.2222222222222222,
              "#7201a8"
             ],
             [
              0.3333333333333333,
              "#9c179e"
             ],
             [
              0.4444444444444444,
              "#bd3786"
             ],
             [
              0.5555555555555556,
              "#d8576b"
             ],
             [
              0.6666666666666666,
              "#ed7953"
             ],
             [
              0.7777777777777778,
              "#fb9f3a"
             ],
             [
              0.8888888888888888,
              "#fdca26"
             ],
             [
              1,
              "#f0f921"
             ]
            ],
            "type": "heatmap"
           }
          ],
          "heatmapgl": [
           {
            "colorbar": {
             "outlinewidth": 0,
             "ticks": ""
            },
            "colorscale": [
             [
              0,
              "#0d0887"
             ],
             [
              0.1111111111111111,
              "#46039f"
             ],
             [
              0.2222222222222222,
              "#7201a8"
             ],
             [
              0.3333333333333333,
              "#9c179e"
             ],
             [
              0.4444444444444444,
              "#bd3786"
             ],
             [
              0.5555555555555556,
              "#d8576b"
             ],
             [
              0.6666666666666666,
              "#ed7953"
             ],
             [
              0.7777777777777778,
              "#fb9f3a"
             ],
             [
              0.8888888888888888,
              "#fdca26"
             ],
             [
              1,
              "#f0f921"
             ]
            ],
            "type": "heatmapgl"
           }
          ],
          "histogram": [
           {
            "marker": {
             "pattern": {
              "fillmode": "overlay",
              "size": 10,
              "solidity": 0.2
             }
            },
            "type": "histogram"
           }
          ],
          "histogram2d": [
           {
            "colorbar": {
             "outlinewidth": 0,
             "ticks": ""
            },
            "colorscale": [
             [
              0,
              "#0d0887"
             ],
             [
              0.1111111111111111,
              "#46039f"
             ],
             [
              0.2222222222222222,
              "#7201a8"
             ],
             [
              0.3333333333333333,
              "#9c179e"
             ],
             [
              0.4444444444444444,
              "#bd3786"
             ],
             [
              0.5555555555555556,
              "#d8576b"
             ],
             [
              0.6666666666666666,
              "#ed7953"
             ],
             [
              0.7777777777777778,
              "#fb9f3a"
             ],
             [
              0.8888888888888888,
              "#fdca26"
             ],
             [
              1,
              "#f0f921"
             ]
            ],
            "type": "histogram2d"
           }
          ],
          "histogram2dcontour": [
           {
            "colorbar": {
             "outlinewidth": 0,
             "ticks": ""
            },
            "colorscale": [
             [
              0,
              "#0d0887"
             ],
             [
              0.1111111111111111,
              "#46039f"
             ],
             [
              0.2222222222222222,
              "#7201a8"
             ],
             [
              0.3333333333333333,
              "#9c179e"
             ],
             [
              0.4444444444444444,
              "#bd3786"
             ],
             [
              0.5555555555555556,
              "#d8576b"
             ],
             [
              0.6666666666666666,
              "#ed7953"
             ],
             [
              0.7777777777777778,
              "#fb9f3a"
             ],
             [
              0.8888888888888888,
              "#fdca26"
             ],
             [
              1,
              "#f0f921"
             ]
            ],
            "type": "histogram2dcontour"
           }
          ],
          "mesh3d": [
           {
            "colorbar": {
             "outlinewidth": 0,
             "ticks": ""
            },
            "type": "mesh3d"
           }
          ],
          "parcoords": [
           {
            "line": {
             "colorbar": {
              "outlinewidth": 0,
              "ticks": ""
             }
            },
            "type": "parcoords"
           }
          ],
          "pie": [
           {
            "automargin": true,
            "type": "pie"
           }
          ],
          "scatter": [
           {
            "fillpattern": {
             "fillmode": "overlay",
             "size": 10,
             "solidity": 0.2
            },
            "type": "scatter"
           }
          ],
          "scatter3d": [
           {
            "line": {
             "colorbar": {
              "outlinewidth": 0,
              "ticks": ""
             }
            },
            "marker": {
             "colorbar": {
              "outlinewidth": 0,
              "ticks": ""
             }
            },
            "type": "scatter3d"
           }
          ],
          "scattercarpet": [
           {
            "marker": {
             "colorbar": {
              "outlinewidth": 0,
              "ticks": ""
             }
            },
            "type": "scattercarpet"
           }
          ],
          "scattergeo": [
           {
            "marker": {
             "colorbar": {
              "outlinewidth": 0,
              "ticks": ""
             }
            },
            "type": "scattergeo"
           }
          ],
          "scattergl": [
           {
            "marker": {
             "colorbar": {
              "outlinewidth": 0,
              "ticks": ""
             }
            },
            "type": "scattergl"
           }
          ],
          "scattermapbox": [
           {
            "marker": {
             "colorbar": {
              "outlinewidth": 0,
              "ticks": ""
             }
            },
            "type": "scattermapbox"
           }
          ],
          "scatterpolar": [
           {
            "marker": {
             "colorbar": {
              "outlinewidth": 0,
              "ticks": ""
             }
            },
            "type": "scatterpolar"
           }
          ],
          "scatterpolargl": [
           {
            "marker": {
             "colorbar": {
              "outlinewidth": 0,
              "ticks": ""
             }
            },
            "type": "scatterpolargl"
           }
          ],
          "scatterternary": [
           {
            "marker": {
             "colorbar": {
              "outlinewidth": 0,
              "ticks": ""
             }
            },
            "type": "scatterternary"
           }
          ],
          "surface": [
           {
            "colorbar": {
             "outlinewidth": 0,
             "ticks": ""
            },
            "colorscale": [
             [
              0,
              "#0d0887"
             ],
             [
              0.1111111111111111,
              "#46039f"
             ],
             [
              0.2222222222222222,
              "#7201a8"
             ],
             [
              0.3333333333333333,
              "#9c179e"
             ],
             [
              0.4444444444444444,
              "#bd3786"
             ],
             [
              0.5555555555555556,
              "#d8576b"
             ],
             [
              0.6666666666666666,
              "#ed7953"
             ],
             [
              0.7777777777777778,
              "#fb9f3a"
             ],
             [
              0.8888888888888888,
              "#fdca26"
             ],
             [
              1,
              "#f0f921"
             ]
            ],
            "type": "surface"
           }
          ],
          "table": [
           {
            "cells": {
             "fill": {
              "color": "#EBF0F8"
             },
             "line": {
              "color": "white"
             }
            },
            "header": {
             "fill": {
              "color": "#C8D4E3"
             },
             "line": {
              "color": "white"
             }
            },
            "type": "table"
           }
          ]
         },
         "layout": {
          "annotationdefaults": {
           "arrowcolor": "#2a3f5f",
           "arrowhead": 0,
           "arrowwidth": 1
          },
          "autotypenumbers": "strict",
          "coloraxis": {
           "colorbar": {
            "outlinewidth": 0,
            "ticks": ""
           }
          },
          "colorscale": {
           "diverging": [
            [
             0,
             "#8e0152"
            ],
            [
             0.1,
             "#c51b7d"
            ],
            [
             0.2,
             "#de77ae"
            ],
            [
             0.3,
             "#f1b6da"
            ],
            [
             0.4,
             "#fde0ef"
            ],
            [
             0.5,
             "#f7f7f7"
            ],
            [
             0.6,
             "#e6f5d0"
            ],
            [
             0.7,
             "#b8e186"
            ],
            [
             0.8,
             "#7fbc41"
            ],
            [
             0.9,
             "#4d9221"
            ],
            [
             1,
             "#276419"
            ]
           ],
           "sequential": [
            [
             0,
             "#0d0887"
            ],
            [
             0.1111111111111111,
             "#46039f"
            ],
            [
             0.2222222222222222,
             "#7201a8"
            ],
            [
             0.3333333333333333,
             "#9c179e"
            ],
            [
             0.4444444444444444,
             "#bd3786"
            ],
            [
             0.5555555555555556,
             "#d8576b"
            ],
            [
             0.6666666666666666,
             "#ed7953"
            ],
            [
             0.7777777777777778,
             "#fb9f3a"
            ],
            [
             0.8888888888888888,
             "#fdca26"
            ],
            [
             1,
             "#f0f921"
            ]
           ],
           "sequentialminus": [
            [
             0,
             "#0d0887"
            ],
            [
             0.1111111111111111,
             "#46039f"
            ],
            [
             0.2222222222222222,
             "#7201a8"
            ],
            [
             0.3333333333333333,
             "#9c179e"
            ],
            [
             0.4444444444444444,
             "#bd3786"
            ],
            [
             0.5555555555555556,
             "#d8576b"
            ],
            [
             0.6666666666666666,
             "#ed7953"
            ],
            [
             0.7777777777777778,
             "#fb9f3a"
            ],
            [
             0.8888888888888888,
             "#fdca26"
            ],
            [
             1,
             "#f0f921"
            ]
           ]
          },
          "colorway": [
           "#636efa",
           "#EF553B",
           "#00cc96",
           "#ab63fa",
           "#FFA15A",
           "#19d3f3",
           "#FF6692",
           "#B6E880",
           "#FF97FF",
           "#FECB52"
          ],
          "font": {
           "color": "#2a3f5f"
          },
          "geo": {
           "bgcolor": "white",
           "lakecolor": "white",
           "landcolor": "#E5ECF6",
           "showlakes": true,
           "showland": true,
           "subunitcolor": "white"
          },
          "hoverlabel": {
           "align": "left"
          },
          "hovermode": "closest",
          "mapbox": {
           "style": "light"
          },
          "paper_bgcolor": "white",
          "plot_bgcolor": "#E5ECF6",
          "polar": {
           "angularaxis": {
            "gridcolor": "white",
            "linecolor": "white",
            "ticks": ""
           },
           "bgcolor": "#E5ECF6",
           "radialaxis": {
            "gridcolor": "white",
            "linecolor": "white",
            "ticks": ""
           }
          },
          "scene": {
           "xaxis": {
            "backgroundcolor": "#E5ECF6",
            "gridcolor": "white",
            "gridwidth": 2,
            "linecolor": "white",
            "showbackground": true,
            "ticks": "",
            "zerolinecolor": "white"
           },
           "yaxis": {
            "backgroundcolor": "#E5ECF6",
            "gridcolor": "white",
            "gridwidth": 2,
            "linecolor": "white",
            "showbackground": true,
            "ticks": "",
            "zerolinecolor": "white"
           },
           "zaxis": {
            "backgroundcolor": "#E5ECF6",
            "gridcolor": "white",
            "gridwidth": 2,
            "linecolor": "white",
            "showbackground": true,
            "ticks": "",
            "zerolinecolor": "white"
           }
          },
          "shapedefaults": {
           "line": {
            "color": "#2a3f5f"
           }
          },
          "ternary": {
           "aaxis": {
            "gridcolor": "white",
            "linecolor": "white",
            "ticks": ""
           },
           "baxis": {
            "gridcolor": "white",
            "linecolor": "white",
            "ticks": ""
           },
           "bgcolor": "#E5ECF6",
           "caxis": {
            "gridcolor": "white",
            "linecolor": "white",
            "ticks": ""
           }
          },
          "title": {
           "x": 0.05
          },
          "xaxis": {
           "automargin": true,
           "gridcolor": "white",
           "linecolor": "white",
           "ticks": "",
           "title": {
            "standoff": 15
           },
           "zerolinecolor": "white",
           "zerolinewidth": 2
          },
          "yaxis": {
           "automargin": true,
           "gridcolor": "white",
           "linecolor": "white",
           "ticks": "",
           "title": {
            "standoff": 15
           },
           "zerolinecolor": "white",
           "zerolinewidth": 2
          }
         }
        },
        "title": {
         "font": {
          "size": 25
         },
         "text": "GRB 970228A"
        },
        "width": 960,
        "xaxis": {
         "anchor": "y",
         "domain": [
          0,
          1
         ],
         "linecolor": "black",
         "linewidth": 2.4,
         "mirror": "allticks",
         "showgrid": false,
         "showline": true,
         "showticklabels": true,
         "tickcolor": "black",
         "tickfont": {
          "color": "black",
          "family": "arial",
          "size": 18
         },
         "ticks": "outside",
         "tickwidth": 2.4,
         "title": {
          "font": {
           "color": "black",
           "size": 18
          },
          "text": "<b>log10 Time (s)<b>"
         }
        },
        "yaxis": {
         "anchor": "x",
         "autorange": "reversed",
         "domain": [
          0,
          1
         ],
         "linecolor": "black",
         "linewidth": 2.4,
         "mirror": "allticks",
         "showgrid": false,
         "showline": true,
         "showticklabels": true,
         "tickcolor": "black",
         "tickfont": {
          "color": "black",
          "family": "arial",
          "size": 18
         },
         "ticks": "outside",
         "tickwidth": 2.4,
         "title": {
          "font": {
           "color": "black",
           "size": 18
          },
          "text": "<b>Magnitude<b>"
         }
        }
       }
      }
     },
     "metadata": {},
     "output_type": "display_data"
    }
   ],
   "source": [
    "import sys\n",
    "sys.path.append('D:/grb/grbLC/')\n",
    "from grblc.evolution.lightcurve import Lightcurve\n",
    "\n",
    "\n",
    "\n",
    "lc = Lightcurve(path='converted/970228A_magAB_extcorr.txt',\n",
    "                              data_space = \"log\",\n",
    "                              name = '970228A')\n",
    "\n",
    "lc.displayGRB()"
   ]
  },
  {
   "cell_type": "code",
   "execution_count": 2,
   "metadata": {},
   "outputs": [
    {
     "name": "stdout",
     "output_type": "stream",
     "text": [
      "971214A\n",
      "R    10\n",
      "I     5\n",
      "J     4\n",
      "V     1\n",
      "Name: band, dtype: int64\n",
      "The most numerous filter of this GRB:  R , with 10 occurrences.\n",
      "The most numerous will be considered for rescaling\n",
      "[4.658545584279078, 0.3662405312146504, 2.744840396785377, 0.1077032961426901]\n",
      "[4.606080264581204, 1.7657831604175982, 0.43136376416788186, 0.25495097567963926]\n",
      "Individual point rescaling:\n",
      "  band  Occur_band  Log10(t)  Resc_fact  Resc_fact_err  Resc_fact_weights\n",
      "0    J           4  4.606080   1.765783       0.254951           3.922323\n",
      "1    I           5  4.658546   0.366241       0.107703           9.284767\n",
      "Rescale factors slope:\n",
      "  slope slope_err intercept inter_err acceptance           red_chi2  \\\n",
      "J     0         0         0         0          0  insufficient data   \n",
      "I     0         0         0         0          0  insufficient data   \n",
      "\n",
      "             comment  \n",
      "J  insufficient data  \n",
      "I  insufficient data  \n",
      "No filters compatible with zero in 3sigma or with |slope|<0.1\n",
      "No filters with |slope|>0.1 or compatible with zero only in >3sigma\n",
      "\n",
      "\n",
      "No color evolution:   ; Color evolution: \n",
      "J:0+/-0; I:0+/-0; \n"
     ]
    },
    {
     "data": {
      "image/png": "[encoded data removed]",
      "text/plain": [
       "<Figure size 432x288 with 1 Axes>"
      ]
     },
     "metadata": {
      "needs_background": "light"
     },
     "output_type": "display_data"
    },
    {
     "name": "stdout",
     "output_type": "stream",
     "text": [
      "011121A\n",
      "K         40\n",
      "J         19\n",
      "R         18\n",
      "V         12\n",
      "Rc        10\n",
      "I          7\n",
      "Js         7\n",
      "B          6\n",
      "H          4\n",
      "U          3\n",
      "F555W      3\n",
      "F702W      3\n",
      "F814W      3\n",
      "F850LP     3\n",
      "F450W      1\n",
      "Ic         1\n",
      "Name: band, dtype: int64\n",
      "The most numerous filter of this GRB:  K , with 40 occurrences.\n",
      "The most numerous will be considered for rescaling\n",
      "[4.672032801294065, -3.6665800028419486, 1.9857317651488302, 0.05080354318352215]\n",
      "[4.660379706922397, -4.31458000284195, 2.8770302274114834, 0.06220128616033595]\n",
      "[4.679317400948059, -4.3385800028419474, 3.0597118175109057, 0.0565685424949238]\n",
      "[4.669214572171697, -2.53212732868767, 2.673861020927438, 0.046097722286464436]\n",
      "[4.665435388851753, -3.074580002841948, 2.3379142832603996, 0.04763402145525821]\n",
      "Individual point rescaling:\n",
      "  band  Occur_band  Log10(t)  Resc_fact  Resc_fact_err  Resc_fact_weights\n",
      "0    V          12  4.660380  -4.314580       0.062201          16.076838\n",
      "1    I           7  4.665435  -3.074580       0.047634          20.993399\n",
      "2   Rc          10  4.669215  -2.532127       0.046098          21.693046\n",
      "3    R          18  4.672033  -3.666580       0.050804          19.683666\n",
      "4    V          12  4.679317  -4.338580       0.056569          17.677670\n",
      "Rescale factors slope:\n",
      "   slope slope_err intercept inter_err acceptance           red_chi2  \\\n",
      "R      0         0         0         0          0  insufficient data   \n",
      "V      0         0         0         0          0  insufficient data   \n",
      "I      0         0         0         0          0  insufficient data   \n",
      "Rc     0         0         0         0          0  insufficient data   \n",
      "\n",
      "              comment  \n",
      "R   insufficient data  \n",
      "V   insufficient data  \n",
      "I   insufficient data  \n",
      "Rc  insufficient data  \n",
      "No filters compatible with zero in 3sigma or with |slope|<0.1\n",
      "No filters with |slope|>0.1 or compatible with zero only in >3sigma\n",
      "\n",
      "\n",
      "No color evolution:   ; Color evolution: \n",
      "R:0+/-0; V:0+/-0; I:0+/-0; Rc:0+/-0; \n"
     ]
    },
    {
     "data": {
      "image/png": "[encoded data removed]",
      "text/plain": [
       "<Figure size 432x288 with 1 Axes>"
      ]
     },
     "metadata": {
      "needs_background": "light"
     },
     "output_type": "display_data"
    },
    {
     "name": "stdout",
     "output_type": "stream",
     "text": [
      "020405A\n",
      "Rc        14\n",
      "V         14\n",
      "Ic         5\n",
      "F702W      4\n",
      "B          3\n",
      "F555W      3\n",
      "F814W      3\n",
      "H          2\n",
      "J          2\n",
      "K          2\n",
      "R          1\n",
      "U          1\n",
      "i_Gunn     1\n",
      "Js         1\n",
      "Name: band, dtype: int64\n",
      "The most numerous filter of this GRB:  Rc , with 14 occurrences.\n",
      "The most numerous will be considered for rescaling\n",
      "[4.97601874330399, -0.3093320037681977, 3.0156949885265134, 0.03605551275463989]\n",
      "[5.45082624392842, -0.3261400379312498, 2.413634997199453, 0.05830951894845301]\n",
      "[5.556152643319134, -0.4893320037681974, 2.9779064276373686, 0.07211102550927978]\n",
      "[5.785824364270798, -0.4661400379312468, 2.936513742478952, 0.0565685424949238]\n",
      "[5.945506695016251, -0.5961400379312494, 2.714664992863239, 0.0806225774829855]\n",
      "[4.979966079775891, 0.6390219886625701, 2.6354837468149412, 0.08944271909999159]\n",
      "Individual point rescaling:\n",
      "  band  Occur_band  Log10(t)  Resc_fact  Resc_fact_err  Resc_fact_weights\n",
      "0    V          14  4.976019  -0.309332       0.036056          27.735010\n",
      "1   Ic           5  4.979966   0.639022       0.089443          11.180340\n",
      "2    V          14  5.450826  -0.326140       0.058310          17.149859\n",
      "3    V          14  5.556153  -0.489332       0.072111          13.867505\n",
      "4    V          14  5.785824  -0.466140       0.056569          17.677670\n",
      "5    V          14  5.945507  -0.596140       0.080623          12.403473\n",
      "Rescale factors slope:\n",
      "     slope slope_err intercept inter_err acceptance           red_chi2  \\\n",
      "V  -0.2345    0.0722    0.8693    0.3878     0.3079             1.2137   \n",
      "Ic       0         0         0         0          0  insufficient data   \n",
      "\n",
      "              comment  \n",
      "V        slope >= 0.1  \n",
      "Ic  insufficient data  \n",
      "No filters compatible with zero in 3sigma or with |slope|<0.1\n",
      "Filters not compatible with zero in 3sigma or with |slope|>0.1:  V\n",
      "\n",
      "\n",
      "No color evolution:   ; Color evolution:  V\n",
      "V:-0.234+/-0.072; Ic:0+/-0; \n"
     ]
    },
    {
     "data": {
      "image/png": "[encoded data removed]",
      "text/plain": [
       "<Figure size 432x288 with 1 Axes>"
      ]
     },
     "metadata": {
      "needs_background": "light"
     },
     "output_type": "display_data"
    },
    {
     "name": "stderr",
     "output_type": "stream",
     "text": [
      "No artists with labels found to put in legend.  Note that artists whose label start with an underscore are ignored when legend() is called with no argument.\n"
     ]
    },
    {
     "name": "stdout",
     "output_type": "stream",
     "text": [
      "021004A\n",
      "R        158\n",
      "Rc        79\n",
      "V         73\n",
      "B         46\n",
      "I         38\n",
      "Ic        28\n",
      "U         15\n",
      "N          5\n",
      "K          4\n",
      "J          4\n",
      "F160W      4\n",
      "F606W      4\n",
      "F110W      2\n",
      "F814W      2\n",
      "F435W      2\n",
      "F250W      1\n",
      "Name: band, dtype: int64\n",
      "The most numerous filter of this GRB:  R , with 158 occurrences.\n",
      "The most numerous will be considered for rescaling\n",
      "Individual point rescaling:\n",
      "Empty DataFrame\n",
      "Columns: [band, Occur_band, Log10(t), Resc_fact, Resc_fact_err, Resc_fact_weights]\n",
      "Index: []\n",
      "Rescale factors slope:\n",
      "Empty DataFrame\n",
      "Columns: [slope, slope_err, intercept, inter_err, acceptance, red_chi2, comment]\n",
      "Index: []\n",
      "No filters compatible with zero in 3sigma or with |slope|<0.1\n",
      "No filters with |slope|>0.1 or compatible with zero only in >3sigma\n",
      "\n",
      "\n",
      "No color evolution:   ; Color evolution: \n",
      "\n"
     ]
    },
    {
     "data": {
      "image/png": "[encoded data removed]",
      "text/plain": [
       "<Figure size 432x288 with 1 Axes>"
      ]
     },
     "metadata": {
      "needs_background": "light"
     },
     "output_type": "display_data"
    },
    {
     "name": "stdout",
     "output_type": "stream",
     "text": [
      "030115A\n",
      "K    7\n",
      "H    6\n",
      "J    5\n",
      "R    3\n",
      "I    2\n",
      "V    1\n",
      "Name: band, dtype: int64\n",
      "The most numerous filter of this GRB:  K , with 7 occurrences.\n",
      "The most numerous will be considered for rescaling\n",
      "[4.258733037212813, -0.9800000000000004, -inf, 0.10295630140987]\n",
      "[4.516297339095703, -1.1099999999999994, -inf, 0.17888543819998318]\n",
      "[4.871012193722461, -1.3999999999999986, -inf, 0.36055512754639896]\n",
      "[4.258733037212813, -2.3500000000000014, -inf, 0.12083045973594572]\n",
      "[4.516297339095703, -3.2099999999999973, -inf, 0.2816025568065745]\n",
      "[4.871012193722461, -1.8999999999999986, -inf, 0.28284271247461906]\n",
      "[5.022873573153642, -1.6099999999999994, 3.413634997198541, 0.2420743687382041]\n",
      "[5.2287698138353695, -2.3999999999999986, -inf, 0.5099019513592785]\n",
      "Individual point rescaling:\n",
      "  band  Occur_band  Log10(t)  Resc_fact  Resc_fact_err  Resc_fact_weights\n",
      "0    H           6  4.258733      -0.98       0.102956           9.712859\n",
      "1    J           5  4.258733      -2.35       0.120830           8.276059\n",
      "2    H           6  4.516297      -1.11       0.178885           5.590170\n",
      "3    J           5  4.516297      -3.21       0.281603           3.551104\n",
      "4    H           6  4.871012      -1.40       0.360555           2.773501\n",
      "5    J           5  4.871012      -1.90       0.282843           3.535534\n",
      "6    J           5  5.022874      -1.61       0.242074           4.130962\n",
      "7    J           5  5.228770      -2.40       0.509902           1.961161\n",
      "Rescale factors slope:\n",
      "    slope slope_err intercept inter_err acceptance red_chi2  \\\n",
      "J   0.674     0.637   -5.3201    2.8743     0.9451   5.0388   \n",
      "H -0.6228    0.0998    1.6771    0.4349     0.1602   0.0372   \n",
      "\n",
      "              comment  \n",
      "J  no color evolution  \n",
      "H        slope >= 0.1  \n",
      "Filters compatible with zero in 3sigma:  J\n",
      "Filters not compatible with zero in 3sigma or with |slope|>0.1:  H\n",
      "\n",
      "\n",
      "No color evolution:  J  ; Color evolution:  H\n",
      "J:0.674+/-0.637; H:-0.623+/-0.1; \n"
     ]
    },
    {
     "name": "stderr",
     "output_type": "stream",
     "text": [
      "D:\\grb/grbLC\\grblc\\evolution\\lightcurve.py:427: RuntimeWarning: divide by zero encountered in log10\n",
      "  np.log10(np.abs(10**mostcommonx[ll[0]]-10**subx[ll[1]])),\n"
     ]
    },
    {
     "data": {
      "image/png": "[encoded data removed]",
      "text/plain": [
       "<Figure size 432x288 with 1 Axes>"
      ]
     },
     "metadata": {
      "needs_background": "light"
     },
     "output_type": "display_data"
    },
    {
     "name": "stdout",
     "output_type": "stream",
     "text": [
      "031203A\n",
      "I    11\n",
      "R    10\n",
      "K     9\n",
      "H     5\n",
      "J     5\n",
      "V     4\n",
      "Name: band, dtype: int64\n",
      "The most numerous filter of this GRB:  I , with 11 occurrences.\n",
      "The most numerous will be considered for rescaling\n",
      "[5.993277995028834, -0.1715123763141655, 2.7816117824927655, 0.042426406871192854]\n",
      "[6.062525270314181, -0.1765123763141645, 2.7816117824931834, 0.021931712199461308]\n",
      "[6.223807228643009, -0.16351237631416282, 2.635483746811869, 0.0206155281280883]\n",
      "[6.243438402729627, 0.17412896421241797, 4.436194780461991, 0.07523961722390672]\n",
      "Individual point rescaling:\n",
      "  band  Occur_band  Log10(t)  Resc_fact  Resc_fact_err  Resc_fact_weights\n",
      "0    R          10  5.993278  -0.171512       0.042426          23.570226\n",
      "1    R          10  6.062525  -0.176512       0.021932          45.596075\n",
      "2    R          10  6.223807  -0.163512       0.020616          48.507125\n",
      "3    J           5  6.243438   0.174129       0.075240          13.290870\n",
      "Rescale factors slope:\n",
      "    slope slope_err intercept inter_err acceptance           red_chi2  \\\n",
      "J       0         0         0         0          0  insufficient data   \n",
      "R  0.0607    0.0311   -0.5417    0.1905     0.5124             0.0391   \n",
      "\n",
      "              comment  \n",
      "J   insufficient data  \n",
      "R  no color evolution  \n",
      "Filters compatible with zero in 3sigma:  R\n",
      "No filters with |slope|>0.1 or compatible with zero only in >3sigma\n",
      "\n",
      "\n",
      "No color evolution:  R  ; Color evolution: \n",
      "J:0+/-0; R:0.061+/-0.031; \n"
     ]
    },
    {
     "data": {
      "image/png": "[encoded data removed]",
      "text/plain": [
       "<Figure size 432x288 with 1 Axes>"
      ]
     },
     "metadata": {
      "needs_background": "light"
     },
     "output_type": "display_data"
    },
    {
     "name": "stderr",
     "output_type": "stream",
     "text": [
      "No artists with labels found to put in legend.  Note that artists whose label start with an underscore are ignored when legend() is called with no argument.\n"
     ]
    },
    {
     "name": "stdout",
     "output_type": "stream",
     "text": [
      "041006A\n",
      "Rc    73\n",
      "R     33\n",
      "V     16\n",
      "B     12\n",
      "H      5\n",
      "Ic     3\n",
      "g      1\n",
      "Name: band, dtype: int64\n",
      "The most numerous filter of this GRB:  Rc , with 73 occurrences.\n",
      "The most numerous will be considered for rescaling\n",
      "Individual point rescaling:\n",
      "Empty DataFrame\n",
      "Columns: [band, Occur_band, Log10(t), Resc_fact, Resc_fact_err, Resc_fact_weights]\n",
      "Index: []\n",
      "Rescale factors slope:\n",
      "Empty DataFrame\n",
      "Columns: [slope, slope_err, intercept, inter_err, acceptance, red_chi2, comment]\n",
      "Index: []\n",
      "No filters compatible with zero in 3sigma or with |slope|<0.1\n",
      "No filters with |slope|>0.1 or compatible with zero only in >3sigma\n",
      "\n",
      "\n",
      "No color evolution:   ; Color evolution: \n",
      "\n"
     ]
    },
    {
     "data": {
      "image/png": "[encoded data removed]",
      "text/plain": [
       "<Figure size 432x288 with 1 Axes>"
      ]
     },
     "metadata": {
      "needs_background": "light"
     },
     "output_type": "display_data"
    },
    {
     "name": "stdout",
     "output_type": "stream",
     "text": [
      "041219A\n",
      "K    73\n",
      "H    66\n",
      "J    58\n",
      "z     1\n",
      "Name: band, dtype: int64\n",
      "The most numerous filter of this GRB:  K , with 73 occurrences.\n",
      "The most numerous will be considered for rescaling\n",
      "[2.636989101812229, -0.88627096281731, -inf, 1.4957208476968364]\n",
      "[2.644832328825636, -0.21661688178899752, 0.8976270912904339, 0.15692876116667284]\n",
      "[2.671820560183249, 0.12388205090729798, 0.9190780923760685, 0.026552604985374536]\n",
      "[2.636989101812229, -1.3155364764293616, -inf, 0.9737557202400545]\n",
      "Individual point rescaling:\n",
      "  band  Occur_band  Log10(t)  Resc_fact  Resc_fact_err  Resc_fact_weights\n",
      "0    H          66  2.636989  -0.886271       1.495721           0.668574\n",
      "1    J          58  2.636989  -1.315536       0.973756           1.026952\n",
      "2    H          66  2.644832  -0.216617       0.156929           6.372318\n",
      "3    H          66  2.671821   0.123882       0.026553          37.661088\n",
      "Rescale factors slope:\n",
      "     slope slope_err intercept inter_err acceptance           red_chi2  \\\n",
      "J        0         0         0         0          0  insufficient data   \n",
      "H  12.9135    2.2099  -34.3786    5.9029     0.1711              0.143   \n",
      "\n",
      "             comment  \n",
      "J  insufficient data  \n",
      "H       slope >= 0.1  \n",
      "No filters compatible with zero in 3sigma or with |slope|<0.1\n",
      "Filters not compatible with zero in 3sigma or with |slope|>0.1:  H\n",
      "\n",
      "\n",
      "No color evolution:   ; Color evolution:  H\n",
      "J:0+/-0; H:12.914+/-2.21; \n"
     ]
    },
    {
     "name": "stderr",
     "output_type": "stream",
     "text": [
      "D:\\grb/grbLC\\grblc\\evolution\\lightcurve.py:427: RuntimeWarning: divide by zero encountered in log10\n",
      "  np.log10(np.abs(10**mostcommonx[ll[0]]-10**subx[ll[1]])),\n"
     ]
    },
    {
     "data": {
      "image/png": "[encoded data removed]",
      "text/plain": [
       "<Figure size 432x288 with 1 Axes>"
      ]
     },
     "metadata": {
      "needs_background": "light"
     },
     "output_type": "display_data"
    },
    {
     "name": "stderr",
     "output_type": "stream",
     "text": [
      "No artists with labels found to put in legend.  Note that artists whose label start with an underscore are ignored when legend() is called with no argument.\n"
     ]
    },
    {
     "name": "stdout",
     "output_type": "stream",
     "text": [
      "050824A\n",
      "Rc      97\n",
      "Ic      15\n",
      "B        5\n",
      "V        2\n",
      "UVM2     1\n",
      "UVW1     1\n",
      "U        1\n",
      "K        1\n",
      "Name: band, dtype: int64\n",
      "The most numerous filter of this GRB:  Rc , with 97 occurrences.\n",
      "The most numerous will be considered for rescaling\n",
      "Individual point rescaling:\n",
      "Empty DataFrame\n",
      "Columns: [band, Occur_band, Log10(t), Resc_fact, Resc_fact_err, Resc_fact_weights]\n",
      "Index: []\n",
      "Rescale factors slope:\n",
      "Empty DataFrame\n",
      "Columns: [slope, slope_err, intercept, inter_err, acceptance, red_chi2, comment]\n",
      "Index: []\n",
      "No filters compatible with zero in 3sigma or with |slope|<0.1\n",
      "No filters with |slope|>0.1 or compatible with zero only in >3sigma\n",
      "\n",
      "\n",
      "No color evolution:   ; Color evolution: \n",
      "\n"
     ]
    },
    {
     "data": {
      "image/png": "[encoded data removed]",
      "text/plain": [
       "<Figure size 432x288 with 1 Axes>"
      ]
     },
     "metadata": {
      "needs_background": "light"
     },
     "output_type": "display_data"
    },
    {
     "name": "stderr",
     "output_type": "stream",
     "text": [
      "No artists with labels found to put in legend.  Note that artists whose label start with an underscore are ignored when legend() is called with no argument.\n"
     ]
    },
    {
     "name": "stdout",
     "output_type": "stream",
     "text": [
      "071003A\n",
      "CR        55\n",
      "Ic        10\n",
      "Rc         7\n",
      "g_Gunn     7\n",
      "V          6\n",
      "z          6\n",
      "i          4\n",
      "u          2\n",
      "R          1\n",
      "K          1\n",
      "Name: band, dtype: int64\n",
      "The most numerous filter of this GRB:  CR , with 55 occurrences.\n",
      "The most numerous will be considered for rescaling\n",
      "Individual point rescaling:\n",
      "Empty DataFrame\n",
      "Columns: [band, Occur_band, Log10(t), Resc_fact, Resc_fact_err, Resc_fact_weights]\n",
      "Index: []\n",
      "Rescale factors slope:\n",
      "Empty DataFrame\n",
      "Columns: [slope, slope_err, intercept, inter_err, acceptance, red_chi2, comment]\n",
      "Index: []\n",
      "No filters compatible with zero in 3sigma or with |slope|<0.1\n",
      "No filters with |slope|>0.1 or compatible with zero only in >3sigma\n",
      "\n",
      "\n",
      "No color evolution:   ; Color evolution: \n",
      "\n"
     ]
    },
    {
     "data": {
      "image/png": "[encoded data removed]",
      "text/plain": [
       "<Figure size 432x288 with 1 Axes>"
      ]
     },
     "metadata": {
      "needs_background": "light"
     },
     "output_type": "display_data"
    },
    {
     "name": "stderr",
     "output_type": "stream",
     "text": [
      "D:\\grb/grbLC\\grblc\\evolution\\lightcurve.py:427: RuntimeWarning: divide by zero encountered in log10\n",
      "  np.log10(np.abs(10**mostcommonx[ll[0]]-10**subx[ll[1]])),\n"
     ]
    },
    {
     "name": "stdout",
     "output_type": "stream",
     "text": [
      "090323A\n",
      "r        15\n",
      "i        15\n",
      "R        10\n",
      "Rc        2\n",
      "white     1\n",
      "K         1\n",
      "H         1\n",
      "g         1\n",
      "z         1\n",
      "J         1\n",
      "Name: band, dtype: int64\n",
      "The most numerous filter of this GRB:  r , with 15 occurrences.\n",
      "The most numerous will be considered for rescaling\n",
      "[4.985731765149075, 0.3730692919500882, -inf, 0.03605551275463989]\n",
      "[5.019299112795343, 0.5329202420796335, 2.9365137424788275, 0.0806225774829855]\n",
      "[5.060365383445979, 0.3329202420796271, 3.2375437381429037, 0.0565685424949238]\n",
      "[5.0918497799439555, 0.22292024207963834, 2.9365137424787764, 0.06403124237432849]\n",
      "[5.282866716929532, 0.5329202420796335, 2.936513742478864, 0.13453624047073712]\n",
      "[5.288696260590256, 0.4729202420796277, 2.936513742478864, 0.14212670403551894]\n",
      "[5.292539599672016, 0.5029202420796359, 2.9365137424787764, 0.12041594578792295]\n",
      "[5.296349224818782, 0.3729202420796298, 2.936513742478937, 0.1131370849898476]\n",
      "[5.302001727369793, 0.3429202420796287, 2.936513742478908, 0.09899494936611666]\n",
      "[4.985731765149075, 1.3959989762224865, -inf, 0.042426406871192854]\n",
      "[4.985731765149075, 1.1201922885298146, -inf, 0.03605551275463989]\n",
      "[4.985731765149075, -1.5813925303648624, -inf, 0.07615773105863909]\n",
      "[4.985731765149075, 0.6096359449400488, -inf, 0.03605551275463989]\n",
      "[4.985731765149075, 0.7472547985496689, -inf, 0.03605551275463989]\n",
      "Individual point rescaling:\n",
      "   band  Occur_band  Log10(t)  Resc_fact  Resc_fact_err  Resc_fact_weights\n",
      "0     i          15  4.985732   0.373069       0.036056          27.735010\n",
      "1     K           1  4.985732   1.395999       0.042426          23.570226\n",
      "2     H           1  4.985732   1.120192       0.036056          27.735010\n",
      "3     g           1  4.985732  -1.581393       0.076158          13.130643\n",
      "4     z           1  4.985732   0.609636       0.036056          27.735010\n",
      "5     J           1  4.985732   0.747255       0.036056          27.735010\n",
      "6     i          15  5.019299   0.532920       0.080623          12.403473\n",
      "7     i          15  5.060365   0.332920       0.056569          17.677670\n",
      "8     i          15  5.091850   0.222920       0.064031          15.617376\n",
      "9     i          15  5.282867   0.532920       0.134536           7.432941\n",
      "10    i          15  5.288696   0.472920       0.142127           7.035975\n",
      "11    i          15  5.292540   0.502920       0.120416           8.304548\n",
      "12    i          15  5.296349   0.372920       0.113137           8.838835\n",
      "13    i          15  5.302002   0.342920       0.098995          10.101525\n",
      "Rescale factors slope:\n",
      "    slope slope_err intercept inter_err acceptance           red_chi2  \\\n",
      "H       0         0         0         0          0  insufficient data   \n",
      "i  0.0984    0.2781   -0.1289    1.4116     2.8262             1.8359   \n",
      "K       0         0         0         0          0  insufficient data   \n",
      "J       0         0         0         0          0  insufficient data   \n",
      "g       0         0         0         0          0  insufficient data   \n",
      "z       0         0         0         0          0  insufficient data   \n",
      "\n",
      "              comment  \n",
      "H   insufficient data  \n",
      "i  no color evolution  \n",
      "K   insufficient data  \n",
      "J   insufficient data  \n",
      "g   insufficient data  \n",
      "z   insufficient data  \n",
      "Filters compatible with zero in 3sigma:  i\n",
      "No filters with |slope|>0.1 or compatible with zero only in >3sigma\n",
      "\n",
      "\n",
      "No color evolution:  i  ; Color evolution: \n",
      "H:0+/-0; i:0.098+/-0.278; K:0+/-0; J:0+/-0; g:0+/-0; z:0+/-0; \n"
     ]
    },
    {
     "data": {
      "image/png": "[encoded data removed]",
      "text/plain": [
       "<Figure size 432x288 with 1 Axes>"
      ]
     },
     "metadata": {
      "needs_background": "light"
     },
     "output_type": "display_data"
    },
    {
     "name": "stdout",
     "output_type": "stream",
     "text": [
      "110918A\n",
      "CR       17\n",
      "i        17\n",
      "r        17\n",
      "g        17\n",
      "white    16\n",
      "z        16\n",
      "J        10\n",
      "H        10\n",
      "K         9\n",
      "U         3\n",
      "UVW1      2\n",
      "Name: band, dtype: int64\n",
      "The most numerous filter of this GRB:  CR , with 17 occurrences.\n",
      "The most numerous will be considered for rescaling\n",
      "[5.463598882505863, 0.8913453737394228, 3.6670979004765067, 0.10816653826391967]\n",
      "[5.581474050848963, 0.8013453737394229, 3.9156108626614947, 0.12206555615733704]\n",
      "[5.463598882505863, 1.0262264878001126, 3.6670979004765067, 0.1341640786499874]\n",
      "[5.581474050848963, 1.2762264878001126, 3.9156108626614947, 0.1746424919657298]\n",
      "[5.310996893797478, 1.2231871877001694, 1.586587304671493, 0.1676305461424021]\n",
      "Individual point rescaling:\n",
      "  band  Occur_band  Log10(t)  Resc_fact  Resc_fact_err  Resc_fact_weights\n",
      "0    K           9  5.310997   1.223187       0.167631           5.965500\n",
      "1    J          10  5.463599   0.891345       0.108167           9.245003\n",
      "2    H          10  5.463599   1.026226       0.134164           7.453560\n",
      "3    J          10  5.581474   0.801345       0.122066           8.192319\n",
      "4    H          10  5.581474   1.276226       0.174642           5.725983\n",
      "Rescale factors slope:\n",
      "  slope slope_err intercept inter_err acceptance           red_chi2  \\\n",
      "K     0         0         0         0          0  insufficient data   \n",
      "J     0         0         0         0          0  insufficient data   \n",
      "H     0         0         0         0          0  insufficient data   \n",
      "\n",
      "             comment  \n",
      "K  insufficient data  \n",
      "J  insufficient data  \n",
      "H  insufficient data  \n",
      "No filters compatible with zero in 3sigma or with |slope|<0.1\n",
      "No filters with |slope|>0.1 or compatible with zero only in >3sigma\n",
      "\n",
      "\n",
      "No color evolution:   ; Color evolution: \n",
      "K:0+/-0; J:0+/-0; H:0+/-0; \n"
     ]
    },
    {
     "data": {
      "image/png": "[encoded data removed]",
      "text/plain": [
       "<Figure size 432x288 with 1 Axes>"
      ]
     },
     "metadata": {
      "needs_background": "light"
     },
     "output_type": "display_data"
    },
    {
     "name": "stdout",
     "output_type": "stream",
     "text": [
      "120422A\n",
      "i        58\n",
      "r        46\n",
      "g        26\n",
      "z        21\n",
      "R        12\n",
      "J        11\n",
      "B         8\n",
      "I         8\n",
      "U         7\n",
      "H         6\n",
      "V         6\n",
      "UVM2      5\n",
      "UVW1      4\n",
      "white     3\n",
      "UVW2      3\n",
      "Y         1\n",
      "CR        1\n",
      "K         1\n",
      "Name: band, dtype: int64\n",
      "The most numerous filter of this GRB:  i , with 58 occurrences.\n",
      "The most numerous will be considered for rescaling\n",
      "[4.77497656367104, -0.17999999999999972, -inf, 0.2280350850198276]\n",
      "[4.790299241422002, -0.0400000000000027, -inf, 0.09899494936611666]\n",
      "[4.803156556367429, 0.25, -inf, 0.1118033988749895]\n",
      "[4.809283563698025, 0.05999999999999872, -inf, 0.07810249675906655]\n",
      "[4.811575005870593, -0.2675199660581171, -inf, 0.1118033988749895]\n",
      "[5.183728102884171, 0.25, 3.4983105537895725, 0.2102379604162864]\n",
      "[5.497257319945753, 0.28000000000000114, 3.6534054906645292, 0.08485281374238571]\n",
      "[5.53274164289719, 0.16999999999999815, 2.8444771757457175, 0.08485281374238571]\n",
      "[5.5975438145019325, 0.4187986705108102, 2.8627275283180094, 0.12806248474865697]\n",
      "[5.754986157668366, 0.18397477547982177, 3.316724984190665, 0.14422205101855956]\n",
      "[5.8768947428884575, 0.0799999999999983, 4.0419450721452455, 0.09433981132056604]\n",
      "[6.111374098214599, 0.06517610496900872, 4.490486620055543, 0.07071067811865477]\n",
      "[4.805385302783493, 0.05000000000000071, 2.5145477526604116, 0.11661903789690602]\n",
      "[4.811575005870593, 0.6404867963820848, 2.5327543789924145, 0.07810249675906655]\n",
      "[4.815464843646535, -0.8746842776550352, 2.765668554759063, 0.12806248474865697]\n",
      "[4.83326188823779, 0.14000000000000057, 2.958563883222009, 0.10816653826391967]\n",
      "[5.192598114894083, -0.28999999999999915, 3.4983105537895725, 0.2262741699796952]\n",
      "Individual point rescaling:\n",
      "   band  Occur_band  Log10(t)  Resc_fact  Resc_fact_err  Resc_fact_weights\n",
      "0     r          46  4.774977  -0.180000       0.228035           4.385290\n",
      "1     r          46  4.790299  -0.040000       0.098995          10.101525\n",
      "2     r          46  4.803157   0.250000       0.111803           8.944272\n",
      "3     g          26  4.805385   0.050000       0.116619           8.574929\n",
      "4     r          46  4.809284   0.060000       0.078102          12.803688\n",
      "5     r          46  4.811575  -0.267520       0.111803           8.944272\n",
      "6     g          26  4.811575   0.640487       0.078102          12.803688\n",
      "7     g          26  4.815465  -0.874684       0.128062           7.808688\n",
      "8     g          26  4.833262   0.140000       0.108167           9.245003\n",
      "9     r          46  5.183728   0.250000       0.210238           4.756515\n",
      "10    g          26  5.192598  -0.290000       0.226274           4.419417\n",
      "11    r          46  5.497257   0.280000       0.084853          11.785113\n",
      "12    r          46  5.532742   0.170000       0.084853          11.785113\n",
      "13    r          46  5.597544   0.418799       0.128062           7.808688\n",
      "14    r          46  5.754986   0.183975       0.144222           6.933752\n",
      "15    r          46  5.876895   0.080000       0.094340          10.599979\n",
      "16    r          46  6.111374   0.065176       0.070711          14.142136\n",
      "Rescale factors slope:\n",
      "    slope slope_err intercept inter_err acceptance red_chi2  \\\n",
      "g -1.3142    3.5888    6.5058   17.3508     2.7308  34.4545   \n",
      "r  0.0952    0.0935   -0.4053     0.506     0.9821   2.6118   \n",
      "\n",
      "              comment  \n",
      "g  no color evolution  \n",
      "r  no color evolution  \n",
      "Filters compatible with zero in 3sigma:  g r\n",
      "No filters with |slope|>0.1 or compatible with zero only in >3sigma\n",
      "\n",
      "\n",
      "No color evolution:  g r  ; Color evolution: \n",
      "g:-1.314+/-3.589; r:0.095+/-0.094; \n"
     ]
    },
    {
     "name": "stderr",
     "output_type": "stream",
     "text": [
      "D:\\grb/grbLC\\grblc\\evolution\\lightcurve.py:427: RuntimeWarning: divide by zero encountered in log10\n",
      "  np.log10(np.abs(10**mostcommonx[ll[0]]-10**subx[ll[1]])),\n"
     ]
    },
    {
     "data": {
      "image/png": "[encoded data removed]",
      "text/plain": [
       "<Figure size 432x288 with 1 Axes>"
      ]
     },
     "metadata": {
      "needs_background": "light"
     },
     "output_type": "display_data"
    },
    {
     "name": "stdout",
     "output_type": "stream",
     "text": [
      "130907A\n",
      "r             22\n",
      "i             21\n",
      "Z              9\n",
      "I              7\n",
      "R              5\n",
      "Ic             4\n",
      "J              3\n",
      "Y              3\n",
      "white          2\n",
      "Rc             2\n",
      "unfiltered     2\n",
      "H              2\n",
      "U              1\n",
      "B              1\n",
      "V              1\n",
      "UVW1           1\n",
      "Name: band, dtype: int64\n",
      "The most numerous filter of this GRB:  r , with 22 occurrences.\n",
      "The most numerous will be considered for rescaling\n",
      "[4.305400816003353, 0.765523646960645, 2.002597980720012, 0.11429419451573207]\n",
      "[4.307397615203975, 0.8121696469606476, 1.9689496809813019, 0.10310099563049815]\n",
      "[4.3095961037777455, 0.9646966469606468, 2.0132586652834643, 0.10306686796929457]\n",
      "[4.311580108510166, 0.7594686469606451, 1.9703468762301002, 0.10861213191904484]\n",
      "[4.313772339851799, 0.7447246469606448, 2.0161973535124664, 0.10463029668790966]\n",
      "[4.315970345456917, 0.8147990378382168, 2.019531684531249, 0.08866512504925485]\n",
      "[4.316012304249464, 0.6191934734407774, 0.30102999567267097, 0.06324938832905817]\n",
      "[4.318232426334291, 0.6033686469606465, 2.0261245167455573, 0.0943980069704864]\n",
      "[4.319684732922244, 0.7362976469606437, 1.8438554226230435, 0.09593591692895836]\n",
      "[4.3202377069053925, 0.8360996469606441, 1.4256972133624368, 0.0557899627173204]\n",
      "[4.322727741951744, 0.6031876469606452, 2.080265627339829, 0.1001181912990841]\n",
      "[4.324846054784007, 0.7786156469606453, 2.012415374762516, 0.11008974684320061]\n",
      "[4.326968404752386, 0.7492426469606457, 2.015359755409132, 0.10297713638473348]\n",
      "[4.3290560049152305, 0.8575266469606468, 2.0102999566397566, 0.1120396771193134]\n",
      "[4.331625670132209, 0.5328006469606485, 2.1027766148834313, 0.10853755908440174]\n",
      "[4.333509743919888, 0.5323806469606467, 1.9703468762301002, 0.09732028821371215]\n",
      "[4.335534121207466, 0.8789726469606478, 2.003460532109347, 0.11400581375087851]\n",
      "[4.309758946449341, 1.3963739560371025, 2.48337330608902, 0.1515180477698944]\n",
      "[4.311776104837613, 1.3323909560371021, 2.4753079139561622, 0.14828522886990464]\n",
      "[4.319867749630125, 1.2463709560371008, 2.6885977750811865, 0.10633844001112673]\n",
      "[4.320479671343607, 1.3629049560371023, 2.627724206512678, 0.1427031038520186]\n",
      "Individual point rescaling:\n",
      "   band  Occur_band  Log10(t)  Resc_fact  Resc_fact_err  Resc_fact_weights\n",
      "0     i          21  4.305401   0.765524       0.114294           8.749351\n",
      "1     i          21  4.307398   0.812170       0.103101           9.699227\n",
      "2     i          21  4.309596   0.964697       0.103067           9.702439\n",
      "3     Z           9  4.309759   1.396374       0.151518           6.599874\n",
      "4     i          21  4.311580   0.759469       0.108612           9.207075\n",
      "5     Z           9  4.311776   1.332391       0.148285           6.743760\n",
      "6     i          21  4.313772   0.744725       0.104630           9.557461\n",
      "7     i          21  4.315970   0.814799       0.088665          11.278392\n",
      "8     i          21  4.316012   0.619193       0.063249          15.810430\n",
      "9     i          21  4.318232   0.603369       0.094398          10.593444\n",
      "10    i          21  4.319685   0.736298       0.095936          10.423625\n",
      "11    Z           9  4.319868   1.246371       0.106338           9.403937\n",
      "12    i          21  4.320238   0.836100       0.055790          17.924371\n",
      "13    Z           9  4.320480   1.362905       0.142703           7.007556\n",
      "14    i          21  4.322728   0.603188       0.100118           9.988195\n",
      "15    i          21  4.324846   0.778616       0.110090           9.083498\n",
      "16    i          21  4.326968   0.749243       0.102977           9.710893\n",
      "17    i          21  4.329056   0.857527       0.112040           8.925410\n",
      "18    i          21  4.331626   0.532801       0.108538           9.213400\n",
      "19    i          21  4.333510   0.532381       0.097320          10.275350\n",
      "20    i          21  4.335534   0.878973       0.114006           8.771482\n",
      "Rescale factors slope:\n",
      "    slope slope_err intercept inter_err acceptance red_chi2  \\\n",
      "i -4.1569    3.7544   18.6951    16.218     0.9032   1.6965   \n",
      "Z -8.0994    7.3553   36.2782   31.7486     0.9081   0.2583   \n",
      "\n",
      "              comment  \n",
      "i  no color evolution  \n",
      "Z  no color evolution  \n",
      "Filters compatible with zero in 3sigma:  i Z\n",
      "No filters with |slope|>0.1 or compatible with zero only in >3sigma\n",
      "\n",
      "\n",
      "No color evolution:  i Z  ; Color evolution: \n",
      "i:-4.157+/-3.754; Z:-8.099+/-7.355; \n"
     ]
    },
    {
     "data": {
      "image/png": "[encoded data removed]",
      "text/plain": [
       "<Figure size 432x288 with 1 Axes>"
      ]
     },
     "metadata": {
      "needs_background": "light"
     },
     "output_type": "display_data"
    },
    {
     "name": "stdout",
     "output_type": "stream",
     "text": [
      "130925A\n",
      "i    4\n",
      "J    3\n",
      "H    3\n",
      "Y    3\n",
      "r    3\n",
      "Z    2\n",
      "z    1\n",
      "K    1\n",
      "Name: band, dtype: int64\n",
      "The most numerous filter of this GRB:  i , with 4 occurrences.\n",
      "The most numerous will be considered for rescaling\n",
      "[2.741939077729199, 2.178189454305361, -inf, 0.14142135623730953]\n",
      "[2.741939077729199, 3.1722223723596628, -inf, 0.14142135623730953]\n",
      "[2.741939077729199, 0.4886502274420117, -inf, 0.14142135623730953]\n",
      "[2.741939077729199, 3.768515722157545, -inf, 0.14142135623730953]\n",
      "Individual point rescaling:\n",
      "  band  Occur_band  Log10(t)  Resc_fact  Resc_fact_err  Resc_fact_weights\n",
      "0    J           3  2.741939   2.178189       0.141421           7.071068\n",
      "1    H           3  2.741939   3.172222       0.141421           7.071068\n",
      "2    z           1  2.741939   0.488650       0.141421           7.071068\n",
      "3    K           1  2.741939   3.768516       0.141421           7.071068\n",
      "Rescale factors slope:\n",
      "  slope slope_err intercept inter_err acceptance           red_chi2  \\\n",
      "z     0         0         0         0          0  insufficient data   \n",
      "J     0         0         0         0          0  insufficient data   \n",
      "K     0         0         0         0          0  insufficient data   \n",
      "H     0         0         0         0          0  insufficient data   \n",
      "\n",
      "             comment  \n",
      "z  insufficient data  \n",
      "J  insufficient data  \n",
      "K  insufficient data  \n",
      "H  insufficient data  \n",
      "No filters compatible with zero in 3sigma or with |slope|<0.1\n",
      "No filters with |slope|>0.1 or compatible with zero only in >3sigma\n",
      "\n",
      "\n",
      "No color evolution:   ; Color evolution: \n",
      "z:0+/-0; J:0+/-0; K:0+/-0; H:0+/-0; \n"
     ]
    },
    {
     "name": "stderr",
     "output_type": "stream",
     "text": [
      "D:\\grb/grbLC\\grblc\\evolution\\lightcurve.py:427: RuntimeWarning: divide by zero encountered in log10\n",
      "  np.log10(np.abs(10**mostcommonx[ll[0]]-10**subx[ll[1]])),\n"
     ]
    },
    {
     "data": {
      "image/png": "[encoded data removed]",
      "text/plain": [
       "<Figure size 432x288 with 1 Axes>"
      ]
     },
     "metadata": {
      "needs_background": "light"
     },
     "output_type": "display_data"
    },
    {
     "name": "stdout",
     "output_type": "stream",
     "text": [
      "140606B\n",
      "i    44\n",
      "r    18\n",
      "g     8\n",
      "z     4\n",
      "K     2\n",
      "Name: band, dtype: int64\n",
      "The most numerous filter of this GRB:  i , with 44 occurrences.\n",
      "The most numerous will be considered for rescaling\n",
      "[5.415080238072736, -0.10509060719223484, 3.258733037212874, 0.07211102550927978]\n",
      "Individual point rescaling:\n",
      "  band  Occur_band  Log10(t)  Resc_fact  Resc_fact_err  Resc_fact_weights\n",
      "0    r          18   5.41508  -0.105091       0.072111          13.867505\n",
      "Rescale factors slope:\n",
      "  slope slope_err intercept inter_err acceptance           red_chi2  \\\n",
      "r     0         0         0         0          0  insufficient data   \n",
      "\n",
      "             comment  \n",
      "r  insufficient data  \n",
      "No filters compatible with zero in 3sigma or with |slope|<0.1\n",
      "No filters with |slope|>0.1 or compatible with zero only in >3sigma\n",
      "\n",
      "\n",
      "No color evolution:   ; Color evolution: \n",
      "r:0+/-0; \n"
     ]
    },
    {
     "data": {
      "image/png": "[encoded data removed]",
      "text/plain": [
       "<Figure size 432x288 with 1 Axes>"
      ]
     },
     "metadata": {
      "needs_background": "light"
     },
     "output_type": "display_data"
    },
    {
     "name": "stderr",
     "output_type": "stream",
     "text": [
      "No artists with labels found to put in legend.  Note that artists whose label start with an underscore are ignored when legend() is called with no argument.\n"
     ]
    },
    {
     "name": "stdout",
     "output_type": "stream",
     "text": [
      "141004A\n",
      "r        5\n",
      "i        4\n",
      "white    2\n",
      "R        1\n",
      "U        1\n",
      "B        1\n",
      "UVW1     1\n",
      "V        1\n",
      "UVW2     1\n",
      "z        1\n",
      "g        1\n",
      "Name: band, dtype: int64\n",
      "The most numerous filter of this GRB:  r , with 5 occurrences.\n",
      "The most numerous will be considered for rescaling\n",
      "Individual point rescaling:\n",
      "Empty DataFrame\n",
      "Columns: [band, Occur_band, Log10(t), Resc_fact, Resc_fact_err, Resc_fact_weights]\n",
      "Index: []\n",
      "Rescale factors slope:\n",
      "Empty DataFrame\n",
      "Columns: [slope, slope_err, intercept, inter_err, acceptance, red_chi2, comment]\n",
      "Index: []\n",
      "No filters compatible with zero in 3sigma or with |slope|<0.1\n",
      "No filters with |slope|>0.1 or compatible with zero only in >3sigma\n",
      "\n",
      "\n",
      "No color evolution:   ; Color evolution: \n",
      "\n"
     ]
    },
    {
     "data": {
      "image/png": "[encoded data removed]",
      "text/plain": [
       "<Figure size 432x288 with 1 Axes>"
      ]
     },
     "metadata": {
      "needs_background": "light"
     },
     "output_type": "display_data"
    },
    {
     "name": "stdout",
     "output_type": "stream",
     "text": [
      "150910A\n",
      "Clear         54\n",
      "I             52\n",
      "R             17\n",
      "V             14\n",
      "r             10\n",
      "g              8\n",
      "i              7\n",
      "Rc             4\n",
      "B              3\n",
      "Ic             2\n",
      "unfiltered     2\n",
      "z              2\n",
      "white          1\n",
      "K              1\n",
      "u              1\n",
      "Name: band, dtype: int64\n",
      "The most numerous filter of this GRB:  Clear , with 54 occurrences.\n",
      "The most numerous will be considered for rescaling\n",
      "[3.4390167283875126, 0.37837519358668814, 1.8260748027008087, 0.1077032961426901]\n",
      "[3.4545399849648186, 0.12837519358668814, 1.8260748027008264, 0.1392838827718412]\n",
      "[3.469232742506612, 0.35837519358668857, 1.8129133566428464, 0.11704699910719625]\n",
      "[3.4837298990000236, 0.45837519358669, 1.8260748027008176, 0.10816653826391967]\n",
      "[3.4974825373673704, 0.41837519358669084, 1.8129133566428677, 0.130384048104053]\n",
      "[3.506369717095504, 0.2783751935866867, 1.505149978319906, 0.1676305461424021]\n",
      "[3.5153438930883807, 0.18837519358669041, 1.5314789170422551, 0.14317821063276354]\n",
      "[3.5240064455573727, 0.2683751935866887, 1.5185139398778995, 0.11704699910719625]\n",
      "[3.532627001228891, 0.1283751935866917, 1.5185139398778456, 0.14866068747318506]\n",
      "[3.541079767776629, 0.2583751935866907, 1.5314789170422376, 0.1341640786499874]\n",
      "[3.5491259267581112, 0.39837519358669127, 1.505149978319906, 0.14317821063276354]\n",
      "[3.557266528869904, 0.2783751935866903, 1.531478917042261, 0.14866068747318506]\n",
      "[3.5651391519697895, 0.29837519358668985, 1.5185139398778815, 0.14317821063276354]\n",
      "[3.5727554651542195, 0.37837519358668814, 1.5185139398778815, 0.1392838827718412]\n",
      "[3.5804687839510017, 0.22837519358668956, 1.5185139398778695, 0.14866068747318506]\n",
      "[3.588047496986083, 0.2583751935866907, 1.5185139398778935, 0.14317821063276354]\n",
      "[3.595496221825574, 0.3583751935866921, 1.5185139398779055, 0.2024845673131659]\n",
      "[3.6028193424326997, 0.28837519358669184, 1.531478917042261, 0.18027756377319948]\n",
      "[3.61066016308988, 0.28837519358669184, 1.531478917042261, 0.12083045973594572]\n",
      "[3.617629297757842, 0.24837519358668914, 1.5185139398778635, 0.16155494421403513]\n",
      "[3.6245914591268478, 0.2583751935866907, 1.5185139398779115, 0.12529964086141668]\n",
      "[3.6314437690131722, 0.24837519358668914, 1.5185139398779235, 0.15231546211727817]\n",
      "[3.667452952889954, 0.39837519358669127, 1.999999999999996, 0.16155494421403513]\n",
      "[3.673665876245702, 0.19837519358669198, 2.000000000000012, 0.18384776310850237]\n",
      "[3.679700380871964, 0.2583751935866907, 2.000000000000008, 0.17088007490635063]\n",
      "[3.6857417386022635, 0.20837519358669, 2.000000000000004, 0.16155494421403513]\n",
      "[3.6915235221681546, 0.39837519358669127, 1.9912260756925029, 0.12529964086141668]\n",
      "[3.6974037232004875, 0.34837519358669056, 1.995635194597538, 0.1746424919657298]\n",
      "[3.703119346236078, -0.08162480641331271, 2.000000000000008, 0.21840329667841554]\n",
      "[3.708845638048179, 0.2683751935866887, 1.9999999999999882, 0.25298221281347033]\n",
      "[3.714497408649806, -0.011624806413312427, 2.000000000000004, 0.18973665961010275]\n",
      "[3.7200765727681406, 0.45837519358669, 2.0043213737826386, 0.26476404589747454]\n",
      "[3.725584972270694, 0.29837519358668985, 2.0043213737826306, 0.19924858845171275]\n",
      "[3.7309436934277356, 0.5083751935866907, 2.0, 0.14560219778561037]\n",
      "[3.7766285534201502, 0.5183751935866923, 2.000000000000008, 0.1746424919657298]\n",
      "[3.781468142841798, 0.24837519358668914, 1.9999999999999842, 0.2154065922853802]\n",
      "[3.7861833455676335, 0.468375193586688, 1.999999999999996, 0.2308679276123039]\n",
      "[3.7907776013376937, 0.29837519358668985, 1.9912260756924869, 0.24738633753705963]\n",
      "[3.79546289439038, 0.10837519358668857, 2.000000000000016, 0.3132091952673165]\n",
      "[3.258876629372131, -0.5917974609826295, 1.5185139398778695, 0.12649110640673517]\n",
      "[3.2821687783046416, -0.5417974609826324, 1.5185139398778844, 0.13601470508735444]\n",
      "[3.3040594662175993, -0.6117974609826327, 1.5314789170422696, 0.14560219778561037]\n",
      "[3.3246939138617746, -0.45179746098262896, 1.531478917042261, 0.12369316876852982]\n",
      "[3.344785122632661, -0.6817974609826294, 1.5314789170422551, 0.16492422502470644]\n",
      "[3.3639878297484915, -0.5217974609826328, 1.5314789170422725, 0.15524174696260024]\n",
      "[3.3823773034681137, -0.8517974609826311, 1.5314789170422551, 0.1746424919657298]\n",
      "[3.399673721481038, -0.49179746098263166, 1.5051499783198998, 0.1726267650163207]\n",
      "[3.4173055832445254, -0.4217974609826278, 1.5185139398778815, 0.18439088914585774]\n",
      "[3.433609843323718, -0.4117974609826298, 1.5185139398778575, 0.1746424919657298]\n",
      "[3.449324093098727, -0.26179746098263124, 1.5185139398778875, 0.13]\n",
      "[3.4644895474339714, -0.7117974609826305, 1.5185139398778815, 0.14560219778561037]\n",
      "[3.478999131673357, -0.6017974609826311, 1.5314789170422494, 0.208806130178211]\n",
      "[3.493179120682515, -0.34179746098262953, 1.531478917042261, 0.2308679276123039]\n",
      "[3.2405492482826, -0.4139983344694613, 1.6232492903978981, 0.044721359549995794]\n",
      "Individual point rescaling:\n",
      "   band  Occur_band  Log10(t)  Resc_fact  Resc_fact_err  Resc_fact_weights\n",
      "0     r          10  3.240549  -0.413998       0.044721          22.360680\n",
      "1     V          14  3.258877  -0.591797       0.126491           7.905694\n",
      "2     V          14  3.282169  -0.541797       0.136015           7.352146\n",
      "3     V          14  3.304059  -0.611797       0.145602           6.868028\n",
      "4     V          14  3.324694  -0.451797       0.123693           8.084521\n",
      "5     V          14  3.344785  -0.681797       0.164924           6.063391\n",
      "6     V          14  3.363988  -0.521797       0.155242           6.441566\n",
      "7     V          14  3.382377  -0.851797       0.174642           5.725983\n",
      "8     V          14  3.399674  -0.491797       0.172627           5.792844\n",
      "9     V          14  3.417306  -0.421797       0.184391           5.423261\n",
      "10    V          14  3.433610  -0.411797       0.174642           5.725983\n",
      "11    I          52  3.439017   0.378375       0.107703           9.284767\n",
      "12    V          14  3.449324  -0.261797       0.130000           7.692308\n",
      "13    I          52  3.454540   0.128375       0.139284           7.179582\n",
      "14    V          14  3.464490  -0.711797       0.145602           6.868028\n",
      "15    I          52  3.469233   0.358375       0.117047           8.543577\n",
      "16    V          14  3.478999  -0.601797       0.208806           4.789131\n",
      "17    I          52  3.483730   0.458375       0.108167           9.245003\n",
      "18    V          14  3.493179  -0.341797       0.230868           4.331481\n",
      "19    I          52  3.497483   0.418375       0.130384           7.669650\n",
      "20    I          52  3.506370   0.278375       0.167631           5.965500\n",
      "21    I          52  3.515344   0.188375       0.143178           6.984303\n",
      "22    I          52  3.524006   0.268375       0.117047           8.543577\n",
      "23    I          52  3.532627   0.128375       0.148661           6.726728\n",
      "24    I          52  3.541080   0.258375       0.134164           7.453560\n",
      "25    I          52  3.549126   0.398375       0.143178           6.984303\n",
      "26    I          52  3.557267   0.278375       0.148661           6.726728\n",
      "27    I          52  3.565139   0.298375       0.143178           6.984303\n",
      "28    I          52  3.572755   0.378375       0.139284           7.179582\n",
      "29    I          52  3.580469   0.228375       0.148661           6.726728\n",
      "30    I          52  3.588047   0.258375       0.143178           6.984303\n",
      "31    I          52  3.595496   0.358375       0.202485           4.938648\n",
      "32    I          52  3.602819   0.288375       0.180278           5.547002\n",
      "33    I          52  3.610660   0.288375       0.120830           8.276059\n",
      "34    I          52  3.617629   0.248375       0.161555           6.189845\n",
      "35    I          52  3.624591   0.258375       0.125300           7.980869\n",
      "36    I          52  3.631444   0.248375       0.152315           6.565322\n",
      "37    I          52  3.667453   0.398375       0.161555           6.189845\n",
      "38    I          52  3.673666   0.198375       0.183848           5.439283\n",
      "39    I          52  3.679700   0.258375       0.170880           5.852057\n",
      "40    I          52  3.685742   0.208375       0.161555           6.189845\n",
      "41    I          52  3.691524   0.398375       0.125300           7.980869\n",
      "42    I          52  3.697404   0.348375       0.174642           5.725983\n",
      "43    I          52  3.703119  -0.081625       0.218403           4.578685\n",
      "44    I          52  3.708846   0.268375       0.252982           3.952847\n",
      "45    I          52  3.714497  -0.011625       0.189737           5.270463\n",
      "46    I          52  3.720077   0.458375       0.264764           3.776948\n",
      "47    I          52  3.725585   0.298375       0.199249           5.018856\n",
      "48    I          52  3.730944   0.508375       0.145602           6.868028\n",
      "49    I          52  3.776629   0.518375       0.174642           5.725983\n",
      "50    I          52  3.781468   0.248375       0.215407           4.642383\n",
      "51    I          52  3.786183   0.468375       0.230868           4.331481\n",
      "52    I          52  3.790778   0.298375       0.247386           4.042260\n",
      "53    I          52  3.795463   0.108375       0.313209           3.192754\n",
      "Rescale factors slope:\n",
      "    slope slope_err intercept inter_err acceptance           red_chi2  \\\n",
      "I -0.0222    0.1939    0.3832    0.6965     8.7342             0.5774   \n",
      "V  0.5277    0.5594   -2.3107    1.8856     1.0601             0.9816   \n",
      "r       0         0         0         0          0  insufficient data   \n",
      "\n",
      "              comment  \n",
      "I  no color evolution  \n",
      "V  no color evolution  \n",
      "r   insufficient data  \n",
      "Filters compatible with zero in 3sigma:  I V\n",
      "No filters with |slope|>0.1 or compatible with zero only in >3sigma\n",
      "\n",
      "\n",
      "No color evolution:  I V  ; Color evolution: \n",
      "I:-0.022+/-0.194; V:0.528+/-0.559; r:0+/-0; \n"
     ]
    },
    {
     "data": {
      "image/png": "[encoded data removed]",
      "text/plain": [
       "<Figure size 432x288 with 1 Axes>"
      ]
     },
     "metadata": {
      "needs_background": "light"
     },
     "output_type": "display_data"
    },
    {
     "name": "stdout",
     "output_type": "stream",
     "text": [
      "201015A\n",
      "clear    107\n",
      "r         93\n",
      "i         42\n",
      "g         41\n",
      "white      8\n",
      "R          6\n",
      "V          3\n",
      "Rc         3\n",
      "B          2\n",
      "I          1\n",
      "z          1\n",
      "Name: band, dtype: int64\n",
      "The most numerous filter of this GRB:  clear , with 107 occurrences.\n",
      "The most numerous will be considered for rescaling\n",
      "[2.3541084391474008, -0.2286432300000012, 0.6989700043360163, 0.38118237105091834]\n",
      "[2.367355921026019, -0.3407047448836291, 0.3654879848908824, 0.12041594578792295]\n",
      "[2.3944516808262164, -0.2607047448836255, -0.04575749056060381, 0.3765634076752546]\n",
      "[2.404234866653423, -0.04306191860282382, 0.7888751157754131, 0.383275357934736]\n",
      "[2.419955748489758, -0.31070474488362443, 0.8061799739838972, 0.12806248474865697]\n",
      "[2.444044795918076, -0.673061918602821, 0.6532125137753327, 0.31048349392520047]\n",
      "[2.44649056645319, -0.4907047448836277, 0.755112266395071, 0.31622776601683794]\n",
      "[2.486217884667973, 0.10929525511637195, 0.3483048630482085, 0.5044799302251776]\n",
      "[2.4885507165004443, 0.24693808139717532, 0.5440680443502686, 0.49497474683058323]\n",
      "[2.5214911314604347, 0.3569380813971783, 0.5145477526602685, 0.3257299494980466]\n",
      "Individual point rescaling:\n",
      "  band  Occur_band  Log10(t)  Resc_fact  Resc_fact_err  Resc_fact_weights\n",
      "0    r          93  2.354108  -0.228643       0.381182           2.623416\n",
      "1    r          93  2.367356  -0.340705       0.120416           8.304548\n",
      "2    r          93  2.394452  -0.260705       0.376563           2.655595\n",
      "3    r          93  2.404235  -0.043062       0.383275           2.609090\n",
      "4    r          93  2.419956  -0.310705       0.128062           7.808688\n",
      "5    r          93  2.444045  -0.673062       0.310483           3.220783\n",
      "6    r          93  2.446491  -0.490705       0.316228           3.162278\n",
      "7    r          93  2.486218   0.109295       0.504480           1.982239\n",
      "8    r          93  2.488551   0.246938       0.494975           2.020305\n",
      "9    r          93  2.521491   0.356938       0.325730           3.070028\n",
      "Rescale factors slope:\n",
      "    slope slope_err intercept inter_err acceptance red_chi2  \\\n",
      "r  2.5181    1.4921   -6.3447    3.5927     0.5925   0.7663   \n",
      "\n",
      "              comment  \n",
      "r  no color evolution  \n",
      "Filters compatible with zero in 3sigma:  r\n",
      "No filters with |slope|>0.1 or compatible with zero only in >3sigma\n",
      "\n",
      "\n",
      "No color evolution:  r  ; Color evolution: \n",
      "r:2.518+/-1.492; \n"
     ]
    },
    {
     "data": {
      "image/png": "[encoded data removed]",
      "text/plain": [
       "<Figure size 432x288 with 1 Axes>"
      ]
     },
     "metadata": {
      "needs_background": "light"
     },
     "output_type": "display_data"
    },
    {
     "name": "stderr",
     "output_type": "stream",
     "text": [
      "No artists with labels found to put in legend.  Note that artists whose label start with an underscore are ignored when legend() is called with no argument.\n"
     ]
    },
    {
     "name": "stdout",
     "output_type": "stream",
     "text": [
      "210619B\n",
      "r        32\n",
      "R        24\n",
      "i        18\n",
      "g        12\n",
      "z        11\n",
      "I         5\n",
      "Ic        4\n",
      "V         3\n",
      "J         2\n",
      "K         2\n",
      "CR        2\n",
      "white     2\n",
      "UVW2      1\n",
      "UVW1      1\n",
      "U         1\n",
      "H         1\n",
      "B         1\n",
      "Name: band, dtype: int64\n",
      "The most numerous filter of this GRB:  r , with 32 occurrences.\n",
      "The most numerous will be considered for rescaling\n",
      "Individual point rescaling:\n",
      "Empty DataFrame\n",
      "Columns: [band, Occur_band, Log10(t), Resc_fact, Resc_fact_err, Resc_fact_weights]\n",
      "Index: []\n",
      "Rescale factors slope:\n",
      "Empty DataFrame\n",
      "Columns: [slope, slope_err, intercept, inter_err, acceptance, red_chi2, comment]\n",
      "Index: []\n",
      "No filters compatible with zero in 3sigma or with |slope|<0.1\n",
      "No filters with |slope|>0.1 or compatible with zero only in >3sigma\n",
      "\n",
      "\n",
      "No color evolution:   ; Color evolution: \n",
      "\n"
     ]
    },
    {
     "data": {
      "image/png": "[encoded data removed]",
      "text/plain": [
       "<Figure size 432x288 with 1 Axes>"
      ]
     },
     "metadata": {
      "needs_background": "light"
     },
     "output_type": "display_data"
    }
   ],
   "source": [
    "# create a list of the path of all our example grbs.\n",
    "import os\n",
    "import pandas as pd\n",
    "import sys\n",
    "sys.path.append('D:/grb/grbLC/')\n",
    "from grblc.evolution.lightcurve import Lightcurve\n",
    "\n",
    "path = \"D:\\grb\\sample\\mag-AB-extcorr-03-05-2023\"\n",
    "grblist = []\n",
    "filelist = []\n",
    "\n",
    "for root, dirs, files in os.walk(path):\n",
    "    for file in files:\n",
    "        filelist.append(os.path.join(root,file))\n",
    "        names = file.split('_')\n",
    "        grblist.append(names[0])\n",
    "\n",
    "filedf=pd.DataFrame()\n",
    "filedf.index = grblist\n",
    "filedf['path'] = filelist\n",
    "\n",
    "redo = pd.read_csv('checking-mag-values.csv', sep=',', index_col='GRB')\n",
    "redo = redo[redo['Agreement_with_literature(our_col-ev)'] == 'DISAGREEMENT']\n",
    "\n",
    "for grb in redo.index:\n",
    "    print(grb)\n",
    "    lc = Lightcurve(path = filedf.loc[grb, 'path'],\n",
    "                    appx_bands=True,\n",
    "                    name = grb)\n",
    "\n",
    "    lc.colorevolGRB(print_status=True, return_rescaledf=False, save_plot=False, save_in_folder='new-plots/')"
   ]
  },
  {
   "cell_type": "code",
   "execution_count": null,
   "metadata": {},
   "outputs": [],
   "source": []
  }
 ],
 "metadata": {
  "kernelspec": {
   "display_name": "Python 3",
   "language": "python",
   "name": "python3"
  },
  "language_info": {
   "codemirror_mode": {
    "name": "ipython",
    "version": 3
   },
   "file_extension": ".py",
   "mimetype": "text/x-python",
   "name": "python",
   "nbconvert_exporter": "python",
   "pygments_lexer": "ipython3",
   "version": "3.8.10"
  },
  "orig_nbformat": 4
 },
 "nbformat": 4,
 "nbformat_minor": 2
}
