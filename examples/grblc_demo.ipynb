{
 "cells": [
  {
   "cell_type": "code",
   "execution_count": 1,
   "metadata": {},
   "outputs": [],
   "source": [
    "# imports\n",
    "\n",
    "import sys\n",
    "import os\n",
    "\n",
    "import pandas as pd\n",
    "\n",
    "import grblc\n",
    "\n",
    "from grblc.evolution.lightcurve import Lightcurve"
   ]
  },
  {
   "cell_type": "code",
   "execution_count": 2,
   "metadata": {},
   "outputs": [],
   "source": [
    "# run this the first time you use grblc to download SFD maps\n",
    "\n",
    "# import grblc.convert.sfd\n",
    "# grblc.convert.sfd.fetch()"
   ]
  },
  {
   "cell_type": "code",
   "execution_count": 3,
   "metadata": {},
   "outputs": [],
   "source": [
    "# # convert to AB system and correct for extinction\n",
    "\n",
    "# import grblc.convert as cv\n",
    "\n",
    "# info = pd.read_csv('data/grblist.csv', sep=',', index_col='grb')\n",
    "\n",
    "# grb = '970228A'\n",
    "\n",
    "# cv.correctGRB(grb = grb,\n",
    "#             ra = info.loc[grb, 'ra'],\n",
    "#             dec = info.loc[grb, 'dec'],\n",
    "#             path = 'converted/970228A_magAB_extcorr.txt',\n",
    "#             save_in_folder = 'converted/',\n",
    "#             debug = False\n",
    "#             )"
   ]
  },
  {
   "cell_type": "code",
   "execution_count": 4,
   "metadata": {},
   "outputs": [
    {
     "name": "stdout",
     "output_type": "stream",
     "text": [
      "   time_sec        mag  mag_err   band band_appx system        telescope  \\\n",
      "1  2.252853  20.232832    0.270  white     white     AB  NGSO/Swift/UVOT   \n",
      "2  2.587935  21.060000    0.430      U         U     AB  NGSO/Swift/UVOT   \n",
      "7  2.969416  20.352832    0.290  white     white     AB  NGSO/Swift/UVOT   \n",
      "8  2.971229  20.840000    0.595   UVM2      UVM2     AB  NGSO/Swift/UVOT   \n",
      "9  3.045401  20.300000    0.455   UVW2      UVW2     AB  NGSO/Swift/UVOT   \n",
      "\n",
      "  extcorr          source flag  \n",
      "1       y           13248   no  \n",
      "2       y  arXiv1401.3774   no  \n",
      "7       y           13248   no  \n",
      "8       y  arXiv1401.3774   no  \n",
      "9       y  arXiv1401.3774   no  \n"
     ]
    },
    {
     "data": {
      "application/vnd.plotly.v1+json": {
       "config": {
        "plotlyServerURL": "https://plot.ly"
       },
       "data": [
        {
         "customdata": [
          [
           "NGSO/Swift/UVOT"
          ],
          [
           "NGSO/Swift/UVOT"
          ],
          [
           "NGSO/Swift/UVOT"
          ]
         ],
         "error_y": {
          "array": [
           0.27,
           0.29,
           0.15
          ]
         },
         "hovertemplate": "color=white<br>x=%{x}<br>y=%{y}<br>telescope=%{customdata[0]}<extra></extra>",
         "legendgroup": "white",
         "marker": {
          "color": "rgb(228,26,28)",
          "symbol": "circle"
         },
         "mode": "markers",
         "name": "white",
         "orientation": "v",
         "showlegend": true,
         "type": "scatter",
         "x": [
          0.3527328606468841,
          0.47267103147607287,
          0.5778538959126386
         ],
         "xaxis": "x",
         "y": [
          20.232831849454957,
          20.352831849454954,
          20.092831849454956
         ],
         "yaxis": "y"
        },
        {
         "customdata": [
          [
           "NGSO/Swift/UVOT"
          ],
          [
           "NGSO/Swift/UVOT"
          ],
          [
           "NGSO/Swift/UVOT"
          ],
          [
           "NGSO/Swift/UVOT"
          ],
          [
           "NGSO/Swift/UVOT"
          ]
         ],
         "error_y": {
          "array": [
           0.43,
           0.37,
           0.24,
           0.34,
           0.155
          ]
         },
         "hovertemplate": "color=U<br>x=%{x}<br>y=%{y}<br>telescope=%{customdata[0]}<extra></extra>",
         "legendgroup": "U",
         "marker": {
          "color": "rgb(55,126,184)",
          "symbol": "circle"
         },
         "mode": "markers",
         "name": "U",
         "orientation": "v",
         "showlegend": true,
         "type": "scatter",
         "x": [
          0.4129534226608082,
          0.5743564334699011,
          0.6332497274499178,
          0.6507181038345895,
          0.7810502868412609
         ],
         "xaxis": "x",
         "y": [
          21.06,
          21.08,
          21.47,
          21.41,
          23
         ],
         "yaxis": "y"
        },
        {
         "customdata": [
          [
           "NGSO/Swift/UVOT"
          ],
          [
           "NGSO/Swift/UVOT"
          ],
          [
           "NGSO/Swift/UVOT"
          ]
         ],
         "error_y": {
          "array": [
           0.595,
           0.4,
           0.21
          ]
         },
         "hovertemplate": "color=UVM2<br>x=%{x}<br>y=%{y}<br>telescope=%{customdata[0]}<extra></extra>",
         "legendgroup": "UVM2",
         "marker": {
          "color": "rgb(77,175,74)",
          "symbol": "circle"
         },
         "mode": "markers",
         "name": "UVM2",
         "orientation": "v",
         "showlegend": true,
         "type": "scatter",
         "x": [
          0.4729361906250417,
          0.5770064369623353,
          0.6093801754879872
         ],
         "xaxis": "x",
         "y": [
          20.84,
          20.89,
          21.03
         ],
         "yaxis": "y"
        },
        {
         "customdata": [
          [
           "NGSO/Swift/UVOT"
          ],
          [
           "NGSO/Swift/UVOT"
          ]
         ],
         "error_y": {
          "array": [
           0.455,
           0.175
          ]
         },
         "hovertemplate": "color=UVW2<br>x=%{x}<br>y=%{y}<br>telescope=%{customdata[0]}<extra></extra>",
         "legendgroup": "UVW2",
         "marker": {
          "color": "rgb(152,78,163)",
          "symbol": "circle"
         },
         "mode": "markers",
         "name": "UVW2",
         "orientation": "v",
         "showlegend": true,
         "type": "scatter",
         "x": [
          0.4836445178077121,
          0.5792711164749818
         ],
         "xaxis": "x",
         "y": [
          20.3,
          20.5
         ],
         "yaxis": "y"
        },
        {
         "customdata": [
          [
           "MKO/Gemini-North(8.1m)/GMOS"
          ],
          [
           "LSO/MPG-ESO(2.2m)/GROND"
          ],
          [
           "LSO/MPG-ESO(2.2m)/GROND"
          ],
          [
           "LSO/MPG-ESO(2.2m)/GROND"
          ],
          [
           "MKO/Gemini-North(8.1m)/GMOS"
          ],
          [
           "LSO/MPG-ESO(2.2m)/GROND"
          ],
          [
           "LSO/MPG-ESO(2.2m)/GROND"
          ],
          [
           "PO/60inches/SEDM"
          ],
          [
           "ORM/NOT(2.56m)/MOSCA"
          ],
          [
           "LSO/MPG-ESO(2.2m)/GROND"
          ],
          [
           "LSO/MPG-ESO(2.2m)/GROND"
          ],
          [
           "ORM/NOT(2.56m)/MOSCA"
          ],
          [
           "ORM/GTC(10.4m)/OSIRIS"
          ],
          [
           "ORM/NOT(2.56m)/ALFOSC"
          ],
          [
           "MKO/Gemini-North(8.1m)/GMOS"
          ],
          [
           "ORM/NOT(2.56m)/ALFOSC"
          ],
          [
           "ORM/TNG(3.58m)/LRS"
          ],
          [
           "ORM/NOT(2.56m)/ALFOSC"
          ],
          [
           "ORM/NOT(2.56m)/ALFOSC"
          ],
          [
           "LSO/MPG-ESO(2.2m)/GROND"
          ],
          [
           "ORM/TNG(3.58m)/LRS"
          ],
          [
           "ORM/NOT(2.56m)/StanCam"
          ],
          [
           "LSO/MPG-ESO(2.2m)/GROND"
          ],
          [
           "ORM/TNG(3.58m)/LRS"
          ],
          [
           "ORM/TNG(3.58m)/LRS"
          ],
          [
           "ORM/GTC(10.4m)/OSIRIS"
          ],
          [
           "ORM/NOT(2.56m)/StanCam"
          ],
          [
           "ORM/GTC(10.4m)/OSIRIS"
          ],
          [
           "PO/60inches/SEDM"
          ],
          [
           "MKO/Gemini-North(8.1m)/GMOS"
          ],
          [
           "PO/60inches/SEDM"
          ],
          [
           "ORM/NOT(2.56m)/StanCam"
          ],
          [
           "ORM/NOT(2.56m)/ALFOSC"
          ],
          [
           "LSO/MPG-ESO(2.2m)/GROND"
          ],
          [
           "MKO/Gemini-North(8.1m)/GMOS"
          ],
          [
           "ORM/TNG(3.58m)/LRS"
          ],
          [
           "PO/60inches/SEDM"
          ],
          [
           "PO/60inches/SEDM"
          ],
          [
           "ORM/NOT(2.56m)/ALFOSC"
          ],
          [
           "PO/60inches/SEDM"
          ],
          [
           "ORM/NOT(2.56m)/ALFOSC"
          ],
          [
           "ORM/NOT(2.56m)/MOSCA"
          ],
          [
           "LCO/Magellan2Clay(6.5m)/LDSS-3"
          ],
          [
           "ORM/NOT(2.56m)/MOSCA"
          ],
          [
           "LSO/MPG-ESO(2.2m)/GROND"
          ],
          [
           "LCO/duPont(2.5m)/WFIRC"
          ],
          [
           "ORM/NOT(2.56m)/MOSCA"
          ],
          [
           "PO/60inches/SEDM"
          ],
          [
           "ORM/TNG(3.58m)/LRS"
          ],
          [
           "LCO/Magellan2Clay(6.5m)/LDSS-3"
          ],
          [
           "PO/60inches/SEDM"
          ],
          [
           "MKO/Gemini-North(8.1m)/GMOS"
          ],
          [
           "ORM/NOT(2.56m)/ALFOSC"
          ],
          [
           "ORM/TNG(3.58m)/LRS"
          ],
          [
           "ORM/NOT(2.56m)/ALFOSC"
          ],
          [
           "LSO/MPG-ESO(2.2m)/GROND"
          ],
          [
           "ORM/NOT(2.56m)/ALFOSC"
          ],
          [
           "ORM/NOT(2.56m)/ALFOSC"
          ]
         ],
         "error_y": {
          "array": [
           0.04,
           0.18,
           0.07,
           0.1,
           0.06,
           0.1,
           0.09,
           0.17,
           0.12,
           0.16,
           0.19,
           0.13,
           0.14,
           0.06,
           0.06,
           0.08,
           0.12,
           0.08,
           0.15,
           0.08,
           0.05,
           0.08,
           0.05,
           0.04,
           0.05,
           0.09,
           0.05,
           0.06,
           0.14,
           0.05,
           0.11,
           0.05,
           0.07,
           0.03,
           0.04,
           0.06,
           0.14,
           0.15,
           0.22,
           0.1,
           0.17,
           0.05,
           0.04,
           0.05,
           0.06,
           0.04,
           0.06,
           0.09,
           0.14,
           0.06,
           0.15,
           0.04,
           0.08,
           0.15,
           0.09,
           0.12,
           0.11,
           0.21
          ]
         },
         "hovertemplate": "color=i<br>x=%{x}<br>y=%{y}<br>telescope=%{customdata[0]}<extra></extra>",
         "legendgroup": "i",
         "marker": {
          "color": "rgb(255,127,0)",
          "symbol": "circle"
         },
         "mode": "markers",
         "name": "i",
         "orientation": "v",
         "showlegend": true,
         "type": "scatter",
         "x": [
          0.515099613197996,
          0.678971244340012,
          0.680362643861139,
          0.6815267424703997,
          0.682080384584449,
          0.6822872602396243,
          0.6837157541397818,
          0.6870863078729025,
          0.7103311104647362,
          0.7146422138282287,
          0.7153847113418544,
          0.7287968690003536,
          0.7394627020253045,
          0.7396506751972118,
          0.7430101954674383,
          0.7479353881712588,
          0.7599245774018577,
          0.7686748673738272,
          0.7687129823808793,
          0.7691479124275032,
          0.7721867467616043,
          0.7725179871270629,
          0.7757057991359335,
          0.7809944677038463,
          0.785390411206521,
          0.7853957683979195,
          0.7854232738941495,
          0.7855471030528283,
          0.7859423752191681,
          0.7861502582599699,
          0.7879713244512931,
          0.7893125580974227,
          0.7943849673899698,
          0.7945628099848376,
          0.7945637167533907,
          0.7958954592820972,
          0.7977160350038444,
          0.7990630275967637,
          0.7999715897916424,
          0.8003419982867396,
          0.8012168879456245,
          0.8035751240894119,
          0.8037071163590512,
          0.8057306635440252,
          0.8057349800312316,
          0.8058132750488418,
          0.806731383978143,
          0.8069967236835608,
          0.8076856979440377,
          0.8078113431077928,
          0.8079498583354622,
          0.808693344244121,
          0.8095362255326639,
          0.8120914642971264,
          0.8136935625824622,
          0.8146902478859481,
          0.8159075332229762,
          0.8186011871341874
         ],
         "xaxis": "x",
         "y": [
          20.93,
          22.01,
          22.13,
          22.27,
          22.16,
          21.235315722344964,
          22.32,
          22.23,
          22.48,
          22.5,
          22.59,
          22.37,
          22.33,
          22.35,
          22.29,
          22.18,
          21.73517610496901,
          21.56,
          21.235315722344964,
          21.56,
          21.47517610496901,
          21.52,
          21.49,
          21.33517610496901,
          21.32517610496901,
          21.2,
          21.34,
          21.27,
          21.21,
          21.29,
          21.26,
          21.35,
          21.32,
          21.27,
          21.24,
          21.19517610496901,
          21.22,
          21.27,
          21.46,
          21.33,
          21.41,
          21.29,
          21.33,
          21.35,
          21.47,
          21.41,
          21.39,
          21.5,
          21.44517610496901,
          21.4,
          21.59,
          21.62,
          21.63,
          21.58517610496901,
          21.98,
          22.06,
          22.08,
          22.15
         ],
         "yaxis": "y"
        },
        {
         "customdata": [
          [
           "MKO/UKIRT(3.8m)/WFCAM"
          ],
          [
           "MKO/UKIRT(3.8m)/WFCAM"
          ],
          [
           "MKO/UKIRT(3.8m)/WFCAM"
          ],
          [
           "MKO/UKIRT(3.8m)/WFCAM"
          ],
          [
           "CAHA/3.5m/Omega-2000"
          ],
          [
           "PO/Hale(200inches)/WIRC"
          ],
          [
           "PO/Hale(200inches)/WIRC"
          ],
          [
           "CAHA/3.5m/Omega-2000"
          ],
          [
           "MKO/UKIRT(3.8m)/WFCAM"
          ],
          [
           "MKO/Gemini-North(8.1m)/NIRI"
          ],
          [
           "MKO/UKIRT(3.8m)/WFCAM"
          ]
         ],
         "error_y": {
          "array": [
           0.06,
           0.07,
           0.07,
           0.07,
           0.17,
           0.16,
           0.2,
           0.2,
           0.24,
           0.11,
           0.15
          ]
         },
         "hovertemplate": "color=J<br>x=%{x}<br>y=%{y}<br>telescope=%{customdata[0]}<extra></extra>",
         "legendgroup": "J",
         "marker": {
          "color": "rgb(255,255,51)",
          "symbol": "circle"
         },
         "mode": "markers",
         "name": "J",
         "orientation": "v",
         "showlegend": true,
         "type": "scatter",
         "x": [
          0.563684901762153,
          0.5685677089645195,
          0.5730418914155009,
          0.5771042723221537,
          0.7722393237574295,
          0.7731773078798583,
          0.773179912808359,
          0.7755932230482354,
          0.781631482304274,
          0.786190930849195,
          0.802853744947291
         ],
         "xaxis": "x",
         "y": [
          20.2,
          20.33,
          20.36,
          20.41,
          21.6,
          21.68,
          20.56553001378596,
          21.83,
          21.75,
          21.96,
          21.9
         ],
         "yaxis": "y"
        },
        {
         "customdata": [
          [
           "NGSO/Swift/UVOT"
          ],
          [
           "NGSO/Swift/UVOT"
          ],
          [
           "NGSO/Swift/UVOT"
          ]
         ],
         "error_y": {
          "array": [
           0.405,
           0.325,
           0.195
          ]
         },
         "hovertemplate": "color=UVW1<br>x=%{x}<br>y=%{y}<br>telescope=%{customdata[0]}<extra></extra>",
         "legendgroup": "UVW1",
         "marker": {
          "color": "rgb(166,86,40)",
          "symbol": "circle"
         },
         "mode": "markers",
         "name": "UVW1",
         "orientation": "v",
         "showlegend": true,
         "type": "scatter",
         "x": [
          0.5724955434077585,
          0.6123804858473337,
          0.6443847116704923
         ],
         "xaxis": "x",
         "y": [
          21.43,
          21.56,
          21.47
         ],
         "yaxis": "y"
        },
        {
         "customdata": [
          [
           "MKO/UKIRT(3.8m)/WFCAM"
          ],
          [
           "MKO/UKIRT(3.8m)/WFCAM"
          ],
          [
           "MKO/UKIRT(3.8m)/WFCAM"
          ],
          [
           "MKO/UKIRT(3.8m)/WFCAM"
          ],
          [
           "MKO/UKIRT(3.8m)/WFCAM"
          ],
          [
           "MKO/UKIRT(3.8m)/WFCAM"
          ]
         ],
         "error_y": {
          "array": [
           0.09,
           0.09,
           0.11,
           0.1,
           0.42,
           0.31
          ]
         },
         "hovertemplate": "color=H<br>x=%{x}<br>y=%{y}<br>telescope=%{customdata[0]}<extra></extra>",
         "legendgroup": "H",
         "marker": {
          "color": "rgb(247,129,191)",
          "symbol": "circle"
         },
         "mode": "markers",
         "name": "H",
         "orientation": "v",
         "showlegend": true,
         "type": "scatter",
         "x": [
          0.5812036329710074,
          0.5846473746297893,
          0.5878350299415436,
          0.5907635167888283,
          0.6959228997602911,
          0.7338837380421542
         ],
         "xaxis": "x",
         "y": [
          20.29,
          20.32,
          20.51,
          20.34,
          21.65,
          22.29
         ],
         "yaxis": "y"
        },
        {
         "customdata": [
          [
           "MKO/Gemini-North(8.1m)/GMOS"
          ],
          [
           "LSO/MPG-ESO(2.2m)/GROND"
          ],
          [
           "LSO/MPG-ESO(2.2m)/GROND"
          ],
          [
           "LSO/MPG-ESO(2.2m)/GROND"
          ],
          [
           "MKO/Gemini-North(8.1m)/GMOS"
          ],
          [
           "LSO/MPG-ESO(2.2m)/GROND"
          ],
          [
           "LSO/MPG-ESO(2.2m)/GROND"
          ],
          [
           "LSO/MPG-ESO(2.2m)/GROND"
          ],
          [
           "PO/60inches/SEDM"
          ],
          [
           "ORM/NOT(2.56m)/MOSCA"
          ],
          [
           "LSO/MPG-ESO(2.2m)/GROND"
          ],
          [
           "LSO/MPG-ESO(2.2m)/GROND"
          ],
          [
           "ORM/NOT(2.56m)/MOSCA"
          ],
          [
           "ORM/NOT(2.56m)/ALFOSC"
          ],
          [
           "MKO/Gemini-North(8.1m)/GMOS"
          ],
          [
           "ORM/TNG(3.58m)/LRS"
          ],
          [
           "ORM/TNG(3.58m)/LRS"
          ],
          [
           "LSO/MPG-ESO(2.2m)/GROND"
          ],
          [
           "ORM/TNG(3.58m)/LRS"
          ],
          [
           "LSO/MPG-ESO(2.2m)/GROND"
          ],
          [
           "ORM/TNG(3.58m)/LRS"
          ],
          [
           "MKO/Gemini-North(8.1m)/GMOS"
          ],
          [
           "ORM/TNG(3.58m)/LRS"
          ],
          [
           "ORM/GTC(10.4m)/OSIRIS"
          ],
          [
           "MKO/Gemini-North(8.1m)/GMOS"
          ],
          [
           "ORM/NOT(2.56m)/ALFOSC"
          ],
          [
           "LSO/MPG-ESO(2.2m)/GROND"
          ],
          [
           "MKO/Gemini-North(8.1m)/GMOS"
          ],
          [
           "ORM/TNG(3.58m)/LRS"
          ],
          [
           "MKO/Gemini-North(8.1m)/GMOS"
          ],
          [
           "ORM/NOT(2.56m)/ALFOSC"
          ],
          [
           "ORM/NOT(2.56m)/MOSCA"
          ],
          [
           "MKO/Gemini-North(8.1m)/GMOS"
          ],
          [
           "LCO/Magellan2Clay(6.5m)/LDSS-3"
          ],
          [
           "LSO/MPG-ESO(2.2m)/GROND"
          ],
          [
           "ORM/NOT(2.56m)/MOSCA"
          ],
          [
           "LCO/duPont(2.5m)/WFIRC"
          ],
          [
           "ORM/NOT(2.56m)/MOSCA"
          ],
          [
           "ORM/TNG(3.58m)/LRS"
          ],
          [
           "MKO/Gemini-North(8.1m)/GMOS"
          ],
          [
           "MKO/Gemini-North(8.1m)/GMOS"
          ],
          [
           "ORM/NOT(2.56m)/ALFOSC"
          ],
          [
           "ORM/TNG(3.58m)/LRS"
          ],
          [
           "LSO/MPG-ESO(2.2m)/GROND"
          ],
          [
           "MKO/Gemini-North(8.1m)/GMOS"
          ],
          [
           "ORM/NOT(2.56m)/ALFOSC"
          ]
         ],
         "error_y": {
          "array": [
           0.04,
           0.14,
           0.07,
           0.05,
           0.05,
           0.05,
           0.07,
           0.08,
           0.1,
           0.08,
           0.09,
           0.12,
           0.06,
           0.06,
           0.06,
           0.1,
           0.08,
           0.05,
           0.04,
           0.04,
           0.04,
           0.1,
           0.05,
           0.14,
           0.05,
           0.07,
           0.04,
           0.05,
           0.07,
           0.06,
           0.08,
           0.05,
           0.04,
           0.04,
           0.04,
           0.08,
           0.05,
           0.07,
           0.14,
           0.04,
           0.08,
           0.07,
           0.15,
           0.11,
           0.11,
           0.47
          ]
         },
         "hovertemplate": "color=r<br>x=%{x}<br>y=%{y}<br>telescope=%{customdata[0]}<extra></extra>",
         "legendgroup": "r",
         "marker": {
          "color": "rgb(153,153,153)",
          "symbol": "circle"
         },
         "mode": "markers",
         "name": "r",
         "orientation": "v",
         "showlegend": true,
         "type": "scatter",
         "x": [
          0.6010725602221849,
          0.678971244340012,
          0.680362643861139,
          0.6815267424703997,
          0.682080384584449,
          0.6822872602396243,
          0.6826382165460133,
          0.6842403278380542,
          0.6876468253562159,
          0.7107218363724256,
          0.7146422138282287,
          0.7153847113418544,
          0.7291293238032361,
          0.7401460662393309,
          0.7429403908568799,
          0.7479975016833045,
          0.7600442833688558,
          0.7691479124275032,
          0.7722697448012831,
          0.7757057991359335,
          0.7809451416807945,
          0.7833226653565786,
          0.7854390746335531,
          0.785541642228859,
          0.7861388691915254,
          0.7911220066129173,
          0.7945628099848376,
          0.794604633323486,
          0.7959262165134903,
          0.7987744834382116,
          0.8012428183437036,
          0.8035479249936759,
          0.8036278857141675,
          0.8036938092955389,
          0.8057349800312316,
          0.805754348222424,
          0.8057768816592277,
          0.8076875485571492,
          0.807697212821854,
          0.8077488837561602,
          0.8086816051949618,
          0.8095474280054249,
          0.8121224627801221,
          0.8146902478859481,
          0.8159505622336585,
          0.8186212168956677
         ],
         "xaxis": "x",
         "y": [
          21.11,
          22.19,
          22.17,
          22.02,
          22.1,
          21.50283568840308,
          22.22,
          22.12,
          22.28,
          22.28,
          22.34,
          22.47,
          22.23,
          22.07,
          22.12,
          21.76120132948919,
          21.55120132948919,
          21.48,
          21.39120132948919,
          21.33,
          21.30120132948919,
          21.41,
          21.161201329489188,
          21.37,
          21.26,
          21.23,
          21.21,
          21.27,
          21.361201329489187,
          21.32,
          21.36,
          21.48,
          21.51,
          21.55,
          21.65,
          21.54,
          21.58,
          21.79,
          21.69120132948919,
          21.73,
          21.77,
          21.96,
          21.76120132948919,
          22.43,
          22.41,
          22.39
         ],
         "yaxis": "y"
        },
        {
         "customdata": [
          [
           "Zadko/1m/Andor"
          ],
          [
           "CrAO/AZT-11/PL230"
          ],
          [
           "CrAO/AZT-11/PL230"
          ],
          [
           "CrAO/AZT-11/PL230"
          ],
          [
           "CrAO/AZT-11/PL230"
          ],
          [
           "PAO/VLT(8.2m)/FORS2"
          ],
          [
           "PAO/VLT(8.2m)/FORS2"
          ],
          [
           "ORM/NOT(2.56m)/StanCam"
          ],
          [
           "PAO/VLT(8.2m)/FORS2"
          ],
          [
           "Sayan/AZT-33IK(1.6m)/E2V-CCD30-11"
          ],
          [
           "PAO/VLT(8.2m)/FORS2"
          ],
          [
           "ORM/NOT(2.56m)/StanCam"
          ],
          [
           "PAO/VLT(8.2m)/FORS2"
          ],
          [
           "PAO/VLT(8.2m)/FORS2"
          ],
          [
           "PAO/VLT(8.2m)/FORS2"
          ]
         ],
         "error_y": {
          "array": [
           0.2,
           0.3,
           0.12,
           0.03,
           0.11,
           0.02,
           0.04,
           0.1,
           0.08,
           0.34,
           0.08,
           0.06,
           0.03,
           0.05,
           0.04
          ]
         },
         "hovertemplate": "color=R<br>x=%{x}<br>y=%{y}<br>telescope=%{customdata[0]}<extra></extra>",
         "legendgroup": "R",
         "marker": {
          "color": "rgb(228,26,28)",
          "symbol": "circle"
         },
         "mode": "markers",
         "name": "R",
         "orientation": "v",
         "showlegend": true,
         "type": "scatter",
         "x": [
          0.6211297111863844,
          0.6668282820834853,
          0.7083658575504318,
          0.7083730312731968,
          0.7389582906894698,
          0.7489485410482483,
          0.7691212513592873,
          0.7724531522891901,
          0.7785431809049366,
          0.7828533250094342,
          0.783384532167164,
          0.7853610245490454,
          0.8025391433371749,
          0.8047600018894872,
          0.8077660814223083
         ],
         "xaxis": "x",
         "y": [
          20.995083252007152,
          20.43489582569808,
          19.10489582569808,
          20.67489582569808,
          19.28489582569808,
          21.704621154402165,
          21.27462115440217,
          21.45,
          21.144621154402166,
          20.08489582569808,
          21.054621154402167,
          21.25,
          21.214621154402167,
          21.234621154402166,
          21.374621154402167
         ],
         "yaxis": "y"
        },
        {
         "customdata": [
          [
           "NGSO/Swift/UVOT"
          ],
          [
           "PAO/VLT(8.2m)/FORS2"
          ],
          [
           "PAO/VLT(8.2m)/FORS2"
          ],
          [
           "PAO/VLT(8.2m)/FORS2"
          ],
          [
           "NGSO/Swift/UVOT"
          ],
          [
           "PAO/VLT(8.2m)/FORS2"
          ],
          [
           "PAO/VLT(8.2m)/FORS2"
          ],
          [
           "PAO/VLT(8.2m)/FORS2"
          ]
         ],
         "error_y": {
          "array": [
           0.335,
           0.1,
           0.08,
           0.2,
           0.315,
           0.06,
           0.06,
           0.09
          ]
         },
         "hovertemplate": "color=B<br>x=%{x}<br>y=%{y}<br>telescope=%{customdata[0]}<extra></extra>",
         "legendgroup": "B",
         "marker": {
          "color": "rgb(55,126,184)",
          "symbol": "circle"
         },
         "mode": "markers",
         "name": "B",
         "orientation": "v",
         "showlegend": true,
         "type": "scatter",
         "x": [
          0.6349549688653099,
          0.7488500488218015,
          0.7604954420442708,
          0.7833754521218185,
          0.798107263965569,
          0.8025310498918448,
          0.8047632030674401,
          0.8077613360204987
         ],
         "xaxis": "x",
         "y": [
          20.95,
          23.31847021416744,
          22.92847021416744,
          22.65847021416744,
          21.54,
          23.41847021416744,
          23.36847021416744,
          23.58847021416744
         ],
         "yaxis": "y"
        },
        {
         "customdata": [
          [
           "ORM/NOT(2.56m)/MOSCA"
          ],
          [
           "PAO/VLT(8.2m)/FORS2"
          ],
          [
           "PAO/VLT(8.2m)/FORS2"
          ],
          [
           "PAO/VLT(8.2m)/FORS2"
          ],
          [
           "PAO/VLT(8.2m)/FORS2"
          ],
          [
           "PAO/VLT(8.2m)/FORS2"
          ],
          [
           "PAO/VLT(8.2m)/FORS2"
          ],
          [
           "PAO/VLT(8.2m)/FORS2"
          ]
         ],
         "error_y": {
          "array": [
           0.08,
           0.06,
           0.08,
           0.06,
           0.08,
           0.05,
           0.07,
           0.05
          ]
         },
         "hovertemplate": "color=I<br>x=%{x}<br>y=%{y}<br>telescope=%{customdata[0]}<extra></extra>",
         "legendgroup": "I",
         "marker": {
          "color": "rgb(77,175,74)",
          "symbol": "circle"
         },
         "mode": "markers",
         "name": "I",
         "orientation": "v",
         "showlegend": true,
         "type": "scatter",
         "x": [
          0.6731494079431805,
          0.7489128518228994,
          0.76914703461944,
          0.7785485402569166,
          0.783386801734135,
          0.8025402993514339,
          0.8047621360492533,
          0.8077679953022529
         ],
         "xaxis": "x",
         "y": [
          22.19,
          21.56050235118384,
          21.15050235118384,
          20.87050235118384,
          20.78050235118384,
          20.84050235118384,
          20.79050235118384,
          20.87050235118384
         ],
         "yaxis": "y"
        },
        {
         "customdata": [
          [
           "LSO/MPG-ESO(2.2m)/GROND"
          ],
          [
           "LSO/MPG-ESO(2.2m)/GROND"
          ],
          [
           "LSO/MPG-ESO(2.2m)/GROND"
          ],
          [
           "MKO/Gemini-North(8.1m)/GMOS"
          ],
          [
           "LSO/MPG-ESO(2.2m)/GROND"
          ],
          [
           "LSO/MPG-ESO(2.2m)/GROND"
          ],
          [
           "LSO/MPG-ESO(2.2m)/GROND"
          ],
          [
           "PO/60inches/SEDM"
          ],
          [
           "LSO/MPG-ESO(2.2m)/GROND"
          ],
          [
           "LSO/MPG-ESO(2.2m)/GROND"
          ],
          [
           "MKO/Gemini-North(8.1m)/GMOS"
          ],
          [
           "ORM/TNG(3.58m)/LRS"
          ],
          [
           "ORM/TNG(3.58m)/LRS"
          ],
          [
           "LSO/MPG-ESO(2.2m)/GROND"
          ],
          [
           "ORM/TNG(3.58m)/LRS"
          ],
          [
           "LSO/MPG-ESO(2.2m)/GROND"
          ],
          [
           "ORM/TNG(3.58m)/LRS"
          ],
          [
           "ORM/TNG(3.58m)/LRS"
          ],
          [
           "ORM/GTC(10.4m)/OSIRIS"
          ],
          [
           "MKO/Gemini-North(8.1m)/GMOS"
          ],
          [
           "LSO/MPG-ESO(2.2m)/GROND"
          ],
          [
           "MKO/Gemini-North(8.1m)/GMOS"
          ],
          [
           "ORM/TNG(3.58m)/LRS"
          ],
          [
           "LSO/MPG-ESO(2.2m)/GROND"
          ],
          [
           "ORM/TNG(3.58m)/LRS"
          ],
          [
           "LSO/MPG-ESO(2.2m)/GROND"
          ]
         ],
         "error_y": {
          "array": [
           0.1,
           0.05,
           0.07,
           0.06,
           0.05,
           0.08,
           0.06,
           0.1,
           0.1,
           0.16,
           0.06,
           0.11,
           0.11,
           0.1,
           0.09,
           0.08,
           0.07,
           0.06,
           0.11,
           0.07,
           0.04,
           0.07,
           0.15,
           0.05,
           0.18,
           0.2
          ]
         },
         "hovertemplate": "color=g<br>x=%{x}<br>y=%{y}<br>telescope=%{customdata[0]}<extra></extra>",
         "legendgroup": "g",
         "marker": {
          "color": "rgb(152,78,163)",
          "symbol": "circle"
         },
         "mode": "markers",
         "name": "g",
         "orientation": "v",
         "showlegend": true,
         "type": "scatter",
         "x": [
          0.678971244340012,
          0.680362643861139,
          0.6815267424703997,
          0.6817282157639766,
          0.6822872602396243,
          0.6826382165460133,
          0.6842403278380542,
          0.688165814744953,
          0.7146422138282287,
          0.7153847113418544,
          0.7428699307689491,
          0.7479091253796674,
          0.7600989918554334,
          0.7691479124275032,
          0.772342591616256,
          0.7757057991359335,
          0.7781733347791566,
          0.785330497849403,
          0.7855365217675166,
          0.7861207615740866,
          0.7945628099848376,
          0.7945857547378357,
          0.7958558649423015,
          0.8057349800312316,
          0.8077077638937868,
          0.8146902478859481
         ],
         "xaxis": "x",
         "y": [
          22.21,
          22.12,
          22.15,
          22.22,
          21.519513203617915,
          22.11,
          22.18,
          22.14,
          22.59,
          22.79,
          22.86,
          22.690691643802904,
          22.560691643802905,
          22.38,
          22.300691643802903,
          22.35,
          22.240691643802904,
          22.270691643802905,
          22.14,
          22.16,
          22.22,
          22.19,
          22.470691643802905,
          22.82,
          22.980691643802903,
          23.29
         ],
         "yaxis": "y"
        },
        {
         "customdata": [
          [
           "LSO/MPG-ESO(2.2m)/GROND"
          ],
          [
           "LSO/MPG-ESO(2.2m)/GROND"
          ],
          [
           "MKO/Gemini-North(8.1m)/GMOS"
          ],
          [
           "LSO/MPG-ESO(2.2m)/GROND"
          ],
          [
           "LSO/MPG-ESO(2.2m)/GROND"
          ],
          [
           "LSO/MPG-ESO(2.2m)/GROND"
          ],
          [
           "MKO/Gemini-North(8.1m)/GMOS"
          ],
          [
           "LSO/MPG-ESO(2.2m)/GROND"
          ],
          [
           "CAHA/3.5m/Omega-2000"
          ],
          [
           "LSO/MPG-ESO(2.2m)/GROND"
          ],
          [
           "MKO/UKIRT(3.8m)/WFCAM"
          ],
          [
           "ORM/TNG(3.58m)/LRS"
          ],
          [
           "ORM/GTC(10.4m)/OSIRIS"
          ],
          [
           "MKO/Gemini-North(8.1m)/GMOS"
          ],
          [
           "MKO/Gemini-North(8.1m)/GMOS"
          ],
          [
           "LSO/MPG-ESO(2.2m)/GROND"
          ],
          [
           "ORM/NOT(2.56m)/MOSCA"
          ],
          [
           "LSO/MPG-ESO(2.2m)/GROND"
          ],
          [
           "ORM/NOT(2.56m)/MOSCA"
          ],
          [
           "MKO/Gemini-North(8.1m)/GMOS"
          ],
          [
           "LSO/MPG-ESO(2.2m)/GROND"
          ]
         ],
         "error_y": {
          "array": [
           0.2,
           0.11,
           0.11,
           0.17,
           0.16,
           0.27,
           0.07,
           0.15,
           0.08,
           0.12,
           0.13,
           0.08,
           0.07,
           0.06,
           0.04,
           0.07,
           0.15,
           0.07,
           0.12,
           0.06,
           0.12
          ]
         },
         "hovertemplate": "color=z<br>x=%{x}<br>y=%{y}<br>telescope=%{customdata[0]}<extra></extra>",
         "legendgroup": "z",
         "marker": {
          "color": "rgb(255,127,0)",
          "symbol": "circle"
         },
         "mode": "markers",
         "name": "z",
         "orientation": "v",
         "showlegend": true,
         "type": "scatter",
         "x": [
          0.678971244340012,
          0.6815174734791584,
          0.6827709608537564,
          0.6842403278380542,
          0.7146422138282287,
          0.7153847113418544,
          0.743079348567001,
          0.7691479124275032,
          0.7753115666914087,
          0.7757057991359335,
          0.781689882038855,
          0.7854970930504162,
          0.7855530015317264,
          0.7861650549361962,
          0.7945143890376695,
          0.7945628099848376,
          0.8057063379058719,
          0.8057349800312316,
          0.8067057380584419,
          0.8087009141247254,
          0.8146902478859481
         ],
         "xaxis": "x",
         "y": [
          22.01,
          22.09,
          22.16,
          22.37,
          22.17,
          22.28,
          22.59,
          21.86,
          21.93,
          21.78,
          21.44,
          21.594198432774714,
          21.58,
          21.63,
          21.48,
          21.48,
          21.74,
          21.62,
          21.59,
          21.86,
          21.81
         ],
         "yaxis": "y"
        },
        {
         "customdata": [
          [
           "PAO/VLT(8.2m)/FORS2"
          ],
          [
           "PAO/VLT(8.2m)/FORS2"
          ],
          [
           "PAO/VLT(8.2m)/FORS2"
          ],
          [
           "PAO/VLT(8.2m)/FORS2"
          ],
          [
           "PAO/VLT(8.2m)/FORS2"
          ],
          [
           "PAO/VLT(8.2m)/FORS2"
          ]
         ],
         "error_y": {
          "array": [
           0.03,
           0.08,
           0.08,
           0.03,
           0.06,
           0.07
          ]
         },
         "hovertemplate": "color=V<br>x=%{x}<br>y=%{y}<br>telescope=%{customdata[0]}<extra></extra>",
         "legendgroup": "V",
         "marker": {
          "color": "rgb(255,255,51)",
          "symbol": "circle"
         },
         "mode": "markers",
         "name": "V",
         "orientation": "v",
         "showlegend": true,
         "type": "scatter",
         "x": [
          0.7489128518228994,
          0.7785405008611503,
          0.7833799925000375,
          0.8025379872748694,
          0.8047589347479015,
          0.807765124432391
         ],
         "xaxis": "x",
         "y": [
          21.78398897906229,
          21.23398897906229,
          21.18398897906229,
          21.56398897906229,
          21.51398897906229,
          21.75398897906229
         ],
         "yaxis": "y"
        },
        {
         "customdata": [
          [
           "CAHA/3.5m/Omega-2000"
          ]
         ],
         "error_y": {
          "array": [
           0.17
          ]
         },
         "hovertemplate": "color=Y<br>x=%{x}<br>y=%{y}<br>telescope=%{customdata[0]}<extra></extra>",
         "legendgroup": "Y",
         "marker": {
          "color": "rgb(166,86,40)",
          "symbol": "circle"
         },
         "mode": "markers",
         "name": "Y",
         "orientation": "v",
         "showlegend": true,
         "type": "scatter",
         "x": [
          0.7754379108188186
         ],
         "xaxis": "x",
         "y": [
          21.93
         ],
         "yaxis": "y"
        },
        {
         "customdata": [
          [
           "MKO/Gemini-North(8.1m)/NIRI"
          ]
         ],
         "error_y": {
          "array": [
           0.14
          ]
         },
         "hovertemplate": "color=K<br>x=%{x}<br>y=%{y}<br>telescope=%{customdata[0]}<extra></extra>",
         "legendgroup": "K",
         "marker": {
          "color": "rgb(247,129,191)",
          "symbol": "circle"
         },
         "mode": "markers",
         "name": "K",
         "orientation": "v",
         "showlegend": true,
         "type": "scatter",
         "x": [
          0.786096401067906
         ],
         "xaxis": "x",
         "y": [
          21.46
         ],
         "yaxis": "y"
        }
       ],
       "layout": {
        "font": {
         "color": "black",
         "family": "arial",
         "size": 18
        },
        "height": 540,
        "legend": {
         "font": {
          "color": "black",
          "family": "arial",
          "size": 18
         },
         "title": {
          "font": {
           "color": "black",
           "family": "arial",
           "size": 20
          },
          "text": "<b>Bands<b>"
         },
         "tracegroupgap": 0
        },
        "margin": {
         "b": 40,
         "l": 40,
         "r": 40,
         "t": 50
        },
        "plot_bgcolor": "white",
        "template": {
         "data": {
          "bar": [
           {
            "error_x": {
             "color": "#2a3f5f"
            },
            "error_y": {
             "color": "#2a3f5f"
            },
            "marker": {
             "line": {
              "color": "#E5ECF6",
              "width": 0.5
             },
             "pattern": {
              "fillmode": "overlay",
              "size": 10,
              "solidity": 0.2
             }
            },
            "type": "bar"
           }
          ],
          "barpolar": [
           {
            "marker": {
             "line": {
              "color": "#E5ECF6",
              "width": 0.5
             },
             "pattern": {
              "fillmode": "overlay",
              "size": 10,
              "solidity": 0.2
             }
            },
            "type": "barpolar"
           }
          ],
          "carpet": [
           {
            "aaxis": {
             "endlinecolor": "#2a3f5f",
             "gridcolor": "white",
             "linecolor": "white",
             "minorgridcolor": "white",
             "startlinecolor": "#2a3f5f"
            },
            "baxis": {
             "endlinecolor": "#2a3f5f",
             "gridcolor": "white",
             "linecolor": "white",
             "minorgridcolor": "white",
             "startlinecolor": "#2a3f5f"
            },
            "type": "carpet"
           }
          ],
          "choropleth": [
           {
            "colorbar": {
             "outlinewidth": 0,
             "ticks": ""
            },
            "type": "choropleth"
           }
          ],
          "contour": [
           {
            "colorbar": {
             "outlinewidth": 0,
             "ticks": ""
            },
            "colorscale": [
             [
              0,
              "#0d0887"
             ],
             [
              0.1111111111111111,
              "#46039f"
             ],
             [
              0.2222222222222222,
              "#7201a8"
             ],
             [
              0.3333333333333333,
              "#9c179e"
             ],
             [
              0.4444444444444444,
              "#bd3786"
             ],
             [
              0.5555555555555556,
              "#d8576b"
             ],
             [
              0.6666666666666666,
              "#ed7953"
             ],
             [
              0.7777777777777778,
              "#fb9f3a"
             ],
             [
              0.8888888888888888,
              "#fdca26"
             ],
             [
              1,
              "#f0f921"
             ]
            ],
            "type": "contour"
           }
          ],
          "contourcarpet": [
           {
            "colorbar": {
             "outlinewidth": 0,
             "ticks": ""
            },
            "type": "contourcarpet"
           }
          ],
          "heatmap": [
           {
            "colorbar": {
             "outlinewidth": 0,
             "ticks": ""
            },
            "colorscale": [
             [
              0,
              "#0d0887"
             ],
             [
              0.1111111111111111,
              "#46039f"
             ],
             [
              0.2222222222222222,
              "#7201a8"
             ],
             [
              0.3333333333333333,
              "#9c179e"
             ],
             [
              0.4444444444444444,
              "#bd3786"
             ],
             [
              0.5555555555555556,
              "#d8576b"
             ],
             [
              0.6666666666666666,
              "#ed7953"
             ],
             [
              0.7777777777777778,
              "#fb9f3a"
             ],
             [
              0.8888888888888888,
              "#fdca26"
             ],
             [
              1,
              "#f0f921"
             ]
            ],
            "type": "heatmap"
           }
          ],
          "heatmapgl": [
           {
            "colorbar": {
             "outlinewidth": 0,
             "ticks": ""
            },
            "colorscale": [
             [
              0,
              "#0d0887"
             ],
             [
              0.1111111111111111,
              "#46039f"
             ],
             [
              0.2222222222222222,
              "#7201a8"
             ],
             [
              0.3333333333333333,
              "#9c179e"
             ],
             [
              0.4444444444444444,
              "#bd3786"
             ],
             [
              0.5555555555555556,
              "#d8576b"
             ],
             [
              0.6666666666666666,
              "#ed7953"
             ],
             [
              0.7777777777777778,
              "#fb9f3a"
             ],
             [
              0.8888888888888888,
              "#fdca26"
             ],
             [
              1,
              "#f0f921"
             ]
            ],
            "type": "heatmapgl"
           }
          ],
          "histogram": [
           {
            "marker": {
             "pattern": {
              "fillmode": "overlay",
              "size": 10,
              "solidity": 0.2
             }
            },
            "type": "histogram"
           }
          ],
          "histogram2d": [
           {
            "colorbar": {
             "outlinewidth": 0,
             "ticks": ""
            },
            "colorscale": [
             [
              0,
              "#0d0887"
             ],
             [
              0.1111111111111111,
              "#46039f"
             ],
             [
              0.2222222222222222,
              "#7201a8"
             ],
             [
              0.3333333333333333,
              "#9c179e"
             ],
             [
              0.4444444444444444,
              "#bd3786"
             ],
             [
              0.5555555555555556,
              "#d8576b"
             ],
             [
              0.6666666666666666,
              "#ed7953"
             ],
             [
              0.7777777777777778,
              "#fb9f3a"
             ],
             [
              0.8888888888888888,
              "#fdca26"
             ],
             [
              1,
              "#f0f921"
             ]
            ],
            "type": "histogram2d"
           }
          ],
          "histogram2dcontour": [
           {
            "colorbar": {
             "outlinewidth": 0,
             "ticks": ""
            },
            "colorscale": [
             [
              0,
              "#0d0887"
             ],
             [
              0.1111111111111111,
              "#46039f"
             ],
             [
              0.2222222222222222,
              "#7201a8"
             ],
             [
              0.3333333333333333,
              "#9c179e"
             ],
             [
              0.4444444444444444,
              "#bd3786"
             ],
             [
              0.5555555555555556,
              "#d8576b"
             ],
             [
              0.6666666666666666,
              "#ed7953"
             ],
             [
              0.7777777777777778,
              "#fb9f3a"
             ],
             [
              0.8888888888888888,
              "#fdca26"
             ],
             [
              1,
              "#f0f921"
             ]
            ],
            "type": "histogram2dcontour"
           }
          ],
          "mesh3d": [
           {
            "colorbar": {
             "outlinewidth": 0,
             "ticks": ""
            },
            "type": "mesh3d"
           }
          ],
          "parcoords": [
           {
            "line": {
             "colorbar": {
              "outlinewidth": 0,
              "ticks": ""
             }
            },
            "type": "parcoords"
           }
          ],
          "pie": [
           {
            "automargin": true,
            "type": "pie"
           }
          ],
          "scatter": [
           {
            "fillpattern": {
             "fillmode": "overlay",
             "size": 10,
             "solidity": 0.2
            },
            "type": "scatter"
           }
          ],
          "scatter3d": [
           {
            "line": {
             "colorbar": {
              "outlinewidth": 0,
              "ticks": ""
             }
            },
            "marker": {
             "colorbar": {
              "outlinewidth": 0,
              "ticks": ""
             }
            },
            "type": "scatter3d"
           }
          ],
          "scattercarpet": [
           {
            "marker": {
             "colorbar": {
              "outlinewidth": 0,
              "ticks": ""
             }
            },
            "type": "scattercarpet"
           }
          ],
          "scattergeo": [
           {
            "marker": {
             "colorbar": {
              "outlinewidth": 0,
              "ticks": ""
             }
            },
            "type": "scattergeo"
           }
          ],
          "scattergl": [
           {
            "marker": {
             "colorbar": {
              "outlinewidth": 0,
              "ticks": ""
             }
            },
            "type": "scattergl"
           }
          ],
          "scattermapbox": [
           {
            "marker": {
             "colorbar": {
              "outlinewidth": 0,
              "ticks": ""
             }
            },
            "type": "scattermapbox"
           }
          ],
          "scatterpolar": [
           {
            "marker": {
             "colorbar": {
              "outlinewidth": 0,
              "ticks": ""
             }
            },
            "type": "scatterpolar"
           }
          ],
          "scatterpolargl": [
           {
            "marker": {
             "colorbar": {
              "outlinewidth": 0,
              "ticks": ""
             }
            },
            "type": "scatterpolargl"
           }
          ],
          "scatterternary": [
           {
            "marker": {
             "colorbar": {
              "outlinewidth": 0,
              "ticks": ""
             }
            },
            "type": "scatterternary"
           }
          ],
          "surface": [
           {
            "colorbar": {
             "outlinewidth": 0,
             "ticks": ""
            },
            "colorscale": [
             [
              0,
              "#0d0887"
             ],
             [
              0.1111111111111111,
              "#46039f"
             ],
             [
              0.2222222222222222,
              "#7201a8"
             ],
             [
              0.3333333333333333,
              "#9c179e"
             ],
             [
              0.4444444444444444,
              "#bd3786"
             ],
             [
              0.5555555555555556,
              "#d8576b"
             ],
             [
              0.6666666666666666,
              "#ed7953"
             ],
             [
              0.7777777777777778,
              "#fb9f3a"
             ],
             [
              0.8888888888888888,
              "#fdca26"
             ],
             [
              1,
              "#f0f921"
             ]
            ],
            "type": "surface"
           }
          ],
          "table": [
           {
            "cells": {
             "fill": {
              "color": "#EBF0F8"
             },
             "line": {
              "color": "white"
             }
            },
            "header": {
             "fill": {
              "color": "#C8D4E3"
             },
             "line": {
              "color": "white"
             }
            },
            "type": "table"
           }
          ]
         },
         "layout": {
          "annotationdefaults": {
           "arrowcolor": "#2a3f5f",
           "arrowhead": 0,
           "arrowwidth": 1
          },
          "autotypenumbers": "strict",
          "coloraxis": {
           "colorbar": {
            "outlinewidth": 0,
            "ticks": ""
           }
          },
          "colorscale": {
           "diverging": [
            [
             0,
             "#8e0152"
            ],
            [
             0.1,
             "#c51b7d"
            ],
            [
             0.2,
             "#de77ae"
            ],
            [
             0.3,
             "#f1b6da"
            ],
            [
             0.4,
             "#fde0ef"
            ],
            [
             0.5,
             "#f7f7f7"
            ],
            [
             0.6,
             "#e6f5d0"
            ],
            [
             0.7,
             "#b8e186"
            ],
            [
             0.8,
             "#7fbc41"
            ],
            [
             0.9,
             "#4d9221"
            ],
            [
             1,
             "#276419"
            ]
           ],
           "sequential": [
            [
             0,
             "#0d0887"
            ],
            [
             0.1111111111111111,
             "#46039f"
            ],
            [
             0.2222222222222222,
             "#7201a8"
            ],
            [
             0.3333333333333333,
             "#9c179e"
            ],
            [
             0.4444444444444444,
             "#bd3786"
            ],
            [
             0.5555555555555556,
             "#d8576b"
            ],
            [
             0.6666666666666666,
             "#ed7953"
            ],
            [
             0.7777777777777778,
             "#fb9f3a"
            ],
            [
             0.8888888888888888,
             "#fdca26"
            ],
            [
             1,
             "#f0f921"
            ]
           ],
           "sequentialminus": [
            [
             0,
             "#0d0887"
            ],
            [
             0.1111111111111111,
             "#46039f"
            ],
            [
             0.2222222222222222,
             "#7201a8"
            ],
            [
             0.3333333333333333,
             "#9c179e"
            ],
            [
             0.4444444444444444,
             "#bd3786"
            ],
            [
             0.5555555555555556,
             "#d8576b"
            ],
            [
             0.6666666666666666,
             "#ed7953"
            ],
            [
             0.7777777777777778,
             "#fb9f3a"
            ],
            [
             0.8888888888888888,
             "#fdca26"
            ],
            [
             1,
             "#f0f921"
            ]
           ]
          },
          "colorway": [
           "#636efa",
           "#EF553B",
           "#00cc96",
           "#ab63fa",
           "#FFA15A",
           "#19d3f3",
           "#FF6692",
           "#B6E880",
           "#FF97FF",
           "#FECB52"
          ],
          "font": {
           "color": "#2a3f5f"
          },
          "geo": {
           "bgcolor": "white",
           "lakecolor": "white",
           "landcolor": "#E5ECF6",
           "showlakes": true,
           "showland": true,
           "subunitcolor": "white"
          },
          "hoverlabel": {
           "align": "left"
          },
          "hovermode": "closest",
          "mapbox": {
           "style": "light"
          },
          "paper_bgcolor": "white",
          "plot_bgcolor": "#E5ECF6",
          "polar": {
           "angularaxis": {
            "gridcolor": "white",
            "linecolor": "white",
            "ticks": ""
           },
           "bgcolor": "#E5ECF6",
           "radialaxis": {
            "gridcolor": "white",
            "linecolor": "white",
            "ticks": ""
           }
          },
          "scene": {
           "xaxis": {
            "backgroundcolor": "#E5ECF6",
            "gridcolor": "white",
            "gridwidth": 2,
            "linecolor": "white",
            "showbackground": true,
            "ticks": "",
            "zerolinecolor": "white"
           },
           "yaxis": {
            "backgroundcolor": "#E5ECF6",
            "gridcolor": "white",
            "gridwidth": 2,
            "linecolor": "white",
            "showbackground": true,
            "ticks": "",
            "zerolinecolor": "white"
           },
           "zaxis": {
            "backgroundcolor": "#E5ECF6",
            "gridcolor": "white",
            "gridwidth": 2,
            "linecolor": "white",
            "showbackground": true,
            "ticks": "",
            "zerolinecolor": "white"
           }
          },
          "shapedefaults": {
           "line": {
            "color": "#2a3f5f"
           }
          },
          "ternary": {
           "aaxis": {
            "gridcolor": "white",
            "linecolor": "white",
            "ticks": ""
           },
           "baxis": {
            "gridcolor": "white",
            "linecolor": "white",
            "ticks": ""
           },
           "bgcolor": "#E5ECF6",
           "caxis": {
            "gridcolor": "white",
            "linecolor": "white",
            "ticks": ""
           }
          },
          "title": {
           "x": 0.05
          },
          "xaxis": {
           "automargin": true,
           "gridcolor": "white",
           "linecolor": "white",
           "ticks": "",
           "title": {
            "standoff": 15
           },
           "zerolinecolor": "white",
           "zerolinewidth": 2
          },
          "yaxis": {
           "automargin": true,
           "gridcolor": "white",
           "linecolor": "white",
           "ticks": "",
           "title": {
            "standoff": 15
           },
           "zerolinecolor": "white",
           "zerolinewidth": 2
          }
         }
        },
        "title": {
         "font": {
          "size": 24
         },
         "text": "GRB 120422A"
        },
        "width": 960,
        "xaxis": {
         "anchor": "y",
         "domain": [
          0,
          1
         ],
         "linecolor": "black",
         "linewidth": 2.4,
         "mirror": "allticks",
         "showgrid": false,
         "showline": true,
         "showticklabels": true,
         "tickcolor": "black",
         "tickfont": {
          "color": "black",
          "family": "arial",
          "size": 18
         },
         "ticks": "outside",
         "tickwidth": 2.4,
         "title": {
          "font": {
           "color": "black",
           "size": 20
          },
          "text": "<b>log10 Time (s)<b>"
         }
        },
        "yaxis": {
         "anchor": "x",
         "autorange": "reversed",
         "domain": [
          0,
          1
         ],
         "linecolor": "black",
         "linewidth": 2.4,
         "mirror": "allticks",
         "showgrid": false,
         "showline": true,
         "showticklabels": true,
         "tickcolor": "black",
         "tickfont": {
          "color": "black",
          "family": "arial",
          "size": 18
         },
         "ticks": "outside",
         "tickwidth": 2.4,
         "title": {
          "font": {
           "color": "black",
           "size": 20
          },
          "text": "<b>Magnitude<b>"
         }
        }
       }
      }
     },
     "metadata": {},
     "output_type": "display_data"
    }
   ],
   "source": [
    "grb = '120422A'\n",
    "\n",
    "lc = Lightcurve(path = 'data/'+grb+'_magAB_extcorr.txt',\n",
    "                #data_space= 'lin',\n",
    "                name = grb)\n",
    "lc.displayGRB()"
   ]
  },
  {
   "cell_type": "code",
   "execution_count": 5,
   "metadata": {},
   "outputs": [
    {
     "name": "stdout",
     "output_type": "stream",
     "text": [
      "120422A\n",
      "-------\n",
      "band_appx\n",
      "i        58\n",
      "r        46\n",
      "g        26\n",
      "z        21\n",
      "R        12\n",
      "J        10\n",
      "I         8\n",
      "V         6\n",
      "H         6\n",
      "U         5\n",
      "B         4\n",
      "white     3\n",
      "UVW1      3\n",
      "UVM2      3\n",
      "UVW2      2\n",
      "Y         1\n",
      "K         1\n",
      "Name: count, dtype: int64\n",
      "\n",
      " The filter chosen in this GRB:  i , with 58 occurrences.\n",
      "This filter will be considered for rescaling\n",
      "Individual point rescaling:\n",
      "    band  Occur_band  Log10(t)  Resc_fact  Resc_fact_err  Resc_fact_weights\n",
      "0      I           8  0.673149  -0.180000       0.196977           5.076731\n",
      "1      g          26  0.678971  -0.200000       0.205913           4.856429\n",
      "2      r          46  0.678971  -0.180000       0.228035           4.385290\n",
      "3      z          21  0.678971   0.000000       0.269072           3.716471\n",
      "4      g          26  0.680363   0.010000       0.086023          11.624764\n",
      "5      r          46  0.680363  -0.040000       0.098995          10.101525\n",
      "6      z          21  0.681517   0.180000       0.148661           6.726728\n",
      "7      r          46  0.681527   0.250000       0.111803           8.944272\n",
      "8      g          26  0.681527   0.120000       0.122066           8.192319\n",
      "9      g          26  0.681728   0.050000       0.116619           8.574929\n",
      "10     r          46  0.682080   0.060000       0.078102          12.803688\n",
      "11     g          26  0.682287  -0.284197       0.111803           8.944272\n",
      "12     r          46  0.682287  -0.267520       0.111803           8.944272\n",
      "13     r          46  0.682638  -0.984684       0.122066           8.192319\n",
      "14     g          26  0.682638  -0.874684       0.128062           7.808688\n",
      "15     z          21  0.682771  -0.924684       0.148661           6.726728\n",
      "16     z          21  0.684240  -0.050000       0.192354           5.198752\n",
      "17     r          46  0.684240   0.200000       0.120416           8.304548\n",
      "18     g          26  0.684240   0.140000       0.108167           9.245003\n",
      "19     r          46  0.687647  -0.050000       0.197231           5.070201\n",
      "20     g          26  0.688166   0.090000       0.197231           5.070201\n",
      "21     H           6  0.695923   0.580000       0.453100           2.207016\n",
      "22     r          46  0.710722   0.200000       0.144222           6.933752\n",
      "23     r          46  0.714642   0.160000       0.183576           5.447347\n",
      "24     z          21  0.714642   0.330000       0.226274           4.419417\n",
      "25     g          26  0.714642  -0.090000       0.188680           5.299989\n",
      "26     r          46  0.715385   0.120000       0.224722           4.449942\n",
      "27     z          21  0.715385   0.310000       0.330151           3.028913\n",
      "28     g          26  0.715385  -0.200000       0.248395           4.025848\n",
      "29     r          46  0.729129   0.140000       0.143178           6.984303\n",
      "30     H           6  0.733884   0.080000       0.336155           2.974821\n",
      "31     r          46  0.740146   0.280000       0.084853          11.785113\n",
      "32     g          26  0.742870  -0.570000       0.084853          11.785113\n",
      "33     r          46  0.742940   0.170000       0.084853          11.785113\n",
      "34     z          21  0.743079  -0.300000       0.092195          10.846523\n",
      "35     g          26  0.747909  -0.510692       0.136015           7.352146\n",
      "36     r          46  0.747998   0.418799       0.128062           7.808688\n",
      "37     I           8  0.748913   0.619498       0.100000          10.000000\n",
      "38     V           6  0.748913   0.396011       0.085440          11.704115\n",
      "39     R          12  0.748949   0.475379       0.082462          12.126781\n",
      "40     r          46  0.760044   0.183975       0.144222           6.933752\n",
      "41     g          26  0.760099  -0.825516       0.162788           6.142951\n",
      "42     B           4  0.760495  -1.193294       0.144222           6.933752\n",
      "43     R          12  0.769121   0.285379       0.089443          11.180340\n",
      "44     I           8  0.769147   0.409498       0.113137           8.838835\n",
      "45     z          21  0.769148  -0.300000       0.170000           5.882353\n",
      "46     r          46  0.769148   0.080000       0.094340          10.599979\n",
      "47     g          26  0.769148  -0.820000       0.128062           7.808688\n",
      "48     J          10  0.772239  -0.124824       0.177200           5.643326\n",
      "49     r          46  0.772270   0.083975       0.064031          15.617376\n",
      "50     g          26  0.772343  -0.825516       0.102956           9.712859\n",
      "51     R          12  0.772453   0.070000       0.128062           7.808688\n",
      "52     J          10  0.773177  -0.160000       0.178885           5.590170\n",
      "53     z          21  0.775312  -0.440000       0.094340          10.599979\n",
      "54     Y           1  0.775438  -0.440000       0.177200           5.643326\n",
      "55     J          10  0.775593  -0.340000       0.206155           4.850713\n",
      "56     g          26  0.775706  -0.860000       0.094340          10.599979\n",
      "57     z          21  0.775706  -0.290000       0.130000           7.692308\n",
      "58     r          46  0.775706   0.160000       0.064031          15.617376\n",
      "59     g          26  0.778173  -0.750692       0.086023          11.624764\n",
      "60     V           6  0.778541   0.101187       0.089443          11.180340\n",
      "61     R          12  0.778543   0.190555       0.089443          11.180340\n",
      "62     I           8  0.778549   0.464674       0.072111          13.867505\n",
      "63     r          46  0.780945   0.033975       0.056569          17.677670\n",
      "64     U           5  0.781050  -1.664824       0.160078           6.246950\n",
      "65     J          10  0.781631  -0.414824       0.243311           4.109975\n",
      "66     z          21  0.781690  -0.104824       0.136015           7.352146\n",
      "67     R          12  0.782853   1.250280       0.342345           2.921031\n",
      "68     r          46  0.783323  -0.084824       0.111803           8.944272\n",
      "69     B           4  0.783375  -1.333294       0.206155           4.850713\n",
      "70     V           6  0.783380   0.141187       0.094340          10.599979\n",
      "71     R          12  0.783385   0.270555       0.094340          10.599979\n",
      "72     I           8  0.783387   0.544674       0.094340          10.599979\n",
      "73     g          26  0.785330  -0.945516       0.078102          12.803688\n",
      "74     R          12  0.785361   0.075176       0.078102          12.803688\n",
      "75     r          46  0.785439   0.178799       0.070711          14.142136\n",
      "76     z          21  0.785497  -0.324198       0.100000          10.000000\n",
      "77     g          26  0.785537  -0.870000       0.125300           7.980869\n",
      "78     r          46  0.785542  -0.100000       0.152315           6.565322\n",
      "79     z          21  0.785553  -0.310000       0.092195          10.846523\n",
      "80     K           1  0.786096  -0.170000       0.148661           6.726728\n",
      "81     g          26  0.786121  -0.870000       0.086023          11.624764\n",
      "82     r          46  0.786139   0.030000       0.070711          14.142136\n",
      "83     z          21  0.786165  -0.340000       0.078102          12.803688\n",
      "84     J          10  0.786191  -0.670000       0.120830           8.276059\n",
      "85     r          46  0.791122   0.120000       0.086023          11.624764\n",
      "86     z          21  0.794514  -0.210000       0.050000          20.000000\n",
      "87     z          21  0.794563  -0.210000       0.076158          13.130643\n",
      "88     r          46  0.794563   0.060000       0.050000          20.000000\n",
      "89     g          26  0.794563  -0.950000       0.050000          20.000000\n",
      "90     g          26  0.794586  -0.950000       0.080623          12.403473\n",
      "91     r          46  0.794605  -0.030000       0.064031          15.617376\n",
      "92     g          26  0.795856  -1.275516       0.161555           6.189845\n",
      "93     r          46  0.795926  -0.166025       0.092195          10.846523\n",
      "94     B           4  0.798107  -0.320000       0.344710           2.900989\n",
      "95     r          46  0.798774  -0.050000       0.161555           6.189845\n",
      "96     r          46  0.801243   0.050000       0.187883           5.322463\n",
      "97     V           6  0.802538  -0.273989       0.058310          17.149859\n",
      "98     R          12  0.802539   0.075379       0.058310          17.149859\n",
      "99     I           8  0.802540   0.449498       0.070711          14.142136\n",
      "100    J          10  0.802854  -0.610000       0.158114           6.324555\n",
      "101    r          46  0.803548  -0.190000       0.070711          14.142136\n",
      "102    r          46  0.803628  -0.220000       0.064031          15.617376\n",
      "103    r          46  0.803694  -0.220000       0.056569          17.677670\n",
      "104    V           6  0.804759  -0.163989       0.078102          12.803688\n",
      "105    R          12  0.804760   0.115379       0.070711          14.142136\n",
      "106    I           8  0.804762   0.559498       0.086023          11.624764\n",
      "107    z          21  0.805706  -0.390000       0.158114           6.324555\n",
      "108    z          21  0.805735  -0.150000       0.092195          10.846523\n",
      "109    r          46  0.805735  -0.180000       0.072111          13.867505\n",
      "110    g          26  0.805735  -1.350000       0.078102          12.803688\n",
      "111    r          46  0.805754  -0.070000       0.100000          10.000000\n",
      "112    r          46  0.805777  -0.170000       0.064031          15.617376\n",
      "113    z          21  0.806706  -0.200000       0.134164           7.453560\n",
      "114    r          46  0.807688  -0.344824       0.156525           6.388766\n",
      "115    r          46  0.807697  -0.246025       0.197990           5.050763\n",
      "116    g          26  0.807708  -1.535516       0.228035           4.385290\n",
      "117    r          46  0.807749  -0.330000       0.072111          13.867505\n",
      "118    V           6  0.807765  -0.353989       0.092195          10.846523\n",
      "119    R          12  0.807766   0.025379       0.072111          13.867505\n",
      "120    I           8  0.807768   0.529498       0.078102          12.803688\n",
      "121    r          46  0.808682  -0.150000       0.089443          11.180340\n",
      "122    z          21  0.808701  -0.240000       0.072111          13.867505\n",
      "123    r          46  0.809547  -0.330000       0.106301           9.407209\n",
      "124    r          46  0.812122  -0.176025       0.212132           4.714045\n",
      "125    g          26  0.814690  -1.230000       0.233238           4.287465\n",
      "126    r          46  0.814690  -0.370000       0.162788           6.142951\n",
      "127    z          21  0.814690   0.250000       0.169706           5.892557\n",
      "128    r          46  0.815951  -0.330000       0.155563           6.428243\n",
      "129    r          46  0.818621  -0.240000       0.514782           1.942572\n",
      "\n",
      "Slopes of rescale factors for each filter:\n",
      "  slope_lin slope_lin_err intercept inter_err slope_lin_err/slope_lin  \\\n",
      "z     0.251         1.249     -0.44     0.977                   4.976   \n",
      "Y       NaN           NaN       NaN       NaN                     NaN   \n",
      "U       NaN           NaN       NaN       NaN                     NaN   \n",
      "K       NaN           NaN       NaN       NaN                     NaN   \n",
      "r    -1.377         0.763     1.029     0.593                   0.554   \n",
      "g     -8.41         0.802     5.669      0.61                   0.095   \n",
      "B    10.453        18.249    -9.204    14.075                   1.746   \n",
      "R    -6.404         1.995     5.214     1.572                   0.312   \n",
      "H       NaN           NaN       NaN       NaN                     NaN   \n",
      "I     2.617         1.627    -1.568     1.279                   0.622   \n",
      "J   -16.275         6.551    12.312     5.135                   0.403   \n",
      "V   -12.378         1.775     9.714     1.403                   0.143   \n",
      "\n",
      "        red_chi2_lin           prob_lin            BIC_lin  \\\n",
      "z              3.149           0.000001             28.077   \n",
      "Y  insufficient_data  insufficient_data  insufficient_data   \n",
      "U  insufficient_data  insufficient_data  insufficient_data   \n",
      "K  insufficient_data  insufficient_data  insufficient_data   \n",
      "r               4.85                0.0             76.619   \n",
      "g              3.196                0.0             34.648   \n",
      "B              5.025           0.001753              3.745   \n",
      "R              1.957           0.033562              9.089   \n",
      "H  insufficient_data  insufficient_data  insufficient_data   \n",
      "I              1.799           0.072061              6.556   \n",
      "J              1.045           0.393385              1.417   \n",
      "V               1.17           0.319069              2.092   \n",
      "\n",
      "          comment_lin                                         plot_color  \\\n",
      "z        undetermined                             (0.0, 0.0, 0.502, 1.0)   \n",
      "Y   insufficient_data  (0.0, 0.15963962284367297, 0.5435759503801522,...   \n",
      "U   insufficient_data                (0.0, 0.7752259284890427, 1.0, 1.0)   \n",
      "K   insufficient_data  (0.0, 0.9839560165597562, 0.6913351840736295, ...   \n",
      "r  no-color-evolution  (0.14987017543859635, 0.940799477124183, 0.0, ...   \n",
      "g     color-evolution  (0.4848257593233371, 0.9615101201771029, 0.0, ...   \n",
      "B        undetermined  (0.8573751723275831, 1.0, 0.12482388288648784,...   \n",
      "R     color-evolution  (1.0, 0.8453289903210827, 0.004213010380622807...   \n",
      "H   insufficient_data  (1.0, 0.44038591378263514, 0.02197244897959181...   \n",
      "I  no-color-evolution               (1.0, 0.0, 0.27743857280617257, 1.0)   \n",
      "J  no-color-evolution  (0.7031294117647054, 0.14841647983358378, 1.0,...   \n",
      "V     color-evolution  (0.9374840830449827, 0.5910121107266435, 0.946...   \n",
      "\n",
      "  intercept_a0 inter_a0_err intercept_a0_err/inter_a0        red_chi2_a0  \\\n",
      "z       -0.243        0.039                      0.16              2.998   \n",
      "Y          NaN          NaN                       NaN  insufficient_data   \n",
      "U          NaN          NaN                       NaN  insufficient_data   \n",
      "K          NaN          NaN                       NaN  insufficient_data   \n",
      "r        -0.04        0.031                     0.775              5.099   \n",
      "g       -0.712        0.085                     0.119             17.118   \n",
      "B       -1.143        0.204                     0.178              3.337   \n",
      "R        0.166        0.053                     0.319              3.982   \n",
      "H          NaN          NaN                       NaN  insufficient_data   \n",
      "I        0.488        0.047                     0.096              2.207   \n",
      "J       -0.445          0.1                     0.225              2.127   \n",
      "V        -0.07        0.114                     1.629              12.32   \n",
      "\n",
      "             prob_a0             BIC_a0         comment_a0  \n",
      "z           0.000005             25.077    color-evolution  \n",
      "Y  insufficient_data  insufficient_data  insufficient_data  \n",
      "U  insufficient_data  insufficient_data  insufficient_data  \n",
      "K  insufficient_data  insufficient_data  insufficient_data  \n",
      "r                0.0             76.099    color-evolution  \n",
      "g                0.0             76.081    color-evolution  \n",
      "B           0.018475              3.497    color-evolution  \n",
      "R           0.000018             15.067    color-evolution  \n",
      "H  insufficient_data  insufficient_data  insufficient_data  \n",
      "I           0.023986              7.343    color-evolution  \n",
      "J            0.04699              5.226    color-evolution  \n",
      "V                0.0             15.765    color-evolution  \n",
      "Filters compatible with zero in 3sigma and such that |slope_err/slope| <=1 :  r I J\n",
      "Filters not compatible with zero in 3sigma:  g R V\n",
      "\n",
      "\n",
      "No color evolution:  r I J  ; Color evolution:  g R V\n",
      "z:0.251+/-1.249; Y:nan+/-nan; U:nan+/-nan; K:nan+/-nan; r:-1.377+/-0.763; g:-8.41+/-0.802; B:10.453+/-18.249; R:-6.404+/-1.995; H:nan+/-nan; I:2.617+/-1.627; J:-16.275+/-6.551; V:-12.378+/-1.775; \n",
      "No filters that have no color evolution according to a=0\n",
      "Filters with color evolution according to a=0 :  z r g B R I J V\n",
      "\n",
      "\n",
      "No color evolution:   ; Color evolution:  z r g B R I J V\n"
     ]
    },
    {
     "name": "stderr",
     "output_type": "stream",
     "text": [
      "C:\\Users\\ridha\\AppData\\Local\\Temp\\ipykernel_18128\\3783924183.py:2: UserWarning:\n",
      "\n",
      "Matplotlib is currently using module://matplotlib_inline.backend_inline, which is a non-GUI backend, so cannot show the figure.\n",
      "\n"
     ]
    },
    {
     "data": {
      "image/png": "[encoded data removed]",
      "text/plain": [
       "<Figure size 640x480 with 2 Axes>"
      ]
     },
     "metadata": {},
     "output_type": "display_data"
    },
    {
     "data": {
      "image/png": "[encoded data removed]",
      "text/plain": [
       "<Figure size 1600x900 with 2 Axes>"
      ]
     },
     "metadata": {},
     "output_type": "display_data"
    }
   ],
   "source": [
    "fig, *__ = lc.colorevolGRB(save_plot=True, save_in_folder='colorevol/')\n",
    "fig.show()"
   ]
  },
  {
   "cell_type": "code",
   "execution_count": 7,
   "metadata": {},
   "outputs": [
    {
     "name": "stdout",
     "output_type": "stream",
     "text": [
      "Filters with no colour evolution:\n",
      "\n",
      "[]\n",
      "No filters to rescale.\n"
     ]
    },
    {
     "data": {
      "application/vnd.plotly.v1+json": {
       "config": {
        "plotlyServerURL": "https://plot.ly"
       },
       "data": [
        {
         "error_y": {
          "array": [
           0.27,
           0.29,
           0.15
          ]
         },
         "hovertemplate": "      <b>Band<b>=white (3)<br>x=%{x}<br>y=%{y}<extra></extra>",
         "legendgroup": "white (3)",
         "marker": {
          "color": "rgb(228,26,28)",
          "size": 9,
          "symbol": "circle"
         },
         "mode": "markers",
         "name": "<b>white (3)</b>",
         "orientation": "v",
         "showlegend": true,
         "type": "scatter",
         "x": [
          0.3527328606468841,
          0.47267103147607287,
          0.5778538959126386
         ],
         "xaxis": "x",
         "y": [
          20.232831849454957,
          20.352831849454954,
          20.092831849454956
         ],
         "yaxis": "y"
        },
        {
         "error_y": {
          "array": [
           0.43,
           0.37,
           0.24,
           0.34,
           0.155
          ]
         },
         "hovertemplate": "      <b>Band<b>=U (5)<br>x=%{x}<br>y=%{y}<extra></extra>",
         "legendgroup": "U (5)",
         "marker": {
          "color": "rgb(55,126,184)",
          "size": 9,
          "symbol": "circle"
         },
         "mode": "markers",
         "name": "<b>U (5)</b>",
         "orientation": "v",
         "showlegend": true,
         "type": "scatter",
         "x": [
          0.4129534226608082,
          0.5743564334699011,
          0.6332497274499178,
          0.6507181038345895,
          0.7810502868412609
         ],
         "xaxis": "x",
         "y": [
          21.06,
          21.08,
          21.47,
          21.41,
          23
         ],
         "yaxis": "y"
        },
        {
         "error_y": {
          "array": [
           0.595,
           0.4,
           0.21
          ]
         },
         "hovertemplate": "      <b>Band<b>=UVM2 (3)<br>x=%{x}<br>y=%{y}<extra></extra>",
         "legendgroup": "UVM2 (3)",
         "marker": {
          "color": "rgb(77,175,74)",
          "size": 9,
          "symbol": "circle"
         },
         "mode": "markers",
         "name": "<b>UVM2 (3)</b>",
         "orientation": "v",
         "showlegend": true,
         "type": "scatter",
         "x": [
          0.4729361906250417,
          0.5770064369623353,
          0.6093801754879872
         ],
         "xaxis": "x",
         "y": [
          20.84,
          20.89,
          21.03
         ],
         "yaxis": "y"
        },
        {
         "error_y": {
          "array": [
           0.455,
           0.175
          ]
         },
         "hovertemplate": "      <b>Band<b>=UVW2 (2)<br>x=%{x}<br>y=%{y}<extra></extra>",
         "legendgroup": "UVW2 (2)",
         "marker": {
          "color": "rgb(152,78,163)",
          "size": 9,
          "symbol": "circle"
         },
         "mode": "markers",
         "name": "<b>UVW2 (2)</b>",
         "orientation": "v",
         "showlegend": true,
         "type": "scatter",
         "x": [
          0.4836445178077121,
          0.5792711164749818
         ],
         "xaxis": "x",
         "y": [
          20.3,
          20.5
         ],
         "yaxis": "y"
        },
        {
         "error_y": {
          "array": [
           0.04,
           0.18,
           0.07,
           0.1,
           0.06,
           0.1,
           0.09,
           0.17,
           0.12,
           0.16,
           0.19,
           0.13,
           0.14,
           0.06,
           0.06,
           0.08,
           0.12,
           0.08,
           0.15,
           0.08,
           0.05,
           0.08,
           0.05,
           0.04,
           0.05,
           0.09,
           0.05,
           0.06,
           0.14,
           0.05,
           0.11,
           0.05,
           0.07,
           0.03,
           0.04,
           0.06,
           0.14,
           0.15,
           0.22,
           0.1,
           0.17,
           0.05,
           0.04,
           0.05,
           0.06,
           0.04,
           0.06,
           0.09,
           0.14,
           0.06,
           0.15,
           0.04,
           0.08,
           0.15,
           0.09,
           0.12,
           0.11,
           0.21
          ]
         },
         "hovertemplate": "      <b>Band<b>=i (58)<br>x=%{x}<br>y=%{y}<extra></extra>",
         "legendgroup": "i (58)",
         "marker": {
          "color": "rgb(255,127,0)",
          "size": 9,
          "symbol": "circle"
         },
         "mode": "markers",
         "name": "<b>i (58)</b>",
         "orientation": "v",
         "showlegend": true,
         "type": "scatter",
         "x": [
          0.515099613197996,
          0.678971244340012,
          0.680362643861139,
          0.6815267424703997,
          0.682080384584449,
          0.6822872602396243,
          0.6837157541397818,
          0.6870863078729025,
          0.7103311104647362,
          0.7146422138282287,
          0.7153847113418544,
          0.7287968690003536,
          0.7394627020253045,
          0.7396506751972118,
          0.7430101954674383,
          0.7479353881712588,
          0.7599245774018577,
          0.7686748673738272,
          0.7687129823808793,
          0.7691479124275032,
          0.7721867467616043,
          0.7725179871270629,
          0.7757057991359335,
          0.7809944677038463,
          0.785390411206521,
          0.7853957683979195,
          0.7854232738941495,
          0.7855471030528283,
          0.7859423752191681,
          0.7861502582599699,
          0.7879713244512931,
          0.7893125580974227,
          0.7943849673899698,
          0.7945628099848376,
          0.7945637167533907,
          0.7958954592820972,
          0.7977160350038444,
          0.7990630275967637,
          0.7999715897916424,
          0.8003419982867396,
          0.8012168879456245,
          0.8035751240894119,
          0.8037071163590512,
          0.8057306635440252,
          0.8057349800312316,
          0.8058132750488418,
          0.806731383978143,
          0.8069967236835608,
          0.8076856979440377,
          0.8078113431077928,
          0.8079498583354622,
          0.808693344244121,
          0.8095362255326639,
          0.8120914642971264,
          0.8136935625824622,
          0.8146902478859481,
          0.8159075332229762,
          0.8186011871341874
         ],
         "xaxis": "x",
         "y": [
          20.93,
          22.01,
          22.13,
          22.27,
          22.16,
          21.235315722344964,
          22.32,
          22.23,
          22.48,
          22.5,
          22.59,
          22.37,
          22.33,
          22.35,
          22.29,
          22.18,
          21.73517610496901,
          21.56,
          21.235315722344964,
          21.56,
          21.47517610496901,
          21.52,
          21.49,
          21.33517610496901,
          21.32517610496901,
          21.2,
          21.34,
          21.27,
          21.21,
          21.29,
          21.26,
          21.35,
          21.32,
          21.27,
          21.24,
          21.19517610496901,
          21.22,
          21.27,
          21.46,
          21.33,
          21.41,
          21.29,
          21.33,
          21.35,
          21.47,
          21.41,
          21.39,
          21.5,
          21.44517610496901,
          21.4,
          21.59,
          21.62,
          21.63,
          21.58517610496901,
          21.98,
          22.06,
          22.08,
          22.15
         ],
         "yaxis": "y"
        },
        {
         "error_y": {
          "array": [
           0.06,
           0.07,
           0.07,
           0.07,
           0.17,
           0.16,
           0.2,
           0.24,
           0.11,
           0.15
          ]
         },
         "hovertemplate": "      <b>Band<b>=J (10)<br>x=%{x}<br>y=%{y}<extra></extra>",
         "legendgroup": "J (10)",
         "marker": {
          "color": "rgb(255,255,51)",
          "size": 9,
          "symbol": "circle"
         },
         "mode": "markers",
         "name": "<b>J (10)</b>",
         "orientation": "v",
         "showlegend": true,
         "type": "scatter",
         "x": [
          0.563684901762153,
          0.5685677089645195,
          0.5730418914155009,
          0.5771042723221537,
          0.7722393237574295,
          0.7731773078798583,
          0.7755932230482354,
          0.781631482304274,
          0.786190930849195,
          0.802853744947291
         ],
         "xaxis": "x",
         "y": [
          20.2,
          20.33,
          20.36,
          20.41,
          21.6,
          21.68,
          21.83,
          21.75,
          21.96,
          21.9
         ],
         "yaxis": "y"
        },
        {
         "error_y": {
          "array": [
           0.405,
           0.325,
           0.195
          ]
         },
         "hovertemplate": "      <b>Band<b>=UVW1 (3)<br>x=%{x}<br>y=%{y}<extra></extra>",
         "legendgroup": "UVW1 (3)",
         "marker": {
          "color": "rgb(166,86,40)",
          "size": 9,
          "symbol": "circle"
         },
         "mode": "markers",
         "name": "<b>UVW1 (3)</b>",
         "orientation": "v",
         "showlegend": true,
         "type": "scatter",
         "x": [
          0.5724955434077585,
          0.6123804858473337,
          0.6443847116704923
         ],
         "xaxis": "x",
         "y": [
          21.43,
          21.56,
          21.47
         ],
         "yaxis": "y"
        },
        {
         "error_y": {
          "array": [
           0.09,
           0.09,
           0.11,
           0.1,
           0.42,
           0.31
          ]
         },
         "hovertemplate": "      <b>Band<b>=H (6)<br>x=%{x}<br>y=%{y}<extra></extra>",
         "legendgroup": "H (6)",
         "marker": {
          "color": "rgb(247,129,191)",
          "size": 9,
          "symbol": "circle"
         },
         "mode": "markers",
         "name": "<b>H (6)</b>",
         "orientation": "v",
         "showlegend": true,
         "type": "scatter",
         "x": [
          0.5812036329710074,
          0.5846473746297893,
          0.5878350299415436,
          0.5907635167888283,
          0.6959228997602911,
          0.7338837380421542
         ],
         "xaxis": "x",
         "y": [
          20.29,
          20.32,
          20.51,
          20.34,
          21.65,
          22.29
         ],
         "yaxis": "y"
        },
        {
         "error_y": {
          "array": [
           0.04,
           0.14,
           0.07,
           0.05,
           0.05,
           0.05,
           0.07,
           0.08,
           0.1,
           0.08,
           0.09,
           0.12,
           0.06,
           0.06,
           0.06,
           0.1,
           0.08,
           0.05,
           0.04,
           0.04,
           0.04,
           0.1,
           0.05,
           0.14,
           0.05,
           0.07,
           0.04,
           0.05,
           0.07,
           0.06,
           0.08,
           0.05,
           0.04,
           0.04,
           0.04,
           0.08,
           0.05,
           0.07,
           0.14,
           0.04,
           0.08,
           0.07,
           0.15,
           0.11,
           0.11,
           0.47
          ]
         },
         "hovertemplate": "      <b>Band<b>=r (46)<br>x=%{x}<br>y=%{y}<extra></extra>",
         "legendgroup": "r (46)",
         "marker": {
          "color": "rgb(153,153,153)",
          "size": 9,
          "symbol": "circle"
         },
         "mode": "markers",
         "name": "<b>r (46)</b>",
         "orientation": "v",
         "showlegend": true,
         "type": "scatter",
         "x": [
          0.6010725602221849,
          0.678971244340012,
          0.680362643861139,
          0.6815267424703997,
          0.682080384584449,
          0.6822872602396243,
          0.6826382165460133,
          0.6842403278380542,
          0.6876468253562159,
          0.7107218363724256,
          0.7146422138282287,
          0.7153847113418544,
          0.7291293238032361,
          0.7401460662393309,
          0.7429403908568799,
          0.7479975016833045,
          0.7600442833688558,
          0.7691479124275032,
          0.7722697448012831,
          0.7757057991359335,
          0.7809451416807945,
          0.7833226653565786,
          0.7854390746335531,
          0.785541642228859,
          0.7861388691915254,
          0.7911220066129173,
          0.7945628099848376,
          0.794604633323486,
          0.7959262165134903,
          0.7987744834382116,
          0.8012428183437036,
          0.8035479249936759,
          0.8036278857141675,
          0.8036938092955389,
          0.8057349800312316,
          0.805754348222424,
          0.8057768816592277,
          0.8076875485571492,
          0.807697212821854,
          0.8077488837561602,
          0.8086816051949618,
          0.8095474280054249,
          0.8121224627801221,
          0.8146902478859481,
          0.8159505622336585,
          0.8186212168956677
         ],
         "xaxis": "x",
         "y": [
          21.11,
          22.19,
          22.17,
          22.02,
          22.1,
          21.50283568840308,
          22.22,
          22.12,
          22.28,
          22.28,
          22.34,
          22.47,
          22.23,
          22.07,
          22.12,
          21.76120132948919,
          21.55120132948919,
          21.48,
          21.39120132948919,
          21.33,
          21.30120132948919,
          21.41,
          21.161201329489188,
          21.37,
          21.26,
          21.23,
          21.21,
          21.27,
          21.361201329489187,
          21.32,
          21.36,
          21.48,
          21.51,
          21.55,
          21.65,
          21.54,
          21.58,
          21.79,
          21.69120132948919,
          21.73,
          21.77,
          21.96,
          21.76120132948919,
          22.43,
          22.41,
          22.39
         ],
         "yaxis": "y"
        },
        {
         "error_y": {
          "array": [
           0.2,
           0.3,
           0.02,
           0.04,
           0.1,
           0.08,
           0.34,
           0.08,
           0.06,
           0.03,
           0.05,
           0.04
          ]
         },
         "hovertemplate": "      <b>Band<b>=R (12)<br>x=%{x}<br>y=%{y}<extra></extra>",
         "legendgroup": "R (12)",
         "marker": {
          "color": "rgb(228,26,28)",
          "size": 9,
          "symbol": "circle"
         },
         "mode": "markers",
         "name": "<b>R (12)</b>",
         "orientation": "v",
         "showlegend": true,
         "type": "scatter",
         "x": [
          0.6211297111863844,
          0.6668282820834853,
          0.7489485410482483,
          0.7691212513592873,
          0.7724531522891901,
          0.7785431809049366,
          0.7828533250094342,
          0.783384532167164,
          0.7853610245490454,
          0.8025391433371749,
          0.8047600018894872,
          0.8077660814223083
         ],
         "xaxis": "x",
         "y": [
          20.995083252007152,
          20.43489582569808,
          21.704621154402165,
          21.27462115440217,
          21.45,
          21.144621154402166,
          20.08489582569808,
          21.054621154402167,
          21.25,
          21.214621154402167,
          21.234621154402166,
          21.374621154402167
         ],
         "yaxis": "y"
        },
        {
         "error_y": {
          "array": [
           0.335,
           0.08,
           0.2,
           0.315
          ]
         },
         "hovertemplate": "      <b>Band<b>=B (4)<br>x=%{x}<br>y=%{y}<extra></extra>",
         "legendgroup": "B (4)",
         "marker": {
          "color": "rgb(55,126,184)",
          "size": 9,
          "symbol": "circle"
         },
         "mode": "markers",
         "name": "<b>B (4)</b>",
         "orientation": "v",
         "showlegend": true,
         "type": "scatter",
         "x": [
          0.6349549688653099,
          0.7604954420442708,
          0.7833754521218185,
          0.798107263965569
         ],
         "xaxis": "x",
         "y": [
          20.95,
          22.92847021416744,
          22.65847021416744,
          21.54
         ],
         "yaxis": "y"
        },
        {
         "error_y": {
          "array": [
           0.08,
           0.06,
           0.08,
           0.06,
           0.08,
           0.05,
           0.07,
           0.05
          ]
         },
         "hovertemplate": "      <b>Band<b>=I (8)<br>x=%{x}<br>y=%{y}<extra></extra>",
         "legendgroup": "I (8)",
         "marker": {
          "color": "rgb(77,175,74)",
          "size": 9,
          "symbol": "circle"
         },
         "mode": "markers",
         "name": "<b>I (8)</b>",
         "orientation": "v",
         "showlegend": true,
         "type": "scatter",
         "x": [
          0.6731494079431805,
          0.7489128518228994,
          0.76914703461944,
          0.7785485402569166,
          0.783386801734135,
          0.8025402993514339,
          0.8047621360492533,
          0.8077679953022529
         ],
         "xaxis": "x",
         "y": [
          22.19,
          21.56050235118384,
          21.15050235118384,
          20.87050235118384,
          20.78050235118384,
          20.84050235118384,
          20.79050235118384,
          20.87050235118384
         ],
         "yaxis": "y"
        },
        {
         "error_y": {
          "array": [
           0.1,
           0.05,
           0.07,
           0.06,
           0.05,
           0.08,
           0.06,
           0.1,
           0.1,
           0.16,
           0.06,
           0.11,
           0.11,
           0.1,
           0.09,
           0.08,
           0.07,
           0.06,
           0.11,
           0.07,
           0.04,
           0.07,
           0.15,
           0.05,
           0.18,
           0.2
          ]
         },
         "hovertemplate": "      <b>Band<b>=g (26)<br>x=%{x}<br>y=%{y}<extra></extra>",
         "legendgroup": "g (26)",
         "marker": {
          "color": "rgb(152,78,163)",
          "size": 9,
          "symbol": "circle"
         },
         "mode": "markers",
         "name": "<b>g (26)</b>",
         "orientation": "v",
         "showlegend": true,
         "type": "scatter",
         "x": [
          0.678971244340012,
          0.680362643861139,
          0.6815267424703997,
          0.6817282157639766,
          0.6822872602396243,
          0.6826382165460133,
          0.6842403278380542,
          0.688165814744953,
          0.7146422138282287,
          0.7153847113418544,
          0.7428699307689491,
          0.7479091253796674,
          0.7600989918554334,
          0.7691479124275032,
          0.772342591616256,
          0.7757057991359335,
          0.7781733347791566,
          0.785330497849403,
          0.7855365217675166,
          0.7861207615740866,
          0.7945628099848376,
          0.7945857547378357,
          0.7958558649423015,
          0.8057349800312316,
          0.8077077638937868,
          0.8146902478859481
         ],
         "xaxis": "x",
         "y": [
          22.21,
          22.12,
          22.15,
          22.22,
          21.519513203617915,
          22.11,
          22.18,
          22.14,
          22.59,
          22.79,
          22.86,
          22.690691643802904,
          22.560691643802905,
          22.38,
          22.300691643802903,
          22.35,
          22.240691643802904,
          22.270691643802905,
          22.14,
          22.16,
          22.22,
          22.19,
          22.470691643802905,
          22.82,
          22.980691643802903,
          23.29
         ],
         "yaxis": "y"
        },
        {
         "error_y": {
          "array": [
           0.2,
           0.11,
           0.11,
           0.17,
           0.16,
           0.27,
           0.07,
           0.15,
           0.08,
           0.12,
           0.13,
           0.08,
           0.07,
           0.06,
           0.04,
           0.07,
           0.15,
           0.07,
           0.12,
           0.06,
           0.12
          ]
         },
         "hovertemplate": "      <b>Band<b>=z (21)<br>x=%{x}<br>y=%{y}<extra></extra>",
         "legendgroup": "z (21)",
         "marker": {
          "color": "rgb(255,127,0)",
          "size": 9,
          "symbol": "circle"
         },
         "mode": "markers",
         "name": "<b>z (21)</b>",
         "orientation": "v",
         "showlegend": true,
         "type": "scatter",
         "x": [
          0.678971244340012,
          0.6815174734791584,
          0.6827709608537564,
          0.6842403278380542,
          0.7146422138282287,
          0.7153847113418544,
          0.743079348567001,
          0.7691479124275032,
          0.7753115666914087,
          0.7757057991359335,
          0.781689882038855,
          0.7854970930504162,
          0.7855530015317264,
          0.7861650549361962,
          0.7945143890376695,
          0.7945628099848376,
          0.8057063379058719,
          0.8057349800312316,
          0.8067057380584419,
          0.8087009141247254,
          0.8146902478859481
         ],
         "xaxis": "x",
         "y": [
          22.01,
          22.09,
          22.16,
          22.37,
          22.17,
          22.28,
          22.59,
          21.86,
          21.93,
          21.78,
          21.44,
          21.594198432774714,
          21.58,
          21.63,
          21.48,
          21.48,
          21.74,
          21.62,
          21.59,
          21.86,
          21.81
         ],
         "yaxis": "y"
        },
        {
         "error_y": {
          "array": [
           0.03,
           0.08,
           0.08,
           0.03,
           0.06,
           0.07
          ]
         },
         "hovertemplate": "      <b>Band<b>=V (6)<br>x=%{x}<br>y=%{y}<extra></extra>",
         "legendgroup": "V (6)",
         "marker": {
          "color": "rgb(255,255,51)",
          "size": 9,
          "symbol": "circle"
         },
         "mode": "markers",
         "name": "<b>V (6)</b>",
         "orientation": "v",
         "showlegend": true,
         "type": "scatter",
         "x": [
          0.7489128518228994,
          0.7785405008611503,
          0.7833799925000375,
          0.8025379872748694,
          0.8047589347479015,
          0.807765124432391
         ],
         "xaxis": "x",
         "y": [
          21.78398897906229,
          21.23398897906229,
          21.18398897906229,
          21.56398897906229,
          21.51398897906229,
          21.75398897906229
         ],
         "yaxis": "y"
        },
        {
         "error_y": {
          "array": [
           0.17
          ]
         },
         "hovertemplate": "      <b>Band<b>=Y (1)<br>x=%{x}<br>y=%{y}<extra></extra>",
         "legendgroup": "Y (1)",
         "marker": {
          "color": "rgb(166,86,40)",
          "size": 9,
          "symbol": "circle"
         },
         "mode": "markers",
         "name": "<b>Y (1)</b>",
         "orientation": "v",
         "showlegend": true,
         "type": "scatter",
         "x": [
          0.7754379108188186
         ],
         "xaxis": "x",
         "y": [
          21.93
         ],
         "yaxis": "y"
        },
        {
         "error_y": {
          "array": [
           0.14
          ]
         },
         "hovertemplate": "      <b>Band<b>=K (1)<br>x=%{x}<br>y=%{y}<extra></extra>",
         "legendgroup": "K (1)",
         "marker": {
          "color": "rgb(247,129,191)",
          "size": 9,
          "symbol": "circle"
         },
         "mode": "markers",
         "name": "<b>K (1)</b>",
         "orientation": "v",
         "showlegend": true,
         "type": "scatter",
         "x": [
          0.786096401067906
         ],
         "xaxis": "x",
         "y": [
          21.46
         ],
         "yaxis": "y"
        }
       ],
       "layout": {
        "annotations": [
         {
          "align": "left",
          "font": {
           "color": "black",
           "size": 35
          },
          "showarrow": false,
          "text": "<b>GRB 120422A</b>",
          "x": 0.08,
          "xanchor": "left",
          "xref": "paper",
          "xshift": -1,
          "y": 0.15,
          "yanchor": "bottom",
          "yref": "paper",
          "yshift": -5
         }
        ],
        "height": 540,
        "legend": {
         "font": {
          "color": "black",
          "size": 26
         },
         "title": {
          "text": "      <b>Band<b>"
         },
         "tracegroupgap": 0
        },
        "margin": {
         "b": 40,
         "l": 40,
         "r": 40,
         "t": 50
        },
        "plot_bgcolor": "white",
        "template": {
         "data": {
          "bar": [
           {
            "error_x": {
             "color": "#2a3f5f"
            },
            "error_y": {
             "color": "#2a3f5f"
            },
            "marker": {
             "line": {
              "color": "#E5ECF6",
              "width": 0.5
             },
             "pattern": {
              "fillmode": "overlay",
              "size": 10,
              "solidity": 0.2
             }
            },
            "type": "bar"
           }
          ],
          "barpolar": [
           {
            "marker": {
             "line": {
              "color": "#E5ECF6",
              "width": 0.5
             },
             "pattern": {
              "fillmode": "overlay",
              "size": 10,
              "solidity": 0.2
             }
            },
            "type": "barpolar"
           }
          ],
          "carpet": [
           {
            "aaxis": {
             "endlinecolor": "#2a3f5f",
             "gridcolor": "white",
             "linecolor": "white",
             "minorgridcolor": "white",
             "startlinecolor": "#2a3f5f"
            },
            "baxis": {
             "endlinecolor": "#2a3f5f",
             "gridcolor": "white",
             "linecolor": "white",
             "minorgridcolor": "white",
             "startlinecolor": "#2a3f5f"
            },
            "type": "carpet"
           }
          ],
          "choropleth": [
           {
            "colorbar": {
             "outlinewidth": 0,
             "ticks": ""
            },
            "type": "choropleth"
           }
          ],
          "contour": [
           {
            "colorbar": {
             "outlinewidth": 0,
             "ticks": ""
            },
            "colorscale": [
             [
              0,
              "#0d0887"
             ],
             [
              0.1111111111111111,
              "#46039f"
             ],
             [
              0.2222222222222222,
              "#7201a8"
             ],
             [
              0.3333333333333333,
              "#9c179e"
             ],
             [
              0.4444444444444444,
              "#bd3786"
             ],
             [
              0.5555555555555556,
              "#d8576b"
             ],
             [
              0.6666666666666666,
              "#ed7953"
             ],
             [
              0.7777777777777778,
              "#fb9f3a"
             ],
             [
              0.8888888888888888,
              "#fdca26"
             ],
             [
              1,
              "#f0f921"
             ]
            ],
            "type": "contour"
           }
          ],
          "contourcarpet": [
           {
            "colorbar": {
             "outlinewidth": 0,
             "ticks": ""
            },
            "type": "contourcarpet"
           }
          ],
          "heatmap": [
           {
            "colorbar": {
             "outlinewidth": 0,
             "ticks": ""
            },
            "colorscale": [
             [
              0,
              "#0d0887"
             ],
             [
              0.1111111111111111,
              "#46039f"
             ],
             [
              0.2222222222222222,
              "#7201a8"
             ],
             [
              0.3333333333333333,
              "#9c179e"
             ],
             [
              0.4444444444444444,
              "#bd3786"
             ],
             [
              0.5555555555555556,
              "#d8576b"
             ],
             [
              0.6666666666666666,
              "#ed7953"
             ],
             [
              0.7777777777777778,
              "#fb9f3a"
             ],
             [
              0.8888888888888888,
              "#fdca26"
             ],
             [
              1,
              "#f0f921"
             ]
            ],
            "type": "heatmap"
           }
          ],
          "heatmapgl": [
           {
            "colorbar": {
             "outlinewidth": 0,
             "ticks": ""
            },
            "colorscale": [
             [
              0,
              "#0d0887"
             ],
             [
              0.1111111111111111,
              "#46039f"
             ],
             [
              0.2222222222222222,
              "#7201a8"
             ],
             [
              0.3333333333333333,
              "#9c179e"
             ],
             [
              0.4444444444444444,
              "#bd3786"
             ],
             [
              0.5555555555555556,
              "#d8576b"
             ],
             [
              0.6666666666666666,
              "#ed7953"
             ],
             [
              0.7777777777777778,
              "#fb9f3a"
             ],
             [
              0.8888888888888888,
              "#fdca26"
             ],
             [
              1,
              "#f0f921"
             ]
            ],
            "type": "heatmapgl"
           }
          ],
          "histogram": [
           {
            "marker": {
             "pattern": {
              "fillmode": "overlay",
              "size": 10,
              "solidity": 0.2
             }
            },
            "type": "histogram"
           }
          ],
          "histogram2d": [
           {
            "colorbar": {
             "outlinewidth": 0,
             "ticks": ""
            },
            "colorscale": [
             [
              0,
              "#0d0887"
             ],
             [
              0.1111111111111111,
              "#46039f"
             ],
             [
              0.2222222222222222,
              "#7201a8"
             ],
             [
              0.3333333333333333,
              "#9c179e"
             ],
             [
              0.4444444444444444,
              "#bd3786"
             ],
             [
              0.5555555555555556,
              "#d8576b"
             ],
             [
              0.6666666666666666,
              "#ed7953"
             ],
             [
              0.7777777777777778,
              "#fb9f3a"
             ],
             [
              0.8888888888888888,
              "#fdca26"
             ],
             [
              1,
              "#f0f921"
             ]
            ],
            "type": "histogram2d"
           }
          ],
          "histogram2dcontour": [
           {
            "colorbar": {
             "outlinewidth": 0,
             "ticks": ""
            },
            "colorscale": [
             [
              0,
              "#0d0887"
             ],
             [
              0.1111111111111111,
              "#46039f"
             ],
             [
              0.2222222222222222,
              "#7201a8"
             ],
             [
              0.3333333333333333,
              "#9c179e"
             ],
             [
              0.4444444444444444,
              "#bd3786"
             ],
             [
              0.5555555555555556,
              "#d8576b"
             ],
             [
              0.6666666666666666,
              "#ed7953"
             ],
             [
              0.7777777777777778,
              "#fb9f3a"
             ],
             [
              0.8888888888888888,
              "#fdca26"
             ],
             [
              1,
              "#f0f921"
             ]
            ],
            "type": "histogram2dcontour"
           }
          ],
          "mesh3d": [
           {
            "colorbar": {
             "outlinewidth": 0,
             "ticks": ""
            },
            "type": "mesh3d"
           }
          ],
          "parcoords": [
           {
            "line": {
             "colorbar": {
              "outlinewidth": 0,
              "ticks": ""
             }
            },
            "type": "parcoords"
           }
          ],
          "pie": [
           {
            "automargin": true,
            "type": "pie"
           }
          ],
          "scatter": [
           {
            "fillpattern": {
             "fillmode": "overlay",
             "size": 10,
             "solidity": 0.2
            },
            "type": "scatter"
           }
          ],
          "scatter3d": [
           {
            "line": {
             "colorbar": {
              "outlinewidth": 0,
              "ticks": ""
             }
            },
            "marker": {
             "colorbar": {
              "outlinewidth": 0,
              "ticks": ""
             }
            },
            "type": "scatter3d"
           }
          ],
          "scattercarpet": [
           {
            "marker": {
             "colorbar": {
              "outlinewidth": 0,
              "ticks": ""
             }
            },
            "type": "scattercarpet"
           }
          ],
          "scattergeo": [
           {
            "marker": {
             "colorbar": {
              "outlinewidth": 0,
              "ticks": ""
             }
            },
            "type": "scattergeo"
           }
          ],
          "scattergl": [
           {
            "marker": {
             "colorbar": {
              "outlinewidth": 0,
              "ticks": ""
             }
            },
            "type": "scattergl"
           }
          ],
          "scattermapbox": [
           {
            "marker": {
             "colorbar": {
              "outlinewidth": 0,
              "ticks": ""
             }
            },
            "type": "scattermapbox"
           }
          ],
          "scatterpolar": [
           {
            "marker": {
             "colorbar": {
              "outlinewidth": 0,
              "ticks": ""
             }
            },
            "type": "scatterpolar"
           }
          ],
          "scatterpolargl": [
           {
            "marker": {
             "colorbar": {
              "outlinewidth": 0,
              "ticks": ""
             }
            },
            "type": "scatterpolargl"
           }
          ],
          "scatterternary": [
           {
            "marker": {
             "colorbar": {
              "outlinewidth": 0,
              "ticks": ""
             }
            },
            "type": "scatterternary"
           }
          ],
          "surface": [
           {
            "colorbar": {
             "outlinewidth": 0,
             "ticks": ""
            },
            "colorscale": [
             [
              0,
              "#0d0887"
             ],
             [
              0.1111111111111111,
              "#46039f"
             ],
             [
              0.2222222222222222,
              "#7201a8"
             ],
             [
              0.3333333333333333,
              "#9c179e"
             ],
             [
              0.4444444444444444,
              "#bd3786"
             ],
             [
              0.5555555555555556,
              "#d8576b"
             ],
             [
              0.6666666666666666,
              "#ed7953"
             ],
             [
              0.7777777777777778,
              "#fb9f3a"
             ],
             [
              0.8888888888888888,
              "#fdca26"
             ],
             [
              1,
              "#f0f921"
             ]
            ],
            "type": "surface"
           }
          ],
          "table": [
           {
            "cells": {
             "fill": {
              "color": "#EBF0F8"
             },
             "line": {
              "color": "white"
             }
            },
            "header": {
             "fill": {
              "color": "#C8D4E3"
             },
             "line": {
              "color": "white"
             }
            },
            "type": "table"
           }
          ]
         },
         "layout": {
          "annotationdefaults": {
           "arrowcolor": "#2a3f5f",
           "arrowhead": 0,
           "arrowwidth": 1
          },
          "autotypenumbers": "strict",
          "coloraxis": {
           "colorbar": {
            "outlinewidth": 0,
            "ticks": ""
           }
          },
          "colorscale": {
           "diverging": [
            [
             0,
             "#8e0152"
            ],
            [
             0.1,
             "#c51b7d"
            ],
            [
             0.2,
             "#de77ae"
            ],
            [
             0.3,
             "#f1b6da"
            ],
            [
             0.4,
             "#fde0ef"
            ],
            [
             0.5,
             "#f7f7f7"
            ],
            [
             0.6,
             "#e6f5d0"
            ],
            [
             0.7,
             "#b8e186"
            ],
            [
             0.8,
             "#7fbc41"
            ],
            [
             0.9,
             "#4d9221"
            ],
            [
             1,
             "#276419"
            ]
           ],
           "sequential": [
            [
             0,
             "#0d0887"
            ],
            [
             0.1111111111111111,
             "#46039f"
            ],
            [
             0.2222222222222222,
             "#7201a8"
            ],
            [
             0.3333333333333333,
             "#9c179e"
            ],
            [
             0.4444444444444444,
             "#bd3786"
            ],
            [
             0.5555555555555556,
             "#d8576b"
            ],
            [
             0.6666666666666666,
             "#ed7953"
            ],
            [
             0.7777777777777778,
             "#fb9f3a"
            ],
            [
             0.8888888888888888,
             "#fdca26"
            ],
            [
             1,
             "#f0f921"
            ]
           ],
           "sequentialminus": [
            [
             0,
             "#0d0887"
            ],
            [
             0.1111111111111111,
             "#46039f"
            ],
            [
             0.2222222222222222,
             "#7201a8"
            ],
            [
             0.3333333333333333,
             "#9c179e"
            ],
            [
             0.4444444444444444,
             "#bd3786"
            ],
            [
             0.5555555555555556,
             "#d8576b"
            ],
            [
             0.6666666666666666,
             "#ed7953"
            ],
            [
             0.7777777777777778,
             "#fb9f3a"
            ],
            [
             0.8888888888888888,
             "#fdca26"
            ],
            [
             1,
             "#f0f921"
            ]
           ]
          },
          "colorway": [
           "#636efa",
           "#EF553B",
           "#00cc96",
           "#ab63fa",
           "#FFA15A",
           "#19d3f3",
           "#FF6692",
           "#B6E880",
           "#FF97FF",
           "#FECB52"
          ],
          "font": {
           "color": "#2a3f5f"
          },
          "geo": {
           "bgcolor": "white",
           "lakecolor": "white",
           "landcolor": "#E5ECF6",
           "showlakes": true,
           "showland": true,
           "subunitcolor": "white"
          },
          "hoverlabel": {
           "align": "left"
          },
          "hovermode": "closest",
          "mapbox": {
           "style": "light"
          },
          "paper_bgcolor": "white",
          "plot_bgcolor": "#E5ECF6",
          "polar": {
           "angularaxis": {
            "gridcolor": "white",
            "linecolor": "white",
            "ticks": ""
           },
           "bgcolor": "#E5ECF6",
           "radialaxis": {
            "gridcolor": "white",
            "linecolor": "white",
            "ticks": ""
           }
          },
          "scene": {
           "xaxis": {
            "backgroundcolor": "#E5ECF6",
            "gridcolor": "white",
            "gridwidth": 2,
            "linecolor": "white",
            "showbackground": true,
            "ticks": "",
            "zerolinecolor": "white"
           },
           "yaxis": {
            "backgroundcolor": "#E5ECF6",
            "gridcolor": "white",
            "gridwidth": 2,
            "linecolor": "white",
            "showbackground": true,
            "ticks": "",
            "zerolinecolor": "white"
           },
           "zaxis": {
            "backgroundcolor": "#E5ECF6",
            "gridcolor": "white",
            "gridwidth": 2,
            "linecolor": "white",
            "showbackground": true,
            "ticks": "",
            "zerolinecolor": "white"
           }
          },
          "shapedefaults": {
           "line": {
            "color": "#2a3f5f"
           }
          },
          "ternary": {
           "aaxis": {
            "gridcolor": "white",
            "linecolor": "white",
            "ticks": ""
           },
           "baxis": {
            "gridcolor": "white",
            "linecolor": "white",
            "ticks": ""
           },
           "bgcolor": "#E5ECF6",
           "caxis": {
            "gridcolor": "white",
            "linecolor": "white",
            "ticks": ""
           }
          },
          "title": {
           "x": 0.05
          },
          "xaxis": {
           "automargin": true,
           "gridcolor": "white",
           "linecolor": "white",
           "ticks": "",
           "title": {
            "standoff": 15
           },
           "zerolinecolor": "white",
           "zerolinewidth": 2
          },
          "yaxis": {
           "automargin": true,
           "gridcolor": "white",
           "linecolor": "white",
           "ticks": "",
           "title": {
            "standoff": 15
           },
           "zerolinecolor": "white",
           "zerolinewidth": 2
          }
         }
        },
        "width": 960,
        "xaxis": {
         "anchor": "y",
         "domain": [
          0,
          1
         ],
         "linecolor": "black",
         "linewidth": 2.4,
         "mirror": "allticks",
         "showgrid": false,
         "showline": true,
         "showticklabels": true,
         "tickcolor": "black",
         "tickfont": {
          "color": "black",
          "family": "arial",
          "size": 26
         },
         "tickprefix": "<b>",
         "ticks": "outside",
         "ticksuffix": "</b><br>",
         "tickwidth": 2.4,
         "title": {
          "font": {
           "color": "black",
           "size": 35
          },
          "text": "<b>log10 Time (s)<b>"
         }
        },
        "yaxis": {
         "anchor": "x",
         "autorange": "reversed",
         "domain": [
          0,
          1
         ],
         "linecolor": "black",
         "linewidth": 2.4,
         "mirror": "allticks",
         "showgrid": false,
         "showline": true,
         "showticklabels": true,
         "tickcolor": "black",
         "tickfont": {
          "color": "black",
          "family": "arial",
          "size": 26
         },
         "tickprefix": "<b>",
         "ticks": "outside",
         "ticksuffix": "</b><br>",
         "tickwidth": 2.4,
         "title": {
          "font": {
           "color": "black",
           "size": 28
          },
          "text": "<b>Magnitude<b>"
         }
        }
       }
      }
     },
     "metadata": {},
     "output_type": "display_data"
    }
   ],
   "source": [
    "figunresc, figresc, resc_mag_df = lc.rescaleGRB()\n",
    "figunresc.show()\n",
    "if figresc is not None:\n",
    "    figresc.show()"
   ]
  },
  {
   "cell_type": "code",
   "execution_count": 1,
   "metadata": {},
   "outputs": [
    {
     "name": "stdout",
     "output_type": "stream",
     "text": [
      "                                                      path\n",
      "000131A  D:/naoj-grb/sample/mag-AB-extcorr-30-05-2023/0...\n",
      "000301C  D:/naoj-grb/sample/mag-AB-extcorr-30-05-2023/0...\n",
      "000418A  D:/naoj-grb/sample/mag-AB-extcorr-30-05-2023/0...\n",
      "000911A  D:/naoj-grb/sample/mag-AB-extcorr-30-05-2023/0...\n",
      "000926A  D:/naoj-grb/sample/mag-AB-extcorr-30-05-2023/0...\n",
      "                ra         dec coorderr       z  \\\n",
      "grb                                               \n",
      "970228A  05h01m57s  +11° 46.4'       3'  0.6950   \n",
      "970508A  06h53m28s  +79° 17.4'       3'  0.8300   \n",
      "971214A  11h56m30s  +65° 12.0'       4'  3.4200   \n",
      "980329A  07h02m41s  +38° 50.7'       3'  3.5000   \n",
      "980425A  19h34m54s  -52° 49.9'       8'  0.0085   \n",
      "\n",
      "                                                 path  \n",
      "grb                                                    \n",
      "970228A  D:/grb/sample/mag-30-05-2023/970228A_mag.txt  \n",
      "970508A  D:/grb/sample/mag-30-05-2023/970508A_mag.txt  \n",
      "971214A  D:/grb/sample/mag-30-05-2023/971214A_mag.txt  \n",
      "980329A  D:/grb/sample/mag-30-05-2023/980329A_mag.txt  \n",
      "980425A  D:/grb/sample/mag-30-05-2023/980425A_mag.txt  \n"
     ]
    }
   ],
   "source": [
    "import os\n",
    "import pandas as pd\n",
    "\n",
    "path=\"D:/naoj-grb/sample/mag-AB-extcorr-30-05-2023/\"\n",
    "grblist = []\n",
    "filelist = []\n",
    "for root, dirs, files in os.walk(path):\n",
    "    for file in files:\n",
    "        filelist.append(os.path.join(root,file))\n",
    "        names = file.split('_')\n",
    "        grblist.append(names[0])\n",
    "filedf=pd.DataFrame()\n",
    "filedf.index = grblist\n",
    "filedf['path'] = filelist\n",
    "\n",
    "print(filedf.head())\n",
    "radec = pd.read_csv('radec.csv', index_col='grb')\n",
    "print(radec.head())"
   ]
  },
  {
   "cell_type": "code",
   "execution_count": 2,
   "metadata": {},
   "outputs": [
    {
     "name": "stdout",
     "output_type": "stream",
     "text": [
      "GRB =  090510A , at z = 1.6187 , host galaxy model (Pei 1992)\n"
     ]
    }
   ],
   "source": [
    "import sys\n",
    "from grblc.evolution.sed import beta_marquardt\n",
    "\n",
    "grb = \"090510A\"\n",
    "path = filedf.loc[grb, 'path']\n",
    "redshift = radec.loc[grb, 'z']\n",
    "\n",
    "beta_marquardt(grb=grb, filename=path, z=redshift)"
   ]
  },
  {
   "cell_type": "code",
   "execution_count": null,
   "metadata": {},
   "outputs": [],
   "source": []
  }
 ],
 "metadata": {
  "kernelspec": {
   "display_name": "Python 3",
   "language": "python",
   "name": "python3"
  },
  "language_info": {
   "codemirror_mode": {
    "name": "ipython",
    "version": 3
   },
   "file_extension": ".py",
   "mimetype": "text/x-python",
   "name": "python",
   "nbconvert_exporter": "python",
   "pygments_lexer": "ipython3",
   "version": "3.8.10"
  },
  "orig_nbformat": 4
 },
 "nbformat": 4,
 "nbformat_minor": 2
}
