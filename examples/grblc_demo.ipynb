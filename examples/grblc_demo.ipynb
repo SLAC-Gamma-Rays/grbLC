{
 "cells": [
  {
   "cell_type": "markdown",
   "metadata": {},
   "source": [
    "### Initialising"
   ]
  },
  {
   "cell_type": "code",
   "execution_count": 2,
   "metadata": {},
   "outputs": [],
   "source": [
    "# run this the first time you use grblc to download SFD maps\n",
    "\n",
    "# import grblc.convert.sfd\n",
    "# grblc.convert.sfd.fetch()"
   ]
  },
  {
   "cell_type": "code",
   "execution_count": 1,
   "metadata": {},
   "outputs": [
    {
     "data": {
      "application/vnd.plotly.v1+json": {
       "config": {
        "plotlyServerURL": "https://plot.ly"
       },
       "data": [
        {
         "customdata": [
          [
           "LCO/Swope(1m)/CISCO",
           "Rossi2020"
          ],
          [
           "LCO/Magellan2Clay(6.5m)/LDSS-3",
           "Rossi2020"
          ],
          [
           "LCO/Swope(1m)/CISCO",
           "Rossi2020"
          ],
          [
           "LSO/Danish(1.54m)/DFOSC",
           "Rossi2020"
          ],
          [
           "LCO/Magellan2Clay(6.5m)/LDSS-3",
           "Rossi2020"
          ],
          [
           "LCO/Swope(1m)/CISCO",
           "Rossi2020"
          ],
          [
           "CP/Gemini-South(8.1m)/GMOS",
           "Rossi2020"
          ],
          [
           "LCO/Swope(1m)/CISCO",
           "Rossi2020"
          ],
          [
           "LCO/Swope(1m)/CISCO",
           "Rossi2020"
          ],
          [
           "LCO/Swope(1m)/CISCO",
           "Rossi2020"
          ],
          [
           "CP/Gemini-South(8.1m)/GMOS",
           "Rossi2020"
          ]
         ],
         "error_y": {
          "array": [
           0.018,
           0.03,
           0.02,
           0.03,
           0.02,
           0.047,
           0.01,
           0.045,
           0.116,
           0.183,
           0.03
          ]
         },
         "hovertemplate": "color=i<br>x=%{x}<br>y=%{y}<br>telescope=%{customdata[0]}<br>source=%{customdata[1]}<extra></extra>",
         "legendgroup": "i",
         "marker": {
          "color": "rgb(228,26,28)",
          "symbol": "circle"
         },
         "mode": "markers",
         "name": "i",
         "orientation": "v",
         "showlegend": true,
         "type": "scatter",
         "x": [
          4.594273185872828,
          5.098524390908145,
          5.1177100097896595,
          5.32760207122408,
          5.329623206511437,
          5.478309594317676,
          5.481987519605433,
          5.586017622887098,
          5.6750146316600505,
          5.809512848702256,
          5.811557312031467
         ],
         "xaxis": "x",
         "y": [
          17.476,
          17.77,
          17.802,
          18.37,
          18.36,
          18.922,
          18.93,
          19.386,
          20.27,
          21.42,
          20.91
         ],
         "yaxis": "y"
        },
        {
         "customdata": [
          [
           "LCO/Magellan2Clay(6.5m)/LDSS-3",
           "Rossi2020"
          ],
          [
           "LCO/Magellan2Clay(6.5m)/LDSS-3",
           "Rossi2020"
          ],
          [
           "CP/Gemini-South(8.1m)/GMOS",
           "Rossi2020"
          ],
          [
           "CP/Gemini-South(8.1m)/GMOS",
           "Rossi2020"
          ],
          [
           "LCO/Magellan2Clay(6.5m)/LDSS-3",
           "Rossi2020"
          ],
          [
           "CP/Gemini-South(8.1m)/GMOS",
           "Rossi2020"
          ],
          [
           "Hubble/HST/WFC3",
           "Rossi2020"
          ],
          [
           "CP/Gemini-South(8.1m)/GMOS",
           "Rossi2020"
          ],
          [
           "CP/Gemini-South(8.1m)/GMOS",
           "Rossi2020"
          ],
          [
           "Hubble/HST/WFC3",
           "Rossi2020"
          ],
          [
           "CP/Gemini-South(8.1m)/GMOS",
           "Rossi2020"
          ],
          [
           "CP/Gemini-South(8.1m)/GMOS",
           "Rossi2020"
          ],
          [
           "Hubble/HST/WFC3",
           "Rossi2020"
          ]
         ],
         "error_y": {
          "array": [
           0.15,
           0.01,
           0.1,
           0.09,
           0.01,
           0.1,
           0.03,
           0.14,
           0.18,
           0.06,
           0.15,
           0.15,
           0.09
          ]
         },
         "hovertemplate": "color=H<br>x=%{x}<br>y=%{y}<br>telescope=%{customdata[0]}<br>source=%{customdata[1]}<extra></extra>",
         "legendgroup": "H",
         "marker": {
          "color": "rgb(55,126,184)",
          "symbol": "circle"
         },
         "mode": "markers",
         "name": "H",
         "orientation": "v",
         "showlegend": true,
         "type": "scatter",
         "x": [
          4.6016698196715575,
          5.1016236398110335,
          5.104228916159975,
          5.323431145259261,
          5.32457002356252,
          5.584419431475908,
          5.6288956858628945,
          5.807931800041965,
          5.863491072032829,
          5.910966690360492,
          5.911547712352183,
          5.955727570839238,
          5.962667887444997
         ],
         "xaxis": "x",
         "y": [
          18.26,
          17.52,
          17.63,
          17.71,
          17.57,
          17.92,
          18.06,
          18.79,
          19.22,
          19.6,
          19.62,
          20.04,
          20.28
         ],
         "yaxis": "y"
        },
        {
         "customdata": [
          [
           "LCO/Magellan2Clay(6.5m)/LDSS-3",
           "Rossi2020"
          ],
          [
           "PAO/ANTU-VLT-UT1(8.2m)/FORS1",
           "Rossi2020"
          ],
          [
           "CTIO/VictorMBlanco(4m)/DECam",
           "Rossi2020"
          ],
          [
           "LCO/Magellan2Clay(6.5m)/LDSS-3",
           "Rossi2020"
          ],
          [
           "Xinglong/2.16m/BFOSC",
           "Rossi2020"
          ],
          [
           "LCO/Swope(1m)/CISCO",
           "Rossi2020"
          ],
          [
           "PAO/ANTU-VLT-UT1(8.2m)/FORS1",
           "Rossi2020"
          ],
          [
           "CTIO/VictorMBlanco(4m)/DECam",
           "Rossi2020"
          ],
          [
           "LCO/Magellan2Clay(6.5m)/LDSS-3",
           "Rossi2020"
          ],
          [
           "PAO/ANTU-VLT-UT1(8.2m)/FORS1",
           "Rossi2020"
          ],
          [
           "CTIO/VictorMBlanco(4m)/DECam",
           "Rossi2020"
          ],
          [
           "LCO/Swope(1m)/CISCO",
           "Rossi2020"
          ],
          [
           "Xinglong/2.16m/BFOSC",
           "Rossi2020"
          ],
          [
           "CP/Gemini-South(8.1m)/GMOS",
           "Rossi2020"
          ],
          [
           "CTIO/VictorMBlanco(4m)/DECam",
           "Rossi2020"
          ],
          [
           "PAO/VLT-UT3-Melipal/VIMOS",
           "Rossi2020"
          ],
          [
           "LCO/Swope(1m)/CISCO",
           "Rossi2020"
          ],
          [
           "PAO/ANTU-VLT-UT1(8.2m)/FORS1",
           "Rossi2020"
          ],
          [
           "CTIO/VictorMBlanco(4m)/DECam",
           "Rossi2020"
          ],
          [
           "Xinglong/2.16m/BFOSC",
           "Rossi2020"
          ],
          [
           "PAO/ESO-VST/OMEGACAM",
           "Rossi2020"
          ],
          [
           "CTIO/VictorMBlanco(4m)/DECam",
           "Rossi2020"
          ],
          [
           "CP/Gemini-South(8.1m)/GMOS",
           "Rossi2020"
          ],
          [
           "PAO/VLT-UT3-Melipal/VIMOS",
           "Rossi2020"
          ],
          [
           "CTIO/VictorMBlanco(4m)/DECam",
           "Rossi2020"
          ],
          [
           "PAO/VLT-UT3-Melipal/VIMOS",
           "Rossi2020"
          ],
          [
           "PAO/VLT-UT3-Melipal/VIMOS",
           "Rossi2020"
          ],
          [
           "PAO/VLT-UT3-Melipal/VIMOS",
           "Rossi2020"
          ]
         ],
         "error_y": {
          "array": [
           0.02,
           0.02,
           0.02,
           0.03,
           0.02,
           0.018,
           0.04,
           0.03,
           0.02,
           0.01,
           0.04,
           0.089,
           0.02,
           0.01,
           0.05,
           0.01,
           0.125,
           0.03,
           0.24,
           0.03,
           0.07,
           0.11,
           0.04,
           0.05,
           0.18,
           0.04,
           0.07,
           0.31
          ]
         },
         "hovertemplate": "color=r<br>x=%{x}<br>y=%{y}<br>telescope=%{customdata[0]}<br>source=%{customdata[1]}<extra></extra>",
         "legendgroup": "r",
         "marker": {
          "color": "rgb(77,175,74)",
          "symbol": "circle"
         },
         "mode": "markers",
         "name": "r",
         "orientation": "v",
         "showlegend": true,
         "type": "scatter",
         "x": [
          4.610775108182708,
          5.095230043768563,
          5.097686184976015,
          5.098763581476061,
          5.1045751904123176,
          5.118853089116484,
          5.324091817874829,
          5.325564098043082,
          5.331271286932973,
          5.474502396093712,
          5.47513110739676,
          5.478309594317676,
          5.479652747894751,
          5.482001834548799,
          5.585492764595072,
          5.58608115803233,
          5.587061394396655,
          5.672201706581809,
          5.6730972477294745,
          5.676285455369364,
          5.746286001160599,
          5.809060089698383,
          5.8116377327657895,
          5.86406231563367,
          5.864330206023796,
          5.912564254173961,
          5.956333661541515,
          6.03161138385928
         ],
         "xaxis": "x",
         "y": [
          17.33,
          17.69,
          18.04,
          17.91,
          17.951,
          17.985,
          18.77,
          19.03,
          18.93,
          19.28,
          19.29,
          19.815,
          19.74,
          19.66,
          20.25,
          19.86,
          20.579,
          20.39,
          20.79,
          20.74,
          21.31,
          21.23,
          21.74,
          21.75,
          21.95,
          22.2,
          22.45,
          23.12
         ],
         "yaxis": "y"
        },
        {
         "customdata": [
          [
           "LCO/Magellan2Clay(6.5m)/LDSS-3",
           "Rossi2020"
          ],
          [
           "PAO/ESO-VISTA(4.1m)/VIRCAM",
           "Rossi2020"
          ],
          [
           "PAO/ESO-VISTA(4.1m)/VIRCAM",
           "Rossi2020"
          ],
          [
           "LCO/Magellan2Clay(6.5m)/LDSS-3",
           "Rossi2020"
          ],
          [
           "PAO/ESO-VISTA(4.1m)/VIRCAM",
           "Rossi2020"
          ],
          [
           "LCO/Magellan2Clay(6.5m)/LDSS-3",
           "Rossi2020"
          ],
          [
           "LCO/Magellan2Clay(6.5m)/LDSS-3",
           "Rossi2020"
          ],
          [
           "LCO/Magellan2Clay(6.5m)/LDSS-3",
           "Rossi2020"
          ],
          [
           "PAO/ESO-VISTA(4.1m)/VIRCAM",
           "Rossi2020"
          ],
          [
           "LCO/Magellan2Clay(6.5m)/LDSS-3",
           "Rossi2020"
          ],
          [
           "PAO/ESO-VISTA(4.1m)/VIRCAM",
           "Rossi2020"
          ],
          [
           "LCO/duPont(2.5m)/WFIRC",
           "Rossi2020"
          ],
          [
           "PAO/ESO-VISTA(4.1m)/VIRCAM",
           "Rossi2020"
          ],
          [
           "PAO/ESO-VISTA(4.1m)/VIRCAM",
           "Rossi2020"
          ],
          [
           "LCO/duPont(2.5m)/WFIRC",
           "Rossi2020"
          ],
          [
           "PAO/ESO-VISTA(4.1m)/VIRCAM",
           "Rossi2020"
          ],
          [
           "LCO/duPont(2.5m)/WFIRC",
           "Rossi2020"
          ],
          [
           "PAO/ESO-VISTA(4.1m)/VIRCAM",
           "Rossi2020"
          ],
          [
           "PAO/ESO-VISTA(4.1m)/VIRCAM",
           "Rossi2020"
          ],
          [
           "PAO/ESO-VISTA(4.1m)/VIRCAM",
           "Rossi2020"
          ],
          [
           "PAO/ESO-VISTA(4.1m)/VIRCAM",
           "Rossi2020"
          ]
         ],
         "error_y": {
          "array": [
           0.15,
           0.03,
           0.03,
           0.01,
           0.01,
           0.01,
           0.01,
           0.01,
           0.02,
           0.01,
           0.02,
           0.02,
           0.03,
           0.04,
           0.04,
           0.08,
           0.1,
           0.09,
           0.14,
           0.35,
           0.4
          ]
         },
         "hovertemplate": "color=J<br>x=%{x}<br>y=%{y}<br>telescope=%{customdata[0]}<br>source=%{customdata[1]}<extra></extra>",
         "legendgroup": "J",
         "marker": {
          "color": "rgb(152,78,163)",
          "symbol": "circle"
         },
         "mode": "markers",
         "name": "J",
         "orientation": "v",
         "showlegend": true,
         "type": "scatter",
         "x": [
          4.610775108182708,
          4.6183828453446445,
          4.64467487591822,
          5.098972765211638,
          5.104626390980377,
          5.1051724278265045,
          5.3229854584911,
          5.326113412417397,
          5.32968419556088,
          5.473721527919821,
          5.477180314753406,
          5.586913285701275,
          5.587082972504066,
          5.747598848303689,
          5.809406654410987,
          5.809990966966559,
          5.864517488634707,
          5.8645352869615675,
          5.912987271209057,
          5.95657217504674,
          5.996179169528468
         ],
         "xaxis": "x",
         "y": [
          17.83,
          17.88,
          17.82,
          17.47,
          17.45,
          17.32,
          17.55,
          17.52,
          17.66,
          17.85,
          17.86,
          18.1,
          18.08,
          18.74,
          18.99,
          19.07,
          19.3,
          19.69,
          20.06,
          20.94,
          21.16
         ],
         "yaxis": "y"
        },
        {
         "customdata": [
          [
           "LCO/Magellan2Clay(6.5m)/LDSS-3",
           "Rossi2020"
          ],
          [
           "LCO/Magellan2Clay(6.5m)/LDSS-3",
           "Rossi2020"
          ],
          [
           "LCO/Magellan2Clay(6.5m)/LDSS-3",
           "Rossi2020"
          ],
          [
           "LCO/Magellan2Clay(6.5m)/LDSS-3",
           "Rossi2020"
          ],
          [
           "Xinglong/2.16m/BFOSC",
           "Rossi2020"
          ],
          [
           "LSO/Danish(1.54m)/DFOSC",
           "Rossi2020"
          ],
          [
           "LCO/Magellan2Clay(6.5m)/LDSS-3",
           "Rossi2020"
          ],
          [
           "Xinglong/2.16m/BFOSC",
           "Rossi2020"
          ],
          [
           "PAO/VLT-UT3-Melipal/VIMOS",
           "Rossi2020"
          ],
          [
           "PAO/VLT(8.2m)/FORS1",
           "Rossi2020"
          ],
          [
           "LCO/Magellan2Clay(6.5m)/LDSS-3",
           "Rossi2020"
          ],
          [
           "Xinglong/2.16m/BFOSC",
           "Rossi2020"
          ],
          [
           "PAO/VLT(8.2m)/FORS1",
           "Rossi2020"
          ],
          [
           "LCO/Magellan2Clay(6.5m)/LDSS-3",
           "Rossi2020"
          ],
          [
           "PAO/VLT-UT3-Melipal/VIMOS",
           "Rossi2020"
          ],
          [
           "LCO/Magellan2Clay(6.5m)/LDSS-3",
           "Rossi2020"
          ],
          [
           "PAO/VLT(8.2m)/FORS1",
           "Rossi2020"
          ],
          [
           "PAO/VLT-UT3-Melipal/VIMOS",
           "Rossi2020"
          ],
          [
           "PAO/ANTU-VLT-UT1(8.2m)/FORS1",
           "Rossi2020"
          ],
          [
           "PAO/VLT(8.2m)/FORS1",
           "Rossi2020"
          ],
          [
           "PAO/VLT(8.2m)/FORS1",
           "Rossi2020"
          ],
          [
           "PAO/VLT(8.2m)/FORS1",
           "Rossi2020"
          ],
          [
           "PAO/VLT-UT3-Melipal/VIMOS",
           "Rossi2020"
          ],
          [
           "PAO/VLT(8.2m)/FORS1",
           "Rossi2020"
          ],
          [
           "PAO/VLT-UT3-Melipal/VIMOS",
           "Rossi2020"
          ]
         ],
         "error_y": {
          "array": [
           0.03,
           0.06,
           0.06,
           0.06,
           0.07,
           0.13,
           0.05,
           0.02,
           0.01,
           0.027,
           0.12,
           0.03,
           0.039,
           0.07,
           0.03,
           0.07,
           0.092,
           0.04,
           0.11,
           0.11,
           0.214,
           0.471,
           0.28,
           0.368,
           0.48
          ]
         },
         "hovertemplate": "color=z<br>x=%{x}<br>y=%{y}<br>telescope=%{customdata[0]}<br>source=%{customdata[1]}<extra></extra>",
         "legendgroup": "z",
         "marker": {
          "color": "rgb(255,127,0)",
          "symbol": "circle"
         },
         "mode": "markers",
         "name": "z",
         "orientation": "v",
         "showlegend": true,
         "type": "scatter",
         "x": [
          4.610775108182708,
          5.097626251173037,
          5.098105490163472,
          5.09828506853184,
          5.1045751904123176,
          5.32760207122408,
          5.477136889039792,
          5.479652747894751,
          5.584911705127097,
          5.58718410559498,
          5.672411693223791,
          5.676285455369364,
          5.746324945903575,
          5.808211999560072,
          5.863026725023166,
          5.863079825190795,
          5.864075856612928,
          5.911822130160571,
          5.91242081904214,
          5.912622252264765,
          5.9558573950200575,
          5.995553065694176,
          6.065035067558467,
          6.096676403989187,
          6.22583879805446
         ],
         "xaxis": "x",
         "y": [
          17.67,
          17.62,
          17.61,
          17.61,
          17.654,
          18.01,
          18.38,
          18.3,
          18.73,
          18.927,
          19.08,
          19.16,
          19.627,
          19.87,
          20.28,
          20.4,
          20.606,
          20.85,
          20.69,
          20.69,
          22.014,
          22.815,
          22.3,
          23.342,
          23.37
         ],
         "yaxis": "y"
        },
        {
         "customdata": [
          [
           "LCO/Magellan2Clay(6.5m)/LDSS-3",
           "Rossi2020"
          ],
          [
           "SAAO/SALT(10m)/SALTICAM",
           "Rossi2020"
          ],
          [
           "LSO/NTT(3.58m)/EFOSC2+LSO/NTT(3.58m)/SOFI",
           "Rossi2020"
          ],
          [
           "LSO/NTT(3.58m)/EFOSC2+LSO/NTT(3.58m)/SOFI",
           "Rossi2020"
          ],
          [
           "LSO/NTT(3.58m)/EFOSC2+LSO/NTT(3.58m)/SOFI",
           "Rossi2020"
          ],
          [
           "CTIO/LCOGT(1m)/Sinistro",
           "Rossi2020"
          ],
          [
           "LCO/Swope(1m)/CISCO",
           "Rossi2020"
          ],
          [
           "LSO/NTT(3.58m)/EFOSC2+LSO/NTT(3.58m)/SOFI",
           "Rossi2020"
          ],
          [
           "LSO/NTT(3.58m)/EFOSC2+LSO/NTT(3.58m)/SOFI",
           "Rossi2020"
          ],
          [
           "LSO/NTT(3.58m)/EFOSC2+LSO/NTT(3.58m)/SOFI",
           "Rossi2020"
          ],
          [
           "LSO/NTT(3.58m)/EFOSC2+LSO/NTT(3.58m)/SOFI",
           "Rossi2020"
          ],
          [
           "LSO/NTT(3.58m)/EFOSC2+LSO/NTT(3.58m)/SOFI",
           "Rossi2020"
          ],
          [
           "SSO/iTelescope(T17)/CCD",
           "Rossi2020"
          ],
          [
           "SAAO/SALT(10m)/SALTICAM",
           "Rossi2020"
          ],
          [
           "SSO/iTelescope(T17)/CCD",
           "Rossi2020"
          ],
          [
           "LSO/NTT(3.58m)/EFOSC2+LSO/NTT(3.58m)/SOFI",
           "Rossi2020"
          ],
          [
           "CTIO/LCOGT(1m)/Sinistro",
           "Rossi2020"
          ],
          [
           "LCO/Magellan2Clay(6.5m)/LDSS-3",
           "Rossi2020"
          ],
          [
           "SSO/iTelescope(T17)/CCD",
           "Rossi2020"
          ],
          [
           "LSO/NTT(3.58m)/EFOSC2+LSO/NTT(3.58m)/SOFI",
           "Rossi2020"
          ],
          [
           "LSO/NTT(3.58m)/EFOSC2+LSO/NTT(3.58m)/SOFI",
           "Rossi2020"
          ],
          [
           "SSO/iTelescope(T17)/CCD",
           "Rossi2020"
          ],
          [
           "SSO/iTelescope(T17)/CCD",
           "Rossi2020"
          ],
          [
           "LSO/NTT(3.58m)/EFOSC2+LSO/NTT(3.58m)/SOFI",
           "Rossi2020"
          ],
          [
           "LCO/Swope(1m)/CISCO",
           "Rossi2020"
          ],
          [
           "LSO/NTT(3.58m)/EFOSC2+LSO/NTT(3.58m)/SOFI",
           "Rossi2020"
          ],
          [
           "PAO/VLT(8.2m)/FORS1",
           "Rossi2020"
          ],
          [
           "PAO/VLT(8.2m)/FORS1",
           "Rossi2020"
          ],
          [
           "PAO/VLT(8.2m)/FORS1",
           "Rossi2020"
          ],
          [
           "PAO/VLT(8.2m)/FORS1",
           "Rossi2020"
          ]
         ],
         "error_y": {
          "array": [
           0.02,
           0.04,
           0.08,
           0.05,
           0.08,
           0.04,
           0.041,
           0.04,
           0.06,
           0.04,
           0.06,
           0.1,
           0.05,
           0.05,
           0.07,
           0.11,
           0.05,
           0.08,
           0.18,
           0.12,
           0.2,
           0.2,
           0.19,
           0.2,
           0.115,
           0.15,
           0.054,
           0.158,
           0.256,
           0.28
          ]
         },
         "hovertemplate": "color=V<br>x=%{x}<br>y=%{y}<br>telescope=%{customdata[0]}<br>source=%{customdata[1]}<extra></extra>",
         "legendgroup": "V",
         "marker": {
          "color": "rgb(255,255,51)",
          "symbol": "circle"
         },
         "mode": "markers",
         "name": "V",
         "orientation": "v",
         "showlegend": true,
         "type": "scatter",
         "x": [
          4.611094240570642,
          5.013169354035744,
          5.093878154870989,
          5.095296586307409,
          5.095718203854858,
          5.098791810559456,
          5.102865726945432,
          5.107711832558442,
          5.108092319115667,
          5.108414009119151,
          5.118012742356293,
          5.118298595109088,
          5.1996860794534845,
          5.277766860941249,
          5.283588853532239,
          5.324631726336728,
          5.326403048463367,
          5.32968419556088,
          5.331437014890555,
          5.332555117964053,
          5.339014900127872,
          5.392529532999511,
          5.443788517818216,
          5.473248195753014,
          5.475933138488701,
          5.479126878773975,
          5.589087749540436,
          5.749124472337463,
          5.865189758584596,
          5.957159258688069
         ],
         "xaxis": "x",
         "y": [
          17.35,
          17.81,
          18.22,
          18.16,
          18.13,
          18.28,
          18.222,
          18.14,
          18.16,
          18.18,
          18.25,
          18.18,
          18.79,
          19.25,
          19.06,
          19.4,
          19.51,
          19.51,
          19.33,
          19.53,
          19.59,
          19.77,
          19.89,
          20.54,
          20.521,
          20.55,
          21.082,
          22.361,
          23.152,
          23.761
         ],
         "yaxis": "y"
        },
        {
         "customdata": [
          [
           "LCO/Magellan2Clay(6.5m)/LDSS-3",
           "Rossi2020"
          ],
          [
           "LCO/Magellan2Clay(6.5m)/LDSS-3",
           "Rossi2020"
          ],
          [
           "LCO/Magellan2Clay(6.5m)/LDSS-3",
           "Rossi2020"
          ],
          [
           "LSO/REM(0.6m)/TORTORA",
           "Rossi2020"
          ],
          [
           "SSO/iTelescope(T17)/CCD",
           "Rossi2020"
          ],
          [
           "SSO/iTelescope(T17)/CCD",
           "Rossi2020"
          ],
          [
           "CTIO/VictorMBlanco(4m)/DECam",
           "Rossi2020"
          ],
          [
           "SSO/iTelescope(T17)/CCD",
           "Rossi2020"
          ],
          [
           "LCO/Magellan2Clay(6.5m)/LDSS-3",
           "Rossi2020"
          ],
          [
           "LCO/Magellan2Clay(6.5m)/LDSS-3",
           "Rossi2020"
          ],
          [
           "LSO/MPG-ESO(2.2m)/GROND",
           "Rossi2020"
          ],
          [
           "Xinglong/2.16m/BFOSC",
           "Rossi2020"
          ],
          [
           "LSO/REM(0.6m)/TORTORA",
           "Rossi2020"
          ],
          [
           "LCO/Swope(1m)/CISCO",
           "Rossi2020"
          ],
          [
           "SSO/iTelescope(T17)/CCD",
           "Rossi2020"
          ],
          [
           "SSO/iTelescope(T17)/CCD",
           "Rossi2020"
          ],
          [
           "SSO/iTelescope(T17)/CCD",
           "Rossi2020"
          ],
          [
           "LSO/REM(0.6m)/TORTORA",
           "Rossi2020"
          ],
          [
           "LSO/MPG-ESO(2.2m)/GROND",
           "Rossi2020"
          ],
          [
           "CTIO/VictorMBlanco(4m)/DECam",
           "Rossi2020"
          ],
          [
           "SSO/iTelescope(T17)/CCD",
           "Rossi2020"
          ],
          [
           "LSO/MPG-ESO(2.2m)/GROND",
           "Rossi2020"
          ],
          [
           "CTIO/VictorMBlanco(4m)/DECam",
           "Rossi2020"
          ],
          [
           "LCO/Swope(1m)/CISCO",
           "Rossi2020"
          ],
          [
           "Xinglong/2.16m/BFOSC",
           "Rossi2020"
          ],
          [
           "CP/Gemini-South(8.1m)/GMOS",
           "Rossi2020"
          ],
          [
           "LSO/MPG-ESO(2.2m)/GROND",
           "Rossi2020"
          ],
          [
           "CTIO/VictorMBlanco(4m)/DECam",
           "Rossi2020"
          ],
          [
           "LCO/Magellan2Clay(6.5m)/LDSS-3",
           "Rossi2020"
          ],
          [
           "LCO/Swope(1m)/CISCO",
           "Rossi2020"
          ],
          [
           "PAO/ESO-VST/OMEGACAM",
           "Rossi2020"
          ],
          [
           "Xinglong/2.16m/BFOSC",
           "Rossi2020"
          ]
         ],
         "error_y": {
          "array": [
           0.02,
           0.04,
           0.02,
           0.07,
           0.12,
           0.12,
           0.03,
           0.14,
           0.03,
           0.03,
           0.04,
           0.06,
           0.068,
           0.124,
           0.17,
           0.21,
           0.2,
           0.282,
           0.11,
           0.05,
           0.33,
           0.16,
           0.08,
           0.049,
           0.06,
           0.01,
           0.22,
           0.11,
           0.06,
           0.104,
           0.12,
           0.1
          ]
         },
         "hovertemplate": "color=g<br>x=%{x}<br>y=%{y}<br>telescope=%{customdata[0]}<br>source=%{customdata[1]}<extra></extra>",
         "legendgroup": "g",
         "marker": {
          "color": "rgb(166,86,40)",
          "symbol": "circle"
         },
         "mode": "markers",
         "name": "g",
         "orientation": "v",
         "showlegend": true,
         "type": "scatter",
         "x": [
          4.616614969871581,
          4.621037451593204,
          4.6241690201318155,
          4.657637073991166,
          4.877873316653548,
          5.02205206711582,
          5.097686184976015,
          5.098688018136431,
          5.099210050149664,
          5.10102769361882,
          5.103046636726954,
          5.1045751904123176,
          5.114386774376045,
          5.120846266885037,
          5.201731320511736,
          5.2849538281466675,
          5.285537506528159,
          5.32322073905793,
          5.32414329410851,
          5.325564098043082,
          5.332659792693573,
          5.473872773309982,
          5.47513110739676,
          5.477435570155865,
          5.479652747894751,
          5.482245116422237,
          5.584584941080106,
          5.585882410793071,
          5.588976854199748,
          5.590568559989977,
          5.673957456298145,
          5.676285455369364
         ],
         "xaxis": "x",
         "y": [
          17.41,
          17.41,
          17.39,
          17.32,
          17.32,
          18.12,
          18.66,
          18.74,
          18.61,
          18.66,
          18.49,
          18.553,
          18.591,
          18.488,
          19.53,
          20.44,
          20.24,
          20.314,
          20.19,
          20.21,
          20.81,
          21.13,
          20.93,
          20.771,
          20.94,
          20.9,
          21.58,
          21.73,
          21.78,
          21.75,
          22.51,
          22.332
         ],
         "yaxis": "y"
        },
        {
         "customdata": [
          [
           "SSO/iTelescope(T17)/CCD",
           "Rossi2020"
          ],
          [
           "SSO/iTelescope(T17)/CCD",
           "Rossi2020"
          ],
          [
           "SSO/iTelescope(T17)/CCD",
           "Rossi2020"
          ],
          [
           "SSO/iTelescope(T17)/CCD",
           "Rossi2020"
          ],
          [
           "SSO/iTelescope(T17)/CCD",
           "Rossi2020"
          ],
          [
           "SSO/iTelescope(T17)/CCD",
           "Rossi2020"
          ],
          [
           "SSO/iTelescope(T17)/CCD",
           "Rossi2020"
          ],
          [
           "SSO/iTelescope(T17)/CCD",
           "Rossi2020"
          ],
          [
           "SSO/iTelescope(T17)/CCD",
           "Rossi2020"
          ],
          [
           "SSO/iTelescope(T17)/CCD",
           "Rossi2020"
          ],
          [
           "SSO/iTelescope(T17)/CCD",
           "Rossi2020"
          ],
          [
           "SSO/iTelescope(T17)/CCD",
           "Rossi2020"
          ],
          [
           "SSO/iTelescope(T17)/CCD",
           "Rossi2020"
          ],
          [
           "SSO/iTelescope(T17)/CCD",
           "Rossi2020"
          ],
          [
           "SSO/iTelescope(T17)/CCD",
           "Rossi2020"
          ],
          [
           "SSO/iTelescope(T17)/CCD",
           "Rossi2020"
          ],
          [
           "SSO/iTelescope(T17)/CCD",
           "Rossi2020"
          ],
          [
           "SSO/iTelescope(T17)/CCD",
           "Rossi2020"
          ]
         ],
         "error_y": {
          "array": [
           0.04,
           0.04,
           0.04,
           0.04,
           0.05,
           0.06,
           0.06,
           0.07,
           0.07,
           0.06,
           0.05,
           0.05,
           0.05,
           0.07,
           0.08,
           0.13,
           0.06,
           0.09
          ]
         },
         "hovertemplate": "color=w<br>x=%{x}<br>y=%{y}<br>telescope=%{customdata[0]}<br>source=%{customdata[1]}<extra></extra>",
         "legendgroup": "w",
         "marker": {
          "color": "rgb(247,129,191)",
          "symbol": "circle"
         },
         "mode": "markers",
         "name": "w",
         "orientation": "v",
         "showlegend": true,
         "type": "scatter",
         "x": [
          4.621084841732344,
          4.868324623511578,
          5.017751002269315,
          5.09508562394388,
          5.198892311898261,
          5.2849538281466675,
          5.285537506528159,
          5.327571431219982,
          5.3282768286410045,
          5.332485320792745,
          5.333008526362045,
          5.3913120382049655,
          5.391921212240485,
          5.395558420843756,
          5.396010937542635,
          5.444193492886184,
          5.444732872880539,
          5.586305484397182
         ],
         "xaxis": "x",
         "y": [
          17.49,
          17.31,
          17.95,
          18.23,
          18.69,
          19.11,
          19.11,
          19.56,
          19.48,
          19.46,
          19.36,
          19.68,
          19.61,
          19.53,
          19.56,
          20.13,
          19.99,
          20.64
         ],
         "yaxis": "y"
        },
        {
         "customdata": [
          [
           "PAO/ESO-VISTA(4.1m)/VIRCAM",
           "Rossi2020"
          ],
          [
           "PAO/ESO-VISTA(4.1m)/VIRCAM",
           "Rossi2020"
          ],
          [
           "PAO/ESO-VISTA(4.1m)/VIRCAM",
           "Rossi2020"
          ],
          [
           "PAO/ESO-VISTA(4.1m)/VIRCAM",
           "Rossi2020"
          ],
          [
           "LCO/duPont(2.5m)/WFIRC",
           "Rossi2020"
          ],
          [
           "PAO/ESO-VISTA(4.1m)/VIRCAM",
           "Rossi2020"
          ],
          [
           "LCO/duPont(2.5m)/WFIRC",
           "Rossi2020"
          ],
          [
           "PAO/ESO-VISTA(4.1m)/VIRCAM",
           "Rossi2020"
          ],
          [
           "PAO/ESO-VISTA(4.1m)/VIRCAM",
           "Rossi2020"
          ],
          [
           "PAO/ESO-VISTA(4.1m)/VIRCAM",
           "Rossi2020"
          ],
          [
           "PAO/ESO-VISTA(4.1m)/VIRCAM",
           "Rossi2020"
          ]
         ],
         "error_y": {
          "array": [
           0.01,
           0.01,
           0.02,
           0.01,
           0.02,
           0.02,
           0.1,
           0.04,
           0.07,
           0.09,
           0.14
          ]
         },
         "hovertemplate": "color=Y<br>x=%{x}<br>y=%{y}<br>telescope=%{customdata[0]}<br>source=%{customdata[1]}<extra></extra>",
         "legendgroup": "Y",
         "marker": {
          "color": "rgb(153,153,153)",
          "symbol": "circle"
         },
         "mode": "markers",
         "name": "Y",
         "orientation": "v",
         "showlegend": true,
         "type": "scatter",
         "x": [
          4.625551144411224,
          5.103445194569795,
          5.328981082186697,
          5.475676998245082,
          5.5841751217371804,
          5.585916217763336,
          5.674687388192349,
          5.747330379749316,
          5.809758434638757,
          5.863919753391707,
          5.912436758618594
         ],
         "xaxis": "x",
         "y": [
          17.46,
          17.23,
          17.51,
          17.76,
          18.08,
          18.07,
          18.33,
          18.71,
          19.24,
          19.67,
          20.09
         ],
         "yaxis": "y"
        },
        {
         "customdata": [
          [
           "LCO/Magellan2Clay(6.5m)/LDSS-3",
           "Rossi2020"
          ],
          [
           "LCO/Magellan2Clay(6.5m)/LDSS-3",
           "Rossi2020"
          ],
          [
           "LCO/Magellan2Clay(6.5m)/LDSS-3",
           "Rossi2020"
          ],
          [
           "LCO/Magellan2Clay(6.5m)/LDSS-3",
           "Rossi2020"
          ],
          [
           "LSO/NTT(3.58m)/EFOSC2+LSO/NTT(3.58m)/SOFI",
           "Rossi2020"
          ],
          [
           "LCO/Magellan2Clay(6.5m)/LDSS-3",
           "Rossi2020"
          ],
          [
           "LSO/NTT(3.58m)/EFOSC2+LSO/NTT(3.58m)/SOFI",
           "Rossi2020"
          ],
          [
           "LCO/Magellan2Clay(6.5m)/LDSS-3",
           "Rossi2020"
          ],
          [
           "LCO/Magellan2Clay(6.5m)/LDSS-3",
           "Rossi2020"
          ],
          [
           "LCO/Magellan2Clay(6.5m)/LDSS-3",
           "Rossi2020"
          ]
         ],
         "error_y": {
          "array": [
           0.15,
           0.04,
           0.06,
           0.09,
           0.09,
           0.09,
           0.09,
           0.1,
           0.13,
           0.17
          ]
         },
         "hovertemplate": "color=Ks<br>x=%{x}<br>y=%{y}<br>telescope=%{customdata[0]}<br>source=%{customdata[1]}<extra></extra>",
         "legendgroup": "Ks",
         "marker": {
          "color": "rgb(228,26,28)",
          "symbol": "circle"
         },
         "mode": "markers",
         "name": "Ks",
         "orientation": "v",
         "showlegend": true,
         "type": "scatter",
         "x": [
          4.6375177476078955,
          5.098883127376141,
          5.322896266225305,
          6.031136733111972,
          6.031939312136816,
          6.0652472383229385,
          6.065634530211298,
          6.125218618684389,
          6.2020943853892785,
          6.202800656983296
         ],
         "xaxis": "x",
         "y": [
          18.41,
          17.61,
          17.55,
          19.36,
          19.32,
          19.52,
          19.43,
          20.23,
          20.81,
          20.93
         ],
         "yaxis": "y"
        },
        {
         "customdata": [
          [
           "NGSO/Swift/UVOT",
           "Rossi2020"
          ],
          [
           "NGSO/Swift/UVOT",
           "Rossi2020"
          ]
         ],
         "error_y": {
          "array": [
           0.24,
           0.45
          ]
         },
         "hovertemplate": "color=UVM2<br>x=%{x}<br>y=%{y}<br>telescope=%{customdata[0]}<br>source=%{customdata[1]}<extra></extra>",
         "legendgroup": "UVM2",
         "marker": {
          "color": "rgb(55,126,184)",
          "symbol": "circle"
         },
         "mode": "markers",
         "name": "UVM2",
         "orientation": "v",
         "showlegend": true,
         "type": "scatter",
         "x": [
          4.7359576033078685,
          4.970500061236117
         ],
         "xaxis": "x",
         "y": [
          21.12,
          22.52
         ],
         "yaxis": "y"
        },
        {
         "customdata": [
          [
           "NGSO/Swift/UVOT",
           "Rossi2020"
          ],
          [
           "NGSO/Swift/UVOT",
           "Rossi2020"
          ]
         ],
         "error_y": {
          "array": [
           0.11,
           0.23
          ]
         },
         "hovertemplate": "color=UVW1<br>x=%{x}<br>y=%{y}<br>telescope=%{customdata[0]}<br>source=%{customdata[1]}<extra></extra>",
         "legendgroup": "UVW1",
         "marker": {
          "color": "rgb(77,175,74)",
          "symbol": "circle"
         },
         "mode": "markers",
         "name": "UVW1",
         "orientation": "v",
         "showlegend": true,
         "type": "scatter",
         "x": [
          4.738227828704857,
          4.95304558666013
         ],
         "xaxis": "x",
         "y": [
          19.46,
          20.21
         ],
         "yaxis": "y"
        },
        {
         "customdata": [
          [
           "NGSO/Swift/UVOT",
           "Rossi2020"
          ],
          [
           "NGSO/Swift/UVOT",
           "Rossi2020"
          ],
          [
           "NGSO/Swift/UVOT",
           "Rossi2020"
          ],
          [
           "LSO/NTT(3.58m)/EFOSC2+LSO/NTT(3.58m)/SOFI",
           "Rossi2020"
          ],
          [
           "LSO/NTT(3.58m)/EFOSC2+LSO/NTT(3.58m)/SOFI",
           "Rossi2020"
          ],
          [
           "LSO/NTT(3.58m)/EFOSC2+LSO/NTT(3.58m)/SOFI",
           "Rossi2020"
          ],
          [
           "LSO/NTT(3.58m)/EFOSC2+LSO/NTT(3.58m)/SOFI",
           "Rossi2020"
          ]
         ],
         "error_y": {
          "array": [
           0.09,
           0.17,
           0.45,
           0.29,
           0.23,
           0.28,
           0.28
          ]
         },
         "hovertemplate": "color=U<br>x=%{x}<br>y=%{y}<br>telescope=%{customdata[0]}<br>source=%{customdata[1]}<extra></extra>",
         "legendgroup": "U",
         "marker": {
          "color": "rgb(152,78,163)",
          "symbol": "circle"
         },
         "mode": "markers",
         "name": "U",
         "orientation": "v",
         "showlegend": true,
         "type": "scatter",
         "x": [
          4.743168623378604,
          4.954548096962958,
          5.113689382828022,
          5.1184565274472344,
          5.118485091987129,
          5.119597646176288,
          5.120707357557925
         ],
         "xaxis": "x",
         "y": [
          18.19,
          19,
          20.79,
          20.25,
          20.11,
          20.21,
          20.1
         ],
         "yaxis": "y"
        },
        {
         "customdata": [
          [
           "SAAO/SALT(10m)/SALTICAM",
           "Rossi2020"
          ],
          [
           "CTIO/LCOGT(1m)/Sinistro",
           "Rossi2020"
          ],
          [
           "LCO/Magellan2Clay(6.5m)/LDSS-3",
           "Rossi2020"
          ],
          [
           "LCO/Magellan2Clay(6.5m)/LDSS-3",
           "Rossi2020"
          ],
          [
           "LCO/Swope(1m)/CISCO",
           "Rossi2020"
          ],
          [
           "SSO/iTelescope(T17)/CCD",
           "Rossi2020"
          ],
          [
           "SAAO/SALT(10m)/SALTICAM",
           "Rossi2020"
          ],
          [
           "CTIO/LCOGT(1m)/Sinistro",
           "Rossi2020"
          ],
          [
           "LCO/Swope(1m)/CISCO",
           "Rossi2020"
          ],
          [
           "PAO/VLT(8.2m)/FORS1",
           "Rossi2020"
          ],
          [
           "LCO/Magellan2Clay(6.5m)/LDSS-3",
           "Rossi2020"
          ],
          [
           "PAO/VLT(8.2m)/FORS1",
           "Rossi2020"
          ],
          [
           "LCO/Magellan2Clay(6.5m)/LDSS-3",
           "Rossi2020"
          ],
          [
           "PAO/VLT(8.2m)/FORS1",
           "Rossi2020"
          ]
         ],
         "error_y": {
          "array": [
           0.11,
           0.11,
           0.06,
           0.07,
           0.037,
           0.12,
           0.09,
           0.1,
           0.126,
           0.128,
           0.14,
           0.251,
           0.31,
           0.363
          ]
         },
         "hovertemplate": "color=B<br>x=%{x}<br>y=%{y}<br>telescope=%{customdata[0]}<br>source=%{customdata[1]}<extra></extra>",
         "legendgroup": "B",
         "marker": {
          "color": "rgb(255,127,0)",
          "symbol": "circle"
         },
         "mode": "markers",
         "name": "B",
         "orientation": "v",
         "showlegend": true,
         "type": "scatter",
         "x": [
          5.009513783205766,
          5.098791810559456,
          5.099864814720617,
          5.1002820227442625,
          5.114262608413977,
          5.1996860794534845,
          5.275644838360736,
          5.326403048463367,
          5.4764345267806815,
          5.589221967520051,
          5.589285572354879,
          5.749124472337463,
          5.811802870260766,
          5.865189758584596
         ],
         "xaxis": "x",
         "y": [
          18.47,
          19.09,
          19.04,
          19.04,
          19.066,
          20.1,
          20.45,
          20.82,
          21.719,
          22.729,
          22.52,
          23.807,
          23.85,
          24.581
         ],
         "yaxis": "y"
        },
        {
         "customdata": [
          [
           "SAAO/SALT(10m)/SALTICAM",
           "Rossi2020"
          ],
          [
           "PAO/VLT(8.2m)/FORS1",
           "Rossi2020"
          ],
          [
           "CTIO/LCOGT(1m)/Sinistro",
           "Rossi2020"
          ],
          [
           "SSO/iTelescope(T17)/CCD",
           "Rossi2020"
          ],
          [
           "SAAO/SALT(10m)/SALTICAM",
           "Rossi2020"
          ],
          [
           "PAO/VLT(8.2m)/FORS1",
           "Rossi2020"
          ],
          [
           "CTIO/LCOGT(1m)/Sinistro",
           "Rossi2020"
          ],
          [
           "SSO/iTelescope(T17)/CCD",
           "Rossi2020"
          ],
          [
           "SAAO/SALT(10m)/SALTICAM",
           "Rossi2020"
          ],
          [
           "CTIO/LCOGT(1m)/Sinistro",
           "Rossi2020"
          ],
          [
           "PAO/VLT(8.2m)/FORS1",
           "Rossi2020"
          ],
          [
           "SSO/iTelescope(T17)/CCD",
           "Rossi2020"
          ],
          [
           "SAAO/SALT(10m)/SALTICAM",
           "Rossi2020"
          ],
          [
           "PAO/VLT(8.2m)/FORS1",
           "Rossi2020"
          ],
          [
           "CTIO/LCOGT(1m)/Sinistro",
           "Rossi2020"
          ],
          [
           "SSO/iTelescope(T17)/CCD",
           "Rossi2020"
          ],
          [
           "SAAO/SALT(10m)/SALTICAM",
           "Rossi2020"
          ],
          [
           "PAO/VLT(8.2m)/FORS1",
           "Rossi2020"
          ],
          [
           "SSO/iTelescope(T17)/CCD",
           "Rossi2020"
          ],
          [
           "PAO/VLT(8.2m)/FORS1",
           "Rossi2020"
          ],
          [
           "PAO/VLT(8.2m)/FORS1",
           "Rossi2020"
          ],
          [
           "PAO/VLT(8.2m)/FORS1",
           "Rossi2020"
          ]
         ],
         "error_y": {
          "array": [
           0.05,
           0.02,
           0.05,
           0.05,
           0.05,
           0.04,
           0.05,
           0.05,
           0.05,
           0.06,
           0.01,
           0.09,
           0.06,
           0.058,
           0.08,
           0.05,
           0.07,
           0.03,
           0.07,
           0.106,
           0.24,
           0.277
          ]
         },
         "hovertemplate": "color=R<br>x=%{x}<br>y=%{y}<br>telescope=%{customdata[0]}<br>source=%{customdata[1]}<extra></extra>",
         "legendgroup": "R",
         "marker": {
          "color": "rgb(255,255,51)",
          "symbol": "circle"
         },
         "mode": "markers",
         "name": "R",
         "orientation": "v",
         "showlegend": true,
         "type": "scatter",
         "x": [
          5.013169354035744,
          5.094075436485567,
          5.101770437261437,
          5.1996860794534845,
          5.277766860941249,
          5.323818273786541,
          5.326403048463367,
          5.389139139544831,
          5.439687564802964,
          5.473762495413957,
          5.474020641771863,
          5.520253944484828,
          5.558186143291571,
          5.584228067177945,
          5.584363795232549,
          5.6209526352706,
          5.652080716518788,
          5.67256701209124,
          5.702589748568611,
          5.747645440525094,
          5.864570881427197,
          5.957044206781743
         ],
         "xaxis": "x",
         "y": [
          17.65,
          17.69,
          17.94,
          18.34,
          18.59,
          18.77,
          18.81,
          19.1,
          19.3,
          19.54,
          19.27,
          19.64,
          19.94,
          20.238,
          20.12,
          20.33,
          20.64,
          20.39,
          20.95,
          21.268,
          22.501,
          23.379
         ],
         "yaxis": "y"
        },
        {
         "customdata": [
          [
           "SAAO/SALT(10m)/SALTICAM",
           "Rossi2020"
          ],
          [
           "CTIO/LCOGT(1m)/Sinistro",
           "Rossi2020"
          ],
          [
           "SSO/iTelescope(T17)/CCD",
           "Rossi2020"
          ],
          [
           "SAAO/SALT(10m)/SALTICAM",
           "Rossi2020"
          ],
          [
           "CTIO/LCOGT(1m)/Sinistro",
           "Rossi2020"
          ],
          [
           "SSO/iTelescope(T17)/CCD",
           "Rossi2020"
          ],
          [
           "SAAO/SALT(10m)/SALTICAM",
           "Rossi2020"
          ],
          [
           "CTIO/LCOGT(1m)/Sinistro",
           "Rossi2020"
          ],
          [
           "SSO/iTelescope(T17)/CCD",
           "Rossi2020"
          ],
          [
           "SAAO/SALT(10m)/SALTICAM",
           "Rossi2020"
          ],
          [
           "CTIO/LCOGT(1m)/Sinistro",
           "Rossi2020"
          ],
          [
           "SSO/iTelescope(T17)/CCD",
           "Rossi2020"
          ],
          [
           "SAAO/SALT(10m)/SALTICAM",
           "Rossi2020"
          ],
          [
           "SSO/iTelescope(T17)/CCD",
           "Rossi2020"
          ],
          [
           "SAAO/SALT(10m)/SALTICAM",
           "Rossi2020"
          ],
          [
           "KO/Keck-2(10m)/DEIMOS",
           "Rossi2020"
          ],
          [
           "SSO/iTelescope(T17)/CCD",
           "Rossi2020"
          ],
          [
           "SAAO/SALT(10m)/SALTICAM",
           "Rossi2020"
          ]
         ],
         "error_y": {
          "array": [
           0.1,
           0.09,
           0.09,
           0.12,
           0.13,
           0.1,
           0.11,
           0.11,
           0.1,
           0.1,
           0.1,
           0.13,
           0.1,
           0.14,
           0.11,
           0.09,
           0.12,
           0.13
          ]
         },
         "hovertemplate": "color=I<br>x=%{x}<br>y=%{y}<br>telescope=%{customdata[0]}<br>source=%{customdata[1]}<extra></extra>",
         "legendgroup": "I",
         "marker": {
          "color": "rgb(166,86,40)",
          "symbol": "circle"
         },
         "mode": "markers",
         "name": "I",
         "orientation": "v",
         "showlegend": true,
         "type": "scatter",
         "x": [
          5.013169354035744,
          5.101770437261437,
          5.20204889614652,
          5.277766860941249,
          5.326403048463367,
          5.389139139544831,
          5.441048789121141,
          5.4750211486011215,
          5.520253944484828,
          5.559222701102496,
          5.584363795232549,
          5.6209526352706,
          5.652080716518788,
          5.703333343558135,
          5.72933717686655,
          5.763025680538402,
          5.771282265248442,
          5.793573043430712
         ],
         "xaxis": "x",
         "y": [
          17.58,
          17.77,
          17.98,
          18.26,
          18.4,
          18.62,
          18.73,
          18.87,
          19,
          19.23,
          19.22,
          19.52,
          19.68,
          19.99,
          20.31,
          20.83,
          20.39,
          20.89
         ],
         "yaxis": "y"
        },
        {
         "customdata": [
          [
           "CTIO/VictorMBlanco(4m)/DECam",
           "Rossi2020"
          ],
          [
           "CTIO/VictorMBlanco(4m)/DECam",
           "Rossi2020"
          ],
          [
           "CTIO/VictorMBlanco(4m)/DECam",
           "Rossi2020"
          ]
         ],
         "error_y": {
          "array": [
           0.05,
           0.16,
           0.32
          ]
         },
         "hovertemplate": "color=u<br>x=%{x}<br>y=%{y}<br>telescope=%{customdata[0]}<br>source=%{customdata[1]}<extra></extra>",
         "legendgroup": "u",
         "marker": {
          "color": "rgb(247,129,191)",
          "symbol": "circle"
         },
         "mode": "markers",
         "name": "u",
         "orientation": "v",
         "showlegend": true,
         "type": "scatter",
         "x": [
          5.098584200902033,
          5.32609570343995,
          5.47513110739676
         ],
         "xaxis": "x",
         "y": [
          19.94,
          22.26,
          23.06
         ],
         "yaxis": "y"
        },
        {
         "customdata": [
          [
           "Hubble/HST/WFC3",
           "Rossi2020"
          ],
          [
           "Hubble/HST/WFC3",
           "Rossi2020"
          ],
          [
           "Hubble/HST/WFC3",
           "Rossi2020"
          ],
          [
           "Hubble/HST/WFC3",
           "Rossi2020"
          ]
         ],
         "error_y": {
          "array": [
           0.01,
           0.01,
           0.04,
           0.02
          ]
         },
         "hovertemplate": "color=F110W<br>x=%{x}<br>y=%{y}<br>telescope=%{customdata[0]}<br>source=%{customdata[1]}<extra></extra>",
         "legendgroup": "F110W",
         "marker": {
          "color": "rgb(153,153,153)",
          "symbol": "circle"
         },
         "mode": "markers",
         "name": "F110W",
         "orientation": "v",
         "showlegend": true,
         "type": "scatter",
         "x": [
          5.615371097347703,
          5.79827059235842,
          5.925667427989946,
          5.960741734607847
         ],
         "xaxis": "x",
         "y": [
          18.26,
          19.06,
          20.57,
          20.83
         ],
         "yaxis": "y"
        },
        {
         "customdata": [
          [
           "Hubble/HST/WFC3",
           "Rossi2020"
          ],
          [
           "Hubble/HST/WFC3",
           "Rossi2020"
          ],
          [
           "Hubble/HST/WFC3",
           "Rossi2020"
          ],
          [
           "Hubble/HST/WFC3",
           "Rossi2020"
          ]
         ],
         "error_y": {
          "array": [
           0.11,
           0.11,
           0.11,
           0.27
          ]
         },
         "hovertemplate": "color=F336W<br>x=%{x}<br>y=%{y}<br>telescope=%{customdata[0]}<br>source=%{customdata[1]}<extra></extra>",
         "legendgroup": "F336W",
         "marker": {
          "color": "rgb(228,26,28)",
          "symbol": "circle"
         },
         "mode": "markers",
         "name": "F336W",
         "orientation": "v",
         "showlegend": true,
         "type": "scatter",
         "x": [
          5.662453719092389,
          5.662453719092389,
          5.662453719092389,
          5.928640586073282
         ],
         "xaxis": "x",
         "y": [
          25.18,
          24.97,
          25.05,
          26.92
         ],
         "yaxis": "y"
        },
        {
         "customdata": [
          [
           "Hubble/HST/WFC3",
           "Rossi2020"
          ],
          [
           "Hubble/HST/WFC3",
           "Rossi2020"
          ],
          [
           "Hubble/HST/WFC3",
           "Rossi2020"
          ]
         ],
         "error_y": {
          "array": [
           0.17,
           0.37,
           0.36
          ]
         },
         "hovertemplate": "color=F606W<br>x=%{x}<br>y=%{y}<br>telescope=%{customdata[0]}<br>source=%{customdata[1]}<extra></extra>",
         "legendgroup": "F606W",
         "marker": {
          "color": "rgb(55,126,184)",
          "symbol": "circle"
         },
         "mode": "markers",
         "name": "F606W",
         "orientation": "v",
         "showlegend": true,
         "type": "scatter",
         "x": [
          5.842666392997221,
          5.989067684040582,
          5.994904966304219
         ],
         "xaxis": "x",
         "y": [
          22.49,
          23.77,
          23.66
         ],
         "yaxis": "y"
        },
        {
         "customdata": [
          [
           "Hubble/HST/WFC3",
           "Rossi2020"
          ],
          [
           "Hubble/HST/WFC3",
           "Rossi2020"
          ],
          [
           "Hubble/HST/WFC3",
           "Rossi2020"
          ],
          [
           "Hubble/HST/WFC3",
           "Rossi2020"
          ]
         ],
         "error_y": {
          "array": [
           0.42,
           0.06,
           0.69,
           0.64
          ]
         },
         "hovertemplate": "color=F475W<br>x=%{x}<br>y=%{y}<br>telescope=%{customdata[0]}<br>source=%{customdata[1]}<extra></extra>",
         "legendgroup": "F475W",
         "marker": {
          "color": "rgb(77,175,74)",
          "symbol": "circle"
         },
         "mode": "markers",
         "name": "F475W",
         "orientation": "v",
         "showlegend": true,
         "type": "scatter",
         "x": [
          5.846070266946941,
          5.93242728862215,
          5.990015100381667,
          5.994197804292914
         ],
         "xaxis": "x",
         "y": [
          23.66,
          23.95,
          24.75,
          24.56
         ],
         "yaxis": "y"
        },
        {
         "customdata": [
          [
           "Hubble/HST/WFC3",
           "Rossi2020"
          ]
         ],
         "error_y": {
          "array": [
           0.04
          ]
         },
         "hovertemplate": "color=F160W<br>x=%{x}<br>y=%{y}<br>telescope=%{customdata[0]}<br>source=%{customdata[1]}<extra></extra>",
         "legendgroup": "F160W",
         "marker": {
          "color": "rgb(152,78,163)",
          "symbol": "circle"
         },
         "mode": "markers",
         "name": "F160W",
         "orientation": "v",
         "showlegend": true,
         "type": "scatter",
         "x": [
          5.926379288054575
         ],
         "xaxis": "x",
         "y": [
          19.89
         ],
         "yaxis": "y"
        },
        {
         "customdata": [
          [
           "Hubble/HST/WFC3",
           "Rossi2020"
          ]
         ],
         "error_y": {
          "array": [
           0.07
          ]
         },
         "hovertemplate": "color=F625W<br>x=%{x}<br>y=%{y}<br>telescope=%{customdata[0]}<br>source=%{customdata[1]}<extra></extra>",
         "legendgroup": "F625W",
         "marker": {
          "color": "rgb(255,127,0)",
          "symbol": "circle"
         },
         "mode": "markers",
         "name": "F625W",
         "orientation": "v",
         "showlegend": true,
         "type": "scatter",
         "x": [
          5.935152026898865
         ],
         "xaxis": "x",
         "y": [
          22.88
         ],
         "yaxis": "y"
        },
        {
         "customdata": [
          [
           "Hubble/HST/WFC3",
           "Rossi2020"
          ]
         ],
         "error_y": {
          "array": [
           0.02
          ]
         },
         "hovertemplate": "color=F814W<br>x=%{x}<br>y=%{y}<br>telescope=%{customdata[0]}<br>source=%{customdata[1]}<extra></extra>",
         "legendgroup": "F814W",
         "marker": {
          "color": "rgb(255,255,51)",
          "symbol": "circle"
         },
         "mode": "markers",
         "name": "F814W",
         "orientation": "v",
         "showlegend": true,
         "type": "scatter",
         "x": [
          5.994645103754814
         ],
         "xaxis": "x",
         "y": [
          22.32
         ],
         "yaxis": "y"
        }
       ],
       "layout": {
        "font": {
         "color": "black",
         "family": "arial",
         "size": 18
        },
        "height": 540,
        "legend": {
         "font": {
          "color": "black",
          "family": "arial",
          "size": 18
         },
         "title": {
          "font": {
           "color": "black",
           "family": "arial",
           "size": 20
          },
          "text": "<b>Bands<b>"
         },
         "tracegroupgap": 0
        },
        "margin": {
         "b": 40,
         "l": 40,
         "r": 40,
         "t": 50
        },
        "plot_bgcolor": "white",
        "template": {
         "data": {
          "bar": [
           {
            "error_x": {
             "color": "#2a3f5f"
            },
            "error_y": {
             "color": "#2a3f5f"
            },
            "marker": {
             "line": {
              "color": "#E5ECF6",
              "width": 0.5
             },
             "pattern": {
              "fillmode": "overlay",
              "size": 10,
              "solidity": 0.2
             }
            },
            "type": "bar"
           }
          ],
          "barpolar": [
           {
            "marker": {
             "line": {
              "color": "#E5ECF6",
              "width": 0.5
             },
             "pattern": {
              "fillmode": "overlay",
              "size": 10,
              "solidity": 0.2
             }
            },
            "type": "barpolar"
           }
          ],
          "carpet": [
           {
            "aaxis": {
             "endlinecolor": "#2a3f5f",
             "gridcolor": "white",
             "linecolor": "white",
             "minorgridcolor": "white",
             "startlinecolor": "#2a3f5f"
            },
            "baxis": {
             "endlinecolor": "#2a3f5f",
             "gridcolor": "white",
             "linecolor": "white",
             "minorgridcolor": "white",
             "startlinecolor": "#2a3f5f"
            },
            "type": "carpet"
           }
          ],
          "choropleth": [
           {
            "colorbar": {
             "outlinewidth": 0,
             "ticks": ""
            },
            "type": "choropleth"
           }
          ],
          "contour": [
           {
            "colorbar": {
             "outlinewidth": 0,
             "ticks": ""
            },
            "colorscale": [
             [
              0,
              "#0d0887"
             ],
             [
              0.1111111111111111,
              "#46039f"
             ],
             [
              0.2222222222222222,
              "#7201a8"
             ],
             [
              0.3333333333333333,
              "#9c179e"
             ],
             [
              0.4444444444444444,
              "#bd3786"
             ],
             [
              0.5555555555555556,
              "#d8576b"
             ],
             [
              0.6666666666666666,
              "#ed7953"
             ],
             [
              0.7777777777777778,
              "#fb9f3a"
             ],
             [
              0.8888888888888888,
              "#fdca26"
             ],
             [
              1,
              "#f0f921"
             ]
            ],
            "type": "contour"
           }
          ],
          "contourcarpet": [
           {
            "colorbar": {
             "outlinewidth": 0,
             "ticks": ""
            },
            "type": "contourcarpet"
           }
          ],
          "heatmap": [
           {
            "colorbar": {
             "outlinewidth": 0,
             "ticks": ""
            },
            "colorscale": [
             [
              0,
              "#0d0887"
             ],
             [
              0.1111111111111111,
              "#46039f"
             ],
             [
              0.2222222222222222,
              "#7201a8"
             ],
             [
              0.3333333333333333,
              "#9c179e"
             ],
             [
              0.4444444444444444,
              "#bd3786"
             ],
             [
              0.5555555555555556,
              "#d8576b"
             ],
             [
              0.6666666666666666,
              "#ed7953"
             ],
             [
              0.7777777777777778,
              "#fb9f3a"
             ],
             [
              0.8888888888888888,
              "#fdca26"
             ],
             [
              1,
              "#f0f921"
             ]
            ],
            "type": "heatmap"
           }
          ],
          "heatmapgl": [
           {
            "colorbar": {
             "outlinewidth": 0,
             "ticks": ""
            },
            "colorscale": [
             [
              0,
              "#0d0887"
             ],
             [
              0.1111111111111111,
              "#46039f"
             ],
             [
              0.2222222222222222,
              "#7201a8"
             ],
             [
              0.3333333333333333,
              "#9c179e"
             ],
             [
              0.4444444444444444,
              "#bd3786"
             ],
             [
              0.5555555555555556,
              "#d8576b"
             ],
             [
              0.6666666666666666,
              "#ed7953"
             ],
             [
              0.7777777777777778,
              "#fb9f3a"
             ],
             [
              0.8888888888888888,
              "#fdca26"
             ],
             [
              1,
              "#f0f921"
             ]
            ],
            "type": "heatmapgl"
           }
          ],
          "histogram": [
           {
            "marker": {
             "pattern": {
              "fillmode": "overlay",
              "size": 10,
              "solidity": 0.2
             }
            },
            "type": "histogram"
           }
          ],
          "histogram2d": [
           {
            "colorbar": {
             "outlinewidth": 0,
             "ticks": ""
            },
            "colorscale": [
             [
              0,
              "#0d0887"
             ],
             [
              0.1111111111111111,
              "#46039f"
             ],
             [
              0.2222222222222222,
              "#7201a8"
             ],
             [
              0.3333333333333333,
              "#9c179e"
             ],
             [
              0.4444444444444444,
              "#bd3786"
             ],
             [
              0.5555555555555556,
              "#d8576b"
             ],
             [
              0.6666666666666666,
              "#ed7953"
             ],
             [
              0.7777777777777778,
              "#fb9f3a"
             ],
             [
              0.8888888888888888,
              "#fdca26"
             ],
             [
              1,
              "#f0f921"
             ]
            ],
            "type": "histogram2d"
           }
          ],
          "histogram2dcontour": [
           {
            "colorbar": {
             "outlinewidth": 0,
             "ticks": ""
            },
            "colorscale": [
             [
              0,
              "#0d0887"
             ],
             [
              0.1111111111111111,
              "#46039f"
             ],
             [
              0.2222222222222222,
              "#7201a8"
             ],
             [
              0.3333333333333333,
              "#9c179e"
             ],
             [
              0.4444444444444444,
              "#bd3786"
             ],
             [
              0.5555555555555556,
              "#d8576b"
             ],
             [
              0.6666666666666666,
              "#ed7953"
             ],
             [
              0.7777777777777778,
              "#fb9f3a"
             ],
             [
              0.8888888888888888,
              "#fdca26"
             ],
             [
              1,
              "#f0f921"
             ]
            ],
            "type": "histogram2dcontour"
           }
          ],
          "mesh3d": [
           {
            "colorbar": {
             "outlinewidth": 0,
             "ticks": ""
            },
            "type": "mesh3d"
           }
          ],
          "parcoords": [
           {
            "line": {
             "colorbar": {
              "outlinewidth": 0,
              "ticks": ""
             }
            },
            "type": "parcoords"
           }
          ],
          "pie": [
           {
            "automargin": true,
            "type": "pie"
           }
          ],
          "scatter": [
           {
            "fillpattern": {
             "fillmode": "overlay",
             "size": 10,
             "solidity": 0.2
            },
            "type": "scatter"
           }
          ],
          "scatter3d": [
           {
            "line": {
             "colorbar": {
              "outlinewidth": 0,
              "ticks": ""
             }
            },
            "marker": {
             "colorbar": {
              "outlinewidth": 0,
              "ticks": ""
             }
            },
            "type": "scatter3d"
           }
          ],
          "scattercarpet": [
           {
            "marker": {
             "colorbar": {
              "outlinewidth": 0,
              "ticks": ""
             }
            },
            "type": "scattercarpet"
           }
          ],
          "scattergeo": [
           {
            "marker": {
             "colorbar": {
              "outlinewidth": 0,
              "ticks": ""
             }
            },
            "type": "scattergeo"
           }
          ],
          "scattergl": [
           {
            "marker": {
             "colorbar": {
              "outlinewidth": 0,
              "ticks": ""
             }
            },
            "type": "scattergl"
           }
          ],
          "scattermapbox": [
           {
            "marker": {
             "colorbar": {
              "outlinewidth": 0,
              "ticks": ""
             }
            },
            "type": "scattermapbox"
           }
          ],
          "scatterpolar": [
           {
            "marker": {
             "colorbar": {
              "outlinewidth": 0,
              "ticks": ""
             }
            },
            "type": "scatterpolar"
           }
          ],
          "scatterpolargl": [
           {
            "marker": {
             "colorbar": {
              "outlinewidth": 0,
              "ticks": ""
             }
            },
            "type": "scatterpolargl"
           }
          ],
          "scatterternary": [
           {
            "marker": {
             "colorbar": {
              "outlinewidth": 0,
              "ticks": ""
             }
            },
            "type": "scatterternary"
           }
          ],
          "surface": [
           {
            "colorbar": {
             "outlinewidth": 0,
             "ticks": ""
            },
            "colorscale": [
             [
              0,
              "#0d0887"
             ],
             [
              0.1111111111111111,
              "#46039f"
             ],
             [
              0.2222222222222222,
              "#7201a8"
             ],
             [
              0.3333333333333333,
              "#9c179e"
             ],
             [
              0.4444444444444444,
              "#bd3786"
             ],
             [
              0.5555555555555556,
              "#d8576b"
             ],
             [
              0.6666666666666666,
              "#ed7953"
             ],
             [
              0.7777777777777778,
              "#fb9f3a"
             ],
             [
              0.8888888888888888,
              "#fdca26"
             ],
             [
              1,
              "#f0f921"
             ]
            ],
            "type": "surface"
           }
          ],
          "table": [
           {
            "cells": {
             "fill": {
              "color": "#EBF0F8"
             },
             "line": {
              "color": "white"
             }
            },
            "header": {
             "fill": {
              "color": "#C8D4E3"
             },
             "line": {
              "color": "white"
             }
            },
            "type": "table"
           }
          ]
         },
         "layout": {
          "annotationdefaults": {
           "arrowcolor": "#2a3f5f",
           "arrowhead": 0,
           "arrowwidth": 1
          },
          "autotypenumbers": "strict",
          "coloraxis": {
           "colorbar": {
            "outlinewidth": 0,
            "ticks": ""
           }
          },
          "colorscale": {
           "diverging": [
            [
             0,
             "#8e0152"
            ],
            [
             0.1,
             "#c51b7d"
            ],
            [
             0.2,
             "#de77ae"
            ],
            [
             0.3,
             "#f1b6da"
            ],
            [
             0.4,
             "#fde0ef"
            ],
            [
             0.5,
             "#f7f7f7"
            ],
            [
             0.6,
             "#e6f5d0"
            ],
            [
             0.7,
             "#b8e186"
            ],
            [
             0.8,
             "#7fbc41"
            ],
            [
             0.9,
             "#4d9221"
            ],
            [
             1,
             "#276419"
            ]
           ],
           "sequential": [
            [
             0,
             "#0d0887"
            ],
            [
             0.1111111111111111,
             "#46039f"
            ],
            [
             0.2222222222222222,
             "#7201a8"
            ],
            [
             0.3333333333333333,
             "#9c179e"
            ],
            [
             0.4444444444444444,
             "#bd3786"
            ],
            [
             0.5555555555555556,
             "#d8576b"
            ],
            [
             0.6666666666666666,
             "#ed7953"
            ],
            [
             0.7777777777777778,
             "#fb9f3a"
            ],
            [
             0.8888888888888888,
             "#fdca26"
            ],
            [
             1,
             "#f0f921"
            ]
           ],
           "sequentialminus": [
            [
             0,
             "#0d0887"
            ],
            [
             0.1111111111111111,
             "#46039f"
            ],
            [
             0.2222222222222222,
             "#7201a8"
            ],
            [
             0.3333333333333333,
             "#9c179e"
            ],
            [
             0.4444444444444444,
             "#bd3786"
            ],
            [
             0.5555555555555556,
             "#d8576b"
            ],
            [
             0.6666666666666666,
             "#ed7953"
            ],
            [
             0.7777777777777778,
             "#fb9f3a"
            ],
            [
             0.8888888888888888,
             "#fdca26"
            ],
            [
             1,
             "#f0f921"
            ]
           ]
          },
          "colorway": [
           "#636efa",
           "#EF553B",
           "#00cc96",
           "#ab63fa",
           "#FFA15A",
           "#19d3f3",
           "#FF6692",
           "#B6E880",
           "#FF97FF",
           "#FECB52"
          ],
          "font": {
           "color": "#2a3f5f"
          },
          "geo": {
           "bgcolor": "white",
           "lakecolor": "white",
           "landcolor": "#E5ECF6",
           "showlakes": true,
           "showland": true,
           "subunitcolor": "white"
          },
          "hoverlabel": {
           "align": "left"
          },
          "hovermode": "closest",
          "mapbox": {
           "style": "light"
          },
          "paper_bgcolor": "white",
          "plot_bgcolor": "#E5ECF6",
          "polar": {
           "angularaxis": {
            "gridcolor": "white",
            "linecolor": "white",
            "ticks": ""
           },
           "bgcolor": "#E5ECF6",
           "radialaxis": {
            "gridcolor": "white",
            "linecolor": "white",
            "ticks": ""
           }
          },
          "scene": {
           "xaxis": {
            "backgroundcolor": "#E5ECF6",
            "gridcolor": "white",
            "gridwidth": 2,
            "linecolor": "white",
            "showbackground": true,
            "ticks": "",
            "zerolinecolor": "white"
           },
           "yaxis": {
            "backgroundcolor": "#E5ECF6",
            "gridcolor": "white",
            "gridwidth": 2,
            "linecolor": "white",
            "showbackground": true,
            "ticks": "",
            "zerolinecolor": "white"
           },
           "zaxis": {
            "backgroundcolor": "#E5ECF6",
            "gridcolor": "white",
            "gridwidth": 2,
            "linecolor": "white",
            "showbackground": true,
            "ticks": "",
            "zerolinecolor": "white"
           }
          },
          "shapedefaults": {
           "line": {
            "color": "#2a3f5f"
           }
          },
          "ternary": {
           "aaxis": {
            "gridcolor": "white",
            "linecolor": "white",
            "ticks": ""
           },
           "baxis": {
            "gridcolor": "white",
            "linecolor": "white",
            "ticks": ""
           },
           "bgcolor": "#E5ECF6",
           "caxis": {
            "gridcolor": "white",
            "linecolor": "white",
            "ticks": ""
           }
          },
          "title": {
           "x": 0.05
          },
          "xaxis": {
           "automargin": true,
           "gridcolor": "white",
           "linecolor": "white",
           "ticks": "",
           "title": {
            "standoff": 15
           },
           "zerolinecolor": "white",
           "zerolinewidth": 2
          },
          "yaxis": {
           "automargin": true,
           "gridcolor": "white",
           "linecolor": "white",
           "ticks": "",
           "title": {
            "standoff": 15
           },
           "zerolinecolor": "white",
           "zerolinewidth": 2
          }
         }
        },
        "title": {
         "font": {
          "size": 24
         },
         "text": "GRB 170817A"
        },
        "width": 960,
        "xaxis": {
         "anchor": "y",
         "domain": [
          0,
          1
         ],
         "linecolor": "black",
         "linewidth": 2.4,
         "mirror": "allticks",
         "showgrid": false,
         "showline": true,
         "showticklabels": true,
         "tickcolor": "black",
         "tickfont": {
          "color": "black",
          "family": "arial",
          "size": 18
         },
         "ticks": "outside",
         "tickwidth": 2.4,
         "title": {
          "font": {
           "color": "black",
           "size": 20
          },
          "text": "<b>log10 Time (s)<b>"
         }
        },
        "yaxis": {
         "anchor": "x",
         "autorange": "reversed",
         "domain": [
          0,
          1
         ],
         "linecolor": "black",
         "linewidth": 2.4,
         "mirror": "allticks",
         "showgrid": false,
         "showline": true,
         "showticklabels": true,
         "tickcolor": "black",
         "tickfont": {
          "color": "black",
          "family": "arial",
          "size": 18
         },
         "ticks": "outside",
         "tickwidth": 2.4,
         "title": {
          "font": {
           "color": "black",
           "size": 20
          },
          "text": "<b>Magnitude<b>"
         }
        }
       }
      }
     },
     "metadata": {},
     "output_type": "display_data"
    }
   ],
   "source": [
    "# initialise lightcurve object\n",
    "\n",
    "from grblc.lightcurve import Lightcurve\n",
    "\n",
    "grb = '170817A'\n",
    "\n",
    "lc = Lightcurve(\n",
    "    grb,\n",
    "    path = 'raw',\n",
    "    data_space = 'lin',\n",
    "    save = True\n",
    "    )\n",
    "\n",
    "lc.displayGRB()"
   ]
  },
  {
   "cell_type": "markdown",
   "metadata": {},
   "source": [
    "### `Photometry` module\n",
    "\n",
    "Warning: The functions in this module take a while to complete the calculations as it involves cross-matching filters and telescopes for each data point."
   ]
  },
  {
   "cell_type": "code",
   "execution_count": 2,
   "metadata": {},
   "outputs": [
    {
     "name": "stdout",
     "output_type": "stream",
     "text": [
      "Filter i of LCO/Swope(1m)/CISCO not found for the data point at 39289.20000011567 seconds.\n",
      "Filter H of LCO/Magellan2Clay(6.5m)/LDSS-3 not found for the data point at 39964.08000015188 seconds.\n",
      "Filter r of LCO/Magellan2Clay(6.5m)/LDSS-3 not found for the data point at 40810.80000013579 seconds.\n",
      "Filter J of LCO/Magellan2Clay(6.5m)/LDSS-3 not found for the data point at 40810.80000013579 seconds.\n",
      "Filter z of LCO/Magellan2Clay(6.5m)/LDSS-3 not found for the data point at 40810.80000013579 seconds.\n",
      "Filter V of LCO/Magellan2Clay(6.5m)/LDSS-3 not found for the data point at 40840.80000013579 seconds.\n",
      "Filter g of LCO/Magellan2Clay(6.5m)/LDSS-3 not found for the data point at 41363.28000026755 seconds.\n",
      "Filter J of PAO/ESO-VISTA(4.1m)/VIRCAM not found for the data point at 41532.0000002766 seconds.\n",
      "Filter g of LCO/Magellan2Clay(6.5m)/LDSS-3 not found for the data point at 41786.640000259504 seconds.\n",
      "Filter w of SSO/iTelescope(T17)/CCD not found for the data point at 41791.20000001509 seconds.\n",
      "Filter g of LCO/Magellan2Clay(6.5m)/LDSS-3 not found for the data point at 42089.04000016395 seconds.\n",
      "Filter Y of PAO/ESO-VISTA(4.1m)/VIRCAM not found for the data point at 42223.20000041742 seconds.\n",
      "Filter Ks of LCO/Magellan2Clay(6.5m)/LDSS-3 not found for the data point at 43402.8000000352 seconds.\n",
      "Filter J of PAO/ESO-VISTA(4.1m)/VIRCAM not found for the data point at 44124.00000017602 seconds.\n",
      "Filter g of LSO/REM(0.6m)/TORTORA not found for the data point at 45460.80000038725 seconds.\n",
      "Filter UVM2 of NGSO/Swift/UVOT not found for the data point at 54444.95000036713 seconds.\n",
      "Filter UVW1 of NGSO/Swift/UVOT not found for the data point at 54730.300000437535 seconds.\n",
      "Filter U of NGSO/Swift/UVOT not found for the data point at 55356.49999994971 seconds.\n",
      "Filter w of SSO/iTelescope(T17)/CCD not found for the data point at 73845.59999994468 seconds.\n",
      "Filter g of SSO/iTelescope(T17)/CCD not found for the data point at 75487.1999999648 seconds.\n",
      "Filter UVW1 of NGSO/Swift/UVOT not found for the data point at 89752.30000004024 seconds.\n",
      "Filter U of NGSO/Swift/UVOT not found for the data point at 90063.35000011064 seconds.\n",
      "Filter UVM2 of NGSO/Swift/UVOT not found for the data point at 93432.94999990443 seconds.\n",
      "Filter B of SAAO/SALT(10m)/SALTICAM not found for the data point at 102214.80000006036 seconds.\n",
      "Filter V of SAAO/SALT(10m)/SALTICAM not found for the data point at 103078.80000023636 seconds.\n",
      "Filter R of SAAO/SALT(10m)/SALTICAM not found for the data point at 103078.80000023636 seconds.\n",
      "Filter I of SAAO/SALT(10m)/SALTICAM not found for the data point at 103078.80000023636 seconds.\n",
      "Filter w of SSO/iTelescope(T17)/CCD not found for the data point at 104172.00000015087 seconds.\n",
      "Filter g of SSO/iTelescope(T17)/CCD not found for the data point at 105208.8000003621 seconds.\n",
      "Filter V of LSO/NTT(3.58m)/EFOSC2+LSO/NTT(3.58m)/SOFI not found for the data point at 124130.40000013076 seconds.\n",
      "Filter R of PAO/VLT(8.2m)/FORS1 not found for the data point at 124186.79999983404 seconds.\n",
      "Filter w of SSO/iTelescope(T17)/CCD not found for the data point at 124476.00000020117 seconds.\n",
      "Filter r of PAO/ANTU-VLT-UT1(8.2m)/FORS1 not found for the data point at 124517.39999990445 seconds.\n",
      "Filter V of LSO/NTT(3.58m)/EFOSC2+LSO/NTT(3.58m)/SOFI not found for the data point at 124536.4799999306 seconds.\n",
      "Filter V of LSO/NTT(3.58m)/EFOSC2+LSO/NTT(3.58m)/SOFI not found for the data point at 124657.4400000181 seconds.\n",
      "Filter z of LCO/Magellan2Clay(6.5m)/LDSS-3 not found for the data point at 125206.31999985316 seconds.\n",
      "Filter r of CTIO/VictorMBlanco(4m)/DECam not found for the data point at 125223.60000004526 seconds.\n",
      "Filter g of CTIO/VictorMBlanco(4m)/DECam not found for the data point at 125223.60000004526 seconds.\n",
      "Filter z of LCO/Magellan2Clay(6.5m)/LDSS-3 not found for the data point at 125344.56000013275 seconds.\n",
      "Filter z of LCO/Magellan2Clay(6.5m)/LDSS-3 not found for the data point at 125396.40000008048 seconds.\n",
      "Filter i of LCO/Magellan2Clay(6.5m)/LDSS-3 not found for the data point at 125465.52000022028 seconds.\n",
      "Filter u of CTIO/VictorMBlanco(4m)/DECam not found for the data point at 125482.8000004124 seconds.\n",
      "Filter g of SSO/iTelescope(T17)/CCD not found for the data point at 125512.8000004124 seconds.\n",
      "Filter r of LCO/Magellan2Clay(6.5m)/LDSS-3 not found for the data point at 125534.64000036009 seconds.\n",
      "Filter V of CTIO/LCOGT(1m)/Sinistro not found for the data point at 125542.8000004124 seconds.\n",
      "Filter B of CTIO/LCOGT(1m)/Sinistro not found for the data point at 125542.8000004124 seconds.\n",
      "Filter Ks of LCO/Magellan2Clay(6.5m)/LDSS-3 not found for the data point at 125569.20000011568 seconds.\n",
      "Filter J of LCO/Magellan2Clay(6.5m)/LDSS-3 not found for the data point at 125595.12000008952 seconds.\n",
      "Filter g of LCO/Magellan2Clay(6.5m)/LDSS-3 not found for the data point at 125663.75999987124 seconds.\n",
      "Filter B of LCO/Magellan2Clay(6.5m)/LDSS-3 not found for the data point at 125853.36000036914 seconds.\n",
      "Filter B of LCO/Magellan2Clay(6.5m)/LDSS-3 not found for the data point at 125974.319999828 seconds.\n",
      "Filter g of LCO/Magellan2Clay(6.5m)/LDSS-3 not found for the data point at 126190.80000038724 seconds.\n",
      "Filter H of LCO/Magellan2Clay(6.5m)/LDSS-3 not found for the data point at 126364.08000015188 seconds.\n",
      "Filter R of CTIO/LCOGT(1m)/Sinistro not found for the data point at 126406.79999995977 seconds.\n",
      "Filter I of CTIO/LCOGT(1m)/Sinistro not found for the data point at 126406.79999995977 seconds.\n",
      "Filter V of LCO/Swope(1m)/CISCO not found for the data point at 126726.0000003269 seconds.\n",
      "Filter g of LSO/MPG-ESO(2.2m)/GROND not found for the data point at 126778.8000003621 seconds.\n",
      "Filter Y of PAO/ESO-VISTA(4.1m)/VIRCAM not found for the data point at 126895.20000006538 seconds.\n",
      "Filter H of CP/Gemini-South(8.1m)/GMOS not found for the data point at 127124.4000004325 seconds.\n",
      "Filter r of Xinglong/2.16m/BFOSC not found for the data point at 127225.8000001358 seconds.\n",
      "Filter g of Xinglong/2.16m/BFOSC not found for the data point at 127225.8000001358 seconds.\n",
      "Filter z of Xinglong/2.16m/BFOSC not found for the data point at 127225.8000001358 seconds.\n",
      "Filter J of PAO/ESO-VISTA(4.1m)/VIRCAM not found for the data point at 127240.8000001358 seconds.\n",
      "Filter J of LCO/Magellan2Clay(6.5m)/LDSS-3 not found for the data point at 127400.8800003631 seconds.\n",
      "Filter V of LSO/NTT(3.58m)/EFOSC2+LSO/NTT(3.58m)/SOFI not found for the data point at 128147.99999984913 seconds.\n",
      "Filter V of LSO/NTT(3.58m)/EFOSC2+LSO/NTT(3.58m)/SOFI not found for the data point at 128260.3200001549 seconds.\n",
      "Filter V of LSO/NTT(3.58m)/EFOSC2+LSO/NTT(3.58m)/SOFI not found for the data point at 128355.36000026856 seconds.\n",
      "Filter U of NGSO/Swift/UVOT not found for the data point at 129924.00000036712 seconds.\n",
      "Filter B of LCO/Swope(1m)/CISCO not found for the data point at 130095.6000000704 seconds.\n",
      "Filter g of LSO/REM(0.6m)/TORTORA not found for the data point at 130132.8000000352 seconds.\n",
      "Filter i of LCO/Swope(1m)/CISCO not found for the data point at 131132.40000028163 seconds.\n",
      "Filter V of LSO/NTT(3.58m)/EFOSC2+LSO/NTT(3.58m)/SOFI not found for the data point at 131223.84000009857 seconds.\n",
      "Filter V of LSO/NTT(3.58m)/EFOSC2+LSO/NTT(3.58m)/SOFI not found for the data point at 131310.2400004305 seconds.\n",
      "Filter U of LSO/NTT(3.58m)/EFOSC2+LSO/NTT(3.58m)/SOFI not found for the data point at 131358.00000035204 seconds.\n",
      "Filter U of LSO/NTT(3.58m)/EFOSC2+LSO/NTT(3.58m)/SOFI not found for the data point at 131366.64000013378 seconds.\n",
      "Filter r of LCO/Swope(1m)/CISCO not found for the data point at 131478.00000035204 seconds.\n",
      "Filter U of LSO/NTT(3.58m)/EFOSC2+LSO/NTT(3.58m)/SOFI not found for the data point at 131703.60000042245 seconds.\n",
      "Filter U of LSO/NTT(3.58m)/EFOSC2+LSO/NTT(3.58m)/SOFI not found for the data point at 132040.56000008248 seconds.\n",
      "Filter g of LCO/Swope(1m)/CISCO not found for the data point at 132082.80000016093 seconds.\n",
      "Filter w of SSO/iTelescope(T17)/CCD not found for the data point at 158085.6000004476 seconds.\n",
      "Filter V of SSO/iTelescope(T17)/CCD not found for the data point at 158374.80000018608 seconds.\n",
      "Filter B of SSO/iTelescope(T17)/CCD not found for the data point at 158374.80000018608 seconds.\n",
      "Filter R of SSO/iTelescope(T17)/CCD not found for the data point at 158374.80000018608 seconds.\n",
      "Filter g of SSO/iTelescope(T17)/CCD not found for the data point at 159122.40000003015 seconds.\n",
      "Filter I of SSO/iTelescope(T17)/CCD not found for the data point at 159238.8000003621 seconds.\n",
      "Filter B of SAAO/SALT(10m)/SALTICAM not found for the data point at 188644.80000006035 seconds.\n",
      "Filter V of SAAO/SALT(10m)/SALTICAM not found for the data point at 189568.8000002364 seconds.\n",
      "Filter R of SAAO/SALT(10m)/SALTICAM not found for the data point at 189568.8000002364 seconds.\n",
      "Filter I of SAAO/SALT(10m)/SALTICAM not found for the data point at 189568.8000002364 seconds.\n",
      "Filter V of SSO/iTelescope(T17)/CCD not found for the data point at 192127.19999983907 seconds.\n",
      "Filter g of SSO/iTelescope(T17)/CCD not found for the data point at 192732.0000002766 seconds.\n",
      "Filter w of SSO/iTelescope(T17)/CCD not found for the data point at 192732.0000002766 seconds.\n",
      "Filter w of SSO/iTelescope(T17)/CCD not found for the data point at 192991.2000000151 seconds.\n",
      "Filter g of SSO/iTelescope(T17)/CCD not found for the data point at 192991.2000000151 seconds.\n",
      "Filter Ks of LCO/Magellan2Clay(6.5m)/LDSS-3 not found for the data point at 210327.60000009555 seconds.\n",
      "Filter J of LCO/Magellan2Clay(6.5m)/LDSS-3 not found for the data point at 210370.80000026152 seconds.\n",
      "Filter g of LSO/REM(0.6m)/TORTORA not found for the data point at 210484.80000006035 seconds.\n",
      "Filter H of CP/Gemini-South(8.1m)/GMOS not found for the data point at 210586.79999983404 seconds.\n",
      "Filter R of PAO/VLT(8.2m)/FORS1 not found for the data point at 210774.59999986924 seconds.\n",
      "Filter r of PAO/ANTU-VLT-UT1(8.2m)/FORS1 not found for the data point at 210907.39999990445 seconds.\n",
      "Filter g of LSO/MPG-ESO(2.2m)/GROND not found for the data point at 210932.39999990445 seconds.\n",
      "Filter H of LCO/Magellan2Clay(6.5m)/LDSS-3 not found for the data point at 211139.76000032388 seconds.\n",
      "Filter V of LSO/NTT(3.58m)/EFOSC2+LSO/NTT(3.58m)/SOFI not found for the data point at 211169.76000032388 seconds.\n",
      "Filter r of CTIO/VictorMBlanco(4m)/DECam not found for the data point at 211623.6000000453 seconds.\n",
      "Filter g of CTIO/VictorMBlanco(4m)/DECam not found for the data point at 211623.6000000453 seconds.\n",
      "Filter u of CTIO/VictorMBlanco(4m)/DECam not found for the data point at 211882.8000004124 seconds.\n",
      "Filter J of LCO/Magellan2Clay(6.5m)/LDSS-3 not found for the data point at 211891.44000019407 seconds.\n",
      "Filter V of CTIO/LCOGT(1m)/Sinistro not found for the data point at 212032.8000004124 seconds.\n",
      "Filter R of CTIO/LCOGT(1m)/Sinistro not found for the data point at 212032.8000004124 seconds.\n",
      "Filter I of CTIO/LCOGT(1m)/Sinistro not found for the data point at 212032.8000004124 seconds.\n",
      "Filter B of CTIO/LCOGT(1m)/Sinistro not found for the data point at 212032.8000004124 seconds.\n",
      "Filter w of SSO/iTelescope(T17)/CCD not found for the data point at 212603.99999992456 seconds.\n",
      "Filter i of LSO/Danish(1.54m)/DFOSC not found for the data point at 212618.99999992456 seconds.\n",
      "Filter z of LSO/Danish(1.54m)/DFOSC not found for the data point at 212618.99999992456 seconds.\n",
      "Filter w of SSO/iTelescope(T17)/CCD not found for the data point at 212949.59999999497 seconds.\n",
      "Filter Y of PAO/ESO-VISTA(4.1m)/VIRCAM not found for the data point at 213295.2000000653 seconds.\n",
      "Filter i of LCO/Magellan2Clay(6.5m)/LDSS-3 not found for the data point at 213610.8000001358 seconds.\n",
      "Filter J of PAO/ESO-VISTA(4.1m)/VIRCAM not found for the data point at 213640.8000001358 seconds.\n",
      "Filter V of LCO/Magellan2Clay(6.5m)/LDSS-3 not found for the data point at 213640.8000001358 seconds.\n",
      "Filter r of LCO/Magellan2Clay(6.5m)/LDSS-3 not found for the data point at 214422.9600003641 seconds.\n",
      "Filter V of SSO/iTelescope(T17)/CCD not found for the data point at 214504.8000003118 seconds.\n",
      "Filter w of SSO/iTelescope(T17)/CCD not found for the data point at 215023.20000041745 seconds.\n",
      "Filter V of LSO/NTT(3.58m)/EFOSC2+LSO/NTT(3.58m)/SOFI not found for the data point at 215057.760000173 seconds.\n",
      "Filter g of SSO/iTelescope(T17)/CCD not found for the data point at 215109.6000001207 seconds.\n",
      "Filter w of SSO/iTelescope(T17)/CCD not found for the data point at 215282.4000001559 seconds.\n",
      "Filter V of LSO/NTT(3.58m)/EFOSC2+LSO/NTT(3.58m)/SOFI not found for the data point at 218280.4799998552 seconds.\n",
      "Filter I of SSO/iTelescope(T17)/CCD not found for the data point at 244984.80000018608 seconds.\n",
      "Filter R of SSO/iTelescope(T17)/CCD not found for the data point at 244984.80000018608 seconds.\n",
      "Filter w of SSO/iTelescope(T17)/CCD not found for the data point at 246213.600000171 seconds.\n",
      "Filter w of SSO/iTelescope(T17)/CCD not found for the data point at 246559.2000002414 seconds.\n",
      "Filter V of SSO/iTelescope(T17)/CCD not found for the data point at 246904.8000003118 seconds.\n",
      "Filter w of SSO/iTelescope(T17)/CCD not found for the data point at 248632.8000000352 seconds.\n",
      "Filter w of SSO/iTelescope(T17)/CCD not found for the data point at 248892.0000004024 seconds.\n",
      "Filter R of SAAO/SALT(10m)/SALTICAM not found for the data point at 275224.80000006035 seconds.\n",
      "Filter I of SAAO/SALT(10m)/SALTICAM not found for the data point at 276088.8000002364 seconds.\n",
      "Filter V of SSO/iTelescope(T17)/CCD not found for the data point at 277836.0000003269 seconds.\n",
      "Filter w of SSO/iTelescope(T17)/CCD not found for the data point at 278095.2000000654 seconds.\n",
      "Filter w of SSO/iTelescope(T17)/CCD not found for the data point at 278440.8000001358 seconds.\n",
      "Filter V of LSO/NTT(3.58m)/EFOSC2+LSO/NTT(3.58m)/SOFI not found for the data point at 297336.4799999306 seconds.\n",
      "Filter J of LCO/Magellan2Clay(6.5m)/LDSS-3 not found for the data point at 297660.7200004114 seconds.\n",
      "Filter R of CTIO/LCOGT(1m)/Sinistro not found for the data point at 297688.8000002364 seconds.\n",
      "Filter g of LSO/MPG-ESO(2.2m)/GROND not found for the data point at 297764.4000003068 seconds.\n",
      "Filter R of PAO/VLT(8.2m)/FORS1 not found for the data point at 297865.80000001006 seconds.\n",
      "Filter r of PAO/ANTU-VLT-UT1(8.2m)/FORS1 not found for the data point at 298196.40000008047 seconds.\n",
      "Filter I of CTIO/LCOGT(1m)/Sinistro not found for the data point at 298552.8000004124 seconds.\n",
      "Filter g of CTIO/VictorMBlanco(4m)/DECam not found for the data point at 298628.3999998541 seconds.\n",
      "Filter r of CTIO/VictorMBlanco(4m)/DECam not found for the data point at 298628.3999998541 seconds.\n",
      "Filter u of CTIO/VictorMBlanco(4m)/DECam not found for the data point at 298628.3999998541 seconds.\n",
      "Filter Y of PAO/ESO-VISTA(4.1m)/VIRCAM not found for the data point at 299003.99999992456 seconds.\n",
      "Filter V of LCO/Swope(1m)/CISCO not found for the data point at 299180.4000002565 seconds.\n",
      "Filter B of LCO/Swope(1m)/CISCO not found for the data point at 299526.0000003269 seconds.\n",
      "Filter z of LCO/Magellan2Clay(6.5m)/LDSS-3 not found for the data point at 300010.8000001358 seconds.\n",
      "Filter J of PAO/ESO-VISTA(4.1m)/VIRCAM not found for the data point at 300040.8000001358 seconds.\n",
      "Filter g of LCO/Swope(1m)/CISCO not found for the data point at 300217.19999983907 seconds.\n",
      "Filter r of LCO/Swope(1m)/CISCO not found for the data point at 300822.0000002766 seconds.\n",
      "Filter i of LCO/Swope(1m)/CISCO not found for the data point at 300822.0000002766 seconds.\n",
      "Filter V of LSO/NTT(3.58m)/EFOSC2+LSO/NTT(3.58m)/SOFI not found for the data point at 301388.6400000332 seconds.\n",
      "Filter r of Xinglong/2.16m/BFOSC not found for the data point at 301753.7999998592 seconds.\n",
      "Filter z of Xinglong/2.16m/BFOSC not found for the data point at 301753.7999998592 seconds.\n",
      "Filter g of Xinglong/2.16m/BFOSC not found for the data point at 301753.7999998592 seconds.\n",
      "Filter i of CP/Gemini-South(8.1m)/GMOS not found for the data point at 303380.3999998793 seconds.\n",
      "Filter r of CP/Gemini-South(8.1m)/GMOS not found for the data point at 303390.3999998793 seconds.\n",
      "Filter g of CP/Gemini-South(8.1m)/GMOS not found for the data point at 303560.3999998793 seconds.\n",
      "Filter R of SSO/iTelescope(T17)/CCD not found for the data point at 331324.8000001861 seconds.\n",
      "Filter I of SSO/iTelescope(T17)/CCD not found for the data point at 331324.8000001861 seconds.\n",
      "Filter R of SAAO/SALT(10m)/SALTICAM not found for the data point at 361564.8000000604 seconds.\n",
      "Filter I of SAAO/SALT(10m)/SALTICAM not found for the data point at 362428.8000002364 seconds.\n",
      "Filter Y of LCO/duPont(2.5m)/WFIRC not found for the data point at 383862.00000040233 seconds.\n",
      "Filter R of PAO/VLT(8.2m)/FORS1 not found for the data point at 383908.8000002364 seconds.\n",
      "Filter I of CTIO/LCOGT(1m)/Sinistro not found for the data point at 384028.8000002364 seconds.\n",
      "Filter R of CTIO/LCOGT(1m)/Sinistro not found for the data point at 384028.8000002364 seconds.\n",
      "Filter H of CP/Gemini-South(8.1m)/GMOS not found for the data point at 384077.99999997485 seconds.\n",
      "Filter g of LSO/MPG-ESO(2.2m)/GROND not found for the data point at 384224.4000003068 seconds.\n",
      "Filter z of PAO/VLT-UT3-Melipal/VIMOS not found for the data point at 384513.60000004526 seconds.\n",
      "Filter r of CTIO/VictorMBlanco(4m)/DECam not found for the data point at 385028.39999985415 seconds.\n",
      "Filter g of CTIO/VictorMBlanco(4m)/DECam not found for the data point at 385373.99999992456 seconds.\n",
      "Filter Y of PAO/ESO-VISTA(4.1m)/VIRCAM not found for the data point at 385403.99999992456 seconds.\n",
      "Filter i of LCO/Swope(1m)/CISCO not found for the data point at 385493.99999992456 seconds.\n",
      "Filter r of PAO/VLT-UT3-Melipal/VIMOS not found for the data point at 385550.4000002565 seconds.\n",
      "Filter w of SSO/iTelescope(T17)/CCD not found for the data point at 385749.59999999497 seconds.\n",
      "Filter J of LCO/duPont(2.5m)/WFIRC not found for the data point at 386289.8400000483 seconds.\n",
      "Filter r of LCO/Swope(1m)/CISCO not found for the data point at 386421.6000003973 seconds.\n",
      "Filter J of PAO/ESO-VISTA(4.1m)/VIRCAM not found for the data point at 386440.8000001358 seconds.\n",
      "Filter z of PAO/VLT(8.2m)/FORS1 not found for the data point at 386530.8000001358 seconds.\n",
      "Filter g of LCO/Magellan2Clay(6.5m)/LDSS-3 not found for the data point at 388129.680000348 seconds.\n",
      "Filter V of PAO/VLT(8.2m)/FORS1 not found for the data point at 388228.7999998592 seconds.\n",
      "Filter B of PAO/VLT(8.2m)/FORS1 not found for the data point at 388348.7999998592 seconds.\n",
      "Filter B of LCO/Magellan2Clay(6.5m)/LDSS-3 not found for the data point at 388405.6799999205 seconds.\n",
      "Filter g of LCO/Swope(1m)/CISCO not found for the data point at 389554.8000004376 seconds.\n",
      "Filter F110W of Hubble/HST/WFC3 not found for the data point at 412449.8000003872 seconds.\n",
      "Filter I of SSO/iTelescope(T17)/CCD not found for the data point at 417784.8000001861 seconds.\n",
      "Filter R of SSO/iTelescope(T17)/CCD not found for the data point at 417784.8000001861 seconds.\n",
      "Filter H of Hubble/HST/WFC3 not found for the data point at 425496.20000021625 seconds.\n",
      "Filter I of SAAO/SALT(10m)/SALTICAM not found for the data point at 448828.8000002364 seconds.\n",
      "Filter R of SAAO/SALT(10m)/SALTICAM not found for the data point at 448828.8000002364 seconds.\n",
      "Filter F336W of Hubble/HST/WFC3 not found for the data point at 459677.99999997485 seconds.\n",
      "Filter F336W of Hubble/HST/WFC3 not found for the data point at 459677.99999997485 seconds.\n",
      "Filter F336W of Hubble/HST/WFC3 not found for the data point at 459677.99999997485 seconds.\n",
      "Filter r of PAO/ANTU-VLT-UT1(8.2m)/FORS1 not found for the data point at 470112.3999999045 seconds.\n",
      "Filter z of LCO/Magellan2Clay(6.5m)/LDSS-3 not found for the data point at 470339.7600003239 seconds.\n",
      "Filter R of PAO/VLT(8.2m)/FORS1 not found for the data point at 470507.99999997485 seconds.\n",
      "Filter r of CTIO/VictorMBlanco(4m)/DECam not found for the data point at 471082.8000004124 seconds.\n",
      "Filter g of PAO/ESO-VST/OMEGACAM not found for the data point at 472016.79999995977 seconds.\n",
      "Filter Y of LCO/duPont(2.5m)/WFIRC not found for the data point at 472810.8000001358 seconds.\n",
      "Filter i of LCO/Swope(1m)/CISCO not found for the data point at 473167.1999998391 seconds.\n",
      "Filter r of Xinglong/2.16m/BFOSC not found for the data point at 474553.7999998592 seconds.\n",
      "Filter g of Xinglong/2.16m/BFOSC not found for the data point at 474553.7999998592 seconds.\n",
      "Filter z of Xinglong/2.16m/BFOSC not found for the data point at 474553.7999998592 seconds.\n",
      "Filter R of SSO/iTelescope(T17)/CCD not found for the data point at 504184.8000001861 seconds.\n",
      "Filter I of SSO/iTelescope(T17)/CCD not found for the data point at 505048.8000003621 seconds.\n",
      "Filter I of SAAO/SALT(10m)/SALTICAM not found for the data point at 536212.8000004124 seconds.\n",
      "Filter r of PAO/ESO-VST/OMEGACAM not found for the data point at 557552.8000004124 seconds.\n",
      "Filter z of PAO/VLT(8.2m)/FORS1 not found for the data point at 557602.8000004124 seconds.\n",
      "Filter Y of PAO/ESO-VISTA(4.1m)/VIRCAM not found for the data point at 558895.2000000654 seconds.\n",
      "Filter J of PAO/ESO-VISTA(4.1m)/VIRCAM not found for the data point at 559240.8000001358 seconds.\n",
      "Filter R of PAO/VLT(8.2m)/FORS1 not found for the data point at 559300.8000001358 seconds.\n",
      "Filter V of PAO/VLT(8.2m)/FORS1 not found for the data point at 561208.7999998592 seconds.\n",
      "Filter B of PAO/VLT(8.2m)/FORS1 not found for the data point at 561208.7999998592 seconds.\n",
      "Filter I of KO/Keck-2(10m)/DEIMOS not found for the data point at 579462.9600002384 seconds.\n",
      "Filter I of SSO/iTelescope(T17)/CCD not found for the data point at 590584.8000001861 seconds.\n",
      "Filter I of SAAO/SALT(10m)/SALTICAM not found for the data point at 621688.8000002364 seconds.\n",
      "Filter F110W of Hubble/HST/WFC3 not found for the data point at 628449.8000003872 seconds.\n",
      "Filter H of CP/Gemini-South(8.1m)/GMOS not found for the data point at 642586.799999834 seconds.\n",
      "Filter z of LCO/Magellan2Clay(6.5m)/LDSS-3 not found for the data point at 643001.5200000443 seconds.\n",
      "Filter r of CTIO/VictorMBlanco(4m)/DECam not found for the data point at 644258.3999998542 seconds.\n",
      "Filter J of LCO/duPont(2.5m)/WFIRC not found for the data point at 644772.7199999336 seconds.\n",
      "Filter i of LCO/Swope(1m)/CISCO not found for the data point at 644930.4000002565 seconds.\n",
      "Filter Y of PAO/ESO-VISTA(4.1m)/VIRCAM not found for the data point at 645295.2000000654 seconds.\n",
      "Filter J of PAO/ESO-VISTA(4.1m)/VIRCAM not found for the data point at 645640.8000001358 seconds.\n",
      "Filter i of CP/Gemini-South(8.1m)/GMOS not found for the data point at 647973.6000002967 seconds.\n",
      "Filter r of CP/Gemini-South(8.1m)/GMOS not found for the data point at 648093.6000002967 seconds.\n",
      "Filter B of LCO/Magellan2Clay(6.5m)/LDSS-3 not found for the data point at 648340.0800002273 seconds.\n",
      "Filter F606W of Hubble/HST/WFC3 not found for the data point at 696091.6000003219 seconds.\n",
      "Filter F475W of Hubble/HST/WFC3 not found for the data point at 701568.7999998592 seconds.\n",
      "Filter z of PAO/VLT-UT3-Melipal/VIMOS not found for the data point at 729502.3999999044 seconds.\n",
      "Filter z of LCO/Magellan2Clay(6.5m)/LDSS-3 not found for the data point at 729591.6000002716 seconds.\n",
      "Filter H of CP/Gemini-South(8.1m)/GMOS not found for the data point at 730282.8000004124 seconds.\n",
      "Filter Y of PAO/ESO-VISTA(4.1m)/VIRCAM not found for the data point at 731003.9999999246 seconds.\n",
      "Filter r of PAO/VLT-UT3-Melipal/VIMOS not found for the data point at 731243.9999999246 seconds.\n",
      "Filter z of PAO/VLT(8.2m)/FORS1 not found for the data point at 731266.7999999598 seconds.\n",
      "Filter r of CTIO/VictorMBlanco(4m)/DECam not found for the data point at 731695.2000000654 seconds.\n",
      "Filter J of LCO/duPont(2.5m)/WFIRC not found for the data point at 732010.8000001358 seconds.\n",
      "Filter J of PAO/ESO-VISTA(4.1m)/VIRCAM not found for the data point at 732040.8000001358 seconds.\n",
      "Filter R of PAO/VLT(8.2m)/FORS1 not found for the data point at 732100.8000001358 seconds.\n",
      "Filter B of PAO/VLT(8.2m)/FORS1 not found for the data point at 733144.8000003118 seconds.\n",
      "Filter V of PAO/VLT(8.2m)/FORS1 not found for the data point at 733144.8000003118 seconds.\n",
      "Filter H of Hubble/HST/WFC3 not found for the data point at 814641.8000002867 seconds.\n",
      "Filter H of CP/Gemini-South(8.1m)/GMOS not found for the data point at 815732.3999999044 seconds.\n",
      "Filter z of PAO/VLT-UT3-Melipal/VIMOS not found for the data point at 816247.9999999749 seconds.\n",
      "Filter z of PAO/ANTU-VLT-UT1(8.2m)/FORS1 not found for the data point at 817373.9999999246 seconds.\n",
      "Filter Y of PAO/ESO-VISTA(4.1m)/VIRCAM not found for the data point at 817403.9999999246 seconds.\n",
      "Filter r of PAO/VLT-UT3-Melipal/VIMOS not found for the data point at 817643.9999999246 seconds.\n",
      "Filter z of PAO/VLT(8.2m)/FORS1 not found for the data point at 817753.2000002917 seconds.\n",
      "Filter J of PAO/ESO-VISTA(4.1m)/VIRCAM not found for the data point at 818440.8000001358 seconds.\n",
      "Filter F110W of Hubble/HST/WFC3 not found for the data point at 842689.2000003671 seconds.\n",
      "Filter F160W of Hubble/HST/WFC3 not found for the data point at 844071.6000000201 seconds.\n",
      "Filter F336W of Hubble/HST/WFC3 not found for the data point at 848477.9999999749 seconds.\n",
      "Filter F475W of Hubble/HST/WFC3 not found for the data point at 855908.4000002313 seconds.\n",
      "Filter F625W of Hubble/HST/WFC3 not found for the data point at 861295.2000000654 seconds.\n",
      "Filter H of CP/Gemini-South(8.1m)/GMOS not found for the data point at 903082.8000004124 seconds.\n",
      "Filter z of PAO/VLT(8.2m)/FORS1 not found for the data point at 903352.8000004124 seconds.\n",
      "Filter r of PAO/VLT-UT3-Melipal/VIMOS not found for the data point at 904343.9999999246 seconds.\n",
      "Filter J of PAO/ESO-VISTA(4.1m)/VIRCAM not found for the data point at 904840.8000001358 seconds.\n",
      "Filter R of PAO/VLT(8.2m)/FORS1 not found for the data point at 905824.8000003118 seconds.\n",
      "Filter V of PAO/VLT(8.2m)/FORS1 not found for the data point at 906064.8000003118 seconds.\n",
      "Filter F110W of Hubble/HST/WFC3 not found for the data point at 913569.80000001 seconds.\n",
      "Filter H of Hubble/HST/WFC3 not found for the data point at 917630.5999998944 seconds.\n",
      "Filter F606W of Hubble/HST/WFC3 not found for the data point at 975141.5999999698 seconds.\n",
      "Filter F475W of Hubble/HST/WFC3 not found for the data point at 977271.2000003924 seconds.\n",
      "Filter F475W of Hubble/HST/WFC3 not found for the data point at 986728.8000001106 seconds.\n",
      "Filter F814W of Hubble/HST/WFC3 not found for the data point at 987745.600000322 seconds.\n",
      "Filter F606W of Hubble/HST/WFC3 not found for the data point at 988336.799999834 seconds.\n",
      "Filter z of PAO/VLT(8.2m)/FORS1 not found for the data point at 989812.8000004124 seconds.\n",
      "Filter J of PAO/ESO-VISTA(4.1m)/VIRCAM not found for the data point at 991240.8000001358 seconds.\n",
      "Filter Ks of LCO/Magellan2Clay(6.5m)/LDSS-3 not found for the data point at 1074327.6000000956 seconds.\n",
      "Filter r of PAO/VLT-UT3-Melipal/VIMOS not found for the data point at 1075502.3999999044 seconds.\n",
      "Filter Ks of LSO/NTT(3.58m)/EFOSC2+LSO/NTT(3.58m)/SOFI not found for the data point at 1076314.800000186 seconds.\n",
      "Filter z of PAO/VLT-UT3-Melipal/VIMOS not found for the data point at 1161542.3999999044 seconds.\n",
      "Filter Ks of LCO/Magellan2Clay(6.5m)/LDSS-3 not found for the data point at 1162110.0000003772 seconds.\n",
      "Filter Ks of LSO/NTT(3.58m)/EFOSC2+LSO/NTT(3.58m)/SOFI not found for the data point at 1163146.7999999598 seconds.\n",
      "Filter z of PAO/VLT(8.2m)/FORS1 not found for the data point at 1249327.8000004124 seconds.\n",
      "Filter Ks of LCO/Magellan2Clay(6.5m)/LDSS-3 not found for the data point at 1334192.8800002623 seconds.\n",
      "Filter Ks of LCO/Magellan2Clay(6.5m)/LDSS-3 not found for the data point at 1592554.8000000603 seconds.\n",
      "Filter Ks of LCO/Magellan2Clay(6.5m)/LDSS-3 not found for the data point at 1595146.7999999598 seconds.\n",
      "Filter z of PAO/VLT-UT3-Melipal/VIMOS not found for the data point at 1682049.599999995 seconds.\n"
     ]
    },
    {
     "ename": "ValueError",
     "evalue": "All arrays must be of the same length",
     "output_type": "error",
     "traceback": [
      "\u001b[1;31m---------------------------------------------------------------------------\u001b[0m",
      "\u001b[1;31mValueError\u001b[0m                                Traceback (most recent call last)",
      "Cell \u001b[1;32mIn[2], line 4\u001b[0m\n\u001b[0;32m      1\u001b[0m \u001b[38;5;66;03m# convert to AB system and correct for extinction\u001b[39;00m\n\u001b[0;32m      2\u001b[0m \u001b[38;5;66;03m# Took 15 minutes for me :)\u001b[39;00m\n\u001b[1;32m----> 4\u001b[0m \u001b[43mlc\u001b[49m\u001b[38;5;241;43m.\u001b[39;49m\u001b[43mconvertGRB\u001b[49m\u001b[43m(\u001b[49m\n\u001b[0;32m      5\u001b[0m \u001b[43m            \u001b[49m\u001b[43msave\u001b[49m\u001b[43m \u001b[49m\u001b[38;5;241;43m=\u001b[39;49m\u001b[43m \u001b[49m\u001b[38;5;28;43;01mTrue\u001b[39;49;00m\u001b[43m,\u001b[49m\n\u001b[0;32m      6\u001b[0m \u001b[43m            \u001b[49m\u001b[43mdebug\u001b[49m\u001b[43m \u001b[49m\u001b[38;5;241;43m=\u001b[39;49m\u001b[43m \u001b[49m\u001b[38;5;28;43;01mTrue\u001b[39;49;00m\n\u001b[0;32m      7\u001b[0m \u001b[43m            \u001b[49m\u001b[43m)\u001b[49m\n",
      "File \u001b[1;32md:\\naoj-grb\\grblc\\grblc\\lightcurve.py:292\u001b[0m, in \u001b[0;36mLightcurve.convertGRB\u001b[1;34m(self, save, debug)\u001b[0m\n\u001b[0;32m    289\u001b[0m \u001b[38;5;28;01melse\u001b[39;00m:\n\u001b[0;32m    290\u001b[0m     save_in_folder \u001b[38;5;241m=\u001b[39m \u001b[38;5;28;01mNone\u001b[39;00m\n\u001b[1;32m--> 292\u001b[0m \u001b[38;5;28mself\u001b[39m\u001b[38;5;241m.\u001b[39mdf \u001b[38;5;241m=\u001b[39m \u001b[43m_convertGRB\u001b[49m\u001b[43m(\u001b[49m\n\u001b[0;32m    293\u001b[0m \u001b[43m                    \u001b[49m\u001b[43mgrb\u001b[49m\u001b[43m \u001b[49m\u001b[38;5;241;43m=\u001b[39;49m\u001b[43m \u001b[49m\u001b[38;5;28;43mself\u001b[39;49m\u001b[38;5;241;43m.\u001b[39;49m\u001b[43mname\u001b[49m\u001b[43m,\u001b[49m\n\u001b[0;32m    294\u001b[0m \u001b[43m                    \u001b[49m\u001b[43mra\u001b[49m\u001b[43m \u001b[49m\u001b[38;5;241;43m=\u001b[39;49m\u001b[43m \u001b[49m\u001b[43mgrbinfo\u001b[49m\u001b[38;5;241;43m.\u001b[39;49m\u001b[43mloc\u001b[49m\u001b[43m[\u001b[49m\u001b[38;5;28;43mself\u001b[39;49m\u001b[38;5;241;43m.\u001b[39;49m\u001b[43mname\u001b[49m\u001b[43m,\u001b[49m\u001b[43m \u001b[49m\u001b[38;5;124;43m'\u001b[39;49m\u001b[38;5;124;43mra\u001b[39;49m\u001b[38;5;124;43m'\u001b[39;49m\u001b[43m]\u001b[49m\u001b[43m,\u001b[49m\n\u001b[0;32m    295\u001b[0m \u001b[43m                    \u001b[49m\u001b[43mdec\u001b[49m\u001b[43m \u001b[49m\u001b[38;5;241;43m=\u001b[39;49m\u001b[43m \u001b[49m\u001b[43mgrbinfo\u001b[49m\u001b[38;5;241;43m.\u001b[39;49m\u001b[43mloc\u001b[49m\u001b[43m[\u001b[49m\u001b[38;5;28;43mself\u001b[39;49m\u001b[38;5;241;43m.\u001b[39;49m\u001b[43mname\u001b[49m\u001b[43m,\u001b[49m\u001b[43m \u001b[49m\u001b[38;5;124;43m'\u001b[39;49m\u001b[38;5;124;43mdec\u001b[39;49m\u001b[38;5;124;43m'\u001b[39;49m\u001b[43m]\u001b[49m\u001b[43m,\u001b[49m\n\u001b[0;32m    296\u001b[0m \u001b[43m                    \u001b[49m\u001b[43mmag_table\u001b[49m\u001b[43m \u001b[49m\u001b[38;5;241;43m=\u001b[39;49m\u001b[43m \u001b[49m\u001b[38;5;28;43mself\u001b[39;49m\u001b[38;5;241;43m.\u001b[39;49m\u001b[43mdf\u001b[49m\u001b[43m,\u001b[49m\n\u001b[0;32m    297\u001b[0m \u001b[43m                    \u001b[49m\u001b[43msave_in_folder\u001b[49m\u001b[43m \u001b[49m\u001b[38;5;241;43m=\u001b[39;49m\u001b[43m \u001b[49m\u001b[43msave_in_folder\u001b[49m\u001b[43m,\u001b[49m\n\u001b[0;32m    298\u001b[0m \u001b[43m                    \u001b[49m\u001b[43mdebug\u001b[49m\u001b[43m \u001b[49m\u001b[38;5;241;43m=\u001b[39;49m\u001b[43m \u001b[49m\u001b[43mdebug\u001b[49m\n\u001b[0;32m    299\u001b[0m \u001b[43m                    \u001b[49m\u001b[43m)\u001b[49m\n\u001b[0;32m    300\u001b[0m \u001b[38;5;28;01mreturn\u001b[39;00m \u001b[38;5;28mself\u001b[39m\u001b[38;5;241m.\u001b[39mdf\n",
      "File \u001b[1;32md:\\naoj-grb\\grblc\\grblc\\photometry\\convert.py:158\u001b[0m, in \u001b[0;36m_convertGRB\u001b[1;34m(grb, ra, dec, mag_table, save_in_folder, debug)\u001b[0m\n\u001b[0;32m    155\u001b[0m         save_path \u001b[38;5;241m=\u001b[39m os\u001b[38;5;241m.\u001b[39mpath\u001b[38;5;241m.\u001b[39mjoin(save_in_folder\u001b[38;5;241m+\u001b[39m\u001b[38;5;124m'\u001b[39m\u001b[38;5;124m/\u001b[39m\u001b[38;5;124m'\u001b[39m, \u001b[38;5;124mf\u001b[39m\u001b[38;5;124m\"\u001b[39m\u001b[38;5;132;01m{\u001b[39;00mgrb\u001b[38;5;132;01m}\u001b[39;00m\u001b[38;5;124m_khost_corrected.txt\u001b[39m\u001b[38;5;124m\"\u001b[39m)\n\u001b[0;32m    157\u001b[0m \u001b[38;5;28;01melse\u001b[39;00m:\n\u001b[1;32m--> 158\u001b[0m     converted_df \u001b[38;5;241m=\u001b[39m \u001b[43mpd\u001b[49m\u001b[38;5;241;43m.\u001b[39;49m\u001b[43mDataFrame\u001b[49m\u001b[38;5;241;43m.\u001b[39;49m\u001b[43mfrom_dict\u001b[49m\u001b[43m(\u001b[49m\u001b[43mconverted_debug\u001b[49m\u001b[43m)\u001b[49m\n\u001b[0;32m    160\u001b[0m     \u001b[38;5;28;01mif\u001b[39;00m save_in_folder:\n\u001b[0;32m    161\u001b[0m         save_path \u001b[38;5;241m=\u001b[39m os\u001b[38;5;241m.\u001b[39mpath\u001b[38;5;241m.\u001b[39mjoin(save_in_folder\u001b[38;5;241m+\u001b[39m\u001b[38;5;124m'\u001b[39m\u001b[38;5;124m/\u001b[39m\u001b[38;5;124m'\u001b[39m, \u001b[38;5;124mf\u001b[39m\u001b[38;5;124m\"\u001b[39m\u001b[38;5;132;01m{\u001b[39;00mgrb\u001b[38;5;132;01m}\u001b[39;00m\u001b[38;5;124m_khost_corrected_DEBUG.txt\u001b[39m\u001b[38;5;124m\"\u001b[39m)\n",
      "File \u001b[1;32md:\\naoj-grb\\grbLC\\test\\lib\\site-packages\\pandas\\core\\frame.py:1760\u001b[0m, in \u001b[0;36mDataFrame.from_dict\u001b[1;34m(cls, data, orient, dtype, columns)\u001b[0m\n\u001b[0;32m   1754\u001b[0m     \u001b[38;5;28;01mraise\u001b[39;00m \u001b[38;5;167;01mValueError\u001b[39;00m(\n\u001b[0;32m   1755\u001b[0m         \u001b[38;5;124mf\u001b[39m\u001b[38;5;124m\"\u001b[39m\u001b[38;5;124mExpected \u001b[39m\u001b[38;5;124m'\u001b[39m\u001b[38;5;124mindex\u001b[39m\u001b[38;5;124m'\u001b[39m\u001b[38;5;124m, \u001b[39m\u001b[38;5;124m'\u001b[39m\u001b[38;5;124mcolumns\u001b[39m\u001b[38;5;124m'\u001b[39m\u001b[38;5;124m or \u001b[39m\u001b[38;5;124m'\u001b[39m\u001b[38;5;124mtight\u001b[39m\u001b[38;5;124m'\u001b[39m\u001b[38;5;124m for orient parameter. \u001b[39m\u001b[38;5;124m\"\u001b[39m\n\u001b[0;32m   1756\u001b[0m         \u001b[38;5;124mf\u001b[39m\u001b[38;5;124m\"\u001b[39m\u001b[38;5;124mGot \u001b[39m\u001b[38;5;124m'\u001b[39m\u001b[38;5;132;01m{\u001b[39;00morient\u001b[38;5;132;01m}\u001b[39;00m\u001b[38;5;124m'\u001b[39m\u001b[38;5;124m instead\u001b[39m\u001b[38;5;124m\"\u001b[39m\n\u001b[0;32m   1757\u001b[0m     )\n\u001b[0;32m   1759\u001b[0m \u001b[38;5;28;01mif\u001b[39;00m orient \u001b[38;5;241m!=\u001b[39m \u001b[38;5;124m\"\u001b[39m\u001b[38;5;124mtight\u001b[39m\u001b[38;5;124m\"\u001b[39m:\n\u001b[1;32m-> 1760\u001b[0m     \u001b[38;5;28;01mreturn\u001b[39;00m \u001b[38;5;28;43mcls\u001b[39;49m\u001b[43m(\u001b[49m\u001b[43mdata\u001b[49m\u001b[43m,\u001b[49m\u001b[43m \u001b[49m\u001b[43mindex\u001b[49m\u001b[38;5;241;43m=\u001b[39;49m\u001b[43mindex\u001b[49m\u001b[43m,\u001b[49m\u001b[43m \u001b[49m\u001b[43mcolumns\u001b[49m\u001b[38;5;241;43m=\u001b[39;49m\u001b[43mcolumns\u001b[49m\u001b[43m,\u001b[49m\u001b[43m \u001b[49m\u001b[43mdtype\u001b[49m\u001b[38;5;241;43m=\u001b[39;49m\u001b[43mdtype\u001b[49m\u001b[43m)\u001b[49m\n\u001b[0;32m   1761\u001b[0m \u001b[38;5;28;01melse\u001b[39;00m:\n\u001b[0;32m   1762\u001b[0m     realdata \u001b[38;5;241m=\u001b[39m data[\u001b[38;5;124m\"\u001b[39m\u001b[38;5;124mdata\u001b[39m\u001b[38;5;124m\"\u001b[39m]\n",
      "File \u001b[1;32md:\\naoj-grb\\grbLC\\test\\lib\\site-packages\\pandas\\core\\frame.py:709\u001b[0m, in \u001b[0;36mDataFrame.__init__\u001b[1;34m(self, data, index, columns, dtype, copy)\u001b[0m\n\u001b[0;32m    703\u001b[0m     mgr \u001b[38;5;241m=\u001b[39m \u001b[38;5;28mself\u001b[39m\u001b[38;5;241m.\u001b[39m_init_mgr(\n\u001b[0;32m    704\u001b[0m         data, axes\u001b[38;5;241m=\u001b[39m{\u001b[38;5;124m\"\u001b[39m\u001b[38;5;124mindex\u001b[39m\u001b[38;5;124m\"\u001b[39m: index, \u001b[38;5;124m\"\u001b[39m\u001b[38;5;124mcolumns\u001b[39m\u001b[38;5;124m\"\u001b[39m: columns}, dtype\u001b[38;5;241m=\u001b[39mdtype, copy\u001b[38;5;241m=\u001b[39mcopy\n\u001b[0;32m    705\u001b[0m     )\n\u001b[0;32m    707\u001b[0m \u001b[38;5;28;01melif\u001b[39;00m \u001b[38;5;28misinstance\u001b[39m(data, \u001b[38;5;28mdict\u001b[39m):\n\u001b[0;32m    708\u001b[0m     \u001b[38;5;66;03m# GH#38939 de facto copy defaults to False only in non-dict cases\u001b[39;00m\n\u001b[1;32m--> 709\u001b[0m     mgr \u001b[38;5;241m=\u001b[39m \u001b[43mdict_to_mgr\u001b[49m\u001b[43m(\u001b[49m\u001b[43mdata\u001b[49m\u001b[43m,\u001b[49m\u001b[43m \u001b[49m\u001b[43mindex\u001b[49m\u001b[43m,\u001b[49m\u001b[43m \u001b[49m\u001b[43mcolumns\u001b[49m\u001b[43m,\u001b[49m\u001b[43m \u001b[49m\u001b[43mdtype\u001b[49m\u001b[38;5;241;43m=\u001b[39;49m\u001b[43mdtype\u001b[49m\u001b[43m,\u001b[49m\u001b[43m \u001b[49m\u001b[43mcopy\u001b[49m\u001b[38;5;241;43m=\u001b[39;49m\u001b[43mcopy\u001b[49m\u001b[43m,\u001b[49m\u001b[43m \u001b[49m\u001b[43mtyp\u001b[49m\u001b[38;5;241;43m=\u001b[39;49m\u001b[43mmanager\u001b[49m\u001b[43m)\u001b[49m\n\u001b[0;32m    710\u001b[0m \u001b[38;5;28;01melif\u001b[39;00m \u001b[38;5;28misinstance\u001b[39m(data, ma\u001b[38;5;241m.\u001b[39mMaskedArray):\n\u001b[0;32m    711\u001b[0m     \u001b[38;5;28;01mfrom\u001b[39;00m \u001b[38;5;21;01mnumpy\u001b[39;00m\u001b[38;5;21;01m.\u001b[39;00m\u001b[38;5;21;01mma\u001b[39;00m \u001b[38;5;28;01mimport\u001b[39;00m mrecords\n",
      "File \u001b[1;32md:\\naoj-grb\\grbLC\\test\\lib\\site-packages\\pandas\\core\\internals\\construction.py:481\u001b[0m, in \u001b[0;36mdict_to_mgr\u001b[1;34m(data, index, columns, dtype, typ, copy)\u001b[0m\n\u001b[0;32m    477\u001b[0m     \u001b[38;5;28;01melse\u001b[39;00m:\n\u001b[0;32m    478\u001b[0m         \u001b[38;5;66;03m# dtype check to exclude e.g. range objects, scalars\u001b[39;00m\n\u001b[0;32m    479\u001b[0m         arrays \u001b[38;5;241m=\u001b[39m [x\u001b[38;5;241m.\u001b[39mcopy() \u001b[38;5;28;01mif\u001b[39;00m \u001b[38;5;28mhasattr\u001b[39m(x, \u001b[38;5;124m\"\u001b[39m\u001b[38;5;124mdtype\u001b[39m\u001b[38;5;124m\"\u001b[39m) \u001b[38;5;28;01melse\u001b[39;00m x \u001b[38;5;28;01mfor\u001b[39;00m x \u001b[38;5;129;01min\u001b[39;00m arrays]\n\u001b[1;32m--> 481\u001b[0m \u001b[38;5;28;01mreturn\u001b[39;00m \u001b[43marrays_to_mgr\u001b[49m\u001b[43m(\u001b[49m\u001b[43marrays\u001b[49m\u001b[43m,\u001b[49m\u001b[43m \u001b[49m\u001b[43mcolumns\u001b[49m\u001b[43m,\u001b[49m\u001b[43m \u001b[49m\u001b[43mindex\u001b[49m\u001b[43m,\u001b[49m\u001b[43m \u001b[49m\u001b[43mdtype\u001b[49m\u001b[38;5;241;43m=\u001b[39;49m\u001b[43mdtype\u001b[49m\u001b[43m,\u001b[49m\u001b[43m \u001b[49m\u001b[43mtyp\u001b[49m\u001b[38;5;241;43m=\u001b[39;49m\u001b[43mtyp\u001b[49m\u001b[43m,\u001b[49m\u001b[43m \u001b[49m\u001b[43mconsolidate\u001b[49m\u001b[38;5;241;43m=\u001b[39;49m\u001b[43mcopy\u001b[49m\u001b[43m)\u001b[49m\n",
      "File \u001b[1;32md:\\naoj-grb\\grbLC\\test\\lib\\site-packages\\pandas\\core\\internals\\construction.py:115\u001b[0m, in \u001b[0;36marrays_to_mgr\u001b[1;34m(arrays, columns, index, dtype, verify_integrity, typ, consolidate)\u001b[0m\n\u001b[0;32m    112\u001b[0m \u001b[38;5;28;01mif\u001b[39;00m verify_integrity:\n\u001b[0;32m    113\u001b[0m     \u001b[38;5;66;03m# figure out the index, if necessary\u001b[39;00m\n\u001b[0;32m    114\u001b[0m     \u001b[38;5;28;01mif\u001b[39;00m index \u001b[38;5;129;01mis\u001b[39;00m \u001b[38;5;28;01mNone\u001b[39;00m:\n\u001b[1;32m--> 115\u001b[0m         index \u001b[38;5;241m=\u001b[39m \u001b[43m_extract_index\u001b[49m\u001b[43m(\u001b[49m\u001b[43marrays\u001b[49m\u001b[43m)\u001b[49m\n\u001b[0;32m    116\u001b[0m     \u001b[38;5;28;01melse\u001b[39;00m:\n\u001b[0;32m    117\u001b[0m         index \u001b[38;5;241m=\u001b[39m ensure_index(index)\n",
      "File \u001b[1;32md:\\naoj-grb\\grbLC\\test\\lib\\site-packages\\pandas\\core\\internals\\construction.py:655\u001b[0m, in \u001b[0;36m_extract_index\u001b[1;34m(data)\u001b[0m\n\u001b[0;32m    653\u001b[0m lengths \u001b[38;5;241m=\u001b[39m \u001b[38;5;28mlist\u001b[39m(\u001b[38;5;28mset\u001b[39m(raw_lengths))\n\u001b[0;32m    654\u001b[0m \u001b[38;5;28;01mif\u001b[39;00m \u001b[38;5;28mlen\u001b[39m(lengths) \u001b[38;5;241m>\u001b[39m \u001b[38;5;241m1\u001b[39m:\n\u001b[1;32m--> 655\u001b[0m     \u001b[38;5;28;01mraise\u001b[39;00m \u001b[38;5;167;01mValueError\u001b[39;00m(\u001b[38;5;124m\"\u001b[39m\u001b[38;5;124mAll arrays must be of the same length\u001b[39m\u001b[38;5;124m\"\u001b[39m)\n\u001b[0;32m    657\u001b[0m \u001b[38;5;28;01mif\u001b[39;00m have_dicts:\n\u001b[0;32m    658\u001b[0m     \u001b[38;5;28;01mraise\u001b[39;00m \u001b[38;5;167;01mValueError\u001b[39;00m(\n\u001b[0;32m    659\u001b[0m         \u001b[38;5;124m\"\u001b[39m\u001b[38;5;124mMixing dicts with non-Series may lead to ambiguous ordering.\u001b[39m\u001b[38;5;124m\"\u001b[39m\n\u001b[0;32m    660\u001b[0m     )\n",
      "\u001b[1;31mValueError\u001b[0m: All arrays must be of the same length"
     ]
    }
   ],
   "source": [
    "# convert to AB system and correct for extinction\n",
    "# Took 15 minutes for me :)\n",
    "\n",
    "lc.convertGRB(\n",
    "            save = True,\n",
    "            debug = True\n",
    "            )"
   ]
  },
  {
   "cell_type": "code",
   "execution_count": null,
   "metadata": {},
   "outputs": [
    {
     "name": "stdout",
     "output_type": "stream",
     "text": [
      "   time_sec        mag  mag_err band band_appx system  \\\n",
      "0  39289.20  17.296265    0.018    i         i     AB   \n",
      "1  39964.08  18.208580    0.150    H         H     AB   \n",
      "2  40810.80  17.082104    0.020    r         r     AB   \n",
      "3  40810.80  17.751555    0.150    J         J     AB   \n",
      "4  40810.80  17.502192    0.030    z         z     AB   \n",
      "\n",
      "                        telescope extcorr     source flag  \n",
      "0             LCO/Swope(1m)/CISCO       y  Rossi2020   no  \n",
      "1  LCO/Magellan2Clay(6.5m)/LDSS-3       y  Rossi2020   no  \n",
      "2  LCO/Magellan2Clay(6.5m)/LDSS-3       y  Rossi2020   no  \n",
      "3  LCO/Magellan2Clay(6.5m)/LDSS-3       y  Rossi2020   no  \n",
      "4  LCO/Magellan2Clay(6.5m)/LDSS-3       y  Rossi2020   no  \n",
      "GRB =  170817A , at z = 0.009783 , host galaxy model (Pei 1992)\n",
      "     time_index  time_sec   mag_corr  mag_err    lambda   band     source  \\\n",
      "0             1  4.594273  17.296265    0.018   7635.10      i  Rossi2020   \n",
      "1             1  4.601670  18.208580    0.150  16173.49      H  Rossi2020   \n",
      "2             1  4.610775  17.082104    0.020   6185.57      r  Rossi2020   \n",
      "3             1  4.610775  17.751555    0.150  12373.05      J  Rossi2020   \n",
      "4             1  4.610775  17.502192    0.030   7956.03      z  Rossi2020   \n",
      "..          ...       ...        ...      ...       ...    ...        ...   \n",
      "267         267  5.989068  23.496377    0.370   5776.43  F606W  Rossi2020   \n",
      "270         267  5.994645  22.320000    0.020   8019.74  F814W  Rossi2020   \n",
      "271         267  5.994905  23.386377    0.360   5776.43  F606W  Rossi2020   \n",
      "272         267  5.995553  22.679954    0.471   9029.36      z  Rossi2020   \n",
      "273         267  5.996179  21.080917    0.400  12305.66      J  Rossi2020   \n",
      "\n",
      "                          telescope flag  \n",
      "0               LCO/Swope(1m)/CISCO   no  \n",
      "1    LCO/Magellan2Clay(6.5m)/LDSS-3   no  \n",
      "2    LCO/Magellan2Clay(6.5m)/LDSS-3   no  \n",
      "3    LCO/Magellan2Clay(6.5m)/LDSS-3   no  \n",
      "4    LCO/Magellan2Clay(6.5m)/LDSS-3   no  \n",
      "..                              ...  ...  \n",
      "267                 Hubble/HST/WFC3   no  \n",
      "270                 Hubble/HST/WFC3   no  \n",
      "271                 Hubble/HST/WFC3   no  \n",
      "272             PAO/VLT(8.2m)/FORS1   no  \n",
      "273      PAO/ESO-VISTA(4.1m)/VIRCAM   no  \n",
      "\n",
      "[818 rows x 9 columns]\n",
      "Fitting SMC model...\n",
      "Fitting LMC model...\n",
      "Fitting MW model...\n",
      "The selected model according to its probability is  MW\n",
      "1 7.506006196907477e-71\n"
     ]
    },
    {
     "ename": "TypeError",
     "evalue": "bad operand type for abs(): 'NoneType'",
     "output_type": "error",
     "traceback": [
      "\u001b[1;31m---------------------------------------------------------------------------\u001b[0m",
      "\u001b[1;31mTypeError\u001b[0m                                 Traceback (most recent call last)",
      "Cell \u001b[1;32mIn[4], line 13\u001b[0m\n\u001b[0;32m      5\u001b[0m grb \u001b[38;5;241m=\u001b[39m \u001b[38;5;124m'\u001b[39m\u001b[38;5;124m170817A\u001b[39m\u001b[38;5;124m'\u001b[39m\n\u001b[0;32m      6\u001b[0m lc \u001b[38;5;241m=\u001b[39m Lightcurve(\n\u001b[0;32m      7\u001b[0m     grb,\n\u001b[0;32m      8\u001b[0m     path \u001b[38;5;241m=\u001b[39m grb\u001b[38;5;241m+\u001b[39m\u001b[38;5;124m'\u001b[39m\u001b[38;5;124m/converted/\u001b[39m\u001b[38;5;124m'\u001b[39m\u001b[38;5;241m+\u001b[39mgrb\u001b[38;5;241m+\u001b[39m\u001b[38;5;124m'\u001b[39m\u001b[38;5;124m_magAB_extcorr.txt\u001b[39m\u001b[38;5;124m'\u001b[39m,\n\u001b[0;32m      9\u001b[0m     data_space \u001b[38;5;241m=\u001b[39m \u001b[38;5;124m'\u001b[39m\u001b[38;5;124mlin\u001b[39m\u001b[38;5;124m'\u001b[39m,\n\u001b[0;32m     10\u001b[0m     save_in_folder \u001b[38;5;241m=\u001b[39m \u001b[38;5;28;01mNone\u001b[39;00m\n\u001b[0;32m     11\u001b[0m     )\n\u001b[1;32m---> 13\u001b[0m \u001b[43mlc\u001b[49m\u001b[38;5;241;43m.\u001b[39;49m\u001b[43mbetaGRB\u001b[49m\u001b[43m(\u001b[49m\u001b[43m)\u001b[49m\n",
      "File \u001b[1;32md:\\naoj-grb\\grblc\\grblc\\lightcurve.py:316\u001b[0m, in \u001b[0;36mLightcurve.betaGRB\u001b[1;34m(self, print_status, save)\u001b[0m\n\u001b[0;32m    313\u001b[0m     \u001b[38;5;28;01mif\u001b[39;00m \u001b[38;5;129;01mnot\u001b[39;00m os\u001b[38;5;241m.\u001b[39mpath\u001b[38;5;241m.\u001b[39mexists(save_in_folder):\n\u001b[0;32m    314\u001b[0m         os\u001b[38;5;241m.\u001b[39mmkdir(save_in_folder)\n\u001b[1;32m--> 316\u001b[0m \u001b[38;5;28mself\u001b[39m\u001b[38;5;241m.\u001b[39msed_results \u001b[38;5;241m=\u001b[39m \u001b[43m_beta_marquardt\u001b[49m\u001b[43m(\u001b[49m\n\u001b[0;32m    317\u001b[0m \u001b[43m                                \u001b[49m\u001b[43mgrb\u001b[49m\u001b[43m \u001b[49m\u001b[38;5;241;43m=\u001b[39;49m\u001b[43m \u001b[49m\u001b[38;5;28;43mself\u001b[39;49m\u001b[38;5;241;43m.\u001b[39;49m\u001b[43mname\u001b[49m\u001b[43m,\u001b[49m\u001b[43m \u001b[49m\n\u001b[0;32m    318\u001b[0m \u001b[43m                                \u001b[49m\u001b[43mpath\u001b[49m\u001b[43m \u001b[49m\u001b[38;5;241;43m=\u001b[39;49m\u001b[43m \u001b[49m\u001b[38;5;28;43mself\u001b[39;49m\u001b[38;5;241;43m.\u001b[39;49m\u001b[43mpath\u001b[49m\u001b[43m,\u001b[49m\n\u001b[0;32m    319\u001b[0m \u001b[43m                                \u001b[49m\u001b[43mz\u001b[49m\u001b[43m \u001b[49m\u001b[38;5;241;43m=\u001b[39;49m\u001b[43m \u001b[49m\u001b[43mgrbinfo\u001b[49m\u001b[38;5;241;43m.\u001b[39;49m\u001b[43mloc\u001b[49m\u001b[43m[\u001b[49m\u001b[38;5;28;43mself\u001b[39;49m\u001b[38;5;241;43m.\u001b[39;49m\u001b[43mname\u001b[49m\u001b[43m,\u001b[49m\u001b[43m \u001b[49m\u001b[38;5;124;43m'\u001b[39;49m\u001b[38;5;124;43mz\u001b[39;49m\u001b[38;5;124;43m'\u001b[39;49m\u001b[43m]\u001b[49m\u001b[43m,\u001b[49m\n\u001b[0;32m    320\u001b[0m \u001b[43m                                \u001b[49m\u001b[43mprint_status\u001b[49m\u001b[43m \u001b[49m\u001b[38;5;241;43m=\u001b[39;49m\u001b[43m \u001b[49m\u001b[43mprint_status\u001b[49m\u001b[43m,\u001b[49m\n\u001b[0;32m    321\u001b[0m \u001b[43m                                \u001b[49m\u001b[43msave_in_folder\u001b[49m\u001b[43m \u001b[49m\u001b[38;5;241;43m=\u001b[39;49m\u001b[43m \u001b[49m\u001b[43msave_in_folder\u001b[49m\u001b[43m,\u001b[49m\n\u001b[0;32m    322\u001b[0m \u001b[43m                                \u001b[49m\u001b[43m)\u001b[49m\n\u001b[0;32m    324\u001b[0m \u001b[38;5;28;01mreturn\u001b[39;00m \u001b[38;5;28mself\u001b[39m\u001b[38;5;241m.\u001b[39msed_results\n",
      "File \u001b[1;32md:\\naoj-grb\\grblc\\grblc\\photometry\\sed.py:354\u001b[0m, in \u001b[0;36m_beta_marquardt\u001b[1;34m(grb, path, z, print_status, save_in_folder)\u001b[0m\n\u001b[0;32m    351\u001b[0m     \u001b[38;5;28mprint\u001b[39m(plotnumber,prob)\n\u001b[0;32m    353\u001b[0m \u001b[38;5;66;03m# 26feb commented\u001b[39;00m\n\u001b[1;32m--> 354\u001b[0m \u001b[38;5;28;01mif\u001b[39;00m \u001b[38;5;28;43mabs\u001b[39;49m\u001b[43m(\u001b[49m\u001b[43mslopeerr\u001b[49m\u001b[43m)\u001b[49m \u001b[38;5;241m>\u001b[39m \u001b[38;5;28mabs\u001b[39m(slope) \u001b[38;5;129;01mor\u001b[39;00m slopeerr \u001b[38;5;129;01mis\u001b[39;00m \u001b[38;5;28;01mNone\u001b[39;00m:\n\u001b[0;32m    355\u001b[0m     reject_plot \u001b[38;5;241m=\u001b[39m \u001b[38;5;28;01mTrue\u001b[39;00m\n\u001b[0;32m    357\u001b[0m \u001b[38;5;66;03m# if abs(avfiterr) > abs(avfit):\u001b[39;00m\n\u001b[0;32m    358\u001b[0m \u001b[38;5;66;03m#     reject_plot = True\u001b[39;00m\n",
      "\u001b[1;31mTypeError\u001b[0m: bad operand type for abs(): 'NoneType'"
     ]
    }
   ],
   "source": [
    "# spectral index calculation\n",
    "\n",
    "from grblc.lightcurve import Lightcurve\n",
    "\n",
    "grb = '170817A'\n",
    "lc = Lightcurve(\n",
    "    grb,\n",
    "    path = 'converted',\n",
    "    data_space = 'lin',\n",
    "    save_in_folder = None\n",
    "    )\n",
    "\n",
    "lc.betaGRB()"
   ]
  },
  {
   "cell_type": "code",
   "execution_count": null,
   "metadata": {},
   "outputs": [],
   "source": [
    "lc.host_kcorrectGRB()"
   ]
  },
  {
   "cell_type": "markdown",
   "metadata": {},
   "source": [
    "### `Evolution` module"
   ]
  },
  {
   "cell_type": "code",
   "execution_count": 1,
   "metadata": {},
   "outputs": [
    {
     "name": "stdout",
     "output_type": "stream",
     "text": [
      "   time_sec        mag  mag_err band band_appx system  \\\n",
      "0  39289.20  17.296265    0.018    i         i     AB   \n",
      "1  39964.08  18.208580    0.150    H         H     AB   \n",
      "3  40810.80  17.082104    0.020    r         r     AB   \n",
      "4  40810.80  17.751555    0.150    J         J     AB   \n",
      "5  40810.80  17.502192    0.030    z         z     AB   \n",
      "\n",
      "                        telescope extcorr     source flag  \n",
      "0             LCO/Swope(1m)/CISCO       y  Rossi2020   no  \n",
      "1  LCO/Magellan2Clay(6.5m)/LDSS-3       y  Rossi2020   no  \n",
      "3  LCO/Magellan2Clay(6.5m)/LDSS-3       y  Rossi2020   no  \n",
      "4  LCO/Magellan2Clay(6.5m)/LDSS-3       y  Rossi2020   no  \n",
      "5  LCO/Magellan2Clay(6.5m)/LDSS-3       y  Rossi2020   no  \n",
      "170817A\n",
      "-------\n",
      "band_appx\n",
      "g        32\n",
      "V        30\n",
      "r        28\n",
      "z        25\n",
      "R        22\n",
      "J        21\n",
      "w        18\n",
      "I        18\n",
      "B        14\n",
      "H        13\n",
      "i        11\n",
      "Y        11\n",
      "K        10\n",
      "F336W    10\n",
      "U         7\n",
      "F110W     4\n",
      "F475W     4\n",
      "u         3\n",
      "F606W     3\n",
      "UVW1      2\n",
      "UVM2      2\n",
      "F160W     1\n",
      "F625W     1\n",
      "F814W     1\n",
      "Name: count, dtype: int64\n",
      "\n",
      " The filter chosen in this GRB:  g , with 32 occurrences.\n",
      "This filter will be considered for rescaling\n",
      "Individual point rescaling:\n",
      "    band  Occur_band  Log10(t)  Resc_fact  Resc_fact_err  Resc_fact_weights\n",
      "0      r          28  4.610775  -0.033318       0.028284          35.355339\n",
      "1      J          21  4.610775  -0.702770       0.151327           6.608186\n",
      "2      z          25  4.610775  -0.453406       0.036056          27.735010\n",
      "3      V          30  4.611094  -0.301214       0.028284          35.355339\n",
      "4      J          21  4.618383  -0.752131       0.036056          27.735010\n",
      "..   ...         ...       ...        ...            ...                ...\n",
      "135    r          28  5.673097   1.516262       0.268328           3.726780\n",
      "136    Y          11  5.674687   3.840619       0.156205           6.401844\n",
      "137    i          11  5.675015   1.973798       0.166901           5.991570\n",
      "138    r          28  5.676285   1.388262       0.104403           9.578263\n",
      "139    z          25  5.676285   2.893870       0.104403           9.578263\n",
      "\n",
      "[140 rows x 6 columns]\n",
      "\n",
      "Slopes of rescale factors for each filter:\n",
      "  slope_lin slope_lin_err intercept inter_err slope_lin_err/slope_lin  \\\n",
      "Y     3.592         0.285   -17.099     1.394                   0.079   \n",
      "B    -1.029         0.402     4.878     2.096                   0.391   \n",
      "I     2.758         0.791   -13.179     4.141                   0.287   \n",
      "z     3.102         0.142   -14.832      0.72                   0.046   \n",
      "w     1.179         0.284     -5.89     1.435                   0.241   \n",
      "H     5.739         0.658   -28.462     3.376                   0.115   \n",
      "J      4.03         0.242   -19.507     1.231                    0.06   \n",
      "u    -4.641          1.35    22.869     7.059                   0.291   \n",
      "r     1.301         0.084    -6.083     0.447                   0.065   \n",
      "K       NaN           NaN       NaN       NaN                     NaN   \n",
      "V     0.943         0.168    -4.665     0.835                   0.178   \n",
      "R       2.0         0.349    -9.611     1.813                   0.174   \n",
      "i     2.302         0.518    -10.92     2.835                   0.225   \n",
      "U    77.041        24.222   -396.06   123.985                   0.314   \n",
      "\n",
      "        red_chi2_lin           prob_lin            BIC_lin  \\\n",
      "Y             29.225                0.0             25.162   \n",
      "B              4.068           0.000013             16.405   \n",
      "I              6.055                0.0             14.143   \n",
      "z              6.321                0.0             24.908   \n",
      "w              8.069                0.0             27.838   \n",
      "H              3.427           0.004254              6.823   \n",
      "J             17.658                0.0             37.237   \n",
      "u              3.028           0.028192              2.225   \n",
      "r              6.371                0.0              40.92   \n",
      "K  insufficient_data  insufficient_data  insufficient_data   \n",
      "V              8.812                0.0             58.755   \n",
      "R               5.29                0.0             22.772   \n",
      "i              6.431                0.0             16.747   \n",
      "U              0.102           0.991734            -10.744   \n",
      "\n",
      "          comment_lin                                         plot_color  \\\n",
      "Y     color-evolution                             (0.0, 0.0, 0.502, 1.0)   \n",
      "B  no-color-evolution  (0.0, 0.23939961427193826, 0.3479376950780313,...   \n",
      "I     color-evolution                (0.0, 0.4981591003460206, 1.0, 1.0)   \n",
      "z     color-evolution  (0.0, 0.9826538408304498, 0.9484380252100841, ...   \n",
      "w     color-evolution   (0.0, 0.986936604088444, 0.368548620127168, 1.0)   \n",
      "H     color-evolution  (0.29971537667698656, 0.8522642983467896, 0.0,...   \n",
      "J     color-evolution  (0.5182809189613916, 0.9998402909550916, 0.046...   \n",
      "u     color-evolution  (0.8573751723275831, 1.0, 0.12482388288648784,...   \n",
      "r     color-evolution                (1.0, 0.8743443122968675, 0.0, 1.0)   \n",
      "K   insufficient_data  (1.0, 0.6330785099467843, 0.04394123649459788,...   \n",
      "V     color-evolution               (1.0, 0.14918899559823937, 0.0, 1.0)   \n",
      "R     color-evolution                 (1.0, 0.0, 0.903475216972035, 1.0)   \n",
      "i     color-evolution  (0.6912889749219927, 0.2682950819672131, 0.981...   \n",
      "U     color-evolution  (0.945857785467128, 0.6455103806228373, 0.9531...   \n",
      "\n",
      "  intercept_a0 inter_a0_err intercept_a0_err/inter_a0        red_chi2_a0  \\\n",
      "Y          0.4        0.496                      1.24            795.642   \n",
      "B       -0.481        0.087                     0.181              6.573   \n",
      "I        1.258        0.233                     0.185             17.326   \n",
      "z         0.88        0.365                     0.415            280.824   \n",
      "w        0.056        0.126                      2.25             19.979   \n",
      "H        0.957        0.239                      0.25             67.648   \n",
      "J        0.957        0.373                      0.39            461.156   \n",
      "u       -1.386        0.464                     0.335             19.404   \n",
      "r        0.799        0.095                     0.119             85.744   \n",
      "K          NaN          NaN                       NaN  insufficient_data   \n",
      "V        0.026        0.076                     2.923             20.071   \n",
      "R        0.764        0.113                     0.148             20.577   \n",
      "i        1.672        0.064                     0.038             23.636   \n",
      "U       -1.707        0.081                     0.047              0.335   \n",
      "\n",
      "             prob_a0             BIC_a0          comment_a0  \n",
      "Y                0.0             47.621     color-evolution  \n",
      "B                0.0             20.079     color-evolution  \n",
      "I                0.0             20.832     color-evolution  \n",
      "z                0.0             69.093     color-evolution  \n",
      "w                0.0             37.377     color-evolution  \n",
      "H                0.0             21.565     color-evolution  \n",
      "J                0.0             75.046     color-evolution  \n",
      "u                0.0              8.779     color-evolution  \n",
      "r                0.0             90.997     color-evolution  \n",
      "K  insufficient_data  insufficient_data   insufficient_data  \n",
      "V                0.0              77.18     color-evolution  \n",
      "R                0.0             37.731     color-evolution  \n",
      "i                0.0             26.313     color-evolution  \n",
      "U           0.892164             -4.978  no-color-evolution  \n",
      "Filters compatible with zero in 3sigma and such that |slope_err/slope| <=1 :  B\n",
      "Filters not compatible with zero in 3sigma:  Y I z w H J u r V R i U\n",
      "\n",
      "\n",
      "No color evolution:  B  ; Color evolution:  Y I z w H J u r V R i U\n",
      "Y:3.592+/-0.285; B:-1.029+/-0.402; I:2.758+/-0.791; z:3.102+/-0.142; w:1.179+/-0.284; H:5.739+/-0.658; J:4.03+/-0.242; u:-4.641+/-1.35; r:1.301+/-0.084; K:nan+/-nan; V:0.943+/-0.168; R:2.0+/-0.349; i:2.302+/-0.518; U:77.041+/-24.222; \n",
      "Filters with no color evolution according to a=0 :  U\n",
      "Filters with color evolution according to a=0 :  Y B I z w H J u r V R i\n",
      "\n",
      "\n",
      "No color evolution:  U  ; Color evolution:  Y B I z w H J u r V R i\n"
     ]
    },
    {
     "data": {
      "image/png": "[encoded data removed]",
      "text/plain": [
       "<Figure size 640x480 with 2 Axes>"
      ]
     },
     "metadata": {},
     "output_type": "display_data"
    },
    {
     "data": {
      "image/png": "[encoded data removed]",
      "text/plain": [
       "<Figure size 1600x900 with 2 Axes>"
      ]
     },
     "metadata": {},
     "output_type": "display_data"
    }
   ],
   "source": [
    "# analysing colour evolution\n",
    "\n",
    "# initialise lightcurve object\n",
    "\n",
    "from grblc.lightcurve import Lightcurve\n",
    "\n",
    "grb = '170817A'\n",
    "lc = Lightcurve(\n",
    "    grb,\n",
    "    path = 'converted',\n",
    "    data_space = 'lin',\n",
    "    appx_bands = True,\n",
    "    save_in_folder = None\n",
    "    )\n",
    "\n",
    "fig, *__ = lc.colorevolGRB()"
   ]
  },
  {
   "cell_type": "code",
   "execution_count": 2,
   "metadata": {},
   "outputs": [
    {
     "name": "stdout",
     "output_type": "stream",
     "text": [
      "Filters with no colour evolution:\n",
      "\n",
      "['B']\n"
     ]
    },
    {
     "data": {
      "application/vnd.plotly.v1+json": {
       "config": {
        "plotlyServerURL": "https://plot.ly"
       },
       "data": [
        {
         "error_y": {
          "array": [
           0.018,
           0.03,
           0.02,
           0.03,
           0.02,
           0.047,
           0.01,
           0.045,
           0.116,
           0.183,
           0.03
          ]
         },
         "hovertemplate": "      <b>Band<b>=i (11)<br>x=%{x}<br>y=%{y}<extra></extra>",
         "legendgroup": "i (11)",
         "marker": {
          "color": "rgb(228,26,28)",
          "size": 9,
          "symbol": "circle"
         },
         "mode": "markers",
         "name": "<b>i (11)</b>",
         "orientation": "v",
         "showlegend": true,
         "type": "scatter",
         "x": [
          4.594273185872828,
          5.098524390908145,
          5.1177100097896595,
          5.32760207122408,
          5.329623206511437,
          5.478309594317676,
          5.481987519605433,
          5.586017622887098,
          5.6750146316600505,
          5.809512848702256,
          5.811557312031467
         ],
         "xaxis": "x",
         "y": [
          17.296264734797475,
          17.588315414702652,
          17.622264734797476,
          18.37,
          18.17831541470265,
          18.74226473479748,
          18.75026473479748,
          19.206264734797475,
          20.09026473479748,
          21.24026473479748,
          20.73026473479748
         ],
         "yaxis": "y"
        },
        {
         "error_y": {
          "array": [
           0.15,
           0.01,
           0.1,
           0.09,
           0.01,
           0.1,
           0.03,
           0.14,
           0.18,
           0.06,
           0.15,
           0.15,
           0.09
          ]
         },
         "hovertemplate": "      <b>Band<b>=H (13)<br>x=%{x}<br>y=%{y}<extra></extra>",
         "legendgroup": "H (13)",
         "marker": {
          "color": "rgb(55,126,184)",
          "size": 9,
          "symbol": "circle"
         },
         "mode": "markers",
         "name": "<b>H (13)</b>",
         "orientation": "v",
         "showlegend": true,
         "type": "scatter",
         "x": [
          4.6016698196715575,
          5.1016236398110335,
          5.104228916159975,
          5.323431145259261,
          5.32457002356252,
          5.584419431475908,
          5.6288956858628945,
          5.807931800041965,
          5.863491072032829,
          5.910966690360492,
          5.911547712352183,
          5.955727570839238,
          5.962667887444997
         ],
         "xaxis": "x",
         "y": [
          18.20858018847394,
          17.46858018847394,
          17.5792386366632,
          17.6592386366632,
          17.51858018847394,
          17.8692386366632,
          18.0092386366632,
          18.7392386366632,
          19.1692386366632,
          19.5492386366632,
          19.5692386366632,
          19.9892386366632,
          20.2292386366632
         ],
         "yaxis": "y"
        },
        {
         "error_y": {
          "array": [
           0.02,
           0.02,
           0.02,
           0.03,
           0.02,
           0.018,
           0.04,
           0.03,
           0.02,
           0.01,
           0.04,
           0.089,
           0.02,
           0.01,
           0.05,
           0.01,
           0.125,
           0.03,
           0.24,
           0.03,
           0.07,
           0.11,
           0.04,
           0.05,
           0.18,
           0.04,
           0.07,
           0.31
          ]
         },
         "hovertemplate": "      <b>Band<b>=r (28)<br>x=%{x}<br>y=%{y}<extra></extra>",
         "legendgroup": "r (28)",
         "marker": {
          "color": "rgb(77,175,74)",
          "size": 9,
          "symbol": "circle"
         },
         "mode": "markers",
         "name": "<b>r (28)</b>",
         "orientation": "v",
         "showlegend": true,
         "type": "scatter",
         "x": [
          4.610775108182708,
          5.095230043768563,
          5.097686184976015,
          5.098763581476061,
          5.1045751904123176,
          5.118853089116484,
          5.324091817874829,
          5.325564098043082,
          5.331271286932973,
          5.474502396093712,
          5.47513110739676,
          5.478309594317676,
          5.479652747894751,
          5.482001834548799,
          5.585492764595072,
          5.58608115803233,
          5.587061394396655,
          5.672201706581809,
          5.6730972477294745,
          5.676285455369364,
          5.746286001160599,
          5.809060089698383,
          5.8116377327657895,
          5.86406231563367,
          5.864330206023796,
          5.912564254173961,
          5.956333661541515,
          6.03161138385928
         ],
         "xaxis": "x",
         "y": [
          17.082103544288394,
          17.69,
          17.797800485233545,
          17.662103544288396,
          17.708800485233546,
          17.742800485233545,
          18.77,
          18.787800485233547,
          18.682103544288395,
          19.28,
          19.047800485233545,
          19.572800485233547,
          19.497800485233544,
          19.417800485233546,
          20.007800485233545,
          19.86,
          20.336800485233542,
          20.39,
          20.547800485233545,
          20.497800485233544,
          21.067800485233544,
          20.987800485233542,
          21.497800485233544,
          21.75,
          21.707800485233545,
          22.2,
          22.45,
          23.12
         ],
         "yaxis": "y"
        },
        {
         "error_y": {
          "array": [
           0.15,
           0.03,
           0.03,
           0.01,
           0.01,
           0.01,
           0.01,
           0.01,
           0.02,
           0.01,
           0.02,
           0.02,
           0.03,
           0.04,
           0.04,
           0.08,
           0.1,
           0.09,
           0.14,
           0.35,
           0.4
          ]
         },
         "hovertemplate": "      <b>Band<b>=J (21)<br>x=%{x}<br>y=%{y}<extra></extra>",
         "legendgroup": "J (21)",
         "marker": {
          "color": "rgb(152,78,163)",
          "size": 9,
          "symbol": "circle"
         },
         "mode": "markers",
         "name": "<b>J (21)</b>",
         "orientation": "v",
         "showlegend": true,
         "type": "scatter",
         "x": [
          4.610775108182708,
          4.6183828453446445,
          4.64467487591822,
          5.098972765211638,
          5.104626390980377,
          5.1051724278265045,
          5.3229854584911,
          5.326113412417397,
          5.32968419556088,
          5.473721527919821,
          5.477180314753406,
          5.586913285701275,
          5.587082972504066,
          5.747598848303689,
          5.809406654410987,
          5.809990966966559,
          5.864517488634707,
          5.8645352869615675,
          5.912987271209057,
          5.95657217504674,
          5.996179169528468
         ],
         "xaxis": "x",
         "y": [
          17.75155536961007,
          17.800917044433355,
          17.740917044433356,
          17.39155536961007,
          17.370917044433355,
          17.241555369610072,
          17.471555369610073,
          17.44155536961007,
          17.580917044433356,
          17.771555369610073,
          17.780917044433355,
          18.02155536961008,
          18.000917044433354,
          18.660917044433354,
          18.91155536961007,
          18.99091704443336,
          19.22155536961008,
          19.61091704443336,
          19.980917044433355,
          20.86091704443336,
          21.08091704443336
         ],
         "yaxis": "y"
        },
        {
         "error_y": {
          "array": [
           0.03,
           0.06,
           0.06,
           0.06,
           0.07,
           0.13,
           0.05,
           0.02,
           0.01,
           0.027,
           0.12,
           0.03,
           0.039,
           0.07,
           0.03,
           0.07,
           0.092,
           0.04,
           0.11,
           0.11,
           0.214,
           0.471,
           0.28,
           0.368,
           0.48
          ]
         },
         "hovertemplate": "      <b>Band<b>=z (25)<br>x=%{x}<br>y=%{y}<extra></extra>",
         "legendgroup": "z (25)",
         "marker": {
          "color": "rgb(255,127,0)",
          "size": 9,
          "symbol": "circle"
         },
         "mode": "markers",
         "name": "<b>z (25)</b>",
         "orientation": "v",
         "showlegend": true,
         "type": "scatter",
         "x": [
          4.610775108182708,
          5.097626251173037,
          5.098105490163472,
          5.09828506853184,
          5.1045751904123176,
          5.32760207122408,
          5.477136889039792,
          5.479652747894751,
          5.584911705127097,
          5.58718410559498,
          5.672411693223791,
          5.676285455369364,
          5.746324945903575,
          5.808211999560072,
          5.863026725023166,
          5.863079825190795,
          5.864075856612928,
          5.911822130160571,
          5.91242081904214,
          5.912622252264765,
          5.9558573950200575,
          5.995553065694176,
          6.065035067558467,
          6.096676403989187,
          6.22583879805446
         ],
         "xaxis": "x",
         "y": [
          17.50219226350117,
          17.452192263501168,
          17.442192263501166,
          17.442192263501166,
          17.486192263501167,
          18.01,
          18.21219226350117,
          18.132192263501167,
          18.73,
          18.791953592118503,
          18.912192263501165,
          18.992192263501167,
          19.491953592118502,
          19.702192263501168,
          20.28,
          20.232192263501165,
          20.470953592118505,
          20.85,
          20.69,
          20.69,
          21.878953592118503,
          22.679953592118505,
          22.3,
          23.206953592118506,
          23.37
         ],
         "yaxis": "y"
        },
        {
         "error_y": {
          "array": [
           0.02,
           0.04,
           0.08,
           0.05,
           0.08,
           0.04,
           0.041,
           0.04,
           0.06,
           0.04,
           0.06,
           0.1,
           0.05,
           0.05,
           0.07,
           0.11,
           0.05,
           0.08,
           0.18,
           0.12,
           0.2,
           0.2,
           0.19,
           0.2,
           0.115,
           0.15,
           0.054,
           0.158,
           0.256,
           0.28
          ]
         },
         "hovertemplate": "      <b>Band<b>=V (30)<br>x=%{x}<br>y=%{y}<extra></extra>",
         "legendgroup": "V (30)",
         "marker": {
          "color": "rgb(255,255,51)",
          "size": 9,
          "symbol": "circle"
         },
         "mode": "markers",
         "name": "<b>V (30)</b>",
         "orientation": "v",
         "showlegend": true,
         "type": "scatter",
         "x": [
          4.611094240570642,
          5.013169354035744,
          5.093878154870989,
          5.095296586307409,
          5.095718203854858,
          5.098791810559456,
          5.102865726945432,
          5.107711832558442,
          5.108092319115667,
          5.108414009119151,
          5.118012742356293,
          5.118298595109088,
          5.1996860794534845,
          5.277766860941249,
          5.283588853532239,
          5.324631726336728,
          5.326403048463367,
          5.32968419556088,
          5.331437014890555,
          5.332555117964053,
          5.339014900127872,
          5.392529532999511,
          5.443788517818216,
          5.473248195753014,
          5.475933138488701,
          5.479126878773975,
          5.589087749540436,
          5.749124472337463,
          5.865189758584596,
          5.957159258688069
         ],
         "xaxis": "x",
         "y": [
          17.35,
          17.503579148391722,
          18.22,
          18.16,
          18.13,
          17.973579148391725,
          17.915579148391725,
          18.14,
          18.16,
          18.18,
          18.25,
          18.18,
          18.492341075684784,
          18.943579148391724,
          19.06,
          19.4,
          19.203579148391725,
          19.51,
          19.33,
          19.53,
          19.59,
          19.77,
          19.89,
          20.54,
          20.214579148391724,
          20.55,
          20.7874319897604,
          22.0664319897604,
          22.8574319897604,
          23.4664319897604
         ],
         "yaxis": "y"
        },
        {
         "error_y": {
          "array": [
           0.02,
           0.04,
           0.02,
           0.07,
           0.12,
           0.12,
           0.03,
           0.14,
           0.03,
           0.03,
           0.04,
           0.06,
           0.068,
           0.124,
           0.17,
           0.21,
           0.2,
           0.282,
           0.11,
           0.05,
           0.33,
           0.16,
           0.08,
           0.049,
           0.06,
           0.01,
           0.22,
           0.11,
           0.06,
           0.104,
           0.12,
           0.1
          ]
         },
         "hovertemplate": "      <b>Band<b>=g (32)<br>x=%{x}<br>y=%{y}<extra></extra>",
         "legendgroup": "g (32)",
         "marker": {
          "color": "rgb(166,86,40)",
          "size": 9,
          "symbol": "circle"
         },
         "mode": "markers",
         "name": "<b>g (32)</b>",
         "orientation": "v",
         "showlegend": true,
         "type": "scatter",
         "x": [
          4.616614969871581,
          4.621037451593204,
          4.6241690201318155,
          4.657637073991166,
          4.877873316653548,
          5.02205206711582,
          5.097686184976015,
          5.098688018136431,
          5.099210050149664,
          5.10102769361882,
          5.103046636726954,
          5.1045751904123176,
          5.114386774376045,
          5.120846266885037,
          5.201731320511736,
          5.2849538281466675,
          5.285537506528159,
          5.32322073905793,
          5.32414329410851,
          5.325564098043082,
          5.332659792693573,
          5.473872773309982,
          5.47513110739676,
          5.477435570155865,
          5.479652747894751,
          5.482245116422237,
          5.584584941080106,
          5.585882410793071,
          5.588976854199748,
          5.590568559989977,
          5.673957456298145,
          5.676285455369364
         ],
         "xaxis": "x",
         "y": [
          17.048785829907178,
          17.048785829907178,
          17.02878582990718,
          16.874062626113414,
          17.32,
          18.12,
          18.214062626113414,
          18.74,
          18.248785829907177,
          18.29878582990717,
          18.04406262611341,
          18.10706262611341,
          18.14506262611341,
          18.042062626113413,
          19.53,
          20.44,
          20.24,
          19.868062626113414,
          19.74406262611341,
          19.76406262611341,
          20.81,
          20.684062626113413,
          20.484062626113413,
          20.32506262611341,
          20.49406262611341,
          20.45406262611341,
          21.13406262611341,
          21.28406262611341,
          21.41878582990718,
          21.304062626113414,
          22.06406262611341,
          21.88606262611341
         ],
         "yaxis": "y"
        },
        {
         "error_y": {
          "array": [
           0.04,
           0.04,
           0.04,
           0.04,
           0.05,
           0.06,
           0.06,
           0.07,
           0.07,
           0.06,
           0.05,
           0.05,
           0.05,
           0.07,
           0.08,
           0.13,
           0.06,
           0.09
          ]
         },
         "hovertemplate": "      <b>Band<b>=w (18)<br>x=%{x}<br>y=%{y}<extra></extra>",
         "legendgroup": "w (18)",
         "marker": {
          "color": "rgb(247,129,191)",
          "size": 9,
          "symbol": "circle"
         },
         "mode": "markers",
         "name": "<b>w (18)</b>",
         "orientation": "v",
         "showlegend": true,
         "type": "scatter",
         "x": [
          4.621084841732344,
          4.868324623511578,
          5.017751002269315,
          5.09508562394388,
          5.198892311898261,
          5.2849538281466675,
          5.285537506528159,
          5.327571431219982,
          5.3282768286410045,
          5.332485320792745,
          5.333008526362045,
          5.3913120382049655,
          5.391921212240485,
          5.395558420843756,
          5.396010937542635,
          5.444193492886184,
          5.444732872880539,
          5.586305484397182
         ],
         "xaxis": "x",
         "y": [
          17.49,
          17.31,
          17.95,
          18.23,
          18.69,
          19.11,
          19.11,
          19.56,
          19.48,
          19.46,
          19.36,
          19.68,
          19.61,
          19.53,
          19.56,
          20.13,
          19.99,
          20.64
         ],
         "yaxis": "y"
        },
        {
         "error_y": {
          "array": [
           0.01,
           0.01,
           0.02,
           0.01,
           0.02,
           0.02,
           0.1,
           0.04,
           0.07,
           0.09,
           0.14
          ]
         },
         "hovertemplate": "      <b>Band<b>=Y (11)<br>x=%{x}<br>y=%{y}<extra></extra>",
         "legendgroup": "Y (11)",
         "marker": {
          "color": "rgb(153,153,153)",
          "size": 9,
          "symbol": "circle"
         },
         "mode": "markers",
         "name": "<b>Y (11)</b>",
         "orientation": "v",
         "showlegend": true,
         "type": "scatter",
         "x": [
          4.625551144411224,
          5.103445194569795,
          5.328981082186697,
          5.475676998245082,
          5.5841751217371804,
          5.585916217763336,
          5.674687388192349,
          5.747330379749316,
          5.809758434638757,
          5.863919753391707,
          5.912436758618594
         ],
         "xaxis": "x",
         "y": [
          17.46,
          17.23,
          17.51,
          17.76,
          17.973444101559398,
          18.07,
          18.2234441015594,
          18.71,
          19.24,
          19.67,
          20.09
         ],
         "yaxis": "y"
        },
        {
         "error_y": {
          "array": [
           0.15,
           0.04,
           0.06,
           0.09,
           0.09,
           0.09,
           0.09,
           0.1,
           0.13,
           0.17
          ]
         },
         "hovertemplate": "      <b>Band<b>=K (10)<br>x=%{x}<br>y=%{y}<extra></extra>",
         "legendgroup": "K (10)",
         "marker": {
          "color": "rgb(228,26,28)",
          "size": 9,
          "symbol": "circle"
         },
         "mode": "markers",
         "name": "<b>K (10)</b>",
         "orientation": "v",
         "showlegend": true,
         "type": "scatter",
         "x": [
          4.6375177476078955,
          5.098883127376141,
          5.322896266225305,
          6.031136733111972,
          6.031939312136816,
          6.0652472383229385,
          6.065634530211298,
          6.125218618684389,
          6.2020943853892785,
          6.202800656983296
         ],
         "xaxis": "x",
         "y": [
          18.375738152514696,
          17.575738152514695,
          17.515738152514697,
          19.32573815251469,
          19.285738152514696,
          19.485738152514696,
          19.395738152514696,
          20.195738152514696,
          20.77573815251469,
          20.895738152514696
         ],
         "yaxis": "y"
        },
        {
         "error_y": {
          "array": [
           0.24,
           0.45
          ]
         },
         "hovertemplate": "      <b>Band<b>=UVM2 (2)<br>x=%{x}<br>y=%{y}<extra></extra>",
         "legendgroup": "UVM2 (2)",
         "marker": {
          "color": "rgb(55,126,184)",
          "size": 9,
          "symbol": "circle"
         },
         "mode": "markers",
         "name": "<b>UVM2 (2)</b>",
         "orientation": "v",
         "showlegend": true,
         "type": "scatter",
         "x": [
          4.7359576033078685,
          4.970500061236117
         ],
         "xaxis": "x",
         "y": [
          20.23584581362081,
          21.635845813620804
         ],
         "yaxis": "y"
        },
        {
         "error_y": {
          "array": [
           0.11,
           0.23
          ]
         },
         "hovertemplate": "      <b>Band<b>=UVW1 (2)<br>x=%{x}<br>y=%{y}<extra></extra>",
         "legendgroup": "UVW1 (2)",
         "marker": {
          "color": "rgb(77,175,74)",
          "size": 9,
          "symbol": "circle"
         },
         "mode": "markers",
         "name": "<b>UVW1 (2)</b>",
         "orientation": "v",
         "showlegend": true,
         "type": "scatter",
         "x": [
          4.738227828704857,
          4.95304558666013
         ],
         "xaxis": "x",
         "y": [
          18.849082559857845,
          19.599082559857845
         ],
         "yaxis": "y"
        },
        {
         "error_y": {
          "array": [
           0.09,
           0.17,
           0.45,
           0.29,
           0.23,
           0.28,
           0.28
          ]
         },
         "hovertemplate": "      <b>Band<b>=U (7)<br>x=%{x}<br>y=%{y}<extra></extra>",
         "legendgroup": "U (7)",
         "marker": {
          "color": "rgb(152,78,163)",
          "size": 9,
          "symbol": "circle"
         },
         "mode": "markers",
         "name": "<b>U (7)</b>",
         "orientation": "v",
         "showlegend": true,
         "type": "scatter",
         "x": [
          4.743168623378604,
          4.954548096962958,
          5.113689382828022,
          5.1184565274472344,
          5.118485091987129,
          5.119597646176288,
          5.120707357557925
         ],
         "xaxis": "x",
         "y": [
          17.717547944966554,
          18.52754794496656,
          20.317547944966552,
          19.7887359529593,
          19.6487359529593,
          19.7487359529593,
          19.6387359529593
         ],
         "yaxis": "y"
        },
        {
         "error_y": {
          "array": [
           0.11,
           0.11,
           0.06,
           0.07,
           0.037,
           0.12,
           0.09,
           0.1,
           0.126,
           0.128,
           0.14,
           0.251,
           0.31,
           0.363
          ]
         },
         "hovertemplate": "      <b>Band<b>=B (14)<br>x=%{x}<br>y=%{y}<extra></extra>",
         "legendgroup": "B (14)",
         "marker": {
          "color": "rgb(255,127,0)",
          "size": 9,
          "symbol": "circle"
         },
         "mode": "markers",
         "name": "<b>B (14)</b>",
         "orientation": "v",
         "showlegend": true,
         "type": "scatter",
         "x": [
          5.009513783205766,
          5.098791810559456,
          5.099864814720617,
          5.1002820227442625,
          5.114262608413977,
          5.1996860794534845,
          5.275644838360736,
          5.326403048463367,
          5.4764345267806815,
          5.589221967520051,
          5.589285572354879,
          5.749124472337463,
          5.811802870260766,
          5.865189758584596
         ],
         "xaxis": "x",
         "y": [
          18.074037934272766,
          18.694037934272767,
          18.646737610546825,
          18.646737610546825,
          18.670037934272766,
          19.70403793427277,
          20.054037934272767,
          20.424037934272768,
          21.32303793427277,
          22.335737610546825,
          22.126737610546822,
          23.413737610546825,
          23.456737610546828,
          24.187737610546822
         ],
         "yaxis": "y"
        },
        {
         "error_y": {
          "array": [
           0.05,
           0.02,
           0.05,
           0.05,
           0.05,
           0.04,
           0.05,
           0.05,
           0.05,
           0.06,
           0.01,
           0.09,
           0.06,
           0.058,
           0.08,
           0.05,
           0.07,
           0.03,
           0.07,
           0.106,
           0.24,
           0.277
          ]
         },
         "hovertemplate": "      <b>Band<b>=R (22)<br>x=%{x}<br>y=%{y}<extra></extra>",
         "legendgroup": "R (22)",
         "marker": {
          "color": "rgb(255,255,51)",
          "size": 9,
          "symbol": "circle"
         },
         "mode": "markers",
         "name": "<b>R (22)</b>",
         "orientation": "v",
         "showlegend": true,
         "type": "scatter",
         "x": [
          5.013169354035744,
          5.094075436485567,
          5.101770437261437,
          5.1996860794534845,
          5.277766860941249,
          5.323818273786541,
          5.326403048463367,
          5.389139139544831,
          5.439687564802964,
          5.473762495413957,
          5.474020641771863,
          5.520253944484828,
          5.558186143291571,
          5.584228067177945,
          5.584363795232549,
          5.6209526352706,
          5.652080716518788,
          5.67256701209124,
          5.702589748568611,
          5.747645440525094,
          5.864570881427197,
          5.957044206781743
         ],
         "xaxis": "x",
         "y": [
          17.469097987051008,
          17.69,
          17.75909798705101,
          18.10438245174956,
          18.40909798705101,
          18.77,
          18.629097987051008,
          18.864382451749563,
          19.11909798705101,
          19.35909798705101,
          19.27,
          19.40438245174956,
          19.75909798705101,
          20.0007616785326,
          19.93909798705101,
          20.09438245174956,
          20.45909798705101,
          20.39,
          20.71438245174956,
          21.030761678532603,
          22.263761678532603,
          23.141761678532603
         ],
         "yaxis": "y"
        },
        {
         "error_y": {
          "array": [
           0.1,
           0.09,
           0.09,
           0.12,
           0.13,
           0.1,
           0.11,
           0.11,
           0.1,
           0.1,
           0.1,
           0.13,
           0.1,
           0.14,
           0.11,
           0.09,
           0.12,
           0.13
          ]
         },
         "hovertemplate": "      <b>Band<b>=I (18)<br>x=%{x}<br>y=%{y}<extra></extra>",
         "legendgroup": "I (18)",
         "marker": {
          "color": "rgb(166,86,40)",
          "size": 9,
          "symbol": "circle"
         },
         "mode": "markers",
         "name": "<b>I (18)</b>",
         "orientation": "v",
         "showlegend": true,
         "type": "scatter",
         "x": [
          5.013169354035744,
          5.101770437261437,
          5.20204889614652,
          5.277766860941249,
          5.326403048463367,
          5.389139139544831,
          5.441048789121141,
          5.4750211486011215,
          5.520253944484828,
          5.559222701102496,
          5.584363795232549,
          5.6209526352706,
          5.652080716518788,
          5.703333343558135,
          5.72933717686655,
          5.763025680538402,
          5.771282265248442,
          5.793573043430712
         ],
         "xaxis": "x",
         "y": [
          17.421528470613715,
          17.611528470613717,
          17.812906630446435,
          18.10152847061372,
          18.24152847061372,
          18.452906630446435,
          18.57152847061372,
          18.71152847061372,
          18.83290663044644,
          19.07152847061372,
          19.06152847061372,
          19.35290663044644,
          19.52152847061372,
          19.82290663044644,
          20.15152847061372,
          20.64673904755664,
          20.222906630446435,
          20.73152847061372
         ],
         "yaxis": "y"
        },
        {
         "error_y": {
          "array": [
           0.05,
           0.16,
           0.32
          ]
         },
         "hovertemplate": "      <b>Band<b>=u (3)<br>x=%{x}<br>y=%{y}<extra></extra>",
         "legendgroup": "u (3)",
         "marker": {
          "color": "rgb(247,129,191)",
          "size": 9,
          "symbol": "circle"
         },
         "mode": "markers",
         "name": "<b>u (3)</b>",
         "orientation": "v",
         "showlegend": true,
         "type": "scatter",
         "x": [
          5.098584200902033,
          5.32609570343995,
          5.47513110739676
         ],
         "xaxis": "x",
         "y": [
          19.47373170802284,
          21.79373170802284,
          22.59373170802284
         ],
         "yaxis": "y"
        },
        {
         "error_y": {
          "array": [
           0.01,
           0.01,
           0.04,
           0.02
          ]
         },
         "hovertemplate": "      <b>Band<b>=F110W (4)<br>x=%{x}<br>y=%{y}<extra></extra>",
         "legendgroup": "F110W (4)",
         "marker": {
          "color": "rgb(153,153,153)",
          "size": 9,
          "symbol": "circle"
         },
         "mode": "markers",
         "name": "<b>F110W (4)</b>",
         "orientation": "v",
         "showlegend": true,
         "type": "scatter",
         "x": [
          5.615371097347703,
          5.79827059235842,
          5.925667427989946,
          5.960741734607847
         ],
         "xaxis": "x",
         "y": [
          18.161570122307065,
          18.961570122307062,
          20.471570122307064,
          20.731570122307065
         ],
         "yaxis": "y"
        },
        {
         "error_y": {
          "array": [
           0.11,
           0.11,
           0.11,
           0.11,
           0.11,
           0.11,
           0.11,
           0.11,
           0.11,
           0.27
          ]
         },
         "hovertemplate": "      <b>Band<b>=F336W (10)<br>x=%{x}<br>y=%{y}<extra></extra>",
         "legendgroup": "F336W (10)",
         "marker": {
          "color": "rgb(228,26,28)",
          "size": 9,
          "symbol": "circle"
         },
         "mode": "markers",
         "name": "<b>F336W (10)</b>",
         "orientation": "v",
         "showlegend": true,
         "type": "scatter",
         "x": [
          5.662453719092389,
          5.662453719092389,
          5.662453719092389,
          5.662453719092389,
          5.662453719092389,
          5.662453719092389,
          5.662453719092389,
          5.662453719092389,
          5.662453719092389,
          5.928640586073282
         ],
         "xaxis": "x",
         "y": [
          24.559835146902085,
          24.559835146902085,
          24.559835146902085,
          24.479835146902083,
          24.689835146902084,
          24.479835146902083,
          24.689835146902084,
          24.479835146902083,
          24.689835146902084,
          26.42983514690209
         ],
         "yaxis": "y"
        },
        {
         "error_y": {
          "array": [
           0.17,
           0.37,
           0.36
          ]
         },
         "hovertemplate": "      <b>Band<b>=F606W (3)<br>x=%{x}<br>y=%{y}<extra></extra>",
         "legendgroup": "F606W (3)",
         "marker": {
          "color": "rgb(55,126,184)",
          "size": 9,
          "symbol": "circle"
         },
         "mode": "markers",
         "name": "<b>F606W (3)</b>",
         "orientation": "v",
         "showlegend": true,
         "type": "scatter",
         "x": [
          5.842666392997221,
          5.989067684040582,
          5.994904966304219
         ],
         "xaxis": "x",
         "y": [
          22.216377143459795,
          23.4963771434598,
          23.3863771434598
         ],
         "yaxis": "y"
        },
        {
         "error_y": {
          "array": [
           0.42,
           0.06,
           0.69,
           0.64
          ]
         },
         "hovertemplate": "      <b>Band<b>=F475W (4)<br>x=%{x}<br>y=%{y}<extra></extra>",
         "legendgroup": "F475W (4)",
         "marker": {
          "color": "rgb(77,175,74)",
          "size": 9,
          "symbol": "circle"
         },
         "mode": "markers",
         "name": "<b>F475W (4)</b>",
         "orientation": "v",
         "showlegend": true,
         "type": "scatter",
         "x": [
          5.846070266946941,
          5.93242728862215,
          5.990015100381667,
          5.994197804292914
         ],
         "xaxis": "x",
         "y": [
          23.299741576257706,
          23.589741576257705,
          24.389741576257705,
          24.199741576257704
         ],
         "yaxis": "y"
        },
        {
         "error_y": {
          "array": [
           0.04
          ]
         },
         "hovertemplate": "      <b>Band<b>=F160W (1)<br>x=%{x}<br>y=%{y}<extra></extra>",
         "legendgroup": "F160W (1)",
         "marker": {
          "color": "rgb(152,78,163)",
          "size": 9,
          "symbol": "circle"
         },
         "mode": "markers",
         "name": "<b>F160W (1)</b>",
         "orientation": "v",
         "showlegend": true,
         "type": "scatter",
         "x": [
          5.926379288054575
         ],
         "xaxis": "x",
         "y": [
          19.837113240208627
         ],
         "yaxis": "y"
        },
        {
         "error_y": {
          "array": [
           0.07
          ]
         },
         "hovertemplate": "      <b>Band<b>=F625W (1)<br>x=%{x}<br>y=%{y}<extra></extra>",
         "legendgroup": "F625W (1)",
         "marker": {
          "color": "rgb(255,127,0)",
          "size": 9,
          "symbol": "circle"
         },
         "mode": "markers",
         "name": "<b>F625W (1)</b>",
         "orientation": "v",
         "showlegend": true,
         "type": "scatter",
         "x": [
          5.935152026898865
         ],
         "xaxis": "x",
         "y": [
          22.635545837121487
         ],
         "yaxis": "y"
        },
        {
         "error_y": {
          "array": [
           0.02
          ]
         },
         "hovertemplate": "      <b>Band<b>=F814W (1)<br>x=%{x}<br>y=%{y}<extra></extra>",
         "legendgroup": "F814W (1)",
         "marker": {
          "color": "rgb(255,255,51)",
          "size": 9,
          "symbol": "circle"
         },
         "mode": "markers",
         "name": "<b>F814W (1)</b>",
         "orientation": "v",
         "showlegend": true,
         "type": "scatter",
         "x": [
          5.994645103754814
         ],
         "xaxis": "x",
         "y": [
          22.32
         ],
         "yaxis": "y"
        }
       ],
       "layout": {
        "annotations": [
         {
          "align": "left",
          "font": {
           "color": "black",
           "family": "arial",
           "size": 20
          },
          "showarrow": false,
          "text": "<b>GRB 170817A</b>",
          "x": 0.05,
          "xanchor": "left",
          "xref": "paper",
          "xshift": -1,
          "y": 0.12,
          "yanchor": "bottom",
          "yref": "paper",
          "yshift": -5
         }
        ],
        "height": 540,
        "legend": {
         "font": {
          "color": "black",
          "family": "arial",
          "size": 20
         },
         "title": {
          "text": "      <b>Band<b>"
         },
         "tracegroupgap": 0
        },
        "margin": {
         "b": 40,
         "l": 40,
         "r": 40,
         "t": 50
        },
        "plot_bgcolor": "white",
        "template": {
         "data": {
          "bar": [
           {
            "error_x": {
             "color": "#2a3f5f"
            },
            "error_y": {
             "color": "#2a3f5f"
            },
            "marker": {
             "line": {
              "color": "#E5ECF6",
              "width": 0.5
             },
             "pattern": {
              "fillmode": "overlay",
              "size": 10,
              "solidity": 0.2
             }
            },
            "type": "bar"
           }
          ],
          "barpolar": [
           {
            "marker": {
             "line": {
              "color": "#E5ECF6",
              "width": 0.5
             },
             "pattern": {
              "fillmode": "overlay",
              "size": 10,
              "solidity": 0.2
             }
            },
            "type": "barpolar"
           }
          ],
          "carpet": [
           {
            "aaxis": {
             "endlinecolor": "#2a3f5f",
             "gridcolor": "white",
             "linecolor": "white",
             "minorgridcolor": "white",
             "startlinecolor": "#2a3f5f"
            },
            "baxis": {
             "endlinecolor": "#2a3f5f",
             "gridcolor": "white",
             "linecolor": "white",
             "minorgridcolor": "white",
             "startlinecolor": "#2a3f5f"
            },
            "type": "carpet"
           }
          ],
          "choropleth": [
           {
            "colorbar": {
             "outlinewidth": 0,
             "ticks": ""
            },
            "type": "choropleth"
           }
          ],
          "contour": [
           {
            "colorbar": {
             "outlinewidth": 0,
             "ticks": ""
            },
            "colorscale": [
             [
              0,
              "#0d0887"
             ],
             [
              0.1111111111111111,
              "#46039f"
             ],
             [
              0.2222222222222222,
              "#7201a8"
             ],
             [
              0.3333333333333333,
              "#9c179e"
             ],
             [
              0.4444444444444444,
              "#bd3786"
             ],
             [
              0.5555555555555556,
              "#d8576b"
             ],
             [
              0.6666666666666666,
              "#ed7953"
             ],
             [
              0.7777777777777778,
              "#fb9f3a"
             ],
             [
              0.8888888888888888,
              "#fdca26"
             ],
             [
              1,
              "#f0f921"
             ]
            ],
            "type": "contour"
           }
          ],
          "contourcarpet": [
           {
            "colorbar": {
             "outlinewidth": 0,
             "ticks": ""
            },
            "type": "contourcarpet"
           }
          ],
          "heatmap": [
           {
            "colorbar": {
             "outlinewidth": 0,
             "ticks": ""
            },
            "colorscale": [
             [
              0,
              "#0d0887"
             ],
             [
              0.1111111111111111,
              "#46039f"
             ],
             [
              0.2222222222222222,
              "#7201a8"
             ],
             [
              0.3333333333333333,
              "#9c179e"
             ],
             [
              0.4444444444444444,
              "#bd3786"
             ],
             [
              0.5555555555555556,
              "#d8576b"
             ],
             [
              0.6666666666666666,
              "#ed7953"
             ],
             [
              0.7777777777777778,
              "#fb9f3a"
             ],
             [
              0.8888888888888888,
              "#fdca26"
             ],
             [
              1,
              "#f0f921"
             ]
            ],
            "type": "heatmap"
           }
          ],
          "heatmapgl": [
           {
            "colorbar": {
             "outlinewidth": 0,
             "ticks": ""
            },
            "colorscale": [
             [
              0,
              "#0d0887"
             ],
             [
              0.1111111111111111,
              "#46039f"
             ],
             [
              0.2222222222222222,
              "#7201a8"
             ],
             [
              0.3333333333333333,
              "#9c179e"
             ],
             [
              0.4444444444444444,
              "#bd3786"
             ],
             [
              0.5555555555555556,
              "#d8576b"
             ],
             [
              0.6666666666666666,
              "#ed7953"
             ],
             [
              0.7777777777777778,
              "#fb9f3a"
             ],
             [
              0.8888888888888888,
              "#fdca26"
             ],
             [
              1,
              "#f0f921"
             ]
            ],
            "type": "heatmapgl"
           }
          ],
          "histogram": [
           {
            "marker": {
             "pattern": {
              "fillmode": "overlay",
              "size": 10,
              "solidity": 0.2
             }
            },
            "type": "histogram"
           }
          ],
          "histogram2d": [
           {
            "colorbar": {
             "outlinewidth": 0,
             "ticks": ""
            },
            "colorscale": [
             [
              0,
              "#0d0887"
             ],
             [
              0.1111111111111111,
              "#46039f"
             ],
             [
              0.2222222222222222,
              "#7201a8"
             ],
             [
              0.3333333333333333,
              "#9c179e"
             ],
             [
              0.4444444444444444,
              "#bd3786"
             ],
             [
              0.5555555555555556,
              "#d8576b"
             ],
             [
              0.6666666666666666,
              "#ed7953"
             ],
             [
              0.7777777777777778,
              "#fb9f3a"
             ],
             [
              0.8888888888888888,
              "#fdca26"
             ],
             [
              1,
              "#f0f921"
             ]
            ],
            "type": "histogram2d"
           }
          ],
          "histogram2dcontour": [
           {
            "colorbar": {
             "outlinewidth": 0,
             "ticks": ""
            },
            "colorscale": [
             [
              0,
              "#0d0887"
             ],
             [
              0.1111111111111111,
              "#46039f"
             ],
             [
              0.2222222222222222,
              "#7201a8"
             ],
             [
              0.3333333333333333,
              "#9c179e"
             ],
             [
              0.4444444444444444,
              "#bd3786"
             ],
             [
              0.5555555555555556,
              "#d8576b"
             ],
             [
              0.6666666666666666,
              "#ed7953"
             ],
             [
              0.7777777777777778,
              "#fb9f3a"
             ],
             [
              0.8888888888888888,
              "#fdca26"
             ],
             [
              1,
              "#f0f921"
             ]
            ],
            "type": "histogram2dcontour"
           }
          ],
          "mesh3d": [
           {
            "colorbar": {
             "outlinewidth": 0,
             "ticks": ""
            },
            "type": "mesh3d"
           }
          ],
          "parcoords": [
           {
            "line": {
             "colorbar": {
              "outlinewidth": 0,
              "ticks": ""
             }
            },
            "type": "parcoords"
           }
          ],
          "pie": [
           {
            "automargin": true,
            "type": "pie"
           }
          ],
          "scatter": [
           {
            "fillpattern": {
             "fillmode": "overlay",
             "size": 10,
             "solidity": 0.2
            },
            "type": "scatter"
           }
          ],
          "scatter3d": [
           {
            "line": {
             "colorbar": {
              "outlinewidth": 0,
              "ticks": ""
             }
            },
            "marker": {
             "colorbar": {
              "outlinewidth": 0,
              "ticks": ""
             }
            },
            "type": "scatter3d"
           }
          ],
          "scattercarpet": [
           {
            "marker": {
             "colorbar": {
              "outlinewidth": 0,
              "ticks": ""
             }
            },
            "type": "scattercarpet"
           }
          ],
          "scattergeo": [
           {
            "marker": {
             "colorbar": {
              "outlinewidth": 0,
              "ticks": ""
             }
            },
            "type": "scattergeo"
           }
          ],
          "scattergl": [
           {
            "marker": {
             "colorbar": {
              "outlinewidth": 0,
              "ticks": ""
             }
            },
            "type": "scattergl"
           }
          ],
          "scattermapbox": [
           {
            "marker": {
             "colorbar": {
              "outlinewidth": 0,
              "ticks": ""
             }
            },
            "type": "scattermapbox"
           }
          ],
          "scatterpolar": [
           {
            "marker": {
             "colorbar": {
              "outlinewidth": 0,
              "ticks": ""
             }
            },
            "type": "scatterpolar"
           }
          ],
          "scatterpolargl": [
           {
            "marker": {
             "colorbar": {
              "outlinewidth": 0,
              "ticks": ""
             }
            },
            "type": "scatterpolargl"
           }
          ],
          "scatterternary": [
           {
            "marker": {
             "colorbar": {
              "outlinewidth": 0,
              "ticks": ""
             }
            },
            "type": "scatterternary"
           }
          ],
          "surface": [
           {
            "colorbar": {
             "outlinewidth": 0,
             "ticks": ""
            },
            "colorscale": [
             [
              0,
              "#0d0887"
             ],
             [
              0.1111111111111111,
              "#46039f"
             ],
             [
              0.2222222222222222,
              "#7201a8"
             ],
             [
              0.3333333333333333,
              "#9c179e"
             ],
             [
              0.4444444444444444,
              "#bd3786"
             ],
             [
              0.5555555555555556,
              "#d8576b"
             ],
             [
              0.6666666666666666,
              "#ed7953"
             ],
             [
              0.7777777777777778,
              "#fb9f3a"
             ],
             [
              0.8888888888888888,
              "#fdca26"
             ],
             [
              1,
              "#f0f921"
             ]
            ],
            "type": "surface"
           }
          ],
          "table": [
           {
            "cells": {
             "fill": {
              "color": "#EBF0F8"
             },
             "line": {
              "color": "white"
             }
            },
            "header": {
             "fill": {
              "color": "#C8D4E3"
             },
             "line": {
              "color": "white"
             }
            },
            "type": "table"
           }
          ]
         },
         "layout": {
          "annotationdefaults": {
           "arrowcolor": "#2a3f5f",
           "arrowhead": 0,
           "arrowwidth": 1
          },
          "autotypenumbers": "strict",
          "coloraxis": {
           "colorbar": {
            "outlinewidth": 0,
            "ticks": ""
           }
          },
          "colorscale": {
           "diverging": [
            [
             0,
             "#8e0152"
            ],
            [
             0.1,
             "#c51b7d"
            ],
            [
             0.2,
             "#de77ae"
            ],
            [
             0.3,
             "#f1b6da"
            ],
            [
             0.4,
             "#fde0ef"
            ],
            [
             0.5,
             "#f7f7f7"
            ],
            [
             0.6,
             "#e6f5d0"
            ],
            [
             0.7,
             "#b8e186"
            ],
            [
             0.8,
             "#7fbc41"
            ],
            [
             0.9,
             "#4d9221"
            ],
            [
             1,
             "#276419"
            ]
           ],
           "sequential": [
            [
             0,
             "#0d0887"
            ],
            [
             0.1111111111111111,
             "#46039f"
            ],
            [
             0.2222222222222222,
             "#7201a8"
            ],
            [
             0.3333333333333333,
             "#9c179e"
            ],
            [
             0.4444444444444444,
             "#bd3786"
            ],
            [
             0.5555555555555556,
             "#d8576b"
            ],
            [
             0.6666666666666666,
             "#ed7953"
            ],
            [
             0.7777777777777778,
             "#fb9f3a"
            ],
            [
             0.8888888888888888,
             "#fdca26"
            ],
            [
             1,
             "#f0f921"
            ]
           ],
           "sequentialminus": [
            [
             0,
             "#0d0887"
            ],
            [
             0.1111111111111111,
             "#46039f"
            ],
            [
             0.2222222222222222,
             "#7201a8"
            ],
            [
             0.3333333333333333,
             "#9c179e"
            ],
            [
             0.4444444444444444,
             "#bd3786"
            ],
            [
             0.5555555555555556,
             "#d8576b"
            ],
            [
             0.6666666666666666,
             "#ed7953"
            ],
            [
             0.7777777777777778,
             "#fb9f3a"
            ],
            [
             0.8888888888888888,
             "#fdca26"
            ],
            [
             1,
             "#f0f921"
            ]
           ]
          },
          "colorway": [
           "#636efa",
           "#EF553B",
           "#00cc96",
           "#ab63fa",
           "#FFA15A",
           "#19d3f3",
           "#FF6692",
           "#B6E880",
           "#FF97FF",
           "#FECB52"
          ],
          "font": {
           "color": "#2a3f5f"
          },
          "geo": {
           "bgcolor": "white",
           "lakecolor": "white",
           "landcolor": "#E5ECF6",
           "showlakes": true,
           "showland": true,
           "subunitcolor": "white"
          },
          "hoverlabel": {
           "align": "left"
          },
          "hovermode": "closest",
          "mapbox": {
           "style": "light"
          },
          "paper_bgcolor": "white",
          "plot_bgcolor": "#E5ECF6",
          "polar": {
           "angularaxis": {
            "gridcolor": "white",
            "linecolor": "white",
            "ticks": ""
           },
           "bgcolor": "#E5ECF6",
           "radialaxis": {
            "gridcolor": "white",
            "linecolor": "white",
            "ticks": ""
           }
          },
          "scene": {
           "xaxis": {
            "backgroundcolor": "#E5ECF6",
            "gridcolor": "white",
            "gridwidth": 2,
            "linecolor": "white",
            "showbackground": true,
            "ticks": "",
            "zerolinecolor": "white"
           },
           "yaxis": {
            "backgroundcolor": "#E5ECF6",
            "gridcolor": "white",
            "gridwidth": 2,
            "linecolor": "white",
            "showbackground": true,
            "ticks": "",
            "zerolinecolor": "white"
           },
           "zaxis": {
            "backgroundcolor": "#E5ECF6",
            "gridcolor": "white",
            "gridwidth": 2,
            "linecolor": "white",
            "showbackground": true,
            "ticks": "",
            "zerolinecolor": "white"
           }
          },
          "shapedefaults": {
           "line": {
            "color": "#2a3f5f"
           }
          },
          "ternary": {
           "aaxis": {
            "gridcolor": "white",
            "linecolor": "white",
            "ticks": ""
           },
           "baxis": {
            "gridcolor": "white",
            "linecolor": "white",
            "ticks": ""
           },
           "bgcolor": "#E5ECF6",
           "caxis": {
            "gridcolor": "white",
            "linecolor": "white",
            "ticks": ""
           }
          },
          "title": {
           "x": 0.05
          },
          "xaxis": {
           "automargin": true,
           "gridcolor": "white",
           "linecolor": "white",
           "ticks": "",
           "title": {
            "standoff": 15
           },
           "zerolinecolor": "white",
           "zerolinewidth": 2
          },
          "yaxis": {
           "automargin": true,
           "gridcolor": "white",
           "linecolor": "white",
           "ticks": "",
           "title": {
            "standoff": 15
           },
           "zerolinecolor": "white",
           "zerolinewidth": 2
          }
         }
        },
        "width": 960,
        "xaxis": {
         "anchor": "y",
         "domain": [
          0,
          1
         ],
         "linecolor": "black",
         "linewidth": 2.4,
         "mirror": "allticks",
         "showgrid": false,
         "showline": true,
         "showticklabels": true,
         "tickcolor": "black",
         "tickfont": {
          "color": "black",
          "family": "arial",
          "size": 20
         },
         "tickprefix": "<b>",
         "ticks": "outside",
         "ticksuffix": "</b><br>",
         "tickwidth": 2.4,
         "title": {
          "font": {
           "color": "black",
           "family": "arial",
           "size": 20
          },
          "text": "<b>log10 Time (s)<b>"
         }
        },
        "yaxis": {
         "anchor": "x",
         "autorange": "reversed",
         "domain": [
          0,
          1
         ],
         "linecolor": "black",
         "linewidth": 2.4,
         "mirror": "allticks",
         "showgrid": false,
         "showline": true,
         "showticklabels": true,
         "tickcolor": "black",
         "tickfont": {
          "color": "black",
          "family": "arial",
          "size": 20
         },
         "tickprefix": "<b>",
         "ticks": "outside",
         "ticksuffix": "</b><br>",
         "tickwidth": 2.4,
         "title": {
          "font": {
           "color": "black",
           "family": "arial",
           "size": 20
          },
          "text": "<b>Magnitude<b>"
         }
        }
       }
      }
     },
     "metadata": {},
     "output_type": "display_data"
    },
    {
     "data": {
      "application/vnd.plotly.v1+json": {
       "config": {
        "plotlyServerURL": "https://plot.ly"
       },
       "data": [
        {
         "error_y": {
          "array": [
           0.018,
           0.03,
           0.02,
           0.03,
           0.02,
           0.047,
           0.01,
           0.045,
           0.116,
           0.183,
           0.03
          ]
         },
         "hovertemplate": "      <b>Band<b>=i (11)<br>x=%{x}<br>y=%{y}<extra></extra>",
         "legendgroup": "i (11)",
         "marker": {
          "color": "rgb(228,26,28)",
          "size": 9,
          "symbol": "circle"
         },
         "mode": "markers",
         "name": "<b>i (11)</b>",
         "orientation": "h",
         "showlegend": true,
         "type": "scatter",
         "x": [
          4.594273185872828,
          5.098524390908145,
          5.1177100097896595,
          5.32760207122408,
          5.329623206511437,
          5.478309594317676,
          5.481987519605433,
          5.586017622887098,
          5.6750146316600505,
          5.809512848702256,
          5.811557312031467
         ],
         "xaxis": "x",
         "y": [
          17.296264734797475,
          17.588315414702652,
          17.622264734797476,
          18.37,
          18.17831541470265,
          18.74226473479748,
          18.75026473479748,
          19.206264734797475,
          20.09026473479748,
          21.24026473479748,
          20.73026473479748
         ],
         "yaxis": "y"
        },
        {
         "error_y": {
          "array": [
           0.15,
           0.01,
           0.1,
           0.09,
           0.01,
           0.1,
           0.03,
           0.14,
           0.18,
           0.06,
           0.15,
           0.15,
           0.09
          ]
         },
         "hovertemplate": "      <b>Band<b>=H (13)<br>x=%{x}<br>y=%{y}<extra></extra>",
         "legendgroup": "H (13)",
         "marker": {
          "color": "rgb(55,126,184)",
          "size": 9,
          "symbol": "circle"
         },
         "mode": "markers",
         "name": "<b>H (13)</b>",
         "orientation": "h",
         "showlegend": true,
         "type": "scatter",
         "x": [
          4.6016698196715575,
          5.1016236398110335,
          5.104228916159975,
          5.323431145259261,
          5.32457002356252,
          5.584419431475908,
          5.6288956858628945,
          5.807931800041965,
          5.863491072032829,
          5.910966690360492,
          5.911547712352183,
          5.955727570839238,
          5.962667887444997
         ],
         "xaxis": "x",
         "y": [
          18.20858018847394,
          17.46858018847394,
          17.5792386366632,
          17.6592386366632,
          17.51858018847394,
          17.8692386366632,
          18.0092386366632,
          18.7392386366632,
          19.1692386366632,
          19.5492386366632,
          19.5692386366632,
          19.9892386366632,
          20.2292386366632
         ],
         "yaxis": "y"
        },
        {
         "error_y": {
          "array": [
           0.02,
           0.02,
           0.02,
           0.03,
           0.02,
           0.018,
           0.04,
           0.03,
           0.02,
           0.01,
           0.04,
           0.089,
           0.02,
           0.01,
           0.05,
           0.01,
           0.125,
           0.03,
           0.24,
           0.03,
           0.07,
           0.11,
           0.04,
           0.05,
           0.18,
           0.04,
           0.07,
           0.31
          ]
         },
         "hovertemplate": "      <b>Band<b>=r (28)<br>x=%{x}<br>y=%{y}<extra></extra>",
         "legendgroup": "r (28)",
         "marker": {
          "color": "rgb(77,175,74)",
          "size": 9,
          "symbol": "circle"
         },
         "mode": "markers",
         "name": "<b>r (28)</b>",
         "orientation": "h",
         "showlegend": true,
         "type": "scatter",
         "x": [
          4.610775108182708,
          5.095230043768563,
          5.097686184976015,
          5.098763581476061,
          5.1045751904123176,
          5.118853089116484,
          5.324091817874829,
          5.325564098043082,
          5.331271286932973,
          5.474502396093712,
          5.47513110739676,
          5.478309594317676,
          5.479652747894751,
          5.482001834548799,
          5.585492764595072,
          5.58608115803233,
          5.587061394396655,
          5.672201706581809,
          5.6730972477294745,
          5.676285455369364,
          5.746286001160599,
          5.809060089698383,
          5.8116377327657895,
          5.86406231563367,
          5.864330206023796,
          5.912564254173961,
          5.956333661541515,
          6.03161138385928
         ],
         "xaxis": "x",
         "y": [
          17.082103544288394,
          17.69,
          17.797800485233545,
          17.662103544288396,
          17.708800485233546,
          17.742800485233545,
          18.77,
          18.787800485233547,
          18.682103544288395,
          19.28,
          19.047800485233545,
          19.572800485233547,
          19.497800485233544,
          19.417800485233546,
          20.007800485233545,
          19.86,
          20.336800485233542,
          20.39,
          20.547800485233545,
          20.497800485233544,
          21.067800485233544,
          20.987800485233542,
          21.497800485233544,
          21.75,
          21.707800485233545,
          22.2,
          22.45,
          23.12
         ],
         "yaxis": "y"
        },
        {
         "error_y": {
          "array": [
           0.15,
           0.03,
           0.03,
           0.01,
           0.01,
           0.01,
           0.01,
           0.01,
           0.02,
           0.01,
           0.02,
           0.02,
           0.03,
           0.04,
           0.04,
           0.08,
           0.1,
           0.09,
           0.14,
           0.35,
           0.4
          ]
         },
         "hovertemplate": "      <b>Band<b>=J (21)<br>x=%{x}<br>y=%{y}<extra></extra>",
         "legendgroup": "J (21)",
         "marker": {
          "color": "rgb(152,78,163)",
          "size": 9,
          "symbol": "circle"
         },
         "mode": "markers",
         "name": "<b>J (21)</b>",
         "orientation": "h",
         "showlegend": true,
         "type": "scatter",
         "x": [
          4.610775108182708,
          4.6183828453446445,
          4.64467487591822,
          5.098972765211638,
          5.104626390980377,
          5.1051724278265045,
          5.3229854584911,
          5.326113412417397,
          5.32968419556088,
          5.473721527919821,
          5.477180314753406,
          5.586913285701275,
          5.587082972504066,
          5.747598848303689,
          5.809406654410987,
          5.809990966966559,
          5.864517488634707,
          5.8645352869615675,
          5.912987271209057,
          5.95657217504674,
          5.996179169528468
         ],
         "xaxis": "x",
         "y": [
          17.75155536961007,
          17.800917044433355,
          17.740917044433356,
          17.39155536961007,
          17.370917044433355,
          17.241555369610072,
          17.471555369610073,
          17.44155536961007,
          17.580917044433356,
          17.771555369610073,
          17.780917044433355,
          18.02155536961008,
          18.000917044433354,
          18.660917044433354,
          18.91155536961007,
          18.99091704443336,
          19.22155536961008,
          19.61091704443336,
          19.980917044433355,
          20.86091704443336,
          21.08091704443336
         ],
         "yaxis": "y"
        },
        {
         "error_y": {
          "array": [
           0.03,
           0.06,
           0.06,
           0.06,
           0.07,
           0.13,
           0.05,
           0.02,
           0.01,
           0.027,
           0.12,
           0.03,
           0.039,
           0.07,
           0.03,
           0.07,
           0.092,
           0.04,
           0.11,
           0.11,
           0.214,
           0.471,
           0.28,
           0.368,
           0.48
          ]
         },
         "hovertemplate": "      <b>Band<b>=z (25)<br>x=%{x}<br>y=%{y}<extra></extra>",
         "legendgroup": "z (25)",
         "marker": {
          "color": "rgb(255,127,0)",
          "size": 9,
          "symbol": "circle"
         },
         "mode": "markers",
         "name": "<b>z (25)</b>",
         "orientation": "h",
         "showlegend": true,
         "type": "scatter",
         "x": [
          4.610775108182708,
          5.097626251173037,
          5.098105490163472,
          5.09828506853184,
          5.1045751904123176,
          5.32760207122408,
          5.477136889039792,
          5.479652747894751,
          5.584911705127097,
          5.58718410559498,
          5.672411693223791,
          5.676285455369364,
          5.746324945903575,
          5.808211999560072,
          5.863026725023166,
          5.863079825190795,
          5.864075856612928,
          5.911822130160571,
          5.91242081904214,
          5.912622252264765,
          5.9558573950200575,
          5.995553065694176,
          6.065035067558467,
          6.096676403989187,
          6.22583879805446
         ],
         "xaxis": "x",
         "y": [
          17.50219226350117,
          17.452192263501168,
          17.442192263501166,
          17.442192263501166,
          17.486192263501167,
          18.01,
          18.21219226350117,
          18.132192263501167,
          18.73,
          18.791953592118503,
          18.912192263501165,
          18.992192263501167,
          19.491953592118502,
          19.702192263501168,
          20.28,
          20.232192263501165,
          20.470953592118505,
          20.85,
          20.69,
          20.69,
          21.878953592118503,
          22.679953592118505,
          22.3,
          23.206953592118506,
          23.37
         ],
         "yaxis": "y"
        },
        {
         "error_y": {
          "array": [
           0.02,
           0.04,
           0.08,
           0.05,
           0.08,
           0.04,
           0.041,
           0.04,
           0.06,
           0.04,
           0.06,
           0.1,
           0.05,
           0.05,
           0.07,
           0.11,
           0.05,
           0.08,
           0.18,
           0.12,
           0.2,
           0.2,
           0.19,
           0.2,
           0.115,
           0.15,
           0.054,
           0.158,
           0.256,
           0.28
          ]
         },
         "hovertemplate": "      <b>Band<b>=V (30)<br>x=%{x}<br>y=%{y}<extra></extra>",
         "legendgroup": "V (30)",
         "marker": {
          "color": "rgb(255,255,51)",
          "size": 9,
          "symbol": "circle"
         },
         "mode": "markers",
         "name": "<b>V (30)</b>",
         "orientation": "h",
         "showlegend": true,
         "type": "scatter",
         "x": [
          4.611094240570642,
          5.013169354035744,
          5.093878154870989,
          5.095296586307409,
          5.095718203854858,
          5.098791810559456,
          5.102865726945432,
          5.107711832558442,
          5.108092319115667,
          5.108414009119151,
          5.118012742356293,
          5.118298595109088,
          5.1996860794534845,
          5.277766860941249,
          5.283588853532239,
          5.324631726336728,
          5.326403048463367,
          5.32968419556088,
          5.331437014890555,
          5.332555117964053,
          5.339014900127872,
          5.392529532999511,
          5.443788517818216,
          5.473248195753014,
          5.475933138488701,
          5.479126878773975,
          5.589087749540436,
          5.749124472337463,
          5.865189758584596,
          5.957159258688069
         ],
         "xaxis": "x",
         "y": [
          17.35,
          17.503579148391722,
          18.22,
          18.16,
          18.13,
          17.973579148391725,
          17.915579148391725,
          18.14,
          18.16,
          18.18,
          18.25,
          18.18,
          18.492341075684784,
          18.943579148391724,
          19.06,
          19.4,
          19.203579148391725,
          19.51,
          19.33,
          19.53,
          19.59,
          19.77,
          19.89,
          20.54,
          20.214579148391724,
          20.55,
          20.7874319897604,
          22.0664319897604,
          22.8574319897604,
          23.4664319897604
         ],
         "yaxis": "y"
        },
        {
         "error_y": {
          "array": [
           0.02,
           0.04,
           0.02,
           0.07,
           0.12,
           0.12,
           0.03,
           0.14,
           0.03,
           0.03,
           0.04,
           0.06,
           0.068,
           0.124,
           0.17,
           0.21,
           0.2,
           0.282,
           0.11,
           0.05,
           0.33,
           0.16,
           0.08,
           0.049,
           0.06,
           0.01,
           0.22,
           0.11,
           0.06,
           0.104,
           0.12,
           0.1
          ]
         },
         "hovertemplate": "      <b>Band<b>=g (32)<br>x=%{x}<br>y=%{y}<extra></extra>",
         "legendgroup": "g (32)",
         "marker": {
          "color": "rgb(166,86,40)",
          "size": 9,
          "symbol": "circle"
         },
         "mode": "markers",
         "name": "<b>g (32)</b>",
         "orientation": "h",
         "showlegend": true,
         "type": "scatter",
         "x": [
          4.616614969871581,
          4.621037451593204,
          4.6241690201318155,
          4.657637073991166,
          4.877873316653548,
          5.02205206711582,
          5.097686184976015,
          5.098688018136431,
          5.099210050149664,
          5.10102769361882,
          5.103046636726954,
          5.1045751904123176,
          5.114386774376045,
          5.120846266885037,
          5.201731320511736,
          5.2849538281466675,
          5.285537506528159,
          5.32322073905793,
          5.32414329410851,
          5.325564098043082,
          5.332659792693573,
          5.473872773309982,
          5.47513110739676,
          5.477435570155865,
          5.479652747894751,
          5.482245116422237,
          5.584584941080106,
          5.585882410793071,
          5.588976854199748,
          5.590568559989977,
          5.673957456298145,
          5.676285455369364
         ],
         "xaxis": "x",
         "y": [
          17.048785829907178,
          17.048785829907178,
          17.02878582990718,
          16.874062626113414,
          17.32,
          18.12,
          18.214062626113414,
          18.74,
          18.248785829907177,
          18.29878582990717,
          18.04406262611341,
          18.10706262611341,
          18.14506262611341,
          18.042062626113413,
          19.53,
          20.44,
          20.24,
          19.868062626113414,
          19.74406262611341,
          19.76406262611341,
          20.81,
          20.684062626113413,
          20.484062626113413,
          20.32506262611341,
          20.49406262611341,
          20.45406262611341,
          21.13406262611341,
          21.28406262611341,
          21.41878582990718,
          21.304062626113414,
          22.06406262611341,
          21.88606262611341
         ],
         "yaxis": "y"
        },
        {
         "error_y": {
          "array": [
           0.04,
           0.04,
           0.04,
           0.04,
           0.05,
           0.06,
           0.06,
           0.07,
           0.07,
           0.06,
           0.05,
           0.05,
           0.05,
           0.07,
           0.08,
           0.13,
           0.06,
           0.09
          ]
         },
         "hovertemplate": "      <b>Band<b>=w (18)<br>x=%{x}<br>y=%{y}<extra></extra>",
         "legendgroup": "w (18)",
         "marker": {
          "color": "rgb(247,129,191)",
          "size": 9,
          "symbol": "circle"
         },
         "mode": "markers",
         "name": "<b>w (18)</b>",
         "orientation": "h",
         "showlegend": true,
         "type": "scatter",
         "x": [
          4.621084841732344,
          4.868324623511578,
          5.017751002269315,
          5.09508562394388,
          5.198892311898261,
          5.2849538281466675,
          5.285537506528159,
          5.327571431219982,
          5.3282768286410045,
          5.332485320792745,
          5.333008526362045,
          5.3913120382049655,
          5.391921212240485,
          5.395558420843756,
          5.396010937542635,
          5.444193492886184,
          5.444732872880539,
          5.586305484397182
         ],
         "xaxis": "x",
         "y": [
          17.49,
          17.31,
          17.95,
          18.23,
          18.69,
          19.11,
          19.11,
          19.56,
          19.48,
          19.46,
          19.36,
          19.68,
          19.61,
          19.53,
          19.56,
          20.13,
          19.99,
          20.64
         ],
         "yaxis": "y"
        },
        {
         "error_y": {
          "array": [
           0.01,
           0.01,
           0.02,
           0.01,
           0.02,
           0.02,
           0.1,
           0.04,
           0.07,
           0.09,
           0.14
          ]
         },
         "hovertemplate": "      <b>Band<b>=Y (11)<br>x=%{x}<br>y=%{y}<extra></extra>",
         "legendgroup": "Y (11)",
         "marker": {
          "color": "rgb(153,153,153)",
          "size": 9,
          "symbol": "circle"
         },
         "mode": "markers",
         "name": "<b>Y (11)</b>",
         "orientation": "h",
         "showlegend": true,
         "type": "scatter",
         "x": [
          4.625551144411224,
          5.103445194569795,
          5.328981082186697,
          5.475676998245082,
          5.5841751217371804,
          5.585916217763336,
          5.674687388192349,
          5.747330379749316,
          5.809758434638757,
          5.863919753391707,
          5.912436758618594
         ],
         "xaxis": "x",
         "y": [
          17.46,
          17.23,
          17.51,
          17.76,
          17.973444101559398,
          18.07,
          18.2234441015594,
          18.71,
          19.24,
          19.67,
          20.09
         ],
         "yaxis": "y"
        },
        {
         "error_y": {
          "array": [
           0.15,
           0.04,
           0.06,
           0.09,
           0.09,
           0.09,
           0.09,
           0.1,
           0.13,
           0.17
          ]
         },
         "hovertemplate": "      <b>Band<b>=K (10)<br>x=%{x}<br>y=%{y}<extra></extra>",
         "legendgroup": "K (10)",
         "marker": {
          "color": "rgb(228,26,28)",
          "size": 9,
          "symbol": "circle"
         },
         "mode": "markers",
         "name": "<b>K (10)</b>",
         "orientation": "h",
         "showlegend": true,
         "type": "scatter",
         "x": [
          4.6375177476078955,
          5.098883127376141,
          5.322896266225305,
          6.031136733111972,
          6.031939312136816,
          6.0652472383229385,
          6.065634530211298,
          6.125218618684389,
          6.2020943853892785,
          6.202800656983296
         ],
         "xaxis": "x",
         "y": [
          18.375738152514696,
          17.575738152514695,
          17.515738152514697,
          19.32573815251469,
          19.285738152514696,
          19.485738152514696,
          19.395738152514696,
          20.195738152514696,
          20.77573815251469,
          20.895738152514696
         ],
         "yaxis": "y"
        },
        {
         "error_y": {
          "array": [
           0.24,
           0.45
          ]
         },
         "hovertemplate": "      <b>Band<b>=UVM2 (2)<br>x=%{x}<br>y=%{y}<extra></extra>",
         "legendgroup": "UVM2 (2)",
         "marker": {
          "color": "rgb(55,126,184)",
          "size": 9,
          "symbol": "circle"
         },
         "mode": "markers",
         "name": "<b>UVM2 (2)</b>",
         "orientation": "h",
         "showlegend": true,
         "type": "scatter",
         "x": [
          4.7359576033078685,
          4.970500061236117
         ],
         "xaxis": "x",
         "y": [
          20.23584581362081,
          21.635845813620804
         ],
         "yaxis": "y"
        },
        {
         "error_y": {
          "array": [
           0.11,
           0.23
          ]
         },
         "hovertemplate": "      <b>Band<b>=UVW1 (2)<br>x=%{x}<br>y=%{y}<extra></extra>",
         "legendgroup": "UVW1 (2)",
         "marker": {
          "color": "rgb(77,175,74)",
          "size": 9,
          "symbol": "circle"
         },
         "mode": "markers",
         "name": "<b>UVW1 (2)</b>",
         "orientation": "h",
         "showlegend": true,
         "type": "scatter",
         "x": [
          4.738227828704857,
          4.95304558666013
         ],
         "xaxis": "x",
         "y": [
          18.849082559857845,
          19.599082559857845
         ],
         "yaxis": "y"
        },
        {
         "error_y": {
          "array": [
           0.09,
           0.17,
           0.45,
           0.29,
           0.23,
           0.28,
           0.28
          ]
         },
         "hovertemplate": "      <b>Band<b>=U (7)<br>x=%{x}<br>y=%{y}<extra></extra>",
         "legendgroup": "U (7)",
         "marker": {
          "color": "rgb(152,78,163)",
          "size": 9,
          "symbol": "circle"
         },
         "mode": "markers",
         "name": "<b>U (7)</b>",
         "orientation": "h",
         "showlegend": true,
         "type": "scatter",
         "x": [
          4.743168623378604,
          4.954548096962958,
          5.113689382828022,
          5.1184565274472344,
          5.118485091987129,
          5.119597646176288,
          5.120707357557925
         ],
         "xaxis": "x",
         "y": [
          17.717547944966554,
          18.52754794496656,
          20.317547944966552,
          19.7887359529593,
          19.6487359529593,
          19.7487359529593,
          19.6387359529593
         ],
         "yaxis": "y"
        },
        {
         "error_y": {
          "array": [
           0.11,
           0.11,
           0.0670820393249937,
           0.07615773105863909,
           0.07741446893184761,
           0.12,
           0.22847319317591724,
           0.1118033988749895,
           0.13519245541079578,
           0.14136477637657832,
           0.15231546211727817,
           0.251,
           0.31,
           0.363
          ]
         },
         "hovertemplate": "      <b>Band<b>=B (14)<br>x=%{x}<br>y=%{y}<extra></extra>",
         "legendgroup": "B (14)",
         "marker": {
          "color": "rgb(255,127,0)",
          "size": 9,
          "symbol": "circle"
         },
         "mode": "markers",
         "name": "<b>B (14)</b>",
         "orientation": "h",
         "showlegend": true,
         "type": "scatter",
         "x": [
          5.009513783205766,
          5.098791810559456,
          5.099864814720617,
          5.1002820227442625,
          5.114262608413977,
          5.1996860794534845,
          5.275644838360736,
          5.326403048463367,
          5.4764345267806815,
          5.589221967520051,
          5.589285572354879,
          5.749124472337463,
          5.811802870260766,
          5.865189758584596
         ],
         "xaxis": "x",
         "y": [
          18.074037934272766,
          18.694037934272767,
          18.248785829907177,
          18.29878582990717,
          18.14506262611341,
          19.70403793427277,
          20.44,
          19.76406262611341,
          20.32506262611341,
          21.41878582990718,
          21.41878582990718,
          23.413737610546825,
          23.456737610546828,
          24.187737610546822
         ],
         "yaxis": "y"
        },
        {
         "error_y": {
          "array": [
           0.05,
           0.02,
           0.05,
           0.05,
           0.05,
           0.04,
           0.05,
           0.05,
           0.05,
           0.06,
           0.01,
           0.09,
           0.06,
           0.058,
           0.08,
           0.05,
           0.07,
           0.03,
           0.07,
           0.106,
           0.24,
           0.277
          ]
         },
         "hovertemplate": "      <b>Band<b>=R (22)<br>x=%{x}<br>y=%{y}<extra></extra>",
         "legendgroup": "R (22)",
         "marker": {
          "color": "rgb(255,255,51)",
          "size": 9,
          "symbol": "circle"
         },
         "mode": "markers",
         "name": "<b>R (22)</b>",
         "orientation": "h",
         "showlegend": true,
         "type": "scatter",
         "x": [
          5.013169354035744,
          5.094075436485567,
          5.101770437261437,
          5.1996860794534845,
          5.277766860941249,
          5.323818273786541,
          5.326403048463367,
          5.389139139544831,
          5.439687564802964,
          5.473762495413957,
          5.474020641771863,
          5.520253944484828,
          5.558186143291571,
          5.584228067177945,
          5.584363795232549,
          5.6209526352706,
          5.652080716518788,
          5.67256701209124,
          5.702589748568611,
          5.747645440525094,
          5.864570881427197,
          5.957044206781743
         ],
         "xaxis": "x",
         "y": [
          17.469097987051008,
          17.69,
          17.75909798705101,
          18.10438245174956,
          18.40909798705101,
          18.77,
          18.629097987051008,
          18.864382451749563,
          19.11909798705101,
          19.35909798705101,
          19.27,
          19.40438245174956,
          19.75909798705101,
          20.0007616785326,
          19.93909798705101,
          20.09438245174956,
          20.45909798705101,
          20.39,
          20.71438245174956,
          21.030761678532603,
          22.263761678532603,
          23.141761678532603
         ],
         "yaxis": "y"
        },
        {
         "error_y": {
          "array": [
           0.1,
           0.09,
           0.09,
           0.12,
           0.13,
           0.1,
           0.11,
           0.11,
           0.1,
           0.1,
           0.1,
           0.13,
           0.1,
           0.14,
           0.11,
           0.09,
           0.12,
           0.13
          ]
         },
         "hovertemplate": "      <b>Band<b>=I (18)<br>x=%{x}<br>y=%{y}<extra></extra>",
         "legendgroup": "I (18)",
         "marker": {
          "color": "rgb(166,86,40)",
          "size": 9,
          "symbol": "circle"
         },
         "mode": "markers",
         "name": "<b>I (18)</b>",
         "orientation": "h",
         "showlegend": true,
         "type": "scatter",
         "x": [
          5.013169354035744,
          5.101770437261437,
          5.20204889614652,
          5.277766860941249,
          5.326403048463367,
          5.389139139544831,
          5.441048789121141,
          5.4750211486011215,
          5.520253944484828,
          5.559222701102496,
          5.584363795232549,
          5.6209526352706,
          5.652080716518788,
          5.703333343558135,
          5.72933717686655,
          5.763025680538402,
          5.771282265248442,
          5.793573043430712
         ],
         "xaxis": "x",
         "y": [
          17.421528470613715,
          17.611528470613717,
          17.812906630446435,
          18.10152847061372,
          18.24152847061372,
          18.452906630446435,
          18.57152847061372,
          18.71152847061372,
          18.83290663044644,
          19.07152847061372,
          19.06152847061372,
          19.35290663044644,
          19.52152847061372,
          19.82290663044644,
          20.15152847061372,
          20.64673904755664,
          20.222906630446435,
          20.73152847061372
         ],
         "yaxis": "y"
        },
        {
         "error_y": {
          "array": [
           0.05,
           0.16,
           0.32
          ]
         },
         "hovertemplate": "      <b>Band<b>=u (3)<br>x=%{x}<br>y=%{y}<extra></extra>",
         "legendgroup": "u (3)",
         "marker": {
          "color": "rgb(247,129,191)",
          "size": 9,
          "symbol": "circle"
         },
         "mode": "markers",
         "name": "<b>u (3)</b>",
         "orientation": "h",
         "showlegend": true,
         "type": "scatter",
         "x": [
          5.098584200902033,
          5.32609570343995,
          5.47513110739676
         ],
         "xaxis": "x",
         "y": [
          19.47373170802284,
          21.79373170802284,
          22.59373170802284
         ],
         "yaxis": "y"
        },
        {
         "error_y": {
          "array": [
           0.01,
           0.01,
           0.04,
           0.02
          ]
         },
         "hovertemplate": "      <b>Band<b>=F110W (4)<br>x=%{x}<br>y=%{y}<extra></extra>",
         "legendgroup": "F110W (4)",
         "marker": {
          "color": "rgb(153,153,153)",
          "size": 9,
          "symbol": "circle"
         },
         "mode": "markers",
         "name": "<b>F110W (4)</b>",
         "orientation": "h",
         "showlegend": true,
         "type": "scatter",
         "x": [
          5.615371097347703,
          5.79827059235842,
          5.925667427989946,
          5.960741734607847
         ],
         "xaxis": "x",
         "y": [
          18.161570122307065,
          18.961570122307062,
          20.471570122307064,
          20.731570122307065
         ],
         "yaxis": "y"
        },
        {
         "error_y": {
          "array": [
           0.11,
           0.11,
           0.11,
           0.11,
           0.11,
           0.11,
           0.11,
           0.11,
           0.11,
           0.27
          ]
         },
         "hovertemplate": "      <b>Band<b>=F336W (10)<br>x=%{x}<br>y=%{y}<extra></extra>",
         "legendgroup": "F336W (10)",
         "marker": {
          "color": "rgb(228,26,28)",
          "size": 9,
          "symbol": "circle"
         },
         "mode": "markers",
         "name": "<b>F336W (10)</b>",
         "orientation": "h",
         "showlegend": true,
         "type": "scatter",
         "x": [
          5.662453719092389,
          5.662453719092389,
          5.662453719092389,
          5.662453719092389,
          5.662453719092389,
          5.662453719092389,
          5.662453719092389,
          5.662453719092389,
          5.662453719092389,
          5.928640586073282
         ],
         "xaxis": "x",
         "y": [
          24.559835146902085,
          24.559835146902085,
          24.559835146902085,
          24.479835146902083,
          24.689835146902084,
          24.479835146902083,
          24.689835146902084,
          24.479835146902083,
          24.689835146902084,
          26.42983514690209
         ],
         "yaxis": "y"
        },
        {
         "error_y": {
          "array": [
           0.17,
           0.37,
           0.36
          ]
         },
         "hovertemplate": "      <b>Band<b>=F606W (3)<br>x=%{x}<br>y=%{y}<extra></extra>",
         "legendgroup": "F606W (3)",
         "marker": {
          "color": "rgb(55,126,184)",
          "size": 9,
          "symbol": "circle"
         },
         "mode": "markers",
         "name": "<b>F606W (3)</b>",
         "orientation": "h",
         "showlegend": true,
         "type": "scatter",
         "x": [
          5.842666392997221,
          5.989067684040582,
          5.994904966304219
         ],
         "xaxis": "x",
         "y": [
          22.216377143459795,
          23.4963771434598,
          23.3863771434598
         ],
         "yaxis": "y"
        },
        {
         "error_y": {
          "array": [
           0.42,
           0.06,
           0.69,
           0.64
          ]
         },
         "hovertemplate": "      <b>Band<b>=F475W (4)<br>x=%{x}<br>y=%{y}<extra></extra>",
         "legendgroup": "F475W (4)",
         "marker": {
          "color": "rgb(77,175,74)",
          "size": 9,
          "symbol": "circle"
         },
         "mode": "markers",
         "name": "<b>F475W (4)</b>",
         "orientation": "h",
         "showlegend": true,
         "type": "scatter",
         "x": [
          5.846070266946941,
          5.93242728862215,
          5.990015100381667,
          5.994197804292914
         ],
         "xaxis": "x",
         "y": [
          23.299741576257706,
          23.589741576257705,
          24.389741576257705,
          24.199741576257704
         ],
         "yaxis": "y"
        },
        {
         "error_y": {
          "array": [
           0.04
          ]
         },
         "hovertemplate": "      <b>Band<b>=F160W (1)<br>x=%{x}<br>y=%{y}<extra></extra>",
         "legendgroup": "F160W (1)",
         "marker": {
          "color": "rgb(152,78,163)",
          "size": 9,
          "symbol": "circle"
         },
         "mode": "markers",
         "name": "<b>F160W (1)</b>",
         "orientation": "h",
         "showlegend": true,
         "type": "scatter",
         "x": [
          5.926379288054575
         ],
         "xaxis": "x",
         "y": [
          19.837113240208627
         ],
         "yaxis": "y"
        },
        {
         "error_y": {
          "array": [
           0.07
          ]
         },
         "hovertemplate": "      <b>Band<b>=F625W (1)<br>x=%{x}<br>y=%{y}<extra></extra>",
         "legendgroup": "F625W (1)",
         "marker": {
          "color": "rgb(255,127,0)",
          "size": 9,
          "symbol": "circle"
         },
         "mode": "markers",
         "name": "<b>F625W (1)</b>",
         "orientation": "h",
         "showlegend": true,
         "type": "scatter",
         "x": [
          5.935152026898865
         ],
         "xaxis": "x",
         "y": [
          22.635545837121487
         ],
         "yaxis": "y"
        },
        {
         "error_y": {
          "array": [
           0.02
          ]
         },
         "hovertemplate": "      <b>Band<b>=F814W (1)<br>x=%{x}<br>y=%{y}<extra></extra>",
         "legendgroup": "F814W (1)",
         "marker": {
          "color": "rgb(255,255,51)",
          "size": 9,
          "symbol": "circle"
         },
         "mode": "markers",
         "name": "<b>F814W (1)</b>",
         "orientation": "h",
         "showlegend": true,
         "type": "scatter",
         "x": [
          5.994645103754814
         ],
         "xaxis": "x",
         "y": [
          22.32
         ],
         "yaxis": "y"
        }
       ],
       "layout": {
        "annotations": [
         {
          "align": "left",
          "font": {
           "color": "black",
           "family": "arial",
           "size": 20
          },
          "showarrow": false,
          "text": "<b>GRB 170817A<br>    rescaled</b>",
          "x": 0.05,
          "xanchor": "left",
          "xref": "paper",
          "xshift": -1,
          "y": 0.12,
          "yanchor": "bottom",
          "yref": "paper",
          "yshift": -5
         }
        ],
        "height": 540,
        "legend": {
         "font": {
          "color": "black",
          "family": "arial",
          "size": 20
         },
         "title": {
          "text": "      <b>Band<b>"
         },
         "tracegroupgap": 0
        },
        "margin": {
         "b": 40,
         "l": 40,
         "r": 40,
         "t": 50
        },
        "plot_bgcolor": "white",
        "template": {
         "data": {
          "bar": [
           {
            "error_x": {
             "color": "#2a3f5f"
            },
            "error_y": {
             "color": "#2a3f5f"
            },
            "marker": {
             "line": {
              "color": "#E5ECF6",
              "width": 0.5
             },
             "pattern": {
              "fillmode": "overlay",
              "size": 10,
              "solidity": 0.2
             }
            },
            "type": "bar"
           }
          ],
          "barpolar": [
           {
            "marker": {
             "line": {
              "color": "#E5ECF6",
              "width": 0.5
             },
             "pattern": {
              "fillmode": "overlay",
              "size": 10,
              "solidity": 0.2
             }
            },
            "type": "barpolar"
           }
          ],
          "carpet": [
           {
            "aaxis": {
             "endlinecolor": "#2a3f5f",
             "gridcolor": "white",
             "linecolor": "white",
             "minorgridcolor": "white",
             "startlinecolor": "#2a3f5f"
            },
            "baxis": {
             "endlinecolor": "#2a3f5f",
             "gridcolor": "white",
             "linecolor": "white",
             "minorgridcolor": "white",
             "startlinecolor": "#2a3f5f"
            },
            "type": "carpet"
           }
          ],
          "choropleth": [
           {
            "colorbar": {
             "outlinewidth": 0,
             "ticks": ""
            },
            "type": "choropleth"
           }
          ],
          "contour": [
           {
            "colorbar": {
             "outlinewidth": 0,
             "ticks": ""
            },
            "colorscale": [
             [
              0,
              "#0d0887"
             ],
             [
              0.1111111111111111,
              "#46039f"
             ],
             [
              0.2222222222222222,
              "#7201a8"
             ],
             [
              0.3333333333333333,
              "#9c179e"
             ],
             [
              0.4444444444444444,
              "#bd3786"
             ],
             [
              0.5555555555555556,
              "#d8576b"
             ],
             [
              0.6666666666666666,
              "#ed7953"
             ],
             [
              0.7777777777777778,
              "#fb9f3a"
             ],
             [
              0.8888888888888888,
              "#fdca26"
             ],
             [
              1,
              "#f0f921"
             ]
            ],
            "type": "contour"
           }
          ],
          "contourcarpet": [
           {
            "colorbar": {
             "outlinewidth": 0,
             "ticks": ""
            },
            "type": "contourcarpet"
           }
          ],
          "heatmap": [
           {
            "colorbar": {
             "outlinewidth": 0,
             "ticks": ""
            },
            "colorscale": [
             [
              0,
              "#0d0887"
             ],
             [
              0.1111111111111111,
              "#46039f"
             ],
             [
              0.2222222222222222,
              "#7201a8"
             ],
             [
              0.3333333333333333,
              "#9c179e"
             ],
             [
              0.4444444444444444,
              "#bd3786"
             ],
             [
              0.5555555555555556,
              "#d8576b"
             ],
             [
              0.6666666666666666,
              "#ed7953"
             ],
             [
              0.7777777777777778,
              "#fb9f3a"
             ],
             [
              0.8888888888888888,
              "#fdca26"
             ],
             [
              1,
              "#f0f921"
             ]
            ],
            "type": "heatmap"
           }
          ],
          "heatmapgl": [
           {
            "colorbar": {
             "outlinewidth": 0,
             "ticks": ""
            },
            "colorscale": [
             [
              0,
              "#0d0887"
             ],
             [
              0.1111111111111111,
              "#46039f"
             ],
             [
              0.2222222222222222,
              "#7201a8"
             ],
             [
              0.3333333333333333,
              "#9c179e"
             ],
             [
              0.4444444444444444,
              "#bd3786"
             ],
             [
              0.5555555555555556,
              "#d8576b"
             ],
             [
              0.6666666666666666,
              "#ed7953"
             ],
             [
              0.7777777777777778,
              "#fb9f3a"
             ],
             [
              0.8888888888888888,
              "#fdca26"
             ],
             [
              1,
              "#f0f921"
             ]
            ],
            "type": "heatmapgl"
           }
          ],
          "histogram": [
           {
            "marker": {
             "pattern": {
              "fillmode": "overlay",
              "size": 10,
              "solidity": 0.2
             }
            },
            "type": "histogram"
           }
          ],
          "histogram2d": [
           {
            "colorbar": {
             "outlinewidth": 0,
             "ticks": ""
            },
            "colorscale": [
             [
              0,
              "#0d0887"
             ],
             [
              0.1111111111111111,
              "#46039f"
             ],
             [
              0.2222222222222222,
              "#7201a8"
             ],
             [
              0.3333333333333333,
              "#9c179e"
             ],
             [
              0.4444444444444444,
              "#bd3786"
             ],
             [
              0.5555555555555556,
              "#d8576b"
             ],
             [
              0.6666666666666666,
              "#ed7953"
             ],
             [
              0.7777777777777778,
              "#fb9f3a"
             ],
             [
              0.8888888888888888,
              "#fdca26"
             ],
             [
              1,
              "#f0f921"
             ]
            ],
            "type": "histogram2d"
           }
          ],
          "histogram2dcontour": [
           {
            "colorbar": {
             "outlinewidth": 0,
             "ticks": ""
            },
            "colorscale": [
             [
              0,
              "#0d0887"
             ],
             [
              0.1111111111111111,
              "#46039f"
             ],
             [
              0.2222222222222222,
              "#7201a8"
             ],
             [
              0.3333333333333333,
              "#9c179e"
             ],
             [
              0.4444444444444444,
              "#bd3786"
             ],
             [
              0.5555555555555556,
              "#d8576b"
             ],
             [
              0.6666666666666666,
              "#ed7953"
             ],
             [
              0.7777777777777778,
              "#fb9f3a"
             ],
             [
              0.8888888888888888,
              "#fdca26"
             ],
             [
              1,
              "#f0f921"
             ]
            ],
            "type": "histogram2dcontour"
           }
          ],
          "mesh3d": [
           {
            "colorbar": {
             "outlinewidth": 0,
             "ticks": ""
            },
            "type": "mesh3d"
           }
          ],
          "parcoords": [
           {
            "line": {
             "colorbar": {
              "outlinewidth": 0,
              "ticks": ""
             }
            },
            "type": "parcoords"
           }
          ],
          "pie": [
           {
            "automargin": true,
            "type": "pie"
           }
          ],
          "scatter": [
           {
            "fillpattern": {
             "fillmode": "overlay",
             "size": 10,
             "solidity": 0.2
            },
            "type": "scatter"
           }
          ],
          "scatter3d": [
           {
            "line": {
             "colorbar": {
              "outlinewidth": 0,
              "ticks": ""
             }
            },
            "marker": {
             "colorbar": {
              "outlinewidth": 0,
              "ticks": ""
             }
            },
            "type": "scatter3d"
           }
          ],
          "scattercarpet": [
           {
            "marker": {
             "colorbar": {
              "outlinewidth": 0,
              "ticks": ""
             }
            },
            "type": "scattercarpet"
           }
          ],
          "scattergeo": [
           {
            "marker": {
             "colorbar": {
              "outlinewidth": 0,
              "ticks": ""
             }
            },
            "type": "scattergeo"
           }
          ],
          "scattergl": [
           {
            "marker": {
             "colorbar": {
              "outlinewidth": 0,
              "ticks": ""
             }
            },
            "type": "scattergl"
           }
          ],
          "scattermapbox": [
           {
            "marker": {
             "colorbar": {
              "outlinewidth": 0,
              "ticks": ""
             }
            },
            "type": "scattermapbox"
           }
          ],
          "scatterpolar": [
           {
            "marker": {
             "colorbar": {
              "outlinewidth": 0,
              "ticks": ""
             }
            },
            "type": "scatterpolar"
           }
          ],
          "scatterpolargl": [
           {
            "marker": {
             "colorbar": {
              "outlinewidth": 0,
              "ticks": ""
             }
            },
            "type": "scatterpolargl"
           }
          ],
          "scatterternary": [
           {
            "marker": {
             "colorbar": {
              "outlinewidth": 0,
              "ticks": ""
             }
            },
            "type": "scatterternary"
           }
          ],
          "surface": [
           {
            "colorbar": {
             "outlinewidth": 0,
             "ticks": ""
            },
            "colorscale": [
             [
              0,
              "#0d0887"
             ],
             [
              0.1111111111111111,
              "#46039f"
             ],
             [
              0.2222222222222222,
              "#7201a8"
             ],
             [
              0.3333333333333333,
              "#9c179e"
             ],
             [
              0.4444444444444444,
              "#bd3786"
             ],
             [
              0.5555555555555556,
              "#d8576b"
             ],
             [
              0.6666666666666666,
              "#ed7953"
             ],
             [
              0.7777777777777778,
              "#fb9f3a"
             ],
             [
              0.8888888888888888,
              "#fdca26"
             ],
             [
              1,
              "#f0f921"
             ]
            ],
            "type": "surface"
           }
          ],
          "table": [
           {
            "cells": {
             "fill": {
              "color": "#EBF0F8"
             },
             "line": {
              "color": "white"
             }
            },
            "header": {
             "fill": {
              "color": "#C8D4E3"
             },
             "line": {
              "color": "white"
             }
            },
            "type": "table"
           }
          ]
         },
         "layout": {
          "annotationdefaults": {
           "arrowcolor": "#2a3f5f",
           "arrowhead": 0,
           "arrowwidth": 1
          },
          "autotypenumbers": "strict",
          "coloraxis": {
           "colorbar": {
            "outlinewidth": 0,
            "ticks": ""
           }
          },
          "colorscale": {
           "diverging": [
            [
             0,
             "#8e0152"
            ],
            [
             0.1,
             "#c51b7d"
            ],
            [
             0.2,
             "#de77ae"
            ],
            [
             0.3,
             "#f1b6da"
            ],
            [
             0.4,
             "#fde0ef"
            ],
            [
             0.5,
             "#f7f7f7"
            ],
            [
             0.6,
             "#e6f5d0"
            ],
            [
             0.7,
             "#b8e186"
            ],
            [
             0.8,
             "#7fbc41"
            ],
            [
             0.9,
             "#4d9221"
            ],
            [
             1,
             "#276419"
            ]
           ],
           "sequential": [
            [
             0,
             "#0d0887"
            ],
            [
             0.1111111111111111,
             "#46039f"
            ],
            [
             0.2222222222222222,
             "#7201a8"
            ],
            [
             0.3333333333333333,
             "#9c179e"
            ],
            [
             0.4444444444444444,
             "#bd3786"
            ],
            [
             0.5555555555555556,
             "#d8576b"
            ],
            [
             0.6666666666666666,
             "#ed7953"
            ],
            [
             0.7777777777777778,
             "#fb9f3a"
            ],
            [
             0.8888888888888888,
             "#fdca26"
            ],
            [
             1,
             "#f0f921"
            ]
           ],
           "sequentialminus": [
            [
             0,
             "#0d0887"
            ],
            [
             0.1111111111111111,
             "#46039f"
            ],
            [
             0.2222222222222222,
             "#7201a8"
            ],
            [
             0.3333333333333333,
             "#9c179e"
            ],
            [
             0.4444444444444444,
             "#bd3786"
            ],
            [
             0.5555555555555556,
             "#d8576b"
            ],
            [
             0.6666666666666666,
             "#ed7953"
            ],
            [
             0.7777777777777778,
             "#fb9f3a"
            ],
            [
             0.8888888888888888,
             "#fdca26"
            ],
            [
             1,
             "#f0f921"
            ]
           ]
          },
          "colorway": [
           "#636efa",
           "#EF553B",
           "#00cc96",
           "#ab63fa",
           "#FFA15A",
           "#19d3f3",
           "#FF6692",
           "#B6E880",
           "#FF97FF",
           "#FECB52"
          ],
          "font": {
           "color": "#2a3f5f"
          },
          "geo": {
           "bgcolor": "white",
           "lakecolor": "white",
           "landcolor": "#E5ECF6",
           "showlakes": true,
           "showland": true,
           "subunitcolor": "white"
          },
          "hoverlabel": {
           "align": "left"
          },
          "hovermode": "closest",
          "mapbox": {
           "style": "light"
          },
          "paper_bgcolor": "white",
          "plot_bgcolor": "#E5ECF6",
          "polar": {
           "angularaxis": {
            "gridcolor": "white",
            "linecolor": "white",
            "ticks": ""
           },
           "bgcolor": "#E5ECF6",
           "radialaxis": {
            "gridcolor": "white",
            "linecolor": "white",
            "ticks": ""
           }
          },
          "scene": {
           "xaxis": {
            "backgroundcolor": "#E5ECF6",
            "gridcolor": "white",
            "gridwidth": 2,
            "linecolor": "white",
            "showbackground": true,
            "ticks": "",
            "zerolinecolor": "white"
           },
           "yaxis": {
            "backgroundcolor": "#E5ECF6",
            "gridcolor": "white",
            "gridwidth": 2,
            "linecolor": "white",
            "showbackground": true,
            "ticks": "",
            "zerolinecolor": "white"
           },
           "zaxis": {
            "backgroundcolor": "#E5ECF6",
            "gridcolor": "white",
            "gridwidth": 2,
            "linecolor": "white",
            "showbackground": true,
            "ticks": "",
            "zerolinecolor": "white"
           }
          },
          "shapedefaults": {
           "line": {
            "color": "#2a3f5f"
           }
          },
          "ternary": {
           "aaxis": {
            "gridcolor": "white",
            "linecolor": "white",
            "ticks": ""
           },
           "baxis": {
            "gridcolor": "white",
            "linecolor": "white",
            "ticks": ""
           },
           "bgcolor": "#E5ECF6",
           "caxis": {
            "gridcolor": "white",
            "linecolor": "white",
            "ticks": ""
           }
          },
          "title": {
           "x": 0.05
          },
          "xaxis": {
           "automargin": true,
           "gridcolor": "white",
           "linecolor": "white",
           "ticks": "",
           "title": {
            "standoff": 15
           },
           "zerolinecolor": "white",
           "zerolinewidth": 2
          },
          "yaxis": {
           "automargin": true,
           "gridcolor": "white",
           "linecolor": "white",
           "ticks": "",
           "title": {
            "standoff": 15
           },
           "zerolinecolor": "white",
           "zerolinewidth": 2
          }
         }
        },
        "width": 960,
        "xaxis": {
         "anchor": "y",
         "domain": [
          0,
          1
         ],
         "linecolor": "black",
         "linewidth": 2.4,
         "mirror": "allticks",
         "showgrid": false,
         "showline": true,
         "showticklabels": true,
         "tickcolor": "black",
         "tickfont": {
          "color": "black",
          "family": "arial",
          "size": 20
         },
         "tickprefix": "<b>",
         "ticks": "outside",
         "ticksuffix": "</b><br>",
         "tickwidth": 2.4,
         "title": {
          "font": {
           "color": "black",
           "family": "arial",
           "size": 20
          },
          "text": "<b>log10 Time (s)<b>"
         }
        },
        "yaxis": {
         "anchor": "x",
         "autorange": "reversed",
         "domain": [
          0,
          1
         ],
         "linecolor": "black",
         "linewidth": 2.4,
         "mirror": "allticks",
         "showgrid": false,
         "showline": true,
         "showticklabels": true,
         "tickcolor": "black",
         "tickfont": {
          "color": "black",
          "family": "arial",
          "size": 20
         },
         "tickprefix": "<b>",
         "ticks": "outside",
         "ticksuffix": "</b><br>",
         "tickwidth": 2.4,
         "title": {
          "font": {
           "color": "black",
           "family": "arial",
           "size": 20
          },
          "text": "<b>Magnitude<b>"
         }
        }
       }
      }
     },
     "metadata": {},
     "output_type": "display_data"
    }
   ],
   "source": [
    "# rescaling GRB\n",
    "\n",
    "figunresc, figresc, resc_mag_df = lc.rescaleGRB()\n",
    "\n",
    "figunresc.show()\n",
    "figresc.show()"
   ]
  },
  {
   "cell_type": "code",
   "execution_count": null,
   "metadata": {},
   "outputs": [],
   "source": []
  }
 ],
 "metadata": {
  "kernelspec": {
   "display_name": "Python 3",
   "language": "python",
   "name": "python3"
  },
  "language_info": {
   "codemirror_mode": {
    "name": "ipython",
    "version": 3
   },
   "file_extension": ".py",
   "mimetype": "text/x-python",
   "name": "python",
   "nbconvert_exporter": "python",
   "pygments_lexer": "ipython3",
   "version": "3.8.10"
  },
  "orig_nbformat": 4
 },
 "nbformat": 4,
 "nbformat_minor": 2
}
