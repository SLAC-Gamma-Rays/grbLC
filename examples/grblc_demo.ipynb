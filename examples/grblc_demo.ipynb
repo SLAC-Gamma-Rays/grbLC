{
 "cells": [
  {
   "cell_type": "code",
<<<<<<< Updated upstream
   "execution_count": 1,
=======
   "execution_count": 5,
>>>>>>> Stashed changes
   "metadata": {},
   "outputs": [],
   "source": [
    "# imports\n",
    "\n",
    "import sys\n",
    "import os\n",
    "\n",
    "import pandas as pd\n",
    "\n",
<<<<<<< Updated upstream
    "sys.path.append('D:/grb/grbLC/')\n",
=======
    "sys.path.append('D:/naoj-grb/archive-grblc/grbLC-dev/')\n",
>>>>>>> Stashed changes
    "import grblc\n",
    "\n",
    "from grblc.evolution.lightcurve import Lightcurve"
   ]
  },
  {
   "cell_type": "code",
   "execution_count": 2,
   "metadata": {},
   "outputs": [],
   "source": [
    "# run this the first time you use grblc to download SFD maps\n",
    "\n",
    "# import grblc.convert.sfd\n",
    "# grblc.convert.sfd.fetch()"
   ]
  },
  {
   "cell_type": "code",
<<<<<<< Updated upstream
   "execution_count": 3,
   "metadata": {},
   "outputs": [],
   "source": [
    "grb = '090926A'\n",
    "\n",
    "lc = Lightcurve(path = 'D:/grb/sample/mag-AB-extcorr-30-05-2023/'+grb+'_magAB_extcorr.txt',\n",
    "                data_space= 'lin',\n",
    "                name = grb)\n",
    "#lc.displayGRB()"
   ]
  },
  {
   "cell_type": "code",
   "execution_count": 4,
   "metadata": {},
   "outputs": [],
   "source": [
    "lc.set_data(set_bands=True)"
   ]
  },
  {
   "cell_type": "code",
=======
>>>>>>> Stashed changes
   "execution_count": 5,
   "metadata": {},
   "outputs": [
    {
<<<<<<< Updated upstream
     "name": "stdout",
     "output_type": "stream",
     "text": [
      "090926A\n",
      "-------\n",
      "   band_occur\n",
      "I          48\n",
      "R          47\n",
      "V          19\n",
      "B          17\n",
      "J           3\n",
      "i           1\n",
      "r           1\n",
      "g           1 \n",
      "The reference filter for rescaling of this GRB:  I , with 48 occurrences.\n",
      "\n",
      "Individual point rescaling:\n",
      "     time_sec  resc_fact  resc_fact_err band_set  band_occur\n",
      "18   4.837754  -0.703677       0.290689        V          19\n",
      "19   4.837918  -0.664493       0.248395        R          47\n",
      "22   4.853441  -0.364493       0.086023        R          47\n",
      "23   4.855156  -0.533677       0.107703        V          19\n",
      "24   4.856324  -0.843677       0.107703        V          19\n",
      "..        ...        ...            ...      ...         ...\n",
      "149  5.634579  -1.381694       0.197231        B          17\n",
      "151  5.644288  -0.744493       0.170294        R          47\n",
      "152  5.706467  -0.214493       0.186011        R          47\n",
      "155  5.720503  -0.424493       0.186011        R          47\n",
      "157  5.721844   0.105507       0.599083        R          47\n",
      "\n",
      "[84 rows x 5 columns]\n",
      "\n",
      "Slopes of rescale factors for each filter:\n",
      "   slope  slope_err  intercept  inter_err  slope_err/slope  red_chi2  \\\n",
      "R -0.241      0.150      0.790      0.747            0.622     4.091   \n",
      "V -0.013      0.468     -0.946      2.315           36.000     2.784   \n",
      "B  0.223      0.195     -2.684      0.966            0.874     1.028   \n",
      "J  0.438      0.118     -1.254      0.616            0.269     0.302   \n",
      "i    NaN        NaN        NaN        NaN              NaN       NaN   \n",
      "r    NaN        NaN        NaN        NaN              NaN       NaN   \n",
      "g    NaN        NaN        NaN        NaN              NaN       NaN   \n",
      "\n",
      "              comment  \n",
      "R  no color evolution  \n",
      "V  slope_err/slope>10  \n",
      "B  no color evolution  \n",
      "J     color evolution  \n",
      "i   insufficient data  \n",
      "r   insufficient data  \n",
      "g   insufficient data  \n",
      "Filters compatible with zero in 3sigma:  R V B\n",
      "Filters not compatible with zero in 3sigma:  J\n",
      "\n",
      "\n",
      "No color evolution:  R V B  ; Color evolution:  J\n"
=======
     "data": {
      "application/vnd.plotly.v1+json": {
       "config": {
        "plotlyServerURL": "https://plot.ly"
       },
       "data": [
        {
         "error_y": {
          "array": [
           0.27,
           0.29,
           0.15
          ]
         },
         "hovertemplate": "color=white<br>x=%{x}<br>y=%{y}<extra></extra>",
         "legendgroup": "white",
         "marker": {
          "color": "#636efa",
          "symbol": "circle"
         },
         "mode": "markers",
         "name": "white",
         "orientation": "v",
         "showlegend": true,
         "type": "scatter",
         "x": [
          2.2528530309798933,
          2.9694159123539814,
          3.7831529157564927
         ],
         "xaxis": "x",
         "y": [
          20.232831849454957,
          20.352831849454954,
          20.092831849454956
         ],
         "yaxis": "y"
        },
        {
         "error_y": {
          "array": [
           0.43,
           0.37,
           0.24,
           0.34,
           0.155
          ]
         },
         "hovertemplate": "color=U<br>x=%{x}<br>y=%{y}<extra></extra>",
         "legendgroup": "U",
         "marker": {
          "color": "#EF553B",
          "symbol": "circle"
         },
         "mode": "markers",
         "name": "U",
         "orientation": "v",
         "showlegend": true,
         "type": "scatter",
         "x": [
          2.587935348636356,
          3.752808758073104,
          4.2978348927008145,
          4.4742279228320285,
          6.0401856447455495
         ],
         "xaxis": "x",
         "y": [
          21.06,
          21.08,
          21.47,
          21.41,
          23
         ],
         "yaxis": "y"
        },
        {
         "error_y": {
          "array": [
           0.595,
           0.4,
           0.21
          ]
         },
         "hovertemplate": "color=UVM2<br>x=%{x}<br>y=%{y}<extra></extra>",
         "legendgroup": "UVM2",
         "marker": {
          "color": "#00cc96",
          "symbol": "circle"
         },
         "mode": "markers",
         "name": "UVM2",
         "orientation": "v",
         "showlegend": true,
         "type": "scatter",
         "x": [
          2.971229447276241,
          3.775777872110808,
          4.067992799070431
         ],
         "xaxis": "x",
         "y": [
          20.84,
          20.89,
          21.03
         ],
         "yaxis": "y"
        },
        {
         "error_y": {
          "array": [
           0.455,
           0.175
          ]
         },
         "hovertemplate": "color=UVW2<br>x=%{x}<br>y=%{y}<extra></extra>",
         "legendgroup": "UVW2",
         "marker": {
          "color": "#ab63fa",
          "symbol": "circle"
         },
         "mode": "markers",
         "name": "UVW2",
         "orientation": "v",
         "showlegend": true,
         "type": "scatter",
         "x": [
          3.045401222995842,
          3.7955185339371735
         ],
         "xaxis": "x",
         "y": [
          20.3,
          20.5
         ],
         "yaxis": "y"
        },
        {
         "error_y": {
          "array": [
           0.04,
           0.18,
           0.07,
           0.1,
           0.06,
           0.1,
           0.09,
           0.17,
           0.12,
           0.16,
           0.19,
           0.13,
           0.14,
           0.06,
           0.06,
           0.08,
           0.12,
           0.08,
           0.15,
           0.08,
           0.05,
           0.08,
           0.05,
           0.04,
           0.05,
           0.09,
           0.05,
           0.06,
           0.14,
           0.05,
           0.11,
           0.05,
           0.07,
           0.03,
           0.04,
           0.06,
           0.14,
           0.15,
           0.22,
           0.1,
           0.17,
           0.05,
           0.04,
           0.05,
           0.06,
           0.04,
           0.06,
           0.09,
           0.14,
           0.06,
           0.15,
           0.04,
           0.08,
           0.15,
           0.09,
           0.12,
           0.11,
           0.21
          ]
         },
         "hovertemplate": "color=i<br>x=%{x}<br>y=%{y}<extra></extra>",
         "legendgroup": "i",
         "marker": {
          "color": "#FFA15A",
          "symbol": "circle"
         },
         "mode": "markers",
         "name": "i",
         "orientation": "v",
         "showlegend": true,
         "type": "scatter",
         "x": [
          3.27415784926368,
          4.77497656367104,
          4.790299241422002,
          4.803156556367429,
          4.809283563698025,
          4.811575005870593,
          4.827427433598773,
          4.865038795953643,
          5.132525437426215,
          5.183728102884171,
          5.192598114894083,
          5.355461098637604,
          5.488614163981458,
          5.490990283329077,
          5.533630997773896,
          5.596743301813618,
          5.753400111154331,
          5.870496958412669,
          5.871012193722461,
          5.8768947428884575,
          5.918160605590107,
          5.922676162512543,
          5.9663097839231405,
          6.0394093597584755,
          6.100850898597607,
          6.100926155431164,
          6.101312562172349,
          6.103052460220408,
          6.108609668534318,
          6.111534366819072,
          6.1372148109190015,
          6.156197697029134,
          6.228521492514593,
          6.23107258008563,
          6.2310855900288855,
          6.250222231302699,
          6.2764783484098094,
          6.295975474558344,
          6.309160705426661,
          6.314544065563808,
          6.327277585966265,
          6.3617284024882865,
          6.363662174665215,
          6.393382140593857,
          6.393445685240427,
          6.3945984055446194,
          6.408131038739868,
          6.412047393200338,
          6.422227678341086,
          6.424085953354818,
          6.4261351980119175,
          6.437145775172665,
          6.44965115694289,
          6.4877105315248755,
          6.511687683942612,
          6.5266488603488675,
          6.544968085996146,
          6.5856885333504955
         ],
         "xaxis": "x",
         "y": [
          20.93,
          22.01,
          22.13,
          22.27,
          22.16,
          21.235315722344964,
          22.32,
          22.23,
          22.48,
          22.5,
          22.59,
          22.37,
          22.33,
          22.35,
          22.29,
          22.18,
          21.73517610496901,
          21.56,
          21.235315722344964,
          21.56,
          21.47517610496901,
          21.52,
          21.49,
          21.33517610496901,
          21.32517610496901,
          21.2,
          21.34,
          21.27,
          21.21,
          21.29,
          21.26,
          21.35,
          21.32,
          21.27,
          21.24,
          21.19517610496901,
          21.22,
          21.27,
          21.46,
          21.33,
          21.41,
          21.29,
          21.33,
          21.35,
          21.47,
          21.41,
          21.39,
          21.5,
          21.44517610496901,
          21.4,
          21.59,
          21.62,
          21.63,
          21.58517610496901,
          21.98,
          22.06,
          22.08,
          22.15
         ],
         "yaxis": "y"
        },
        {
         "error_y": {
          "array": [
           0.06,
           0.07,
           0.07,
           0.07,
           0.17,
           0.16,
           0.2,
           0.2,
           0.24,
           0.11,
           0.15
          ]
         },
         "hovertemplate": "color=J<br>x=%{x}<br>y=%{y}<extra></extra>",
         "legendgroup": "J",
         "marker": {
          "color": "#19d3f3",
          "symbol": "circle"
         },
         "mode": "markers",
         "name": "J",
         "orientation": "v",
         "showlegend": true,
         "type": "scatter",
         "x": [
          3.6617180576946593,
          3.703119346236078,
          3.741466761769755,
          3.7766285534201502,
          5.91887711927865,
          5.931674455373534,
          5.9317100340760724,
          5.964763421268389,
          6.048274346474359,
          6.112106751634443,
          6.351170108409905
         ],
         "xaxis": "x",
         "y": [
          20.2,
          20.33,
          20.36,
          20.41,
          21.6,
          21.68,
          20.56553001378596,
          21.83,
          21.75,
          21.96,
          21.9
         ],
         "yaxis": "y"
        },
        {
         "error_y": {
          "array": [
           0.405,
           0.325,
           0.195
          ]
         },
         "hovertemplate": "color=UVW1<br>x=%{x}<br>y=%{y}<extra></extra>",
         "legendgroup": "UVW1",
         "marker": {
          "color": "#FF6692",
          "symbol": "circle"
         },
         "mode": "markers",
         "name": "UVW1",
         "orientation": "v",
         "showlegend": true,
         "type": "scatter",
         "x": [
          3.736762908148523,
          4.096193705302078,
          4.40945293721513
         ],
         "xaxis": "x",
         "y": [
          21.43,
          21.56,
          21.47
         ],
         "yaxis": "y"
        },
        {
         "error_y": {
          "array": [
           0.09,
           0.09,
           0.11,
           0.1,
           0.42,
           0.31
          ]
         },
         "hovertemplate": "color=H<br>x=%{x}<br>y=%{y}<extra></extra>",
         "legendgroup": "H",
         "marker": {
          "color": "#B6E880",
          "symbol": "circle"
         },
         "mode": "markers",
         "name": "H",
         "orientation": "v",
         "showlegend": true,
         "type": "scatter",
         "x": [
          3.812445402872756,
          3.84279639517558,
          3.871105700985585,
          3.8972971220594967,
          4.965041693087811,
          5.418558145291022
         ],
         "xaxis": "x",
         "y": [
          20.29,
          20.32,
          20.51,
          20.34,
          21.65,
          22.29
         ],
         "yaxis": "y"
        },
        {
         "error_y": {
          "array": [
           0.04,
           0.14,
           0.07,
           0.05,
           0.05,
           0.05,
           0.07,
           0.08,
           0.1,
           0.08,
           0.09,
           0.12,
           0.06,
           0.06,
           0.06,
           0.1,
           0.08,
           0.05,
           0.04,
           0.04,
           0.04,
           0.1,
           0.05,
           0.14,
           0.05,
           0.07,
           0.04,
           0.05,
           0.07,
           0.06,
           0.08,
           0.05,
           0.04,
           0.04,
           0.04,
           0.08,
           0.05,
           0.07,
           0.14,
           0.04,
           0.08,
           0.07,
           0.15,
           0.11,
           0.11,
           0.47
          ]
         },
         "hovertemplate": "color=r<br>x=%{x}<br>y=%{y}<extra></extra>",
         "legendgroup": "r",
         "marker": {
          "color": "#FF97FF",
          "symbol": "circle"
         },
         "mode": "markers",
         "name": "r",
         "orientation": "v",
         "showlegend": true,
         "type": "scatter",
         "x": [
          3.9909157545060845,
          4.77497656367104,
          4.790299241422002,
          4.803156556367429,
          4.809283563698025,
          4.811575005870593,
          4.815464843646535,
          4.83326188823779,
          4.871321859452088,
          5.13714514393426,
          5.183728102884171,
          5.192598114894083,
          5.359562302967089,
          5.497257319945753,
          5.53274164289719,
          5.5975438145019325,
          5.754986157668366,
          5.8768947428884575,
          5.919291733634437,
          5.9663097839231405,
          6.038723458507136,
          6.071872806054377,
          6.101534547501631,
          6.102975720848811,
          6.111374098214599,
          6.181900442513847,
          6.23107258008563,
          6.231672672461312,
          6.25066489485683,
          6.291793833620206,
          6.3276553796788715,
          6.361329991159556,
          6.3625013239290125,
          6.363467190932009,
          6.393445685240427,
          6.393730819509494,
          6.3940625678347605,
          6.422255044758492,
          6.422397959453292,
          6.423162120774592,
          6.436971780446558,
          6.449817525562066,
          6.488173619062002,
          6.5266488603488675,
          6.54561658019818,
          6.58599227382592
         ],
         "xaxis": "x",
         "y": [
          21.11,
          22.19,
          22.17,
          22.02,
          22.1,
          21.50283568840308,
          22.22,
          22.12,
          22.28,
          22.28,
          22.34,
          22.47,
          22.23,
          22.07,
          22.12,
          21.76120132948919,
          21.55120132948919,
          21.48,
          21.39120132948919,
          21.33,
          21.30120132948919,
          21.41,
          21.161201329489188,
          21.37,
          21.26,
          21.23,
          21.21,
          21.27,
          21.361201329489187,
          21.32,
          21.36,
          21.48,
          21.51,
          21.55,
          21.65,
          21.54,
          21.58,
          21.79,
          21.69120132948919,
          21.73,
          21.77,
          21.96,
          21.76120132948919,
          22.43,
          22.41,
          22.39
         ],
         "yaxis": "y"
        },
        {
         "error_y": {
          "array": [
           0.2,
           0.3,
           0.12,
           0.03,
           0.11,
           0.02,
           0.04,
           0.1,
           0.08,
           0.34,
           0.08,
           0.06,
           0.03,
           0.05,
           0.04
          ]
         },
         "hovertemplate": "color=R<br>x=%{x}<br>y=%{y}<extra></extra>",
         "legendgroup": "R",
         "marker": {
          "color": "#FECB52",
          "symbol": "circle"
         },
         "mode": "markers",
         "name": "R",
         "orientation": "v",
         "showlegend": true,
         "type": "scatter",
         "x": [
          4.179551791165188,
          4.643316444579379,
          5.109352398443482,
          5.1094367959706535,
          5.482243113481062,
          5.609815021730026,
          5.8765339750479955,
          5.9217920456211965,
          6.005417164256341,
          6.065314501278312,
          6.072737827780135,
          6.100438096783088,
          6.346571005967678,
          6.379108689701009,
          6.423416477183722
         ],
         "xaxis": "x",
         "y": [
          20.995083252007152,
          20.43489582569808,
          19.10489582569808,
          20.67489582569808,
          19.28489582569808,
          21.704621154402165,
          21.27462115440217,
          21.45,
          21.144621154402166,
          20.08489582569808,
          21.054621154402167,
          21.25,
          21.214621154402167,
          21.234621154402166,
          21.374621154402167
         ],
         "yaxis": "y"
        },
        {
         "error_y": {
          "array": [
           0.335,
           0.1,
           0.08,
           0.2,
           0.315,
           0.06,
           0.06,
           0.09
          ]
         },
         "hovertemplate": "color=B<br>x=%{x}<br>y=%{y}<extra></extra>",
         "legendgroup": "B",
         "marker": {
          "color": "#636efa",
          "symbol": "circle"
         },
         "mode": "markers",
         "name": "B",
         "orientation": "v",
         "showlegend": true,
         "type": "scatter",
         "x": [
          4.314743357889255,
          5.608542934363644,
          5.760967723458867,
          6.072610862873327,
          6.282134985931081,
          6.346452733346236,
          6.379155710186435,
          6.423346290877165
         ],
         "xaxis": "x",
         "y": [
          20.95,
          23.31847021416744,
          22.92847021416744,
          22.65847021416744,
          21.54,
          23.41847021416744,
          23.36847021416744,
          23.58847021416744
         ],
         "yaxis": "y"
        },
        {
         "error_y": {
          "array": [
           0.08,
           0.06,
           0.08,
           0.06,
           0.08,
           0.05,
           0.07,
           0.05
          ]
         },
         "hovertemplate": "color=I<br>x=%{x}<br>y=%{y}<extra></extra>",
         "legendgroup": "I",
         "marker": {
          "color": "#EF553B",
          "symbol": "circle"
         },
         "mode": "markers",
         "name": "I",
         "orientation": "v",
         "showlegend": true,
         "type": "scatter",
         "x": [
          4.711393820114223,
          5.609354040219394,
          5.87688286435766,
          6.005491273747251,
          6.072769563208017,
          6.346587899427414,
          6.379140037256935,
          6.423444784416652
         ],
         "xaxis": "x",
         "y": [
          22.19,
          21.56050235118384,
          21.15050235118384,
          20.87050235118384,
          20.78050235118384,
          20.84050235118384,
          20.79050235118384,
          20.87050235118384
         ],
         "yaxis": "y"
        },
        {
         "error_y": {
          "array": [
           0.1,
           0.05,
           0.07,
           0.06,
           0.05,
           0.08,
           0.06,
           0.1,
           0.1,
           0.16,
           0.06,
           0.11,
           0.11,
           0.1,
           0.09,
           0.08,
           0.07,
           0.06,
           0.11,
           0.07,
           0.04,
           0.07,
           0.15,
           0.05,
           0.18,
           0.2
          ]
         },
         "hovertemplate": "color=g<br>x=%{x}<br>y=%{y}<extra></extra>",
         "legendgroup": "g",
         "marker": {
          "color": "#00cc96",
          "symbol": "circle"
         },
         "mode": "markers",
         "name": "g",
         "orientation": "v",
         "showlegend": true,
         "type": "scatter",
         "x": [
          4.77497656367104,
          4.790299241422002,
          4.803156556367429,
          4.805385302783493,
          4.811575005870593,
          4.815464843646535,
          4.83326188823779,
          4.877146652677609,
          5.183728102884171,
          5.192598114894083,
          5.531844081779269,
          5.596404864037304,
          5.755711164380804,
          5.8768947428884575,
          5.920284695170196,
          5.9663097839231405,
          6.00030511495704,
          6.100009310085514,
          6.10290376537083,
          6.111119293878275,
          6.23107258008563,
          6.231401790342751,
          6.24965242866305,
          6.393445685240427,
          6.422553991843356,
          6.5266488603488675
         ],
         "xaxis": "x",
         "y": [
          22.21,
          22.12,
          22.15,
          22.22,
          21.519513203617915,
          22.11,
          22.18,
          22.14,
          22.59,
          22.79,
          22.86,
          22.690691643802904,
          22.560691643802905,
          22.38,
          22.300691643802903,
          22.35,
          22.240691643802904,
          22.270691643802905,
          22.14,
          22.16,
          22.22,
          22.19,
          22.470691643802905,
          22.82,
          22.980691643802903,
          23.29
         ],
         "yaxis": "y"
        },
        {
         "error_y": {
          "array": [
           0.2,
           0.11,
           0.11,
           0.17,
           0.16,
           0.27,
           0.07,
           0.15,
           0.08,
           0.12,
           0.13,
           0.08,
           0.07,
           0.06,
           0.04,
           0.07,
           0.15,
           0.07,
           0.12,
           0.06,
           0.12
          ]
         },
         "hovertemplate": "color=z<br>x=%{x}<br>y=%{y}<extra></extra>",
         "legendgroup": "z",
         "marker": {
          "color": "#ab63fa",
          "symbol": "circle"
         },
         "mode": "markers",
         "name": "z",
         "orientation": "v",
         "showlegend": true,
         "type": "scatter",
         "x": [
          4.77497656367104,
          4.803054045415026,
          4.8169369398277855,
          4.83326188823779,
          5.183728102884171,
          5.192598114894083,
          5.534512192951729,
          5.8768947428884575,
          5.960896301269817,
          5.9663097839231405,
          6.049087714778449,
          6.102349720239536,
          6.103135350913509,
          6.111742594046372,
          6.23037789564956,
          6.23107258008563,
          6.393024045449845,
          6.393445685240427,
          6.407752637519889,
          6.43725797749542,
          6.5266488603488675
         ],
         "xaxis": "x",
         "y": [
          22.01,
          22.09,
          22.16,
          22.37,
          22.17,
          22.28,
          22.59,
          21.86,
          21.93,
          21.78,
          21.44,
          21.594198432774714,
          21.58,
          21.63,
          21.48,
          21.48,
          21.74,
          21.62,
          21.59,
          21.86,
          21.81
         ],
         "yaxis": "y"
        },
        {
         "error_y": {
          "array": [
           0.03,
           0.08,
           0.08,
           0.03,
           0.06,
           0.07
          ]
         },
         "hovertemplate": "color=V<br>x=%{x}<br>y=%{y}<extra></extra>",
         "legendgroup": "V",
         "marker": {
          "color": "#FFA15A",
          "symbol": "circle"
         },
         "mode": "markers",
         "name": "V",
         "orientation": "v",
         "showlegend": true,
         "type": "scatter",
         "x": [
          5.609354040219394,
          6.005380104767987,
          6.072674349966465,
          6.346554111850783,
          6.3790930150745,
          6.423402322875329
         ],
         "xaxis": "x",
         "y": [
          21.78398897906229,
          21.23398897906229,
          21.18398897906229,
          21.56398897906229,
          21.51398897906229,
          21.75398897906229
         ],
         "yaxis": "y"
        },
        {
         "error_y": {
          "array": [
           0.17
          ]
         },
         "hovertemplate": "color=Y<br>x=%{x}<br>y=%{y}<extra></extra>",
         "legendgroup": "Y",
         "marker": {
          "color": "#19d3f3",
          "symbol": "circle"
         },
         "mode": "markers",
         "name": "Y",
         "orientation": "v",
         "showlegend": true,
         "type": "scatter",
         "x": [
          5.962630686191833
         ],
         "xaxis": "x",
         "y": [
          21.93
         ],
         "yaxis": "y"
        },
        {
         "error_y": {
          "array": [
           0.14
          ]
         },
         "hovertemplate": "color=K<br>x=%{x}<br>y=%{y}<extra></extra>",
         "legendgroup": "K",
         "marker": {
          "color": "#FF6692",
          "symbol": "circle"
         },
         "mode": "markers",
         "name": "K",
         "orientation": "v",
         "showlegend": true,
         "type": "scatter",
         "x": [
          6.110776517742742
         ],
         "xaxis": "x",
         "y": [
          21.46
         ],
         "yaxis": "y"
        }
       ],
       "layout": {
        "font": {
         "color": "black",
         "family": "arial",
         "size": 18
        },
        "height": 540,
        "legend": {
         "font": {
          "color": "black",
          "family": "arial",
          "size": 18
         },
         "title": {
          "font": {
           "color": "black",
           "family": "arial",
           "size": 22
          },
          "text": "Filters"
         },
         "tracegroupgap": 0
        },
        "margin": {
         "b": 40,
         "l": 40,
         "r": 40,
         "t": 50
        },
        "plot_bgcolor": "white",
        "template": {
         "data": {
          "bar": [
           {
            "error_x": {
             "color": "#2a3f5f"
            },
            "error_y": {
             "color": "#2a3f5f"
            },
            "marker": {
             "line": {
              "color": "#E5ECF6",
              "width": 0.5
             },
             "pattern": {
              "fillmode": "overlay",
              "size": 10,
              "solidity": 0.2
             }
            },
            "type": "bar"
           }
          ],
          "barpolar": [
           {
            "marker": {
             "line": {
              "color": "#E5ECF6",
              "width": 0.5
             },
             "pattern": {
              "fillmode": "overlay",
              "size": 10,
              "solidity": 0.2
             }
            },
            "type": "barpolar"
           }
          ],
          "carpet": [
           {
            "aaxis": {
             "endlinecolor": "#2a3f5f",
             "gridcolor": "white",
             "linecolor": "white",
             "minorgridcolor": "white",
             "startlinecolor": "#2a3f5f"
            },
            "baxis": {
             "endlinecolor": "#2a3f5f",
             "gridcolor": "white",
             "linecolor": "white",
             "minorgridcolor": "white",
             "startlinecolor": "#2a3f5f"
            },
            "type": "carpet"
           }
          ],
          "choropleth": [
           {
            "colorbar": {
             "outlinewidth": 0,
             "ticks": ""
            },
            "type": "choropleth"
           }
          ],
          "contour": [
           {
            "colorbar": {
             "outlinewidth": 0,
             "ticks": ""
            },
            "colorscale": [
             [
              0,
              "#0d0887"
             ],
             [
              0.1111111111111111,
              "#46039f"
             ],
             [
              0.2222222222222222,
              "#7201a8"
             ],
             [
              0.3333333333333333,
              "#9c179e"
             ],
             [
              0.4444444444444444,
              "#bd3786"
             ],
             [
              0.5555555555555556,
              "#d8576b"
             ],
             [
              0.6666666666666666,
              "#ed7953"
             ],
             [
              0.7777777777777778,
              "#fb9f3a"
             ],
             [
              0.8888888888888888,
              "#fdca26"
             ],
             [
              1,
              "#f0f921"
             ]
            ],
            "type": "contour"
           }
          ],
          "contourcarpet": [
           {
            "colorbar": {
             "outlinewidth": 0,
             "ticks": ""
            },
            "type": "contourcarpet"
           }
          ],
          "heatmap": [
           {
            "colorbar": {
             "outlinewidth": 0,
             "ticks": ""
            },
            "colorscale": [
             [
              0,
              "#0d0887"
             ],
             [
              0.1111111111111111,
              "#46039f"
             ],
             [
              0.2222222222222222,
              "#7201a8"
             ],
             [
              0.3333333333333333,
              "#9c179e"
             ],
             [
              0.4444444444444444,
              "#bd3786"
             ],
             [
              0.5555555555555556,
              "#d8576b"
             ],
             [
              0.6666666666666666,
              "#ed7953"
             ],
             [
              0.7777777777777778,
              "#fb9f3a"
             ],
             [
              0.8888888888888888,
              "#fdca26"
             ],
             [
              1,
              "#f0f921"
             ]
            ],
            "type": "heatmap"
           }
          ],
          "heatmapgl": [
           {
            "colorbar": {
             "outlinewidth": 0,
             "ticks": ""
            },
            "colorscale": [
             [
              0,
              "#0d0887"
             ],
             [
              0.1111111111111111,
              "#46039f"
             ],
             [
              0.2222222222222222,
              "#7201a8"
             ],
             [
              0.3333333333333333,
              "#9c179e"
             ],
             [
              0.4444444444444444,
              "#bd3786"
             ],
             [
              0.5555555555555556,
              "#d8576b"
             ],
             [
              0.6666666666666666,
              "#ed7953"
             ],
             [
              0.7777777777777778,
              "#fb9f3a"
             ],
             [
              0.8888888888888888,
              "#fdca26"
             ],
             [
              1,
              "#f0f921"
             ]
            ],
            "type": "heatmapgl"
           }
          ],
          "histogram": [
           {
            "marker": {
             "pattern": {
              "fillmode": "overlay",
              "size": 10,
              "solidity": 0.2
             }
            },
            "type": "histogram"
           }
          ],
          "histogram2d": [
           {
            "colorbar": {
             "outlinewidth": 0,
             "ticks": ""
            },
            "colorscale": [
             [
              0,
              "#0d0887"
             ],
             [
              0.1111111111111111,
              "#46039f"
             ],
             [
              0.2222222222222222,
              "#7201a8"
             ],
             [
              0.3333333333333333,
              "#9c179e"
             ],
             [
              0.4444444444444444,
              "#bd3786"
             ],
             [
              0.5555555555555556,
              "#d8576b"
             ],
             [
              0.6666666666666666,
              "#ed7953"
             ],
             [
              0.7777777777777778,
              "#fb9f3a"
             ],
             [
              0.8888888888888888,
              "#fdca26"
             ],
             [
              1,
              "#f0f921"
             ]
            ],
            "type": "histogram2d"
           }
          ],
          "histogram2dcontour": [
           {
            "colorbar": {
             "outlinewidth": 0,
             "ticks": ""
            },
            "colorscale": [
             [
              0,
              "#0d0887"
             ],
             [
              0.1111111111111111,
              "#46039f"
             ],
             [
              0.2222222222222222,
              "#7201a8"
             ],
             [
              0.3333333333333333,
              "#9c179e"
             ],
             [
              0.4444444444444444,
              "#bd3786"
             ],
             [
              0.5555555555555556,
              "#d8576b"
             ],
             [
              0.6666666666666666,
              "#ed7953"
             ],
             [
              0.7777777777777778,
              "#fb9f3a"
             ],
             [
              0.8888888888888888,
              "#fdca26"
             ],
             [
              1,
              "#f0f921"
             ]
            ],
            "type": "histogram2dcontour"
           }
          ],
          "mesh3d": [
           {
            "colorbar": {
             "outlinewidth": 0,
             "ticks": ""
            },
            "type": "mesh3d"
           }
          ],
          "parcoords": [
           {
            "line": {
             "colorbar": {
              "outlinewidth": 0,
              "ticks": ""
             }
            },
            "type": "parcoords"
           }
          ],
          "pie": [
           {
            "automargin": true,
            "type": "pie"
           }
          ],
          "scatter": [
           {
            "fillpattern": {
             "fillmode": "overlay",
             "size": 10,
             "solidity": 0.2
            },
            "type": "scatter"
           }
          ],
          "scatter3d": [
           {
            "line": {
             "colorbar": {
              "outlinewidth": 0,
              "ticks": ""
             }
            },
            "marker": {
             "colorbar": {
              "outlinewidth": 0,
              "ticks": ""
             }
            },
            "type": "scatter3d"
           }
          ],
          "scattercarpet": [
           {
            "marker": {
             "colorbar": {
              "outlinewidth": 0,
              "ticks": ""
             }
            },
            "type": "scattercarpet"
           }
          ],
          "scattergeo": [
           {
            "marker": {
             "colorbar": {
              "outlinewidth": 0,
              "ticks": ""
             }
            },
            "type": "scattergeo"
           }
          ],
          "scattergl": [
           {
            "marker": {
             "colorbar": {
              "outlinewidth": 0,
              "ticks": ""
             }
            },
            "type": "scattergl"
           }
          ],
          "scattermapbox": [
           {
            "marker": {
             "colorbar": {
              "outlinewidth": 0,
              "ticks": ""
             }
            },
            "type": "scattermapbox"
           }
          ],
          "scatterpolar": [
           {
            "marker": {
             "colorbar": {
              "outlinewidth": 0,
              "ticks": ""
             }
            },
            "type": "scatterpolar"
           }
          ],
          "scatterpolargl": [
           {
            "marker": {
             "colorbar": {
              "outlinewidth": 0,
              "ticks": ""
             }
            },
            "type": "scatterpolargl"
           }
          ],
          "scatterternary": [
           {
            "marker": {
             "colorbar": {
              "outlinewidth": 0,
              "ticks": ""
             }
            },
            "type": "scatterternary"
           }
          ],
          "surface": [
           {
            "colorbar": {
             "outlinewidth": 0,
             "ticks": ""
            },
            "colorscale": [
             [
              0,
              "#0d0887"
             ],
             [
              0.1111111111111111,
              "#46039f"
             ],
             [
              0.2222222222222222,
              "#7201a8"
             ],
             [
              0.3333333333333333,
              "#9c179e"
             ],
             [
              0.4444444444444444,
              "#bd3786"
             ],
             [
              0.5555555555555556,
              "#d8576b"
             ],
             [
              0.6666666666666666,
              "#ed7953"
             ],
             [
              0.7777777777777778,
              "#fb9f3a"
             ],
             [
              0.8888888888888888,
              "#fdca26"
             ],
             [
              1,
              "#f0f921"
             ]
            ],
            "type": "surface"
           }
          ],
          "table": [
           {
            "cells": {
             "fill": {
              "color": "#EBF0F8"
             },
             "line": {
              "color": "white"
             }
            },
            "header": {
             "fill": {
              "color": "#C8D4E3"
             },
             "line": {
              "color": "white"
             }
            },
            "type": "table"
           }
          ]
         },
         "layout": {
          "annotationdefaults": {
           "arrowcolor": "#2a3f5f",
           "arrowhead": 0,
           "arrowwidth": 1
          },
          "autotypenumbers": "strict",
          "coloraxis": {
           "colorbar": {
            "outlinewidth": 0,
            "ticks": ""
           }
          },
          "colorscale": {
           "diverging": [
            [
             0,
             "#8e0152"
            ],
            [
             0.1,
             "#c51b7d"
            ],
            [
             0.2,
             "#de77ae"
            ],
            [
             0.3,
             "#f1b6da"
            ],
            [
             0.4,
             "#fde0ef"
            ],
            [
             0.5,
             "#f7f7f7"
            ],
            [
             0.6,
             "#e6f5d0"
            ],
            [
             0.7,
             "#b8e186"
            ],
            [
             0.8,
             "#7fbc41"
            ],
            [
             0.9,
             "#4d9221"
            ],
            [
             1,
             "#276419"
            ]
           ],
           "sequential": [
            [
             0,
             "#0d0887"
            ],
            [
             0.1111111111111111,
             "#46039f"
            ],
            [
             0.2222222222222222,
             "#7201a8"
            ],
            [
             0.3333333333333333,
             "#9c179e"
            ],
            [
             0.4444444444444444,
             "#bd3786"
            ],
            [
             0.5555555555555556,
             "#d8576b"
            ],
            [
             0.6666666666666666,
             "#ed7953"
            ],
            [
             0.7777777777777778,
             "#fb9f3a"
            ],
            [
             0.8888888888888888,
             "#fdca26"
            ],
            [
             1,
             "#f0f921"
            ]
           ],
           "sequentialminus": [
            [
             0,
             "#0d0887"
            ],
            [
             0.1111111111111111,
             "#46039f"
            ],
            [
             0.2222222222222222,
             "#7201a8"
            ],
            [
             0.3333333333333333,
             "#9c179e"
            ],
            [
             0.4444444444444444,
             "#bd3786"
            ],
            [
             0.5555555555555556,
             "#d8576b"
            ],
            [
             0.6666666666666666,
             "#ed7953"
            ],
            [
             0.7777777777777778,
             "#fb9f3a"
            ],
            [
             0.8888888888888888,
             "#fdca26"
            ],
            [
             1,
             "#f0f921"
            ]
           ]
          },
          "colorway": [
           "#636efa",
           "#EF553B",
           "#00cc96",
           "#ab63fa",
           "#FFA15A",
           "#19d3f3",
           "#FF6692",
           "#B6E880",
           "#FF97FF",
           "#FECB52"
          ],
          "font": {
           "color": "#2a3f5f"
          },
          "geo": {
           "bgcolor": "white",
           "lakecolor": "white",
           "landcolor": "#E5ECF6",
           "showlakes": true,
           "showland": true,
           "subunitcolor": "white"
          },
          "hoverlabel": {
           "align": "left"
          },
          "hovermode": "closest",
          "mapbox": {
           "style": "light"
          },
          "paper_bgcolor": "white",
          "plot_bgcolor": "#E5ECF6",
          "polar": {
           "angularaxis": {
            "gridcolor": "white",
            "linecolor": "white",
            "ticks": ""
           },
           "bgcolor": "#E5ECF6",
           "radialaxis": {
            "gridcolor": "white",
            "linecolor": "white",
            "ticks": ""
           }
          },
          "scene": {
           "xaxis": {
            "backgroundcolor": "#E5ECF6",
            "gridcolor": "white",
            "gridwidth": 2,
            "linecolor": "white",
            "showbackground": true,
            "ticks": "",
            "zerolinecolor": "white"
           },
           "yaxis": {
            "backgroundcolor": "#E5ECF6",
            "gridcolor": "white",
            "gridwidth": 2,
            "linecolor": "white",
            "showbackground": true,
            "ticks": "",
            "zerolinecolor": "white"
           },
           "zaxis": {
            "backgroundcolor": "#E5ECF6",
            "gridcolor": "white",
            "gridwidth": 2,
            "linecolor": "white",
            "showbackground": true,
            "ticks": "",
            "zerolinecolor": "white"
           }
          },
          "shapedefaults": {
           "line": {
            "color": "#2a3f5f"
           }
          },
          "ternary": {
           "aaxis": {
            "gridcolor": "white",
            "linecolor": "white",
            "ticks": ""
           },
           "baxis": {
            "gridcolor": "white",
            "linecolor": "white",
            "ticks": ""
           },
           "bgcolor": "#E5ECF6",
           "caxis": {
            "gridcolor": "white",
            "linecolor": "white",
            "ticks": ""
           }
          },
          "title": {
           "x": 0.05
          },
          "xaxis": {
           "automargin": true,
           "gridcolor": "white",
           "linecolor": "white",
           "ticks": "",
           "title": {
            "standoff": 15
           },
           "zerolinecolor": "white",
           "zerolinewidth": 2
          },
          "yaxis": {
           "automargin": true,
           "gridcolor": "white",
           "linecolor": "white",
           "ticks": "",
           "title": {
            "standoff": 15
           },
           "zerolinecolor": "white",
           "zerolinewidth": 2
          }
         }
        },
        "title": {
         "font": {
          "size": 25
         },
         "text": "GRB 120422A"
        },
        "width": 960,
        "xaxis": {
         "anchor": "y",
         "domain": [
          0,
          1
         ],
         "linecolor": "black",
         "linewidth": 2.4,
         "mirror": "allticks",
         "showgrid": false,
         "showline": true,
         "showticklabels": true,
         "tickcolor": "black",
         "tickfont": {
          "color": "black",
          "family": "arial",
          "size": 18
         },
         "ticks": "outside",
         "tickwidth": 2.4,
         "title": {
          "font": {
           "color": "black",
           "size": 20
          },
          "text": "<b>log10 Time (s)<b>"
         }
        },
        "yaxis": {
         "anchor": "x",
         "autorange": "reversed",
         "domain": [
          0,
          1
         ],
         "linecolor": "black",
         "linewidth": 2.4,
         "mirror": "allticks",
         "showgrid": false,
         "showline": true,
         "showticklabels": true,
         "tickcolor": "black",
         "tickfont": {
          "color": "black",
          "family": "arial",
          "size": 18
         },
         "ticks": "outside",
         "tickwidth": 2.4,
         "title": {
          "font": {
           "color": "black",
           "size": 20
          },
          "text": "<b>Magnitude<b>"
         }
        }
       }
      }
     },
     "metadata": {},
     "output_type": "display_data"
    }
   ],
   "source": [
    "grb = '120422A'\n",
    "\n",
    "lc = Lightcurve(path = 'D:/naoj-grb/egs/'+grb+'_magAB_extcorr.txt',\n",
    "                #data_space= 'lin',\n",
    "                name = grb)\n",
    "lc.displayGRB()"
   ]
  },
  {
   "cell_type": "code",
   "execution_count": null,
   "metadata": {},
   "outputs": [],
   "source": [
    "#lc.set_data(set_bands=True)"
   ]
  },
  {
   "cell_type": "code",
   "execution_count": 6,
   "metadata": {},
   "outputs": [
    {
     "name": "stdout",
     "output_type": "stream",
     "text": [
      "120422A\n",
      "\n",
      "\n",
      "-------\n",
      "i        58\n",
      "r        46\n",
      "g        26\n",
      "z        21\n",
      "R        12\n",
      "J        10\n",
      "I         8\n",
      "V         6\n",
      "H         6\n",
      "U         5\n",
      "B         4\n",
      "white     3\n",
      "UVW1      3\n",
      "UVM2      3\n",
      "UVW2      2\n",
      "Y         1\n",
      "K         1\n",
      "Name: band_approx, dtype: int64\n",
      "\n",
      " The filter chosen in this GRB:  i , with 58 occurrences.\n",
      "This filter will be considered for rescaling\n"
     ]
    },
    {
     "name": "stderr",
     "output_type": "stream",
     "text": [
      "D:\\naoj-grb/archive-grblc/grbLC-dev\\grblc\\evolution\\lightcurve.py:531: RuntimeWarning:\n",
      "\n",
      "divide by zero encountered in double_scalars\n",
      "\n"
     ]
    },
    {
     "name": "stdout",
     "output_type": "stream",
     "text": [
      "Individual point rescaling:\n",
      "    band  Occur_band  Log10(t)  Resc_fact  Resc_fact_err  Resc_fact_weights  \\\n",
      "0      g          26  4.774977  -0.200000       0.205913           4.856429   \n",
      "1      r          46  4.774977  -0.180000       0.228035           4.385290   \n",
      "2      z          21  4.774977   0.000000       0.269072           3.716471   \n",
      "3      g          26  4.790299   0.010000       0.086023          11.624764   \n",
      "4      r          46  4.790299  -0.040000       0.098995          10.101525   \n",
      "5      z          21  4.803054   0.180000       0.148661           6.726728   \n",
      "6      r          46  4.803157   0.250000       0.111803           8.944272   \n",
      "7      g          26  4.803157   0.120000       0.122066           8.192319   \n",
      "8      g          26  4.805385   0.050000       0.116619           8.574929   \n",
      "9      r          46  4.809284   0.060000       0.078102          12.803688   \n",
      "10     g          26  4.811575  -0.284197       0.111803           8.944272   \n",
      "11     r          46  4.811575  -0.267520       0.111803           8.944272   \n",
      "12     r          46  4.815465  -0.984684       0.122066           8.192319   \n",
      "13     g          26  4.815465  -0.874684       0.128062           7.808688   \n",
      "14     z          21  4.816937  -0.924684       0.148661           6.726728   \n",
      "15     z          21  4.833262  -0.050000       0.192354           5.198752   \n",
      "16     r          46  4.833262   0.200000       0.120416           8.304548   \n",
      "17     g          26  4.833262   0.140000       0.108167           9.245003   \n",
      "18     r          46  4.871322  -0.050000       0.197231           5.070201   \n",
      "19     r          46  5.137145   0.200000       0.144222           6.933752   \n",
      "20     r          46  5.183728   0.160000       0.183576           5.447347   \n",
      "21     z          21  5.183728   0.330000       0.226274           4.419417   \n",
      "22     g          26  5.183728  -0.090000       0.188680           5.299989   \n",
      "23     r          46  5.192598   0.120000       0.224722           4.449942   \n",
      "24     z          21  5.192598   0.310000       0.330151           3.028913   \n",
      "25     g          26  5.192598  -0.200000       0.248395           4.025848   \n",
      "26     r          46  5.359562   0.140000       0.143178           6.984303   \n",
      "27     r          46  5.497257   0.280000       0.084853          11.785113   \n",
      "28     g          26  5.531844  -0.570000       0.084853          11.785113   \n",
      "29     r          46  5.532742   0.170000       0.084853          11.785113   \n",
      "30     z          21  5.534512  -0.300000       0.092195          10.846523   \n",
      "31     g          26  5.596405  -0.510692       0.136015           7.352146   \n",
      "32     r          46  5.597544   0.418799       0.128062           7.808688   \n",
      "33     r          46  5.754986   0.183975       0.144222           6.933752   \n",
      "34     g          26  5.755711  -0.825516       0.162788           6.142951   \n",
      "35     B           4  5.760968  -1.193294       0.144222           6.933752   \n",
      "36     R          12  5.876534   0.285379       0.089443          11.180340   \n",
      "37     I           8  5.876883   0.409498       0.113137           8.838835   \n",
      "38     z          21  5.876895  -0.300000       0.170000           5.882353   \n",
      "39     r          46  5.876895   0.080000       0.094340          10.599979   \n",
      "40     g          26  5.876895  -0.820000       0.128062           7.808688   \n",
      "41     J          10  5.918877  -0.124824       0.177200           5.643326   \n",
      "42     r          46  5.919292   0.083975       0.064031          15.617376   \n",
      "43     g          26  5.920285  -0.825516       0.102956           9.712859   \n",
      "44     R          12  5.921792   0.070000       0.128062           7.808688   \n",
      "45     J          10  5.931674  -0.160000       0.178885           5.590170   \n",
      "46     z          21  5.960896  -0.440000       0.094340          10.599979   \n",
      "47     Y           1  5.962631  -0.440000       0.177200           5.643326   \n",
      "48     J          10  5.964763  -0.340000       0.206155           4.850713   \n",
      "49     g          26  5.966310  -0.860000       0.094340          10.599979   \n",
      "50     z          21  5.966310  -0.290000       0.130000           7.692308   \n",
      "51     r          46  5.966310   0.160000       0.064031          15.617376   \n",
      "52     r          46  6.038723   0.033975       0.056569          17.677670   \n",
      "53     U           5  6.040186  -1.664824       0.160078           6.246950   \n",
      "54     J          10  6.048274  -0.414824       0.243311           4.109975   \n",
      "55     z          21  6.049088  -0.104824       0.136015           7.352146   \n",
      "56     g          26  6.100009  -0.945516       0.078102          12.803688   \n",
      "57     R          12  6.100438   0.075176       0.078102          12.803688   \n",
      "58     r          46  6.101535   0.178799       0.070711          14.142136   \n",
      "59     z          21  6.102350  -0.324198       0.100000          10.000000   \n",
      "60     g          26  6.102904  -0.870000       0.125300           7.980869   \n",
      "61     r          46  6.102976  -0.100000       0.152315           6.565322   \n",
      "62     z          21  6.103135  -0.310000       0.092195          10.846523   \n",
      "63     K           1  6.110777  -0.170000       0.148661           6.726728   \n",
      "64     g          26  6.111119  -0.870000       0.086023          11.624764   \n",
      "65     r          46  6.111374   0.030000       0.070711          14.142136   \n",
      "66     z          21  6.111743  -0.340000       0.078102          12.803688   \n",
      "67     J          10  6.112107  -0.670000       0.120830           8.276059   \n",
      "68     z          21  6.230378  -0.210000       0.050000          20.000000   \n",
      "69     z          21  6.231073  -0.210000       0.076158          13.130643   \n",
      "70     r          46  6.231073   0.060000       0.050000          20.000000   \n",
      "71     g          26  6.231073  -0.950000       0.050000          20.000000   \n",
      "72     g          26  6.231402  -0.950000       0.080623          12.403473   \n",
      "73     r          46  6.231673  -0.030000       0.064031          15.617376   \n",
      "74     g          26  6.249652  -1.275516       0.161555           6.189845   \n",
      "75     r          46  6.250665  -0.166025       0.092195          10.846523   \n",
      "76     B           4  6.282135  -0.320000       0.344710           2.900989   \n",
      "77     r          46  6.291794  -0.050000       0.161555           6.189845   \n",
      "78     r          46  6.327655   0.050000       0.187883           5.322463   \n",
      "79     J          10  6.351170  -0.610000       0.158114           6.324555   \n",
      "80     r          46  6.361330  -0.190000       0.070711          14.142136   \n",
      "81     r          46  6.362501  -0.220000       0.064031          15.617376   \n",
      "82     r          46  6.363467  -0.220000       0.056569          17.677670   \n",
      "83     z          21  6.393024  -0.390000       0.158114           6.324555   \n",
      "84     z          21  6.393446  -0.150000       0.092195          10.846523   \n",
      "85     r          46  6.393446  -0.180000       0.072111          13.867505   \n",
      "86     g          26  6.393446  -1.350000       0.078102          12.803688   \n",
      "87     r          46  6.393731  -0.070000       0.100000          10.000000   \n",
      "88     r          46  6.394063  -0.170000       0.064031          15.617376   \n",
      "89     z          21  6.407753  -0.200000       0.134164           7.453560   \n",
      "90     r          46  6.422255  -0.344824       0.156525           6.388766   \n",
      "91     r          46  6.422398  -0.246025       0.197990           5.050763   \n",
      "92     g          26  6.422554  -1.535516       0.228035           4.385290   \n",
      "93     r          46  6.423162  -0.330000       0.072111          13.867505   \n",
      "94     V           6  6.423402  -0.353989       0.092195          10.846523   \n",
      "95     R          12  6.423416   0.025379       0.072111          13.867505   \n",
      "96     I           8  6.423445   0.529498       0.078102          12.803688   \n",
      "97     r          46  6.436972  -0.150000       0.089443          11.180340   \n",
      "98     z          21  6.437258  -0.240000       0.072111          13.867505   \n",
      "99     r          46  6.449818  -0.330000       0.106301           9.407209   \n",
      "100    r          46  6.488174  -0.176025       0.212132           4.714045   \n",
      "101    g          26  6.526649  -1.230000       0.233238           4.287465   \n",
      "102    r          46  6.526649  -0.370000       0.162788           6.142951   \n",
      "103    z          21  6.526649   0.250000       0.169706           5.892557   \n",
      "104    r          46  6.545617  -0.330000       0.155563           6.428243   \n",
      "105    r          46  6.585992  -0.240000       0.514782           1.942572   \n",
      "\n",
      "                                            plot_color  \n",
      "0    (0.0, 0.10646629522482942, 0.6740014539148994,...  \n",
      "1    (1.0, 0.6973093753348327, 0.051264165666266424...  \n",
      "2               (0.0, 0.9804, 0.5322025367022871, 1.0)  \n",
      "3    (0.0, 0.10646629522482942, 0.6740014539148994,...  \n",
      "4    (1.0, 0.6973093753348327, 0.051264165666266424...  \n",
      "5               (0.0, 0.9804, 0.5322025367022871, 1.0)  \n",
      "6    (1.0, 0.6973093753348327, 0.051264165666266424...  \n",
      "7    (0.0, 0.10646629522482942, 0.6740014539148994,...  \n",
      "8    (0.0, 0.10646629522482942, 0.6740014539148994,...  \n",
      "9    (1.0, 0.6973093753348327, 0.051264165666266424...  \n",
      "10   (0.0, 0.10646629522482942, 0.6740014539148994,...  \n",
      "11   (1.0, 0.6973093753348327, 0.051264165666266424...  \n",
      "12   (1.0, 0.6973093753348327, 0.051264165666266424...  \n",
      "13   (0.0, 0.10646629522482942, 0.6740014539148994,...  \n",
      "14              (0.0, 0.9804, 0.5322025367022871, 1.0)  \n",
      "15              (0.0, 0.9804, 0.5322025367022871, 1.0)  \n",
      "16   (1.0, 0.6973093753348327, 0.051264165666266424...  \n",
      "17   (0.0, 0.10646629522482942, 0.6740014539148994,...  \n",
      "18   (1.0, 0.6973093753348327, 0.051264165666266424...  \n",
      "19   (1.0, 0.6973093753348327, 0.051264165666266424...  \n",
      "20   (1.0, 0.6973093753348327, 0.051264165666266424...  \n",
      "21              (0.0, 0.9804, 0.5322025367022871, 1.0)  \n",
      "22   (0.0, 0.10646629522482942, 0.6740014539148994,...  \n",
      "23   (1.0, 0.6973093753348327, 0.051264165666266424...  \n",
      "24              (0.0, 0.9804, 0.5322025367022871, 1.0)  \n",
      "25   (0.0, 0.10646629522482942, 0.6740014539148994,...  \n",
      "26   (1.0, 0.6973093753348327, 0.051264165666266424...  \n",
      "27   (1.0, 0.6973093753348327, 0.051264165666266424...  \n",
      "28   (0.0, 0.10646629522482942, 0.6740014539148994,...  \n",
      "29   (1.0, 0.6973093753348327, 0.051264165666266424...  \n",
      "30              (0.0, 0.9804, 0.5322025367022871, 1.0)  \n",
      "31   (0.0, 0.10646629522482942, 0.6740014539148994,...  \n",
      "32   (1.0, 0.6973093753348327, 0.051264165666266424...  \n",
      "33   (1.0, 0.6973093753348327, 0.051264165666266424...  \n",
      "34   (0.0, 0.10646629522482942, 0.6740014539148994,...  \n",
      "35   (0.6432103807278832, 1.0, 0.15614114312391633,...  \n",
      "36                 (1.0, 0.9420467302403656, 0.0, 1.0)  \n",
      "37                (1.0, 0.07459915966386546, 0.0, 1.0)  \n",
      "38              (0.0, 0.9804, 0.5322025367022871, 1.0)  \n",
      "39   (1.0, 0.6973093753348327, 0.051264165666266424...  \n",
      "40   (0.0, 0.10646629522482942, 0.6740014539148994,...  \n",
      "41   (0.3496637770897833, 0.8227525720876585, 0.0, ...  \n",
      "42   (1.0, 0.6973093753348327, 0.051264165666266424...  \n",
      "43   (0.0, 0.10646629522482942, 0.6740014539148994,...  \n",
      "44                 (1.0, 0.9420467302403656, 0.0, 1.0)  \n",
      "45   (0.3496637770897833, 0.8227525720876585, 0.0, ...  \n",
      "46              (0.0, 0.9804, 0.5322025367022871, 1.0)  \n",
      "47                              (0.0, 0.0, 0.502, 1.0)  \n",
      "48   (0.3496637770897833, 0.8227525720876585, 0.0, ...  \n",
      "49   (0.0, 0.10646629522482942, 0.6740014539148994,...  \n",
      "50              (0.0, 0.9804, 0.5322025367022871, 1.0)  \n",
      "51   (1.0, 0.6973093753348327, 0.051264165666266424...  \n",
      "52   (1.0, 0.6973093753348327, 0.051264165666266424...  \n",
      "53                 (0.0, 0.8443685659361784, 1.0, 1.0)  \n",
      "54   (0.3496637770897833, 0.8227525720876585, 0.0, ...  \n",
      "55              (0.0, 0.9804, 0.5322025367022871, 1.0)  \n",
      "56   (0.0, 0.10646629522482942, 0.6740014539148994,...  \n",
      "57                 (1.0, 0.9420467302403656, 0.0, 1.0)  \n",
      "58   (1.0, 0.6973093753348327, 0.051264165666266424...  \n",
      "59              (0.0, 0.9804, 0.5322025367022871, 1.0)  \n",
      "60   (0.0, 0.10646629522482942, 0.6740014539148994,...  \n",
      "61   (1.0, 0.6973093753348327, 0.051264165666266424...  \n",
      "62              (0.0, 0.9804, 0.5322025367022871, 1.0)  \n",
      "63   (0.9319016147635525, 0.5546799307958477, 0.941...  \n",
      "64   (0.0, 0.10646629522482942, 0.6740014539148994,...  \n",
      "65   (1.0, 0.6973093753348327, 0.051264165666266424...  \n",
      "66              (0.0, 0.9804, 0.5322025367022871, 1.0)  \n",
      "67   (0.3496637770897833, 0.8227525720876585, 0.0, ...  \n",
      "68              (0.0, 0.9804, 0.5322025367022871, 1.0)  \n",
      "69              (0.0, 0.9804, 0.5322025367022871, 1.0)  \n",
      "70   (1.0, 0.6973093753348327, 0.051264165666266424...  \n",
      "71   (0.0, 0.10646629522482942, 0.6740014539148994,...  \n",
      "72   (0.0, 0.10646629522482942, 0.6740014539148994,...  \n",
      "73   (1.0, 0.6973093753348327, 0.051264165666266424...  \n",
      "74   (0.0, 0.10646629522482942, 0.6740014539148994,...  \n",
      "75   (1.0, 0.6973093753348327, 0.051264165666266424...  \n",
      "76   (0.6432103807278832, 1.0, 0.15614114312391633,...  \n",
      "77   (1.0, 0.6973093753348327, 0.051264165666266424...  \n",
      "78   (1.0, 0.6973093753348327, 0.051264165666266424...  \n",
      "79   (0.3496637770897833, 0.8227525720876585, 0.0, ...  \n",
      "80   (1.0, 0.6973093753348327, 0.051264165666266424...  \n",
      "81   (1.0, 0.6973093753348327, 0.051264165666266424...  \n",
      "82   (1.0, 0.6973093753348327, 0.051264165666266424...  \n",
      "83              (0.0, 0.9804, 0.5322025367022871, 1.0)  \n",
      "84              (0.0, 0.9804, 0.5322025367022871, 1.0)  \n",
      "85   (1.0, 0.6973093753348327, 0.051264165666266424...  \n",
      "86   (0.0, 0.10646629522482942, 0.6740014539148994,...  \n",
      "87   (1.0, 0.6973093753348327, 0.051264165666266424...  \n",
      "88   (1.0, 0.6973093753348327, 0.051264165666266424...  \n",
      "89              (0.0, 0.9804, 0.5322025367022871, 1.0)  \n",
      "90   (1.0, 0.6973093753348327, 0.051264165666266424...  \n",
      "91   (1.0, 0.6973093753348327, 0.051264165666266424...  \n",
      "92   (0.0, 0.10646629522482942, 0.6740014539148994,...  \n",
      "93   (1.0, 0.6973093753348327, 0.051264165666266424...  \n",
      "94   (0.8111904139433548, 0.09439282715050662, 1.0,...  \n",
      "95                 (1.0, 0.9420467302403656, 0.0, 1.0)  \n",
      "96                (1.0, 0.07459915966386546, 0.0, 1.0)  \n",
      "97   (1.0, 0.6973093753348327, 0.051264165666266424...  \n",
      "98              (0.0, 0.9804, 0.5322025367022871, 1.0)  \n",
      "99   (1.0, 0.6973093753348327, 0.051264165666266424...  \n",
      "100  (1.0, 0.6973093753348327, 0.051264165666266424...  \n",
      "101  (0.0, 0.10646629522482942, 0.6740014539148994,...  \n",
      "102  (1.0, 0.6973093753348327, 0.051264165666266424...  \n",
      "103             (0.0, 0.9804, 0.5322025367022871, 1.0)  \n",
      "104  (1.0, 0.6973093753348327, 0.051264165666266424...  \n",
      "105  (1.0, 0.6973093753348327, 0.051264165666266424...  \n",
      "\n",
      "Slopes of rescale factors for each filter:\n",
      "  slope_lin slope_lin_err intercept inter_err slope_lin_err/slope_lin  \\\n",
      "Y       NaN           NaN       NaN       NaN                     NaN   \n",
      "g    -0.665         0.065     3.113     0.376                   0.098   \n",
      "U       NaN           NaN       NaN       NaN                     NaN   \n",
      "z     0.024         0.096    -0.388     0.585                     4.0   \n",
      "J    -1.143          0.47     6.504     2.859                   0.411   \n",
      "B       NaN           NaN       NaN       NaN                     NaN   \n",
      "R    -0.353         0.197     2.272      1.21                   0.558   \n",
      "r    -0.121         0.059     0.679     0.358                   0.488   \n",
      "I       NaN           NaN       NaN       NaN                     NaN   \n",
      "V       NaN           NaN       NaN       NaN                     NaN   \n",
      "K       NaN           NaN       NaN       NaN                     NaN   \n",
      "\n",
      "        red_chi2_lin           prob_lin            BIC_lin  \\\n",
      "Y  insufficient_data  insufficient_data  insufficient_data   \n",
      "g              3.231                0.0             32.414   \n",
      "U  insufficient_data  insufficient_data  insufficient_data   \n",
      "z              3.146           0.000001             28.054   \n",
      "J              1.073           0.375932              1.574   \n",
      "B  insufficient_data  insufficient_data  insufficient_data   \n",
      "R              1.056           0.376328               0.22   \n",
      "r              4.891                0.0             73.737   \n",
      "I  insufficient_data  insufficient_data  insufficient_data   \n",
      "V  insufficient_data  insufficient_data  insufficient_data   \n",
      "K  insufficient_data  insufficient_data  insufficient_data   \n",
      "\n",
      "          comment_lin                                         plot_color  \\\n",
      "Y   insufficient_data                             (0.0, 0.0, 0.502, 1.0)   \n",
      "g     color-evolution  (0.0, 0.10646629522482942, 0.6740014539148994,...   \n",
      "U   insufficient_data                (0.0, 0.8443685659361784, 1.0, 1.0)   \n",
      "z        undetermined             (0.0, 0.9804, 0.5322025367022871, 1.0)   \n",
      "J  no-color-evolution  (0.3496637770897833, 0.8227525720876585, 0.0, ...   \n",
      "B   insufficient_data  (0.6432103807278832, 1.0, 0.15614114312391633,...   \n",
      "R  no-color-evolution                (1.0, 0.9420467302403656, 0.0, 1.0)   \n",
      "r  no-color-evolution  (1.0, 0.6973093753348327, 0.051264165666266424...   \n",
      "I   insufficient_data               (1.0, 0.07459915966386546, 0.0, 1.0)   \n",
      "V   insufficient_data  (0.8111904139433548, 0.09439282715050662, 1.0,...   \n",
      "K   insufficient_data  (0.9319016147635525, 0.5546799307958477, 0.941...   \n",
      "\n",
      "  intercept_a0 inter_a0_err intercept_a0_err/inter_a0        red_chi2_a0  \\\n",
      "Y          NaN          NaN                       NaN  insufficient_data   \n",
      "g         -0.0        0.175                       inf               67.9   \n",
      "U          NaN          NaN                       NaN  insufficient_data   \n",
      "z         -0.0        0.067                       inf              8.716   \n",
      "J         -0.0        0.223                       inf             10.502   \n",
      "B          NaN          NaN                       NaN  insufficient_data   \n",
      "R        0.105        0.058                     0.552              1.836   \n",
      "r         -0.0        0.033                       inf              5.488   \n",
      "I          NaN          NaN                       NaN  insufficient_data   \n",
      "V          NaN          NaN                       NaN  insufficient_data   \n",
      "K          NaN          NaN                       NaN  insufficient_data   \n",
      "\n",
      "             prob_a0             BIC_a0          comment_a0  \n",
      "Y  insufficient_data  insufficient_data   insufficient_data  \n",
      "g                0.0            103.389     color-evolution  \n",
      "U  insufficient_data  insufficient_data   insufficient_data  \n",
      "z                0.0             47.489     color-evolution  \n",
      "J                0.0             14.808     color-evolution  \n",
      "B  insufficient_data  insufficient_data   insufficient_data  \n",
      "R           0.118873              2.665  no-color-evolution  \n",
      "r                0.0             75.956     color-evolution  \n",
      "I  insufficient_data  insufficient_data   insufficient_data  \n",
      "V  insufficient_data  insufficient_data   insufficient_data  \n",
      "K  insufficient_data  insufficient_data   insufficient_data  \n",
      "Filters compatible with zero in 3sigma and such that |slope_err/slope| <=1 :  J R r\n",
      "Filters not compatible with zero in 3sigma:  g\n",
      "\n",
      "\n",
      "No color evolution:  J R r  ; Color evolution:  g\n",
      "Y:nan+/-nan; g:-0.665+/-0.065; U:nan+/-nan; z:0.024+/-0.096; J:-1.143+/-0.47; B:nan+/-nan; R:-0.353+/-0.197; r:-0.121+/-0.059; I:nan+/-nan; V:nan+/-nan; K:nan+/-nan; \n",
      "Filters with no color evolution according to a=0 :  R\n",
      "Filters with color evolution according to a=0 :  g z J r\n",
      "\n",
      "\n",
      "No color evolution:  R  ; Color evolution:  g z J r\n"
     ]
    },
    {
     "name": "stderr",
     "output_type": "stream",
     "text": [
      "C:\\Users\\ridha\\AppData\\Local\\Temp\\ipykernel_16808\\3783924183.py:2: UserWarning:\n",
      "\n",
      "Matplotlib is currently using module://matplotlib_inline.backend_inline, which is a non-GUI backend, so cannot show the figure.\n",
      "\n"
>>>>>>> Stashed changes
     ]
    },
    {
     "data": {
<<<<<<< Updated upstream
      "image/png": "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",
      "text/plain": [
       "<Figure size 432x288 with 2 Axes>"
=======
      "text/plain": [
       "<Figure size 432x288 with 0 Axes>"
      ]
     },
     "metadata": {},
     "output_type": "display_data"
    },
    {
     "data": {
      "image/png": "iVBORw0KGgoAAAANSUhEUgAABpEAAAKACAYAAAB0eFB3AAAAOXRFWHRTb2Z0d2FyZQBNYXRwbG90bGliIHZlcnNpb24zLjUuMiwgaHR0cHM6Ly9tYXRwbG90bGliLm9yZy8qNh9FAAAACXBIWXMAAAsTAAALEwEAmpwYAAEAAElEQVR4nOzdd3gU5doG8Hu2ZbPJppCElIUkBEILIXSkiEFRbIACgoiiBxEBESRiCSIeEAiWA4gFBRT1HESxfQooItKR3msogUAS0nvZlN35/tjMupvsppFK7t917ZWdd9o7O7OLzjPP8wqiKIKIiIiIiIiIiIiIiIjIkqyhO0BERERERERERERERESND4NIREREREREREREREREVA6DSERERERERERERERERFSOoqE70FQJgqAE0KV0MgWAsQG7Q0RERERERES3NxkAr9L3Z0RRLG7IzhAREVHzwCBSzXUBcKyhO0FEREREREREzU4PAMcbuhNERER0+2M5OyIiIiIiIiIiIiIiIiqHmUg1lyK9OXr0KHx8fBqyL0RERERERER0G0tMTETPnj2lyZSKlq2Jo0ePqgCMUyqVDwLoKoqiY23vg4iIiBoPQRAyjEbj7waDYVXPnj2v2VuOQaSaM4+B5OPjAz8/v4bsCxERERERERE1H7U6LvPRo0fdFQrFly4uLqEtWrQocnJyypfL5XmCINTmboiIiKiREEURRUVFyszMzMeTkpLuP3r06Eh7gSSWsyMiIiIiIiIiasZkMtmEFi1ahAYGBqa7urrmKhQKIwNIREREty9BEODg4FDs7e2d7u3t7SaXyyfbW5ZBJCIiIiIiIiKiZkwulz/p6emZy8ARERFR8+Pm5pYjk8kesDefQSQiIiIiIiIiomZMFEVPtVpd1ND9ICIiovqnUqmKRVF0tzefQSQiIiIiIiIiouZNYBYSERFR81TZfwMwiERERERERERERERERETlMIhERERERERERERERERE5TCIREREREREREREREREROUwiERERERERERERERERETlMIhERERERERERERERERE5TCIRERERERERERE1ETpdLpQQRB6CoLQc9SoUYEN2Zd33nnHKyQkpJOjo2N3qU86nS60Ifry7LPPtpb6sGzZMs+G6EN9OHXqlINcLu8pCELPkJCQTkajsU73Fx0drWoM11ptu9Xrpb7PQ1XYO6YVK1Z4SO2CIPSMjo5WNWQ/G0pjPGeNFYNIRERERERE1PzkhpteRNRsSTfDy75kMllPR0fH7v7+/l3uv//+oP/9739uDd3XpuCDDz7weP311/3PnTun0ev1DXrP8cyZMw5ff/21FwC0bNmyeOrUqWkN2Z/qSkxMlE+fPl3Xvn37zhqNprtGo+nevn37ztOnT9clJSXJLZft2rVr4X333ZcBAOfOndOsXLmyRXX3N2rUqEBBEHrWVv+bmsquF8vfh4iICD9b26iN81Cbmvp3oD40tnPWmDGIREREREREREREVEoURej1etmNGzcc/vjjD/ennnqq7fTp03UN3a/Gbv369R7Se1dXV8PMmTNvvvnmm3ERERE367svc+bM8SspKREAYOLEiclqtVqs7z7U1OHDh9Vdu3YN+fjjj30uXbrkWFBQICsoKJBdunTJ8eOPP/YJDQ0NOXz4sNpynZdffjlJer948WJdSUlJhfsoLCwUNm/e7Gxv/tWrV5XHjh1T25t/u6mt66W656EuNeXvQH1qTOesMWMQiYiIiIiIiIiImr2QkJD8N998M27u3LlxTz75ZIpKpTLfdP300099EhMT5RWt3xylp6eb7y3GxcU5SO/Dw8Ozli9fnrBgwYKkl19+ObU++xQfH6/YsmWLuzT9zDPPpNfn/m9Fbm6u8Nhjj7VLSUlRAoBWqzU8//zzSVOmTEnUarUGAEhJSVE+9thj7fLz8wVpvSFDhuT5+fkVAUBCQoJqw4YNrhXt58MPP/R4+OGHO/Tv37/9jh07NFJ7UlKSfMqUKa06d+7cZdKkSYF1cpCNTG1eL9U9D/b06dOnw62UDGwM34FbPYb6Ulvn7HbHIBIRERERERERETV7HTp0KFiwYEHS22+/nfTf//73+uOPP54izTMYDDh79qw5MyMpKUk+depUXf/+/YN1Ol2oVqvtplAoeri5uXXr3r17xzfffNM7NzdXsNx+2XFIzp07p3r33Xe9Onbs2FmtVvdwd3cPGzZsWJtr164py/atoKBAePnll31bt27dRaVS9dDpdKHTpk3TZWdnV/vennRzVxCEnn369OlQ0bJl+3zmzBmHuXPnegcFBYWoVKoe999/f7BUCi0+Pt48rsovv/zSoqHGaVq5cqVHcXGxAAChoaF5HTp0KLKcX5NzV19WrVrlERsbaw7GrVmzJubTTz+NW7lyZfzq1auvSu2xsbEOn332mYflusOGDcuwWM+rov1MmTIlbf78+TcuX76svvvuuztt3brVDQDatWsXumbNGu+HHnoo45tvvompyTGsWbPGvVevXh20Wm03tVrdo3379p0jIyN9CgoKyn2mRqMRb7/9dsu2bduGODg49GjZsmXXCRMm+Kelpcl1Ol1ofYynVdH1In1XLJdftmyZb0XjCVXnPNSVyr4DZYmiiPfee8+zQ4cOndVqdY8WLVqEjR49OtDWb1F9KSkpwdKlSz379+8f7OnpGaZUKnvYKj8qvSZOnNi6pvtqDOessVM0dAeIiIiIiIiIiIgaC6PRiMuXL6uOHj1qVe6rdevWxdL769evKz/99FOfsutmZWXJT5w44XTixAmnn376qcX+/fujXVxcbI7WPmHChDaW+ygsLFRs2rSpxdmzZzVnz5495+joKAKmm6n33HNPu/3797tIyyYkJKhWrlzps3fvXm1hYWG9PST+zDPPBJb9XG6FTqcLTUhIUFW+pMnIkSPTfvzxx2sVLbNt2zZzJkGfPn1yy86vjXNXV/3/9ddf3aT3zs7OhtGjR2dL06NHj85ycnIy5uXlyQDgl19+cZs1a5Y5y2vgwIG5n332mTcA7N+/X1tYWCg4ODjYLGHm7Owszps3L3natGlp4eHh7c+ePasBgKKiItm33357yXK/1TF9+nTdxx9/7OPm5lYyfPjwdGdnZ+P27dtdlyxZovvrr79cd+/efdGyrNqECRP8161b5+Xl5VU8bty4FJVKJW7dutUtPDzcqbi4WFAqlXVegq2y66W6qnMe6kp1j2natGn+O3bsMK9TWFio+PHHHz327dun/fvvvy+0adOmuKL1a1txcTGGDBnSbvfu3fWSFdQYzlljxyASERERERERERE1ez/99JOHIAgetuYNHz48vX379uan+WUyGdq0aaPv1q1bnre3d7G7u7uhqKhIiI6OVv/+++/uBoNBOHfunOb999/3WrBgQZKtbR49etS5X79+OX369Mn97bff3C5duuQIAFevXlX/73//c3vuuecyACAqKqqlZQCpdevWhcOHD89IT09XfP/99x7SuCf14ejRo85BQUH6oUOHZspkMhQUFMgeeOCBrJCQkIIPPvjANzs7Ww6YSgOOHDkyHQC6du1aUF/9KywsFE6ePOkkTffp0yev7DK1ce7qyrlz58yl5XQ6XZFM9k98UC6XQ6fTFV68eNERAM6fP6+xXPfOO+80H6ter5ft3r1bc++995Y7/tL5wvLlyz2XLVvmm5ycrHR2djbk5ubKVSqV8fHHH283evTotAULFty0vOYrs23bNqePP/7Yx8fHp+jgwYPn/f39SwCguLg4bujQoe127Njh+u9//9t7yZIliQCwZcsW53Xr1nkFBAQUHjly5Lynp6ehtG/xAwcObJ+SkqKUyozVlcqul+eeey75/vvvz3z77bdbSW39+/fPvueee8xBNi8vL6tBdKpzHupCVb4DZe3YscN18ODBWWFhYfl79uzRSoHixMRE1fPPP++/devWKxWtX1Ew1dbvamXB1LffftvbMoDk5+dXNGLEiPS8vDzZ999/71lQUGD+YnTu3Dm/RYsWJZ06darx70xDn7OmgEEkIiIiIiIiIiIiO3r06JH75Zdfxlq29ezZUx8TE3P26tWryr179zrFx8crCwoKZN27d8+Pjo52lAJCf/75p6u9QMS9996buWXLlisymQyRkZFJOp2um8FgAAAcOnTISQoirV271lxeSavVGg4fPnze29vbAAADBgzImT59eps6OvRywsLC8v7+++9ojUZj9ZT+6NGjsz///POWUhBJKg1Y2fYiIiJuZmVlVXmsqcoCUteuXVPq9XrzDebAwMByQYjaOHd11f+srCzzvVpnZ2dD2fmWbZmZmVb3dQMCAooVCoUoBRUvXLigtncj/MMPP/SIjIz079u3b8769euvfPzxx14//fSTx6VLl07PnTvX97///W/L6Ohox+PHj1+o6rGtWbPGEwBefvnlm1IACQCUSiWWL19+o3v37q7/+9//vKQg0tq1az0AYPbs2TelABIAqNVqcfHixXFDhw7tWNV911Rl14v0HbQMIvXt2zevouuiOucBAP7zn/94lr2Gbt68qQSA6Ohox3nz5nlbzuvatWtBRZliVfkOlPXYY4+lbtiwIRYwle7s379/+0OHDmkBYNu2bW7Xr19XWJ7Tuvbll1+af/OcnZ0Nhw4dOq/T6UoAYOTIkZmPPPJIe2n+oEGDsleuXBkvTUsBrapkLUqqe86aIwaRiIiIiIiIiIio2bPMnklKSlL+/PPPLVJSUpTHjh1z7tu3b8fdu3dH+/j4GAAgJSVFPm7cuMDt27e7iaL9qkc3b960W+ps6tSpKVKmibe3t8HNza0kLS1NAfwTIMjKypJdvXrVPBbTPffckykFkADg+eefT3/ppZcCq5ONdOjQoeiqLlvWSy+9lFg2gHQrXn755dTKl6q6xMREq3udXl5e5QIxtXHuJLXdf0sV9c0eV1dXg3QNpaSk2L3vO2PGjLT27dsXjhgxIgcAPv74Yy8A8PHxMaxZsybu9ddfT8rMzKxycAwATp8+rQGA+++/P6fsvK5duxZ6e3sXxcfHq9LS0uQeHh6GM2fOaADg7rvvLrf83XffnSeXy8t9AL///rvzu+++63Pq1Cmn9PR0BQDMmjXr5tKlSxPKLrtq1Sr35cuX+8TExDg6ODgY+/Xrl/3+++/Hd+nSpVBapirXS01U9TwAwNKlS33tZfGUlra0yjgbOXJkWkVBpJoc07/+9a806b1cLse4cePSpCCSKIrYv3+/k7+/f5a99W0FU9euXesVFxfnYPm7KqkomJqeni67ceOGeVywe+65J0sKIAHAiBEjcvz8/Iqkz2z//v3ayo6vKqpzzpojfiBERERERERERNTslc2emTFjRkpoaGgXURRx6dIlxzfffNN39erVcQAwfvz4wL/++sutsm1Kg9vb0q5du0LLaZVKZR5/x2g0vU1NTbW6MduyZUurbACFQgE3N7eS1NRUZWV9qQ1dunTR1+b2bGVhVKSyLAzpc6tIbZw7SW3339XVtSQlJUUJALm5ueW2m5OTY25zc3MrlxliefwVBaEcHBxEKYBkS7t27YoBVGscHKlv/v7+Ntfz8vIqvnnzpjmIJC3fqlWrcsdRel2XC34cPnxYs2fPHld/f3+9FESyZdmyZZ4REREBgKksYFZWlvyPP/5wP3z4sPb48eNnpayaqlwvNVHV81DX+64qPz8/q3Pm4+NjdU7S09MrvMZtBVO3bNniFhcX51DVrESJlM0o8fb2Lnc9eXl5FUtBJCnwc6sa8pw1BQwiERERERERERERlRESElLo5uZWkpGRoQCAffv2aQEgJydHtn37djdpub59++asWbMmtmPHjoUKhQIPPvhg0O+//+5e2fZVKpXVnUpBKB+zaNGihdWN9OTkZKt7eSUlJeXKmtUlrVZbq3fdK8rCsKWyLAxfX1+rm99lg3C1de7qqv+dO3fO37VrlysAxMfHOxgMBsjlpkMwGAyIj483Z2h06tQpv+z6ljfgywYcK1Ja9utaVZe3RavVGgDgxo0bypCQkMKy86XgmHRNS6X54uLiFJ07d7YquVZ6Xcu9vb2trrfJkyenzZo1K9VoNMLNza27rX7o9XphwYIFOgAYOnRoxpYtW2KuXbum7NKlS5f09HTFvHnzfL/88ssbQOXXS01V5zzEx8efLtvWp0+fDocPH3auTkk2SU2OKSEhQRkWFmY3Q8vd3b1WMrSqomXLliUymcwc1ElKSioXIJeuJQBwcXGx2TdRFPHKK6/4rl27tmVeXp5syJAhmV9++eV1Dw8Pm8vX9LvTXMgqX4SIiIiIiIiIiKh5OXfunMoyQCOVjEtLS5NLYxcBwP3335/VpUuXQoVCgfj4eEVtlVcCAHd3d2ObNm3M2T/bt293S0pKMt/s/Oyzz1pUp5QdYLpBLQhCT0EQevbp06dDbfW1MQgMDCx2cHAwB+euXbtmFeCpz3NXE8OGDcuU3ufl5cm+//57V2n6+++/d83Pzzffyx0+fHim5bqxsbFKg8FgvhY6dOhQq1ljlenSpUs+AGzdurXcZ3jmzBmHpKQklU6nK5LGP5KW3759e7nlt2/f7mR5LBIfHx9DZYHM3bt3a6Tv7aOPPpoJmK6LsLCwXADYuXOn+TOt7HqRWJbWszwHtjT0eajqMVmSxqcCTMHK9evXm6cFQUD//v3rbXwgjUYjhoaGmvf3119/ud68edP8O7xx40atZeC2V69euba2s2XLFvdPP/3U29nZ2aDX62WbNm1q8dRTTwXYWrahz1lTwEwkIiIiIiIiIiJq9iwHsU9OTlb+/PPPLSzLGvXu3TsXAHQ6XbFWqzWX41q2bJlvUlKSQhAE/PDDDx61nRn09NNPp/z73/9uDZielu/du3enESNGZKSlpSm+//57j8rWb8xsZWHcCrVaLYaFheVK47kcOXLE6bnnnsuQ5tf2uavt/j///PNpH374oU9sbKwDADz33HNtdu3alQIA69at85KWCwgIKJw8eXKa5bp79uxxkt6r1WrjoEGDymUq1aVJkyalbtiwwfP999/3HTt2bKafn18JYMoqeumll1oZjUaMHz8+RVr+6aefTvv+++8933//fd9x48ZlShkier1eeOONN1rVtB+WQRMfHx9zKTQvL68SwHqsq8quF4m3t7e5fNqGDRs8HBwcjK6urgZPT8+SGTNmNKrzUNVjsvT999973n333cpu3brl79mzR3vkyBFnad7dd9+dKZX/s8dWWcf7778/8/77788EAOl3VVJZWceIiIjEp59+ui1gKuvYq1evTo888kh6aWDVU1pOqVSKL7/8crKtbahUKvHs2bNndDpdycSJE1uvXbu25ZYtW9zPnTunKpv51tDnrClgEImIiIiIiIiIiJo9W4PYS/z8/IoWLVp0EwCUSiVmzpx5c+HCha0AU2Dn008/9QGAli1bFvfv3z/777//dqmtfs2ZMyd5y5YtbgcOHNACwI0bNxw++ugjHwAIDg4uSElJUdZnSbvGbsiQIdnSDfTDhw87W86r73NXXc7OzuL3339/+cEHH2yfmpqqzM3NNfdP4unpWfz9999fdnZ2tiqHuHfvXvOx9uvXL0etVtfrwC733ntv3pQpUxI//fRTn9DQ0JAHH3www8nJybh9+3aXS5cuOfbo0SN3/vz55rFxHnroodxx48alrl+/3rNz584hDz74YIZSqRS3bt3qptVqDV5eXsW2SjzWlL1xbiq6XiTDhg3L+Oyzz7wBICMjQ7FixQpfAGjXrp2+bBCpoc8DULVjstS3b9+cHTt2uO7YscPVsr1ly5bFn3766fXK1q/tso4TJkzIPHXqVMLSpUv9RFFEQkKC6pNPPrH6Hjg4OIgfffTR1a5du5YrnSgdk06nKwGAJ554In3t2rUtRVHEiRMnHMsGkRrDOWvsGm05O0EQHhYE4WtBEM4LgpAhCEKuIAhnBEFYIghCizLLagRBmC8IwkVBEAoFQUgRBOF7QRA6V3OfzwiCcEgQhDxBELIFQdglCMLDtXtkRERERERERETUmMnlctHNza2ke/fuea+++mr8yZMnzwUGBpqzGt5+++2k9957LzYoKEivUChEd3f3kuHDh6cfOHDgvGX2Q21QKpX466+/Lr300ks3dTpdkUKhEH18fIqeffbZpP3790drNJpaHaeoqZsyZUqqQqEQAeDEiRNOly9fthpTpT7PXU307t1bf/r06bPTpk1LbNu2rV6tVhvVarWxbdu2+mnTpiWePn36bO/evcuV29q4caN5LKdnn302pez8+rBy5cr4zz77LCYwMFD/008/eaxdu7al0WgUXn311fg9e/ZcLHtz/r///W/sv//97xsajcawbt06r//7v/9rceedd2bv3LnzYl5enlwaN6k6AgMDzQGCxMRE87lPTU1VAICvr69VAKGy6wUAli1bFj9lypREPz+/IsvSdrY0hvNQlWOy9MUXX1xbuHDhjeDg4AKVSiW6ubmVjBw5Mu3AgQPn27Vr1yDfiffff//mH3/8cWHYsGHpvr6+RUqlUlSr1cbAwED9k08+mXL48OGzkyZNqjDDqqoawzlr7AR7UdiGJgjCFgBD7cy+CqC7KIpZgiAoAGwHcKeN5XIBhIuieLQK+1sMINLO7OdFUVxVZnk/APEAEB8fDz8/v8p2QURERERERI1Fbrjpr/POhuwFUZUlJCRAp9NJkzpRFBNqa9snT568FhYWllpb2yNqaMOHD2+zcePGFgDwxhtvxC1cuDCpsnWasm3btjnde++9HQFT1lxsbOxphaLpJqedPn3aoWvXrl0efvjh9I0bN14tOz8rK0vm5ubWHQBmzZp1c+nSpebfQ71eL/j6+nbNzMxUDB06NGPLli0x165dU3bp0qVLXl6e7Omnn07+8ssvb1hur7aul8Z0Hprbd0Ci0+lCExISVG5ubiVnz5496+fnVzJp0qRWn3/+uTcAnD179rRlJlJjOmcN7eTJk55hYWGBtuY12kwkAIUAPgHQE4AjgDsAxJXOawPg2dL3U/FPAGkdAE8AowEYADgD+KyyHQmCEAbg9dLJs6Xb7wrgZmnbMkEQvG2tS0RERERERERERI3H4sWLE6RMjM8//7xlYWFh7dVFa4T+85//mO9bvvHGG/FN5Sb49evXFQaDdbJRTk6O7MUXX2wNACNGjMi0nPfVV1+5+fv7d+nSpYu5+tTnn3/e0t/fv8vw4cPbAKYxgd544414APjjjz/cW7VqFRoaGhqSl5cnc3NzK/n3v/+dWLYftXW9NKbz0Ny+A2UVFhbKOnTo0CUwMLCLFEC6//77M8qWsmtM56wxa8xBpCdFUXxBFMVjoijqRVE8COADi/ntS/8+Y9H2uiiKaaIo/ghgV2lbT0EQQivZ1wQA0hdpiSiK10RRPA1gZWmbBsCYGh8JERERERERERER1YsuXboUTpgwIQUAEhMTVStXrmxR2TpN1alTpxy2bt3qDgCdO3fOnzJlSnpD96mqlixZ4t26devQkSNHBk6bNk03atSowODg4C67du1yHTRoUNbEiROtypVlZWXJb9y44RAXF+cgtWVnZ8tv3LjhkJiYaB6TZ/bs2amffPLJ1Y4dOxakpKQoAeDee+/N3LVr1wXLspSS2rheGtt5aE7fAVvuv//+jClTpiTl5ubK1Wq18aGHHsr473//G2u5TGM7Z41Zoy1nZ4sgCHMBvF06ORfAewDyACgAZIui6Gqx7AoAL5ZOPiuK4hcVbHc3/slm6iGK4vHS9pEAfixt/68oihMs1jGXs7PUlD5PIiIiIiKiZovl7KiJYTk7Irrd/PLLL9r//Oc/PufPn3fMyspSyOVyMTAwsHD06NFpc+fOTXZwcOCNVqJ6UlE5uyaTnyUIgi+A6aWT+QC+BuCBf44hq8wqltMtK9m8Zam6LDvvK9sGEREREREREREREVXBiBEjckaMGJHT0P0gooo15nJ2ZoIgtAawHaZgjxHA06Io3qh4LdRGnccqbSM+Ph6iKDILiYiIiIiIiIiIiIiIbhuNPogkCEJHAPsAdARQAuApURR/KJ2dVtoGAG5lVnWxeJ9cyW6SLN5bbqc62yAiIiIiIiIiIiIiIrptNOogkiAIvQDsAdAaphJ2I0RR/EaaL4piEYBTpZNaQRBaWaweYvH+cCW7spzfuYbbICIiIiIioqagaB1gOAAYdgHZgaZpIiIiIiIqp9EGkQRBuBumEnaeMGUc3SOK4m82Fv3S4v0SQRA8BEEYDeCu0rajoiieLt1moCAIYulrp8V6XwOQatG9XrpcKICppW35ADbUxnERERERERFRAypaBxRMBlBomhZjTdMMJBERERERldNog0gA5gHQlr73ALDfIgBkGQRaCVO2EgCMB5AK4HsAcgC5AJ6vbEeiKJ4EsKR0MgTAVZgynHxL2yJEUUyytS4RERERERE1Ifo3YHpO0FJ+aTsREREREVlqzEGkKhFFsQTA/QDeBnAZQBFMmUs/AOgriuLRKm5nDoB/ATgCoACmANRuAMNEUfysDrpORERERERE9U28Xr12IiIiIqJmTNHQHbBHFMXwaiybD1Pm0rxKlrsGQKhg/pewLo9HREREREREtxPB31TCzlY7ERERERFZafKZSERERERERERVpl4EQFOmUVPaTkRERERElhhEIiIiImoKcsNNLyIiujWq8YDjKgAOpmkhwDStGt+g3SIiIiIiaowabTk7IiKqe2/HhAMA3gza2aD9ICIiIqpXqvFA0WrTe+edDdoVIiIiIqLGjJlIRETN1N6MdbiUfwDn83ZhxoVA7M1Y19BdIiIiIiIiIiIiokaEQSQiomZob8Y6rImfjBKxEACQWhyLNfGTGUgiIiIiIiIiIiIiMwaRiIiaoQ1Jb6BIzLdqKxLzsSHpjQbqERERERERUeMUHR2tEgShp/Tq06dPh4buU2NWG5/XuXPnVI899ligTqcLValUPSy3Vxd9pls3atSoQMvztGnTJq3lfMt5Op0utKH6SUTVxzGRiIiaodTi6zbb0+y0ExEREREREdWHhIQExcCBAztlZGTwviURUSPAH2MiombIU+mP1OLYcu0eSv8G6A0REREREVHjpdVqjUOHDs2Qpjt16qRvyP7c7tatW+dmGUDSarWGXr165apUKmND9otujeV3yNPTs6Qh+0JE1cMgEhFRMzTGexHWxE+2KmmnEjQY472oAXtFRERERETU+Pj5+ZVs2bIlpqH70VwkJiYqLafffPPNuFdeeSW1ofpDtYPfIaKmi2MiERE1QwPdx2OSbhUUggMAwFMZgEm6VRjoPr6Be0ZERERERNS4VGWMH51OF1rTcXtqY/tbt251GjZsWJvWrVt3cXR07K5UKnt4enqGdezYsfPo0aMDlyxZ4qXX64Wy6yUmJspff/11n549e3Zwc3PrplAoeri7u4f179+//fLlyz0KCwvLrSP56quv3Hr27NlBo9F012q13fr379/+l19+0dpbvjIrVqzwEASh59KlS/0s21999dUA6bhHjRoVaDkvISFBMXv2bN/u3bt3lPrv6urarVu3bh1nz57tGx8fb/MB+rLj8xQUFAiRkZE+wcHBIY6Ojt21Wm23qvQ5IiLCz3JbK1as8NizZ4/m3nvvbevu7h4mk8l6LliwoKXlOrt379aMHTs2oE2bNiEajaa7g4NDD51OF/roo48G7t69W2NrP3q9XoiKivLq27dvew8PjzClUtlDo9F01+l0oX369Onw/PPPt/r1119tfvZHjx5V/+tf/2rdqVOnzi4uLt2kayMsLKzj9OnTdVlZWeb7w9HR0aqZM2f6DR48uF1gYGAXd3f3MIVC0UOj0XQPDAzsMmLEiDZlxzqqqorGRJLOvfSKiIjwi42NVT711FP+fn5+oSqVqkfLli27Pvnkk/4pKSlyW9vPzs6WzZgxw69169ZdpOUfe+yxwMuXLyttnaeaHANRc8VMJCKiZmqg+/gqB43ejgkHALwZtLPuOkRERERERM3OuXPnVJ07dy5q6H40ZZ9++mmLadOmtRFF0ao9LS1NkZaWpoiOjnb88ccfPZ5++ukMX19fcxmxTZs2aSdMmBBUduyhzMxMxf79+7X79+/XfvXVV16///77JR8fH4PlMrNnz/b9z3/+YxXs2b9/v/bRRx/VPvvss0l1cJjl/PTTTy4TJ04MysrKsgoqZGdny0+ePOl08uRJpzVr1nh/8cUXMSNHjsy2t53i4mJh8ODBwQcPHjQHR5ydnQ32lq/IH3/84fryyy8HlJSU2Ay+Pf/8861Wr17tXfZcJSQkqP7v//7P45dffvF45ZVX4t95551EaZ7RaMR9993Xbs+ePS6W65SUlAgFBQWqhIQE1eHDh50vXryoHj58eI7lMhEREX4rVqzwNRisD0e6Nk6dOuX04osvpri6uhYBwN9//+20YsUK37L9LigoEGJjYx1iY2Mdfv311xYzZ868uXz58oTqfj5VdfToUU1YWFiI5blNSUlRrlu3zuv48eNOx44du+Dg4GD+ENPS0uR33nln+/Pnz2ssl//hhx88tm3b5tqnT5/cuuorUXPATCQiIiIiIiIiIqp3r7/+uk9ISEjo66+/7tPQfWnKlixZ4icFJeRyObp165Z39913Z4aFheV5eXkV21rn1KlTDmPHjm1nGUDq3Llz/uDBg7Nat25dKLWdOHHC6dFHH21rue7mzZudy2YLtWrVqnDAgAHZrq6uJWvWrPGuyXEEBQUVDR06NCMoKMhqzKmQkJD8oUOHZgwdOjSjV69eeQBw7Ngx9fjx49taBhm8vb2LBw4cmO3r62sOSmZlZcnHjx/f9tixY2p7+01JSVEePHhQq9FojL169crt169fTk2DSL/99pt7SUmJEBAQUHjXXXdltWvXTi8IpnhSZGSkz6pVq8wBJEdHR2O/fv1yBgwYkK3RaIwAIIoi3n33Xd1HH31kzpT566+/nCwDSK6uroaBAwdmDxo0KCs4OLhAWrest956y3vZsmVWAaQWLVqU9OvXL2fgwIHZ7u7udscl8vPzK+revXve4MGDs8LDw7M6deqUL5P9cxv5gw8+8N27d6/NrKnasHv3btfs7Gx5SEhIfvfu3fMs5507d07z+eefu1u2TZkypbVlAEkulyMsLCwvLCwsLycnR7F161a3uuorUXPATCQiIqrQ3ox1uJR/ACViIWZcCMQY70V2M5iYsURERERERFXx+uuv+3zwwQe+gOmGNAAsWbIkseK1yJb4+HiV9D4iIiLh3XffvWk5/9y5c6pffvnF1cnJyRxsmDt3rl9+fr4MAARBwPfff39p1KhR2YAp8+XJJ5/0X79+vRcAHDhwQPvDDz+4jB49OhsA3nvvPR/LTJoRI0ak//DDD1cVCgWSkpLkgwYN6nDx4kXH6h7Hww8/nPPwww/nRERE+C1btsycDTN58uTkGTNmpFkuO2/ePD+9Xm+OajzwwAMZP//881UHBwexsLBQGD16dOCmTZtaAIBer5fNmzfPb9OmTXbH5OnUqVP+b7/9djkwMLAYMGXeVLf/kiVLllx/7bXXUqTpgoICITU1VS5d5wAQHBxcsGfPnmhvb28DAMTHxyt69erVKTExUQUACxYs0E2dOjVNLpfjypUrDpbbP3r06Nm2bduag4PFxcXYtm2bc3x8vHksqbS0NPn7779vFeh79tlnkz766KN4tVotAkBJSQnWrVvn5urqao4y3XfffTmXL18+Zbl9yXfffef6+OOPt5Om161b5z5w4MD8ssvVlo8//vjq1KlT0wHg5Zdf9rUMXG7fvt1l2rRp6QAQGxur/Pnnn1tYrvv1119ffuKJJ7Js9ZuIqo9BJCIismtvxjqsiZ+MEtH0IFpqcSzWxE8GAI6fRERERERENSIFkKQggF6vlzX1QFJ8fPzphtq3n59f0fXr1x0A4Pvvv2/h4uJiCAkJ0YeEhOjbtWtX1Llz56LOnTubgxoGgwE7duxwlabVarVx9erVnqtXr/aU2lJSUpSW+/j111/dRo8enV1SUgLLsm8A8P7778cpFKZbjN7e3oZZs2YlTp06tU0dHS4MBgN27tzpatm2bNmyOKm8mYODg7h8+fI4KYgEADt37nQ1GAyQy20Op4Nly5bdkAJIAODo6CjaXLAS/fr1y7EMIEnb+vbbb10KCgrMQS+j0Sg8/fTTAZbLiaJoDlylpKQo9+3bpxk0aFB+UFBQoeVyM2fObP3ggw9mdujQobBr1656Ly8vwwMPPGBVrm3jxo1aKUgImIJWn332WZzl8SsUCjz99NOZluvpdLqSLVu2OL/66qu6EydOOCUmJqr0er3MaCyf7HTx4kW72V23KiwsLE8KIAHAo48+mmUZREpMTDRfn1u2bNEaDAbzZ9e7d+9cKYAEAGPHjs1avnx5zoEDB2o8XhdRc8cgEhER2bUh6Q0UidYPFhWJ+diQ9Ea5IFJ1MpaIiIiIiKh5KhtAktwOgaSG8vrrrye88MILbURRxLVr19Rvvvlma2mes7OzoW/fvjnTp09PfuSRR3IAICkpSZGbm2uOJhQUFMj++OMPd1vblly/fl0FADdv3lRYnjsnJydju3btrLJWunfvXlBbx2ZLUlKSIi8vz6oPHTp0sBpXq23btsVardaQk5MjB4C8vDxZUlKSws/Pr1wJN6VSKQ4ZMqRWxswZOHBgjq32mJgYleX0lStX1FeuXKkwCHP58mWHQYMG5Q8ZMiRvwIAB2fv27XMBgM2bN7tv3rzZfL5atWpVeN9992XNmzcvMSAgoLh0+1bZS7169cq1F0CzNHfuXO9Fixa1qnRBAJbXUG0LCwuzKmHn7u5uVV6wqKjIfP6la1PSqVOnctlRnTp1KmAQiajmOCYSERHZlVp83WZ7Wpl2exlLezPW1XkfiYiIiIioaTh37pzqnXfe0ZUNIEn0er3snXfe0Z07d05la35zYTmGjSQ9Pd3ug+BTp05N/+uvv84/9thjqa1atSqUxuABTDf6//rrL7dHH320/RdffFFhoKgi+fn5dRYwqC7LUnq1wcPDo7gqAZaq8PPzK6p8qarJzc2VAYBMJsOOHTsuLV26NHbgwIHZLi4uVhdIXFycwxdffNGyb9++nVJTU2t8ILGxscolS5boLNv8/PyKwsPDs4YOHZoxaNCgLMt5lplTtc3Dw8PqGBUKRZVPuuXYTRZttXvREDUzDCIREZFdnkp/m+0eZdoryliy9HZMuHncJCIiIiIial46d+5c9Nprr8Wr1erytbFgKqv22muvxXfu3LnWbsQ3BVIZNklGRoZVwGjv3r0ae4E3yeDBg/M3bNgQe+PGjTO5ubnHTp06debDDz+8ZjkO0sqVK1sCgLe3d4llu5eXV7HBYDgqiqLd16FDh6IBwMfHp8Ty/OXl5cmuXLliVfruxIkT1R4PqTp8fHxKNBqNVR8uXrxYNtNHKWUhAaZsJW9v73JZSIDtoENN2dtWmzZtrK7padOmJVb0eYuieNRyHCilUolZs2al7tmz51JWVtaJ5OTkEzt37jz/xBNPmEvnJSUlKdetW+cGAEFBQVb7O3LkiLOt4KSlXbt2OVmWhQsPD8+6cePG6R07dlzesmVLzLx5825WtH5D8ff3tzpWW2X2zp07p6m/HhHdfhhEIiIiu8Z4L4JKsP5vLZWgwRjvRVZtVclYksrdnc/bhRkXApmlRERERETUDC1ZsiRx5syZN8sGktRqtXHmzJk3m2opO51OFyoIQk/pVZ11fXx8SiwzLWJjY9VbtmxxBkzl46ZPn2776b5SixYtavn77787l5SYYiQajUYMDQ0tfPbZZ9Pd3d3NpeakcY7kcjnCw8OzLNtnzJihKywstMosKS4uxqZNm7RjxowJ2L59uxNgCmb06dPHqmTbK6+8opMCFKmpqfLly5f7VOf4q6ts/wEgIiKildT/4uJizJo1y6ok21133ZVVW9lGNTFs2LBsy2v+66+/9tq6datT2eUSExPlH374ocewYcPMY0pdunRJtWDBgpbR0dHmQJmXl5fhrrvuyh89enRmmfWV0v4cHR2NFttwfP7551vp9XrzOTYajVi3bp3rzZs3FQBQVFRkdf4dHR2NUlAsKytL9uabb/qhEXrggQey5XK5+fuzf/9+l19//dVcuu67775z3b9/P0vZEd0CjolERER2SWMarYp/FiViITyVATbHOvJU+iO1OLbc+lLGkr1yd5b7ICIiIiKi5kEKFEljIzX1ANKtUqvVYq9evXKlMVuMRiMefPDBDj4+PkXJyclKy+wQW/773/96zp0711Gr1Rratm2rb9GiRbHBYBDOnTunkQJHANCuXTvzWEVvv/12wvbt210LCgpkAPDxxx/7rF+/3rNDhw4FarXamJqaqrh8+bKjNH/ChAnp0rovv/xy0u7du12l6Z9//tkjMDDQOSAgoPDs2bOazMzMOr/fOH/+/ITt27e7Shlamzdvdg8MDHQKDg7WX7lyRZ2QkGAOuKjVauP8+fMT6rpPFfHy8jK8+OKLie+9954fYCozOHTo0I7BwcEFrVq1KiouLhbi4uJU169fVxuNRquyeCkpKfK33nqr9VtvvdVap9MV+fv7652cnIyZmZmKU6dOWQWiOnfurAcAT09PQ0RERILl+Eaff/65988//+zRoUOHfIVCgQsXLjimpKQoL1y4cNrX1xcDBw7MEwTBXC7w999/d+/QoUNnHx+fotOnTzvVx3mtCX9//5JHH300/YcffvAATOUOR44cGdy1a9d8URRx+vTpcsE6IqoeZiIREVGFBrqPR7DmDnRyugsrOl6zGfSpLGOpquXuiMiOonWA4QBg2AVkB5qmiYiIiJowKSMJAJpzAEny9ttvx1tmI4miiJs3b6oMBoNw7733Znp5eRVXtD4A5OTkyE+cOOG0fft2t127drlaBpBcXFwMixYtMgdSunfvrv/2228vt2jRwlziLT09XbF//37tjh07XE+fPu0kBZAAQKlUmvs2fPjwHOncSeLi4hz27dvnkpmZqRg9enQa6livXr30X3311RWtVmuu0ZaYmKjas2ePi2UASavVGr766qsrvXr10td1nyqzZMmSm88991yS5ZhVly5dctyxY4fr3r17Xa5du6Y2Gk3JQ5aZNZbi4+NV+/fvd9m2bZvbkSNHnC2zhwYMGJA9bty4TGl64cKFSdOnT0+0LLFXeo5d9uzZ42J5fQBAx44di5555plky7aLFy867t692zUrK0vx+uuvx9/aJ1B3Pv300xudOnUy33QwGAzC8ePHnU6cOOHk5uZW8uCDD2ZYLq9SqThGElE1MIhERESVejNoJ94M2ml3/kD38ZikWwWF4AAA8FQGYJJulTngVJVyd0RkR9E6oGAyAFMmH8RY0zQDSURERNTELVmyJPHs2bOnm3sACQCGDBmSt3nz5uh+/fplazQao1qtNoaEhOS///77sVu2bLliGcQp67333rsxffr0xL59++bodLoiJycno1wuh7Ozs6Fz5875U6ZMSTxx4sTZvn37FliuN3z48JwLFy6cmTt3blyfPn1y3N3dS+Ryuejg4CD6+voWDRgwIPuVV15JOHTo0NmhQ4fmWq67fPnyhC+++CKme/fueWq12ujk5GTs1atX7v/+97/LCxcurJesnzFjxmSfPXv2TERERELXrl3ztFqtQS6XQ6vVGkJDQ/Neeumlm2fOnDkzZsyY7ProT2VkMhlWrVoVt2fPnnPjx49PCQ4OLrA8V+3atdMPHz48ffny5deOHj16XlqvS5cuhR988MG1sWPHpnbq1Cnfy8urWKVSiUqlUvTy8ioeOHBg9rJly67t2LHjkkJhnSz04Ycfxu/fv//c008/ndy+ffsCZ2dng1wuF1u0aFESFhaW98ILLyT6+PiYA4lr1qy5sWTJkuvBwcEFSqVS1Gq1hv79+2dv2rQp+umnn05HI+Xh4WHYv39/9PTp0xNbtWpVKH02Y8eOTT169Oi5st+fVq1aVRqUJaJ/CFKKIlWPIAh+AOIBID4+Hn5+jbIsKBFRvXo7JhwAygWcZlwItFnuzlMZgBUdr9V9x4iasuxAU+CoLCEAcLlW370hIrp95Iab/jrvbMheEFVZQkICdDqdNKkTRbHWbtSfPHnyWlhYWGptbY+IqD4ZjUZcuXJFFRwcXFR23sGDBx0HDx7cUcqs02g0xpSUlBMajYY3xYksnDx50jMsLCzQ1rxGWcuSiIiaJnvZSmO8F2FN/GSrknaW5e6IqAKinYw9e+1ERFQ1DB4RERHdFgwGA9q3bx/aqVOn/C5duuR7e3uXFBYWCleuXHHYtWuXq+W4Yi+99NJNBpCIqodBJCIiqnNSWbtV8c+iRCyEpzIAY7wX2RxfiYjKEPztZCL5139fiIiIiIiIGqnz589rzp8/r7E1TyaTYfLkyYmLFi1q9uUziaqLQSQiIqoXA93HY0fGagD2M5aIyAb1otIxkfItGjWmdiIiIiIiomZOLpdj/vz5N/bs2aONjo52zMjIUBQUFMicnJyMrVu3Luzbt2/u888/n9qnT5+CyrdGRGUxiERERPWGwSOiGlCVZuwVPAug0DQWknrRP+1ERERERETNmEwmw7x585IBJDd0X4huRwwiERERETV2qvFAkSmTj2N4EBEREREREVF9kTV0B4iIiIiIiIiIiIiIiKjxYRCJiIiIiIiIiIiIiIiIymEQiYiIiIiIiIiIiIiIiMphEImIiIiIiIiIiIiIiIjKYRCJiIiIiIiIiIiIiIiIymEQiYiIiIiIiIiIiIiIiMphEImIiIiIiIiIiIiIiIjKYRCJiIiIiIiIiIiIiIiIymEQiYiIiOrNn5iAPzGhobtBRERERERERERVwCBSMxYea3oREREREREREVF5OTk5statW3cRBKGn9Bo3blyAveX79+/f3nLZHj16dDQYDLfUh6+++spt2rRpun79+rXXarXdLLc/atSowFvaeAUiIiL8LPe1YsUKj7raV3Nj+bnqdLrQhu4PEVFFGEQiIiIiIiIiIiKyQavVGj/55JNYQRDMbd99953n5s2bncsu+8EHH3js379fK007ODiIa9euvSqXy2+pD88880zblStX+hw4cECbm5t7axtrJPr06dPBMpASHR2taug+3S5WrFjhYfnZRkRE+DV0n4ioaVM0dAeIiIiIiIiIiIgaq2HDhuU88cQTKevWrfMCAFEU8cILLwQOHjz4rEajEQEgPj5e8dZbb7W2XO+VV16JDwsLK6zNvri4uBiys7Nvi0BSczZ06NAM6b2np2dJQ/aFiKgyDCIRERERERERERFV4OOPP47bsWOHa0JCggoAYmNjHV599VW/jz76KB4Ann/+ef+srCxzcCc0NDTvrbfeSqqNfb/88ssJvXv3zr/zzjvzjh075jhs2LD2tbFdajhbtmyJaeg+EBFVFcvZERERERERERERVcDV1dX40UcfWY0s/emnn3ofPHjQ8dtvv3XdvHmzu9SuVCrFtWvXXlMoFLUyrtD7779/c+zYsVl+fn61nrGSlZUle/HFF3WtW7fuolKpenh7e3d94okn/OPj4yt98Hz9+vWuTz75pH+PHj066nS6UGdn5+4KhaKHq6trt65du3acMWOGX2xsrNJynVGjRgUKgtDz8OHDVuUAO3bsGGqrvF10dLRq5syZfoMHD24XGBjYxd3dPUyhUPTQaDTdAwMDu4wYMaLNpk2btKiBsuMSlZSUYOHChS07duzY2dHRsburq2u3IUOGtN2/f7+jvW0kJCQoZs+e7du9e/eObm5u3aTj79atW8fZs2f72vscKxoTyVY5utjYWOVTTz3l7+fnF6pSqXq0bNmy65NPPumfkpJiDlxu2rRJKwhCz5kzZwZabm/ZsmW+LG9HRLeCmUhERFTrwkv/12qn3eFmiYiIiBqJ4eGmv7/ubMheEFET8Oijj2aPGTMmdcOGDZ4AYDAYhGeffTYwLS3N6v7arFmzEnr27KlvmF5WXVpamvzOO+9sf/78eY3UlpycrFy/fr3Xtm3b3O64446citZftWqV186dO13LtmdnZ8tPnz7tdPr0aacvv/yy5ebNmy/eeeed+TXp499//+20YsUK37LtBQUFQmxsrENsbKzDr7/+2mLmzJk3ly9fnlCTfQBAcXGxcM8997TbvXu3+Xj0ej3++usvtz179riuX7/+8siRI7Mt1/npp59cJk6cGGSZgQaYjv/kyZNOJ0+edFqzZo33F198EVN23eo4evSoJiwsLMRyPykpKcp169Z5HT9+3OnYsWMXHBwcxJpun4ioMgwiEREREREREVHFGGwjAgB88skncTt37nRNTk5WAsDZs2c1lvM7deqUv3DhwsSG6V31TJkypbVlAEkulyM0NDQPAE6fPq3ZuHFji8q2oVAoxKCgIL2bm1uJVqs16PV62aVLlxylzycnJ0c+adKkwOjo6HMA0KtXr7y8vDzZwYMHtZmZmeb7koMGDcpydHQ0StNardZouR8/P78ib2/vYjc3txJRFJGUlKSMjo7WGI2mxT744APf0aNHZw4cOLBGwaqUlBRlSkqKq06nKwoMDNSfPXtWI/WvqKhIePbZZ9sMGDDgjLe3twEAjh07ph4/fnxbvV5vrvLk7e1dHBwcXHDlyhX1zZs3VQCQlZUlHz9+fNt9+/ad79GjR40Ci7t373YVBAEhISH5KpVKPH78uJM079y5c5rPP//cfdq0aek+Pj7FQ4cOzYiLi3OwvC6DgoL0wcHBBdJ0586dC8rug4ioIixnR0RERNQUOO80vYiIqPb8sA44cgD4exfQLdA0TUT14tNPD7fw8/tPqEw2v6ef339CP/30cKUBi8bAw8PDsGLFilhb8xQKhfj5559fUyqVtmY3KrGxscqff/7Z/JkLgoDvvvvu0vHjxy8cP378wg8//HBJEIQKt7F06dK49PT0E9HR0ecOHjx4cdu2bVf27t176ebNm6cefPDBDGm5ixcvOh47dkwNAJGRkSlbtmyJCQ4OtgqorFq16vqWLVtipJdUuu++++7LuXz58qn4+PjTx44du7B9+/bLO3bsuHzu3Lnz33zzzWXLbaxbt84dt+CRRx5Ju3bt2um9e/deunDhwpn27dubgy2ZmZmKjz/+2FOanjdvnp9lAOmBBx7IiI2NPb1nz55LV69ePfPwww+nS/P0er1s3rx5t1RC7uOPP7565syZ88eOHbsQERFhlXG1fft2FwDo1auXfsuWLTGTJ09Otpw/YsSIDMvPdtKkSRkgIqoGBpGIiIiIiIio+flhHTBrMlBUaJqOizVNM5BUHoNtVMs+/fRwi1mztgbcvJmrEkXg5s1c1axZWwOaSiBp7NixWY8++mha2fYXX3wxsV+/flZZHkuXLk0QRfGo9JoxY0a59RrCli1btAaDwRwl6tu3b86oUaPMJdceeeSRnH79+lVYgq1jx46FK1eu9LjzzjuDfXx8uqrV6h6CIPSUy+U9f/vtN6uAzpkzZ9Q16adOpyu5dOmSw6hRowLbtm0b4uTk1F0ul/cUBKHn448/3s5y2YsXL9ZoH5KlS5fGKxSm5Chvb2/DrFmzrDLKduzY4QIABoMBZcv4LVu2LE4qKefg4CAuX748znL+zp07XQ0GQ436FRYWljd16lRzUOrRRx/NspyfmJjY+KOWRNSkMYhEREREREREzc/CN4CCMlWPCvJN7fQPBtuoDixYsFun15dY3ZPS60tkCxbs1jVUn6pr/vz5N8u2RUVFlWtrrK5fv66ynO7QoUO5EmedOnWyW/YsJydH1rt3746vvfaa/969e12SkpKUhYWFdlOXyo4bVFVz5871fuCBBzr89NNPHjExMer8/HyZVMKurNzc3BrtAwBcXFwMbdq0KbZs6969u9XxJyQkqAAgKSlJkZeXZ75+nZycjB06dCiyXLZt27bFWq3WHDXKy8uTJSUl1WhYkbCwsDzLaXd3d6toVFFREe/vElGd4phIRERERERE1PzEX69ee3NVUbBt9PiG6RM1eYmJuarqtDdGKpVKLNsmZaI0B++++66X5bg7MpkMISEheT4+PsUymUy8dOmSY0xMjDkzSBSr/9HExsYqlyxZYhVY9PPzK2rfvn2Bg4ODsaCgQLZ7925zRpAoihXX36slNTmWW+Hh4WEVNFIoFM3mOiOixoGRaiIiouYkN9z0IiIiau50/tVrv539sA7wUwOeQvlydQy2UR3w8XEuqk471b7WrVtbfdYXL150LLvMhQsXyrVJ/v77b2fL6dWrV8ecOnXqwtatW69s2bIlpm/fvjkV7V8QhEoDIbt27XKyLLkXHh6edePGjdM7duy4vGXLlph58+bVWuZXdna2PDY21qos3IkTJ6yO38/PrwgAfHx8SjQajTkdKi8vT3bx4kWrAOiVK1eUOTk55swoJycno7e3d0lt9bcilY1lRURUXQwiERERERERUdM1PNz0qq65iwBHjXWbo8bU3pxUVq6OwTaqA/PmDYpXqxVWNcnUaoVx3rxB8Q3Vp7oSERHhJwhCT+m1YsUKj4buEwDcf//9OXL5P9XfDhw4oP35559dpOlff/1V+/fff7vYXBlASUmJVaTCycnJfD53796t+eWXXyo8TrVabXX+ywZwAKCoqMhqH46OjkaZzHQrMysrS/bmm2/6VbSP6oqIiNBJ4xalpqbKly9f7mM5Pzw8PBsA5HI5wsPDs8qs20oq51dcXIxZs2a1spx/1113ZVl+3nXJ0dHR6rNNSEjgmElEdEtYzo6IiIiIiIiaph/WAUcOmAIg3QJNAaCqlliTlpvxrGn9VgHVW/92UVm5urmLTEEly2XsBdt+WMfPk6pkypTe6YBpbKTExFyVj49z0bx5g+KldrJ27733tk1OTlYC5cf92b59u2tYWFhHaToyMvLm448/nlV2G2UFBgYWDx8+PO3nn3/2AEwl2h577LF2Xbt2zQeAU6dOaSoq29arV688y1JyEyZMaLtixYqcwsJC2YkTJ5ztjVskCQ4O1luu//jjj7fr1q1bnkqlMrZp06Zw5cqV8QMHDswTBMFcPu73339379ChQ2cfH5+i06dPO2VmZtbqfc2ffvrJIzAw0DkgIKDw7NmzGsvtu7m5lbzwwgup0vT8+fMTtm/f7qrX62UAsHnzZvfAwECn4OBg/ZUrV9TS+EmAKWA2f/78hNrsa0VCQ0P1ltM//PCDZ9++fR3c3d1LAOCjjz660a5du2LbaxMRlccgEhERERERETU99jJogOoFkr5ebXr/685a72KTUFm5uqoG22rjfFCzMmVK73QGjarm3LlzGsughKXMzEyFZbAjOTm5yvf6Pvvssxtnz57VSKXsDAaDcPz4cScAcHFxMfTu3Tvnr7/+crO17quvvpr83XffecbHx6sAU9aQlLmk0+mK7rrrrqxvvvnGy96+n3322bQvv/yypVSuLiMjQ7Fjxw5XAAgJCckHEN+xY8eiZ555Jnnt2rUtpfUuXrzoePHiRUeZTIbXX389PioqSmdnF9Xi7e1d3LNnz9zffvvNPS4uzsFynkqlEj/77LOrPj4+5rGJevXqpf/qq6+uTJo0KUgqW5eYmKhKTEy0Ok9ardawZs2amF69elkFdupS3759C0JDQ/NOnz7tBAAGgwGHDh3SSvMzMjISADCIRERVxnJ2RERERERE1PRUlEFDVVeVcnWjxwO97gD63wWcuGY7KMTzQdTkeHl5GQ4cOHBh2rRpiTqdrkihUIienp7Fo0aNSjty5Mi5rl27Fthb19vb27B///7zY8eOTfX09CxWKBSij49P0ZNPPply5MiRc5WN/9OvX7+CH3/88VK/fv1ytFqtwd44PmvWrLmxZMmS68HBwQVKpVLUarWG/v37Z2/atCn66aefrrUgpFwuFzdu3BjzzjvvXO/YsWOBWq02arVaw9133525ffv282PGjMkuu86YMWOyz549eyYiIiKha9eueVqt1iCXy6HVag2hoaF5L7300s0zZ86csbVuXfv9998vP/7446k+Pj5Fcrm80vGniIgqIlSUmkr2CYLgByAeAOLj4+HnV6tlWOtFeKzp786Ahu0HkaWYmBgEBQU1dDfoFvH3pRHLDTf9dd7ZILv/ExMAAPfi6wbZPxER3Ua8ZICt/58VBCCl4jJKZEHKICpbrm7ZquplEPF81LmEhATodOakC50oirVWHuvkyZPXwsLCUitfkuj2IQhCT+m9n59fUXx8/OmG7A8RUUM6efKkZ1hYWKCtecxEIqJGIyoqCm3btkVUVFRDd4WIiIiIGruqZNBQ5UaPNwWMVKXVm1oFVD+ABPB8EBEREd2mGEQiokYhKioKc+fOBQAsXLiQgSQiIiIiqtjcRaaMGUuOGlM7Vc/o8UCCHkgV7ZerqwzPBxEREdFtiUEkImpwUVFRWLhwIYxGU5mL/Px8BpKIbkNXsRGpOIlkHMbPuAdXsbGhu0RERE1ZbWXQUO3g+SAiIiK6LSkaugP2CILwMIAxAHoD8AGgBHANwCYA74qimF66nArAQgB3AOgJQHr06T+iKM6u5j6fATANQAgAA4DjAN4TRXHTLR4OEdkhBZDy860H4ZUCSQAQGRnZEF0jolp0FRtxEPNgRBEAIB8JOIh5AIA2GNaQXSMioqZs9Hjg69Wm97/ubNCuEEzng0EjImoiRFE82tB9ICJqChpzJtJ0AE8B6AjADYATTMGd1wAcEQTBtXQ5DYBXANyJfwJI1SYIwmIAa2EKWmkAaAEMArBREITJNd0uEdkXExODOXPmlAsgSfLz8zFnzhzExMTUc8+IqLadwHIYoLdqM0CPE1jeMB0iIqLbx687GUAiIiIiIqojjTmIVAjgE5iyixxhyjSKK53XBsCzpe+LS5d7GsBbNdmRIAhhAF4vnTxbuv2uAG6Wti0TBMG7JtsmIvuCgoKwePFiaDS2478ajQaLFy9GUFBQPfeM6DZVtA4wHAAMu4DsQNN0Pck3/5NatXYiIiIiIiIiImp4jTmI9KQoii+IonhMFEW9KIoHAXxgMb89AIiimFe63NcArtdwXxMACKXvl4iieE0UxdMAVpa2aWAqrUdEtSwyMhJz584tF0jSaDSYO3cuS9kR1ZaidUDBZJie0QAgxpqm6ymQpIFvtdqJiIiIiIiIiKjhVTuIJAiCpyAIywVBOCcIQmJp22uCIMwTBCGgtjomimKOjWa1xfsbtbUvmErYSc7aeW+5jBWdTgdBECAIgr1FiKgCZQNJDCAR1QH9GwDKlo7ML22ve93wEuRW/4wDcqjRDS/Vy/6JiIjsyg03vYiIiIiIqBxFdRYWBMEDwAGYyr0JAMTSWW0APAfAAGBRbXbQYt++MI2TBJjugn1di5u3LFWXZed9y1rcHxGVIQWM5syZwwASUV0Q7STr2muvZW0wDABwAHNhRBE08EM3vGRuJyIiIiIiIiKixqe6mUhvAQjCP6XfJOtL2+6vjU6VJQhCawDbYQr2GAE8LYpibWYi2d11VRaKj4+HKIoQRbHyhYnIrsjISFy5coUBJKK6IPhXr70OtMEweCIMLdEbj+IvBpCIiKjhNeB4gURERERETUF1g0jDYMo+erxM+7HSv0G33KMyBEHoCGAfgI4ASgA8JYriD7W8mySL924W710s3ifX8j4b1Los4EABsKsACLxsmiZqDIKCav1nhIgAQL0IpiH+LGlK24mIiJqhBh4vkIiIiIioKahuEMmv9O//lWkvKf3reUu9KUMQhF4A9gBoDVMJuxGiKH5Tm/soddjifWeL9yF2lmnS1mUBkxPN/6uE2BLTNANJRFQbGKRupFTjAcdVABxM00KAaVo1vkG7RURE1GAaeLxAIiIiIqKmoLpBpNzSv2XHBxpU+rfWbhUKgnA3TCXsPAGkAbhHFMXf7CzrKQiCJwBni2ZHqV0QBFnpcoGCIIilr50Wy36Nf8Z3er10uVAAU0vb8gFsqK1ja2hvpAD5ZSrv5YumdiKiW8EgdSOnGg/I7wDkdwEu1xhAIiKi5q2BxwskIiIiImoKqhtEOlL69zOpQRCESADrYArCHKqlfgHAPADa0vceAPZbBIDKBoFSSl8fWrRNs2ivcMAHURRPAlhSOhkC4CqAUwB8S9siRFFMsrVuU3S9pHrtRERV1ayC1HEbgM1ewEYXYFuIaZqatPBY04uIiGpgeLjp1RByw02v6qrGeIHh4eEID6/BPoiIiIiImrjqBpGWARAA3I9/MncWAmhR+v5DWys1BaIozgHwL5gCZQUwZV3tBjBMFMXPKlq3qfFXVK+diKiqmk2QOm4DcOpFwFiac1VwwzTNQBIRETVD4eHhOHHiREN3o/puo/ECGeQiIiIiorpSrSCSKIpbALwC0xhIgsWrBMDroij+UVsdE0UxXBRFoYJXuMWyFS0niKJ4rXS5a7bWt9jOl6Io9hZFUSOKolYUxbtEUdxUW8fUWCzyAjSCdZtGMLUTEd2KZhOkvjAfMBRYtxkKTO1ERERUf4rWAYYDgGEXkB1omq4qjhdIRERERFSp6mYiQRTF/wBoC2AygLmlf9uKovheLfeN6sh4V2CVj/l/lRCgME2Pd23QbhHRbaDZBKkL4qrXTkREdDtLSQJys4G/dwHdAoEfqhHIuRVF64CCyTCPxijGmqarGUi6NOEALk04bnO8wBOf+OHEJ3611mUiovq0ceNG7eDBg9t5enqGKRSKnoIg9BQEoWefPn061NU+t23b5iTtR6vVdktNTZXX1b5u1bfffut63333tW3ZsmVXlUrVw93dPaxPnz4d3nnnHa/i4uJyy6empsq1Wm036fi2bdvmVNk+oqOjVYIg9IyOjlZVtFxSUpJcEISeLVu27HoLh9Qo/fXXX04ymazntGnTdNVZLycnR+bl5dW1S5cunYxGY111r9pq8xqv7jXY2LbfkH04d+6catGiRS0fffTRwDZt2oTIZDLzb1xF37mIiAg/y+Uqe40aNSqw7DZGjRoVWJV1n3jiCasayTX5DWksqh1EAgBRFONEUVwjiuLi0r83artjVLfGuwJ3OAJ3OQLX2jGARES1o9kEqR1bVa+diIjodvXDOuDyRcBYWu08LhaYNbl+Akn6NwDkl2nML22vBXEbgJIcoDgLyDgMFDaOQR5jYmKqtBxL3BE1b7/88ov2kUceab9z507XtLQ0hcFgqPN9Go1GREREtJamn3322WRPT8+633E1FRcXY8SIEW3GjRvX7s8//3RLSUlRFhcXC5mZmYrDhw87v/766/5hYWGd4uPjrWpqeHp6GiZOnJgsTb/88sutbQU3CgsLhXKNlczft2+fEwB06dKl7D9sTZrRaMRLL73k7+zsbJg/f36irWUSEhIUgiD09Pb2tgqgabVa46xZs26ePXtW8/HHH3vUT48rVlvXeE2vwcay/cbQhzVr1njOnTu39f/93/95XLt2TS2KYuUrNbCq/oY0RpUGkQRBmFedV310moiIGq9mEaTu+BYgd7Rukzua2omaMd6wJGqGFr4BlP2f34J8U3tdE69Xr92G9J+A/BPdkHeoG872Nk0D+Gf8Q7H02IyFQO6lBh//MCgoCG3btkVUVFSD9oOIGr81a9Z4Wt6c1Ol0RUOGDMkcOnRoxoABA3LqYp9ffvml++nTp50AwMHBQYyMjEyqi/3cqqlTp7b69ddfpfHd4ebmVhIeHp7l7+9fKLWdP39e89BDD7UrG3ybM2dOkoODgwgAp06dcvryyy/dLedfuHBB1bp169D//Oc/nmVvDhsMBrz//vue/v7+oRcuXLDKkjh06JAGAHr06JFXW8fZGKxatarFmTNnNBMnTkz28vKyGWzZsWOHEwB07949t+y8iIiIVE9Pz+K3335bp9frKwzO1YfausZv5RpsDNtvbH1wcHAQ1Wp1laIxnTt3Lhg6dGiGvZezs7NVZ3r16lXhd9LPz6/I3rZ69OhRLihc2W9IY1WVSN+/AVQnlLegZl0hIiJqIlqNMf29MN9Uws6xlSmAJLUTERE1F/F2Ajb22muT4A+Isbj01A4AQPB/B//TXgXpPwE3ZgNikWm6OM40DQAtXGyMfwgjsg5GwLXMv/dS8Hznzp0V7/DvB01/+/9Wpf6VFRUVhdjYWADAwoULAQCRkZHm+Xq9vkbbJaLbU3JystJyevPmzRfDwsIK7S1fGz766CNv6f3dd9+d6e3t3eiykE6fPu2wdu1acz+9vb2Ljx8/fs7X17ekpKQE9913X7sdO3a4AsDJkyedPvnkE48XX3wxzWJ5w+DBgzO3bNniDgAff/xxy4kTJ2ZI89u1a1cUGRmZ8M477/h99dVXnhEREYkA8PfffzuNHj26bXJysvKVV15JaNu2bZFlv44dO+YEAL17976tMpE+/vhjb0EQMHXq1FR7y/z999/OANCnT59yN+vVarU4cuTI9FWrVnmvXbvWferUqelV3bcgCD0BYNasWTeXLl2aUJP+l1Ub1/itXoMNtf1Ro0YF/vTTTx4XLlw43aFDh6KKlq3rYwSAO++8M7dVq1axd9xxR17v3r0LBgwY0OHw4cPOla03adKkjEmTJmXYmnfhwgVVSEhIqDTt6upqmD59eoX9uuOOO3J+/PHHa1Xtd2W/IY1VVcvZCVV8ERERNQ+txgBDzgLDskx/GUAiAsCbmETNjs5OwMZee21SLwKgKdOoKW2v3M0oQCwTJxILStvzbVds1yqy6icLKG4DsNkL4kYXYFsIfvnkSSxcuBDSU+35+flYuHChuS/Xr1/HwYMHa963onVAdiCQJTP9rc64UkTNzO+//+48cODAYK1W202j0XQPDQ3t9OGHH3oAppvW0kun04Varld2HI4VK1ZUqzyXNLaO5bhG6enpsqlTp+oCAgK6qFSqHh07duwsjdVx6NAhreX63bp161LTfVfFwYMHHY8fP24e32P8+PE2b7xKY5h06tSpc8uWLbuq1eoeKpWqh5eXV9f+/fu3X7x4sVdBQUGd3WNcvXq1h2WG0IQJE1J8fX1LAEChUODVV1+1Krn21VdfeZbdxvjx482BjGPHjjkfPHjQXKZCoVBg1qxZqTExMaeHDRuWOXPmzEAAeOmllwKGDx+eceXKldOzZ89OVSqtYnw4ffq0BgAGDhxYLpBy8eJF1XPPPdcqKCgoxNHRsbuzs3P3O+64o/0PP/zgUtGx7t+/33HYsGFtPD09w9RqdY9OnTp1XrVqlbvRaISTk1N3hULRMzc3t84+6127dmnOnDmj6d27d46toMMHH3zgIQhCz08++cQHAN5+++1Wltf47t27NQAwadKkVABYvXp1y7rqa1VU9RqvTG1cgw25/cbSh0cffTQ7IiIitX///gVlv0819c4773hb9vupp55K0Wq1tV5vrqLfkMaqKplI/7J4rwQwH6aA0RoAcQBaAZgEQA5gbm13kIiIiIiahuvXr+Pq1auIioqyejqeiG5jcxdBfOIpWBWvcNQAc6sWyLklqvGlb2QAjIAQYAogmdsrVhxvu70oTsSNVBH+XuXvq11PFfHWW6bytdXKAorbYBpXyVgIbAupOINZKqVnLDQ9qVlwA0NaXseIXkVYv/ufxaRA0s6dOyvMUKpU0TqgYDLM40uJsaXTsP4sc8NNf513Vn3bRLeZFStWeMyaNSvQ8ibjmTNnNDNmzAiUsinqS3Z2tvyOO+7oeOnSpRrffIyKivLatWuXtvIlrX3xxRfX/fz8SizbvvvuO3NJJplMhocffthmybxFixbpCgoKyj3UnpqaqkxNTVXu379f+9VXX3nt27cv2nKsmdrq6/79+6220bdvX6ugzaBBg/IEQYA0vsqpU6ec9Hq9oFarzf/QPfTQQ9kymcwc2N+wYYNb3759y6avQi6Xi2Wn5XJ5uT7Gx8crEhMTVT4+PkU6nc7qc/3iiy/cZ8yYEZiXlyfr0KFDwT333JN18+ZN5aFDh7SPPfaYdsmSJddfe+21coP2LVu2zPOVV17xNxgMQmhoaF7r1q2LoqOjHZ9//vmg8+fP38zPz5cFBwcXODs719lAMj/88IM7AISHh2fbmq/Vao0jR45M++WXXzwMBgMeeeSRNJnsn0ujR48eBQDQu3dvvYeHR8mJEyecEhISFGWvvfpS1Wu8MrVxDTbk9ptKH6orLS1NvmHDBnMwS6lUirNnz06uaB0AiI6Odnzqqaf8MzMz5RqNxhgcHKwfPnx4dp8+fcr9Jkiq+hvSmFQaRBJF8SvpvSAICwH4AOghiuJJi/afARwFEFwXnSQiIqJawhs/VEcqK7NERLenqEvXEW0EjABEEch2cYPrex8Bo6sWyLlV6ZvGw5h3AqIROHvPNfhGAi1GVm1dpc5Uwq6smyWxeO8rPVZPV6Nd8D/3MgxGEXO+LkRxcQkWLDBVcY+MjKw8gG4RFAIAFNwwTQO2A0kXTKX0TsSY7p12C5LDyUHA4gkOWL/b+r5Zfn4+tm7dajUt/QYDVcwO1b8BcwDpny2Z2qUgUtE6wHAAQKEpU6kawTqi28WpU6ccXnnllQDLAJKnp2dxhw4dCi5evOj47bff1vrT/BWJjo52BAAXFxdDSEhIfklJiVBYWCj06tUrLy8vT3bw4EFtZmam+b7foEGDshwdHY0AEBQUVAQAR44ccfrjjz+qPR5HTk5OuV/PvXv3mm8at2vXrsDV1dXu0/vOzs6GgICAQldX1xJHR0djTk6O/Ny5c5rc3Fw5AFy8eNFx9uzZfl9++aU5LbS2+hoTE6O2nG7dunWx5bRGoxG1Wq0hOztbDgDFxcVCdHS0yrIUoLu7u7Ft27YFUgCv9NhvAqZxjz755BOPqKgoP09Pz+Lly5fHTpw4MWj58uWxS5cu9VmzZk3LOXPmJEydOjVNCijt3bvXCQBCQ0Otfoy//fZb18mTJ7fRarWGn3766cqjjz5qDsasX7/e9Yknnmj373//u9WTTz6ZYRl82rhxo/aVV14J0Gq1Jd9+++2VoUOH5gKA0WjEpEmTWn/wwQe+ABAWFlanpfP27dunBYABAwbYHFNm4sSJGUOGDMn56aefPLy9vYt//vnna/a21b1799xt27a5/fbbb1p7pcjqWnWu8YrUxjXYkNtvKn2oruXLl3vm5+ebo5jDhw9PDwgIKK5oHQA4e/as5uzZs1ap8YsWLcJ9992XuW7dumuWwXBJRb8hjVVVy9lJJpb+LVvgOrb071O31h0iIiIiamqioqIqLLNERLcn6bufZBCRLQK7SgC/5CJEXaqH8ZBgMaZR6S0caUyj9J+qtr5vJCCUeX5fcASSHzqJnw8psPaQHieEApwQCrB8kgM+nKzG4gkOGDdIAb1ejzlz5mD27NlWAXSbv3sXbIyvZCgwtdtgr5Sev2fVKg5Jv8GnTp2qWok70c75Eq8jJibGIlOp9L6OlKnEknd0iz79OqaFX4/NobLWP/b067E59NOvY1pUvlbDee+997yLiorMX8RevXrlXrly5czevXsvXbly5UyfPn1qlJVwKwYMGJAdExNz+u+//7546NCh6AMHDkRHRkambNmyJSY4ONgqirxq1arrW7ZsidmyZUtMTTMoKmJ5E7V9+/Z2n6j/66+/LmRkZJw4c+bM+X379l3atm3blYMHD16Mi4s7pdPpzCXPNm3aVCfXQ05OjlUqkLOzc7kbvFKwTZKamlruIfwOHTqYj/HMmTPmEmfR0dGqt99+WxcREXHz+PHjF/r3758HAP379887ceLE+VmzZt1csGCBLjo6WiWtc/jwYQ0A9OjRwxxsSU9Pl73wwguBRqNR+Pbbb60CSAAwbty4rB49euTq9XrZxo0bzWXtiouL8cILLwQYDAZ88cUXV6UAEmDKnlm2bFm8lO3Ts2dP8/7OnDnj8MQTT/h37Nixs0Kh6BkcHBxi5yPE6dOnHe68885gjUbT3d3dPezpp59unZOTU+4e8/nz5x0BICwszO4TDX///bcTAHTp0sVmoEnSsWNHPQAcP368bB3belPVa7wytXUN1tX2pZKYZV8//fSTBwB07Ngx1NZ8y2u6ro+xthUXF2PNmjVW5RJfffXVpFvZ5tatW92GDh3azmCwPWyWvd+Qxqq6J8et9O9qQRD+jX/K2Un/9VthLU4iIiJqXsJLHzPZGdCw/aC6I91Ezs+3fpDR8ml4ZiQR3X4sv/stPYHXA4G/twJn4/Ixf8lbiIqq++++NKaR/kI3c5s0plFVspGkZW7MAsQiQNnKFFgKGzkC7g8Nw5CB36PkqCMgAldL1wlsKcPq6Wo4OIhIEAZg5cqV5QLoQJljL7CR7mSnPSoqCuO9TaX02vla34+7nlpxhZc3dpjGoVo0+Dry8/PNv8tSn/744w8AwM6dO61XFPxNgaEysrJd0bZtW2Red4OrSyWZSkTV9OnXMS1mzT8ZoC80ygDgZrJeNWv+yQAAmDIhKL3itRvGnj17rO55vfXWWwkuLi5GwFSWa/78+QkPPPBAB3vrL126NGHp0qUJtdUfuVyOzz//PNbDw8N8h9LR0bFapaBKB4O/dqt9yc7Ollk+we/h4WG33FirVq2KX3nlFb+dO3e6XLt2zSE3N1deUlJSLkqelpamSElJkXt5eRlqs69liaJYbt9Sia2KtGjRwnyM+fn5spycHJlWqzV27ty56MaNG6cdHBzKbUQul+OVV15JnTFjRprl/GPHjjkBQJ8+fcw/tp999plHenq6Ijw8PMsyEGSpTZs2hceOHXO2vPm+atWqFjdu3HC46667ssoGngDA1dXV6OnpWZyUlKS0LDF24sQJx+3bt7t169Yt12g02vxcACA1NVU+ZMiQDjqdrujrr7++kpiYqHzzzTdbpaWlKTdt2hQjLZednS3T6/UyAPD29rZ7PRw9elQDAN27d68wK0r6vJOTk8sNfjNq1KhAKcBhy7Jly3yXLVvmW7b9woULp22N1WRLVa/xWbNm+Z0/f15ta96WLVtibLXX9Bqsqupuf8CAATavt8OHDzvfuHHDYejQoRlOTk7lsrCk38Pa6EN9++KLL1okJiaag2ADBgyosBydv79/0QsvvJB43333ZXfq1KnQ19e3+NKlSw7vvfee9/r1681ZqceOHXNeu3atu63sOXu/IbV5XLWpukGkvQCGAHi09GVJLJ1PRERERM1ATEwM5syZY3d+fn4+5syZg7FjxyIoKKgee0ZEdcnyuz9uNHAjHvjwHUAmAwL9gY/eL8ZzM+YgJqZuv/v2xjSy125Li5FA2v9M74MtMpjC7/gTThogq/T+Rq7+nxsdTmoBS552QNDkvVULoDu2MpWwK8uxldWk9LlqJzvghYeUMFjcRhBFEZsO/XO/SqPRYODAgdi7t3wfysrPz8fcuXOhUqnQt29f0/GFhwMoDSipF1mPiQSgqFiJDr2yAABa50zbG7aXwURUBQuWn9dJASSJvtAoW7D8vK6xBpEsbzACQK9evfLLTNfreBZ+fn6FVb0BXtfS0tKssg5cXFxsPnp/9OhR9ZAhQzpYltmrSEZGhjmIVFu0Wq0hPT3dvP+8vLxyGTRS8EPi6elZLmBQ9oZ5WlqaXLoBbCuAZKns/DNnzmgA67JvmzZtcgOASZMmlRvvSCKNLWV5M/qXX35xB4Bx48bZ/R7p9XqZQqEQ77jjDvM1O27cuMwnn3wyEzAFZU6dOmUzM2LZsmVe2dnZ8hMnTlz29fUtAQCFQiFOnTq1zZEjR9S9evXSA0B6erocAFQqlVjRODcnTpzQAEDPnj0r/MdMuqaysrLKDypVD6p6je/bt097+PDhCsdHq61rsK62HxERkRoREZFadp1Ro0YF3rhxw+GDDz6Iq+y3p66PsbZ99NFH3pbTERERFWYhLVu2rNwDAd27d9d/8803scnJyYq//vrLTWr//fffXW0FkSr6DWmMqhtEehHAbgBeNuYlA5hxyz0iIiIioiYhKCgIixcvtpmJBJhucs6dO5cBJKLbjOV3f/G8fDwz1Xq+kwZYudQNrq3r9rtvb0wjpc5iIm4DcPIF03hEjq2Bjm/ZHofIQlRUFF6bklnhMl7OhXaDN+UC6B3fMo2BZFnSTu5oarcQFBSE++67Dw/32QdBEHDiquleyl1dFBAEAQ/3UeCD7a1x+fJlzJ07F5GRkXazQXcsMtXpG/yGaZ9GoxF6vR5Xrlwp32Epm0j/BiBeR1a2K156PQ9JyaZ7ftfjTMHBcgRbjURVk5iiV1WnvTGSxrORyGSyen2svmXLlpWO1VGZqKgor127dmkrX9LaF198cd3Pz898w9cyGwoApHFOynr55ZdbWQaQ1Gq1MSwsLM/Nza0EAMqO42SZqVBbfW3Tpo0+PT3dfJP/+vXrSsuMg5ycHJll/5VKpWjrhnl2drbVDfCyn4GkQ4cORaIoHrXXv2vXrilTUlKUOp2uyNvb27yN6OhoDQD07t3bbnBSGherd+/e5n8EbAWkLMXGxiqzsrLknTp1yrfMXCt7PduzdetW1379+uVIASQAePrppzNmzpwZ+Ouvv7pKQSTp8ygqKhL0er1gL5AklYiTyv7ZI50T6VqxJI0DVrZdGkMrKChIHxwcXO5zrM4N+6pe41VRW9dgQ22/qfShqrZs2eIsfW8AIDg4uGDkyJHlsviqavDgwTmWQaSkpKRy2XNA1X9DGotqBZFEUYwWBKELgAgAgwF4AEgFsAPAMlEU7UbHiYiIiOj2Iz1pX/YmphRAYik7otuT9N32b2U7G9HVJavO++AbWTomksVtIcHR1A7AFEA69aIpgASYsoFOvWh6bxFIssxAkrKBxj1sCpzYuyN8I1WEUqlEcXH5e7jlAujSvioJZsXExGDr1q3wn2b7AWZ/TwGXL1/Gjh07zJlE0nmYO3eunZ5ai4uLw+zZs8vPUI0HVOMtglL/HNecBcDqFabgoMVRmjKYiGrIx0tddDO5fMDIx0vdKDJrbPHx8SmKjY11kKZPnDihvvfee803vqVxbeqLNK7NrThy5IiTdKO9OnJycqxC+C4uLkZHR0ejlBljmYFg6ejRo+YfOJVKJZ45c+ZM27ZtzT84bdq0CbGXpVRbfe3fv3+OZT8OHDjgNHr0aPMN4927d1udx65du+bZCoBYHqNGozHWNINg3759Gmk/lu25ublywBRos7XeoUOHHK9cuaLW6XRFPXv2NI85lJGRoQAAV1dXmzekv/76a3cACAsLqziN1Y4rV66oH3/8cassFUdHR7F169aF0dHR5jJuWq3WfE0kJSUpAgICyv2DmZiYKL9586bKy8ur2N/fv8IslLS0NAUAeHl5lVsuMjIyJTIystw9aUEQegLAiBEjMm61lGRVr/FDhw5FV7at2roGG2r7TaUPVfWf//zHKgtp+vTpFWYhFRcXQ6m0GRcCAFy9etXq3zZ7WWu19RtSX6r9L44oiimiKEaKoniHKIrBoij2E0VxDgNIREREVJl78TXuxdcN3Q2qZZGRkZg7d675ZgYDSETNQ2RkJHJy3WzPrI0slbgNwGYvYKMLsC3ENG2hxUig9fuAUPq/6spWpmnzeEgX5ltn/wCm6QvzYY+UZfVWlAJ5dm6v5elFRH5diOLiYqjV1sMeSL9/Y8eOtV6p1RjAvTfgMRAYctZmNpS077g007RcZnqZP440YPHixeYAkiQyMhIBAabBB93d3fHMvU64o4Mcbk4C+raXYdwg6/tcK1euxJLhp7B8zEWrdimAVjaraf0PwHMzgGvXAaMRKDb4AY6rEBPXz/YHRFQF817qFK92kFndMFM7yIzzXupUjYKU9WvQoEFWT6YvWLDAr6CgQABMT9XPmzfPr6L1IyIi/CwHoV+xYoXdMVyaopCQEPOPx8WLFx1tLWM59pFMJhM1Go35pvF7773nee3aNZtjydSm5557Ls0yAPe///3PKyEhQQGYbg6/++67PpbLP/300+XKegH/ZAEB1sdeXYcPH3YCgB49elgFkTw9PYsBwNb4OgaDATNnzmwNAFOmTEmyPB6NRmMsXc+h7Ho3b95ULF++3BcAevbsWWHmjz3Z2dlyNze3cjfFXV1dS6QAlqRz5875gCngamtbUuC1Q4cOlZaCvHDhgrq03zX+rG9VVa7xqrjVa7BPnz4dLH9LoqOjrYIWtXWN34ra6ENlx1kbzp4967B9+3Y3adrLy6t48uTJFZZU/eOPP7S9e/fusG7dOteyDxP9/PPPLv/73/9aWrb179/f5hhTtfUbUl9u/bEFIiIiImr2LG9iMoBE1Hy4en+E8mMl10KWir0sIhuBJE1PwKkfEHLYIoAEAAWmh89PxBhwIsZQrt2eyMhIJKbdjedsFGu/lmzEcx/p8csRFRYvXox58+aVC6CvXr0abdu2RVRUlPXK/X8zvSrZ9zfHgpGnF+GsFuCsNn22eXoR3xwLRuRde4C/Hyy3nr+/P7QuWnTt6IvPXlBBrTKtp1YJWD1djZau/yybn58PfWEh9Hq91TakIJZCUf7h6vU/AME9FHjn08VQtohHUMc3bR8jURVNmRCUvuytsFjfluoiQQB8W6qLlr0VFttYx0MCgFdeeSVJpVKZgx579+51CQwMDL3zzjuD27Zt2+XQoUPVLrXW0H788cdroigere7LVtmpO++8M0d6f/nyZceypZoA62wbvV4v69y5c8jgwYPbtW/fvvOrr74aIAhl/z2p/b6GhoYW/utf/zJnGiQlJSlDQkJCBg8e3K5du3Zddu/ebf7FDAsLy5s2bVpa2b5kZGTIrly5Yr4BfOedd9a49NXx48c1ANCnTx+rm8j33HNPJgAsWrTINz8/3/zBpKeny0aMGBF04MABbd++fXNef/31ZMv1evfunQOYgpy5ubnm9S5fvqy89957g6XshzvuuKPOb1pL18S+fftsptgWFRUJAJCfn1/p/enjx487C4KA+++/P6eyZetKVa7xqqiNa7Ahti99B6tSdq6ujxEAvv32W9ewsLCO0uvcuXNW2U2PPPJIO2nevffe29bWNt59992WRuM/zzNMnDgxuSoZUUeOHHF+8skn27m7u3fv1atXh7vvvrtdcHBwyMiRI4MLCwvN3ztvb+/iF198sVyArDZ/Q+pLtcrZCYJQWW0+URTF6o6zRERERES3AX9/f7Rs2ZIBJKLmRDUegmIhZkbGYNfmYlMGknrRP+Ps1FRFWURlsngsy9FZyirSwlX1z/+Th/d5EgDwy95f4Wq5oBSUKQ3wREVFYfv27SgpASZ3N82SxhYCAKVSifnz/wmWr169GlevXjWXlIuNjQVgKvMJoFq/iVFRUVi4NhqnThdh9qMqyART4GrO14VwcLiIkpSrUMgMpsysMiXxZDIZkH8NKpl1pR8ntYA23jIkZ5lukowbpICLIyATCpH1Yyu49l1qtR17N3Gl9qioKJvHGBMTg6CgIHOm1M6dO6t83NQ8TZkQlN6Yg0ZlhYaGFr733nuxs2bNCpRuOiYnJyuTk5OVAPDMM88kf/nll+Yn0JVKZYOUZmooY8eOzVi2bJkvYMqU2bx5s3bcuHFWtU0XL14c/+CDD3aQggeZmZmKnTt3ugLA4MGDs7KysuTHjh2zXdOzFq1cuTIuOTlZuXHjxhZl+yHp2LFjwcaNGy/bGito06ZNLpY3nseOHZtZ076cOXPGSRAEDBgwwCqos3jx4pvbtm1z27Nnj0tQUFBoWFhYXlFRkXD48GFtXl6erH///tmbNm26Ujbw/+abb97csWOH2759+1zatWsX2q1bt9zc3Fz5oUOHtL169cpxd3cvKSwslFU01lJFXFxcDJmZmeU+lKysLEW7du2snk4YPXp0xvLly3137tzpAuBm2XX69++f7+TkZDx27Jhz9+7dO7Zp00YvCAJmzpyZPGjQIPPncejQIcf09HRF9+7d8yzHt6pvVbnGq+pWr8G63P7SpUs97QX+KvLRRx/FWY6VVdfHmJycrDh16pSTvfkXLlwwB2n8/PzKBb5SU1Pl33//vac0rVarjbNmzaq00pogCObf9ry8PJll2T5LrVq1Kvy///u/y66uruXK1NXmb0h9qW7EVKjCi4iIiIiaqbKlnYioGRC8ISj6Aa5GwOXarQeQAPvZQpVkEUmioqLw0meZyNNb38M1GIGXPsu0m0EjlXQrKSnBuEEKyGWAQg5snr4JG6dtAmAqw2JZrs7f3x99+/YFYAqqSDcF8vPzsXDhwipn61iWk1u/uwQ9Z+Wj+0v5aDPJ9OD+R88JpgASYDczC4ZCm9tWl5bub+kKrJ6uhqz0/9xdVdkwnpgOxG0w79/WOE/Scc+ZMwcLFiwod4wtWrRA27Zt8cv3YwDDAaBkF4rTdUDRuiodO1FTMWPGjLRNmzZF9+/fP9vZ2dng6OhoDA0NzVu5cuXV2bNnW2WEtGzZ0vaX6TbVt2/fgh49epjLNq1bt65cub577rknb9u2bRfCw8OznJ2dDQ4ODmLbtm31b7zxRtzWrVtrdCO5JpRKJX799der33zzzeV77rkn09PTs1ihUIiurq6GXr165UZFRV0/ceLE+datW9sMWKxbt66F9L5Hjx65ffr0qVFA5tKlS6r09HSFv79/oYeHh9WD+zqdruTAgQPnx48fnwIA27dvdz116pRTt27dcj/55JOre/bsueTu7l7u5vSAAQMKNm3aFN27d+/crKws+d69e10LCgpk7777buySJUviMzIyFP369ct2cHCoUZCzbdu2esuxjwCgoKBAuHHjhkOHDh2sgkgDBgwoCAsLyzty5IizrVJkvr6+Jd9///2l3r1758bExKh//vlnj59++snD2dnZ6rjWrFnjAQDPPfdcctlt1KeqXONVdavXYF1uf9++fc4//fSTR3VfZTOz6voYb9WyZcu8pDGuAGD06NFp3t7elSXQ4IEHHsj97bffoqdMmZLYs2fPXOm4FAqF6OnpWTxgwIDsJUuWXD9//vxZy/HKLNXWb0h9EkSx6r8ZgiDshPXYogoAbQD4AcgHcEgUxbtrs4ONlSAIfgDiASA+Ph5+fhWWvm2Uwk0Pj2FnQMP2g4huP/x9IUlTuhaaUl+JiBqTKmeexG0wZRIVxAGOrcpl0ljZFmIKlJTl2No0plAFYmJi0LatqWrJuEEKxCQaoVYC+t8n42qSiOTenwEArly5gqCgIKtMJGndcYMUWD1djeOlZfDE1O8hAvj00CNYv7vkn3VLj//69etISkoqN54QUL1x4qKiorBw4cJy27m6xgmBLW08A1r6eYSHh+Oh5enoFlCMe/eahpQ5EWPAS2sKsXOxBnfMzsPBi0b0bS/DgfedzOX9ugXJrbZjb/8AoFAoIAiC3SBTS08g5hRw6TKQmwfMXQhs/T8lVC5rayewSEhISIBOp5MmdaIo3tJA8ZZOnjx5LSwsrNbHxbjdXLt2Tenr61tS9ga8wWDA2LFjA3/88UfzTeVXX301/p133kms/142nLVr17pPnDgxCDA91X/9+vVTXl5eld6UbUoSExPlAQEBYVI21dq1a68888wzmQ3crUoZjUbcf//9bf/880+377777tKYMWPsls8aNWpU4KlTp5wuXbpU7h/cN954w2fZsmW+MTExp3x8fAwAsGrVKvfnn38+6MiRI+VumkvzZs6ceXP58uXV/s3S6/VC69atQwVBwPXr109XpdRYXWoO1zjVrcb8G3Ly5EnPsLCwQFvzqpWJJIpiuCiKgy1ed4qi2ArASwAcAXx0y70lIiIiIiKi24s0xlHBDcCpBAiOtp1JI+n4FiAvM2a13NHUXglpbB+NRoP1u0tw8KIRu84acTDaiORMERqNBosXLzYHgWytGzXBAU7qfwptdAuSo3uQHFETHMqtq9frcfXqVZuBF8CUrTNnzhzExMRU2vfIyEjMnTsXGo1VWX/4e9op+lGambVz505069YN0ASW+9yKjApcKy3OImUk2duOvf2r1WqUlJTYDSABQJtAwMl6NaiUxchKmm53HaKmZunSpV6enp5h9957b9t//etfrV966SW/J554IiAwMLCLZQDJ09Oz+JVXXqm0LNLt5umnn86Qxj3S6/WyxYsXezd0n2rb4sWLvaWbv2FhYXmN5eavZPfu3ZqybfHx8YoxY8YE/vnnn27h4eFZtgJIOTk5srVr17qvXbvWPS4uTpWbm2uevnjxojmLaNasWSlardbw0EMPtfvxxx9dPv744xavvfaa/0MPPZRhK+ti0qRJGaGhoXlffPFFy5SUlGqnmi1dutQzNTVV+eabb8Y3dAAJaB7XONWtxv4bYk+NBgArSxTFFQDyALxRG9sjIiIiqk/rsoADBcCuAiDwsmmaiIhqUUVjHNnSagzQ9UNThgwE09+uH9rPXCrDXjBEJpdZZwXFbQAyDgNpe03ZT3EbEBkZCX8v0/8qO6sFOFsEk/y9ZOUyig4cOGAOWtlSUdCqor7LZDLz+jklrrYXdmxlPe3gZfqcZA6lB+wAVc9PoXEzpdnq7cWALLZT9rPTaDSYN29ehccIAGoH2+1aZ/vlA4maotzcXPm2bdvcvvzyy5YffPCB7/r16z3j4uLM3wB/f//C33777aKnp2ezy06QyWT4z3/+Y04jXbNmTcvU1NT6qVFXD1JTU+Vr1641j3v1/vvv20iZbThXrlxR3nXXXZ10Ol3ooEGDgh9++OGgHj16dGzXrl3ojz/+6NG7d+/cH3/80eYTDQkJCYqJEycGTZw4MejQoUPaxMRElTS9ZcsWrbScp6en4c8//4zWaDTGJ598su3cuXNbDxs2LGP9+vXXbG1XJpNh+fLlN3Jzc+VvvfWWT3WOJycnR7Zs2TLfkJCQ/BdeeCGtWh9GHbndr3GqW439N6QiisoXqZggCCoAwwA4A+h0yz0iIiIiqkfrsoDJiYA0ikRsiWkaAMbbuWdHRET/qLSMHVCzMY5ajaly0MgWKdgjlWeTyWUICAhA5ODXTQtI2VHG0n8BpHGGAAia1kDBDXO5t5zSbgqa1lXal6Q6pexsbW/OnDmYO3cuXPu2NfXNMhBnLzOr9HN7KTwccDdN+/t/gvj4eFxNKio3TlReoYhtN7pjxBD7+7fs/7x581BSUn74Ar3t4ZhwPc70uVhul6ipGjt2bEZubq788OHDzomJicqsrCyFXC4X3d3dSzp27FgwfPjwjMmTJ6drNJoGz5hoKEOGDMkTRfFoQ/ejLnh6ehpycnJONHQ/KjJmzJjUgwcPao8fP+5UUFAgc3V1NfTu3Tv38ccfT3v++efT7Y071aFDh6KqnreuXbsW7tmz51JV+3T33XfnGY3Gal8TWq3WmJKScqq669W12/kap7rVFH5D7KlWEEkQhIqeohABxN5ad4iIiIjq1xspQH6Z/83PF03tDCIREdUSx1Z2xjhqVb6tFpmDISc3QLgjAFcVAgKLV2KRbBDGV5Qd1fGt8kEbyCosp1c2kFTTAJLl9saOHWudwXTyBVPQy7F1xWNKlXH9+nUUFRUhuQh47iM9Zj+qgkwAriUbMefrQvxy5GfMzYqy6qvN/QMQBNul9a5eA/LKVPTLywfmLPinpJ+t7RE1JQMGDCgYMGBAk3lynJqXtm3bFn/33Xe8N0tEta66mUh2CjGbvVvTjhARERE1hOvlH6ausJ2IiGrAVlBGBqDdELurSGJiYm4p8OD/6nA4lihRIDM9ExmLbEw2bsETBXG2/we3IO6f4MzJF2AsckaJvgcgqpD1uwzqgUVw6KSytWaFGTzVFV7yDeAP7ETpsbcaA1z/0vS+/2+Vri9liEVFReHatWvm9vW7SzB5qGlwpO4vSVGfEptBHsv3MTExmDNnjt39JacCQV1NYyNduAh0bA88NwNY/8M/GVkMIBERERE1PdUdE2k3gF1lXlsBrAYQLori2trtHhERETVVTWWcIX87j9TYayciIhv+ftD0sqfVGBwpCMao/BycaZMPyEQguABwXwMUrbO7WlRUFNq2bXtLY+q8YdxtDiBJ8lGCeHUl4wy1GgOjqicMxcGA6ABAgDFHRP6fBSg8X2R3f5GRkbhy5UrdlG7r/1uVAkiSqKgoLFy4EKJYcWUtm+M2lTmnQUFBWLx4MZRKpd3tJKcCB48AWdmmv+t/MLUPHDiQpeyIiIiImqhqBZFEUQwXRXFwmdf9oig+L4ri7rrqJBERETUt9sYZaoyBpEVegKbMo+gawdRORERVELcByDgMpO0FtoWYpsuIiopCyw5/AwrAYAROXDMC3iUA8gH9GzY3GxUVhblz5wIwlYiraSDpOrJttr/W/i7TuEKWyowzZMw2mgq3WyoB9Hv1Fe7zVjNuphX/gV3iDewSb0BR/C6mFf9R7W1IASTLMZokg98owOA3TFlhNsvuVXBOKwtI2bJ161bExNgcy72c8PBwhIeHV3sfRERERFQ3qhVEEgThC0EQPrczb4IgCBNqp1tERNSU7Qwwvaj5qmicocZmvCuwygdwKJ0OUJimOR5SNcVtADZ7ARtd7N5EJqLbUNwGU5k6Y+ljAwU3TNMWvwFSMKOVznbwQTSWH75BWsdoNAIwjalT00CSP1xstu/z6w90/RCQlf4L4NjaNG0xzpBop7SpMaf6gZSqmlb8B1bihHnaABErcaJagSSp9JytAJIltVptO4Bk45weuOM8vJcOQElJCXYscsSORY62N1qGzSwnIiIiImoyqlvO7pnSly1fAvjiFvpCREREt4mmNs7QeFfgDkfgLkfgWjsGkKotbgNKjk3HidiWOHGjNVBwAyXHpjOQRNRQKistV5suzLce5wgwTV+YD8A6mHE9zvYmYm/AKkvFXgZNTQNJi2SDoCkzHLAGCiySDTIFjNx7Ax4DgSFnrQJIACDYKW0q01Y2XHDNrcLJarXbIpWe02g0FS43b9688mXmbJzT9L8fgjquDbrL78Rmz6tQoMyYUH9ONr3KsJnlRERERERNSnWDSDYJgiD9l2nd/Zc01TpmChARUV3hOEPNS+6xN6EQrEs7KQQ9co+92UA9IqJ6UxCH8Dn52HuuBCdiDFbtgHUwY84CoGwltLx84Nufu5izVCrLoMnPz8ecOXOqXBoNAMbLQ7BKdj8cIAcABMAFq2T3Y7w8pNJ1ZS6y8v+XqwDUA9VV3n91GcrVz6u43Z7IyEjMnTu3XCBJo9GgTZs26Nu3r+3gTsENq8n0g6Nx478fAQY1BEGAnyIQasGxfCDJBo6FRERERNT0VRpEEgRhRGkZuy8s2r6wfAGQ8uptF5smIiKiZoXjDDUvGiRWq53otjQ83PRqbhxbVdoeGRmJgQMHYv0PQIFFgsu168BzM4C334kxZxdVlkFT09Jo4+UhuEPww11Ca1xTTq1SAAkAZE4yyN1lKI0/QaYVoLnXEQ6dKg+g1JTczrOZ9toB4Co2IhUnkYzD+Bn34Co2AvgnkCSTmf7XX8oM8vf3h1ptJxAmyK0mb/78b4hF1udDgABHuRpX1zhh3CD7T4hUZywkIiIiImqcqpKJ1A2mEnZPl04Lpe8tX/1hGm70RG13kIiIiJoejjPUvFxPb1GtdqLbzg/rgCMHgL93Ad0CTdMNJW4DkHEYSNtbL+OT/XKxOwxG6wyZIqMC6PiWeTomJgZbt241zSs2ZSNlZgPPHgaSHiifXVRRBs2tlEbziF0Ij9iF5Wf0/830ssGt931oEX4/FL5yKFrJ4fqcS50GkABgMsKq1X4VG3EQ82BEEQAgHwk4iHlWgaSAAFMJCnufX/pPwNnewAk/4OxrJ5F+cLR5XnG6nUChUYbAljKsnq5GS7fyAS5BEGo8FpJer698ISIiIiKqF9UpZyfAFCgSS9+XfZ0D8FIt94+IiIiaKI4z1Hws3T0OeYXWN1XzClVYuntcA/WIqB79sA6YNRkoKjRNx8WaphsikBS3ATj1ImAs7UvBDdN0HQWSoqKiMHrmd7gYb8SD8wvw0mo9riUb8ewH+Yj67xXzcjXJLrKXQdMcSqN9ohyKqehmnpZDwFR0wyfKoTaXP4HlMMA66GKAHiew3Dzt7+9vt3xd+k/AjdlAcRwAEShO98eN/34EY4kpw0jZovxgVt2CZOjW1vTeSS0gyLv8rQWxbO3CKrp+/ToOHjxY7bGviIiIiKhuVGVkguUAvoQpUBQDUxCpjcV8EUCaKIp5td05IiIiImr8+g6bgunfluDFQb9BJoi4luaB+b8/hiGPT2norhHVvYVvAAVlxu8pyDe1jx5fv325MB8wFFi3GQpM7a3G1OquoqKiMG/ePJSUlCA5y9S266wRbSaZ/rdQudeUiSQFLaS/O+Rz8fJuI7Y/C9z9OSCXy+wGh6S2OXPmNEgAaZ3hLLJRCBHAATEBbeAGLZzrZd+fKIfiE9gOGpWVj5tVardXvu5mFCCWuWzEIg0KrneDU9AR+D76b9z470dWJe3yNcWAzACt0TTtoALgqgb6tAauZQDJuQCAhQtNmV9jx45FUFAQwsPDAQA7d+602ZeoqCjExsZardscAodEREREjVmlQSRRFLMAZAGAIAgLTE1ibF13jIiIiIiahvGP+gOYjv4v90NhkREBOkcser1LaTvRbS7+evXa61JB+YyRCttrKCYmBnPmzKlwmeLiYsyZM8ccPACAO6f440ysgPRLgEcooPEU4OMSgMin7QcJIiMjrbZRX9YZzmKi8XdIuTR6GBCNNBw0pFR5PKX6ooEv8pFgs70qiuNtt4vFpqK0Lfr+AAC48dVKiCUqKFvcAGQGCMI/mUbFgsz02KlagR3zlEC2BoPn5CM/Px/z5s3DnDlzsHjxYgD2S9VFRUVh4cKFMBpNkan8/HwGkoiIiIgageqUs4Moiv8WRXF+XXWGiIiIiJqm8Y/6Qx/zKMS4Ubh28EEGkKj50Nm51u211yVHO2PX2GuvIak8nUJh/5lEpVJpVaJub8Y6rImfDFFuAADIHQBtIODq62B3G5b7qw3dhJboJrSs0rIzjX+hCAarNiOAZ4y2x05qSN3wEuSwzjKSQ41uVaw2r9TZbheUheb3LfpvRtj+X9BtbRuELOliFUAqvyIA2T9jJJWUlAAA3nrrLZw6dcpmqTopgJSfb53VJwWSWNqOiIiIqOFUGkQSBOGqIAhXSt/HVPK6Utn2iIiIiIiIbhtzFwGOZcb6cdSY2utbx7cAuaN1m9zR1F7LIiMjsWDBApuBJKVSifnz51tlj2xIegNFYpmyf4KI5OKrtd632pCGApvtJTAisHgl1hnO1nOP7GuDYeiLBZDBNDadBn7oiwVog2F219m5c6e5pJxvJCCUuWwEdQkKM3sCEADH1kDXD4FWYyAWZwAADBBgwD+BIqVoBML8gG3PA139AGfrcfIAU3ZaRoZpfcvAkJTZVjaAJMnPz8ecOXMQExNTpc+DqK4IgtDT8hUdHV3uQt+0aZPWchmdThda2/0oKCgQPvvssxaTJk1q1bNnzw6Ojo7dLfcZERHhV9v7lIwaNSrQcl+bNm3S1tW+mpPo6GiV5efap0+fDg3dJyIiS1UZEykAMGfxB5a+F+wsW7ORM4mIiIiIiJoiadyjGc8CRYVAqwBTAKm+x0MC/hn36OQLgLHQdPO/41u1Ph6SxHLMIomtABIApBb/U97PvSNwzxem9yViIZqC4SN/Nb+PRTYmG7cAQKMpbdcGw3AZ3wMA7sXX1Vq3xUjT35tRptJ2Sh3gG6lAi5HvAXjPatl4tSta6TPLbUMvk1s3iBXfGihbqm7x4sU2M5EAQKPRYO7cufVe0pCosbp+/bpyypQpbSpfsmnR6XShCQkJ5sCcKIpHG7I/t5OIiAi/ZcuWmWucfvDBB9dmzJiR1pB9IqKmpSpBpOswZe5L7xkoIiIiIiIikowe3zBBIxvCn/wEy8co0a1bb6B/3Zdei4yMxOrVq3H1qimjyFYACQA8lf5ILS4/tK5CqLycXUPwgBppsD12DwDkowRvGHc3miDSrWox8p9gUkV+8QrCtBvHrNpEAGlKi1QmowgUlFS6LVtjHi1cuBCb3zDdchj8RoE5gMQxkYhsEwQBWq3WkJ2dLa98aWqstFqtcejQoRnSdKdOnez/A0RE1AAqDSKJohho6z0RERERERE1Pi9taI+d0+pv7B5/f3+kpqaic+fOdm/2j/FehDXxk61K2gmQoaXS/sP0b8eEAwDeDNpZm92tkg9kQ/Av42YUV/AM5XVk12OPGocRKTEQAJzWmsaWGpgZBwGAR7EelwEEwAVemQJSig0VbcZMKlU3duxYi2tnISCKDCAR2eHm5maIjIyM79u3b96AAQPyv/nmG7eZM2cGNnS/qOb8/PxKtmzZwpqdRNRoVTomEhEREREREZE9O3fuRHZ2Ng4cOGB3mYHu4zFJt8qceeQs84AAGRKKLmDGhUDszVhXX92tkvHyEKyVPQQH2H+43x8u9dijxkGnz7LZrjaW4C6hNa4leSBEngQ3JwF928vw5OCKM800Gg0WL15sLlUXGRkJtYNpHQaQ6HZ1q+MKeXt7GxYvXpw4YsSIHE9Pz6pFbKshISFBMWHCBH8fH5+uKpWqR6tWrUKnTp2qy8jIqPQe4ieffNJi7NixAaGhoZ18fHy6ajSa7kqlsoe7u3tYz549O0RGRvqkpaVZ/bD26dOngyAIPS1L2QHlx6CS2g8ePOg4ZcqUVgMGDAj29/fv4urq2k2hUPR0dnbuHhwcHDJu3LiAffv2lRnprXK2xiXKzc0VZs+e7dumTZsQBweHHh4eHmGPPPJImwsXLpQf+K3UxYsXVVOnTtWFhIR00mq13RQKRQ93d/ewPn36dPj3v//tbetzrGxMpIiICD/L+StWrPA4deqUw8iRIwO9vLy6KpXKHjqdLvSFF17Q5efnm4cgWbFihYcgCD0tS9kBwMyZMwPLbq+6nxcRNS9VKWdnRRAELYAHYRorSV12viiKC2qhX0RERERERI3b3w+a/vYaD+jfAMTrgOAPqBcBqoYrb6fXN84qOAPdx2NHxmpkFSchtfg6jDCVPEstjsWa+MnmZSydEJMRXvINdiqeqPf+jpeHYLV4EkliHq4jG/n4p0SbBgoskg2q9z41NMGxFVBwo/wMmQNQmAKcWmwajwuAWiXg85kaKBQKfPlnXrlV7GUaqdVqqFQqRE5nAImovl26dEkVHh7ewTKgEx8fr/r00099tm7d6ta6desKB7JbtmyZ7+XLl8vdK8zMzFQcO3bM+dixY85ffvml165du6Lbt29fVJM+bt682eWzzz7zLtuel5cnu3z5svry5cvq77//3vOdd96Jffnll1Nrsg8AyMnJkd9xxx0dz549q5Ha0tPTFb/88kuLHTt2uP7+++/R/fv3L7Bc5+OPP24xe/bsAL1ebxUoyszMVBw+fNj58OHDzqtWrWq5YcOGKwMHDiw/CFwV/fbbb66vvfaav+V+EhISVJ988onP+fPnHbdv3365ptsmIrKlWkEkQRB6A/gNQIsKFmMQiYiIiIiImgdjElAwGUDpvSAxtnQaDRJIun79Oq5evYqoqKhGm8WRXHwVJaL1fcgiMR8bkt4oF0RqaFLwap3hLJ41/o5CGBAAFyySDbptxkOqlo5vAadetG6TOwKaQCD/GmCwup8KlawEy593w5d/5uG+++7Dtm3bYDQaKy1VJ5OxaApRQ3jqqacCLQNIDg4OYteuXfPy8/NlZ8+e1cTExJQLEJWlVquNbdq00bu5uRk0Go0hPz9ffv78ecfMzEwFACQmJqqmTJniLwU6BgwYkNOiRYviXbt2uVoGRSzHCCpLEAT4+/sXenh4FLu5uZWUlJQI8fHxDleuXFEDgMFgwJw5c/xHjRqVFRgYWFyTz+LChQuOABAUFKT39vYuPnXqlFNeXp4MALKzs+Xjx48Punjx4lmlUgkA2Lhxo3bmzJltDIZ/ksP8/f0LW7duXXjhwgVNWlqaAgBu3rypGjFiRPDp06fP+vn5VT6AnA1//PGHu1wuF7t3755XUFAgk/oKADt27HD9448/nIcOHZobFBRUNHTo0IxLly45Wp67kJCQ/FatWpn/IQ4KCqpRQI+Imo/qZiItB1BRiqP9gtFERERERES3G+NVmANIZvmmzKR6DiJFRUUhNjYWALBw4UIAaJSBpLIBJEla8fV67knVjZeHNOmg0c6dO2tnQ63GAADmOuwHjIXYeXqXKbDkUALkRgMALr2/GWojAAwGALiqspG/LRyO9/yBoKAgXL169ZZL1YWXfAMADZKhRrXn0wy0WJAKXaIBKh85iuZ5In6KO9Ibul/N1a5duzQHDx40l9ZTq9XGv/7664KUbbNs2TLPiIiIgIq28c0331wJDQ0tVKvVVvcH9Xq9MGDAgPbHjh1zBoDdu3e7ZmVlyVxdXY3Lli1LAACdThdqGcCyN0bQhAkT0qdMmZJmKwCzZMkSr8jISH8AKCoqEr777ju31157LaXqn4K16dOnJ3744YfxgClLa+DAgR2Tk5OVAHDt2jX1//73P/d//etfGQAwd+5cnWUA6dlnn01atWpVnEwmQ1ZWluzee+8NPnz4sDNgymhauHCh9yeffBJfk37J5XLxl19+ufjQQw/lAsBjjz0W+MMPP5jv127dulU7dOjQ3Icffjjn4YcfzomIiPCzLGk3efLk5BkzZqTVZN9E1DxV9/GerjAFinYCeBHARAD/snhNrM3OERERERERNW52KvuI9RsQiYqKwsKFC2E0GgEA+fn5WLhwIaKiouq1H1UhjYtUlofSv872uTdjHS7lH8D5vF2NcgympmSdbwgOuOmwq0UAAu+ajnW+pcE1wc4zqoICjo6mh+T9/f3Rt2/fRhncpPr1aQZazEpGwE0DVCKAmwaoZiUj4NOMCivf3BZ+/PHHa6IoHpVeDz/8cE5D9wkAtmzZYjXQ27Bhw9Ity7XNmjUrNSAgoMJydm3bti1atGhRy759+7b38vLq6uDg0EMQhJ6Ojo49pAASYMoUOnPmTMWDptnRrl274l27djk9/PDDQQEBAV00Gk13mUzWUxCEnlIASXLhwoVKM6fscXZ2NkRFRSVI08HBwUX/+te/ki2X+fPPP7UAEB8frzh16pST1O7o6GhcunRpgpRV6erqanz77bfjy6zrVtO+PfDAAxlSAAkAHn744UzL+Tdv3rQ7ZhMRUU1UNxMpE4AGwEhRFDNrvTdERER0W9lZ4bOKRERNWNwGIOMwYJQDB52A7nmA5S0boe4CImVJAaT8fOuMKCmQBNR9RlJ1MkNaKtsgtfg6isR/+qsSNP/P3p3HRVV3fwD/3JlhmYFhkWGRHURBQUEQNC3F9MnKfMw0zbAsM0tbXEoTtcUSbHPJ1ArN7Yk0cym3HyUqmqigIioquCCLgMi+rzP398cw06wwA8Om5/168XLu/p3hcoV77jkHk+0j2mVsp0uisTlnljwDqrkeTKR50eJrmCWJQR2kT9tnohyzJDGI4jyNsKQlKE6YBLAMOAyLqvRgFCf0RY8hf8i3bzEj6t5uoLECYCVArK80y6kp+4k8XD4vhFMtq/xgcy0LzueFcOqq2UgcDkceqAcAllUvxqO4HJBmjLT7wAwkKytLKfDQr18/tQZ7ffr0qcnMzNQY/MnKyuINGzbM5969ezoFh0pLS7mtGee0adNco6OjbXVZt6KiolXHAAAXF5c6c3Nzpe9f//79lWp25uTkGAPA7du3lT47Z2fnOgsLC6WTYdCgQUrb3rt3r9WBnsDAQKX/8K2srMSK03V1dUxr900IIZrom4m0o+lfP0MPhBBCCCGEEEK6hXu7pX1hJE0PZNdxgERzIF/2jJ4AMG2fgIiq9PR0LFmyRC2AJFNdXY0lS5YgPV1jVaBOYWlkj5lOUfKMJJGRG2Y6RakFdPLZKpSzdTjJZsO94QdEi6+16ni785cqBayAf3swEf0slZxCNZQrSFWjEUslp1B8ehSy/7dePp9tMEH2/9ajocwKKDotDQrd2619500/VwEeDAI8uUBNtvTnrLltSLd1XwyNN9C1ze8KhEKh0o36wsJCtQezi4uLlYIWFhYWYtV1HlZLly51VAwg8Xg8NjAwsPKpp54qHTNmTImjo6NS3x2WZfUOdJw8eVKgGkByd3evHTlyZNmYMWNKBg0aVKm4TFOgrz2oBg/bm42NjdKFmMttdayMEEJ0om8mUgaAMgB/MgzzM4A0AEoN6liW3aFhO0IIIYSQLo2ypgghOktdDoj/faC4OGES8vZ/hoZiZxg55qLnRxnoMfnxDhmKp6cnIiMjNWYiAYBAIMCyZcvg6enZIePR1ePWYThRsgkA8LFnnNryaPE13GSLIWlquyvLeAGgd2+iQi29lrpyD6bO8kV6KADN3xMAyEK51vl5f3wOtl4AAGDAYLNNHNh6oL7QHUYWhf8GhQDN2UUqP1cApNOpyykb6SHkwEV9noaAkQMX9ZrW7wo8PT1rL126JC9ZdvLkSfPHH39c6cJ7+vRpc8VpLy8vtWyersrFxUXps79x44ZaKbhbt25pLQ+XmJio9N5jY2NTR4wYIf98nnjiid6KPY9aIy4uTukY06ZNK/jf//4nv5hHRUVZX7hwwVx9S/1lZ2ebVFdXMwKBQB6JSklJ4Suu4+TkVA8Affr0Ufrs7t27Z1JeXs5RzEa6cOGCxm07AsMw3SYjjhDSNembifQTAEsAVgA+ABAFYKvC1xZDDo4QQgghhBBCupyae/KXDeUiabZFsSsADhpynZG9+HEU7+u44YSHh2PZsmUQCARK82UBpO7Yf2ap5BTEVyRA1b/zZBkv+hJp6bXUnj2YHlausNA6v6HYUeMytkGhspUsKKSJws+VTvNJt/aJCDmmDJTSN0wZSD4RIUfbNp3tqaeeKlWc/vbbb3vu3LnTsrq6mikvL+esX7/eRjVL5plnnilT3c/EiRPdGYYJkn0dOnRI2M5D18mYMWOUosQHDhzokZCQIA98rFu3ziYjI0NrEKmxsVEps8jc3Fz+/d21a5fl2bNnNV9AmpiamiqdD3fv3jVSXaehoUHpGGZmZvJtcnNzed9++23P5o6hj8rKSu6SJUvk+7tz547R1q1b7RTXGT16dAUAODk5Nfbv31/+P1ZNTQ3nww8/dJRlKJWXl3M+/fRTpYvkf/7zn1JDjbUlfD5f6bPNyclR+2wJIaQ5+mYiAQDV1SSEEEIIIYQ8uvjO0qwKSLMsZNkXMmwNkLcS6PFCxw1JFihatmwZJBJJlw0gactwUZWFcvTSMl9fk+0jsDlnVof1YHqYRXCGY5YkRqmknQA8RHCGw6hHLhqKnKR9whQwRnXKO9EWFFL4uVKbryBafA3n2FzUQQz3hh8QwRmud3Ya6XyyvkefF8LpvhjGDlzUfyJCTlfthwQAH3zwQcHPP/9sV1hYaAQApaWlvJdfftmLw+GAZVm10ml9+vSpeeONN9rl/fj7+/vIXhcXFyvd24uOjhYdO3ZMHrDZsGFDlmrGlCYjR46sHjRoUKUsk6e2tpYzYsSIvv7+/pVVVVXca9euCZrbfuDAgVXp6enyINOIESP6BgUFVRQXFxulpKQIGKb524m9evWqVdx+6NChPv369as2MjJiBw8eXLV8+fL8xx57rEpxm59++sn+3Llz5ubm5uLLly+bVVVVGbSu23fffdfz8OHD1ra2tvVXr141q6yslO/fzc2tLiwsrFQ2/fnnn+dMnDixjyxwtGnTJvu///7bysXFpe7GjRuCoqIi+ffJ2tq6cdmyZfmGHGtz+vbtq5QRt3btWsfTp08LZSUa9+3bd1cx44oQQlTpG0R6vV1GQQghhBBCCCHdhc+n0rJc4hrlLAsFDZ3wLH14eDg2bdqEu3fvdskAkj4Cy1JhJK6FmDWBTU0WzOuLkGk5UGsmTHNkvZaict5AI1sHkZEbJttHqPVgIi2TBWvekPwf6iCGGyzkQZzi599A9v++V1qfMa6GsShDeScqQSE5hZ8rOS5fOr9JtPgaZkliUAdpm5m2lDkkne9taxR35aCRKltbW/G+fftuv/jii175+fnyTA5N/XB69+5dc/Dgwds8Xmue3W7ZlStXzLQte/DggdGDBw/k4ystLdU5sBIdHX13xIgR3vfv3zcGgLq6OiYxMVEIAI6OjvUuLi51CQkJGjOnPv/889zY2FirsrIyLgBUVVVxTp06ZQkAvr6+1a6urnX/93//Z63t2G+88Ubh0aNHrWTT9+/fN5aNQ2bs2LGVo0aNKj127Jh8vcuXL5sBgImJCbtgwYLcVatWaU6L1JOfn1+1qamp5MKFC+a3b99WysASCoXiX375Jd3ExEQeeHn++ecrVq9enfHRRx+51dXVMQCQmZlpkpmZqfSLgr29fcPu3btvOzk5KTeYa0cTJkwo79mzZ31eXp4xANTX1zNnzpyR/4fa0NCQAYCCSIQQrfQqZ8ey7PaWvtproIQQQgghhBDSJThPBgZ8D3BM1LMsmhg5dfCYmri6umLw4MHdOoB0uiQafe/vAtN0P4vLNiLk/j70LruMCM7wVu3zcesw9BYMQV+zEVjnk0EBpDYI4/piCOOIEYwLMoxmy4M3PULPweWVd4Gm1htGPbLg8sq7uObEQbKwqQKUSlBIicLPFQCA7yKdVuiHtFRySikLCmh9mUNCWuOJJ56ovn79esrnn3+e/dhjj5Xb2Ng0GhkZscbGxqydnV1DaGho2dq1azMuX758Q7VPTnfQp0+f+sTExBthYWEFtra2DTwej+3Zs2f9a6+99iApKel6c318+vXrV3/69OkbY8eOLbGysmo0MjJiXVxc6ubMmXP/7Nmzaaol1VRNmTKlbNOmTekDBw6sEggEWtc9fPhw+sKFC3Pd3NzqeDwea2Vl1Th69OjSkydP3ggNDa1sy/tXxOfzJf/888/Njz76KMfDw6PW2NiYtba2bvzvf/9bfPbs2Ruasrvmzp1blJycnDJr1qz8vn37Vpubm4u5XC5rZWXVGBQUVPnxxx/fu3bt2rXhw4e3mBlmSAKBgD169OjN5557rlgkEjVwuQZN2CKEPAIY1XRbohuGYRwBaa3enJwcODoa5EEHQgghhJAuKbTxVwBAHO/lTh4JIV3ImWfRUABcn38ErELyBMMHXL7t2HJ2MqGhoQCAuLi4DjtmtPiaxsyUlnyRHgpAvcTd+6nuKGzIREmqPRp7m+KKxxiMyooCn9cTP/fNbfU4tR3vYXEUrwIA/oMdrd6Hrp+Rxv8T7u1WyyQSg4crQhswYCFqqEeG9zw87rqg+UGceVb679Ajaos4DV9pfFSeASAx+qj5/T4EcnNz4eQkj1A7sSzb+h8IFZcvX87w9/cvNNT+COlu0tLSjH18fPrLpoODgysTExPTOnNMhBDSkS5fvizy9/d317RMr0wkhmHSm/m6wzBMIsMwEQzDWBli4IQQQgghpGtITk5GcnJyZw+DkC7HyFYaMDJyBsBI/+2sAFJn0FZeLFp8rdX7LGzI0ji/tvF+q/dJOoBKJlGlqQNmDvgvyngmKOWZwiX0HYzpybbp3NBWzrA1ZQ4JIYQQQohu9C3O6g5pjUwGyrUyGYXlQQDGMwwzmGVZpYZ3hBBCCCGEEPKw6fHCoxM0UtVcebGWspG0ZbuIjFzxW88xGCD+S2m+jZFrm8baVg97JpNBOE8GsrYBAPyCxyET5djm2Fe+WNdzQ5sIznDMksQonXMC8Fpd5pAQQgghhLSsLR3+mGbm9QUwH8CKNuyfEEIIIYQQQrouDeW2OltHlrEDgCyU6zVfF5PtI7Abp5XmGTMCTLaPaPU+HwVtKWMHSHtR3ao+h0a2Du+numOyfUTrekc1/VxkNXylcXFbzg1Z8Kk15RMJIYQQQkjr6FXODkAfAHkA9jS9NgXQu2k6F8BQAD9BGkyaYLhhEkIIIYQQQgjpatqjvNjj1mHoadJHPm3EmGCmU1TrAhpEJ6dLorE5ZxYa2ToAQGFDJjbnzMLpkuhW77O9Ss+FcX0xhHHECMYFGUazKYBECDEIb2/vepZlL8q+qB8SIYT8S98g0vcAegKYxbLsbZZl61mWvQPgLQCOAD4GsABAPaTBJUIIIYQQQgghD6kIznAIVApctLW8WLT4GlLQAAnDgQQc5Oc4IfPIgLYOlTRjd/5S1LPVSvPq2Wrszl+qcf043suI473c7D41nRsnE35BQuKuVo0xNDQUoaGhrdqWEEIIIYS0nr5BpCea/lUNEHk0/TuCZdkaAPkAjNsyMEIIIYQQQgghXVsY1xdRnKdhAi4AwA0WiOI83erskGjxNcyoP4JGblML3nQWjT1ZvP73IURHXzXUsImKwoYsjfOLtMzXhaZzw5vpAXvGrNX7rK2tbfW2hBBCCCGkdfQNIlU0/ft/DMOsZhhmHsMw3wCQFQOvbPrXCkBxWwbGMMxzDMPsYBjmBsMwJQzDVDIMk8IwzJcMw/RQWO8JhmGiGIa5wjBMIcMwNQzDpDEM8wPDMM56HvM1hmESGYapYhimnGGYkwzDPNeW90EIIYQQQgghDzNDlhdbKjmFep5EeaYZg4aPgaVLj7VxpK0n6xd0o+ok3k91b1OZt65IZOSqcb6Nlvm6CuP6otboQ7BGHyEj3wb2pdeBotNArC9wb7fmjYYe0dhvLCsrCwkJCVi5cmWbxoQzz0q/CCGEEEKITvQNIu2AtN+RNYC5AFZBWr7ODgALYBvDMH0ACAEkt3Fs7wJ4BYAPpEEpMwC+AD4CcIFhGMum9cIAvAmgPwAbSPs09QHwNoBkhmE8oAOGYSIBbAUQDEDQ9B6GAzjIMMysNr4XQgghhJBuTyKRtLwSIYS0QRbKNS9wYZCVVdaxg2nSHv2CuprJ9hEwZgRK84wZASbbRxjmAPd2A1feAyTSzxA12dJpbYEkFStXrkRmZiYAYMWKFRjzTWaL5fQIIYQQQohh6BtEWgpgC6SBJMUvNM1f1rTP9wB80cax1QHYCCAIAB/AEAD3mpZ5AHij6bUEwK+QltoTQBpoutK0zAbA/JYOxDCMP4DFTZPXmvY/AEBe07w1DMPYt+G9EEIIIYR0a3W1dagor2j7E+CEENIMV1hoXpDNwtXVUvOydqZvv6Du6HHrMMx0igKPMQEAiIzcMNMpCo9bhxnmAKnLAXGN8jxxjXR+C1auXIkVK1bIH2Sorq7GsmXL4OnpqfcwQkNDkZycrPd2hBBCCCGPMr2CSCzLNrIsOxOAN4DZAD5u+tebZdk3m5ansiy7gWXZs20c2zSWZd9hWTaJZdlalmUTAHynsLxP078fsSwbxrLsaZZla1iWvQ7lAFYftOxV/BsM+5Jl2QyWZa8C+KFpngDA5Da8F0IIIYSQbmvy/pWoNWYBS1MsnVyOyfspkEQIaR8RnOEwblT5M7WKhdEXQETEqE4ZU3v0C+qKHrcOQ2/BEPQ1G4F1PhmGCyABQM09/eY3kQWQqquVg3gSiQSZmZn0YAMhhBBCSAfQNxMJAMCy7C2WZX9iWTai6d9bhh4Yy7IVGmabKrzO1me9FgQrvL6m5bXiOoQQQgghj4TJ+1fi9ycbAQ4DMADraoXfn2z8N5B0bzeS4/ogOc6r+R4XhBCigzCuL7YYPwueuOkZPwlgs4yHrU89h7Cw/p0ypvbqF/RI4WtpV6xtPoD09HQsWbJELYAkI5FIsGTJEqSnpwOQZhmFhoa2daSEEEIIIUQFT98NGIbhAXgW0mwkvupylmU/N8C4NB23J6R9kgCgGtL+TJrWMwcQ3jQpARClw+4VS9WVaXltp21jJycn+WuWZXU4HCGEEEJI17dy5UrsmVwOCKyUFwiMsWdAKf7cOA3j3Y8CAqF0vqzHBQA4UxI3IaR1wri+2MReBg8cmHN4KFz/oUH2+7FnXKu2m2wfgc05s5RK2hm0X9CjwOdT6f8PiiXtuHzpfC08PT0RGRmpMRMJABiGQURERKvK2hFCCCGEEN3pFURiGMYOQBykASRtDB5EYhjGBcDfkAZ7JACmsyyrlmHEMIwVgEMA+jXNWsiy7Pm2HLoN2xJCCCGEdFuyJ8CxQHOpINbZEv4m3wNiDgDhvwtkPS4oiNQuQht/BQDE8V5Wek20OPOs9N+hRzp3HI8AQ5+HcbyXMfFOuzyfqDdZWbeonDfQyNZBZOSGyfYRhi339rCT/Z9w+R1AUgfwXaQBpBb+rwgPlz4fqimQpOkBztraWsOMlxBCCCGEyOlbzm45AB9IgyuavgyOYRgfAPFNx20E8ArLsns0rOcA4CSAYU2zFrMsu1rHw+QrvLZSeK3Y1fWBto1zcnLAsixlIRFCCCHkoSF7Apy5V6ZxOXOvDG62Wn6VbKHHBSGEdDft2i/oUeE8GbAOBmweB0Zf0/lhg/DwcCxbtgwcjvT/HB6PB4aR3n5YsWKFvC9SVlYWEhISqE8SIYQQQoiB6RtEegoAC2Br0zQL4H0AtwDcBPCG4YYGMAwzCMA/AFwgLWE3nmXZXzWs5wlpoGkAADGAmSzLfqXHoRSzlfopvPbVsg4hhBBCyEMvPDwck65YANX1yguq6zHpigUYgYvaNqGrP0Lo2o//nXHm2X+zQVoQOukkQiedbMuQCfnXvd1AyXmg6DT16+qmitYtRtG6xZ06BrouGdjQI63KDAwPD4ebmxsAaRk72QOc1dXVWLFiBcaMGYPMzEwAyoElQgghhBDSdvoGkWTNf+S/ybMsux7ACwD6ANDeFVNPDMM8CeA4ABGAIgCjWJZV+22TYZj+kAaQPAHUAHiBZdmftezTnWEYtukrTmHRDkgDYgCwuGm9/gBmN82rBkB/dRJCCCHkkbN7QjhePM7DicIjOFH4f2CySvHicR52TwgHfD5FI8cUAOBVXQIASP6Gi+RvjTpzyIRIA0ZX3pOWzQL+7ddFgSRCmvWxZ1yre0d1BIZh0NDQoDSvuroaf//9NyQSiXyaAkmEEEIIIYajbxBJ3PRvEYAGAGAYxhZAZtP8WQYaFwB8gn8L7NsAOKsQAFIMAn0AwKHpNR/AnyrrZbR0IJZlLwP4smnSF8BdAFcA9Gyat4Bl2XxN2xJCCCGEPOx2TwgHh2UAsQQRuy2we0I4QkND4TU5Em/6PQtJU1Vjtumrur4R7oOPIHp/Vov7Dg0NRWhoaLuOnzyCUpdL+3MpkvXrUqRHphwhpPOkp6fj7t27OpeQp0ASeZQdPHhQOHLkSC+RSOTP4/GCGIYJYhgmKCQkpLn+5m0SGxtrJjuOUCgMKCws5LbXsdpq165dlk899VQvOzu7AcbGxoHW1tb+ISEh3l999ZWtapAaAAoLC7lCoTBA9v5iY2PNWjpGWlqaMcMwQWlpacbNrZefn89lGCbIzs5uQBveUpd07NgxMw6HEzRnzhynltf+V0VFBcfW1naAn59fX9nDAV2BIc9xfc/Brrb/rjCOtu77l19+sRo7dqyno6Njf1NT00Bzc/OBzs7O/UNDQ72WLl3qUFtbq9S2Z8GCBY6y778uXxMnTnSXbduaa0hXpG8QqajpX0sA95teRwOQlZizNsSgOgPLsksAvA7gAqQZTZUATgEYx7LsT505NkIIIYSQzsbhMOByuQgPD0f0/iycvPEc7tx/GXUQY6T5G0jm9pQ3yeRzGzDU8Thid62HuDCRyomRjqetL5fifCp3R/TU1bN0HmayPn0CgUDnbaqrq7FkyRKkp6crze9KNyUJMbQ///xT+Pzzz/eJi4uzLCoq4onF4pY3aiOJRIIFCxbIaxy/8cYbD0QiUfsfWE8NDQ0YP368x9SpU72OHj1qVVBQYNTQ0MCUlpbyzp8/b7548WJXf3//vjk5OTzF7UQikXjGjBnyPukffPCBi6brSF1dXbO94jUtj4+PNwMAPz+/6la/sS5IIpFg3rx5rubm5uLly5ff17RObm4uj2GYIHt7e6UAmlAolMyfPz/v2rVrgg0bNth0zIibZ6hzvLXnYFfZf1cYR1v3ff/+fe7gwYP7vPLKK72OHDlinZeXZ1xXV8dUVVVxcnJyjE+ePGkZGRnpVFJSYrBAuK7XkK5O3yBSWtO/vSANsDAARgEYC+mDp0mGGhjLsqEsyzLNfIU2rfdaC+u5K+wzQ3V7lWNuY1k2mGVZAcuyQpZlR7Ase8hQ74kQQgghpDtjGCB6fxZen58g/c2PA0TePAHVv4gZAN+9GI31L24Bl2nqp9RCObHo/Vk4l1SMk+cKdc5iIkQrvpYq27L5VO6O6EDxumTquR99Q//u7CE90sLDw7Fs2TKdA0kCgQCRkZHw9PSUz8vKykJ5eTkys+j/GPJw2rx5s0jx5qSTk1P96NGjS8eMGVMybNiwivY45rZt26yvXr1qBgAmJiZseHh4l6zkM3v2bOcDBw70kE1bWVk1hoaGlrm6utbJ5t24cUMwduxYL9Xg25IlS/JNTExYALhy5YrZtm3blB6iT01NNXZxcem/atUqkerNYbFYjG+//Vbk6uraPzU1VSkzKTExUQAAgYGBVYZ6n11BVFRUj5SUFMGMGTMe2Nraagy2nDhxwgwABg4cWKm6bMGCBYUikajhiy++cFLNCOkMhjrH23IOdoX9d4VxtGXf1dXVTGhoqHdiYqKs8hlMTU0lvr6+1aGhoWX9+vWrNjU11Rjd6devX82YMWNKtH2Zm5srHWzQoEFKP9MtXUO6A32DSJsARAEwBbAcQAEgf+i0EMA8Qw6OEEIIIYQY0H9DpV+tIJYYQSwxwrvhZ9DQyMGJhdtxYs4OuNaWNy0HktP//d1ZZF4FM5N6lZ1oKCcGIL+wDrMWJaGuXvo7e2ZODWYtSqJAEmk9n08BLl95HpcvnQ/oXu6uBaGhoRgyZEgbBkqaExf3GuLiXuuUY0fvz1K6LtXVS3AzvYKuS51MFkjicKS3MgQCAZ566im1wJJAIMCyZcsQHh4un7dy5UpkZkor8WdmZlKpO/JQevDggVJjysOHD988evTonZiYmPQ1a9bktscx169fby97/eSTT5ba29t3uSykq1evmmzdulU+Tnt7+4br169fO3HixO07d+6kjBw5sky27PLly2YbN25UyoCxt7cXjxw5slQ2vWHDBjvF5V5eXvXh4eG533zzjWNAQIDP2bNnBQBw5swZs4CAgL7ffPON48KFC3N79eql9MtxUlKSGQAEBwc/VJlIGzZssGcYBrNnzy7Uts6ZM2fMASAkJEQtgGZqasq+8MILxQUFBUZbt27V62a7rGTYggULHPUfuWaGOMfbeg521v4nTpzorktpxvYehyH2vXDhQse0tDT5Hwhjx44tuX379tWUlJQbJ06cuH3t2rUbBQUFydu3b78jFAqVvsczZ84siYmJSdf0tXbt2nvV1dXyzCVLS0vxu+++W6S4fUvXkO5AryASy7K7WZadzbLsaZZlbwPoDWACgHEAvFmWvdQegySEEEIIIZ2PZYHSCh6mBp8FlyMBDxJ5PyQ1TbOTs12QnO3y73wNZcbuZlWhukblSbEaMZZ+mWKooT8UosXXcI7NxUk2G+4NPyCffageWjUs58nAgO8Bjol0mu8inXaeLJ3WpdydDrKyspCQkEA3ox9CS79MUbsuSSTA9HkXOiyQFDrpJEInneyQY3Un4eHhcHNzAwAsW7YMf/31l1pgSVMAacWKFfJSdhKxmHomEb2FhIR469ILQ7H3kGofjXXr1ul1Y1jWW0dx38XFxZzZs2c7ubm5+RkbGwf6+Pj0k93oVXzCHgACAgL8WntsXSQkJPAvXbok7+8RFhZWpGm9iIgIuwkTJrj37du3n52d3QBTU9NAY2PjQFtb2wFDhw7tExkZaVtTU9NuGSebNm2yUcwQevXVVwt69uzZCAA8Hg+LFi1SKrm2fft2keo+wsLCimWvk5KSzBMSEuQ3o3k8HubPn1+Ynp5+ddy4caVz5851B4B58+a5/fe//y25c+fO1Q8//LDQyEgpxoerV68KAODxxx9X+6Xu5s2bxm+++aazp6enL5/PH2hubj5wyJAhffbs2WPR3Hs9e/Ysf9y4cR4ikcjf1NQ0sG/fvv2ioqKsJRIJzMzMBvJ4vKDKysp2+6xPnjwpSElJEQQHB1d4e3vXqy7/7rvvbBiGCdq4caMDAHzxxRfOiuf4qVOnBAAwc+bMQgDYtGlTp95s1/Ucb4khzsHO3H9XGEdb9l1WVsbZsWOHrWzay8urds+ePXednJwaFbcxNzdnX3311VJzc3PdmjAC+Oqrr+wVx/XKK68UCIVCtYym5q4h3UGLtQcZhvlEx30FMQwDlmU/b+OYCCGEEEJIFzU16C9sCtuPS1nSv+d4UP/9mgVQaMSHbUON2jJNZcbq6jQ/zJeVq2H7R1S0+BpmSWJQB+lnlYly6dNgOv958whynvxv0EgV31lawk7TfB0pZjWsWLECAJRuWpPuTdv1RyxmMWuRtIp72ATXjhwSUeDq6go7Ozv5z1x4eDg2bdqEu3fvag0gVVcrP+hfXV1NP7uk2ykvL+cOGTLE59atW62++bhy5UrbkydPClteU9mWLVuyHB0dlW64/vbbb/IsEQ6Hg+eee05jybyIiAinmpoatQfZCwsLjQoLC43Onj0r3L59u218fHyaaq8ZQ4z37NmzStsPHjxYKWgzfPjwqqZ7mgCk5aZqa2sZU1NT+W9aY8eOLedwOPJg9O7du60GDx6s9p8Fl8tlVae5XPX2Kjk5Obz79+8bOzg41KveyN6yZYv1+++/715VVcXx9vauGTVqVFleXp5RYmKi8MUXXxR++eWXWR999FGB6j7XrFkjWrhwoatYLGb69+9f5eLiUp+WlsZ/6623PG/cuJFXXV3N6d27d40+N8j1tWfPHmsACA0NLde0XCgUSl544YWiP//800YsFuP5558vkj0EAACBgYE1ABAcHFxrY2PTmJycbJabm8tTPfc6iq7neEsMcQ525v511Z7jaMu+/+///k9YWVkp/0GcOHFi0d9//21+6NAhy7y8PCOhUCgZOHBg1WuvvVairQSjJkVFRdzdu3fLg1VGRkbshx9++EDTurpeQ7oqXRpYfQb9/jylIBIhhBBCSFezJxq4cA6orwMC3IFlEcCkMN22beoTwzDAjhm/gaehzegoYRge3/wxDvr8AgkYzO37FDalHFZap6reGJfE7+BxlW1NTLiogzpXx271cFa7Wio5hWoo/+0sAXAXZZo3IM3z+VTaA0mxpJ1iubsWqGY10M3oh4+rIx+ZOZr/rpdlSrZnEEnWj6muXgL3wUcQsdiPglYqTE1NlaZVA0sAkJ6ejiVLlmjdR3V1NZYsWYIpU6Yo9U4iRJNhw4ZV9OjRo0F1fnx8vIXizUlra+t2u9ktK8VkYWEh9vX1rW5sbGTq6uqYQYMGVVVVVXESEhKEpaWl8nt9w4cPL+Pz+RIA8PT0rAeACxcumP3111969+OoqKhQS9c9ffq0/Kaul5dXjaWlpdZu8ebm5mI3N7c6S0vLRj6fL6moqOBev35dIPvsbt68yf/www8dt23bpvSUhyHGm56ernTBcHFxUfo+CgQCVigUisvLy7kA0NDQwKSlpRn7+/vLf0W1traW9OrVq0YWwGt673mAtO/Rxo0bbVauXOkoEoka1q5dmzljxgzPtWvXZq5evdph8+bNdkuWLMmdPXt2kSygdPr0aTMA6N+/v1KEe9euXZazZs3yEAqF4n379t2ZMGGCPBizc+dOy5dfftnrs88+c542bVqJYvDp4MGDwoULF7oJhcLGXbt23RkzZkwlAEgkEsycOdPlu+++6wkA/v7+7Vo6Lz4+XggAw4YN05gyP2PGjJLRo0dX7Nu3z8be3r5h//79Gdr2NXDgwMrY2FirI0eOCGfOnFnSTkNulj7neHMMcQ525v511Z7jaMu+L1y4oFT3duvWrXZfffWVUmrgzp07RZ9//rnzunXrMl9//XWdzre1a9eKqqur5VHQ//73v8Vubm5q/08AzV9DugN9ytkxOnwRQgghhJCuZk80MH+WNIAEAPcypdN7olve9t5uNCa9K5+UBZDMuZkw50qzMMpqTCCWmOJkD1eIGQ5YhsFORz+86TcWEkb6K2JGkQ3e/OU1TFvprnYIZwcjCPjKkSkBn4uIxX76v9eHVBY0Pswpz0zqks48K/3qiloqd9eMlrIaqDzWwyFisZ/adUlRe2ZKqvZjoj5xulMNLHl6eiIyMlKtZ5KMQCBAZGQkBZA6yY/iSz0cG9b35zR8FeTYsL7/j+JLPVreqvOsWbMmV7UXRkhISJViAMnLy6t2+/btGe05jmHDhpWnp6dfPXPmzM3ExMS0c+fOpYWHhxfExMSk9+7du1Zx3aioqCzZWFubQdGca9euyX+4+vTpo/XCeOzYsdSSkpLklJSUG/Hx8bdiY2PvJCQk3Lx3794VJycnecmzQ4cOtcs5UFFRoXRBNzc3V/sFShZskyksLFR78N7b21v+HlNSUuQlztLS0oy/+OILpwULFuRdunQpdejQoVUAMHTo0Krk5OQb8+fPz/v888+dFPvKnD9/XgAAgYGB8mBLcXEx55133nGXSCTMrl27lAJIADB16tSywMDAytraWs7BgwflZe0aGhrwzjvvuInFYmzZsuWuLIAESLNn1qxZkyPL9gkKCpIfLyUlxeTll1929fHx6cfj8YJ69+7tq+UjxNWrV02eeOKJ3gKBYKC1tbX/9OnTXSoqKtTuK9+4cYMPAP7+/rXqe5E6c+aMGQD4+fk1W5vZx8enFgAuXbqk+SLeAXQ9x1tiqHOwvfYvK4mp+rVv3z4bAPDx8emvablqr6T2fJ9t2bdqvzjVaZnKykrum2++6Xnw4MEWsx8bGhqwefNmpXKLixYtym9uG23XkO5A55MR0mykDABbAailTBJCCCGEkC5qxVKgRuWhw5pq6fwWspEqkz6GOaP1b8B/MYBdXRW4rAAMgLtx32NJn5Eo55gAlRwMjJQmqzOM8t9eWVlZ2DLzPmwdPkXQis9QVy+BmxOfnrpX4QoLZGoIJJlA+01u0oLmyt1pQVkNXY+sZ1DcnhEG3a/s+jPtvfMal7dnpqSmfkwdkf3UncTFxem8riwzSTX4q6l3Euk4P4ov9ZgvOeZWCzEHAPJQZTxfcswNAN7mDixufuuuYdWqVaIvvvhCXgfVxcWlLjY29qaDg4P8B3j16tW5q1evzjXUMblcLn7++edMGxsb+TH4fL5e5aj27t2bAen9vTYpLy/nKD6Bb2NjozUDy9nZuWHhwoWOcXFxFhkZGSaVlZXcxsZGtYfRi4qKeAUFBVzFclKGGq8ilmXVji0rgdWcHj16yN9jdXU1p6KigiMUCiX9+vWrz87OvmpiYqK2Ey6Xi4ULFxa+//77RYrLk5KSzAAgJCREfmH66aefbIqLi3mhoaFlioEgRR4eHnVJSUnmijfeo6KiemRnZ5uMGDGiTDXwBACWlpYSkUjUkJ+fb6RYAiw5OZl//Phxq4CAgEqJRKLxcwGAwsJC7ujRo72dnJzqd+zYcef+/ftGH3/8sXNRUZHRoUOH0mXrlZeXc2prazkAYG9vr/V8uHjxogAABg4c2GxWlOzz1nTDf+LEie6yAIcma9as6blmzZqeqvNTU1OvaurVpImu5/j8+fMdb9y4YappWUxMTLqm+a09B3Wl7/6HDRum8Xw7f/68eXZ2tsmYMWNKzMzM1LKwLCwsms3Mas/3qc++Gxoa1NadMWPGgxUrVuTV1dUx77zzjsuRI0esAWlm4ccff+w0bty41OaOv2XLlh7379+XB9GGDRtWHhIS0mygUds1pLltugpdgkgbAUwDYAHAHcBSAPsA/MCy7On2GxohhBBCCDGIHC1Pr2ubr0AAaX9Sbkv56yzQp6oYQhPpQ1vuFeXYlHIEyfWuaFBIfle88fpvTxkTFBWkw1FUCVdXV4PfDH4YRHCGY5YkRqmkHQeAByw7b1DNubcbKDkPSOqAWF9pmTg9AzZtERoaCkC/G826kGU1aMpEAv69KU0BpI7R3iXfwia4YsV3qbiZXgGFfsntnimprYyetvlEqrmfd1mgaNmyZQAADpeLZcuWUACpE30uiXeSBZBkaiHmfC6Jd+oOQaSoqCjrRYsWucmm7ezsGo4ePXpTWxkjQ3F0dKzT9QZ4eysqKlJ6ksXCwkJjevTFixdNR48e7a1YZq85JSUlXH16kuhCKBSKi4uL5cevqqpS+81WFvyQEYlEagED1RvmRUVFXNkNYE0BJEWqy1NSUgSActm3Q4cOWQHAzJkztT68L+stpXgz+s8//7QGgKlTp2r92amtreXweDx2yJAh8v9Mpk6dWjpt2rRSQBqUuXLlisbMiDVr1tiWl5dzk5OTb/fs2bMRAHg8Hjt79myPCxcumA4aNKgWAIqLi7kAYGxszDbX4yY5OVkAAEFBQc0GkWTnVFlZWac8NaXrOR4fHy88f/68eXP7MtQ52F77X7BgQeGCBQsKVbeZOHGie3Z2tsl33313T5drT3u+z7bsWygUKn3vrK2tG3/88cdsIyNpfHLbtm2ZDg4O1rJS1VeuXDErKSnhWFtbaw3wrF+/3l5xesGCBc1mIQHNX0O6uhYv4CzLvsswzCJIA0lvARgIYCqAlxiGuQ5pkOl/LMtqjFgSQgghhJBO5uQqLWGnaX4Lsop7wN2mCOZ3mv4OdJH+4+8h/Zsqo8gGzNu2YFkJuDbKfyuaSRrwzJCXUFErfTBP8carak8ZiVjcFFB6BMlKvg09onWVMK60usgbkv9DHcRwgwX44MGe6YJVEO7tlvYbkjSVT6zJlk4DHRpIai+U1dA2hsoc0lbyDYBBA0l5+TUwMeZCImE7LFOSy2UgFqvfe+NyqYJ8W4SHh2PTpk0A7sPNzQ3DX6Kf1c50H1XG+szvSnbu3Gn5zjvveMh+h7G2tm6MiYm52RHBHTs7uzYHqVauXGl78uTJFks1qdqyZUuWo6Oj/GavYjYUAMj6kKj64IMPnBUDSKamphJ/f/8qKyurRgBQ7eOkmklgiPF6eHjUFhcXy2/yZ2VlGSlmDFRUVHAUx29kZMRq+n6Wl5cr3aBW/QxkvL2961mWvahtbBkZGUYFBQVGTk5O9fb29vJ9pKWlCQAgODhY61MDsr5YwcHB8l9CNAWkFGVmZhqVlZVx+/btW62YuSbrz9SSv//+2/Kxxx6rkAWQAGD69Oklc+fOdT9w4IClLIgk+zzq6+uZ2tpaRlsgSVYiTlb2TxvZ90R2riiS9QFTnS/rn+Xp6Vnbu3dvtc9Rnxv2up7jujDUOdhZ++8K42jLvnv16qXUc8nV1bVOFkACAFtbW7G1tXVjUVERD5BehwoLC3nW1tYaxxYTE2Mu+7kDgN69e9e88MILmuuPK9D1GtIV6fQUAMuy1QCiAEQxDBMCYDaAyQB8AawH8CSAF9trkIQQQgghpA2WRUh7ICmWtOMLpPNbsPrUVKx8NkppXlWdMXLLRcgpEWLkmsVAw11YCqoRFylAssr2HEb6t6PijVdtPWUkEgkyMzOxcuVKuhGvQRjXF5vYywCAON7LCG38tZNHpEXqckCs8je7uEY6v4sGkdLT0/XKHlLMapBIJBRA6gQdUfIten8WyisbwbKAiTEHPl5C3Ih7yiD7bo6mAFJz84nuXF1dYWFRDTdXKgvY2RxgVp+nIWDkALMukWWjzaFDh4Svv/56L1kpNnNzc/HBgwdvDhw4UIfav20n62vTFhcuXDCT3WjXR0VFxT3FaQsLCwmfz5fIMmMUMwQUXbx4UX7T19jYmE1JSUnp1auXPBjm4eHh21yWkiHGO3To0ArFcZw7d85s0qRJ8hu+p06dUuq5M2DAgCpNARDF9ygQCCStzSCIj48XyI6jOF/WX8vU1FTjfhMTE/l37twxdXJyqg8KCpKfcyUlJTwAsLS01HhDeseOHdYA4O/v32zmjzZ37twxfemll5SyVPh8Puvi4lKXlpYmL+MmFArl50R+fj5PU2be/fv3uXl5eca2trYNrq6uzWagyG7o29raqq0XHh5eEB4erpaxxTBMEACMHz++pK2lJHU9xxMTE9Na2pehzsHO2n9XGEdb9h0aGqqU/KJ6zRGLxUo9lzgcDhwcHLSen6tWrVLKQnr33XdbzEICDHcN6Qyt+d9HAml/JBmm6YsQQgghhHRFk8KANVGAsYl02tlNOt1CPyQAGDzubbz7+wxImkpOZxTZ4N3fZyDR+m9M2PSBfD2JRP3XwdAl1UBjJkY8ZouMhGcRNsFV3lNGFkCyswQsBAxG+HFx98uvMcVnOZYsWYL0dI3lwx8+srJvRaelZd/u7dZps2jxNZxjc3GSzYZ7ww+IFl9r54HqoeYeQpdUIzldrDa/K/L09ESvXr2wcuVKvbYLDw+Hm5u0khEFkDpeVq7mh7S1zdeXLNNJ9kB8Xb0EWTnViN7fchnQtnJz0txvSdt8oh9D3IQnbfcJZ1iOKbhKN89MwZV8whmW01ljasmJEycEU6ZM8aqrq2MA6Y3+vXv33ho2bJjWC8+CBQscFZvQr1u3TmsPl+7I19dXHpS4efOmxouUYu8jDofDCgQC+T3Fb775RpSRkaGxl4whvfnmm0WKP/u//PKLbW5uLg8AGhoa8PXXXzsorj99+nS1sl7Av1lAgPJ719f58+fNACAwMFApiCQSiRoAQFN/HbFYjLlz57oAwNtvv52v+H4EAoGkaTsT1e3y8vJ4a9eu7QkAQUFBzWb+aFNeXs61srJSC1BZWlo2ygJYMv369asGgOTkZI3f1/PnzwsAwNvbu8X/sFNTU02bxt3qz7qtdDnHddHWczAkJMRb8VqSlpamFIQ31DneVu35Ptuy78GDB9fIzk0AyMzMNDlw4IA8w/H777+3qa+vl1+rAgICKrUFeK5du2Zy/PhxK9m0ra1tw6xZs3Qqw2qoa0hn0Om3J4Zh+AzDvMEwzHkACQCmA+ADuAbgPQCvt98QCSGEEEJIm00KAwYNAYaOAJIzdAogAdKyUKNfeheVdQKU1ggQ+sMGjH7pXWSlRqPq/mZAIn0IsrbRGFV1Kg8UMxywjPLfsrKeMgKBAFOH89DHiQMOAzAMA3c7Dja9Z4o/NoQ9Gj1ltJV9ayaQtDZhFb4+9w1mSWJQB+nf8pkoxyxJTNcJJPGd9Zvfif7tyyUtT6dvIMnV1RWDBw+mAFInUOyvpst8fTWX6dTeIhb7QcBXrpjT3n2YCOlob3MHFq/hjMrsCbN6BkBPmNWv4YzK7Mr9kCZMmNCnurpafh/Nzs6uYfXq1fZPP/20p+LX/PnzHTtznC3Zu3dvBsuyF/X90lRy6oknnqiQvb59+zZftVQToJxtU1tby+nXr5/vyJEjvfr06dNv0aJFbgzT/HPphhhv//79615//XV5pkB+fr6Rr6+v78iRI728vLz8Tp06JW8y6e/vXzVnzpwi1XGUlJRw7ty5I/9P5oknnmixdJU2ly5dEgBASEiI0k3kUaNGlQJAREREz+rqavkHU1xczBk/frznuXPnhIMHD65YvHjxA8XtgoODKwDg888/d6ysrJRvd/v2baP//Oc/vWXZD0OGDGn3m9aycyI+Pl5jjyDZjXrFnyVtLl26ZM4wDJ5++umKltZtL7qc47owxDnYGfuX/fzpWnKuPd9nW/f97bffZitebyZOnNh78ODBfQIDA30WLFjgLpvPMAyWLVuWp20cX3/9tZ1EoVnmjBkzHuiSTWXIa0hnaLGcHcMw6wC8AsAC0oyjegB7AfzAsuzp9h0eIYQQQggxmANxrdosbIIrkjdJf23MSHgW6enpmPbCEunC+jrA/L9oaOTizR0TsGX6bpgYSZBRwCK/0gLlFTXIysoCFGJCshvuYfaReHWN8kOIZiYMxve51KpxdjutLPtWi0ZUQ7m6QjUasVRySt47qVP5fAow05TncfnS+R2otrb5ykKqfbmqq6uxYsUKANA5KBQXF9emMT5qovdn4VxSMerqJXAffESn3kLaeihFLPbDrEVJSoEeQwZa2jvTqTmyz2TplynIyq2Bq2P792EipDO8zR1Y3JWDRqrKysqUortZWVkmWVlZapkfxcXFj0zP8ClTppSsWbOmJyDNlDl8+LBw6tSpZYrrREZG5jz77LPesuBBaWkpLy4uzhIARo4cWVZWVsZNSkrSGHAwpB9++OHegwcPjA4ePNhDdRwyPj4+NQcPHrytqVfQoUOHLBRvHE+ZMqW0tWNJSUkxYxgGw4YNUwrqREZG5sXGxlr9888/Fp6env39/f2r6uvrmfPnzwurqqo4Q4cOLT906NAdHk/5du7HH3+cd+LECav4+HgLLy+v/gEBAZWVlZXcxMRE4aBBgyqsra0b6+rqOM31WmqOhYWFuLS0VO1DKSsr43l5eSn9wjVp0qSStWvX9oyLi7MAoHYjfujQodVmZmaSpKQk84EDB/p4eHjUMgyDuXPnPhg+fLj880hMTOQXFxfzBg4cWKXYi6uj6XKO66qt52B77n/16tUibYG/5qxfv/6eYq+sto6jJW3Z9zPPPFP53XffZSxYsMCtsbGRaWxsZBITE5X6rRkZGbGRkZFZEyZM0BjgKSws5P7+++8i2bSpqalk/vz5amUVNTHkNaQz6BI9fReAJaQBpAwAKwHEAxjAMMwc1a/2GyohhBBCCOkKFLOJUHMaKFgEFCzEzoObcS6tAf/cAN7aPQw3M0sAQN7nSFF4eDhcRFqePO2iZc8MTtv7bOH9S6D5QbcsdJGH2ZwnA2a9AabpTw2+CzDg+w7th5SVlYWEhAStmUXa+nLJAkn6ZiQRabBHFvDRRFYerq5e+sdzZk4NZi1KanV5uLAJroj6OhAmxtLzzM2Jj6ivAw0WaGnvTKeWhE1wRUbCs5BkT5SXAyWEkK5m8ODBNYGBgfKgWXR0tFq5vlGjRlXFxsamhoaGlpmbm4tNTEzYXr161S5duvTe33//3aqb5a1hZGSEAwcO3P31119vjxo1qlQkEjXweDzW0tJSPGjQoMqVK1dmJScn33BxcdEYsIiOju4hex0YGFgZEhLSqoDMrVu3jIuLi3murq51NjY2SimvTk5OjefOnbsRFhZWAADHjx+3vHLlillAQEDlxo0b7/7zzz+3rK2t1UpsDRs2rObQoUNpwcHBlWVlZdzTp09b1tTUcL7++uvML7/8MqekpIT32GOPlZuYmLSqB06vXr1qFXsfAUBNTQ2TnZ1t4u3trRREGjZsWI2/v3/VhQsXzFVLrgFAz549G3///fdbwcHBlenp6ab79++32bdvn425ubnS+9q8ebMNALz55psPVPfRkXQ5x3XV1nOwPfcfHx9vvm/fPht9vzRlZrXn+2zrvt97772iixcvXps6dWqBi4tLnYmJCWtqaipxd3evDQsLK0hISLj+4Ycfai31t2bNGltZjywAmDRpUpG9vb3GXmSqDHUN6SwMyzZ//WAYRrUHUrNYlu2Yq38nYxjGEUAOAOTk5MDRsUtnKxNCCCGEtEnypqEAgIA3z8jnaboRLxAI8Pjjj+P06dPS+UdnSeeP/0W9b0ysL0Lnp2HtTBMEeCr8Csl3AUZ3kdJs7SnWV1rCTpW2939vN5JvLwMggVVDLQY/NgMPTMzki91ggQyj2e03Xj2EhoaitrYW586d6/Bjr1y5EkuWSDPleDwePv/8c6XzLj09Hb169WpxP3fu3Hk0yioaiLaMIRn3wUeQmaP+t7KbEx8ZCc+2er8tLW8tWdBLNdPJkIEqYmBnms6joUe0rhIaGoq1k28iICCg2fW6qtzcXDg5OckmnViWbVPTeEWXL1/O8Pf3b5ceGeThtnXrVusZM2Z4AtKn8rOysq7Y2trqdFO1u7h//z7Xzc3NX5ZNtXXr1juvvfZaaScPq0USiQRPP/10r6NHj1r99ttvtyZPnqz1iaOJEye6X7lyxezWrVtqv4QuXbrUYc2aNT3T09OvODg4iAEgKirK+q233vK8cOHCtaCgIKVAkmzZ3Llz89auXav3daq2tpZxcXHpzzAMsrKyrupSKqw9PQrnOGlf3eUacvnyZZG/v7+7pmW61nFkdPwihBBCCCEPoQBfKwT4WinNCw8Px7Jly+RNytUCSAo0Znj4fPpvtopMJ5Q96zQ+n0rfryJt71/WPwnShzTda8vRp6oIdnXSNgMC8BDBGd7OA9ZdS5lA7WXlypX45JNP5NONjY345JNPlMahlEmngUAgQGRkJAWQDKw15eFk5e9OniuE++AjGrOW4vaMMHgACWj/TCdCCHlYTJ8+vUTW96i2tpYTGRlp39ljMrTIyEh72c1ff3//qq528/fUqVNqv9Tk5OTwJk+e7H706FGr0NDQMk0BpIqKCs7WrVutt27dan3v3j3jyspK+fTNmzflWUTz588vEAqF4rFjx3rt3bvXYsOGDT0++ugj17Fjx5aoBpAAYObMmSX9+/ev2rJli11BQYHeyQarV68WFRYWGn388cc5nR1AAh6Nc5y0r65+DdFFiz2RACxv91EQQgghhJBuKTw8HJs2bcLdu3cxZ84cfPvtt/8utDUDLEyAAEfg1keoXvYXlixZgilTpkhv0DtPBsyWA0zTjWG+izSA0oFlzzqV7H1efgeQ1DX//uX9k/4t280FC4+aEvBNeiKCM7xr9EOCNJCTmZkJAHr3GGrrcT/55BM0NipXr5AFkhTHIftXUyadWsYcMQhXR77GTCRt5eG0lb8D0GGBnLAJrtgUfReA4TOdWqu9Mq+6HR2yjgghHYPD4WDVqlXZ//nPf3wAYPPmzXZLly7NF4lED0WmRmFhIXfr1q12sulvv/1WQxp557lz547RiBEj+jo6Otb36tWr1sLCQpybm2t848YNfm1tLSc4OLhy79696Zq2zc3N5ckybGRk0999911Gnz59igBAJBKJjx49mvbOO++4Tps2rZepqalk3LhxJRs2bNBYg5nD4WDt2rXZo0eP9vn0008dNm7cmKPr+6moqOCsWbOmp6+vb/U777xTpPsn0X4e9nOctK+ufg3RVYtBJJZlKYhECCGEEPKoa+ZGnaurK+zs7PDNN9+gR48e0hvz4/oA90oBDgMwDOBmDfz0Al6cMlk5w8PEFuCVADYBj+bNQOfJQNY26evm3r+sT9Llpv7ETeX/TCXiLlPCDvi3xKGsaawsAw1o30BSenq6vISdJo2NjcoBTIXxLFu2DBKJhAJIbSDLGKqrl8B98BFELPZTC/RELPbTWB4uYrGfxn0u/TJFaV0AqK4RY+mXKR2aDfTIB2sIIUQHo0ePrmJZ9mJnj6M9iEQicUVFRXJnj6M5kydPLkxISBBeunTJrKamhmNpaSkODg6ufOmll4reeuutYm19p7y9vet1/b4NGDCg7p9//rml65iefPLJKolEovc5IRQKJQUFBVf03a69PcznOGlf3eEaogtdMpEIIYQQQghplqmptNeu7Ab80snlYGf8prySwBiJz1l09NAeDnxntf5Ja2/8DYADdJGCGpp6ZAEdF0hqDdl4lixZQgGkVtI1Y0j2+o0PLqKuXgI3J77GYJNMa8rfEdKiugKgsQIoOi3tS/coZb8SQh5KvXr1avjtt98yO3schJCHm649kQghhBBCCNEoLi4OcXFx8unw8HCwLpYa182C1n6+j6TQ0FCELqluOQtLU/8kMADXtN3Gpg9ZJpBqAEmmuroaS5YsQXq6xmoqbSbrc2RkZKRxuZGRkdY+R+Hh4bhz5w4FkFqpuYwhVWETXDEksAdGDBEhI+HZZjOKtJW50zafPOLu7QZKzv8bHLq3W+M6cR8XIsCjqZ1zTba015ymdQkhhBBCiBwFkQghhBBCiMG5MZqDSK5Qz0Sat7vPo1nKTh/Ok4EB3wNM06/vfBdpUImjOWjS0WRBHIFAra8zAGmvIW1BHEMJDw/H8uXL1QJJRkZGWL58ebNBovYc18OuvTKGIhb7QcBXLr/TXPk78ghRDRhdWSANBknqpMu1BYfkveUUiGuk8wkhhBBCiFYURCKEEEIIIQYXwRkODhileQLwEMEZrjRPNYuJNMN5MsATAkaWwOhrqKyuQ2VlZWePSi48PBzLli1TCyR1ZK8hWSBJRpcAEmkbfTOG4vaM0KnPUNgEV0R9HQgTY+mfrG5OfER9Hdih/ZBIF3Rvt3rAKPNn3YJDNRr7v2ufTwghhBBCAFAQiRBCCCGEtIMwri92HD8AE38XAIAbLBDFeRphXN9OHlnXU1tb29lDMBhZIInDkf6Z0ZEBJMUxeHh4AAAFkDpAe2YM6VP+jjwiNGUTgdW8rmpwiO+seT1t8wkhhBBCCAAKIhFCCCGEkHYSxvXFEMYRIxgXZBjNpgCSBllZWUhISMDKlSt1Wn/e7j54e4er9Gl8VgxIxNr7f3SS8PBwuLm5AUCHB5BkXF1dMXjwYAogdYD2zhjSNXPpURC9Pwvnkopx8lwh3AcfQfT+rM4eUsfTJ2tINTikqbccly+dTwghhBBCtOJ19gAIIYQQQgh5FK1cuRKZmZkAgBUrVgBAi0GPrKwsVBXfRf3FtwHjHtKZsv4fgLTkXRfg6uoKOzu7Tg3imJqadtqxHzVhE1yxKfouAFDAp51E78/CrEVJqKuXAAAyc2owa1ESADxaGVp8Z+k1Tw0DpYwkTcEh2fXx8jvScnh8F+k6XeS6SQghhBDSVVEmEiGEEEIIIR1s5cqVWLFiBSQS6Q3h6upqrFixotmMJFnQycOeA2NOo/LCLtgcnoI4nSd00kmETjrZ2cPoNo7iVRzFq509jGYt/TIF1TVipXnVNWIs/TKlk0bUSbRlE7m9AXBMpNN8F2DA95qDQ86TAetgwOZxYPQ1CiARQgghhOiAMpEIIYQQQgjpQLIAUnV1tdJ8WSAJUM9IUgw6mRppeQ6MmsPLxcXFdfYQCDGorFzVPkDNz39oNZdNVJkqXTb0SOeNjxBCCCHkIURBJEIIIYQQQjpIeno6lixZonV5dXU1lixZgilTpsDT0xOAetCptkHLxtQcnnQiKmPXvlwd+cjMUQ8YuTryNaz9kHOeDGRtk76mgBEhhBBCSLujcnaEEEIIIYR0EE9PT0RGRkIgEGhcLhAIEBkZKQ8gyYJO8qwl0XIklX+KqlpWaTsJY9qlmsPHxcVRNhAhBhSx2A8CPldpnoDPRcRiv04aESGEEEIIeVRQEIkQQgghhJAOFB4ejmXLlqkFkgQCAZYtW6ZUyk5T0KmhEXhzfa28hXxZvQU4AeuptwchD7GwCa6I+joQJsbSP+HdnPiI+joQYRNcO3lkhBBCCCHkYUfl7AghhBBCCOlgskDRsmXLIJFINAaQVNddsWIFZF2Udp5qxKxFAMMwsJxIvZDaIrTxVwBAHO/lTh6JYUTvz8K5pGLU1UvgPvgIIhb7UaDhIRE2wRWbou8CoPKBGlFpO0IIIYSQdkGZSIQQQgghpN3E8V5+aG7OG1p4eDjc3NwAQGsASXHdZcuWyacFAgEYhgHLsli5cmW7j5V0D9H7szBrURLq6iUAgMycGsxalITo/VmdPDJCDGzoEQoaEUIIIYR0EAoiEUIIIYQQ0klcXV0xePDgZgNI8nV9wgCOAGAEkNhtAHs5H7icixUrVlAgqZWixddwjs3FSTYb7g0/IFp8rbOH1CZLv0xBdY1YaV51jRhLv0zppBERQgghhBBCujsKIhFCCCGEENKJTE1NW1xHlmEia4RU2yAEGGOA4aG6upoCSa0QLb6GWZIY1EEadMlEOWZJYrp1ICkrt0av+YQQQvTHMEyQ4ldaWppxZ47n4MGDwpEjR3qJRCJ/Ho8nH1dISIh3ex0zNjbWTHYcoVAYUFhYyG2vYxnCrl27LJ966qlednZ2A4yNjQOtra39Q0JCvL/66ivbhoYGtfULCwu5QqEwQPYeY2NjzVo6RlpamrEu50N+fj6XYZggOzu7AW14S13SsWPHzDgcTtCcOXOc9NmuoqKCY2trO8DPz6+vRCJpr+HpzZDnub7nYFfZd2eOo7a2ltm3b5/F3LlzHYcOHdrH3d3dz8LCIsDIyChQJBL5P/74472/++47m8bGRoNuCwDr1q2zefHFF9379evX187OboCJiUmgsbFxoI2Njf+gQYO8Fy1a1DM3N1djm6DWXD+6A+qJRAghhBBCSBenKcMEYAAYAYA8kARAp6wmAiyVnEI1lP9wrEYjlkpOIYzrq9M+QiedBNB1+tO4OvKRmaMeMHJ15HfCaAghhLS3P//8U/jCCy/06cgb7xKJBAsWLHCRTb/xxhsPRCKR6i8pXUJDQwMmTZrkceDAgR6K80tLS3nnz583P3/+vPn27dtFR48eveXk5CT/pUAkEolnzJjxYN26dT0B4IMPPnC5dOlSKoej/Cx+XV0dY2Jiwmo7vqbl8fHxZgDg5+dXrXmr7kkikWDevHmu5ubm4uXLl99XXZ6bm8tzcnLyt7Oza8jPz7+iuEwoFErmz5+ft3TpUtcNGzbYvPfee0UdN3LNDHWet/Yc7Ox9d4VxJCYm8idOnNhb07KioiJefHy8RXx8vMWWLVtsY2Njb9na2ooNsS0AfPXVV465ublqAeHi4mJecXGx+cWLF82joqLs//zzz5sjRoxQ+lnW9frR3XTv0RNCCCGEENKNxcXFIS4ursX1NGWSjPzUDiM/c5BPV1dXY8mSJUhPTzfkEB9aWSjXa353ELHYDwK+8kOyAj4XEYv9OmlEhBBC2tPmzZtFigEkJyen+tGjR5eOGTOmZNiwYRXtccxt27ZZX7161QwATExM2PDw8Pz2OI4hzJ4921nxxraVlVVjaGhomaura51s3o0bNwRjx471EouV4wNLlizJlwWArly5YrZt2zZrxeWpqanGLi4u/VetWiVSDeKJxWJ8++23IldX1/6pqalKN6ITExMFABAYGFhlqPfZFURFRfVISUkRzJgx44HqDXkAOHHihBkADBw4sFLT9gsWLCgUiUQNX3zxhVNtbS3T3uNtiaHO87acg5257642DiMjI3bgwIFVw4cPL7O3t1dKa7py5YrZa6+95mbobRmGgaura11ISEjFiBEjypydnesUl5eVlXHffPNNd03btnT96I4oiEQIIYQQQkgXpzWThP337yCBQIDIyEh4enp20Ki6N1dY6DW/Owib4IqorwNhYiz9M8/NiY+orwMRNsG1k0fWdd3FQRTiMh7gPPZjFO7iYGcPiRBCdPbgwQMjxenDhw/fPHr06J2YmJj0NWvW5LbHMdevX28ve/3kk0+W2tvbd8kspKtXr5ps3bpVPlZ7e/uG69evXztx4sTtO3fupIwcObJMtuzy5ctmGzdutFHc3t7eXjxy5MhS2fSGDRvsFJd7eXnVh4eH537zzTeOAQEBPmfPnhUAwJkzZ8wCAgL6fvPNN44LFy7M7dWrV73idklJSWYAEBwc/FBlIm3YsMGeYRjMnj27UNPyM2fOmANASEiIxuCZqakp+8ILLxQXFBQYbd26Vecb7rKSYQsWLHBs3cg1M8R53tZzsLP2PXHiRHddS3W25zgAwM7OriEyMjIrPz8/OSkpKfXkyZO3MzMzr06dOrVAcb2//vrL+v79+1xDbRsZGZmdkZFxOTMzMyUhIeFmXFzc7ezs7JRPPvnknuJ6t27d4qtu2/Q5NHv96I4oiEQIIYQQQkgXpynDBJavA5bTAUgDSMuWLaNSdnqI4AyHQKW6twA8RHCGd9KIDCNsgiuGBPbAiCEiZCQ8SwGkZtzFQSTgE0ggvb9XjVwk4JMuHUiK2zOiy5RPJIRotmDBAkfFnknr1q3T+aaprK+OYl+j4uJizuzZs53c3Nz8jI2NA318fPrJbvImJiYKFbcPCAjwa81xdZWQkMC/dOmSvL9HWFiYxrJjERERdhMmTHDv27dvPzs7uwGmpqaBxsbGgba2tgOGDh3aJzIy0rampqZds002bdpko5gh9Oqrrxb07NmzEQB4PB4WLVqkVHJt+/btItV9hIWFFcteJyUlmSckJMif6uHxeJg/f35henr61XHjxpXOnTvXHQDmzZvn9t///rfkzp07Vz/88MNCIyOlOB+uXr0qAIDHH39cLZhy8+ZN4zfffNPZ09PTl8/nDzQ3Nx84ZMiQPnv27Gn2CZezZ8/yx40b5yESifxNTU0D+/bt2y8qKspaIpHAzMxsII/HC6qsrGy3z/vkyZOClJQUQXBwcIW3t7dS0Oy7776zYRgmaOPGjQ4A8MUXXzgrnuOnTp0SyNadOXNmIQBs2rSpU2+463qet8QQ52Bn7Fsf7TkOPz+/2lu3bqWEh4cXWFtbyw9iYmLCRkVFZXO5XHmpSLFYjOvXr5saYlsAmD59eqmrq6ta6b33339fKUjKMAwEAoHGkpbNXT+6I+qJRAghhBBCSBcnCwS8MvsOWAkLK/MGlBbXAxBTAKmVZH2P3pD8H+oghhssEMEZrnM/JNL9JWMtxKhVmidGLZKxFh4Y10mjIoSQf5WXl3OHDBnic+vWrTbdfFy5cqXtyZMnhS2vqWzLli1Zjo6O8hupv/32mzxDhMPh4LnnntNYMi8iIsKppqZG7cH1wsJCo8LCQqOzZ88Kt2/fbhsfH5+m2mfGUGM9e/as0j4GDx6sFLQZPnx4FcMwYFnp/d8rV66Y1dbWMqampvIbwmPHji3ncDiQ3STfvXu31eDBg9VqDCvekJZNc7lqyQnIycnh3b9/39jBwaFetTfMli1brN9//333qqoqjre3d82oUaPK8vLyjBITE4Uvvvii8Msvv8z66KOPClT3uWbNGtHChQtdxWIx079//yoXF5f6tLQ0/ltvveV548aNvOrqak7v3r1rzM3NtfZuaqs9e/ZYA0BoaKhaTWChUCh54YUXiv78808bsViM559/vkixN0xgYKD88wwODq61sbFpTE5ONsvNzeUpfj87kq7neUsMcQ52xr710Z7j6NGjh9Zmb+bm5qxQKBSXlpbKYxvW1tbya0lbtm2OaiZVUFBQpYWFhcZj6Xr96C4oiEQIIYQQQkg3EDbBFZuiBwGQZiPwXb5GbW0jBZDaIIzr2+qgUfT+LJxLKkZdvQTug48gYrEfZf10M9XI02s+IYR0tLS0ND4AWFhYiH19fasbGxuZuro6ZtCgQVVVVVWchIQEoeKN0OHDh5fx+XwJAHh6esozQi5cuGD2119/6d2To6KiQql00+nTp+U3jL28vGosLS2bu1ErdnNzq7O0tGzk8/mSiooK7vXr1wWVlZVcALh58yb/ww8/dNy2bVu24naGGmt6erpSZoGLi4tSLxSBQMAKhUJxeXk5FwAaGhqYtLQ0Y39/f3nfE2tra0mvXr1qZEG8pvefB0izFzZu3GizcuVKR5FI1LB27drMGTNmeK5duzZz9erVDps3b7ZbsmRJ7uzZs4tkAaXTp0+bAUD//v2VStnt2rXLctasWR5CoVC8b9++OxMmTJAHY3bu3Gn58ssve3322WfO06ZNK1EMPh08eFC4cOFCN6FQ2Lhr1647Y8aMqQQAiUSCmTNnunz33Xc9AcDf379dS+fFx8cLAWDYsGFq2VUzZswoGT16dMW+ffts7O3tG/bv35/R3L4GDhxYGRsba3XkyBHhzJkzS9ppyM3S5zxvjiHOwc7Ytz46axynTp0SKF777OzsGvz8/Gqb26Y127711lvOmZmZxlVVVdz09HTT3NxceYk/Ly+v2u3bt9/Vdpzmrh/dEZWzI4QQQgghpBsyMTGBUCikAFIniN6fhVmLklBXL72nkJlTg1mLkhC9P6uTRyZFJc90I0BPveYTQgwrtujHHnNuOPZ/+SonaM4Nx/6xRT/2aHmrR8+wYcPK09PTr545c+ZmYmJi2rlz59LCw8MLYmJi0nv37q104zMqKiorJiYmPSYmJr212RPNuXbtmrz0WJ8+fbQ+UX/s2LHUkpKS5JSUlBvx8fG3YmNj7yQkJNy8d+/eFScnJ3lw69ChQ+32Pa+oqFBKBTI3N1fLNJAF3GQKCwvVHrb39vaWv8+UlBR5ibO0tDTjL774wmnBggV5ly5dSh06dGgVAAwdOrQqOTn5xvz58/M+//xzJ8W+MufPnxcAQGBgoDzYUlxczHnnnXfcJRIJs2vXLqUAEgBMnTq1LDAwsLK2tpZz8OBBeVm7hoYGvPPOO25isRhbtmy5KwsgAdLsmTVr1uTIMn6CgoKqmsZv8vLLL7v6+Pj04/F4Qb1799b6JM3Vq1dNnnjiid4CgWCgtbW1//Tp010qKio03ke+ceMGHwD8/f013og/c+aMGQD4+flp7IekyMfHpxYALl26JGhp3fai63neEkOdg+21b1lZTNWvffv22QCAj49Pf03LFc/p9nyP2hQVFXFnzpzprjhvwYIFeaqlIw2x7cmTJy3++usv69OnT1soBpCCg4MrDx06dKtfv371Gjdsou360R1RJhIhhBBCCCHdlGI5ENJxln6Zguoa5b+Rq2vEWPplCmUjdSMBmIcEfKJU0o4LUwRgXucNipBHRGzRjz3+lzffrYGt5QBAaWOe8f/y5rsBwGibt4ub37prW716de7q1atzDbEvLpeLn3/+OdPGxkb+nw6fz9e7HNXevXszAGS0ZSzl5eWc6upq+S8eNjY2WkuNOTs7NyxcuNAxLi7OIiMjw6SyspLb2Nio1pOnqKiIV1BQwLW1tZW/P0OMVROWZdWOLyux1ZwePXrI32d1dTWnoqKCIxQKJf369avPzs6+amJiorYTLpeLhQsXFr7//vtFisuTkpLMACAkJESeGfTTTz/ZFBcX80JDQ8sUA0GKPDw86pKSkswVb75HRUX1yM7ONhkxYkSZauAJACwtLSUikaghPz/fSFZiLDk5mX/8+HGrgICASolEovEzAYDCwkLu6NGjvZ2cnOp37Nhx5/79+0Yff/yxc1FRkdGhQ4fSFdctLy/n1NZKf47t7e01nhMXL14UAMDAgQNbzIiSfd4PHjxQuqs/ceJEd1lwQ5M1a9b0XLNmjdpTIKmpqVdV+zQ1R9fzfP78+Y43btww1bQsJiYmXdP81p6DumjNvocNG6bxfDt//rx5dna2yZgxY0rMzMzUsrC0lW9r7Tj0kZ2dzXv66ad7K5b4nDJlSqGmUo+G3FbV+fPnzQMCAnx//PHHu9OnTy/Vtp6264e+x+sKKIhECCGEEEJIN0HZJV1DVq7mh1K1zSddk6zv0TksgwT1EMARAZhH/ZAI6QD7HnzuJAsgyTSwtZx9Dz536u5BJENydHSs0+cGeHsqKipSyjiwsLDQ2EPk4sWLpqNHj/ZWLBfVnJKSEqUgkqEIhUJxcXGxfAxVVVVqT97Igh8yIpFILWCgesO8qKiIK7sJrCmApEh1eUpKigBQLvt26NAhKwCYOXOm1hvZsv5Sijek//zzT2sAmDp1qtafl9raWg6Px2OHDBlS07Ru6bRp00oBaVDmypUrGjMj1qxZY1teXs5NTk6+3bNnz0YA4PF47OzZsz0uXLhgOmjQIPnTF8XFxVwAMDY2ZrX1uUlOThYAQFBQUItBJNl5VVZWpt5UqgPoep7Hx8cLz58/b97cvgx1DrbXvhcsWFC4YMGCQtXtJk6c6J6dnW3y3Xff3Wvp+tOe71HVtWvXTJ555pne2dnZJrJ5U6ZMKYyOjs5sr21TU1OvA9LA6tWrV01WrVrlcPjwYWtA+r7mzJnjMXLkyKuurq4a31Nz14/uhoJIhBBCCCGEEKIHV0c+MnPUA0aujm3qe046gQfG4TZ+BwD8Bzs6eTSEPDpKG+8b6zP/UWVnZ9fQ8lotW7lype3JkyeFLa+pbMuWLVmOjo6NAKCYDQUAsh4nqj744ANnxQCSqampxN/fv8rKyqoRAFT7OKlmKRhirADg4eFRW1xcLL/Jn5WVZRQSEiL/z7uiooKj+B6MjIxYTTfMy8vLlW6Aq34OMt7e3vUsy17UNr6MjAyjgoICIycnp3p7e3v5PtLS0gQAEBwcrPVJFFlvrODgYHkQRlNASlFmZqZRWVkZt2/fvtWy7DVZb6aW/P3335aPPfZYhSyABADTp08vmTt3rvuBAwcsFYNIss+jvr6eqa2tZTQFkmTl4WQl/5oj+57IzhcZWR8w1fVl/bM8PT1re/furfYZ6nvDXtfzXBeGOgc7et/66Khx/PPPP4Lnn3++t2LA6r333stbt25di1mfbdlWRiQSiUeOHFk9YsSIdD8/v743btwQANLsoj///NPyvffeK9K0na7Xj+6AgkiEEEIIIYQQooeIxX6YtShJqaSdgM9FxGK/ThwVIYR0H1Y8h/rSxjy1gJEVz6FLZN10FYYqW3vhwgUz2c12fVRUVNyTvbawsJDw+XyJLCtG8YasoosXL8pvKBsbG7MpKSkpvXr1kgfDPDw8fJvLUjLEWAFg6NChFYpjOXfunNmkSZPkZd9OnTql1HNnwIABVZoCIIrvUyAQSFqbRRAfHy+QHUdxfmVlJReQBts0bZeYmMi/c+eOqZOTU31QUJA8eFNSUsIDAEtLS403pXfs2GENAP7+/i1m/6i6c+eO6UsvvaSUocLn81kXF5e6tLQ0pRJuQqFQfl7k5+fz3NzclAKf9+/f5+bl5Rnb2to2aMvWUFRUVMQDAFtbW6V1w8PDC8LDw9WytRiGCQKA8ePHlxiijKSu53liYmJaS/sy1DnY0fvWR0eMY//+/RbTpk3rJSszyOVyERkZmbVo0aIWy9C1ZVtNOBwO7OzsGm7cuCGfd//+fa3NmAx1/egKqIg6IYQQQggh3Uz0/iyUVzairLwB7oOPIHp/VmcP6ZESNsEVUV8HwsRY+ueUmxMfUV8HUj8kQgjR0Qt2n+QYMco3zY0YU8kLdp/kdNaYDGXBggWOik3o161bp7WPS3fj6+srD0jcvHlTY/qtYu8jDofDCgQC+Q3jb775RpSRkaGxj4yhvfnmm0WKQbhffvnFNjc3lwcADQ0N+Prrrx0U158+fbpaWS/g3ywgQPn96+v8+fNmABAYGKgURBKJRA0AoKm/jlgsxty5c10A4O23385XfD8CgUDStJ2J6nZ5eXm8tWvX9gSAoKCgFrN/VJWXl3OtrKzUglOWlpaNsuCVon79+lUDQHJystp7OH/+vAAAvL29dar5m5qaato07lZ/1m2ly3mui7aegyEhId6K15K0tDR54N1Q53dbted7BIAff/yxx+TJk71kQSBTU1PJtm3b7ugSBGrttmvWrBFt2LChR0lJiVrcZOfOnZZnz561UJzn5eVVp21fhrp+dAWUiUQIIYQQQkg3Er0/C7MWJYGVSO/JZObUYNaiJACgIEYHCpvgik3RdwFQrypCCNGXrO/RvgefO5U23je24jnUv2D3SQ71Q2ofe/fuzQCQ0db9PPHEExUXLlwwB4Dbt2/zy8vLOao9PwYMGFCVmJgoBKQ9Q/r16+cbEBBQlZOTY3zr1i0+wzBqJezaY6z9+/eve/311/N//vlnewDIz8838vX19Q0ICKhKT083zcrKkgdf/P39q+bMmaNWjqqkpIRz584d+U3gJ554olx1HV1dunRJAAAhISFKN5JHjRpVumPHDruIiIieTzzxxG1Z0K24uJjz6quvup87d044ePDgisWLFz9Q3C44OLjir7/+sv78888dhw4detvc3JwFgNu3bxs9//zzXrIMiCFDhrT7jesnnnii4uLFi+bx8fHm48ePr1BcVl9fzwDSsl+67OvSpUvmDMPg6aefrmh57fahy3muC0Ocg52xb31+BttzHKdPnxbMmTPHQ/F64eDgUP/LL7/0+OWXX3qorv/uu+8WPPfccxVt3fbq1av8rVu32s2bN4/18vKq7dmzZ31DQwOTmZlpothTCQAcHR3rX3zxxVJN4zfk9aMroCASIYQQQggh3cjSL1OUyqgBQHWNGEu/TKEgEiGkQ4ROOgmAAqikbUbbvF3c3YJGDQ3qLYrao0RUVzVlypSSNWvW9ASkWTKHDx8WTp06tUxxncjIyJxnn33WWxY8KC0t5cXFxVkCwMiRI8vKysq4SUlJ5up7N7wffvjh3oMHD4wOHjzYQ3UsMj4+PjUHDx68ralf0KFDhywkkn9jB1OmTClt7VhSUlLMGIbBsGHDlII6kZGRebGxsVb//POPhaenZ39/f/+q+vp65vz588KqqirO0KFDyw8dOnSHx1O+hfvxxx/nnThxwio+Pt7Cy8urf0BAQGVlZSU3MTFROGjQoApra+vGuro6TnO9lrSxsLAQl5aWqn0gZWVlPC8vr1rV+ZMmTSpZu3Ztz7i4OAsAeYrLhg4dWm1mZiZJSkoyHzhwoI+Hh0ctwzCYO3fug+HDhyt9FomJifzi4mLewIEDqxT7W3U0Xc5zXbX1HGzPfa9evVoUHx+v98/i+vXr7yn2y2qv91haWspVDThnZGSYastmfPbZZ+Xfo7ZsK9PY2MikpqbyU1NTNWajubi41O3bt08ewFVlyOtHV0BBJEIIIYQQQrqRrNymewHGHprnE0JIO4ren4VzScWoq5fAffARRCz2owA2eWRcv35d6Sl0LpfL2tvbd9rN7o42ePDgmsDAwEpZECg6OtpG9eb6qFGjqmJjY1M/+eQTxwsXLpg3NDRwnJ2d61566aXCzz77LH/o0KHeHTVeIyMjHDhw4O7OnTuLf/75Z9Hly5fNSktLeWZmZpLevXvXTJw4sXj+/PmFJiYmGm8CR0dHyzMWAgMDK0NCQlr1y9atW7eMi4uLeW5ubnU2NjZKTwI5OTk1njt37kZ4eLhjbGys1fHjxy0tLCzEAQEBlWFhYUVvvfVWsabeWMOGDas5dOhQ2tKlS52vXr0qOH36tKW3t3f1119/nRkYGFgzYsSIvqNGjSrV9t6a06tXr1rV3kc1NTVMdna2ycsvv6xWFm3YsGE1/v7+VRcuXDBPS0sz9vb2lvc269mzZ+Pvv/9+69NPP3VKS0vjJycnmwHA0qVL76vuZ/PmzTYA8Oabbz5QXdaRdDnPddXWc7A99x0fH2++b98+vcttRkZG5vbs2bND3mNnePvttwutra0bExISzLOyskxKSkp4NTU1XBMTE4mtrW1D3759q8eOHVs2c+bM4uYeIjDU9aOrYJpLISXaMQzjCCAHAHJycuDo6NjJIyKEEEIIIY8C98FHkJmj/jeImxMfGQnPdsKIui/KpiAAcBSvAgD+gx2dPJKuT1ZOUzEbUsDnKvUE6/I/V2earpNDj3TuOFohNzcXTk5OskknlmXb3ERe5vLlyxn+/v7t0jPjYVFXV8dMmjTJ/dChQ/IbgwMHDqxKSkpK7cxxdbStW7daz5gxwxOQ9hjJysq6Ymtrq9Y/p7u7f/8+183NzV+WUbV169Y7r732WmknD6tFEokETz/9dK+jR49a/fbbb7cmT56ssYTWxIkT3a9cuWJ269ata6rLli5d6rBmzZqe6enpVxwcHMQAEBUVZf3WW295Xrhw4VpQUJBaNpJs+dy5c/PWrl2r97WptraWcXFx6c8wDLKysq52dobfo3Kek/bRXa8fly9fFvn7+7trWqZTPUpCCCGEEEJI1xCx2A8CvnIpCAGfi4jFfp00ou5Jlk1x8lwh3AcfQfT+rM4eEiFdXnPlNAl5WF24cMH0ySef9PLw8PBTDCABwNy5c9WyKR5206dPLxkwYEAVIO15FBkZad/ZY2oPkZGR9rIbwP7+/lVd7QbwqVOnBKrzcnJyeJMnT3Y/evSoVWhoaJlqAKmiooKzdetW661bt1rfu3fPuLKyUj598+ZNY9l68+fPLxAKheKxY8d67d2712LDhg09PvroI9exY8eWaAogAcDMmTNL+vfvX7Vlyxa7goIC/eqyQVparbCw0Ojjjz/O6ewAEvDonOekfXT160drUBCJEEIIIYSQbiRsgiuivg6EibH0V3k3J75SFgBpmSyboq5eWqc8M6cGsxYlUSCJkBZoK5tJ5TTJw+z+/ftGJ06csMzLy5PfZGcYBvPmzcubPn16aScOrVNwOBysWrUqWza9efNmu8LCQr2DBl1ZYWEhd+vWrXay6W+//Ta7ufU72p07d4xGjBjR18nJqf/w4cN7P/fcc56BgYE+Xl5e/ffu3WsTHBxcuXfv3nTV7XJzc3kzZszwnDFjhmdiYqLw/v37xrLpmJgYoWw9kUgkPnr0aJpAIJBMmzat17Jly1zGjRtXsnPnzgxtY+JwOFi7dm12ZWUl99NPP3XQ5/1UVFRw1qxZ09PX17f6nXfeKdLrw2gnj8J5TtpHV79+tBb1RCKEEEIIIaSbCZvgik3RdwF04ZJRXVhz2RQUjHv4hGZK/41z69xxPAxcHfkay2m6OmrsOU3IQ4NhGAgEAomDg0N9cHBw5ezZswuGDx9e3dnj6iyjR4+uYln2YmePo72IRCJxRUVFcmePozmTJ08uTEhIEF66dMmspqaGY2lpKQ4ODq586aWXit56661iLlc93uHt7V2v6/dtwIABdf/8888tfcb05JNPVkkkEr3PC6FQKCkoKLii73bt7WE/z0n76A7Xj9agIBIhhBBCCCHkkfIoZFNQnx/d0Weku4jFfhp7InWrcprdsBcS6VzPPfdcRWtujBPSXnr16tXw22+/ZXb2OAghjw4qZ0cIIYQQQgh5pGjLmqBsCkKaJyun6ebEB8NQOU1CCCGEkEcBZSIRQgghhBBCHikPRTZFM+7iIApxGRLUYz9GIQDz4IFxnT0s8pAIm+BKQSNCCCGEkEcIZSIRQgghhBBCHimybAoTY+mfQw9TNsVdHEQCPoEE9QCAauQiAZ/gLg528sgIIYQQQggh3RFlIhFCCCGEEEIeOQ9rNkUy1kKMWqV5YtQiGWspG4kQQgghhBCity6bicQwzHMMw+xgGOYGwzAlDMNUMgyTwjDMlwzD9FBYz5NhmN8ZhrnFMEw5wzANDMM8YBgmhmGYsXoe8zWGYRIZhqlq2tdJhmGeM/y7I4QQQgghhBDDq0aeXvMJIYQQQgghpDldNogE4F0ArwDwAWAFwAyAL4CPAFxgGMayaT1XAJMAeAEQQppdZQtgDIBDDMO8oMvBGIaJBLAVQDAAQdO+hgM4yDDMLMO8JUIIIYQQQghpPwL01Gs+IYYUvT8L55KKcfJcIdwHH0H0/qzOHhIhhBBCCGmjrhxEqgOwEUAQAD6AIQDuNS3zAPBG0+t8AO8D6NO0ngeAIwr7ebWlAzEM4w9gcdPktaZ9DADkj+utYRjGvrVvhBBCCCGEEEOL2zMCcXtGdPYwSBcTgHngwlRpHhemCMC8zhlQJ4suA87VACdrAPfb0mnSPqL3Z2HWoiTU1UsAAJk5NZi1KIkCSYQQQggh3VxXDiJNY1n2HZZlk1iWrWVZNgHAdwrL+wAAy7I3WJb9nmXZW03rZQD4UWG9Bh2O9SoApun1lyzLZrAsexXAD03zBAAmt+ndEEIIIYQQQkg788A4DMbn4MAYACCAIwbj80eyH1J0GTDrvvTpRADIbJROUyCpfSz9MgXVNWKledU1Yiz9MqWTRkQIIYQQQgyhywaRWJat0DBb8ZG6bNWFDMNwGIbxAPB206wG/BsIak6wwutrWl4rrqPEyckJDMOAYRhtq5Au6N69e1ixYgWeeuopuLi4wMzMDMbGxujRowf8/f0RFhaGH3/8Efn5+Wrburu7y7/nil9cLhcWFhbw8/PDzJkzkZCQoPX4mrZnGAY8Hg9WVlYYMGAAZs6ciX/++adV76+urg47d+7EggUL8Pjjj8PMzEzpOJ999pnWbYuLi/H777/j/fffx9ChQ+Hp6QkzMzPw+Xx4eHhg6tSpOHbsWItjOHz4MF544QU4OTnBxMQEtra2CA0NxQ8//IDGxkad38vLL7+s9jnFxcWprZebm4v//e9/mDVrFkJCQuDm5gY+nw8zMzP06dMHM2bMwIULFzQeo7KyEgcOHMDChQsxfPhweHl5wcLCAiYmJnB2dsb48eOxb98+ncZbUVGh9nkzDIPDhw/r/J4JIYQQQlrLA+Mggj/sEIwJOPZIBpAAYGkBUM0qz6tmpfOJ4WXl1ug1nxBCCCGEdA8My7Itr9UFMAzTE8AlAPYAqgH4sCybrbA8DoBiPY9yAC+zLNviXVuGYdLQlNkEoBfLsulN80cBiG2a/xfLsk8rbOMIIEd1X93l83yU1dXVITw8HN9//71OgQxbW1s8ePBAaZ67uzsyMzN1Ot6qVauwYMECtfn6BB0//vhjfP755zqvDwAZGRnw8PDQuvzTTz/VGkj69ttvsXDhwhaP8dZbb+GHH35Qey+NjY147bXXEB0drXXbgQMHIiYmBnZ2ds0eY+/evZg0aZLa/BMnTiA0NFRp3rvvvosNGzY0uz8Oh4Ply5dj2bJlSvP37NmDF198sdltAWDcuHH4/fffYWJionWdLVu24I033lCb/+KLL2L37t0tHoMQQgghpK2ONlX1/g92dPJIOg8nFdD01xkDQOLT0aN5+LkPPoLMHPWAkZsTHxkJz3bCiB4+ubm5cHJykk06sSyba6h9X758OcPf37/QUPsjhBBCSPdy+fJlkb+/v7umZV02E0kRwzAuAI5DGkCSAJiuGEDSwgLA7wzDjG7LoXVZKScnByzLUgCpG6ipqcHo0aOxZs0apQCSQCDAsGHDMH78eIwaNQrOzs7yZRKJpMX9Dh8+HBMnTsSoUaNgbm6utOyjjz7SKeD0zDPPYOLEiRg3bhwcHByUlq1YsQLXrl3TsmXLGIaBtbV1q7a1srLCqFGjMGrUKFhaWiot++mnn/Djjz+qbbNo0SKlAJKNjQ3Gjh0LLy8v+bxLly5h/PjxzX6+BQUFmD17dqvGbW9vj6eeegrDhw8Hn8+Xz5dIJPj444/xf//3f1q3NTMzw/DhwzFmzBjY2toqLTt48CA++eSTZo+9fft2jfMPHDiAkpISPd4FIYQQQkjr/Ac7HukAEgC48vSbT9omYrEfBHyu0jwBn4uIxX6dNCJCCCGEEGIIXT6IxDCMD4B4AD4AGgG8wrLsHtX1WJYNBcAD4A5AlorAB7BKh8Mo1iuzUnhtofBaORWFdEvvvPMOTp8+LZ/m8XiIjIxEYWEhTp8+jT/++AOxsbHIzs5Geno6vvjiC9jb27e43+XLl2PPnj2IjY1FamqqUsCmsbERf//9d4v72LhxI/bs2YMDBw7g1q1bcHd3ly9jWRbHjx/X671aWFhg5cqViI2NRXFxMVavXq3X9sHBwdi/fz8KCwsRGxuL2NhY3L59G8HBypUdf/rpJ6XpW7du4bvv/m1f5uzsjNTUVBw6dAipqal47rnn5MvOnTuH//3vf1rH8Pbbb6OgQFpvRPHzaM5//vMfHDt2DHl5efjrr79w8uRJ3LhxQy0rS3XcAODt7Y3t27ejqKgIJ0+eRExMDO7evYtx45RLwGzevFlr8Ovu3btKJQiNjIzkr+vq6vDbb7/p9D4IIYQQQkjbRNgCApXHAgWMdD4xvLAJroj6OhAmxtLbDG5OfER9HYiwCa6dPDJCCCGEENIWXTqIxDDMIAD/AHCBtITdeJZlf9W2PsuyYpZlMwEo1qnqo219BecVXvdTeO2rZR3SDaWkpGDbtm1K83766SeEh4crZarIeHh4YNmyZbh06ZJex3FycsLw4cOV5hUVFem1D3Nzc7VgTW1trV776NGjBxYvXoxRo0bByspKr22nTZuGhIQEPP/88+By/32aUCQSITIyUmndtLQ0pent27crBVjeeustiEQiAACXy8WiRYuU1v/55581juHXX3+V9yB6/fXXMWLECI3rKVqyZAn+/vtvPPnkk0ol9tzc3LBkyZJmxz1ixAhcvXoVr776qlKpOjMzM7UAXHFxsTy4pWrHjh1KWYmffPKJ0li0ZSkRQgghhBDDCrMEohwA2W92bjzpdJhls5uRNgib4IohgT0wYogIGQnPUgCJPFQYhgnS9MXj8YKEQmFAnz59+k2ZMsUtJibGvOW9tc6JsbEg9QAA1rtJREFUEycEn3zyif3o0aN79enTp1+PHj38eTxeoKWlZUBAQIDPokWLehYUFHBb3pP+nJyc+iu+7/Y4xqNo3bp1Noqf64IFCxw7e0yEEKKqywaRGIZ5EtISdiIARQBGsSx7RMN6nzIM8zLDMB4MwxgzDOME4DOFVe4orOvOMAzb9BWnsM4O/Fsue3HTev0ByOpoVQOgRibd3K5du5Ru7vfv3x8zZsxocTtjY2O9j6WapeLoqN/vAJWVlTh/XjluGRTUcb+jOTg4aO3Z1LNnT6Vp1RJ3ilk4ANSCYcHBwUr7TkhIQH19vdI6eXl5eO+99wAArq6uWLt2rU7jbu5zbmnctra2SllDzW0LSDO9VLEsix07/i0bY2Jigvfeew9PPPGEfN65c+dw8+ZNreMkhBBCCCGGE2YJDOEDI/hAhhcFkAghhicWi1FZWcm9desWf/fu3aJnnnnGe968ee0SCBg7dqz3F1984Xzs2DGrW7du8UtKSnhisZgpLy/nXr582eybb75x7Nu3r198fLz6k7JdVFpamrFiECUkJMS7s8f0MAkJCfFW/HzT0tL0v8lFCHnkdeVq0J8AEDa9tgFwVuWm9smmEnYjoRw0UtQIYImWZXIsy15mGOZLAOGQZh/dVVllAcuy+epbku7kzJkzStNjx45tl+NkZ2fj1KlT8mk+n4+nn366xe3mzJkDgUCAhoYGnD9/Hnl5efJlEydOxJNPPtku49WXai+h0NBQpenU1FSladXAjqmpKaysrOS9gerr63H37l14e//7e+Kbb76J4uJiMAyDLVu2aAzYGHrc+mw7ePBgjdlrp0+fRnp6unz6mWeegaWlJaZOnap0Tmzfvh0RERE6H58QQgghhBBCSNcyfPjwMj6fL6mvr+dcvXpVUFhYKH8qcd26dT2nTZtWPGjQIP1KiuiIYRh4eXnVODk51efk5BjfunVL/gdqUVERb/LkyV5paWkp5ubm1Ly7i/P09KwfM2aMvHlyv379ajpzPIQQoklXDiLpKhqAGNKeSSJIM4pyIe2jtJZl2Yu67IRl2SUMw9wE8A6kgSQxgCQA37Ase6g9Bk46Vn6+chzQzc1NbR0rKyuUlZWpzf/000/x2Wefad33p59+CltbW5SWliIhIQGVlZUApOXbfvjhB9jZ2bU4PtVAhcygQYOwcePGFrfvCJcvX8by5cvl00ZGRggPD1dap7S0VGnazMxMbT9mZmbyIBIApddbt27F4cOHAUgDa6NGjWrzuP/++2/8+OOP8mkrKyu8//77Om2bnZ2NefPmKc375JNPNK6rWqrupZdeAgBMmjQJ7733HhobGwEA//vf//DFF1+Aw+myyaCEEEIIIYR0WaGTTgIA4va0XPKakPYSFRWV5e3tXQ8AZWVlnH79+vnm5uYaA9IqFX/99ZeFoYNIpqamkunTpz/44IMPHnh5eTXI5n///fc277//vrtsOjc313j//v2Wr7zySqkhj08M77nnnqt47rnnKjp7HIQQ0pwueweTZdlQlmWZZr5Cm9bbxLLsKJZlnViWNWFZ1pRlWU+WZV9RDSCxLJuhur3K8m0sywazLCtgWVbIsuwICiARXZw6dQp79+7FsWPH5AEkLy8vnD9/HtOnT2/Tvi9cuID+/fvj6tWrhhhqqyUkJGDUqFHy98cwDH7++Wf4+/s3u51iCcHm5gHSgM38+fMBSD+/r7/+uo2jBg4ePIjnn38eYrEYgLTE3J49e3QqMXjr1i2MGDECOTk58nlffPEFnn32WbV1a2pq8Pvvv8unzczMMG7cOADSXlKjR4+WL8vOzsaJEyda/Z4IIYQQQgghhHQdlpaWEn9//yrFebW1tWo14ttaWiwpKen6Dz/8kKMYQAKA9957rygwMLBScV5qaqqpPvsGgISEBP5TTz3Vy8rKKoDP5w/s27dvv6+//tpWtWS/qpqaGmbp0qUOzz33nGefPn362draDjAxMQk0NTUNtLe3HxAaGur1/fff28j+LpdhGCbIx8env+K88+fPm2srb7dz507LadOmuQYGBvo4OTn1Nzc3HyjrCTVgwACf999/3zEzM1NznfpmaOpLdOfOHaOXXnrJzc7OboCxsXGgs7Nz/3fffdeprKxM673UY8eOmb344ovu7u7ufgKBYKCJiUmgvb39gFGjRvXavHmzter713ZsxeWazpn9+/dbPPHEE70tLCwCTE1NA318fPqtXbvWRnG7iRMnujMME3T+/HmlHl0+Pj79NZ2DEokEGzZs6DF8+PDesvdsamoa6ODgMGDgwIE+r732msuOHTus9P1sCSEPh4chE4kQndjb2+P69evy6aysLLV1xo8fj6qqKmRmZuLChQttOt7t27cxZ84cxMTEqPXf0eTu3btwd3eHRCJBZmYmli1bhl9//RUA8ODBA8ycORMJCQltGlNrHT58GJMnT0Z1dTUAaYbVpk2b8Morr6ita2VlhQcPHsinZdsoUp1nbW0NAFi0aBHKysrA4XCwfft2CASCNo178+bNePvtt+UBJIFAgL179+qU3XT+/HmMHTsWBQUF8nnLly/HsmXLNK6/f/9+lJeXy6fHjx+vNP6pU6ciJiZGPr19+3aDZFkRQgghhBBCCOlcZWVlnMuXLyuV4QgODlb/Y7iN3N3dG7Qts7OzU1pmaWmpHrFoxr59+yymTp3qVV9fLw9+paam8j/66CPXU6dOCcVisebGyQBKS0u5kZGRTpqWPXjwwOjBgweWJ0+etNy5c2eP48eP3zY1NW1Vmb2oqCjbuLg4tRss5eXl3KtXr5pdvXrVbNu2bXaHDx+++cQTT7T687969So/KCjIt6ysjCubl5OTY7xhwwaH48ePW/zzzz83bWxs5J+vRCLBjBkzXLZv365WhubBgwdGx48ftzp+/LjVTz/9VHno0KHb9vb2en1vFH300UdOf/75Zw/FeWlpafz58+e7l5SU8JYvX96qdhzTpk1z3blzp63q/Pz8fKP8/Hyj5ORks/j4eItXX321tJVDJ4R0Y102E4kQQ3vssceUpjWVj9u+fTv27NmDd955R699nzhxAvX19Th37hz69u0rn3/u3DnMmDFDr31xOBx4eHhgy5YtMDExkc9PTExEZmamXvsyhG3btuH555+XB374fD727duH119/XeP6ir2NAChl8QDSAJJi+TpjY2N4eHgAgFIfqP/+978QiUTyr127dintZ/z48RCJRFqDOitWrMCbb74pDyDZ2Njg2LFjOvWniomJwciRI+UBJFlZQm1l7AD1UnaHDx+Gs7Oz/GvRokVKy/ft2yfP6iKEEEIIIYQQ0r3MmjXL9emnn/YcNWpUr969e/vJStkBwJgxY0r++9//dliJsoqKCk5CQoJQcd7o0aN1Pn5+fj73jTfe8FAMIFlZWTUOHTq03NnZue7w4cPW+fn5LWb4WFlZNfr5+VU//vjj5U8++WRpYGBgpampqTyN6ezZsxZffvmlPNAyZsyYkuHDh5ep7mPMmDElsq9hw4YpvQ8ej8f26dOnJiQkpGLUqFGlw4YNK1cMoFVUVHBnzpzprut71yQ2NtaqsrKSGxAQUBUQEFDF5XLlQa8bN24IZs+e7ay4/qJFi3oqBpAYhoGvr2/14MGDK/h8vvz9X7hwwfz555/v1Zax/fnnnz3Mzc3Fjz32WEXPnj3rFZetXr26Z0VFBQcABg0aVDVmzJgSKyurRsV1hg8fXqb4+QqFQsndu3eNdu3aJQ8g8fl8yWOPPVYxcuTIsr59+1ZbWFi0OuhFCHk4UCYSeWRMmTIFK1eulJdSS05Oxs6dOzF16lSD7N/IyAiDBw/GH3/8AT8/PzQ0SH+H2bdvH44dO6Z31omJiQlMTU1RV1cnn5eXl6exl1N7WblyJZYsWSKftrGxwcGDB9UCcoqGDx+Of/75Rz6dmJioFLg5f/680vqDBw+GsbFyBr9EIkFRUVGzY5Nl/agGYiQSCd5991388MMP8nkeHh6IiYlBnz59mt0nIO1XNGPGDHn/Ij6fj507d2L8+PFat8nJyUFsbKzSvLKyMo39tWSqqqqwZ88evPbaay2OiRBCCCGEEEIeNjexq0cKNjrVoNCYD1G9H+bk9MFLxZ09Ll2dOnVKY8kRX1/f6p9//lm99Ek7kUgkmD59umtJSYn8Ht+zzz5bEhgYqHM/pvXr14tKS0vl2/fu3bvmn3/+SbO3txeLxWJMnjzZfd++fTbatre2thYnJiZeCwoKqlXt/Zudnc3z8fHpX11dzQGAffv2WX/22Wf5ABATE5OelpZmrFjSrnfv3rUxMTHpmo6zevXqe15eXvVCoVCpvp5EIsG4ceM8jxw5Yg0AN2/e5CclJZnq8xkoYhgGv/32262JEyeWA8Aff/whfOGFF/rI7ift27fPJisrK8fV1bUxPz+fu2HDBgfF7bdv335H1o8qJSXFJDQ01KeoqIgHAOfOnRPu2bPHYtKkSeVoBScnp/qTJ0+m9urVq6GiooITGBjY9/bt26YAUFlZyT116pRg7NixleHh4QXh4eEFISEh3ool7RR7eckcPXrUTLHtwP79+2+NGTNGfrNFIpHgn3/+EVy6dInfmjETQro/ykQij4wBAwaolV97/fXXsX79ennAxxD69OmDN998U2nexx9/rPd+du7cqRaE0KWPjyFIJBK8//77SgEkd3d3xMfHNxtAAoDp06dD8ZfGTZs2yTN6Ghsb8dVXXymt/8Ybbxhs3HV1dZg8ebJSACkwMBBnzpzRKYD0zTffYPr06fIAkix7qbkAEgD88ssvaKlGtCaq2UuEEEIIIcTw4tykX6RjxO0Zgbg9Izp7GKSLu4ldPS7iS7caFBgDLGpQYHwRX7rdxK4eLW/dtV27dk0wYMAA38TERLUb7omJiWksy16UfanezNdXQ0MDJk+e7L5//355gKdv377Vv/zyS4Y++zlx4oSF4vTcuXPvy0qucblcrFq1KkfzllKmpqasmZmZ5O2333b28/Pra2lpGcDj8QIZhglydXX1lwWQAODu3bt692qS8fHxqfvhhx9snnjiid4ODg4DTE1NAxmGCeJyuUGyAJJMSkpKq4/z2GOPlcsCSADw/PPPVzz22GPyabFYzMTExAgB4PDhwxa1tbXy9xccHFwpCyABgJ+fX92MGTP+rfkP4MCBA1atHdvcuXPzevXq1QAAQqFQMmzYMKVg1L179/TqswUAnp6eSufhF1980fO7776z+euvv8xzc3N5HA4HI0aMqJ43b17zT/sSQh5alIlEHik//PADUlNTkZiYCEAadHjvvfewdOlSBAUFwcLCAiUlJWrZMvpavHgxNm/ejPp66f/DZ8+eRUxMTLOl1ObMmQOBQACJRIKsrCxcvHhRafngwYPh6uqq1ziGDBkif63Y2weQ9gtS7NGzceNGBAYGAgDWrVuH77//Xml9Z2dnLF26VONxfvjhB9jaSjOfe/fujblz52LNmjUAgHv37qFv374YMmQI0tLScPv2baXxKQb24uLitL6X1157TSnocuLECYSGhiqt89FHH2Hv3r1K82xtbfHuu+9q3OeePXvkr//44w+1knNubm5YtWqVxm2XL18OX19fAOrBoH/++QePP/642jb19fWwt7dHaWkpAODkyZPIzMzs0OwyQgghhBBCCOlsKdjoJEGd0oPNEtRxUrDRqbtkI6Wmpl719vauF4vFuHXrlvGiRYucDh482AMAiouLeTNnznS7cuVKansdv6KigjNu3DjPkydPyjOifH19q48dO3bT2tpar6ccFUvxAYC/v79SBo+7u3uDhYWFuLy8nAsNDh06JHzxxRe9FIMp2lRWVmrcR0sqKio4jz32mPe1a9d0ap6s2M9IX3379q3RNO/MmTPyYFtWVpYxANy9e9dYZT21XkwDBgxQ2p9s29YYMmSI0v5Ve1/V1dVp7V2lTa9evRpeeumlwl27dokAID4+3iI+Pl7+Xu3s7BpGjhxZtmTJkvsDBgyo074nQsjDioJI5JEiEAgQFxeHefPmYfPmzfLskfLycpw4cULjNqampnB3d9frOC4uLnjttdcQFRUln/fZZ581G0TS1KNJcX+tyVpJSEjQuiwnJ0epX5GsPBwAeZBD0enTp7Xu69tvv5UHkQDg66+/Rn5+Pn799VcAQFFREQ4fPqy0TUBAAP744w+oprq3haZx//XXX63eNikpCUlJSRrXlwWmzp8/jxs3bsjnOzs7Y9iwYRq3MTY2xoQJE7B161YAAMuy2LFjR6sy1QghhBBCCCGku6pBocab6Nrmd2VcLhc+Pj71v/32W4aVlZW1rK/Q1atXzW7evGncp0+fNmUbaZKXl8d7+umnva5cuWImm/f444+XHzp06I6lpaX+ZTLaaN68ea6KASShUCgeMGBAlbm5uRgATp48aalLgKk5X3/9ta1iAInD4cDX17fKwcGhgcPhsLdu3eKnp6fLs48Uy7O1J9XjMIzeMRy92NnZKfU44nJbHStTEh0dnfmf//yn/Ndff+1x6dIl8+LiYvk94wcPHhj99ttvosOHD1snJCRc79evn8HPaUJI10bl7Mgjh8/n46effsLNmzexdOlSPP7447C3t4exsTGMjY1ha2uLkJAQvPHGG/jll1+Ql5fXqr414eHhMDL6t+9kQkKCWiBFG2NjYzg4OODJJ5/EqlWrcP36dXh7e+s9hs7C4/EQHR2NgwcPYvz48XBwcICRkRF69OiB4cOHY8OGDUhMTIS9vX1nD7XNVIN7kyZNavaXxilTpihN79ixo13GRQghhBBCCCFdFR8ijTehtc3vDvh8PmtsbKwUwMnOzjbStn5r3bx503jo0KHeigGkF154oej48eO3WhtA6tmzp9LnfuXKFaVScJmZmUbaspAKCgq4d+7cka9va2vbcPfu3aunT5++FRMTk37o0CGN/Y1kdA26nDlzxlxxetOmTelXrlxJ/fvvv+/ExMSkDx48uEKnHekgNTVVrRSh6jxXV9d6QL0U3I0bN9S2vXLlitI8FxeXDjvPGYbRKZrG4XAwY8aMktjY2DtFRUWXi4qKLp05c+b6/Pnz82TrVFZWcjdt2iRqv9ESQroqykQij6xevXphxYoVrdo2IyOjxXXc3d3l5ew06YinYlp7jM8++wyfffZZm4//3HPP4bnnnmvzfgBg27Zt2LZtW5vX0ea1115rVbBw/fr1WL9+vc7rjxkzpsOeiCKEEEIIIYSQrsgPc3Iu4ks3xZJ2HJhI/DCn2d47XdlPP/3UQ7VUm6urq1ID5pCQEO/z58/LgyGykni6HiMhIYE/bty43gUFBfLg1DvvvHN//fr1bfrcRo4cWa5Yqm3t2rUOL774Ypmtra1YLBbjww8/dNK2rSzzSobH47F8Pl8CSPstz5s3z6m5LCQzMzOlwNeDBw80Bt4aGxuVjqO43alTpwR//vmnjfpWrXPmzBmLP/74Q/j8889XAMCBAweEip8Pl8vFmDFjKgFg7Nix5SYmJqysjFxiYqIwOjraMiwsrAwArl+/brx161Zbxf2PGzeu1FBjbYmpqanS55uZmWmkes5VVFRwIiIi7F588cXSoKCgWgDo0aOH5LHHHqsxNzeXrFmzpqds3fz8fIMHRgkhXR8FkQghhBBCCCGEEEJIh5H1PUrBRqcaFBrzIar3w5yc7tIPCQBmzZrlyufzJRKJhMnNzTVW7dUzYMCAqt69exs042T06NHeioEqS0tL8e3bt02efvppT9V1R4wYUREeHl6gOl+Td999t3D9+vU9ZX2Ebt26xe/Tp4+fr69vdVZWlkl2draJtm2dnJwaHR0d62V9lfLy8ox79erl5+PjU5Oenm6alZVlwjCM1ocpnZycGi0tLcWyY2dmZpr4+Pj0c3Nzq2MYhp05c2bhpEmTygcNGlR16tQpef+nV199tde6desq6urqOMnJyeaydgWGwLIsJk2a1HvAgAHVAHDlyhWB4viff/75Ijc3twYAsLe3F8+ePfv+2rVr5YGWV1991evLL7+sNjMzE1+5csWspqZGHkQLDg6unDx5cjk6SO/evWsVP7eXXnrJKyAgoMrY2Fji4eFR98MPP+TU1dUxX331ldNXX33lZGdn1+Du7l5rYWEhrqqq4ly+fFkpA8zHx0etXxQh5OFHQSRCCCGEEEIIIYR0C9H7s3AuqRh19RK4Dz6CiMV+CJvg2tnDIq3QBy8Vd6egkSrFG/OqHBwc6nfs2HHX0MdUzXQqKyvj/vXXX9aa1m3K1NEpiOTg4CCOiopKf+WVV7xkmUWlpaW8+Ph4C0DabyktLY2vmAGlKDIyMvv111/vJQu03L9/3/j+/fvGADBt2rSC48ePW8qCTJq89NJLhT/99JO83n1aWho/LS2NDwDDhw+vAIBFixY9+O2330Q5OTnGgDQDSpYd5OTkVD9ixIiyX3/91VbT/vU1bty44nPnzgkvXbpkprqsT58+NT/++GO24rxvv/02t6CggBcdHW0LSDOwUlJSBKrbBgYGVh44cOC2IcaoqzfeeKNo27ZtdmKxmAGAkpIS3okTJywBwNfXtxqAUhbbgwcPjLRlg3l7e9fMnTu3sN0HTQjpcqgnEiGEEEIIIYQQQrq86P1ZmLUoCXX10oyDzJwazFqUhOj9WZ08MvKoMzIyYkUiUcOQIUMqPv3003upqanX/P396zp7XPqYPHly+fHjx2+MGjWqVCgUik1MTNjevXvXfPrpp/eOHz9+y8jISGtd9unTp5fu37//ZkhISAWfz5eYmppK+vXrV71q1arM//3vfy3+gH733Xc5ixYtyunVq1etiYmJxuPY29uLz549e2PKlCmFIpGogcfjsQ4ODvXTpk0ruHDhwnV7e/vGtrx/RV5eXnUXL168PnXq1AI7O7sGIyMj1tHRsX727Nn3z507lyoSicSK63O5XPzyyy9Zf/31V+oLL7xQ5OrqWmdqaioxMjJibW1tG0aOHFn2448/3k1ISEhzcHAQaztue3jsscdq9u7de+uxxx6rEAqFYk09qKysrMQ//vjj3VdeeaXAz8+v2t7evsHU1FTC5XLZHj16NIaEhFQsX748+/z586mt7btFCOneGOrN0ToMwziiKVqfk5MDR0fHTh4RIYQQQgghhBDy8HIffASZOeqVlNyc+MhIeLYTRtSxcnNz4eQkb03jxLJsrqH2ffny5Qx/f3/KMCCPpHXr1tnMnTvXXTY9f/78vNWrVxvs54sQQrqDy5cvi/z9/d01LaNMJEIIIYQQQgghhHR5WbmaW3Fom08IIYQQQtqOgkiEEEIIIYQQQgjp8lwd+XrNJ4QQQgghbUdBJEIIIYQQQgghhHR5EYv9IOBzleYJ+FxELPbrpBERQgghhDz8eJ09AEIIIYQQQgghhJCWhE1wBQC88cFF1NVL4ObER8RiP/l8Qghpjffff7/o/fffL+rscRBCSFdFQSRCCCGEEEIIIYR0C2ETXLEp+i4AIG7PiE4eDSGEEELIw4/K2RFCCCGEEEIIIYQQQgghhBA1FEQihBBCCCGEEEIIIYQQQgghaiiIRAghhBBCCCGEEEIIIYQQQtRQEIkQQgghhBBCCCGEEEIIIYSooSASIYQQQgghhBBCCCGEEEIIUUNBJEIIIYQQQgghhBBCCCGEEKKGgkiEEEIIIYQQQgghhBBCCCFEDQWRCCGEEEIIIYQQQgghhBBCiBoKIhFCCCGEEEIIIYQQQgghhBA1vM4eACGEEEIIIYQQQoiu4vaM6OwhEEIIIYQ8MigTiRBCCCGEEEIIIYQQQgghhKihIBIhhBBCCCGEEEIIIS1gGCZI0xePxwsSCoUBffv27ffaa6+5JCUlmXb2WGUOHjwoHDlypJdIJPLn8XjyMYeEhHi31zFjY2PNZMcRCoUBhYWF3PY6Vlvt2rXL8qmnnuplZ2c3wNjYONDa2to/JCTE+6uvvrJtaGhQW7+wsJArFAoDZO8vNjbWrKVjpKWlGTMME5SWlmbc3Hr5+flchmGC7OzsBrThLXVJx44dM+NwOEFz5sxx0me7iooKjq2t7QA/P7++EomkvYanN13PcX3PL11dv37dOCIiwm7ChAnuHh4evhwOR+ma1NK51tqxTZw40V3bdVDx6+WXX3Zt9ZvTQ3t9vm3Zf1s/o+vXrxu/+eabzr6+vn0tLCwCeDxeEJ/PH+js7Nz/mWee8fzll1+sNG3XmmuTPiiIRAghhBBCCCGEEEJIK4nFYlRWVnJTU1P527dvtwsJCem3ZcsW684e159//il8/vnn+8TFxVkWFRXxxGJxux9TIpFgwYIFLrLpN95444FIJGr/A+upoaEB48eP95g6darX0aNHrQoKCowaGhqY0tJS3vnz580XL17s6u/v3zcnJ0epFYhIJBLPmDHjgWz6gw8+cNEU3Kirq2OaO76m5fHx8WYA4OfnV93qN9YFSSQSzJs3z9Xc3Fy8fPny+5rWyc3N5TEME2Rvb68UQBMKhZL58+fnXbt2TbBhwwabjhlx83Q5x1t7fulq8+bNomXLlrn88ccfNhkZGaYsy+q8bXuPrSO093vorM9o586dloGBgX6bN2+2v379uqCiooIrFotRW1vLycnJMY6JibF+5ZVXeo0bN85D9bqj67WptSiIRAghhBBCCCGEEEKInoYPH142ZsyYkuDg4EojIyP5XVyxWMzMmzfPrby8vFPvu23evFmkeBPRycmpfvTo0aVjxowpGTZsWEV7HHPbtm3WV69eNQMAExMTNjw8PL89jtNWs2fPdj5w4EAP2bSVlVVjaGhomaura51s3o0bNwRjx471Ug2+LVmyJN/ExIQFgCtXrpht27ZNKWCYmppq7OLi0n/VqlUi1Zu4YrEY3377rcjV1bV/amqqUrZIYmKiAAACAwOrDPU+u4KoqKgeKSkpghkzZjywtbXVGFA8ceKEGQAMHDiwUnXZggULCkUiUcMXX3zhVFtb22xwriPoco635fzSl4mJCWtqaqpztMBQY3N0dKwfM2ZMiaavwMDAdg2Etvfn2xmfUW1tLTNnzhx3xQCzjY1N44gRI8r69euntO6hQ4d6/Pzzz2oPKrR0bWoLCiIRQgghhBBCCCGEEKKnqKiorJiYmPTExMS0kydP3uDxePJAUkVFBffYsWPmnTm+Bw8eGClOHz58+ObRo0fvxMTEpK9Zsya3PY65fv16e9nrJ598stTe3r7LZSFdvXrVZOvWrfJx2tvbN1y/fv3aiRMnbt+5cydl5MiRZbJlly9fNtu4caNSBoy9vb145MiRpbLpDRs22Cku9/Lyqg8PD8/95ptvHAMCAnzOnj0rAIAzZ86YBQQE9P3mm28c/5+9O4+Lqt7/B/46M8MywLAICIIiLgiKCIK4L5je7NqeZRa23NJKu2XSfi271bX1XjW/WTc1te5Fy5/pLZeo3HNfEASURVBQEGTfZFhmzu+PYaYZmGGdYUBfz8djZM7nnPM5nzkcBjzv+bzfr776at6gQYPq9PeLj493BIDIyMibaibS6tWrvQRBwIIFC4pMbXP06FEnABg9enSzAJq9vb34wAMPlBQWFtps2LChXTfFtam9YmJifNo/cuNau8Y7e321xaRJk6r+9a9/ZR85cuR8ZWVlfEhISJuuGXOObezYsZVxcXFZxh6vvPKKye+1MdoUcG1Jw2fp82utc3T69Gl5WVmZbmaTn59fbVZWVtKBAwcupqSkXHjhhReu6W//+++/K5oer7X3ps5gEImIiIiIiIiIiKgTxo0bVzNo0CClflthYaFBnZSYmBgf/ZoYq1atatfNTW1tHf26RiUlJZIFCxb49u/ff7itrW14UFDQMO0N2ZMnTxrcZAwLCxve0WO3xYkTJ+Rnz57V1eGIjo4uNradtpbL0KFDh/Xu3XuEvb19uK2tbbinp+eI8ePHD/nggw88a2pqLDbjZO3ate76M4Qef/zxwj59+jQAgEwmw2uvvWaQcu2bb77xaNpHdHR0ifZ5fHy804kTJ+TaZZlMhsWLFxdlZWUl3X333WWLFi3yB4CXXnqp/z333FOamZmZ9MorrxTZ2BjE+JCUlOQAABMnTjQ6Eyk9Pd12/vz5fQcOHBgsl8tHOjk5jRw7duyQrVu3Opt6rceOHZPffffdAzw8PELt7e3Dhw4dOmzNmjVuarUajo6OI2UyWURVVZXFzvXBgwcdkpOTHSIjIysDAwPrmq7/7LPP3AVBiPjiiy+8AeD999/vq3+NHzp0yAEA5s2bVwQAa9euNdtN8Y5oyzVujuurNffff39FTExM0fjx42uaXkct6YqxWZqlX4O1zpGtra1BTsKgoKAaZ2dn3UDGjh1r8L6gUCiMBuhbem/qjG6b25CIiIiIiIiIiKinaJq6rF+/fp2v7N6CiooK6dixY4MyMjI6fJPwww8/9Dx48GCzT7S3Zv369Tk+Pj4N+m3ff/+9bpaIRCLBXXfdZTRl3rJly3xramqafbC9qKjIpqioyObYsWOKb775xvPIkSNpTWvNmGO8x44dM9h/zJgxBjdnJ0+eXC0IArR1Zs6dO+eoVCoFe3t73U3eO++8s0Iikei+51u2bHEdM2ZMTdPjSqVSsemyVCptuhlyc3Nl+fn5tt7e3nW+vr4NTdevX7/e7cUXX/Svrq6WBAYG1kybNq382rVrNidPnlQ89NBDio8++ijn9ddfL9TfZ8WKFR6vvvqqn0qlEkJCQqr79etXl5aWJn/22WcHXrhw4dqNGzckAQEBNU5OTm0vqNNOW7dudQOAqKioCmPrFQqF+oEHHij+8ccf3VUqFe67775iieSPSyM8PLwGACIjI5Xu7u4NCQkJjnl5ebKm115Xacs1bo7ry1LMOba0tDT5Y4895ldWViZ1cHBQBwQEKO+5556K0aNHN/s56K6vwdL9t+cchYaGKn18fOry8vJsAeDw4cPOW7dudb7jjjsqc3JybFatWqWbHSWRSPDoo4+WNO0DaPt7U3sxiERERERERERERNQJR44ckWdlZdlrlz09PeujoqIsWtsmLS1NDgDOzs6q4ODgGw0NDUJtba0watSo6urqasmJEycU+umRJk+eXC6Xy9UAMHDgwDoAOH36tOMvv/zS7roZlZWVV5u2HT58WHfzdfDgwTUuLi4m67Q4OTmp+vfvX+vi4tIgl8vVlZWV0vPnzztUVVVJASA9PV3+yiuv+GzcuPGK/n7mGK/+9wloHuxzcHAQFQqFqqKiQgoA9fX1Qlpamm1oaKiuHoqbm5t60KBBNdoAXuNrvwZo6h598cUX7h9++KGPh4dH/cqVK7OfeuqpgStXrsxevny597p163r/7W9/y1uwYEGxNqB0+PBhRwAwlpbsu+++c3nmmWcGKBQK1bZt2zLvv/9+XUBm8+bNLo8++ujgv//9733nzp1bqg1A7dixQ/Hqq6/2VygUDd99913mjBkzqgBNoHPevHn9Pvvssz4AEBoaatHUeUeOHFEAwIQJE4z+LDz11FOl06dPr9y2bZu7l5dX/fbt2y+b6mvkyJFVe/bscd29e7di3rx5pRYacovaco2b4/qyFHOOLSUlxSElJcVBv23ZsmW4/fbby2JjYy83DQB3x9dg6f7bc47s7OzEb775Juvhhx8eXFJSIrtx44bkoYceCmjap6ura8O//vWvnAkTJhgNDLX03tQZTGdHRERERERERERdq/bfvVDhE4JySQQqfEJQ++9ere/UvTzzzDN+d9xxx8DRo0cHTp06dahKpRIAwN7eXv3vf//7slwut/jMggkTJlRkZWUlHT16NP3kyZNpx48fT3vzzTcL4+LisgICAgzS62lrOMXFxWWZmiXUGfo3S4cMGWLyk+979+5NLS0tTUhOTr5w5MiRjD179mSeOHEi/erVq+d8fX11Kc927txpkWuisrLSYCqQk5NTs5vd2mCbVlFRUbMP4gcGBupeY3Jysi7FWVpamu3777/vGxMTc+3s2bOp48ePrwaA8ePHVyckJFxYvHjxtffee89Xv/7LqVOnHAAgPDzcINhSUlIief755/3VarXw3XffGQSQAOCRRx4pDw8Pr1IqlZIdO3Y4A0B9fT2ef/75/iqVCuvXr7+kDSABmhkMK1asyNXO9omIiNAdLzk52e7RRx/1CwoKGiaTySICAgKCTZxCJCUl2U2aNCnAwcFhpJubW+gTTzzRr7Kystl95gsXLsgBzSwLU30dPXrUEQCGDx/eYtA1KChICQBnz551aGk7S2rLNW6u68sSumJsv/76q+uMGTMGq1TNY0jaVJtNH9u2bXMHgKCgoBBj6/V/Viz9Gqx5jqZPn1597NixC0OHDjUa3LW1tRUXLVqU/9BDD5UbW69l6r2pMzgTiagbEARN+lntVEgi6ln4M0zUc/Hnl6hn488wUQ9V++9eUC7uDyg1N53Fa7aaZQB2zxlN0dMdHTp0yKVp2/Dhw298//33mcOGDWtW/2X58uV5y5cvzzPX8aVSKb7++utsd3d33Z3I9gaufvjhh8sALnd2LBUVFZIbN27oggju7u4m04317du3/tVXX/U5cOCA8+XLl+2qqqqkDQ0NzeryFBcXywoLC6Wenp6612eu8eoTRbHZsdvye6VXr16613jjxg1JZWWlRKFQqIcNG1Z35cqVJDs7u2adSKVSvPrqq0Uvvvhisf76+Ph4RwAYPXq0wc3jr776yr2kpEQWFRVVrh8M0jdgwIDa+Ph4J+2N7DVr1vS6cuWK3ZQpU8qbBp0AwMXFRe3h4VFfUFBgo5+qKyEhQb5v3z7XsLCwKrVabfS8AEBRUZF0+vTpgb6+vnXffvttZn5+vs3bb7/dt7i42Gbnzp1Z2u0qKiokSqXmZ9zLy8vk9XDmzBkHABg5cmSLs6K05/v69evNigDNmjXLXxuIMGbFihV9VqxY0adpe2pqapKxWk3GtOca19fR66srtHdsfn5+dc8//3z+7bffXjF06NDaPn361GdkZNh9+umnXps3b9bVBoqPj3fasGGDW9MZYxMmTDB6DZ86dcrpypUrdjNmzCh1dHRsNrtLvzZQZ19De3XlOdq4caPrwoULB2jTfXp4eNQPHTq0pri4WHb+/HmHuro64d133+27ZcuWXnv27MkwldbR1HtTB08BAAaROkP3ppGfn9/SdkRtlpdntr8licgK+DNM1HPx55eoZ+PPMN0Kmtx76NmZZWrf89UFkHSUEtS+59uTgkjGJCcnO7zwwgv9du/enWUsiGBOPj4+tW29AW5pxcXFBp/ed3Z2NprK6syZM/bTp08P1E+z15LS0lKDIJI5KBQKVUlJie741dXVzX6etMEPLQ8Pj2Y3a5ve2C4uLpZqb9S29r1vuj45OdkBaJ72befOna4AMG/ePIN6R/q0N5y1N45//PFHNwB45JFHTP4sKZVKiUwmE8eOHaubsfDII4+UzZ07twzQBGXOnTtndAbDihUrPCsqKqQJCQkX+/Tp0wAAMplMXLBgwYDTp0/bjxo1SgkAJSUlUkAze6KlejQJCQkOABAREdFiEEl7TZWXlzcvKtUF2nqNm+v6soTOjm3FihXN/uAaOXKkctOmTdnXr1+X7d2711Xb/vPPP7s0DSLFxMQUxcTEFDXtY9asWf5Xrlyx++yzz6629p5m6fNrrXOUlJRk98wzzwysr68XAGDs2LGVv/32W4a2ZtmKFSs8YmJi+gPAhQsXHF555RWfTZs25Rh7DS29N3UUg0gd56l9EhERYc1x0E3E19fX2kMgok7gzzBRz8WfX6KejT/DdAvyBNCsJk2PIebbtqu9m0pNTU3q169f/a+//uo0f/78AUVFRTYAsG/fPte//vWvvmvXrrXo96h37971rW/Vsg8//NDz4MGDita3NLR+/foc/U/B68+GAgBtvZCmXn755b76ASR7e3t1aGhotaurawMANK3j1PQT/+YY74ABA5QlJSVO2nU5OTk2+oXuKysrJfrjt7GxEY3d2K6oqDC4kdz0HGgFBgbWiaJ4xtTYLl++bFNYWGjj6+tb5+XlZdBHWlqaAwBERkaaTA+orY0VGRl5AzAdkNLKzs62KS8vlw4dOvSG/sw1bX2m1vz6668u48aNq9QGkADgiSeeKF20aJH/Tz/95KINImnPR11dnaBUKgVTgSRtijht2j9TtN8T7bWiT1sHrGm7tn7WwIEDlQEBAc3OYXturLf1GjfX9WUJlhzb1KlTK/UDJAUFBc1mjJmDpc+vtc7Rt99+20sbQAKAZ555plAbQAKAxYsXF7311lv9tLPh9u3b5wrAaBCpre9N7cEgEhERERERERERdR3Buw7iteYBI8G7W8yqaQ8HBwfxvvvuq5RKpZfuueeeIdr2DRs29P7rX/9a2NZi7h2hrWvTGadPn3bU3mhvj8rKSoMAmbOzs1oul6u1s2L0P8mv78yZM7qbs7a2tmJycnLyoEGDdMGwAQMGBLc0S8kc4x0/fnyl/jiOHz/u+OCDD+rSvh06dMig5s6IESOqjQVA9F+jg4ODuqOf9D9y5IiD9jhN11VVVUkBTbDN2L4nT56UZ2Zm2vv6+tZFREQoAaC0tFQGAC4uLkZvHH/77bduABAaGtrizB9TMjMz7efMmWMwm0Qul4v9+vWrTUtLs9e2KRQK3TVRUFAg69+/f7OgZ35+vvTatWu2np6e9X5+fi3OFikuLpYBgKenZ7Pt3nzzzcI333yz2WwtQRAiAODee+8t7WwqybZe4+a6viyhM2Orr6+HjY3puNClS5cM3tNNzdTqLEufX2udo9zcXIN1giA0G7M2jTPwx8+5MeZ6b9LHIFLHJQMIb3xeCKDT3wwiIiIiIiIiIhMk+CMrSrI1B9JpdktzDWoiAQDs1bBbmmu9QXXO3XffXTllypTygwcPugCASqUS3nrrLZ8dO3Zc0m4TExPjo1+X5bPPPrv84osvFltjvJYQHBx84/Tp004AkJ6eLje2jX7tI4lEIjo4OOhulH766acely9ftje2nznNnz+/ePXq1X3Uas2tvP/+97+eMTExhT4+Pg319fX45JNPvPW3f+KJJ5ql3wL+mAEEaF57R8dz6tQpRwAIDw9vFkTy8PCoz83Ntb1w4YK9n5+fQT0ZlUqFRYsW9QOA5557rkAbVHRwcFArlUrJhQsX7Pr162cQcLl27Zps5cqVfQAgIiKixZk/plRUVEhdXV2bBQhcXFwamt7YHjZs2I0zZ844JSQk2BsLIp06dcoBAAIDA03OtNJKTU21bxx3h891Z7XlGu/s9TV69OjAU6dO6YIY7anb1JrOjO2XX35RvPvuuz4vvfRS/uzZs8v1gyXbt293/u9//9tbf9/x48cbrX9kzdcAtH5+rXWO+vbta/A9Xrt2refs2bPLte+RK1as8NCfbde3b1+TH1Aw13uTPgaROkgUxXoAZ609DiIiIiIiIiK6ZfTcFHb6tHWPat/zhZhvC8G7DnZLc3t6PaSlS5demzZtmot2effu3b3OnDlzTTtDpDv64YcfLgO4bI6+Jk2aVKm9wX7x4kV5RUWFpGltjhEjRlSfPHlSAWjqigwbNiw4LCysOjc31zYjI0MuCEKLRevNMd6QkJDav/zlLwVff/21F6BJKRUcHBwcFhZWnZWVZZ+Tk2On3TY0NLR64cKFzQJ9paWlkszMTN2N2kmTJlU03aatzp496wAAo0ePbnazd9q0aWXffvtt72XLlvWZNGnSRe0N5ZKSEsnjjz/uf/z4ccWYMWMq33jjjevafSIjIyt/+eUXt/fee89n/PjxF7UpsS5evGhz3333DdbOUhg7dqzFgzGTJk2qPHPmjNORI0ec7r333sqm6+vq6gQA0KboasnZs2edBEHAHXfc0ayfrtKWa9wc11drvvvuO5cPP/xQF5DWvxYB4L777htsa2urBjRpL3/77bdMc4zt9OnTTnPnzh387LPPqoOCgm44Ozurrly5Ynfx4kWD4K+Xl1f9Cy+8YDT4akx7fq4tfX6tdY7mzp1bsmLFij7aQPvRo0ed/f39Q4YOHXqjuLjYRpv2Uevhhx82+rrM+d6kj0EkIiIiIiIiIiLqWnbPlfT0oFFTt912W/WECRMqjhw54gwAarUaS5cu9dm1a1eWtcfWFR5++OFS7UwrlUqFXbt2KR555JFy/W0++OCD3JkzZwZqgwdlZWWyAwcOuADA1KlTy8vLy6Xx8fFOzXs3ry+//PLq9evXbXbs2NGr6Ti0goKCanbs2HHRWK2gnTt3OmtnKgDAww8/XNbRsSQnJzsKgoAJEyY0C+p88MEH1/bs2eP6+++/Ow8cODAkNDS0uq6uTjh16pSiurpaMn78+IqdO3dmymR/3OJ9++23r+3fv9/1yJEjzoMHDw4JCwurqqqqkp48eVIxatSoSjc3t4ba2lpJS3WWWuLs7KwqKytrdlLKy8tlgwcPNgiYPvjgg6UrV67sc+DAAWcA15ruM378+BuOjo7q+Ph4p5EjRwYNGDBAKQgCFi1adH3y5Mm683Hy5El5SUmJbOTIkdX6tbi6WluucaDz11drrl+/Ljt37pyjqfWpqam6IIKPj4/BDJeOjk0/vVp1dbVEP+Wbvr59+9b+73//u+ji4tIsa9fy5cs9jhw50u6f788///yqfg0uS59fa5yjESNG1H766afZr776an9tIKmwsNCmsLDQpen+M2bMKH3nnXcKjPVtzvcmfZ1PnkpERERERERERERYunSpQd2Vn3/+2e3UqVMWT9HWHYwZM6YmPDxcl54pNjbWvek206ZNq96zZ09qVFRUuZOTk8rOzk4cNGiQcsmSJVd//fXXDt3w7QgbGxv89NNPlzZt2nRx2rRpZR4eHvUymUx0cXFRjRo1qurDDz/MSUhIuNA0HZxWbGxsL+3z8PDwqtGjR3coIJORkWFbUlIi8/Pzq3V3d2+WIs7X17fh+PHjF6KjowsBYN++fS7nzp1zDAsLq/riiy8u/f777xlubm4GN+snTJhQs3PnzrTIyMiq8vJy6eHDh11qamokn3zySfZHH32UW1paKhs3blyFnZ1dh+rwDBo0SKlf+wgAampqhCtXrtgFBgYaBJEmTJhQExoaWn369GmntLS0ZnXQ+vTp0/D//t//y4iMjKzKysqy3759u/u2bdvcnZycDF7TunXr3AFg/vz515v20ZXaco0Dnb++LKmjY/vzn/9ctXv37rTnnnsuPyIiokq7n0wmEz08POonTJhQ8dFHH+VcuHAhxdTsyyNHjjht27bNvb2PiooKgxiGpc+vtc7RSy+9VHzmzJmUp59+umDYsGE3nJycVFKpFPb29uq+ffvWzpw5szQ2NvZiXFxclqmfX3O9NzUltDRFlIiIiIiIiIiIbm6JiYmXQ0ND25x6iMiUDRs2uD311FMDAcDe3l6dk5NzztPTs1lwpCfLz8+X9u/fP1Q7m2rDhg2ZTz75ZJmVh9UqtVqNO+64Y9Bvv/3m+v3332fMnj3bZJqrWbNm+Z87d84xIyMjpem6JUuWeK9YsaJPVlbWOW9vbxUArFmzxu3ZZ58dePr06WY3x7XrFi1adG3lypV5TftrjVKpFPr16xciCAJycnKS7O3trXoz+1a4xqln6ux7U2JiokdoaKi/sXWciURERERERERERESd9sQTT5SOGDGiGtDUPPrggw+8rD0mc/vggw+8tDdpQ0NDq7tbAOnQoUMOTdtyc3Nls2fP9v/tt99co6Kiyo0FkCorKyUbNmxw27Bhg9vVq1dtq6qqdMvp6em6WUSLFy8uVCgUqjvvvHPwDz/84Lx69eper7/+ut+dd95Zamx2xbx580pDQkKq169f37uwsLDdU82WL1/uUVRUZPP222/nWjuABNwa1zj1TJZ8b+JMJCIiIiIiIiKiWxhnIpE57dmzx/FPf/pTEAA4OTmpLl26lOTh4XFTzNQoKiqSDhgwIKSqqkoKAL/99lvq9OnTq609Lq3MzEybwYMHj/Dx8akbNGiQ0tnZWZWXl2d74cIFuVKplERGRlbFxcVl9OrVq1m9mrS0NNugoKAQY/1+9tlnl1988cVi7fK5c+fsnn/+eb/Tp0872dvbq+++++7S1atXX1UoFM36BYB9+/Y5Tp8+Pei5557L/+KLL3Lb+noqKyslAwcOHO7l5VV/7ty5CxJJ95gPcTNf49QzmeO9qaWZSAwiERERERERERHdwhhEIro5ZGZm2vztb3/zOXHihKK4uFhWU1MjcXFxUQUHB9+YM2dO8bPPPlvSVXWniKhnaSmIJOvisdw0BEGwATC8cbEQgNFIOxERERERERGRGUgAeDY+TxZFsd6agyGi7mfQoEH133//fba1x0FENxcGkTpuOIB4aw+CiIiIiIiIiG454QDOWnsQREREdPPrHokkiYiIiIiIiIiIiIiIqFvhTKSOK9Q+OXPmDLy9va05FiIiIiIiIiK6ieXn5yMiIkK7WNjStkRERETmwiBSx+lqIHl7e8PHx8eaYyEiIiIiIiKiWwfrMhMREVGXYDo7IiIiIiIiIiIiIiIiaoZBJCIiIiIiIiIiIiIiImqGQSQiIiIiIiIiIiIiIiJqhkEkIiIiIiIiIiIiIiIiaoZBJCIiIiIiIiIiIiIiImqGQSQiIiIiIiIiIiIiIiJqhkEkIiIiIiIiIiIiIiIiaoZBJCIiIiIiIiIiIiIiImqGQSQiIiIiIiIiIiIiIiJqhkEkIiIiIiIiIiIiIiIiaoZBJCIiIiKiHiiqYROiGjZZexhERETUDezYsUMxderUwR4eHqEymSxCEIQIQRAiRo8eHWipY+7Zs8dRexyFQhFWVFQktdSxOuu7775zuf322wf17t17hK2tbbibm1vo6NGjAz/++GPP+vr6ZtsXFRVJFQpFmPb17dmzx7G1Y6SlpdkKghCRlpZm29J2BQUFUkEQInr37j2iEy+pW9q7d6+jRCKJWLhwoW979qusrJR4enqOGD58+FC1Wm2p4bWbOa/x9l6D3a3/7jCOjva9atUq94ceesh/2LBhQ3v37j3Czs4u3NbWNtzd3T101KhRga+99lqfvLw8mTn37ch7SHcmiKJo7TH0SIIg+ADIBYDc3Fz4+PhYeUREREREdCvRBpAOyB618kiIiKgr5OXlwddXd1/WVxTFPHP1nZiYeDk0NLTIXP1R1/rxxx8VDzzwwBBjN98jIyOrTp48mWbuY6rVaoSFhQUlJSU5AsCiRYuurVy50mzXpLnU19fjwQcfHPDTTz/1MrXN0KFDb/z2228Zvr6+DfrtixYt8lm1alUfABgxYkT12bNnUyUSw8/j19bWCnZ2diKgCSIFBQWFpKamJgUGBtY1Xa+1bds251mzZgVMnTq1fN++fRfN9FKtTq1WIzQ0dGh2drZdZmZmkqenp6rpNnl5eTJfX9/Q3r171xcUFJzTX/fBBx94LlmyxG/VqlWXX3jhheKuG7lx5rrGO3MNdof+u8M4Otu3r69vSF5eXovBXRcXF9WPP/6YPmXKlBvm2rct7yHdSWJiokdoaKi/sXXdd9RERERERERERETUonXr1nnoB5B8fX3rpk+fXjZjxozSCRMmVFrimBs3bnTT3ly3s7MT33zzzQJLHKezFixY0Ff/xrOrq2tDVFRUuZ+fX6227cKFCw533nnnYJXKMObxt7/9rUAbADp37pzjxo0b3fTXp6am2vbr1y/kX//6l0fTAJ5KpcI///lPDz8/v5DU1FSDG9AnT550AIDw8PBqc73O7mDNmjW9kpOTHZ566qnrxgJIALB//35HABg5cmRV03UxMTFFHh4e9e+//76vUqkULD3e1pjrGu/MNdgd+u8O4zBH34IgwM/Pr3b06NGVU6ZMKe/bt2+t/vry8nLp/Pnz/c25b2vvIT0Jg0hEREREREREZB73RGkeRNRlrl+/bqO/vGvXrvTffvstMy4uLmvFihUWmR30+eefe2mf33bbbWVeXl6WuzvdQUlJSXYbNmzQjdPLy6v+/PnzKfv377+YmZmZPHXq1HLtusTERMcvvvjCXX9/Ly8v1dSpU8u0y6tXr+6tv37w4MF1b775Zt6nn37qExYWFnTs2DEHADh69KhjWFjY0E8//dTn1VdfzRs0aFCd/n7x8fGOABAZGWkwa6GnW716tZcgCFiwYIHJWY1Hjx51AoDRo0c3C6DZ29uLDzzwQElhYaHNhg0b2nWzXZsyLCYmxmyposxxjXf2GrRW/7NmzfJvS2pGS4/DXH1/8MEHVy5fvpyYnZ2dfOLEifQDBw5cvHLlSvLSpUuv6m+XkZEhz8/Pl5pr39beQ3oSBpGIiIiIiIiIiIhaoK13o19rqKSkRLJgwQLf/v37D7e1tQ0PCgoaBgAxMTE++tuuWrWqXTeG23os7Y3ekydPKvT3DwsLG97RY7fFiRMn5GfPntXV94iOjjaaemzZsmW977//fv+hQ4cO69279wh7e/twW1vbcE9PzxHjx48f8sEHH3jW1NRYbMbJ2rVr3fVnCD3++OOFffr0aQAAmUyG1157LV9/+2+++cajaR/R0dEl2ufx8fFOJ06ckGuXZTIZFi9eXJSVlZV09913ly1atMgfAF566aX+99xzT2lmZmbSK6+8UmRjYxDjQ1JSkgMATJw4sVkgJT093Xb+/Pl9Bw4cGCyXy0c6OTmNHDt27JCtW7c6t/Rajx07Jr/77rsHeHh4hNrb24cPHTp02Jo1a9zUajUcHR1HymSyiKqqKoud64MHDzokJyc7REZGVmpT+en77LPP3AVBiPjiiy+8AeD999/vq3+NHzp0yAEA5s2bVwQAa9euterN9rZe460xxzVozf67wzjM0fcTTzxR5ufn1yzN3YsvvmgQ8BQEAQ4ODgbpJzuzL9Dye0hPYrRgFBERERERERERERlXUVEhHTt2bFBGRobFbwia41gffvih58GDBxWtb2lo/fr1OT4+PgY3UL///nvdLBGJRIK77rrLaMq8ZcuW+dbU1DT7AHtRUZFNUVGRzbFjxxTffPON55EjR9I8PDwMZnmYY7zHjh0z2H/MmDEGQZvJkydXC4IAbb34c+fOOSqVSsHe3l53I/jOO++skEgk0N7E3rJli+uYMWNqmh5XKpWKTZelUmnTzZCbmyvLz8+39fb2rmtau2X9+vVuL774on91dbUkMDCwZtq0aeXXrl2zOXnypOKhhx5SfPTRRzmvv/56YdM+V6xY4fHqq6/6qVQqISQkpLpfv351aWlp8meffXbghQsXrt24cUMSEBBQ4+Tk1OwGt7ls3brVDQCioqIqjK1XKBTqBx54oPjHH390V6lUuO+++4r1a8OEh4fXAEBkZKTS3d29ISEhwTEvL0/W9NrrKm29xltjjmvQmv23lSXHYcm+m85aioiIqHJ2dm5eXK4T+7b1PaS7YxCJiIiIiIiIiIioHdLS0uQA4OzsrAoODr7R0NAg1NbWWmSmh6ljjRo1qrq6ulpy4sQJRVlZme4e3+TJk8vlcrkaAAYOHFgHAKdPn3b85Zdf2l2Po7Ky8mrTtsOHD+tu6g4ePLjGxcXF5E1XJycnVf/+/WtdXFwa5HK5urKyUnr+/HmHqqoqKQCkp6fLX3nlFZ+NGzde0d/PHOPNysqy11/Xr1+/ev1lBwcHUaFQqCoqKqQAUF9fL6SlpdmGhobq6p24ubmpBw0aVKMN4DW+9muApu7RF1984f7hhx/6eHh41K9cuTL7qaeeGrhy5crs5cuXe69bt6733/72t7wFCxYUawNKhw8fdgSAkJAQg1R23333ncszzzwzQKFQqLZt25Z5//3364Ixmzdvdnn00UcH//3vf+87d+7cUv3g044dOxSvvvpqf4VC0fDdd99lzpgxowoA1Go15s2b1++zzz7rAwChoaEWTZ135MgRBQBMmDDBaJ2np556qnT69OmV27Ztc/fy8qrfvn37ZVN9jRw5smrPnj2uu3fvVsybN6/UQkNuUXuu8ZaY4xq0Zv9tZclxmLPvZ599tm92drZtdXW1NCsryz4vL0+Xrm/w4MHKb7755pKpcXR035beQ3oSBpGIiIiIiIiIiKhrXf66F9I/9kVtgS3svOow5PVc+D9d0vqO3ceECRMqfvzxxyx3d3cVAFgyNZuxY8nlcvHNN98sHD16dOCpU6ectNuuWbMmx1hKMXNJSUlx0D4fMmSIyU/U7927NzUyMrJGJjO8/VheXi4JDg4Ozs3NtQWAnTt39gJwxVgfnVFZWWkwFcjJyalZTRu5XK7W3nwGgKKiIhkAg5vPgYGBuhvAycnJuhRnaWlptu+//77va6+9lrd48eKiixcv2gLA+PHjqx9//PELy5cv93jvvfd8b7vttsphw4bVAcCpU6ccACA8PFwXbCkpKZE8//zz/mq1WtAPBGk98sgj5f/85z+r4uPjnXbs2OH83HPPlQBAfX09nn/++f4qlQrr16+/pL+fRCLBihUrcr/99tveKpUKERERuuMlJyfbffDBB17x8fFOFy9elA8YMECZkZGRYuwcJiUl2S1cuNDvzJkzTnZ2dup77rmn5PPPP89VKBQGQZULFy7IASA0NFRprB9AUysKAIYPH2400KQVFBSk3LNnD86ePesAwCpBpLZe460x1zVoqf5nzZrlv23bNpMpL4OCgkKMtaempibpv8dY8nWas++DBw86a4Py+iIjI6v+85//XGrpfbMz+5p6D+lJGEQiIiIiIiIios7bGgucPg7U1QJh/sBby4AHo609KuqOLn/dCylv9Ie6VpPPqjbfFilv9AeAnhJIkkql+Prrr7O1QR0AkMvlIgAsX748b/ny5Xldcay2+uGHHy4DuNzZsVRUVEhu3Lihy0Pm7u5uMt1Y375961999VWfAwcOOF++fNmuqqpK2tDQ0CzQVlxcLCssLJR6enrqXp+5xqtPFMVmx9amwGpJr169dK/xxo0bksrKSolCoVAPGzas7sqVK0l2dnbNOpFKpXj11VeLXnzxxWL99fHx8Y4AMHr0aN3MoK+++sq9pKREFhUVVd40gKQ1YMCA2vj4eKfGm+MAgDVr1vS6cuWK3ZQpU8r1Zy5pubi4qD08POoLCgps9FOAJSQkyPft2+caFhZWpVarjZ4XACgqKpJOnz490NfXt+7bb7/NzM/Pt3n77bf7FhcX2+zcuTNLu11FRYVEqVRKAMDLy8vk9XDmzBkHABg5cmSLs6K05/v69es2Tde1FvRYsWJFnxUrVvRp2t406NGStl7jixcv9rlw4YK9sXVxcXFZxto7eg22VXv7nzBhgtHr7dSpU05XrlyxmzFjRqmjo2OzWVitpXyz5Ou0RN+nTp1yCgsLC/73v/996Yknnigz976m3kM6NegudlMFkQRB6AVgKYD7AXgDKAYQB+AdURRb/ESDIAj+AExOWQOwQBTFf5tpqERERERE7RbVsAkAcED2qJVHQkTUxNZY4KX5mgASAFzN1iwDDCRRc+kf++oCSFrqWgnSP/btKUEkHx+fWkvO9rHWsVpTXFxsMCvA2dm52awAADhz5oz99OnTA/XT7LWktLTUIIhkDgqFQlVSUqI7fnV1dbP6TNrgh5aHh0ezgEHTG+bFxcVS7Q1gYwEkfU3XJycnOwCGad927tzpCgDz5s1rVu9IS1tbSv9m9I8//ugGAI888ojJnxmlUimRyWTi2LFjdbNpHnnkkbK5c+eWAZqgzLlz54zOjFixYoVnRUWFNCEh4WKfPn0aAEAmk4kLFiwYcPr0aftRo0YpAaCkpEQKALa2tmJLdWgSEhIcACAiIqLFIJL2miovL29eVKoLtPUaP3LkiEJ/BqAx5roGLdV/TExMUUxMTFHTfWbNmuV/5coVu88+++xqW957LPk6zdl3amrqeUATIE1KSrL717/+5b1r1y43bR8LFy4cMHXq1CQ/P79m+3dm35beQ3qKmyaIJAiCC4AjAIL0mvsA+AuAOwRBGCeKYrZVBkdERERERDefozM1X8fvtu44iLqDfywBlE0y/ihrNO0MIlFTtQW27Wrvhnr37l3f+lbd51gffvih58GDBxWtb2lo/fr1OT4+PrqbovqzoQBAP4WUvpdffrmvfgDJ3t5eHRoaWu3q6toAAE3rODWdSWCO8Q4YMEBZUlKiu8mfk5NjM3r0aN0bVWVlpUR//DY2NqKxG+YVFRUGN6ibngOtwMDAOlEUz5ga2+XLl20KCwttfH1967y8vHR9pKWlOQBAZGSkybRp2jRakZGRugCMsYCUvuzsbJvy8nLp0KFDb+jPXNPWZ2rNr7/+6jJu3LhKbQAJAJ544onSRYsW+f/0008u2iCS9nzU1dUJSqVSMBVI0qaIGz9+fIvp7LTfE+21ok9bB6xpu7Z+1sCBA5UBAQHNzmN7bti39RpvC3Ndg9bqvzuMwxJ9e3h4qKZOnXpjypQpWcOHDx964cIFB0AzS+jHH390eeGFF4rNuW9b30O6s5smiATNDCRtAOkTAB8DiAawCppg0r8APNjGvqaKonjA3AMkIiIiIiIiuinl5rSvnW5tdl51qM1vHjCy8+oWs23aQiJpdh+7Wx/r9OnTjtob7e1RWVl5VX/Z2dlZLZfL1dqZMfozBPSdOXNGd9PX1tZWTE5OTh40aJAuGDZgwIDglmYpmWO848ePr9Qfx/Hjxx0ffPBBXdq3Q4cOOejvO2LEiGpjARD91+jg4KDu6AyCI0eOOGiPo99eVVUlBTSBNmP7nTx5Up6ZmWnv6+tbFxERoas5VFpaKgMAFxcXozekv/32WzcACA0NbXHmjymZmZn2c+bMMZilIpfLxX79+tWmpaXp0rgpFArdNVFQUCDr379/s6Bnfn6+9Nq1a7aenp71xmZq6CsuLpYBgKenZ7Pt3nzzzcI333yz2YwtQRAiAODee+8t7WwqybZe4ydPnkxrrS9zXYPW6r87jMOSfUskEvTu3bv+woULurb8/PxmaRQ7u6+53kOsqet+41mQIAgCgCcaF28AeFsUxRJRFP8PgDYH5b2CILT7lw8RERERERG14p4ozYNuXb5+7WunW9uQ13MhsTO8iSaxU2PI67lWGpFZxcTE+AiCEKF9rFq1ymQNl54oODhYF5RIT09vVmgeAPRrH0kkEtHBwUF3U/fTTz/1uHz5stFaMuY0f/78Yv0A3H//+1/PvLw8GQDU19fjk08+8dbf/oknnmiW1gv4YxYQYPja2+vUqVOOABAeHm4QRPLw8KgHAGP1dVQqFRYtWtQPAJ577rkC/dfj4OCgbtzPrul+165dk61cubIPAERERLQ488eUiooKqaura7MAlYuLS4M2gKU1bNiwGwCQkJBg9Pt66tQpBwAIDAw0OdtKKzU11b5x3B0+153Vlmu8LTp7DY4ePTpQ/70kLS3NIPhurmu8syz5Ojvb94oVKzxWr17dq7S0tFkcZPPmzS7Hjh1z1m8bPHhwrTn21Weu9xBrullmIg0AoP2FfFEURf1PrqQAGAjNax0JYF8b+tvSGHCqBnAGwApRFHea2tjX11f33JzF0IiIiIiIiIh6hLeWaWog6ae0s5dr2oma0tY9Sv/YF7UFtrDzqsOQ13N7Sj2knuiHH364DOCyOfqaNGlS5enTp50A4OLFi/KKigpJ05ofI0aMqD558qQC0NQLGTZsWHBYWFh1bm6ubUZGhlwQhBbvoZljvCEhIbV/+ctfCr7++msvACgoKLAJDg4ODgsLq87KyrLPycnRBV9CQ0OrFy5c2CwNVWlpqSQzM1N3A3jSpEkVTbdpq7NnzzoAwOjRow1uIk+bNq3s22+/7b1s2bI+kyZNuqgNuJWUlEgef/xx/+PHjyvGjBlT+cYbb1zX3y8yMrLyl19+cXvvvfd8xo8ff9HJyUkEgIsXL9rcd999g7WzH8aOHWvxm9aTJk2qPHPmjNORI0ec7r333sqm6+vq6gRAk/Krtb7Onj3rJAgC7rjjjmb9dJW2XONtYY5r0Br9t/fnz5Kvs7N9JyUlyTds2ND7pZdeEgcPHqzs06dPXX19vZCdnW135coVgwCsj49P3UMPPVRmjn21zPkeYk03SxDJS+95eZN1+su929ifZ+NXFwC3AbhNEIS/iqK4uoPjIyIiIiIiIrp5aesevfg0UFcL9O2vCSCxHhKZ4v90CYNGPdPDDz9cumLFij6AZqbMrl27FI888ojB/bgPPvggd+bMmYHa4EFZWZnswIEDLgAwderU8vLycml8fLxT897N68svv7x6/fp1mx07dvRqOg6toKCgmh07dlw0Vito586dzmr1H7GDhx9+uKyjY0lOTnYUBAETJkwwCOp88MEH1/bs2eP6+++/Ow8cODAkNDS0uq6uTjh16pSiurpaMn78+IqdO3dmymSGt3Hffvvta/v373c9cuSI8+DBg0PCwsKqqqqqpCdPnlSMGjWq0s3NraG2tlbSUq2lljg7O6vKysqanZTy8nLZ4MGDlfptDz74YOnKlSv7HDhwwBnAtab7jB8//oajo6M6Pj7eaeTIkUEDBgxQCoKARYsWXZ88ebLufJw8eVJeUlIiGzlyZLV+La6u1pZrvK06ew1asv/ly5d7HDlypN0/h59//vlV/VpZnR1Ha8zRd0NDg5CamipPTU01OrOsX79+tdu2bdMFY821rznfQ6zpZgkitURofRMAmllHbwPYCeAiAAcAMQBeb1z/kSAIX4uiqGy6Y25uLnx8fMwxViIiIiIiIqKe6cFo4Nu1muc/HbDqUIjIcsaMGVMTHh5epQ0CxcbGuje9wT5t2rTqPXv2pC5dutTn9OnTTvX19ZK+ffvWzpkzp+jvf/97wfjx4wO7Yqw2Njb46aefLm3evLnk66+/9khMTHQsKyuTOTo6qgMCAmpmzZpVsnjx4iI7Ozuj06JiY2N7aZ+Hh4dXjR49ukMBmYyMDNuSkhJZ//79a93d3Q1SxPn6+jYcP378wptvvumzZ88e13379rk4OzurwsLCqqKjo4ufffbZEmN1sSZMmFCzc+fOtCVLlvRNSkpyOHz4sEtgYOCNTz75JDs8PLxmypQpQ6dNm1Zm6rW1ZtCgQUr92kcAUFNTI1y5csXu0UcfNUgZNmHChJrQ0NDq06dPO6WlpdkGBgYa1Dfr06dPw//7f/8v45133vFNS0uTJyQkOALAkiVL8vW3W7dunTsAzJ8/32DWVVdryzXeVp29Bi3Z/5EjR5y2bdvW7nSbH3zwQV6fPn267HV2pu/nnnuuyM3NreHEiRNOOTk5dqWlpbKamhqpnZ2d2tPTs37o0KE37rzzzvJ58+aVNK2l1Jl9tcz1HmJtws2Qfk0QhIEAMhsXk0RRHKG37icAdzcuThNFsS3p7PT7TgcQ0LgYKYri6cZ2HwC5AINIRERERNQ1oho2AQAOyB41eE5WcnSm5uv43dYdR3egrYfEwAHxWrCYvLw8/XT6vqIodqp4vL7ExMTLoaGhFqmVQTenDRs2uD311FMDAcDe3l6dk5NzztPTs1n9nJ4sPz9f2r9//1DtbKoNGzZkPvnkk2VWHlar1Go17rjjjkG//fab6/fff58xe/Zsk+mzZs2a5X/u3DnHjIyMlKbrlixZ4r1ixYo+WVlZ57y9vVUAsGbNGrdnn3124OnTp1MiIiIMPmivXbdo0aJrK1eubPf7k1KpFPr16xciCAJycnKSTN2U7yq3wjVOltXT3kMSExM9QkND/Y2tazUPZQ9xCYA23+FgQRD0i4wFN35tAHDWVAeCILTlXPT8iBsREREREREREVEnPPHEE6UjRoyoBjQ1jz744AOv1vbpaT744AMv7c3f0NDQ6u528/fQoUMOTdtyc3Nls2fP9v/tt99co6Kiyo0FkCorKyUbNmxw27Bhg9vVq1dtq6qqdMvp6em6e6qLFy8uVCgUqjvvvHPwDz/84Lx69eper7/+ut+dd95Z2jSABADz5s0rDQkJqV6/fn3vwsLCdudlW758uUdRUZHN22+/nWvtABJwa1zjZFnd/T2kPW6KIJKomU71TeOiHMD7giC4CYLwAoCBje0/iqJYKghClCAIYuNjo143ywRBWCUIQqQgCPaCIHgKgvAR/piFVAYguQteDhERERERERERUbclkUjwr3/964p2ed26db2LioraX9ClmyoqKpJu2LBBV1v9n//855WWtu9qmZmZNlOmTBnq6+sbMnny5IC77rprYHh4eNDgwYNDfvjhB/fIyMiqH374IcvYvnl5ebKnnnpq4FNPPTXw5MmTivz8fFvtclxcnEK7nYeHh+q3335Lc3BwUM+dO3fQW2+91e/uu+8u3bx582Vj/UokEqxcufJKVVWV9J133vFuz+uprKyUrFixok9wcPCN559/vrj1PSzvZr/GybK6+3tIe91MNZHeAzATQBCA1xofWvkAXm5lfzmAFxofTYkAXhBFsdYM4yQiIiIiIiIiIurRpk+fXi2K4hlrj8MSPDw8VJWVlQnWHkdLZs+eXXTixAnF2bNnHWtqaiQuLi6qyMjIqjlz5hQ/++yzJVKp8XhHYGBgXVu/byNGjKj9/fffM9o6pttuu61arVa3+5pQKBTqwsLCc+3dz9Ju5mucLKsnvIe0x00TRBJFsVwQhAkA3gFwH4A+0KS4iwOwVBTF1qJ9G6AJFkUB6AfApXH/owD+JYriEcuMnIiIiIiIepyrW4DSU4C6FtgTDAS9A/Sdbe1REVkfayEREVncoEGD6r///vtsa4+DiG4NN00QCQBEUSwBsKjxYWqbAwAEI+2JABZbbHBERERERHRzuLoFSPyrJoAEADVXNMvArRlI2hoLnD4O1NUCYf7AW8uAB6OtPSoiIiIiIjKDm6ImEhERERERUZdJfRdQN6knrVZq2m81W2OBl+ZrAkgAcDVbs7w11rrjIiIiIiIis2AQiYiIiIiIqD1qrrav/Wb2jyWAssawTVmjaSeykKiGTYhq2GTtYRARERHdEhhEIiIiIiIiag953/a138xyc9rXTkREREREPQqDSERERERERO0R9A4gsTdsk9hr2m81vn7tayciIiIioh6FQSQiIiIiIqL26DsbCP0ckNhpluX9NMt9Z1t3XNbw1jLAXm7YZi/XtBMRERERUY8ns/YAiIiIiIiIepy+s4GcjZrn43dbdShW9WC05uuLTwN1tUDf/poAkradiIiIiIh6NAaRiIiIiIiIqOMejAY2PA/AHth12dqjISIiIiIiM2IQiYiIiIg65+hMzddbeTZGF4hVpeC4mIdaqOBf/yXkkMFLcLT2sLo3XptERERERESdwiASEREREVE3F6tKwXx1HGqhAgBko0JT3FS06rCIiIiIiIjoJscgEhERERGRNbVhtswS9SHUoAH7T/wHADB1zGPY2/jcf0wDlkkmI1oabPGhEhERERER0a1FYu0BEBERERFRy3JQYXJdNiowXx2HWFVKF46IiIiIiIiIbgUMIhERERFRpySIBUgQC4yvPDrzj5k21GF+cG5xfQ0asER9qItGQ90ef+6IiMxOEIQI/UdaWpqtOfu/fPmyzerVq3s98sgj/UNCQob6+PiE2Nvbh8vl8pH+/v7DH3roIf9Dhw45mPOYWjExMT76r23VqlXuljjOrUj/vPr6+oZYezxERB3BIBIRERERUTe3TDIZ8lYyUbc0W4nIoupiAVQAKAcq/BuXiYioPZYuXdrnr3/964DvvvvOIzk52eHatWu2tbW1glKplGRnZ9tt3brVferUqUNfe+21PtYea3uMHj060JLBt1vZqlWr3PXPbUxMjI+1x0RENyfWRCIiIiIi6ua09Y4k2Ag1RKPbtDZb6ZZzdQtQegpQ1wJ7goGgd4C+s609qptPXSxQMx/QXpdiduMyANtoqw2LiKgnc3d3bwgKCrpRW1srSU5OdlAqlRIAUKvV+PTTT31GjRpVPXv2bH56pAeYMWNGqfa5h4dHgzXHQkTUUQwiERERERH1ANHSYCQItqgT1c1mJckhwzLJZCuNrBu6ugVI/KsmgAQANVc0ywADSeamXAKgBtik31ijaWcQiYioXcaPH1/x+uuv5991112VEokmeVB6errtbbfdFpibm6ubwbNmzRpPBpF6hri4uCxrj4GIqLOYzo6IiIiIqAexFSRYK7kDEggAgP5wxlrJHbrZSt2GNevypL4LqJWGbWqlpt2cxu/WPG5lYk772omIblKdTS323nvvXTty5EjGPffcowsgAcCQIUPqYmJirulvm5WVZd/e8ZWXl0teeOEF3379+g23tbUN9/LyGvHoo4/65ebmtvoB882bN7vMnTvXLzw8PMjX1zfEyclppEwmC3dxcQkbMWJE0IsvvuiTnZ1to7/PrFmz/AVBiDh16pSTfntQUFCIsfR2aWlptosWLfKZOnXqYH9//+Fubm6hMpks3MHBYaS/v//we++9d8DOnTsV7X3dQPO6RA0NDfjHP/7ROygoaJhcLh/p4uISNn369EHHjh2Tm+ojLy9P9sorr/QZOXJkkKura5j29YeFhQW98sorfUydx5ZqIhm7ZrKzs20ee+wxPx8fnxBbW9vw3r17j5g7d65fYWGhVLvfzp07FYIgRCxatMhfv78VK1b0MXUNnjx5Uv7www/3HzBgQLBcLh8pk8nCe/XqFTp48ODgu+++e8C7777bu6ioSAoiIiM4E4mIiIiIOu7qFqC+EoCaKcO6kHZWEgBctllg5dF0QzVX29dOHSf4aVLYGWsnsoBYVQqOi3mohQr+9V9imWRy+4Lo2uD2rR4Apm7H39+/3tQ6Hx8fg3UKhULVnr6Li4ulkyZNGnLhwgUHbdv169dtNm/e7Llnzx7XsWPHVra0/5o1azwPHDjg0rS9oqJCmpSU5JiUlOS4cePG3rt27UqfNGnSjfaMTevo0aOOq1atalbvqaamRsjOzrbLzs62++mnn3otWrTo2sqVK/M6cgwAqK+vF6ZNmzb40KFDutejVCqxd+9e199//91l8+bNFx944AGDWV7btm1zfuqppwaWl5cbBFkqKiqkiYmJjomJiY7r1q3zWr9+fVbTfdvjzJkzDqGhocH6xyksLLSJjY31PHv2rGN8fHyqnZ2d8bzGLdi1a5fTAw88MKSurk7Qby8tLZWVlpbKMjMz7Xfu3Nlr6tSpVZMnT+7Q94+Ibm4MIhERERFRq6IaNLmqDsge/aNRmzLMsbEWD1OGUXch76u5Ho21k3nZL2usgVSj1yjXtBOZWawqBfPVcaiF5v55NiowXx0HAN1vNiaRGe3evdsggDNhwoQWgz5NPffcc/30A0hSqRQhISHVAJCUlOSwY8eOXq31IZPJxIEDBypdXV0bFAqFSqlUSjIyMuTXr1+3AYDKykrpvHnz/NPS0s4DwKhRo6qrq6slJ06cUJSVlenuP06ePLlcLpertcsKhUKtfxwfH586Ly+veldX1wZRFFFQUGCTlpbmoFZrNvvss8/6PPjgg2UTJ07sULCjsLDQprCw0MXX17fO399fmZKS4qAdX11dnfD0008PmDBhQrKXl5cKAOLj4+2jo6MHaetSAYCXl1d9QEBATWZmpv21a9dsAaC8vFwaHR096MiRIxfCw8OVxo/eskOHDrkIgoDg4OAbtra24tmzZx21686fP+/w9ddfuy1cuLDE29u7fsaMGaVXr161S0lJ0X1fBw4cqAwICND9Qh42bFgNAHzwwQd99ANIw4YNu+Ht7V1XVlYmy8/Pt83Ly9OlSiQiMobp7IiIiIioY7oqZRhRewW9A0iaZPqR2Gva9Vkz5d7NwjYakK8FYKdZFvprllkPiSxgifoQamBYl74GDViiPmSlEVGnbPh3LwT7hMBTEoFgnxBs+HergYxb0bZt25w3bdrkqV1WKBSq11577Xpb98/OzrbZvn277twKgoDvv/8+4+zZs6lnz55N3bp1a4YgCC11geXLl18tKSlJSEtLO3/ixIn0PXv2ZB4+fDjj2rVr52bOnFmq3S49PV0eHx9vDwBvvvlmYVxcXFZAQIDBH4tr1qzJiYuLy9I+fHx8GgDg9ttvr7x48eK53NzcpPj4+NR9+/Zd3L9//8Xz589f2LRp00X9PmJjY93a+vqNue+++4ovX76cdPjw4YzU1NTkIUOG6AIvZWVlstWrV3tol5cuXeqjH0D685//XJqdnZ30+++/Z1y6dCn5rrvuKtGuUyqVkqVLl7YrjWFTq1evvpScnHwhPj4+NSYmxmDG1b59+5wBYNSoUcq4uLisZ555xuA6uPfee0v1z+28efNKASA3N9dOu83s2bOLUlJSLuzduzfzzJkzabm5uUmXLl06t2LFisu+vr4mZ8MR0a2NQSQiIiIi6pg2pAxLSClDQkpZ14yHSKvvbCD0c0DSeM9E3k+zzBlylmEbDUjHAtIpgPPlmyuAxEBjt5ID41miTLVTN7bh373w1uL+KLhmC1EECq7Z4q3F/XtyIOnFF18sFkXxjPaxfPnyDqdc09q0aZNLdHT0IJVKM/vO1tZW/M9//pPZUuq7puLi4hQqlUoXJRozZkzlrFmzdD809913X+W4ceNa/CEKCgqq/fLLL90nTZoU4O3tPcLe3j5cEIQIqVQasXv3boOATnJycrvrNQGAr69vQ0ZGht2sWbP8Bw0aFOzo6DhSKpVGCIIQMWfOnMH626anp3foGFrLly/Plck0k6O8vLxUixcvztdfv3//fmcAUKlUaJrGb8WKFVe1KeXs7OzElStXGvxBfODAARft96u9QkNDqxcsWKALSt1///3l+uvz8/Ntmu/VOh8fn1rt8/3797u8/fbbXt9//71LcnKyXUNDA/z9/etfeuml4kGDBjGIRERGMZ0dEREREXVMY8qwqlr75u1E1tZ3NpCzUfOctU+IDPXQukB+cEa2kYCRH5ytMBrqlH++54tapeEHm2uVEvzzPV/85bkSE3vdUpYvX+7x2muv9dcGJOzt7dX/+c9/Mu+99952pbLLyckxSFUWGBhY03SboUOH1hw9etToD1JlZaVk3Lhxgfpp01rStG5QW7311ltey5Yta9MfkVVVVR06BgA4OzurBgwYYBAsGTlypME50aZ3KygokFVXV+uuU0dHR3VgYGCd/raDBg2qVygUqsrKSikAVFdXSwoKCmTaGVbtERoaWq2/7ObmZhCNqqur69BkgDfffDN/1qxZivr6eqGwsNDmH//4h+4829vbq8PDw6uefvrpoqeeeqq0pX6I6NbFmUhERERE1DGtpQy7ugVoqATqy4E9wZplMnR1C1B6Cig+zHNERNSKZZLJkDf5LKwcMiyTTLbSiKjDrucbr8Fiqv0W89prr/V5+eWXdQEkV1fXhp07d6Y/+OCDXT7t7pNPPvHUDyBJJBKEhIRU/+lPfyqbMWNG6cCBAw3S1Ymi2O5jZGdn23z00Ue++m0+Pj51UVFR5TNmzCidPHmywYwcURRbzr9nJh15LZ3h7u5uEDSSyWRmGcDdd99defz48fOPP/749YEDByql0j9icEqlUnL06FHnp59+euDSpUu9zHE8Irr5MIhERERERB2jTRmmpZ8y7OoWIPGvgNhYK7nmimaZQZI/aM+RujHDCM8RUXNMJ0d6oqXBWCu5A3bQ3ADtD2esldyBaGmwlUdG7dbbu65d7bcIlUqFuXPn+n366ae6ujq+vr51Bw8eTJ02bVp1S/ua0q9fP4Nzmp6eLm+6TWpqarM2raNHjzrpL69duzbr3Llzqb/++mtmXFxc1pgxY1qcGSUIQquBkIMHDzrqp9yLiooqv3LlStL+/fsvxsXFZS1duvRaa320VUVFhTQ7O9sgLVxCQoLB6/fx8akDAG9v7wYHBwe1tr26ulqSnp5uEOjMzMy00c5CAjSzlby8vNo9C6kjWqtlpS88PFz5zTffXMnMzEyprq6Ov3DhQtKGDRsye/furZuVtW7dut4WGSgR9XgMIhERERFRh8X2CUaDIEGDIIH/lL8itk/jjbzUdwG10nBjtVLTTho8R2QJnN1mPjyX3VK0NBhjBR9MEfrhss0CBpB6qleW5sLOXm3QZmevxitLc600ok5btWqVuyAIEdpHTEyMT+t7/aGmpka48847B8bGxnpq24YNG3bj6NGjF0aMGFHb0r4tueOOOyr1Z54cP35csX37dl3qup9++klhKpUdADQ0NBhEKhwdHXXft0OHDjn8+OOP7i0d397e8PvcNIADAHV1dQbHkMvlaolEc8uyvLxc8vbbb7frXLYmJibGVzvLq6ioSLpy5Upv/fVRUVEVACCVShEVFVXeZN++tbW1AgDU19dj8eLFBin4pkyZUq5/vi1JLpcbnNu8vDyjNZNWrVrlvnXrVmelUikAmlpOQUFBdY899lhZv379dNdWUVFRh2ouEdHNjzWRiIiIiKhDYlUpmK+Og7aiRjYqMF8dBwCIrrlqfCdT7bciniPr0gYI1LWaAEHQO5pZdD2ZqdltQPd6bVVRmq9OB6w5ipb1lHNJ1FNp6x798z1fXM+3RW/vOryyNPdWrof0/PPP9/3ll1/c9Nt69erV8Mwzz/gZ2z4uLi6rLf36+/vX33PPPcXbt293BzQp2h566KHBI0aMuAEA586dc2gpbduoUaOqDx065KJdfvzxxwetWrWqsra2VpKQkOCkVqtN7gsAAQEBSv3958yZMzgsLKza1tZWPWDAgNovv/wyd+LEidWCIOjSx/38889ugYGBw7y9veuSkpIcy8rKzHr/ctu2be7+/v5O/fv3r01JSXHQ79/V1bXh+eefL9Iuv/vuu3n79u1zUSo1Nbx27drl5u/v7xgQEKDMzMy019ZPAjQBs3fffTfPnGNtSUhIiMGnkbZu3eoxZswYOzc3twYA+Pzzz68MHjy4/qeffnLdu3evq1wuVw8aNEjp6elZDwAZGRn2V69etdPu3zQ1IRGRFoNIRERERNQhS9SHUAPDbB01aMAS9SFEy/tqbro2JW9TveRbQ3vP0dUtQH0lALUm6GEnBST8wGiLxu823n6zBghamt1m6ddliYCQNQN91jyXRLeKvzxXcisHjZoqLy9vNn3l8OHDJmcItcdXX311JSUlxUGbyk6lUglnz551BABnZ2dVZGRk5d69e12N7fvaa69d//777z1yc3NtAc2sIe3MJV9f37opU6aUb9q0ydPYvgDw9NNPF2/cuLG3Nl1daWmpbP/+/S4AEBwcfANAblBQUN2TTz55fcOGDbp0aunp6fL09HS5RCLBG2+8kfvhhx/6mjhEu3h5edVHRERU7d69200/gAIAtra24ldffXXJ29tbV5to1KhRym+++SZz3rx5A7Vp6/Lz823z8w3rdykUCtW6deuyRo0a1WWBmDFjxtSEhIRUJyUlOQKadIgnT55UaNeXlpbmAdClq6upqZEkJyc7GOkKdnZ24ocffshPMhGRUUxnR0REREQdkgPjtZ1zUKG52SuxN1whsde0k0Z7zpE26AG9GlOqGkBd33xbat3NmkrwZprdZu2aYTfTuSSiW56np6fq+PHjqQsXLsz39fWtk8lkooeHR/2sWbOKT58+fX7EiBE1pvb18vJSHTt27MLDDz9c5OHhUS+TyURvb++6uXPnFp4+ffp8a/V/xo0bV/PDDz9kjBs3rlKhUKhM1fFZt27dlY8++ignICCgxsbGRlQoFKrx48dX7Ny5M+2JJ54wW7BRKpWKO3bsyPr4449zgoKCauzt7dUKhUJ12223le3bt+/C7Nmzm/2BO3v27IqUlJTkmJiYvBEjRlQrFAqVVCqFQqFQhYSEVL/00kvXkpOTk43ta2k///zzxTlz5hR5e3vXSaVSo1PKli5deu3ll1/OmzhxYkW/fv1qteN3dHRUBwQE1Dz22GOFJ06cSLn//vu7fPxE1DMILU1ZJdMEQfABkAsAubm58PExa3pWIiIiom4lqmETAOCA7FFdm3/9l8hGBfbvjwUATJ0aDUBT6PyyzQIc/t8XcMj9AhJBhIeiBpcVr2DifQu7fvDd2dUtQOLzmhvl8n6mZ1rsCQZqriBBofmAbljl9cbnEoRFpXftmNuira/LWna4ADD2/yABuLvcSHsP0XidNCPvB0xPseyxj87UfDU1+0tfW9LZWfO1dIfjW1p7vl/dkLHfSW3Wg197Xl4efH11kzF8RVE0W9qsxMTEy6GhoUWtb0nU8wiCEKF97uPjU5ebm5tkzfEQEXVHiYmJHqGhof7G1nEmEhERERF1yDLJZMghA1TQPADIIcMyyWTEbs/B7a/4oEIpR1mNA/q9+Sluf8UHsdtzrDrmbqfvbMAtEnCfqLkxbSrQYnL2Q8t1CKzC2jNI2sJUysCenm7xZpoBaO2ZQDfTuSQiIiIi6gQGkYiIiIioQ6KlwVgruUO33B/OWCu5A9HSYCz5KBk1SpXB9jVKFZZ8lNzVw7w5mAxudMM/53tCqribNUDQdzYQ+jkgaSzxIO+nWe5Os8DaytqBPu25dBQBR1XPPpdERERERJ3QDf/XSUREREQ9xk8KTVYwEcDE/pplADl5jan1h9ZqHo107fqOzvwjvRAZZyzoAQBQa9JudadZPtaeQdIWN1Owpam2zm6zlqMzgbNtSMHYHQJ9fWcDNgrAxqV7nksiIiIioi4gs/YAiIiIiKhnit2eg/mvxqNmw9PYX/k1Ns5+BzNfXQIA8PORIzu3ecDIz0fe1cO8OWhvXl98C5oUdnpFqbXp4vS3syZ5XxO1ZLpZqri+s4GcjZrnPbA2yk1Pey1359paRETUI4iieMbaYyAi6sk4E4mIiIiIOqSllHXL3hgOub3UYJ3cXoplbwzvyiHeXLSzIiCBZuqXnu6ULq47zCChm0N3n1VFRERERHQL4EwkIiKiW0nNS4AqwdqjoB5opXhd80RYo2vbuKxQE8sYWIswVT4wUMD+EUsBAYga64npe2phJ8kCABzb9C4G+DnCy8MOqGrSuX+S5mtVlMVfR7fUjtc/eEA6oG4AVPUYLM3VNKrqG9emdY9z6ApgrCdQnQ6IoiZlnIMnYPcFUPWFtUdn6Ga99qzxutpyzNpCoG86IFEDtQVAbTBg59n5fi1pYLF1j99RFY3nzTnE+HpLn1dpGCBfaZm+iYiIiKhLMYhERERERB1ibyuFslZltB0AvDzsUF6qaRsb3qsrh3bTcoKtZtaRMdr6Pt2BnSdQm695buomNt08aguBhgpN0LD0FODg3zw4VFsIVGdotgEAqDXLQOuBJGsRCwCnegAioDoOSAYAglfXHb+1QBARERERURdgEImIiOhWwk8FUwe91LAJAHBA9igAIOrBgygoqkX21Ruo2ZCN/ZVfAxfsMPPLJVj7aTjGOvkBAJKOhgIAJt5+wHTn52Zqvt6qdWna8foTNo8H1PUI65uNi47OAICwyuuadHGhnwNO3SjdV0/4vvaEMXZEV76uq1s0NbnUevXOJIVAaJP6RceDgZrGNIeOKmBQLXDOHrCvBv6UYrp/J8sMu1V1sUDNfOhSRyZKAFwFxr4F2EZ3zRg6831sbV9LXiNVUZz1TERERHQTYU0kIiIiIuoQLw87rP00HIIgQhCAKQFpuL78dURHHrf20G5uEhtNwEj7p7y8n2aZ9WLab/zumy+A1NVS320+O85Yja6aq8b3VxZrAjaWdHSm5tEeyiUAapo0qhrbu8DVLZpZXcWHgT3BmmUiIiIiIivgTCQiIiIi6rD+wk5IBM0n9QUBcMI1zawEAOg7G3d5PQsAKLPS+G5afWcD2R9rnkedse5Y6NZmKjjUtF3eF6i50nw7O1ETmOmq2T1tJea0r92cdLO7ajXLNVcM3lfN0n/pKU3/e4KBoHd6XBBaOyuWiIiIiCyPM5GIiIiIqEMKimrhV/5p8xXGZiEQ0c1J3rdt7UHvABLRsE0iAv61XROYaS/Br33t5tTW2V0dYSpAxZlORERERGQCg0hERERE1G4rZ7yJr+55C33dio1vYGp2AjXHlGrUkwW9o6nJpU9ir2nX13c2MMQJaJy5CIkIBCgBrwbLBmY6mhbOfhmAxjpPdQAqpEC5FDgBywdc2jq7qyMsGaACNKkJVccB1UGgwt/yqQqJiIiIyOJuqiCSIAi9BEFYKQhCtiAItYIg5AmCsF4QhH5t3F8qCMJiQRCSBEGoEQShVBCEnwVBGG/psRMRERF1ZytP/AsrT/zLoE0tisgpcTe+g6nZCWQ2VdUNqKpusPYw6FbXd7amJpfETrPcUo2u/v/EZXs1lBIRcFZrAkiQNwZsLKAzs25sowH5WuCsI5DkAIgCAAFQllh+5k5bZ3d1hCUDVHWxQM18AI3nW8zWLDOQRERERNSj3TRBJEEQXAAcAbAIgB8AWwB9APwFwAlBEPq3oZv/AFgOYDgAewCuAO4AcFAQhHZWYiUiIiK6OcVuz0FFpSZ48bcfZzVbf6POtvksBCLqOl09u63vbMAtEnCfCExPMV1fxzYaEOQABM2y0F8TqLFUPaTOzrqxjQbUQvN2S6fsbOvsro6wZIBKuQRATZPGmsb2djg6U/MgIiIiom6hXUEkQRD8BUF4RRCEnwRByBIEobLxkdXY9oogCP4WGmtrlgIIanz+CQB3AC82LvcB8C9jO2kJgnA3gEcaF/c17jMFQDUAGYB1giDYmnnMRERERN1erCoFFWIdysRaeJT/H/5yYD/UoiYl1eZT4yB51AeSVBuIIpBT4o546Xu6m8hhwa4IC3a14uiJqHuxBQQpIJ0COF+2XAAJaDa7Jmr0XESNntvOWTfqNvVtVtrZXdpgW0uzu9rLXAEqY4EeU7WtumPNK6J2mDp16mBBECK0j7///e9eLW3/0UcfeepvP378+CHmGss333zjunDhQt9x48YNUSgUYfrHmTVrlr+5jtNUTEyMj/6xVq1aZWIqOrWX/nn19fUNsfZ4iIiMaVMQSRCE2wRB2APgIoCPAdwJoD8Ax8ZH/8a2jwFcFAThV0EQplpmyEbHJwB4onHxBoC3RVEsEUXx/wBkNbbfKwiCWwvdPKn3/B1RFPNFUTwE4PvGtj4AZphx2ERERETdXqwqBfPVcVBDEzQqdriB+vcKABtRt029SgaVWoITOUPxu/NBTLxvobWGS0Td3H8GDEF+sOa/oe9nReH9rCjLHcwss25M/JfZ0ik7+84GZApA5tzy7C49v+Fx/IbHW++3rekH28tUbStL1rwi6gKPPfaYQQHILVu29Gpp+++++84gwBIdHV1krrE8+eSTg7788kvv48ePK6qqqqTm6teaRo8eHagfSElLS+MHuM1k1apV7vrnNiYmxsfaYyKinknW2gaCIPwKYJp2UW9VPYCSxjY3ADZ620wDME0QhD2iKHZF4GUANDOPAOCiKIp1eutSAAyE5rWOhGaWkTGRTfYx9jwSwI6mO/r6+uqei6LYdDURUbf1bd5LyFYmWHsYPdbt167AS9k0bQvRzSUEtTgKEdIGTVans/s/AQAIjfO/z379jGa58a/E4RiJxF//2P+zxq+JeKH1g/3KD7W2RpugOfFXdygaA3uJ3f28dffxkXm18v2+B0A5JEhEEu5pbEu8aMFrxO6P//J+lqj5fGAi0I7rsvG/uXZNmtX5lr+2tbeH23ic3o1fE6G3val9bRr/UecD5xdoHo1UsMMNeLZ8MLFxhtavoXqNzgCCjWwsARBqpL09fTdnr7LBKJfeLW5jVPk5QObU/v3olvXII4+ULV68WFVRUSEFgAsXLjjEx8fbh4eHK5tum5KSYpeYmOioXXZwcFA/9thjZZYYl7Ozs25M1HPNmDGjVPvcw8ODxS6JqFtqNYgEYHrj10IA2wH8AuCMKBrOSRcEwQ9ABDSzde4H4Km3r6XpTyUub7JOf7mlvzBN9dHW/YmIiIhuOiL4ARki6skEoFPvY9rPUYpG2izNGsfsDAGagJF+CkAJesbYiUyTy+XiXXfdVbJp0yZddHX9+vXu4eHhuU23Xb9+vcEspT//+c+lzs7OJvJitt/LL7+cFxkZeWPSpEnV8fHx8rvvvttsqfLIOuLi4rJa34qIyLraEkQ6Bk09of+JomjyF19jUCkHwHZBEBZCE0iKMcsoO6ezf7G2un9ubi58fDgjlIh6nsd9Vlp7CD3bQGsPgMjy/Ou/RDYqsH9/LABg6tRoPJKXjFd2nYUEIlwdbmDsJ0vx01+/wuiwXsD43Qb7RzVsAgAckD1q+iDauhpN9qXmEtaOBwCEzT+Kw42f0p94e6I1h0Sk0caf4/ezovCYcwL87cPw/nVN29sDD3TJ2KJGzwXQyvuRiX11uuJ96uoWIPGvgFpvkoPEvtW0c9pUdn/Ct61/Pzr7vtvS/lVRmq9OB8zftzk0/Z4StcFTTz1VrB9E2r59e69Vq1blSiSGKS9/+OEHg+l/Tz75pC4VXkxMjM+KFSv6aJc/++yzyy+++KJBqrzW/POf/7ymfR4fH9+eXVtVXl4ueeutt/r873//cysoKLB1c3NrmDZtWtmnn36a19q+mzdvdtm1a5fL+fPnHQoKCmzKy8tlSqVScHR0VPfv318ZFRVV8fLLLxf279+/XrvPrFmz/Ldt29ZsumRQUJBBXaDU1NSkwMDAurS0NNsvvvjC49y5cw6XLl2yLy8vl1ZWVkptbW3F3r1714eGhlbPnz+/6K677qps72sXBCFC+9zHx6cuOzs76aOPPur93//+1yM7O9vO1tZWjIyMrHz//ffzxo0bZzQVRV5enmz58uWee/fudbl06ZJ9VVWVxNHRUT1gwADl9OnTyxcvXlzo6+vbbKZR02Pn5uYmaZdXrVrlvmjRIn/t8uLFi68tWrSo8K233uqzd+9el6KiIhtXV9eG22+/vWzFihW5np6eKgDYuXOnwliAccWKFX30r8HFixdfW758eavfXyKiVoNIoihOaG+njcGmHxofXaFA77lrk3XOes+vt9JHP70+Stq5PxEREdFNZ5lkMuar43TLj+QlY23ybmTAGwDg716MQK98vPbzKziw8EGDfWNVKTgu5qEWKvjXf4llksmIljZJdXR1C1B6ClDXAnuCNcXdzVGb4xbglO3Y+kZEXeUmDwJXprwNAFCM74KDpb5rGEACNMup77bt/ZHvq0RmN23atOr+/fvXZmdn2wFAXl6e7S+//OL05z//uUq7zb59+xy16wFNQGDmzJntDmhYQ3FxsXTSpElDLly44KBtu379us3mzZs99+zZ4zp27NgWX8eaNWs8Dxw44NK0vaKiQpqUlOSYlJTkuHHjxt67du1KnzRp0o2OjPHo0aOOq1at6tO0vaamRsjOzrbLzs62++mnn3otWrTo2sqVKzscGKmvrxemTZs2+NChQ7rXo1QqsXfvXtfff//dZfPmzRcfeOCBCv19tm3b5vzUU08NLC8vN0gvWFFRIU1MTHRMTEx0XLdundf69euzmu7bHmfOnHEIDQ0N1j9OYWGhTWxsrOfZs2cd4+PjU+3s7JhGgIjMri01kfZBM4/+RVEUUwRBWNq4ar0oilctOrq2uwSgGJq6SIMFQbDVq4ukvVPRAOBsC32cwh9BpGEADjfZX7sNERER0S3jj6DPNwCAT9IPwlFdb7CNADVw47JBW6wqBfPVcaiFCgCQjQpdMErXp+7T9rWa5ZormmWANzxNeOmXDwEAB+ZbeSBEPYk2wNU4M7LbqzHx32xT7fpqC/m+SmQhc+bMKfr44491RbG//fZbd/0g0jfffGOQyu6hhx4qbjpTqbt67rnn+ukHkKRSKUJCQqoBICkpyWHHjh29TO+tIZPJxIEDBypdXV0bFAqFSqlUSjIyMuTXr1+3AYDKykrpvHnz/NPS0s4DwKhRo6qrq6slJ06cUJSVlenuT06ePLlcLpfrMiEpFAqDrEg+Pj51Xl5e9a6urg2iKKKgoMAmLS3NQa3WbPbZZ5/1efDBB8smTpzYoWBVYWGhTWFhoYuvr2+dv7+/MiUlxUE7vrq6OuHpp58eMGHChGQvLy8VAMTHx9tHR0cPUiqVum+2l5dXfUBAQE1mZqb9tWvXbAGgvLxcGh0dPejIkSMXjNXTaotDhw65CIKA4ODgG7a2tuLZs2d1nyg6f/68w9dff+22cOHCEm9v7/oZM2aUXr161S4lJUX3fR04cKAyICBAN5Nq2LBhLPBLRG3Slt9mUY0PbQT+7wDeAeBnkRF1gCiKIrR3NgA5gPcFQXATBOEF/JFs6EdRFEsFQYgSBEFsfGzU60b/+buCIHgJgjAFwMONbdegqQdFREREdEuJlgZDBgEyCOirbFp+spH2hmWjJepDqIFhxo4aNGCJ+tAfDS192p6IqDtxCdE8uoK8b/va9d24zPdV6jGKvkGv5FCEJPggIjkUIUXfoNVAhTXNmzfPICi0e/dut5qaGgEA6uvr0TTQMm/evHalqrOW7Oxsm+3bt+vGLggCvv/++4yzZ8+mnj17NnXr1q0ZgtBypYfly5dfLSkpSUhLSzt/4sSJ9D179mQePnw449q1a+dmzpxZqt0uPT1dHh8fbw8Ab775ZmFcXFxWQECAwZvWmjVrcuLi4rK0Dx8fnwYAuP322ysvXrx4Ljc3Nyk+Pj513759F/fv33/x/PnzFzZt2nRRv4/Y2Fi3zpyT++67r/jy5ctJhw8fzkhNTU0eMmSILthSVlYmW716tYd2eenSpT76AaQ///nPpdnZ2Um///57xqVLl5LvuusubaYjKJVKydKlSztVD2P16tWXkpOTL8THx6fGxMQYzLjat2+fMwCMGjVKGRcXl/XMM88YZFS69957S/XP7bx580pBRNQGbQkiqRq/jmjS3t2mR74HILXx+WvQpKNb1bicD+DllnYWRXEHgM2Ni7c17nMAgCM0s5jm681uIiIiIro1mbqJKbEzWMyB8UwdBu2d+bQ9EdHNKugdTQ0kfRJ7TXtrVLXG2835vqpNl1d8WJMu7+oWw/XnHDQPohYUfYNeue+gf8N12EIEGq7DNvcd9O/OgaTBgwfXjxkzRpfWraKiQrplyxYXAPjhhx9cSktLdbNpwsPDq4YPH27wA7l8+fI8URTPaB/trYdkKXFxcQqVSqWLEo0ZM6Zy1qxZuj/Y7rvvvspx48a1mIItKCio9ssvv3SfNGlSgLe39wh7e/twQRAipFJpxO7duw0COsnJyfam+mmJr69vQ0ZGht2sWbP8Bw0aFOzo6DhSKpVGCIIQMWfOnMH626anp3foGFrLly/Plck0304vLy/V4sWL8/XX79+/3xkAVCoVmqbxW7FixVVtSjk7Oztx5cqVBm/ABw4ccFGpVOiI0NDQ6gULFuiCUvfff7/Bp7vy8/NtOtQxEVEr2hJEutL4dbUgCCr8ETw6LAiCysSjWaE4SxNFsRzABGgCRzkA6qEJBG0EMFoUxew2dPM4gBgAyQBqAZQDiAMwRRTFXRYYNhEREVHPYuzmpiABHPwNmvwMykqaaO/Mp+2JqMf6T0UY4HTA2sPovvrOBkI//yM4L++nWW5LOjqpnfF2c72vNqYhTXB0QYKi9x/p8poGkohakb8cvmKt4T0psRaS/OXwNbVPdxAdHV2kvxwbG+ve+NUg+PXoo492iwBRW+Tk5NjqLwcGBjZLcTZ06FCTac8qKyslkZGRQa+//rrf4cOHnQsKCmxqa2tNTl1qWjeord566y2vP//5z4Hbtm1zz8rKsr9x44ZEm8Kuqaqqqg4dAwCcnZ1VAwYMMMjdPHLkSIPXn5eXZwsABQUFsurqat117OjoqA4MDDT4APqgQYPqFQqFLmpUXV0tKSgoaLW8iDGhoaHV+stubm4G0ai6urqekT+RiHqctrxpbQewGJrgUcvzV61MFMUSAIsaH6a2OQATr0MUxQYAKxofRERERNSU9iZmzvuAqAbk/XDg20FA3wcNNlsmmYz56jiDlHZyyLBMMvmPjYLeaazdoZfFpK2ftr8FxW7PwfH4EtTWqeE/Zje2PKGGrQ3vFRDdlPrOBnI2ap5razq1hYM/ICm23PuqLg2p3gcC1EpE2R0DGhpwQPZo832OztR8bc/roJteQyFs29PeXTz22GNlr732mvrGjRsSQDOrJD093XbPnj2u2m3s7OzEJ5988pZJE/bJJ5946tfdkUgkCA4Orvb29q6XSCRiRkaGPCsrS/cJJE1FivbJzs62+eijjwwCjD4+PnVDhgypsbOzU9fU1EgOHTqkmxEkimKX3L/syGvpDHd3d4OgkUwm625ZoojoJtWW/3UuBbAaQC40gSTtg4iIiIhuRX1nIyy0H8LC+gPTU4x+Oj5aGoy1kjtgB80HQfvDGWsldyBaGmzQT4c/bX+Lid2eg/mvxqO2TvOJ2+zcGtyoUaGu3vgncInIUKwqBcfFPBwUr8C//kvEqlJa30k/bVvpKaC20PIDbc3RmX8EZYyx87Ts+6qptHhqE2n0iEyQecJouQBT7d2Fs7Oz+s9//rMuQFRfXy888sgjA/Rr4vzpT38qbXqzvzvr16+fwTlPT0+XN90mNTW1WZvW0aNHnfSX165dm3Xu3LnUX3/9NTMuLi5LPwWgMYIgtHqP8eDBg476KfeioqLKr1y5krR///6LcXFxWUuXLr3WWh9tVVFRIc3OzjZIC5eQkGDw+n18fOoAwNvbu8HBwUH3x1h1dbUkPT3dIBCamZlpU1lZqZsZ5ejoqPby8uqSDE6t1bIiImqrVoNIoihWi6L4giiKfqIoSvHHLJ6JoihKTDw6PG2UiIiIiG4O0dJgjBV8MEXoh8s2CwwDSFp9ZwNukYD7RJMBKQKWfJSMGmXz+1FKJYNIRK2JVaVgvjoOtY3lfrNRgfnquJYDSY1p23TBEXUtUJXRM9K2WfJ9tY118Yha4x2DXMEOBr/EBDuovWOQa60xtdWTTz5pkKouPj7eIIjyxBNPGE1lFxMT4yMIQoT2sWrVKndLjrOt7rjjjkqp9I/beMePH1ds375dN93wp59+Uhw9etR4nmIADQ0NBpEKR0dH3ff10KFDDj/++GOLr9Pe3t7gOmgawAGAuro6g2PI5XK1RKK5pVleXi55++23fVo6RnvFxMT4ausWFRUVSVeuXOmtvz4qKqoCAKRSKaKiosqb7NtXm86vvr4eixcvNnjjnDJlSrn++bYkuVxucG7z8vJYM4mIOqQjOTjfhWYmUo6Zx0JEREREREbk5BkvRaDu4jQqRJ1xuDQWGTeOo0GsxYup/rAV5HCx8bL4cZeoDxmk1gSAGjRgifqQ8eA2oJe2TZ9a095Vwe7umP5Nm4ZUn8S+WV08otZ4PIESQFMbqaEQtjJP1HnHIFfb3p3NnDmz0sfHp05bF0efp6dn/X333VdhqWP/6U9/GnT9+nUboHndn3379rmEhoYGaZfffPPNa3PmzClv2kdT/v7+9ffcc0/x9u3b3QFNiraHHnpo8IgRI24AwLlz5xxaSts2atSoav1Uco8//vigVatWVdbW1koSEhKcTNUt0goICFDq7z9nzpzBYWFh1ba2tuoBAwbUfvnll7kTJ06sFgRBlz7u559/dgsMDBzm7e1dl5SU5FhWVtahGkOmbNu2zd3f39+pf//+tSkpKQ76/bu6ujY8//zzutpY7777bt6+fftctLPRdu3a5ebv7+8YEBCgzMzMtNe/Tuzt7dXvvvtunjnH2pKQkBCDX2Rbt271GDNmjJ2bm1sDAHz++edXBg8eXG98byKiP7TrTVYQBAcA70ATRCoDsMoCYyIiIiIiIj1+PnJk5xoGkqaueAN2thIoX7bSoIja4XBpLNblzkeDqJnZU1SfDaFN2dU7LwfG7+eaagdgOm2bqfZbRWMAbfC5BZpleT9NYMmuSzIz0U3G4wmU9ISgUVMSiQQPPfRQ8Weffdan6boHHnigRCYzazzDwPnz5x2MBa8AoKysTKYf7Lh+/XqbB/LVV19dSUlJcdCmslOpVMLZs2cdAcDZ2VkVGRlZuXfvXldj+7722mvXv//+e4/c3FxbQDNrSDtzydfXt27KlCnlmzZt8jR17Keffrp448aNvbXp6kpLS2X79+93AYDg4OAbAHKDgoLqnnzyyesbNmzord0vPT1dnp6eLpdIJHjjjTdyP/zwQ18Th2gXLy+v+oiIiKrdu3e7Xb161WCapa2trfjVV19d8vb21k0PHzVqlPKbb77JnDdv3kBt2rr8/Hzb/Px8g++TQqFQrVu3LmvUqFFNP6FgMWPGjKkJCQmpTkpKcgQAlUqFkydPKrTrS0tL8wAwiERErWrXX+2iKN4AdL/gz5t/OERERERE1NSyN4ZDbm+Y+kQiAAP8HK00IqL22VKwBHWiYSBUhBrX6y9Z/Nh+MJ6FyVQ7ANNp20y130r6zoZcpYJcpWIaUrplzZs3z2jKunnz5hUZa+/uPD09VcePH09duHBhvq+vb51MJhM9PDzqZ82aVXz69OnzI0aMMD4lGoCXl5fq2LFjFx5++OEiDw+PeplMJnp7e9fNnTu38PTp0+dbq/8zbty4mh9++CFj3LhxlQqFQmWqjs+6deuufPTRRzkBAQE1NjY2okKhUI0fP75i586daU888YTZgpFSqVTcsWNH1scff5wTFBRUY29vr1YoFKrbbrutbN++fRdmz57d7BMIs2fPrkhJSUmOiYnJGzFiRLVCoVBJpVIoFApVSEhI9UsvvXQtOTk52di+lvbzzz9fnDNnTpG3t3edVCrlFHYi6hChpSmpRncQhPUAngTwjiiK71tiUD2BIAg+gCZXb25uLnx8zJp+lYiIiKhbOfxrKABg4u2JmgZtYfdW0i1FNWwCAByQPWp6ozb2dauL3Z6Dp18+g9o6Nfr7yiGXy+DlYYcDW6dYe2hErXo0SQJNQovmNoVY9p6WtiaSfko7OWRYK7nDdDo7XU0kzQfGK69uASCB4u4y6wZNWni//A2PAwD+hG9bf19ty/uuiW1iVSl4ePd4AMDgOz7CMslkrBU1vxsOyB413O/qFiDxeU1NKe2spdbOn6V/J/Tg3zl5eXnw9dVNtvAVRdFsabESExMvh4aG9sgACFFnCYIQoX3u4+NTl5ubm2TN8RARWUNiYqJHaGiov7F1Hckf8H8AsgC8JQjCe4IgjBYEob8gCH76j84MmIiIiIiIDEXf74ex4b0wZawHLp+YCS8PFrKn7iOqYZMuaGyMh43p/yK+mOqPw6Wxzdrfz4rC+1lRnR5btDQYayV3wA6a2Xz94dxyAAnQBDpCPwckjT9nEjvAKaBLA0itnVNr0AbktLJRgfnqOBSI1c031gXiNCkMUXNFs3x1SxeNloiIiIjMoSNBpDMABgCwAbAEwDFogkqX9B5Z5hogEREREXVD43f3yE9xE5F1zPZaBltBbnRdUX021uXONxpIMpdoaTDGCj6YIvTDZZsFLQeQtPrOBtwiobYfjwZlOBoKe6F8bQVqL9RZbJwturoFKD0FFB8G9gR3LhjTwffwJepDuC8vAQAgALh04P9wX14CLqG8+cap7+pmcumolZp2IiIiIuoxOlPJVITm70ZTDyIiIiK6GVzdAogqzaOzNy6J6JY00S0a83zXQiYYn0FXJ9ZgS8GSLh5V69TVaqhK1UBjCXV1pYgbv9V0fSCpm8zqmZB3FBuSdur+w++vrMCGpJ1wqTVS5qPmqvFOTLUD5g2UEREREZFZdCSIlKP3yDbxyDHXAImIiIjIirQ3LrVaunF5dOYftSaIiJqY6BaNAIexJtcX1zf/b2SCeN2qKd3UFermpZwaAOVhpdHtzSlBvI4E8bpmoatn9VzdognkNAnm/N+F32Anqgw2tRNVCLhhpKa9vK/xvk21d5NAGRHdekRRPKN9sB4SEVFz7Q4iiaLoL4rigNYelhgsEREREXWxdty4TEgpQ0JKWdeM6xYXuz0Hx+NLcPB4EfzH7Ebsdn6Gi3oOU7OR3Fuom2QO7tn/gHv2P9q1j9hgvF1d2TSyZGEdmdXTUS18eMCt/oamSSpDjVSm20QmqnFQvAL/+i//qI8U9A4gsUeCojcSFL01bRJ7TbsxTH9HRERE1C11Jp0dEREREd3kxBvGb1CaaifLKyiqxfxX41FbpwYAZOfWYP6r8QwkUY/R22ZAs/pItoIcs72WWWlEpgky4+0ShWUzuC+s/wXlqEU5aiGr/wTF9u7GNzQ1q6czWgjmtPaqs1GBNLFEE0jqOxsI/Ry62w7yfprlvrON79zZQBlnwxIRERFZRKtBJEEQAjraeWf2JSIiIiLryy03fuPSVDtZ3qWcatQoDdNJ1ShVWPJRspVGRNQ+LjZeBvWRPGz6Y57vWkx0i7byyJqTOEuaV/yVAfYT7S12zIX1v+BLJOiWVRDxwpAJqJXYNhlcC7N6OqOlYI5NL6Or6oU/bi2MqMyHvOKCZqHvbMBGAdi4ANNTTAeQgPanvyMiIiKiLtGWmUgXBEHYLgjCnYIg2LS2sSAINo3b/g/A+U6PkIiIiIis5vVtD6C61vDGZXWtLV7f9oCVRkTaGUhN5eTVdPFIiDpOWx9pqOMUrAq63C0DSAAgcZRA6iYBpI3LCgEOf5LDbqhtyzt2whokNmvb7DMcTw+fCUgaUwG2NqunMyQOptuHfwLAcHqWEgIuOhgGl9TNCkm1QWP6O8NjWihQRkRERERtZmJyvgEJgHsaHxWCIBwEcBpABoDSxm16ARgMYBSAKQCcofm8VhcniiYiIiIiczqSdxvmxwILno2DIACXi93xtx9n4WjebdYe2i3LzlZiNJDk5yM3sjW1JqphEwDggOxRK4+EuiuJowSyPpookmK2k8WPpzLx3+hYn2D8N7dIszB+d8udtLa+JWoTAWl1zR9Bq3MLAABX7V3x2pApuG7naLCppHH6VqwqBf3EOqghwr/+SyyTTEa0NNh4/9q+E58H1LWaQFnQO8YDZdq0de19nVe3AKWnNP3vCTbdPxERERHptCWI9DiAdwEMAOAC4O7Ghynayf6XAbzdmcERERERkXUte2M45r9ah2fUvwIABrz1T8jtpVj76XArj+zWNcDPEdlXbxiktJPbS7HsDX5PiMwtQSwAAAzqwmNKIRgNJElbrUhkLsZnO+ra+84Gkl4AABy87Wf8Tx0HoAEA8EheMpwbaiEAqPptCH4bMh5PNr6WbFRgvjoOAFoOJOVs1DzvTCDMmKtbgMS/agJIAFBzRbOsPS4RERERGdVqOjtRFP8LIBDAEwB+hyZI1NLjKIAnAQSKohhrkVETERERUZeIvt8Paz8N131MqL+vHGs/DUf0/X7WHdgtzMvDDms/DYedreZPeX5PiCynSqxHlVjfpcd8BqHtajc7Qdrm9mhpMNZK7oAdpOhdW411ybshgeZXhpMyH6uTf4KN+EfAe/eJDRh0zEqpC1PfBdRKwza1UtNORERERCa1ZSYSRFFsAPAfAP8RBKE3gMkAhgPwbNykEJr6R7+LonjNEgMlIiIiIuuIvt8Ph3/VRJEun5hpfKOrW4CGSkBUM0VQF4i+3w9rYy8BAA5snWLl0RCROX1hMwOoB75EAgDNDKRnEKppx2eWH4DfX4DsdcbbGyUovAAAE9EYSBITgZpcOKgNA26O6ga8HDQdJ1z76tqUjbOWulzN1fa1ExERERGANgaR9ImieB3A1sYHEREREd3qtCmCxMbPF+mlCDrQtw11ZsydsoiIyIgwobe1h9BmX9jMwKb6CwCAMpuXuvbgI5ZrvmoDSYJUE0DStgNwEmya76dNE9eEvVpluNz+2xDmIe+r+f1krJ2IiIiITLLSX29EREREdNNoKUUQZyMRUQ9215inAABXtlt5IFpdFXQfsRzI3qB5fldps9UvjXkZAHBAv1FiZ7QrpeSPNHgSCBgguJhpkO0U9E5jTSS931cSe007EREREZnUak0kIiIiIiKnbEc4ZTsaXSfeMJ4KyFQ7EVFbnEzIRXmVEgfFK/Cv/xKxqhSrjidBvI6ohk1ddrwwobd1Z0/JHDWPtnLwByT2yPjnLmT8cxcAoEFih6tydwBAfzgjUOgFL6EdfZpT39lA6Od/BLvk/TTL/LADtZEgCBH6j7S0NNum23z44YeeEolEt41UKo1YsWKFhznH8c0337guXLjQd9y4cUMUCkWY/phmzZrlb85j6YuJifHRP9aqVavcLXWsW43+efX19Q2x9niIiJpiEImIiIiIOiW33Pg9BFPt1HEHtk5hDSQzilWl4LiY122CFD2VJc5jrCoFNWiA2LicjQrMV8fxe9SVXEZoHm1l56kJymjJ+0EWuhqD7YdgitAPl20WWC+ApNV3NuAWCbhPBKanMIBEZvXee+/1/tvf/uYnipp3LolEgpUrV15evHhxkTmP8+STTw768ssvvY8fP66oqqqStr5H9zd69OjA1gJ01DGrVq1y1z+3MTExPtYeExH1PExnR0RERESd8vq2B7AmeqNBW3WtLV7f9gBiH7POmIhaE6tKwXx1HGqhqdeiDVIAQLQ02JpD61EsdR6XqA9hUJO2GjRgifpQl31/YlUpqEAtRADHxTxIIHTJcbUOyNpQU86SOpI6r+9sAIc1z6c3Bvy6cPYWkbW89dZbXsuWLdMV2JJKpfi///u/SwsWLCix5HGdnZ1VFRUVN0Ug6VY2Y8YMXd5QDw+PBmuOhYjIGAaRiIiIiKhTjuTdhvmxwCvT4yARRFwudsfffpyFo3m3WXtoRCYtUR9CDQzv03R1kOJmYKnzmIOKZkEkbXtXiFWl4C/q3bqZUMrGIFmBWN0lx2+vS9iBIiRCjTpsxzSE4SUMwN3WHhbRLeH111/3/uSTT3y1y1KpVPz3v/99ad68ec0LipnByy+/nBcZGXlj0qRJ1fHx8fK77757iCWOQ10nLi4uy9pjICJqCdPZEREREVGnLHtjOP6XNBEVSjnKahww4K1/4n9JE7HsjeHWHhqRSaaCEV0VpLhZtPc8vj3wAN4eeKDVfv3g3K52c1uk3ot6qJu1X0RZlxy/PS5hB07gbahRBwC4gTycwNu4hB1dP5irWwCImsee4MZlvXWlp4Diw83XmeO4luqbqAUxMTE++gEkmUwmrlu3LstUAMkcdYX++c9/Xnv44YfLfXx8zD5jpby8XPLCCy/49uvXb7itrW24l5fXiEcffdQvNze31Q+hb9682WXu3Ll+4eHhQb6+viFOTk4jZTJZuIuLS9iIESOCXnzxRZ/s7Gwb/X1mzZrlLwhCxKlTp5z024OCgkKMpbdLS0uzXbRokc/UqVMH+/v7D3dzcwuVyWThDg4OI/39/Yffe++9A3bu3KnoyGtvWpeooaEB//jHP3oHBQUNk8vlI11cXMKmT58+6NixY3JTfeTl5cleeeWVPiNHjgxydXUN077+sLCwoFdeeaWPqfPYUk0kY+nosrOzbR577DE/Hx+fEFtb2/DevXuPmDt3rl9hYaFuVtrOnTsVgiBELFq0yF+/vxUrVvRhejsiai/ORCIiIiKiTom+3w8AILkkQC2K6O8rx7I3huvaibojPzgj20igo6uCFDcLS53HhRUV2KdSQiXawb0mB051xbjuEollksmd6retilFjtL0BavjXf4llksndZsZaAlZChVqDNhVqkYCVXTsbqbYQSHgPwP80yzVXgIQFOBD2pWY58a+AuvaPdYl/1TzvbF2iq1ss1zdRC15//XXfH3/8sZd22cbGRvz666+zHnvssTIrDqvDiouLpZMmTRpy4cIFB23b9evXbTZv3uy5Z88e17Fjx1a2tP+aNWs8Dxw44NK0vaKiQpqUlOSYlJTkuHHjxt67du1KnzRp0o2OjPHo0aOOq1at6tO0vaamRsjOzrbLzs62++mnn3otWrTo2sqVK/M6cgwAqK+vF6ZNmzb40KFDutejVCqxd+9e199//91l8+bNFx944AGDX37btm1zfuqppwaWl5cbpBesqKiQJiYmOiYmJjquW7fOa/369VlN922PM2fOOISGhgbrH6ewsNAmNjbW8+zZs47x8fGpdnZ2Ykt9EBG1l1mDSIIg6P6iF0XxkDn7JiIiIqLuK/p+PySs1fxpefnETCuPhqh1yySTMV8dZ5CKTQ5ZlwUpbhaWOI+HS2Nx/tq7EBoDUVKxAWPytyFCGIlod+sEbu554Cfd8+5WP+sGrrWr3WKqM1Fy/F5A1NSOSnkjGX3u/zt6yV4DZI6AWmm4vVoJpL7b+UBP6ruW65uoBfoBJFtbW3Hjxo2ZjzzySLk1x9QZzz33XD/9AJJUKkVISEg1ACQlJTns2LGjl+m9NWQymThw4EClq6trg0KhUCmVSklGRob8+vXrNgBQWVkpnTdvnn9aWtp5ABg1alR1dXW15MSJE4qysjLdPcrJkyeXy+Vy3XRQhUJhMDXUx8enzsvLq97V1bVBFEUUFBTYpKWlOajVms0+++yzPg8++GDZxIkTOxSsKiwstCksLHTx9fWt8/f3V6akpDhox1dXVyc8/fTTAyZMmJDs5eWlAoD4+Hj76OjoQUqlUpfxycvLqz4gIKAmMzPT/tq1a7YAUF5eLo2Ojh505MiRC+Hh4UrjR2/ZoUOHXARBQHBw8A1bW1vx7Nmzjtp158+fd/j666/dFi5cWOLt7V0/Y8aM0qtXr9qlpKTovq8DBw5UBgQE6D4pMWzYMOOfmiAi0mPudHYHAOwHsM/M/RIREREREZlNtDQYayV3wA6aD/L2hzPWSu7oFkGBnsQS53FLwRLUiYb3tKRiPa4WftmpsbaHO+xbXK+t+9QdOKDZh/JbbLeEA7JHsW1VFa7853NdW32JH67853OUHL4NqLlqfEdT7e1hyb7JopSJtb3KvqoIKV1eHlH2VUWIMrG21SBFd/X2229f7ckBpOzsbJvt27frzr8gCPj+++8zzp49m3r27NnUrVu3ZgiC0GIfy5cvv1pSUpKQlpZ2/sSJE+l79uzJPHz4cMa1a9fOzZw5U5feLz09XR4fH28PAG+++WZhXFxcVkBAgEFAZc2aNTlxcXFZ2oc2dd/tt99eefHixXO5ublJ8fHxqfv27bu4f//+i+fPn7+wadOmi/p9xMbGunXmnNx3333Fly9fTjp8+HBGampq8pAhQ3S/mMrKymSrV6/20C4vXbrURz+A9Oc//7k0Ozs76ffff8+4dOlS8l133VWiXadUKiVLly7tVAq51atXX0pOTr4QHx+fGhMTYzDjat++fc4AMGrUKGVcXFzWM888c11//b333luqf24tVbuLiG4ulqiJJDQ+iIiIiIiIuq1oaTDGCj6YIvTDZZsFDCB1UEfPo6n6SEX1OUa3LzbRbgmfSabDppX/1naX+llheAlS2Bm0SWGHMLzUpeO4tv3vEOscDNrEOgdc2/53QN7X+E6m2lvStP6RjYn7xB3pm7qMMrG2V80BZX+xWrQFALFatK05oOzfUwNJ//rXv/qcOHHCZK0creXLl+eJonhG+3jxxReLu2J8rYmLi1OoVCrdm96YMWMqZ82apXuTu++++yrHjRvX4pteUFBQ7Zdffuk+adKkAG9v7xH29vbhgiBESKXSiN27dxv8oCYnJ7ccqTfB19e3ISMjw27WrFn+gwYNCnZ0dBwplUojBEGImDNnzmD9bdPT0zt0DK3ly5fnymSayVFeXl6qxYsX5+uv379/vzMAqFQqNE3jt2LFiqvalHJ2dnbiypUrDaLaBw4ccFGpVB0aV2hoaPWCBQt0Qan777/fIHiZn59v03wvIqLOMXdNpEPQVNEkIiIiIiIiajcPGz9832cGRqh+MWh3t+m6OmvaQNhj6p0m/4PbXepnaeseHcdbUKMODvBBGF7q2npIAOpLjAdt6kv6AkHvNNYt0ptsILHXtLeHsfpHkAGCDSDWd65v6lLK47W+UDX5YLMKEuXxWl/7ULsSE7t1K3K5XF1TUyMBNDNT7rjjjiG7du1KHz9+fI9LD5aTk2OrvxwYGNjsNQwdOrTm6NGjRt/4KisrJePGjQvUT5vWkqZ1g9rqrbfe8lq2bFmbIsRVVVUdOgYAODs7qwYMGFCv3zZy5EiDc5KXl2cLAAUFBbLq6mrdtezo6KgODAys09920KBB9QqFQlVZWSkFgOrqaklBQYFMO8OqPUJDQ6v1l93c3AyiUXV1dZaYMEBEtzizvrGIohgliuJUURSnmrNfIiIiIiIiujXM9loGocl/VW0FOWZ7LevScURLg+EMO8ghg7zJ5y+7W/2sAbgbHghFb0Tifuy1aAApVpWC42IeDopX4F//JWJVKQAAG2/j981tvGs0tYlCPwckjTOm5P00y+2tWWSs/hEaAJmi831Tl9LOQGpre3e0YcOGLA8PD12goaysTDZz5szAI0eOtDoj6WbzySefeOoHkCQSCUJCQqr/9Kc/lc2YMaN04MCBBj+4otj+z59nZ2fbfPTRR776bT4+PnVRUVHlM2bMKJ08ebLBjBxRFLskS1JHXktnuLu7GwSNZDIZP8xPRBbX7iCSIAh+jQ9OjyQiIiIiIiKzmugWjT52Q3TLNoId5vmuxUS3aKuMxxZS1s9qFKtKwXx1HGqhuYeZjQrMV8chVpWCPm87QrAz/FC9YNeAPm831nzvOxtwiwTcJwLTUzoW5DFV56i+tPN9U5cSHIW69rR3R2FhYTW//vpruqenpy6QVF5eLp05c2bg77//3qYZOd1Fv379DM57enp6s0BYamqqyeDY0aNHnfSX165dm3Xu3LnUX3/9NTMuLi5rzJgxlS0dXxCEVgMhBw8edNRPuRcVFVV+5cqVpP3791+Mi4vLWrp06bXW+miriooKaXZ2tsF9z4SEBIPX7+PjUwcA3t7eDQ4ODmpte3V1tSQ9Pd0gGJqZmWmjnYUEaGYreXl5tXsWUke0VsuKiKgtOjIT6TKALACRTVcIghAhCEKWIAiZnR0YEREREfUsL/3yIV765UNrD4Ooy0Q9eBBRDx609jBuSi4yL0gEGSSCDIMdxlotgKTF+lkaS9SHUAPD+541aMAS9SH0egDot/yPGVs2fTXLvR4w4wDMWVuJrMp+rF0upFAbNEqhth9rl2ulIXXIyJEjlXv27EnTDyRVVFRI77zzziEHDx5sFkiKiYnxabx3FiEIQsSqVavcu3bExt1xxx2VUukf2d+OHz+u2L59uy513U8//aQwlcoOABoaGgwiFY6Ojrrv7aFDhxx+/PHHFl+nvb29wbXQNIADAHV1dQbHkMvlaolEc1uzvLxc8vbbb/u0dIz2iomJ8dXWLSoqKpKuXLnSW399VFRUBQBIpVJERUWVN9m3b21trQAA9fX1WLx4scGb1JQpU8r1z7clyeVyg3Obl5fHSQFE1G4drYlkKowtB+AP1kUiIiIiIqIe4IDsUWsPgbrA4dJYZNw4jgaxFi+m+mO21zKrB6Z6ohxUtNje6wGg+DNNW/CpDh5k/G7T61qqrZSzsYMHJGvQ1j1SHq/1FatFW8FRqLMfa5fbU+oh6RsxYkTtvn370qZPnx5YUFBgAwCVlZXSu+66a8iPP/6Ycdttt1W31kd7/OlPfxp0/fp1G6B53Z99+/a5hIaGBmmX33zzzWtz5swpb9pHU/7+/vX33HNP8fbt290BTYq2hx56aPCIESNuAMC5c+ccWkrbNmrUqOpDhw65aJcff/zxQatWraqsra2VJCQkOKnVapP7AkBAQIBSf/85c+YMDgsLq7a1tVUPGDCg9ssvv8ydOHFitSAIuvRxP//8s1tgYOAwb2/vuqSkJMeysjKz1n3ftm2bu7+/v1P//v1rU1JSHPT7d3V1bXj++eeLtMvvvvtu3r59+1yUSqUEAHbt2uXm7+/vGBAQoMzMzLTX1k8CNAGzd999N8+cY21JSEiIQSrBrVu3eowZM8bOzc2tAQA+//zzK4MHD643vjcRkUab3mAFQXAG4Nqk2UsQBP3KphIAM800LiIiIiLqYQ5snWLtIRARNXO4NBbrcuejQawFABTVZ2Nd7nwAaDWQFCb0tvj4ehI/OCPbSCDJD3oTFAQLfrpem6Yu8XlAXaupfxT0jqadQaQexz7UrqQnBo2MGT58eO3evXvTpk+fPiQ/P98W0AR47r333oDt27dnTJ8+3WyBpPPnzzvoByX0lZWVyfSDHdevX29zYOWrr766kpKS4qBNZadSqYSzZ886AoCzs7MqMjKycu/eva7G9n3ttdeuf//99x65ubm2gGbWkHbmkq+vb92UKVPKN23a5Gnq2E8//XTxxo0be2vT1ZWWlsr279/vAgDBwcE3AOQGBQXVPfnkk9c3bNige2NOT0+Xp6enyyUSCd54443cDz/80NfEIdrFy8urPiIiomr37t1uV69etdNfZ2trK3711VeXvL29dbWJRo0apfzmm28y582bN1Cbti4/P99Wey1oKRQK1bp167JGjRrVtLibxYwZM6YmJCSkOikpyREAVCoVTp48qdCuLy0tzQPAIBIRtait6ewWA7jU+AA0M5G26rVdApAJ4PXG9TfFHwFEREREpBE2/yjC5h+19jCI6BYQq0rBkYaraIAaDaIaRzKuIDY2qcP9bSlYgjqxxqCtTqzBloIlnR3qLWeZZDLkTT6LKocMyySTu24Q5qitRGQBwcHBtfv370/T1soBNIGk++67b8ivv/7qaM2xtYWnp6fq+PHjqQsXLsz39fWtk8lkooeHR/2sWbOKT58+fX7EiBE1pvb18vJSHTt27MLDDz9c5OHhUS+TyURvb++6uXPnFp4+ffp8a/V/xo0bV/PDDz9kjBs3rlKhUKhM1fFZt27dlY8++ignICCgxsbGRlQoFKrx48dX7Ny5M+2JJ54w271IqVQq7tixI+vjjz/OCQoKqrG3t1crFArVbbfdVrZv374Ls2fPbhZNnz17dkVKSkpyTExM3ogRI6oVCoVKKpVCoVCoQkJCql966aVrycnJycb2tbSff/754pw5c4q8vb3rpFIps0cRUbsJLU1H1W0kCO8AeKcd/X4jiuJfOjyqHkAQBB8AuQCQm5sLHx+zpl4lIiIiImqRthYPZ4BZD78Hf4hq2ASg8+kBY1Up+EvdbtTL1Ljt/FdApoh9tz0LmxfV2DDjbkRHh7S7z0eTJDCWcV2AgNiQllMsmet1dYXf8DgA4E/41qLHiVWl4Gn1z6iFCv3hjGWSyQY1ojKijgEAAg6Ma77z0cbkJS2lrGsLY/20tW9zjcEK8vLy4Ourm2jhK4qi2VJiJSYmXg4NDS1qfUuim5MgCBHa5z4+PnW5ubkd//QCEVEPlJiY6BEaGupvbF1bp7WWAchufN4fmr/ACwDU6m2jBlAKYC+A9zsyUCIiIiIiIrp1LVEfQr2sSWDHUUD9UgFLpu/tUBDJw8YPRfXZzdrdbfyMbG2oJwSPulq0NBhrxUQAPD9EREREt4I2BZFEUfwMwGcAIAiC9i/6B0VRZE4TIiIiIiIiMoscI/V2AAD9BOTktFob3qjZXsuwLne+QUo7W0GO2V7LOtQfdUIPnP1DREREdKtrc4E9Pdo0denmHAgREREREbUdU6jRzcgPzsg2Fki6IsLPz6VDfU50iwYArMl9Gg1iLTxs+mO21zJdO5lXwAfaxCQMGBERERHdDCQd2GcXgLMA+jRdIQhCiCAIIwRB8Oz0yDpAEITxgiD8LAhCqSAINYIgJAmCsFgQBGkb9/+7IAhiCw97S78GIiIiIiKiW9UyyWTYNDT5b2q1CJv3RCxbNq3D/U50i0aAw1gMdZyCVUGXGUAy4f2sKLyfFWXtYRARdTlRFM9oH6yHRERkqCNBpJXQBJGMzf1/r3Hdik6MqUMEQbgTwEEAdwBwBWAPYDiA5QD+09XjISIiIiIiovaJlgZjg+1MyFSCpkENuL8lw4YZd3eoHhIREREREXVOR9LZTWz8+p2RdVsA3Ku3TZcQBMEWwFpoXk81gDsBpAGIBXAbgEcEQdgkiuLONnaZLYqivyXGSkREREREdLM5IHvUbH1FS4OxVkyEDBI4SWQo+vwVs/VNRERERETt05GZSN6NX4uMrCtp/OrVseF02Az8kV7vO1EUD4qimA/g73rb/KXZXkREREREdMuKevAgoh482KF9Y7fn4Hh8CQ4eL4L/mN2I3Z5j5tERUbuM3615EBEREZFZdSSIdKPxq7FKvpMbv9Z0bDgdFqn3PMXEc/1tWuMjCEKxIAj1giBcEQRhnSAIfqY29vX1hSAIEAShHYcgIiIiIqKeKHZ7Dua/Go/aOjUAIDu3BvNfjWcgiYh6MlEURWuPgYiIiKygtb8BOhJESgIgAHhZEIRXBUEIany8AuBlAGLjNl1Jf+ZTuYnnvdvRnw2AXtCkx+sL4GkApwVB8O/oAImIiIiI6Oaw5KNk1ChVBm01ShWWfJRspRERdSOcEdQjCYJQpFQqba09DiIiIup6dXV1NoIglJpa35Eg0reNX20AfATNbJ8UAB8D0P7B8Z8O9GsJ7Z0adAbA4wD8AcgBjARwunGdJ4C3jO2Um5sLURRbjdgREREREVHPl5NnPPGCqXYiou5OpVL9t7CwUMH7GkRERLeesrIyhVqt/tnU+o4EkdYD2AlNgKbpAwB2i6K4rgP9tkoQBH9BEMQmjwMACvQ2c9V77qz3/Hpr/YuiuEMUxf+IopgtiqJSFMUEAC/pbTK246MnIiIiIqKbgZ+PvF3tRETdnVqt/qa0tPTc5cuXe5WXlzs1NDRIGVAiIiK6eYmiiNraWpuCgoJeBQUFZSqVao2pbWUd6FwUBOF+AC9AM2snsHFVGjSzlP6vI4PupFN6z4fpPQ82sY1RgiBIRFFUN2kWTTwnIiIiIqJb0LI3hmP+q/EGKe3k9lIse2O4FUd1czkgexSzMt+z9jCou2K6PLOLiIgoO3PmzEMlJSVzKisrZwL4/+3de7heZ10n/O+vSdtsKAKlUGhKEnjlnJESQFCrqS+i76AIwYpCXqAMZN4RBTrwFqOxlzAYrFM8DCqIQaxAkIFq5GAZZYCUg5ZDA2oRlNY2gaStlJZyyqFN7vnjWbt9svdO9unZefbh87muda21fute9/o9va61m/389n3f39dau8ew8wIA5k5V3XbkyJF3HT58+I8f//jH33CsdtMuIiVJa+1wkt/rthOmtXZDJpiirqpOSXJjkgcl+fmqenuSLyV5dV+zP+1rf1mSF3SnP9pa29kdf6qq/jTJX3f9PSpHf8aPz/5TAAAAw7Z9x55ctevWHDx0JGuedEW2bl6bjRtWTene0XYveuXVOXjoSFavHJnW/QDz0eMf//hD6f1x8NsmawsALB0zKiLNN621Q1W1KclfJblnkp1jmvx5a+0DU+jqYUn+sNvG2pPktbNIEwAAmAe279iTTRftysFDvUkIdu/dn00X7UqSaRWStm2/Pkmy8/L1c5PoEvf1N2zuHTxruHmMeu2/nZckufihO4eax3ywc/lzh50CAAAnyEzWREpVPayq3lRVn62qa6vq38Zs1w060cm01v46yfok/yvJ7UkOJrkmySuSPG+K3fxSksuTXJfkO10fX0ry+iTrWms3DjhtAADgBNtyyTVHTUWXJPsPHM6WS64ZUkYAAADz07RHIlXVo5Ncld6In9Gp5UbXChp7fkK11v4uyX+cQrsLklwwQfwdSd4x8MQAAIB5Y8++/dOKAwAALFUzGYm0JclpObpgVN02lOIRAADAVK06a2RacVgKPnHb9nz5u1fli9+5Mi/70pp84rbtw04JAIB5YCZFpB9Or1j0O32xn0/y3CRfS/KxJI+cfWoAAACDt3Xz2oysWHZUbGTFsmzdvHZIGcFwfeK27XnL3k25sx1Mktxyx+68Ze8mhSQAAGZURDqz2/9tX2xva+1dSX4lvSLTi2ebGAAAwFzYuGFVtl26Lqee0vt1aPXKkWy7dF02blg15MxgON5985YcakdP53io7c+7b94ypIwAAJgvpr0mUpKD3X37kxxIcmqSNUk+meTW9Ka1e16SXx5MigAAAIO1ccOqbNt+fZJk5+Xrh5wNDNctd+yZMP71Y8QBAFg6ZlJE+nqSe6a3LtJXk3xvkt+qqscm+ZmuzT0Gkx4AAABL0c6dFww7hSXjjJNX5ZY7do+L3+9ko/MAAJa6mUxn98/d/oFJ/nd3/KAkr0xvRFJLctWsMwMAAADm3LPP3JpTauSo2Ck1kmefuXVIGQEAMF/MpIj0riTvS3JHkt9IbzRS9W03JnnZoBIEAAAA5s65992YF6/cluV1apLkjJNX58Urt+Xc+24ccmYAAAzbtKeza629PcnbR8+r6tFJnpnk7CQ3JPlAa+3bA8oPAABgXrKW0tLxidu258vfvSp3toN52ZfW5Nlnbl10BZZz77sxH71tW5Lk4ofuHG4yAADMG5MWkarq+iRHkvxsa21XVb01vSnrXtdau64rGL1jjvMEAAAYKEWgpWWmhZFP3LY9b9m7KXe2g0mSW+7Ynbfs3ZQki66QBAAAY01lJNLq9IpGoxMkX9Cd/0mS6+YmLQAAAGbivPOvTKJINijvvnlLDrX9R8UOtf15981b5lUR6al527BTAABgEZpKEelQkpOTPLWqvtoXf2BVrTrWTa21PbNNDgAAAIbpljsm/tX268eIAwDAYjKVItLuJN+b5OJua138Pce5p02xbwAAAJi3zjh5VW65Y/e4+P1OPubfVAIAwKJx0hTavD1JzWADAABgCTjv/CvvmkZvsXn2mVtzSo0cFTulRvLsM7cOKSMAADhxpjJa6DeT7E/yjCQrkzwkvZFGNyc5OHepAQAAwHCNrnv0x3tflDvbwZxx8uo8+8yt82o9JAAAmCuTFpFaa4eT/Ha3paqOdJfOb6393RzmBgAAAEN37n035qO3bUuSXPzQncNNBgAATqCZrFv0wm7/r4NMBAAAgMVtdMq7nZevH3ImAADAVEy7iNRa+7O5SAQAAAAAAID546RhJwAAAAAAAMD8o4gEAMDAnHf+lXdNVwWw0PmZBgDAUjeTNZEAAAAAFp4fvGLYGQAALCiKSAAAAMxLo6OAdl6+fsiZLA0XP3TnsFMAAGCeUUQCAGBgPn/xF7ojX/gCAADAQqeIBAAAwIxt37EnV+26NQcPHcmaJ12RrZvXZuOGVcNOa6B6I6JeY0QUAABLzkmD7Kyq3tptfzLIfgEAAJjcaEHnyqtuyZonXZHtO/bM+fM2XbQrBw8dSZLs3rs/my7aNeFzT3RuAADA7A20iJTkgiQv6PYAAACcINMp6AzKlkuuyf4Dh4+K7T9wOFsuuWbouQEAALM36CJSktQc9AkAAMBxTLWgM0h79u2fUnwYuQEAALM36DWRXjjg/gAAAJiCqRZ0BmnVWSPZvXd8/6vOGplSDnOZGwAAMHsDHYnUWvuz0W2Q/QIAAHB8Yws3k8UHYevmtRlZseyo2MiKZdm6ee2sc7OGEgAADN9cTGcHAMAStH3HnnzzW3fm9m/e4QtfGIKpFnQGaeOGVdl26bqcekrvV8vVK0ey7dJ12bhh1axymw9rKPUXsUY3P9sAAFhqpl1EqqrnV9VfVtWbJrj2R921FwwmPQAAFoLRL3xba0mG84UvLHVTLejMxXOfvO70rH/yGbnhU0+b8HnTzW3YayiNLWKN8rMNAIClZiYjkX4hyTOSfHWCazckeWbXBgCAJWL0C9+PfutP8tFv/UmSE/uFL9AzlYLOsEwnt2GvoTRREWuUn20AACwlMykiPaLbf3aCa5/r9g+fWToAACxEw/7CF1hchrG+U7/JfnadiJ9t551/Zc47/8o5fw4AABzPTIpIo/9qP32Ca6ePaQMAwBIw7C98gcVlGOs79ZvsZ5efbQAALBUzKSLt7favrKp7jga741d0p/tmmxgAAAvHsL/wBRaXYa3vNGqin2mj/GwDAGApWT6Dez6S5MVJHpfk2qoaHV+/PsmZSVqSDw8mPQAAFoKNG1blk2fdkHwjSSXL/n53Ltj3hGx80vxZjwVYWDZuWJVt269Pkuy8fP0Jf3aSPO9ln0lrd8dXrxzJ1s1rT0gx6/Nf+MacPwMAACYzk5FIv5XkO93xA5L8bLc9oIt9N8l/n31qAAAsFNsPfyGXrftMUr3zww+8I5et+0y2H/7CcBMDmKGNG1ble05bnnvfa3nWP/mMrH/yGbnhU087YaOhAABgPph2Eam1dl2SZyS5Ob2vCfq3m5I8s7V27SCTBABgftty5GPZnzuPiu3Pndly5GNDyghgdrbv2JNvfvvO3P6tO3PVrltz8y0HT9izX/Kru3L7t3rPXr76L/OSX911wp4NAAD9ZjKdXVprH6mqhyb58SSP6ML/kuRvW2sHBpUcAAALw558c1pxYGk60dPSzdT2HXuy6aJdd01ld/DQkfzrdd/K9h175nwk0kt+dVfe9Lbr7zo/fLjddf7G162b02cDAMBYM5nOLknSWjvQWntfa+3SbnufAhIAwNK0Kt8zrTjAfLblkmuy/8Dho2JHWi8+1/54+w3TigMAwFyadhGpqh5ZVc+tqvO78+VV9T+q6saquq2q3lBVMy5OzVRVPbWq3llV11VV69tOm2Y/D66qt1bVvqo6WFW7q+r3qur0ucodAGCh23rSj2RkzCD3kSzP1pN+ZEgZASfSzsvXL5hRRlOxZ9/+acUH6fDhNq04AADMpZlMZ/fKJP8pyYeTXJ7kvyR5aZKW3rpIv5hkd5LfHlCOU/WTSZ4zmw6qanWSq5I8sC+8KsnLk/x4Vf1Aa+322TwDAGAx2rjsMVm992/S2pFUkq/s/MPc8IgLc+6qxww7NWABG1ZhatVZI9m9d3zBaNVZI3P+7GXLasKC0bJlNefPBgCAsWYyYuj7u/0V3f78bv+dJEfSKyT9/CzzmonPJtmS5ClJ9s6wj9/J3QWklyc5PclvdeePSnLxbBIEAFi0vvrunPtPl2T0K86zD3wj5/7TJclX3z3UtABmYuvmtRlZseyo2MiKZdm6ee2cP/s/b1wzrTgAAMylmRSRVnb7f+v2j0tvFNJjk/z/XewRs8xr2lpr72itva619pEkd073/qq6b5Kf7k6va629obV2W5JfTzL6J2gvqCp//gUAMNaXXpMcGbM85pEDvTjAArNxw6psu3RdRn/7W71yJNsuXZeNG1bN+bPf+Lp1+YXnP+Su82XLKr/w/Ifkja9bN+fPBgCAsWYynd29u/03q+pBSe6V5KbW2vVV9fnu2qmDSO4Ee1zu/u/xhdFga+1gVV2b5D8kOSPJQ3J3AS1JsnLlyvS1n/NEAQDmnf1fnV4cmDOLaW2iYdq4YVV+8Vc/lyS54VNPO6HPfuPr1uWdO76SJPnGF59xQp8NAAD9ZlJEui3J/ZI8M8n1XexL3f70bn/r7NIaijP7jseue9R//oCMKSIBACx5I2cn+78ycRxggTrnMfdZks+e7847/8okCqYAACfCTKaz+2y3f2l6awi1JJ/oYg/t9ntmmdd8c9wp7Pbu3ZvWmlFIAMDS9chfT05akdNOPZDTTu2mtTtpRS8OAAAALEgzKSJdkt6aQ9VttyR5c3dtdJz9x2ef2nhVtaaq2pht54C6v7nv+D5jrn1P3/G/D+h5AACLx9nPTh77B7nrn5cjD+6dn/3soaYFAAAAzNy0p7NrrX2sqs5J8pPpTfP23tbaaGHljUn+KMnfDyzDE+dzSQ4nWZbk0aPBqjo1yfd2p7fk7in8AADod/azk92/1Ts+7+rh5gIwAKZLAwBgqZvJmkhprX0xyRcniP/5rDM6/nNvyDGmlquqeyS5R3faP8LqflW1IsmB1tq3u7aXJXlBd/1HW2s7W2u3VdV7kzwryf9VVS9N8o4km5OMdG3/rJmzDgAAgDmmgAUAwHwwk+nskiRV9ZiquqSq3ltV/7uqTqmqH+m2UwaZ5BS9KsnXuu3BffEbutgfTKGPVyS5qTt+Q5Jbu36TXtHstYNIFAAAAAAAYL6bURGpqjYn+YckFyV5enqjeQ4luSzJR3P32kgLSmttd5LvT+9z3JTkjiR70isondtau3142QEAAEzNh/L8fCjPH3YaAADAAjftIlJVPSPJ67p7x04tt6OLPWv2qU1Pa+3VrbU6znZBX9sL+uI7x/TzldbaC1trD2qtndJaW91ae3lr7dYT/ZkAAAAAAACGZSYjkV7R7fcm+R9jrv1jtz9npgkBALBwnVNn5pw6c9hpAAAAAAMwkyLS45K0JL+c5PIx177a7VfOJikAAAAAAACGayZFpOXd/usTXLtvt182s3QAAAAAAACYD2ZSRLqh27+4//6qWp7kv3Sn/za7tAAAAAAAABim5ZM3Ged9SV6V5FlJfrwv/pUkD0hvqrv3zj41AAAWnB+8YtgZACxa551/ZZJk5+Xrh5wJAABLxUxGIv1Wkt1JKslp6RWNkl4BqZLsSfL6gWQHAAAAAADAUEy7iNRauy3JDyV5f3oFpOq2luQDSX64tfaNAeYIAAAAAADACTaT6ezSWtuX5BlVdZ8kD+vC13YFJgAAAAAAABa4mUxnd5fW2jdaa5/pttuSpKpOq6qLBpMeAAAAAAAAwzCtIlJVLauqM6tq3H1VdUZV/UZ6ayJdMqgEAQAAAAAAOPGmVESqnkuSfCPJviTfrqrf6eLLu+LRDUl+Jcl95ihXAAAAJnF93p9b8g/593wmO/KUXJ/3DzslAABggZrqmkibkryq73xFkpcn+XqS70/yU0mq7/rXB5IdAAAAU3Z93p9P5eIcyaEkyXezL5/KxUmSh+Tpw0wNAABYgKY6nd3zJohVeiOP+gtI1yb5xSSrZp8aAAAA0/H5/F4O5+BRscM5mM/n94aTEAAAsKBNtYj06CQtyUeSPD7JE5N8NMk90isg3Zjk55M8orX2ptbagTnIFQAAgOP4bm6cVhwAAOB4plpEune3f31r7XOttauTvL6LtSQ/3Vp7d2utDTxDAAAApuQeedC04rDQbN+xJ1ftujVXXnVL1jzpimzfsWfYKQEALGpTLSKNtvtmX+yu466oBAAAwBCdkwuzLKceFVuWU3NOLhxOQjBA23fsyaaLduXgoSNJkt1792fTRbsUkgAA5tDyabb//aq6vTseHZ2UqvrImHattfaUWWUGAADAtDwkT0+SXJVfy5Ecyj1yVs7JhXfFYSHbcsk12X/g8FGx/QcOZ8sl12TjBkszAwDMhekWkc4Zcz46fd36vlj1xQEAADiBHpKn59q8J0ny1LxtyNnA4OzZt39acQAAZm+q09klveLQVDYAAABggKwFlKw6a2RacQAAZm+qI5FeM6dZAAAAABM61lpASZbUNG5bN6/Npot2HTWl3ciKZdm6ee0QswIAWNymVERqrSkiAQAAwBBYC6hn9LO+6JVX5+ChI1m9ciRbN69dUv8NAABOtOmuiQQAAACcQPNtLaDzzr8ySbLz8vWTtBy8jRtWZdv264f2fACApWY6ayIBAAAAJ5i1gAAAGBZFJAAAAJjHtm5em5EVy46KWQsIAIATQREJAAAA5rGNG1Zl26XrcuopvV/hV68cybZL11kLCACAOWdNJAAAAJjnFspaQMNcLwkAgMEzEgkAAACYku079uSqXbfmyqtuyZonXZHtO/YMOyUAAOaQIhIAAAAwqe079mTTRbty8NCRJMnuvfuz6aJdCkkAAIuYIhIAAMAi89S8LU/N24adBovMlkuuyf4Dh4+K7T9wOFsuuWZIGQEAMNcUkQAAAIBJ7dm3f1pxAAAWPkUkAAAAYFKrzhqZVhwAgIVPEQkAAACY1NbNazOyYtlRsZEVy7J189ohZQQAwFxTRAIAAAAmtXHDqmy7dF1OPaX3VcLqlSPZdum6bNywasiZAQAwV5YPOwEAAABgYdi4YVW2bb8+SbLz8vVDzgYAgLlmJBIAAAAAAADjKCIBAAAAAAAwjiISAAAAAAAA4ygiAQAAAAAAMM7yYScAAAAATG7n5euHnUKS+ZMHAABzz0gkAAAAAAAAxlk0RaSqempVvbOqrquq1redNo0+Xj3m3rHbirn8DAAAAAAAAPPFYprO7ieTPGfYSQAAAABzx3R6AAAnzqIZiZTks0m2JHlKkr2z7Gt3a60m2A7MPk0AAAAAAID5b9GMRGqtvWP0uKruHGYuAAAAAAAAC91iGok0SGdV1der6o6q+kpVvaWqVh2r8cqVK1NVqaoTmSMAAAAAAMCcUUSa2MlJTk9vpNbZSV6U5LNVtWaYSQEAAAAAAJwoikhHuzrJ85OsSTKS5HHprbWUJPdP8msT3bR379601tJaOxE5AgAAMEXn7e5tzL3tO/bkql235sqrbsmaJ12R7Tv2DDslAABmaUGtidSNBLp+TPjK1tp5g+i/tfb+MaHPV9WFST7RnT95EM8BAACAxWT7jj3ZdNGuHDx0JEmye+/+bLpoV5Jk44Zjzg4PAMA8ZyRSn6qa6L9HO8YxAAAAkGTLJddk/4HDR8X2HzicLZdcM6SMAAAYhAVVRGqt3dBaqzHbeUlSVfeoqjOq6owc/bnu18VPGw1U1WVV1brtvL62n6qql1TV6qo6paoem+T3+q5/fM4+HAAAACxQe/btn1YcAICFYUEVkSbxqiRf67YH98Vv6GJ/MIU+HpbkD7t7Dib5fJIndtf2JHntQDIFAACARWTVWSPTigMAsDAspiLSIPxSksuTXJfkO+kVkr6U5PVJ1rXWbhxibgAAADAvbd28NiMrlh0VG1mxLFs3rx1SRgAADEK1Zpmfmaiqs5LsTZK9e/fmrLPOGnJGAAAAjHXe7t5+5+rh5rEUbN+xJy965dU5eOhIVq8cydbNa7Nxw6php7Vo7Nu3LytXrhw9Xdla2zfMfACApWH5sBMAAAAAFr6NG1Zl2/brkyQ7L18/5GwAABgE09kBAAAAAAAwjiISAAAAAAAA4ygiAQAAAAAAMI4iEgAAAAAAAOMoIgEAAAAAADCOIhIAAACL0vbbk6v2J1fuT9Zc2zsHAACmThEJAACARWf77cmmm5KD3fnuO3vnCkkAADB1ikgAAAAsOlu+luxvR8f2t14cAACYGkUkAAAAFp09d04vDgAAjKeIBAAAwKKzavn04gAAwHiKSAAAACw6W++fjNTRsZHqxQEAgKlRRAIAAGDR2XjvZNsDk1O789XLe+cb7z3UtAAAYEExkB8AAIBFaeO9k23f6B3vXD3UVAAAYEEyEgkAAAAAAIBxFJEAAAAAAAAYRxEJAAAAAACAcRSRAAAAAAAAGEcRCQAAAAAAgHEUkQAAAAAAABhn+bATAAAAABaHnZevH3YKAAAMkJFIAAAAAAAAjKOIBAAAAAAAwDiKSAAAAAAAAIyjiAQAAAAAAMA4ikgAAAAAAACMs3zYCQAAAMBc2bl62BkAAMDCZSQSAAAAAAAA4ygiAQAAAAAAMI4iEgAAAAAAAOMoIgEAAAAAADCOIhIAAAAAAADjKCIBAAAAAAAwjiISAAAAAAAA4ygiAQAAAAAAMI4iEgAAAAAAAOMoIsE8UFWpqmGnAcyQdxgWLu8vLGzeYQAAmFvLh53AAnZXAe6mm24aZh4sIvv27Rt2CsAseIdh4fL+wsLmHWYpGPPdgz8KBgBOiGqtDTuHBamqHpdk17DzAAAAAJacda21zw07CQBg8fOXKwAAAAAAAIxjJNIMVdXJSdZ2p19LcmSI6QAAAACL20lJ7t8dX9Nau2OYyQAAS4MiEgAAAAAAAOOYzg4AAAAAAIBxFJEAAAAAAAAYRxEJ5kBVPbGq3ltV11fVt6vqUFXtq6odVfUDU+xjWVX916r6p6raX1W3VdUHq+oH5zp/4G5Vda+q+kpVtW777BTv8w7DEFTVBX3v60TbI6fQh/cXhqiqnlBV76mqm7p/R/97VX20qv6fKd7vHQYAgAGxJhLMgaq6IMmfHuPynUl+qLX26Un6eGeS5xzj/me01q6YVZLAlFTVHyT5xb7Q1a21J0zhPu8wDMEk/w9Okke11r40SR/eXxiSqnpeeu/wsgkub22t/doU+vAOAwDAgBiJBHPjy0lelOQhSVYkeXSS0dELy5M893g3V9XTc/cvvh9J8qAk65N8p7v/LVV1yuDTBvpV1ZOT/EJ679507vMOwzzQWqsJtskKSN5fGJKqeniSbekVkL6S5OlJ7p3kAUmeluTjU+jDOwwAAAOkiARzoLX2ydbaW1trN7TWDrbWvpjkbX1N7pikiwv6jn+9tXZTa+1jSf5nF3tQkp8YXMbAWFV1cnpfZJ2UZNK/eh7jgr5j7zAsLBf0HXt/4cR6WZJTu+MXttY+0Fr7Zmvta621D7bW/mYKfVzQd+wdBgCAWVJEgjlWVcur6tFJnt+FvpXjT7OTJE/sO/7CMY772wCD96oka5P8ZZK/mua93mGYB7r1VO7o9u+qqrVTuM37C8PzlG5/R5Kf6NYXPVhVX6yqX6qqmkIf3mEAABggRSSYQ1V1Q3q/BH8hyROS3Jjkx1pr/zzJrWf2Hd9+jOMHDCJHYLyqelh6o49uT/JLM+jCOwzzw5npTV91ZpKfS/Lpqprsy2PvLwzPqm5/cpKLkqxJckqSRyb5/SSXTKEP7zAAAAyQIhKcWA9KckVVfd8M75/KX18Cs/fm9NYze1Vr7cYB9usdhrl3bXprmT0syUiShyf5YHdtJMlvzrBf7y/MvZP7jj+Y5PT0/hDrW13slVU10wKQdxgAAGZAEQnmUGttTe7+68nLu/D9krx2kltv7ju+T9/x9/Qd//ss0wMmUFVPSfKjSf41yWeq6pwkj+5rMlJV51TV6cfpxjsMQ9Ja+0Rr7Y9aa9e21g601r6cZFNfkydP0oX3F4bnlr7jN7fWbmutXZ3kw11sWZLJ/hjLOwwAAAOkiARzrLV2R2vtX5Js7Qs/fJLbPtN33P/l9WOO0QYYnHt1+4cn2ZXkc0n+uu/6o7vYTx+nD+8wDElVTfTv23aM44l4f2F4rp5Cm+9Oct07DAAAA6SIBHOgqn63qp5RVQ+uqlOq6qFJfrmvyXVdu/OqqnXbZX3X+49fU1VnVtX69NZzSHprK/3NHH4EYAq8wzAvfaCqfrmqHt79P/hhSd7Sd/3jifcX5qk/6zv+/6rqvlX1+CRP6WK3pfcHHt5hAAA4QZYPOwFYpDYkufAY176T5DXHu7m19v6q+vMkz0nyfye5qe/ynUk2tdYODSBPYIzW2l9lzLoJVbUmyfXd6dWttSd08fOO0Yd3GIbnrCSXdNtYtyW56Hg3e39heFprl1fVXyT5mST/Mcmt/ZeTXNhaOzBJH95hAAAYICORYG68Ockn05tv/Y4k+5P8Sxd/XGttKlNoPD/JK5Jck+RgktuT/K8k61trf328G4F5wTsMw/FrSd6e3rpm30pyKL0i8JuTnNNa+8IU+vD+wvA8J70R/F9M7/39ZpIPJXlqa+1tU+zDOwwAAANSrU02LTwAAAAAAABLjZFIAAAAAAAAjKOIBAAAAAAAwDiKSAAAAAAAAIyjiAQAAAAAAMA4ikgAAAAAAACMo4gEAAAAAADAOIpIAAAAAAAAjKOIBAAAAAAAwDiKSADAolRVl1VV67YLhp3PXKqqc/s+64/P4P7/3N17qKoeMhc5AgAAAAuPIhIAwDxSVWuq6tXddsEUb/vNbv+PrbW/ncFj35bka0lOTvLaGdwPAAAALEKKSAAA88uaJL/ebRdM1riqfjjJud3pW2bywNbagSRv706fU1VrZtIPAAAAsLgoIgEALGybun1L8hez6Ofybn9SkhfOKiMAAABgUVBEAgCWlKq6f1W9vqr+paoOVNW3qurTVfWyqlo+QfsfrKq/q6r9VfWVqrq4qn6sbw2inQPMbWeSj/aF1h/vOVW1LMkzu9NrWmv7xly/X1X9flVdV1UHq+o7VXV9Vb23qp4/prurknyzO/7ZQXweAAAAYGEb90UJAMBiVVWrknwyydl94VOTPLHbnlZVP9Vau7Nr/8QkH06yomt7dpL/luQfTljSx7cuyb26489OcP19SX6w7/yU9KbLW5PknumthZQkaa21qtqV5Lwkj6qqM1prtww+ZQAAAGChMBIJAFhK3pi7C0hXJ9mQ5MVJbu1iP5HkF/ra/27uLiB9Jr1RPxcmefgc5ffSJC/rO/98kh/utpdO0H5t3/GX+y9U1f1zdwHp80mekd7ne1GSP03y7xP019/H2gmuAwAAAEuIkUgAwJJQVacneVp3eiTJ+a21G7pry5K8ubv23CS/X1UPSPJDXawleXZf+wcm2TzoHFtr/1RV9+sL3d5a+8Rxbrl/3/FtY659O73PeVKSW5Jcm+Ta1tqhJG89Rn+39h3f/xhtAAAAgCXCSCQAYKl4WJLqjm8aLQh1ruo7fkS3f2hfbGz7v5/oAVV1YVX9Q1Xd2a1j9OoJ2oxU1R9W1de6dZZ2VtVjp/thJtNa259ke3f6Y0m+kOQ7VfXP3TpJD5noIww6DwAAAGDhUkQCAJhcm2K7xyf5RpI9x2nzhiQvSbI3vTWL1if5UFWdNoO8vtZ3fPoE1/9TetPX7Ujyr13sUUl+KcnHq+reY9rf9xh9AwAAAEuQIhIAsFR8OXcXgx5YVav7rj2p7/hfuv11fbEHVtWD+85/YKIHtNae11pbn+TTE12vqjOTvCDJHUnOa639XJLL05s67sVdsyN9t0z2b7V/7jv+3gmuH26tvbW19qzW2iOSfE+Sv+iurczdayaNeljf8RcmeTYAAACwyFkTCQBYElprt1bVFUl+Mr3izHuq6nXpjeD5zb6m7+zaf62qPpHk3K79/6yq30xvmruXzzCNRyc5OcmXWmvf6GKfTXJ+knO68/61jf5DVT0zvTWN9rTWxo5w2pXku0nukeQJEzzv36pqR5LPJbkxyb3SG4k0asXoQVVVknXd6Rdba0YiAQAAwBKniAQALCUvSfLJJGcneWJ607z1+5skb+o7f0WSj6VXbPmB9KafS5J/TPJ9M3j+md3+232x73T7B3b7L6ZX8HlQkvv05fiaJK/u76y1dkdV/VWS5yZZW1Vntdb29TV5cJL/eoxcbkzy4b7zJ6c3UilJ3jP5RwEAAAAWO9PZAQBLRjeSZ12S30lveruD6Y3k+WySC5P8VGvtzr72n0nyY0n+vmu7N8l/S/Lavm6/O40Ubu72/esfjR7f1D3zzvRGJn2qe+Zk/rjbV5KfGXPtV5J8ML01mvanN43e7iR/muSHWmvf7Gt7frc/kuStU3guAAAAsMhVa1NdJxoAYGmpqmoT/GOpqv57kou60ze01l4+5vq7kvxckte01l7dFz8zyVe70zO7Kfb+Ismzkryitfa7M8zzk+mtb/SPrbXHzuD+FekVmu6fZHtr7f+dSR4AAADA4mIkEgDAsa2sqg9V1bOq6nur6hFVdWGSl/a1eefoQVW9uKouS/KkLvTMqrqsqs5NktbazUnelt6Uwh+tqnenV0D6epK3zCLPX+7231dVPz6D+5+fXgHpjiQXzyIPAAAAYBExEgkA4Biq6uwkXzlOk99orV3c1/6yJC+YoN0LW2uXdW3umeT1SX42vansPp3k5a21zw0obQAAAICBUEQCADiGqjotyW8nOTfJ2UlGktyS3npFb2qt/e0Q0wMAAACYU4pIAAAAAAAAjGNNJAAAAAAAAMZRRAIAAAAAAGAcRSQAAAAAAADGUUQCAAAAAABgHEUkAAAAAAAAxlFEAgAAAAAAYBxFJAAAAAAAAMb5P4NhXadh6OH3AAAAAElFTkSuQmCC",
      "text/plain": [
       "<Figure size 1152x648 with 2 Axes>"
>>>>>>> Stashed changes
      ]
     },
     "metadata": {
      "needs_background": "light"
     },
     "output_type": "display_data"
    }
   ],
   "source": [
<<<<<<< Updated upstream
    "fig, *__ = lc.colorevolGRB(save=True)\n",
=======
    "fig, *__ = lc.colorevolGRB(save_plot=True, save_in_folder='colorevol/')\n",
>>>>>>> Stashed changes
    "fig.show()"
   ]
  },
  {
   "cell_type": "code",
   "execution_count": 6,
   "metadata": {},
   "outputs": [
    {
     "data": {
      "application/vnd.plotly.v1+json": {
       "config": {
        "plotlyServerURL": "https://plot.ly"
       },
       "data": [
        {
         "error_y": {
          "array": [
           0.22,
           0.1,
           0.1,
           0.09,
           0.09,
           0.08,
           0.07,
           0.08,
           0.1,
           0.09,
           0.07,
           0.1,
           0.09,
           0.07,
           0.09,
           0.07,
           0.1,
           0.23,
           0.17
          ]
         },
         "hovertemplate": "color=V<br>x=%{x}<br>y=%{y}<extra></extra>",
         "legendgroup": "V",
         "marker": {
          "color": "#636efa",
          "symbol": "circle"
         },
         "mode": "markers",
         "name": "V",
         "orientation": "v",
         "showlegend": true,
         "type": "scatter",
         "x": [
          4.837754044552202,
          4.855155577176994,
          4.856323762649089,
          4.871163665379604,
          4.881391048442588,
          4.891383113545372,
          4.901480117309991,
          4.910610746273025,
          4.933681613924727,
          4.941136008179676,
          4.951538005803519,
          4.961409702586378,
          4.971502958766578,
          4.981562755467855,
          4.991586124928311,
          5.001607731836046,
          5.0105618115415265,
          5.019119615176792,
          5.5398854915797555
         ],
         "xaxis": "x",
         "y": [
          18.68477113997102,
          18.734771139971016,
          19.04477113997102,
          19.04477113997102,
          19.11477113997102,
          18.944771139971017,
          18.874771139971017,
          18.77477113997102,
          18.804771139971017,
          18.95477113997102,
          18.81477113997102,
          19.054771139971017,
          19.074771139971016,
          18.88477113997102,
          19.014771139971018,
          19.034771139971017,
          18.97477113997102,
          18.894771139971017,
          20.904771139971015
         ],
         "yaxis": "y"
        },
        {
         "error_y": {
          "array": [
           0.16,
           0.05,
           0.03,
           0.04,
           0.04,
           0.04,
           0.04,
           0.04,
           0.04,
           0.04,
           0.04,
           0.04,
           0.03,
           0.05,
           0.03,
           0.03,
           0.04,
           0.03,
           0.04,
           0.04,
           0.04,
           0.04,
           0.03,
           0.03,
           0.03,
           0.03,
           0.03,
           0.03,
           0.03,
           0.04,
           0.07,
           0.08,
           0.12,
           0.12,
           0.09,
           0.1,
           0.14,
           0.09,
           0.58,
           0.1,
           0.1,
           0.13,
           0.11,
           0.11,
           0.58,
           0.22,
           0.6
          ]
         },
         "hovertemplate": "color=R<br>x=%{x}<br>y=%{y}<extra></extra>",
         "legendgroup": "R",
         "marker": {
          "color": "#EF553B",
          "symbol": "circle"
         },
         "mode": "markers",
         "name": "R",
         "orientation": "v",
         "showlegend": true,
         "type": "scatter",
         "x": [
          4.837917569304145,
          4.853441208591886,
          4.857332496431268,
          4.859705932899561,
          4.868632214508016,
          4.873981482122271,
          4.879067422813103,
          4.884143489863248,
          4.889160912237837,
          4.893881550910421,
          4.898977788536794,
          4.904061718697755,
          4.909086823405448,
          4.913092961119003,
          4.9338127348884075,
          4.939198055468623,
          4.943663847845578,
          4.949055715254729,
          4.954047901916091,
          4.95894211366438,
          4.963985669500171,
          4.9690116253360035,
          4.973940240419517,
          4.979049879201037,
          4.984100099553244,
          4.989092267523551,
          4.993989658305147,
          4.998907679732088,
          5.004105290780405,
          5.009057728122541,
          5.012753562253919,
          5.019047795351607,
          5.404062655683819,
          5.408450547073622,
          5.414444924534221,
          5.521364904085933,
          5.530928393792311,
          5.541311995751562,
          5.549297599198629,
          5.553985886451086,
          5.625307181764431,
          5.644288244377777,
          5.706466791707181,
          5.7205030293100885,
          5.72184357748966,
          5.9782852829812105,
          5.981836721265551
         ],
         "xaxis": "x",
         "y": [
          18.645587055712195,
          18.445587055712192,
          18.015587055712192,
          18.405587055712196,
          18.365587055712197,
          18.315587055712196,
          18.315587055712196,
          18.265587055712192,
          18.245587055712196,
          18.295587055712197,
          18.245587055712196,
          18.245587055712196,
          18.105587055712192,
          18.205587055712197,
          18.165587055712194,
          18.195587055712192,
          18.145587055712195,
          18.215587055712195,
          18.385587055712197,
          18.375587055712195,
          18.385587055712197,
          18.515587055712192,
          18.405587055712196,
          18.345587055712198,
          18.425587055712192,
          18.405587055712196,
          18.385587055712197,
          18.425587055712192,
          18.465587055712195,
          18.475587055712197,
          18.585587055712192,
          18.665587055712194,
          19.915587055712194,
          19.835587055712192,
          19.805587055712195,
          20.235587055712195,
          20.495587055712196,
          20.395587055712195,
          20.045587055712197,
          20.575587055712194,
          20.575587055712194,
          20.765587055712192,
          20.675587055712192,
          20.885587055712197,
          20.355587055712192,
          21.935587055712197,
          21.405587055712196
         ],
         "yaxis": "y"
        },
        {
         "error_y": {
          "array": [
           0.19,
           0.07,
           0.04,
           0.05,
           0.05,
           0.07,
           0.06,
           0.05,
           0.05,
           0.04,
           0.05,
           0.05,
           0.03,
           0.05,
           0.04,
           0.05,
           0.04,
           0.03,
           0.04,
           0.04,
           0.04,
           0.04,
           0.05,
           0.04,
           0.04,
           0.04,
           0.04,
           0.04,
           0.04,
           0.05,
           0.05,
           0.06,
           0.11,
           0.1,
           0.1,
           0.11,
           0.07,
           0.07,
           0.1,
           0.11,
           0.12,
           0.12,
           0.11,
           0.1,
           0.1,
           0.1,
           0.11,
           0.15
          ]
         },
         "hovertemplate": "color=I<br>x=%{x}<br>y=%{y}<extra></extra>",
         "legendgroup": "I",
         "marker": {
          "color": "#00cc96",
          "symbol": "circle"
         },
         "mode": "markers",
         "name": "I",
         "orientation": "v",
         "showlegend": true,
         "type": "scatter",
         "x": [
          4.838843048337212,
          4.852967691028819,
          4.857332496431268,
          4.859342962145542,
          4.868632214508016,
          4.870152855003818,
          4.870169721136441,
          4.87403163449624,
          4.879216111367561,
          4.8838494184276335,
          4.888918682055918,
          4.89340219712897,
          4.898977788536794,
          4.904248874262773,
          4.909086823405448,
          4.913184623103705,
          4.933594177950624,
          4.939025373763801,
          4.943962786976642,
          4.949140093432944,
          4.953881026032423,
          4.95894211366438,
          4.964067196529114,
          4.969132503329613,
          4.974019920170571,
          4.979010499912629,
          4.984100099553244,
          4.988938330620955,
          4.993913559744955,
          4.999095726707057,
          5.004142459207139,
          5.00935161714198,
          5.012899286433426,
          5.019047795351607,
          5.403396184917334,
          5.408421245418454,
          5.412063873107235,
          5.4120687160630245,
          5.414228127776852,
          5.521285823345043,
          5.530851035588274,
          5.5412688371237255,
          5.553807710053564,
          5.625413870550237,
          5.632502966629074,
          5.632505881856055,
          5.6441094645597145,
          5.72098838624141
         ],
         "xaxis": "x",
         "y": [
          17.981093925429004,
          18.08109392542901,
          18.201093925429003,
          18.021093925429003,
          18.001093925429004,
          18.13109392542901,
          18.13109392542901,
          17.931093925429003,
          17.911093925429004,
          17.831093925429006,
          17.881093925429006,
          17.811093925429006,
          17.681093925429003,
          17.811093925429006,
          17.721093925429006,
          17.781093925429005,
          17.781093925429005,
          17.791093925429003,
          17.751093925429004,
          17.811093925429006,
          17.831093925429006,
          17.971093925429006,
          17.961093925429005,
          17.981093925429004,
          17.931093925429003,
          17.941093925429005,
          18.001093925429004,
          17.981093925429004,
          17.931093925429003,
          18.021093925429003,
          18.021093925429003,
          18.201093925429003,
          18.24109392542901,
          18.141093925429004,
          19.441093925429005,
          19.351093925429005,
          19.49109392542901,
          19.49109392542901,
          19.431093925429003,
          19.74109392542901,
          19.801093925429004,
          19.951093925429003,
          20.031093925429005,
          20.021093925429003,
          20.291093925429003,
          20.291093925429003,
          20.021093925429003,
          20.461093925429005
         ],
         "yaxis": "y"
        },
        {
         "error_y": {
          "array": [
           0.07,
           0.09,
           0.13
          ]
         },
         "hovertemplate": "color=J<br>x=%{x}<br>y=%{y}<extra></extra>",
         "legendgroup": "J",
         "marker": {
          "color": "#ab63fa",
          "symbol": "circle"
         },
         "mode": "markers",
         "name": "J",
         "orientation": "v",
         "showlegend": true,
         "type": "scatter",
         "x": [
          4.870152855003818,
          5.4120687160630245,
          5.632502966629074
         ],
         "xaxis": "x",
         "y": [
          17.260715232070723,
          18.330715232070723,
          19.14071523207072
         ],
         "yaxis": "y"
        },
        {
         "error_y": {
          "array": [
           0.1,
           0.07,
           0.07,
           0.05,
           0.08,
           0.07,
           0.06,
           0.07,
           0.06,
           0.05,
           0.04,
           0.05,
           0.06,
           0.08,
           0.19,
           0.13,
           0.17
          ]
         },
         "hovertemplate": "color=B<br>x=%{x}<br>y=%{y}<extra></extra>",
         "legendgroup": "B",
         "marker": {
          "color": "#FFA15A",
          "symbol": "circle"
         },
         "mode": "markers",
         "name": "B",
         "orientation": "v",
         "showlegend": true,
         "type": "scatter",
         "x": [
          4.873730633341599,
          4.881538943721356,
          4.891334925530686,
          4.901385951116668,
          4.910518539376308,
          4.933594177950624,
          4.940835116261536,
          4.951999240633349,
          4.961491714574518,
          4.971502958766578,
          4.981484447771662,
          4.991433069602708,
          5.001607731836046,
          5.010232092825016,
          5.019047795351607,
          5.5398313651190865,
          5.634579473521969
         ],
         "xaxis": "x",
         "y": [
          19.462788029394744,
          19.472788029394746,
          19.462788029394744,
          19.282788029394744,
          19.462788029394744,
          19.502788029394747,
          19.332788029394745,
          19.432788029394747,
          19.542788029394742,
          19.492788029394745,
          19.412788029394747,
          19.522788029394743,
          19.572788029394747,
          19.642788029394744,
          19.632788029394742,
          21.642788029394744,
          21.672788029394745
         ],
         "yaxis": "y"
        },
        {
         "error_y": {
          "array": [
           0.12
          ]
         },
         "hovertemplate": "color=i'<br>x=%{x}<br>y=%{y}<extra></extra>",
         "legendgroup": "i'",
         "marker": {
          "color": "#19d3f3",
          "symbol": "circle"
         },
         "mode": "markers",
         "name": "i'",
         "orientation": "v",
         "showlegend": true,
         "type": "scatter",
         "x": [
          6.296349224818782
         ],
         "xaxis": "x",
         "y": [
          23.6257782573944
         ],
         "yaxis": "y"
        },
        {
         "error_y": {
          "array": [
           0.11
          ]
         },
         "hovertemplate": "color=r'<br>x=%{x}<br>y=%{y}<extra></extra>",
         "legendgroup": "r'",
         "marker": {
          "color": "#FF6692",
          "symbol": "circle"
         },
         "mode": "markers",
         "name": "r'",
         "orientation": "v",
         "showlegend": true,
         "type": "scatter",
         "x": [
          6.296349224818782
         ],
         "xaxis": "x",
         "y": [
          23.90942307926465
         ],
         "yaxis": "y"
        },
        {
         "error_y": {
          "array": [
           0.11
          ]
         },
         "hovertemplate": "color=g'<br>x=%{x}<br>y=%{y}<extra></extra>",
         "legendgroup": "g'",
         "marker": {
          "color": "#B6E880",
          "symbol": "circle"
         },
         "mode": "markers",
         "name": "g'",
         "orientation": "v",
         "showlegend": true,
         "type": "scatter",
         "x": [
          6.296349224818782
         ],
         "xaxis": "x",
         "y": [
          24.47178807071423
         ],
         "yaxis": "y"
        }
       ],
       "layout": {
        "font": {
         "color": "black",
         "family": "arial",
         "size": 18
        },
        "height": 540,
        "legend": {
         "title": {
          "text": "color"
         },
         "tracegroupgap": 0
        },
        "margin": {
         "b": 40,
         "l": 40,
         "r": 40,
         "t": 50
        },
        "plot_bgcolor": "white",
        "template": {
         "data": {
          "bar": [
           {
            "error_x": {
             "color": "#2a3f5f"
            },
            "error_y": {
             "color": "#2a3f5f"
            },
            "marker": {
             "line": {
              "color": "#E5ECF6",
              "width": 0.5
             },
             "pattern": {
              "fillmode": "overlay",
              "size": 10,
              "solidity": 0.2
             }
            },
            "type": "bar"
           }
          ],
          "barpolar": [
           {
            "marker": {
             "line": {
              "color": "#E5ECF6",
              "width": 0.5
             },
             "pattern": {
              "fillmode": "overlay",
              "size": 10,
              "solidity": 0.2
             }
            },
            "type": "barpolar"
           }
          ],
          "carpet": [
           {
            "aaxis": {
             "endlinecolor": "#2a3f5f",
             "gridcolor": "white",
             "linecolor": "white",
             "minorgridcolor": "white",
             "startlinecolor": "#2a3f5f"
            },
            "baxis": {
             "endlinecolor": "#2a3f5f",
             "gridcolor": "white",
             "linecolor": "white",
             "minorgridcolor": "white",
             "startlinecolor": "#2a3f5f"
            },
            "type": "carpet"
           }
          ],
          "choropleth": [
           {
            "colorbar": {
             "outlinewidth": 0,
             "ticks": ""
            },
            "type": "choropleth"
           }
          ],
          "contour": [
           {
            "colorbar": {
             "outlinewidth": 0,
             "ticks": ""
            },
            "colorscale": [
             [
              0,
              "#0d0887"
             ],
             [
              0.1111111111111111,
              "#46039f"
             ],
             [
              0.2222222222222222,
              "#7201a8"
             ],
             [
              0.3333333333333333,
              "#9c179e"
             ],
             [
              0.4444444444444444,
              "#bd3786"
             ],
             [
              0.5555555555555556,
              "#d8576b"
             ],
             [
              0.6666666666666666,
              "#ed7953"
             ],
             [
              0.7777777777777778,
              "#fb9f3a"
             ],
             [
              0.8888888888888888,
              "#fdca26"
             ],
             [
              1,
              "#f0f921"
             ]
            ],
            "type": "contour"
           }
          ],
          "contourcarpet": [
           {
            "colorbar": {
             "outlinewidth": 0,
             "ticks": ""
            },
            "type": "contourcarpet"
           }
          ],
          "heatmap": [
           {
            "colorbar": {
             "outlinewidth": 0,
             "ticks": ""
            },
            "colorscale": [
             [
              0,
              "#0d0887"
             ],
             [
              0.1111111111111111,
              "#46039f"
             ],
             [
              0.2222222222222222,
              "#7201a8"
             ],
             [
              0.3333333333333333,
              "#9c179e"
             ],
             [
              0.4444444444444444,
              "#bd3786"
             ],
             [
              0.5555555555555556,
              "#d8576b"
             ],
             [
              0.6666666666666666,
              "#ed7953"
             ],
             [
              0.7777777777777778,
              "#fb9f3a"
             ],
             [
              0.8888888888888888,
              "#fdca26"
             ],
             [
              1,
              "#f0f921"
             ]
            ],
            "type": "heatmap"
           }
          ],
          "heatmapgl": [
           {
            "colorbar": {
             "outlinewidth": 0,
             "ticks": ""
            },
            "colorscale": [
             [
              0,
              "#0d0887"
             ],
             [
              0.1111111111111111,
              "#46039f"
             ],
             [
              0.2222222222222222,
              "#7201a8"
             ],
             [
              0.3333333333333333,
              "#9c179e"
             ],
             [
              0.4444444444444444,
              "#bd3786"
             ],
             [
              0.5555555555555556,
              "#d8576b"
             ],
             [
              0.6666666666666666,
              "#ed7953"
             ],
             [
              0.7777777777777778,
              "#fb9f3a"
             ],
             [
              0.8888888888888888,
              "#fdca26"
             ],
             [
              1,
              "#f0f921"
             ]
            ],
            "type": "heatmapgl"
           }
          ],
          "histogram": [
           {
            "marker": {
             "pattern": {
              "fillmode": "overlay",
              "size": 10,
              "solidity": 0.2
             }
            },
            "type": "histogram"
           }
          ],
          "histogram2d": [
           {
            "colorbar": {
             "outlinewidth": 0,
             "ticks": ""
            },
            "colorscale": [
             [
              0,
              "#0d0887"
             ],
             [
              0.1111111111111111,
              "#46039f"
             ],
             [
              0.2222222222222222,
              "#7201a8"
             ],
             [
              0.3333333333333333,
              "#9c179e"
             ],
             [
              0.4444444444444444,
              "#bd3786"
             ],
             [
              0.5555555555555556,
              "#d8576b"
             ],
             [
              0.6666666666666666,
              "#ed7953"
             ],
             [
              0.7777777777777778,
              "#fb9f3a"
             ],
             [
              0.8888888888888888,
              "#fdca26"
             ],
             [
              1,
              "#f0f921"
             ]
            ],
            "type": "histogram2d"
           }
          ],
          "histogram2dcontour": [
           {
            "colorbar": {
             "outlinewidth": 0,
             "ticks": ""
            },
            "colorscale": [
             [
              0,
              "#0d0887"
             ],
             [
              0.1111111111111111,
              "#46039f"
             ],
             [
              0.2222222222222222,
              "#7201a8"
             ],
             [
              0.3333333333333333,
              "#9c179e"
             ],
             [
              0.4444444444444444,
              "#bd3786"
             ],
             [
              0.5555555555555556,
              "#d8576b"
             ],
             [
              0.6666666666666666,
              "#ed7953"
             ],
             [
              0.7777777777777778,
              "#fb9f3a"
             ],
             [
              0.8888888888888888,
              "#fdca26"
             ],
             [
              1,
              "#f0f921"
             ]
            ],
            "type": "histogram2dcontour"
           }
          ],
          "mesh3d": [
           {
            "colorbar": {
             "outlinewidth": 0,
             "ticks": ""
            },
            "type": "mesh3d"
           }
          ],
          "parcoords": [
           {
            "line": {
             "colorbar": {
              "outlinewidth": 0,
              "ticks": ""
             }
            },
            "type": "parcoords"
           }
          ],
          "pie": [
           {
            "automargin": true,
            "type": "pie"
           }
          ],
          "scatter": [
           {
            "fillpattern": {
             "fillmode": "overlay",
             "size": 10,
             "solidity": 0.2
            },
            "type": "scatter"
           }
          ],
          "scatter3d": [
           {
            "line": {
             "colorbar": {
              "outlinewidth": 0,
              "ticks": ""
             }
            },
            "marker": {
             "colorbar": {
              "outlinewidth": 0,
              "ticks": ""
             }
            },
            "type": "scatter3d"
           }
          ],
          "scattercarpet": [
           {
            "marker": {
             "colorbar": {
              "outlinewidth": 0,
              "ticks": ""
             }
            },
            "type": "scattercarpet"
           }
          ],
          "scattergeo": [
           {
            "marker": {
             "colorbar": {
              "outlinewidth": 0,
              "ticks": ""
             }
            },
            "type": "scattergeo"
           }
          ],
          "scattergl": [
           {
            "marker": {
             "colorbar": {
              "outlinewidth": 0,
              "ticks": ""
             }
            },
            "type": "scattergl"
           }
          ],
          "scattermapbox": [
           {
            "marker": {
             "colorbar": {
              "outlinewidth": 0,
              "ticks": ""
             }
            },
            "type": "scattermapbox"
           }
          ],
          "scatterpolar": [
           {
            "marker": {
             "colorbar": {
              "outlinewidth": 0,
              "ticks": ""
             }
            },
            "type": "scatterpolar"
           }
          ],
          "scatterpolargl": [
           {
            "marker": {
             "colorbar": {
              "outlinewidth": 0,
              "ticks": ""
             }
            },
            "type": "scatterpolargl"
           }
          ],
          "scatterternary": [
           {
            "marker": {
             "colorbar": {
              "outlinewidth": 0,
              "ticks": ""
             }
            },
            "type": "scatterternary"
           }
          ],
          "surface": [
           {
            "colorbar": {
             "outlinewidth": 0,
             "ticks": ""
            },
            "colorscale": [
             [
              0,
              "#0d0887"
             ],
             [
              0.1111111111111111,
              "#46039f"
             ],
             [
              0.2222222222222222,
              "#7201a8"
             ],
             [
              0.3333333333333333,
              "#9c179e"
             ],
             [
              0.4444444444444444,
              "#bd3786"
             ],
             [
              0.5555555555555556,
              "#d8576b"
             ],
             [
              0.6666666666666666,
              "#ed7953"
             ],
             [
              0.7777777777777778,
              "#fb9f3a"
             ],
             [
              0.8888888888888888,
              "#fdca26"
             ],
             [
              1,
              "#f0f921"
             ]
            ],
            "type": "surface"
           }
          ],
          "table": [
           {
            "cells": {
             "fill": {
              "color": "#EBF0F8"
             },
             "line": {
              "color": "white"
             }
            },
            "header": {
             "fill": {
              "color": "#C8D4E3"
             },
             "line": {
              "color": "white"
             }
            },
            "type": "table"
           }
          ]
         },
         "layout": {
          "annotationdefaults": {
           "arrowcolor": "#2a3f5f",
           "arrowhead": 0,
           "arrowwidth": 1
          },
          "autotypenumbers": "strict",
          "coloraxis": {
           "colorbar": {
            "outlinewidth": 0,
            "ticks": ""
           }
          },
          "colorscale": {
           "diverging": [
            [
             0,
             "#8e0152"
            ],
            [
             0.1,
             "#c51b7d"
            ],
            [
             0.2,
             "#de77ae"
            ],
            [
             0.3,
             "#f1b6da"
            ],
            [
             0.4,
             "#fde0ef"
            ],
            [
             0.5,
             "#f7f7f7"
            ],
            [
             0.6,
             "#e6f5d0"
            ],
            [
             0.7,
             "#b8e186"
            ],
            [
             0.8,
             "#7fbc41"
            ],
            [
             0.9,
             "#4d9221"
            ],
            [
             1,
             "#276419"
            ]
           ],
           "sequential": [
            [
             0,
             "#0d0887"
            ],
            [
             0.1111111111111111,
             "#46039f"
            ],
            [
             0.2222222222222222,
             "#7201a8"
            ],
            [
             0.3333333333333333,
             "#9c179e"
            ],
            [
             0.4444444444444444,
             "#bd3786"
            ],
            [
             0.5555555555555556,
             "#d8576b"
            ],
            [
             0.6666666666666666,
             "#ed7953"
            ],
            [
             0.7777777777777778,
             "#fb9f3a"
            ],
            [
             0.8888888888888888,
             "#fdca26"
            ],
            [
             1,
             "#f0f921"
            ]
           ],
           "sequentialminus": [
            [
             0,
             "#0d0887"
            ],
            [
             0.1111111111111111,
             "#46039f"
            ],
            [
             0.2222222222222222,
             "#7201a8"
            ],
            [
             0.3333333333333333,
             "#9c179e"
            ],
            [
             0.4444444444444444,
             "#bd3786"
            ],
            [
             0.5555555555555556,
             "#d8576b"
            ],
            [
             0.6666666666666666,
             "#ed7953"
            ],
            [
             0.7777777777777778,
             "#fb9f3a"
            ],
            [
             0.8888888888888888,
             "#fdca26"
            ],
            [
             1,
             "#f0f921"
            ]
           ]
          },
          "colorway": [
           "#636efa",
           "#EF553B",
           "#00cc96",
           "#ab63fa",
           "#FFA15A",
           "#19d3f3",
           "#FF6692",
           "#B6E880",
           "#FF97FF",
           "#FECB52"
          ],
          "font": {
           "color": "#2a3f5f"
          },
          "geo": {
           "bgcolor": "white",
           "lakecolor": "white",
           "landcolor": "#E5ECF6",
           "showlakes": true,
           "showland": true,
           "subunitcolor": "white"
          },
          "hoverlabel": {
           "align": "left"
          },
          "hovermode": "closest",
          "mapbox": {
           "style": "light"
          },
          "paper_bgcolor": "white",
          "plot_bgcolor": "#E5ECF6",
          "polar": {
           "angularaxis": {
            "gridcolor": "white",
            "linecolor": "white",
            "ticks": ""
           },
           "bgcolor": "#E5ECF6",
           "radialaxis": {
            "gridcolor": "white",
            "linecolor": "white",
            "ticks": ""
           }
          },
          "scene": {
           "xaxis": {
            "backgroundcolor": "#E5ECF6",
            "gridcolor": "white",
            "gridwidth": 2,
            "linecolor": "white",
            "showbackground": true,
            "ticks": "",
            "zerolinecolor": "white"
           },
           "yaxis": {
            "backgroundcolor": "#E5ECF6",
            "gridcolor": "white",
            "gridwidth": 2,
            "linecolor": "white",
            "showbackground": true,
            "ticks": "",
            "zerolinecolor": "white"
           },
           "zaxis": {
            "backgroundcolor": "#E5ECF6",
            "gridcolor": "white",
            "gridwidth": 2,
            "linecolor": "white",
            "showbackground": true,
            "ticks": "",
            "zerolinecolor": "white"
           }
          },
          "shapedefaults": {
           "line": {
            "color": "#2a3f5f"
           }
          },
          "ternary": {
           "aaxis": {
            "gridcolor": "white",
            "linecolor": "white",
            "ticks": ""
           },
           "baxis": {
            "gridcolor": "white",
            "linecolor": "white",
            "ticks": ""
           },
           "bgcolor": "#E5ECF6",
           "caxis": {
            "gridcolor": "white",
            "linecolor": "white",
            "ticks": ""
           }
          },
          "title": {
           "x": 0.05
          },
          "xaxis": {
           "automargin": true,
           "gridcolor": "white",
           "linecolor": "white",
           "ticks": "",
           "title": {
            "standoff": 15
           },
           "zerolinecolor": "white",
           "zerolinewidth": 2
          },
          "yaxis": {
           "automargin": true,
           "gridcolor": "white",
           "linecolor": "white",
           "ticks": "",
           "title": {
            "standoff": 15
           },
           "zerolinecolor": "white",
           "zerolinewidth": 2
          }
         }
        },
        "title": {
         "font": {
          "size": 25
         },
         "text": "GRB 090926A"
        },
        "width": 960,
        "xaxis": {
         "anchor": "y",
         "domain": [
          0,
          1
         ],
         "linecolor": "black",
         "linewidth": 2.4,
         "mirror": "allticks",
         "showgrid": false,
         "showline": true,
         "showticklabels": true,
         "tickcolor": "black",
         "tickfont": {
          "color": "black",
          "family": "arial",
          "size": 18
         },
         "ticks": "outside",
         "tickwidth": 2.4,
         "title": {
          "font": {
           "color": "black",
           "size": 18
          },
          "text": "<b>log10 Time (s)<b>"
         }
        },
        "yaxis": {
         "anchor": "x",
         "autorange": "reversed",
         "domain": [
          0,
          1
         ],
         "linecolor": "black",
         "linewidth": 2.4,
         "mirror": "allticks",
         "showgrid": false,
         "showline": true,
         "showticklabels": true,
         "tickcolor": "black",
         "tickfont": {
          "color": "black",
          "family": "arial",
          "size": 18
         },
         "ticks": "outside",
         "tickwidth": 2.4,
         "title": {
          "font": {
           "color": "black",
           "size": 18
          },
          "text": "<b>Magnitude<b>"
         }
        }
       }
      }
     },
     "metadata": {},
     "output_type": "display_data"
    },
    {
     "data": {
      "application/vnd.plotly.v1+json": {
       "config": {
        "plotlyServerURL": "https://plot.ly"
       },
       "data": [
        {
         "error_y": {
          "array": [
           0.2906888370749727,
           0.1077032961426901,
           0.1077032961426901,
           0.10816653826391967,
           0.10295630140987,
           0.09433981132056604,
           0.07615773105863909,
           0.08944271909999159,
           0.1077032961426901,
           0.09486832980505137,
           0.0806225774829855,
           0.1077032961426901,
           0.09848857801796104,
           0.0806225774829855,
           0.09848857801796104,
           0.08602325267042628,
           0.11661903789690602,
           0.25079872407968906,
           0.20808652046684814
          ]
         },
         "hovertemplate": "color=V<br>x=%{x}<br>y=%{y}<extra></extra>",
         "legendgroup": "V",
         "marker": {
          "color": "#636efa",
          "symbol": "circle"
         },
         "mode": "markers",
         "name": "V",
         "orientation": "h",
         "showlegend": true,
         "type": "scatter",
         "x": [
          0.6846437846936861,
          0.6862031508716095,
          0.686307632689274,
          0.6876327216015672,
          0.68854360039941,
          0.6894316799103395,
          0.6903272452765152,
          0.6911355098909897,
          0.6931711196618006,
          0.6938268083093685,
          0.694740116850075,
          0.6956050916251151,
          0.6964877022191367,
          0.6973656057334058,
          0.6982385688395705,
          0.6991096277024834,
          0.6998864240654503,
          0.7006275458697867,
          0.7435007880336646
         ],
         "xaxis": "x",
         "y": [
          17.981093925429004,
          18.201093925429003,
          18.201093925429003,
          18.13109392542901,
          17.911093925429004,
          17.811093925429006,
          17.681093925429003,
          17.721093925429006,
          17.781093925429005,
          17.791093925429003,
          17.831093925429006,
          17.971093925429006,
          17.981093925429004,
          18.001093925429004,
          17.931093925429003,
          18.021093925429003,
          18.201093925429003,
          18.141093925429004,
          19.951093925429003
         ],
         "yaxis": "y"
        },
        {
         "error_y": {
          "array": [
           0.24839484696748443,
           0.08602325267042628,
           0.05,
           0.06403124237432849,
           0.06403124237432849,
           0.06403124237432849,
           0.06403124237432849,
           0.0565685424949238,
           0.06403124237432849,
           0.06403124237432849,
           0.05,
           0.06403124237432849,
           0.05,
           0.07071067811865477,
           0.05,
           0.042426406871192854,
           0.0565685424949238,
           0.05,
           0.0565685424949238,
           0.0565685424949238,
           0.06403124237432849,
           0.0565685424949238,
           0.05,
           0.05,
           0.05,
           0.05,
           0.05,
           0.05830951894845301,
           0.05830951894845301,
           0.07211102550927978,
           0.130384048104053,
           0.12806248474865697,
           0.1562049935181331,
           0.16278820596099705,
           0.13453624047073712,
           0.14866068747318506,
           0.18439088914585774,
           0.15,
           0.58,
           0.14866068747318506,
           0.14142135623730953,
           0.17029386365926402,
           0.11,
           0.18601075237738274,
           0.58,
           0.22,
           0.6
          ]
         },
         "hovertemplate": "color=R<br>x=%{x}<br>y=%{y}<extra></extra>",
         "legendgroup": "R",
         "marker": {
          "color": "#EF553B",
          "symbol": "circle"
         },
         "mode": "markers",
         "name": "R",
         "orientation": "h",
         "showlegend": true,
         "type": "scatter",
         "x": [
          0.684658464376971,
          0.6860497732330839,
          0.6863978330227426,
          0.6866099903357599,
          0.6874069683757186,
          0.6878838748225685,
          0.6883368195784207,
          0.6887884144744039,
          0.68923433101449,
          0.6896534536940455,
          0.6901054704141234,
          0.6905559272365407,
          0.6910007132146457,
          0.6913549815415114,
          0.6931826616214872,
          0.693656441159033,
          0.6940489325522382,
          0.6945223430193771,
          0.694960201571024,
          0.6953890387482855,
          0.6958305190664218,
          0.6962700128077929,
          0.6967005631188886,
          0.6971464769790682,
          0.6975867560120811,
          0.6980215357904141,
          0.6984476386669792,
          0.698875116237857,
          0.6993264390557252,
          0.6997560368523414,
          0.7000763542870932,
          0.7006213313980622,
          0.7327203756682752,
          0.7330728630292909,
          0.7335539404501369,
          0.7420464503812246,
          0.7427980359086567,
          0.7436126031861982,
          0.7442380158979847,
          0.7446047718052721,
          0.7501462429972086,
          0.7516091843428013,
          0.7563672942700407,
          0.7574342199203178,
          0.75753598098381,
          0.7765766356728677,
          0.7768345544624073
         ],
         "xaxis": "x",
         "y": [
          17.981093925429004,
          18.08109392542901,
          18.201093925429003,
          18.021093925429003,
          18.001093925429004,
          17.931093925429003,
          17.911093925429004,
          17.831093925429006,
          17.881093925429006,
          17.811093925429006,
          17.681093925429003,
          17.811093925429006,
          17.721093925429006,
          17.781093925429005,
          17.781093925429005,
          17.791093925429003,
          17.751093925429004,
          17.811093925429006,
          17.831093925429006,
          17.971093925429006,
          17.961093925429005,
          17.981093925429004,
          17.931093925429003,
          17.941093925429005,
          18.001093925429004,
          17.981093925429004,
          17.931093925429003,
          18.021093925429003,
          18.021093925429003,
          18.201093925429003,
          18.24109392542901,
          18.141093925429004,
          19.441093925429005,
          19.351093925429005,
          19.431093925429003,
          19.74109392542901,
          19.801093925429004,
          19.951093925429003,
          20.045587055712197,
          20.031093925429005,
          20.021093925429003,
          20.021093925429003,
          20.675587055712192,
          20.461093925429005,
          20.355587055712192,
          21.935587055712197,
          21.405587055712196
         ],
         "yaxis": "y"
        },
        {
         "error_y": {
          "array": [
           0.19,
           0.07,
           0.04,
           0.05,
           0.05,
           0.07,
           0.06,
           0.05,
           0.05,
           0.04,
           0.05,
           0.05,
           0.03,
           0.05,
           0.04,
           0.05,
           0.04,
           0.03,
           0.04,
           0.04,
           0.04,
           0.04,
           0.05,
           0.04,
           0.04,
           0.04,
           0.04,
           0.04,
           0.04,
           0.05,
           0.05,
           0.06,
           0.11,
           0.1,
           0.1,
           0.11,
           0.07,
           0.07,
           0.1,
           0.11,
           0.12,
           0.12,
           0.11,
           0.1,
           0.1,
           0.1,
           0.11,
           0.15
          ]
         },
         "hovertemplate": "color=I<br>x=%{x}<br>y=%{y}<extra></extra>",
         "legendgroup": "I",
         "marker": {
          "color": "#00cc96",
          "symbol": "circle"
         },
         "mode": "markers",
         "name": "I",
         "orientation": "h",
         "showlegend": true,
         "type": "scatter",
         "x": [
          0.684741535655529,
          0.6860073999790794,
          0.6863978330227426,
          0.6865775517304317,
          0.6874069683757186,
          0.6875425922296057,
          0.6875440962595333,
          0.6878883436100042,
          0.6883500544098339,
          0.6887622650692987,
          0.689212813654079,
          0.6896109126361403,
          0.6901054704141234,
          0.6905725010651087,
          0.6910007132146457,
          0.6913630839574703,
          0.693163422915125,
          0.6936412573130561,
          0.6940751931747072,
          0.6945297473944574,
          0.6949455722219494,
          0.6953890387482855,
          0.6958376517316633,
          0.6962805774856504,
          0.6967075202187653,
          0.697143042131918,
          0.6975867560120811,
          0.6980081355614398,
          0.698441020824565,
          0.6988914530523703,
          0.6993296648037352,
          0.6997815168212811,
          0.7000889793416407,
          0.7006213313980622,
          0.7326668118137428,
          0.7330705101222038,
          0.7333629134936418,
          0.7333633021195124,
          0.7335365507598253,
          0.7420402300759298,
          0.7427919616162956,
          0.7436092206610988,
          0.7445908390605585,
          0.750154479687238,
          0.7507014291380428,
          0.7507016539167374,
          0.7515954280789863,
          0.7574710661372134
         ],
         "xaxis": "x",
         "y": [
          17.981093925429004,
          18.08109392542901,
          18.201093925429003,
          18.021093925429003,
          18.001093925429004,
          18.13109392542901,
          18.13109392542901,
          17.931093925429003,
          17.911093925429004,
          17.831093925429006,
          17.881093925429006,
          17.811093925429006,
          17.681093925429003,
          17.811093925429006,
          17.721093925429006,
          17.781093925429005,
          17.781093925429005,
          17.791093925429003,
          17.751093925429004,
          17.811093925429006,
          17.831093925429006,
          17.971093925429006,
          17.961093925429005,
          17.981093925429004,
          17.931093925429003,
          17.941093925429005,
          18.001093925429004,
          17.981093925429004,
          17.931093925429003,
          18.021093925429003,
          18.021093925429003,
          18.201093925429003,
          18.24109392542901,
          18.141093925429004,
          19.441093925429005,
          19.351093925429005,
          19.49109392542901,
          19.49109392542901,
          19.431093925429003,
          19.74109392542901,
          19.801093925429004,
          19.951093925429003,
          20.031093925429005,
          20.021093925429003,
          20.291093925429003,
          20.291093925429003,
          20.021093925429003,
          20.461093925429005
         ],
         "yaxis": "y"
        },
        {
         "error_y": {
          "array": [
           0.07,
           0.09,
           0.13
          ]
         },
         "hovertemplate": "color=J<br>x=%{x}<br>y=%{y}<extra></extra>",
         "legendgroup": "J",
         "marker": {
          "color": "#ab63fa",
          "symbol": "circle"
         },
         "mode": "markers",
         "name": "J",
         "orientation": "h",
         "showlegend": true,
         "type": "scatter",
         "x": [
          0.6875425922296057,
          0.7333633021195124,
          0.7507014291380428
         ],
         "xaxis": "x",
         "y": [
          17.260715232070723,
          18.330715232070723,
          19.14071523207072
         ],
         "yaxis": "y"
        },
        {
         "error_y": {
          "array": [
           0.1118033988749895,
           0.0806225774829855,
           0.08602325267042628,
           0.05830951894845301,
           0.08944271909999159,
           0.0806225774829855,
           0.0670820393249937,
           0.0806225774829855,
           0.07211102550927978,
           0.06403124237432849,
           0.0565685424949238,
           0.06403124237432849,
           0.07810249675906655,
           0.1,
           0.21470910553583888,
           0.17691806012954134,
           0.1972308292331602
          ]
         },
         "hovertemplate": "color=B<br>x=%{x}<br>y=%{y}<extra></extra>",
         "legendgroup": "B",
         "marker": {
          "color": "#FFA15A",
          "symbol": "circle"
         },
         "mode": "markers",
         "name": "B",
         "orientation": "h",
         "showlegend": true,
         "type": "scatter",
         "x": [
          0.6878615224510639,
          0.6885567583557868,
          0.6894274013879926,
          0.6903189016231678,
          0.6911273550352142,
          0.693163422915125,
          0.6938003610149791,
          0.6947805694149752,
          0.695612270443568,
          0.6964877022191367,
          0.6973587787858557,
          0.6982252520098529,
          0.6991096277024834,
          0.6998578444897045,
          0.7006213313980622,
          0.7434965448163517,
          0.7508615088215312
         ],
         "xaxis": "x",
         "y": [
          17.931093925429003,
          17.831093925429006,
          17.811093925429006,
          17.681093925429003,
          17.721093925429006,
          17.781093925429005,
          17.791093925429003,
          17.831093925429006,
          17.971093925429006,
          17.981093925429004,
          17.941093925429005,
          17.931093925429003,
          18.021093925429003,
          18.201093925429003,
          18.141093925429004,
          19.951093925429003,
          20.291093925429003
         ],
         "yaxis": "y"
        },
        {
         "error_y": {
          "array": [
           0.12
          ]
         },
         "hovertemplate": "color=i<br>x=%{x}<br>y=%{y}<extra></extra>",
         "legendgroup": "i",
         "marker": {
          "color": "#19d3f3",
          "symbol": "circle"
         },
         "mode": "markers",
         "name": "i",
         "orientation": "h",
         "showlegend": true,
         "type": "scatter",
         "x": [
          0.799088808011364
         ],
         "xaxis": "x",
         "y": [
          23.6257782573944
         ],
         "yaxis": "y"
        },
        {
         "error_y": {
          "array": [
           0.11
          ]
         },
         "hovertemplate": "color=r<br>x=%{x}<br>y=%{y}<extra></extra>",
         "legendgroup": "r",
         "marker": {
          "color": "#FF6692",
          "symbol": "circle"
         },
         "mode": "markers",
         "name": "r",
         "orientation": "h",
         "showlegend": true,
         "type": "scatter",
         "x": [
          0.799088808011364
         ],
         "xaxis": "x",
         "y": [
          23.90942307926465
         ],
         "yaxis": "y"
        },
        {
         "error_y": {
          "array": [
           0.11
          ]
         },
         "hovertemplate": "color=g<br>x=%{x}<br>y=%{y}<extra></extra>",
         "legendgroup": "g",
         "marker": {
          "color": "#B6E880",
          "symbol": "circle"
         },
         "mode": "markers",
         "name": "g",
         "orientation": "h",
         "showlegend": true,
         "type": "scatter",
         "x": [
          0.799088808011364
         ],
         "xaxis": "x",
         "y": [
          24.47178807071423
         ],
         "yaxis": "y"
        }
       ],
       "layout": {
        "font": {
         "color": "black",
         "family": "arial",
         "size": 18
        },
        "height": 540,
        "legend": {
         "title": {
          "text": "color"
         },
         "tracegroupgap": 0
        },
        "margin": {
         "b": 40,
         "l": 40,
         "r": 40,
         "t": 50
        },
        "plot_bgcolor": "white",
        "template": {
         "data": {
          "bar": [
           {
            "error_x": {
             "color": "#2a3f5f"
            },
            "error_y": {
             "color": "#2a3f5f"
            },
            "marker": {
             "line": {
              "color": "#E5ECF6",
              "width": 0.5
             },
             "pattern": {
              "fillmode": "overlay",
              "size": 10,
              "solidity": 0.2
             }
            },
            "type": "bar"
           }
          ],
          "barpolar": [
           {
            "marker": {
             "line": {
              "color": "#E5ECF6",
              "width": 0.5
             },
             "pattern": {
              "fillmode": "overlay",
              "size": 10,
              "solidity": 0.2
             }
            },
            "type": "barpolar"
           }
          ],
          "carpet": [
           {
            "aaxis": {
             "endlinecolor": "#2a3f5f",
             "gridcolor": "white",
             "linecolor": "white",
             "minorgridcolor": "white",
             "startlinecolor": "#2a3f5f"
            },
            "baxis": {
             "endlinecolor": "#2a3f5f",
             "gridcolor": "white",
             "linecolor": "white",
             "minorgridcolor": "white",
             "startlinecolor": "#2a3f5f"
            },
            "type": "carpet"
           }
          ],
          "choropleth": [
           {
            "colorbar": {
             "outlinewidth": 0,
             "ticks": ""
            },
            "type": "choropleth"
           }
          ],
          "contour": [
           {
            "colorbar": {
             "outlinewidth": 0,
             "ticks": ""
            },
            "colorscale": [
             [
              0,
              "#0d0887"
             ],
             [
              0.1111111111111111,
              "#46039f"
             ],
             [
              0.2222222222222222,
              "#7201a8"
             ],
             [
              0.3333333333333333,
              "#9c179e"
             ],
             [
              0.4444444444444444,
              "#bd3786"
             ],
             [
              0.5555555555555556,
              "#d8576b"
             ],
             [
              0.6666666666666666,
              "#ed7953"
             ],
             [
              0.7777777777777778,
              "#fb9f3a"
             ],
             [
              0.8888888888888888,
              "#fdca26"
             ],
             [
              1,
              "#f0f921"
             ]
            ],
            "type": "contour"
           }
          ],
          "contourcarpet": [
           {
            "colorbar": {
             "outlinewidth": 0,
             "ticks": ""
            },
            "type": "contourcarpet"
           }
          ],
          "heatmap": [
           {
            "colorbar": {
             "outlinewidth": 0,
             "ticks": ""
            },
            "colorscale": [
             [
              0,
              "#0d0887"
             ],
             [
              0.1111111111111111,
              "#46039f"
             ],
             [
              0.2222222222222222,
              "#7201a8"
             ],
             [
              0.3333333333333333,
              "#9c179e"
             ],
             [
              0.4444444444444444,
              "#bd3786"
             ],
             [
              0.5555555555555556,
              "#d8576b"
             ],
             [
              0.6666666666666666,
              "#ed7953"
             ],
             [
              0.7777777777777778,
              "#fb9f3a"
             ],
             [
              0.8888888888888888,
              "#fdca26"
             ],
             [
              1,
              "#f0f921"
             ]
            ],
            "type": "heatmap"
           }
          ],
          "heatmapgl": [
           {
            "colorbar": {
             "outlinewidth": 0,
             "ticks": ""
            },
            "colorscale": [
             [
              0,
              "#0d0887"
             ],
             [
              0.1111111111111111,
              "#46039f"
             ],
             [
              0.2222222222222222,
              "#7201a8"
             ],
             [
              0.3333333333333333,
              "#9c179e"
             ],
             [
              0.4444444444444444,
              "#bd3786"
             ],
             [
              0.5555555555555556,
              "#d8576b"
             ],
             [
              0.6666666666666666,
              "#ed7953"
             ],
             [
              0.7777777777777778,
              "#fb9f3a"
             ],
             [
              0.8888888888888888,
              "#fdca26"
             ],
             [
              1,
              "#f0f921"
             ]
            ],
            "type": "heatmapgl"
           }
          ],
          "histogram": [
           {
            "marker": {
             "pattern": {
              "fillmode": "overlay",
              "size": 10,
              "solidity": 0.2
             }
            },
            "type": "histogram"
           }
          ],
          "histogram2d": [
           {
            "colorbar": {
             "outlinewidth": 0,
             "ticks": ""
            },
            "colorscale": [
             [
              0,
              "#0d0887"
             ],
             [
              0.1111111111111111,
              "#46039f"
             ],
             [
              0.2222222222222222,
              "#7201a8"
             ],
             [
              0.3333333333333333,
              "#9c179e"
             ],
             [
              0.4444444444444444,
              "#bd3786"
             ],
             [
              0.5555555555555556,
              "#d8576b"
             ],
             [
              0.6666666666666666,
              "#ed7953"
             ],
             [
              0.7777777777777778,
              "#fb9f3a"
             ],
             [
              0.8888888888888888,
              "#fdca26"
             ],
             [
              1,
              "#f0f921"
             ]
            ],
            "type": "histogram2d"
           }
          ],
          "histogram2dcontour": [
           {
            "colorbar": {
             "outlinewidth": 0,
             "ticks": ""
            },
            "colorscale": [
             [
              0,
              "#0d0887"
             ],
             [
              0.1111111111111111,
              "#46039f"
             ],
             [
              0.2222222222222222,
              "#7201a8"
             ],
             [
              0.3333333333333333,
              "#9c179e"
             ],
             [
              0.4444444444444444,
              "#bd3786"
             ],
             [
              0.5555555555555556,
              "#d8576b"
             ],
             [
              0.6666666666666666,
              "#ed7953"
             ],
             [
              0.7777777777777778,
              "#fb9f3a"
             ],
             [
              0.8888888888888888,
              "#fdca26"
             ],
             [
              1,
              "#f0f921"
             ]
            ],
            "type": "histogram2dcontour"
           }
          ],
          "mesh3d": [
           {
            "colorbar": {
             "outlinewidth": 0,
             "ticks": ""
            },
            "type": "mesh3d"
           }
          ],
          "parcoords": [
           {
            "line": {
             "colorbar": {
              "outlinewidth": 0,
              "ticks": ""
             }
            },
            "type": "parcoords"
           }
          ],
          "pie": [
           {
            "automargin": true,
            "type": "pie"
           }
          ],
          "scatter": [
           {
            "fillpattern": {
             "fillmode": "overlay",
             "size": 10,
             "solidity": 0.2
            },
            "type": "scatter"
           }
          ],
          "scatter3d": [
           {
            "line": {
             "colorbar": {
              "outlinewidth": 0,
              "ticks": ""
             }
            },
            "marker": {
             "colorbar": {
              "outlinewidth": 0,
              "ticks": ""
             }
            },
            "type": "scatter3d"
           }
          ],
          "scattercarpet": [
           {
            "marker": {
             "colorbar": {
              "outlinewidth": 0,
              "ticks": ""
             }
            },
            "type": "scattercarpet"
           }
          ],
          "scattergeo": [
           {
            "marker": {
             "colorbar": {
              "outlinewidth": 0,
              "ticks": ""
             }
            },
            "type": "scattergeo"
           }
          ],
          "scattergl": [
           {
            "marker": {
             "colorbar": {
              "outlinewidth": 0,
              "ticks": ""
             }
            },
            "type": "scattergl"
           }
          ],
          "scattermapbox": [
           {
            "marker": {
             "colorbar": {
              "outlinewidth": 0,
              "ticks": ""
             }
            },
            "type": "scattermapbox"
           }
          ],
          "scatterpolar": [
           {
            "marker": {
             "colorbar": {
              "outlinewidth": 0,
              "ticks": ""
             }
            },
            "type": "scatterpolar"
           }
          ],
          "scatterpolargl": [
           {
            "marker": {
             "colorbar": {
              "outlinewidth": 0,
              "ticks": ""
             }
            },
            "type": "scatterpolargl"
           }
          ],
          "scatterternary": [
           {
            "marker": {
             "colorbar": {
              "outlinewidth": 0,
              "ticks": ""
             }
            },
            "type": "scatterternary"
           }
          ],
          "surface": [
           {
            "colorbar": {
             "outlinewidth": 0,
             "ticks": ""
            },
            "colorscale": [
             [
              0,
              "#0d0887"
             ],
             [
              0.1111111111111111,
              "#46039f"
             ],
             [
              0.2222222222222222,
              "#7201a8"
             ],
             [
              0.3333333333333333,
              "#9c179e"
             ],
             [
              0.4444444444444444,
              "#bd3786"
             ],
             [
              0.5555555555555556,
              "#d8576b"
             ],
             [
              0.6666666666666666,
              "#ed7953"
             ],
             [
              0.7777777777777778,
              "#fb9f3a"
             ],
             [
              0.8888888888888888,
              "#fdca26"
             ],
             [
              1,
              "#f0f921"
             ]
            ],
            "type": "surface"
           }
          ],
          "table": [
           {
            "cells": {
             "fill": {
              "color": "#EBF0F8"
             },
             "line": {
              "color": "white"
             }
            },
            "header": {
             "fill": {
              "color": "#C8D4E3"
             },
             "line": {
              "color": "white"
             }
            },
            "type": "table"
           }
          ]
         },
         "layout": {
          "annotationdefaults": {
           "arrowcolor": "#2a3f5f",
           "arrowhead": 0,
           "arrowwidth": 1
          },
          "autotypenumbers": "strict",
          "coloraxis": {
           "colorbar": {
            "outlinewidth": 0,
            "ticks": ""
           }
          },
          "colorscale": {
           "diverging": [
            [
             0,
             "#8e0152"
            ],
            [
             0.1,
             "#c51b7d"
            ],
            [
             0.2,
             "#de77ae"
            ],
            [
             0.3,
             "#f1b6da"
            ],
            [
             0.4,
             "#fde0ef"
            ],
            [
             0.5,
             "#f7f7f7"
            ],
            [
             0.6,
             "#e6f5d0"
            ],
            [
             0.7,
             "#b8e186"
            ],
            [
             0.8,
             "#7fbc41"
            ],
            [
             0.9,
             "#4d9221"
            ],
            [
             1,
             "#276419"
            ]
           ],
           "sequential": [
            [
             0,
             "#0d0887"
            ],
            [
             0.1111111111111111,
             "#46039f"
            ],
            [
             0.2222222222222222,
             "#7201a8"
            ],
            [
             0.3333333333333333,
             "#9c179e"
            ],
            [
             0.4444444444444444,
             "#bd3786"
            ],
            [
             0.5555555555555556,
             "#d8576b"
            ],
            [
             0.6666666666666666,
             "#ed7953"
            ],
            [
             0.7777777777777778,
             "#fb9f3a"
            ],
            [
             0.8888888888888888,
             "#fdca26"
            ],
            [
             1,
             "#f0f921"
            ]
           ],
           "sequentialminus": [
            [
             0,
             "#0d0887"
            ],
            [
             0.1111111111111111,
             "#46039f"
            ],
            [
             0.2222222222222222,
             "#7201a8"
            ],
            [
             0.3333333333333333,
             "#9c179e"
            ],
            [
             0.4444444444444444,
             "#bd3786"
            ],
            [
             0.5555555555555556,
             "#d8576b"
            ],
            [
             0.6666666666666666,
             "#ed7953"
            ],
            [
             0.7777777777777778,
             "#fb9f3a"
            ],
            [
             0.8888888888888888,
             "#fdca26"
            ],
            [
             1,
             "#f0f921"
            ]
           ]
          },
          "colorway": [
           "#636efa",
           "#EF553B",
           "#00cc96",
           "#ab63fa",
           "#FFA15A",
           "#19d3f3",
           "#FF6692",
           "#B6E880",
           "#FF97FF",
           "#FECB52"
          ],
          "font": {
           "color": "#2a3f5f"
          },
          "geo": {
           "bgcolor": "white",
           "lakecolor": "white",
           "landcolor": "#E5ECF6",
           "showlakes": true,
           "showland": true,
           "subunitcolor": "white"
          },
          "hoverlabel": {
           "align": "left"
          },
          "hovermode": "closest",
          "mapbox": {
           "style": "light"
          },
          "paper_bgcolor": "white",
          "plot_bgcolor": "#E5ECF6",
          "polar": {
           "angularaxis": {
            "gridcolor": "white",
            "linecolor": "white",
            "ticks": ""
           },
           "bgcolor": "#E5ECF6",
           "radialaxis": {
            "gridcolor": "white",
            "linecolor": "white",
            "ticks": ""
           }
          },
          "scene": {
           "xaxis": {
            "backgroundcolor": "#E5ECF6",
            "gridcolor": "white",
            "gridwidth": 2,
            "linecolor": "white",
            "showbackground": true,
            "ticks": "",
            "zerolinecolor": "white"
           },
           "yaxis": {
            "backgroundcolor": "#E5ECF6",
            "gridcolor": "white",
            "gridwidth": 2,
            "linecolor": "white",
            "showbackground": true,
            "ticks": "",
            "zerolinecolor": "white"
           },
           "zaxis": {
            "backgroundcolor": "#E5ECF6",
            "gridcolor": "white",
            "gridwidth": 2,
            "linecolor": "white",
            "showbackground": true,
            "ticks": "",
            "zerolinecolor": "white"
           }
          },
          "shapedefaults": {
           "line": {
            "color": "#2a3f5f"
           }
          },
          "ternary": {
           "aaxis": {
            "gridcolor": "white",
            "linecolor": "white",
            "ticks": ""
           },
           "baxis": {
            "gridcolor": "white",
            "linecolor": "white",
            "ticks": ""
           },
           "bgcolor": "#E5ECF6",
           "caxis": {
            "gridcolor": "white",
            "linecolor": "white",
            "ticks": ""
           }
          },
          "title": {
           "x": 0.05
          },
          "xaxis": {
           "automargin": true,
           "gridcolor": "white",
           "linecolor": "white",
           "ticks": "",
           "title": {
            "standoff": 15
           },
           "zerolinecolor": "white",
           "zerolinewidth": 2
          },
          "yaxis": {
           "automargin": true,
           "gridcolor": "white",
           "linecolor": "white",
           "ticks": "",
           "title": {
            "standoff": 15
           },
           "zerolinecolor": "white",
           "zerolinewidth": 2
          }
         }
        },
        "title": {
         "font": {
          "size": 25
         },
         "text": "GRB 090926A rescaled"
        },
        "width": 960,
        "xaxis": {
         "anchor": "y",
         "domain": [
          0,
          1
         ],
         "linecolor": "black",
         "linewidth": 2.4,
         "mirror": "allticks",
         "showgrid": false,
         "showline": true,
         "showticklabels": true,
         "tickcolor": "black",
         "tickfont": {
          "color": "black",
          "family": "arial",
          "size": 18
         },
         "ticks": "outside",
         "tickwidth": 2.4,
         "title": {
          "font": {
           "color": "black",
           "size": 18
          },
          "text": "<b>log10 Time (s)<b>"
         }
        },
        "yaxis": {
         "anchor": "x",
         "autorange": "reversed",
         "domain": [
          0,
          1
         ],
         "linecolor": "black",
         "linewidth": 2.4,
         "mirror": "allticks",
         "showgrid": false,
         "showline": true,
         "showticklabels": true,
         "tickcolor": "black",
         "tickfont": {
          "color": "black",
          "family": "arial",
          "size": 18
         },
         "ticks": "outside",
         "tickwidth": 2.4,
         "title": {
          "font": {
           "color": "black",
           "size": 18
          },
          "text": "<b>Magnitude<b>"
         }
        }
       }
      }
     },
     "metadata": {},
     "output_type": "display_data"
    }
   ],
   "source": [
    "figunresc, figresc, *___ = lc.rescaleGRB(save=True)\n",
    "figunresc.show()\n",
    "figresc.show()"
   ]
  },
  {
   "cell_type": "markdown",
   "metadata": {},
   "source": [
    "# convert to AB system and correct for extinction\n",
    "\n",
    "import grblc.convert as cv\n",
    "\n",
    "info = pd.read_csv('data/grblist.csv', sep=',', index_col='grb')\n",
    "\n",
    "grb = '970228A'\n",
    "\n",
    "cv.correctGRB(grb = grb,\n",
    "            ra = info.loc[grb, 'ra'],\n",
    "            dec = info.loc[grb, 'dec'],\n",
    "            path = 'converted/970228A_magAB_extcorr.txt',\n",
    "            save_in_folder = 'converted/',\n",
    "            debug = False\n",
    "            )"
   ]
<<<<<<< Updated upstream
=======
  },
  {
   "cell_type": "code",
   "execution_count": 3,
   "metadata": {},
   "outputs": [
    {
     "name": "stdout",
     "output_type": "stream",
     "text": [
      "                                                      path\n",
      "000131A  D:/naoj-grb/sample/mag-AB-extcorr-30-05-2023/0...\n",
      "000301C  D:/naoj-grb/sample/mag-AB-extcorr-30-05-2023/0...\n",
      "000418A  D:/naoj-grb/sample/mag-AB-extcorr-30-05-2023/0...\n",
      "000911A  D:/naoj-grb/sample/mag-AB-extcorr-30-05-2023/0...\n",
      "000926A  D:/naoj-grb/sample/mag-AB-extcorr-30-05-2023/0...\n",
      "                ra         dec coorderr       z  \\\n",
      "grb                                               \n",
      "970228A  05h01m57s  +11° 46.4'       3'  0.6950   \n",
      "970508A  06h53m28s  +79° 17.4'       3'  0.8300   \n",
      "971214A  11h56m30s  +65° 12.0'       4'  3.4200   \n",
      "980329A  07h02m41s  +38° 50.7'       3'  3.5000   \n",
      "980425A  19h34m54s  -52° 49.9'       8'  0.0085   \n",
      "\n",
      "                                                 path  \n",
      "grb                                                    \n",
      "970228A  D:/grb/sample/mag-30-05-2023/970228A_mag.txt  \n",
      "970508A  D:/grb/sample/mag-30-05-2023/970508A_mag.txt  \n",
      "971214A  D:/grb/sample/mag-30-05-2023/971214A_mag.txt  \n",
      "980329A  D:/grb/sample/mag-30-05-2023/980329A_mag.txt  \n",
      "980425A  D:/grb/sample/mag-30-05-2023/980425A_mag.txt  \n"
     ]
    }
   ],
   "source": [
    "import os\n",
    "import pandas as pd\n",
    "\n",
    "path=\"D:/naoj-grb/sample/mag-AB-extcorr-30-05-2023/\"\n",
    "grblist = []\n",
    "filelist = []\n",
    "for root, dirs, files in os.walk(path):\n",
    "    for file in files:\n",
    "        filelist.append(os.path.join(root,file))\n",
    "        names = file.split('_')\n",
    "        grblist.append(names[0])\n",
    "filedf=pd.DataFrame()\n",
    "filedf.index = grblist\n",
    "filedf['path'] = filelist\n",
    "\n",
    "print(filedf.head())\n",
    "radec = pd.read_csv('radec.csv', index_col='grb')\n",
    "print(radec.head())"
   ]
  },
  {
   "cell_type": "code",
   "execution_count": 2,
   "metadata": {},
   "outputs": [
    {
     "name": "stdout",
     "output_type": "stream",
     "text": [
      "GRB =  090510A , at z = 1.6187 , host galaxy model (Pei 1992)\n",
      "     time_index  time_sec   mag_corr  mag_err   lambda band  \\\n",
      "20           47  4.348285  21.956792     0.38  6208.20   r'   \n",
      "81           47  4.350267  21.242556     0.40  9345.61   z'   \n",
      "21           47  4.352240  22.036792     0.38  6208.20   r'   \n",
      "51           47  4.354281  21.811158     0.40  7629.65   i'   \n",
      "82           47  4.354281  21.382556     0.40  9345.61   z'   \n",
      "..          ...       ...        ...      ...      ...  ...   \n",
      "99          138  4.547405  23.412556     0.43  9345.61   z'   \n",
      "50          138  4.547405  23.686792     0.32  6208.20   r'   \n",
      "18          138  4.547405  23.822519     0.31  4747.03   g'   \n",
      "19          138  4.552851  24.132519     0.43  4747.03   g'   \n",
      "100         138  4.552851  23.082556     0.41  9345.61   z'   \n",
      "\n",
      "                                 source                telescope flag  \n",
      "20   LiLiang(taken_from_arXiv1201.3885)  LSO/MPG-ESO(2.2m)/GROND   no  \n",
      "81                       arXiv1201.3885  LSO/MPG-ESO(2.2m)/GROND   no  \n",
      "21   LiLiang(taken_from_arXiv1201.3885)  LSO/MPG-ESO(2.2m)/GROND   no  \n",
      "51                       arXiv1201.3885  LSO/MPG-ESO(2.2m)/GROND   no  \n",
      "82                       arXiv1201.3885  LSO/MPG-ESO(2.2m)/GROND   no  \n",
      "..                                  ...                      ...  ...  \n",
      "99                       arXiv1201.3885  LSO/MPG-ESO(2.2m)/GROND   no  \n",
      "50   LiLiang(taken_from_arXiv1201.3885)  LSO/MPG-ESO(2.2m)/GROND   no  \n",
      "18                       arXiv1201.3885  LSO/MPG-ESO(2.2m)/GROND   no  \n",
      "19                       arXiv1201.3885  LSO/MPG-ESO(2.2m)/GROND   no  \n",
      "100                      arXiv1201.3885  LSO/MPG-ESO(2.2m)/GROND   no  \n",
      "\n",
      "[296 rows x 9 columns]\n",
      "Fitting SMC model...\n",
      "Fitting LMC model...\n",
      "Fitting MW model...\n",
      "The selected model according to its probability is  LMC\n",
      "1 0.8755139035633943\n",
      "Single outlier telescope\n",
      "LSO/MPG-ESO(2.2m)/GROND\n",
      "Single outlier telescope\n",
      "LSO/MPG-ESO(2.2m)/GROND\n",
      "Single outlier telescope\n",
      "LSO/MPG-ESO(2.2m)/GROND\n",
      "Single outlier telescope\n",
      "LSO/MPG-ESO(2.2m)/GROND\n",
      "Single outlier telescope\n",
      "LSO/MPG-ESO(2.2m)/GROND\n",
      "Single outlier telescope\n",
      "LSO/MPG-ESO(2.2m)/GROND\n",
      "Marquardt Levenberg Beta: -1.4215567268776113 Marquardt Levenberg Beta error: 0.809871864776574\n",
      "Not 4 different bands at least for the fitting\n",
      "Fitting SMC model...\n",
      "Fitting LMC model...\n",
      "Fitting MW model...\n",
      "The selected model according to its probability is  SMC\n",
      "3 0.8052334003205125\n",
      "Fitting SMC model...\n",
      "Fitting LMC model...\n",
      "Fitting MW model...\n",
      "The selected model according to its probability is  LMC\n",
      "4 0.9325662198251147\n",
      "Single outlier telescope\n",
      "LSO/MPG-ESO(2.2m)/GROND\n",
      "Single outlier telescope\n",
      "LSO/MPG-ESO(2.2m)/GROND\n",
      "Single outlier telescope\n",
      "LSO/MPG-ESO(2.2m)/GROND\n",
      "Single outlier telescope\n",
      "LSO/MPG-ESO(2.2m)/GROND\n",
      "Single outlier telescope\n",
      "LSO/MPG-ESO(2.2m)/GROND\n",
      "Single outlier telescope\n",
      "LSO/MPG-ESO(2.2m)/GROND\n",
      "Single outlier telescope\n",
      "LSO/MPG-ESO(2.2m)/GROND\n",
      "Fitting SMC model...\n",
      "Fitting LMC model...\n",
      "Fitting MW model...\n",
      "The selected model according to its probability is  LMC\n",
      "5 0.882331834744613\n",
      "Not 4 different bands at least for the fitting\n",
      "Not 4 different bands at least for the fitting\n",
      "Not 4 different bands at least for the fitting\n",
      "Not 4 different bands at least for the fitting\n",
      "Fitting SMC model...\n",
      "Fitting LMC model...\n",
      "Fitting MW model...\n",
      "The selected model according to its probability is  SMC\n",
      "10 0.7280736060347107\n",
      "Fitting SMC model...\n",
      "Fitting LMC model...\n",
      "Fitting MW model...\n",
      "The selected model according to its probability is  SMC\n",
      "11 0.5721996074025895\n",
      "Fitting SMC model...\n",
      "Fitting LMC model...\n",
      "Fitting MW model...\n",
      "The selected model according to its probability is  LMC\n",
      "12 0.4836539073774771\n",
      "Single outlier telescope\n",
      "LSO/MPG-ESO(2.2m)/GROND\n",
      "Single outlier telescope\n",
      "LSO/MPG-ESO(2.2m)/GROND\n",
      "Single outlier telescope\n",
      "LSO/MPG-ESO(2.2m)/GROND\n",
      "Single outlier telescope\n",
      "LSO/MPG-ESO(2.2m)/GROND\n",
      "Single outlier telescope\n",
      "LSO/MPG-ESO(2.2m)/GROND\n",
      "Single outlier telescope\n",
      "LSO/MPG-ESO(2.2m)/GROND\n",
      "Single outlier telescope\n",
      "LSO/MPG-ESO(2.2m)/GROND\n",
      "Single outlier telescope\n",
      "LSO/MPG-ESO(2.2m)/GROND\n",
      "Marquardt Levenberg Beta: -1.888660249521708 Marquardt Levenberg Beta error: 1.5147268807942746\n",
      "Fitting SMC model...\n",
      "Fitting LMC model...\n",
      "Fitting MW model...\n",
      "The selected model according to its probability is  LMC\n",
      "13 0.525012781149479\n",
      "Single outlier telescope\n",
      "LSO/MPG-ESO(2.2m)/GROND\n",
      "Single outlier telescope\n",
      "LSO/MPG-ESO(2.2m)/GROND\n",
      "Fitting SMC model...\n",
      "Fitting LMC model...\n",
      "Fitting MW model...\n",
      "The selected model according to its probability is  LMC\n",
      "14 0.4949929288335468\n",
      "Single outlier telescope\n",
      "LSO/MPG-ESO(2.2m)/GROND\n",
      "Fitting SMC model...\n",
      "Fitting LMC model...\n",
      "Fitting MW model...\n",
      "The selected model according to its probability is  SMC\n",
      "15 0.927854934215367\n",
      "Fitting SMC model...\n",
      "Fitting LMC model...\n",
      "Fitting MW model...\n",
      "The selected model according to its probability is  SMC\n",
      "16 0.9769711247395645\n",
      "Fitting SMC model...\n",
      "Fitting LMC model...\n",
      "Fitting MW model...\n",
      "The selected model according to its probability is  SMC\n",
      "17 0.20698206161411897\n",
      "Fitting SMC model...\n",
      "Fitting LMC model...\n",
      "Fitting MW model...\n",
      "The selected model according to its probability is  SMC\n",
      "18 0.057026203396084385\n",
      "Fitting SMC model...\n",
      "Fitting LMC model...\n",
      "Fitting MW model...\n",
      "The selected model according to its probability is  SMC\n",
      "19 0.23754128938958174\n",
      "Fitting SMC model...\n",
      "Fitting LMC model...\n",
      "Fitting MW model...\n",
      "The selected model according to its probability is  SMC\n",
      "20 0.3500768632557594\n",
      "Fitting SMC model...\n",
      "Fitting LMC model...\n",
      "Fitting MW model...\n",
      "The selected model according to its probability is  LMC\n",
      "21 0.8237223049069227\n",
      "Single outlier telescope\n",
      "LSO/MPG-ESO(2.2m)/GROND\n",
      "Single outlier telescope\n",
      "LSO/MPG-ESO(2.2m)/GROND\n",
      "Single outlier telescope\n",
      "LSO/MPG-ESO(2.2m)/GROND\n",
      "Single outlier telescope\n",
      "LSO/MPG-ESO(2.2m)/GROND\n",
      "Single outlier telescope\n",
      "LSO/MPG-ESO(2.2m)/GROND\n",
      "Single outlier telescope\n",
      "LSO/MPG-ESO(2.2m)/GROND\n",
      "Single outlier telescope\n",
      "LSO/MPG-ESO(2.2m)/GROND\n",
      "Single outlier telescope\n",
      "LSO/MPG-ESO(2.2m)/GROND\n",
      "Single outlier telescope\n",
      "LSO/MPG-ESO(2.2m)/GROND\n",
      "Single outlier telescope\n",
      "LSO/MPG-ESO(2.2m)/GROND\n",
      "Fitting SMC model...\n",
      "Fitting LMC model...\n",
      "Fitting MW model...\n",
      "The selected model according to its probability is  LMC\n",
      "22 0.90546747656791\n",
      "Single outlier telescope\n",
      "LSO/MPG-ESO(2.2m)/GROND\n",
      "Single outlier telescope\n",
      "LSO/MPG-ESO(2.2m)/GROND\n",
      "Single outlier telescope\n",
      "LSO/MPG-ESO(2.2m)/GROND\n",
      "Single outlier telescope\n",
      "LSO/MPG-ESO(2.2m)/GROND\n",
      "Fitting SMC model...\n",
      "Fitting LMC model...\n",
      "Fitting MW model...\n",
      "The selected model according to its probability is  LMC\n",
      "23 0.9769400478276554\n",
      "Marquardt Levenberg Beta: 1.1020942221655243 Marquardt Levenberg Beta error: 0.8015399090611421\n",
      "Fitting SMC model...\n",
      "Fitting LMC model...\n",
      "Fitting MW model...\n",
      "The selected model according to its probability is  MW\n",
      "24 0.9861807131107884\n",
      "Marquardt Levenberg Beta: 1.2384820821754712 Marquardt Levenberg Beta error: 0.24208639857068692\n",
      "Fitting SMC model...\n",
      "Fitting LMC model...\n",
      "Fitting MW model...\n",
      "The selected model according to its probability is  MW\n",
      "25 0.9771942857712423\n",
      "Marquardt Levenberg Beta: 1.2519479610487423 Marquardt Levenberg Beta error: 0.25728243843445525\n",
      "Fitting SMC model...\n",
      "Fitting LMC model...\n",
      "Fitting MW model...\n",
      "The selected model according to its probability is  SMC\n",
      "26 0.9999934717491444\n",
      "Not 4 different bands at least for the fitting\n",
      "Fitting SMC model...\n",
      "Fitting LMC model...\n",
      "Fitting MW model...\n",
      "The selected model according to its probability is  SMC\n",
      "28 0.9693937357074326\n",
      "Marquardt Levenberg Beta: -1.9263288372228455 Marquardt Levenberg Beta error: 1.4674201933006743\n",
      "Fitting SMC model...\n",
      "Fitting LMC model...\n",
      "Fitting MW model...\n",
      "The selected model according to its probability is  SMC\n",
      "29 0.8228712692061816\n",
      "Fitting SMC model...\n",
      "Fitting LMC model...\n",
      "Fitting MW model...\n",
      "The selected model according to its probability is  SMC\n",
      "30 0.8131489243783541\n",
      "Fitting SMC model...\n",
      "Fitting LMC model...\n",
      "Fitting MW model...\n",
      "The selected model according to its probability is  MW\n",
      "31 0.920630974147746\n",
      "Marquardt Levenberg Beta: 1.385032720895472 Marquardt Levenberg Beta error: 0.26767228722661174\n",
      "Fitting SMC model...\n",
      "Fitting LMC model...\n",
      "Fitting MW model...\n",
      "The selected model according to its probability is  LMC\n",
      "32 0.9503268311963798\n",
      "Single outlier telescope\n",
      "LSO/MPG-ESO(2.2m)/GROND\n",
      "Single outlier telescope\n",
      "LSO/MPG-ESO(2.2m)/GROND\n",
      "Single outlier telescope\n",
      "LSO/MPG-ESO(2.2m)/GROND\n",
      "Single outlier telescope\n",
      "LSO/MPG-ESO(2.2m)/GROND\n",
      "Single outlier telescope\n",
      "LSO/MPG-ESO(2.2m)/GROND\n",
      "Fitting SMC model...\n",
      "Fitting LMC model...\n",
      "Fitting MW model...\n",
      "The selected model according to its probability is  LMC\n",
      "33 0.9577432963987667\n",
      "Single outlier telescope\n",
      "LSO/MPG-ESO(2.2m)/GROND\n",
      "Single outlier telescope\n",
      "LSO/MPG-ESO(2.2m)/GROND\n",
      "Single outlier telescope\n",
      "LSO/MPG-ESO(2.2m)/GROND\n",
      "Single outlier telescope\n",
      "LSO/MPG-ESO(2.2m)/GROND\n",
      "Single outlier telescope\n",
      "LSO/MPG-ESO(2.2m)/GROND\n",
      "Single outlier telescope\n",
      "LSO/MPG-ESO(2.2m)/GROND\n",
      "Single outlier telescope\n",
      "LSO/MPG-ESO(2.2m)/GROND\n",
      "Single outlier telescope\n",
      "LSO/MPG-ESO(2.2m)/GROND\n",
      "Single outlier telescope\n",
      "LSO/MPG-ESO(2.2m)/GROND\n",
      "Single outlier telescope\n",
      "LSO/MPG-ESO(2.2m)/GROND\n",
      "Marquardt Levenberg Beta: -0.7688075104239509 Marquardt Levenberg Beta error: 0.6606375278979926\n",
      "No matching GRB found in the dataset.\n"
     ]
    },
    {
     "data": {
      "text/plain": [
       "<Figure size 432x288 with 0 Axes>"
      ]
     },
     "metadata": {},
     "output_type": "display_data"
    },
    {
     "data": {
      "text/plain": [
       "<Figure size 432x288 with 0 Axes>"
      ]
     },
     "metadata": {},
     "output_type": "display_data"
    },
    {
     "data": {
      "text/plain": [
       "<Figure size 432x288 with 0 Axes>"
      ]
     },
     "metadata": {},
     "output_type": "display_data"
    },
    {
     "data": {
      "text/plain": [
       "<Figure size 432x288 with 0 Axes>"
      ]
     },
     "metadata": {},
     "output_type": "display_data"
    },
    {
     "data": {
      "text/plain": [
       "<Figure size 432x288 with 0 Axes>"
      ]
     },
     "metadata": {},
     "output_type": "display_data"
    },
    {
     "data": {
      "text/plain": [
       "<Figure size 432x288 with 0 Axes>"
      ]
     },
     "metadata": {},
     "output_type": "display_data"
    },
    {
     "data": {
      "text/plain": [
       "<Figure size 432x288 with 0 Axes>"
      ]
     },
     "metadata": {},
     "output_type": "display_data"
    },
    {
     "data": {
      "text/plain": [
       "<Figure size 432x288 with 0 Axes>"
      ]
     },
     "metadata": {},
     "output_type": "display_data"
    }
   ],
   "source": [
    "import sys\n",
    "sys.path.append('D:/naoj-grb/archive-grblc/grbLC-dev/')\n",
    "from grblc.evolution.sed import beta_marquardt\n",
    "\n",
    "grb = \"090510A\"\n",
    "path = filedf.loc[grb, 'path']\n",
    "redshift = radec.loc[grb, 'z']\n",
    "\n",
    "beta_marquardt(grb=grb, filename=path, z=redshift)"
   ]
  },
  {
   "cell_type": "code",
   "execution_count": null,
   "metadata": {},
   "outputs": [],
   "source": []
>>>>>>> Stashed changes
  }
 ],
 "metadata": {
  "kernelspec": {
   "display_name": "Python 3",
   "language": "python",
   "name": "python3"
  },
  "language_info": {
   "codemirror_mode": {
    "name": "ipython",
    "version": 3
   },
   "file_extension": ".py",
   "mimetype": "text/x-python",
   "name": "python",
   "nbconvert_exporter": "python",
   "pygments_lexer": "ipython3",
   "version": "3.8.10"
  },
  "orig_nbformat": 4
 },
 "nbformat": 4,
 "nbformat_minor": 2
}
