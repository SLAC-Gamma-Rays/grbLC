{
 "cells": [
  {
   "cell_type": "markdown",
   "metadata": {},
   "source": [
    "### Initialising"
   ]
  },
  {
   "cell_type": "code",
   "execution_count": 2,
   "metadata": {},
   "outputs": [],
   "source": [
    "# run this the first time you use grblc to download SFD maps\n",
    "\n",
    "# import grblc.convert.sfd\n",
    "# grblc.convert.sfd.fetch()"
   ]
  },
  {
   "cell_type": "code",
   "execution_count": 1,
   "metadata": {},
   "outputs": [
    {
     "data": {
      "application/vnd.plotly.v1+json": {
       "config": {
        "plotlyServerURL": "https://plot.ly"
       },
       "data": [
        {
         "customdata": [
          [
           "LCO/Swope(1m)/CISCO",
           "Rossi2020"
          ],
          [
           "LCO/Magellan2Clay(6.5m)/LDSS-3",
           "Rossi2020"
          ],
          [
           "LCO/Swope(1m)/CISCO",
           "Rossi2020"
          ],
          [
           "LSO/Danish(1.54m)/DFOSC",
           "Rossi2020"
          ],
          [
           "LCO/Magellan2Clay(6.5m)/LDSS-3",
           "Rossi2020"
          ],
          [
           "LCO/Swope(1m)/CISCO",
           "Rossi2020"
          ],
          [
           "CP/Gemini-South(8.1m)/GMOS",
           "Rossi2020"
          ],
          [
           "LCO/Swope(1m)/CISCO",
           "Rossi2020"
          ],
          [
           "LCO/Swope(1m)/CISCO",
           "Rossi2020"
          ],
          [
           "LCO/Swope(1m)/CISCO",
           "Rossi2020"
          ],
          [
           "CP/Gemini-South(8.1m)/GMOS",
           "Rossi2020"
          ]
         ],
         "error_y": {
          "array": [
           0.018,
           0.03,
           0.02,
           0.03,
           0.02,
           0.047,
           0.01,
           0.045,
           0.116,
           0.183,
           0.03
          ]
         },
         "hovertemplate": "band=i<br>time_sec=%{x}<br>mag=%{y}<br>telescope=%{customdata[0]}<br>source=%{customdata[1]}<extra></extra>",
         "legendgroup": "i",
         "marker": {
          "color": "rgb(228,26,28)",
          "symbol": "circle"
         },
         "mode": "markers",
         "name": "i",
         "orientation": "v",
         "showlegend": true,
         "type": "scatter",
         "x": [
          4.594273185872828,
          5.098524390908145,
          5.1177100097896595,
          5.32760207122408,
          5.329623206511437,
          5.478309594317676,
          5.481987519605433,
          5.586017622887098,
          5.6750146316600505,
          5.809512848702256,
          5.811557312031467
         ],
         "xaxis": "x",
         "y": [
          17.476,
          17.77,
          17.802,
          18.37,
          18.36,
          18.922,
          18.93,
          19.386,
          20.27,
          21.42,
          20.91
         ],
         "yaxis": "y"
        },
        {
         "customdata": [
          [
           "LCO/Magellan2Clay(6.5m)/LDSS-3",
           "Rossi2020"
          ],
          [
           "LCO/Magellan2Clay(6.5m)/LDSS-3",
           "Rossi2020"
          ],
          [
           "CP/Gemini-South(8.1m)/GMOS",
           "Rossi2020"
          ],
          [
           "CP/Gemini-South(8.1m)/GMOS",
           "Rossi2020"
          ],
          [
           "LCO/Magellan2Clay(6.5m)/LDSS-3",
           "Rossi2020"
          ],
          [
           "CP/Gemini-South(8.1m)/GMOS",
           "Rossi2020"
          ],
          [
           "Hubble/HST/WFC3",
           "Rossi2020"
          ],
          [
           "CP/Gemini-South(8.1m)/GMOS",
           "Rossi2020"
          ],
          [
           "CP/Gemini-South(8.1m)/GMOS",
           "Rossi2020"
          ],
          [
           "Hubble/HST/WFC3",
           "Rossi2020"
          ],
          [
           "CP/Gemini-South(8.1m)/GMOS",
           "Rossi2020"
          ],
          [
           "CP/Gemini-South(8.1m)/GMOS",
           "Rossi2020"
          ],
          [
           "Hubble/HST/WFC3",
           "Rossi2020"
          ]
         ],
         "error_y": {
          "array": [
           0.15,
           0.01,
           0.1,
           0.09,
           0.01,
           0.1,
           0.03,
           0.14,
           0.18,
           0.06,
           0.15,
           0.15,
           0.09
          ]
         },
         "hovertemplate": "band=H<br>time_sec=%{x}<br>mag=%{y}<br>telescope=%{customdata[0]}<br>source=%{customdata[1]}<extra></extra>",
         "legendgroup": "H",
         "marker": {
          "color": "rgb(55,126,184)",
          "symbol": "circle"
         },
         "mode": "markers",
         "name": "H",
         "orientation": "v",
         "showlegend": true,
         "type": "scatter",
         "x": [
          4.6016698196715575,
          5.1016236398110335,
          5.104228916159975,
          5.323431145259261,
          5.32457002356252,
          5.584419431475908,
          5.6288956858628945,
          5.807931800041965,
          5.863491072032829,
          5.910966690360492,
          5.911547712352183,
          5.955727570839238,
          5.962667887444997
         ],
         "xaxis": "x",
         "y": [
          18.26,
          17.52,
          17.63,
          17.71,
          17.57,
          17.92,
          18.06,
          18.79,
          19.22,
          19.6,
          19.62,
          20.04,
          20.28
         ],
         "yaxis": "y"
        },
        {
         "customdata": [
          [
           "LCO/Magellan2Clay(6.5m)/LDSS-3",
           "Rossi2020"
          ],
          [
           "PAO/ANTU-VLT-UT1(8.2m)/FORS1",
           "Rossi2020"
          ],
          [
           "CTIO/VictorMBlanco(4m)/DECam",
           "Rossi2020"
          ],
          [
           "LCO/Magellan2Clay(6.5m)/LDSS-3",
           "Rossi2020"
          ],
          [
           "Xinglong/2.16m/BFOSC",
           "Rossi2020"
          ],
          [
           "LCO/Swope(1m)/CISCO",
           "Rossi2020"
          ],
          [
           "PAO/ANTU-VLT-UT1(8.2m)/FORS1",
           "Rossi2020"
          ],
          [
           "CTIO/VictorMBlanco(4m)/DECam",
           "Rossi2020"
          ],
          [
           "LCO/Magellan2Clay(6.5m)/LDSS-3",
           "Rossi2020"
          ],
          [
           "PAO/ANTU-VLT-UT1(8.2m)/FORS1",
           "Rossi2020"
          ],
          [
           "CTIO/VictorMBlanco(4m)/DECam",
           "Rossi2020"
          ],
          [
           "LCO/Swope(1m)/CISCO",
           "Rossi2020"
          ],
          [
           "Xinglong/2.16m/BFOSC",
           "Rossi2020"
          ],
          [
           "CP/Gemini-South(8.1m)/GMOS",
           "Rossi2020"
          ],
          [
           "CTIO/VictorMBlanco(4m)/DECam",
           "Rossi2020"
          ],
          [
           "PAO/VLT-UT3-Melipal/VIMOS",
           "Rossi2020"
          ],
          [
           "LCO/Swope(1m)/CISCO",
           "Rossi2020"
          ],
          [
           "PAO/ANTU-VLT-UT1(8.2m)/FORS1",
           "Rossi2020"
          ],
          [
           "CTIO/VictorMBlanco(4m)/DECam",
           "Rossi2020"
          ],
          [
           "Xinglong/2.16m/BFOSC",
           "Rossi2020"
          ],
          [
           "PAO/ESO-VST/OMEGACAM",
           "Rossi2020"
          ],
          [
           "CTIO/VictorMBlanco(4m)/DECam",
           "Rossi2020"
          ],
          [
           "CP/Gemini-South(8.1m)/GMOS",
           "Rossi2020"
          ],
          [
           "PAO/VLT-UT3-Melipal/VIMOS",
           "Rossi2020"
          ],
          [
           "CTIO/VictorMBlanco(4m)/DECam",
           "Rossi2020"
          ],
          [
           "PAO/VLT-UT3-Melipal/VIMOS",
           "Rossi2020"
          ],
          [
           "PAO/VLT-UT3-Melipal/VIMOS",
           "Rossi2020"
          ],
          [
           "PAO/VLT-UT3-Melipal/VIMOS",
           "Rossi2020"
          ]
         ],
         "error_y": {
          "array": [
           0.02,
           0.02,
           0.02,
           0.03,
           0.02,
           0.018,
           0.04,
           0.03,
           0.02,
           0.01,
           0.04,
           0.089,
           0.02,
           0.01,
           0.05,
           0.01,
           0.125,
           0.03,
           0.24,
           0.03,
           0.07,
           0.11,
           0.04,
           0.05,
           0.18,
           0.04,
           0.07,
           0.31
          ]
         },
         "hovertemplate": "band=r<br>time_sec=%{x}<br>mag=%{y}<br>telescope=%{customdata[0]}<br>source=%{customdata[1]}<extra></extra>",
         "legendgroup": "r",
         "marker": {
          "color": "rgb(77,175,74)",
          "symbol": "circle"
         },
         "mode": "markers",
         "name": "r",
         "orientation": "v",
         "showlegend": true,
         "type": "scatter",
         "x": [
          4.610775108182708,
          5.095230043768563,
          5.097686184976015,
          5.098763581476061,
          5.1045751904123176,
          5.118853089116484,
          5.324091817874829,
          5.325564098043082,
          5.331271286932973,
          5.474502396093712,
          5.47513110739676,
          5.478309594317676,
          5.479652747894751,
          5.482001834548799,
          5.585492764595072,
          5.58608115803233,
          5.587061394396655,
          5.672201706581809,
          5.6730972477294745,
          5.676285455369364,
          5.746286001160599,
          5.809060089698383,
          5.8116377327657895,
          5.86406231563367,
          5.864330206023796,
          5.912564254173961,
          5.956333661541515,
          6.03161138385928
         ],
         "xaxis": "x",
         "y": [
          17.33,
          17.69,
          18.04,
          17.91,
          17.951,
          17.985,
          18.77,
          19.03,
          18.93,
          19.28,
          19.29,
          19.815,
          19.74,
          19.66,
          20.25,
          19.86,
          20.579,
          20.39,
          20.79,
          20.74,
          21.31,
          21.23,
          21.74,
          21.75,
          21.95,
          22.2,
          22.45,
          23.12
         ],
         "yaxis": "y"
        },
        {
         "customdata": [
          [
           "LCO/Magellan2Clay(6.5m)/LDSS-3",
           "Rossi2020"
          ],
          [
           "PAO/ESO-VISTA(4.1m)/VIRCAM",
           "Rossi2020"
          ],
          [
           "PAO/ESO-VISTA(4.1m)/VIRCAM",
           "Rossi2020"
          ],
          [
           "LCO/Magellan2Clay(6.5m)/LDSS-3",
           "Rossi2020"
          ],
          [
           "PAO/ESO-VISTA(4.1m)/VIRCAM",
           "Rossi2020"
          ],
          [
           "LCO/Magellan2Clay(6.5m)/LDSS-3",
           "Rossi2020"
          ],
          [
           "LCO/Magellan2Clay(6.5m)/LDSS-3",
           "Rossi2020"
          ],
          [
           "LCO/Magellan2Clay(6.5m)/LDSS-3",
           "Rossi2020"
          ],
          [
           "PAO/ESO-VISTA(4.1m)/VIRCAM",
           "Rossi2020"
          ],
          [
           "LCO/Magellan2Clay(6.5m)/LDSS-3",
           "Rossi2020"
          ],
          [
           "PAO/ESO-VISTA(4.1m)/VIRCAM",
           "Rossi2020"
          ],
          [
           "LCO/duPont(2.5m)/WFIRC",
           "Rossi2020"
          ],
          [
           "PAO/ESO-VISTA(4.1m)/VIRCAM",
           "Rossi2020"
          ],
          [
           "PAO/ESO-VISTA(4.1m)/VIRCAM",
           "Rossi2020"
          ],
          [
           "LCO/duPont(2.5m)/WFIRC",
           "Rossi2020"
          ],
          [
           "PAO/ESO-VISTA(4.1m)/VIRCAM",
           "Rossi2020"
          ],
          [
           "LCO/duPont(2.5m)/WFIRC",
           "Rossi2020"
          ],
          [
           "PAO/ESO-VISTA(4.1m)/VIRCAM",
           "Rossi2020"
          ],
          [
           "PAO/ESO-VISTA(4.1m)/VIRCAM",
           "Rossi2020"
          ],
          [
           "PAO/ESO-VISTA(4.1m)/VIRCAM",
           "Rossi2020"
          ],
          [
           "PAO/ESO-VISTA(4.1m)/VIRCAM",
           "Rossi2020"
          ]
         ],
         "error_y": {
          "array": [
           0.15,
           0.03,
           0.03,
           0.01,
           0.01,
           0.01,
           0.01,
           0.01,
           0.02,
           0.01,
           0.02,
           0.02,
           0.03,
           0.04,
           0.04,
           0.08,
           0.1,
           0.09,
           0.14,
           0.35,
           0.4
          ]
         },
         "hovertemplate": "band=J<br>time_sec=%{x}<br>mag=%{y}<br>telescope=%{customdata[0]}<br>source=%{customdata[1]}<extra></extra>",
         "legendgroup": "J",
         "marker": {
          "color": "rgb(152,78,163)",
          "symbol": "circle"
         },
         "mode": "markers",
         "name": "J",
         "orientation": "v",
         "showlegend": true,
         "type": "scatter",
         "x": [
          4.610775108182708,
          4.6183828453446445,
          4.64467487591822,
          5.098972765211638,
          5.104626390980377,
          5.1051724278265045,
          5.3229854584911,
          5.326113412417397,
          5.32968419556088,
          5.473721527919821,
          5.477180314753406,
          5.586913285701275,
          5.587082972504066,
          5.747598848303689,
          5.809406654410987,
          5.809990966966559,
          5.864517488634707,
          5.8645352869615675,
          5.912987271209057,
          5.95657217504674,
          5.996179169528468
         ],
         "xaxis": "x",
         "y": [
          17.83,
          17.88,
          17.82,
          17.47,
          17.45,
          17.32,
          17.55,
          17.52,
          17.66,
          17.85,
          17.86,
          18.1,
          18.08,
          18.74,
          18.99,
          19.07,
          19.3,
          19.69,
          20.06,
          20.94,
          21.16
         ],
         "yaxis": "y"
        },
        {
         "customdata": [
          [
           "LCO/Magellan2Clay(6.5m)/LDSS-3",
           "Rossi2020"
          ],
          [
           "LCO/Magellan2Clay(6.5m)/LDSS-3",
           "Rossi2020"
          ],
          [
           "LCO/Magellan2Clay(6.5m)/LDSS-3",
           "Rossi2020"
          ],
          [
           "LCO/Magellan2Clay(6.5m)/LDSS-3",
           "Rossi2020"
          ],
          [
           "Xinglong/2.16m/BFOSC",
           "Rossi2020"
          ],
          [
           "LSO/Danish(1.54m)/DFOSC",
           "Rossi2020"
          ],
          [
           "LCO/Magellan2Clay(6.5m)/LDSS-3",
           "Rossi2020"
          ],
          [
           "Xinglong/2.16m/BFOSC",
           "Rossi2020"
          ],
          [
           "PAO/VLT-UT3-Melipal/VIMOS",
           "Rossi2020"
          ],
          [
           "PAO/VLT(8.2m)/FORS1",
           "Rossi2020"
          ],
          [
           "LCO/Magellan2Clay(6.5m)/LDSS-3",
           "Rossi2020"
          ],
          [
           "Xinglong/2.16m/BFOSC",
           "Rossi2020"
          ],
          [
           "PAO/VLT(8.2m)/FORS1",
           "Rossi2020"
          ],
          [
           "LCO/Magellan2Clay(6.5m)/LDSS-3",
           "Rossi2020"
          ],
          [
           "PAO/VLT-UT3-Melipal/VIMOS",
           "Rossi2020"
          ],
          [
           "LCO/Magellan2Clay(6.5m)/LDSS-3",
           "Rossi2020"
          ],
          [
           "PAO/VLT(8.2m)/FORS1",
           "Rossi2020"
          ],
          [
           "PAO/VLT-UT3-Melipal/VIMOS",
           "Rossi2020"
          ],
          [
           "PAO/ANTU-VLT-UT1(8.2m)/FORS1",
           "Rossi2020"
          ],
          [
           "PAO/VLT(8.2m)/FORS1",
           "Rossi2020"
          ],
          [
           "PAO/VLT(8.2m)/FORS1",
           "Rossi2020"
          ],
          [
           "PAO/VLT(8.2m)/FORS1",
           "Rossi2020"
          ],
          [
           "PAO/VLT-UT3-Melipal/VIMOS",
           "Rossi2020"
          ],
          [
           "PAO/VLT(8.2m)/FORS1",
           "Rossi2020"
          ],
          [
           "PAO/VLT-UT3-Melipal/VIMOS",
           "Rossi2020"
          ]
         ],
         "error_y": {
          "array": [
           0.03,
           0.06,
           0.06,
           0.06,
           0.07,
           0.13,
           0.05,
           0.02,
           0.01,
           0.027,
           0.12,
           0.03,
           0.039,
           0.07,
           0.03,
           0.07,
           0.092,
           0.04,
           0.11,
           0.11,
           0.214,
           0.471,
           0.28,
           0.368,
           0.48
          ]
         },
         "hovertemplate": "band=z<br>time_sec=%{x}<br>mag=%{y}<br>telescope=%{customdata[0]}<br>source=%{customdata[1]}<extra></extra>",
         "legendgroup": "z",
         "marker": {
          "color": "rgb(255,127,0)",
          "symbol": "circle"
         },
         "mode": "markers",
         "name": "z",
         "orientation": "v",
         "showlegend": true,
         "type": "scatter",
         "x": [
          4.610775108182708,
          5.097626251173037,
          5.098105490163472,
          5.09828506853184,
          5.1045751904123176,
          5.32760207122408,
          5.477136889039792,
          5.479652747894751,
          5.584911705127097,
          5.58718410559498,
          5.672411693223791,
          5.676285455369364,
          5.746324945903575,
          5.808211999560072,
          5.863026725023166,
          5.863079825190795,
          5.864075856612928,
          5.911822130160571,
          5.91242081904214,
          5.912622252264765,
          5.9558573950200575,
          5.995553065694176,
          6.065035067558467,
          6.096676403989187,
          6.22583879805446
         ],
         "xaxis": "x",
         "y": [
          17.67,
          17.62,
          17.61,
          17.61,
          17.654,
          18.01,
          18.38,
          18.3,
          18.73,
          18.927,
          19.08,
          19.16,
          19.627,
          19.87,
          20.28,
          20.4,
          20.606,
          20.85,
          20.69,
          20.69,
          22.014,
          22.815,
          22.3,
          23.342,
          23.37
         ],
         "yaxis": "y"
        },
        {
         "customdata": [
          [
           "LCO/Magellan2Clay(6.5m)/LDSS-3",
           "Rossi2020"
          ],
          [
           "SAAO/SALT(10m)/SALTICAM",
           "Rossi2020"
          ],
          [
           "LSO/NTT(3.58m)/EFOSC2+LSO/NTT(3.58m)/SOFI",
           "Rossi2020"
          ],
          [
           "LSO/NTT(3.58m)/EFOSC2+LSO/NTT(3.58m)/SOFI",
           "Rossi2020"
          ],
          [
           "LSO/NTT(3.58m)/EFOSC2+LSO/NTT(3.58m)/SOFI",
           "Rossi2020"
          ],
          [
           "CTIO/LCOGT(1m)/Sinistro",
           "Rossi2020"
          ],
          [
           "LCO/Swope(1m)/CISCO",
           "Rossi2020"
          ],
          [
           "LSO/NTT(3.58m)/EFOSC2+LSO/NTT(3.58m)/SOFI",
           "Rossi2020"
          ],
          [
           "LSO/NTT(3.58m)/EFOSC2+LSO/NTT(3.58m)/SOFI",
           "Rossi2020"
          ],
          [
           "LSO/NTT(3.58m)/EFOSC2+LSO/NTT(3.58m)/SOFI",
           "Rossi2020"
          ],
          [
           "LSO/NTT(3.58m)/EFOSC2+LSO/NTT(3.58m)/SOFI",
           "Rossi2020"
          ],
          [
           "LSO/NTT(3.58m)/EFOSC2+LSO/NTT(3.58m)/SOFI",
           "Rossi2020"
          ],
          [
           "SSO/iTelescope(T17)/CCD",
           "Rossi2020"
          ],
          [
           "SAAO/SALT(10m)/SALTICAM",
           "Rossi2020"
          ],
          [
           "SSO/iTelescope(T17)/CCD",
           "Rossi2020"
          ],
          [
           "LSO/NTT(3.58m)/EFOSC2+LSO/NTT(3.58m)/SOFI",
           "Rossi2020"
          ],
          [
           "CTIO/LCOGT(1m)/Sinistro",
           "Rossi2020"
          ],
          [
           "LCO/Magellan2Clay(6.5m)/LDSS-3",
           "Rossi2020"
          ],
          [
           "SSO/iTelescope(T17)/CCD",
           "Rossi2020"
          ],
          [
           "LSO/NTT(3.58m)/EFOSC2+LSO/NTT(3.58m)/SOFI",
           "Rossi2020"
          ],
          [
           "LSO/NTT(3.58m)/EFOSC2+LSO/NTT(3.58m)/SOFI",
           "Rossi2020"
          ],
          [
           "SSO/iTelescope(T17)/CCD",
           "Rossi2020"
          ],
          [
           "SSO/iTelescope(T17)/CCD",
           "Rossi2020"
          ],
          [
           "LSO/NTT(3.58m)/EFOSC2+LSO/NTT(3.58m)/SOFI",
           "Rossi2020"
          ],
          [
           "LCO/Swope(1m)/CISCO",
           "Rossi2020"
          ],
          [
           "LSO/NTT(3.58m)/EFOSC2+LSO/NTT(3.58m)/SOFI",
           "Rossi2020"
          ],
          [
           "PAO/VLT(8.2m)/FORS1",
           "Rossi2020"
          ],
          [
           "PAO/VLT(8.2m)/FORS1",
           "Rossi2020"
          ],
          [
           "PAO/VLT(8.2m)/FORS1",
           "Rossi2020"
          ],
          [
           "PAO/VLT(8.2m)/FORS1",
           "Rossi2020"
          ]
         ],
         "error_y": {
          "array": [
           0.02,
           0.04,
           0.08,
           0.05,
           0.08,
           0.04,
           0.041,
           0.04,
           0.06,
           0.04,
           0.06,
           0.1,
           0.05,
           0.05,
           0.07,
           0.11,
           0.05,
           0.08,
           0.18,
           0.12,
           0.2,
           0.2,
           0.19,
           0.2,
           0.115,
           0.15,
           0.054,
           0.158,
           0.256,
           0.28
          ]
         },
         "hovertemplate": "band=V<br>time_sec=%{x}<br>mag=%{y}<br>telescope=%{customdata[0]}<br>source=%{customdata[1]}<extra></extra>",
         "legendgroup": "V",
         "marker": {
          "color": "rgb(255,255,51)",
          "symbol": "circle"
         },
         "mode": "markers",
         "name": "V",
         "orientation": "v",
         "showlegend": true,
         "type": "scatter",
         "x": [
          4.611094240570642,
          5.013169354035744,
          5.093878154870989,
          5.095296586307409,
          5.095718203854858,
          5.098791810559456,
          5.102865726945432,
          5.107711832558442,
          5.108092319115667,
          5.108414009119151,
          5.118012742356293,
          5.118298595109088,
          5.1996860794534845,
          5.277766860941249,
          5.283588853532239,
          5.324631726336728,
          5.326403048463367,
          5.32968419556088,
          5.331437014890555,
          5.332555117964053,
          5.339014900127872,
          5.392529532999511,
          5.443788517818216,
          5.473248195753014,
          5.475933138488701,
          5.479126878773975,
          5.589087749540436,
          5.749124472337463,
          5.865189758584596,
          5.957159258688069
         ],
         "xaxis": "x",
         "y": [
          17.35,
          17.81,
          18.22,
          18.16,
          18.13,
          18.28,
          18.222,
          18.14,
          18.16,
          18.18,
          18.25,
          18.18,
          18.79,
          19.25,
          19.06,
          19.4,
          19.51,
          19.51,
          19.33,
          19.53,
          19.59,
          19.77,
          19.89,
          20.54,
          20.521,
          20.55,
          21.082,
          22.361,
          23.152,
          23.761
         ],
         "yaxis": "y"
        },
        {
         "customdata": [
          [
           "LCO/Magellan2Clay(6.5m)/LDSS-3",
           "Rossi2020"
          ],
          [
           "LCO/Magellan2Clay(6.5m)/LDSS-3",
           "Rossi2020"
          ],
          [
           "LCO/Magellan2Clay(6.5m)/LDSS-3",
           "Rossi2020"
          ],
          [
           "LSO/REM(0.6m)/TORTORA",
           "Rossi2020"
          ],
          [
           "SSO/iTelescope(T17)/CCD",
           "Rossi2020"
          ],
          [
           "SSO/iTelescope(T17)/CCD",
           "Rossi2020"
          ],
          [
           "CTIO/VictorMBlanco(4m)/DECam",
           "Rossi2020"
          ],
          [
           "SSO/iTelescope(T17)/CCD",
           "Rossi2020"
          ],
          [
           "LCO/Magellan2Clay(6.5m)/LDSS-3",
           "Rossi2020"
          ],
          [
           "LCO/Magellan2Clay(6.5m)/LDSS-3",
           "Rossi2020"
          ],
          [
           "LSO/MPG-ESO(2.2m)/GROND",
           "Rossi2020"
          ],
          [
           "Xinglong/2.16m/BFOSC",
           "Rossi2020"
          ],
          [
           "LSO/REM(0.6m)/TORTORA",
           "Rossi2020"
          ],
          [
           "LCO/Swope(1m)/CISCO",
           "Rossi2020"
          ],
          [
           "SSO/iTelescope(T17)/CCD",
           "Rossi2020"
          ],
          [
           "SSO/iTelescope(T17)/CCD",
           "Rossi2020"
          ],
          [
           "SSO/iTelescope(T17)/CCD",
           "Rossi2020"
          ],
          [
           "LSO/REM(0.6m)/TORTORA",
           "Rossi2020"
          ],
          [
           "LSO/MPG-ESO(2.2m)/GROND",
           "Rossi2020"
          ],
          [
           "CTIO/VictorMBlanco(4m)/DECam",
           "Rossi2020"
          ],
          [
           "SSO/iTelescope(T17)/CCD",
           "Rossi2020"
          ],
          [
           "LSO/MPG-ESO(2.2m)/GROND",
           "Rossi2020"
          ],
          [
           "CTIO/VictorMBlanco(4m)/DECam",
           "Rossi2020"
          ],
          [
           "LCO/Swope(1m)/CISCO",
           "Rossi2020"
          ],
          [
           "Xinglong/2.16m/BFOSC",
           "Rossi2020"
          ],
          [
           "CP/Gemini-South(8.1m)/GMOS",
           "Rossi2020"
          ],
          [
           "LSO/MPG-ESO(2.2m)/GROND",
           "Rossi2020"
          ],
          [
           "CTIO/VictorMBlanco(4m)/DECam",
           "Rossi2020"
          ],
          [
           "LCO/Magellan2Clay(6.5m)/LDSS-3",
           "Rossi2020"
          ],
          [
           "LCO/Swope(1m)/CISCO",
           "Rossi2020"
          ],
          [
           "PAO/ESO-VST/OMEGACAM",
           "Rossi2020"
          ],
          [
           "Xinglong/2.16m/BFOSC",
           "Rossi2020"
          ]
         ],
         "error_y": {
          "array": [
           0.02,
           0.04,
           0.02,
           0.07,
           0.12,
           0.12,
           0.03,
           0.14,
           0.03,
           0.03,
           0.04,
           0.06,
           0.068,
           0.124,
           0.17,
           0.21,
           0.2,
           0.282,
           0.11,
           0.05,
           0.33,
           0.16,
           0.08,
           0.049,
           0.06,
           0.01,
           0.22,
           0.11,
           0.06,
           0.104,
           0.12,
           0.1
          ]
         },
         "hovertemplate": "band=g<br>time_sec=%{x}<br>mag=%{y}<br>telescope=%{customdata[0]}<br>source=%{customdata[1]}<extra></extra>",
         "legendgroup": "g",
         "marker": {
          "color": "rgb(166,86,40)",
          "symbol": "circle"
         },
         "mode": "markers",
         "name": "g",
         "orientation": "v",
         "showlegend": true,
         "type": "scatter",
         "x": [
          4.616614969871581,
          4.621037451593204,
          4.6241690201318155,
          4.657637073991166,
          4.877873316653548,
          5.02205206711582,
          5.097686184976015,
          5.098688018136431,
          5.099210050149664,
          5.10102769361882,
          5.103046636726954,
          5.1045751904123176,
          5.114386774376045,
          5.120846266885037,
          5.201731320511736,
          5.2849538281466675,
          5.285537506528159,
          5.32322073905793,
          5.32414329410851,
          5.325564098043082,
          5.332659792693573,
          5.473872773309982,
          5.47513110739676,
          5.477435570155865,
          5.479652747894751,
          5.482245116422237,
          5.584584941080106,
          5.585882410793071,
          5.588976854199748,
          5.590568559989977,
          5.673957456298145,
          5.676285455369364
         ],
         "xaxis": "x",
         "y": [
          17.41,
          17.41,
          17.39,
          17.32,
          17.32,
          18.12,
          18.66,
          18.74,
          18.61,
          18.66,
          18.49,
          18.553,
          18.591,
          18.488,
          19.53,
          20.44,
          20.24,
          20.314,
          20.19,
          20.21,
          20.81,
          21.13,
          20.93,
          20.771,
          20.94,
          20.9,
          21.58,
          21.73,
          21.78,
          21.75,
          22.51,
          22.332
         ],
         "yaxis": "y"
        },
        {
         "customdata": [
          [
           "SSO/iTelescope(T17)/CCD",
           "Rossi2020"
          ],
          [
           "SSO/iTelescope(T17)/CCD",
           "Rossi2020"
          ],
          [
           "SSO/iTelescope(T17)/CCD",
           "Rossi2020"
          ],
          [
           "SSO/iTelescope(T17)/CCD",
           "Rossi2020"
          ],
          [
           "SSO/iTelescope(T17)/CCD",
           "Rossi2020"
          ],
          [
           "SSO/iTelescope(T17)/CCD",
           "Rossi2020"
          ],
          [
           "SSO/iTelescope(T17)/CCD",
           "Rossi2020"
          ],
          [
           "SSO/iTelescope(T17)/CCD",
           "Rossi2020"
          ],
          [
           "SSO/iTelescope(T17)/CCD",
           "Rossi2020"
          ],
          [
           "SSO/iTelescope(T17)/CCD",
           "Rossi2020"
          ],
          [
           "SSO/iTelescope(T17)/CCD",
           "Rossi2020"
          ],
          [
           "SSO/iTelescope(T17)/CCD",
           "Rossi2020"
          ],
          [
           "SSO/iTelescope(T17)/CCD",
           "Rossi2020"
          ],
          [
           "SSO/iTelescope(T17)/CCD",
           "Rossi2020"
          ],
          [
           "SSO/iTelescope(T17)/CCD",
           "Rossi2020"
          ],
          [
           "SSO/iTelescope(T17)/CCD",
           "Rossi2020"
          ],
          [
           "SSO/iTelescope(T17)/CCD",
           "Rossi2020"
          ],
          [
           "SSO/iTelescope(T17)/CCD",
           "Rossi2020"
          ]
         ],
         "error_y": {
          "array": [
           0.04,
           0.04,
           0.04,
           0.04,
           0.05,
           0.06,
           0.06,
           0.07,
           0.07,
           0.06,
           0.05,
           0.05,
           0.05,
           0.07,
           0.08,
           0.13,
           0.06,
           0.09
          ]
         },
         "hovertemplate": "band=w<br>time_sec=%{x}<br>mag=%{y}<br>telescope=%{customdata[0]}<br>source=%{customdata[1]}<extra></extra>",
         "legendgroup": "w",
         "marker": {
          "color": "rgb(247,129,191)",
          "symbol": "circle"
         },
         "mode": "markers",
         "name": "w",
         "orientation": "v",
         "showlegend": true,
         "type": "scatter",
         "x": [
          4.621084841732344,
          4.868324623511578,
          5.017751002269315,
          5.09508562394388,
          5.198892311898261,
          5.2849538281466675,
          5.285537506528159,
          5.327571431219982,
          5.3282768286410045,
          5.332485320792745,
          5.333008526362045,
          5.3913120382049655,
          5.391921212240485,
          5.395558420843756,
          5.396010937542635,
          5.444193492886184,
          5.444732872880539,
          5.586305484397182
         ],
         "xaxis": "x",
         "y": [
          17.49,
          17.31,
          17.95,
          18.23,
          18.69,
          19.11,
          19.11,
          19.56,
          19.48,
          19.46,
          19.36,
          19.68,
          19.61,
          19.53,
          19.56,
          20.13,
          19.99,
          20.64
         ],
         "yaxis": "y"
        },
        {
         "customdata": [
          [
           "PAO/ESO-VISTA(4.1m)/VIRCAM",
           "Rossi2020"
          ],
          [
           "PAO/ESO-VISTA(4.1m)/VIRCAM",
           "Rossi2020"
          ],
          [
           "PAO/ESO-VISTA(4.1m)/VIRCAM",
           "Rossi2020"
          ],
          [
           "PAO/ESO-VISTA(4.1m)/VIRCAM",
           "Rossi2020"
          ],
          [
           "LCO/duPont(2.5m)/WFIRC",
           "Rossi2020"
          ],
          [
           "PAO/ESO-VISTA(4.1m)/VIRCAM",
           "Rossi2020"
          ],
          [
           "LCO/duPont(2.5m)/WFIRC",
           "Rossi2020"
          ],
          [
           "PAO/ESO-VISTA(4.1m)/VIRCAM",
           "Rossi2020"
          ],
          [
           "PAO/ESO-VISTA(4.1m)/VIRCAM",
           "Rossi2020"
          ],
          [
           "PAO/ESO-VISTA(4.1m)/VIRCAM",
           "Rossi2020"
          ],
          [
           "PAO/ESO-VISTA(4.1m)/VIRCAM",
           "Rossi2020"
          ]
         ],
         "error_y": {
          "array": [
           0.01,
           0.01,
           0.02,
           0.01,
           0.02,
           0.02,
           0.1,
           0.04,
           0.07,
           0.09,
           0.14
          ]
         },
         "hovertemplate": "band=Y<br>time_sec=%{x}<br>mag=%{y}<br>telescope=%{customdata[0]}<br>source=%{customdata[1]}<extra></extra>",
         "legendgroup": "Y",
         "marker": {
          "color": "rgb(153,153,153)",
          "symbol": "circle"
         },
         "mode": "markers",
         "name": "Y",
         "orientation": "v",
         "showlegend": true,
         "type": "scatter",
         "x": [
          4.625551144411224,
          5.103445194569795,
          5.328981082186697,
          5.475676998245082,
          5.5841751217371804,
          5.585916217763336,
          5.674687388192349,
          5.747330379749316,
          5.809758434638757,
          5.863919753391707,
          5.912436758618594
         ],
         "xaxis": "x",
         "y": [
          17.46,
          17.23,
          17.51,
          17.76,
          18.08,
          18.07,
          18.33,
          18.71,
          19.24,
          19.67,
          20.09
         ],
         "yaxis": "y"
        },
        {
         "customdata": [
          [
           "LCO/Magellan2Clay(6.5m)/LDSS-3",
           "Rossi2020"
          ],
          [
           "LCO/Magellan2Clay(6.5m)/LDSS-3",
           "Rossi2020"
          ],
          [
           "LCO/Magellan2Clay(6.5m)/LDSS-3",
           "Rossi2020"
          ],
          [
           "LCO/Magellan2Clay(6.5m)/LDSS-3",
           "Rossi2020"
          ],
          [
           "LSO/NTT(3.58m)/EFOSC2+LSO/NTT(3.58m)/SOFI",
           "Rossi2020"
          ],
          [
           "LCO/Magellan2Clay(6.5m)/LDSS-3",
           "Rossi2020"
          ],
          [
           "LSO/NTT(3.58m)/EFOSC2+LSO/NTT(3.58m)/SOFI",
           "Rossi2020"
          ],
          [
           "LCO/Magellan2Clay(6.5m)/LDSS-3",
           "Rossi2020"
          ],
          [
           "LCO/Magellan2Clay(6.5m)/LDSS-3",
           "Rossi2020"
          ],
          [
           "LCO/Magellan2Clay(6.5m)/LDSS-3",
           "Rossi2020"
          ]
         ],
         "error_y": {
          "array": [
           0.15,
           0.04,
           0.06,
           0.09,
           0.09,
           0.09,
           0.09,
           0.1,
           0.13,
           0.17
          ]
         },
         "hovertemplate": "band=Ks<br>time_sec=%{x}<br>mag=%{y}<br>telescope=%{customdata[0]}<br>source=%{customdata[1]}<extra></extra>",
         "legendgroup": "Ks",
         "marker": {
          "color": "rgb(228,26,28)",
          "symbol": "circle"
         },
         "mode": "markers",
         "name": "Ks",
         "orientation": "v",
         "showlegend": true,
         "type": "scatter",
         "x": [
          4.6375177476078955,
          5.098883127376141,
          5.322896266225305,
          6.031136733111972,
          6.031939312136816,
          6.0652472383229385,
          6.065634530211298,
          6.125218618684389,
          6.2020943853892785,
          6.202800656983296
         ],
         "xaxis": "x",
         "y": [
          18.41,
          17.61,
          17.55,
          19.36,
          19.32,
          19.52,
          19.43,
          20.23,
          20.81,
          20.93
         ],
         "yaxis": "y"
        },
        {
         "customdata": [
          [
           "NGSO/Swift/UVOT",
           "Rossi2020"
          ],
          [
           "NGSO/Swift/UVOT",
           "Rossi2020"
          ]
         ],
         "error_y": {
          "array": [
           0.24,
           0.45
          ]
         },
         "hovertemplate": "band=UVM2<br>time_sec=%{x}<br>mag=%{y}<br>telescope=%{customdata[0]}<br>source=%{customdata[1]}<extra></extra>",
         "legendgroup": "UVM2",
         "marker": {
          "color": "rgb(55,126,184)",
          "symbol": "circle"
         },
         "mode": "markers",
         "name": "UVM2",
         "orientation": "v",
         "showlegend": true,
         "type": "scatter",
         "x": [
          4.7359576033078685,
          4.970500061236117
         ],
         "xaxis": "x",
         "y": [
          21.12,
          22.52
         ],
         "yaxis": "y"
        },
        {
         "customdata": [
          [
           "NGSO/Swift/UVOT",
           "Rossi2020"
          ],
          [
           "NGSO/Swift/UVOT",
           "Rossi2020"
          ]
         ],
         "error_y": {
          "array": [
           0.11,
           0.23
          ]
         },
         "hovertemplate": "band=UVW1<br>time_sec=%{x}<br>mag=%{y}<br>telescope=%{customdata[0]}<br>source=%{customdata[1]}<extra></extra>",
         "legendgroup": "UVW1",
         "marker": {
          "color": "rgb(77,175,74)",
          "symbol": "circle"
         },
         "mode": "markers",
         "name": "UVW1",
         "orientation": "v",
         "showlegend": true,
         "type": "scatter",
         "x": [
          4.738227828704857,
          4.95304558666013
         ],
         "xaxis": "x",
         "y": [
          19.46,
          20.21
         ],
         "yaxis": "y"
        },
        {
         "customdata": [
          [
           "NGSO/Swift/UVOT",
           "Rossi2020"
          ],
          [
           "NGSO/Swift/UVOT",
           "Rossi2020"
          ],
          [
           "NGSO/Swift/UVOT",
           "Rossi2020"
          ],
          [
           "LSO/NTT(3.58m)/EFOSC2+LSO/NTT(3.58m)/SOFI",
           "Rossi2020"
          ],
          [
           "LSO/NTT(3.58m)/EFOSC2+LSO/NTT(3.58m)/SOFI",
           "Rossi2020"
          ],
          [
           "LSO/NTT(3.58m)/EFOSC2+LSO/NTT(3.58m)/SOFI",
           "Rossi2020"
          ],
          [
           "LSO/NTT(3.58m)/EFOSC2+LSO/NTT(3.58m)/SOFI",
           "Rossi2020"
          ]
         ],
         "error_y": {
          "array": [
           0.09,
           0.17,
           0.45,
           0.29,
           0.23,
           0.28,
           0.28
          ]
         },
         "hovertemplate": "band=U<br>time_sec=%{x}<br>mag=%{y}<br>telescope=%{customdata[0]}<br>source=%{customdata[1]}<extra></extra>",
         "legendgroup": "U",
         "marker": {
          "color": "rgb(152,78,163)",
          "symbol": "circle"
         },
         "mode": "markers",
         "name": "U",
         "orientation": "v",
         "showlegend": true,
         "type": "scatter",
         "x": [
          4.743168623378604,
          4.954548096962958,
          5.113689382828022,
          5.1184565274472344,
          5.118485091987129,
          5.119597646176288,
          5.120707357557925
         ],
         "xaxis": "x",
         "y": [
          18.19,
          19,
          20.79,
          20.25,
          20.11,
          20.21,
          20.1
         ],
         "yaxis": "y"
        },
        {
         "customdata": [
          [
           "SAAO/SALT(10m)/SALTICAM",
           "Rossi2020"
          ],
          [
           "CTIO/LCOGT(1m)/Sinistro",
           "Rossi2020"
          ],
          [
           "LCO/Magellan2Clay(6.5m)/LDSS-3",
           "Rossi2020"
          ],
          [
           "LCO/Magellan2Clay(6.5m)/LDSS-3",
           "Rossi2020"
          ],
          [
           "LCO/Swope(1m)/CISCO",
           "Rossi2020"
          ],
          [
           "SSO/iTelescope(T17)/CCD",
           "Rossi2020"
          ],
          [
           "SAAO/SALT(10m)/SALTICAM",
           "Rossi2020"
          ],
          [
           "CTIO/LCOGT(1m)/Sinistro",
           "Rossi2020"
          ],
          [
           "LCO/Swope(1m)/CISCO",
           "Rossi2020"
          ],
          [
           "PAO/VLT(8.2m)/FORS1",
           "Rossi2020"
          ],
          [
           "LCO/Magellan2Clay(6.5m)/LDSS-3",
           "Rossi2020"
          ],
          [
           "PAO/VLT(8.2m)/FORS1",
           "Rossi2020"
          ],
          [
           "LCO/Magellan2Clay(6.5m)/LDSS-3",
           "Rossi2020"
          ],
          [
           "PAO/VLT(8.2m)/FORS1",
           "Rossi2020"
          ]
         ],
         "error_y": {
          "array": [
           0.11,
           0.11,
           0.06,
           0.07,
           0.037,
           0.12,
           0.09,
           0.1,
           0.126,
           0.128,
           0.14,
           0.251,
           0.31,
           0.363
          ]
         },
         "hovertemplate": "band=B<br>time_sec=%{x}<br>mag=%{y}<br>telescope=%{customdata[0]}<br>source=%{customdata[1]}<extra></extra>",
         "legendgroup": "B",
         "marker": {
          "color": "rgb(255,127,0)",
          "symbol": "circle"
         },
         "mode": "markers",
         "name": "B",
         "orientation": "v",
         "showlegend": true,
         "type": "scatter",
         "x": [
          5.009513783205766,
          5.098791810559456,
          5.099864814720617,
          5.1002820227442625,
          5.114262608413977,
          5.1996860794534845,
          5.275644838360736,
          5.326403048463367,
          5.4764345267806815,
          5.589221967520051,
          5.589285572354879,
          5.749124472337463,
          5.811802870260766,
          5.865189758584596
         ],
         "xaxis": "x",
         "y": [
          18.47,
          19.09,
          19.04,
          19.04,
          19.066,
          20.1,
          20.45,
          20.82,
          21.719,
          22.729,
          22.52,
          23.807,
          23.85,
          24.581
         ],
         "yaxis": "y"
        },
        {
         "customdata": [
          [
           "SAAO/SALT(10m)/SALTICAM",
           "Rossi2020"
          ],
          [
           "PAO/VLT(8.2m)/FORS1",
           "Rossi2020"
          ],
          [
           "CTIO/LCOGT(1m)/Sinistro",
           "Rossi2020"
          ],
          [
           "SSO/iTelescope(T17)/CCD",
           "Rossi2020"
          ],
          [
           "SAAO/SALT(10m)/SALTICAM",
           "Rossi2020"
          ],
          [
           "PAO/VLT(8.2m)/FORS1",
           "Rossi2020"
          ],
          [
           "CTIO/LCOGT(1m)/Sinistro",
           "Rossi2020"
          ],
          [
           "SSO/iTelescope(T17)/CCD",
           "Rossi2020"
          ],
          [
           "SAAO/SALT(10m)/SALTICAM",
           "Rossi2020"
          ],
          [
           "CTIO/LCOGT(1m)/Sinistro",
           "Rossi2020"
          ],
          [
           "PAO/VLT(8.2m)/FORS1",
           "Rossi2020"
          ],
          [
           "SSO/iTelescope(T17)/CCD",
           "Rossi2020"
          ],
          [
           "SAAO/SALT(10m)/SALTICAM",
           "Rossi2020"
          ],
          [
           "PAO/VLT(8.2m)/FORS1",
           "Rossi2020"
          ],
          [
           "CTIO/LCOGT(1m)/Sinistro",
           "Rossi2020"
          ],
          [
           "SSO/iTelescope(T17)/CCD",
           "Rossi2020"
          ],
          [
           "SAAO/SALT(10m)/SALTICAM",
           "Rossi2020"
          ],
          [
           "PAO/VLT(8.2m)/FORS1",
           "Rossi2020"
          ],
          [
           "SSO/iTelescope(T17)/CCD",
           "Rossi2020"
          ],
          [
           "PAO/VLT(8.2m)/FORS1",
           "Rossi2020"
          ],
          [
           "PAO/VLT(8.2m)/FORS1",
           "Rossi2020"
          ],
          [
           "PAO/VLT(8.2m)/FORS1",
           "Rossi2020"
          ]
         ],
         "error_y": {
          "array": [
           0.05,
           0.02,
           0.05,
           0.05,
           0.05,
           0.04,
           0.05,
           0.05,
           0.05,
           0.06,
           0.01,
           0.09,
           0.06,
           0.058,
           0.08,
           0.05,
           0.07,
           0.03,
           0.07,
           0.106,
           0.24,
           0.277
          ]
         },
         "hovertemplate": "band=R<br>time_sec=%{x}<br>mag=%{y}<br>telescope=%{customdata[0]}<br>source=%{customdata[1]}<extra></extra>",
         "legendgroup": "R",
         "marker": {
          "color": "rgb(255,255,51)",
          "symbol": "circle"
         },
         "mode": "markers",
         "name": "R",
         "orientation": "v",
         "showlegend": true,
         "type": "scatter",
         "x": [
          5.013169354035744,
          5.094075436485567,
          5.101770437261437,
          5.1996860794534845,
          5.277766860941249,
          5.323818273786541,
          5.326403048463367,
          5.389139139544831,
          5.439687564802964,
          5.473762495413957,
          5.474020641771863,
          5.520253944484828,
          5.558186143291571,
          5.584228067177945,
          5.584363795232549,
          5.6209526352706,
          5.652080716518788,
          5.67256701209124,
          5.702589748568611,
          5.747645440525094,
          5.864570881427197,
          5.957044206781743
         ],
         "xaxis": "x",
         "y": [
          17.65,
          17.69,
          17.94,
          18.34,
          18.59,
          18.77,
          18.81,
          19.1,
          19.3,
          19.54,
          19.27,
          19.64,
          19.94,
          20.238,
          20.12,
          20.33,
          20.64,
          20.39,
          20.95,
          21.268,
          22.501,
          23.379
         ],
         "yaxis": "y"
        },
        {
         "customdata": [
          [
           "SAAO/SALT(10m)/SALTICAM",
           "Rossi2020"
          ],
          [
           "CTIO/LCOGT(1m)/Sinistro",
           "Rossi2020"
          ],
          [
           "SSO/iTelescope(T17)/CCD",
           "Rossi2020"
          ],
          [
           "SAAO/SALT(10m)/SALTICAM",
           "Rossi2020"
          ],
          [
           "CTIO/LCOGT(1m)/Sinistro",
           "Rossi2020"
          ],
          [
           "SSO/iTelescope(T17)/CCD",
           "Rossi2020"
          ],
          [
           "SAAO/SALT(10m)/SALTICAM",
           "Rossi2020"
          ],
          [
           "CTIO/LCOGT(1m)/Sinistro",
           "Rossi2020"
          ],
          [
           "SSO/iTelescope(T17)/CCD",
           "Rossi2020"
          ],
          [
           "SAAO/SALT(10m)/SALTICAM",
           "Rossi2020"
          ],
          [
           "CTIO/LCOGT(1m)/Sinistro",
           "Rossi2020"
          ],
          [
           "SSO/iTelescope(T17)/CCD",
           "Rossi2020"
          ],
          [
           "SAAO/SALT(10m)/SALTICAM",
           "Rossi2020"
          ],
          [
           "SSO/iTelescope(T17)/CCD",
           "Rossi2020"
          ],
          [
           "SAAO/SALT(10m)/SALTICAM",
           "Rossi2020"
          ],
          [
           "KO/Keck-2(10m)/DEIMOS",
           "Rossi2020"
          ],
          [
           "SSO/iTelescope(T17)/CCD",
           "Rossi2020"
          ],
          [
           "SAAO/SALT(10m)/SALTICAM",
           "Rossi2020"
          ]
         ],
         "error_y": {
          "array": [
           0.1,
           0.09,
           0.09,
           0.12,
           0.13,
           0.1,
           0.11,
           0.11,
           0.1,
           0.1,
           0.1,
           0.13,
           0.1,
           0.14,
           0.11,
           0.09,
           0.12,
           0.13
          ]
         },
         "hovertemplate": "band=I<br>time_sec=%{x}<br>mag=%{y}<br>telescope=%{customdata[0]}<br>source=%{customdata[1]}<extra></extra>",
         "legendgroup": "I",
         "marker": {
          "color": "rgb(166,86,40)",
          "symbol": "circle"
         },
         "mode": "markers",
         "name": "I",
         "orientation": "v",
         "showlegend": true,
         "type": "scatter",
         "x": [
          5.013169354035744,
          5.101770437261437,
          5.20204889614652,
          5.277766860941249,
          5.326403048463367,
          5.389139139544831,
          5.441048789121141,
          5.4750211486011215,
          5.520253944484828,
          5.559222701102496,
          5.584363795232549,
          5.6209526352706,
          5.652080716518788,
          5.703333343558135,
          5.72933717686655,
          5.763025680538402,
          5.771282265248442,
          5.793573043430712
         ],
         "xaxis": "x",
         "y": [
          17.58,
          17.77,
          17.98,
          18.26,
          18.4,
          18.62,
          18.73,
          18.87,
          19,
          19.23,
          19.22,
          19.52,
          19.68,
          19.99,
          20.31,
          20.83,
          20.39,
          20.89
         ],
         "yaxis": "y"
        },
        {
         "customdata": [
          [
           "CTIO/VictorMBlanco(4m)/DECam",
           "Rossi2020"
          ],
          [
           "CTIO/VictorMBlanco(4m)/DECam",
           "Rossi2020"
          ],
          [
           "CTIO/VictorMBlanco(4m)/DECam",
           "Rossi2020"
          ]
         ],
         "error_y": {
          "array": [
           0.05,
           0.16,
           0.32
          ]
         },
         "hovertemplate": "band=u<br>time_sec=%{x}<br>mag=%{y}<br>telescope=%{customdata[0]}<br>source=%{customdata[1]}<extra></extra>",
         "legendgroup": "u",
         "marker": {
          "color": "rgb(247,129,191)",
          "symbol": "circle"
         },
         "mode": "markers",
         "name": "u",
         "orientation": "v",
         "showlegend": true,
         "type": "scatter",
         "x": [
          5.098584200902033,
          5.32609570343995,
          5.47513110739676
         ],
         "xaxis": "x",
         "y": [
          19.94,
          22.26,
          23.06
         ],
         "yaxis": "y"
        },
        {
         "customdata": [
          [
           "Hubble/HST/WFC3",
           "Rossi2020"
          ],
          [
           "Hubble/HST/WFC3",
           "Rossi2020"
          ],
          [
           "Hubble/HST/WFC3",
           "Rossi2020"
          ],
          [
           "Hubble/HST/WFC3",
           "Rossi2020"
          ]
         ],
         "error_y": {
          "array": [
           0.01,
           0.01,
           0.04,
           0.02
          ]
         },
         "hovertemplate": "band=F110W<br>time_sec=%{x}<br>mag=%{y}<br>telescope=%{customdata[0]}<br>source=%{customdata[1]}<extra></extra>",
         "legendgroup": "F110W",
         "marker": {
          "color": "rgb(153,153,153)",
          "symbol": "circle"
         },
         "mode": "markers",
         "name": "F110W",
         "orientation": "v",
         "showlegend": true,
         "type": "scatter",
         "x": [
          5.615371097347703,
          5.79827059235842,
          5.925667427989946,
          5.960741734607847
         ],
         "xaxis": "x",
         "y": [
          18.26,
          19.06,
          20.57,
          20.83
         ],
         "yaxis": "y"
        },
        {
         "customdata": [
          [
           "Hubble/HST/WFC3",
           "Rossi2020"
          ],
          [
           "Hubble/HST/WFC3",
           "Rossi2020"
          ],
          [
           "Hubble/HST/WFC3",
           "Rossi2020"
          ],
          [
           "Hubble/HST/WFC3",
           "Rossi2020"
          ]
         ],
         "error_y": {
          "array": [
           0.11,
           0.11,
           0.11,
           0.27
          ]
         },
         "hovertemplate": "band=F336W<br>time_sec=%{x}<br>mag=%{y}<br>telescope=%{customdata[0]}<br>source=%{customdata[1]}<extra></extra>",
         "legendgroup": "F336W",
         "marker": {
          "color": "rgb(228,26,28)",
          "symbol": "circle"
         },
         "mode": "markers",
         "name": "F336W",
         "orientation": "v",
         "showlegend": true,
         "type": "scatter",
         "x": [
          5.662453719092389,
          5.662453719092389,
          5.662453719092389,
          5.928640586073282
         ],
         "xaxis": "x",
         "y": [
          25.18,
          24.97,
          25.05,
          26.92
         ],
         "yaxis": "y"
        },
        {
         "customdata": [
          [
           "Hubble/HST/WFC3",
           "Rossi2020"
          ],
          [
           "Hubble/HST/WFC3",
           "Rossi2020"
          ],
          [
           "Hubble/HST/WFC3",
           "Rossi2020"
          ]
         ],
         "error_y": {
          "array": [
           0.17,
           0.37,
           0.36
          ]
         },
         "hovertemplate": "band=F606W<br>time_sec=%{x}<br>mag=%{y}<br>telescope=%{customdata[0]}<br>source=%{customdata[1]}<extra></extra>",
         "legendgroup": "F606W",
         "marker": {
          "color": "rgb(55,126,184)",
          "symbol": "circle"
         },
         "mode": "markers",
         "name": "F606W",
         "orientation": "v",
         "showlegend": true,
         "type": "scatter",
         "x": [
          5.842666392997221,
          5.989067684040582,
          5.994904966304219
         ],
         "xaxis": "x",
         "y": [
          22.49,
          23.77,
          23.66
         ],
         "yaxis": "y"
        },
        {
         "customdata": [
          [
           "Hubble/HST/WFC3",
           "Rossi2020"
          ],
          [
           "Hubble/HST/WFC3",
           "Rossi2020"
          ],
          [
           "Hubble/HST/WFC3",
           "Rossi2020"
          ],
          [
           "Hubble/HST/WFC3",
           "Rossi2020"
          ]
         ],
         "error_y": {
          "array": [
           0.42,
           0.06,
           0.69,
           0.64
          ]
         },
         "hovertemplate": "band=F475W<br>time_sec=%{x}<br>mag=%{y}<br>telescope=%{customdata[0]}<br>source=%{customdata[1]}<extra></extra>",
         "legendgroup": "F475W",
         "marker": {
          "color": "rgb(77,175,74)",
          "symbol": "circle"
         },
         "mode": "markers",
         "name": "F475W",
         "orientation": "v",
         "showlegend": true,
         "type": "scatter",
         "x": [
          5.846070266946941,
          5.93242728862215,
          5.990015100381667,
          5.994197804292914
         ],
         "xaxis": "x",
         "y": [
          23.66,
          23.95,
          24.75,
          24.56
         ],
         "yaxis": "y"
        },
        {
         "customdata": [
          [
           "Hubble/HST/WFC3",
           "Rossi2020"
          ]
         ],
         "error_y": {
          "array": [
           0.04
          ]
         },
         "hovertemplate": "band=F160W<br>time_sec=%{x}<br>mag=%{y}<br>telescope=%{customdata[0]}<br>source=%{customdata[1]}<extra></extra>",
         "legendgroup": "F160W",
         "marker": {
          "color": "rgb(152,78,163)",
          "symbol": "circle"
         },
         "mode": "markers",
         "name": "F160W",
         "orientation": "v",
         "showlegend": true,
         "type": "scatter",
         "x": [
          5.926379288054575
         ],
         "xaxis": "x",
         "y": [
          19.89
         ],
         "yaxis": "y"
        },
        {
         "customdata": [
          [
           "Hubble/HST/WFC3",
           "Rossi2020"
          ]
         ],
         "error_y": {
          "array": [
           0.07
          ]
         },
         "hovertemplate": "band=F625W<br>time_sec=%{x}<br>mag=%{y}<br>telescope=%{customdata[0]}<br>source=%{customdata[1]}<extra></extra>",
         "legendgroup": "F625W",
         "marker": {
          "color": "rgb(255,127,0)",
          "symbol": "circle"
         },
         "mode": "markers",
         "name": "F625W",
         "orientation": "v",
         "showlegend": true,
         "type": "scatter",
         "x": [
          5.935152026898865
         ],
         "xaxis": "x",
         "y": [
          22.88
         ],
         "yaxis": "y"
        },
        {
         "customdata": [
          [
           "Hubble/HST/WFC3",
           "Rossi2020"
          ]
         ],
         "error_y": {
          "array": [
           0.02
          ]
         },
         "hovertemplate": "band=F814W<br>time_sec=%{x}<br>mag=%{y}<br>telescope=%{customdata[0]}<br>source=%{customdata[1]}<extra></extra>",
         "legendgroup": "F814W",
         "marker": {
          "color": "rgb(255,255,51)",
          "symbol": "circle"
         },
         "mode": "markers",
         "name": "F814W",
         "orientation": "v",
         "showlegend": true,
         "type": "scatter",
         "x": [
          5.994645103754814
         ],
         "xaxis": "x",
         "y": [
          22.32
         ],
         "yaxis": "y"
        }
       ],
       "layout": {
        "font": {
         "color": "black",
         "family": "arial",
         "size": 18
        },
        "height": 540,
        "legend": {
         "font": {
          "color": "black",
          "family": "arial",
          "size": 18
         },
         "title": {
          "font": {
           "color": "black",
           "family": "arial",
           "size": 20
          },
          "text": "<b>Bands<b>"
         },
         "tracegroupgap": 0
        },
        "margin": {
         "b": 40,
         "l": 40,
         "r": 40,
         "t": 50
        },
        "plot_bgcolor": "white",
        "template": {
         "data": {
          "bar": [
           {
            "error_x": {
             "color": "#2a3f5f"
            },
            "error_y": {
             "color": "#2a3f5f"
            },
            "marker": {
             "line": {
              "color": "#E5ECF6",
              "width": 0.5
             },
             "pattern": {
              "fillmode": "overlay",
              "size": 10,
              "solidity": 0.2
             }
            },
            "type": "bar"
           }
          ],
          "barpolar": [
           {
            "marker": {
             "line": {
              "color": "#E5ECF6",
              "width": 0.5
             },
             "pattern": {
              "fillmode": "overlay",
              "size": 10,
              "solidity": 0.2
             }
            },
            "type": "barpolar"
           }
          ],
          "carpet": [
           {
            "aaxis": {
             "endlinecolor": "#2a3f5f",
             "gridcolor": "white",
             "linecolor": "white",
             "minorgridcolor": "white",
             "startlinecolor": "#2a3f5f"
            },
            "baxis": {
             "endlinecolor": "#2a3f5f",
             "gridcolor": "white",
             "linecolor": "white",
             "minorgridcolor": "white",
             "startlinecolor": "#2a3f5f"
            },
            "type": "carpet"
           }
          ],
          "choropleth": [
           {
            "colorbar": {
             "outlinewidth": 0,
             "ticks": ""
            },
            "type": "choropleth"
           }
          ],
          "contour": [
           {
            "colorbar": {
             "outlinewidth": 0,
             "ticks": ""
            },
            "colorscale": [
             [
              0,
              "#0d0887"
             ],
             [
              0.1111111111111111,
              "#46039f"
             ],
             [
              0.2222222222222222,
              "#7201a8"
             ],
             [
              0.3333333333333333,
              "#9c179e"
             ],
             [
              0.4444444444444444,
              "#bd3786"
             ],
             [
              0.5555555555555556,
              "#d8576b"
             ],
             [
              0.6666666666666666,
              "#ed7953"
             ],
             [
              0.7777777777777778,
              "#fb9f3a"
             ],
             [
              0.8888888888888888,
              "#fdca26"
             ],
             [
              1,
              "#f0f921"
             ]
            ],
            "type": "contour"
           }
          ],
          "contourcarpet": [
           {
            "colorbar": {
             "outlinewidth": 0,
             "ticks": ""
            },
            "type": "contourcarpet"
           }
          ],
          "heatmap": [
           {
            "colorbar": {
             "outlinewidth": 0,
             "ticks": ""
            },
            "colorscale": [
             [
              0,
              "#0d0887"
             ],
             [
              0.1111111111111111,
              "#46039f"
             ],
             [
              0.2222222222222222,
              "#7201a8"
             ],
             [
              0.3333333333333333,
              "#9c179e"
             ],
             [
              0.4444444444444444,
              "#bd3786"
             ],
             [
              0.5555555555555556,
              "#d8576b"
             ],
             [
              0.6666666666666666,
              "#ed7953"
             ],
             [
              0.7777777777777778,
              "#fb9f3a"
             ],
             [
              0.8888888888888888,
              "#fdca26"
             ],
             [
              1,
              "#f0f921"
             ]
            ],
            "type": "heatmap"
           }
          ],
          "heatmapgl": [
           {
            "colorbar": {
             "outlinewidth": 0,
             "ticks": ""
            },
            "colorscale": [
             [
              0,
              "#0d0887"
             ],
             [
              0.1111111111111111,
              "#46039f"
             ],
             [
              0.2222222222222222,
              "#7201a8"
             ],
             [
              0.3333333333333333,
              "#9c179e"
             ],
             [
              0.4444444444444444,
              "#bd3786"
             ],
             [
              0.5555555555555556,
              "#d8576b"
             ],
             [
              0.6666666666666666,
              "#ed7953"
             ],
             [
              0.7777777777777778,
              "#fb9f3a"
             ],
             [
              0.8888888888888888,
              "#fdca26"
             ],
             [
              1,
              "#f0f921"
             ]
            ],
            "type": "heatmapgl"
           }
          ],
          "histogram": [
           {
            "marker": {
             "pattern": {
              "fillmode": "overlay",
              "size": 10,
              "solidity": 0.2
             }
            },
            "type": "histogram"
           }
          ],
          "histogram2d": [
           {
            "colorbar": {
             "outlinewidth": 0,
             "ticks": ""
            },
            "colorscale": [
             [
              0,
              "#0d0887"
             ],
             [
              0.1111111111111111,
              "#46039f"
             ],
             [
              0.2222222222222222,
              "#7201a8"
             ],
             [
              0.3333333333333333,
              "#9c179e"
             ],
             [
              0.4444444444444444,
              "#bd3786"
             ],
             [
              0.5555555555555556,
              "#d8576b"
             ],
             [
              0.6666666666666666,
              "#ed7953"
             ],
             [
              0.7777777777777778,
              "#fb9f3a"
             ],
             [
              0.8888888888888888,
              "#fdca26"
             ],
             [
              1,
              "#f0f921"
             ]
            ],
            "type": "histogram2d"
           }
          ],
          "histogram2dcontour": [
           {
            "colorbar": {
             "outlinewidth": 0,
             "ticks": ""
            },
            "colorscale": [
             [
              0,
              "#0d0887"
             ],
             [
              0.1111111111111111,
              "#46039f"
             ],
             [
              0.2222222222222222,
              "#7201a8"
             ],
             [
              0.3333333333333333,
              "#9c179e"
             ],
             [
              0.4444444444444444,
              "#bd3786"
             ],
             [
              0.5555555555555556,
              "#d8576b"
             ],
             [
              0.6666666666666666,
              "#ed7953"
             ],
             [
              0.7777777777777778,
              "#fb9f3a"
             ],
             [
              0.8888888888888888,
              "#fdca26"
             ],
             [
              1,
              "#f0f921"
             ]
            ],
            "type": "histogram2dcontour"
           }
          ],
          "mesh3d": [
           {
            "colorbar": {
             "outlinewidth": 0,
             "ticks": ""
            },
            "type": "mesh3d"
           }
          ],
          "parcoords": [
           {
            "line": {
             "colorbar": {
              "outlinewidth": 0,
              "ticks": ""
             }
            },
            "type": "parcoords"
           }
          ],
          "pie": [
           {
            "automargin": true,
            "type": "pie"
           }
          ],
          "scatter": [
           {
            "fillpattern": {
             "fillmode": "overlay",
             "size": 10,
             "solidity": 0.2
            },
            "type": "scatter"
           }
          ],
          "scatter3d": [
           {
            "line": {
             "colorbar": {
              "outlinewidth": 0,
              "ticks": ""
             }
            },
            "marker": {
             "colorbar": {
              "outlinewidth": 0,
              "ticks": ""
             }
            },
            "type": "scatter3d"
           }
          ],
          "scattercarpet": [
           {
            "marker": {
             "colorbar": {
              "outlinewidth": 0,
              "ticks": ""
             }
            },
            "type": "scattercarpet"
           }
          ],
          "scattergeo": [
           {
            "marker": {
             "colorbar": {
              "outlinewidth": 0,
              "ticks": ""
             }
            },
            "type": "scattergeo"
           }
          ],
          "scattergl": [
           {
            "marker": {
             "colorbar": {
              "outlinewidth": 0,
              "ticks": ""
             }
            },
            "type": "scattergl"
           }
          ],
          "scattermapbox": [
           {
            "marker": {
             "colorbar": {
              "outlinewidth": 0,
              "ticks": ""
             }
            },
            "type": "scattermapbox"
           }
          ],
          "scatterpolar": [
           {
            "marker": {
             "colorbar": {
              "outlinewidth": 0,
              "ticks": ""
             }
            },
            "type": "scatterpolar"
           }
          ],
          "scatterpolargl": [
           {
            "marker": {
             "colorbar": {
              "outlinewidth": 0,
              "ticks": ""
             }
            },
            "type": "scatterpolargl"
           }
          ],
          "scatterternary": [
           {
            "marker": {
             "colorbar": {
              "outlinewidth": 0,
              "ticks": ""
             }
            },
            "type": "scatterternary"
           }
          ],
          "surface": [
           {
            "colorbar": {
             "outlinewidth": 0,
             "ticks": ""
            },
            "colorscale": [
             [
              0,
              "#0d0887"
             ],
             [
              0.1111111111111111,
              "#46039f"
             ],
             [
              0.2222222222222222,
              "#7201a8"
             ],
             [
              0.3333333333333333,
              "#9c179e"
             ],
             [
              0.4444444444444444,
              "#bd3786"
             ],
             [
              0.5555555555555556,
              "#d8576b"
             ],
             [
              0.6666666666666666,
              "#ed7953"
             ],
             [
              0.7777777777777778,
              "#fb9f3a"
             ],
             [
              0.8888888888888888,
              "#fdca26"
             ],
             [
              1,
              "#f0f921"
             ]
            ],
            "type": "surface"
           }
          ],
          "table": [
           {
            "cells": {
             "fill": {
              "color": "#EBF0F8"
             },
             "line": {
              "color": "white"
             }
            },
            "header": {
             "fill": {
              "color": "#C8D4E3"
             },
             "line": {
              "color": "white"
             }
            },
            "type": "table"
           }
          ]
         },
         "layout": {
          "annotationdefaults": {
           "arrowcolor": "#2a3f5f",
           "arrowhead": 0,
           "arrowwidth": 1
          },
          "autotypenumbers": "strict",
          "coloraxis": {
           "colorbar": {
            "outlinewidth": 0,
            "ticks": ""
           }
          },
          "colorscale": {
           "diverging": [
            [
             0,
             "#8e0152"
            ],
            [
             0.1,
             "#c51b7d"
            ],
            [
             0.2,
             "#de77ae"
            ],
            [
             0.3,
             "#f1b6da"
            ],
            [
             0.4,
             "#fde0ef"
            ],
            [
             0.5,
             "#f7f7f7"
            ],
            [
             0.6,
             "#e6f5d0"
            ],
            [
             0.7,
             "#b8e186"
            ],
            [
             0.8,
             "#7fbc41"
            ],
            [
             0.9,
             "#4d9221"
            ],
            [
             1,
             "#276419"
            ]
           ],
           "sequential": [
            [
             0,
             "#0d0887"
            ],
            [
             0.1111111111111111,
             "#46039f"
            ],
            [
             0.2222222222222222,
             "#7201a8"
            ],
            [
             0.3333333333333333,
             "#9c179e"
            ],
            [
             0.4444444444444444,
             "#bd3786"
            ],
            [
             0.5555555555555556,
             "#d8576b"
            ],
            [
             0.6666666666666666,
             "#ed7953"
            ],
            [
             0.7777777777777778,
             "#fb9f3a"
            ],
            [
             0.8888888888888888,
             "#fdca26"
            ],
            [
             1,
             "#f0f921"
            ]
           ],
           "sequentialminus": [
            [
             0,
             "#0d0887"
            ],
            [
             0.1111111111111111,
             "#46039f"
            ],
            [
             0.2222222222222222,
             "#7201a8"
            ],
            [
             0.3333333333333333,
             "#9c179e"
            ],
            [
             0.4444444444444444,
             "#bd3786"
            ],
            [
             0.5555555555555556,
             "#d8576b"
            ],
            [
             0.6666666666666666,
             "#ed7953"
            ],
            [
             0.7777777777777778,
             "#fb9f3a"
            ],
            [
             0.8888888888888888,
             "#fdca26"
            ],
            [
             1,
             "#f0f921"
            ]
           ]
          },
          "colorway": [
           "#636efa",
           "#EF553B",
           "#00cc96",
           "#ab63fa",
           "#FFA15A",
           "#19d3f3",
           "#FF6692",
           "#B6E880",
           "#FF97FF",
           "#FECB52"
          ],
          "font": {
           "color": "#2a3f5f"
          },
          "geo": {
           "bgcolor": "white",
           "lakecolor": "white",
           "landcolor": "#E5ECF6",
           "showlakes": true,
           "showland": true,
           "subunitcolor": "white"
          },
          "hoverlabel": {
           "align": "left"
          },
          "hovermode": "closest",
          "mapbox": {
           "style": "light"
          },
          "paper_bgcolor": "white",
          "plot_bgcolor": "#E5ECF6",
          "polar": {
           "angularaxis": {
            "gridcolor": "white",
            "linecolor": "white",
            "ticks": ""
           },
           "bgcolor": "#E5ECF6",
           "radialaxis": {
            "gridcolor": "white",
            "linecolor": "white",
            "ticks": ""
           }
          },
          "scene": {
           "xaxis": {
            "backgroundcolor": "#E5ECF6",
            "gridcolor": "white",
            "gridwidth": 2,
            "linecolor": "white",
            "showbackground": true,
            "ticks": "",
            "zerolinecolor": "white"
           },
           "yaxis": {
            "backgroundcolor": "#E5ECF6",
            "gridcolor": "white",
            "gridwidth": 2,
            "linecolor": "white",
            "showbackground": true,
            "ticks": "",
            "zerolinecolor": "white"
           },
           "zaxis": {
            "backgroundcolor": "#E5ECF6",
            "gridcolor": "white",
            "gridwidth": 2,
            "linecolor": "white",
            "showbackground": true,
            "ticks": "",
            "zerolinecolor": "white"
           }
          },
          "shapedefaults": {
           "line": {
            "color": "#2a3f5f"
           }
          },
          "ternary": {
           "aaxis": {
            "gridcolor": "white",
            "linecolor": "white",
            "ticks": ""
           },
           "baxis": {
            "gridcolor": "white",
            "linecolor": "white",
            "ticks": ""
           },
           "bgcolor": "#E5ECF6",
           "caxis": {
            "gridcolor": "white",
            "linecolor": "white",
            "ticks": ""
           }
          },
          "title": {
           "x": 0.05
          },
          "xaxis": {
           "automargin": true,
           "gridcolor": "white",
           "linecolor": "white",
           "ticks": "",
           "title": {
            "standoff": 15
           },
           "zerolinecolor": "white",
           "zerolinewidth": 2
          },
          "yaxis": {
           "automargin": true,
           "gridcolor": "white",
           "linecolor": "white",
           "ticks": "",
           "title": {
            "standoff": 15
           },
           "zerolinecolor": "white",
           "zerolinewidth": 2
          }
         }
        },
        "title": {
         "font": {
          "size": 24
         },
         "text": "GRB 170817A"
        },
        "width": 960,
        "xaxis": {
         "anchor": "y",
         "domain": [
          0,
          1
         ],
         "linecolor": "black",
         "linewidth": 2.4,
         "mirror": "allticks",
         "showgrid": false,
         "showline": true,
         "showticklabels": true,
         "tickcolor": "black",
         "tickfont": {
          "color": "black",
          "family": "arial",
          "size": 18
         },
         "ticks": "outside",
         "tickwidth": 2.4,
         "title": {
          "font": {
           "color": "black",
           "size": 20
          },
          "text": "<b>log10 Time (s)<b>"
         }
        },
        "yaxis": {
         "anchor": "x",
         "autorange": "reversed",
         "domain": [
          0,
          1
         ],
         "linecolor": "black",
         "linewidth": 2.4,
         "mirror": "allticks",
         "showgrid": false,
         "showline": true,
         "showticklabels": true,
         "tickcolor": "black",
         "tickfont": {
          "color": "black",
          "family": "arial",
          "size": 18
         },
         "ticks": "outside",
         "tickwidth": 2.4,
         "title": {
          "font": {
           "color": "black",
           "size": 20
          },
          "text": "<b>Magnitude<b>"
         }
        }
       }
      }
     },
     "metadata": {},
     "output_type": "display_data"
    }
   ],
   "source": [
    "# initialise lightcurve object\n",
    "\n",
    "from grblc.lightcurve import Lightcurve\n",
    "\n",
    "grb = '170817A'\n",
    "\n",
    "lc = Lightcurve(\n",
    "    grb,\n",
    "    path = 'raw',\n",
    "    data_space = 'lin',\n",
    "    save = False\n",
    "    )\n",
    "\n",
    "lc.displayGRB()"
   ]
  },
  {
   "cell_type": "markdown",
   "metadata": {},
   "source": [
    "### `Photometry` module\n",
    "\n",
    "Warning: The functions in this module take a while to complete the calculations as it involves cross-matching filters and telescopes for each data point."
   ]
  },
  {
   "cell_type": "code",
   "execution_count": null,
   "metadata": {},
   "outputs": [],
   "source": [
    "# convert to AB system and correct for extinction\n",
    "# Took 15 minutes for me :)\n",
    "\n",
    "lc.convertGRB(\n",
    "            save = True,\n",
    "            debug = False\n",
    "            )"
   ]
  },
  {
   "cell_type": "code",
   "execution_count": null,
   "metadata": {},
   "outputs": [],
   "source": [
    "# spectral index calculation\n",
    "\n",
    "from grblc.lightcurve import Lightcurve\n",
    "\n",
    "grb = '170817A'\n",
    "lc = Lightcurve(\n",
    "    grb,\n",
    "    path = 'converted',\n",
    "    data_space = 'lin',\n",
    "    save_in_folder = None\n",
    "    )\n",
    "\n",
    "lc.betaGRB()"
   ]
  },
  {
   "cell_type": "code",
   "execution_count": null,
   "metadata": {},
   "outputs": [],
   "source": [
    "lc.host_kcorrectGRB()"
   ]
  },
  {
   "cell_type": "markdown",
   "metadata": {},
   "source": [
    "### `Evolution` module"
   ]
  },
  {
   "cell_type": "code",
   "execution_count": 2,
   "metadata": {},
   "outputs": [
    {
     "data": {
      "image/png": "[encoded data removed]",
      "text/plain": [
       "<Figure size 640x480 with 2 Axes>"
      ]
     },
     "metadata": {},
     "output_type": "display_data"
    },
    {
     "data": {
      "image/png": "[encoded data removed]",
      "text/plain": [
       "<Figure size 1600x900 with 2 Axes>"
      ]
     },
     "metadata": {},
     "output_type": "display_data"
    }
   ],
   "source": [
    "# analysing colour evolution\n",
    "\n",
    "# initialise lightcurve object\n",
    "\n",
    "from grblc.lightcurve import Lightcurve\n",
    "\n",
    "grb = '170817A'\n",
    "lc = Lightcurve(\n",
    "    grb,\n",
    "    path = 'converted',\n",
    "    data_space = 'lin',\n",
    "    appx_bands = True,\n",
    "    save = False\n",
    "    )\n",
    "\n",
    "fig, *__ = lc.colorevolGRB()"
   ]
  },
  {
   "cell_type": "code",
   "execution_count": 3,
   "metadata": {},
   "outputs": [
    {
     "data": {
      "application/vnd.plotly.v1+json": {
       "config": {
        "plotlyServerURL": "https://plot.ly"
       },
       "data": [
        {
         "error_y": {
          "array": [
           0.018,
           0.03,
           0.02,
           0.03,
           0.02,
           0.047,
           0.01,
           0.045,
           0.116,
           0.183,
           0.03
          ]
         },
         "hovertemplate": "      <b>Band<b>=i (11)<br>x=%{x}<br>y=%{y}<extra></extra>",
         "legendgroup": "i (11)",
         "marker": {
          "color": "rgb(228,26,28)",
          "size": 7,
          "symbol": "circle"
         },
         "mode": "markers",
         "name": "<b>i (11)</b>",
         "orientation": "v",
         "showlegend": true,
         "type": "scatter",
         "x": [
          4.594273185872828,
          5.098524390908145,
          5.1177100097896595,
          5.32760207122408,
          5.329623206511437,
          5.478309594317676,
          5.481987519605433,
          5.586017622887098,
          5.6750146316600505,
          5.809512848702256,
          5.811557312031467
         ],
         "xaxis": "x",
         "y": [
          17.296264734797475,
          17.588315414702652,
          17.622264734797476,
          18.37,
          18.17831541470265,
          18.74226473479748,
          18.75026473479748,
          19.206264734797475,
          20.09026473479748,
          21.24026473479748,
          20.73026473479748
         ],
         "yaxis": "y"
        },
        {
         "error_y": {
          "array": [
           0.15,
           0.01,
           0.1,
           0.09,
           0.01,
           0.1,
           0.03,
           0.14,
           0.18,
           0.06,
           0.15,
           0.15,
           0.09
          ]
         },
         "hovertemplate": "      <b>Band<b>=H (13)<br>x=%{x}<br>y=%{y}<extra></extra>",
         "legendgroup": "H (13)",
         "marker": {
          "color": "rgb(55,126,184)",
          "size": 7,
          "symbol": "circle"
         },
         "mode": "markers",
         "name": "<b>H (13)</b>",
         "orientation": "v",
         "showlegend": true,
         "type": "scatter",
         "x": [
          4.6016698196715575,
          5.1016236398110335,
          5.104228916159975,
          5.323431145259261,
          5.32457002356252,
          5.584419431475908,
          5.6288956858628945,
          5.807931800041965,
          5.863491072032829,
          5.910966690360492,
          5.911547712352183,
          5.955727570839238,
          5.962667887444997
         ],
         "xaxis": "x",
         "y": [
          18.20858018847394,
          17.46858018847394,
          17.5792386366632,
          17.6592386366632,
          17.51858018847394,
          17.8692386366632,
          18.0092386366632,
          18.7392386366632,
          19.1692386366632,
          19.5492386366632,
          19.5692386366632,
          19.9892386366632,
          20.2292386366632
         ],
         "yaxis": "y"
        },
        {
         "error_y": {
          "array": [
           0.02,
           0.02,
           0.02,
           0.03,
           0.02,
           0.018,
           0.04,
           0.03,
           0.02,
           0.01,
           0.04,
           0.089,
           0.02,
           0.01,
           0.05,
           0.01,
           0.125,
           0.03,
           0.24,
           0.03,
           0.07,
           0.11,
           0.04,
           0.05,
           0.18,
           0.04,
           0.07,
           0.31
          ]
         },
         "hovertemplate": "      <b>Band<b>=r (28)<br>x=%{x}<br>y=%{y}<extra></extra>",
         "legendgroup": "r (28)",
         "marker": {
          "color": "rgb(77,175,74)",
          "size": 7,
          "symbol": "circle"
         },
         "mode": "markers",
         "name": "<b>r (28)</b>",
         "orientation": "v",
         "showlegend": true,
         "type": "scatter",
         "x": [
          4.610775108182708,
          5.095230043768563,
          5.097686184976015,
          5.098763581476061,
          5.1045751904123176,
          5.118853089116484,
          5.324091817874829,
          5.325564098043082,
          5.331271286932973,
          5.474502396093712,
          5.47513110739676,
          5.478309594317676,
          5.479652747894751,
          5.482001834548799,
          5.585492764595072,
          5.58608115803233,
          5.587061394396655,
          5.672201706581809,
          5.6730972477294745,
          5.676285455369364,
          5.746286001160599,
          5.809060089698383,
          5.8116377327657895,
          5.86406231563367,
          5.864330206023796,
          5.912564254173961,
          5.956333661541515,
          6.03161138385928
         ],
         "xaxis": "x",
         "y": [
          17.082103544288394,
          17.69,
          17.797800485233545,
          17.662103544288396,
          17.708800485233546,
          17.742800485233545,
          18.77,
          18.787800485233547,
          18.682103544288395,
          19.28,
          19.047800485233545,
          19.572800485233547,
          19.497800485233544,
          19.417800485233546,
          20.007800485233545,
          19.86,
          20.336800485233542,
          20.39,
          20.547800485233545,
          20.497800485233544,
          21.067800485233544,
          20.987800485233542,
          21.497800485233544,
          21.75,
          21.707800485233545,
          22.2,
          22.45,
          23.12
         ],
         "yaxis": "y"
        },
        {
         "error_y": {
          "array": [
           0.15,
           0.03,
           0.03,
           0.01,
           0.01,
           0.01,
           0.01,
           0.01,
           0.02,
           0.01,
           0.02,
           0.02,
           0.03,
           0.04,
           0.04,
           0.08,
           0.1,
           0.09,
           0.14,
           0.35,
           0.4
          ]
         },
         "hovertemplate": "      <b>Band<b>=J (21)<br>x=%{x}<br>y=%{y}<extra></extra>",
         "legendgroup": "J (21)",
         "marker": {
          "color": "rgb(152,78,163)",
          "size": 7,
          "symbol": "circle"
         },
         "mode": "markers",
         "name": "<b>J (21)</b>",
         "orientation": "v",
         "showlegend": true,
         "type": "scatter",
         "x": [
          4.610775108182708,
          4.6183828453446445,
          4.64467487591822,
          5.098972765211638,
          5.104626390980377,
          5.1051724278265045,
          5.3229854584911,
          5.326113412417397,
          5.32968419556088,
          5.473721527919821,
          5.477180314753406,
          5.586913285701275,
          5.587082972504066,
          5.747598848303689,
          5.809406654410987,
          5.809990966966559,
          5.864517488634707,
          5.8645352869615675,
          5.912987271209057,
          5.95657217504674,
          5.996179169528468
         ],
         "xaxis": "x",
         "y": [
          17.75155536961007,
          17.800917044433355,
          17.740917044433356,
          17.39155536961007,
          17.370917044433355,
          17.241555369610072,
          17.471555369610073,
          17.44155536961007,
          17.580917044433356,
          17.771555369610073,
          17.780917044433355,
          18.02155536961008,
          18.000917044433354,
          18.660917044433354,
          18.91155536961007,
          18.99091704443336,
          19.22155536961008,
          19.61091704443336,
          19.980917044433355,
          20.86091704443336,
          21.08091704443336
         ],
         "yaxis": "y"
        },
        {
         "error_y": {
          "array": [
           0.03,
           0.06,
           0.06,
           0.06,
           0.07,
           0.13,
           0.05,
           0.02,
           0.01,
           0.027,
           0.12,
           0.03,
           0.039,
           0.07,
           0.03,
           0.07,
           0.092,
           0.04,
           0.11,
           0.11,
           0.214,
           0.471,
           0.28,
           0.368,
           0.48
          ]
         },
         "hovertemplate": "      <b>Band<b>=z (25)<br>x=%{x}<br>y=%{y}<extra></extra>",
         "legendgroup": "z (25)",
         "marker": {
          "color": "rgb(255,127,0)",
          "size": 7,
          "symbol": "circle"
         },
         "mode": "markers",
         "name": "<b>z (25)</b>",
         "orientation": "v",
         "showlegend": true,
         "type": "scatter",
         "x": [
          4.610775108182708,
          5.097626251173037,
          5.098105490163472,
          5.09828506853184,
          5.1045751904123176,
          5.32760207122408,
          5.477136889039792,
          5.479652747894751,
          5.584911705127097,
          5.58718410559498,
          5.672411693223791,
          5.676285455369364,
          5.746324945903575,
          5.808211999560072,
          5.863026725023166,
          5.863079825190795,
          5.864075856612928,
          5.911822130160571,
          5.91242081904214,
          5.912622252264765,
          5.9558573950200575,
          5.995553065694176,
          6.065035067558467,
          6.096676403989187,
          6.22583879805446
         ],
         "xaxis": "x",
         "y": [
          17.50219226350117,
          17.452192263501168,
          17.442192263501166,
          17.442192263501166,
          17.486192263501167,
          18.01,
          18.21219226350117,
          18.132192263501167,
          18.73,
          18.791953592118503,
          18.912192263501165,
          18.992192263501167,
          19.491953592118502,
          19.702192263501168,
          20.28,
          20.232192263501165,
          20.470953592118505,
          20.85,
          20.69,
          20.69,
          21.878953592118503,
          22.679953592118505,
          22.3,
          23.206953592118506,
          23.37
         ],
         "yaxis": "y"
        },
        {
         "error_y": {
          "array": [
           0.02,
           0.04,
           0.08,
           0.05,
           0.08,
           0.04,
           0.041,
           0.04,
           0.06,
           0.04,
           0.06,
           0.1,
           0.05,
           0.05,
           0.07,
           0.11,
           0.05,
           0.08,
           0.18,
           0.12,
           0.2,
           0.2,
           0.19,
           0.2,
           0.115,
           0.15,
           0.054,
           0.158,
           0.256,
           0.28
          ]
         },
         "hovertemplate": "      <b>Band<b>=V (30)<br>x=%{x}<br>y=%{y}<extra></extra>",
         "legendgroup": "V (30)",
         "marker": {
          "color": "rgb(255,255,51)",
          "size": 7,
          "symbol": "circle"
         },
         "mode": "markers",
         "name": "<b>V (30)</b>",
         "orientation": "v",
         "showlegend": true,
         "type": "scatter",
         "x": [
          4.611094240570642,
          5.013169354035744,
          5.093878154870989,
          5.095296586307409,
          5.095718203854858,
          5.098791810559456,
          5.102865726945432,
          5.107711832558442,
          5.108092319115667,
          5.108414009119151,
          5.118012742356293,
          5.118298595109088,
          5.1996860794534845,
          5.277766860941249,
          5.283588853532239,
          5.324631726336728,
          5.326403048463367,
          5.32968419556088,
          5.331437014890555,
          5.332555117964053,
          5.339014900127872,
          5.392529532999511,
          5.443788517818216,
          5.473248195753014,
          5.475933138488701,
          5.479126878773975,
          5.589087749540436,
          5.749124472337463,
          5.865189758584596,
          5.957159258688069
         ],
         "xaxis": "x",
         "y": [
          17.35,
          17.503579148391722,
          18.22,
          18.16,
          18.13,
          17.973579148391725,
          17.915579148391725,
          18.14,
          18.16,
          18.18,
          18.25,
          18.18,
          18.492341075684784,
          18.943579148391724,
          19.06,
          19.4,
          19.203579148391725,
          19.51,
          19.33,
          19.53,
          19.59,
          19.77,
          19.89,
          20.54,
          20.214579148391724,
          20.55,
          20.7874319897604,
          22.0664319897604,
          22.8574319897604,
          23.4664319897604
         ],
         "yaxis": "y"
        },
        {
         "error_y": {
          "array": [
           0.02,
           0.04,
           0.02,
           0.07,
           0.12,
           0.12,
           0.03,
           0.14,
           0.03,
           0.03,
           0.04,
           0.06,
           0.068,
           0.124,
           0.17,
           0.21,
           0.2,
           0.282,
           0.11,
           0.05,
           0.33,
           0.16,
           0.08,
           0.049,
           0.06,
           0.01,
           0.22,
           0.11,
           0.06,
           0.104,
           0.12,
           0.1
          ]
         },
         "hovertemplate": "      <b>Band<b>=g (32)<br>x=%{x}<br>y=%{y}<extra></extra>",
         "legendgroup": "g (32)",
         "marker": {
          "color": "rgb(166,86,40)",
          "size": 7,
          "symbol": "circle"
         },
         "mode": "markers",
         "name": "<b>g (32)</b>",
         "orientation": "v",
         "showlegend": true,
         "type": "scatter",
         "x": [
          4.616614969871581,
          4.621037451593204,
          4.6241690201318155,
          4.657637073991166,
          4.877873316653548,
          5.02205206711582,
          5.097686184976015,
          5.098688018136431,
          5.099210050149664,
          5.10102769361882,
          5.103046636726954,
          5.1045751904123176,
          5.114386774376045,
          5.120846266885037,
          5.201731320511736,
          5.2849538281466675,
          5.285537506528159,
          5.32322073905793,
          5.32414329410851,
          5.325564098043082,
          5.332659792693573,
          5.473872773309982,
          5.47513110739676,
          5.477435570155865,
          5.479652747894751,
          5.482245116422237,
          5.584584941080106,
          5.585882410793071,
          5.588976854199748,
          5.590568559989977,
          5.673957456298145,
          5.676285455369364
         ],
         "xaxis": "x",
         "y": [
          17.048785829907178,
          17.048785829907178,
          17.02878582990718,
          16.874062626113414,
          17.32,
          18.12,
          18.214062626113414,
          18.74,
          18.248785829907177,
          18.29878582990717,
          18.04406262611341,
          18.10706262611341,
          18.14506262611341,
          18.042062626113413,
          19.53,
          20.44,
          20.24,
          19.868062626113414,
          19.74406262611341,
          19.76406262611341,
          20.81,
          20.684062626113413,
          20.484062626113413,
          20.32506262611341,
          20.49406262611341,
          20.45406262611341,
          21.13406262611341,
          21.28406262611341,
          21.41878582990718,
          21.304062626113414,
          22.06406262611341,
          21.88606262611341
         ],
         "yaxis": "y"
        },
        {
         "error_y": {
          "array": [
           0.04,
           0.04,
           0.04,
           0.04,
           0.05,
           0.06,
           0.06,
           0.07,
           0.07,
           0.06,
           0.05,
           0.05,
           0.05,
           0.07,
           0.08,
           0.13,
           0.06,
           0.09
          ]
         },
         "hovertemplate": "      <b>Band<b>=w (18)<br>x=%{x}<br>y=%{y}<extra></extra>",
         "legendgroup": "w (18)",
         "marker": {
          "color": "rgb(247,129,191)",
          "size": 7,
          "symbol": "circle"
         },
         "mode": "markers",
         "name": "<b>w (18)</b>",
         "orientation": "v",
         "showlegend": true,
         "type": "scatter",
         "x": [
          4.621084841732344,
          4.868324623511578,
          5.017751002269315,
          5.09508562394388,
          5.198892311898261,
          5.2849538281466675,
          5.285537506528159,
          5.327571431219982,
          5.3282768286410045,
          5.332485320792745,
          5.333008526362045,
          5.3913120382049655,
          5.391921212240485,
          5.395558420843756,
          5.396010937542635,
          5.444193492886184,
          5.444732872880539,
          5.586305484397182
         ],
         "xaxis": "x",
         "y": [
          17.49,
          17.31,
          17.95,
          18.23,
          18.69,
          19.11,
          19.11,
          19.56,
          19.48,
          19.46,
          19.36,
          19.68,
          19.61,
          19.53,
          19.56,
          20.13,
          19.99,
          20.64
         ],
         "yaxis": "y"
        },
        {
         "error_y": {
          "array": [
           0.01,
           0.01,
           0.02,
           0.01,
           0.02,
           0.02,
           0.1,
           0.04,
           0.07,
           0.09,
           0.14
          ]
         },
         "hovertemplate": "      <b>Band<b>=Y (11)<br>x=%{x}<br>y=%{y}<extra></extra>",
         "legendgroup": "Y (11)",
         "marker": {
          "color": "rgb(153,153,153)",
          "size": 7,
          "symbol": "circle"
         },
         "mode": "markers",
         "name": "<b>Y (11)</b>",
         "orientation": "v",
         "showlegend": true,
         "type": "scatter",
         "x": [
          4.625551144411224,
          5.103445194569795,
          5.328981082186697,
          5.475676998245082,
          5.5841751217371804,
          5.585916217763336,
          5.674687388192349,
          5.747330379749316,
          5.809758434638757,
          5.863919753391707,
          5.912436758618594
         ],
         "xaxis": "x",
         "y": [
          17.46,
          17.23,
          17.51,
          17.76,
          17.973444101559398,
          18.07,
          18.2234441015594,
          18.71,
          19.24,
          19.67,
          20.09
         ],
         "yaxis": "y"
        },
        {
         "error_y": {
          "array": [
           0.15,
           0.04,
           0.06,
           0.09,
           0.09,
           0.09,
           0.09,
           0.1,
           0.13,
           0.17
          ]
         },
         "hovertemplate": "      <b>Band<b>=K (10)<br>x=%{x}<br>y=%{y}<extra></extra>",
         "legendgroup": "K (10)",
         "marker": {
          "color": "rgb(228,26,28)",
          "size": 7,
          "symbol": "circle"
         },
         "mode": "markers",
         "name": "<b>K (10)</b>",
         "orientation": "v",
         "showlegend": true,
         "type": "scatter",
         "x": [
          4.6375177476078955,
          5.098883127376141,
          5.322896266225305,
          6.031136733111972,
          6.031939312136816,
          6.0652472383229385,
          6.065634530211298,
          6.125218618684389,
          6.2020943853892785,
          6.202800656983296
         ],
         "xaxis": "x",
         "y": [
          18.375738152514696,
          17.575738152514695,
          17.515738152514697,
          19.32573815251469,
          19.285738152514696,
          19.485738152514696,
          19.395738152514696,
          20.195738152514696,
          20.77573815251469,
          20.895738152514696
         ],
         "yaxis": "y"
        },
        {
         "error_y": {
          "array": [
           0.24,
           0.45
          ]
         },
         "hovertemplate": "      <b>Band<b>=UVM2 (2)<br>x=%{x}<br>y=%{y}<extra></extra>",
         "legendgroup": "UVM2 (2)",
         "marker": {
          "color": "rgb(55,126,184)",
          "size": 7,
          "symbol": "circle"
         },
         "mode": "markers",
         "name": "<b>UVM2 (2)</b>",
         "orientation": "v",
         "showlegend": true,
         "type": "scatter",
         "x": [
          4.7359576033078685,
          4.970500061236117
         ],
         "xaxis": "x",
         "y": [
          20.23584581362081,
          21.635845813620804
         ],
         "yaxis": "y"
        },
        {
         "error_y": {
          "array": [
           0.11,
           0.23
          ]
         },
         "hovertemplate": "      <b>Band<b>=UVW1 (2)<br>x=%{x}<br>y=%{y}<extra></extra>",
         "legendgroup": "UVW1 (2)",
         "marker": {
          "color": "rgb(77,175,74)",
          "size": 7,
          "symbol": "circle"
         },
         "mode": "markers",
         "name": "<b>UVW1 (2)</b>",
         "orientation": "v",
         "showlegend": true,
         "type": "scatter",
         "x": [
          4.738227828704857,
          4.95304558666013
         ],
         "xaxis": "x",
         "y": [
          18.849082559857845,
          19.599082559857845
         ],
         "yaxis": "y"
        },
        {
         "error_y": {
          "array": [
           0.09,
           0.17,
           0.45,
           0.29,
           0.23,
           0.28,
           0.28
          ]
         },
         "hovertemplate": "      <b>Band<b>=U (7)<br>x=%{x}<br>y=%{y}<extra></extra>",
         "legendgroup": "U (7)",
         "marker": {
          "color": "rgb(152,78,163)",
          "size": 7,
          "symbol": "circle"
         },
         "mode": "markers",
         "name": "<b>U (7)</b>",
         "orientation": "v",
         "showlegend": true,
         "type": "scatter",
         "x": [
          4.743168623378604,
          4.954548096962958,
          5.113689382828022,
          5.1184565274472344,
          5.118485091987129,
          5.119597646176288,
          5.120707357557925
         ],
         "xaxis": "x",
         "y": [
          17.717547944966554,
          18.52754794496656,
          20.317547944966552,
          19.7887359529593,
          19.6487359529593,
          19.7487359529593,
          19.6387359529593
         ],
         "yaxis": "y"
        },
        {
         "error_y": {
          "array": [
           0.11,
           0.11,
           0.06,
           0.07,
           0.037,
           0.12,
           0.09,
           0.1,
           0.126,
           0.128,
           0.14,
           0.251,
           0.31,
           0.363
          ]
         },
         "hovertemplate": "      <b>Band<b>=B (14)<br>x=%{x}<br>y=%{y}<extra></extra>",
         "legendgroup": "B (14)",
         "marker": {
          "color": "rgb(255,127,0)",
          "size": 7,
          "symbol": "circle"
         },
         "mode": "markers",
         "name": "<b>B (14)</b>",
         "orientation": "v",
         "showlegend": true,
         "type": "scatter",
         "x": [
          5.009513783205766,
          5.098791810559456,
          5.099864814720617,
          5.1002820227442625,
          5.114262608413977,
          5.1996860794534845,
          5.275644838360736,
          5.326403048463367,
          5.4764345267806815,
          5.589221967520051,
          5.589285572354879,
          5.749124472337463,
          5.811802870260766,
          5.865189758584596
         ],
         "xaxis": "x",
         "y": [
          18.074037934272766,
          18.694037934272767,
          18.646737610546825,
          18.646737610546825,
          18.670037934272766,
          19.70403793427277,
          20.054037934272767,
          20.424037934272768,
          21.32303793427277,
          22.335737610546825,
          22.126737610546822,
          23.413737610546825,
          23.456737610546828,
          24.187737610546822
         ],
         "yaxis": "y"
        },
        {
         "error_y": {
          "array": [
           0.05,
           0.02,
           0.05,
           0.05,
           0.05,
           0.04,
           0.05,
           0.05,
           0.05,
           0.06,
           0.01,
           0.09,
           0.06,
           0.058,
           0.08,
           0.05,
           0.07,
           0.03,
           0.07,
           0.106,
           0.24,
           0.277
          ]
         },
         "hovertemplate": "      <b>Band<b>=R (22)<br>x=%{x}<br>y=%{y}<extra></extra>",
         "legendgroup": "R (22)",
         "marker": {
          "color": "rgb(255,255,51)",
          "size": 7,
          "symbol": "circle"
         },
         "mode": "markers",
         "name": "<b>R (22)</b>",
         "orientation": "v",
         "showlegend": true,
         "type": "scatter",
         "x": [
          5.013169354035744,
          5.094075436485567,
          5.101770437261437,
          5.1996860794534845,
          5.277766860941249,
          5.323818273786541,
          5.326403048463367,
          5.389139139544831,
          5.439687564802964,
          5.473762495413957,
          5.474020641771863,
          5.520253944484828,
          5.558186143291571,
          5.584228067177945,
          5.584363795232549,
          5.6209526352706,
          5.652080716518788,
          5.67256701209124,
          5.702589748568611,
          5.747645440525094,
          5.864570881427197,
          5.957044206781743
         ],
         "xaxis": "x",
         "y": [
          17.469097987051008,
          17.69,
          17.75909798705101,
          18.10438245174956,
          18.40909798705101,
          18.77,
          18.629097987051008,
          18.864382451749563,
          19.11909798705101,
          19.35909798705101,
          19.27,
          19.40438245174956,
          19.75909798705101,
          20.0007616785326,
          19.93909798705101,
          20.09438245174956,
          20.45909798705101,
          20.39,
          20.71438245174956,
          21.030761678532603,
          22.263761678532603,
          23.141761678532603
         ],
         "yaxis": "y"
        },
        {
         "error_y": {
          "array": [
           0.1,
           0.09,
           0.09,
           0.12,
           0.13,
           0.1,
           0.11,
           0.11,
           0.1,
           0.1,
           0.1,
           0.13,
           0.1,
           0.14,
           0.11,
           0.09,
           0.12,
           0.13
          ]
         },
         "hovertemplate": "      <b>Band<b>=I (18)<br>x=%{x}<br>y=%{y}<extra></extra>",
         "legendgroup": "I (18)",
         "marker": {
          "color": "rgb(166,86,40)",
          "size": 7,
          "symbol": "circle"
         },
         "mode": "markers",
         "name": "<b>I (18)</b>",
         "orientation": "v",
         "showlegend": true,
         "type": "scatter",
         "x": [
          5.013169354035744,
          5.101770437261437,
          5.20204889614652,
          5.277766860941249,
          5.326403048463367,
          5.389139139544831,
          5.441048789121141,
          5.4750211486011215,
          5.520253944484828,
          5.559222701102496,
          5.584363795232549,
          5.6209526352706,
          5.652080716518788,
          5.703333343558135,
          5.72933717686655,
          5.763025680538402,
          5.771282265248442,
          5.793573043430712
         ],
         "xaxis": "x",
         "y": [
          17.421528470613715,
          17.611528470613717,
          17.812906630446435,
          18.10152847061372,
          18.24152847061372,
          18.452906630446435,
          18.57152847061372,
          18.71152847061372,
          18.83290663044644,
          19.07152847061372,
          19.06152847061372,
          19.35290663044644,
          19.52152847061372,
          19.82290663044644,
          20.15152847061372,
          20.64673904755664,
          20.222906630446435,
          20.73152847061372
         ],
         "yaxis": "y"
        },
        {
         "error_y": {
          "array": [
           0.05,
           0.16,
           0.32
          ]
         },
         "hovertemplate": "      <b>Band<b>=u (3)<br>x=%{x}<br>y=%{y}<extra></extra>",
         "legendgroup": "u (3)",
         "marker": {
          "color": "rgb(247,129,191)",
          "size": 7,
          "symbol": "circle"
         },
         "mode": "markers",
         "name": "<b>u (3)</b>",
         "orientation": "v",
         "showlegend": true,
         "type": "scatter",
         "x": [
          5.098584200902033,
          5.32609570343995,
          5.47513110739676
         ],
         "xaxis": "x",
         "y": [
          19.47373170802284,
          21.79373170802284,
          22.59373170802284
         ],
         "yaxis": "y"
        },
        {
         "error_y": {
          "array": [
           0.01,
           0.01,
           0.04,
           0.02
          ]
         },
         "hovertemplate": "      <b>Band<b>=F110W (4)<br>x=%{x}<br>y=%{y}<extra></extra>",
         "legendgroup": "F110W (4)",
         "marker": {
          "color": "rgb(153,153,153)",
          "size": 7,
          "symbol": "circle"
         },
         "mode": "markers",
         "name": "<b>F110W (4)</b>",
         "orientation": "v",
         "showlegend": true,
         "type": "scatter",
         "x": [
          5.615371097347703,
          5.79827059235842,
          5.925667427989946,
          5.960741734607847
         ],
         "xaxis": "x",
         "y": [
          18.161570122307065,
          18.961570122307062,
          20.471570122307064,
          20.731570122307065
         ],
         "yaxis": "y"
        },
        {
         "error_y": {
          "array": [
           0.11,
           0.11,
           0.11,
           0.11,
           0.11,
           0.11,
           0.11,
           0.11,
           0.11,
           0.27
          ]
         },
         "hovertemplate": "      <b>Band<b>=F336W (10)<br>x=%{x}<br>y=%{y}<extra></extra>",
         "legendgroup": "F336W (10)",
         "marker": {
          "color": "rgb(228,26,28)",
          "size": 7,
          "symbol": "circle"
         },
         "mode": "markers",
         "name": "<b>F336W (10)</b>",
         "orientation": "v",
         "showlegend": true,
         "type": "scatter",
         "x": [
          5.662453719092389,
          5.662453719092389,
          5.662453719092389,
          5.662453719092389,
          5.662453719092389,
          5.662453719092389,
          5.662453719092389,
          5.662453719092389,
          5.662453719092389,
          5.928640586073282
         ],
         "xaxis": "x",
         "y": [
          24.559835146902085,
          24.559835146902085,
          24.559835146902085,
          24.479835146902083,
          24.689835146902084,
          24.479835146902083,
          24.689835146902084,
          24.479835146902083,
          24.689835146902084,
          26.42983514690209
         ],
         "yaxis": "y"
        },
        {
         "error_y": {
          "array": [
           0.17,
           0.37,
           0.36
          ]
         },
         "hovertemplate": "      <b>Band<b>=F606W (3)<br>x=%{x}<br>y=%{y}<extra></extra>",
         "legendgroup": "F606W (3)",
         "marker": {
          "color": "rgb(55,126,184)",
          "size": 7,
          "symbol": "circle"
         },
         "mode": "markers",
         "name": "<b>F606W (3)</b>",
         "orientation": "v",
         "showlegend": true,
         "type": "scatter",
         "x": [
          5.842666392997221,
          5.989067684040582,
          5.994904966304219
         ],
         "xaxis": "x",
         "y": [
          22.216377143459795,
          23.4963771434598,
          23.3863771434598
         ],
         "yaxis": "y"
        },
        {
         "error_y": {
          "array": [
           0.42,
           0.06,
           0.69,
           0.64
          ]
         },
         "hovertemplate": "      <b>Band<b>=F475W (4)<br>x=%{x}<br>y=%{y}<extra></extra>",
         "legendgroup": "F475W (4)",
         "marker": {
          "color": "rgb(77,175,74)",
          "size": 7,
          "symbol": "circle"
         },
         "mode": "markers",
         "name": "<b>F475W (4)</b>",
         "orientation": "v",
         "showlegend": true,
         "type": "scatter",
         "x": [
          5.846070266946941,
          5.93242728862215,
          5.990015100381667,
          5.994197804292914
         ],
         "xaxis": "x",
         "y": [
          23.299741576257706,
          23.589741576257705,
          24.389741576257705,
          24.199741576257704
         ],
         "yaxis": "y"
        },
        {
         "error_y": {
          "array": [
           0.04
          ]
         },
         "hovertemplate": "      <b>Band<b>=F160W (1)<br>x=%{x}<br>y=%{y}<extra></extra>",
         "legendgroup": "F160W (1)",
         "marker": {
          "color": "rgb(152,78,163)",
          "size": 7,
          "symbol": "circle"
         },
         "mode": "markers",
         "name": "<b>F160W (1)</b>",
         "orientation": "v",
         "showlegend": true,
         "type": "scatter",
         "x": [
          5.926379288054575
         ],
         "xaxis": "x",
         "y": [
          19.837113240208627
         ],
         "yaxis": "y"
        },
        {
         "error_y": {
          "array": [
           0.07
          ]
         },
         "hovertemplate": "      <b>Band<b>=F625W (1)<br>x=%{x}<br>y=%{y}<extra></extra>",
         "legendgroup": "F625W (1)",
         "marker": {
          "color": "rgb(255,127,0)",
          "size": 7,
          "symbol": "circle"
         },
         "mode": "markers",
         "name": "<b>F625W (1)</b>",
         "orientation": "v",
         "showlegend": true,
         "type": "scatter",
         "x": [
          5.935152026898865
         ],
         "xaxis": "x",
         "y": [
          22.635545837121487
         ],
         "yaxis": "y"
        },
        {
         "error_y": {
          "array": [
           0.02
          ]
         },
         "hovertemplate": "      <b>Band<b>=F814W (1)<br>x=%{x}<br>y=%{y}<extra></extra>",
         "legendgroup": "F814W (1)",
         "marker": {
          "color": "rgb(255,255,51)",
          "size": 7,
          "symbol": "circle"
         },
         "mode": "markers",
         "name": "<b>F814W (1)</b>",
         "orientation": "v",
         "showlegend": true,
         "type": "scatter",
         "x": [
          5.994645103754814
         ],
         "xaxis": "x",
         "y": [
          22.32
         ],
         "yaxis": "y"
        }
       ],
       "layout": {
        "annotations": [
         {
          "align": "left",
          "font": {
           "color": "black",
           "family": "arial",
           "size": 20
          },
          "showarrow": false,
          "text": "<b>GRB 170817A</b>",
          "x": 0.05,
          "xanchor": "left",
          "xref": "paper",
          "xshift": -1,
          "y": 0.12,
          "yanchor": "bottom",
          "yref": "paper",
          "yshift": -5
         }
        ],
        "height": 540,
        "legend": {
         "font": {
          "color": "black",
          "family": "arial",
          "size": 20
         },
         "title": {
          "text": "      <b>Band<b>"
         },
         "tracegroupgap": 0
        },
        "margin": {
         "b": 40,
         "l": 40,
         "r": 40,
         "t": 50
        },
        "plot_bgcolor": "white",
        "template": {
         "data": {
          "bar": [
           {
            "error_x": {
             "color": "#2a3f5f"
            },
            "error_y": {
             "color": "#2a3f5f"
            },
            "marker": {
             "line": {
              "color": "#E5ECF6",
              "width": 0.5
             },
             "pattern": {
              "fillmode": "overlay",
              "size": 10,
              "solidity": 0.2
             }
            },
            "type": "bar"
           }
          ],
          "barpolar": [
           {
            "marker": {
             "line": {
              "color": "#E5ECF6",
              "width": 0.5
             },
             "pattern": {
              "fillmode": "overlay",
              "size": 10,
              "solidity": 0.2
             }
            },
            "type": "barpolar"
           }
          ],
          "carpet": [
           {
            "aaxis": {
             "endlinecolor": "#2a3f5f",
             "gridcolor": "white",
             "linecolor": "white",
             "minorgridcolor": "white",
             "startlinecolor": "#2a3f5f"
            },
            "baxis": {
             "endlinecolor": "#2a3f5f",
             "gridcolor": "white",
             "linecolor": "white",
             "minorgridcolor": "white",
             "startlinecolor": "#2a3f5f"
            },
            "type": "carpet"
           }
          ],
          "choropleth": [
           {
            "colorbar": {
             "outlinewidth": 0,
             "ticks": ""
            },
            "type": "choropleth"
           }
          ],
          "contour": [
           {
            "colorbar": {
             "outlinewidth": 0,
             "ticks": ""
            },
            "colorscale": [
             [
              0,
              "#0d0887"
             ],
             [
              0.1111111111111111,
              "#46039f"
             ],
             [
              0.2222222222222222,
              "#7201a8"
             ],
             [
              0.3333333333333333,
              "#9c179e"
             ],
             [
              0.4444444444444444,
              "#bd3786"
             ],
             [
              0.5555555555555556,
              "#d8576b"
             ],
             [
              0.6666666666666666,
              "#ed7953"
             ],
             [
              0.7777777777777778,
              "#fb9f3a"
             ],
             [
              0.8888888888888888,
              "#fdca26"
             ],
             [
              1,
              "#f0f921"
             ]
            ],
            "type": "contour"
           }
          ],
          "contourcarpet": [
           {
            "colorbar": {
             "outlinewidth": 0,
             "ticks": ""
            },
            "type": "contourcarpet"
           }
          ],
          "heatmap": [
           {
            "colorbar": {
             "outlinewidth": 0,
             "ticks": ""
            },
            "colorscale": [
             [
              0,
              "#0d0887"
             ],
             [
              0.1111111111111111,
              "#46039f"
             ],
             [
              0.2222222222222222,
              "#7201a8"
             ],
             [
              0.3333333333333333,
              "#9c179e"
             ],
             [
              0.4444444444444444,
              "#bd3786"
             ],
             [
              0.5555555555555556,
              "#d8576b"
             ],
             [
              0.6666666666666666,
              "#ed7953"
             ],
             [
              0.7777777777777778,
              "#fb9f3a"
             ],
             [
              0.8888888888888888,
              "#fdca26"
             ],
             [
              1,
              "#f0f921"
             ]
            ],
            "type": "heatmap"
           }
          ],
          "heatmapgl": [
           {
            "colorbar": {
             "outlinewidth": 0,
             "ticks": ""
            },
            "colorscale": [
             [
              0,
              "#0d0887"
             ],
             [
              0.1111111111111111,
              "#46039f"
             ],
             [
              0.2222222222222222,
              "#7201a8"
             ],
             [
              0.3333333333333333,
              "#9c179e"
             ],
             [
              0.4444444444444444,
              "#bd3786"
             ],
             [
              0.5555555555555556,
              "#d8576b"
             ],
             [
              0.6666666666666666,
              "#ed7953"
             ],
             [
              0.7777777777777778,
              "#fb9f3a"
             ],
             [
              0.8888888888888888,
              "#fdca26"
             ],
             [
              1,
              "#f0f921"
             ]
            ],
            "type": "heatmapgl"
           }
          ],
          "histogram": [
           {
            "marker": {
             "pattern": {
              "fillmode": "overlay",
              "size": 10,
              "solidity": 0.2
             }
            },
            "type": "histogram"
           }
          ],
          "histogram2d": [
           {
            "colorbar": {
             "outlinewidth": 0,
             "ticks": ""
            },
            "colorscale": [
             [
              0,
              "#0d0887"
             ],
             [
              0.1111111111111111,
              "#46039f"
             ],
             [
              0.2222222222222222,
              "#7201a8"
             ],
             [
              0.3333333333333333,
              "#9c179e"
             ],
             [
              0.4444444444444444,
              "#bd3786"
             ],
             [
              0.5555555555555556,
              "#d8576b"
             ],
             [
              0.6666666666666666,
              "#ed7953"
             ],
             [
              0.7777777777777778,
              "#fb9f3a"
             ],
             [
              0.8888888888888888,
              "#fdca26"
             ],
             [
              1,
              "#f0f921"
             ]
            ],
            "type": "histogram2d"
           }
          ],
          "histogram2dcontour": [
           {
            "colorbar": {
             "outlinewidth": 0,
             "ticks": ""
            },
            "colorscale": [
             [
              0,
              "#0d0887"
             ],
             [
              0.1111111111111111,
              "#46039f"
             ],
             [
              0.2222222222222222,
              "#7201a8"
             ],
             [
              0.3333333333333333,
              "#9c179e"
             ],
             [
              0.4444444444444444,
              "#bd3786"
             ],
             [
              0.5555555555555556,
              "#d8576b"
             ],
             [
              0.6666666666666666,
              "#ed7953"
             ],
             [
              0.7777777777777778,
              "#fb9f3a"
             ],
             [
              0.8888888888888888,
              "#fdca26"
             ],
             [
              1,
              "#f0f921"
             ]
            ],
            "type": "histogram2dcontour"
           }
          ],
          "mesh3d": [
           {
            "colorbar": {
             "outlinewidth": 0,
             "ticks": ""
            },
            "type": "mesh3d"
           }
          ],
          "parcoords": [
           {
            "line": {
             "colorbar": {
              "outlinewidth": 0,
              "ticks": ""
             }
            },
            "type": "parcoords"
           }
          ],
          "pie": [
           {
            "automargin": true,
            "type": "pie"
           }
          ],
          "scatter": [
           {
            "fillpattern": {
             "fillmode": "overlay",
             "size": 10,
             "solidity": 0.2
            },
            "type": "scatter"
           }
          ],
          "scatter3d": [
           {
            "line": {
             "colorbar": {
              "outlinewidth": 0,
              "ticks": ""
             }
            },
            "marker": {
             "colorbar": {
              "outlinewidth": 0,
              "ticks": ""
             }
            },
            "type": "scatter3d"
           }
          ],
          "scattercarpet": [
           {
            "marker": {
             "colorbar": {
              "outlinewidth": 0,
              "ticks": ""
             }
            },
            "type": "scattercarpet"
           }
          ],
          "scattergeo": [
           {
            "marker": {
             "colorbar": {
              "outlinewidth": 0,
              "ticks": ""
             }
            },
            "type": "scattergeo"
           }
          ],
          "scattergl": [
           {
            "marker": {
             "colorbar": {
              "outlinewidth": 0,
              "ticks": ""
             }
            },
            "type": "scattergl"
           }
          ],
          "scattermapbox": [
           {
            "marker": {
             "colorbar": {
              "outlinewidth": 0,
              "ticks": ""
             }
            },
            "type": "scattermapbox"
           }
          ],
          "scatterpolar": [
           {
            "marker": {
             "colorbar": {
              "outlinewidth": 0,
              "ticks": ""
             }
            },
            "type": "scatterpolar"
           }
          ],
          "scatterpolargl": [
           {
            "marker": {
             "colorbar": {
              "outlinewidth": 0,
              "ticks": ""
             }
            },
            "type": "scatterpolargl"
           }
          ],
          "scatterternary": [
           {
            "marker": {
             "colorbar": {
              "outlinewidth": 0,
              "ticks": ""
             }
            },
            "type": "scatterternary"
           }
          ],
          "surface": [
           {
            "colorbar": {
             "outlinewidth": 0,
             "ticks": ""
            },
            "colorscale": [
             [
              0,
              "#0d0887"
             ],
             [
              0.1111111111111111,
              "#46039f"
             ],
             [
              0.2222222222222222,
              "#7201a8"
             ],
             [
              0.3333333333333333,
              "#9c179e"
             ],
             [
              0.4444444444444444,
              "#bd3786"
             ],
             [
              0.5555555555555556,
              "#d8576b"
             ],
             [
              0.6666666666666666,
              "#ed7953"
             ],
             [
              0.7777777777777778,
              "#fb9f3a"
             ],
             [
              0.8888888888888888,
              "#fdca26"
             ],
             [
              1,
              "#f0f921"
             ]
            ],
            "type": "surface"
           }
          ],
          "table": [
           {
            "cells": {
             "fill": {
              "color": "#EBF0F8"
             },
             "line": {
              "color": "white"
             }
            },
            "header": {
             "fill": {
              "color": "#C8D4E3"
             },
             "line": {
              "color": "white"
             }
            },
            "type": "table"
           }
          ]
         },
         "layout": {
          "annotationdefaults": {
           "arrowcolor": "#2a3f5f",
           "arrowhead": 0,
           "arrowwidth": 1
          },
          "autotypenumbers": "strict",
          "coloraxis": {
           "colorbar": {
            "outlinewidth": 0,
            "ticks": ""
           }
          },
          "colorscale": {
           "diverging": [
            [
             0,
             "#8e0152"
            ],
            [
             0.1,
             "#c51b7d"
            ],
            [
             0.2,
             "#de77ae"
            ],
            [
             0.3,
             "#f1b6da"
            ],
            [
             0.4,
             "#fde0ef"
            ],
            [
             0.5,
             "#f7f7f7"
            ],
            [
             0.6,
             "#e6f5d0"
            ],
            [
             0.7,
             "#b8e186"
            ],
            [
             0.8,
             "#7fbc41"
            ],
            [
             0.9,
             "#4d9221"
            ],
            [
             1,
             "#276419"
            ]
           ],
           "sequential": [
            [
             0,
             "#0d0887"
            ],
            [
             0.1111111111111111,
             "#46039f"
            ],
            [
             0.2222222222222222,
             "#7201a8"
            ],
            [
             0.3333333333333333,
             "#9c179e"
            ],
            [
             0.4444444444444444,
             "#bd3786"
            ],
            [
             0.5555555555555556,
             "#d8576b"
            ],
            [
             0.6666666666666666,
             "#ed7953"
            ],
            [
             0.7777777777777778,
             "#fb9f3a"
            ],
            [
             0.8888888888888888,
             "#fdca26"
            ],
            [
             1,
             "#f0f921"
            ]
           ],
           "sequentialminus": [
            [
             0,
             "#0d0887"
            ],
            [
             0.1111111111111111,
             "#46039f"
            ],
            [
             0.2222222222222222,
             "#7201a8"
            ],
            [
             0.3333333333333333,
             "#9c179e"
            ],
            [
             0.4444444444444444,
             "#bd3786"
            ],
            [
             0.5555555555555556,
             "#d8576b"
            ],
            [
             0.6666666666666666,
             "#ed7953"
            ],
            [
             0.7777777777777778,
             "#fb9f3a"
            ],
            [
             0.8888888888888888,
             "#fdca26"
            ],
            [
             1,
             "#f0f921"
            ]
           ]
          },
          "colorway": [
           "#636efa",
           "#EF553B",
           "#00cc96",
           "#ab63fa",
           "#FFA15A",
           "#19d3f3",
           "#FF6692",
           "#B6E880",
           "#FF97FF",
           "#FECB52"
          ],
          "font": {
           "color": "#2a3f5f"
          },
          "geo": {
           "bgcolor": "white",
           "lakecolor": "white",
           "landcolor": "#E5ECF6",
           "showlakes": true,
           "showland": true,
           "subunitcolor": "white"
          },
          "hoverlabel": {
           "align": "left"
          },
          "hovermode": "closest",
          "mapbox": {
           "style": "light"
          },
          "paper_bgcolor": "white",
          "plot_bgcolor": "#E5ECF6",
          "polar": {
           "angularaxis": {
            "gridcolor": "white",
            "linecolor": "white",
            "ticks": ""
           },
           "bgcolor": "#E5ECF6",
           "radialaxis": {
            "gridcolor": "white",
            "linecolor": "white",
            "ticks": ""
           }
          },
          "scene": {
           "xaxis": {
            "backgroundcolor": "#E5ECF6",
            "gridcolor": "white",
            "gridwidth": 2,
            "linecolor": "white",
            "showbackground": true,
            "ticks": "",
            "zerolinecolor": "white"
           },
           "yaxis": {
            "backgroundcolor": "#E5ECF6",
            "gridcolor": "white",
            "gridwidth": 2,
            "linecolor": "white",
            "showbackground": true,
            "ticks": "",
            "zerolinecolor": "white"
           },
           "zaxis": {
            "backgroundcolor": "#E5ECF6",
            "gridcolor": "white",
            "gridwidth": 2,
            "linecolor": "white",
            "showbackground": true,
            "ticks": "",
            "zerolinecolor": "white"
           }
          },
          "shapedefaults": {
           "line": {
            "color": "#2a3f5f"
           }
          },
          "ternary": {
           "aaxis": {
            "gridcolor": "white",
            "linecolor": "white",
            "ticks": ""
           },
           "baxis": {
            "gridcolor": "white",
            "linecolor": "white",
            "ticks": ""
           },
           "bgcolor": "#E5ECF6",
           "caxis": {
            "gridcolor": "white",
            "linecolor": "white",
            "ticks": ""
           }
          },
          "title": {
           "x": 0.05
          },
          "xaxis": {
           "automargin": true,
           "gridcolor": "white",
           "linecolor": "white",
           "ticks": "",
           "title": {
            "standoff": 15
           },
           "zerolinecolor": "white",
           "zerolinewidth": 2
          },
          "yaxis": {
           "automargin": true,
           "gridcolor": "white",
           "linecolor": "white",
           "ticks": "",
           "title": {
            "standoff": 15
           },
           "zerolinecolor": "white",
           "zerolinewidth": 2
          }
         }
        },
        "width": 960,
        "xaxis": {
         "anchor": "y",
         "domain": [
          0,
          1
         ],
         "linecolor": "black",
         "linewidth": 2.4,
         "mirror": "allticks",
         "showgrid": false,
         "showline": true,
         "showticklabels": true,
         "tickcolor": "black",
         "tickfont": {
          "color": "black",
          "family": "arial",
          "size": 20
         },
         "tickprefix": "<b>",
         "ticks": "outside",
         "ticksuffix": "</b><br>",
         "tickwidth": 2.4,
         "title": {
          "font": {
           "color": "black",
           "family": "arial",
           "size": 20
          },
          "text": "<b>log10 Time (s)<b>"
         }
        },
        "yaxis": {
         "anchor": "x",
         "autorange": "reversed",
         "domain": [
          0,
          1
         ],
         "linecolor": "black",
         "linewidth": 2.4,
         "mirror": "allticks",
         "showgrid": false,
         "showline": true,
         "showticklabels": true,
         "tickcolor": "black",
         "tickfont": {
          "color": "black",
          "family": "arial",
          "size": 20
         },
         "tickprefix": "<b>",
         "ticks": "outside",
         "ticksuffix": "</b><br>",
         "tickwidth": 2.4,
         "title": {
          "font": {
           "color": "black",
           "family": "arial",
           "size": 20
          },
          "text": "<b>Magnitude<b>"
         }
        }
       }
      }
     },
     "metadata": {},
     "output_type": "display_data"
    },
    {
     "data": {
      "application/vnd.plotly.v1+json": {
       "config": {
        "plotlyServerURL": "https://plot.ly"
       },
       "data": [
        {
         "error_y": {
          "array": [
           0.018,
           0.03,
           0.02,
           0.03,
           0.02,
           0.047,
           0.01,
           0.045,
           0.116,
           0.183,
           0.03
          ]
         },
         "hovertemplate": "      <b>Band<b>=i (11)<br>x=%{x}<br>y=%{y}<extra></extra>",
         "legendgroup": "i (11)",
         "marker": {
          "color": "rgb(228,26,28)",
          "size": 9,
          "symbol": "circle"
         },
         "mode": "markers",
         "name": "<b>i (11)</b>",
         "orientation": "h",
         "showlegend": true,
         "type": "scatter",
         "x": [
          4.594273185872828,
          5.098524390908145,
          5.1177100097896595,
          5.32760207122408,
          5.329623206511437,
          5.478309594317676,
          5.481987519605433,
          5.586017622887098,
          5.6750146316600505,
          5.809512848702256,
          5.811557312031467
         ],
         "xaxis": "x",
         "y": [
          17.296264734797475,
          17.588315414702652,
          17.622264734797476,
          18.37,
          18.17831541470265,
          18.74226473479748,
          18.75026473479748,
          19.206264734797475,
          20.09026473479748,
          21.24026473479748,
          20.73026473479748
         ],
         "yaxis": "y"
        },
        {
         "error_y": {
          "array": [
           0.15,
           0.01,
           0.1,
           0.09,
           0.01,
           0.1,
           0.03,
           0.14,
           0.18,
           0.06,
           0.15,
           0.15,
           0.09
          ]
         },
         "hovertemplate": "      <b>Band<b>=H (13)<br>x=%{x}<br>y=%{y}<extra></extra>",
         "legendgroup": "H (13)",
         "marker": {
          "color": "rgb(55,126,184)",
          "size": 9,
          "symbol": "circle"
         },
         "mode": "markers",
         "name": "<b>H (13)</b>",
         "orientation": "h",
         "showlegend": true,
         "type": "scatter",
         "x": [
          4.6016698196715575,
          5.1016236398110335,
          5.104228916159975,
          5.323431145259261,
          5.32457002356252,
          5.584419431475908,
          5.6288956858628945,
          5.807931800041965,
          5.863491072032829,
          5.910966690360492,
          5.911547712352183,
          5.955727570839238,
          5.962667887444997
         ],
         "xaxis": "x",
         "y": [
          18.20858018847394,
          17.46858018847394,
          17.5792386366632,
          17.6592386366632,
          17.51858018847394,
          17.8692386366632,
          18.0092386366632,
          18.7392386366632,
          19.1692386366632,
          19.5492386366632,
          19.5692386366632,
          19.9892386366632,
          20.2292386366632
         ],
         "yaxis": "y"
        },
        {
         "error_y": {
          "array": [
           0.02,
           0.02,
           0.02,
           0.03,
           0.02,
           0.018,
           0.04,
           0.03,
           0.02,
           0.01,
           0.04,
           0.089,
           0.02,
           0.01,
           0.05,
           0.01,
           0.125,
           0.03,
           0.24,
           0.03,
           0.07,
           0.11,
           0.04,
           0.05,
           0.18,
           0.04,
           0.07,
           0.31
          ]
         },
         "hovertemplate": "      <b>Band<b>=r (28)<br>x=%{x}<br>y=%{y}<extra></extra>",
         "legendgroup": "r (28)",
         "marker": {
          "color": "rgb(77,175,74)",
          "size": 9,
          "symbol": "circle"
         },
         "mode": "markers",
         "name": "<b>r (28)</b>",
         "orientation": "h",
         "showlegend": true,
         "type": "scatter",
         "x": [
          4.610775108182708,
          5.095230043768563,
          5.097686184976015,
          5.098763581476061,
          5.1045751904123176,
          5.118853089116484,
          5.324091817874829,
          5.325564098043082,
          5.331271286932973,
          5.474502396093712,
          5.47513110739676,
          5.478309594317676,
          5.479652747894751,
          5.482001834548799,
          5.585492764595072,
          5.58608115803233,
          5.587061394396655,
          5.672201706581809,
          5.6730972477294745,
          5.676285455369364,
          5.746286001160599,
          5.809060089698383,
          5.8116377327657895,
          5.86406231563367,
          5.864330206023796,
          5.912564254173961,
          5.956333661541515,
          6.03161138385928
         ],
         "xaxis": "x",
         "y": [
          17.082103544288394,
          17.69,
          17.797800485233545,
          17.662103544288396,
          17.708800485233546,
          17.742800485233545,
          18.77,
          18.787800485233547,
          18.682103544288395,
          19.28,
          19.047800485233545,
          19.572800485233547,
          19.497800485233544,
          19.417800485233546,
          20.007800485233545,
          19.86,
          20.336800485233542,
          20.39,
          20.547800485233545,
          20.497800485233544,
          21.067800485233544,
          20.987800485233542,
          21.497800485233544,
          21.75,
          21.707800485233545,
          22.2,
          22.45,
          23.12
         ],
         "yaxis": "y"
        },
        {
         "error_y": {
          "array": [
           0.15,
           0.03,
           0.03,
           0.01,
           0.01,
           0.01,
           0.01,
           0.01,
           0.02,
           0.01,
           0.02,
           0.02,
           0.03,
           0.04,
           0.04,
           0.08,
           0.1,
           0.09,
           0.14,
           0.35,
           0.4
          ]
         },
         "hovertemplate": "      <b>Band<b>=J (21)<br>x=%{x}<br>y=%{y}<extra></extra>",
         "legendgroup": "J (21)",
         "marker": {
          "color": "rgb(152,78,163)",
          "size": 9,
          "symbol": "circle"
         },
         "mode": "markers",
         "name": "<b>J (21)</b>",
         "orientation": "h",
         "showlegend": true,
         "type": "scatter",
         "x": [
          4.610775108182708,
          4.6183828453446445,
          4.64467487591822,
          5.098972765211638,
          5.104626390980377,
          5.1051724278265045,
          5.3229854584911,
          5.326113412417397,
          5.32968419556088,
          5.473721527919821,
          5.477180314753406,
          5.586913285701275,
          5.587082972504066,
          5.747598848303689,
          5.809406654410987,
          5.809990966966559,
          5.864517488634707,
          5.8645352869615675,
          5.912987271209057,
          5.95657217504674,
          5.996179169528468
         ],
         "xaxis": "x",
         "y": [
          17.75155536961007,
          17.800917044433355,
          17.740917044433356,
          17.39155536961007,
          17.370917044433355,
          17.241555369610072,
          17.471555369610073,
          17.44155536961007,
          17.580917044433356,
          17.771555369610073,
          17.780917044433355,
          18.02155536961008,
          18.000917044433354,
          18.660917044433354,
          18.91155536961007,
          18.99091704443336,
          19.22155536961008,
          19.61091704443336,
          19.980917044433355,
          20.86091704443336,
          21.08091704443336
         ],
         "yaxis": "y"
        },
        {
         "error_y": {
          "array": [
           0.03,
           0.06,
           0.06,
           0.06,
           0.07,
           0.13,
           0.05,
           0.02,
           0.01,
           0.027,
           0.12,
           0.03,
           0.039,
           0.07,
           0.03,
           0.07,
           0.092,
           0.04,
           0.11,
           0.11,
           0.214,
           0.471,
           0.28,
           0.368,
           0.48
          ]
         },
         "hovertemplate": "      <b>Band<b>=z (25)<br>x=%{x}<br>y=%{y}<extra></extra>",
         "legendgroup": "z (25)",
         "marker": {
          "color": "rgb(255,127,0)",
          "size": 9,
          "symbol": "circle"
         },
         "mode": "markers",
         "name": "<b>z (25)</b>",
         "orientation": "h",
         "showlegend": true,
         "type": "scatter",
         "x": [
          4.610775108182708,
          5.097626251173037,
          5.098105490163472,
          5.09828506853184,
          5.1045751904123176,
          5.32760207122408,
          5.477136889039792,
          5.479652747894751,
          5.584911705127097,
          5.58718410559498,
          5.672411693223791,
          5.676285455369364,
          5.746324945903575,
          5.808211999560072,
          5.863026725023166,
          5.863079825190795,
          5.864075856612928,
          5.911822130160571,
          5.91242081904214,
          5.912622252264765,
          5.9558573950200575,
          5.995553065694176,
          6.065035067558467,
          6.096676403989187,
          6.22583879805446
         ],
         "xaxis": "x",
         "y": [
          17.50219226350117,
          17.452192263501168,
          17.442192263501166,
          17.442192263501166,
          17.486192263501167,
          18.01,
          18.21219226350117,
          18.132192263501167,
          18.73,
          18.791953592118503,
          18.912192263501165,
          18.992192263501167,
          19.491953592118502,
          19.702192263501168,
          20.28,
          20.232192263501165,
          20.470953592118505,
          20.85,
          20.69,
          20.69,
          21.878953592118503,
          22.679953592118505,
          22.3,
          23.206953592118506,
          23.37
         ],
         "yaxis": "y"
        },
        {
         "error_y": {
          "array": [
           0.02,
           0.04,
           0.08,
           0.05,
           0.08,
           0.04,
           0.041,
           0.04,
           0.06,
           0.04,
           0.06,
           0.1,
           0.05,
           0.05,
           0.07,
           0.11,
           0.05,
           0.08,
           0.18,
           0.12,
           0.2,
           0.2,
           0.19,
           0.2,
           0.115,
           0.15,
           0.054,
           0.158,
           0.256,
           0.28
          ]
         },
         "hovertemplate": "      <b>Band<b>=V (30)<br>x=%{x}<br>y=%{y}<extra></extra>",
         "legendgroup": "V (30)",
         "marker": {
          "color": "rgb(255,255,51)",
          "size": 9,
          "symbol": "circle"
         },
         "mode": "markers",
         "name": "<b>V (30)</b>",
         "orientation": "h",
         "showlegend": true,
         "type": "scatter",
         "x": [
          4.611094240570642,
          5.013169354035744,
          5.093878154870989,
          5.095296586307409,
          5.095718203854858,
          5.098791810559456,
          5.102865726945432,
          5.107711832558442,
          5.108092319115667,
          5.108414009119151,
          5.118012742356293,
          5.118298595109088,
          5.1996860794534845,
          5.277766860941249,
          5.283588853532239,
          5.324631726336728,
          5.326403048463367,
          5.32968419556088,
          5.331437014890555,
          5.332555117964053,
          5.339014900127872,
          5.392529532999511,
          5.443788517818216,
          5.473248195753014,
          5.475933138488701,
          5.479126878773975,
          5.589087749540436,
          5.749124472337463,
          5.865189758584596,
          5.957159258688069
         ],
         "xaxis": "x",
         "y": [
          17.35,
          17.503579148391722,
          18.22,
          18.16,
          18.13,
          17.973579148391725,
          17.915579148391725,
          18.14,
          18.16,
          18.18,
          18.25,
          18.18,
          18.492341075684784,
          18.943579148391724,
          19.06,
          19.4,
          19.203579148391725,
          19.51,
          19.33,
          19.53,
          19.59,
          19.77,
          19.89,
          20.54,
          20.214579148391724,
          20.55,
          20.7874319897604,
          22.0664319897604,
          22.8574319897604,
          23.4664319897604
         ],
         "yaxis": "y"
        },
        {
         "error_y": {
          "array": [
           0.02,
           0.04,
           0.02,
           0.07,
           0.12,
           0.12,
           0.03,
           0.14,
           0.03,
           0.03,
           0.04,
           0.06,
           0.068,
           0.124,
           0.17,
           0.21,
           0.2,
           0.282,
           0.11,
           0.05,
           0.33,
           0.16,
           0.08,
           0.049,
           0.06,
           0.01,
           0.22,
           0.11,
           0.06,
           0.104,
           0.12,
           0.1
          ]
         },
         "hovertemplate": "      <b>Band<b>=g (32)<br>x=%{x}<br>y=%{y}<extra></extra>",
         "legendgroup": "g (32)",
         "marker": {
          "color": "rgb(166,86,40)",
          "size": 9,
          "symbol": "circle"
         },
         "mode": "markers",
         "name": "<b>g (32)</b>",
         "orientation": "h",
         "showlegend": true,
         "type": "scatter",
         "x": [
          4.616614969871581,
          4.621037451593204,
          4.6241690201318155,
          4.657637073991166,
          4.877873316653548,
          5.02205206711582,
          5.097686184976015,
          5.098688018136431,
          5.099210050149664,
          5.10102769361882,
          5.103046636726954,
          5.1045751904123176,
          5.114386774376045,
          5.120846266885037,
          5.201731320511736,
          5.2849538281466675,
          5.285537506528159,
          5.32322073905793,
          5.32414329410851,
          5.325564098043082,
          5.332659792693573,
          5.473872773309982,
          5.47513110739676,
          5.477435570155865,
          5.479652747894751,
          5.482245116422237,
          5.584584941080106,
          5.585882410793071,
          5.588976854199748,
          5.590568559989977,
          5.673957456298145,
          5.676285455369364
         ],
         "xaxis": "x",
         "y": [
          17.048785829907178,
          17.048785829907178,
          17.02878582990718,
          16.874062626113414,
          17.32,
          18.12,
          18.214062626113414,
          18.74,
          18.248785829907177,
          18.29878582990717,
          18.04406262611341,
          18.10706262611341,
          18.14506262611341,
          18.042062626113413,
          19.53,
          20.44,
          20.24,
          19.868062626113414,
          19.74406262611341,
          19.76406262611341,
          20.81,
          20.684062626113413,
          20.484062626113413,
          20.32506262611341,
          20.49406262611341,
          20.45406262611341,
          21.13406262611341,
          21.28406262611341,
          21.41878582990718,
          21.304062626113414,
          22.06406262611341,
          21.88606262611341
         ],
         "yaxis": "y"
        },
        {
         "error_y": {
          "array": [
           0.04,
           0.04,
           0.04,
           0.04,
           0.05,
           0.06,
           0.06,
           0.07,
           0.07,
           0.06,
           0.05,
           0.05,
           0.05,
           0.07,
           0.08,
           0.13,
           0.06,
           0.09
          ]
         },
         "hovertemplate": "      <b>Band<b>=w (18)<br>x=%{x}<br>y=%{y}<extra></extra>",
         "legendgroup": "w (18)",
         "marker": {
          "color": "rgb(247,129,191)",
          "size": 9,
          "symbol": "circle"
         },
         "mode": "markers",
         "name": "<b>w (18)</b>",
         "orientation": "h",
         "showlegend": true,
         "type": "scatter",
         "x": [
          4.621084841732344,
          4.868324623511578,
          5.017751002269315,
          5.09508562394388,
          5.198892311898261,
          5.2849538281466675,
          5.285537506528159,
          5.327571431219982,
          5.3282768286410045,
          5.332485320792745,
          5.333008526362045,
          5.3913120382049655,
          5.391921212240485,
          5.395558420843756,
          5.396010937542635,
          5.444193492886184,
          5.444732872880539,
          5.586305484397182
         ],
         "xaxis": "x",
         "y": [
          17.49,
          17.31,
          17.95,
          18.23,
          18.69,
          19.11,
          19.11,
          19.56,
          19.48,
          19.46,
          19.36,
          19.68,
          19.61,
          19.53,
          19.56,
          20.13,
          19.99,
          20.64
         ],
         "yaxis": "y"
        },
        {
         "error_y": {
          "array": [
           0.01,
           0.01,
           0.02,
           0.01,
           0.02,
           0.02,
           0.1,
           0.04,
           0.07,
           0.09,
           0.14
          ]
         },
         "hovertemplate": "      <b>Band<b>=Y (11)<br>x=%{x}<br>y=%{y}<extra></extra>",
         "legendgroup": "Y (11)",
         "marker": {
          "color": "rgb(153,153,153)",
          "size": 9,
          "symbol": "circle"
         },
         "mode": "markers",
         "name": "<b>Y (11)</b>",
         "orientation": "h",
         "showlegend": true,
         "type": "scatter",
         "x": [
          4.625551144411224,
          5.103445194569795,
          5.328981082186697,
          5.475676998245082,
          5.5841751217371804,
          5.585916217763336,
          5.674687388192349,
          5.747330379749316,
          5.809758434638757,
          5.863919753391707,
          5.912436758618594
         ],
         "xaxis": "x",
         "y": [
          17.46,
          17.23,
          17.51,
          17.76,
          17.973444101559398,
          18.07,
          18.2234441015594,
          18.71,
          19.24,
          19.67,
          20.09
         ],
         "yaxis": "y"
        },
        {
         "error_y": {
          "array": [
           0.15,
           0.04,
           0.06,
           0.09,
           0.09,
           0.09,
           0.09,
           0.1,
           0.13,
           0.17
          ]
         },
         "hovertemplate": "      <b>Band<b>=K (10)<br>x=%{x}<br>y=%{y}<extra></extra>",
         "legendgroup": "K (10)",
         "marker": {
          "color": "rgb(228,26,28)",
          "size": 9,
          "symbol": "circle"
         },
         "mode": "markers",
         "name": "<b>K (10)</b>",
         "orientation": "h",
         "showlegend": true,
         "type": "scatter",
         "x": [
          4.6375177476078955,
          5.098883127376141,
          5.322896266225305,
          6.031136733111972,
          6.031939312136816,
          6.0652472383229385,
          6.065634530211298,
          6.125218618684389,
          6.2020943853892785,
          6.202800656983296
         ],
         "xaxis": "x",
         "y": [
          18.375738152514696,
          17.575738152514695,
          17.515738152514697,
          19.32573815251469,
          19.285738152514696,
          19.485738152514696,
          19.395738152514696,
          20.195738152514696,
          20.77573815251469,
          20.895738152514696
         ],
         "yaxis": "y"
        },
        {
         "error_y": {
          "array": [
           0.24,
           0.45
          ]
         },
         "hovertemplate": "      <b>Band<b>=UVM2 (2)<br>x=%{x}<br>y=%{y}<extra></extra>",
         "legendgroup": "UVM2 (2)",
         "marker": {
          "color": "rgb(55,126,184)",
          "size": 9,
          "symbol": "circle"
         },
         "mode": "markers",
         "name": "<b>UVM2 (2)</b>",
         "orientation": "h",
         "showlegend": true,
         "type": "scatter",
         "x": [
          4.7359576033078685,
          4.970500061236117
         ],
         "xaxis": "x",
         "y": [
          20.23584581362081,
          21.635845813620804
         ],
         "yaxis": "y"
        },
        {
         "error_y": {
          "array": [
           0.11,
           0.23
          ]
         },
         "hovertemplate": "      <b>Band<b>=UVW1 (2)<br>x=%{x}<br>y=%{y}<extra></extra>",
         "legendgroup": "UVW1 (2)",
         "marker": {
          "color": "rgb(77,175,74)",
          "size": 9,
          "symbol": "circle"
         },
         "mode": "markers",
         "name": "<b>UVW1 (2)</b>",
         "orientation": "h",
         "showlegend": true,
         "type": "scatter",
         "x": [
          4.738227828704857,
          4.95304558666013
         ],
         "xaxis": "x",
         "y": [
          18.849082559857845,
          19.599082559857845
         ],
         "yaxis": "y"
        },
        {
         "error_y": {
          "array": [
           0.09,
           0.17,
           0.45,
           0.29,
           0.23,
           0.28,
           0.28
          ]
         },
         "hovertemplate": "      <b>Band<b>=U (7)<br>x=%{x}<br>y=%{y}<extra></extra>",
         "legendgroup": "U (7)",
         "marker": {
          "color": "rgb(152,78,163)",
          "size": 9,
          "symbol": "circle"
         },
         "mode": "markers",
         "name": "<b>U (7)</b>",
         "orientation": "h",
         "showlegend": true,
         "type": "scatter",
         "x": [
          4.743168623378604,
          4.954548096962958,
          5.113689382828022,
          5.1184565274472344,
          5.118485091987129,
          5.119597646176288,
          5.120707357557925
         ],
         "xaxis": "x",
         "y": [
          17.717547944966554,
          18.52754794496656,
          20.317547944966552,
          19.7887359529593,
          19.6487359529593,
          19.7487359529593,
          19.6387359529593
         ],
         "yaxis": "y"
        },
        {
         "error_y": {
          "array": [
           0.11,
           0.11,
           0.0670820393249937,
           0.07615773105863909,
           0.07741446893184761,
           0.12,
           0.22847319317591724,
           0.1118033988749895,
           0.13519245541079578,
           0.14136477637657832,
           0.15231546211727817,
           0.251,
           0.31,
           0.363
          ]
         },
         "hovertemplate": "      <b>Band<b>=B (14)<br>x=%{x}<br>y=%{y}<extra></extra>",
         "legendgroup": "B (14)",
         "marker": {
          "color": "rgb(255,127,0)",
          "size": 9,
          "symbol": "circle"
         },
         "mode": "markers",
         "name": "<b>B (14)</b>",
         "orientation": "h",
         "showlegend": true,
         "type": "scatter",
         "x": [
          5.009513783205766,
          5.098791810559456,
          5.099864814720617,
          5.1002820227442625,
          5.114262608413977,
          5.1996860794534845,
          5.275644838360736,
          5.326403048463367,
          5.4764345267806815,
          5.589221967520051,
          5.589285572354879,
          5.749124472337463,
          5.811802870260766,
          5.865189758584596
         ],
         "xaxis": "x",
         "y": [
          18.074037934272766,
          18.694037934272767,
          18.248785829907177,
          18.29878582990717,
          18.14506262611341,
          19.70403793427277,
          20.44,
          19.76406262611341,
          20.32506262611341,
          21.41878582990718,
          21.41878582990718,
          23.413737610546825,
          23.456737610546828,
          24.187737610546822
         ],
         "yaxis": "y"
        },
        {
         "error_y": {
          "array": [
           0.05,
           0.02,
           0.05,
           0.05,
           0.05,
           0.04,
           0.05,
           0.05,
           0.05,
           0.06,
           0.01,
           0.09,
           0.06,
           0.058,
           0.08,
           0.05,
           0.07,
           0.03,
           0.07,
           0.106,
           0.24,
           0.277
          ]
         },
         "hovertemplate": "      <b>Band<b>=R (22)<br>x=%{x}<br>y=%{y}<extra></extra>",
         "legendgroup": "R (22)",
         "marker": {
          "color": "rgb(255,255,51)",
          "size": 9,
          "symbol": "circle"
         },
         "mode": "markers",
         "name": "<b>R (22)</b>",
         "orientation": "h",
         "showlegend": true,
         "type": "scatter",
         "x": [
          5.013169354035744,
          5.094075436485567,
          5.101770437261437,
          5.1996860794534845,
          5.277766860941249,
          5.323818273786541,
          5.326403048463367,
          5.389139139544831,
          5.439687564802964,
          5.473762495413957,
          5.474020641771863,
          5.520253944484828,
          5.558186143291571,
          5.584228067177945,
          5.584363795232549,
          5.6209526352706,
          5.652080716518788,
          5.67256701209124,
          5.702589748568611,
          5.747645440525094,
          5.864570881427197,
          5.957044206781743
         ],
         "xaxis": "x",
         "y": [
          17.469097987051008,
          17.69,
          17.75909798705101,
          18.10438245174956,
          18.40909798705101,
          18.77,
          18.629097987051008,
          18.864382451749563,
          19.11909798705101,
          19.35909798705101,
          19.27,
          19.40438245174956,
          19.75909798705101,
          20.0007616785326,
          19.93909798705101,
          20.09438245174956,
          20.45909798705101,
          20.39,
          20.71438245174956,
          21.030761678532603,
          22.263761678532603,
          23.141761678532603
         ],
         "yaxis": "y"
        },
        {
         "error_y": {
          "array": [
           0.1,
           0.09,
           0.09,
           0.12,
           0.13,
           0.1,
           0.11,
           0.11,
           0.1,
           0.1,
           0.1,
           0.13,
           0.1,
           0.14,
           0.11,
           0.09,
           0.12,
           0.13
          ]
         },
         "hovertemplate": "      <b>Band<b>=I (18)<br>x=%{x}<br>y=%{y}<extra></extra>",
         "legendgroup": "I (18)",
         "marker": {
          "color": "rgb(166,86,40)",
          "size": 9,
          "symbol": "circle"
         },
         "mode": "markers",
         "name": "<b>I (18)</b>",
         "orientation": "h",
         "showlegend": true,
         "type": "scatter",
         "x": [
          5.013169354035744,
          5.101770437261437,
          5.20204889614652,
          5.277766860941249,
          5.326403048463367,
          5.389139139544831,
          5.441048789121141,
          5.4750211486011215,
          5.520253944484828,
          5.559222701102496,
          5.584363795232549,
          5.6209526352706,
          5.652080716518788,
          5.703333343558135,
          5.72933717686655,
          5.763025680538402,
          5.771282265248442,
          5.793573043430712
         ],
         "xaxis": "x",
         "y": [
          17.421528470613715,
          17.611528470613717,
          17.812906630446435,
          18.10152847061372,
          18.24152847061372,
          18.452906630446435,
          18.57152847061372,
          18.71152847061372,
          18.83290663044644,
          19.07152847061372,
          19.06152847061372,
          19.35290663044644,
          19.52152847061372,
          19.82290663044644,
          20.15152847061372,
          20.64673904755664,
          20.222906630446435,
          20.73152847061372
         ],
         "yaxis": "y"
        },
        {
         "error_y": {
          "array": [
           0.05,
           0.16,
           0.32
          ]
         },
         "hovertemplate": "      <b>Band<b>=u (3)<br>x=%{x}<br>y=%{y}<extra></extra>",
         "legendgroup": "u (3)",
         "marker": {
          "color": "rgb(247,129,191)",
          "size": 9,
          "symbol": "circle"
         },
         "mode": "markers",
         "name": "<b>u (3)</b>",
         "orientation": "h",
         "showlegend": true,
         "type": "scatter",
         "x": [
          5.098584200902033,
          5.32609570343995,
          5.47513110739676
         ],
         "xaxis": "x",
         "y": [
          19.47373170802284,
          21.79373170802284,
          22.59373170802284
         ],
         "yaxis": "y"
        },
        {
         "error_y": {
          "array": [
           0.01,
           0.01,
           0.04,
           0.02
          ]
         },
         "hovertemplate": "      <b>Band<b>=F110W (4)<br>x=%{x}<br>y=%{y}<extra></extra>",
         "legendgroup": "F110W (4)",
         "marker": {
          "color": "rgb(153,153,153)",
          "size": 9,
          "symbol": "circle"
         },
         "mode": "markers",
         "name": "<b>F110W (4)</b>",
         "orientation": "h",
         "showlegend": true,
         "type": "scatter",
         "x": [
          5.615371097347703,
          5.79827059235842,
          5.925667427989946,
          5.960741734607847
         ],
         "xaxis": "x",
         "y": [
          18.161570122307065,
          18.961570122307062,
          20.471570122307064,
          20.731570122307065
         ],
         "yaxis": "y"
        },
        {
         "error_y": {
          "array": [
           0.11,
           0.11,
           0.11,
           0.11,
           0.11,
           0.11,
           0.11,
           0.11,
           0.11,
           0.27
          ]
         },
         "hovertemplate": "      <b>Band<b>=F336W (10)<br>x=%{x}<br>y=%{y}<extra></extra>",
         "legendgroup": "F336W (10)",
         "marker": {
          "color": "rgb(228,26,28)",
          "size": 9,
          "symbol": "circle"
         },
         "mode": "markers",
         "name": "<b>F336W (10)</b>",
         "orientation": "h",
         "showlegend": true,
         "type": "scatter",
         "x": [
          5.662453719092389,
          5.662453719092389,
          5.662453719092389,
          5.662453719092389,
          5.662453719092389,
          5.662453719092389,
          5.662453719092389,
          5.662453719092389,
          5.662453719092389,
          5.928640586073282
         ],
         "xaxis": "x",
         "y": [
          24.559835146902085,
          24.559835146902085,
          24.559835146902085,
          24.479835146902083,
          24.689835146902084,
          24.479835146902083,
          24.689835146902084,
          24.479835146902083,
          24.689835146902084,
          26.42983514690209
         ],
         "yaxis": "y"
        },
        {
         "error_y": {
          "array": [
           0.17,
           0.37,
           0.36
          ]
         },
         "hovertemplate": "      <b>Band<b>=F606W (3)<br>x=%{x}<br>y=%{y}<extra></extra>",
         "legendgroup": "F606W (3)",
         "marker": {
          "color": "rgb(55,126,184)",
          "size": 9,
          "symbol": "circle"
         },
         "mode": "markers",
         "name": "<b>F606W (3)</b>",
         "orientation": "h",
         "showlegend": true,
         "type": "scatter",
         "x": [
          5.842666392997221,
          5.989067684040582,
          5.994904966304219
         ],
         "xaxis": "x",
         "y": [
          22.216377143459795,
          23.4963771434598,
          23.3863771434598
         ],
         "yaxis": "y"
        },
        {
         "error_y": {
          "array": [
           0.42,
           0.06,
           0.69,
           0.64
          ]
         },
         "hovertemplate": "      <b>Band<b>=F475W (4)<br>x=%{x}<br>y=%{y}<extra></extra>",
         "legendgroup": "F475W (4)",
         "marker": {
          "color": "rgb(77,175,74)",
          "size": 9,
          "symbol": "circle"
         },
         "mode": "markers",
         "name": "<b>F475W (4)</b>",
         "orientation": "h",
         "showlegend": true,
         "type": "scatter",
         "x": [
          5.846070266946941,
          5.93242728862215,
          5.990015100381667,
          5.994197804292914
         ],
         "xaxis": "x",
         "y": [
          23.299741576257706,
          23.589741576257705,
          24.389741576257705,
          24.199741576257704
         ],
         "yaxis": "y"
        },
        {
         "error_y": {
          "array": [
           0.04
          ]
         },
         "hovertemplate": "      <b>Band<b>=F160W (1)<br>x=%{x}<br>y=%{y}<extra></extra>",
         "legendgroup": "F160W (1)",
         "marker": {
          "color": "rgb(152,78,163)",
          "size": 9,
          "symbol": "circle"
         },
         "mode": "markers",
         "name": "<b>F160W (1)</b>",
         "orientation": "h",
         "showlegend": true,
         "type": "scatter",
         "x": [
          5.926379288054575
         ],
         "xaxis": "x",
         "y": [
          19.837113240208627
         ],
         "yaxis": "y"
        },
        {
         "error_y": {
          "array": [
           0.07
          ]
         },
         "hovertemplate": "      <b>Band<b>=F625W (1)<br>x=%{x}<br>y=%{y}<extra></extra>",
         "legendgroup": "F625W (1)",
         "marker": {
          "color": "rgb(255,127,0)",
          "size": 9,
          "symbol": "circle"
         },
         "mode": "markers",
         "name": "<b>F625W (1)</b>",
         "orientation": "h",
         "showlegend": true,
         "type": "scatter",
         "x": [
          5.935152026898865
         ],
         "xaxis": "x",
         "y": [
          22.635545837121487
         ],
         "yaxis": "y"
        },
        {
         "error_y": {
          "array": [
           0.02
          ]
         },
         "hovertemplate": "      <b>Band<b>=F814W (1)<br>x=%{x}<br>y=%{y}<extra></extra>",
         "legendgroup": "F814W (1)",
         "marker": {
          "color": "rgb(255,255,51)",
          "size": 9,
          "symbol": "circle"
         },
         "mode": "markers",
         "name": "<b>F814W (1)</b>",
         "orientation": "h",
         "showlegend": true,
         "type": "scatter",
         "x": [
          5.994645103754814
         ],
         "xaxis": "x",
         "y": [
          22.32
         ],
         "yaxis": "y"
        }
       ],
       "layout": {
        "annotations": [
         {
          "align": "left",
          "font": {
           "color": "black",
           "family": "arial",
           "size": 20
          },
          "showarrow": false,
          "text": "<b>GRB 170817A<br>    rescaled</b>",
          "x": 0.05,
          "xanchor": "left",
          "xref": "paper",
          "xshift": -1,
          "y": 0.12,
          "yanchor": "bottom",
          "yref": "paper",
          "yshift": -5
         }
        ],
        "height": 540,
        "legend": {
         "font": {
          "color": "black",
          "family": "arial",
          "size": 20
         },
         "title": {
          "text": "      <b>Band<b>"
         },
         "tracegroupgap": 0
        },
        "margin": {
         "b": 40,
         "l": 40,
         "r": 40,
         "t": 50
        },
        "plot_bgcolor": "white",
        "template": {
         "data": {
          "bar": [
           {
            "error_x": {
             "color": "#2a3f5f"
            },
            "error_y": {
             "color": "#2a3f5f"
            },
            "marker": {
             "line": {
              "color": "#E5ECF6",
              "width": 0.5
             },
             "pattern": {
              "fillmode": "overlay",
              "size": 10,
              "solidity": 0.2
             }
            },
            "type": "bar"
           }
          ],
          "barpolar": [
           {
            "marker": {
             "line": {
              "color": "#E5ECF6",
              "width": 0.5
             },
             "pattern": {
              "fillmode": "overlay",
              "size": 10,
              "solidity": 0.2
             }
            },
            "type": "barpolar"
           }
          ],
          "carpet": [
           {
            "aaxis": {
             "endlinecolor": "#2a3f5f",
             "gridcolor": "white",
             "linecolor": "white",
             "minorgridcolor": "white",
             "startlinecolor": "#2a3f5f"
            },
            "baxis": {
             "endlinecolor": "#2a3f5f",
             "gridcolor": "white",
             "linecolor": "white",
             "minorgridcolor": "white",
             "startlinecolor": "#2a3f5f"
            },
            "type": "carpet"
           }
          ],
          "choropleth": [
           {
            "colorbar": {
             "outlinewidth": 0,
             "ticks": ""
            },
            "type": "choropleth"
           }
          ],
          "contour": [
           {
            "colorbar": {
             "outlinewidth": 0,
             "ticks": ""
            },
            "colorscale": [
             [
              0,
              "#0d0887"
             ],
             [
              0.1111111111111111,
              "#46039f"
             ],
             [
              0.2222222222222222,
              "#7201a8"
             ],
             [
              0.3333333333333333,
              "#9c179e"
             ],
             [
              0.4444444444444444,
              "#bd3786"
             ],
             [
              0.5555555555555556,
              "#d8576b"
             ],
             [
              0.6666666666666666,
              "#ed7953"
             ],
             [
              0.7777777777777778,
              "#fb9f3a"
             ],
             [
              0.8888888888888888,
              "#fdca26"
             ],
             [
              1,
              "#f0f921"
             ]
            ],
            "type": "contour"
           }
          ],
          "contourcarpet": [
           {
            "colorbar": {
             "outlinewidth": 0,
             "ticks": ""
            },
            "type": "contourcarpet"
           }
          ],
          "heatmap": [
           {
            "colorbar": {
             "outlinewidth": 0,
             "ticks": ""
            },
            "colorscale": [
             [
              0,
              "#0d0887"
             ],
             [
              0.1111111111111111,
              "#46039f"
             ],
             [
              0.2222222222222222,
              "#7201a8"
             ],
             [
              0.3333333333333333,
              "#9c179e"
             ],
             [
              0.4444444444444444,
              "#bd3786"
             ],
             [
              0.5555555555555556,
              "#d8576b"
             ],
             [
              0.6666666666666666,
              "#ed7953"
             ],
             [
              0.7777777777777778,
              "#fb9f3a"
             ],
             [
              0.8888888888888888,
              "#fdca26"
             ],
             [
              1,
              "#f0f921"
             ]
            ],
            "type": "heatmap"
           }
          ],
          "heatmapgl": [
           {
            "colorbar": {
             "outlinewidth": 0,
             "ticks": ""
            },
            "colorscale": [
             [
              0,
              "#0d0887"
             ],
             [
              0.1111111111111111,
              "#46039f"
             ],
             [
              0.2222222222222222,
              "#7201a8"
             ],
             [
              0.3333333333333333,
              "#9c179e"
             ],
             [
              0.4444444444444444,
              "#bd3786"
             ],
             [
              0.5555555555555556,
              "#d8576b"
             ],
             [
              0.6666666666666666,
              "#ed7953"
             ],
             [
              0.7777777777777778,
              "#fb9f3a"
             ],
             [
              0.8888888888888888,
              "#fdca26"
             ],
             [
              1,
              "#f0f921"
             ]
            ],
            "type": "heatmapgl"
           }
          ],
          "histogram": [
           {
            "marker": {
             "pattern": {
              "fillmode": "overlay",
              "size": 10,
              "solidity": 0.2
             }
            },
            "type": "histogram"
           }
          ],
          "histogram2d": [
           {
            "colorbar": {
             "outlinewidth": 0,
             "ticks": ""
            },
            "colorscale": [
             [
              0,
              "#0d0887"
             ],
             [
              0.1111111111111111,
              "#46039f"
             ],
             [
              0.2222222222222222,
              "#7201a8"
             ],
             [
              0.3333333333333333,
              "#9c179e"
             ],
             [
              0.4444444444444444,
              "#bd3786"
             ],
             [
              0.5555555555555556,
              "#d8576b"
             ],
             [
              0.6666666666666666,
              "#ed7953"
             ],
             [
              0.7777777777777778,
              "#fb9f3a"
             ],
             [
              0.8888888888888888,
              "#fdca26"
             ],
             [
              1,
              "#f0f921"
             ]
            ],
            "type": "histogram2d"
           }
          ],
          "histogram2dcontour": [
           {
            "colorbar": {
             "outlinewidth": 0,
             "ticks": ""
            },
            "colorscale": [
             [
              0,
              "#0d0887"
             ],
             [
              0.1111111111111111,
              "#46039f"
             ],
             [
              0.2222222222222222,
              "#7201a8"
             ],
             [
              0.3333333333333333,
              "#9c179e"
             ],
             [
              0.4444444444444444,
              "#bd3786"
             ],
             [
              0.5555555555555556,
              "#d8576b"
             ],
             [
              0.6666666666666666,
              "#ed7953"
             ],
             [
              0.7777777777777778,
              "#fb9f3a"
             ],
             [
              0.8888888888888888,
              "#fdca26"
             ],
             [
              1,
              "#f0f921"
             ]
            ],
            "type": "histogram2dcontour"
           }
          ],
          "mesh3d": [
           {
            "colorbar": {
             "outlinewidth": 0,
             "ticks": ""
            },
            "type": "mesh3d"
           }
          ],
          "parcoords": [
           {
            "line": {
             "colorbar": {
              "outlinewidth": 0,
              "ticks": ""
             }
            },
            "type": "parcoords"
           }
          ],
          "pie": [
           {
            "automargin": true,
            "type": "pie"
           }
          ],
          "scatter": [
           {
            "fillpattern": {
             "fillmode": "overlay",
             "size": 10,
             "solidity": 0.2
            },
            "type": "scatter"
           }
          ],
          "scatter3d": [
           {
            "line": {
             "colorbar": {
              "outlinewidth": 0,
              "ticks": ""
             }
            },
            "marker": {
             "colorbar": {
              "outlinewidth": 0,
              "ticks": ""
             }
            },
            "type": "scatter3d"
           }
          ],
          "scattercarpet": [
           {
            "marker": {
             "colorbar": {
              "outlinewidth": 0,
              "ticks": ""
             }
            },
            "type": "scattercarpet"
           }
          ],
          "scattergeo": [
           {
            "marker": {
             "colorbar": {
              "outlinewidth": 0,
              "ticks": ""
             }
            },
            "type": "scattergeo"
           }
          ],
          "scattergl": [
           {
            "marker": {
             "colorbar": {
              "outlinewidth": 0,
              "ticks": ""
             }
            },
            "type": "scattergl"
           }
          ],
          "scattermapbox": [
           {
            "marker": {
             "colorbar": {
              "outlinewidth": 0,
              "ticks": ""
             }
            },
            "type": "scattermapbox"
           }
          ],
          "scatterpolar": [
           {
            "marker": {
             "colorbar": {
              "outlinewidth": 0,
              "ticks": ""
             }
            },
            "type": "scatterpolar"
           }
          ],
          "scatterpolargl": [
           {
            "marker": {
             "colorbar": {
              "outlinewidth": 0,
              "ticks": ""
             }
            },
            "type": "scatterpolargl"
           }
          ],
          "scatterternary": [
           {
            "marker": {
             "colorbar": {
              "outlinewidth": 0,
              "ticks": ""
             }
            },
            "type": "scatterternary"
           }
          ],
          "surface": [
           {
            "colorbar": {
             "outlinewidth": 0,
             "ticks": ""
            },
            "colorscale": [
             [
              0,
              "#0d0887"
             ],
             [
              0.1111111111111111,
              "#46039f"
             ],
             [
              0.2222222222222222,
              "#7201a8"
             ],
             [
              0.3333333333333333,
              "#9c179e"
             ],
             [
              0.4444444444444444,
              "#bd3786"
             ],
             [
              0.5555555555555556,
              "#d8576b"
             ],
             [
              0.6666666666666666,
              "#ed7953"
             ],
             [
              0.7777777777777778,
              "#fb9f3a"
             ],
             [
              0.8888888888888888,
              "#fdca26"
             ],
             [
              1,
              "#f0f921"
             ]
            ],
            "type": "surface"
           }
          ],
          "table": [
           {
            "cells": {
             "fill": {
              "color": "#EBF0F8"
             },
             "line": {
              "color": "white"
             }
            },
            "header": {
             "fill": {
              "color": "#C8D4E3"
             },
             "line": {
              "color": "white"
             }
            },
            "type": "table"
           }
          ]
         },
         "layout": {
          "annotationdefaults": {
           "arrowcolor": "#2a3f5f",
           "arrowhead": 0,
           "arrowwidth": 1
          },
          "autotypenumbers": "strict",
          "coloraxis": {
           "colorbar": {
            "outlinewidth": 0,
            "ticks": ""
           }
          },
          "colorscale": {
           "diverging": [
            [
             0,
             "#8e0152"
            ],
            [
             0.1,
             "#c51b7d"
            ],
            [
             0.2,
             "#de77ae"
            ],
            [
             0.3,
             "#f1b6da"
            ],
            [
             0.4,
             "#fde0ef"
            ],
            [
             0.5,
             "#f7f7f7"
            ],
            [
             0.6,
             "#e6f5d0"
            ],
            [
             0.7,
             "#b8e186"
            ],
            [
             0.8,
             "#7fbc41"
            ],
            [
             0.9,
             "#4d9221"
            ],
            [
             1,
             "#276419"
            ]
           ],
           "sequential": [
            [
             0,
             "#0d0887"
            ],
            [
             0.1111111111111111,
             "#46039f"
            ],
            [
             0.2222222222222222,
             "#7201a8"
            ],
            [
             0.3333333333333333,
             "#9c179e"
            ],
            [
             0.4444444444444444,
             "#bd3786"
            ],
            [
             0.5555555555555556,
             "#d8576b"
            ],
            [
             0.6666666666666666,
             "#ed7953"
            ],
            [
             0.7777777777777778,
             "#fb9f3a"
            ],
            [
             0.8888888888888888,
             "#fdca26"
            ],
            [
             1,
             "#f0f921"
            ]
           ],
           "sequentialminus": [
            [
             0,
             "#0d0887"
            ],
            [
             0.1111111111111111,
             "#46039f"
            ],
            [
             0.2222222222222222,
             "#7201a8"
            ],
            [
             0.3333333333333333,
             "#9c179e"
            ],
            [
             0.4444444444444444,
             "#bd3786"
            ],
            [
             0.5555555555555556,
             "#d8576b"
            ],
            [
             0.6666666666666666,
             "#ed7953"
            ],
            [
             0.7777777777777778,
             "#fb9f3a"
            ],
            [
             0.8888888888888888,
             "#fdca26"
            ],
            [
             1,
             "#f0f921"
            ]
           ]
          },
          "colorway": [
           "#636efa",
           "#EF553B",
           "#00cc96",
           "#ab63fa",
           "#FFA15A",
           "#19d3f3",
           "#FF6692",
           "#B6E880",
           "#FF97FF",
           "#FECB52"
          ],
          "font": {
           "color": "#2a3f5f"
          },
          "geo": {
           "bgcolor": "white",
           "lakecolor": "white",
           "landcolor": "#E5ECF6",
           "showlakes": true,
           "showland": true,
           "subunitcolor": "white"
          },
          "hoverlabel": {
           "align": "left"
          },
          "hovermode": "closest",
          "mapbox": {
           "style": "light"
          },
          "paper_bgcolor": "white",
          "plot_bgcolor": "#E5ECF6",
          "polar": {
           "angularaxis": {
            "gridcolor": "white",
            "linecolor": "white",
            "ticks": ""
           },
           "bgcolor": "#E5ECF6",
           "radialaxis": {
            "gridcolor": "white",
            "linecolor": "white",
            "ticks": ""
           }
          },
          "scene": {
           "xaxis": {
            "backgroundcolor": "#E5ECF6",
            "gridcolor": "white",
            "gridwidth": 2,
            "linecolor": "white",
            "showbackground": true,
            "ticks": "",
            "zerolinecolor": "white"
           },
           "yaxis": {
            "backgroundcolor": "#E5ECF6",
            "gridcolor": "white",
            "gridwidth": 2,
            "linecolor": "white",
            "showbackground": true,
            "ticks": "",
            "zerolinecolor": "white"
           },
           "zaxis": {
            "backgroundcolor": "#E5ECF6",
            "gridcolor": "white",
            "gridwidth": 2,
            "linecolor": "white",
            "showbackground": true,
            "ticks": "",
            "zerolinecolor": "white"
           }
          },
          "shapedefaults": {
           "line": {
            "color": "#2a3f5f"
           }
          },
          "ternary": {
           "aaxis": {
            "gridcolor": "white",
            "linecolor": "white",
            "ticks": ""
           },
           "baxis": {
            "gridcolor": "white",
            "linecolor": "white",
            "ticks": ""
           },
           "bgcolor": "#E5ECF6",
           "caxis": {
            "gridcolor": "white",
            "linecolor": "white",
            "ticks": ""
           }
          },
          "title": {
           "x": 0.05
          },
          "xaxis": {
           "automargin": true,
           "gridcolor": "white",
           "linecolor": "white",
           "ticks": "",
           "title": {
            "standoff": 15
           },
           "zerolinecolor": "white",
           "zerolinewidth": 2
          },
          "yaxis": {
           "automargin": true,
           "gridcolor": "white",
           "linecolor": "white",
           "ticks": "",
           "title": {
            "standoff": 15
           },
           "zerolinecolor": "white",
           "zerolinewidth": 2
          }
         }
        },
        "width": 960,
        "xaxis": {
         "anchor": "y",
         "domain": [
          0,
          1
         ],
         "linecolor": "black",
         "linewidth": 2.4,
         "mirror": "allticks",
         "showgrid": false,
         "showline": true,
         "showticklabels": true,
         "tickcolor": "black",
         "tickfont": {
          "color": "black",
          "family": "arial",
          "size": 20
         },
         "tickprefix": "<b>",
         "ticks": "outside",
         "ticksuffix": "</b><br>",
         "tickwidth": 2.4,
         "title": {
          "font": {
           "color": "black",
           "family": "arial",
           "size": 20
          },
          "text": "<b>log10 Time (s)<b>"
         }
        },
        "yaxis": {
         "anchor": "x",
         "autorange": "reversed",
         "domain": [
          0,
          1
         ],
         "linecolor": "black",
         "linewidth": 2.4,
         "mirror": "allticks",
         "showgrid": false,
         "showline": true,
         "showticklabels": true,
         "tickcolor": "black",
         "tickfont": {
          "color": "black",
          "family": "arial",
          "size": 20
         },
         "tickprefix": "<b>",
         "ticks": "outside",
         "ticksuffix": "</b><br>",
         "tickwidth": 2.4,
         "title": {
          "font": {
           "color": "black",
           "family": "arial",
           "size": 20
          },
          "text": "<b>Magnitude<b>"
         }
        }
       }
      }
     },
     "metadata": {},
     "output_type": "display_data"
    }
   ],
   "source": [
    "# rescaling GRB\n",
    "\n",
    "figunresc, figresc, resc_mag_df = lc.rescaleGRB()\n",
    "\n",
    "figunresc.show()\n",
    "figresc.show()"
   ]
  },
  {
   "cell_type": "code",
   "execution_count": null,
   "metadata": {},
   "outputs": [],
   "source": []
  }
 ],
 "metadata": {
  "kernelspec": {
   "display_name": "Python 3",
   "language": "python",
   "name": "python3"
  },
  "language_info": {
   "codemirror_mode": {
    "name": "ipython",
    "version": 3
   },
   "file_extension": ".py",
   "mimetype": "text/x-python",
   "name": "python",
   "nbconvert_exporter": "python",
   "pygments_lexer": "ipython3",
   "version": "3.8.10"
  },
  "orig_nbformat": 4
 },
 "nbformat": 4,
 "nbformat_minor": 2
}
